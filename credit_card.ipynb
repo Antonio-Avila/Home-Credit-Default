{
 "cells": [
  {
   "cell_type": "markdown",
   "source": "# Credit Card Balance",
   "metadata": {
    "tags": [],
    "cell_id": "00000-4f8aea42-171c-4244-88fa-fbb0e518dba7",
    "deepnote_cell_type": "markdown"
   }
  },
  {
   "cell_type": "code",
   "metadata": {
    "tags": [],
    "cell_id": "00000-105aeda5-94f8-4c2e-a5a8-4536ce6a0f86",
    "deepnote_to_be_reexecuted": false,
    "source_hash": "e838c573",
    "execution_start": 1632520204378,
    "execution_millis": 1536,
    "deepnote_cell_type": "code"
   },
   "source": "import pandas as pd\nimport numpy as np\nimport matplotlib.pyplot as plt\n%matplotlib inline\n\nplt.style.use(\"ggplot\")\nimport pylab\npylab.rcParams['figure.figsize'] = (15, 10)\n\nimport seaborn as sns\nimport time\nfrom scipy import stats",
   "execution_count": null,
   "outputs": []
  },
  {
   "cell_type": "code",
   "metadata": {
    "tags": [],
    "cell_id": "00002-11d147f8-9cb3-4bec-831c-3f3bc127a53e",
    "deepnote_to_be_reexecuted": false,
    "source_hash": "a000c1d1",
    "execution_start": 1632520205932,
    "execution_millis": 8046,
    "deepnote_cell_type": "code"
   },
   "source": "credit_bal = pd.read_csv(\"credit_card_balance.csv\")",
   "execution_count": null,
   "outputs": []
  },
  {
   "cell_type": "code",
   "metadata": {
    "tags": [],
    "cell_id": "00003-0c7281b5-b7bd-4bad-90eb-576320503336",
    "deepnote_to_be_reexecuted": false,
    "source_hash": "7ec63974",
    "execution_start": 1632520214067,
    "execution_millis": 69,
    "deepnote_cell_type": "code"
   },
   "source": "credit_bal.head()",
   "execution_count": null,
   "outputs": [
    {
     "output_type": "execute_result",
     "execution_count": 3,
     "data": {
      "application/vnd.deepnote.dataframe.v2+json": {
       "row_count": 5,
       "column_count": 23,
       "columns": [
        {
         "name": "SK_ID_PREV",
         "dtype": "int64",
         "stats": {
          "unique_count": 5,
          "nan_count": 0,
          "min": "1389973",
          "max": "2582071",
          "histogram": [
           {
            "bin_start": 1389973,
            "bin_end": 1509182.8,
            "count": 1
           },
           {
            "bin_start": 1509182.8,
            "bin_end": 1628392.6,
            "count": 0
           },
           {
            "bin_start": 1628392.6,
            "bin_end": 1747602.4,
            "count": 1
           },
           {
            "bin_start": 1747602.4,
            "bin_end": 1866812.2,
            "count": 0
           },
           {
            "bin_start": 1866812.2,
            "bin_end": 1986022,
            "count": 1
           },
           {
            "bin_start": 1986022,
            "bin_end": 2105231.8,
            "count": 0
           },
           {
            "bin_start": 2105231.8,
            "bin_end": 2224441.6,
            "count": 0
           },
           {
            "bin_start": 2224441.6,
            "bin_end": 2343651.4,
            "count": 0
           },
           {
            "bin_start": 2343651.4,
            "bin_end": 2462861.2,
            "count": 0
           },
           {
            "bin_start": 2462861.2,
            "bin_end": 2582071,
            "count": 2
           }
          ]
         }
        },
        {
         "name": "SK_ID_CURR",
         "dtype": "int64",
         "stats": {
          "unique_count": 5,
          "nan_count": 0,
          "min": "126868",
          "max": "378907",
          "histogram": [
           {
            "bin_start": 126868,
            "bin_end": 152071.9,
            "count": 1
           },
           {
            "bin_start": 152071.9,
            "bin_end": 177275.8,
            "count": 0
           },
           {
            "bin_start": 177275.8,
            "bin_end": 202479.7,
            "count": 0
           },
           {
            "bin_start": 202479.7,
            "bin_end": 227683.6,
            "count": 0
           },
           {
            "bin_start": 227683.6,
            "bin_end": 252887.5,
            "count": 0
           },
           {
            "bin_start": 252887.5,
            "bin_end": 278091.4,
            "count": 0
           },
           {
            "bin_start": 278091.4,
            "bin_end": 303295.30000000005,
            "count": 0
           },
           {
            "bin_start": 303295.30000000005,
            "bin_end": 328499.2,
            "count": 0
           },
           {
            "bin_start": 328499.2,
            "bin_end": 353703.1,
            "count": 1
           },
           {
            "bin_start": 353703.1,
            "bin_end": 378907,
            "count": 3
           }
          ]
         }
        },
        {
         "name": "MONTHS_BALANCE",
         "dtype": "int64",
         "stats": {
          "unique_count": 4,
          "nan_count": 0,
          "min": "-7",
          "max": "-1",
          "histogram": [
           {
            "bin_start": -7,
            "bin_end": -6.4,
            "count": 1
           },
           {
            "bin_start": -6.4,
            "bin_end": -5.8,
            "count": 1
           },
           {
            "bin_start": -5.8,
            "bin_end": -5.2,
            "count": 0
           },
           {
            "bin_start": -5.2,
            "bin_end": -4.6,
            "count": 0
           },
           {
            "bin_start": -4.6,
            "bin_end": -4,
            "count": 0
           },
           {
            "bin_start": -4,
            "bin_end": -3.4000000000000004,
            "count": 1
           },
           {
            "bin_start": -3.4000000000000004,
            "bin_end": -2.8,
            "count": 0
           },
           {
            "bin_start": -2.8,
            "bin_end": -2.2,
            "count": 0
           },
           {
            "bin_start": -2.2,
            "bin_end": -1.6000000000000005,
            "count": 0
           },
           {
            "bin_start": -1.6000000000000005,
            "bin_end": -1,
            "count": 2
           }
          ]
         }
        },
        {
         "name": "AMT_BALANCE",
         "dtype": "float64",
         "stats": {
          "unique_count": 5,
          "nan_count": 0,
          "min": "56.97",
          "max": "453919.455",
          "histogram": [
           {
            "bin_start": 56.97,
            "bin_end": 45443.2185,
            "count": 2
           },
           {
            "bin_start": 45443.2185,
            "bin_end": 90829.467,
            "count": 1
           },
           {
            "bin_start": 90829.467,
            "bin_end": 136215.71550000002,
            "count": 0
           },
           {
            "bin_start": 136215.71550000002,
            "bin_end": 181601.964,
            "count": 0
           },
           {
            "bin_start": 181601.964,
            "bin_end": 226988.2125,
            "count": 0
           },
           {
            "bin_start": 226988.2125,
            "bin_end": 272374.461,
            "count": 1
           },
           {
            "bin_start": 272374.461,
            "bin_end": 317760.7095,
            "count": 0
           },
           {
            "bin_start": 317760.7095,
            "bin_end": 363146.958,
            "count": 0
           },
           {
            "bin_start": 363146.958,
            "bin_end": 408533.2065,
            "count": 0
           },
           {
            "bin_start": 408533.2065,
            "bin_end": 453919.455,
            "count": 1
           }
          ]
         }
        },
        {
         "name": "AMT_CREDIT_LIMIT_ACTUAL",
         "dtype": "int64",
         "stats": {
          "unique_count": 4,
          "nan_count": 0,
          "min": "45000",
          "max": "450000",
          "histogram": [
           {
            "bin_start": 45000,
            "bin_end": 85500,
            "count": 1
           },
           {
            "bin_start": 85500,
            "bin_end": 126000,
            "count": 0
           },
           {
            "bin_start": 126000,
            "bin_end": 166500,
            "count": 1
           },
           {
            "bin_start": 166500,
            "bin_end": 207000,
            "count": 0
           },
           {
            "bin_start": 207000,
            "bin_end": 247500,
            "count": 1
           },
           {
            "bin_start": 247500,
            "bin_end": 288000,
            "count": 0
           },
           {
            "bin_start": 288000,
            "bin_end": 328500,
            "count": 0
           },
           {
            "bin_start": 328500,
            "bin_end": 369000,
            "count": 0
           },
           {
            "bin_start": 369000,
            "bin_end": 409500,
            "count": 0
           },
           {
            "bin_start": 409500,
            "bin_end": 450000,
            "count": 2
           }
          ]
         }
        },
        {
         "name": "AMT_DRAWINGS_ATM_CURRENT",
         "dtype": "float64",
         "stats": {
          "unique_count": 2,
          "nan_count": 0,
          "min": "0.0",
          "max": "2250.0",
          "histogram": [
           {
            "bin_start": 0,
            "bin_end": 225,
            "count": 3
           },
           {
            "bin_start": 225,
            "bin_end": 450,
            "count": 0
           },
           {
            "bin_start": 450,
            "bin_end": 675,
            "count": 0
           },
           {
            "bin_start": 675,
            "bin_end": 900,
            "count": 0
           },
           {
            "bin_start": 900,
            "bin_end": 1125,
            "count": 0
           },
           {
            "bin_start": 1125,
            "bin_end": 1350,
            "count": 0
           },
           {
            "bin_start": 1350,
            "bin_end": 1575,
            "count": 0
           },
           {
            "bin_start": 1575,
            "bin_end": 1800,
            "count": 0
           },
           {
            "bin_start": 1800,
            "bin_end": 2025,
            "count": 0
           },
           {
            "bin_start": 2025,
            "bin_end": 2250,
            "count": 2
           }
          ]
         }
        },
        {
         "name": "AMT_DRAWINGS_CURRENT",
         "dtype": "float64",
         "stats": {
          "unique_count": 4,
          "nan_count": 0,
          "min": "0.0",
          "max": "11547.0",
          "histogram": [
           {
            "bin_start": 0,
            "bin_end": 1154.7,
            "count": 2
           },
           {
            "bin_start": 1154.7,
            "bin_end": 2309.4,
            "count": 2
           },
           {
            "bin_start": 2309.4,
            "bin_end": 3464.1000000000004,
            "count": 0
           },
           {
            "bin_start": 3464.1000000000004,
            "bin_end": 4618.8,
            "count": 0
           },
           {
            "bin_start": 4618.8,
            "bin_end": 5773.5,
            "count": 0
           },
           {
            "bin_start": 5773.5,
            "bin_end": 6928.200000000001,
            "count": 0
           },
           {
            "bin_start": 6928.200000000001,
            "bin_end": 8082.900000000001,
            "count": 0
           },
           {
            "bin_start": 8082.900000000001,
            "bin_end": 9237.6,
            "count": 0
           },
           {
            "bin_start": 9237.6,
            "bin_end": 10392.300000000001,
            "count": 0
           },
           {
            "bin_start": 10392.300000000001,
            "bin_end": 11547,
            "count": 1
           }
          ]
         }
        },
        {
         "name": "AMT_DRAWINGS_OTHER_CURRENT",
         "dtype": "float64",
         "stats": {
          "unique_count": 1,
          "nan_count": 0,
          "min": "0.0",
          "max": "0.0",
          "histogram": [
           {
            "bin_start": -0.5,
            "bin_end": -0.4,
            "count": 0
           },
           {
            "bin_start": -0.4,
            "bin_end": -0.3,
            "count": 0
           },
           {
            "bin_start": -0.3,
            "bin_end": -0.19999999999999996,
            "count": 0
           },
           {
            "bin_start": -0.19999999999999996,
            "bin_end": -0.09999999999999998,
            "count": 0
           },
           {
            "bin_start": -0.09999999999999998,
            "bin_end": 0,
            "count": 0
           },
           {
            "bin_start": 0,
            "bin_end": 0.10000000000000009,
            "count": 5
           },
           {
            "bin_start": 0.10000000000000009,
            "bin_end": 0.20000000000000007,
            "count": 0
           },
           {
            "bin_start": 0.20000000000000007,
            "bin_end": 0.30000000000000004,
            "count": 0
           },
           {
            "bin_start": 0.30000000000000004,
            "bin_end": 0.4,
            "count": 0
           },
           {
            "bin_start": 0.4,
            "bin_end": 0.5,
            "count": 0
           }
          ]
         }
        },
        {
         "name": "AMT_DRAWINGS_POS_CURRENT",
         "dtype": "float64",
         "stats": {
          "unique_count": 3,
          "nan_count": 0,
          "min": "0.0",
          "max": "11547.0",
          "histogram": [
           {
            "bin_start": 0,
            "bin_end": 1154.7,
            "count": 4
           },
           {
            "bin_start": 1154.7,
            "bin_end": 2309.4,
            "count": 0
           },
           {
            "bin_start": 2309.4,
            "bin_end": 3464.1000000000004,
            "count": 0
           },
           {
            "bin_start": 3464.1000000000004,
            "bin_end": 4618.8,
            "count": 0
           },
           {
            "bin_start": 4618.8,
            "bin_end": 5773.5,
            "count": 0
           },
           {
            "bin_start": 5773.5,
            "bin_end": 6928.200000000001,
            "count": 0
           },
           {
            "bin_start": 6928.200000000001,
            "bin_end": 8082.900000000001,
            "count": 0
           },
           {
            "bin_start": 8082.900000000001,
            "bin_end": 9237.6,
            "count": 0
           },
           {
            "bin_start": 9237.6,
            "bin_end": 10392.300000000001,
            "count": 0
           },
           {
            "bin_start": 10392.300000000001,
            "bin_end": 11547,
            "count": 1
           }
          ]
         }
        },
        {
         "name": "AMT_INST_MIN_REGULARITY",
         "dtype": "float64",
         "stats": {
          "unique_count": 4,
          "nan_count": 0,
          "min": "1700.325",
          "max": "22924.89",
          "histogram": [
           {
            "bin_start": 1700.325,
            "bin_end": 3822.7815,
            "count": 3
           },
           {
            "bin_start": 3822.7815,
            "bin_end": 5945.237999999999,
            "count": 0
           },
           {
            "bin_start": 5945.237999999999,
            "bin_end": 8067.694499999999,
            "count": 0
           },
           {
            "bin_start": 8067.694499999999,
            "bin_end": 10190.151,
            "count": 0
           },
           {
            "bin_start": 10190.151,
            "bin_end": 12312.6075,
            "count": 1
           },
           {
            "bin_start": 12312.6075,
            "bin_end": 14435.063999999998,
            "count": 0
           },
           {
            "bin_start": 14435.063999999998,
            "bin_end": 16557.5205,
            "count": 0
           },
           {
            "bin_start": 16557.5205,
            "bin_end": 18679.977,
            "count": 0
           },
           {
            "bin_start": 18679.977,
            "bin_end": 20802.4335,
            "count": 0
           },
           {
            "bin_start": 20802.4335,
            "bin_end": 22924.89,
            "count": 1
           }
          ]
         }
        },
        {
         "name": "AMT_PAYMENT_CURRENT",
         "dtype": "float64",
         "stats": {
          "unique_count": 4,
          "nan_count": 0,
          "min": "1800.0",
          "max": "27000.0",
          "histogram": [
           {
            "bin_start": 1800,
            "bin_end": 4320,
            "count": 3
           },
           {
            "bin_start": 4320,
            "bin_end": 6840,
            "count": 0
           },
           {
            "bin_start": 6840,
            "bin_end": 9360,
            "count": 0
           },
           {
            "bin_start": 9360,
            "bin_end": 11880,
            "count": 0
           },
           {
            "bin_start": 11880,
            "bin_end": 14400,
            "count": 1
           },
           {
            "bin_start": 14400,
            "bin_end": 16920,
            "count": 0
           },
           {
            "bin_start": 16920,
            "bin_end": 19440,
            "count": 0
           },
           {
            "bin_start": 19440,
            "bin_end": 21960,
            "count": 0
           },
           {
            "bin_start": 21960,
            "bin_end": 24480,
            "count": 0
           },
           {
            "bin_start": 24480,
            "bin_end": 27000,
            "count": 1
           }
          ]
         }
        },
        {
         "name": "AMT_PAYMENT_TOTAL_CURRENT",
         "dtype": "float64",
         "stats": {
          "unique_count": 4,
          "nan_count": 0,
          "min": "1800.0",
          "max": "27000.0",
          "histogram": [
           {
            "bin_start": 1800,
            "bin_end": 4320,
            "count": 3
           },
           {
            "bin_start": 4320,
            "bin_end": 6840,
            "count": 0
           },
           {
            "bin_start": 6840,
            "bin_end": 9360,
            "count": 0
           },
           {
            "bin_start": 9360,
            "bin_end": 11880,
            "count": 0
           },
           {
            "bin_start": 11880,
            "bin_end": 14400,
            "count": 1
           },
           {
            "bin_start": 14400,
            "bin_end": 16920,
            "count": 0
           },
           {
            "bin_start": 16920,
            "bin_end": 19440,
            "count": 0
           },
           {
            "bin_start": 19440,
            "bin_end": 21960,
            "count": 0
           },
           {
            "bin_start": 21960,
            "bin_end": 24480,
            "count": 0
           },
           {
            "bin_start": 24480,
            "bin_end": 27000,
            "count": 1
           }
          ]
         }
        },
        {
         "name": "AMT_RECEIVABLE_PRINCIPAL",
         "dtype": "float64",
         "stats": {
          "unique_count": 5,
          "nan_count": 0,
          "min": "0.0",
          "max": "443044.395",
          "histogram": [
           {
            "bin_start": 0,
            "bin_end": 44304.4395,
            "count": 2
           },
           {
            "bin_start": 44304.4395,
            "bin_end": 88608.879,
            "count": 1
           },
           {
            "bin_start": 88608.879,
            "bin_end": 132913.3185,
            "count": 0
           },
           {
            "bin_start": 132913.3185,
            "bin_end": 177217.758,
            "count": 0
           },
           {
            "bin_start": 177217.758,
            "bin_end": 221522.1975,
            "count": 0
           },
           {
            "bin_start": 221522.1975,
            "bin_end": 265826.637,
            "count": 1
           },
           {
            "bin_start": 265826.637,
            "bin_end": 310131.0765,
            "count": 0
           },
           {
            "bin_start": 310131.0765,
            "bin_end": 354435.516,
            "count": 0
           },
           {
            "bin_start": 354435.516,
            "bin_end": 398739.9555,
            "count": 0
           },
           {
            "bin_start": 398739.9555,
            "bin_end": 443044.395,
            "count": 1
           }
          ]
         }
        },
        {
         "name": "AMT_RECIVABLE",
         "dtype": "float64",
         "stats": {
          "unique_count": 5,
          "nan_count": 0,
          "min": "0.0",
          "max": "453919.455",
          "histogram": [
           {
            "bin_start": 0,
            "bin_end": 45391.9455,
            "count": 2
           },
           {
            "bin_start": 45391.9455,
            "bin_end": 90783.891,
            "count": 1
           },
           {
            "bin_start": 90783.891,
            "bin_end": 136175.8365,
            "count": 0
           },
           {
            "bin_start": 136175.8365,
            "bin_end": 181567.782,
            "count": 0
           },
           {
            "bin_start": 181567.782,
            "bin_end": 226959.7275,
            "count": 0
           },
           {
            "bin_start": 226959.7275,
            "bin_end": 272351.673,
            "count": 1
           },
           {
            "bin_start": 272351.673,
            "bin_end": 317743.6185,
            "count": 0
           },
           {
            "bin_start": 317743.6185,
            "bin_end": 363135.564,
            "count": 0
           },
           {
            "bin_start": 363135.564,
            "bin_end": 408527.50950000004,
            "count": 0
           },
           {
            "bin_start": 408527.50950000004,
            "bin_end": 453919.455,
            "count": 1
           }
          ]
         }
        },
        {
         "name": "AMT_TOTAL_RECEIVABLE",
         "dtype": "float64",
         "stats": {
          "unique_count": 5,
          "nan_count": 0,
          "min": "0.0",
          "max": "453919.455",
          "histogram": [
           {
            "bin_start": 0,
            "bin_end": 45391.9455,
            "count": 2
           },
           {
            "bin_start": 45391.9455,
            "bin_end": 90783.891,
            "count": 1
           },
           {
            "bin_start": 90783.891,
            "bin_end": 136175.8365,
            "count": 0
           },
           {
            "bin_start": 136175.8365,
            "bin_end": 181567.782,
            "count": 0
           },
           {
            "bin_start": 181567.782,
            "bin_end": 226959.7275,
            "count": 0
           },
           {
            "bin_start": 226959.7275,
            "bin_end": 272351.673,
            "count": 1
           },
           {
            "bin_start": 272351.673,
            "bin_end": 317743.6185,
            "count": 0
           },
           {
            "bin_start": 317743.6185,
            "bin_end": 363135.564,
            "count": 0
           },
           {
            "bin_start": 363135.564,
            "bin_end": 408527.50950000004,
            "count": 0
           },
           {
            "bin_start": 408527.50950000004,
            "bin_end": 453919.455,
            "count": 1
           }
          ]
         }
        },
        {
         "name": "CNT_DRAWINGS_ATM_CURRENT",
         "dtype": "float64",
         "stats": {
          "unique_count": 2,
          "nan_count": 0,
          "min": "0.0",
          "max": "1.0",
          "histogram": [
           {
            "bin_start": 0,
            "bin_end": 0.1,
            "count": 3
           },
           {
            "bin_start": 0.1,
            "bin_end": 0.2,
            "count": 0
           },
           {
            "bin_start": 0.2,
            "bin_end": 0.30000000000000004,
            "count": 0
           },
           {
            "bin_start": 0.30000000000000004,
            "bin_end": 0.4,
            "count": 0
           },
           {
            "bin_start": 0.4,
            "bin_end": 0.5,
            "count": 0
           },
           {
            "bin_start": 0.5,
            "bin_end": 0.6000000000000001,
            "count": 0
           },
           {
            "bin_start": 0.6000000000000001,
            "bin_end": 0.7000000000000001,
            "count": 0
           },
           {
            "bin_start": 0.7000000000000001,
            "bin_end": 0.8,
            "count": 0
           },
           {
            "bin_start": 0.8,
            "bin_end": 0.9,
            "count": 0
           },
           {
            "bin_start": 0.9,
            "bin_end": 1,
            "count": 2
           }
          ]
         }
        },
        {
         "name": "CNT_DRAWINGS_CURRENT",
         "dtype": "int64",
         "stats": {
          "unique_count": 2,
          "nan_count": 0,
          "min": "0",
          "max": "1",
          "histogram": [
           {
            "bin_start": 0,
            "bin_end": 0.1,
            "count": 1
           },
           {
            "bin_start": 0.1,
            "bin_end": 0.2,
            "count": 0
           },
           {
            "bin_start": 0.2,
            "bin_end": 0.30000000000000004,
            "count": 0
           },
           {
            "bin_start": 0.30000000000000004,
            "bin_end": 0.4,
            "count": 0
           },
           {
            "bin_start": 0.4,
            "bin_end": 0.5,
            "count": 0
           },
           {
            "bin_start": 0.5,
            "bin_end": 0.6000000000000001,
            "count": 0
           },
           {
            "bin_start": 0.6000000000000001,
            "bin_end": 0.7000000000000001,
            "count": 0
           },
           {
            "bin_start": 0.7000000000000001,
            "bin_end": 0.8,
            "count": 0
           },
           {
            "bin_start": 0.8,
            "bin_end": 0.9,
            "count": 0
           },
           {
            "bin_start": 0.9,
            "bin_end": 1,
            "count": 4
           }
          ]
         }
        },
        {
         "name": "CNT_DRAWINGS_OTHER_CURRENT",
         "dtype": "float64",
         "stats": {
          "unique_count": 1,
          "nan_count": 0,
          "min": "0.0",
          "max": "0.0",
          "histogram": [
           {
            "bin_start": -0.5,
            "bin_end": -0.4,
            "count": 0
           },
           {
            "bin_start": -0.4,
            "bin_end": -0.3,
            "count": 0
           },
           {
            "bin_start": -0.3,
            "bin_end": -0.19999999999999996,
            "count": 0
           },
           {
            "bin_start": -0.19999999999999996,
            "bin_end": -0.09999999999999998,
            "count": 0
           },
           {
            "bin_start": -0.09999999999999998,
            "bin_end": 0,
            "count": 0
           },
           {
            "bin_start": 0,
            "bin_end": 0.10000000000000009,
            "count": 5
           },
           {
            "bin_start": 0.10000000000000009,
            "bin_end": 0.20000000000000007,
            "count": 0
           },
           {
            "bin_start": 0.20000000000000007,
            "bin_end": 0.30000000000000004,
            "count": 0
           },
           {
            "bin_start": 0.30000000000000004,
            "bin_end": 0.4,
            "count": 0
           },
           {
            "bin_start": 0.4,
            "bin_end": 0.5,
            "count": 0
           }
          ]
         }
        },
        {
         "name": "CNT_DRAWINGS_POS_CURRENT",
         "dtype": "float64",
         "stats": {
          "unique_count": 2,
          "nan_count": 0,
          "min": "0.0",
          "max": "1.0",
          "histogram": [
           {
            "bin_start": 0,
            "bin_end": 0.1,
            "count": 3
           },
           {
            "bin_start": 0.1,
            "bin_end": 0.2,
            "count": 0
           },
           {
            "bin_start": 0.2,
            "bin_end": 0.30000000000000004,
            "count": 0
           },
           {
            "bin_start": 0.30000000000000004,
            "bin_end": 0.4,
            "count": 0
           },
           {
            "bin_start": 0.4,
            "bin_end": 0.5,
            "count": 0
           },
           {
            "bin_start": 0.5,
            "bin_end": 0.6000000000000001,
            "count": 0
           },
           {
            "bin_start": 0.6000000000000001,
            "bin_end": 0.7000000000000001,
            "count": 0
           },
           {
            "bin_start": 0.7000000000000001,
            "bin_end": 0.8,
            "count": 0
           },
           {
            "bin_start": 0.8,
            "bin_end": 0.9,
            "count": 0
           },
           {
            "bin_start": 0.9,
            "bin_end": 1,
            "count": 2
           }
          ]
         }
        },
        {
         "name": "CNT_INSTALMENT_MATURE_CUM",
         "dtype": "float64",
         "stats": {
          "unique_count": 5,
          "nan_count": 0,
          "min": "10.0",
          "max": "101.0",
          "histogram": [
           {
            "bin_start": 10,
            "bin_end": 19.1,
            "count": 1
           },
           {
            "bin_start": 19.1,
            "bin_end": 28.2,
            "count": 0
           },
           {
            "bin_start": 28.2,
            "bin_end": 37.3,
            "count": 2
           },
           {
            "bin_start": 37.3,
            "bin_end": 46.4,
            "count": 0
           },
           {
            "bin_start": 46.4,
            "bin_end": 55.5,
            "count": 0
           },
           {
            "bin_start": 55.5,
            "bin_end": 64.6,
            "count": 0
           },
           {
            "bin_start": 64.6,
            "bin_end": 73.69999999999999,
            "count": 1
           },
           {
            "bin_start": 73.69999999999999,
            "bin_end": 82.8,
            "count": 0
           },
           {
            "bin_start": 82.8,
            "bin_end": 91.89999999999999,
            "count": 0
           },
           {
            "bin_start": 91.89999999999999,
            "bin_end": 101,
            "count": 1
           }
          ]
         }
        },
        {
         "name": "NAME_CONTRACT_STATUS",
         "dtype": "object",
         "stats": {
          "unique_count": 1,
          "nan_count": 0,
          "categories": [
           {
            "name": "Active",
            "count": 5
           }
          ]
         }
        },
        {
         "name": "SK_DPD",
         "dtype": "int64",
         "stats": {
          "unique_count": 1,
          "nan_count": 0,
          "min": "0",
          "max": "0",
          "histogram": [
           {
            "bin_start": -0.5,
            "bin_end": -0.4,
            "count": 0
           },
           {
            "bin_start": -0.4,
            "bin_end": -0.3,
            "count": 0
           },
           {
            "bin_start": -0.3,
            "bin_end": -0.19999999999999996,
            "count": 0
           },
           {
            "bin_start": -0.19999999999999996,
            "bin_end": -0.09999999999999998,
            "count": 0
           },
           {
            "bin_start": -0.09999999999999998,
            "bin_end": 0,
            "count": 0
           },
           {
            "bin_start": 0,
            "bin_end": 0.10000000000000009,
            "count": 5
           },
           {
            "bin_start": 0.10000000000000009,
            "bin_end": 0.20000000000000007,
            "count": 0
           },
           {
            "bin_start": 0.20000000000000007,
            "bin_end": 0.30000000000000004,
            "count": 0
           },
           {
            "bin_start": 0.30000000000000004,
            "bin_end": 0.4,
            "count": 0
           },
           {
            "bin_start": 0.4,
            "bin_end": 0.5,
            "count": 0
           }
          ]
         }
        },
        {
         "name": "SK_DPD_DEF",
         "dtype": "int64",
         "stats": {
          "unique_count": 1,
          "nan_count": 0,
          "min": "0",
          "max": "0",
          "histogram": [
           {
            "bin_start": -0.5,
            "bin_end": -0.4,
            "count": 0
           },
           {
            "bin_start": -0.4,
            "bin_end": -0.3,
            "count": 0
           },
           {
            "bin_start": -0.3,
            "bin_end": -0.19999999999999996,
            "count": 0
           },
           {
            "bin_start": -0.19999999999999996,
            "bin_end": -0.09999999999999998,
            "count": 0
           },
           {
            "bin_start": -0.09999999999999998,
            "bin_end": 0,
            "count": 0
           },
           {
            "bin_start": 0,
            "bin_end": 0.10000000000000009,
            "count": 5
           },
           {
            "bin_start": 0.10000000000000009,
            "bin_end": 0.20000000000000007,
            "count": 0
           },
           {
            "bin_start": 0.20000000000000007,
            "bin_end": 0.30000000000000004,
            "count": 0
           },
           {
            "bin_start": 0.30000000000000004,
            "bin_end": 0.4,
            "count": 0
           },
           {
            "bin_start": 0.4,
            "bin_end": 0.5,
            "count": 0
           }
          ]
         }
        },
        {
         "name": "_deepnote_index_column",
         "dtype": "int64"
        }
       ],
       "rows_top": [
        {
         "SK_ID_PREV": 2562384,
         "SK_ID_CURR": 378907,
         "MONTHS_BALANCE": -6,
         "AMT_BALANCE": 56.97,
         "AMT_CREDIT_LIMIT_ACTUAL": 135000,
         "AMT_DRAWINGS_ATM_CURRENT": 0,
         "AMT_DRAWINGS_CURRENT": 877.5,
         "AMT_DRAWINGS_OTHER_CURRENT": 0,
         "AMT_DRAWINGS_POS_CURRENT": 877.5,
         "AMT_INST_MIN_REGULARITY": 1700.325,
         "AMT_PAYMENT_CURRENT": 1800,
         "AMT_PAYMENT_TOTAL_CURRENT": 1800,
         "AMT_RECEIVABLE_PRINCIPAL": 0,
         "AMT_RECIVABLE": 0,
         "AMT_TOTAL_RECEIVABLE": 0,
         "CNT_DRAWINGS_ATM_CURRENT": 0,
         "CNT_DRAWINGS_CURRENT": 1,
         "CNT_DRAWINGS_OTHER_CURRENT": 0,
         "CNT_DRAWINGS_POS_CURRENT": 1,
         "CNT_INSTALMENT_MATURE_CUM": 35,
         "NAME_CONTRACT_STATUS": "Active",
         "SK_DPD": 0,
         "SK_DPD_DEF": 0,
         "_deepnote_index_column": 0
        },
        {
         "SK_ID_PREV": 2582071,
         "SK_ID_CURR": 363914,
         "MONTHS_BALANCE": -1,
         "AMT_BALANCE": 63975.555,
         "AMT_CREDIT_LIMIT_ACTUAL": 45000,
         "AMT_DRAWINGS_ATM_CURRENT": 2250,
         "AMT_DRAWINGS_CURRENT": 2250,
         "AMT_DRAWINGS_OTHER_CURRENT": 0,
         "AMT_DRAWINGS_POS_CURRENT": 0,
         "AMT_INST_MIN_REGULARITY": 2250,
         "AMT_PAYMENT_CURRENT": 2250,
         "AMT_PAYMENT_TOTAL_CURRENT": 2250,
         "AMT_RECEIVABLE_PRINCIPAL": 60175.08,
         "AMT_RECIVABLE": 64875.555,
         "AMT_TOTAL_RECEIVABLE": 64875.555,
         "CNT_DRAWINGS_ATM_CURRENT": 1,
         "CNT_DRAWINGS_CURRENT": 1,
         "CNT_DRAWINGS_OTHER_CURRENT": 0,
         "CNT_DRAWINGS_POS_CURRENT": 0,
         "CNT_INSTALMENT_MATURE_CUM": 69,
         "NAME_CONTRACT_STATUS": "Active",
         "SK_DPD": 0,
         "SK_DPD_DEF": 0,
         "_deepnote_index_column": 1
        },
        {
         "SK_ID_PREV": 1740877,
         "SK_ID_CURR": 371185,
         "MONTHS_BALANCE": -7,
         "AMT_BALANCE": 31815.225,
         "AMT_CREDIT_LIMIT_ACTUAL": 450000,
         "AMT_DRAWINGS_ATM_CURRENT": 0,
         "AMT_DRAWINGS_CURRENT": 0,
         "AMT_DRAWINGS_OTHER_CURRENT": 0,
         "AMT_DRAWINGS_POS_CURRENT": 0,
         "AMT_INST_MIN_REGULARITY": 2250,
         "AMT_PAYMENT_CURRENT": 2250,
         "AMT_PAYMENT_TOTAL_CURRENT": 2250,
         "AMT_RECEIVABLE_PRINCIPAL": 26926.425,
         "AMT_RECIVABLE": 31460.085,
         "AMT_TOTAL_RECEIVABLE": 31460.085,
         "CNT_DRAWINGS_ATM_CURRENT": 0,
         "CNT_DRAWINGS_CURRENT": 0,
         "CNT_DRAWINGS_OTHER_CURRENT": 0,
         "CNT_DRAWINGS_POS_CURRENT": 0,
         "CNT_INSTALMENT_MATURE_CUM": 30,
         "NAME_CONTRACT_STATUS": "Active",
         "SK_DPD": 0,
         "SK_DPD_DEF": 0,
         "_deepnote_index_column": 2
        },
        {
         "SK_ID_PREV": 1389973,
         "SK_ID_CURR": 337855,
         "MONTHS_BALANCE": -4,
         "AMT_BALANCE": 236572.11,
         "AMT_CREDIT_LIMIT_ACTUAL": 225000,
         "AMT_DRAWINGS_ATM_CURRENT": 2250,
         "AMT_DRAWINGS_CURRENT": 2250,
         "AMT_DRAWINGS_OTHER_CURRENT": 0,
         "AMT_DRAWINGS_POS_CURRENT": 0,
         "AMT_INST_MIN_REGULARITY": 11795.76,
         "AMT_PAYMENT_CURRENT": 11925,
         "AMT_PAYMENT_TOTAL_CURRENT": 11925,
         "AMT_RECEIVABLE_PRINCIPAL": 224949.285,
         "AMT_RECIVABLE": 233048.97,
         "AMT_TOTAL_RECEIVABLE": 233048.97,
         "CNT_DRAWINGS_ATM_CURRENT": 1,
         "CNT_DRAWINGS_CURRENT": 1,
         "CNT_DRAWINGS_OTHER_CURRENT": 0,
         "CNT_DRAWINGS_POS_CURRENT": 0,
         "CNT_INSTALMENT_MATURE_CUM": 10,
         "NAME_CONTRACT_STATUS": "Active",
         "SK_DPD": 0,
         "SK_DPD_DEF": 0,
         "_deepnote_index_column": 3
        },
        {
         "SK_ID_PREV": 1891521,
         "SK_ID_CURR": 126868,
         "MONTHS_BALANCE": -1,
         "AMT_BALANCE": 453919.455,
         "AMT_CREDIT_LIMIT_ACTUAL": 450000,
         "AMT_DRAWINGS_ATM_CURRENT": 0,
         "AMT_DRAWINGS_CURRENT": 11547,
         "AMT_DRAWINGS_OTHER_CURRENT": 0,
         "AMT_DRAWINGS_POS_CURRENT": 11547,
         "AMT_INST_MIN_REGULARITY": 22924.89,
         "AMT_PAYMENT_CURRENT": 27000,
         "AMT_PAYMENT_TOTAL_CURRENT": 27000,
         "AMT_RECEIVABLE_PRINCIPAL": 443044.395,
         "AMT_RECIVABLE": 453919.455,
         "AMT_TOTAL_RECEIVABLE": 453919.455,
         "CNT_DRAWINGS_ATM_CURRENT": 0,
         "CNT_DRAWINGS_CURRENT": 1,
         "CNT_DRAWINGS_OTHER_CURRENT": 0,
         "CNT_DRAWINGS_POS_CURRENT": 1,
         "CNT_INSTALMENT_MATURE_CUM": 101,
         "NAME_CONTRACT_STATUS": "Active",
         "SK_DPD": 0,
         "SK_DPD_DEF": 0,
         "_deepnote_index_column": 4
        }
       ],
       "rows_bottom": null
      },
      "text/plain": "   SK_ID_PREV  SK_ID_CURR  MONTHS_BALANCE  AMT_BALANCE  \\\n0     2562384      378907              -6       56.970   \n1     2582071      363914              -1    63975.555   \n2     1740877      371185              -7    31815.225   \n3     1389973      337855              -4   236572.110   \n4     1891521      126868              -1   453919.455   \n\n   AMT_CREDIT_LIMIT_ACTUAL  AMT_DRAWINGS_ATM_CURRENT  AMT_DRAWINGS_CURRENT  \\\n0                   135000                       0.0                 877.5   \n1                    45000                    2250.0                2250.0   \n2                   450000                       0.0                   0.0   \n3                   225000                    2250.0                2250.0   \n4                   450000                       0.0               11547.0   \n\n   AMT_DRAWINGS_OTHER_CURRENT  AMT_DRAWINGS_POS_CURRENT  \\\n0                         0.0                     877.5   \n1                         0.0                       0.0   \n2                         0.0                       0.0   \n3                         0.0                       0.0   \n4                         0.0                   11547.0   \n\n   AMT_INST_MIN_REGULARITY  ...  AMT_RECIVABLE  AMT_TOTAL_RECEIVABLE  \\\n0                 1700.325  ...          0.000                 0.000   \n1                 2250.000  ...      64875.555             64875.555   \n2                 2250.000  ...      31460.085             31460.085   \n3                11795.760  ...     233048.970            233048.970   \n4                22924.890  ...     453919.455            453919.455   \n\n   CNT_DRAWINGS_ATM_CURRENT  CNT_DRAWINGS_CURRENT  CNT_DRAWINGS_OTHER_CURRENT  \\\n0                       0.0                     1                         0.0   \n1                       1.0                     1                         0.0   \n2                       0.0                     0                         0.0   \n3                       1.0                     1                         0.0   \n4                       0.0                     1                         0.0   \n\n   CNT_DRAWINGS_POS_CURRENT  CNT_INSTALMENT_MATURE_CUM  NAME_CONTRACT_STATUS  \\\n0                       1.0                       35.0                Active   \n1                       0.0                       69.0                Active   \n2                       0.0                       30.0                Active   \n3                       0.0                       10.0                Active   \n4                       1.0                      101.0                Active   \n\n   SK_DPD  SK_DPD_DEF  \n0       0           0  \n1       0           0  \n2       0           0  \n3       0           0  \n4       0           0  \n\n[5 rows x 23 columns]",
      "text/html": "<div>\n<style scoped>\n    .dataframe tbody tr th:only-of-type {\n        vertical-align: middle;\n    }\n\n    .dataframe tbody tr th {\n        vertical-align: top;\n    }\n\n    .dataframe thead th {\n        text-align: right;\n    }\n</style>\n<table border=\"1\" class=\"dataframe\">\n  <thead>\n    <tr style=\"text-align: right;\">\n      <th></th>\n      <th>SK_ID_PREV</th>\n      <th>SK_ID_CURR</th>\n      <th>MONTHS_BALANCE</th>\n      <th>AMT_BALANCE</th>\n      <th>AMT_CREDIT_LIMIT_ACTUAL</th>\n      <th>AMT_DRAWINGS_ATM_CURRENT</th>\n      <th>AMT_DRAWINGS_CURRENT</th>\n      <th>AMT_DRAWINGS_OTHER_CURRENT</th>\n      <th>AMT_DRAWINGS_POS_CURRENT</th>\n      <th>AMT_INST_MIN_REGULARITY</th>\n      <th>...</th>\n      <th>AMT_RECIVABLE</th>\n      <th>AMT_TOTAL_RECEIVABLE</th>\n      <th>CNT_DRAWINGS_ATM_CURRENT</th>\n      <th>CNT_DRAWINGS_CURRENT</th>\n      <th>CNT_DRAWINGS_OTHER_CURRENT</th>\n      <th>CNT_DRAWINGS_POS_CURRENT</th>\n      <th>CNT_INSTALMENT_MATURE_CUM</th>\n      <th>NAME_CONTRACT_STATUS</th>\n      <th>SK_DPD</th>\n      <th>SK_DPD_DEF</th>\n    </tr>\n  </thead>\n  <tbody>\n    <tr>\n      <th>0</th>\n      <td>2562384</td>\n      <td>378907</td>\n      <td>-6</td>\n      <td>56.970</td>\n      <td>135000</td>\n      <td>0.0</td>\n      <td>877.5</td>\n      <td>0.0</td>\n      <td>877.5</td>\n      <td>1700.325</td>\n      <td>...</td>\n      <td>0.000</td>\n      <td>0.000</td>\n      <td>0.0</td>\n      <td>1</td>\n      <td>0.0</td>\n      <td>1.0</td>\n      <td>35.0</td>\n      <td>Active</td>\n      <td>0</td>\n      <td>0</td>\n    </tr>\n    <tr>\n      <th>1</th>\n      <td>2582071</td>\n      <td>363914</td>\n      <td>-1</td>\n      <td>63975.555</td>\n      <td>45000</td>\n      <td>2250.0</td>\n      <td>2250.0</td>\n      <td>0.0</td>\n      <td>0.0</td>\n      <td>2250.000</td>\n      <td>...</td>\n      <td>64875.555</td>\n      <td>64875.555</td>\n      <td>1.0</td>\n      <td>1</td>\n      <td>0.0</td>\n      <td>0.0</td>\n      <td>69.0</td>\n      <td>Active</td>\n      <td>0</td>\n      <td>0</td>\n    </tr>\n    <tr>\n      <th>2</th>\n      <td>1740877</td>\n      <td>371185</td>\n      <td>-7</td>\n      <td>31815.225</td>\n      <td>450000</td>\n      <td>0.0</td>\n      <td>0.0</td>\n      <td>0.0</td>\n      <td>0.0</td>\n      <td>2250.000</td>\n      <td>...</td>\n      <td>31460.085</td>\n      <td>31460.085</td>\n      <td>0.0</td>\n      <td>0</td>\n      <td>0.0</td>\n      <td>0.0</td>\n      <td>30.0</td>\n      <td>Active</td>\n      <td>0</td>\n      <td>0</td>\n    </tr>\n    <tr>\n      <th>3</th>\n      <td>1389973</td>\n      <td>337855</td>\n      <td>-4</td>\n      <td>236572.110</td>\n      <td>225000</td>\n      <td>2250.0</td>\n      <td>2250.0</td>\n      <td>0.0</td>\n      <td>0.0</td>\n      <td>11795.760</td>\n      <td>...</td>\n      <td>233048.970</td>\n      <td>233048.970</td>\n      <td>1.0</td>\n      <td>1</td>\n      <td>0.0</td>\n      <td>0.0</td>\n      <td>10.0</td>\n      <td>Active</td>\n      <td>0</td>\n      <td>0</td>\n    </tr>\n    <tr>\n      <th>4</th>\n      <td>1891521</td>\n      <td>126868</td>\n      <td>-1</td>\n      <td>453919.455</td>\n      <td>450000</td>\n      <td>0.0</td>\n      <td>11547.0</td>\n      <td>0.0</td>\n      <td>11547.0</td>\n      <td>22924.890</td>\n      <td>...</td>\n      <td>453919.455</td>\n      <td>453919.455</td>\n      <td>0.0</td>\n      <td>1</td>\n      <td>0.0</td>\n      <td>1.0</td>\n      <td>101.0</td>\n      <td>Active</td>\n      <td>0</td>\n      <td>0</td>\n    </tr>\n  </tbody>\n</table>\n<p>5 rows × 23 columns</p>\n</div>"
     },
     "metadata": {}
    }
   ]
  },
  {
   "cell_type": "code",
   "metadata": {
    "tags": [],
    "cell_id": "00004-3213c046-4bb9-43a2-aa87-9f68bf447a49",
    "deepnote_to_be_reexecuted": false,
    "source_hash": "b623e53d",
    "execution_start": 1632520214122,
    "execution_millis": 1,
    "deepnote_cell_type": "code"
   },
   "source": "",
   "execution_count": null,
   "outputs": []
  },
  {
   "cell_type": "code",
   "metadata": {
    "tags": [],
    "cell_id": "00004-0d6d5b5a-0906-4532-9bcc-70c93001d2e1",
    "deepnote_to_be_reexecuted": false,
    "source_hash": "b623e53d",
    "execution_start": 1632520214128,
    "deepnote_cell_type": "code"
   },
   "source": "",
   "execution_count": null,
   "outputs": []
  },
  {
   "cell_type": "code",
   "metadata": {
    "tags": [],
    "cell_id": "00004-a4b31090-3ef3-4538-b617-f3e73a516471",
    "deepnote_to_be_reexecuted": false,
    "source_hash": "b623e53d",
    "execution_start": 1632520214141,
    "deepnote_cell_type": "code"
   },
   "source": "",
   "execution_count": null,
   "outputs": []
  },
  {
   "cell_type": "markdown",
   "source": "<a style='text-decoration:none;line-height:16px;display:flex;color:#5B5B62;padding:10px;justify-content:end;' href='https://deepnote.com?utm_source=created-in-deepnote-cell&projectId=9263f292-ea73-48e7-8892-f3d3ed1db03c' target=\"_blank\">\n<img alt='Created in deepnote.com' style='display:inline;max-height:16px;margin:0px;margin-right:7.5px;' src='data:image/svg+xml;base64,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' > </img>\nCreated in <span style='font-weight:600;margin-left:4px;'>Deepnote</span></a>",
   "metadata": {
    "tags": [],
    "created_in_deepnote_cell": true,
    "deepnote_cell_type": "markdown"
   }
  }
 ],
 "nbformat": 4,
 "nbformat_minor": 2,
 "metadata": {
  "orig_nbformat": 2,
  "deepnote": {
   "is_reactive": false
  },
  "deepnote_notebook_id": "e46c1b50-2484-4be2-a5c0-abcc8dccc4a9",
  "deepnote_execution_queue": []
 }
}
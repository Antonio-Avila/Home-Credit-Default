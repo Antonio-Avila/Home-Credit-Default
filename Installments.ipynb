{
 "cells": [
  {
   "cell_type": "markdown",
   "source": [
    "# Installment Payments Dataset\n"
   ],
   "metadata": {
    "tags": [],
    "cell_id": "00000-706be469-62fe-43ca-bb22-97f6811168be",
    "deepnote_cell_type": "markdown"
   }
  },
  {
   "cell_type": "code",
   "metadata": {
    "tags": [],
    "cell_id": "00000-6e1c6509-c8ff-4b9f-a794-31d5e6183ebb",
    "deepnote_to_be_reexecuted": false,
    "source_hash": "cd7908b3",
    "execution_start": 1630434368508,
    "execution_millis": 2729,
    "deepnote_cell_type": "code"
   },
<<<<<<< HEAD
   "source": "import pandas as pd\nimport numpy as np\nimport matplotlib.pyplot as plt\n%matplotlib inline\nplt.style.use(\"ggplot\")\nimport pylab\npylab.rcParams['figure.figsize'] = (15, 10)\n\nimport seaborn as sns\nimport time\nfrom scipy import stats",
   "execution_count": 1,
=======
   "source": [
    "import pandas as pd\n",
    "import numpy as np\n",
    "import matplotlib.pyplot as plt\n",
    "%matplotlib inline\n",
    "plt.style.use(\"ggplot\")\n",
    "import pylab\n",
    "pylab.rcParams['figure.figsize'] = (15, 10)\n",
    "\n",
    "import seaborn as sns\n",
    "import time\n",
    "from scipy import stats"
   ],
   "execution_count": 2,
>>>>>>> 2aa5df844e2bceaf9d04983fc493af0fb6ad6e23
   "outputs": []
  },
  {
   "cell_type": "code",
   "metadata": {
    "tags": [],
    "cell_id": "00001-e3419dcf-7ed7-423f-aac2-6837de80709e",
    "deepnote_to_be_reexecuted": false,
    "source_hash": "407775",
    "execution_start": 1630434657382,
    "execution_millis": 20772,
    "deepnote_cell_type": "code"
   },
<<<<<<< HEAD
   "source": "# app_train = pd.read_csv('app_train_red.csv', index_col = 0)\nprev_apps = pd.read_csv(\"previous_application.csv\")\npmts = pd.read_csv(\"installments_payments.csv\")",
   "execution_count": 2,
=======
   "source": [
    "# app_train = pd.read_csv('app_train_red.csv', index_col = 0)\n",
    "prev_apps = pd.read_csv(\"previous_application.csv\")\n",
    "pmts = pd.read_csv(\"installments_payments.csv\")"
   ],
   "execution_count": 3,
>>>>>>> 2aa5df844e2bceaf9d04983fc493af0fb6ad6e23
   "outputs": []
  },
  {
   "cell_type": "code",
   "metadata": {
    "tags": [],
    "cell_id": "00003-c4ff8068-251b-491e-9f50-166023ff49bc",
    "deepnote_to_be_reexecuted": false,
    "source_hash": "e8937136",
    "execution_start": 1630374515133,
    "execution_millis": 2249,
    "deepnote_cell_type": "code"
   },
   "source": [
    "prev_apps.sort_values([\"SK_ID_PREV\"]).head(20)"
   ],
   "execution_count": 4,
   "outputs": [
    {
<<<<<<< HEAD
     "output_type": "execute_result",
     "execution_count": 3,
=======
>>>>>>> 2aa5df844e2bceaf9d04983fc493af0fb6ad6e23
     "data": {
      "text/plain": "         SK_ID_PREV  SK_ID_CURR NAME_CONTRACT_TYPE  AMT_ANNUITY  \\\n38906       1000001      158271     Consumer loans     6404.310   \n73676       1000002      101962     Consumer loans     6264.000   \n1517084     1000003      252457     Consumer loans     4951.350   \n1406334     1000004      260094     Consumer loans     3391.110   \n523289      1000005      176456     Consumer loans    14713.605   \n1476878     1000006      427505     Consumer loans    10572.345   \n1102061     1000007      256657     Consumer loans    11246.805   \n368627      1000008      152059     Consumer loans    26331.660   \n10842       1000009      343078     Consumer loans     9302.850   \n1636159     1000010      377567         Cash loans    74682.000   \n1022809     1000011      198678         Cash loans    92435.040   \n1465851     1000012      377567     Consumer loans    10439.145   \n734211      1000013      215520     Consumer loans    13347.900   \n1356546     1000014      361644     Consumer loans     8389.845   \n1267501     1000015      315553     Consumer loans     5597.460   \n10843       1000016      157990     Consumer loans     6078.150   \n201599      1000017      310743     Consumer loans     7002.720   \n1519242     1000018      394447    Revolving loans     2250.000   \n1414394     1000019      176905     Consumer loans     6072.165   \n178303      1000020      299072     Consumer loans    18393.165   \n\n         AMT_APPLICATION  AMT_CREDIT  AMT_DOWN_PAYMENT  AMT_GOODS_PRICE  \\\n38906          58905.000     65124.0             0.000        58905.000   \n73676          39145.500     35230.5          3915.000        39145.500   \n1517084        47056.275     52641.0             4.275        47056.275   \n1406334        35144.370     30586.5          7032.870        35144.370   \n523289        123486.075    120307.5         12349.575       123486.075   \n1476878        51417.000     51417.0             0.000        51417.000   \n1102061        78570.000     62856.0         15714.000        78570.000   \n368627        249255.000    224325.0         24930.000       249255.000   \n10842          42705.000     45243.0             0.000        42705.000   \n1636159       900000.000    900000.0               NaN       900000.000   \n1022809       855000.000    879831.0               NaN       855000.000   \n1465851       103104.000    113989.5             0.000       103104.000   \n734211        134955.000    133479.0         13500.000       134955.000   \n1356546        56835.000     57118.5          5850.000        56835.000   \n1267501        32310.000     34623.0          3600.000        32310.000   \n10843          63720.000     56970.0          6750.000        63720.000   \n201599         67864.230     75024.0             4.230        67864.230   \n1519242        45000.000     45000.0               NaN        45000.000   \n1414394        60246.000     51372.0         13500.000        60246.000   \n178303        151555.500    164961.0             0.000       151555.500   \n\n        WEEKDAY_APPR_PROCESS_START  HOUR_APPR_PROCESS_START  ...  \\\n38906                     THURSDAY                        8  ...   \n73676                       SUNDAY                        8  ...   \n1517084                     SUNDAY                       13  ...   \n1406334                   THURSDAY                        9  ...   \n523289                    THURSDAY                       13  ...   \n1476878                  WEDNESDAY                       13  ...   \n1102061                     SUNDAY                       13  ...   \n368627                      MONDAY                       14  ...   \n10842                     SATURDAY                       11  ...   \n1636159                   THURSDAY                       17  ...   \n1022809                     SUNDAY                       18  ...   \n1465851                   SATURDAY                       15  ...   \n734211                    THURSDAY                       18  ...   \n1356546                     SUNDAY                       18  ...   \n1267501                     MONDAY                       19  ...   \n10843                    WEDNESDAY                       16  ...   \n201599                    SATURDAY                       11  ...   \n1519242                     SUNDAY                       10  ...   \n1414394                     FRIDAY                       12  ...   \n178303                     TUESDAY                       10  ...   \n\n         NAME_SELLER_INDUSTRY  CNT_PAYMENT  NAME_YIELD_GROUP  \\\n38906               Furniture         12.0            middle   \n73676    Consumer electronics          6.0        low_normal   \n1517084  Consumer electronics         12.0        low_action   \n1406334  Consumer electronics         10.0        low_normal   \n523289           Construction         10.0            middle   \n1476878          Connectivity          6.0              high   \n1102061  Consumer electronics          6.0        low_normal   \n368627   Consumer electronics         10.0            middle   \n10842    Consumer electronics          6.0              high   \n1636159  Consumer electronics         18.0              high   \n1022809  Consumer electronics         12.0            middle   \n1465851  Consumer electronics         12.0        low_action   \n734211   Consumer electronics         12.0            middle   \n1356546  Consumer electronics          8.0            middle   \n1267501  Consumer electronics          8.0              high   \n10843    Consumer electronics         12.0            middle   \n201599   Consumer electronics         12.0        low_normal   \n1519242  Consumer electronics          0.0               XNA   \n1414394          Connectivity         12.0              high   \n178303   Consumer electronics         12.0              high   \n\n                    PRODUCT_COMBINATION  DAYS_FIRST_DRAWING DAYS_FIRST_DUE  \\\n38906        POS industry with interest            365243.0         -268.0   \n73676       POS household with interest            365243.0        -1600.0   \n1517084  POS household without interest            365243.0          -94.0   \n1406334  POS household without interest            365243.0         -862.0   \n523289       POS industry with interest            365243.0        -1688.0   \n1476878        POS mobile with interest                 NaN            NaN   \n1102061     POS household with interest            365243.0         -123.0   \n368627      POS household with interest            365243.0        -1282.0   \n10842       POS household with interest            365243.0         -457.0   \n1636159               Cash X-Sell: high            365243.0         -558.0   \n1022809             Cash X-Sell: middle            365243.0         -435.0   \n1465851  POS household without interest            365243.0         -883.0   \n734211      POS household with interest            365243.0        -1366.0   \n1356546     POS household with interest            365243.0        -1339.0   \n1267501     POS household with interest            365243.0        -1363.0   \n10843       POS household with interest            365243.0         -685.0   \n201599      POS household with interest            365243.0         -486.0   \n1519242                     Card Street              -175.0         -130.0   \n1414394        POS mobile with interest            365243.0        -2307.0   \n178303      POS household with interest            365243.0        -1986.0   \n\n        DAYS_LAST_DUE_1ST_VERSION  DAYS_LAST_DUE DAYS_TERMINATION  \\\n38906                        62.0         -238.0           -233.0   \n73676                     -1450.0        -1510.0          -1501.0   \n1517084                     236.0       365243.0         365243.0   \n1406334                    -592.0         -682.0           -672.0   \n523289                    -1418.0        -1418.0          -1415.0   \n1476878                       NaN            NaN              NaN   \n1102061                      27.0       365243.0         365243.0   \n368627                    -1012.0        -1042.0          -1034.0   \n10842                      -307.0         -307.0           -305.0   \n1636159                     -48.0         -258.0           -256.0   \n1022809                    -105.0         -105.0           -101.0   \n1465851                    -553.0         -553.0           -550.0   \n734211                    -1036.0        -1036.0          -1030.0   \n1356546                   -1129.0        -1129.0          -1126.0   \n1267501                   -1153.0        -1153.0          -1150.0   \n10843                      -355.0         -535.0           -531.0   \n201599                     -156.0         -156.0           -151.0   \n1519242                  365243.0       365243.0         365243.0   \n1414394                   -1977.0        -1977.0          -1972.0   \n178303                    -1656.0        -1656.0          -1648.0   \n\n        NFLAG_INSURED_ON_APPROVAL  \n38906                         0.0  \n73676                         0.0  \n1517084                       1.0  \n1406334                       0.0  \n523289                        0.0  \n1476878                       NaN  \n1102061                       0.0  \n368627                        0.0  \n10842                         0.0  \n1636159                       0.0  \n1022809                       1.0  \n1465851                       0.0  \n734211                        0.0  \n1356546                       0.0  \n1267501                       0.0  \n10843                         0.0  \n201599                        1.0  \n1519242                       0.0  \n1414394                       0.0  \n178303                        0.0  \n\n[20 rows x 37 columns]",
      "text/html": "<div>\n<style scoped>\n    .dataframe tbody tr th:only-of-type {\n        vertical-align: middle;\n    }\n\n    .dataframe tbody tr th {\n        vertical-align: top;\n    }\n\n    .dataframe thead th {\n        text-align: right;\n    }\n</style>\n<table border=\"1\" class=\"dataframe\">\n  <thead>\n    <tr style=\"text-align: right;\">\n      <th></th>\n      <th>SK_ID_PREV</th>\n      <th>SK_ID_CURR</th>\n      <th>NAME_CONTRACT_TYPE</th>\n      <th>AMT_ANNUITY</th>\n      <th>AMT_APPLICATION</th>\n      <th>AMT_CREDIT</th>\n      <th>AMT_DOWN_PAYMENT</th>\n      <th>AMT_GOODS_PRICE</th>\n      <th>WEEKDAY_APPR_PROCESS_START</th>\n      <th>HOUR_APPR_PROCESS_START</th>\n      <th>...</th>\n      <th>NAME_SELLER_INDUSTRY</th>\n      <th>CNT_PAYMENT</th>\n      <th>NAME_YIELD_GROUP</th>\n      <th>PRODUCT_COMBINATION</th>\n      <th>DAYS_FIRST_DRAWING</th>\n      <th>DAYS_FIRST_DUE</th>\n      <th>DAYS_LAST_DUE_1ST_VERSION</th>\n      <th>DAYS_LAST_DUE</th>\n      <th>DAYS_TERMINATION</th>\n      <th>NFLAG_INSURED_ON_APPROVAL</th>\n    </tr>\n  </thead>\n  <tbody>\n    <tr>\n      <th>38906</th>\n      <td>1000001</td>\n      <td>158271</td>\n      <td>Consumer loans</td>\n      <td>6404.310</td>\n      <td>58905.000</td>\n      <td>65124.0</td>\n      <td>0.000</td>\n      <td>58905.000</td>\n      <td>THURSDAY</td>\n      <td>8</td>\n      <td>...</td>\n      <td>Furniture</td>\n      <td>12.0</td>\n      <td>middle</td>\n      <td>POS industry with interest</td>\n      <td>365243.0</td>\n      <td>-268.0</td>\n      <td>62.0</td>\n      <td>-238.0</td>\n      <td>-233.0</td>\n      <td>0.0</td>\n    </tr>\n    <tr>\n      <th>73676</th>\n      <td>1000002</td>\n      <td>101962</td>\n      <td>Consumer loans</td>\n      <td>6264.000</td>\n      <td>39145.500</td>\n      <td>35230.5</td>\n      <td>3915.000</td>\n      <td>39145.500</td>\n      <td>SUNDAY</td>\n      <td>8</td>\n      <td>...</td>\n      <td>Consumer electronics</td>\n      <td>6.0</td>\n      <td>low_normal</td>\n      <td>POS household with interest</td>\n      <td>365243.0</td>\n      <td>-1600.0</td>\n      <td>-1450.0</td>\n      <td>-1510.0</td>\n      <td>-1501.0</td>\n      <td>0.0</td>\n    </tr>\n    <tr>\n      <th>1517084</th>\n      <td>1000003</td>\n      <td>252457</td>\n      <td>Consumer loans</td>\n      <td>4951.350</td>\n      <td>47056.275</td>\n      <td>52641.0</td>\n      <td>4.275</td>\n      <td>47056.275</td>\n      <td>SUNDAY</td>\n      <td>13</td>\n      <td>...</td>\n      <td>Consumer electronics</td>\n      <td>12.0</td>\n      <td>low_action</td>\n      <td>POS household without interest</td>\n      <td>365243.0</td>\n      <td>-94.0</td>\n      <td>236.0</td>\n      <td>365243.0</td>\n      <td>365243.0</td>\n      <td>1.0</td>\n    </tr>\n    <tr>\n      <th>1406334</th>\n      <td>1000004</td>\n      <td>260094</td>\n      <td>Consumer loans</td>\n      <td>3391.110</td>\n      <td>35144.370</td>\n      <td>30586.5</td>\n      <td>7032.870</td>\n      <td>35144.370</td>\n      <td>THURSDAY</td>\n      <td>9</td>\n      <td>...</td>\n      <td>Consumer electronics</td>\n      <td>10.0</td>\n      <td>low_normal</td>\n      <td>POS household without interest</td>\n      <td>365243.0</td>\n      <td>-862.0</td>\n      <td>-592.0</td>\n      <td>-682.0</td>\n      <td>-672.0</td>\n      <td>0.0</td>\n    </tr>\n    <tr>\n      <th>523289</th>\n      <td>1000005</td>\n      <td>176456</td>\n      <td>Consumer loans</td>\n      <td>14713.605</td>\n      <td>123486.075</td>\n      <td>120307.5</td>\n      <td>12349.575</td>\n      <td>123486.075</td>\n      <td>THURSDAY</td>\n      <td>13</td>\n      <td>...</td>\n      <td>Construction</td>\n      <td>10.0</td>\n      <td>middle</td>\n      <td>POS industry with interest</td>\n      <td>365243.0</td>\n      <td>-1688.0</td>\n      <td>-1418.0</td>\n      <td>-1418.0</td>\n      <td>-1415.0</td>\n      <td>0.0</td>\n    </tr>\n    <tr>\n      <th>1476878</th>\n      <td>1000006</td>\n      <td>427505</td>\n      <td>Consumer loans</td>\n      <td>10572.345</td>\n      <td>51417.000</td>\n      <td>51417.0</td>\n      <td>0.000</td>\n      <td>51417.000</td>\n      <td>WEDNESDAY</td>\n      <td>13</td>\n      <td>...</td>\n      <td>Connectivity</td>\n      <td>6.0</td>\n      <td>high</td>\n      <td>POS mobile with interest</td>\n      <td>NaN</td>\n      <td>NaN</td>\n      <td>NaN</td>\n      <td>NaN</td>\n      <td>NaN</td>\n      <td>NaN</td>\n    </tr>\n    <tr>\n      <th>1102061</th>\n      <td>1000007</td>\n      <td>256657</td>\n      <td>Consumer loans</td>\n      <td>11246.805</td>\n      <td>78570.000</td>\n      <td>62856.0</td>\n      <td>15714.000</td>\n      <td>78570.000</td>\n      <td>SUNDAY</td>\n      <td>13</td>\n      <td>...</td>\n      <td>Consumer electronics</td>\n      <td>6.0</td>\n      <td>low_normal</td>\n      <td>POS household with interest</td>\n      <td>365243.0</td>\n      <td>-123.0</td>\n      <td>27.0</td>\n      <td>365243.0</td>\n      <td>365243.0</td>\n      <td>0.0</td>\n    </tr>\n    <tr>\n      <th>368627</th>\n      <td>1000008</td>\n      <td>152059</td>\n      <td>Consumer loans</td>\n      <td>26331.660</td>\n      <td>249255.000</td>\n      <td>224325.0</td>\n      <td>24930.000</td>\n      <td>249255.000</td>\n      <td>MONDAY</td>\n      <td>14</td>\n      <td>...</td>\n      <td>Consumer electronics</td>\n      <td>10.0</td>\n      <td>middle</td>\n      <td>POS household with interest</td>\n      <td>365243.0</td>\n      <td>-1282.0</td>\n      <td>-1012.0</td>\n      <td>-1042.0</td>\n      <td>-1034.0</td>\n      <td>0.0</td>\n    </tr>\n    <tr>\n      <th>10842</th>\n      <td>1000009</td>\n      <td>343078</td>\n      <td>Consumer loans</td>\n      <td>9302.850</td>\n      <td>42705.000</td>\n      <td>45243.0</td>\n      <td>0.000</td>\n      <td>42705.000</td>\n      <td>SATURDAY</td>\n      <td>11</td>\n      <td>...</td>\n      <td>Consumer electronics</td>\n      <td>6.0</td>\n      <td>high</td>\n      <td>POS household with interest</td>\n      <td>365243.0</td>\n      <td>-457.0</td>\n      <td>-307.0</td>\n      <td>-307.0</td>\n      <td>-305.0</td>\n      <td>0.0</td>\n    </tr>\n    <tr>\n      <th>1636159</th>\n      <td>1000010</td>\n      <td>377567</td>\n      <td>Cash loans</td>\n      <td>74682.000</td>\n      <td>900000.000</td>\n      <td>900000.0</td>\n      <td>NaN</td>\n      <td>900000.000</td>\n      <td>THURSDAY</td>\n      <td>17</td>\n      <td>...</td>\n      <td>Consumer electronics</td>\n      <td>18.0</td>\n      <td>high</td>\n      <td>Cash X-Sell: high</td>\n      <td>365243.0</td>\n      <td>-558.0</td>\n      <td>-48.0</td>\n      <td>-258.0</td>\n      <td>-256.0</td>\n      <td>0.0</td>\n    </tr>\n    <tr>\n      <th>1022809</th>\n      <td>1000011</td>\n      <td>198678</td>\n      <td>Cash loans</td>\n      <td>92435.040</td>\n      <td>855000.000</td>\n      <td>879831.0</td>\n      <td>NaN</td>\n      <td>855000.000</td>\n      <td>SUNDAY</td>\n      <td>18</td>\n      <td>...</td>\n      <td>Consumer electronics</td>\n      <td>12.0</td>\n      <td>middle</td>\n      <td>Cash X-Sell: middle</td>\n      <td>365243.0</td>\n      <td>-435.0</td>\n      <td>-105.0</td>\n      <td>-105.0</td>\n      <td>-101.0</td>\n      <td>1.0</td>\n    </tr>\n    <tr>\n      <th>1465851</th>\n      <td>1000012</td>\n      <td>377567</td>\n      <td>Consumer loans</td>\n      <td>10439.145</td>\n      <td>103104.000</td>\n      <td>113989.5</td>\n      <td>0.000</td>\n      <td>103104.000</td>\n      <td>SATURDAY</td>\n      <td>15</td>\n      <td>...</td>\n      <td>Consumer electronics</td>\n      <td>12.0</td>\n      <td>low_action</td>\n      <td>POS household without interest</td>\n      <td>365243.0</td>\n      <td>-883.0</td>\n      <td>-553.0</td>\n      <td>-553.0</td>\n      <td>-550.0</td>\n      <td>0.0</td>\n    </tr>\n    <tr>\n      <th>734211</th>\n      <td>1000013</td>\n      <td>215520</td>\n      <td>Consumer loans</td>\n      <td>13347.900</td>\n      <td>134955.000</td>\n      <td>133479.0</td>\n      <td>13500.000</td>\n      <td>134955.000</td>\n      <td>THURSDAY</td>\n      <td>18</td>\n      <td>...</td>\n      <td>Consumer electronics</td>\n      <td>12.0</td>\n      <td>middle</td>\n      <td>POS household with interest</td>\n      <td>365243.0</td>\n      <td>-1366.0</td>\n      <td>-1036.0</td>\n      <td>-1036.0</td>\n      <td>-1030.0</td>\n      <td>0.0</td>\n    </tr>\n    <tr>\n      <th>1356546</th>\n      <td>1000014</td>\n      <td>361644</td>\n      <td>Consumer loans</td>\n      <td>8389.845</td>\n      <td>56835.000</td>\n      <td>57118.5</td>\n      <td>5850.000</td>\n      <td>56835.000</td>\n      <td>SUNDAY</td>\n      <td>18</td>\n      <td>...</td>\n      <td>Consumer electronics</td>\n      <td>8.0</td>\n      <td>middle</td>\n      <td>POS household with interest</td>\n      <td>365243.0</td>\n      <td>-1339.0</td>\n      <td>-1129.0</td>\n      <td>-1129.0</td>\n      <td>-1126.0</td>\n      <td>0.0</td>\n    </tr>\n    <tr>\n      <th>1267501</th>\n      <td>1000015</td>\n      <td>315553</td>\n      <td>Consumer loans</td>\n      <td>5597.460</td>\n      <td>32310.000</td>\n      <td>34623.0</td>\n      <td>3600.000</td>\n      <td>32310.000</td>\n      <td>MONDAY</td>\n      <td>19</td>\n      <td>...</td>\n      <td>Consumer electronics</td>\n      <td>8.0</td>\n      <td>high</td>\n      <td>POS household with interest</td>\n      <td>365243.0</td>\n      <td>-1363.0</td>\n      <td>-1153.0</td>\n      <td>-1153.0</td>\n      <td>-1150.0</td>\n      <td>0.0</td>\n    </tr>\n    <tr>\n      <th>10843</th>\n      <td>1000016</td>\n      <td>157990</td>\n      <td>Consumer loans</td>\n      <td>6078.150</td>\n      <td>63720.000</td>\n      <td>56970.0</td>\n      <td>6750.000</td>\n      <td>63720.000</td>\n      <td>WEDNESDAY</td>\n      <td>16</td>\n      <td>...</td>\n      <td>Consumer electronics</td>\n      <td>12.0</td>\n      <td>middle</td>\n      <td>POS household with interest</td>\n      <td>365243.0</td>\n      <td>-685.0</td>\n      <td>-355.0</td>\n      <td>-535.0</td>\n      <td>-531.0</td>\n      <td>0.0</td>\n    </tr>\n    <tr>\n      <th>201599</th>\n      <td>1000017</td>\n      <td>310743</td>\n      <td>Consumer loans</td>\n      <td>7002.720</td>\n      <td>67864.230</td>\n      <td>75024.0</td>\n      <td>4.230</td>\n      <td>67864.230</td>\n      <td>SATURDAY</td>\n      <td>11</td>\n      <td>...</td>\n      <td>Consumer electronics</td>\n      <td>12.0</td>\n      <td>low_normal</td>\n      <td>POS household with interest</td>\n      <td>365243.0</td>\n      <td>-486.0</td>\n      <td>-156.0</td>\n      <td>-156.0</td>\n      <td>-151.0</td>\n      <td>1.0</td>\n    </tr>\n    <tr>\n      <th>1519242</th>\n      <td>1000018</td>\n      <td>394447</td>\n      <td>Revolving loans</td>\n      <td>2250.000</td>\n      <td>45000.000</td>\n      <td>45000.0</td>\n      <td>NaN</td>\n      <td>45000.000</td>\n      <td>SUNDAY</td>\n      <td>10</td>\n      <td>...</td>\n      <td>Consumer electronics</td>\n      <td>0.0</td>\n      <td>XNA</td>\n      <td>Card Street</td>\n      <td>-175.0</td>\n      <td>-130.0</td>\n      <td>365243.0</td>\n      <td>365243.0</td>\n      <td>365243.0</td>\n      <td>0.0</td>\n    </tr>\n    <tr>\n      <th>1414394</th>\n      <td>1000019</td>\n      <td>176905</td>\n      <td>Consumer loans</td>\n      <td>6072.165</td>\n      <td>60246.000</td>\n      <td>51372.0</td>\n      <td>13500.000</td>\n      <td>60246.000</td>\n      <td>FRIDAY</td>\n      <td>12</td>\n      <td>...</td>\n      <td>Connectivity</td>\n      <td>12.0</td>\n      <td>high</td>\n      <td>POS mobile with interest</td>\n      <td>365243.0</td>\n      <td>-2307.0</td>\n      <td>-1977.0</td>\n      <td>-1977.0</td>\n      <td>-1972.0</td>\n      <td>0.0</td>\n    </tr>\n    <tr>\n      <th>178303</th>\n      <td>1000020</td>\n      <td>299072</td>\n      <td>Consumer loans</td>\n      <td>18393.165</td>\n      <td>151555.500</td>\n      <td>164961.0</td>\n      <td>0.000</td>\n      <td>151555.500</td>\n      <td>TUESDAY</td>\n      <td>10</td>\n      <td>...</td>\n      <td>Consumer electronics</td>\n      <td>12.0</td>\n      <td>high</td>\n      <td>POS household with interest</td>\n      <td>365243.0</td>\n      <td>-1986.0</td>\n      <td>-1656.0</td>\n      <td>-1656.0</td>\n      <td>-1648.0</td>\n      <td>0.0</td>\n    </tr>\n  </tbody>\n</table>\n<p>20 rows × 37 columns</p>\n</div>"
     },
     "execution_count": 4,
     "metadata": {},
     "output_type": "execute_result"
    }
   ]
  },
  {
   "cell_type": "code",
   "metadata": {
    "tags": [],
    "cell_id": "00004-eb1c1390-d606-4cbb-9c9e-6ea7857dcfe1",
    "deepnote_to_be_reexecuted": false,
    "source_hash": "c9499a01",
    "execution_start": 1630374517173,
    "execution_millis": 209,
    "deepnote_cell_type": "code"
   },
   "source": [
    "help(pd.merge)"
   ],
   "execution_count": 5,
   "outputs": [
    {
     "name": "stdout",
     "output_type": "stream",
     "text": [
      "Help on function merge in module pandas.core.reshape.merge:\n",
      "\n",
      "merge(left, right, how: str = 'inner', on=None, left_on=None, right_on=None, left_index: bool = False, right_index: bool = False, sort: bool = False, suffixes=('_x', '_y'), copy: bool = True, indicator: bool = False, validate=None) -> 'DataFrame'\n",
      "    Merge DataFrame or named Series objects with a database-style join.\n",
      "    \n",
      "    The join is done on columns or indexes. If joining columns on\n",
      "    columns, the DataFrame indexes *will be ignored*. Otherwise if joining indexes\n",
      "    on indexes or indexes on a column or columns, the index will be passed on.\n",
      "    \n",
      "    Parameters\n",
      "    ----------\n",
      "    left : DataFrame\n",
      "    right : DataFrame or named Series\n",
      "        Object to merge with.\n",
      "    how : {'left', 'right', 'outer', 'inner'}, default 'inner'\n",
      "        Type of merge to be performed.\n",
      "    \n",
      "        * left: use only keys from left frame, similar to a SQL left outer join;\n",
      "          preserve key order.\n",
      "        * right: use only keys from right frame, similar to a SQL right outer join;\n",
      "          preserve key order.\n",
      "        * outer: use union of keys from both frames, similar to a SQL full outer\n",
      "          join; sort keys lexicographically.\n",
      "        * inner: use intersection of keys from both frames, similar to a SQL inner\n",
      "          join; preserve the order of the left keys.\n",
      "    on : label or list\n",
      "        Column or index level names to join on. These must be found in both\n",
      "        DataFrames. If `on` is None and not merging on indexes then this defaults\n",
      "        to the intersection of the columns in both DataFrames.\n",
      "    left_on : label or list, or array-like\n",
      "        Column or index level names to join on in the left DataFrame. Can also\n",
      "        be an array or list of arrays of the length of the left DataFrame.\n",
      "        These arrays are treated as if they are columns.\n",
      "    right_on : label or list, or array-like\n",
      "        Column or index level names to join on in the right DataFrame. Can also\n",
      "        be an array or list of arrays of the length of the right DataFrame.\n",
      "        These arrays are treated as if they are columns.\n",
      "    left_index : bool, default False\n",
      "        Use the index from the left DataFrame as the join key(s). If it is a\n",
      "        MultiIndex, the number of keys in the other DataFrame (either the index\n",
      "        or a number of columns) must match the number of levels.\n",
      "    right_index : bool, default False\n",
      "        Use the index from the right DataFrame as the join key. Same caveats as\n",
      "        left_index.\n",
      "    sort : bool, default False\n",
      "        Sort the join keys lexicographically in the result DataFrame. If False,\n",
      "        the order of the join keys depends on the join type (how keyword).\n",
      "    suffixes : list-like, default is (\"_x\", \"_y\")\n",
      "        A length-2 sequence where each element is optionally a string\n",
      "        indicating the suffix to add to overlapping column names in\n",
      "        `left` and `right` respectively. Pass a value of `None` instead\n",
      "        of a string to indicate that the column name from `left` or\n",
      "        `right` should be left as-is, with no suffix. At least one of the\n",
      "        values must not be None.\n",
      "    copy : bool, default True\n",
      "        If False, avoid copy if possible.\n",
      "    indicator : bool or str, default False\n",
      "        If True, adds a column to the output DataFrame called \"_merge\" with\n",
      "        information on the source of each row. The column can be given a different\n",
      "        name by providing a string argument. The column will have a Categorical\n",
      "        type with the value of \"left_only\" for observations whose merge key only\n",
      "        appears in the left DataFrame, \"right_only\" for observations\n",
      "        whose merge key only appears in the right DataFrame, and \"both\"\n",
      "        if the observation's merge key is found in both DataFrames.\n",
      "    \n",
      "    validate : str, optional\n",
      "        If specified, checks if merge is of specified type.\n",
      "    \n",
      "        * \"one_to_one\" or \"1:1\": check if merge keys are unique in both\n",
      "          left and right datasets.\n",
      "        * \"one_to_many\" or \"1:m\": check if merge keys are unique in left\n",
      "          dataset.\n",
      "        * \"many_to_one\" or \"m:1\": check if merge keys are unique in right\n",
      "          dataset.\n",
      "        * \"many_to_many\" or \"m:m\": allowed, but does not result in checks.\n",
      "    \n",
      "    Returns\n",
      "    -------\n",
      "    DataFrame\n",
      "        A DataFrame of the two merged objects.\n",
      "    \n",
      "    See Also\n",
      "    --------\n",
      "    merge_ordered : Merge with optional filling/interpolation.\n",
      "    merge_asof : Merge on nearest keys.\n",
      "    DataFrame.join : Similar method using indices.\n",
      "    \n",
      "    Notes\n",
      "    -----\n",
      "    Support for specifying index levels as the `on`, `left_on`, and\n",
      "    `right_on` parameters was added in version 0.23.0\n",
      "    Support for merging named Series objects was added in version 0.24.0\n",
      "    \n",
      "    Examples\n",
      "    --------\n",
      "    >>> df1 = pd.DataFrame({'lkey': ['foo', 'bar', 'baz', 'foo'],\n",
      "    ...                     'value': [1, 2, 3, 5]})\n",
      "    >>> df2 = pd.DataFrame({'rkey': ['foo', 'bar', 'baz', 'foo'],\n",
      "    ...                     'value': [5, 6, 7, 8]})\n",
      "    >>> df1\n",
      "        lkey value\n",
      "    0   foo      1\n",
      "    1   bar      2\n",
      "    2   baz      3\n",
      "    3   foo      5\n",
      "    >>> df2\n",
      "        rkey value\n",
      "    0   foo      5\n",
      "    1   bar      6\n",
      "    2   baz      7\n",
      "    3   foo      8\n",
      "    \n",
      "    Merge df1 and df2 on the lkey and rkey columns. The value columns have\n",
      "    the default suffixes, _x and _y, appended.\n",
      "    \n",
      "    >>> df1.merge(df2, left_on='lkey', right_on='rkey')\n",
      "      lkey  value_x rkey  value_y\n",
      "    0  foo        1  foo        5\n",
      "    1  foo        1  foo        8\n",
      "    2  foo        5  foo        5\n",
      "    3  foo        5  foo        8\n",
      "    4  bar        2  bar        6\n",
      "    5  baz        3  baz        7\n",
      "    \n",
      "    Merge DataFrames df1 and df2 with specified left and right suffixes\n",
      "    appended to any overlapping columns.\n",
      "    \n",
      "    >>> df1.merge(df2, left_on='lkey', right_on='rkey',\n",
      "    ...           suffixes=('_left', '_right'))\n",
      "      lkey  value_left rkey  value_right\n",
      "    0  foo           1  foo            5\n",
      "    1  foo           1  foo            8\n",
      "    2  foo           5  foo            5\n",
      "    3  foo           5  foo            8\n",
      "    4  bar           2  bar            6\n",
      "    5  baz           3  baz            7\n",
      "    \n",
      "    Merge DataFrames df1 and df2, but raise an exception if the DataFrames have\n",
      "    any overlapping columns.\n",
      "    \n",
      "    >>> df1.merge(df2, left_on='lkey', right_on='rkey', suffixes=(False, False))\n",
      "    Traceback (most recent call last):\n",
      "    ...\n",
      "    ValueError: columns overlap but no suffix specified:\n",
      "        Index(['value'], dtype='object')\n",
      "\n"
     ]
    }
   ]
  },
  {
   "cell_type": "code",
   "metadata": {
    "tags": [],
    "cell_id": "00004-20474d56-2d36-4a65-9e5d-3ae27aeeb4f2",
    "deepnote_to_be_reexecuted": false,
    "source_hash": "4080bb93",
    "execution_start": 1630374517174,
    "execution_millis": 3943,
    "deepnote_cell_type": "code"
   },
   "source": [
    "pmts_totals = pmts.groupby(\"SK_ID_PREV\").AMT_INSTALMENT.agg(total = \"sum\").reset_index()\n",
    "pd.merge(prev_apps, pmts_totals, on = \"SK_ID_PREV\")[[\"SK_ID_PREV\", \"AMT_CREDIT\", \"total\"]].head(20)"
   ],
   "execution_count": 6,
   "outputs": [
    {
<<<<<<< HEAD
     "output_type": "execute_result",
     "execution_count": 5,
=======
>>>>>>> 2aa5df844e2bceaf9d04983fc493af0fb6ad6e23
     "data": {
      "text/plain": "    SK_ID_PREV  AMT_CREDIT       total\n0      2030495     17145.0   17284.275\n1      2802425    679671.0  125943.075\n2      2523466    136444.5  135546.615\n3      2819243    470790.0  563133.375\n4      1383531    340573.5  419332.905\n5      1715995    335754.0  437811.435\n6      2257824    246397.5  273568.050\n7      2330894    174361.5  240813.315\n8      1397919     57564.0   61238.340\n9      2273188     27252.0   28932.345\n10     1232483    119853.0  127830.690\n11     2163253     27297.0   33505.920\n12     1285768    180000.0  105750.000\n13     1182516    451777.5  610848.000\n14     1543131    241920.0  271411.290\n15     2536650    369000.0  799966.485\n16     1676258    268083.0  467124.750\n17     2075578     65610.0   91796.310\n18     2138466     32562.0   34096.455\n19     2191093    100485.0  109375.110",
      "text/html": "<div>\n<style scoped>\n    .dataframe tbody tr th:only-of-type {\n        vertical-align: middle;\n    }\n\n    .dataframe tbody tr th {\n        vertical-align: top;\n    }\n\n    .dataframe thead th {\n        text-align: right;\n    }\n</style>\n<table border=\"1\" class=\"dataframe\">\n  <thead>\n    <tr style=\"text-align: right;\">\n      <th></th>\n      <th>SK_ID_PREV</th>\n      <th>AMT_CREDIT</th>\n      <th>total</th>\n    </tr>\n  </thead>\n  <tbody>\n    <tr>\n      <th>0</th>\n      <td>2030495</td>\n      <td>17145.0</td>\n      <td>17284.275</td>\n    </tr>\n    <tr>\n      <th>1</th>\n      <td>2802425</td>\n      <td>679671.0</td>\n      <td>125943.075</td>\n    </tr>\n    <tr>\n      <th>2</th>\n      <td>2523466</td>\n      <td>136444.5</td>\n      <td>135546.615</td>\n    </tr>\n    <tr>\n      <th>3</th>\n      <td>2819243</td>\n      <td>470790.0</td>\n      <td>563133.375</td>\n    </tr>\n    <tr>\n      <th>4</th>\n      <td>1383531</td>\n      <td>340573.5</td>\n      <td>419332.905</td>\n    </tr>\n    <tr>\n      <th>5</th>\n      <td>1715995</td>\n      <td>335754.0</td>\n      <td>437811.435</td>\n    </tr>\n    <tr>\n      <th>6</th>\n      <td>2257824</td>\n      <td>246397.5</td>\n      <td>273568.050</td>\n    </tr>\n    <tr>\n      <th>7</th>\n      <td>2330894</td>\n      <td>174361.5</td>\n      <td>240813.315</td>\n    </tr>\n    <tr>\n      <th>8</th>\n      <td>1397919</td>\n      <td>57564.0</td>\n      <td>61238.340</td>\n    </tr>\n    <tr>\n      <th>9</th>\n      <td>2273188</td>\n      <td>27252.0</td>\n      <td>28932.345</td>\n    </tr>\n    <tr>\n      <th>10</th>\n      <td>1232483</td>\n      <td>119853.0</td>\n      <td>127830.690</td>\n    </tr>\n    <tr>\n      <th>11</th>\n      <td>2163253</td>\n      <td>27297.0</td>\n      <td>33505.920</td>\n    </tr>\n    <tr>\n      <th>12</th>\n      <td>1285768</td>\n      <td>180000.0</td>\n      <td>105750.000</td>\n    </tr>\n    <tr>\n      <th>13</th>\n      <td>1182516</td>\n      <td>451777.5</td>\n      <td>610848.000</td>\n    </tr>\n    <tr>\n      <th>14</th>\n      <td>1543131</td>\n      <td>241920.0</td>\n      <td>271411.290</td>\n    </tr>\n    <tr>\n      <th>15</th>\n      <td>2536650</td>\n      <td>369000.0</td>\n      <td>799966.485</td>\n    </tr>\n    <tr>\n      <th>16</th>\n      <td>1676258</td>\n      <td>268083.0</td>\n      <td>467124.750</td>\n    </tr>\n    <tr>\n      <th>17</th>\n      <td>2075578</td>\n      <td>65610.0</td>\n      <td>91796.310</td>\n    </tr>\n    <tr>\n      <th>18</th>\n      <td>2138466</td>\n      <td>32562.0</td>\n      <td>34096.455</td>\n    </tr>\n    <tr>\n      <th>19</th>\n      <td>2191093</td>\n      <td>100485.0</td>\n      <td>109375.110</td>\n    </tr>\n  </tbody>\n</table>\n</div>"
     },
     "execution_count": 6,
     "metadata": {},
     "output_type": "execute_result"
    }
   ]
  },
  {
   "cell_type": "code",
   "metadata": {
    "tags": [],
    "cell_id": "00002-223e76b3-3d23-4541-8826-e60bc7cf305a",
    "deepnote_to_be_reexecuted": false,
    "source_hash": "4fcbfa2b",
    "execution_start": 1630374521112,
    "execution_millis": 11729,
    "deepnote_cell_type": "code"
   },
   "source": [
    "pmts.sort_values([\"SK_ID_PREV\", \"NUM_INSTALMENT_NUMBER\"]).head(20)"
   ],
   "execution_count": 7,
   "outputs": [
    {
<<<<<<< HEAD
     "output_type": "execute_result",
     "execution_count": 6,
=======
>>>>>>> 2aa5df844e2bceaf9d04983fc493af0fb6ad6e23
     "data": {
      "text/plain": "         SK_ID_PREV  SK_ID_CURR  NUM_INSTALMENT_VERSION  \\\n512588      1000001      158271                     1.0   \n2159480     1000001      158271                     2.0   \n1214732     1000002      101962                     1.0   \n1631862     1000002      101962                     1.0   \n3411021     1000002      101962                     1.0   \n1006868     1000002      101962                     2.0   \n6145031     1000003      252457                     1.0   \n7054246     1000003      252457                     1.0   \n4279518     1000003      252457                     1.0   \n7126740     1000004      260094                     1.0   \n5575422     1000004      260094                     1.0   \n5737330     1000004      260094                     1.0   \n5959838     1000004      260094                     1.0   \n5197652     1000004      260094                     1.0   \n4242475     1000004      260094                     1.0   \n4713874     1000004      260094                     2.0   \n1310691     1000005      176456                     1.0   \n109820      1000005      176456                     1.0   \n2255181     1000005      176456                     1.0   \n2170925     1000005      176456                     1.0   \n\n         NUM_INSTALMENT_NUMBER  DAYS_INSTALMENT  DAYS_ENTRY_PAYMENT  \\\n512588                       1           -268.0              -294.0   \n2159480                      2           -238.0              -244.0   \n1214732                      1          -1600.0             -1611.0   \n1631862                      2          -1570.0             -1575.0   \n3411021                      3          -1540.0             -1559.0   \n1006868                      4          -1510.0             -1554.0   \n6145031                      1            -94.0              -108.0   \n7054246                      2            -64.0               -81.0   \n4279518                      3            -34.0               -49.0   \n7126740                      1           -862.0              -881.0   \n5575422                      2           -832.0              -851.0   \n5737330                      3           -802.0              -830.0   \n5959838                      4           -772.0              -830.0   \n5197652                      5           -742.0              -752.0   \n4242475                      6           -712.0              -752.0   \n4713874                      7           -682.0              -695.0   \n1310691                      1          -1688.0             -1687.0   \n109820                       2          -1658.0             -1664.0   \n2255181                      3          -1628.0             -1636.0   \n2170925                      4          -1598.0             -1606.0   \n\n         AMT_INSTALMENT  AMT_PAYMENT  \n512588         6404.310     6404.310  \n2159480       62039.115    62039.115  \n1214732        6264.000     6264.000  \n1631862        6264.000     6264.000  \n3411021        6264.000     6264.000  \n1006868       18443.565    18443.565  \n6145031        4951.350     4951.350  \n7054246        4951.350     4951.350  \n4279518        4951.350     4951.350  \n7126740        3391.110     3391.110  \n5575422        3391.110     3391.110  \n5737330        3391.110     3391.110  \n5959838        3391.110     3391.110  \n5197652        3391.110     3391.110  \n4242475        3391.110     3391.110  \n4713874       13176.495    13176.495  \n1310691       14713.605    14713.605  \n109820        14713.605    14713.605  \n2255181       14713.605    14713.605  \n2170925       14713.605    14713.605  ",
      "text/html": "<div>\n<style scoped>\n    .dataframe tbody tr th:only-of-type {\n        vertical-align: middle;\n    }\n\n    .dataframe tbody tr th {\n        vertical-align: top;\n    }\n\n    .dataframe thead th {\n        text-align: right;\n    }\n</style>\n<table border=\"1\" class=\"dataframe\">\n  <thead>\n    <tr style=\"text-align: right;\">\n      <th></th>\n      <th>SK_ID_PREV</th>\n      <th>SK_ID_CURR</th>\n      <th>NUM_INSTALMENT_VERSION</th>\n      <th>NUM_INSTALMENT_NUMBER</th>\n      <th>DAYS_INSTALMENT</th>\n      <th>DAYS_ENTRY_PAYMENT</th>\n      <th>AMT_INSTALMENT</th>\n      <th>AMT_PAYMENT</th>\n    </tr>\n  </thead>\n  <tbody>\n    <tr>\n      <th>512588</th>\n      <td>1000001</td>\n      <td>158271</td>\n      <td>1.0</td>\n      <td>1</td>\n      <td>-268.0</td>\n      <td>-294.0</td>\n      <td>6404.310</td>\n      <td>6404.310</td>\n    </tr>\n    <tr>\n      <th>2159480</th>\n      <td>1000001</td>\n      <td>158271</td>\n      <td>2.0</td>\n      <td>2</td>\n      <td>-238.0</td>\n      <td>-244.0</td>\n      <td>62039.115</td>\n      <td>62039.115</td>\n    </tr>\n    <tr>\n      <th>1214732</th>\n      <td>1000002</td>\n      <td>101962</td>\n      <td>1.0</td>\n      <td>1</td>\n      <td>-1600.0</td>\n      <td>-1611.0</td>\n      <td>6264.000</td>\n      <td>6264.000</td>\n    </tr>\n    <tr>\n      <th>1631862</th>\n      <td>1000002</td>\n      <td>101962</td>\n      <td>1.0</td>\n      <td>2</td>\n      <td>-1570.0</td>\n      <td>-1575.0</td>\n      <td>6264.000</td>\n      <td>6264.000</td>\n    </tr>\n    <tr>\n      <th>3411021</th>\n      <td>1000002</td>\n      <td>101962</td>\n      <td>1.0</td>\n      <td>3</td>\n      <td>-1540.0</td>\n      <td>-1559.0</td>\n      <td>6264.000</td>\n      <td>6264.000</td>\n    </tr>\n    <tr>\n      <th>1006868</th>\n      <td>1000002</td>\n      <td>101962</td>\n      <td>2.0</td>\n      <td>4</td>\n      <td>-1510.0</td>\n      <td>-1554.0</td>\n      <td>18443.565</td>\n      <td>18443.565</td>\n    </tr>\n    <tr>\n      <th>6145031</th>\n      <td>1000003</td>\n      <td>252457</td>\n      <td>1.0</td>\n      <td>1</td>\n      <td>-94.0</td>\n      <td>-108.0</td>\n      <td>4951.350</td>\n      <td>4951.350</td>\n    </tr>\n    <tr>\n      <th>7054246</th>\n      <td>1000003</td>\n      <td>252457</td>\n      <td>1.0</td>\n      <td>2</td>\n      <td>-64.0</td>\n      <td>-81.0</td>\n      <td>4951.350</td>\n      <td>4951.350</td>\n    </tr>\n    <tr>\n      <th>4279518</th>\n      <td>1000003</td>\n      <td>252457</td>\n      <td>1.0</td>\n      <td>3</td>\n      <td>-34.0</td>\n      <td>-49.0</td>\n      <td>4951.350</td>\n      <td>4951.350</td>\n    </tr>\n    <tr>\n      <th>7126740</th>\n      <td>1000004</td>\n      <td>260094</td>\n      <td>1.0</td>\n      <td>1</td>\n      <td>-862.0</td>\n      <td>-881.0</td>\n      <td>3391.110</td>\n      <td>3391.110</td>\n    </tr>\n    <tr>\n      <th>5575422</th>\n      <td>1000004</td>\n      <td>260094</td>\n      <td>1.0</td>\n      <td>2</td>\n      <td>-832.0</td>\n      <td>-851.0</td>\n      <td>3391.110</td>\n      <td>3391.110</td>\n    </tr>\n    <tr>\n      <th>5737330</th>\n      <td>1000004</td>\n      <td>260094</td>\n      <td>1.0</td>\n      <td>3</td>\n      <td>-802.0</td>\n      <td>-830.0</td>\n      <td>3391.110</td>\n      <td>3391.110</td>\n    </tr>\n    <tr>\n      <th>5959838</th>\n      <td>1000004</td>\n      <td>260094</td>\n      <td>1.0</td>\n      <td>4</td>\n      <td>-772.0</td>\n      <td>-830.0</td>\n      <td>3391.110</td>\n      <td>3391.110</td>\n    </tr>\n    <tr>\n      <th>5197652</th>\n      <td>1000004</td>\n      <td>260094</td>\n      <td>1.0</td>\n      <td>5</td>\n      <td>-742.0</td>\n      <td>-752.0</td>\n      <td>3391.110</td>\n      <td>3391.110</td>\n    </tr>\n    <tr>\n      <th>4242475</th>\n      <td>1000004</td>\n      <td>260094</td>\n      <td>1.0</td>\n      <td>6</td>\n      <td>-712.0</td>\n      <td>-752.0</td>\n      <td>3391.110</td>\n      <td>3391.110</td>\n    </tr>\n    <tr>\n      <th>4713874</th>\n      <td>1000004</td>\n      <td>260094</td>\n      <td>2.0</td>\n      <td>7</td>\n      <td>-682.0</td>\n      <td>-695.0</td>\n      <td>13176.495</td>\n      <td>13176.495</td>\n    </tr>\n    <tr>\n      <th>1310691</th>\n      <td>1000005</td>\n      <td>176456</td>\n      <td>1.0</td>\n      <td>1</td>\n      <td>-1688.0</td>\n      <td>-1687.0</td>\n      <td>14713.605</td>\n      <td>14713.605</td>\n    </tr>\n    <tr>\n      <th>109820</th>\n      <td>1000005</td>\n      <td>176456</td>\n      <td>1.0</td>\n      <td>2</td>\n      <td>-1658.0</td>\n      <td>-1664.0</td>\n      <td>14713.605</td>\n      <td>14713.605</td>\n    </tr>\n    <tr>\n      <th>2255181</th>\n      <td>1000005</td>\n      <td>176456</td>\n      <td>1.0</td>\n      <td>3</td>\n      <td>-1628.0</td>\n      <td>-1636.0</td>\n      <td>14713.605</td>\n      <td>14713.605</td>\n    </tr>\n    <tr>\n      <th>2170925</th>\n      <td>1000005</td>\n      <td>176456</td>\n      <td>1.0</td>\n      <td>4</td>\n      <td>-1598.0</td>\n      <td>-1606.0</td>\n      <td>14713.605</td>\n      <td>14713.605</td>\n    </tr>\n  </tbody>\n</table>\n</div>"
     },
     "execution_count": 7,
     "metadata": {},
     "output_type": "execute_result"
    }
   ]
  },
  {
   "cell_type": "code",
   "metadata": {
    "tags": [],
    "cell_id": "00004-b6c56367-d8db-4ce0-b5fd-4ccdd13c70e5",
    "deepnote_to_be_reexecuted": false,
    "source_hash": "58c54cf5",
    "execution_start": 1630374532857,
    "execution_millis": 311,
    "deepnote_cell_type": "code"
   },
   "source": [
    "pmts.SK_ID_PREV.isin(prev_apps.SK_ID_PREV).sum() / len(pmts)"
   ],
   "execution_count": 8,
   "outputs": [
    {
<<<<<<< HEAD
     "output_type": "execute_result",
     "execution_count": 7,
=======
>>>>>>> 2aa5df844e2bceaf9d04983fc493af0fb6ad6e23
     "data": {
      "text/plain": "0.9080640107557285"
     },
     "execution_count": 8,
     "metadata": {},
     "output_type": "execute_result"
    }
   ]
  },
  {
   "cell_type": "code",
   "metadata": {
    "tags": [],
    "cell_id": "00005-a2497c33-a7d4-45cb-977a-df1166a71a0a",
    "deepnote_to_be_reexecuted": false,
    "source_hash": "1251fb35",
    "execution_start": 1630374533170,
    "execution_millis": 130,
    "deepnote_cell_type": "code"
   },
   "source": [
    "pmts.SK_ID_CURR.isin(prev_apps.SK_ID_CURR).sum() / len(pmts)"
   ],
   "execution_count": 9,
   "outputs": [
    {
<<<<<<< HEAD
     "output_type": "execute_result",
     "execution_count": 8,
=======
>>>>>>> 2aa5df844e2bceaf9d04983fc493af0fb6ad6e23
     "data": {
      "text/plain": "0.9937777651684063"
     },
     "execution_count": 9,
     "metadata": {},
     "output_type": "execute_result"
    }
   ]
  },
  {
   "cell_type": "code",
   "metadata": {
    "tags": [],
    "cell_id": "00003-5a92993a-4d59-4734-b2a3-dcc582dd15f9",
    "deepnote_to_be_reexecuted": false,
    "source_hash": "b636754c",
    "execution_start": 1630374533297,
    "execution_millis": 447,
    "deepnote_cell_type": "code"
   },
   "source": [
    "pmts[ ~pmts.SK_ID_PREV.isin(prev_apps.SK_ID_PREV) ].SK_ID_CURR.value_counts()"
   ],
   "execution_count": 10,
   "outputs": [
    {
<<<<<<< HEAD
     "output_type": "execute_result",
     "execution_count": 9,
=======
>>>>>>> 2aa5df844e2bceaf9d04983fc493af0fb6ad6e23
     "data": {
      "text/plain": "217360    279\n212238    248\n343828    224\n335207    223\n263929    222\n         ... \n395638      1\n222500      1\n194125      1\n181520      1\n116273      1\nName: SK_ID_CURR, Length: 35227, dtype: int64"
     },
     "execution_count": 10,
     "metadata": {},
     "output_type": "execute_result"
    }
   ]
  },
  {
   "cell_type": "code",
   "metadata": {
    "tags": [],
    "cell_id": "00004-bcd7c4a8-62d8-47c2-b68b-43ec8739fdad",
    "deepnote_to_be_reexecuted": false,
    "source_hash": "1a2d6bc6",
    "execution_start": 1630374533734,
    "execution_millis": 0,
    "deepnote_cell_type": "code"
   },
   "source": [
    "# sns.scatterplot(install_pmts.AMT_INSTALMENT, install_pmts.AMT_PAYMENT)\n",
    "# sns.lineplot([0, max(install_pmts.AMT_INSTALMENT)], [0, max(install_pmts.AMT_PAYMENT)])\n"
   ],
   "execution_count": 11,
   "outputs": []
  },
  {
   "cell_type": "code",
   "metadata": {
    "tags": [],
    "cell_id": "00004-f46de0f9-aed5-4fa4-8ed7-0e18ee299576",
    "deepnote_to_be_reexecuted": false,
    "source_hash": "f2141b6f",
    "execution_start": 1630374533741,
    "execution_millis": 311,
    "deepnote_cell_type": "code"
   },
   "source": [
    "print(len(pmts[pmts.AMT_PAYMENT >= pmts.AMT_INSTALMENT]) / len(pmts) )\n",
    "print(len(pmts[pmts.AMT_PAYMENT < pmts.AMT_INSTALMENT]) / len(pmts) )"
   ],
   "execution_count": 12,
   "outputs": [
    {
<<<<<<< HEAD
     "output_type": "error",
     "ename": "NameError",
     "evalue": "name 'install_pmts' is not defined",
     "traceback": [
      "\u001b[0;31m---------------------------------------------------------------------------\u001b[0m",
      "\u001b[0;31mNameError\u001b[0m                                 Traceback (most recent call last)",
      "\u001b[0;32m/tmp/ipykernel_168/2221258930.py\u001b[0m in \u001b[0;36m<module>\u001b[0;34m\u001b[0m\n\u001b[0;32m----> 1\u001b[0;31m \u001b[0mprint\u001b[0m\u001b[0;34m(\u001b[0m\u001b[0mlen\u001b[0m\u001b[0;34m(\u001b[0m\u001b[0minstall_pmts\u001b[0m\u001b[0;34m[\u001b[0m\u001b[0minstall_pmts\u001b[0m\u001b[0;34m.\u001b[0m\u001b[0mAMT_PAYMENT\u001b[0m \u001b[0;34m>=\u001b[0m \u001b[0minstall_pmts\u001b[0m\u001b[0;34m.\u001b[0m\u001b[0mAMT_INSTALMENT\u001b[0m\u001b[0;34m]\u001b[0m\u001b[0;34m)\u001b[0m \u001b[0;34m/\u001b[0m \u001b[0mlen\u001b[0m\u001b[0;34m(\u001b[0m\u001b[0minstall_pmts\u001b[0m\u001b[0;34m)\u001b[0m \u001b[0;34m)\u001b[0m\u001b[0;34m\u001b[0m\u001b[0;34m\u001b[0m\u001b[0m\n\u001b[0m\u001b[1;32m      2\u001b[0m \u001b[0mprint\u001b[0m\u001b[0;34m(\u001b[0m\u001b[0mlen\u001b[0m\u001b[0;34m(\u001b[0m\u001b[0minstall_pmts\u001b[0m\u001b[0;34m[\u001b[0m\u001b[0minstall_pmts\u001b[0m\u001b[0;34m.\u001b[0m\u001b[0mAMT_PAYMENT\u001b[0m \u001b[0;34m<\u001b[0m \u001b[0minstall_pmts\u001b[0m\u001b[0;34m.\u001b[0m\u001b[0mAMT_INSTALMENT\u001b[0m\u001b[0;34m]\u001b[0m\u001b[0;34m)\u001b[0m \u001b[0;34m/\u001b[0m \u001b[0mlen\u001b[0m\u001b[0;34m(\u001b[0m\u001b[0minstall_pmts\u001b[0m\u001b[0;34m)\u001b[0m \u001b[0;34m)\u001b[0m\u001b[0;34m\u001b[0m\u001b[0;34m\u001b[0m\u001b[0m\n",
      "\u001b[0;31mNameError\u001b[0m: name 'install_pmts' is not defined"
=======
     "name": "stdout",
     "output_type": "stream",
     "text": [
      "0.9045674581734121\n",
      "0.09521902368037517\n"
>>>>>>> 2aa5df844e2bceaf9d04983fc493af0fb6ad6e23
     ]
    }
   ]
  },
  {
   "cell_type": "code",
   "metadata": {
    "tags": [],
    "cell_id": "00004-b2ad3a39-1a98-43fb-acf8-7cb1a40ea0d4",
    "deepnote_to_be_reexecuted": true,
    "source_hash": "cd59e00d",
    "deepnote_cell_type": "code"
   },
   "source": [
    "sns.histplot(pmts.AMT_PAYMENT)"
   ],
   "execution_count": 14,
   "outputs": [
    {
     "ename": "AttributeError",
     "evalue": "module 'seaborn' has no attribute 'histplot'",
     "output_type": "error",
     "traceback": [
      "\u001B[1;31m---------------------------------------------------------------------------\u001B[0m",
      "\u001B[1;31mAttributeError\u001B[0m                            Traceback (most recent call last)",
      "\u001B[1;32m<ipython-input-14-29b5c960836a>\u001B[0m in \u001B[0;36m<module>\u001B[1;34m\u001B[0m\n\u001B[1;32m----> 1\u001B[1;33m \u001B[0msns\u001B[0m\u001B[1;33m.\u001B[0m\u001B[0mhistplot\u001B[0m\u001B[1;33m(\u001B[0m\u001B[0mpmts\u001B[0m\u001B[1;33m.\u001B[0m\u001B[0mAMT_PAYMENT\u001B[0m\u001B[1;33m)\u001B[0m\u001B[1;33m\u001B[0m\u001B[1;33m\u001B[0m\u001B[0m\n\u001B[0m\u001B[0;32m      2\u001B[0m \u001B[1;33m\u001B[0m\u001B[0m\n",
      "\u001B[1;31mAttributeError\u001B[0m: module 'seaborn' has no attribute 'histplot'"
     ]
    }
   ]
  },
  {
   "cell_type": "code",
   "metadata": {
    "tags": [],
    "cell_id": "00004-2a7e0b5d-8b09-40cc-9d1e-bba01a76d0c6",
    "deepnote_to_be_reexecuted": true,
    "source_hash": "bd614ea0",
    "deepnote_cell_type": "code"
   },
   "source": [
    "# sns.histplot(install_pmts.AMT_PAYMENT - install_pmts.AMT_INSTALMENT, bins = 100)"
   ],
   "execution_count": null,
   "outputs": []
  },
  {
   "cell_type": "code",
   "metadata": {
    "tags": [],
    "cell_id": "00004-9b494943-0ed2-41cf-a881-a31e3d1d9e55",
    "deepnote_to_be_reexecuted": true,
    "source_hash": "34656343",
    "deepnote_cell_type": "code"
   },
   "source": "# sns.scatterplot(install_pmts.AMT_INSTALMENT, install_pmts.AMT_PAYMENT - install_pmts.AMT_INSTALMENT)",
   "execution_count": null,
   "outputs": []
  },
  {
   "cell_type": "code",
   "metadata": {
    "tags": [],
    "cell_id": "00004-9a232ec2-a0a4-4a59-b6db-9313f1bd6573",
    "deepnote_to_be_reexecuted": true,
    "source_hash": "ce4eeaf4",
    "deepnote_cell_type": "code"
   },
   "source": "install_pmts[install_pmts.AMT_PAYMENT == 0].SK_ID_CURR.value_counts()",
   "execution_count": null,
   "outputs": []
  },
  {
   "cell_type": "code",
   "metadata": {
    "tags": [],
    "cell_id": "00004-64550d50-919a-4318-9512-fcc57d0ae8bc",
    "deepnote_to_be_reexecuted": true,
    "source_hash": "8f16178c",
    "deepnote_cell_type": "code"
   },
   "source": "missed_pmts = pd.DataFrame(install_pmts[install_pmts.AMT_PAYMENT == 0].SK_ID_CURR.value_counts()).reset_index()\nmissed_pmts.columns = [\"SK_ID_CURR\", \"Pmts_Missed\"]\nmissed_pmts",
   "execution_count": null,
   "outputs": []
  },
  {
   "cell_type": "code",
   "metadata": {
    "tags": [],
    "cell_id": "00004-0fcdb0a4-2502-42a7-b524-3ed3dd1a3054",
    "deepnote_to_be_reexecuted": true,
    "source_hash": "87c372d9",
    "deepnote_cell_type": "code"
   },
   "source": "missed_pmts[missed_pmts.Pmts_Missed > 1]",
   "execution_count": null,
   "outputs": []
  },
  {
   "cell_type": "code",
   "metadata": {
    "tags": [],
    "cell_id": "00004-a2c40fe8-a81e-47b7-b72c-5e1d1bc35b6e",
    "deepnote_to_be_reexecuted": true,
    "source_hash": "d104e8a0",
    "deepnote_cell_type": "code"
   },
   "source": "under_paid = pd.DataFrame(install_pmts[install_pmts.AMT_PAYMENT < install_pmts.AMT_INSTALMENT].SK_ID_CURR.value_counts()).reset_index()\nunder_paid",
   "execution_count": null,
   "outputs": []
  },
  {
   "cell_type": "code",
   "metadata": {
    "tags": [],
    "cell_id": "00004-09e62c59-cab9-4197-b1cd-b0c1307a65fc",
    "deepnote_to_be_reexecuted": true,
    "source_hash": "b623e53d",
    "deepnote_cell_type": "code"
   },
   "source": "",
   "execution_count": null,
   "outputs": []
  },
  {
   "cell_type": "code",
   "metadata": {
    "tags": [],
    "cell_id": "00004-b2d5663a-7c83-4c66-a12d-aca6a36c4921",
    "deepnote_to_be_reexecuted": true,
    "source_hash": "b623e53d",
    "deepnote_cell_type": "code"
   },
   "source": "",
   "execution_count": null,
   "outputs": []
  },
  {
   "cell_type": "code",
   "metadata": {
    "tags": [],
    "cell_id": "00004-a4e63067-a5b6-4b95-b0a6-998b96e23dc1",
    "deepnote_to_be_reexecuted": true,
    "source_hash": "b623e53d",
    "deepnote_cell_type": "code"
   },
   "source": "",
   "execution_count": null,
   "outputs": []
  },
  {
   "cell_type": "code",
   "metadata": {
    "tags": [],
    "cell_id": "00004-7e551302-14ce-4755-b1a7-4d84987ae740",
    "deepnote_to_be_reexecuted": true,
    "source_hash": "b623e53d",
    "deepnote_cell_type": "code"
   },
   "source": "",
   "execution_count": null,
   "outputs": []
  },
  {
   "cell_type": "code",
   "metadata": {
    "tags": [],
    "cell_id": "00004-2432da00-d74f-4702-b1ee-58784238914e",
    "deepnote_to_be_reexecuted": true,
    "source_hash": "b623e53d",
    "deepnote_cell_type": "code"
   },
   "source": "",
   "execution_count": null,
   "outputs": []
  },
  {
   "cell_type": "code",
   "metadata": {
    "tags": [],
    "cell_id": "00004-42ade439-5446-46f0-8e0a-08e27c052221",
    "deepnote_to_be_reexecuted": true,
    "source_hash": "b623e53d",
    "deepnote_cell_type": "code"
   },
   "source": "",
   "execution_count": null,
   "outputs": []
  },
  {
   "cell_type": "code",
   "metadata": {
    "tags": [],
    "cell_id": "00004-cd0e9bc9-edfe-4c37-8540-9658f075d4bc",
    "deepnote_to_be_reexecuted": true,
    "source_hash": "b623e53d",
    "deepnote_cell_type": "code"
   },
   "source": "",
   "execution_count": null,
   "outputs": []
  },
  {
   "cell_type": "code",
   "metadata": {
    "tags": [],
    "cell_id": "00004-db2dbf8f-3063-4000-b054-895f3593f789",
    "deepnote_to_be_reexecuted": true,
    "source_hash": "b623e53d",
    "deepnote_cell_type": "code"
   },
   "source": "",
   "execution_count": null,
   "outputs": []
  },
  {
   "cell_type": "code",
   "metadata": {
    "tags": [],
    "cell_id": "00004-1f1cd8ae-0c49-4428-b653-54d69c2a51fc",
    "deepnote_to_be_reexecuted": true,
    "source_hash": "b623e53d",
    "deepnote_cell_type": "code"
   },
   "source": "",
   "execution_count": null,
   "outputs": []
  },
  {
   "cell_type": "code",
   "metadata": {
    "tags": [],
    "cell_id": "00004-59a49e88-ca8e-46bf-b354-dd25780882f3",
    "deepnote_to_be_reexecuted": true,
    "source_hash": "b623e53d",
    "deepnote_cell_type": "code"
   },
   "source": "",
   "execution_count": null,
   "outputs": []
  },
  {
   "cell_type": "code",
   "metadata": {
    "tags": [],
    "cell_id": "00004-d201b0ae-00f8-4191-89fe-180c08f031bf",
    "deepnote_to_be_reexecuted": true,
    "source_hash": "b623e53d",
    "deepnote_cell_type": "code"
   },
   "source": "",
   "execution_count": null,
   "outputs": []
  },
  {
   "cell_type": "code",
   "metadata": {
    "tags": [],
    "cell_id": "00004-39ed83fd-1ad1-4223-b23e-16de8f8d0d57",
    "deepnote_to_be_reexecuted": true,
    "source_hash": "b623e53d",
    "deepnote_cell_type": "code"
   },
   "source": "",
   "execution_count": null,
   "outputs": []
  },
  {
   "cell_type": "code",
   "metadata": {
    "tags": [],
    "cell_id": "00004-e080da1c-a3a4-4073-aba4-802501a030ab",
    "deepnote_to_be_reexecuted": true,
    "source_hash": "b623e53d",
    "deepnote_cell_type": "code"
   },
   "source": "",
   "execution_count": null,
   "outputs": []
  },
  {
   "cell_type": "code",
   "metadata": {
    "tags": [],
    "cell_id": "00004-5d24c084-b500-46d3-9f57-19e05bcdda31",
    "deepnote_to_be_reexecuted": true,
    "source_hash": "b623e53d",
    "deepnote_cell_type": "code"
   },
   "source": "",
   "execution_count": null,
   "outputs": []
  },
  {
   "cell_type": "code",
   "metadata": {
    "tags": [],
    "cell_id": "00004-63307c7b-2c12-4b00-ad0d-7f8bb5dced7e",
    "deepnote_to_be_reexecuted": true,
    "source_hash": "b623e53d",
    "deepnote_cell_type": "code"
   },
   "source": "",
   "execution_count": null,
   "outputs": []
  },
  {
   "cell_type": "code",
   "metadata": {
    "tags": [],
    "cell_id": "00004-9b4c5fb1-8661-47c0-831f-a099b80d35d4",
    "deepnote_to_be_reexecuted": true,
    "source_hash": "b623e53d",
    "deepnote_cell_type": "code"
   },
   "source": "",
   "execution_count": null,
   "outputs": []
  },
  {
   "cell_type": "code",
   "metadata": {
    "tags": [],
    "cell_id": "00004-24b399f0-e3ec-4265-bf7c-5a46c5a53bde",
    "deepnote_to_be_reexecuted": true,
    "source_hash": "b623e53d",
    "deepnote_cell_type": "code"
   },
   "source": "",
   "execution_count": null,
   "outputs": []
  },
  {
   "cell_type": "code",
   "metadata": {
    "tags": [],
    "cell_id": "00004-de7983b0-d83d-4356-b39e-9f8eb4ff4716",
    "deepnote_to_be_reexecuted": true,
    "source_hash": "b623e53d",
    "deepnote_cell_type": "code"
   },
   "source": "",
   "execution_count": null,
   "outputs": []
  },
  {
   "cell_type": "code",
   "metadata": {
    "tags": [],
    "cell_id": "00004-087d3417-b4bc-4551-a3c4-de4a21aa9b65",
    "deepnote_to_be_reexecuted": true,
    "source_hash": "b623e53d",
    "deepnote_cell_type": "code"
   },
   "source": "",
   "execution_count": null,
   "outputs": []
  },
  {
   "cell_type": "code",
   "metadata": {
    "tags": [],
    "cell_id": "00004-0d5060f5-2998-4d00-b683-fc5b74010261",
    "deepnote_to_be_reexecuted": true,
    "source_hash": "b623e53d",
    "deepnote_cell_type": "code"
   },
   "source": "",
   "execution_count": null,
   "outputs": []
  },
  {
   "cell_type": "code",
   "metadata": {
    "tags": [],
    "cell_id": "00004-7e65d1f3-ee0a-4213-a09e-8adf0cc215af",
    "deepnote_to_be_reexecuted": true,
    "source_hash": "b623e53d",
    "deepnote_cell_type": "code"
   },
   "source": "",
   "execution_count": null,
   "outputs": []
  },
  {
   "cell_type": "code",
   "metadata": {
    "tags": [],
    "cell_id": "00004-14e8b0f1-3c17-4238-8cb8-3419ebe5d287",
    "deepnote_to_be_reexecuted": true,
    "source_hash": "b623e53d",
    "deepnote_cell_type": "code"
   },
   "source": "",
   "execution_count": null,
   "outputs": []
  },
  {
   "cell_type": "code",
   "metadata": {
    "tags": [],
    "cell_id": "00004-240ed19e-19b2-43f7-8e01-77e499079ba8",
    "deepnote_to_be_reexecuted": true,
    "source_hash": "b623e53d",
    "deepnote_cell_type": "code"
   },
   "source": "",
   "execution_count": null,
   "outputs": []
  },
  {
   "cell_type": "code",
   "metadata": {
    "tags": [],
    "cell_id": "00004-7cc1c8f5-95d7-46ed-831d-b042de8893ab",
    "deepnote_to_be_reexecuted": true,
    "source_hash": "b623e53d",
    "deepnote_cell_type": "code"
   },
   "source": "",
   "execution_count": null,
   "outputs": []
  },
  {
   "cell_type": "code",
   "metadata": {
    "tags": [],
    "cell_id": "00004-9f796d8b-b111-473a-8828-44f6989c192d",
    "deepnote_to_be_reexecuted": true,
    "source_hash": "b623e53d",
    "deepnote_cell_type": "code"
   },
   "source": "",
   "execution_count": null,
   "outputs": []
  },
  {
   "cell_type": "code",
   "metadata": {
    "tags": [],
    "cell_id": "00004-28c6b527-d218-4c2c-94cd-6373776a2f37",
    "deepnote_to_be_reexecuted": true,
    "source_hash": "b623e53d",
    "deepnote_cell_type": "code"
   },
   "source": "",
   "execution_count": null,
   "outputs": []
  },
  {
   "cell_type": "code",
   "metadata": {
    "tags": [],
    "cell_id": "00004-434ba056-d3f6-434a-9d8e-16e79e9482c8",
    "deepnote_to_be_reexecuted": true,
    "source_hash": "b623e53d",
    "deepnote_cell_type": "code"
   },
   "source": "",
   "execution_count": null,
   "outputs": []
  },
  {
   "cell_type": "code",
   "metadata": {
    "tags": [],
    "cell_id": "00004-cd360f29-96c3-4e74-911f-c45c584f3ecf",
    "deepnote_to_be_reexecuted": true,
    "source_hash": "b623e53d",
    "deepnote_cell_type": "code"
   },
   "source": "",
   "execution_count": null,
   "outputs": []
  },
  {
   "cell_type": "code",
   "metadata": {
    "tags": [],
    "cell_id": "00004-839696ed-c1af-44d1-95f9-f1974fccf154",
    "deepnote_to_be_reexecuted": true,
    "source_hash": "b623e53d",
    "deepnote_cell_type": "code"
   },
   "source": "",
   "execution_count": null,
   "outputs": []
  },
  {
   "cell_type": "code",
   "metadata": {
    "tags": [],
    "cell_id": "00004-de4a3246-a8db-4077-a960-c0e4e18f9266",
    "deepnote_to_be_reexecuted": true,
    "source_hash": "b623e53d",
    "deepnote_cell_type": "code"
   },
   "source": "",
   "execution_count": null,
   "outputs": []
  },
  {
   "cell_type": "code",
   "metadata": {
    "tags": [],
    "cell_id": "00004-a3adb007-b227-4c0c-993e-e93876cb23bc",
    "deepnote_to_be_reexecuted": true,
    "source_hash": "b623e53d",
    "deepnote_cell_type": "code"
   },
   "source": "",
   "execution_count": null,
   "outputs": []
  },
  {
   "cell_type": "code",
   "metadata": {
    "tags": [],
    "cell_id": "00004-82a412be-a604-4b32-8ec6-40a72c12745b",
    "deepnote_to_be_reexecuted": true,
    "source_hash": "b623e53d",
    "deepnote_cell_type": "code"
   },
   "source": "",
   "execution_count": null,
   "outputs": []
  },
  {
   "cell_type": "code",
   "metadata": {
    "tags": [],
    "cell_id": "00004-8100f77c-3913-4dad-a682-f9b34cbf9ff1",
    "deepnote_to_be_reexecuted": true,
    "source_hash": "b623e53d",
    "deepnote_cell_type": "code"
   },
   "source": "",
   "execution_count": null,
   "outputs": []
  },
  {
   "cell_type": "code",
   "metadata": {
    "tags": [],
    "cell_id": "00004-ccd79d72-038f-442b-839e-c9f5a6fcd051",
    "deepnote_to_be_reexecuted": true,
    "source_hash": "b623e53d",
    "deepnote_cell_type": "code"
   },
   "source": "",
   "execution_count": null,
   "outputs": []
  },
  {
   "cell_type": "code",
   "metadata": {
    "tags": [],
    "cell_id": "00004-bf71c9c1-e83f-4508-b0d6-9cac23b4cfe8",
    "deepnote_to_be_reexecuted": true,
    "source_hash": "b623e53d",
    "deepnote_cell_type": "code"
   },
   "source": "",
   "execution_count": null,
   "outputs": []
  },
  {
   "cell_type": "code",
   "metadata": {
    "tags": [],
    "cell_id": "00004-407bcf1e-c6d0-4982-83c2-0f0fb9981aae",
    "deepnote_to_be_reexecuted": true,
    "source_hash": "b623e53d",
    "deepnote_cell_type": "code"
   },
   "source": "",
   "execution_count": null,
   "outputs": []
  },
  {
   "cell_type": "code",
   "metadata": {
    "tags": [],
    "cell_id": "00004-b9d9a771-ffb3-4476-bc2e-70aacf55f2bd",
    "deepnote_to_be_reexecuted": true,
    "source_hash": "b623e53d",
    "deepnote_cell_type": "code"
   },
   "source": "",
   "execution_count": null,
   "outputs": []
  },
  {
   "cell_type": "code",
   "metadata": {
    "tags": [],
    "cell_id": "00004-d25c112d-f1bb-4d8d-a524-f6f6652d43cf",
    "deepnote_to_be_reexecuted": true,
    "source_hash": "b623e53d",
    "deepnote_cell_type": "code"
   },
   "source": "",
   "execution_count": null,
   "outputs": []
  },
  {
   "cell_type": "code",
   "metadata": {
    "tags": [],
    "cell_id": "00004-5e2eb919-7dae-4d6d-8cc4-ff97b8a9f92e",
    "deepnote_to_be_reexecuted": true,
    "source_hash": "b623e53d",
    "deepnote_cell_type": "code"
   },
   "source": "",
   "execution_count": null,
   "outputs": []
  },
  {
   "cell_type": "code",
   "metadata": {
    "tags": [],
    "cell_id": "00004-77a370a5-0d81-4a6e-9ff2-684f3064f7d1",
    "deepnote_to_be_reexecuted": true,
    "source_hash": "b623e53d",
    "deepnote_cell_type": "code"
   },
   "source": "",
   "execution_count": null,
   "outputs": []
  },
  {
   "cell_type": "code",
   "metadata": {
    "tags": [],
    "cell_id": "00004-5ed816d7-1dec-4a3a-8826-7cd4b8d89e3d",
    "deepnote_to_be_reexecuted": true,
    "source_hash": "b623e53d",
    "deepnote_cell_type": "code"
   },
   "source": "",
   "execution_count": null,
   "outputs": []
  },
  {
   "cell_type": "code",
   "metadata": {
    "tags": [],
    "cell_id": "00004-e3904e3f-054b-4dde-9c21-ddf728d384f2",
    "deepnote_to_be_reexecuted": true,
    "source_hash": "b623e53d",
    "deepnote_cell_type": "code"
   },
   "source": "",
   "execution_count": null,
   "outputs": []
  },
  {
   "cell_type": "code",
   "metadata": {
    "tags": [],
    "cell_id": "00004-4c0563e0-eb08-4136-984e-28e497324850",
    "deepnote_to_be_reexecuted": true,
    "source_hash": "b623e53d",
    "deepnote_cell_type": "code"
   },
   "source": "",
   "execution_count": null,
   "outputs": []
  },
  {
   "cell_type": "code",
   "metadata": {
    "tags": [],
    "cell_id": "00004-04e57a30-8f4b-40e0-9ea0-ce7dea1a24aa",
    "deepnote_to_be_reexecuted": true,
    "source_hash": "b623e53d",
    "deepnote_cell_type": "code"
   },
   "source": "",
   "execution_count": null,
   "outputs": []
  },
  {
   "cell_type": "code",
   "metadata": {
    "tags": [],
    "cell_id": "00004-853f03c9-2cd4-4cd5-95cf-9766802d3415",
    "deepnote_to_be_reexecuted": true,
    "source_hash": "b623e53d",
    "deepnote_cell_type": "code"
   },
   "source": "",
   "execution_count": null,
   "outputs": []
  },
  {
   "cell_type": "code",
   "metadata": {
    "tags": [],
    "cell_id": "00004-462d8faf-6691-4863-be25-25a3ec9a1c3c",
    "deepnote_to_be_reexecuted": true,
    "source_hash": "b623e53d",
    "deepnote_cell_type": "code"
   },
   "source": "",
   "execution_count": null,
   "outputs": []
  },
  {
   "cell_type": "code",
   "metadata": {
    "tags": [],
    "cell_id": "00004-f046ea29-c4fa-4cc1-9f4b-17d9173332d0",
    "deepnote_to_be_reexecuted": true,
    "source_hash": "b623e53d",
    "deepnote_cell_type": "code"
   },
   "source": "",
   "execution_count": null,
   "outputs": []
  },
  {
   "cell_type": "markdown",
   "source": "<a style='text-decoration:none;line-height:16px;display:flex;color:#5B5B62;padding:10px;justify-content:end;' href='https://deepnote.com?utm_source=created-in-deepnote-cell&projectId=9263f292-ea73-48e7-8892-f3d3ed1db03c' target=\"_blank\">\n<img alt='Created in deepnote.com' style='display:inline;max-height:16px;margin:0px;margin-right:7.5px;' src='data:image/svg+xml;base64,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' > </img>\nCreated in <span style='font-weight:600;margin-left:4px;'>Deepnote</span></a>",
   "metadata": {
    "tags": [],
    "created_in_deepnote_cell": true,
    "deepnote_cell_type": "markdown"
   }
  }
 ],
 "nbformat": 4,
 "nbformat_minor": 2,
 "metadata": {
  "orig_nbformat": 2,
  "deepnote": {
   "is_reactive": false
  },
  "deepnote_notebook_id": "4c611f5f-4d6d-47e2-b313-00cd05d70a55",
  "deepnote_execution_queue": [],
  "kernelspec": {
   "name": "python3",
   "language": "python",
   "display_name": "Python 3"
  }
 }
}
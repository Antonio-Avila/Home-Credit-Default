{
 "cells": [
  {
   "cell_type": "markdown",
   "source": "# Installment Payments Dataset\n",
   "metadata": {
    "tags": [],
    "cell_id": "00000-706be469-62fe-43ca-bb22-97f6811168be",
    "deepnote_cell_type": "markdown"
   }
  },
  {
   "cell_type": "code",
   "metadata": {
    "tags": [],
    "cell_id": "00000-6e1c6509-c8ff-4b9f-a794-31d5e6183ebb",
    "deepnote_to_be_reexecuted": false,
    "source_hash": "cd7908b3",
    "execution_start": 1630434368508,
    "execution_millis": 2729,
    "deepnote_cell_type": "code"
   },
   "source": "import pandas as pd\nimport numpy as np\nimport matplotlib.pyplot as plt\n%matplotlib inline\nplt.style.use(\"ggplot\")\nimport pylab\npylab.rcParams['figure.figsize'] = (15, 10)\n\nimport seaborn as sns\nimport time\nfrom scipy import stats",
   "execution_count": 1,
   "outputs": []
  },
  {
   "cell_type": "code",
   "metadata": {
    "tags": [],
    "cell_id": "00001-e3419dcf-7ed7-423f-aac2-6837de80709e",
    "deepnote_to_be_reexecuted": false,
    "source_hash": "407775",
    "execution_start": 1630434657382,
    "execution_millis": 20772,
    "deepnote_cell_type": "code"
   },
   "source": "# app_train = pd.read_csv('app_train_red.csv', index_col = 0)\nprev_apps = pd.read_csv(\"previous_application.csv\")\npmts = pd.read_csv(\"installments_payments.csv\")",
   "execution_count": 2,
   "outputs": []
  },
  {
   "cell_type": "code",
   "metadata": {
    "tags": [],
    "cell_id": "00003-c4ff8068-251b-491e-9f50-166023ff49bc",
    "deepnote_to_be_reexecuted": false,
    "source_hash": "e8937136",
    "execution_start": 1630374515133,
    "execution_millis": 2249,
    "deepnote_cell_type": "code"
   },
   "source": "prev_apps.sort_values([\"SK_ID_PREV\"]).head(20)",
   "execution_count": null,
   "outputs": [
    {
     "output_type": "execute_result",
     "execution_count": 3,
     "data": {
      "application/vnd.deepnote.dataframe.v2+json": {
       "row_count": 20,
       "column_count": 37,
       "columns": [
        {
         "name": "SK_ID_PREV",
         "dtype": "int64",
         "stats": {
          "unique_count": 20,
          "nan_count": 0,
          "min": "1000001",
          "max": "1000020",
          "histogram": [
           {
            "bin_start": 1000001,
            "bin_end": 1000002.9,
            "count": 2
           },
           {
            "bin_start": 1000002.9,
            "bin_end": 1000004.8,
            "count": 2
           },
           {
            "bin_start": 1000004.8,
            "bin_end": 1000006.7,
            "count": 2
           },
           {
            "bin_start": 1000006.7,
            "bin_end": 1000008.6,
            "count": 2
           },
           {
            "bin_start": 1000008.6,
            "bin_end": 1000010.5,
            "count": 2
           },
           {
            "bin_start": 1000010.5,
            "bin_end": 1000012.4,
            "count": 2
           },
           {
            "bin_start": 1000012.4,
            "bin_end": 1000014.3,
            "count": 2
           },
           {
            "bin_start": 1000014.3,
            "bin_end": 1000016.2,
            "count": 2
           },
           {
            "bin_start": 1000016.2,
            "bin_end": 1000018.1,
            "count": 2
           },
           {
            "bin_start": 1000018.1,
            "bin_end": 1000020,
            "count": 2
           }
          ]
         }
        },
        {
         "name": "SK_ID_CURR",
         "dtype": "int64",
         "stats": {
          "unique_count": 19,
          "nan_count": 0,
          "min": "101962",
          "max": "427505",
          "histogram": [
           {
            "bin_start": 101962,
            "bin_end": 134516.3,
            "count": 1
           },
           {
            "bin_start": 134516.3,
            "bin_end": 167070.6,
            "count": 3
           },
           {
            "bin_start": 167070.6,
            "bin_end": 199624.9,
            "count": 3
           },
           {
            "bin_start": 199624.9,
            "bin_end": 232179.2,
            "count": 1
           },
           {
            "bin_start": 232179.2,
            "bin_end": 264733.5,
            "count": 3
           },
           {
            "bin_start": 264733.5,
            "bin_end": 297287.8,
            "count": 0
           },
           {
            "bin_start": 297287.8,
            "bin_end": 329842.1,
            "count": 3
           },
           {
            "bin_start": 329842.1,
            "bin_end": 362396.4,
            "count": 2
           },
           {
            "bin_start": 362396.4,
            "bin_end": 394950.7,
            "count": 3
           },
           {
            "bin_start": 394950.7,
            "bin_end": 427505,
            "count": 1
           }
          ]
         }
        },
        {
         "name": "NAME_CONTRACT_TYPE",
         "dtype": "object",
         "stats": {
          "unique_count": 3,
          "nan_count": 0,
          "categories": [
           {
            "name": "Consumer loans",
            "count": 17
           },
           {
            "name": "Cash loans",
            "count": 2
           },
           {
            "name": "Revolving loans",
            "count": 1
           }
          ]
         }
        },
        {
         "name": "AMT_ANNUITY",
         "dtype": "float64",
         "stats": {
          "unique_count": 20,
          "nan_count": 0,
          "min": "2250.0",
          "max": "92435.04",
          "histogram": [
           {
            "bin_start": 2250,
            "bin_end": 11268.503999999999,
            "count": 14
           },
           {
            "bin_start": 11268.503999999999,
            "bin_end": 20287.007999999998,
            "count": 3
           },
           {
            "bin_start": 20287.007999999998,
            "bin_end": 29305.511999999995,
            "count": 1
           },
           {
            "bin_start": 29305.511999999995,
            "bin_end": 38324.015999999996,
            "count": 0
           },
           {
            "bin_start": 38324.015999999996,
            "bin_end": 47342.52,
            "count": 0
           },
           {
            "bin_start": 47342.52,
            "bin_end": 56361.02399999999,
            "count": 0
           },
           {
            "bin_start": 56361.02399999999,
            "bin_end": 65379.52799999999,
            "count": 0
           },
           {
            "bin_start": 65379.52799999999,
            "bin_end": 74398.03199999999,
            "count": 0
           },
           {
            "bin_start": 74398.03199999999,
            "bin_end": 83416.536,
            "count": 1
           },
           {
            "bin_start": 83416.536,
            "bin_end": 92435.04,
            "count": 1
           }
          ]
         }
        },
        {
         "name": "AMT_APPLICATION",
         "dtype": "float64",
         "stats": {
          "unique_count": 20,
          "nan_count": 0,
          "min": "32310.0",
          "max": "900000.0",
          "histogram": [
           {
            "bin_start": 32310,
            "bin_end": 119079,
            "count": 14
           },
           {
            "bin_start": 119079,
            "bin_end": 205848,
            "count": 3
           },
           {
            "bin_start": 205848,
            "bin_end": 292617,
            "count": 1
           },
           {
            "bin_start": 292617,
            "bin_end": 379386,
            "count": 0
           },
           {
            "bin_start": 379386,
            "bin_end": 466155,
            "count": 0
           },
           {
            "bin_start": 466155,
            "bin_end": 552924,
            "count": 0
           },
           {
            "bin_start": 552924,
            "bin_end": 639693,
            "count": 0
           },
           {
            "bin_start": 639693,
            "bin_end": 726462,
            "count": 0
           },
           {
            "bin_start": 726462,
            "bin_end": 813231,
            "count": 0
           },
           {
            "bin_start": 813231,
            "bin_end": 900000,
            "count": 2
           }
          ]
         }
        },
        {
         "name": "AMT_CREDIT",
         "dtype": "float64",
         "stats": {
          "unique_count": 20,
          "nan_count": 0,
          "min": "30586.5",
          "max": "900000.0",
          "histogram": [
           {
            "bin_start": 30586.5,
            "bin_end": 117527.85,
            "count": 14
           },
           {
            "bin_start": 117527.85,
            "bin_end": 204469.2,
            "count": 3
           },
           {
            "bin_start": 204469.2,
            "bin_end": 291410.55000000005,
            "count": 1
           },
           {
            "bin_start": 291410.55000000005,
            "bin_end": 378351.9,
            "count": 0
           },
           {
            "bin_start": 378351.9,
            "bin_end": 465293.25,
            "count": 0
           },
           {
            "bin_start": 465293.25,
            "bin_end": 552234.6000000001,
            "count": 0
           },
           {
            "bin_start": 552234.6000000001,
            "bin_end": 639175.9500000001,
            "count": 0
           },
           {
            "bin_start": 639175.9500000001,
            "bin_end": 726117.3,
            "count": 0
           },
           {
            "bin_start": 726117.3,
            "bin_end": 813058.65,
            "count": 0
           },
           {
            "bin_start": 813058.65,
            "bin_end": 900000,
            "count": 2
           }
          ]
         }
        },
        {
         "name": "AMT_DOWN_PAYMENT",
         "dtype": "float64",
         "stats": {
          "unique_count": 12,
          "nan_count": 3,
          "min": "0.0",
          "max": "24930.0",
          "histogram": [
           {
            "bin_start": 0,
            "bin_end": 2493,
            "count": 7
           },
           {
            "bin_start": 2493,
            "bin_end": 4986,
            "count": 2
           },
           {
            "bin_start": 4986,
            "bin_end": 7479,
            "count": 3
           },
           {
            "bin_start": 7479,
            "bin_end": 9972,
            "count": 0
           },
           {
            "bin_start": 9972,
            "bin_end": 12465,
            "count": 1
           },
           {
            "bin_start": 12465,
            "bin_end": 14958,
            "count": 2
           },
           {
            "bin_start": 14958,
            "bin_end": 17451,
            "count": 1
           },
           {
            "bin_start": 17451,
            "bin_end": 19944,
            "count": 0
           },
           {
            "bin_start": 19944,
            "bin_end": 22437,
            "count": 0
           },
           {
            "bin_start": 22437,
            "bin_end": 24930,
            "count": 1
           }
          ]
         }
        },
        {
         "name": "AMT_GOODS_PRICE",
         "dtype": "float64",
         "stats": {
          "unique_count": 20,
          "nan_count": 0,
          "min": "32310.0",
          "max": "900000.0",
          "histogram": [
           {
            "bin_start": 32310,
            "bin_end": 119079,
            "count": 14
           },
           {
            "bin_start": 119079,
            "bin_end": 205848,
            "count": 3
           },
           {
            "bin_start": 205848,
            "bin_end": 292617,
            "count": 1
           },
           {
            "bin_start": 292617,
            "bin_end": 379386,
            "count": 0
           },
           {
            "bin_start": 379386,
            "bin_end": 466155,
            "count": 0
           },
           {
            "bin_start": 466155,
            "bin_end": 552924,
            "count": 0
           },
           {
            "bin_start": 552924,
            "bin_end": 639693,
            "count": 0
           },
           {
            "bin_start": 639693,
            "bin_end": 726462,
            "count": 0
           },
           {
            "bin_start": 726462,
            "bin_end": 813231,
            "count": 0
           },
           {
            "bin_start": 813231,
            "bin_end": 900000,
            "count": 2
           }
          ]
         }
        },
        {
         "name": "WEEKDAY_APPR_PROCESS_START",
         "dtype": "object",
         "stats": {
          "unique_count": 7,
          "nan_count": 0,
          "categories": [
           {
            "name": "SUNDAY",
            "count": 6
           },
           {
            "name": "THURSDAY",
            "count": 5
           },
           {
            "name": "5 others",
            "count": 9
           }
          ]
         }
        },
        {
         "name": "HOUR_APPR_PROCESS_START",
         "dtype": "int64",
         "stats": {
          "unique_count": 12,
          "nan_count": 0,
          "min": "8",
          "max": "19",
          "histogram": [
           {
            "bin_start": 8,
            "bin_end": 9.1,
            "count": 3
           },
           {
            "bin_start": 9.1,
            "bin_end": 10.2,
            "count": 2
           },
           {
            "bin_start": 10.2,
            "bin_end": 11.3,
            "count": 2
           },
           {
            "bin_start": 11.3,
            "bin_end": 12.4,
            "count": 1
           },
           {
            "bin_start": 12.4,
            "bin_end": 13.5,
            "count": 4
           },
           {
            "bin_start": 13.5,
            "bin_end": 14.600000000000001,
            "count": 1
           },
           {
            "bin_start": 14.600000000000001,
            "bin_end": 15.700000000000001,
            "count": 1
           },
           {
            "bin_start": 15.700000000000001,
            "bin_end": 16.8,
            "count": 1
           },
           {
            "bin_start": 16.8,
            "bin_end": 17.9,
            "count": 1
           },
           {
            "bin_start": 17.9,
            "bin_end": 19,
            "count": 4
           }
          ]
         }
        },
        {
         "name": "FLAG_LAST_APPL_PER_CONTRACT",
         "dtype": "object",
         "stats": {
          "unique_count": 1,
          "nan_count": 0,
          "categories": [
           {
            "name": "Y",
            "count": 20
           }
          ]
         }
        },
        {
         "name": "NFLAG_LAST_APPL_IN_DAY",
         "dtype": "int64",
         "stats": {
          "unique_count": 1,
          "nan_count": 0,
          "min": "1",
          "max": "1",
          "histogram": [
           {
            "bin_start": 0.5,
            "bin_end": 0.6,
            "count": 0
           },
           {
            "bin_start": 0.6,
            "bin_end": 0.7,
            "count": 0
           },
           {
            "bin_start": 0.7,
            "bin_end": 0.8,
            "count": 0
           },
           {
            "bin_start": 0.8,
            "bin_end": 0.9,
            "count": 0
           },
           {
            "bin_start": 0.9,
            "bin_end": 1,
            "count": 0
           },
           {
            "bin_start": 1,
            "bin_end": 1.1,
            "count": 20
           },
           {
            "bin_start": 1.1,
            "bin_end": 1.2000000000000002,
            "count": 0
           },
           {
            "bin_start": 1.2000000000000002,
            "bin_end": 1.3,
            "count": 0
           },
           {
            "bin_start": 1.3,
            "bin_end": 1.4,
            "count": 0
           },
           {
            "bin_start": 1.4,
            "bin_end": 1.5,
            "count": 0
           }
          ]
         }
        },
        {
         "name": "RATE_DOWN_PAYMENT",
         "dtype": "float64",
         "stats": {
          "unique_count": 13,
          "nan_count": 3,
          "min": "0.0",
          "max": "0.2266421148219149",
          "histogram": [
           {
            "bin_start": 0,
            "bin_end": 0.02266421148219149,
            "count": 7
           },
           {
            "bin_start": 0.02266421148219149,
            "bin_end": 0.04532842296438298,
            "count": 0
           },
           {
            "bin_start": 0.04532842296438298,
            "bin_end": 0.06799263444657447,
            "count": 0
           },
           {
            "bin_start": 0.06799263444657447,
            "bin_end": 0.09065684592876597,
            "count": 0
           },
           {
            "bin_start": 0.09065684592876597,
            "bin_end": 0.11332105741095747,
            "count": 6
           },
           {
            "bin_start": 0.11332105741095747,
            "bin_end": 0.13598526889314894,
            "count": 1
           },
           {
            "bin_start": 0.13598526889314894,
            "bin_end": 0.15864948037534043,
            "count": 0
           },
           {
            "bin_start": 0.15864948037534043,
            "bin_end": 0.18131369185753193,
            "count": 0
           },
           {
            "bin_start": 0.18131369185753193,
            "bin_end": 0.20397790333972343,
            "count": 1
           },
           {
            "bin_start": 0.20397790333972343,
            "bin_end": 0.2266421148219149,
            "count": 2
           }
          ]
         }
        },
        {
         "name": "RATE_INTEREST_PRIMARY",
         "dtype": "float64",
         "stats": {
          "unique_count": 0,
          "nan_count": 20,
          "min": null,
          "max": null,
          "histogram": [
           {
            "bin_start": 0,
            "bin_end": 0.1,
            "count": 0
           },
           {
            "bin_start": 0.1,
            "bin_end": 0.2,
            "count": 0
           },
           {
            "bin_start": 0.2,
            "bin_end": 0.30000000000000004,
            "count": 0
           },
           {
            "bin_start": 0.30000000000000004,
            "bin_end": 0.4,
            "count": 0
           },
           {
            "bin_start": 0.4,
            "bin_end": 0.5,
            "count": 0
           },
           {
            "bin_start": 0.5,
            "bin_end": 0.6000000000000001,
            "count": 0
           },
           {
            "bin_start": 0.6000000000000001,
            "bin_end": 0.7000000000000001,
            "count": 0
           },
           {
            "bin_start": 0.7000000000000001,
            "bin_end": 0.8,
            "count": 0
           },
           {
            "bin_start": 0.8,
            "bin_end": 0.9,
            "count": 0
           },
           {
            "bin_start": 0.9,
            "bin_end": 1,
            "count": 0
           }
          ]
         }
        },
        {
         "name": "RATE_INTEREST_PRIVILEGED",
         "dtype": "float64",
         "stats": {
          "unique_count": 0,
          "nan_count": 20,
          "min": null,
          "max": null,
          "histogram": [
           {
            "bin_start": 0,
            "bin_end": 0.1,
            "count": 0
           },
           {
            "bin_start": 0.1,
            "bin_end": 0.2,
            "count": 0
           },
           {
            "bin_start": 0.2,
            "bin_end": 0.30000000000000004,
            "count": 0
           },
           {
            "bin_start": 0.30000000000000004,
            "bin_end": 0.4,
            "count": 0
           },
           {
            "bin_start": 0.4,
            "bin_end": 0.5,
            "count": 0
           },
           {
            "bin_start": 0.5,
            "bin_end": 0.6000000000000001,
            "count": 0
           },
           {
            "bin_start": 0.6000000000000001,
            "bin_end": 0.7000000000000001,
            "count": 0
           },
           {
            "bin_start": 0.7000000000000001,
            "bin_end": 0.8,
            "count": 0
           },
           {
            "bin_start": 0.8,
            "bin_end": 0.9,
            "count": 0
           },
           {
            "bin_start": 0.9,
            "bin_end": 1,
            "count": 0
           }
          ]
         }
        },
        {
         "name": "NAME_CASH_LOAN_PURPOSE",
         "dtype": "object",
         "stats": {
          "unique_count": 2,
          "nan_count": 0,
          "categories": [
           {
            "name": "XAP",
            "count": 18
           },
           {
            "name": "XNA",
            "count": 2
           }
          ]
         }
        },
        {
         "name": "NAME_CONTRACT_STATUS",
         "dtype": "object",
         "stats": {
          "unique_count": 1,
          "nan_count": 0,
          "categories": [
           {
            "name": "Approved",
            "count": 20
           }
          ]
         }
        },
        {
         "name": "DAYS_DECISION",
         "dtype": "int64",
         "stats": {
          "unique_count": 20,
          "nan_count": 0,
          "min": "-2338",
          "max": "-124",
          "histogram": [
           {
            "bin_start": -2338,
            "bin_end": -2116.6,
            "count": 1
           },
           {
            "bin_start": -2116.6,
            "bin_end": -1895.2,
            "count": 1
           },
           {
            "bin_start": -1895.2,
            "bin_end": -1673.8,
            "count": 1
           },
           {
            "bin_start": -1673.8,
            "bin_end": -1452.4,
            "count": 1
           },
           {
            "bin_start": -1452.4,
            "bin_end": -1231,
            "count": 4
           },
           {
            "bin_start": -1231,
            "bin_end": -1009.5999999999999,
            "count": 0
           },
           {
            "bin_start": -1009.5999999999999,
            "bin_end": -788.2,
            "count": 2
           },
           {
            "bin_start": -788.2,
            "bin_end": -566.8,
            "count": 2
           },
           {
            "bin_start": -566.8,
            "bin_end": -345.39999999999986,
            "count": 3
           },
           {
            "bin_start": -345.39999999999986,
            "bin_end": -124,
            "count": 5
           }
          ]
         }
        },
        {
         "name": "NAME_PAYMENT_TYPE",
         "dtype": "object",
         "stats": {
          "unique_count": 2,
          "nan_count": 0,
          "categories": [
           {
            "name": "Cash through the bank",
            "count": 17
           },
           {
            "name": "XNA",
            "count": 3
           }
          ]
         }
        },
        {
         "name": "CODE_REJECT_REASON",
         "dtype": "object",
         "stats": {
          "unique_count": 1,
          "nan_count": 0,
          "categories": [
           {
            "name": "XAP",
            "count": 20
           }
          ]
         }
        },
        {
         "name": "NAME_TYPE_SUITE",
         "dtype": "object",
         "stats": {
          "unique_count": 3,
          "nan_count": 4,
          "categories": [
           {
            "name": "Unaccompanied",
            "count": 11
           },
           {
            "name": "2 others",
            "count": 5
           },
           {
            "name": "Missing",
            "count": 4
           }
          ]
         }
        },
        {
         "name": "NAME_CLIENT_TYPE",
         "dtype": "object",
         "stats": {
          "unique_count": 3,
          "nan_count": 0,
          "categories": [
           {
            "name": "New",
            "count": 9
           },
           {
            "name": "Repeater",
            "count": 8
           },
           {
            "name": "Refreshed",
            "count": 3
           }
          ]
         }
        },
        {
         "name": "NAME_GOODS_CATEGORY",
         "dtype": "object",
         "stats": {
          "unique_count": 7,
          "nan_count": 0,
          "categories": [
           {
            "name": "Consumer Electronics",
            "count": 5
           },
           {
            "name": "Audio/Video",
            "count": 4
           },
           {
            "name": "5 others",
            "count": 11
           }
          ]
         }
        },
        {
         "name": "NAME_PORTFOLIO",
         "dtype": "object",
         "stats": {
          "unique_count": 3,
          "nan_count": 0,
          "categories": [
           {
            "name": "POS",
            "count": 17
           },
           {
            "name": "Cash",
            "count": 2
           },
           {
            "name": "Cards",
            "count": 1
           }
          ]
         }
        },
        {
         "name": "NAME_PRODUCT_TYPE",
         "dtype": "object",
         "stats": {
          "unique_count": 3,
          "nan_count": 0,
          "categories": [
           {
            "name": "XNA",
            "count": 17
           },
           {
            "name": "x-sell",
            "count": 2
           },
           {
            "name": "walk-in",
            "count": 1
           }
          ]
         }
        },
        {
         "name": "CHANNEL_TYPE",
         "dtype": "object",
         "stats": {
          "unique_count": 3,
          "nan_count": 0,
          "categories": [
           {
            "name": "Country-wide",
            "count": 8
           },
           {
            "name": "Regional / Local",
            "count": 8
           },
           {
            "name": "Stone",
            "count": 4
           }
          ]
         }
        },
        {
         "name": "SELLERPLACE_AREA",
         "dtype": "int64",
         "stats": {
          "unique_count": 10,
          "nan_count": 0,
          "min": "12",
          "max": "1877",
          "histogram": [
           {
            "bin_start": 12,
            "bin_end": 198.5,
            "count": 13
           },
           {
            "bin_start": 198.5,
            "bin_end": 385,
            "count": 0
           },
           {
            "bin_start": 385,
            "bin_end": 571.5,
            "count": 0
           },
           {
            "bin_start": 571.5,
            "bin_end": 758,
            "count": 2
           },
           {
            "bin_start": 758,
            "bin_end": 944.5,
            "count": 0
           },
           {
            "bin_start": 944.5,
            "bin_end": 1131,
            "count": 2
           },
           {
            "bin_start": 1131,
            "bin_end": 1317.5,
            "count": 1
           },
           {
            "bin_start": 1317.5,
            "bin_end": 1504,
            "count": 0
           },
           {
            "bin_start": 1504,
            "bin_end": 1690.5,
            "count": 0
           },
           {
            "bin_start": 1690.5,
            "bin_end": 1877,
            "count": 2
           }
          ]
         }
        },
        {
         "name": "NAME_SELLER_INDUSTRY",
         "dtype": "object",
         "stats": {
          "unique_count": 4,
          "nan_count": 0,
          "categories": [
           {
            "name": "Consumer electronics",
            "count": 16
           },
           {
            "name": "Connectivity",
            "count": 2
           },
           {
            "name": "2 others",
            "count": 2
           }
          ]
         }
        },
        {
         "name": "CNT_PAYMENT",
         "dtype": "float64",
         "stats": {
          "unique_count": 6,
          "nan_count": 0,
          "min": "0.0",
          "max": "18.0",
          "histogram": [
           {
            "bin_start": 0,
            "bin_end": 1.8,
            "count": 1
           },
           {
            "bin_start": 1.8,
            "bin_end": 3.6,
            "count": 0
           },
           {
            "bin_start": 3.6,
            "bin_end": 5.4,
            "count": 0
           },
           {
            "bin_start": 5.4,
            "bin_end": 7.2,
            "count": 4
           },
           {
            "bin_start": 7.2,
            "bin_end": 9,
            "count": 2
           },
           {
            "bin_start": 9,
            "bin_end": 10.8,
            "count": 3
           },
           {
            "bin_start": 10.8,
            "bin_end": 12.6,
            "count": 9
           },
           {
            "bin_start": 12.6,
            "bin_end": 14.4,
            "count": 0
           },
           {
            "bin_start": 14.4,
            "bin_end": 16.2,
            "count": 0
           },
           {
            "bin_start": 16.2,
            "bin_end": 18,
            "count": 1
           }
          ]
         }
        },
        {
         "name": "NAME_YIELD_GROUP",
         "dtype": "object",
         "stats": {
          "unique_count": 5,
          "nan_count": 0,
          "categories": [
           {
            "name": "middle",
            "count": 7
           },
           {
            "name": "high",
            "count": 6
           },
           {
            "name": "3 others",
            "count": 7
           }
          ]
         }
        },
        {
         "name": "PRODUCT_COMBINATION",
         "dtype": "object",
         "stats": {
          "unique_count": 7,
          "nan_count": 0,
          "categories": [
           {
            "name": "POS household with interest",
            "count": 10
           },
           {
            "name": "POS household without interest",
            "count": 3
           },
           {
            "name": "5 others",
            "count": 7
           }
          ]
         }
        },
        {
         "name": "DAYS_FIRST_DRAWING",
         "dtype": "float64",
         "stats": {
          "unique_count": 2,
          "nan_count": 1,
          "min": "-175.0",
          "max": "365243.0",
          "histogram": [
           {
            "bin_start": -175,
            "bin_end": 36366.8,
            "count": 1
           },
           {
            "bin_start": 36366.8,
            "bin_end": 72908.6,
            "count": 0
           },
           {
            "bin_start": 72908.6,
            "bin_end": 109450.40000000001,
            "count": 0
           },
           {
            "bin_start": 109450.40000000001,
            "bin_end": 145992.2,
            "count": 0
           },
           {
            "bin_start": 145992.2,
            "bin_end": 182534,
            "count": 0
           },
           {
            "bin_start": 182534,
            "bin_end": 219075.80000000002,
            "count": 0
           },
           {
            "bin_start": 219075.80000000002,
            "bin_end": 255617.60000000003,
            "count": 0
           },
           {
            "bin_start": 255617.60000000003,
            "bin_end": 292159.4,
            "count": 0
           },
           {
            "bin_start": 292159.4,
            "bin_end": 328701.2,
            "count": 0
           },
           {
            "bin_start": 328701.2,
            "bin_end": 365243,
            "count": 18
           }
          ]
         }
        },
        {
         "name": "DAYS_FIRST_DUE",
         "dtype": "float64",
         "stats": {
          "unique_count": 19,
          "nan_count": 1,
          "min": "-2307.0",
          "max": "-94.0",
          "histogram": [
           {
            "bin_start": -2307,
            "bin_end": -2085.7,
            "count": 1
           },
           {
            "bin_start": -2085.7,
            "bin_end": -1864.4,
            "count": 1
           },
           {
            "bin_start": -1864.4,
            "bin_end": -1643.1,
            "count": 1
           },
           {
            "bin_start": -1643.1,
            "bin_end": -1421.8,
            "count": 1
           },
           {
            "bin_start": -1421.8,
            "bin_end": -1200.5,
            "count": 4
           },
           {
            "bin_start": -1200.5,
            "bin_end": -979.1999999999998,
            "count": 0
           },
           {
            "bin_start": -979.1999999999998,
            "bin_end": -757.8999999999999,
            "count": 2
           },
           {
            "bin_start": -757.8999999999999,
            "bin_end": -536.5999999999999,
            "count": 2
           },
           {
            "bin_start": -536.5999999999999,
            "bin_end": -315.29999999999995,
            "count": 3
           },
           {
            "bin_start": -315.29999999999995,
            "bin_end": -94,
            "count": 4
           }
          ]
         }
        },
        {
         "name": "DAYS_LAST_DUE_1ST_VERSION",
         "dtype": "float64",
         "stats": {
          "unique_count": 19,
          "nan_count": 1,
          "min": "-1977.0",
          "max": "365243.0",
          "histogram": [
           {
            "bin_start": -1977,
            "bin_end": 34745,
            "count": 18
           },
           {
            "bin_start": 34745,
            "bin_end": 71467,
            "count": 0
           },
           {
            "bin_start": 71467,
            "bin_end": 108189,
            "count": 0
           },
           {
            "bin_start": 108189,
            "bin_end": 144911,
            "count": 0
           },
           {
            "bin_start": 144911,
            "bin_end": 181633,
            "count": 0
           },
           {
            "bin_start": 181633,
            "bin_end": 218355,
            "count": 0
           },
           {
            "bin_start": 218355,
            "bin_end": 255077,
            "count": 0
           },
           {
            "bin_start": 255077,
            "bin_end": 291799,
            "count": 0
           },
           {
            "bin_start": 291799,
            "bin_end": 328521,
            "count": 0
           },
           {
            "bin_start": 328521,
            "bin_end": 365243,
            "count": 1
           }
          ]
         }
        },
        {
         "name": "DAYS_LAST_DUE",
         "dtype": "float64",
         "stats": {
          "unique_count": 17,
          "nan_count": 1,
          "min": "-1977.0",
          "max": "365243.0",
          "histogram": [
           {
            "bin_start": -1977,
            "bin_end": 34745,
            "count": 16
           },
           {
            "bin_start": 34745,
            "bin_end": 71467,
            "count": 0
           },
           {
            "bin_start": 71467,
            "bin_end": 108189,
            "count": 0
           },
           {
            "bin_start": 108189,
            "bin_end": 144911,
            "count": 0
           },
           {
            "bin_start": 144911,
            "bin_end": 181633,
            "count": 0
           },
           {
            "bin_start": 181633,
            "bin_end": 218355,
            "count": 0
           },
           {
            "bin_start": 218355,
            "bin_end": 255077,
            "count": 0
           },
           {
            "bin_start": 255077,
            "bin_end": 291799,
            "count": 0
           },
           {
            "bin_start": 291799,
            "bin_end": 328521,
            "count": 0
           },
           {
            "bin_start": 328521,
            "bin_end": 365243,
            "count": 3
           }
          ]
         }
        },
        {
         "name": "DAYS_TERMINATION",
         "dtype": "float64",
         "stats": {
          "unique_count": 17,
          "nan_count": 1,
          "min": "-1972.0",
          "max": "365243.0",
          "histogram": [
           {
            "bin_start": -1972,
            "bin_end": 34749.5,
            "count": 16
           },
           {
            "bin_start": 34749.5,
            "bin_end": 71471,
            "count": 0
           },
           {
            "bin_start": 71471,
            "bin_end": 108192.5,
            "count": 0
           },
           {
            "bin_start": 108192.5,
            "bin_end": 144914,
            "count": 0
           },
           {
            "bin_start": 144914,
            "bin_end": 181635.5,
            "count": 0
           },
           {
            "bin_start": 181635.5,
            "bin_end": 218357,
            "count": 0
           },
           {
            "bin_start": 218357,
            "bin_end": 255078.5,
            "count": 0
           },
           {
            "bin_start": 255078.5,
            "bin_end": 291800,
            "count": 0
           },
           {
            "bin_start": 291800,
            "bin_end": 328521.5,
            "count": 0
           },
           {
            "bin_start": 328521.5,
            "bin_end": 365243,
            "count": 3
           }
          ]
         }
        },
        {
         "name": "NFLAG_INSURED_ON_APPROVAL",
         "dtype": "float64",
         "stats": {
          "unique_count": 2,
          "nan_count": 1,
          "min": "0.0",
          "max": "1.0",
          "histogram": [
           {
            "bin_start": 0,
            "bin_end": 0.1,
            "count": 16
           },
           {
            "bin_start": 0.1,
            "bin_end": 0.2,
            "count": 0
           },
           {
            "bin_start": 0.2,
            "bin_end": 0.30000000000000004,
            "count": 0
           },
           {
            "bin_start": 0.30000000000000004,
            "bin_end": 0.4,
            "count": 0
           },
           {
            "bin_start": 0.4,
            "bin_end": 0.5,
            "count": 0
           },
           {
            "bin_start": 0.5,
            "bin_end": 0.6000000000000001,
            "count": 0
           },
           {
            "bin_start": 0.6000000000000001,
            "bin_end": 0.7000000000000001,
            "count": 0
           },
           {
            "bin_start": 0.7000000000000001,
            "bin_end": 0.8,
            "count": 0
           },
           {
            "bin_start": 0.8,
            "bin_end": 0.9,
            "count": 0
           },
           {
            "bin_start": 0.9,
            "bin_end": 1,
            "count": 3
           }
          ]
         }
        },
        {
         "name": "_deepnote_index_column",
         "dtype": "int64"
        }
       ],
       "rows_top": [
        {
         "SK_ID_PREV": 1000001,
         "SK_ID_CURR": 158271,
         "NAME_CONTRACT_TYPE": "Consumer loans",
         "AMT_ANNUITY": 6404.31,
         "AMT_APPLICATION": 58905,
         "AMT_CREDIT": 65124,
         "AMT_DOWN_PAYMENT": 0,
         "AMT_GOODS_PRICE": 58905,
         "WEEKDAY_APPR_PROCESS_START": "THURSDAY",
         "HOUR_APPR_PROCESS_START": 8,
         "FLAG_LAST_APPL_PER_CONTRACT": "Y",
         "NFLAG_LAST_APPL_IN_DAY": 1,
         "RATE_DOWN_PAYMENT": 0,
         "RATE_INTEREST_PRIMARY": "nan",
         "RATE_INTEREST_PRIVILEGED": "nan",
         "NAME_CASH_LOAN_PURPOSE": "XAP",
         "NAME_CONTRACT_STATUS": "Approved",
         "DAYS_DECISION": -299,
         "NAME_PAYMENT_TYPE": "Cash through the bank",
         "CODE_REJECT_REASON": "XAP",
         "NAME_TYPE_SUITE": "nan",
         "NAME_CLIENT_TYPE": "New",
         "NAME_GOODS_CATEGORY": "Furniture",
         "NAME_PORTFOLIO": "POS",
         "NAME_PRODUCT_TYPE": "XNA",
         "CHANNEL_TYPE": "Stone",
         "SELLERPLACE_AREA": 70,
         "NAME_SELLER_INDUSTRY": "Furniture",
         "CNT_PAYMENT": 12,
         "NAME_YIELD_GROUP": "middle",
         "PRODUCT_COMBINATION": "POS industry with interest",
         "DAYS_FIRST_DRAWING": 365243,
         "DAYS_FIRST_DUE": -268,
         "DAYS_LAST_DUE_1ST_VERSION": 62,
         "DAYS_LAST_DUE": -238,
         "DAYS_TERMINATION": -233,
         "NFLAG_INSURED_ON_APPROVAL": 0,
         "_deepnote_index_column": 38906
        },
        {
         "SK_ID_PREV": 1000002,
         "SK_ID_CURR": 101962,
         "NAME_CONTRACT_TYPE": "Consumer loans",
         "AMT_ANNUITY": 6264,
         "AMT_APPLICATION": 39145.5,
         "AMT_CREDIT": 35230.5,
         "AMT_DOWN_PAYMENT": 3915,
         "AMT_GOODS_PRICE": 39145.5,
         "WEEKDAY_APPR_PROCESS_START": "SUNDAY",
         "HOUR_APPR_PROCESS_START": 8,
         "FLAG_LAST_APPL_PER_CONTRACT": "Y",
         "NFLAG_LAST_APPL_IN_DAY": 1,
         "RATE_DOWN_PAYMENT": 0.1089216106344511,
         "RATE_INTEREST_PRIMARY": "nan",
         "RATE_INTEREST_PRIVILEGED": "nan",
         "NAME_CASH_LOAN_PURPOSE": "XAP",
         "NAME_CONTRACT_STATUS": "Approved",
         "DAYS_DECISION": -1634,
         "NAME_PAYMENT_TYPE": "Cash through the bank",
         "CODE_REJECT_REASON": "XAP",
         "NAME_TYPE_SUITE": "Unaccompanied",
         "NAME_CLIENT_TYPE": "Repeater",
         "NAME_GOODS_CATEGORY": "Audio/Video",
         "NAME_PORTFOLIO": "POS",
         "NAME_PRODUCT_TYPE": "XNA",
         "CHANNEL_TYPE": "Country-wide",
         "SELLERPLACE_AREA": 1780,
         "NAME_SELLER_INDUSTRY": "Consumer electronics",
         "CNT_PAYMENT": 6,
         "NAME_YIELD_GROUP": "low_normal",
         "PRODUCT_COMBINATION": "POS household with interest",
         "DAYS_FIRST_DRAWING": 365243,
         "DAYS_FIRST_DUE": -1600,
         "DAYS_LAST_DUE_1ST_VERSION": -1450,
         "DAYS_LAST_DUE": -1510,
         "DAYS_TERMINATION": -1501,
         "NFLAG_INSURED_ON_APPROVAL": 0,
         "_deepnote_index_column": 73676
        },
        {
         "SK_ID_PREV": 1000003,
         "SK_ID_CURR": 252457,
         "NAME_CONTRACT_TYPE": "Consumer loans",
         "AMT_ANNUITY": 4951.35,
         "AMT_APPLICATION": 47056.275,
         "AMT_CREDIT": 52641,
         "AMT_DOWN_PAYMENT": 4.275,
         "AMT_GOODS_PRICE": 47056.275,
         "WEEKDAY_APPR_PROCESS_START": "SUNDAY",
         "HOUR_APPR_PROCESS_START": 13,
         "FLAG_LAST_APPL_PER_CONTRACT": "Y",
         "NFLAG_LAST_APPL_IN_DAY": 1,
         "RATE_DOWN_PAYMENT": 0.00008843839520951569,
         "RATE_INTEREST_PRIMARY": "nan",
         "RATE_INTEREST_PRIVILEGED": "nan",
         "NAME_CASH_LOAN_PURPOSE": "XAP",
         "NAME_CONTRACT_STATUS": "Approved",
         "DAYS_DECISION": -124,
         "NAME_PAYMENT_TYPE": "Cash through the bank",
         "CODE_REJECT_REASON": "XAP",
         "NAME_TYPE_SUITE": "Unaccompanied",
         "NAME_CLIENT_TYPE": "Refreshed",
         "NAME_GOODS_CATEGORY": "Audio/Video",
         "NAME_PORTFOLIO": "POS",
         "NAME_PRODUCT_TYPE": "XNA",
         "CHANNEL_TYPE": "Country-wide",
         "SELLERPLACE_AREA": 1103,
         "NAME_SELLER_INDUSTRY": "Consumer electronics",
         "CNT_PAYMENT": 12,
         "NAME_YIELD_GROUP": "low_action",
         "PRODUCT_COMBINATION": "POS household without interest",
         "DAYS_FIRST_DRAWING": 365243,
         "DAYS_FIRST_DUE": -94,
         "DAYS_LAST_DUE_1ST_VERSION": 236,
         "DAYS_LAST_DUE": 365243,
         "DAYS_TERMINATION": 365243,
         "NFLAG_INSURED_ON_APPROVAL": 1,
         "_deepnote_index_column": 1517084
        },
        {
         "SK_ID_PREV": 1000004,
         "SK_ID_CURR": 260094,
         "NAME_CONTRACT_TYPE": "Consumer loans",
         "AMT_ANNUITY": 3391.11,
         "AMT_APPLICATION": 35144.37,
         "AMT_CREDIT": 30586.5,
         "AMT_DOWN_PAYMENT": 7032.87,
         "AMT_GOODS_PRICE": 35144.37,
         "WEEKDAY_APPR_PROCESS_START": "THURSDAY",
         "HOUR_APPR_PROCESS_START": 9,
         "FLAG_LAST_APPL_PER_CONTRACT": "Y",
         "NFLAG_LAST_APPL_IN_DAY": 1,
         "RATE_DOWN_PAYMENT": 0.2036034835729089,
         "RATE_INTEREST_PRIMARY": "nan",
         "RATE_INTEREST_PRIVILEGED": "nan",
         "NAME_CASH_LOAN_PURPOSE": "XAP",
         "NAME_CONTRACT_STATUS": "Approved",
         "DAYS_DECISION": -893,
         "NAME_PAYMENT_TYPE": "XNA",
         "CODE_REJECT_REASON": "XAP",
         "NAME_TYPE_SUITE": "Unaccompanied",
         "NAME_CLIENT_TYPE": "Refreshed",
         "NAME_GOODS_CATEGORY": "Audio/Video",
         "NAME_PORTFOLIO": "POS",
         "NAME_PRODUCT_TYPE": "XNA",
         "CHANNEL_TYPE": "Country-wide",
         "SELLERPLACE_AREA": 1103,
         "NAME_SELLER_INDUSTRY": "Consumer electronics",
         "CNT_PAYMENT": 10,
         "NAME_YIELD_GROUP": "low_normal",
         "PRODUCT_COMBINATION": "POS household without interest",
         "DAYS_FIRST_DRAWING": 365243,
         "DAYS_FIRST_DUE": -862,
         "DAYS_LAST_DUE_1ST_VERSION": -592,
         "DAYS_LAST_DUE": -682,
         "DAYS_TERMINATION": -672,
         "NFLAG_INSURED_ON_APPROVAL": 0,
         "_deepnote_index_column": 1406334
        },
        {
         "SK_ID_PREV": 1000005,
         "SK_ID_CURR": 176456,
         "NAME_CONTRACT_TYPE": "Consumer loans",
         "AMT_ANNUITY": 14713.605,
         "AMT_APPLICATION": 123486.075,
         "AMT_CREDIT": 120307.5,
         "AMT_DOWN_PAYMENT": 12349.575,
         "AMT_GOODS_PRICE": 123486.075,
         "WEEKDAY_APPR_PROCESS_START": "THURSDAY",
         "HOUR_APPR_PROCESS_START": 13,
         "FLAG_LAST_APPL_PER_CONTRACT": "Y",
         "NFLAG_LAST_APPL_IN_DAY": 1,
         "RATE_DOWN_PAYMENT": 0.1013878065955876,
         "RATE_INTEREST_PRIMARY": "nan",
         "RATE_INTEREST_PRIVILEGED": "nan",
         "NAME_CASH_LOAN_PURPOSE": "XAP",
         "NAME_CONTRACT_STATUS": "Approved",
         "DAYS_DECISION": -1719,
         "NAME_PAYMENT_TYPE": "Cash through the bank",
         "CODE_REJECT_REASON": "XAP",
         "NAME_TYPE_SUITE": "Family",
         "NAME_CLIENT_TYPE": "New",
         "NAME_GOODS_CATEGORY": "Construction Materials",
         "NAME_PORTFOLIO": "POS",
         "NAME_PRODUCT_TYPE": "XNA",
         "CHANNEL_TYPE": "Stone",
         "SELLERPLACE_AREA": 1877,
         "NAME_SELLER_INDUSTRY": "Construction",
         "CNT_PAYMENT": 10,
         "NAME_YIELD_GROUP": "middle",
         "PRODUCT_COMBINATION": "POS industry with interest",
         "DAYS_FIRST_DRAWING": 365243,
         "DAYS_FIRST_DUE": -1688,
         "DAYS_LAST_DUE_1ST_VERSION": -1418,
         "DAYS_LAST_DUE": -1418,
         "DAYS_TERMINATION": -1415,
         "NFLAG_INSURED_ON_APPROVAL": 0,
         "_deepnote_index_column": 523289
        },
        {
         "SK_ID_PREV": 1000006,
         "SK_ID_CURR": 427505,
         "NAME_CONTRACT_TYPE": "Consumer loans",
         "AMT_ANNUITY": 10572.345,
         "AMT_APPLICATION": 51417,
         "AMT_CREDIT": 51417,
         "AMT_DOWN_PAYMENT": 0,
         "AMT_GOODS_PRICE": 51417,
         "WEEKDAY_APPR_PROCESS_START": "WEDNESDAY",
         "HOUR_APPR_PROCESS_START": 13,
         "FLAG_LAST_APPL_PER_CONTRACT": "Y",
         "NFLAG_LAST_APPL_IN_DAY": 1,
         "RATE_DOWN_PAYMENT": 0,
         "RATE_INTEREST_PRIMARY": "nan",
         "RATE_INTEREST_PRIVILEGED": "nan",
         "NAME_CASH_LOAN_PURPOSE": "XAP",
         "NAME_CONTRACT_STATUS": "Approved",
         "DAYS_DECISION": -264,
         "NAME_PAYMENT_TYPE": "XNA",
         "CODE_REJECT_REASON": "XAP",
         "NAME_TYPE_SUITE": "nan",
         "NAME_CLIENT_TYPE": "Repeater",
         "NAME_GOODS_CATEGORY": "Mobile",
         "NAME_PORTFOLIO": "POS",
         "NAME_PRODUCT_TYPE": "XNA",
         "CHANNEL_TYPE": "Country-wide",
         "SELLERPLACE_AREA": 12,
         "NAME_SELLER_INDUSTRY": "Connectivity",
         "CNT_PAYMENT": 6,
         "NAME_YIELD_GROUP": "high",
         "PRODUCT_COMBINATION": "POS mobile with interest",
         "DAYS_FIRST_DRAWING": "nan",
         "DAYS_FIRST_DUE": "nan",
         "DAYS_LAST_DUE_1ST_VERSION": "nan",
         "DAYS_LAST_DUE": "nan",
         "DAYS_TERMINATION": "nan",
         "NFLAG_INSURED_ON_APPROVAL": "nan",
         "_deepnote_index_column": 1476878
        },
        {
         "SK_ID_PREV": 1000007,
         "SK_ID_CURR": 256657,
         "NAME_CONTRACT_TYPE": "Consumer loans",
         "AMT_ANNUITY": 11246.805,
         "AMT_APPLICATION": 78570,
         "AMT_CREDIT": 62856,
         "AMT_DOWN_PAYMENT": 15714,
         "AMT_GOODS_PRICE": 78570,
         "WEEKDAY_APPR_PROCESS_START": "SUNDAY",
         "HOUR_APPR_PROCESS_START": 13,
         "FLAG_LAST_APPL_PER_CONTRACT": "Y",
         "NFLAG_LAST_APPL_IN_DAY": 1,
         "RATE_DOWN_PAYMENT": 0.2178181818181818,
         "RATE_INTEREST_PRIMARY": "nan",
         "RATE_INTEREST_PRIVILEGED": "nan",
         "NAME_CASH_LOAN_PURPOSE": "XAP",
         "NAME_CONTRACT_STATUS": "Approved",
         "DAYS_DECISION": -158,
         "NAME_PAYMENT_TYPE": "Cash through the bank",
         "CODE_REJECT_REASON": "XAP",
         "NAME_TYPE_SUITE": "Unaccompanied",
         "NAME_CLIENT_TYPE": "Repeater",
         "NAME_GOODS_CATEGORY": "Consumer Electronics",
         "NAME_PORTFOLIO": "POS",
         "NAME_PRODUCT_TYPE": "XNA",
         "CHANNEL_TYPE": "Stone",
         "SELLERPLACE_AREA": 70,
         "NAME_SELLER_INDUSTRY": "Consumer electronics",
         "CNT_PAYMENT": 6,
         "NAME_YIELD_GROUP": "low_normal",
         "PRODUCT_COMBINATION": "POS household with interest",
         "DAYS_FIRST_DRAWING": 365243,
         "DAYS_FIRST_DUE": -123,
         "DAYS_LAST_DUE_1ST_VERSION": 27,
         "DAYS_LAST_DUE": 365243,
         "DAYS_TERMINATION": 365243,
         "NFLAG_INSURED_ON_APPROVAL": 0,
         "_deepnote_index_column": 1102061
        },
        {
         "SK_ID_PREV": 1000008,
         "SK_ID_CURR": 152059,
         "NAME_CONTRACT_TYPE": "Consumer loans",
         "AMT_ANNUITY": 26331.66,
         "AMT_APPLICATION": 249255,
         "AMT_CREDIT": 224325,
         "AMT_DOWN_PAYMENT": 24930,
         "AMT_GOODS_PRICE": 249255,
         "WEEKDAY_APPR_PROCESS_START": "MONDAY",
         "HOUR_APPR_PROCESS_START": 14,
         "FLAG_LAST_APPL_PER_CONTRACT": "Y",
         "NFLAG_LAST_APPL_IN_DAY": 1,
         "RATE_DOWN_PAYMENT": 0.1089287531388993,
         "RATE_INTEREST_PRIMARY": "nan",
         "RATE_INTEREST_PRIVILEGED": "nan",
         "NAME_CASH_LOAN_PURPOSE": "XAP",
         "NAME_CONTRACT_STATUS": "Approved",
         "DAYS_DECISION": -1313,
         "NAME_PAYMENT_TYPE": "Cash through the bank",
         "CODE_REJECT_REASON": "XAP",
         "NAME_TYPE_SUITE": "Family",
         "NAME_CLIENT_TYPE": "New",
         "NAME_GOODS_CATEGORY": "Consumer Electronics",
         "NAME_PORTFOLIO": "POS",
         "NAME_PRODUCT_TYPE": "XNA",
         "CHANNEL_TYPE": "Regional / Local",
         "SELLERPLACE_AREA": 121,
         "NAME_SELLER_INDUSTRY": "Consumer electronics",
         "CNT_PAYMENT": 10,
         "NAME_YIELD_GROUP": "middle",
         "PRODUCT_COMBINATION": "POS household with interest",
         "DAYS_FIRST_DRAWING": 365243,
         "DAYS_FIRST_DUE": -1282,
         "DAYS_LAST_DUE_1ST_VERSION": -1012,
         "DAYS_LAST_DUE": -1042,
         "DAYS_TERMINATION": -1034,
         "NFLAG_INSURED_ON_APPROVAL": 0,
         "_deepnote_index_column": 368627
        },
        {
         "SK_ID_PREV": 1000009,
         "SK_ID_CURR": 343078,
         "NAME_CONTRACT_TYPE": "Consumer loans",
         "AMT_ANNUITY": 9302.85,
         "AMT_APPLICATION": 42705,
         "AMT_CREDIT": 45243,
         "AMT_DOWN_PAYMENT": 0,
         "AMT_GOODS_PRICE": 42705,
         "WEEKDAY_APPR_PROCESS_START": "SATURDAY",
         "HOUR_APPR_PROCESS_START": 11,
         "FLAG_LAST_APPL_PER_CONTRACT": "Y",
         "NFLAG_LAST_APPL_IN_DAY": 1,
         "RATE_DOWN_PAYMENT": 0,
         "RATE_INTEREST_PRIMARY": "nan",
         "RATE_INTEREST_PRIVILEGED": "nan",
         "NAME_CASH_LOAN_PURPOSE": "XAP",
         "NAME_CONTRACT_STATUS": "Approved",
         "DAYS_DECISION": -488,
         "NAME_PAYMENT_TYPE": "Cash through the bank",
         "CODE_REJECT_REASON": "XAP",
         "NAME_TYPE_SUITE": "Unaccompanied",
         "NAME_CLIENT_TYPE": "Repeater",
         "NAME_GOODS_CATEGORY": "Consumer Electronics",
         "NAME_PORTFOLIO": "POS",
         "NAME_PRODUCT_TYPE": "XNA",
         "CHANNEL_TYPE": "Regional / Local",
         "SELLERPLACE_AREA": 121,
         "NAME_SELLER_INDUSTRY": "Consumer electronics",
         "CNT_PAYMENT": 6,
         "NAME_YIELD_GROUP": "high",
         "PRODUCT_COMBINATION": "POS household with interest",
         "DAYS_FIRST_DRAWING": 365243,
         "DAYS_FIRST_DUE": -457,
         "DAYS_LAST_DUE_1ST_VERSION": -307,
         "DAYS_LAST_DUE": -307,
         "DAYS_TERMINATION": -305,
         "NFLAG_INSURED_ON_APPROVAL": 0,
         "_deepnote_index_column": 10842
        },
        {
         "SK_ID_PREV": 1000010,
         "SK_ID_CURR": 377567,
         "NAME_CONTRACT_TYPE": "Cash loans",
         "AMT_ANNUITY": 74682,
         "AMT_APPLICATION": 900000,
         "AMT_CREDIT": 900000,
         "AMT_DOWN_PAYMENT": "nan",
         "AMT_GOODS_PRICE": 900000,
         "WEEKDAY_APPR_PROCESS_START": "THURSDAY",
         "HOUR_APPR_PROCESS_START": 17,
         "FLAG_LAST_APPL_PER_CONTRACT": "Y",
         "NFLAG_LAST_APPL_IN_DAY": 1,
         "RATE_DOWN_PAYMENT": "nan",
         "RATE_INTEREST_PRIMARY": "nan",
         "RATE_INTEREST_PRIVILEGED": "nan",
         "NAME_CASH_LOAN_PURPOSE": "XNA",
         "NAME_CONTRACT_STATUS": "Approved",
         "DAYS_DECISION": -588,
         "NAME_PAYMENT_TYPE": "Cash through the bank",
         "CODE_REJECT_REASON": "XAP",
         "NAME_TYPE_SUITE": "nan",
         "NAME_CLIENT_TYPE": "Repeater",
         "NAME_GOODS_CATEGORY": "XNA",
         "NAME_PORTFOLIO": "Cash",
         "NAME_PRODUCT_TYPE": "x-sell",
         "CHANNEL_TYPE": "Regional / Local",
         "SELLERPLACE_AREA": 121,
         "NAME_SELLER_INDUSTRY": "Consumer electronics",
         "CNT_PAYMENT": 18,
         "NAME_YIELD_GROUP": "high",
         "PRODUCT_COMBINATION": "Cash X-Sell: high",
         "DAYS_FIRST_DRAWING": 365243,
         "DAYS_FIRST_DUE": -558,
         "DAYS_LAST_DUE_1ST_VERSION": -48,
         "DAYS_LAST_DUE": -258,
         "DAYS_TERMINATION": -256,
         "NFLAG_INSURED_ON_APPROVAL": 0,
         "_deepnote_index_column": 1636159
        },
        {
         "SK_ID_PREV": 1000011,
         "SK_ID_CURR": 198678,
         "NAME_CONTRACT_TYPE": "Cash loans",
         "AMT_ANNUITY": 92435.04,
         "AMT_APPLICATION": 855000,
         "AMT_CREDIT": 879831,
         "AMT_DOWN_PAYMENT": "nan",
         "AMT_GOODS_PRICE": 855000,
         "WEEKDAY_APPR_PROCESS_START": "SUNDAY",
         "HOUR_APPR_PROCESS_START": 18,
         "FLAG_LAST_APPL_PER_CONTRACT": "Y",
         "NFLAG_LAST_APPL_IN_DAY": 1,
         "RATE_DOWN_PAYMENT": "nan",
         "RATE_INTEREST_PRIMARY": "nan",
         "RATE_INTEREST_PRIVILEGED": "nan",
         "NAME_CASH_LOAN_PURPOSE": "XNA",
         "NAME_CONTRACT_STATUS": "Approved",
         "DAYS_DECISION": -465,
         "NAME_PAYMENT_TYPE": "Cash through the bank",
         "CODE_REJECT_REASON": "XAP",
         "NAME_TYPE_SUITE": "nan",
         "NAME_CLIENT_TYPE": "Repeater",
         "NAME_GOODS_CATEGORY": "XNA",
         "NAME_PORTFOLIO": "Cash",
         "NAME_PRODUCT_TYPE": "x-sell",
         "CHANNEL_TYPE": "Regional / Local",
         "SELLERPLACE_AREA": 121,
         "NAME_SELLER_INDUSTRY": "Consumer electronics",
         "CNT_PAYMENT": 12,
         "NAME_YIELD_GROUP": "middle",
         "PRODUCT_COMBINATION": "Cash X-Sell: middle",
         "DAYS_FIRST_DRAWING": 365243,
         "DAYS_FIRST_DUE": -435,
         "DAYS_LAST_DUE_1ST_VERSION": -105,
         "DAYS_LAST_DUE": -105,
         "DAYS_TERMINATION": -101,
         "NFLAG_INSURED_ON_APPROVAL": 1,
         "_deepnote_index_column": 1022809
        },
        {
         "SK_ID_PREV": 1000012,
         "SK_ID_CURR": 377567,
         "NAME_CONTRACT_TYPE": "Consumer loans",
         "AMT_ANNUITY": 10439.145,
         "AMT_APPLICATION": 103104,
         "AMT_CREDIT": 113989.5,
         "AMT_DOWN_PAYMENT": 0,
         "AMT_GOODS_PRICE": 103104,
         "WEEKDAY_APPR_PROCESS_START": "SATURDAY",
         "HOUR_APPR_PROCESS_START": 15,
         "FLAG_LAST_APPL_PER_CONTRACT": "Y",
         "NFLAG_LAST_APPL_IN_DAY": 1,
         "RATE_DOWN_PAYMENT": 0,
         "RATE_INTEREST_PRIMARY": "nan",
         "RATE_INTEREST_PRIVILEGED": "nan",
         "NAME_CASH_LOAN_PURPOSE": "XAP",
         "NAME_CONTRACT_STATUS": "Approved",
         "DAYS_DECISION": -915,
         "NAME_PAYMENT_TYPE": "Cash through the bank",
         "CODE_REJECT_REASON": "XAP",
         "NAME_TYPE_SUITE": "Unaccompanied",
         "NAME_CLIENT_TYPE": "New",
         "NAME_GOODS_CATEGORY": "Computers",
         "NAME_PORTFOLIO": "POS",
         "NAME_PRODUCT_TYPE": "XNA",
         "CHANNEL_TYPE": "Regional / Local",
         "SELLERPLACE_AREA": 121,
         "NAME_SELLER_INDUSTRY": "Consumer electronics",
         "CNT_PAYMENT": 12,
         "NAME_YIELD_GROUP": "low_action",
         "PRODUCT_COMBINATION": "POS household without interest",
         "DAYS_FIRST_DRAWING": 365243,
         "DAYS_FIRST_DUE": -883,
         "DAYS_LAST_DUE_1ST_VERSION": -553,
         "DAYS_LAST_DUE": -553,
         "DAYS_TERMINATION": -550,
         "NFLAG_INSURED_ON_APPROVAL": 0,
         "_deepnote_index_column": 1465851
        },
        {
         "SK_ID_PREV": 1000013,
         "SK_ID_CURR": 215520,
         "NAME_CONTRACT_TYPE": "Consumer loans",
         "AMT_ANNUITY": 13347.9,
         "AMT_APPLICATION": 134955,
         "AMT_CREDIT": 133479,
         "AMT_DOWN_PAYMENT": 13500,
         "AMT_GOODS_PRICE": 134955,
         "WEEKDAY_APPR_PROCESS_START": "THURSDAY",
         "HOUR_APPR_PROCESS_START": 18,
         "FLAG_LAST_APPL_PER_CONTRACT": "Y",
         "NFLAG_LAST_APPL_IN_DAY": 1,
         "RATE_DOWN_PAYMENT": 0.1000328432818788,
         "RATE_INTEREST_PRIMARY": "nan",
         "RATE_INTEREST_PRIVILEGED": "nan",
         "NAME_CASH_LOAN_PURPOSE": "XAP",
         "NAME_CONTRACT_STATUS": "Approved",
         "DAYS_DECISION": -1397,
         "NAME_PAYMENT_TYPE": "Cash through the bank",
         "CODE_REJECT_REASON": "XAP",
         "NAME_TYPE_SUITE": "Family",
         "NAME_CLIENT_TYPE": "New",
         "NAME_GOODS_CATEGORY": "Computers",
         "NAME_PORTFOLIO": "POS",
         "NAME_PRODUCT_TYPE": "XNA",
         "CHANNEL_TYPE": "Regional / Local",
         "SELLERPLACE_AREA": 121,
         "NAME_SELLER_INDUSTRY": "Consumer electronics",
         "CNT_PAYMENT": 12,
         "NAME_YIELD_GROUP": "middle",
         "PRODUCT_COMBINATION": "POS household with interest",
         "DAYS_FIRST_DRAWING": 365243,
         "DAYS_FIRST_DUE": -1366,
         "DAYS_LAST_DUE_1ST_VERSION": -1036,
         "DAYS_LAST_DUE": -1036,
         "DAYS_TERMINATION": -1030,
         "NFLAG_INSURED_ON_APPROVAL": 0,
         "_deepnote_index_column": 734211
        },
        {
         "SK_ID_PREV": 1000014,
         "SK_ID_CURR": 361644,
         "NAME_CONTRACT_TYPE": "Consumer loans",
         "AMT_ANNUITY": 8389.845,
         "AMT_APPLICATION": 56835,
         "AMT_CREDIT": 57118.5,
         "AMT_DOWN_PAYMENT": 5850,
         "AMT_GOODS_PRICE": 56835,
         "WEEKDAY_APPR_PROCESS_START": "SUNDAY",
         "HOUR_APPR_PROCESS_START": 18,
         "FLAG_LAST_APPL_PER_CONTRACT": "Y",
         "NFLAG_LAST_APPL_IN_DAY": 1,
         "RATE_DOWN_PAYMENT": 0.1011804603600501,
         "RATE_INTEREST_PRIMARY": "nan",
         "RATE_INTEREST_PRIVILEGED": "nan",
         "NAME_CASH_LOAN_PURPOSE": "XAP",
         "NAME_CONTRACT_STATUS": "Approved",
         "DAYS_DECISION": -1371,
         "NAME_PAYMENT_TYPE": "Cash through the bank",
         "CODE_REJECT_REASON": "XAP",
         "NAME_TYPE_SUITE": "Unaccompanied",
         "NAME_CLIENT_TYPE": "New",
         "NAME_GOODS_CATEGORY": "Consumer Electronics",
         "NAME_PORTFOLIO": "POS",
         "NAME_PRODUCT_TYPE": "XNA",
         "CHANNEL_TYPE": "Regional / Local",
         "SELLERPLACE_AREA": 121,
         "NAME_SELLER_INDUSTRY": "Consumer electronics",
         "CNT_PAYMENT": 8,
         "NAME_YIELD_GROUP": "middle",
         "PRODUCT_COMBINATION": "POS household with interest",
         "DAYS_FIRST_DRAWING": 365243,
         "DAYS_FIRST_DUE": -1339,
         "DAYS_LAST_DUE_1ST_VERSION": -1129,
         "DAYS_LAST_DUE": -1129,
         "DAYS_TERMINATION": -1126,
         "NFLAG_INSURED_ON_APPROVAL": 0,
         "_deepnote_index_column": 1356546
        },
        {
         "SK_ID_PREV": 1000015,
         "SK_ID_CURR": 315553,
         "NAME_CONTRACT_TYPE": "Consumer loans",
         "AMT_ANNUITY": 5597.46,
         "AMT_APPLICATION": 32310,
         "AMT_CREDIT": 34623,
         "AMT_DOWN_PAYMENT": 3600,
         "AMT_GOODS_PRICE": 32310,
         "WEEKDAY_APPR_PROCESS_START": "MONDAY",
         "HOUR_APPR_PROCESS_START": 19,
         "FLAG_LAST_APPL_PER_CONTRACT": "Y",
         "NFLAG_LAST_APPL_IN_DAY": 1,
         "RATE_DOWN_PAYMENT": 0.1025750797354282,
         "RATE_INTEREST_PRIMARY": "nan",
         "RATE_INTEREST_PRIVILEGED": "nan",
         "NAME_CASH_LOAN_PURPOSE": "XAP",
         "NAME_CONTRACT_STATUS": "Approved",
         "DAYS_DECISION": -1394,
         "NAME_PAYMENT_TYPE": "Cash through the bank",
         "CODE_REJECT_REASON": "XAP",
         "NAME_TYPE_SUITE": "Spouse, partner",
         "NAME_CLIENT_TYPE": "New",
         "NAME_GOODS_CATEGORY": "Mobile",
         "NAME_PORTFOLIO": "POS",
         "NAME_PRODUCT_TYPE": "XNA",
         "CHANNEL_TYPE": "Regional / Local",
         "SELLERPLACE_AREA": 121,
         "NAME_SELLER_INDUSTRY": "Consumer electronics",
         "CNT_PAYMENT": 8,
         "NAME_YIELD_GROUP": "high",
         "PRODUCT_COMBINATION": "POS household with interest",
         "DAYS_FIRST_DRAWING": 365243,
         "DAYS_FIRST_DUE": -1363,
         "DAYS_LAST_DUE_1ST_VERSION": -1153,
         "DAYS_LAST_DUE": -1153,
         "DAYS_TERMINATION": -1150,
         "NFLAG_INSURED_ON_APPROVAL": 0,
         "_deepnote_index_column": 1267501
        },
        {
         "SK_ID_PREV": 1000016,
         "SK_ID_CURR": 157990,
         "NAME_CONTRACT_TYPE": "Consumer loans",
         "AMT_ANNUITY": 6078.15,
         "AMT_APPLICATION": 63720,
         "AMT_CREDIT": 56970,
         "AMT_DOWN_PAYMENT": 6750,
         "AMT_GOODS_PRICE": 63720,
         "WEEKDAY_APPR_PROCESS_START": "WEDNESDAY",
         "HOUR_APPR_PROCESS_START": 16,
         "FLAG_LAST_APPL_PER_CONTRACT": "Y",
         "NFLAG_LAST_APPL_IN_DAY": 1,
         "RATE_DOWN_PAYMENT": 0.1153697996918336,
         "RATE_INTEREST_PRIMARY": "nan",
         "RATE_INTEREST_PRIVILEGED": "nan",
         "NAME_CASH_LOAN_PURPOSE": "XAP",
         "NAME_CONTRACT_STATUS": "Approved",
         "DAYS_DECISION": -717,
         "NAME_PAYMENT_TYPE": "Cash through the bank",
         "CODE_REJECT_REASON": "XAP",
         "NAME_TYPE_SUITE": "Unaccompanied",
         "NAME_CLIENT_TYPE": "Refreshed",
         "NAME_GOODS_CATEGORY": "Audio/Video",
         "NAME_PORTFOLIO": "POS",
         "NAME_PRODUCT_TYPE": "XNA",
         "CHANNEL_TYPE": "Stone",
         "SELLERPLACE_AREA": 185,
         "NAME_SELLER_INDUSTRY": "Consumer electronics",
         "CNT_PAYMENT": 12,
         "NAME_YIELD_GROUP": "middle",
         "PRODUCT_COMBINATION": "POS household with interest",
         "DAYS_FIRST_DRAWING": 365243,
         "DAYS_FIRST_DUE": -685,
         "DAYS_LAST_DUE_1ST_VERSION": -355,
         "DAYS_LAST_DUE": -535,
         "DAYS_TERMINATION": -531,
         "NFLAG_INSURED_ON_APPROVAL": 0,
         "_deepnote_index_column": 10843
        },
        {
         "SK_ID_PREV": 1000017,
         "SK_ID_CURR": 310743,
         "NAME_CONTRACT_TYPE": "Consumer loans",
         "AMT_ANNUITY": 7002.72,
         "AMT_APPLICATION": 67864.23,
         "AMT_CREDIT": 75024,
         "AMT_DOWN_PAYMENT": 4.23,
         "AMT_GOODS_PRICE": 67864.23,
         "WEEKDAY_APPR_PROCESS_START": "SATURDAY",
         "HOUR_APPR_PROCESS_START": 11,
         "FLAG_LAST_APPL_PER_CONTRACT": "Y",
         "NFLAG_LAST_APPL_IN_DAY": 1,
         "RATE_DOWN_PAYMENT": 0.00006140161570457605,
         "RATE_INTEREST_PRIMARY": "nan",
         "RATE_INTEREST_PRIVILEGED": "nan",
         "NAME_CASH_LOAN_PURPOSE": "XAP",
         "NAME_CONTRACT_STATUS": "Approved",
         "DAYS_DECISION": -516,
         "NAME_PAYMENT_TYPE": "Cash through the bank",
         "CODE_REJECT_REASON": "XAP",
         "NAME_TYPE_SUITE": "Unaccompanied",
         "NAME_CLIENT_TYPE": "New",
         "NAME_GOODS_CATEGORY": "Consumer Electronics",
         "NAME_PORTFOLIO": "POS",
         "NAME_PRODUCT_TYPE": "XNA",
         "CHANNEL_TYPE": "Country-wide",
         "SELLERPLACE_AREA": 595,
         "NAME_SELLER_INDUSTRY": "Consumer electronics",
         "CNT_PAYMENT": 12,
         "NAME_YIELD_GROUP": "low_normal",
         "PRODUCT_COMBINATION": "POS household with interest",
         "DAYS_FIRST_DRAWING": 365243,
         "DAYS_FIRST_DUE": -486,
         "DAYS_LAST_DUE_1ST_VERSION": -156,
         "DAYS_LAST_DUE": -156,
         "DAYS_TERMINATION": -151,
         "NFLAG_INSURED_ON_APPROVAL": 1,
         "_deepnote_index_column": 201599
        },
        {
         "SK_ID_PREV": 1000018,
         "SK_ID_CURR": 394447,
         "NAME_CONTRACT_TYPE": "Revolving loans",
         "AMT_ANNUITY": 2250,
         "AMT_APPLICATION": 45000,
         "AMT_CREDIT": 45000,
         "AMT_DOWN_PAYMENT": "nan",
         "AMT_GOODS_PRICE": 45000,
         "WEEKDAY_APPR_PROCESS_START": "SUNDAY",
         "HOUR_APPR_PROCESS_START": 10,
         "FLAG_LAST_APPL_PER_CONTRACT": "Y",
         "NFLAG_LAST_APPL_IN_DAY": 1,
         "RATE_DOWN_PAYMENT": "nan",
         "RATE_INTEREST_PRIMARY": "nan",
         "RATE_INTEREST_PRIVILEGED": "nan",
         "NAME_CASH_LOAN_PURPOSE": "XAP",
         "NAME_CONTRACT_STATUS": "Approved",
         "DAYS_DECISION": -176,
         "NAME_PAYMENT_TYPE": "XNA",
         "CODE_REJECT_REASON": "XAP",
         "NAME_TYPE_SUITE": "Unaccompanied",
         "NAME_CLIENT_TYPE": "New",
         "NAME_GOODS_CATEGORY": "XNA",
         "NAME_PORTFOLIO": "Cards",
         "NAME_PRODUCT_TYPE": "walk-in",
         "CHANNEL_TYPE": "Country-wide",
         "SELLERPLACE_AREA": 595,
         "NAME_SELLER_INDUSTRY": "Consumer electronics",
         "CNT_PAYMENT": 0,
         "NAME_YIELD_GROUP": "XNA",
         "PRODUCT_COMBINATION": "Card Street",
         "DAYS_FIRST_DRAWING": -175,
         "DAYS_FIRST_DUE": -130,
         "DAYS_LAST_DUE_1ST_VERSION": 365243,
         "DAYS_LAST_DUE": 365243,
         "DAYS_TERMINATION": 365243,
         "NFLAG_INSURED_ON_APPROVAL": 0,
         "_deepnote_index_column": 1519242
        },
        {
         "SK_ID_PREV": 1000019,
         "SK_ID_CURR": 176905,
         "NAME_CONTRACT_TYPE": "Consumer loans",
         "AMT_ANNUITY": 6072.165,
         "AMT_APPLICATION": 60246,
         "AMT_CREDIT": 51372,
         "AMT_DOWN_PAYMENT": 13500,
         "AMT_GOODS_PRICE": 60246,
         "WEEKDAY_APPR_PROCESS_START": "FRIDAY",
         "HOUR_APPR_PROCESS_START": 12,
         "FLAG_LAST_APPL_PER_CONTRACT": "Y",
         "NFLAG_LAST_APPL_IN_DAY": 1,
         "RATE_DOWN_PAYMENT": 0.2266421148219149,
         "RATE_INTEREST_PRIMARY": "nan",
         "RATE_INTEREST_PRIVILEGED": "nan",
         "NAME_CASH_LOAN_PURPOSE": "XAP",
         "NAME_CONTRACT_STATUS": "Approved",
         "DAYS_DECISION": -2338,
         "NAME_PAYMENT_TYPE": "Cash through the bank",
         "CODE_REJECT_REASON": "XAP",
         "NAME_TYPE_SUITE": "Unaccompanied",
         "NAME_CLIENT_TYPE": "Repeater",
         "NAME_GOODS_CATEGORY": "Mobile",
         "NAME_PORTFOLIO": "POS",
         "NAME_PRODUCT_TYPE": "XNA",
         "CHANNEL_TYPE": "Country-wide",
         "SELLERPLACE_AREA": 62,
         "NAME_SELLER_INDUSTRY": "Connectivity",
         "CNT_PAYMENT": 12,
         "NAME_YIELD_GROUP": "high",
         "PRODUCT_COMBINATION": "POS mobile with interest",
         "DAYS_FIRST_DRAWING": 365243,
         "DAYS_FIRST_DUE": -2307,
         "DAYS_LAST_DUE_1ST_VERSION": -1977,
         "DAYS_LAST_DUE": -1977,
         "DAYS_TERMINATION": -1972,
         "NFLAG_INSURED_ON_APPROVAL": 0,
         "_deepnote_index_column": 1414394
        },
        {
         "SK_ID_PREV": 1000020,
         "SK_ID_CURR": 299072,
         "NAME_CONTRACT_TYPE": "Consumer loans",
         "AMT_ANNUITY": 18393.165,
         "AMT_APPLICATION": 151555.5,
         "AMT_CREDIT": 164961,
         "AMT_DOWN_PAYMENT": 0,
         "AMT_GOODS_PRICE": 151555.5,
         "WEEKDAY_APPR_PROCESS_START": "TUESDAY",
         "HOUR_APPR_PROCESS_START": 10,
         "FLAG_LAST_APPL_PER_CONTRACT": "Y",
         "NFLAG_LAST_APPL_IN_DAY": 1,
         "RATE_DOWN_PAYMENT": 0,
         "RATE_INTEREST_PRIMARY": "nan",
         "RATE_INTEREST_PRIVILEGED": "nan",
         "NAME_CASH_LOAN_PURPOSE": "XAP",
         "NAME_CONTRACT_STATUS": "Approved",
         "DAYS_DECISION": -2017,
         "NAME_PAYMENT_TYPE": "Cash through the bank",
         "CODE_REJECT_REASON": "XAP",
         "NAME_TYPE_SUITE": "Family",
         "NAME_CLIENT_TYPE": "Repeater",
         "NAME_GOODS_CATEGORY": "Computers",
         "NAME_PORTFOLIO": "POS",
         "NAME_PRODUCT_TYPE": "XNA",
         "CHANNEL_TYPE": "Country-wide",
         "SELLERPLACE_AREA": 1296,
         "NAME_SELLER_INDUSTRY": "Consumer electronics",
         "CNT_PAYMENT": 12,
         "NAME_YIELD_GROUP": "high",
         "PRODUCT_COMBINATION": "POS household with interest",
         "DAYS_FIRST_DRAWING": 365243,
         "DAYS_FIRST_DUE": -1986,
         "DAYS_LAST_DUE_1ST_VERSION": -1656,
         "DAYS_LAST_DUE": -1656,
         "DAYS_TERMINATION": -1648,
         "NFLAG_INSURED_ON_APPROVAL": 0,
         "_deepnote_index_column": 178303
        }
       ],
       "rows_bottom": null
      },
      "text/plain": "         SK_ID_PREV  SK_ID_CURR NAME_CONTRACT_TYPE  AMT_ANNUITY  \\\n38906       1000001      158271     Consumer loans     6404.310   \n73676       1000002      101962     Consumer loans     6264.000   \n1517084     1000003      252457     Consumer loans     4951.350   \n1406334     1000004      260094     Consumer loans     3391.110   \n523289      1000005      176456     Consumer loans    14713.605   \n1476878     1000006      427505     Consumer loans    10572.345   \n1102061     1000007      256657     Consumer loans    11246.805   \n368627      1000008      152059     Consumer loans    26331.660   \n10842       1000009      343078     Consumer loans     9302.850   \n1636159     1000010      377567         Cash loans    74682.000   \n1022809     1000011      198678         Cash loans    92435.040   \n1465851     1000012      377567     Consumer loans    10439.145   \n734211      1000013      215520     Consumer loans    13347.900   \n1356546     1000014      361644     Consumer loans     8389.845   \n1267501     1000015      315553     Consumer loans     5597.460   \n10843       1000016      157990     Consumer loans     6078.150   \n201599      1000017      310743     Consumer loans     7002.720   \n1519242     1000018      394447    Revolving loans     2250.000   \n1414394     1000019      176905     Consumer loans     6072.165   \n178303      1000020      299072     Consumer loans    18393.165   \n\n         AMT_APPLICATION  AMT_CREDIT  AMT_DOWN_PAYMENT  AMT_GOODS_PRICE  \\\n38906          58905.000     65124.0             0.000        58905.000   \n73676          39145.500     35230.5          3915.000        39145.500   \n1517084        47056.275     52641.0             4.275        47056.275   \n1406334        35144.370     30586.5          7032.870        35144.370   \n523289        123486.075    120307.5         12349.575       123486.075   \n1476878        51417.000     51417.0             0.000        51417.000   \n1102061        78570.000     62856.0         15714.000        78570.000   \n368627        249255.000    224325.0         24930.000       249255.000   \n10842          42705.000     45243.0             0.000        42705.000   \n1636159       900000.000    900000.0               NaN       900000.000   \n1022809       855000.000    879831.0               NaN       855000.000   \n1465851       103104.000    113989.5             0.000       103104.000   \n734211        134955.000    133479.0         13500.000       134955.000   \n1356546        56835.000     57118.5          5850.000        56835.000   \n1267501        32310.000     34623.0          3600.000        32310.000   \n10843          63720.000     56970.0          6750.000        63720.000   \n201599         67864.230     75024.0             4.230        67864.230   \n1519242        45000.000     45000.0               NaN        45000.000   \n1414394        60246.000     51372.0         13500.000        60246.000   \n178303        151555.500    164961.0             0.000       151555.500   \n\n        WEEKDAY_APPR_PROCESS_START  HOUR_APPR_PROCESS_START  ...  \\\n38906                     THURSDAY                        8  ...   \n73676                       SUNDAY                        8  ...   \n1517084                     SUNDAY                       13  ...   \n1406334                   THURSDAY                        9  ...   \n523289                    THURSDAY                       13  ...   \n1476878                  WEDNESDAY                       13  ...   \n1102061                     SUNDAY                       13  ...   \n368627                      MONDAY                       14  ...   \n10842                     SATURDAY                       11  ...   \n1636159                   THURSDAY                       17  ...   \n1022809                     SUNDAY                       18  ...   \n1465851                   SATURDAY                       15  ...   \n734211                    THURSDAY                       18  ...   \n1356546                     SUNDAY                       18  ...   \n1267501                     MONDAY                       19  ...   \n10843                    WEDNESDAY                       16  ...   \n201599                    SATURDAY                       11  ...   \n1519242                     SUNDAY                       10  ...   \n1414394                     FRIDAY                       12  ...   \n178303                     TUESDAY                       10  ...   \n\n         NAME_SELLER_INDUSTRY  CNT_PAYMENT  NAME_YIELD_GROUP  \\\n38906               Furniture         12.0            middle   \n73676    Consumer electronics          6.0        low_normal   \n1517084  Consumer electronics         12.0        low_action   \n1406334  Consumer electronics         10.0        low_normal   \n523289           Construction         10.0            middle   \n1476878          Connectivity          6.0              high   \n1102061  Consumer electronics          6.0        low_normal   \n368627   Consumer electronics         10.0            middle   \n10842    Consumer electronics          6.0              high   \n1636159  Consumer electronics         18.0              high   \n1022809  Consumer electronics         12.0            middle   \n1465851  Consumer electronics         12.0        low_action   \n734211   Consumer electronics         12.0            middle   \n1356546  Consumer electronics          8.0            middle   \n1267501  Consumer electronics          8.0              high   \n10843    Consumer electronics         12.0            middle   \n201599   Consumer electronics         12.0        low_normal   \n1519242  Consumer electronics          0.0               XNA   \n1414394          Connectivity         12.0              high   \n178303   Consumer electronics         12.0              high   \n\n                    PRODUCT_COMBINATION  DAYS_FIRST_DRAWING DAYS_FIRST_DUE  \\\n38906        POS industry with interest            365243.0         -268.0   \n73676       POS household with interest            365243.0        -1600.0   \n1517084  POS household without interest            365243.0          -94.0   \n1406334  POS household without interest            365243.0         -862.0   \n523289       POS industry with interest            365243.0        -1688.0   \n1476878        POS mobile with interest                 NaN            NaN   \n1102061     POS household with interest            365243.0         -123.0   \n368627      POS household with interest            365243.0        -1282.0   \n10842       POS household with interest            365243.0         -457.0   \n1636159               Cash X-Sell: high            365243.0         -558.0   \n1022809             Cash X-Sell: middle            365243.0         -435.0   \n1465851  POS household without interest            365243.0         -883.0   \n734211      POS household with interest            365243.0        -1366.0   \n1356546     POS household with interest            365243.0        -1339.0   \n1267501     POS household with interest            365243.0        -1363.0   \n10843       POS household with interest            365243.0         -685.0   \n201599      POS household with interest            365243.0         -486.0   \n1519242                     Card Street              -175.0         -130.0   \n1414394        POS mobile with interest            365243.0        -2307.0   \n178303      POS household with interest            365243.0        -1986.0   \n\n        DAYS_LAST_DUE_1ST_VERSION  DAYS_LAST_DUE DAYS_TERMINATION  \\\n38906                        62.0         -238.0           -233.0   \n73676                     -1450.0        -1510.0          -1501.0   \n1517084                     236.0       365243.0         365243.0   \n1406334                    -592.0         -682.0           -672.0   \n523289                    -1418.0        -1418.0          -1415.0   \n1476878                       NaN            NaN              NaN   \n1102061                      27.0       365243.0         365243.0   \n368627                    -1012.0        -1042.0          -1034.0   \n10842                      -307.0         -307.0           -305.0   \n1636159                     -48.0         -258.0           -256.0   \n1022809                    -105.0         -105.0           -101.0   \n1465851                    -553.0         -553.0           -550.0   \n734211                    -1036.0        -1036.0          -1030.0   \n1356546                   -1129.0        -1129.0          -1126.0   \n1267501                   -1153.0        -1153.0          -1150.0   \n10843                      -355.0         -535.0           -531.0   \n201599                     -156.0         -156.0           -151.0   \n1519242                  365243.0       365243.0         365243.0   \n1414394                   -1977.0        -1977.0          -1972.0   \n178303                    -1656.0        -1656.0          -1648.0   \n\n        NFLAG_INSURED_ON_APPROVAL  \n38906                         0.0  \n73676                         0.0  \n1517084                       1.0  \n1406334                       0.0  \n523289                        0.0  \n1476878                       NaN  \n1102061                       0.0  \n368627                        0.0  \n10842                         0.0  \n1636159                       0.0  \n1022809                       1.0  \n1465851                       0.0  \n734211                        0.0  \n1356546                       0.0  \n1267501                       0.0  \n10843                         0.0  \n201599                        1.0  \n1519242                       0.0  \n1414394                       0.0  \n178303                        0.0  \n\n[20 rows x 37 columns]",
      "text/html": "<div>\n<style scoped>\n    .dataframe tbody tr th:only-of-type {\n        vertical-align: middle;\n    }\n\n    .dataframe tbody tr th {\n        vertical-align: top;\n    }\n\n    .dataframe thead th {\n        text-align: right;\n    }\n</style>\n<table border=\"1\" class=\"dataframe\">\n  <thead>\n    <tr style=\"text-align: right;\">\n      <th></th>\n      <th>SK_ID_PREV</th>\n      <th>SK_ID_CURR</th>\n      <th>NAME_CONTRACT_TYPE</th>\n      <th>AMT_ANNUITY</th>\n      <th>AMT_APPLICATION</th>\n      <th>AMT_CREDIT</th>\n      <th>AMT_DOWN_PAYMENT</th>\n      <th>AMT_GOODS_PRICE</th>\n      <th>WEEKDAY_APPR_PROCESS_START</th>\n      <th>HOUR_APPR_PROCESS_START</th>\n      <th>...</th>\n      <th>NAME_SELLER_INDUSTRY</th>\n      <th>CNT_PAYMENT</th>\n      <th>NAME_YIELD_GROUP</th>\n      <th>PRODUCT_COMBINATION</th>\n      <th>DAYS_FIRST_DRAWING</th>\n      <th>DAYS_FIRST_DUE</th>\n      <th>DAYS_LAST_DUE_1ST_VERSION</th>\n      <th>DAYS_LAST_DUE</th>\n      <th>DAYS_TERMINATION</th>\n      <th>NFLAG_INSURED_ON_APPROVAL</th>\n    </tr>\n  </thead>\n  <tbody>\n    <tr>\n      <th>38906</th>\n      <td>1000001</td>\n      <td>158271</td>\n      <td>Consumer loans</td>\n      <td>6404.310</td>\n      <td>58905.000</td>\n      <td>65124.0</td>\n      <td>0.000</td>\n      <td>58905.000</td>\n      <td>THURSDAY</td>\n      <td>8</td>\n      <td>...</td>\n      <td>Furniture</td>\n      <td>12.0</td>\n      <td>middle</td>\n      <td>POS industry with interest</td>\n      <td>365243.0</td>\n      <td>-268.0</td>\n      <td>62.0</td>\n      <td>-238.0</td>\n      <td>-233.0</td>\n      <td>0.0</td>\n    </tr>\n    <tr>\n      <th>73676</th>\n      <td>1000002</td>\n      <td>101962</td>\n      <td>Consumer loans</td>\n      <td>6264.000</td>\n      <td>39145.500</td>\n      <td>35230.5</td>\n      <td>3915.000</td>\n      <td>39145.500</td>\n      <td>SUNDAY</td>\n      <td>8</td>\n      <td>...</td>\n      <td>Consumer electronics</td>\n      <td>6.0</td>\n      <td>low_normal</td>\n      <td>POS household with interest</td>\n      <td>365243.0</td>\n      <td>-1600.0</td>\n      <td>-1450.0</td>\n      <td>-1510.0</td>\n      <td>-1501.0</td>\n      <td>0.0</td>\n    </tr>\n    <tr>\n      <th>1517084</th>\n      <td>1000003</td>\n      <td>252457</td>\n      <td>Consumer loans</td>\n      <td>4951.350</td>\n      <td>47056.275</td>\n      <td>52641.0</td>\n      <td>4.275</td>\n      <td>47056.275</td>\n      <td>SUNDAY</td>\n      <td>13</td>\n      <td>...</td>\n      <td>Consumer electronics</td>\n      <td>12.0</td>\n      <td>low_action</td>\n      <td>POS household without interest</td>\n      <td>365243.0</td>\n      <td>-94.0</td>\n      <td>236.0</td>\n      <td>365243.0</td>\n      <td>365243.0</td>\n      <td>1.0</td>\n    </tr>\n    <tr>\n      <th>1406334</th>\n      <td>1000004</td>\n      <td>260094</td>\n      <td>Consumer loans</td>\n      <td>3391.110</td>\n      <td>35144.370</td>\n      <td>30586.5</td>\n      <td>7032.870</td>\n      <td>35144.370</td>\n      <td>THURSDAY</td>\n      <td>9</td>\n      <td>...</td>\n      <td>Consumer electronics</td>\n      <td>10.0</td>\n      <td>low_normal</td>\n      <td>POS household without interest</td>\n      <td>365243.0</td>\n      <td>-862.0</td>\n      <td>-592.0</td>\n      <td>-682.0</td>\n      <td>-672.0</td>\n      <td>0.0</td>\n    </tr>\n    <tr>\n      <th>523289</th>\n      <td>1000005</td>\n      <td>176456</td>\n      <td>Consumer loans</td>\n      <td>14713.605</td>\n      <td>123486.075</td>\n      <td>120307.5</td>\n      <td>12349.575</td>\n      <td>123486.075</td>\n      <td>THURSDAY</td>\n      <td>13</td>\n      <td>...</td>\n      <td>Construction</td>\n      <td>10.0</td>\n      <td>middle</td>\n      <td>POS industry with interest</td>\n      <td>365243.0</td>\n      <td>-1688.0</td>\n      <td>-1418.0</td>\n      <td>-1418.0</td>\n      <td>-1415.0</td>\n      <td>0.0</td>\n    </tr>\n    <tr>\n      <th>1476878</th>\n      <td>1000006</td>\n      <td>427505</td>\n      <td>Consumer loans</td>\n      <td>10572.345</td>\n      <td>51417.000</td>\n      <td>51417.0</td>\n      <td>0.000</td>\n      <td>51417.000</td>\n      <td>WEDNESDAY</td>\n      <td>13</td>\n      <td>...</td>\n      <td>Connectivity</td>\n      <td>6.0</td>\n      <td>high</td>\n      <td>POS mobile with interest</td>\n      <td>NaN</td>\n      <td>NaN</td>\n      <td>NaN</td>\n      <td>NaN</td>\n      <td>NaN</td>\n      <td>NaN</td>\n    </tr>\n    <tr>\n      <th>1102061</th>\n      <td>1000007</td>\n      <td>256657</td>\n      <td>Consumer loans</td>\n      <td>11246.805</td>\n      <td>78570.000</td>\n      <td>62856.0</td>\n      <td>15714.000</td>\n      <td>78570.000</td>\n      <td>SUNDAY</td>\n      <td>13</td>\n      <td>...</td>\n      <td>Consumer electronics</td>\n      <td>6.0</td>\n      <td>low_normal</td>\n      <td>POS household with interest</td>\n      <td>365243.0</td>\n      <td>-123.0</td>\n      <td>27.0</td>\n      <td>365243.0</td>\n      <td>365243.0</td>\n      <td>0.0</td>\n    </tr>\n    <tr>\n      <th>368627</th>\n      <td>1000008</td>\n      <td>152059</td>\n      <td>Consumer loans</td>\n      <td>26331.660</td>\n      <td>249255.000</td>\n      <td>224325.0</td>\n      <td>24930.000</td>\n      <td>249255.000</td>\n      <td>MONDAY</td>\n      <td>14</td>\n      <td>...</td>\n      <td>Consumer electronics</td>\n      <td>10.0</td>\n      <td>middle</td>\n      <td>POS household with interest</td>\n      <td>365243.0</td>\n      <td>-1282.0</td>\n      <td>-1012.0</td>\n      <td>-1042.0</td>\n      <td>-1034.0</td>\n      <td>0.0</td>\n    </tr>\n    <tr>\n      <th>10842</th>\n      <td>1000009</td>\n      <td>343078</td>\n      <td>Consumer loans</td>\n      <td>9302.850</td>\n      <td>42705.000</td>\n      <td>45243.0</td>\n      <td>0.000</td>\n      <td>42705.000</td>\n      <td>SATURDAY</td>\n      <td>11</td>\n      <td>...</td>\n      <td>Consumer electronics</td>\n      <td>6.0</td>\n      <td>high</td>\n      <td>POS household with interest</td>\n      <td>365243.0</td>\n      <td>-457.0</td>\n      <td>-307.0</td>\n      <td>-307.0</td>\n      <td>-305.0</td>\n      <td>0.0</td>\n    </tr>\n    <tr>\n      <th>1636159</th>\n      <td>1000010</td>\n      <td>377567</td>\n      <td>Cash loans</td>\n      <td>74682.000</td>\n      <td>900000.000</td>\n      <td>900000.0</td>\n      <td>NaN</td>\n      <td>900000.000</td>\n      <td>THURSDAY</td>\n      <td>17</td>\n      <td>...</td>\n      <td>Consumer electronics</td>\n      <td>18.0</td>\n      <td>high</td>\n      <td>Cash X-Sell: high</td>\n      <td>365243.0</td>\n      <td>-558.0</td>\n      <td>-48.0</td>\n      <td>-258.0</td>\n      <td>-256.0</td>\n      <td>0.0</td>\n    </tr>\n    <tr>\n      <th>1022809</th>\n      <td>1000011</td>\n      <td>198678</td>\n      <td>Cash loans</td>\n      <td>92435.040</td>\n      <td>855000.000</td>\n      <td>879831.0</td>\n      <td>NaN</td>\n      <td>855000.000</td>\n      <td>SUNDAY</td>\n      <td>18</td>\n      <td>...</td>\n      <td>Consumer electronics</td>\n      <td>12.0</td>\n      <td>middle</td>\n      <td>Cash X-Sell: middle</td>\n      <td>365243.0</td>\n      <td>-435.0</td>\n      <td>-105.0</td>\n      <td>-105.0</td>\n      <td>-101.0</td>\n      <td>1.0</td>\n    </tr>\n    <tr>\n      <th>1465851</th>\n      <td>1000012</td>\n      <td>377567</td>\n      <td>Consumer loans</td>\n      <td>10439.145</td>\n      <td>103104.000</td>\n      <td>113989.5</td>\n      <td>0.000</td>\n      <td>103104.000</td>\n      <td>SATURDAY</td>\n      <td>15</td>\n      <td>...</td>\n      <td>Consumer electronics</td>\n      <td>12.0</td>\n      <td>low_action</td>\n      <td>POS household without interest</td>\n      <td>365243.0</td>\n      <td>-883.0</td>\n      <td>-553.0</td>\n      <td>-553.0</td>\n      <td>-550.0</td>\n      <td>0.0</td>\n    </tr>\n    <tr>\n      <th>734211</th>\n      <td>1000013</td>\n      <td>215520</td>\n      <td>Consumer loans</td>\n      <td>13347.900</td>\n      <td>134955.000</td>\n      <td>133479.0</td>\n      <td>13500.000</td>\n      <td>134955.000</td>\n      <td>THURSDAY</td>\n      <td>18</td>\n      <td>...</td>\n      <td>Consumer electronics</td>\n      <td>12.0</td>\n      <td>middle</td>\n      <td>POS household with interest</td>\n      <td>365243.0</td>\n      <td>-1366.0</td>\n      <td>-1036.0</td>\n      <td>-1036.0</td>\n      <td>-1030.0</td>\n      <td>0.0</td>\n    </tr>\n    <tr>\n      <th>1356546</th>\n      <td>1000014</td>\n      <td>361644</td>\n      <td>Consumer loans</td>\n      <td>8389.845</td>\n      <td>56835.000</td>\n      <td>57118.5</td>\n      <td>5850.000</td>\n      <td>56835.000</td>\n      <td>SUNDAY</td>\n      <td>18</td>\n      <td>...</td>\n      <td>Consumer electronics</td>\n      <td>8.0</td>\n      <td>middle</td>\n      <td>POS household with interest</td>\n      <td>365243.0</td>\n      <td>-1339.0</td>\n      <td>-1129.0</td>\n      <td>-1129.0</td>\n      <td>-1126.0</td>\n      <td>0.0</td>\n    </tr>\n    <tr>\n      <th>1267501</th>\n      <td>1000015</td>\n      <td>315553</td>\n      <td>Consumer loans</td>\n      <td>5597.460</td>\n      <td>32310.000</td>\n      <td>34623.0</td>\n      <td>3600.000</td>\n      <td>32310.000</td>\n      <td>MONDAY</td>\n      <td>19</td>\n      <td>...</td>\n      <td>Consumer electronics</td>\n      <td>8.0</td>\n      <td>high</td>\n      <td>POS household with interest</td>\n      <td>365243.0</td>\n      <td>-1363.0</td>\n      <td>-1153.0</td>\n      <td>-1153.0</td>\n      <td>-1150.0</td>\n      <td>0.0</td>\n    </tr>\n    <tr>\n      <th>10843</th>\n      <td>1000016</td>\n      <td>157990</td>\n      <td>Consumer loans</td>\n      <td>6078.150</td>\n      <td>63720.000</td>\n      <td>56970.0</td>\n      <td>6750.000</td>\n      <td>63720.000</td>\n      <td>WEDNESDAY</td>\n      <td>16</td>\n      <td>...</td>\n      <td>Consumer electronics</td>\n      <td>12.0</td>\n      <td>middle</td>\n      <td>POS household with interest</td>\n      <td>365243.0</td>\n      <td>-685.0</td>\n      <td>-355.0</td>\n      <td>-535.0</td>\n      <td>-531.0</td>\n      <td>0.0</td>\n    </tr>\n    <tr>\n      <th>201599</th>\n      <td>1000017</td>\n      <td>310743</td>\n      <td>Consumer loans</td>\n      <td>7002.720</td>\n      <td>67864.230</td>\n      <td>75024.0</td>\n      <td>4.230</td>\n      <td>67864.230</td>\n      <td>SATURDAY</td>\n      <td>11</td>\n      <td>...</td>\n      <td>Consumer electronics</td>\n      <td>12.0</td>\n      <td>low_normal</td>\n      <td>POS household with interest</td>\n      <td>365243.0</td>\n      <td>-486.0</td>\n      <td>-156.0</td>\n      <td>-156.0</td>\n      <td>-151.0</td>\n      <td>1.0</td>\n    </tr>\n    <tr>\n      <th>1519242</th>\n      <td>1000018</td>\n      <td>394447</td>\n      <td>Revolving loans</td>\n      <td>2250.000</td>\n      <td>45000.000</td>\n      <td>45000.0</td>\n      <td>NaN</td>\n      <td>45000.000</td>\n      <td>SUNDAY</td>\n      <td>10</td>\n      <td>...</td>\n      <td>Consumer electronics</td>\n      <td>0.0</td>\n      <td>XNA</td>\n      <td>Card Street</td>\n      <td>-175.0</td>\n      <td>-130.0</td>\n      <td>365243.0</td>\n      <td>365243.0</td>\n      <td>365243.0</td>\n      <td>0.0</td>\n    </tr>\n    <tr>\n      <th>1414394</th>\n      <td>1000019</td>\n      <td>176905</td>\n      <td>Consumer loans</td>\n      <td>6072.165</td>\n      <td>60246.000</td>\n      <td>51372.0</td>\n      <td>13500.000</td>\n      <td>60246.000</td>\n      <td>FRIDAY</td>\n      <td>12</td>\n      <td>...</td>\n      <td>Connectivity</td>\n      <td>12.0</td>\n      <td>high</td>\n      <td>POS mobile with interest</td>\n      <td>365243.0</td>\n      <td>-2307.0</td>\n      <td>-1977.0</td>\n      <td>-1977.0</td>\n      <td>-1972.0</td>\n      <td>0.0</td>\n    </tr>\n    <tr>\n      <th>178303</th>\n      <td>1000020</td>\n      <td>299072</td>\n      <td>Consumer loans</td>\n      <td>18393.165</td>\n      <td>151555.500</td>\n      <td>164961.0</td>\n      <td>0.000</td>\n      <td>151555.500</td>\n      <td>TUESDAY</td>\n      <td>10</td>\n      <td>...</td>\n      <td>Consumer electronics</td>\n      <td>12.0</td>\n      <td>high</td>\n      <td>POS household with interest</td>\n      <td>365243.0</td>\n      <td>-1986.0</td>\n      <td>-1656.0</td>\n      <td>-1656.0</td>\n      <td>-1648.0</td>\n      <td>0.0</td>\n    </tr>\n  </tbody>\n</table>\n<p>20 rows × 37 columns</p>\n</div>"
     },
     "metadata": {}
    }
   ]
  },
  {
   "cell_type": "code",
   "metadata": {
    "tags": [],
    "cell_id": "00004-eb1c1390-d606-4cbb-9c9e-6ea7857dcfe1",
    "deepnote_to_be_reexecuted": false,
    "source_hash": "c9499a01",
    "execution_start": 1630374517173,
    "execution_millis": 209,
    "deepnote_cell_type": "code"
   },
   "source": "help(pd.merge)",
   "execution_count": null,
   "outputs": [
    {
     "name": "stdout",
     "text": "Help on function merge in module pandas.core.reshape.merge:\n\nmerge(left, right, how: str = 'inner', on=None, left_on=None, right_on=None, left_index: bool = False, right_index: bool = False, sort: bool = False, suffixes=('_x', '_y'), copy: bool = True, indicator: bool = False, validate=None) -> 'DataFrame'\n    Merge DataFrame or named Series objects with a database-style join.\n    \n    The join is done on columns or indexes. If joining columns on\n    columns, the DataFrame indexes *will be ignored*. Otherwise if joining indexes\n    on indexes or indexes on a column or columns, the index will be passed on.\n    When performing a cross merge, no column specifications to merge on are\n    allowed.\n    \n    Parameters\n    ----------\n    left : DataFrame\n    right : DataFrame or named Series\n        Object to merge with.\n    how : {'left', 'right', 'outer', 'inner', 'cross'}, default 'inner'\n        Type of merge to be performed.\n    \n        * left: use only keys from left frame, similar to a SQL left outer join;\n          preserve key order.\n        * right: use only keys from right frame, similar to a SQL right outer join;\n          preserve key order.\n        * outer: use union of keys from both frames, similar to a SQL full outer\n          join; sort keys lexicographically.\n        * inner: use intersection of keys from both frames, similar to a SQL inner\n          join; preserve the order of the left keys.\n        * cross: creates the cartesian product from both frames, preserves the order\n          of the left keys.\n    \n          .. versionadded:: 1.2.0\n    \n    on : label or list\n        Column or index level names to join on. These must be found in both\n        DataFrames. If `on` is None and not merging on indexes then this defaults\n        to the intersection of the columns in both DataFrames.\n    left_on : label or list, or array-like\n        Column or index level names to join on in the left DataFrame. Can also\n        be an array or list of arrays of the length of the left DataFrame.\n        These arrays are treated as if they are columns.\n    right_on : label or list, or array-like\n        Column or index level names to join on in the right DataFrame. Can also\n        be an array or list of arrays of the length of the right DataFrame.\n        These arrays are treated as if they are columns.\n    left_index : bool, default False\n        Use the index from the left DataFrame as the join key(s). If it is a\n        MultiIndex, the number of keys in the other DataFrame (either the index\n        or a number of columns) must match the number of levels.\n    right_index : bool, default False\n        Use the index from the right DataFrame as the join key. Same caveats as\n        left_index.\n    sort : bool, default False\n        Sort the join keys lexicographically in the result DataFrame. If False,\n        the order of the join keys depends on the join type (how keyword).\n    suffixes : list-like, default is (\"_x\", \"_y\")\n        A length-2 sequence where each element is optionally a string\n        indicating the suffix to add to overlapping column names in\n        `left` and `right` respectively. Pass a value of `None` instead\n        of a string to indicate that the column name from `left` or\n        `right` should be left as-is, with no suffix. At least one of the\n        values must not be None.\n    copy : bool, default True\n        If False, avoid copy if possible.\n    indicator : bool or str, default False\n        If True, adds a column to the output DataFrame called \"_merge\" with\n        information on the source of each row. The column can be given a different\n        name by providing a string argument. The column will have a Categorical\n        type with the value of \"left_only\" for observations whose merge key only\n        appears in the left DataFrame, \"right_only\" for observations\n        whose merge key only appears in the right DataFrame, and \"both\"\n        if the observation's merge key is found in both DataFrames.\n    \n    validate : str, optional\n        If specified, checks if merge is of specified type.\n    \n        * \"one_to_one\" or \"1:1\": check if merge keys are unique in both\n          left and right datasets.\n        * \"one_to_many\" or \"1:m\": check if merge keys are unique in left\n          dataset.\n        * \"many_to_one\" or \"m:1\": check if merge keys are unique in right\n          dataset.\n        * \"many_to_many\" or \"m:m\": allowed, but does not result in checks.\n    \n    Returns\n    -------\n    DataFrame\n        A DataFrame of the two merged objects.\n    \n    See Also\n    --------\n    merge_ordered : Merge with optional filling/interpolation.\n    merge_asof : Merge on nearest keys.\n    DataFrame.join : Similar method using indices.\n    \n    Notes\n    -----\n    Support for specifying index levels as the `on`, `left_on`, and\n    `right_on` parameters was added in version 0.23.0\n    Support for merging named Series objects was added in version 0.24.0\n    \n    Examples\n    --------\n    >>> df1 = pd.DataFrame({'lkey': ['foo', 'bar', 'baz', 'foo'],\n    ...                     'value': [1, 2, 3, 5]})\n    >>> df2 = pd.DataFrame({'rkey': ['foo', 'bar', 'baz', 'foo'],\n    ...                     'value': [5, 6, 7, 8]})\n    >>> df1\n        lkey value\n    0   foo      1\n    1   bar      2\n    2   baz      3\n    3   foo      5\n    >>> df2\n        rkey value\n    0   foo      5\n    1   bar      6\n    2   baz      7\n    3   foo      8\n    \n    Merge df1 and df2 on the lkey and rkey columns. The value columns have\n    the default suffixes, _x and _y, appended.\n    \n    >>> df1.merge(df2, left_on='lkey', right_on='rkey')\n      lkey  value_x rkey  value_y\n    0  foo        1  foo        5\n    1  foo        1  foo        8\n    2  foo        5  foo        5\n    3  foo        5  foo        8\n    4  bar        2  bar        6\n    5  baz        3  baz        7\n    \n    Merge DataFrames df1 and df2 with specified left and right suffixes\n    appended to any overlapping columns.\n    \n    >>> df1.merge(df2, left_on='lkey', right_on='rkey',\n    ...           suffixes=('_left', '_right'))\n      lkey  value_left rkey  value_right\n    0  foo           1  foo            5\n    1  foo           1  foo            8\n    2  foo           5  foo            5\n    3  foo           5  foo            8\n    4  bar           2  bar            6\n    5  baz           3  baz            7\n    \n    Merge DataFrames df1 and df2, but raise an exception if the DataFrames have\n    any overlapping columns.\n    \n    >>> df1.merge(df2, left_on='lkey', right_on='rkey', suffixes=(False, False))\n    Traceback (most recent call last):\n    ...\n    ValueError: columns overlap but no suffix specified:\n        Index(['value'], dtype='object')\n    \n    >>> df1 = pd.DataFrame({'a': ['foo', 'bar'], 'b': [1, 2]})\n    >>> df2 = pd.DataFrame({'a': ['foo', 'baz'], 'c': [3, 4]})\n    >>> df1\n          a  b\n    0   foo  1\n    1   bar  2\n    >>> df2\n          a  c\n    0   foo  3\n    1   baz  4\n    \n    >>> df1.merge(df2, how='inner', on='a')\n          a  b  c\n    0   foo  1  3\n    \n    >>> df1.merge(df2, how='left', on='a')\n          a  b  c\n    0   foo  1  3.0\n    1   bar  2  NaN\n    \n    >>> df1 = pd.DataFrame({'left': ['foo', 'bar']})\n    >>> df2 = pd.DataFrame({'right': [7, 8]})\n    >>> df1\n        left\n    0   foo\n    1   bar\n    >>> df2\n        right\n    0   7\n    1   8\n    \n    >>> df1.merge(df2, how='cross')\n       left  right\n    0   foo      7\n    1   foo      8\n    2   bar      7\n    3   bar      8\n\n",
     "output_type": "stream"
    }
   ]
  },
  {
   "cell_type": "code",
   "metadata": {
    "tags": [],
    "cell_id": "00004-20474d56-2d36-4a65-9e5d-3ae27aeeb4f2",
    "deepnote_to_be_reexecuted": false,
    "source_hash": "4080bb93",
    "execution_start": 1630374517174,
    "execution_millis": 3943,
    "deepnote_cell_type": "code"
   },
   "source": "pmts_totals = pmts.groupby(\"SK_ID_PREV\").AMT_INSTALMENT.agg(total = \"sum\").reset_index()\npd.merge(prev_apps, pmts_totals, on = \"SK_ID_PREV\")[[\"SK_ID_PREV\", \"AMT_CREDIT\", \"total\"]].head(20)",
   "execution_count": null,
   "outputs": [
    {
     "output_type": "execute_result",
     "execution_count": 5,
     "data": {
      "application/vnd.deepnote.dataframe.v2+json": {
       "row_count": 20,
       "column_count": 3,
       "columns": [
        {
         "name": "SK_ID_PREV",
         "dtype": "int64",
         "stats": {
          "unique_count": 20,
          "nan_count": 0,
          "min": "1182516",
          "max": "2819243",
          "histogram": [
           {
            "bin_start": 1182516,
            "bin_end": 1346188.7,
            "count": 3
           },
           {
            "bin_start": 1346188.7,
            "bin_end": 1509861.4,
            "count": 2
           },
           {
            "bin_start": 1509861.4,
            "bin_end": 1673534.1,
            "count": 1
           },
           {
            "bin_start": 1673534.1,
            "bin_end": 1837206.8,
            "count": 2
           },
           {
            "bin_start": 1837206.8,
            "bin_end": 2000879.5,
            "count": 0
           },
           {
            "bin_start": 2000879.5,
            "bin_end": 2164552.2,
            "count": 4
           },
           {
            "bin_start": 2164552.2,
            "bin_end": 2328224.9000000004,
            "count": 3
           },
           {
            "bin_start": 2328224.9000000004,
            "bin_end": 2491897.6,
            "count": 1
           },
           {
            "bin_start": 2491897.6,
            "bin_end": 2655570.3,
            "count": 2
           },
           {
            "bin_start": 2655570.3,
            "bin_end": 2819243,
            "count": 2
           }
          ]
         }
        },
        {
         "name": "AMT_CREDIT",
         "dtype": "float64",
         "stats": {
          "unique_count": 20,
          "nan_count": 0,
          "min": "17145.0",
          "max": "679671.0",
          "histogram": [
           {
            "bin_start": 17145,
            "bin_end": 83397.6,
            "count": 6
           },
           {
            "bin_start": 83397.6,
            "bin_end": 149650.2,
            "count": 3
           },
           {
            "bin_start": 149650.2,
            "bin_end": 215902.80000000002,
            "count": 2
           },
           {
            "bin_start": 215902.80000000002,
            "bin_end": 282155.4,
            "count": 3
           },
           {
            "bin_start": 282155.4,
            "bin_end": 348408,
            "count": 2
           },
           {
            "bin_start": 348408,
            "bin_end": 414660.60000000003,
            "count": 1
           },
           {
            "bin_start": 414660.60000000003,
            "bin_end": 480913.20000000007,
            "count": 2
           },
           {
            "bin_start": 480913.20000000007,
            "bin_end": 547165.8,
            "count": 0
           },
           {
            "bin_start": 547165.8,
            "bin_end": 613418.4,
            "count": 0
           },
           {
            "bin_start": 613418.4,
            "bin_end": 679671,
            "count": 1
           }
          ]
         }
        },
        {
         "name": "total",
         "dtype": "float64",
         "stats": {
          "unique_count": 20,
          "nan_count": 0,
          "min": "17284.275",
          "max": "799966.4849999993",
          "histogram": [
           {
            "bin_start": 17284.275,
            "bin_end": 95552.49599999993,
            "count": 6
           },
           {
            "bin_start": 95552.49599999993,
            "bin_end": 173820.71699999986,
            "count": 5
           },
           {
            "bin_start": 173820.71699999986,
            "bin_end": 252088.9379999998,
            "count": 1
           },
           {
            "bin_start": 252088.9379999998,
            "bin_end": 330357.15899999975,
            "count": 2
           },
           {
            "bin_start": 330357.15899999975,
            "bin_end": 408625.37999999966,
            "count": 0
           },
           {
            "bin_start": 408625.37999999966,
            "bin_end": 486893.6009999996,
            "count": 3
           },
           {
            "bin_start": 486893.6009999996,
            "bin_end": 565161.8219999996,
            "count": 1
           },
           {
            "bin_start": 565161.8219999996,
            "bin_end": 643430.0429999995,
            "count": 1
           },
           {
            "bin_start": 643430.0429999995,
            "bin_end": 721698.2639999994,
            "count": 0
           },
           {
            "bin_start": 721698.2639999994,
            "bin_end": 799966.4849999993,
            "count": 1
           }
          ]
         }
        },
        {
         "name": "_deepnote_index_column",
         "dtype": "int64"
        }
       ],
       "rows_top": [
        {
         "SK_ID_PREV": 2030495,
         "AMT_CREDIT": 17145,
         "total": 17284.275,
         "_deepnote_index_column": 0
        },
        {
         "SK_ID_PREV": 2802425,
         "AMT_CREDIT": 679671,
         "total": 125943.07500000001,
         "_deepnote_index_column": 1
        },
        {
         "SK_ID_PREV": 2523466,
         "AMT_CREDIT": 136444.5,
         "total": 135546.615,
         "_deepnote_index_column": 2
        },
        {
         "SK_ID_PREV": 2819243,
         "AMT_CREDIT": 470790,
         "total": 563133.3750000001,
         "_deepnote_index_column": 3
        },
        {
         "SK_ID_PREV": 1383531,
         "AMT_CREDIT": 340573.5,
         "total": 419332.90499999997,
         "_deepnote_index_column": 4
        },
        {
         "SK_ID_PREV": 1715995,
         "AMT_CREDIT": 335754,
         "total": 437811.43499999994,
         "_deepnote_index_column": 5
        },
        {
         "SK_ID_PREV": 2257824,
         "AMT_CREDIT": 246397.5,
         "total": 273568.05,
         "_deepnote_index_column": 6
        },
        {
         "SK_ID_PREV": 2330894,
         "AMT_CREDIT": 174361.5,
         "total": 240813.31500000006,
         "_deepnote_index_column": 7
        },
        {
         "SK_ID_PREV": 1397919,
         "AMT_CREDIT": 57564,
         "total": 61238.34,
         "_deepnote_index_column": 8
        },
        {
         "SK_ID_PREV": 2273188,
         "AMT_CREDIT": 27252,
         "total": 28932.345,
         "_deepnote_index_column": 9
        },
        {
         "SK_ID_PREV": 1232483,
         "AMT_CREDIT": 119853,
         "total": 127830.69000000002,
         "_deepnote_index_column": 10
        },
        {
         "SK_ID_PREV": 2163253,
         "AMT_CREDIT": 27297,
         "total": 33505.92,
         "_deepnote_index_column": 11
        },
        {
         "SK_ID_PREV": 1285768,
         "AMT_CREDIT": 180000,
         "total": 105750.00000000001,
         "_deepnote_index_column": 12
        },
        {
         "SK_ID_PREV": 1182516,
         "AMT_CREDIT": 451777.5,
         "total": 610847.9999999997,
         "_deepnote_index_column": 13
        },
        {
         "SK_ID_PREV": 1543131,
         "AMT_CREDIT": 241920,
         "total": 271411.29,
         "_deepnote_index_column": 14
        },
        {
         "SK_ID_PREV": 2536650,
         "AMT_CREDIT": 369000,
         "total": 799966.4849999993,
         "_deepnote_index_column": 15
        },
        {
         "SK_ID_PREV": 1676258,
         "AMT_CREDIT": 268083,
         "total": 467124.7500000002,
         "_deepnote_index_column": 16
        },
        {
         "SK_ID_PREV": 2075578,
         "AMT_CREDIT": 65610,
         "total": 91796.31000000001,
         "_deepnote_index_column": 17
        },
        {
         "SK_ID_PREV": 2138466,
         "AMT_CREDIT": 32562,
         "total": 34096.455,
         "_deepnote_index_column": 18
        },
        {
         "SK_ID_PREV": 2191093,
         "AMT_CREDIT": 100485,
         "total": 109375.11000000002,
         "_deepnote_index_column": 19
        }
       ],
       "rows_bottom": null
      },
      "text/plain": "    SK_ID_PREV  AMT_CREDIT       total\n0      2030495     17145.0   17284.275\n1      2802425    679671.0  125943.075\n2      2523466    136444.5  135546.615\n3      2819243    470790.0  563133.375\n4      1383531    340573.5  419332.905\n5      1715995    335754.0  437811.435\n6      2257824    246397.5  273568.050\n7      2330894    174361.5  240813.315\n8      1397919     57564.0   61238.340\n9      2273188     27252.0   28932.345\n10     1232483    119853.0  127830.690\n11     2163253     27297.0   33505.920\n12     1285768    180000.0  105750.000\n13     1182516    451777.5  610848.000\n14     1543131    241920.0  271411.290\n15     2536650    369000.0  799966.485\n16     1676258    268083.0  467124.750\n17     2075578     65610.0   91796.310\n18     2138466     32562.0   34096.455\n19     2191093    100485.0  109375.110",
      "text/html": "<div>\n<style scoped>\n    .dataframe tbody tr th:only-of-type {\n        vertical-align: middle;\n    }\n\n    .dataframe tbody tr th {\n        vertical-align: top;\n    }\n\n    .dataframe thead th {\n        text-align: right;\n    }\n</style>\n<table border=\"1\" class=\"dataframe\">\n  <thead>\n    <tr style=\"text-align: right;\">\n      <th></th>\n      <th>SK_ID_PREV</th>\n      <th>AMT_CREDIT</th>\n      <th>total</th>\n    </tr>\n  </thead>\n  <tbody>\n    <tr>\n      <th>0</th>\n      <td>2030495</td>\n      <td>17145.0</td>\n      <td>17284.275</td>\n    </tr>\n    <tr>\n      <th>1</th>\n      <td>2802425</td>\n      <td>679671.0</td>\n      <td>125943.075</td>\n    </tr>\n    <tr>\n      <th>2</th>\n      <td>2523466</td>\n      <td>136444.5</td>\n      <td>135546.615</td>\n    </tr>\n    <tr>\n      <th>3</th>\n      <td>2819243</td>\n      <td>470790.0</td>\n      <td>563133.375</td>\n    </tr>\n    <tr>\n      <th>4</th>\n      <td>1383531</td>\n      <td>340573.5</td>\n      <td>419332.905</td>\n    </tr>\n    <tr>\n      <th>5</th>\n      <td>1715995</td>\n      <td>335754.0</td>\n      <td>437811.435</td>\n    </tr>\n    <tr>\n      <th>6</th>\n      <td>2257824</td>\n      <td>246397.5</td>\n      <td>273568.050</td>\n    </tr>\n    <tr>\n      <th>7</th>\n      <td>2330894</td>\n      <td>174361.5</td>\n      <td>240813.315</td>\n    </tr>\n    <tr>\n      <th>8</th>\n      <td>1397919</td>\n      <td>57564.0</td>\n      <td>61238.340</td>\n    </tr>\n    <tr>\n      <th>9</th>\n      <td>2273188</td>\n      <td>27252.0</td>\n      <td>28932.345</td>\n    </tr>\n    <tr>\n      <th>10</th>\n      <td>1232483</td>\n      <td>119853.0</td>\n      <td>127830.690</td>\n    </tr>\n    <tr>\n      <th>11</th>\n      <td>2163253</td>\n      <td>27297.0</td>\n      <td>33505.920</td>\n    </tr>\n    <tr>\n      <th>12</th>\n      <td>1285768</td>\n      <td>180000.0</td>\n      <td>105750.000</td>\n    </tr>\n    <tr>\n      <th>13</th>\n      <td>1182516</td>\n      <td>451777.5</td>\n      <td>610848.000</td>\n    </tr>\n    <tr>\n      <th>14</th>\n      <td>1543131</td>\n      <td>241920.0</td>\n      <td>271411.290</td>\n    </tr>\n    <tr>\n      <th>15</th>\n      <td>2536650</td>\n      <td>369000.0</td>\n      <td>799966.485</td>\n    </tr>\n    <tr>\n      <th>16</th>\n      <td>1676258</td>\n      <td>268083.0</td>\n      <td>467124.750</td>\n    </tr>\n    <tr>\n      <th>17</th>\n      <td>2075578</td>\n      <td>65610.0</td>\n      <td>91796.310</td>\n    </tr>\n    <tr>\n      <th>18</th>\n      <td>2138466</td>\n      <td>32562.0</td>\n      <td>34096.455</td>\n    </tr>\n    <tr>\n      <th>19</th>\n      <td>2191093</td>\n      <td>100485.0</td>\n      <td>109375.110</td>\n    </tr>\n  </tbody>\n</table>\n</div>"
     },
     "metadata": {}
    }
   ]
  },
  {
   "cell_type": "code",
   "metadata": {
    "tags": [],
    "cell_id": "00002-223e76b3-3d23-4541-8826-e60bc7cf305a",
    "deepnote_to_be_reexecuted": false,
    "source_hash": "4fcbfa2b",
    "execution_start": 1630374521112,
    "execution_millis": 11729,
    "deepnote_cell_type": "code"
   },
   "source": "pmts.sort_values([\"SK_ID_PREV\", \"NUM_INSTALMENT_NUMBER\"]).head(20)",
   "execution_count": null,
   "outputs": [
    {
     "output_type": "execute_result",
     "execution_count": 6,
     "data": {
      "application/vnd.deepnote.dataframe.v2+json": {
       "row_count": 20,
       "column_count": 8,
       "columns": [
        {
         "name": "SK_ID_PREV",
         "dtype": "int64",
         "stats": {
          "unique_count": 5,
          "nan_count": 0,
          "min": "1000001",
          "max": "1000005",
          "histogram": [
           {
            "bin_start": 1000001,
            "bin_end": 1000001.4,
            "count": 2
           },
           {
            "bin_start": 1000001.4,
            "bin_end": 1000001.8,
            "count": 0
           },
           {
            "bin_start": 1000001.8,
            "bin_end": 1000002.2,
            "count": 4
           },
           {
            "bin_start": 1000002.2,
            "bin_end": 1000002.6,
            "count": 0
           },
           {
            "bin_start": 1000002.6,
            "bin_end": 1000003,
            "count": 0
           },
           {
            "bin_start": 1000003,
            "bin_end": 1000003.4,
            "count": 3
           },
           {
            "bin_start": 1000003.4,
            "bin_end": 1000003.8,
            "count": 0
           },
           {
            "bin_start": 1000003.8,
            "bin_end": 1000004.2,
            "count": 7
           },
           {
            "bin_start": 1000004.2,
            "bin_end": 1000004.6,
            "count": 0
           },
           {
            "bin_start": 1000004.6,
            "bin_end": 1000005,
            "count": 4
           }
          ]
         }
        },
        {
         "name": "SK_ID_CURR",
         "dtype": "int64",
         "stats": {
          "unique_count": 5,
          "nan_count": 0,
          "min": "101962",
          "max": "260094",
          "histogram": [
           {
            "bin_start": 101962,
            "bin_end": 117775.2,
            "count": 4
           },
           {
            "bin_start": 117775.2,
            "bin_end": 133588.4,
            "count": 0
           },
           {
            "bin_start": 133588.4,
            "bin_end": 149401.6,
            "count": 0
           },
           {
            "bin_start": 149401.6,
            "bin_end": 165214.8,
            "count": 2
           },
           {
            "bin_start": 165214.8,
            "bin_end": 181028,
            "count": 4
           },
           {
            "bin_start": 181028,
            "bin_end": 196841.2,
            "count": 0
           },
           {
            "bin_start": 196841.2,
            "bin_end": 212654.40000000002,
            "count": 0
           },
           {
            "bin_start": 212654.40000000002,
            "bin_end": 228467.6,
            "count": 0
           },
           {
            "bin_start": 228467.6,
            "bin_end": 244280.80000000002,
            "count": 0
           },
           {
            "bin_start": 244280.80000000002,
            "bin_end": 260094,
            "count": 10
           }
          ]
         }
        },
        {
         "name": "NUM_INSTALMENT_VERSION",
         "dtype": "float64",
         "stats": {
          "unique_count": 2,
          "nan_count": 0,
          "min": "1.0",
          "max": "2.0",
          "histogram": [
           {
            "bin_start": 1,
            "bin_end": 1.1,
            "count": 17
           },
           {
            "bin_start": 1.1,
            "bin_end": 1.2,
            "count": 0
           },
           {
            "bin_start": 1.2,
            "bin_end": 1.3,
            "count": 0
           },
           {
            "bin_start": 1.3,
            "bin_end": 1.4,
            "count": 0
           },
           {
            "bin_start": 1.4,
            "bin_end": 1.5,
            "count": 0
           },
           {
            "bin_start": 1.5,
            "bin_end": 1.6,
            "count": 0
           },
           {
            "bin_start": 1.6,
            "bin_end": 1.7000000000000002,
            "count": 0
           },
           {
            "bin_start": 1.7000000000000002,
            "bin_end": 1.8,
            "count": 0
           },
           {
            "bin_start": 1.8,
            "bin_end": 1.9,
            "count": 0
           },
           {
            "bin_start": 1.9,
            "bin_end": 2,
            "count": 3
           }
          ]
         }
        },
        {
         "name": "NUM_INSTALMENT_NUMBER",
         "dtype": "int64",
         "stats": {
          "unique_count": 7,
          "nan_count": 0,
          "min": "1",
          "max": "7",
          "histogram": [
           {
            "bin_start": 1,
            "bin_end": 1.6,
            "count": 5
           },
           {
            "bin_start": 1.6,
            "bin_end": 2.2,
            "count": 5
           },
           {
            "bin_start": 2.2,
            "bin_end": 2.8,
            "count": 0
           },
           {
            "bin_start": 2.8,
            "bin_end": 3.4,
            "count": 4
           },
           {
            "bin_start": 3.4,
            "bin_end": 4,
            "count": 0
           },
           {
            "bin_start": 4,
            "bin_end": 4.6,
            "count": 3
           },
           {
            "bin_start": 4.6,
            "bin_end": 5.2,
            "count": 1
           },
           {
            "bin_start": 5.2,
            "bin_end": 5.8,
            "count": 0
           },
           {
            "bin_start": 5.8,
            "bin_end": 6.3999999999999995,
            "count": 1
           },
           {
            "bin_start": 6.3999999999999995,
            "bin_end": 7,
            "count": 1
           }
          ]
         }
        },
        {
         "name": "DAYS_INSTALMENT",
         "dtype": "float64",
         "stats": {
          "unique_count": 20,
          "nan_count": 0,
          "min": "-1688.0",
          "max": "-34.0",
          "histogram": [
           {
            "bin_start": -1688,
            "bin_end": -1522.6,
            "count": 7
           },
           {
            "bin_start": -1522.6,
            "bin_end": -1357.2,
            "count": 1
           },
           {
            "bin_start": -1357.2,
            "bin_end": -1191.8,
            "count": 0
           },
           {
            "bin_start": -1191.8,
            "bin_end": -1026.4,
            "count": 0
           },
           {
            "bin_start": -1026.4,
            "bin_end": -861,
            "count": 1
           },
           {
            "bin_start": -861,
            "bin_end": -695.5999999999999,
            "count": 5
           },
           {
            "bin_start": -695.5999999999999,
            "bin_end": -530.2,
            "count": 1
           },
           {
            "bin_start": -530.2,
            "bin_end": -364.79999999999995,
            "count": 0
           },
           {
            "bin_start": -364.79999999999995,
            "bin_end": -199.39999999999986,
            "count": 2
           },
           {
            "bin_start": -199.39999999999986,
            "bin_end": -34,
            "count": 3
           }
          ]
         }
        },
        {
         "name": "DAYS_ENTRY_PAYMENT",
         "dtype": "float64",
         "stats": {
          "unique_count": 18,
          "nan_count": 0,
          "min": "-1687.0",
          "max": "-49.0",
          "histogram": [
           {
            "bin_start": -1687,
            "bin_end": -1523.2,
            "count": 8
           },
           {
            "bin_start": -1523.2,
            "bin_end": -1359.4,
            "count": 0
           },
           {
            "bin_start": -1359.4,
            "bin_end": -1195.6,
            "count": 0
           },
           {
            "bin_start": -1195.6,
            "bin_end": -1031.8,
            "count": 0
           },
           {
            "bin_start": -1031.8,
            "bin_end": -868,
            "count": 1
           },
           {
            "bin_start": -868,
            "bin_end": -704.1999999999999,
            "count": 5
           },
           {
            "bin_start": -704.1999999999999,
            "bin_end": -540.3999999999999,
            "count": 1
           },
           {
            "bin_start": -540.3999999999999,
            "bin_end": -376.5999999999999,
            "count": 0
           },
           {
            "bin_start": -376.5999999999999,
            "bin_end": -212.79999999999995,
            "count": 2
           },
           {
            "bin_start": -212.79999999999995,
            "bin_end": -49,
            "count": 3
           }
          ]
         }
        },
        {
         "name": "AMT_INSTALMENT",
         "dtype": "float64",
         "stats": {
          "unique_count": 8,
          "nan_count": 0,
          "min": "3391.11",
          "max": "62039.115",
          "histogram": [
           {
            "bin_start": 3391.11,
            "bin_end": 9255.9105,
            "count": 13
           },
           {
            "bin_start": 9255.9105,
            "bin_end": 15120.711,
            "count": 5
           },
           {
            "bin_start": 15120.711,
            "bin_end": 20985.5115,
            "count": 1
           },
           {
            "bin_start": 20985.5115,
            "bin_end": 26850.311999999998,
            "count": 0
           },
           {
            "bin_start": 26850.311999999998,
            "bin_end": 32715.112499999996,
            "count": 0
           },
           {
            "bin_start": 32715.112499999996,
            "bin_end": 38579.913,
            "count": 0
           },
           {
            "bin_start": 38579.913,
            "bin_end": 44444.7135,
            "count": 0
           },
           {
            "bin_start": 44444.7135,
            "bin_end": 50309.513999999996,
            "count": 0
           },
           {
            "bin_start": 50309.513999999996,
            "bin_end": 56174.31449999999,
            "count": 0
           },
           {
            "bin_start": 56174.31449999999,
            "bin_end": 62039.115,
            "count": 1
           }
          ]
         }
        },
        {
         "name": "AMT_PAYMENT",
         "dtype": "float64",
         "stats": {
          "unique_count": 8,
          "nan_count": 0,
          "min": "3391.11",
          "max": "62039.115",
          "histogram": [
           {
            "bin_start": 3391.11,
            "bin_end": 9255.9105,
            "count": 13
           },
           {
            "bin_start": 9255.9105,
            "bin_end": 15120.711,
            "count": 5
           },
           {
            "bin_start": 15120.711,
            "bin_end": 20985.5115,
            "count": 1
           },
           {
            "bin_start": 20985.5115,
            "bin_end": 26850.311999999998,
            "count": 0
           },
           {
            "bin_start": 26850.311999999998,
            "bin_end": 32715.112499999996,
            "count": 0
           },
           {
            "bin_start": 32715.112499999996,
            "bin_end": 38579.913,
            "count": 0
           },
           {
            "bin_start": 38579.913,
            "bin_end": 44444.7135,
            "count": 0
           },
           {
            "bin_start": 44444.7135,
            "bin_end": 50309.513999999996,
            "count": 0
           },
           {
            "bin_start": 50309.513999999996,
            "bin_end": 56174.31449999999,
            "count": 0
           },
           {
            "bin_start": 56174.31449999999,
            "bin_end": 62039.115,
            "count": 1
           }
          ]
         }
        },
        {
         "name": "_deepnote_index_column",
         "dtype": "int64"
        }
       ],
       "rows_top": [
        {
         "SK_ID_PREV": 1000001,
         "SK_ID_CURR": 158271,
         "NUM_INSTALMENT_VERSION": 1,
         "NUM_INSTALMENT_NUMBER": 1,
         "DAYS_INSTALMENT": -268,
         "DAYS_ENTRY_PAYMENT": -294,
         "AMT_INSTALMENT": 6404.31,
         "AMT_PAYMENT": 6404.31,
         "_deepnote_index_column": 512588
        },
        {
         "SK_ID_PREV": 1000001,
         "SK_ID_CURR": 158271,
         "NUM_INSTALMENT_VERSION": 2,
         "NUM_INSTALMENT_NUMBER": 2,
         "DAYS_INSTALMENT": -238,
         "DAYS_ENTRY_PAYMENT": -244,
         "AMT_INSTALMENT": 62039.115,
         "AMT_PAYMENT": 62039.115,
         "_deepnote_index_column": 2159480
        },
        {
         "SK_ID_PREV": 1000002,
         "SK_ID_CURR": 101962,
         "NUM_INSTALMENT_VERSION": 1,
         "NUM_INSTALMENT_NUMBER": 1,
         "DAYS_INSTALMENT": -1600,
         "DAYS_ENTRY_PAYMENT": -1611,
         "AMT_INSTALMENT": 6264,
         "AMT_PAYMENT": 6264,
         "_deepnote_index_column": 1214732
        },
        {
         "SK_ID_PREV": 1000002,
         "SK_ID_CURR": 101962,
         "NUM_INSTALMENT_VERSION": 1,
         "NUM_INSTALMENT_NUMBER": 2,
         "DAYS_INSTALMENT": -1570,
         "DAYS_ENTRY_PAYMENT": -1575,
         "AMT_INSTALMENT": 6264,
         "AMT_PAYMENT": 6264,
         "_deepnote_index_column": 1631862
        },
        {
         "SK_ID_PREV": 1000002,
         "SK_ID_CURR": 101962,
         "NUM_INSTALMENT_VERSION": 1,
         "NUM_INSTALMENT_NUMBER": 3,
         "DAYS_INSTALMENT": -1540,
         "DAYS_ENTRY_PAYMENT": -1559,
         "AMT_INSTALMENT": 6264,
         "AMT_PAYMENT": 6264,
         "_deepnote_index_column": 3411021
        },
        {
         "SK_ID_PREV": 1000002,
         "SK_ID_CURR": 101962,
         "NUM_INSTALMENT_VERSION": 2,
         "NUM_INSTALMENT_NUMBER": 4,
         "DAYS_INSTALMENT": -1510,
         "DAYS_ENTRY_PAYMENT": -1554,
         "AMT_INSTALMENT": 18443.565,
         "AMT_PAYMENT": 18443.565,
         "_deepnote_index_column": 1006868
        },
        {
         "SK_ID_PREV": 1000003,
         "SK_ID_CURR": 252457,
         "NUM_INSTALMENT_VERSION": 1,
         "NUM_INSTALMENT_NUMBER": 1,
         "DAYS_INSTALMENT": -94,
         "DAYS_ENTRY_PAYMENT": -108,
         "AMT_INSTALMENT": 4951.35,
         "AMT_PAYMENT": 4951.35,
         "_deepnote_index_column": 6145031
        },
        {
         "SK_ID_PREV": 1000003,
         "SK_ID_CURR": 252457,
         "NUM_INSTALMENT_VERSION": 1,
         "NUM_INSTALMENT_NUMBER": 2,
         "DAYS_INSTALMENT": -64,
         "DAYS_ENTRY_PAYMENT": -81,
         "AMT_INSTALMENT": 4951.35,
         "AMT_PAYMENT": 4951.35,
         "_deepnote_index_column": 7054246
        },
        {
         "SK_ID_PREV": 1000003,
         "SK_ID_CURR": 252457,
         "NUM_INSTALMENT_VERSION": 1,
         "NUM_INSTALMENT_NUMBER": 3,
         "DAYS_INSTALMENT": -34,
         "DAYS_ENTRY_PAYMENT": -49,
         "AMT_INSTALMENT": 4951.35,
         "AMT_PAYMENT": 4951.35,
         "_deepnote_index_column": 4279518
        },
        {
         "SK_ID_PREV": 1000004,
         "SK_ID_CURR": 260094,
         "NUM_INSTALMENT_VERSION": 1,
         "NUM_INSTALMENT_NUMBER": 1,
         "DAYS_INSTALMENT": -862,
         "DAYS_ENTRY_PAYMENT": -881,
         "AMT_INSTALMENT": 3391.11,
         "AMT_PAYMENT": 3391.11,
         "_deepnote_index_column": 7126740
        },
        {
         "SK_ID_PREV": 1000004,
         "SK_ID_CURR": 260094,
         "NUM_INSTALMENT_VERSION": 1,
         "NUM_INSTALMENT_NUMBER": 2,
         "DAYS_INSTALMENT": -832,
         "DAYS_ENTRY_PAYMENT": -851,
         "AMT_INSTALMENT": 3391.11,
         "AMT_PAYMENT": 3391.11,
         "_deepnote_index_column": 5575422
        },
        {
         "SK_ID_PREV": 1000004,
         "SK_ID_CURR": 260094,
         "NUM_INSTALMENT_VERSION": 1,
         "NUM_INSTALMENT_NUMBER": 3,
         "DAYS_INSTALMENT": -802,
         "DAYS_ENTRY_PAYMENT": -830,
         "AMT_INSTALMENT": 3391.11,
         "AMT_PAYMENT": 3391.11,
         "_deepnote_index_column": 5737330
        },
        {
         "SK_ID_PREV": 1000004,
         "SK_ID_CURR": 260094,
         "NUM_INSTALMENT_VERSION": 1,
         "NUM_INSTALMENT_NUMBER": 4,
         "DAYS_INSTALMENT": -772,
         "DAYS_ENTRY_PAYMENT": -830,
         "AMT_INSTALMENT": 3391.11,
         "AMT_PAYMENT": 3391.11,
         "_deepnote_index_column": 5959838
        },
        {
         "SK_ID_PREV": 1000004,
         "SK_ID_CURR": 260094,
         "NUM_INSTALMENT_VERSION": 1,
         "NUM_INSTALMENT_NUMBER": 5,
         "DAYS_INSTALMENT": -742,
         "DAYS_ENTRY_PAYMENT": -752,
         "AMT_INSTALMENT": 3391.11,
         "AMT_PAYMENT": 3391.11,
         "_deepnote_index_column": 5197652
        },
        {
         "SK_ID_PREV": 1000004,
         "SK_ID_CURR": 260094,
         "NUM_INSTALMENT_VERSION": 1,
         "NUM_INSTALMENT_NUMBER": 6,
         "DAYS_INSTALMENT": -712,
         "DAYS_ENTRY_PAYMENT": -752,
         "AMT_INSTALMENT": 3391.11,
         "AMT_PAYMENT": 3391.11,
         "_deepnote_index_column": 4242475
        },
        {
         "SK_ID_PREV": 1000004,
         "SK_ID_CURR": 260094,
         "NUM_INSTALMENT_VERSION": 2,
         "NUM_INSTALMENT_NUMBER": 7,
         "DAYS_INSTALMENT": -682,
         "DAYS_ENTRY_PAYMENT": -695,
         "AMT_INSTALMENT": 13176.495,
         "AMT_PAYMENT": 13176.495,
         "_deepnote_index_column": 4713874
        },
        {
         "SK_ID_PREV": 1000005,
         "SK_ID_CURR": 176456,
         "NUM_INSTALMENT_VERSION": 1,
         "NUM_INSTALMENT_NUMBER": 1,
         "DAYS_INSTALMENT": -1688,
         "DAYS_ENTRY_PAYMENT": -1687,
         "AMT_INSTALMENT": 14713.605,
         "AMT_PAYMENT": 14713.605,
         "_deepnote_index_column": 1310691
        },
        {
         "SK_ID_PREV": 1000005,
         "SK_ID_CURR": 176456,
         "NUM_INSTALMENT_VERSION": 1,
         "NUM_INSTALMENT_NUMBER": 2,
         "DAYS_INSTALMENT": -1658,
         "DAYS_ENTRY_PAYMENT": -1664,
         "AMT_INSTALMENT": 14713.605,
         "AMT_PAYMENT": 14713.605,
         "_deepnote_index_column": 109820
        },
        {
         "SK_ID_PREV": 1000005,
         "SK_ID_CURR": 176456,
         "NUM_INSTALMENT_VERSION": 1,
         "NUM_INSTALMENT_NUMBER": 3,
         "DAYS_INSTALMENT": -1628,
         "DAYS_ENTRY_PAYMENT": -1636,
         "AMT_INSTALMENT": 14713.605,
         "AMT_PAYMENT": 14713.605,
         "_deepnote_index_column": 2255181
        },
        {
         "SK_ID_PREV": 1000005,
         "SK_ID_CURR": 176456,
         "NUM_INSTALMENT_VERSION": 1,
         "NUM_INSTALMENT_NUMBER": 4,
         "DAYS_INSTALMENT": -1598,
         "DAYS_ENTRY_PAYMENT": -1606,
         "AMT_INSTALMENT": 14713.605,
         "AMT_PAYMENT": 14713.605,
         "_deepnote_index_column": 2170925
        }
       ],
       "rows_bottom": null
      },
      "text/plain": "         SK_ID_PREV  SK_ID_CURR  NUM_INSTALMENT_VERSION  \\\n512588      1000001      158271                     1.0   \n2159480     1000001      158271                     2.0   \n1214732     1000002      101962                     1.0   \n1631862     1000002      101962                     1.0   \n3411021     1000002      101962                     1.0   \n1006868     1000002      101962                     2.0   \n6145031     1000003      252457                     1.0   \n7054246     1000003      252457                     1.0   \n4279518     1000003      252457                     1.0   \n7126740     1000004      260094                     1.0   \n5575422     1000004      260094                     1.0   \n5737330     1000004      260094                     1.0   \n5959838     1000004      260094                     1.0   \n5197652     1000004      260094                     1.0   \n4242475     1000004      260094                     1.0   \n4713874     1000004      260094                     2.0   \n1310691     1000005      176456                     1.0   \n109820      1000005      176456                     1.0   \n2255181     1000005      176456                     1.0   \n2170925     1000005      176456                     1.0   \n\n         NUM_INSTALMENT_NUMBER  DAYS_INSTALMENT  DAYS_ENTRY_PAYMENT  \\\n512588                       1           -268.0              -294.0   \n2159480                      2           -238.0              -244.0   \n1214732                      1          -1600.0             -1611.0   \n1631862                      2          -1570.0             -1575.0   \n3411021                      3          -1540.0             -1559.0   \n1006868                      4          -1510.0             -1554.0   \n6145031                      1            -94.0              -108.0   \n7054246                      2            -64.0               -81.0   \n4279518                      3            -34.0               -49.0   \n7126740                      1           -862.0              -881.0   \n5575422                      2           -832.0              -851.0   \n5737330                      3           -802.0              -830.0   \n5959838                      4           -772.0              -830.0   \n5197652                      5           -742.0              -752.0   \n4242475                      6           -712.0              -752.0   \n4713874                      7           -682.0              -695.0   \n1310691                      1          -1688.0             -1687.0   \n109820                       2          -1658.0             -1664.0   \n2255181                      3          -1628.0             -1636.0   \n2170925                      4          -1598.0             -1606.0   \n\n         AMT_INSTALMENT  AMT_PAYMENT  \n512588         6404.310     6404.310  \n2159480       62039.115    62039.115  \n1214732        6264.000     6264.000  \n1631862        6264.000     6264.000  \n3411021        6264.000     6264.000  \n1006868       18443.565    18443.565  \n6145031        4951.350     4951.350  \n7054246        4951.350     4951.350  \n4279518        4951.350     4951.350  \n7126740        3391.110     3391.110  \n5575422        3391.110     3391.110  \n5737330        3391.110     3391.110  \n5959838        3391.110     3391.110  \n5197652        3391.110     3391.110  \n4242475        3391.110     3391.110  \n4713874       13176.495    13176.495  \n1310691       14713.605    14713.605  \n109820        14713.605    14713.605  \n2255181       14713.605    14713.605  \n2170925       14713.605    14713.605  ",
      "text/html": "<div>\n<style scoped>\n    .dataframe tbody tr th:only-of-type {\n        vertical-align: middle;\n    }\n\n    .dataframe tbody tr th {\n        vertical-align: top;\n    }\n\n    .dataframe thead th {\n        text-align: right;\n    }\n</style>\n<table border=\"1\" class=\"dataframe\">\n  <thead>\n    <tr style=\"text-align: right;\">\n      <th></th>\n      <th>SK_ID_PREV</th>\n      <th>SK_ID_CURR</th>\n      <th>NUM_INSTALMENT_VERSION</th>\n      <th>NUM_INSTALMENT_NUMBER</th>\n      <th>DAYS_INSTALMENT</th>\n      <th>DAYS_ENTRY_PAYMENT</th>\n      <th>AMT_INSTALMENT</th>\n      <th>AMT_PAYMENT</th>\n    </tr>\n  </thead>\n  <tbody>\n    <tr>\n      <th>512588</th>\n      <td>1000001</td>\n      <td>158271</td>\n      <td>1.0</td>\n      <td>1</td>\n      <td>-268.0</td>\n      <td>-294.0</td>\n      <td>6404.310</td>\n      <td>6404.310</td>\n    </tr>\n    <tr>\n      <th>2159480</th>\n      <td>1000001</td>\n      <td>158271</td>\n      <td>2.0</td>\n      <td>2</td>\n      <td>-238.0</td>\n      <td>-244.0</td>\n      <td>62039.115</td>\n      <td>62039.115</td>\n    </tr>\n    <tr>\n      <th>1214732</th>\n      <td>1000002</td>\n      <td>101962</td>\n      <td>1.0</td>\n      <td>1</td>\n      <td>-1600.0</td>\n      <td>-1611.0</td>\n      <td>6264.000</td>\n      <td>6264.000</td>\n    </tr>\n    <tr>\n      <th>1631862</th>\n      <td>1000002</td>\n      <td>101962</td>\n      <td>1.0</td>\n      <td>2</td>\n      <td>-1570.0</td>\n      <td>-1575.0</td>\n      <td>6264.000</td>\n      <td>6264.000</td>\n    </tr>\n    <tr>\n      <th>3411021</th>\n      <td>1000002</td>\n      <td>101962</td>\n      <td>1.0</td>\n      <td>3</td>\n      <td>-1540.0</td>\n      <td>-1559.0</td>\n      <td>6264.000</td>\n      <td>6264.000</td>\n    </tr>\n    <tr>\n      <th>1006868</th>\n      <td>1000002</td>\n      <td>101962</td>\n      <td>2.0</td>\n      <td>4</td>\n      <td>-1510.0</td>\n      <td>-1554.0</td>\n      <td>18443.565</td>\n      <td>18443.565</td>\n    </tr>\n    <tr>\n      <th>6145031</th>\n      <td>1000003</td>\n      <td>252457</td>\n      <td>1.0</td>\n      <td>1</td>\n      <td>-94.0</td>\n      <td>-108.0</td>\n      <td>4951.350</td>\n      <td>4951.350</td>\n    </tr>\n    <tr>\n      <th>7054246</th>\n      <td>1000003</td>\n      <td>252457</td>\n      <td>1.0</td>\n      <td>2</td>\n      <td>-64.0</td>\n      <td>-81.0</td>\n      <td>4951.350</td>\n      <td>4951.350</td>\n    </tr>\n    <tr>\n      <th>4279518</th>\n      <td>1000003</td>\n      <td>252457</td>\n      <td>1.0</td>\n      <td>3</td>\n      <td>-34.0</td>\n      <td>-49.0</td>\n      <td>4951.350</td>\n      <td>4951.350</td>\n    </tr>\n    <tr>\n      <th>7126740</th>\n      <td>1000004</td>\n      <td>260094</td>\n      <td>1.0</td>\n      <td>1</td>\n      <td>-862.0</td>\n      <td>-881.0</td>\n      <td>3391.110</td>\n      <td>3391.110</td>\n    </tr>\n    <tr>\n      <th>5575422</th>\n      <td>1000004</td>\n      <td>260094</td>\n      <td>1.0</td>\n      <td>2</td>\n      <td>-832.0</td>\n      <td>-851.0</td>\n      <td>3391.110</td>\n      <td>3391.110</td>\n    </tr>\n    <tr>\n      <th>5737330</th>\n      <td>1000004</td>\n      <td>260094</td>\n      <td>1.0</td>\n      <td>3</td>\n      <td>-802.0</td>\n      <td>-830.0</td>\n      <td>3391.110</td>\n      <td>3391.110</td>\n    </tr>\n    <tr>\n      <th>5959838</th>\n      <td>1000004</td>\n      <td>260094</td>\n      <td>1.0</td>\n      <td>4</td>\n      <td>-772.0</td>\n      <td>-830.0</td>\n      <td>3391.110</td>\n      <td>3391.110</td>\n    </tr>\n    <tr>\n      <th>5197652</th>\n      <td>1000004</td>\n      <td>260094</td>\n      <td>1.0</td>\n      <td>5</td>\n      <td>-742.0</td>\n      <td>-752.0</td>\n      <td>3391.110</td>\n      <td>3391.110</td>\n    </tr>\n    <tr>\n      <th>4242475</th>\n      <td>1000004</td>\n      <td>260094</td>\n      <td>1.0</td>\n      <td>6</td>\n      <td>-712.0</td>\n      <td>-752.0</td>\n      <td>3391.110</td>\n      <td>3391.110</td>\n    </tr>\n    <tr>\n      <th>4713874</th>\n      <td>1000004</td>\n      <td>260094</td>\n      <td>2.0</td>\n      <td>7</td>\n      <td>-682.0</td>\n      <td>-695.0</td>\n      <td>13176.495</td>\n      <td>13176.495</td>\n    </tr>\n    <tr>\n      <th>1310691</th>\n      <td>1000005</td>\n      <td>176456</td>\n      <td>1.0</td>\n      <td>1</td>\n      <td>-1688.0</td>\n      <td>-1687.0</td>\n      <td>14713.605</td>\n      <td>14713.605</td>\n    </tr>\n    <tr>\n      <th>109820</th>\n      <td>1000005</td>\n      <td>176456</td>\n      <td>1.0</td>\n      <td>2</td>\n      <td>-1658.0</td>\n      <td>-1664.0</td>\n      <td>14713.605</td>\n      <td>14713.605</td>\n    </tr>\n    <tr>\n      <th>2255181</th>\n      <td>1000005</td>\n      <td>176456</td>\n      <td>1.0</td>\n      <td>3</td>\n      <td>-1628.0</td>\n      <td>-1636.0</td>\n      <td>14713.605</td>\n      <td>14713.605</td>\n    </tr>\n    <tr>\n      <th>2170925</th>\n      <td>1000005</td>\n      <td>176456</td>\n      <td>1.0</td>\n      <td>4</td>\n      <td>-1598.0</td>\n      <td>-1606.0</td>\n      <td>14713.605</td>\n      <td>14713.605</td>\n    </tr>\n  </tbody>\n</table>\n</div>"
     },
     "metadata": {}
    }
   ]
  },
  {
   "cell_type": "code",
   "metadata": {
    "tags": [],
    "cell_id": "00004-b6c56367-d8db-4ce0-b5fd-4ccdd13c70e5",
    "deepnote_to_be_reexecuted": false,
    "source_hash": "58c54cf5",
    "execution_start": 1630374532857,
    "execution_millis": 311,
    "deepnote_cell_type": "code"
   },
   "source": "pmts.SK_ID_PREV.isin(prev_apps.SK_ID_PREV).sum() / len(pmts)",
   "execution_count": null,
   "outputs": [
    {
     "output_type": "execute_result",
     "execution_count": 7,
     "data": {
      "text/plain": "0.9080640107557285"
     },
     "metadata": {}
    }
   ]
  },
  {
   "cell_type": "code",
   "metadata": {
    "tags": [],
    "cell_id": "00005-a2497c33-a7d4-45cb-977a-df1166a71a0a",
    "deepnote_to_be_reexecuted": false,
    "source_hash": "1251fb35",
    "execution_start": 1630374533170,
    "execution_millis": 130,
    "deepnote_cell_type": "code"
   },
   "source": "pmts.SK_ID_CURR.isin(prev_apps.SK_ID_CURR).sum() / len(pmts)",
   "execution_count": null,
   "outputs": [
    {
     "output_type": "execute_result",
     "execution_count": 8,
     "data": {
      "text/plain": "0.9937777651684063"
     },
     "metadata": {}
    }
   ]
  },
  {
   "cell_type": "code",
   "metadata": {
    "tags": [],
    "cell_id": "00003-5a92993a-4d59-4734-b2a3-dcc582dd15f9",
    "deepnote_to_be_reexecuted": false,
    "source_hash": "b636754c",
    "execution_start": 1630374533297,
    "execution_millis": 447,
    "deepnote_cell_type": "code"
   },
   "source": "pmts[ ~pmts.SK_ID_PREV.isin(prev_apps.SK_ID_PREV) ].SK_ID_CURR.value_counts()",
   "execution_count": null,
   "outputs": [
    {
     "output_type": "execute_result",
     "execution_count": 9,
     "data": {
      "text/plain": "217360    279\n212238    248\n343828    224\n335207    223\n263929    222\n         ... \n426850      1\n213640      1\n305578      1\n218072      1\n184663      1\nName: SK_ID_CURR, Length: 35227, dtype: int64"
     },
     "metadata": {}
    }
   ]
  },
  {
   "cell_type": "code",
   "metadata": {
    "tags": [],
    "cell_id": "00004-bcd7c4a8-62d8-47c2-b68b-43ec8739fdad",
    "deepnote_to_be_reexecuted": false,
    "source_hash": "1a2d6bc6",
    "execution_start": 1630374533734,
    "execution_millis": 0,
    "deepnote_cell_type": "code"
   },
   "source": "# sns.scatterplot(install_pmts.AMT_INSTALMENT, install_pmts.AMT_PAYMENT)\n# sns.lineplot([0, max(install_pmts.AMT_INSTALMENT)], [0, max(install_pmts.AMT_PAYMENT)])\n",
   "execution_count": null,
   "outputs": []
  },
  {
   "cell_type": "code",
   "metadata": {
    "tags": [],
    "cell_id": "00004-f46de0f9-aed5-4fa4-8ed7-0e18ee299576",
    "deepnote_to_be_reexecuted": false,
    "source_hash": "f2141b6f",
    "execution_start": 1630374533741,
    "execution_millis": 311,
    "deepnote_cell_type": "code"
   },
   "source": "print(len(install_pmts[install_pmts.AMT_PAYMENT >= install_pmts.AMT_INSTALMENT]) / len(install_pmts) )\nprint(len(install_pmts[install_pmts.AMT_PAYMENT < install_pmts.AMT_INSTALMENT]) / len(install_pmts) )",
   "execution_count": null,
   "outputs": [
    {
     "output_type": "error",
     "ename": "NameError",
     "evalue": "name 'install_pmts' is not defined",
     "traceback": [
      "\u001b[0;31m---------------------------------------------------------------------------\u001b[0m",
      "\u001b[0;31mNameError\u001b[0m                                 Traceback (most recent call last)",
      "\u001b[0;32m/tmp/ipykernel_168/2221258930.py\u001b[0m in \u001b[0;36m<module>\u001b[0;34m\u001b[0m\n\u001b[0;32m----> 1\u001b[0;31m \u001b[0mprint\u001b[0m\u001b[0;34m(\u001b[0m\u001b[0mlen\u001b[0m\u001b[0;34m(\u001b[0m\u001b[0minstall_pmts\u001b[0m\u001b[0;34m[\u001b[0m\u001b[0minstall_pmts\u001b[0m\u001b[0;34m.\u001b[0m\u001b[0mAMT_PAYMENT\u001b[0m \u001b[0;34m>=\u001b[0m \u001b[0minstall_pmts\u001b[0m\u001b[0;34m.\u001b[0m\u001b[0mAMT_INSTALMENT\u001b[0m\u001b[0;34m]\u001b[0m\u001b[0;34m)\u001b[0m \u001b[0;34m/\u001b[0m \u001b[0mlen\u001b[0m\u001b[0;34m(\u001b[0m\u001b[0minstall_pmts\u001b[0m\u001b[0;34m)\u001b[0m \u001b[0;34m)\u001b[0m\u001b[0;34m\u001b[0m\u001b[0;34m\u001b[0m\u001b[0m\n\u001b[0m\u001b[1;32m      2\u001b[0m \u001b[0mprint\u001b[0m\u001b[0;34m(\u001b[0m\u001b[0mlen\u001b[0m\u001b[0;34m(\u001b[0m\u001b[0minstall_pmts\u001b[0m\u001b[0;34m[\u001b[0m\u001b[0minstall_pmts\u001b[0m\u001b[0;34m.\u001b[0m\u001b[0mAMT_PAYMENT\u001b[0m \u001b[0;34m<\u001b[0m \u001b[0minstall_pmts\u001b[0m\u001b[0;34m.\u001b[0m\u001b[0mAMT_INSTALMENT\u001b[0m\u001b[0;34m]\u001b[0m\u001b[0;34m)\u001b[0m \u001b[0;34m/\u001b[0m \u001b[0mlen\u001b[0m\u001b[0;34m(\u001b[0m\u001b[0minstall_pmts\u001b[0m\u001b[0;34m)\u001b[0m \u001b[0;34m)\u001b[0m\u001b[0;34m\u001b[0m\u001b[0;34m\u001b[0m\u001b[0m\n",
      "\u001b[0;31mNameError\u001b[0m: name 'install_pmts' is not defined"
     ]
    }
   ]
  },
  {
   "cell_type": "code",
   "metadata": {
    "tags": [],
    "cell_id": "00004-b2ad3a39-1a98-43fb-acf8-7cb1a40ea0d4",
    "deepnote_to_be_reexecuted": true,
    "source_hash": "cd59e00d",
    "deepnote_cell_type": "code"
   },
   "source": "# sns.histplot(install_pmts.AMT_PAYMENT)",
   "execution_count": null,
   "outputs": []
  },
  {
   "cell_type": "code",
   "metadata": {
    "tags": [],
    "cell_id": "00004-2a7e0b5d-8b09-40cc-9d1e-bba01a76d0c6",
    "deepnote_to_be_reexecuted": true,
    "source_hash": "bd614ea0",
    "deepnote_cell_type": "code"
   },
   "source": "# sns.histplot(install_pmts.AMT_PAYMENT - install_pmts.AMT_INSTALMENT, bins = 100 )",
   "execution_count": null,
   "outputs": []
  },
  {
   "cell_type": "code",
   "metadata": {
    "tags": [],
    "cell_id": "00004-9b494943-0ed2-41cf-a881-a31e3d1d9e55",
    "deepnote_to_be_reexecuted": true,
    "source_hash": "34656343",
    "deepnote_cell_type": "code"
   },
   "source": "# sns.scatterplot(install_pmts.AMT_INSTALMENT, install_pmts.AMT_PAYMENT - install_pmts.AMT_INSTALMENT)",
   "execution_count": null,
   "outputs": []
  },
  {
   "cell_type": "code",
   "metadata": {
    "tags": [],
    "cell_id": "00004-9a232ec2-a0a4-4a59-b6db-9313f1bd6573",
    "deepnote_to_be_reexecuted": true,
    "source_hash": "ce4eeaf4",
    "deepnote_cell_type": "code"
   },
   "source": "install_pmts[install_pmts.AMT_PAYMENT == 0].SK_ID_CURR.value_counts()",
   "execution_count": null,
   "outputs": []
  },
  {
   "cell_type": "code",
   "metadata": {
    "tags": [],
    "cell_id": "00004-64550d50-919a-4318-9512-fcc57d0ae8bc",
    "deepnote_to_be_reexecuted": true,
    "source_hash": "8f16178c",
    "deepnote_cell_type": "code"
   },
   "source": "missed_pmts = pd.DataFrame(install_pmts[install_pmts.AMT_PAYMENT == 0].SK_ID_CURR.value_counts()).reset_index()\nmissed_pmts.columns = [\"SK_ID_CURR\", \"Pmts_Missed\"]\nmissed_pmts",
   "execution_count": null,
   "outputs": []
  },
  {
   "cell_type": "code",
   "metadata": {
    "tags": [],
    "cell_id": "00004-0fcdb0a4-2502-42a7-b524-3ed3dd1a3054",
    "deepnote_to_be_reexecuted": true,
    "source_hash": "87c372d9",
    "deepnote_cell_type": "code"
   },
   "source": "missed_pmts[missed_pmts.Pmts_Missed > 1]",
   "execution_count": null,
   "outputs": []
  },
  {
   "cell_type": "code",
   "metadata": {
    "tags": [],
    "cell_id": "00004-a2c40fe8-a81e-47b7-b72c-5e1d1bc35b6e",
    "deepnote_to_be_reexecuted": true,
    "source_hash": "d104e8a0",
    "deepnote_cell_type": "code"
   },
   "source": "under_paid = pd.DataFrame(install_pmts[install_pmts.AMT_PAYMENT < install_pmts.AMT_INSTALMENT].SK_ID_CURR.value_counts()).reset_index()\nunder_paid",
   "execution_count": null,
   "outputs": []
  },
  {
   "cell_type": "code",
   "metadata": {
    "tags": [],
    "cell_id": "00004-09e62c59-cab9-4197-b1cd-b0c1307a65fc",
    "deepnote_to_be_reexecuted": true,
    "source_hash": "b623e53d",
    "deepnote_cell_type": "code"
   },
   "source": "",
   "execution_count": null,
   "outputs": []
  },
  {
   "cell_type": "code",
   "metadata": {
    "tags": [],
    "cell_id": "00004-b2d5663a-7c83-4c66-a12d-aca6a36c4921",
    "deepnote_to_be_reexecuted": true,
    "source_hash": "b623e53d",
    "deepnote_cell_type": "code"
   },
   "source": "",
   "execution_count": null,
   "outputs": []
  },
  {
   "cell_type": "code",
   "metadata": {
    "tags": [],
    "cell_id": "00004-a4e63067-a5b6-4b95-b0a6-998b96e23dc1",
    "deepnote_to_be_reexecuted": true,
    "source_hash": "b623e53d",
    "deepnote_cell_type": "code"
   },
   "source": "",
   "execution_count": null,
   "outputs": []
  },
  {
   "cell_type": "code",
   "metadata": {
    "tags": [],
    "cell_id": "00004-7e551302-14ce-4755-b1a7-4d84987ae740",
    "deepnote_to_be_reexecuted": true,
    "source_hash": "b623e53d",
    "deepnote_cell_type": "code"
   },
   "source": "",
   "execution_count": null,
   "outputs": []
  },
  {
   "cell_type": "code",
   "metadata": {
    "tags": [],
    "cell_id": "00004-2432da00-d74f-4702-b1ee-58784238914e",
    "deepnote_to_be_reexecuted": true,
    "source_hash": "b623e53d",
    "deepnote_cell_type": "code"
   },
   "source": "",
   "execution_count": null,
   "outputs": []
  },
  {
   "cell_type": "code",
   "metadata": {
    "tags": [],
    "cell_id": "00004-42ade439-5446-46f0-8e0a-08e27c052221",
    "deepnote_to_be_reexecuted": true,
    "source_hash": "b623e53d",
    "deepnote_cell_type": "code"
   },
   "source": "",
   "execution_count": null,
   "outputs": []
  },
  {
   "cell_type": "code",
   "metadata": {
    "tags": [],
    "cell_id": "00004-cd0e9bc9-edfe-4c37-8540-9658f075d4bc",
    "deepnote_to_be_reexecuted": true,
    "source_hash": "b623e53d",
    "deepnote_cell_type": "code"
   },
   "source": "",
   "execution_count": null,
   "outputs": []
  },
  {
   "cell_type": "code",
   "metadata": {
    "tags": [],
    "cell_id": "00004-db2dbf8f-3063-4000-b054-895f3593f789",
    "deepnote_to_be_reexecuted": true,
    "source_hash": "b623e53d",
    "deepnote_cell_type": "code"
   },
   "source": "",
   "execution_count": null,
   "outputs": []
  },
  {
   "cell_type": "code",
   "metadata": {
    "tags": [],
    "cell_id": "00004-1f1cd8ae-0c49-4428-b653-54d69c2a51fc",
    "deepnote_to_be_reexecuted": true,
    "source_hash": "b623e53d",
    "deepnote_cell_type": "code"
   },
   "source": "",
   "execution_count": null,
   "outputs": []
  },
  {
   "cell_type": "code",
   "metadata": {
    "tags": [],
    "cell_id": "00004-59a49e88-ca8e-46bf-b354-dd25780882f3",
    "deepnote_to_be_reexecuted": true,
    "source_hash": "b623e53d",
    "deepnote_cell_type": "code"
   },
   "source": "",
   "execution_count": null,
   "outputs": []
  },
  {
   "cell_type": "code",
   "metadata": {
    "tags": [],
    "cell_id": "00004-d201b0ae-00f8-4191-89fe-180c08f031bf",
    "deepnote_to_be_reexecuted": true,
    "source_hash": "b623e53d",
    "deepnote_cell_type": "code"
   },
   "source": "",
   "execution_count": null,
   "outputs": []
  },
  {
   "cell_type": "code",
   "metadata": {
    "tags": [],
    "cell_id": "00004-39ed83fd-1ad1-4223-b23e-16de8f8d0d57",
    "deepnote_to_be_reexecuted": true,
    "source_hash": "b623e53d",
    "deepnote_cell_type": "code"
   },
   "source": "",
   "execution_count": null,
   "outputs": []
  },
  {
   "cell_type": "code",
   "metadata": {
    "tags": [],
    "cell_id": "00004-e080da1c-a3a4-4073-aba4-802501a030ab",
    "deepnote_to_be_reexecuted": true,
    "source_hash": "b623e53d",
    "deepnote_cell_type": "code"
   },
   "source": "",
   "execution_count": null,
   "outputs": []
  },
  {
   "cell_type": "code",
   "metadata": {
    "tags": [],
    "cell_id": "00004-5d24c084-b500-46d3-9f57-19e05bcdda31",
    "deepnote_to_be_reexecuted": true,
    "source_hash": "b623e53d",
    "deepnote_cell_type": "code"
   },
   "source": "",
   "execution_count": null,
   "outputs": []
  },
  {
   "cell_type": "code",
   "metadata": {
    "tags": [],
    "cell_id": "00004-63307c7b-2c12-4b00-ad0d-7f8bb5dced7e",
    "deepnote_to_be_reexecuted": true,
    "source_hash": "b623e53d",
    "deepnote_cell_type": "code"
   },
   "source": "",
   "execution_count": null,
   "outputs": []
  },
  {
   "cell_type": "code",
   "metadata": {
    "tags": [],
    "cell_id": "00004-9b4c5fb1-8661-47c0-831f-a099b80d35d4",
    "deepnote_to_be_reexecuted": true,
    "source_hash": "b623e53d",
    "deepnote_cell_type": "code"
   },
   "source": "",
   "execution_count": null,
   "outputs": []
  },
  {
   "cell_type": "code",
   "metadata": {
    "tags": [],
    "cell_id": "00004-24b399f0-e3ec-4265-bf7c-5a46c5a53bde",
    "deepnote_to_be_reexecuted": true,
    "source_hash": "b623e53d",
    "deepnote_cell_type": "code"
   },
   "source": "",
   "execution_count": null,
   "outputs": []
  },
  {
   "cell_type": "code",
   "metadata": {
    "tags": [],
    "cell_id": "00004-de7983b0-d83d-4356-b39e-9f8eb4ff4716",
    "deepnote_to_be_reexecuted": true,
    "source_hash": "b623e53d",
    "deepnote_cell_type": "code"
   },
   "source": "",
   "execution_count": null,
   "outputs": []
  },
  {
   "cell_type": "code",
   "metadata": {
    "tags": [],
    "cell_id": "00004-087d3417-b4bc-4551-a3c4-de4a21aa9b65",
    "deepnote_to_be_reexecuted": true,
    "source_hash": "b623e53d",
    "deepnote_cell_type": "code"
   },
   "source": "",
   "execution_count": null,
   "outputs": []
  },
  {
   "cell_type": "code",
   "metadata": {
    "tags": [],
    "cell_id": "00004-0d5060f5-2998-4d00-b683-fc5b74010261",
    "deepnote_to_be_reexecuted": true,
    "source_hash": "b623e53d",
    "deepnote_cell_type": "code"
   },
   "source": "",
   "execution_count": null,
   "outputs": []
  },
  {
   "cell_type": "code",
   "metadata": {
    "tags": [],
    "cell_id": "00004-7e65d1f3-ee0a-4213-a09e-8adf0cc215af",
    "deepnote_to_be_reexecuted": true,
    "source_hash": "b623e53d",
    "deepnote_cell_type": "code"
   },
   "source": "",
   "execution_count": null,
   "outputs": []
  },
  {
   "cell_type": "code",
   "metadata": {
    "tags": [],
    "cell_id": "00004-14e8b0f1-3c17-4238-8cb8-3419ebe5d287",
    "deepnote_to_be_reexecuted": true,
    "source_hash": "b623e53d",
    "deepnote_cell_type": "code"
   },
   "source": "",
   "execution_count": null,
   "outputs": []
  },
  {
   "cell_type": "code",
   "metadata": {
    "tags": [],
    "cell_id": "00004-240ed19e-19b2-43f7-8e01-77e499079ba8",
    "deepnote_to_be_reexecuted": true,
    "source_hash": "b623e53d",
    "deepnote_cell_type": "code"
   },
   "source": "",
   "execution_count": null,
   "outputs": []
  },
  {
   "cell_type": "code",
   "metadata": {
    "tags": [],
    "cell_id": "00004-7cc1c8f5-95d7-46ed-831d-b042de8893ab",
    "deepnote_to_be_reexecuted": true,
    "source_hash": "b623e53d",
    "deepnote_cell_type": "code"
   },
   "source": "",
   "execution_count": null,
   "outputs": []
  },
  {
   "cell_type": "code",
   "metadata": {
    "tags": [],
    "cell_id": "00004-9f796d8b-b111-473a-8828-44f6989c192d",
    "deepnote_to_be_reexecuted": true,
    "source_hash": "b623e53d",
    "deepnote_cell_type": "code"
   },
   "source": "",
   "execution_count": null,
   "outputs": []
  },
  {
   "cell_type": "code",
   "metadata": {
    "tags": [],
    "cell_id": "00004-28c6b527-d218-4c2c-94cd-6373776a2f37",
    "deepnote_to_be_reexecuted": true,
    "source_hash": "b623e53d",
    "deepnote_cell_type": "code"
   },
   "source": "",
   "execution_count": null,
   "outputs": []
  },
  {
   "cell_type": "code",
   "metadata": {
    "tags": [],
    "cell_id": "00004-434ba056-d3f6-434a-9d8e-16e79e9482c8",
    "deepnote_to_be_reexecuted": true,
    "source_hash": "b623e53d",
    "deepnote_cell_type": "code"
   },
   "source": "",
   "execution_count": null,
   "outputs": []
  },
  {
   "cell_type": "code",
   "metadata": {
    "tags": [],
    "cell_id": "00004-cd360f29-96c3-4e74-911f-c45c584f3ecf",
    "deepnote_to_be_reexecuted": true,
    "source_hash": "b623e53d",
    "deepnote_cell_type": "code"
   },
   "source": "",
   "execution_count": null,
   "outputs": []
  },
  {
   "cell_type": "code",
   "metadata": {
    "tags": [],
    "cell_id": "00004-839696ed-c1af-44d1-95f9-f1974fccf154",
    "deepnote_to_be_reexecuted": true,
    "source_hash": "b623e53d",
    "deepnote_cell_type": "code"
   },
   "source": "",
   "execution_count": null,
   "outputs": []
  },
  {
   "cell_type": "code",
   "metadata": {
    "tags": [],
    "cell_id": "00004-de4a3246-a8db-4077-a960-c0e4e18f9266",
    "deepnote_to_be_reexecuted": true,
    "source_hash": "b623e53d",
    "deepnote_cell_type": "code"
   },
   "source": "",
   "execution_count": null,
   "outputs": []
  },
  {
   "cell_type": "code",
   "metadata": {
    "tags": [],
    "cell_id": "00004-a3adb007-b227-4c0c-993e-e93876cb23bc",
    "deepnote_to_be_reexecuted": true,
    "source_hash": "b623e53d",
    "deepnote_cell_type": "code"
   },
   "source": "",
   "execution_count": null,
   "outputs": []
  },
  {
   "cell_type": "code",
   "metadata": {
    "tags": [],
    "cell_id": "00004-82a412be-a604-4b32-8ec6-40a72c12745b",
    "deepnote_to_be_reexecuted": true,
    "source_hash": "b623e53d",
    "deepnote_cell_type": "code"
   },
   "source": "",
   "execution_count": null,
   "outputs": []
  },
  {
   "cell_type": "code",
   "metadata": {
    "tags": [],
    "cell_id": "00004-8100f77c-3913-4dad-a682-f9b34cbf9ff1",
    "deepnote_to_be_reexecuted": true,
    "source_hash": "b623e53d",
    "deepnote_cell_type": "code"
   },
   "source": "",
   "execution_count": null,
   "outputs": []
  },
  {
   "cell_type": "code",
   "metadata": {
    "tags": [],
    "cell_id": "00004-ccd79d72-038f-442b-839e-c9f5a6fcd051",
    "deepnote_to_be_reexecuted": true,
    "source_hash": "b623e53d",
    "deepnote_cell_type": "code"
   },
   "source": "",
   "execution_count": null,
   "outputs": []
  },
  {
   "cell_type": "code",
   "metadata": {
    "tags": [],
    "cell_id": "00004-bf71c9c1-e83f-4508-b0d6-9cac23b4cfe8",
    "deepnote_to_be_reexecuted": true,
    "source_hash": "b623e53d",
    "deepnote_cell_type": "code"
   },
   "source": "",
   "execution_count": null,
   "outputs": []
  },
  {
   "cell_type": "code",
   "metadata": {
    "tags": [],
    "cell_id": "00004-407bcf1e-c6d0-4982-83c2-0f0fb9981aae",
    "deepnote_to_be_reexecuted": true,
    "source_hash": "b623e53d",
    "deepnote_cell_type": "code"
   },
   "source": "",
   "execution_count": null,
   "outputs": []
  },
  {
   "cell_type": "code",
   "metadata": {
    "tags": [],
    "cell_id": "00004-b9d9a771-ffb3-4476-bc2e-70aacf55f2bd",
    "deepnote_to_be_reexecuted": true,
    "source_hash": "b623e53d",
    "deepnote_cell_type": "code"
   },
   "source": "",
   "execution_count": null,
   "outputs": []
  },
  {
   "cell_type": "code",
   "metadata": {
    "tags": [],
    "cell_id": "00004-d25c112d-f1bb-4d8d-a524-f6f6652d43cf",
    "deepnote_to_be_reexecuted": true,
    "source_hash": "b623e53d",
    "deepnote_cell_type": "code"
   },
   "source": "",
   "execution_count": null,
   "outputs": []
  },
  {
   "cell_type": "code",
   "metadata": {
    "tags": [],
    "cell_id": "00004-5e2eb919-7dae-4d6d-8cc4-ff97b8a9f92e",
    "deepnote_to_be_reexecuted": true,
    "source_hash": "b623e53d",
    "deepnote_cell_type": "code"
   },
   "source": "",
   "execution_count": null,
   "outputs": []
  },
  {
   "cell_type": "code",
   "metadata": {
    "tags": [],
    "cell_id": "00004-77a370a5-0d81-4a6e-9ff2-684f3064f7d1",
    "deepnote_to_be_reexecuted": true,
    "source_hash": "b623e53d",
    "deepnote_cell_type": "code"
   },
   "source": "",
   "execution_count": null,
   "outputs": []
  },
  {
   "cell_type": "code",
   "metadata": {
    "tags": [],
    "cell_id": "00004-5ed816d7-1dec-4a3a-8826-7cd4b8d89e3d",
    "deepnote_to_be_reexecuted": true,
    "source_hash": "b623e53d",
    "deepnote_cell_type": "code"
   },
   "source": "",
   "execution_count": null,
   "outputs": []
  },
  {
   "cell_type": "code",
   "metadata": {
    "tags": [],
    "cell_id": "00004-e3904e3f-054b-4dde-9c21-ddf728d384f2",
    "deepnote_to_be_reexecuted": true,
    "source_hash": "b623e53d",
    "deepnote_cell_type": "code"
   },
   "source": "",
   "execution_count": null,
   "outputs": []
  },
  {
   "cell_type": "code",
   "metadata": {
    "tags": [],
    "cell_id": "00004-4c0563e0-eb08-4136-984e-28e497324850",
    "deepnote_to_be_reexecuted": true,
    "source_hash": "b623e53d",
    "deepnote_cell_type": "code"
   },
   "source": "",
   "execution_count": null,
   "outputs": []
  },
  {
   "cell_type": "code",
   "metadata": {
    "tags": [],
    "cell_id": "00004-04e57a30-8f4b-40e0-9ea0-ce7dea1a24aa",
    "deepnote_to_be_reexecuted": true,
    "source_hash": "b623e53d",
    "deepnote_cell_type": "code"
   },
   "source": "",
   "execution_count": null,
   "outputs": []
  },
  {
   "cell_type": "code",
   "metadata": {
    "tags": [],
    "cell_id": "00004-853f03c9-2cd4-4cd5-95cf-9766802d3415",
    "deepnote_to_be_reexecuted": true,
    "source_hash": "b623e53d",
    "deepnote_cell_type": "code"
   },
   "source": "",
   "execution_count": null,
   "outputs": []
  },
  {
   "cell_type": "code",
   "metadata": {
    "tags": [],
    "cell_id": "00004-462d8faf-6691-4863-be25-25a3ec9a1c3c",
    "deepnote_to_be_reexecuted": true,
    "source_hash": "b623e53d",
    "deepnote_cell_type": "code"
   },
   "source": "",
   "execution_count": null,
   "outputs": []
  },
  {
   "cell_type": "code",
   "metadata": {
    "tags": [],
    "cell_id": "00004-f046ea29-c4fa-4cc1-9f4b-17d9173332d0",
    "deepnote_to_be_reexecuted": true,
    "source_hash": "b623e53d",
    "deepnote_cell_type": "code"
   },
   "source": "",
   "execution_count": null,
   "outputs": []
  },
  {
   "cell_type": "markdown",
   "source": "<a style='text-decoration:none;line-height:16px;display:flex;color:#5B5B62;padding:10px;justify-content:end;' href='https://deepnote.com?utm_source=created-in-deepnote-cell&projectId=9263f292-ea73-48e7-8892-f3d3ed1db03c' target=\"_blank\">\n<img alt='Created in deepnote.com' style='display:inline;max-height:16px;margin:0px;margin-right:7.5px;' src='data:image/svg+xml;base64,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' > </img>\nCreated in <span style='font-weight:600;margin-left:4px;'>Deepnote</span></a>",
   "metadata": {
    "tags": [],
    "created_in_deepnote_cell": true,
    "deepnote_cell_type": "markdown"
   }
  }
 ],
 "nbformat": 4,
 "nbformat_minor": 2,
 "metadata": {
  "orig_nbformat": 2,
  "deepnote": {
   "is_reactive": false
  },
  "deepnote_notebook_id": "4c611f5f-4d6d-47e2-b313-00cd05d70a55",
  "deepnote_execution_queue": []
 }
}
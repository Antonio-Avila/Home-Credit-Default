{
 "cells": [
  {
   "cell_type": "markdown",
   "source": "# Installment Payments Dataset\n",
   "metadata": {
    "tags": [],
    "cell_id": "00000-706be469-62fe-43ca-bb22-97f6811168be",
    "deepnote_cell_type": "markdown"
   }
  },
  {
   "cell_type": "code",
   "metadata": {
    "tags": [],
    "cell_id": "00000-6e1c6509-c8ff-4b9f-a794-31d5e6183ebb",
    "deepnote_to_be_reexecuted": false,
    "source_hash": "cd7908b3",
    "execution_start": 1630524126054,
    "execution_millis": 1691,
    "deepnote_cell_type": "code"
   },
   "source": "import pandas as pd\nimport numpy as np\nimport matplotlib.pyplot as plt\n%matplotlib inline\nplt.style.use(\"ggplot\")\nimport pylab\npylab.rcParams['figure.figsize'] = (15, 10)\n\nimport seaborn as sns\nimport time\nfrom scipy import stats",
   "execution_count": 1,
   "outputs": []
  },
  {
   "cell_type": "code",
   "metadata": {
    "tags": [],
    "cell_id": "00001-e3419dcf-7ed7-423f-aac2-6837de80709e",
    "deepnote_to_be_reexecuted": false,
    "source_hash": "c48393f8",
    "execution_start": 1630524127749,
    "execution_millis": 18575,
    "deepnote_cell_type": "code"
   },
   "source": "app_train = pd.read_csv('app_train_red.csv', index_col = 0)\nprev_apps = pd.read_csv(\"previous_application.csv\")\npmts = pd.read_csv(\"installments_payments.csv\")",
   "execution_count": 2,
   "outputs": []
  },
  {
   "cell_type": "code",
   "metadata": {
    "tags": [],
    "cell_id": "00003-c4ff8068-251b-491e-9f50-166023ff49bc",
    "deepnote_to_be_reexecuted": false,
    "source_hash": "e8937136",
    "execution_start": 1630524146324,
    "execution_millis": 1842,
    "deepnote_cell_type": "code"
   },
   "source": "prev_apps.sort_values([\"SK_ID_PREV\"]).head(20)",
   "execution_count": 3,
   "outputs": [
    {
     "output_type": "execute_result",
     "execution_count": 3,
     "data": {
      "application/vnd.deepnote.dataframe.v2+json": {
       "row_count": 20,
       "column_count": 37,
       "columns": [
        {
         "name": "SK_ID_PREV",
         "dtype": "int64",
         "stats": {
          "unique_count": 20,
          "nan_count": 0,
          "min": "1000001",
          "max": "1000020",
          "histogram": [
           {
            "bin_start": 1000001,
            "bin_end": 1000002.9,
            "count": 2
           },
           {
            "bin_start": 1000002.9,
            "bin_end": 1000004.8,
            "count": 2
           },
           {
            "bin_start": 1000004.8,
            "bin_end": 1000006.7,
            "count": 2
           },
           {
            "bin_start": 1000006.7,
            "bin_end": 1000008.6,
            "count": 2
           },
           {
            "bin_start": 1000008.6,
            "bin_end": 1000010.5,
            "count": 2
           },
           {
            "bin_start": 1000010.5,
            "bin_end": 1000012.4,
            "count": 2
           },
           {
            "bin_start": 1000012.4,
            "bin_end": 1000014.3,
            "count": 2
           },
           {
            "bin_start": 1000014.3,
            "bin_end": 1000016.2,
            "count": 2
           },
           {
            "bin_start": 1000016.2,
            "bin_end": 1000018.1,
            "count": 2
           },
           {
            "bin_start": 1000018.1,
            "bin_end": 1000020,
            "count": 2
           }
          ]
         }
        },
        {
         "name": "SK_ID_CURR",
         "dtype": "int64",
         "stats": {
          "unique_count": 19,
          "nan_count": 0,
          "min": "101962",
          "max": "427505",
          "histogram": [
           {
            "bin_start": 101962,
            "bin_end": 134516.3,
            "count": 1
           },
           {
            "bin_start": 134516.3,
            "bin_end": 167070.6,
            "count": 3
           },
           {
            "bin_start": 167070.6,
            "bin_end": 199624.9,
            "count": 3
           },
           {
            "bin_start": 199624.9,
            "bin_end": 232179.2,
            "count": 1
           },
           {
            "bin_start": 232179.2,
            "bin_end": 264733.5,
            "count": 3
           },
           {
            "bin_start": 264733.5,
            "bin_end": 297287.8,
            "count": 0
           },
           {
            "bin_start": 297287.8,
            "bin_end": 329842.1,
            "count": 3
           },
           {
            "bin_start": 329842.1,
            "bin_end": 362396.4,
            "count": 2
           },
           {
            "bin_start": 362396.4,
            "bin_end": 394950.7,
            "count": 3
           },
           {
            "bin_start": 394950.7,
            "bin_end": 427505,
            "count": 1
           }
          ]
         }
        },
        {
         "name": "NAME_CONTRACT_TYPE",
         "dtype": "object",
         "stats": {
          "unique_count": 3,
          "nan_count": 0,
          "categories": [
           {
            "name": "Consumer loans",
            "count": 17
           },
           {
            "name": "Cash loans",
            "count": 2
           },
           {
            "name": "Revolving loans",
            "count": 1
           }
          ]
         }
        },
        {
         "name": "AMT_ANNUITY",
         "dtype": "float64",
         "stats": {
          "unique_count": 20,
          "nan_count": 0,
          "min": "2250.0",
          "max": "92435.04",
          "histogram": [
           {
            "bin_start": 2250,
            "bin_end": 11268.503999999999,
            "count": 14
           },
           {
            "bin_start": 11268.503999999999,
            "bin_end": 20287.007999999998,
            "count": 3
           },
           {
            "bin_start": 20287.007999999998,
            "bin_end": 29305.511999999995,
            "count": 1
           },
           {
            "bin_start": 29305.511999999995,
            "bin_end": 38324.015999999996,
            "count": 0
           },
           {
            "bin_start": 38324.015999999996,
            "bin_end": 47342.52,
            "count": 0
           },
           {
            "bin_start": 47342.52,
            "bin_end": 56361.02399999999,
            "count": 0
           },
           {
            "bin_start": 56361.02399999999,
            "bin_end": 65379.52799999999,
            "count": 0
           },
           {
            "bin_start": 65379.52799999999,
            "bin_end": 74398.03199999999,
            "count": 0
           },
           {
            "bin_start": 74398.03199999999,
            "bin_end": 83416.536,
            "count": 1
           },
           {
            "bin_start": 83416.536,
            "bin_end": 92435.04,
            "count": 1
           }
          ]
         }
        },
        {
         "name": "AMT_APPLICATION",
         "dtype": "float64",
         "stats": {
          "unique_count": 20,
          "nan_count": 0,
          "min": "32310.0",
          "max": "900000.0",
          "histogram": [
           {
            "bin_start": 32310,
            "bin_end": 119079,
            "count": 14
           },
           {
            "bin_start": 119079,
            "bin_end": 205848,
            "count": 3
           },
           {
            "bin_start": 205848,
            "bin_end": 292617,
            "count": 1
           },
           {
            "bin_start": 292617,
            "bin_end": 379386,
            "count": 0
           },
           {
            "bin_start": 379386,
            "bin_end": 466155,
            "count": 0
           },
           {
            "bin_start": 466155,
            "bin_end": 552924,
            "count": 0
           },
           {
            "bin_start": 552924,
            "bin_end": 639693,
            "count": 0
           },
           {
            "bin_start": 639693,
            "bin_end": 726462,
            "count": 0
           },
           {
            "bin_start": 726462,
            "bin_end": 813231,
            "count": 0
           },
           {
            "bin_start": 813231,
            "bin_end": 900000,
            "count": 2
           }
          ]
         }
        },
        {
         "name": "AMT_CREDIT",
         "dtype": "float64",
         "stats": {
          "unique_count": 20,
          "nan_count": 0,
          "min": "30586.5",
          "max": "900000.0",
          "histogram": [
           {
            "bin_start": 30586.5,
            "bin_end": 117527.85,
            "count": 14
           },
           {
            "bin_start": 117527.85,
            "bin_end": 204469.2,
            "count": 3
           },
           {
            "bin_start": 204469.2,
            "bin_end": 291410.55000000005,
            "count": 1
           },
           {
            "bin_start": 291410.55000000005,
            "bin_end": 378351.9,
            "count": 0
           },
           {
            "bin_start": 378351.9,
            "bin_end": 465293.25,
            "count": 0
           },
           {
            "bin_start": 465293.25,
            "bin_end": 552234.6000000001,
            "count": 0
           },
           {
            "bin_start": 552234.6000000001,
            "bin_end": 639175.9500000001,
            "count": 0
           },
           {
            "bin_start": 639175.9500000001,
            "bin_end": 726117.3,
            "count": 0
           },
           {
            "bin_start": 726117.3,
            "bin_end": 813058.65,
            "count": 0
           },
           {
            "bin_start": 813058.65,
            "bin_end": 900000,
            "count": 2
           }
          ]
         }
        },
        {
         "name": "AMT_DOWN_PAYMENT",
         "dtype": "float64",
         "stats": {
          "unique_count": 12,
          "nan_count": 3,
          "min": "0.0",
          "max": "24930.0",
          "histogram": [
           {
            "bin_start": 0,
            "bin_end": 2493,
            "count": 7
           },
           {
            "bin_start": 2493,
            "bin_end": 4986,
            "count": 2
           },
           {
            "bin_start": 4986,
            "bin_end": 7479,
            "count": 3
           },
           {
            "bin_start": 7479,
            "bin_end": 9972,
            "count": 0
           },
           {
            "bin_start": 9972,
            "bin_end": 12465,
            "count": 1
           },
           {
            "bin_start": 12465,
            "bin_end": 14958,
            "count": 2
           },
           {
            "bin_start": 14958,
            "bin_end": 17451,
            "count": 1
           },
           {
            "bin_start": 17451,
            "bin_end": 19944,
            "count": 0
           },
           {
            "bin_start": 19944,
            "bin_end": 22437,
            "count": 0
           },
           {
            "bin_start": 22437,
            "bin_end": 24930,
            "count": 1
           }
          ]
         }
        },
        {
         "name": "AMT_GOODS_PRICE",
         "dtype": "float64",
         "stats": {
          "unique_count": 20,
          "nan_count": 0,
          "min": "32310.0",
          "max": "900000.0",
          "histogram": [
           {
            "bin_start": 32310,
            "bin_end": 119079,
            "count": 14
           },
           {
            "bin_start": 119079,
            "bin_end": 205848,
            "count": 3
           },
           {
            "bin_start": 205848,
            "bin_end": 292617,
            "count": 1
           },
           {
            "bin_start": 292617,
            "bin_end": 379386,
            "count": 0
           },
           {
            "bin_start": 379386,
            "bin_end": 466155,
            "count": 0
           },
           {
            "bin_start": 466155,
            "bin_end": 552924,
            "count": 0
           },
           {
            "bin_start": 552924,
            "bin_end": 639693,
            "count": 0
           },
           {
            "bin_start": 639693,
            "bin_end": 726462,
            "count": 0
           },
           {
            "bin_start": 726462,
            "bin_end": 813231,
            "count": 0
           },
           {
            "bin_start": 813231,
            "bin_end": 900000,
            "count": 2
           }
          ]
         }
        },
        {
         "name": "WEEKDAY_APPR_PROCESS_START",
         "dtype": "object",
         "stats": {
          "unique_count": 7,
          "nan_count": 0,
          "categories": [
           {
            "name": "SUNDAY",
            "count": 6
           },
           {
            "name": "THURSDAY",
            "count": 5
           },
           {
            "name": "5 others",
            "count": 9
           }
          ]
         }
        },
        {
         "name": "HOUR_APPR_PROCESS_START",
         "dtype": "int64",
         "stats": {
          "unique_count": 12,
          "nan_count": 0,
          "min": "8",
          "max": "19",
          "histogram": [
           {
            "bin_start": 8,
            "bin_end": 9.1,
            "count": 3
           },
           {
            "bin_start": 9.1,
            "bin_end": 10.2,
            "count": 2
           },
           {
            "bin_start": 10.2,
            "bin_end": 11.3,
            "count": 2
           },
           {
            "bin_start": 11.3,
            "bin_end": 12.4,
            "count": 1
           },
           {
            "bin_start": 12.4,
            "bin_end": 13.5,
            "count": 4
           },
           {
            "bin_start": 13.5,
            "bin_end": 14.600000000000001,
            "count": 1
           },
           {
            "bin_start": 14.600000000000001,
            "bin_end": 15.700000000000001,
            "count": 1
           },
           {
            "bin_start": 15.700000000000001,
            "bin_end": 16.8,
            "count": 1
           },
           {
            "bin_start": 16.8,
            "bin_end": 17.9,
            "count": 1
           },
           {
            "bin_start": 17.9,
            "bin_end": 19,
            "count": 4
           }
          ]
         }
        },
        {
         "name": "FLAG_LAST_APPL_PER_CONTRACT",
         "dtype": "object",
         "stats": {
          "unique_count": 1,
          "nan_count": 0,
          "categories": [
           {
            "name": "Y",
            "count": 20
           }
          ]
         }
        },
        {
         "name": "NFLAG_LAST_APPL_IN_DAY",
         "dtype": "int64",
         "stats": {
          "unique_count": 1,
          "nan_count": 0,
          "min": "1",
          "max": "1",
          "histogram": [
           {
            "bin_start": 0.5,
            "bin_end": 0.6,
            "count": 0
           },
           {
            "bin_start": 0.6,
            "bin_end": 0.7,
            "count": 0
           },
           {
            "bin_start": 0.7,
            "bin_end": 0.8,
            "count": 0
           },
           {
            "bin_start": 0.8,
            "bin_end": 0.9,
            "count": 0
           },
           {
            "bin_start": 0.9,
            "bin_end": 1,
            "count": 0
           },
           {
            "bin_start": 1,
            "bin_end": 1.1,
            "count": 20
           },
           {
            "bin_start": 1.1,
            "bin_end": 1.2000000000000002,
            "count": 0
           },
           {
            "bin_start": 1.2000000000000002,
            "bin_end": 1.3,
            "count": 0
           },
           {
            "bin_start": 1.3,
            "bin_end": 1.4,
            "count": 0
           },
           {
            "bin_start": 1.4,
            "bin_end": 1.5,
            "count": 0
           }
          ]
         }
        },
        {
         "name": "RATE_DOWN_PAYMENT",
         "dtype": "float64",
         "stats": {
          "unique_count": 13,
          "nan_count": 3,
          "min": "0.0",
          "max": "0.2266421148219149",
          "histogram": [
           {
            "bin_start": 0,
            "bin_end": 0.02266421148219149,
            "count": 7
           },
           {
            "bin_start": 0.02266421148219149,
            "bin_end": 0.04532842296438298,
            "count": 0
           },
           {
            "bin_start": 0.04532842296438298,
            "bin_end": 0.06799263444657447,
            "count": 0
           },
           {
            "bin_start": 0.06799263444657447,
            "bin_end": 0.09065684592876597,
            "count": 0
           },
           {
            "bin_start": 0.09065684592876597,
            "bin_end": 0.11332105741095747,
            "count": 6
           },
           {
            "bin_start": 0.11332105741095747,
            "bin_end": 0.13598526889314894,
            "count": 1
           },
           {
            "bin_start": 0.13598526889314894,
            "bin_end": 0.15864948037534043,
            "count": 0
           },
           {
            "bin_start": 0.15864948037534043,
            "bin_end": 0.18131369185753193,
            "count": 0
           },
           {
            "bin_start": 0.18131369185753193,
            "bin_end": 0.20397790333972343,
            "count": 1
           },
           {
            "bin_start": 0.20397790333972343,
            "bin_end": 0.2266421148219149,
            "count": 2
           }
          ]
         }
        },
        {
         "name": "RATE_INTEREST_PRIMARY",
         "dtype": "float64",
         "stats": {
          "unique_count": 0,
          "nan_count": 20,
          "min": null,
          "max": null,
          "histogram": [
           {
            "bin_start": 0,
            "bin_end": 0.1,
            "count": 0
           },
           {
            "bin_start": 0.1,
            "bin_end": 0.2,
            "count": 0
           },
           {
            "bin_start": 0.2,
            "bin_end": 0.30000000000000004,
            "count": 0
           },
           {
            "bin_start": 0.30000000000000004,
            "bin_end": 0.4,
            "count": 0
           },
           {
            "bin_start": 0.4,
            "bin_end": 0.5,
            "count": 0
           },
           {
            "bin_start": 0.5,
            "bin_end": 0.6000000000000001,
            "count": 0
           },
           {
            "bin_start": 0.6000000000000001,
            "bin_end": 0.7000000000000001,
            "count": 0
           },
           {
            "bin_start": 0.7000000000000001,
            "bin_end": 0.8,
            "count": 0
           },
           {
            "bin_start": 0.8,
            "bin_end": 0.9,
            "count": 0
           },
           {
            "bin_start": 0.9,
            "bin_end": 1,
            "count": 0
           }
          ]
         }
        },
        {
         "name": "RATE_INTEREST_PRIVILEGED",
         "dtype": "float64",
         "stats": {
          "unique_count": 0,
          "nan_count": 20,
          "min": null,
          "max": null,
          "histogram": [
           {
            "bin_start": 0,
            "bin_end": 0.1,
            "count": 0
           },
           {
            "bin_start": 0.1,
            "bin_end": 0.2,
            "count": 0
           },
           {
            "bin_start": 0.2,
            "bin_end": 0.30000000000000004,
            "count": 0
           },
           {
            "bin_start": 0.30000000000000004,
            "bin_end": 0.4,
            "count": 0
           },
           {
            "bin_start": 0.4,
            "bin_end": 0.5,
            "count": 0
           },
           {
            "bin_start": 0.5,
            "bin_end": 0.6000000000000001,
            "count": 0
           },
           {
            "bin_start": 0.6000000000000001,
            "bin_end": 0.7000000000000001,
            "count": 0
           },
           {
            "bin_start": 0.7000000000000001,
            "bin_end": 0.8,
            "count": 0
           },
           {
            "bin_start": 0.8,
            "bin_end": 0.9,
            "count": 0
           },
           {
            "bin_start": 0.9,
            "bin_end": 1,
            "count": 0
           }
          ]
         }
        },
        {
         "name": "NAME_CASH_LOAN_PURPOSE",
         "dtype": "object",
         "stats": {
          "unique_count": 2,
          "nan_count": 0,
          "categories": [
           {
            "name": "XAP",
            "count": 18
           },
           {
            "name": "XNA",
            "count": 2
           }
          ]
         }
        },
        {
         "name": "NAME_CONTRACT_STATUS",
         "dtype": "object",
         "stats": {
          "unique_count": 1,
          "nan_count": 0,
          "categories": [
           {
            "name": "Approved",
            "count": 20
           }
          ]
         }
        },
        {
         "name": "DAYS_DECISION",
         "dtype": "int64",
         "stats": {
          "unique_count": 20,
          "nan_count": 0,
          "min": "-2338",
          "max": "-124",
          "histogram": [
           {
            "bin_start": -2338,
            "bin_end": -2116.6,
            "count": 1
           },
           {
            "bin_start": -2116.6,
            "bin_end": -1895.2,
            "count": 1
           },
           {
            "bin_start": -1895.2,
            "bin_end": -1673.8,
            "count": 1
           },
           {
            "bin_start": -1673.8,
            "bin_end": -1452.4,
            "count": 1
           },
           {
            "bin_start": -1452.4,
            "bin_end": -1231,
            "count": 4
           },
           {
            "bin_start": -1231,
            "bin_end": -1009.5999999999999,
            "count": 0
           },
           {
            "bin_start": -1009.5999999999999,
            "bin_end": -788.2,
            "count": 2
           },
           {
            "bin_start": -788.2,
            "bin_end": -566.8,
            "count": 2
           },
           {
            "bin_start": -566.8,
            "bin_end": -345.39999999999986,
            "count": 3
           },
           {
            "bin_start": -345.39999999999986,
            "bin_end": -124,
            "count": 5
           }
          ]
         }
        },
        {
         "name": "NAME_PAYMENT_TYPE",
         "dtype": "object",
         "stats": {
          "unique_count": 2,
          "nan_count": 0,
          "categories": [
           {
            "name": "Cash through the bank",
            "count": 17
           },
           {
            "name": "XNA",
            "count": 3
           }
          ]
         }
        },
        {
         "name": "CODE_REJECT_REASON",
         "dtype": "object",
         "stats": {
          "unique_count": 1,
          "nan_count": 0,
          "categories": [
           {
            "name": "XAP",
            "count": 20
           }
          ]
         }
        },
        {
         "name": "NAME_TYPE_SUITE",
         "dtype": "object",
         "stats": {
          "unique_count": 3,
          "nan_count": 4,
          "categories": [
           {
            "name": "Unaccompanied",
            "count": 11
           },
           {
            "name": "2 others",
            "count": 5
           },
           {
            "name": "Missing",
            "count": 4
           }
          ]
         }
        },
        {
         "name": "NAME_CLIENT_TYPE",
         "dtype": "object",
         "stats": {
          "unique_count": 3,
          "nan_count": 0,
          "categories": [
           {
            "name": "New",
            "count": 9
           },
           {
            "name": "Repeater",
            "count": 8
           },
           {
            "name": "Refreshed",
            "count": 3
           }
          ]
         }
        },
        {
         "name": "NAME_GOODS_CATEGORY",
         "dtype": "object",
         "stats": {
          "unique_count": 7,
          "nan_count": 0,
          "categories": [
           {
            "name": "Consumer Electronics",
            "count": 5
           },
           {
            "name": "Audio/Video",
            "count": 4
           },
           {
            "name": "5 others",
            "count": 11
           }
          ]
         }
        },
        {
         "name": "NAME_PORTFOLIO",
         "dtype": "object",
         "stats": {
          "unique_count": 3,
          "nan_count": 0,
          "categories": [
           {
            "name": "POS",
            "count": 17
           },
           {
            "name": "Cash",
            "count": 2
           },
           {
            "name": "Cards",
            "count": 1
           }
          ]
         }
        },
        {
         "name": "NAME_PRODUCT_TYPE",
         "dtype": "object",
         "stats": {
          "unique_count": 3,
          "nan_count": 0,
          "categories": [
           {
            "name": "XNA",
            "count": 17
           },
           {
            "name": "x-sell",
            "count": 2
           },
           {
            "name": "walk-in",
            "count": 1
           }
          ]
         }
        },
        {
         "name": "CHANNEL_TYPE",
         "dtype": "object",
         "stats": {
          "unique_count": 3,
          "nan_count": 0,
          "categories": [
           {
            "name": "Country-wide",
            "count": 8
           },
           {
            "name": "Regional / Local",
            "count": 8
           },
           {
            "name": "Stone",
            "count": 4
           }
          ]
         }
        },
        {
         "name": "SELLERPLACE_AREA",
         "dtype": "int64",
         "stats": {
          "unique_count": 10,
          "nan_count": 0,
          "min": "12",
          "max": "1877",
          "histogram": [
           {
            "bin_start": 12,
            "bin_end": 198.5,
            "count": 13
           },
           {
            "bin_start": 198.5,
            "bin_end": 385,
            "count": 0
           },
           {
            "bin_start": 385,
            "bin_end": 571.5,
            "count": 0
           },
           {
            "bin_start": 571.5,
            "bin_end": 758,
            "count": 2
           },
           {
            "bin_start": 758,
            "bin_end": 944.5,
            "count": 0
           },
           {
            "bin_start": 944.5,
            "bin_end": 1131,
            "count": 2
           },
           {
            "bin_start": 1131,
            "bin_end": 1317.5,
            "count": 1
           },
           {
            "bin_start": 1317.5,
            "bin_end": 1504,
            "count": 0
           },
           {
            "bin_start": 1504,
            "bin_end": 1690.5,
            "count": 0
           },
           {
            "bin_start": 1690.5,
            "bin_end": 1877,
            "count": 2
           }
          ]
         }
        },
        {
         "name": "NAME_SELLER_INDUSTRY",
         "dtype": "object",
         "stats": {
          "unique_count": 4,
          "nan_count": 0,
          "categories": [
           {
            "name": "Consumer electronics",
            "count": 16
           },
           {
            "name": "Connectivity",
            "count": 2
           },
           {
            "name": "2 others",
            "count": 2
           }
          ]
         }
        },
        {
         "name": "CNT_PAYMENT",
         "dtype": "float64",
         "stats": {
          "unique_count": 6,
          "nan_count": 0,
          "min": "0.0",
          "max": "18.0",
          "histogram": [
           {
            "bin_start": 0,
            "bin_end": 1.8,
            "count": 1
           },
           {
            "bin_start": 1.8,
            "bin_end": 3.6,
            "count": 0
           },
           {
            "bin_start": 3.6,
            "bin_end": 5.4,
            "count": 0
           },
           {
            "bin_start": 5.4,
            "bin_end": 7.2,
            "count": 4
           },
           {
            "bin_start": 7.2,
            "bin_end": 9,
            "count": 2
           },
           {
            "bin_start": 9,
            "bin_end": 10.8,
            "count": 3
           },
           {
            "bin_start": 10.8,
            "bin_end": 12.6,
            "count": 9
           },
           {
            "bin_start": 12.6,
            "bin_end": 14.4,
            "count": 0
           },
           {
            "bin_start": 14.4,
            "bin_end": 16.2,
            "count": 0
           },
           {
            "bin_start": 16.2,
            "bin_end": 18,
            "count": 1
           }
          ]
         }
        },
        {
         "name": "NAME_YIELD_GROUP",
         "dtype": "object",
         "stats": {
          "unique_count": 5,
          "nan_count": 0,
          "categories": [
           {
            "name": "middle",
            "count": 7
           },
           {
            "name": "high",
            "count": 6
           },
           {
            "name": "3 others",
            "count": 7
           }
          ]
         }
        },
        {
         "name": "PRODUCT_COMBINATION",
         "dtype": "object",
         "stats": {
          "unique_count": 7,
          "nan_count": 0,
          "categories": [
           {
            "name": "POS household with interest",
            "count": 10
           },
           {
            "name": "POS household without interest",
            "count": 3
           },
           {
            "name": "5 others",
            "count": 7
           }
          ]
         }
        },
        {
         "name": "DAYS_FIRST_DRAWING",
         "dtype": "float64",
         "stats": {
          "unique_count": 2,
          "nan_count": 1,
          "min": "-175.0",
          "max": "365243.0",
          "histogram": [
           {
            "bin_start": -175,
            "bin_end": 36366.8,
            "count": 1
           },
           {
            "bin_start": 36366.8,
            "bin_end": 72908.6,
            "count": 0
           },
           {
            "bin_start": 72908.6,
            "bin_end": 109450.40000000001,
            "count": 0
           },
           {
            "bin_start": 109450.40000000001,
            "bin_end": 145992.2,
            "count": 0
           },
           {
            "bin_start": 145992.2,
            "bin_end": 182534,
            "count": 0
           },
           {
            "bin_start": 182534,
            "bin_end": 219075.80000000002,
            "count": 0
           },
           {
            "bin_start": 219075.80000000002,
            "bin_end": 255617.60000000003,
            "count": 0
           },
           {
            "bin_start": 255617.60000000003,
            "bin_end": 292159.4,
            "count": 0
           },
           {
            "bin_start": 292159.4,
            "bin_end": 328701.2,
            "count": 0
           },
           {
            "bin_start": 328701.2,
            "bin_end": 365243,
            "count": 18
           }
          ]
         }
        },
        {
         "name": "DAYS_FIRST_DUE",
         "dtype": "float64",
         "stats": {
          "unique_count": 19,
          "nan_count": 1,
          "min": "-2307.0",
          "max": "-94.0",
          "histogram": [
           {
            "bin_start": -2307,
            "bin_end": -2085.7,
            "count": 1
           },
           {
            "bin_start": -2085.7,
            "bin_end": -1864.4,
            "count": 1
           },
           {
            "bin_start": -1864.4,
            "bin_end": -1643.1,
            "count": 1
           },
           {
            "bin_start": -1643.1,
            "bin_end": -1421.8,
            "count": 1
           },
           {
            "bin_start": -1421.8,
            "bin_end": -1200.5,
            "count": 4
           },
           {
            "bin_start": -1200.5,
            "bin_end": -979.1999999999998,
            "count": 0
           },
           {
            "bin_start": -979.1999999999998,
            "bin_end": -757.8999999999999,
            "count": 2
           },
           {
            "bin_start": -757.8999999999999,
            "bin_end": -536.5999999999999,
            "count": 2
           },
           {
            "bin_start": -536.5999999999999,
            "bin_end": -315.29999999999995,
            "count": 3
           },
           {
            "bin_start": -315.29999999999995,
            "bin_end": -94,
            "count": 4
           }
          ]
         }
        },
        {
         "name": "DAYS_LAST_DUE_1ST_VERSION",
         "dtype": "float64",
         "stats": {
          "unique_count": 19,
          "nan_count": 1,
          "min": "-1977.0",
          "max": "365243.0",
          "histogram": [
           {
            "bin_start": -1977,
            "bin_end": 34745,
            "count": 18
           },
           {
            "bin_start": 34745,
            "bin_end": 71467,
            "count": 0
           },
           {
            "bin_start": 71467,
            "bin_end": 108189,
            "count": 0
           },
           {
            "bin_start": 108189,
            "bin_end": 144911,
            "count": 0
           },
           {
            "bin_start": 144911,
            "bin_end": 181633,
            "count": 0
           },
           {
            "bin_start": 181633,
            "bin_end": 218355,
            "count": 0
           },
           {
            "bin_start": 218355,
            "bin_end": 255077,
            "count": 0
           },
           {
            "bin_start": 255077,
            "bin_end": 291799,
            "count": 0
           },
           {
            "bin_start": 291799,
            "bin_end": 328521,
            "count": 0
           },
           {
            "bin_start": 328521,
            "bin_end": 365243,
            "count": 1
           }
          ]
         }
        },
        {
         "name": "DAYS_LAST_DUE",
         "dtype": "float64",
         "stats": {
          "unique_count": 17,
          "nan_count": 1,
          "min": "-1977.0",
          "max": "365243.0",
          "histogram": [
           {
            "bin_start": -1977,
            "bin_end": 34745,
            "count": 16
           },
           {
            "bin_start": 34745,
            "bin_end": 71467,
            "count": 0
           },
           {
            "bin_start": 71467,
            "bin_end": 108189,
            "count": 0
           },
           {
            "bin_start": 108189,
            "bin_end": 144911,
            "count": 0
           },
           {
            "bin_start": 144911,
            "bin_end": 181633,
            "count": 0
           },
           {
            "bin_start": 181633,
            "bin_end": 218355,
            "count": 0
           },
           {
            "bin_start": 218355,
            "bin_end": 255077,
            "count": 0
           },
           {
            "bin_start": 255077,
            "bin_end": 291799,
            "count": 0
           },
           {
            "bin_start": 291799,
            "bin_end": 328521,
            "count": 0
           },
           {
            "bin_start": 328521,
            "bin_end": 365243,
            "count": 3
           }
          ]
         }
        },
        {
         "name": "DAYS_TERMINATION",
         "dtype": "float64",
         "stats": {
          "unique_count": 17,
          "nan_count": 1,
          "min": "-1972.0",
          "max": "365243.0",
          "histogram": [
           {
            "bin_start": -1972,
            "bin_end": 34749.5,
            "count": 16
           },
           {
            "bin_start": 34749.5,
            "bin_end": 71471,
            "count": 0
           },
           {
            "bin_start": 71471,
            "bin_end": 108192.5,
            "count": 0
           },
           {
            "bin_start": 108192.5,
            "bin_end": 144914,
            "count": 0
           },
           {
            "bin_start": 144914,
            "bin_end": 181635.5,
            "count": 0
           },
           {
            "bin_start": 181635.5,
            "bin_end": 218357,
            "count": 0
           },
           {
            "bin_start": 218357,
            "bin_end": 255078.5,
            "count": 0
           },
           {
            "bin_start": 255078.5,
            "bin_end": 291800,
            "count": 0
           },
           {
            "bin_start": 291800,
            "bin_end": 328521.5,
            "count": 0
           },
           {
            "bin_start": 328521.5,
            "bin_end": 365243,
            "count": 3
           }
          ]
         }
        },
        {
         "name": "NFLAG_INSURED_ON_APPROVAL",
         "dtype": "float64",
         "stats": {
          "unique_count": 2,
          "nan_count": 1,
          "min": "0.0",
          "max": "1.0",
          "histogram": [
           {
            "bin_start": 0,
            "bin_end": 0.1,
            "count": 16
           },
           {
            "bin_start": 0.1,
            "bin_end": 0.2,
            "count": 0
           },
           {
            "bin_start": 0.2,
            "bin_end": 0.30000000000000004,
            "count": 0
           },
           {
            "bin_start": 0.30000000000000004,
            "bin_end": 0.4,
            "count": 0
           },
           {
            "bin_start": 0.4,
            "bin_end": 0.5,
            "count": 0
           },
           {
            "bin_start": 0.5,
            "bin_end": 0.6000000000000001,
            "count": 0
           },
           {
            "bin_start": 0.6000000000000001,
            "bin_end": 0.7000000000000001,
            "count": 0
           },
           {
            "bin_start": 0.7000000000000001,
            "bin_end": 0.8,
            "count": 0
           },
           {
            "bin_start": 0.8,
            "bin_end": 0.9,
            "count": 0
           },
           {
            "bin_start": 0.9,
            "bin_end": 1,
            "count": 3
           }
          ]
         }
        },
        {
         "name": "_deepnote_index_column",
         "dtype": "int64"
        }
       ],
       "rows_top": [
        {
         "SK_ID_PREV": 1000001,
         "SK_ID_CURR": 158271,
         "NAME_CONTRACT_TYPE": "Consumer loans",
         "AMT_ANNUITY": 6404.31,
         "AMT_APPLICATION": 58905,
         "AMT_CREDIT": 65124,
         "AMT_DOWN_PAYMENT": 0,
         "AMT_GOODS_PRICE": 58905,
         "WEEKDAY_APPR_PROCESS_START": "THURSDAY",
         "HOUR_APPR_PROCESS_START": 8,
         "FLAG_LAST_APPL_PER_CONTRACT": "Y",
         "NFLAG_LAST_APPL_IN_DAY": 1,
         "RATE_DOWN_PAYMENT": 0,
         "RATE_INTEREST_PRIMARY": "nan",
         "RATE_INTEREST_PRIVILEGED": "nan",
         "NAME_CASH_LOAN_PURPOSE": "XAP",
         "NAME_CONTRACT_STATUS": "Approved",
         "DAYS_DECISION": -299,
         "NAME_PAYMENT_TYPE": "Cash through the bank",
         "CODE_REJECT_REASON": "XAP",
         "NAME_TYPE_SUITE": "nan",
         "NAME_CLIENT_TYPE": "New",
         "NAME_GOODS_CATEGORY": "Furniture",
         "NAME_PORTFOLIO": "POS",
         "NAME_PRODUCT_TYPE": "XNA",
         "CHANNEL_TYPE": "Stone",
         "SELLERPLACE_AREA": 70,
         "NAME_SELLER_INDUSTRY": "Furniture",
         "CNT_PAYMENT": 12,
         "NAME_YIELD_GROUP": "middle",
         "PRODUCT_COMBINATION": "POS industry with interest",
         "DAYS_FIRST_DRAWING": 365243,
         "DAYS_FIRST_DUE": -268,
         "DAYS_LAST_DUE_1ST_VERSION": 62,
         "DAYS_LAST_DUE": -238,
         "DAYS_TERMINATION": -233,
         "NFLAG_INSURED_ON_APPROVAL": 0,
         "_deepnote_index_column": 38906
        },
        {
         "SK_ID_PREV": 1000002,
         "SK_ID_CURR": 101962,
         "NAME_CONTRACT_TYPE": "Consumer loans",
         "AMT_ANNUITY": 6264,
         "AMT_APPLICATION": 39145.5,
         "AMT_CREDIT": 35230.5,
         "AMT_DOWN_PAYMENT": 3915,
         "AMT_GOODS_PRICE": 39145.5,
         "WEEKDAY_APPR_PROCESS_START": "SUNDAY",
         "HOUR_APPR_PROCESS_START": 8,
         "FLAG_LAST_APPL_PER_CONTRACT": "Y",
         "NFLAG_LAST_APPL_IN_DAY": 1,
         "RATE_DOWN_PAYMENT": 0.1089216106344511,
         "RATE_INTEREST_PRIMARY": "nan",
         "RATE_INTEREST_PRIVILEGED": "nan",
         "NAME_CASH_LOAN_PURPOSE": "XAP",
         "NAME_CONTRACT_STATUS": "Approved",
         "DAYS_DECISION": -1634,
         "NAME_PAYMENT_TYPE": "Cash through the bank",
         "CODE_REJECT_REASON": "XAP",
         "NAME_TYPE_SUITE": "Unaccompanied",
         "NAME_CLIENT_TYPE": "Repeater",
         "NAME_GOODS_CATEGORY": "Audio/Video",
         "NAME_PORTFOLIO": "POS",
         "NAME_PRODUCT_TYPE": "XNA",
         "CHANNEL_TYPE": "Country-wide",
         "SELLERPLACE_AREA": 1780,
         "NAME_SELLER_INDUSTRY": "Consumer electronics",
         "CNT_PAYMENT": 6,
         "NAME_YIELD_GROUP": "low_normal",
         "PRODUCT_COMBINATION": "POS household with interest",
         "DAYS_FIRST_DRAWING": 365243,
         "DAYS_FIRST_DUE": -1600,
         "DAYS_LAST_DUE_1ST_VERSION": -1450,
         "DAYS_LAST_DUE": -1510,
         "DAYS_TERMINATION": -1501,
         "NFLAG_INSURED_ON_APPROVAL": 0,
         "_deepnote_index_column": 73676
        },
        {
         "SK_ID_PREV": 1000003,
         "SK_ID_CURR": 252457,
         "NAME_CONTRACT_TYPE": "Consumer loans",
         "AMT_ANNUITY": 4951.35,
         "AMT_APPLICATION": 47056.275,
         "AMT_CREDIT": 52641,
         "AMT_DOWN_PAYMENT": 4.275,
         "AMT_GOODS_PRICE": 47056.275,
         "WEEKDAY_APPR_PROCESS_START": "SUNDAY",
         "HOUR_APPR_PROCESS_START": 13,
         "FLAG_LAST_APPL_PER_CONTRACT": "Y",
         "NFLAG_LAST_APPL_IN_DAY": 1,
         "RATE_DOWN_PAYMENT": 0.00008843839520951569,
         "RATE_INTEREST_PRIMARY": "nan",
         "RATE_INTEREST_PRIVILEGED": "nan",
         "NAME_CASH_LOAN_PURPOSE": "XAP",
         "NAME_CONTRACT_STATUS": "Approved",
         "DAYS_DECISION": -124,
         "NAME_PAYMENT_TYPE": "Cash through the bank",
         "CODE_REJECT_REASON": "XAP",
         "NAME_TYPE_SUITE": "Unaccompanied",
         "NAME_CLIENT_TYPE": "Refreshed",
         "NAME_GOODS_CATEGORY": "Audio/Video",
         "NAME_PORTFOLIO": "POS",
         "NAME_PRODUCT_TYPE": "XNA",
         "CHANNEL_TYPE": "Country-wide",
         "SELLERPLACE_AREA": 1103,
         "NAME_SELLER_INDUSTRY": "Consumer electronics",
         "CNT_PAYMENT": 12,
         "NAME_YIELD_GROUP": "low_action",
         "PRODUCT_COMBINATION": "POS household without interest",
         "DAYS_FIRST_DRAWING": 365243,
         "DAYS_FIRST_DUE": -94,
         "DAYS_LAST_DUE_1ST_VERSION": 236,
         "DAYS_LAST_DUE": 365243,
         "DAYS_TERMINATION": 365243,
         "NFLAG_INSURED_ON_APPROVAL": 1,
         "_deepnote_index_column": 1517084
        },
        {
         "SK_ID_PREV": 1000004,
         "SK_ID_CURR": 260094,
         "NAME_CONTRACT_TYPE": "Consumer loans",
         "AMT_ANNUITY": 3391.11,
         "AMT_APPLICATION": 35144.37,
         "AMT_CREDIT": 30586.5,
         "AMT_DOWN_PAYMENT": 7032.87,
         "AMT_GOODS_PRICE": 35144.37,
         "WEEKDAY_APPR_PROCESS_START": "THURSDAY",
         "HOUR_APPR_PROCESS_START": 9,
         "FLAG_LAST_APPL_PER_CONTRACT": "Y",
         "NFLAG_LAST_APPL_IN_DAY": 1,
         "RATE_DOWN_PAYMENT": 0.2036034835729089,
         "RATE_INTEREST_PRIMARY": "nan",
         "RATE_INTEREST_PRIVILEGED": "nan",
         "NAME_CASH_LOAN_PURPOSE": "XAP",
         "NAME_CONTRACT_STATUS": "Approved",
         "DAYS_DECISION": -893,
         "NAME_PAYMENT_TYPE": "XNA",
         "CODE_REJECT_REASON": "XAP",
         "NAME_TYPE_SUITE": "Unaccompanied",
         "NAME_CLIENT_TYPE": "Refreshed",
         "NAME_GOODS_CATEGORY": "Audio/Video",
         "NAME_PORTFOLIO": "POS",
         "NAME_PRODUCT_TYPE": "XNA",
         "CHANNEL_TYPE": "Country-wide",
         "SELLERPLACE_AREA": 1103,
         "NAME_SELLER_INDUSTRY": "Consumer electronics",
         "CNT_PAYMENT": 10,
         "NAME_YIELD_GROUP": "low_normal",
         "PRODUCT_COMBINATION": "POS household without interest",
         "DAYS_FIRST_DRAWING": 365243,
         "DAYS_FIRST_DUE": -862,
         "DAYS_LAST_DUE_1ST_VERSION": -592,
         "DAYS_LAST_DUE": -682,
         "DAYS_TERMINATION": -672,
         "NFLAG_INSURED_ON_APPROVAL": 0,
         "_deepnote_index_column": 1406334
        },
        {
         "SK_ID_PREV": 1000005,
         "SK_ID_CURR": 176456,
         "NAME_CONTRACT_TYPE": "Consumer loans",
         "AMT_ANNUITY": 14713.605,
         "AMT_APPLICATION": 123486.075,
         "AMT_CREDIT": 120307.5,
         "AMT_DOWN_PAYMENT": 12349.575,
         "AMT_GOODS_PRICE": 123486.075,
         "WEEKDAY_APPR_PROCESS_START": "THURSDAY",
         "HOUR_APPR_PROCESS_START": 13,
         "FLAG_LAST_APPL_PER_CONTRACT": "Y",
         "NFLAG_LAST_APPL_IN_DAY": 1,
         "RATE_DOWN_PAYMENT": 0.1013878065955876,
         "RATE_INTEREST_PRIMARY": "nan",
         "RATE_INTEREST_PRIVILEGED": "nan",
         "NAME_CASH_LOAN_PURPOSE": "XAP",
         "NAME_CONTRACT_STATUS": "Approved",
         "DAYS_DECISION": -1719,
         "NAME_PAYMENT_TYPE": "Cash through the bank",
         "CODE_REJECT_REASON": "XAP",
         "NAME_TYPE_SUITE": "Family",
         "NAME_CLIENT_TYPE": "New",
         "NAME_GOODS_CATEGORY": "Construction Materials",
         "NAME_PORTFOLIO": "POS",
         "NAME_PRODUCT_TYPE": "XNA",
         "CHANNEL_TYPE": "Stone",
         "SELLERPLACE_AREA": 1877,
         "NAME_SELLER_INDUSTRY": "Construction",
         "CNT_PAYMENT": 10,
         "NAME_YIELD_GROUP": "middle",
         "PRODUCT_COMBINATION": "POS industry with interest",
         "DAYS_FIRST_DRAWING": 365243,
         "DAYS_FIRST_DUE": -1688,
         "DAYS_LAST_DUE_1ST_VERSION": -1418,
         "DAYS_LAST_DUE": -1418,
         "DAYS_TERMINATION": -1415,
         "NFLAG_INSURED_ON_APPROVAL": 0,
         "_deepnote_index_column": 523289
        },
        {
         "SK_ID_PREV": 1000006,
         "SK_ID_CURR": 427505,
         "NAME_CONTRACT_TYPE": "Consumer loans",
         "AMT_ANNUITY": 10572.345,
         "AMT_APPLICATION": 51417,
         "AMT_CREDIT": 51417,
         "AMT_DOWN_PAYMENT": 0,
         "AMT_GOODS_PRICE": 51417,
         "WEEKDAY_APPR_PROCESS_START": "WEDNESDAY",
         "HOUR_APPR_PROCESS_START": 13,
         "FLAG_LAST_APPL_PER_CONTRACT": "Y",
         "NFLAG_LAST_APPL_IN_DAY": 1,
         "RATE_DOWN_PAYMENT": 0,
         "RATE_INTEREST_PRIMARY": "nan",
         "RATE_INTEREST_PRIVILEGED": "nan",
         "NAME_CASH_LOAN_PURPOSE": "XAP",
         "NAME_CONTRACT_STATUS": "Approved",
         "DAYS_DECISION": -264,
         "NAME_PAYMENT_TYPE": "XNA",
         "CODE_REJECT_REASON": "XAP",
         "NAME_TYPE_SUITE": "nan",
         "NAME_CLIENT_TYPE": "Repeater",
         "NAME_GOODS_CATEGORY": "Mobile",
         "NAME_PORTFOLIO": "POS",
         "NAME_PRODUCT_TYPE": "XNA",
         "CHANNEL_TYPE": "Country-wide",
         "SELLERPLACE_AREA": 12,
         "NAME_SELLER_INDUSTRY": "Connectivity",
         "CNT_PAYMENT": 6,
         "NAME_YIELD_GROUP": "high",
         "PRODUCT_COMBINATION": "POS mobile with interest",
         "DAYS_FIRST_DRAWING": "nan",
         "DAYS_FIRST_DUE": "nan",
         "DAYS_LAST_DUE_1ST_VERSION": "nan",
         "DAYS_LAST_DUE": "nan",
         "DAYS_TERMINATION": "nan",
         "NFLAG_INSURED_ON_APPROVAL": "nan",
         "_deepnote_index_column": 1476878
        },
        {
         "SK_ID_PREV": 1000007,
         "SK_ID_CURR": 256657,
         "NAME_CONTRACT_TYPE": "Consumer loans",
         "AMT_ANNUITY": 11246.805,
         "AMT_APPLICATION": 78570,
         "AMT_CREDIT": 62856,
         "AMT_DOWN_PAYMENT": 15714,
         "AMT_GOODS_PRICE": 78570,
         "WEEKDAY_APPR_PROCESS_START": "SUNDAY",
         "HOUR_APPR_PROCESS_START": 13,
         "FLAG_LAST_APPL_PER_CONTRACT": "Y",
         "NFLAG_LAST_APPL_IN_DAY": 1,
         "RATE_DOWN_PAYMENT": 0.2178181818181818,
         "RATE_INTEREST_PRIMARY": "nan",
         "RATE_INTEREST_PRIVILEGED": "nan",
         "NAME_CASH_LOAN_PURPOSE": "XAP",
         "NAME_CONTRACT_STATUS": "Approved",
         "DAYS_DECISION": -158,
         "NAME_PAYMENT_TYPE": "Cash through the bank",
         "CODE_REJECT_REASON": "XAP",
         "NAME_TYPE_SUITE": "Unaccompanied",
         "NAME_CLIENT_TYPE": "Repeater",
         "NAME_GOODS_CATEGORY": "Consumer Electronics",
         "NAME_PORTFOLIO": "POS",
         "NAME_PRODUCT_TYPE": "XNA",
         "CHANNEL_TYPE": "Stone",
         "SELLERPLACE_AREA": 70,
         "NAME_SELLER_INDUSTRY": "Consumer electronics",
         "CNT_PAYMENT": 6,
         "NAME_YIELD_GROUP": "low_normal",
         "PRODUCT_COMBINATION": "POS household with interest",
         "DAYS_FIRST_DRAWING": 365243,
         "DAYS_FIRST_DUE": -123,
         "DAYS_LAST_DUE_1ST_VERSION": 27,
         "DAYS_LAST_DUE": 365243,
         "DAYS_TERMINATION": 365243,
         "NFLAG_INSURED_ON_APPROVAL": 0,
         "_deepnote_index_column": 1102061
        },
        {
         "SK_ID_PREV": 1000008,
         "SK_ID_CURR": 152059,
         "NAME_CONTRACT_TYPE": "Consumer loans",
         "AMT_ANNUITY": 26331.66,
         "AMT_APPLICATION": 249255,
         "AMT_CREDIT": 224325,
         "AMT_DOWN_PAYMENT": 24930,
         "AMT_GOODS_PRICE": 249255,
         "WEEKDAY_APPR_PROCESS_START": "MONDAY",
         "HOUR_APPR_PROCESS_START": 14,
         "FLAG_LAST_APPL_PER_CONTRACT": "Y",
         "NFLAG_LAST_APPL_IN_DAY": 1,
         "RATE_DOWN_PAYMENT": 0.1089287531388993,
         "RATE_INTEREST_PRIMARY": "nan",
         "RATE_INTEREST_PRIVILEGED": "nan",
         "NAME_CASH_LOAN_PURPOSE": "XAP",
         "NAME_CONTRACT_STATUS": "Approved",
         "DAYS_DECISION": -1313,
         "NAME_PAYMENT_TYPE": "Cash through the bank",
         "CODE_REJECT_REASON": "XAP",
         "NAME_TYPE_SUITE": "Family",
         "NAME_CLIENT_TYPE": "New",
         "NAME_GOODS_CATEGORY": "Consumer Electronics",
         "NAME_PORTFOLIO": "POS",
         "NAME_PRODUCT_TYPE": "XNA",
         "CHANNEL_TYPE": "Regional / Local",
         "SELLERPLACE_AREA": 121,
         "NAME_SELLER_INDUSTRY": "Consumer electronics",
         "CNT_PAYMENT": 10,
         "NAME_YIELD_GROUP": "middle",
         "PRODUCT_COMBINATION": "POS household with interest",
         "DAYS_FIRST_DRAWING": 365243,
         "DAYS_FIRST_DUE": -1282,
         "DAYS_LAST_DUE_1ST_VERSION": -1012,
         "DAYS_LAST_DUE": -1042,
         "DAYS_TERMINATION": -1034,
         "NFLAG_INSURED_ON_APPROVAL": 0,
         "_deepnote_index_column": 368627
        },
        {
         "SK_ID_PREV": 1000009,
         "SK_ID_CURR": 343078,
         "NAME_CONTRACT_TYPE": "Consumer loans",
         "AMT_ANNUITY": 9302.85,
         "AMT_APPLICATION": 42705,
         "AMT_CREDIT": 45243,
         "AMT_DOWN_PAYMENT": 0,
         "AMT_GOODS_PRICE": 42705,
         "WEEKDAY_APPR_PROCESS_START": "SATURDAY",
         "HOUR_APPR_PROCESS_START": 11,
         "FLAG_LAST_APPL_PER_CONTRACT": "Y",
         "NFLAG_LAST_APPL_IN_DAY": 1,
         "RATE_DOWN_PAYMENT": 0,
         "RATE_INTEREST_PRIMARY": "nan",
         "RATE_INTEREST_PRIVILEGED": "nan",
         "NAME_CASH_LOAN_PURPOSE": "XAP",
         "NAME_CONTRACT_STATUS": "Approved",
         "DAYS_DECISION": -488,
         "NAME_PAYMENT_TYPE": "Cash through the bank",
         "CODE_REJECT_REASON": "XAP",
         "NAME_TYPE_SUITE": "Unaccompanied",
         "NAME_CLIENT_TYPE": "Repeater",
         "NAME_GOODS_CATEGORY": "Consumer Electronics",
         "NAME_PORTFOLIO": "POS",
         "NAME_PRODUCT_TYPE": "XNA",
         "CHANNEL_TYPE": "Regional / Local",
         "SELLERPLACE_AREA": 121,
         "NAME_SELLER_INDUSTRY": "Consumer electronics",
         "CNT_PAYMENT": 6,
         "NAME_YIELD_GROUP": "high",
         "PRODUCT_COMBINATION": "POS household with interest",
         "DAYS_FIRST_DRAWING": 365243,
         "DAYS_FIRST_DUE": -457,
         "DAYS_LAST_DUE_1ST_VERSION": -307,
         "DAYS_LAST_DUE": -307,
         "DAYS_TERMINATION": -305,
         "NFLAG_INSURED_ON_APPROVAL": 0,
         "_deepnote_index_column": 10842
        },
        {
         "SK_ID_PREV": 1000010,
         "SK_ID_CURR": 377567,
         "NAME_CONTRACT_TYPE": "Cash loans",
         "AMT_ANNUITY": 74682,
         "AMT_APPLICATION": 900000,
         "AMT_CREDIT": 900000,
         "AMT_DOWN_PAYMENT": "nan",
         "AMT_GOODS_PRICE": 900000,
         "WEEKDAY_APPR_PROCESS_START": "THURSDAY",
         "HOUR_APPR_PROCESS_START": 17,
         "FLAG_LAST_APPL_PER_CONTRACT": "Y",
         "NFLAG_LAST_APPL_IN_DAY": 1,
         "RATE_DOWN_PAYMENT": "nan",
         "RATE_INTEREST_PRIMARY": "nan",
         "RATE_INTEREST_PRIVILEGED": "nan",
         "NAME_CASH_LOAN_PURPOSE": "XNA",
         "NAME_CONTRACT_STATUS": "Approved",
         "DAYS_DECISION": -588,
         "NAME_PAYMENT_TYPE": "Cash through the bank",
         "CODE_REJECT_REASON": "XAP",
         "NAME_TYPE_SUITE": "nan",
         "NAME_CLIENT_TYPE": "Repeater",
         "NAME_GOODS_CATEGORY": "XNA",
         "NAME_PORTFOLIO": "Cash",
         "NAME_PRODUCT_TYPE": "x-sell",
         "CHANNEL_TYPE": "Regional / Local",
         "SELLERPLACE_AREA": 121,
         "NAME_SELLER_INDUSTRY": "Consumer electronics",
         "CNT_PAYMENT": 18,
         "NAME_YIELD_GROUP": "high",
         "PRODUCT_COMBINATION": "Cash X-Sell: high",
         "DAYS_FIRST_DRAWING": 365243,
         "DAYS_FIRST_DUE": -558,
         "DAYS_LAST_DUE_1ST_VERSION": -48,
         "DAYS_LAST_DUE": -258,
         "DAYS_TERMINATION": -256,
         "NFLAG_INSURED_ON_APPROVAL": 0,
         "_deepnote_index_column": 1636159
        },
        {
         "SK_ID_PREV": 1000011,
         "SK_ID_CURR": 198678,
         "NAME_CONTRACT_TYPE": "Cash loans",
         "AMT_ANNUITY": 92435.04,
         "AMT_APPLICATION": 855000,
         "AMT_CREDIT": 879831,
         "AMT_DOWN_PAYMENT": "nan",
         "AMT_GOODS_PRICE": 855000,
         "WEEKDAY_APPR_PROCESS_START": "SUNDAY",
         "HOUR_APPR_PROCESS_START": 18,
         "FLAG_LAST_APPL_PER_CONTRACT": "Y",
         "NFLAG_LAST_APPL_IN_DAY": 1,
         "RATE_DOWN_PAYMENT": "nan",
         "RATE_INTEREST_PRIMARY": "nan",
         "RATE_INTEREST_PRIVILEGED": "nan",
         "NAME_CASH_LOAN_PURPOSE": "XNA",
         "NAME_CONTRACT_STATUS": "Approved",
         "DAYS_DECISION": -465,
         "NAME_PAYMENT_TYPE": "Cash through the bank",
         "CODE_REJECT_REASON": "XAP",
         "NAME_TYPE_SUITE": "nan",
         "NAME_CLIENT_TYPE": "Repeater",
         "NAME_GOODS_CATEGORY": "XNA",
         "NAME_PORTFOLIO": "Cash",
         "NAME_PRODUCT_TYPE": "x-sell",
         "CHANNEL_TYPE": "Regional / Local",
         "SELLERPLACE_AREA": 121,
         "NAME_SELLER_INDUSTRY": "Consumer electronics",
         "CNT_PAYMENT": 12,
         "NAME_YIELD_GROUP": "middle",
         "PRODUCT_COMBINATION": "Cash X-Sell: middle",
         "DAYS_FIRST_DRAWING": 365243,
         "DAYS_FIRST_DUE": -435,
         "DAYS_LAST_DUE_1ST_VERSION": -105,
         "DAYS_LAST_DUE": -105,
         "DAYS_TERMINATION": -101,
         "NFLAG_INSURED_ON_APPROVAL": 1,
         "_deepnote_index_column": 1022809
        },
        {
         "SK_ID_PREV": 1000012,
         "SK_ID_CURR": 377567,
         "NAME_CONTRACT_TYPE": "Consumer loans",
         "AMT_ANNUITY": 10439.145,
         "AMT_APPLICATION": 103104,
         "AMT_CREDIT": 113989.5,
         "AMT_DOWN_PAYMENT": 0,
         "AMT_GOODS_PRICE": 103104,
         "WEEKDAY_APPR_PROCESS_START": "SATURDAY",
         "HOUR_APPR_PROCESS_START": 15,
         "FLAG_LAST_APPL_PER_CONTRACT": "Y",
         "NFLAG_LAST_APPL_IN_DAY": 1,
         "RATE_DOWN_PAYMENT": 0,
         "RATE_INTEREST_PRIMARY": "nan",
         "RATE_INTEREST_PRIVILEGED": "nan",
         "NAME_CASH_LOAN_PURPOSE": "XAP",
         "NAME_CONTRACT_STATUS": "Approved",
         "DAYS_DECISION": -915,
         "NAME_PAYMENT_TYPE": "Cash through the bank",
         "CODE_REJECT_REASON": "XAP",
         "NAME_TYPE_SUITE": "Unaccompanied",
         "NAME_CLIENT_TYPE": "New",
         "NAME_GOODS_CATEGORY": "Computers",
         "NAME_PORTFOLIO": "POS",
         "NAME_PRODUCT_TYPE": "XNA",
         "CHANNEL_TYPE": "Regional / Local",
         "SELLERPLACE_AREA": 121,
         "NAME_SELLER_INDUSTRY": "Consumer electronics",
         "CNT_PAYMENT": 12,
         "NAME_YIELD_GROUP": "low_action",
         "PRODUCT_COMBINATION": "POS household without interest",
         "DAYS_FIRST_DRAWING": 365243,
         "DAYS_FIRST_DUE": -883,
         "DAYS_LAST_DUE_1ST_VERSION": -553,
         "DAYS_LAST_DUE": -553,
         "DAYS_TERMINATION": -550,
         "NFLAG_INSURED_ON_APPROVAL": 0,
         "_deepnote_index_column": 1465851
        },
        {
         "SK_ID_PREV": 1000013,
         "SK_ID_CURR": 215520,
         "NAME_CONTRACT_TYPE": "Consumer loans",
         "AMT_ANNUITY": 13347.9,
         "AMT_APPLICATION": 134955,
         "AMT_CREDIT": 133479,
         "AMT_DOWN_PAYMENT": 13500,
         "AMT_GOODS_PRICE": 134955,
         "WEEKDAY_APPR_PROCESS_START": "THURSDAY",
         "HOUR_APPR_PROCESS_START": 18,
         "FLAG_LAST_APPL_PER_CONTRACT": "Y",
         "NFLAG_LAST_APPL_IN_DAY": 1,
         "RATE_DOWN_PAYMENT": 0.1000328432818788,
         "RATE_INTEREST_PRIMARY": "nan",
         "RATE_INTEREST_PRIVILEGED": "nan",
         "NAME_CASH_LOAN_PURPOSE": "XAP",
         "NAME_CONTRACT_STATUS": "Approved",
         "DAYS_DECISION": -1397,
         "NAME_PAYMENT_TYPE": "Cash through the bank",
         "CODE_REJECT_REASON": "XAP",
         "NAME_TYPE_SUITE": "Family",
         "NAME_CLIENT_TYPE": "New",
         "NAME_GOODS_CATEGORY": "Computers",
         "NAME_PORTFOLIO": "POS",
         "NAME_PRODUCT_TYPE": "XNA",
         "CHANNEL_TYPE": "Regional / Local",
         "SELLERPLACE_AREA": 121,
         "NAME_SELLER_INDUSTRY": "Consumer electronics",
         "CNT_PAYMENT": 12,
         "NAME_YIELD_GROUP": "middle",
         "PRODUCT_COMBINATION": "POS household with interest",
         "DAYS_FIRST_DRAWING": 365243,
         "DAYS_FIRST_DUE": -1366,
         "DAYS_LAST_DUE_1ST_VERSION": -1036,
         "DAYS_LAST_DUE": -1036,
         "DAYS_TERMINATION": -1030,
         "NFLAG_INSURED_ON_APPROVAL": 0,
         "_deepnote_index_column": 734211
        },
        {
         "SK_ID_PREV": 1000014,
         "SK_ID_CURR": 361644,
         "NAME_CONTRACT_TYPE": "Consumer loans",
         "AMT_ANNUITY": 8389.845,
         "AMT_APPLICATION": 56835,
         "AMT_CREDIT": 57118.5,
         "AMT_DOWN_PAYMENT": 5850,
         "AMT_GOODS_PRICE": 56835,
         "WEEKDAY_APPR_PROCESS_START": "SUNDAY",
         "HOUR_APPR_PROCESS_START": 18,
         "FLAG_LAST_APPL_PER_CONTRACT": "Y",
         "NFLAG_LAST_APPL_IN_DAY": 1,
         "RATE_DOWN_PAYMENT": 0.1011804603600501,
         "RATE_INTEREST_PRIMARY": "nan",
         "RATE_INTEREST_PRIVILEGED": "nan",
         "NAME_CASH_LOAN_PURPOSE": "XAP",
         "NAME_CONTRACT_STATUS": "Approved",
         "DAYS_DECISION": -1371,
         "NAME_PAYMENT_TYPE": "Cash through the bank",
         "CODE_REJECT_REASON": "XAP",
         "NAME_TYPE_SUITE": "Unaccompanied",
         "NAME_CLIENT_TYPE": "New",
         "NAME_GOODS_CATEGORY": "Consumer Electronics",
         "NAME_PORTFOLIO": "POS",
         "NAME_PRODUCT_TYPE": "XNA",
         "CHANNEL_TYPE": "Regional / Local",
         "SELLERPLACE_AREA": 121,
         "NAME_SELLER_INDUSTRY": "Consumer electronics",
         "CNT_PAYMENT": 8,
         "NAME_YIELD_GROUP": "middle",
         "PRODUCT_COMBINATION": "POS household with interest",
         "DAYS_FIRST_DRAWING": 365243,
         "DAYS_FIRST_DUE": -1339,
         "DAYS_LAST_DUE_1ST_VERSION": -1129,
         "DAYS_LAST_DUE": -1129,
         "DAYS_TERMINATION": -1126,
         "NFLAG_INSURED_ON_APPROVAL": 0,
         "_deepnote_index_column": 1356546
        },
        {
         "SK_ID_PREV": 1000015,
         "SK_ID_CURR": 315553,
         "NAME_CONTRACT_TYPE": "Consumer loans",
         "AMT_ANNUITY": 5597.46,
         "AMT_APPLICATION": 32310,
         "AMT_CREDIT": 34623,
         "AMT_DOWN_PAYMENT": 3600,
         "AMT_GOODS_PRICE": 32310,
         "WEEKDAY_APPR_PROCESS_START": "MONDAY",
         "HOUR_APPR_PROCESS_START": 19,
         "FLAG_LAST_APPL_PER_CONTRACT": "Y",
         "NFLAG_LAST_APPL_IN_DAY": 1,
         "RATE_DOWN_PAYMENT": 0.1025750797354282,
         "RATE_INTEREST_PRIMARY": "nan",
         "RATE_INTEREST_PRIVILEGED": "nan",
         "NAME_CASH_LOAN_PURPOSE": "XAP",
         "NAME_CONTRACT_STATUS": "Approved",
         "DAYS_DECISION": -1394,
         "NAME_PAYMENT_TYPE": "Cash through the bank",
         "CODE_REJECT_REASON": "XAP",
         "NAME_TYPE_SUITE": "Spouse, partner",
         "NAME_CLIENT_TYPE": "New",
         "NAME_GOODS_CATEGORY": "Mobile",
         "NAME_PORTFOLIO": "POS",
         "NAME_PRODUCT_TYPE": "XNA",
         "CHANNEL_TYPE": "Regional / Local",
         "SELLERPLACE_AREA": 121,
         "NAME_SELLER_INDUSTRY": "Consumer electronics",
         "CNT_PAYMENT": 8,
         "NAME_YIELD_GROUP": "high",
         "PRODUCT_COMBINATION": "POS household with interest",
         "DAYS_FIRST_DRAWING": 365243,
         "DAYS_FIRST_DUE": -1363,
         "DAYS_LAST_DUE_1ST_VERSION": -1153,
         "DAYS_LAST_DUE": -1153,
         "DAYS_TERMINATION": -1150,
         "NFLAG_INSURED_ON_APPROVAL": 0,
         "_deepnote_index_column": 1267501
        },
        {
         "SK_ID_PREV": 1000016,
         "SK_ID_CURR": 157990,
         "NAME_CONTRACT_TYPE": "Consumer loans",
         "AMT_ANNUITY": 6078.15,
         "AMT_APPLICATION": 63720,
         "AMT_CREDIT": 56970,
         "AMT_DOWN_PAYMENT": 6750,
         "AMT_GOODS_PRICE": 63720,
         "WEEKDAY_APPR_PROCESS_START": "WEDNESDAY",
         "HOUR_APPR_PROCESS_START": 16,
         "FLAG_LAST_APPL_PER_CONTRACT": "Y",
         "NFLAG_LAST_APPL_IN_DAY": 1,
         "RATE_DOWN_PAYMENT": 0.1153697996918336,
         "RATE_INTEREST_PRIMARY": "nan",
         "RATE_INTEREST_PRIVILEGED": "nan",
         "NAME_CASH_LOAN_PURPOSE": "XAP",
         "NAME_CONTRACT_STATUS": "Approved",
         "DAYS_DECISION": -717,
         "NAME_PAYMENT_TYPE": "Cash through the bank",
         "CODE_REJECT_REASON": "XAP",
         "NAME_TYPE_SUITE": "Unaccompanied",
         "NAME_CLIENT_TYPE": "Refreshed",
         "NAME_GOODS_CATEGORY": "Audio/Video",
         "NAME_PORTFOLIO": "POS",
         "NAME_PRODUCT_TYPE": "XNA",
         "CHANNEL_TYPE": "Stone",
         "SELLERPLACE_AREA": 185,
         "NAME_SELLER_INDUSTRY": "Consumer electronics",
         "CNT_PAYMENT": 12,
         "NAME_YIELD_GROUP": "middle",
         "PRODUCT_COMBINATION": "POS household with interest",
         "DAYS_FIRST_DRAWING": 365243,
         "DAYS_FIRST_DUE": -685,
         "DAYS_LAST_DUE_1ST_VERSION": -355,
         "DAYS_LAST_DUE": -535,
         "DAYS_TERMINATION": -531,
         "NFLAG_INSURED_ON_APPROVAL": 0,
         "_deepnote_index_column": 10843
        },
        {
         "SK_ID_PREV": 1000017,
         "SK_ID_CURR": 310743,
         "NAME_CONTRACT_TYPE": "Consumer loans",
         "AMT_ANNUITY": 7002.72,
         "AMT_APPLICATION": 67864.23,
         "AMT_CREDIT": 75024,
         "AMT_DOWN_PAYMENT": 4.23,
         "AMT_GOODS_PRICE": 67864.23,
         "WEEKDAY_APPR_PROCESS_START": "SATURDAY",
         "HOUR_APPR_PROCESS_START": 11,
         "FLAG_LAST_APPL_PER_CONTRACT": "Y",
         "NFLAG_LAST_APPL_IN_DAY": 1,
         "RATE_DOWN_PAYMENT": 0.00006140161570457605,
         "RATE_INTEREST_PRIMARY": "nan",
         "RATE_INTEREST_PRIVILEGED": "nan",
         "NAME_CASH_LOAN_PURPOSE": "XAP",
         "NAME_CONTRACT_STATUS": "Approved",
         "DAYS_DECISION": -516,
         "NAME_PAYMENT_TYPE": "Cash through the bank",
         "CODE_REJECT_REASON": "XAP",
         "NAME_TYPE_SUITE": "Unaccompanied",
         "NAME_CLIENT_TYPE": "New",
         "NAME_GOODS_CATEGORY": "Consumer Electronics",
         "NAME_PORTFOLIO": "POS",
         "NAME_PRODUCT_TYPE": "XNA",
         "CHANNEL_TYPE": "Country-wide",
         "SELLERPLACE_AREA": 595,
         "NAME_SELLER_INDUSTRY": "Consumer electronics",
         "CNT_PAYMENT": 12,
         "NAME_YIELD_GROUP": "low_normal",
         "PRODUCT_COMBINATION": "POS household with interest",
         "DAYS_FIRST_DRAWING": 365243,
         "DAYS_FIRST_DUE": -486,
         "DAYS_LAST_DUE_1ST_VERSION": -156,
         "DAYS_LAST_DUE": -156,
         "DAYS_TERMINATION": -151,
         "NFLAG_INSURED_ON_APPROVAL": 1,
         "_deepnote_index_column": 201599
        },
        {
         "SK_ID_PREV": 1000018,
         "SK_ID_CURR": 394447,
         "NAME_CONTRACT_TYPE": "Revolving loans",
         "AMT_ANNUITY": 2250,
         "AMT_APPLICATION": 45000,
         "AMT_CREDIT": 45000,
         "AMT_DOWN_PAYMENT": "nan",
         "AMT_GOODS_PRICE": 45000,
         "WEEKDAY_APPR_PROCESS_START": "SUNDAY",
         "HOUR_APPR_PROCESS_START": 10,
         "FLAG_LAST_APPL_PER_CONTRACT": "Y",
         "NFLAG_LAST_APPL_IN_DAY": 1,
         "RATE_DOWN_PAYMENT": "nan",
         "RATE_INTEREST_PRIMARY": "nan",
         "RATE_INTEREST_PRIVILEGED": "nan",
         "NAME_CASH_LOAN_PURPOSE": "XAP",
         "NAME_CONTRACT_STATUS": "Approved",
         "DAYS_DECISION": -176,
         "NAME_PAYMENT_TYPE": "XNA",
         "CODE_REJECT_REASON": "XAP",
         "NAME_TYPE_SUITE": "Unaccompanied",
         "NAME_CLIENT_TYPE": "New",
         "NAME_GOODS_CATEGORY": "XNA",
         "NAME_PORTFOLIO": "Cards",
         "NAME_PRODUCT_TYPE": "walk-in",
         "CHANNEL_TYPE": "Country-wide",
         "SELLERPLACE_AREA": 595,
         "NAME_SELLER_INDUSTRY": "Consumer electronics",
         "CNT_PAYMENT": 0,
         "NAME_YIELD_GROUP": "XNA",
         "PRODUCT_COMBINATION": "Card Street",
         "DAYS_FIRST_DRAWING": -175,
         "DAYS_FIRST_DUE": -130,
         "DAYS_LAST_DUE_1ST_VERSION": 365243,
         "DAYS_LAST_DUE": 365243,
         "DAYS_TERMINATION": 365243,
         "NFLAG_INSURED_ON_APPROVAL": 0,
         "_deepnote_index_column": 1519242
        },
        {
         "SK_ID_PREV": 1000019,
         "SK_ID_CURR": 176905,
         "NAME_CONTRACT_TYPE": "Consumer loans",
         "AMT_ANNUITY": 6072.165,
         "AMT_APPLICATION": 60246,
         "AMT_CREDIT": 51372,
         "AMT_DOWN_PAYMENT": 13500,
         "AMT_GOODS_PRICE": 60246,
         "WEEKDAY_APPR_PROCESS_START": "FRIDAY",
         "HOUR_APPR_PROCESS_START": 12,
         "FLAG_LAST_APPL_PER_CONTRACT": "Y",
         "NFLAG_LAST_APPL_IN_DAY": 1,
         "RATE_DOWN_PAYMENT": 0.2266421148219149,
         "RATE_INTEREST_PRIMARY": "nan",
         "RATE_INTEREST_PRIVILEGED": "nan",
         "NAME_CASH_LOAN_PURPOSE": "XAP",
         "NAME_CONTRACT_STATUS": "Approved",
         "DAYS_DECISION": -2338,
         "NAME_PAYMENT_TYPE": "Cash through the bank",
         "CODE_REJECT_REASON": "XAP",
         "NAME_TYPE_SUITE": "Unaccompanied",
         "NAME_CLIENT_TYPE": "Repeater",
         "NAME_GOODS_CATEGORY": "Mobile",
         "NAME_PORTFOLIO": "POS",
         "NAME_PRODUCT_TYPE": "XNA",
         "CHANNEL_TYPE": "Country-wide",
         "SELLERPLACE_AREA": 62,
         "NAME_SELLER_INDUSTRY": "Connectivity",
         "CNT_PAYMENT": 12,
         "NAME_YIELD_GROUP": "high",
         "PRODUCT_COMBINATION": "POS mobile with interest",
         "DAYS_FIRST_DRAWING": 365243,
         "DAYS_FIRST_DUE": -2307,
         "DAYS_LAST_DUE_1ST_VERSION": -1977,
         "DAYS_LAST_DUE": -1977,
         "DAYS_TERMINATION": -1972,
         "NFLAG_INSURED_ON_APPROVAL": 0,
         "_deepnote_index_column": 1414394
        },
        {
         "SK_ID_PREV": 1000020,
         "SK_ID_CURR": 299072,
         "NAME_CONTRACT_TYPE": "Consumer loans",
         "AMT_ANNUITY": 18393.165,
         "AMT_APPLICATION": 151555.5,
         "AMT_CREDIT": 164961,
         "AMT_DOWN_PAYMENT": 0,
         "AMT_GOODS_PRICE": 151555.5,
         "WEEKDAY_APPR_PROCESS_START": "TUESDAY",
         "HOUR_APPR_PROCESS_START": 10,
         "FLAG_LAST_APPL_PER_CONTRACT": "Y",
         "NFLAG_LAST_APPL_IN_DAY": 1,
         "RATE_DOWN_PAYMENT": 0,
         "RATE_INTEREST_PRIMARY": "nan",
         "RATE_INTEREST_PRIVILEGED": "nan",
         "NAME_CASH_LOAN_PURPOSE": "XAP",
         "NAME_CONTRACT_STATUS": "Approved",
         "DAYS_DECISION": -2017,
         "NAME_PAYMENT_TYPE": "Cash through the bank",
         "CODE_REJECT_REASON": "XAP",
         "NAME_TYPE_SUITE": "Family",
         "NAME_CLIENT_TYPE": "Repeater",
         "NAME_GOODS_CATEGORY": "Computers",
         "NAME_PORTFOLIO": "POS",
         "NAME_PRODUCT_TYPE": "XNA",
         "CHANNEL_TYPE": "Country-wide",
         "SELLERPLACE_AREA": 1296,
         "NAME_SELLER_INDUSTRY": "Consumer electronics",
         "CNT_PAYMENT": 12,
         "NAME_YIELD_GROUP": "high",
         "PRODUCT_COMBINATION": "POS household with interest",
         "DAYS_FIRST_DRAWING": 365243,
         "DAYS_FIRST_DUE": -1986,
         "DAYS_LAST_DUE_1ST_VERSION": -1656,
         "DAYS_LAST_DUE": -1656,
         "DAYS_TERMINATION": -1648,
         "NFLAG_INSURED_ON_APPROVAL": 0,
         "_deepnote_index_column": 178303
        }
       ],
       "rows_bottom": null
      },
      "text/plain": "         SK_ID_PREV  SK_ID_CURR NAME_CONTRACT_TYPE  AMT_ANNUITY  \\\n38906       1000001      158271     Consumer loans     6404.310   \n73676       1000002      101962     Consumer loans     6264.000   \n1517084     1000003      252457     Consumer loans     4951.350   \n1406334     1000004      260094     Consumer loans     3391.110   \n523289      1000005      176456     Consumer loans    14713.605   \n1476878     1000006      427505     Consumer loans    10572.345   \n1102061     1000007      256657     Consumer loans    11246.805   \n368627      1000008      152059     Consumer loans    26331.660   \n10842       1000009      343078     Consumer loans     9302.850   \n1636159     1000010      377567         Cash loans    74682.000   \n1022809     1000011      198678         Cash loans    92435.040   \n1465851     1000012      377567     Consumer loans    10439.145   \n734211      1000013      215520     Consumer loans    13347.900   \n1356546     1000014      361644     Consumer loans     8389.845   \n1267501     1000015      315553     Consumer loans     5597.460   \n10843       1000016      157990     Consumer loans     6078.150   \n201599      1000017      310743     Consumer loans     7002.720   \n1519242     1000018      394447    Revolving loans     2250.000   \n1414394     1000019      176905     Consumer loans     6072.165   \n178303      1000020      299072     Consumer loans    18393.165   \n\n         AMT_APPLICATION  AMT_CREDIT  AMT_DOWN_PAYMENT  AMT_GOODS_PRICE  \\\n38906          58905.000     65124.0             0.000        58905.000   \n73676          39145.500     35230.5          3915.000        39145.500   \n1517084        47056.275     52641.0             4.275        47056.275   \n1406334        35144.370     30586.5          7032.870        35144.370   \n523289        123486.075    120307.5         12349.575       123486.075   \n1476878        51417.000     51417.0             0.000        51417.000   \n1102061        78570.000     62856.0         15714.000        78570.000   \n368627        249255.000    224325.0         24930.000       249255.000   \n10842          42705.000     45243.0             0.000        42705.000   \n1636159       900000.000    900000.0               NaN       900000.000   \n1022809       855000.000    879831.0               NaN       855000.000   \n1465851       103104.000    113989.5             0.000       103104.000   \n734211        134955.000    133479.0         13500.000       134955.000   \n1356546        56835.000     57118.5          5850.000        56835.000   \n1267501        32310.000     34623.0          3600.000        32310.000   \n10843          63720.000     56970.0          6750.000        63720.000   \n201599         67864.230     75024.0             4.230        67864.230   \n1519242        45000.000     45000.0               NaN        45000.000   \n1414394        60246.000     51372.0         13500.000        60246.000   \n178303        151555.500    164961.0             0.000       151555.500   \n\n        WEEKDAY_APPR_PROCESS_START  HOUR_APPR_PROCESS_START  ...  \\\n38906                     THURSDAY                        8  ...   \n73676                       SUNDAY                        8  ...   \n1517084                     SUNDAY                       13  ...   \n1406334                   THURSDAY                        9  ...   \n523289                    THURSDAY                       13  ...   \n1476878                  WEDNESDAY                       13  ...   \n1102061                     SUNDAY                       13  ...   \n368627                      MONDAY                       14  ...   \n10842                     SATURDAY                       11  ...   \n1636159                   THURSDAY                       17  ...   \n1022809                     SUNDAY                       18  ...   \n1465851                   SATURDAY                       15  ...   \n734211                    THURSDAY                       18  ...   \n1356546                     SUNDAY                       18  ...   \n1267501                     MONDAY                       19  ...   \n10843                    WEDNESDAY                       16  ...   \n201599                    SATURDAY                       11  ...   \n1519242                     SUNDAY                       10  ...   \n1414394                     FRIDAY                       12  ...   \n178303                     TUESDAY                       10  ...   \n\n         NAME_SELLER_INDUSTRY  CNT_PAYMENT  NAME_YIELD_GROUP  \\\n38906               Furniture         12.0            middle   \n73676    Consumer electronics          6.0        low_normal   \n1517084  Consumer electronics         12.0        low_action   \n1406334  Consumer electronics         10.0        low_normal   \n523289           Construction         10.0            middle   \n1476878          Connectivity          6.0              high   \n1102061  Consumer electronics          6.0        low_normal   \n368627   Consumer electronics         10.0            middle   \n10842    Consumer electronics          6.0              high   \n1636159  Consumer electronics         18.0              high   \n1022809  Consumer electronics         12.0            middle   \n1465851  Consumer electronics         12.0        low_action   \n734211   Consumer electronics         12.0            middle   \n1356546  Consumer electronics          8.0            middle   \n1267501  Consumer electronics          8.0              high   \n10843    Consumer electronics         12.0            middle   \n201599   Consumer electronics         12.0        low_normal   \n1519242  Consumer electronics          0.0               XNA   \n1414394          Connectivity         12.0              high   \n178303   Consumer electronics         12.0              high   \n\n                    PRODUCT_COMBINATION  DAYS_FIRST_DRAWING DAYS_FIRST_DUE  \\\n38906        POS industry with interest            365243.0         -268.0   \n73676       POS household with interest            365243.0        -1600.0   \n1517084  POS household without interest            365243.0          -94.0   \n1406334  POS household without interest            365243.0         -862.0   \n523289       POS industry with interest            365243.0        -1688.0   \n1476878        POS mobile with interest                 NaN            NaN   \n1102061     POS household with interest            365243.0         -123.0   \n368627      POS household with interest            365243.0        -1282.0   \n10842       POS household with interest            365243.0         -457.0   \n1636159               Cash X-Sell: high            365243.0         -558.0   \n1022809             Cash X-Sell: middle            365243.0         -435.0   \n1465851  POS household without interest            365243.0         -883.0   \n734211      POS household with interest            365243.0        -1366.0   \n1356546     POS household with interest            365243.0        -1339.0   \n1267501     POS household with interest            365243.0        -1363.0   \n10843       POS household with interest            365243.0         -685.0   \n201599      POS household with interest            365243.0         -486.0   \n1519242                     Card Street              -175.0         -130.0   \n1414394        POS mobile with interest            365243.0        -2307.0   \n178303      POS household with interest            365243.0        -1986.0   \n\n        DAYS_LAST_DUE_1ST_VERSION  DAYS_LAST_DUE DAYS_TERMINATION  \\\n38906                        62.0         -238.0           -233.0   \n73676                     -1450.0        -1510.0          -1501.0   \n1517084                     236.0       365243.0         365243.0   \n1406334                    -592.0         -682.0           -672.0   \n523289                    -1418.0        -1418.0          -1415.0   \n1476878                       NaN            NaN              NaN   \n1102061                      27.0       365243.0         365243.0   \n368627                    -1012.0        -1042.0          -1034.0   \n10842                      -307.0         -307.0           -305.0   \n1636159                     -48.0         -258.0           -256.0   \n1022809                    -105.0         -105.0           -101.0   \n1465851                    -553.0         -553.0           -550.0   \n734211                    -1036.0        -1036.0          -1030.0   \n1356546                   -1129.0        -1129.0          -1126.0   \n1267501                   -1153.0        -1153.0          -1150.0   \n10843                      -355.0         -535.0           -531.0   \n201599                     -156.0         -156.0           -151.0   \n1519242                  365243.0       365243.0         365243.0   \n1414394                   -1977.0        -1977.0          -1972.0   \n178303                    -1656.0        -1656.0          -1648.0   \n\n        NFLAG_INSURED_ON_APPROVAL  \n38906                         0.0  \n73676                         0.0  \n1517084                       1.0  \n1406334                       0.0  \n523289                        0.0  \n1476878                       NaN  \n1102061                       0.0  \n368627                        0.0  \n10842                         0.0  \n1636159                       0.0  \n1022809                       1.0  \n1465851                       0.0  \n734211                        0.0  \n1356546                       0.0  \n1267501                       0.0  \n10843                         0.0  \n201599                        1.0  \n1519242                       0.0  \n1414394                       0.0  \n178303                        0.0  \n\n[20 rows x 37 columns]",
      "text/html": "<div>\n<style scoped>\n    .dataframe tbody tr th:only-of-type {\n        vertical-align: middle;\n    }\n\n    .dataframe tbody tr th {\n        vertical-align: top;\n    }\n\n    .dataframe thead th {\n        text-align: right;\n    }\n</style>\n<table border=\"1\" class=\"dataframe\">\n  <thead>\n    <tr style=\"text-align: right;\">\n      <th></th>\n      <th>SK_ID_PREV</th>\n      <th>SK_ID_CURR</th>\n      <th>NAME_CONTRACT_TYPE</th>\n      <th>AMT_ANNUITY</th>\n      <th>AMT_APPLICATION</th>\n      <th>AMT_CREDIT</th>\n      <th>AMT_DOWN_PAYMENT</th>\n      <th>AMT_GOODS_PRICE</th>\n      <th>WEEKDAY_APPR_PROCESS_START</th>\n      <th>HOUR_APPR_PROCESS_START</th>\n      <th>...</th>\n      <th>NAME_SELLER_INDUSTRY</th>\n      <th>CNT_PAYMENT</th>\n      <th>NAME_YIELD_GROUP</th>\n      <th>PRODUCT_COMBINATION</th>\n      <th>DAYS_FIRST_DRAWING</th>\n      <th>DAYS_FIRST_DUE</th>\n      <th>DAYS_LAST_DUE_1ST_VERSION</th>\n      <th>DAYS_LAST_DUE</th>\n      <th>DAYS_TERMINATION</th>\n      <th>NFLAG_INSURED_ON_APPROVAL</th>\n    </tr>\n  </thead>\n  <tbody>\n    <tr>\n      <th>38906</th>\n      <td>1000001</td>\n      <td>158271</td>\n      <td>Consumer loans</td>\n      <td>6404.310</td>\n      <td>58905.000</td>\n      <td>65124.0</td>\n      <td>0.000</td>\n      <td>58905.000</td>\n      <td>THURSDAY</td>\n      <td>8</td>\n      <td>...</td>\n      <td>Furniture</td>\n      <td>12.0</td>\n      <td>middle</td>\n      <td>POS industry with interest</td>\n      <td>365243.0</td>\n      <td>-268.0</td>\n      <td>62.0</td>\n      <td>-238.0</td>\n      <td>-233.0</td>\n      <td>0.0</td>\n    </tr>\n    <tr>\n      <th>73676</th>\n      <td>1000002</td>\n      <td>101962</td>\n      <td>Consumer loans</td>\n      <td>6264.000</td>\n      <td>39145.500</td>\n      <td>35230.5</td>\n      <td>3915.000</td>\n      <td>39145.500</td>\n      <td>SUNDAY</td>\n      <td>8</td>\n      <td>...</td>\n      <td>Consumer electronics</td>\n      <td>6.0</td>\n      <td>low_normal</td>\n      <td>POS household with interest</td>\n      <td>365243.0</td>\n      <td>-1600.0</td>\n      <td>-1450.0</td>\n      <td>-1510.0</td>\n      <td>-1501.0</td>\n      <td>0.0</td>\n    </tr>\n    <tr>\n      <th>1517084</th>\n      <td>1000003</td>\n      <td>252457</td>\n      <td>Consumer loans</td>\n      <td>4951.350</td>\n      <td>47056.275</td>\n      <td>52641.0</td>\n      <td>4.275</td>\n      <td>47056.275</td>\n      <td>SUNDAY</td>\n      <td>13</td>\n      <td>...</td>\n      <td>Consumer electronics</td>\n      <td>12.0</td>\n      <td>low_action</td>\n      <td>POS household without interest</td>\n      <td>365243.0</td>\n      <td>-94.0</td>\n      <td>236.0</td>\n      <td>365243.0</td>\n      <td>365243.0</td>\n      <td>1.0</td>\n    </tr>\n    <tr>\n      <th>1406334</th>\n      <td>1000004</td>\n      <td>260094</td>\n      <td>Consumer loans</td>\n      <td>3391.110</td>\n      <td>35144.370</td>\n      <td>30586.5</td>\n      <td>7032.870</td>\n      <td>35144.370</td>\n      <td>THURSDAY</td>\n      <td>9</td>\n      <td>...</td>\n      <td>Consumer electronics</td>\n      <td>10.0</td>\n      <td>low_normal</td>\n      <td>POS household without interest</td>\n      <td>365243.0</td>\n      <td>-862.0</td>\n      <td>-592.0</td>\n      <td>-682.0</td>\n      <td>-672.0</td>\n      <td>0.0</td>\n    </tr>\n    <tr>\n      <th>523289</th>\n      <td>1000005</td>\n      <td>176456</td>\n      <td>Consumer loans</td>\n      <td>14713.605</td>\n      <td>123486.075</td>\n      <td>120307.5</td>\n      <td>12349.575</td>\n      <td>123486.075</td>\n      <td>THURSDAY</td>\n      <td>13</td>\n      <td>...</td>\n      <td>Construction</td>\n      <td>10.0</td>\n      <td>middle</td>\n      <td>POS industry with interest</td>\n      <td>365243.0</td>\n      <td>-1688.0</td>\n      <td>-1418.0</td>\n      <td>-1418.0</td>\n      <td>-1415.0</td>\n      <td>0.0</td>\n    </tr>\n    <tr>\n      <th>1476878</th>\n      <td>1000006</td>\n      <td>427505</td>\n      <td>Consumer loans</td>\n      <td>10572.345</td>\n      <td>51417.000</td>\n      <td>51417.0</td>\n      <td>0.000</td>\n      <td>51417.000</td>\n      <td>WEDNESDAY</td>\n      <td>13</td>\n      <td>...</td>\n      <td>Connectivity</td>\n      <td>6.0</td>\n      <td>high</td>\n      <td>POS mobile with interest</td>\n      <td>NaN</td>\n      <td>NaN</td>\n      <td>NaN</td>\n      <td>NaN</td>\n      <td>NaN</td>\n      <td>NaN</td>\n    </tr>\n    <tr>\n      <th>1102061</th>\n      <td>1000007</td>\n      <td>256657</td>\n      <td>Consumer loans</td>\n      <td>11246.805</td>\n      <td>78570.000</td>\n      <td>62856.0</td>\n      <td>15714.000</td>\n      <td>78570.000</td>\n      <td>SUNDAY</td>\n      <td>13</td>\n      <td>...</td>\n      <td>Consumer electronics</td>\n      <td>6.0</td>\n      <td>low_normal</td>\n      <td>POS household with interest</td>\n      <td>365243.0</td>\n      <td>-123.0</td>\n      <td>27.0</td>\n      <td>365243.0</td>\n      <td>365243.0</td>\n      <td>0.0</td>\n    </tr>\n    <tr>\n      <th>368627</th>\n      <td>1000008</td>\n      <td>152059</td>\n      <td>Consumer loans</td>\n      <td>26331.660</td>\n      <td>249255.000</td>\n      <td>224325.0</td>\n      <td>24930.000</td>\n      <td>249255.000</td>\n      <td>MONDAY</td>\n      <td>14</td>\n      <td>...</td>\n      <td>Consumer electronics</td>\n      <td>10.0</td>\n      <td>middle</td>\n      <td>POS household with interest</td>\n      <td>365243.0</td>\n      <td>-1282.0</td>\n      <td>-1012.0</td>\n      <td>-1042.0</td>\n      <td>-1034.0</td>\n      <td>0.0</td>\n    </tr>\n    <tr>\n      <th>10842</th>\n      <td>1000009</td>\n      <td>343078</td>\n      <td>Consumer loans</td>\n      <td>9302.850</td>\n      <td>42705.000</td>\n      <td>45243.0</td>\n      <td>0.000</td>\n      <td>42705.000</td>\n      <td>SATURDAY</td>\n      <td>11</td>\n      <td>...</td>\n      <td>Consumer electronics</td>\n      <td>6.0</td>\n      <td>high</td>\n      <td>POS household with interest</td>\n      <td>365243.0</td>\n      <td>-457.0</td>\n      <td>-307.0</td>\n      <td>-307.0</td>\n      <td>-305.0</td>\n      <td>0.0</td>\n    </tr>\n    <tr>\n      <th>1636159</th>\n      <td>1000010</td>\n      <td>377567</td>\n      <td>Cash loans</td>\n      <td>74682.000</td>\n      <td>900000.000</td>\n      <td>900000.0</td>\n      <td>NaN</td>\n      <td>900000.000</td>\n      <td>THURSDAY</td>\n      <td>17</td>\n      <td>...</td>\n      <td>Consumer electronics</td>\n      <td>18.0</td>\n      <td>high</td>\n      <td>Cash X-Sell: high</td>\n      <td>365243.0</td>\n      <td>-558.0</td>\n      <td>-48.0</td>\n      <td>-258.0</td>\n      <td>-256.0</td>\n      <td>0.0</td>\n    </tr>\n    <tr>\n      <th>1022809</th>\n      <td>1000011</td>\n      <td>198678</td>\n      <td>Cash loans</td>\n      <td>92435.040</td>\n      <td>855000.000</td>\n      <td>879831.0</td>\n      <td>NaN</td>\n      <td>855000.000</td>\n      <td>SUNDAY</td>\n      <td>18</td>\n      <td>...</td>\n      <td>Consumer electronics</td>\n      <td>12.0</td>\n      <td>middle</td>\n      <td>Cash X-Sell: middle</td>\n      <td>365243.0</td>\n      <td>-435.0</td>\n      <td>-105.0</td>\n      <td>-105.0</td>\n      <td>-101.0</td>\n      <td>1.0</td>\n    </tr>\n    <tr>\n      <th>1465851</th>\n      <td>1000012</td>\n      <td>377567</td>\n      <td>Consumer loans</td>\n      <td>10439.145</td>\n      <td>103104.000</td>\n      <td>113989.5</td>\n      <td>0.000</td>\n      <td>103104.000</td>\n      <td>SATURDAY</td>\n      <td>15</td>\n      <td>...</td>\n      <td>Consumer electronics</td>\n      <td>12.0</td>\n      <td>low_action</td>\n      <td>POS household without interest</td>\n      <td>365243.0</td>\n      <td>-883.0</td>\n      <td>-553.0</td>\n      <td>-553.0</td>\n      <td>-550.0</td>\n      <td>0.0</td>\n    </tr>\n    <tr>\n      <th>734211</th>\n      <td>1000013</td>\n      <td>215520</td>\n      <td>Consumer loans</td>\n      <td>13347.900</td>\n      <td>134955.000</td>\n      <td>133479.0</td>\n      <td>13500.000</td>\n      <td>134955.000</td>\n      <td>THURSDAY</td>\n      <td>18</td>\n      <td>...</td>\n      <td>Consumer electronics</td>\n      <td>12.0</td>\n      <td>middle</td>\n      <td>POS household with interest</td>\n      <td>365243.0</td>\n      <td>-1366.0</td>\n      <td>-1036.0</td>\n      <td>-1036.0</td>\n      <td>-1030.0</td>\n      <td>0.0</td>\n    </tr>\n    <tr>\n      <th>1356546</th>\n      <td>1000014</td>\n      <td>361644</td>\n      <td>Consumer loans</td>\n      <td>8389.845</td>\n      <td>56835.000</td>\n      <td>57118.5</td>\n      <td>5850.000</td>\n      <td>56835.000</td>\n      <td>SUNDAY</td>\n      <td>18</td>\n      <td>...</td>\n      <td>Consumer electronics</td>\n      <td>8.0</td>\n      <td>middle</td>\n      <td>POS household with interest</td>\n      <td>365243.0</td>\n      <td>-1339.0</td>\n      <td>-1129.0</td>\n      <td>-1129.0</td>\n      <td>-1126.0</td>\n      <td>0.0</td>\n    </tr>\n    <tr>\n      <th>1267501</th>\n      <td>1000015</td>\n      <td>315553</td>\n      <td>Consumer loans</td>\n      <td>5597.460</td>\n      <td>32310.000</td>\n      <td>34623.0</td>\n      <td>3600.000</td>\n      <td>32310.000</td>\n      <td>MONDAY</td>\n      <td>19</td>\n      <td>...</td>\n      <td>Consumer electronics</td>\n      <td>8.0</td>\n      <td>high</td>\n      <td>POS household with interest</td>\n      <td>365243.0</td>\n      <td>-1363.0</td>\n      <td>-1153.0</td>\n      <td>-1153.0</td>\n      <td>-1150.0</td>\n      <td>0.0</td>\n    </tr>\n    <tr>\n      <th>10843</th>\n      <td>1000016</td>\n      <td>157990</td>\n      <td>Consumer loans</td>\n      <td>6078.150</td>\n      <td>63720.000</td>\n      <td>56970.0</td>\n      <td>6750.000</td>\n      <td>63720.000</td>\n      <td>WEDNESDAY</td>\n      <td>16</td>\n      <td>...</td>\n      <td>Consumer electronics</td>\n      <td>12.0</td>\n      <td>middle</td>\n      <td>POS household with interest</td>\n      <td>365243.0</td>\n      <td>-685.0</td>\n      <td>-355.0</td>\n      <td>-535.0</td>\n      <td>-531.0</td>\n      <td>0.0</td>\n    </tr>\n    <tr>\n      <th>201599</th>\n      <td>1000017</td>\n      <td>310743</td>\n      <td>Consumer loans</td>\n      <td>7002.720</td>\n      <td>67864.230</td>\n      <td>75024.0</td>\n      <td>4.230</td>\n      <td>67864.230</td>\n      <td>SATURDAY</td>\n      <td>11</td>\n      <td>...</td>\n      <td>Consumer electronics</td>\n      <td>12.0</td>\n      <td>low_normal</td>\n      <td>POS household with interest</td>\n      <td>365243.0</td>\n      <td>-486.0</td>\n      <td>-156.0</td>\n      <td>-156.0</td>\n      <td>-151.0</td>\n      <td>1.0</td>\n    </tr>\n    <tr>\n      <th>1519242</th>\n      <td>1000018</td>\n      <td>394447</td>\n      <td>Revolving loans</td>\n      <td>2250.000</td>\n      <td>45000.000</td>\n      <td>45000.0</td>\n      <td>NaN</td>\n      <td>45000.000</td>\n      <td>SUNDAY</td>\n      <td>10</td>\n      <td>...</td>\n      <td>Consumer electronics</td>\n      <td>0.0</td>\n      <td>XNA</td>\n      <td>Card Street</td>\n      <td>-175.0</td>\n      <td>-130.0</td>\n      <td>365243.0</td>\n      <td>365243.0</td>\n      <td>365243.0</td>\n      <td>0.0</td>\n    </tr>\n    <tr>\n      <th>1414394</th>\n      <td>1000019</td>\n      <td>176905</td>\n      <td>Consumer loans</td>\n      <td>6072.165</td>\n      <td>60246.000</td>\n      <td>51372.0</td>\n      <td>13500.000</td>\n      <td>60246.000</td>\n      <td>FRIDAY</td>\n      <td>12</td>\n      <td>...</td>\n      <td>Connectivity</td>\n      <td>12.0</td>\n      <td>high</td>\n      <td>POS mobile with interest</td>\n      <td>365243.0</td>\n      <td>-2307.0</td>\n      <td>-1977.0</td>\n      <td>-1977.0</td>\n      <td>-1972.0</td>\n      <td>0.0</td>\n    </tr>\n    <tr>\n      <th>178303</th>\n      <td>1000020</td>\n      <td>299072</td>\n      <td>Consumer loans</td>\n      <td>18393.165</td>\n      <td>151555.500</td>\n      <td>164961.0</td>\n      <td>0.000</td>\n      <td>151555.500</td>\n      <td>TUESDAY</td>\n      <td>10</td>\n      <td>...</td>\n      <td>Consumer electronics</td>\n      <td>12.0</td>\n      <td>high</td>\n      <td>POS household with interest</td>\n      <td>365243.0</td>\n      <td>-1986.0</td>\n      <td>-1656.0</td>\n      <td>-1656.0</td>\n      <td>-1648.0</td>\n      <td>0.0</td>\n    </tr>\n  </tbody>\n</table>\n<p>20 rows × 37 columns</p>\n</div>"
     },
     "metadata": {}
    }
   ]
  },
  {
   "cell_type": "code",
   "metadata": {
    "tags": [],
    "cell_id": "00002-223e76b3-3d23-4541-8826-e60bc7cf305a",
    "deepnote_to_be_reexecuted": false,
    "source_hash": "4fcbfa2b",
    "execution_start": 1630524148162,
    "execution_millis": 11620,
    "deepnote_cell_type": "code"
   },
   "source": "pmts.sort_values([\"SK_ID_PREV\", \"NUM_INSTALMENT_NUMBER\"]).head(20)",
   "execution_count": 4,
   "outputs": [
    {
     "output_type": "execute_result",
     "execution_count": 4,
     "data": {
      "application/vnd.deepnote.dataframe.v2+json": {
       "row_count": 20,
       "column_count": 8,
       "columns": [
        {
         "name": "SK_ID_PREV",
         "dtype": "int64",
         "stats": {
          "unique_count": 5,
          "nan_count": 0,
          "min": "1000001",
          "max": "1000005",
          "histogram": [
           {
            "bin_start": 1000001,
            "bin_end": 1000001.4,
            "count": 2
           },
           {
            "bin_start": 1000001.4,
            "bin_end": 1000001.8,
            "count": 0
           },
           {
            "bin_start": 1000001.8,
            "bin_end": 1000002.2,
            "count": 4
           },
           {
            "bin_start": 1000002.2,
            "bin_end": 1000002.6,
            "count": 0
           },
           {
            "bin_start": 1000002.6,
            "bin_end": 1000003,
            "count": 0
           },
           {
            "bin_start": 1000003,
            "bin_end": 1000003.4,
            "count": 3
           },
           {
            "bin_start": 1000003.4,
            "bin_end": 1000003.8,
            "count": 0
           },
           {
            "bin_start": 1000003.8,
            "bin_end": 1000004.2,
            "count": 7
           },
           {
            "bin_start": 1000004.2,
            "bin_end": 1000004.6,
            "count": 0
           },
           {
            "bin_start": 1000004.6,
            "bin_end": 1000005,
            "count": 4
           }
          ]
         }
        },
        {
         "name": "SK_ID_CURR",
         "dtype": "int64",
         "stats": {
          "unique_count": 5,
          "nan_count": 0,
          "min": "101962",
          "max": "260094",
          "histogram": [
           {
            "bin_start": 101962,
            "bin_end": 117775.2,
            "count": 4
           },
           {
            "bin_start": 117775.2,
            "bin_end": 133588.4,
            "count": 0
           },
           {
            "bin_start": 133588.4,
            "bin_end": 149401.6,
            "count": 0
           },
           {
            "bin_start": 149401.6,
            "bin_end": 165214.8,
            "count": 2
           },
           {
            "bin_start": 165214.8,
            "bin_end": 181028,
            "count": 4
           },
           {
            "bin_start": 181028,
            "bin_end": 196841.2,
            "count": 0
           },
           {
            "bin_start": 196841.2,
            "bin_end": 212654.40000000002,
            "count": 0
           },
           {
            "bin_start": 212654.40000000002,
            "bin_end": 228467.6,
            "count": 0
           },
           {
            "bin_start": 228467.6,
            "bin_end": 244280.80000000002,
            "count": 0
           },
           {
            "bin_start": 244280.80000000002,
            "bin_end": 260094,
            "count": 10
           }
          ]
         }
        },
        {
         "name": "NUM_INSTALMENT_VERSION",
         "dtype": "float64",
         "stats": {
          "unique_count": 2,
          "nan_count": 0,
          "min": "1.0",
          "max": "2.0",
          "histogram": [
           {
            "bin_start": 1,
            "bin_end": 1.1,
            "count": 17
           },
           {
            "bin_start": 1.1,
            "bin_end": 1.2,
            "count": 0
           },
           {
            "bin_start": 1.2,
            "bin_end": 1.3,
            "count": 0
           },
           {
            "bin_start": 1.3,
            "bin_end": 1.4,
            "count": 0
           },
           {
            "bin_start": 1.4,
            "bin_end": 1.5,
            "count": 0
           },
           {
            "bin_start": 1.5,
            "bin_end": 1.6,
            "count": 0
           },
           {
            "bin_start": 1.6,
            "bin_end": 1.7000000000000002,
            "count": 0
           },
           {
            "bin_start": 1.7000000000000002,
            "bin_end": 1.8,
            "count": 0
           },
           {
            "bin_start": 1.8,
            "bin_end": 1.9,
            "count": 0
           },
           {
            "bin_start": 1.9,
            "bin_end": 2,
            "count": 3
           }
          ]
         }
        },
        {
         "name": "NUM_INSTALMENT_NUMBER",
         "dtype": "int64",
         "stats": {
          "unique_count": 7,
          "nan_count": 0,
          "min": "1",
          "max": "7",
          "histogram": [
           {
            "bin_start": 1,
            "bin_end": 1.6,
            "count": 5
           },
           {
            "bin_start": 1.6,
            "bin_end": 2.2,
            "count": 5
           },
           {
            "bin_start": 2.2,
            "bin_end": 2.8,
            "count": 0
           },
           {
            "bin_start": 2.8,
            "bin_end": 3.4,
            "count": 4
           },
           {
            "bin_start": 3.4,
            "bin_end": 4,
            "count": 0
           },
           {
            "bin_start": 4,
            "bin_end": 4.6,
            "count": 3
           },
           {
            "bin_start": 4.6,
            "bin_end": 5.2,
            "count": 1
           },
           {
            "bin_start": 5.2,
            "bin_end": 5.8,
            "count": 0
           },
           {
            "bin_start": 5.8,
            "bin_end": 6.3999999999999995,
            "count": 1
           },
           {
            "bin_start": 6.3999999999999995,
            "bin_end": 7,
            "count": 1
           }
          ]
         }
        },
        {
         "name": "DAYS_INSTALMENT",
         "dtype": "float64",
         "stats": {
          "unique_count": 20,
          "nan_count": 0,
          "min": "-1688.0",
          "max": "-34.0",
          "histogram": [
           {
            "bin_start": -1688,
            "bin_end": -1522.6,
            "count": 7
           },
           {
            "bin_start": -1522.6,
            "bin_end": -1357.2,
            "count": 1
           },
           {
            "bin_start": -1357.2,
            "bin_end": -1191.8,
            "count": 0
           },
           {
            "bin_start": -1191.8,
            "bin_end": -1026.4,
            "count": 0
           },
           {
            "bin_start": -1026.4,
            "bin_end": -861,
            "count": 1
           },
           {
            "bin_start": -861,
            "bin_end": -695.5999999999999,
            "count": 5
           },
           {
            "bin_start": -695.5999999999999,
            "bin_end": -530.2,
            "count": 1
           },
           {
            "bin_start": -530.2,
            "bin_end": -364.79999999999995,
            "count": 0
           },
           {
            "bin_start": -364.79999999999995,
            "bin_end": -199.39999999999986,
            "count": 2
           },
           {
            "bin_start": -199.39999999999986,
            "bin_end": -34,
            "count": 3
           }
          ]
         }
        },
        {
         "name": "DAYS_ENTRY_PAYMENT",
         "dtype": "float64",
         "stats": {
          "unique_count": 18,
          "nan_count": 0,
          "min": "-1687.0",
          "max": "-49.0",
          "histogram": [
           {
            "bin_start": -1687,
            "bin_end": -1523.2,
            "count": 8
           },
           {
            "bin_start": -1523.2,
            "bin_end": -1359.4,
            "count": 0
           },
           {
            "bin_start": -1359.4,
            "bin_end": -1195.6,
            "count": 0
           },
           {
            "bin_start": -1195.6,
            "bin_end": -1031.8,
            "count": 0
           },
           {
            "bin_start": -1031.8,
            "bin_end": -868,
            "count": 1
           },
           {
            "bin_start": -868,
            "bin_end": -704.1999999999999,
            "count": 5
           },
           {
            "bin_start": -704.1999999999999,
            "bin_end": -540.3999999999999,
            "count": 1
           },
           {
            "bin_start": -540.3999999999999,
            "bin_end": -376.5999999999999,
            "count": 0
           },
           {
            "bin_start": -376.5999999999999,
            "bin_end": -212.79999999999995,
            "count": 2
           },
           {
            "bin_start": -212.79999999999995,
            "bin_end": -49,
            "count": 3
           }
          ]
         }
        },
        {
         "name": "AMT_INSTALMENT",
         "dtype": "float64",
         "stats": {
          "unique_count": 8,
          "nan_count": 0,
          "min": "3391.11",
          "max": "62039.115",
          "histogram": [
           {
            "bin_start": 3391.11,
            "bin_end": 9255.9105,
            "count": 13
           },
           {
            "bin_start": 9255.9105,
            "bin_end": 15120.711,
            "count": 5
           },
           {
            "bin_start": 15120.711,
            "bin_end": 20985.5115,
            "count": 1
           },
           {
            "bin_start": 20985.5115,
            "bin_end": 26850.311999999998,
            "count": 0
           },
           {
            "bin_start": 26850.311999999998,
            "bin_end": 32715.112499999996,
            "count": 0
           },
           {
            "bin_start": 32715.112499999996,
            "bin_end": 38579.913,
            "count": 0
           },
           {
            "bin_start": 38579.913,
            "bin_end": 44444.7135,
            "count": 0
           },
           {
            "bin_start": 44444.7135,
            "bin_end": 50309.513999999996,
            "count": 0
           },
           {
            "bin_start": 50309.513999999996,
            "bin_end": 56174.31449999999,
            "count": 0
           },
           {
            "bin_start": 56174.31449999999,
            "bin_end": 62039.115,
            "count": 1
           }
          ]
         }
        },
        {
         "name": "AMT_PAYMENT",
         "dtype": "float64",
         "stats": {
          "unique_count": 8,
          "nan_count": 0,
          "min": "3391.11",
          "max": "62039.115",
          "histogram": [
           {
            "bin_start": 3391.11,
            "bin_end": 9255.9105,
            "count": 13
           },
           {
            "bin_start": 9255.9105,
            "bin_end": 15120.711,
            "count": 5
           },
           {
            "bin_start": 15120.711,
            "bin_end": 20985.5115,
            "count": 1
           },
           {
            "bin_start": 20985.5115,
            "bin_end": 26850.311999999998,
            "count": 0
           },
           {
            "bin_start": 26850.311999999998,
            "bin_end": 32715.112499999996,
            "count": 0
           },
           {
            "bin_start": 32715.112499999996,
            "bin_end": 38579.913,
            "count": 0
           },
           {
            "bin_start": 38579.913,
            "bin_end": 44444.7135,
            "count": 0
           },
           {
            "bin_start": 44444.7135,
            "bin_end": 50309.513999999996,
            "count": 0
           },
           {
            "bin_start": 50309.513999999996,
            "bin_end": 56174.31449999999,
            "count": 0
           },
           {
            "bin_start": 56174.31449999999,
            "bin_end": 62039.115,
            "count": 1
           }
          ]
         }
        },
        {
         "name": "_deepnote_index_column",
         "dtype": "int64"
        }
       ],
       "rows_top": [
        {
         "SK_ID_PREV": 1000001,
         "SK_ID_CURR": 158271,
         "NUM_INSTALMENT_VERSION": 1,
         "NUM_INSTALMENT_NUMBER": 1,
         "DAYS_INSTALMENT": -268,
         "DAYS_ENTRY_PAYMENT": -294,
         "AMT_INSTALMENT": 6404.31,
         "AMT_PAYMENT": 6404.31,
         "_deepnote_index_column": 512588
        },
        {
         "SK_ID_PREV": 1000001,
         "SK_ID_CURR": 158271,
         "NUM_INSTALMENT_VERSION": 2,
         "NUM_INSTALMENT_NUMBER": 2,
         "DAYS_INSTALMENT": -238,
         "DAYS_ENTRY_PAYMENT": -244,
         "AMT_INSTALMENT": 62039.115,
         "AMT_PAYMENT": 62039.115,
         "_deepnote_index_column": 2159480
        },
        {
         "SK_ID_PREV": 1000002,
         "SK_ID_CURR": 101962,
         "NUM_INSTALMENT_VERSION": 1,
         "NUM_INSTALMENT_NUMBER": 1,
         "DAYS_INSTALMENT": -1600,
         "DAYS_ENTRY_PAYMENT": -1611,
         "AMT_INSTALMENT": 6264,
         "AMT_PAYMENT": 6264,
         "_deepnote_index_column": 1214732
        },
        {
         "SK_ID_PREV": 1000002,
         "SK_ID_CURR": 101962,
         "NUM_INSTALMENT_VERSION": 1,
         "NUM_INSTALMENT_NUMBER": 2,
         "DAYS_INSTALMENT": -1570,
         "DAYS_ENTRY_PAYMENT": -1575,
         "AMT_INSTALMENT": 6264,
         "AMT_PAYMENT": 6264,
         "_deepnote_index_column": 1631862
        },
        {
         "SK_ID_PREV": 1000002,
         "SK_ID_CURR": 101962,
         "NUM_INSTALMENT_VERSION": 1,
         "NUM_INSTALMENT_NUMBER": 3,
         "DAYS_INSTALMENT": -1540,
         "DAYS_ENTRY_PAYMENT": -1559,
         "AMT_INSTALMENT": 6264,
         "AMT_PAYMENT": 6264,
         "_deepnote_index_column": 3411021
        },
        {
         "SK_ID_PREV": 1000002,
         "SK_ID_CURR": 101962,
         "NUM_INSTALMENT_VERSION": 2,
         "NUM_INSTALMENT_NUMBER": 4,
         "DAYS_INSTALMENT": -1510,
         "DAYS_ENTRY_PAYMENT": -1554,
         "AMT_INSTALMENT": 18443.565,
         "AMT_PAYMENT": 18443.565,
         "_deepnote_index_column": 1006868
        },
        {
         "SK_ID_PREV": 1000003,
         "SK_ID_CURR": 252457,
         "NUM_INSTALMENT_VERSION": 1,
         "NUM_INSTALMENT_NUMBER": 1,
         "DAYS_INSTALMENT": -94,
         "DAYS_ENTRY_PAYMENT": -108,
         "AMT_INSTALMENT": 4951.35,
         "AMT_PAYMENT": 4951.35,
         "_deepnote_index_column": 6145031
        },
        {
         "SK_ID_PREV": 1000003,
         "SK_ID_CURR": 252457,
         "NUM_INSTALMENT_VERSION": 1,
         "NUM_INSTALMENT_NUMBER": 2,
         "DAYS_INSTALMENT": -64,
         "DAYS_ENTRY_PAYMENT": -81,
         "AMT_INSTALMENT": 4951.35,
         "AMT_PAYMENT": 4951.35,
         "_deepnote_index_column": 7054246
        },
        {
         "SK_ID_PREV": 1000003,
         "SK_ID_CURR": 252457,
         "NUM_INSTALMENT_VERSION": 1,
         "NUM_INSTALMENT_NUMBER": 3,
         "DAYS_INSTALMENT": -34,
         "DAYS_ENTRY_PAYMENT": -49,
         "AMT_INSTALMENT": 4951.35,
         "AMT_PAYMENT": 4951.35,
         "_deepnote_index_column": 4279518
        },
        {
         "SK_ID_PREV": 1000004,
         "SK_ID_CURR": 260094,
         "NUM_INSTALMENT_VERSION": 1,
         "NUM_INSTALMENT_NUMBER": 1,
         "DAYS_INSTALMENT": -862,
         "DAYS_ENTRY_PAYMENT": -881,
         "AMT_INSTALMENT": 3391.11,
         "AMT_PAYMENT": 3391.11,
         "_deepnote_index_column": 7126740
        },
        {
         "SK_ID_PREV": 1000004,
         "SK_ID_CURR": 260094,
         "NUM_INSTALMENT_VERSION": 1,
         "NUM_INSTALMENT_NUMBER": 2,
         "DAYS_INSTALMENT": -832,
         "DAYS_ENTRY_PAYMENT": -851,
         "AMT_INSTALMENT": 3391.11,
         "AMT_PAYMENT": 3391.11,
         "_deepnote_index_column": 5575422
        },
        {
         "SK_ID_PREV": 1000004,
         "SK_ID_CURR": 260094,
         "NUM_INSTALMENT_VERSION": 1,
         "NUM_INSTALMENT_NUMBER": 3,
         "DAYS_INSTALMENT": -802,
         "DAYS_ENTRY_PAYMENT": -830,
         "AMT_INSTALMENT": 3391.11,
         "AMT_PAYMENT": 3391.11,
         "_deepnote_index_column": 5737330
        },
        {
         "SK_ID_PREV": 1000004,
         "SK_ID_CURR": 260094,
         "NUM_INSTALMENT_VERSION": 1,
         "NUM_INSTALMENT_NUMBER": 4,
         "DAYS_INSTALMENT": -772,
         "DAYS_ENTRY_PAYMENT": -830,
         "AMT_INSTALMENT": 3391.11,
         "AMT_PAYMENT": 3391.11,
         "_deepnote_index_column": 5959838
        },
        {
         "SK_ID_PREV": 1000004,
         "SK_ID_CURR": 260094,
         "NUM_INSTALMENT_VERSION": 1,
         "NUM_INSTALMENT_NUMBER": 5,
         "DAYS_INSTALMENT": -742,
         "DAYS_ENTRY_PAYMENT": -752,
         "AMT_INSTALMENT": 3391.11,
         "AMT_PAYMENT": 3391.11,
         "_deepnote_index_column": 5197652
        },
        {
         "SK_ID_PREV": 1000004,
         "SK_ID_CURR": 260094,
         "NUM_INSTALMENT_VERSION": 1,
         "NUM_INSTALMENT_NUMBER": 6,
         "DAYS_INSTALMENT": -712,
         "DAYS_ENTRY_PAYMENT": -752,
         "AMT_INSTALMENT": 3391.11,
         "AMT_PAYMENT": 3391.11,
         "_deepnote_index_column": 4242475
        },
        {
         "SK_ID_PREV": 1000004,
         "SK_ID_CURR": 260094,
         "NUM_INSTALMENT_VERSION": 2,
         "NUM_INSTALMENT_NUMBER": 7,
         "DAYS_INSTALMENT": -682,
         "DAYS_ENTRY_PAYMENT": -695,
         "AMT_INSTALMENT": 13176.495,
         "AMT_PAYMENT": 13176.495,
         "_deepnote_index_column": 4713874
        },
        {
         "SK_ID_PREV": 1000005,
         "SK_ID_CURR": 176456,
         "NUM_INSTALMENT_VERSION": 1,
         "NUM_INSTALMENT_NUMBER": 1,
         "DAYS_INSTALMENT": -1688,
         "DAYS_ENTRY_PAYMENT": -1687,
         "AMT_INSTALMENT": 14713.605,
         "AMT_PAYMENT": 14713.605,
         "_deepnote_index_column": 1310691
        },
        {
         "SK_ID_PREV": 1000005,
         "SK_ID_CURR": 176456,
         "NUM_INSTALMENT_VERSION": 1,
         "NUM_INSTALMENT_NUMBER": 2,
         "DAYS_INSTALMENT": -1658,
         "DAYS_ENTRY_PAYMENT": -1664,
         "AMT_INSTALMENT": 14713.605,
         "AMT_PAYMENT": 14713.605,
         "_deepnote_index_column": 109820
        },
        {
         "SK_ID_PREV": 1000005,
         "SK_ID_CURR": 176456,
         "NUM_INSTALMENT_VERSION": 1,
         "NUM_INSTALMENT_NUMBER": 3,
         "DAYS_INSTALMENT": -1628,
         "DAYS_ENTRY_PAYMENT": -1636,
         "AMT_INSTALMENT": 14713.605,
         "AMT_PAYMENT": 14713.605,
         "_deepnote_index_column": 2255181
        },
        {
         "SK_ID_PREV": 1000005,
         "SK_ID_CURR": 176456,
         "NUM_INSTALMENT_VERSION": 1,
         "NUM_INSTALMENT_NUMBER": 4,
         "DAYS_INSTALMENT": -1598,
         "DAYS_ENTRY_PAYMENT": -1606,
         "AMT_INSTALMENT": 14713.605,
         "AMT_PAYMENT": 14713.605,
         "_deepnote_index_column": 2170925
        }
       ],
       "rows_bottom": null
      },
      "text/plain": "         SK_ID_PREV  SK_ID_CURR  NUM_INSTALMENT_VERSION  \\\n512588      1000001      158271                     1.0   \n2159480     1000001      158271                     2.0   \n1214732     1000002      101962                     1.0   \n1631862     1000002      101962                     1.0   \n3411021     1000002      101962                     1.0   \n1006868     1000002      101962                     2.0   \n6145031     1000003      252457                     1.0   \n7054246     1000003      252457                     1.0   \n4279518     1000003      252457                     1.0   \n7126740     1000004      260094                     1.0   \n5575422     1000004      260094                     1.0   \n5737330     1000004      260094                     1.0   \n5959838     1000004      260094                     1.0   \n5197652     1000004      260094                     1.0   \n4242475     1000004      260094                     1.0   \n4713874     1000004      260094                     2.0   \n1310691     1000005      176456                     1.0   \n109820      1000005      176456                     1.0   \n2255181     1000005      176456                     1.0   \n2170925     1000005      176456                     1.0   \n\n         NUM_INSTALMENT_NUMBER  DAYS_INSTALMENT  DAYS_ENTRY_PAYMENT  \\\n512588                       1           -268.0              -294.0   \n2159480                      2           -238.0              -244.0   \n1214732                      1          -1600.0             -1611.0   \n1631862                      2          -1570.0             -1575.0   \n3411021                      3          -1540.0             -1559.0   \n1006868                      4          -1510.0             -1554.0   \n6145031                      1            -94.0              -108.0   \n7054246                      2            -64.0               -81.0   \n4279518                      3            -34.0               -49.0   \n7126740                      1           -862.0              -881.0   \n5575422                      2           -832.0              -851.0   \n5737330                      3           -802.0              -830.0   \n5959838                      4           -772.0              -830.0   \n5197652                      5           -742.0              -752.0   \n4242475                      6           -712.0              -752.0   \n4713874                      7           -682.0              -695.0   \n1310691                      1          -1688.0             -1687.0   \n109820                       2          -1658.0             -1664.0   \n2255181                      3          -1628.0             -1636.0   \n2170925                      4          -1598.0             -1606.0   \n\n         AMT_INSTALMENT  AMT_PAYMENT  \n512588         6404.310     6404.310  \n2159480       62039.115    62039.115  \n1214732        6264.000     6264.000  \n1631862        6264.000     6264.000  \n3411021        6264.000     6264.000  \n1006868       18443.565    18443.565  \n6145031        4951.350     4951.350  \n7054246        4951.350     4951.350  \n4279518        4951.350     4951.350  \n7126740        3391.110     3391.110  \n5575422        3391.110     3391.110  \n5737330        3391.110     3391.110  \n5959838        3391.110     3391.110  \n5197652        3391.110     3391.110  \n4242475        3391.110     3391.110  \n4713874       13176.495    13176.495  \n1310691       14713.605    14713.605  \n109820        14713.605    14713.605  \n2255181       14713.605    14713.605  \n2170925       14713.605    14713.605  ",
      "text/html": "<div>\n<style scoped>\n    .dataframe tbody tr th:only-of-type {\n        vertical-align: middle;\n    }\n\n    .dataframe tbody tr th {\n        vertical-align: top;\n    }\n\n    .dataframe thead th {\n        text-align: right;\n    }\n</style>\n<table border=\"1\" class=\"dataframe\">\n  <thead>\n    <tr style=\"text-align: right;\">\n      <th></th>\n      <th>SK_ID_PREV</th>\n      <th>SK_ID_CURR</th>\n      <th>NUM_INSTALMENT_VERSION</th>\n      <th>NUM_INSTALMENT_NUMBER</th>\n      <th>DAYS_INSTALMENT</th>\n      <th>DAYS_ENTRY_PAYMENT</th>\n      <th>AMT_INSTALMENT</th>\n      <th>AMT_PAYMENT</th>\n    </tr>\n  </thead>\n  <tbody>\n    <tr>\n      <th>512588</th>\n      <td>1000001</td>\n      <td>158271</td>\n      <td>1.0</td>\n      <td>1</td>\n      <td>-268.0</td>\n      <td>-294.0</td>\n      <td>6404.310</td>\n      <td>6404.310</td>\n    </tr>\n    <tr>\n      <th>2159480</th>\n      <td>1000001</td>\n      <td>158271</td>\n      <td>2.0</td>\n      <td>2</td>\n      <td>-238.0</td>\n      <td>-244.0</td>\n      <td>62039.115</td>\n      <td>62039.115</td>\n    </tr>\n    <tr>\n      <th>1214732</th>\n      <td>1000002</td>\n      <td>101962</td>\n      <td>1.0</td>\n      <td>1</td>\n      <td>-1600.0</td>\n      <td>-1611.0</td>\n      <td>6264.000</td>\n      <td>6264.000</td>\n    </tr>\n    <tr>\n      <th>1631862</th>\n      <td>1000002</td>\n      <td>101962</td>\n      <td>1.0</td>\n      <td>2</td>\n      <td>-1570.0</td>\n      <td>-1575.0</td>\n      <td>6264.000</td>\n      <td>6264.000</td>\n    </tr>\n    <tr>\n      <th>3411021</th>\n      <td>1000002</td>\n      <td>101962</td>\n      <td>1.0</td>\n      <td>3</td>\n      <td>-1540.0</td>\n      <td>-1559.0</td>\n      <td>6264.000</td>\n      <td>6264.000</td>\n    </tr>\n    <tr>\n      <th>1006868</th>\n      <td>1000002</td>\n      <td>101962</td>\n      <td>2.0</td>\n      <td>4</td>\n      <td>-1510.0</td>\n      <td>-1554.0</td>\n      <td>18443.565</td>\n      <td>18443.565</td>\n    </tr>\n    <tr>\n      <th>6145031</th>\n      <td>1000003</td>\n      <td>252457</td>\n      <td>1.0</td>\n      <td>1</td>\n      <td>-94.0</td>\n      <td>-108.0</td>\n      <td>4951.350</td>\n      <td>4951.350</td>\n    </tr>\n    <tr>\n      <th>7054246</th>\n      <td>1000003</td>\n      <td>252457</td>\n      <td>1.0</td>\n      <td>2</td>\n      <td>-64.0</td>\n      <td>-81.0</td>\n      <td>4951.350</td>\n      <td>4951.350</td>\n    </tr>\n    <tr>\n      <th>4279518</th>\n      <td>1000003</td>\n      <td>252457</td>\n      <td>1.0</td>\n      <td>3</td>\n      <td>-34.0</td>\n      <td>-49.0</td>\n      <td>4951.350</td>\n      <td>4951.350</td>\n    </tr>\n    <tr>\n      <th>7126740</th>\n      <td>1000004</td>\n      <td>260094</td>\n      <td>1.0</td>\n      <td>1</td>\n      <td>-862.0</td>\n      <td>-881.0</td>\n      <td>3391.110</td>\n      <td>3391.110</td>\n    </tr>\n    <tr>\n      <th>5575422</th>\n      <td>1000004</td>\n      <td>260094</td>\n      <td>1.0</td>\n      <td>2</td>\n      <td>-832.0</td>\n      <td>-851.0</td>\n      <td>3391.110</td>\n      <td>3391.110</td>\n    </tr>\n    <tr>\n      <th>5737330</th>\n      <td>1000004</td>\n      <td>260094</td>\n      <td>1.0</td>\n      <td>3</td>\n      <td>-802.0</td>\n      <td>-830.0</td>\n      <td>3391.110</td>\n      <td>3391.110</td>\n    </tr>\n    <tr>\n      <th>5959838</th>\n      <td>1000004</td>\n      <td>260094</td>\n      <td>1.0</td>\n      <td>4</td>\n      <td>-772.0</td>\n      <td>-830.0</td>\n      <td>3391.110</td>\n      <td>3391.110</td>\n    </tr>\n    <tr>\n      <th>5197652</th>\n      <td>1000004</td>\n      <td>260094</td>\n      <td>1.0</td>\n      <td>5</td>\n      <td>-742.0</td>\n      <td>-752.0</td>\n      <td>3391.110</td>\n      <td>3391.110</td>\n    </tr>\n    <tr>\n      <th>4242475</th>\n      <td>1000004</td>\n      <td>260094</td>\n      <td>1.0</td>\n      <td>6</td>\n      <td>-712.0</td>\n      <td>-752.0</td>\n      <td>3391.110</td>\n      <td>3391.110</td>\n    </tr>\n    <tr>\n      <th>4713874</th>\n      <td>1000004</td>\n      <td>260094</td>\n      <td>2.0</td>\n      <td>7</td>\n      <td>-682.0</td>\n      <td>-695.0</td>\n      <td>13176.495</td>\n      <td>13176.495</td>\n    </tr>\n    <tr>\n      <th>1310691</th>\n      <td>1000005</td>\n      <td>176456</td>\n      <td>1.0</td>\n      <td>1</td>\n      <td>-1688.0</td>\n      <td>-1687.0</td>\n      <td>14713.605</td>\n      <td>14713.605</td>\n    </tr>\n    <tr>\n      <th>109820</th>\n      <td>1000005</td>\n      <td>176456</td>\n      <td>1.0</td>\n      <td>2</td>\n      <td>-1658.0</td>\n      <td>-1664.0</td>\n      <td>14713.605</td>\n      <td>14713.605</td>\n    </tr>\n    <tr>\n      <th>2255181</th>\n      <td>1000005</td>\n      <td>176456</td>\n      <td>1.0</td>\n      <td>3</td>\n      <td>-1628.0</td>\n      <td>-1636.0</td>\n      <td>14713.605</td>\n      <td>14713.605</td>\n    </tr>\n    <tr>\n      <th>2170925</th>\n      <td>1000005</td>\n      <td>176456</td>\n      <td>1.0</td>\n      <td>4</td>\n      <td>-1598.0</td>\n      <td>-1606.0</td>\n      <td>14713.605</td>\n      <td>14713.605</td>\n    </tr>\n  </tbody>\n</table>\n</div>"
     },
     "metadata": {}
    }
   ]
  },
  {
   "cell_type": "code",
   "metadata": {
    "tags": [],
    "cell_id": "00004-20474d56-2d36-4a65-9e5d-3ae27aeeb4f2",
    "deepnote_to_be_reexecuted": false,
    "source_hash": "900f7f28",
    "execution_start": 1630524159778,
    "execution_millis": 4556,
    "deepnote_cell_type": "code"
   },
   "source": "pmts_totals = pmts.groupby(\"SK_ID_PREV\").AMT_INSTALMENT.agg(total = \"sum\").reset_index()\npmt_diff = pd.merge(prev_apps, pmts_totals, on = \"SK_ID_PREV\")[[\"SK_ID_PREV\", \"AMT_CREDIT\", \"total\"]]",
   "execution_count": 5,
   "outputs": []
  },
  {
   "cell_type": "code",
   "metadata": {
    "tags": [],
    "cell_id": "00006-34329eb4-3a52-44b2-a579-ddba618a9756",
    "deepnote_to_be_reexecuted": false,
    "source_hash": "21227cc2",
    "execution_start": 1630524164340,
    "execution_millis": 23,
    "deepnote_cell_type": "code"
   },
   "source": "pmt_diff[\"balance_left\"] = pmt_diff.total - pmt_diff.AMT_CREDIT",
   "execution_count": 6,
   "outputs": []
  },
  {
   "cell_type": "code",
   "metadata": {
    "tags": [],
    "cell_id": "00007-31ed2592-7d96-4646-abcb-967f040919f8",
    "deepnote_to_be_reexecuted": false,
    "source_hash": "d4461496",
    "execution_start": 1630524164381,
    "execution_millis": 15,
    "deepnote_cell_type": "code"
   },
   "source": "pmt_diff.head()",
   "execution_count": 7,
   "outputs": [
    {
     "output_type": "execute_result",
     "execution_count": 7,
     "data": {
      "application/vnd.deepnote.dataframe.v2+json": {
       "row_count": 5,
       "column_count": 4,
       "columns": [
        {
         "name": "SK_ID_PREV",
         "dtype": "int64",
         "stats": {
          "unique_count": 5,
          "nan_count": 0,
          "min": "1383531",
          "max": "2819243",
          "histogram": [
           {
            "bin_start": 1383531,
            "bin_end": 1527102.2,
            "count": 1
           },
           {
            "bin_start": 1527102.2,
            "bin_end": 1670673.4,
            "count": 0
           },
           {
            "bin_start": 1670673.4,
            "bin_end": 1814244.6,
            "count": 0
           },
           {
            "bin_start": 1814244.6,
            "bin_end": 1957815.8,
            "count": 0
           },
           {
            "bin_start": 1957815.8,
            "bin_end": 2101387,
            "count": 1
           },
           {
            "bin_start": 2101387,
            "bin_end": 2244958.2,
            "count": 0
           },
           {
            "bin_start": 2244958.2,
            "bin_end": 2388529.4000000004,
            "count": 0
           },
           {
            "bin_start": 2388529.4000000004,
            "bin_end": 2532100.6,
            "count": 1
           },
           {
            "bin_start": 2532100.6,
            "bin_end": 2675671.8,
            "count": 0
           },
           {
            "bin_start": 2675671.8,
            "bin_end": 2819243,
            "count": 2
           }
          ]
         }
        },
        {
         "name": "AMT_CREDIT",
         "dtype": "float64",
         "stats": {
          "unique_count": 5,
          "nan_count": 0,
          "min": "17145.0",
          "max": "679671.0",
          "histogram": [
           {
            "bin_start": 17145,
            "bin_end": 83397.6,
            "count": 1
           },
           {
            "bin_start": 83397.6,
            "bin_end": 149650.2,
            "count": 1
           },
           {
            "bin_start": 149650.2,
            "bin_end": 215902.80000000002,
            "count": 0
           },
           {
            "bin_start": 215902.80000000002,
            "bin_end": 282155.4,
            "count": 0
           },
           {
            "bin_start": 282155.4,
            "bin_end": 348408,
            "count": 1
           },
           {
            "bin_start": 348408,
            "bin_end": 414660.60000000003,
            "count": 0
           },
           {
            "bin_start": 414660.60000000003,
            "bin_end": 480913.20000000007,
            "count": 1
           },
           {
            "bin_start": 480913.20000000007,
            "bin_end": 547165.8,
            "count": 0
           },
           {
            "bin_start": 547165.8,
            "bin_end": 613418.4,
            "count": 0
           },
           {
            "bin_start": 613418.4,
            "bin_end": 679671,
            "count": 1
           }
          ]
         }
        },
        {
         "name": "total",
         "dtype": "float64",
         "stats": {
          "unique_count": 5,
          "nan_count": 0,
          "min": "17284.275",
          "max": "563133.3750000001",
          "histogram": [
           {
            "bin_start": 17284.275,
            "bin_end": 71869.18500000001,
            "count": 1
           },
           {
            "bin_start": 71869.18500000001,
            "bin_end": 126454.09500000003,
            "count": 1
           },
           {
            "bin_start": 126454.09500000003,
            "bin_end": 181039.00500000003,
            "count": 1
           },
           {
            "bin_start": 181039.00500000003,
            "bin_end": 235623.91500000004,
            "count": 0
           },
           {
            "bin_start": 235623.91500000004,
            "bin_end": 290208.82500000007,
            "count": 0
           },
           {
            "bin_start": 290208.82500000007,
            "bin_end": 344793.7350000001,
            "count": 0
           },
           {
            "bin_start": 344793.7350000001,
            "bin_end": 399378.6450000001,
            "count": 0
           },
           {
            "bin_start": 399378.6450000001,
            "bin_end": 453963.5550000001,
            "count": 1
           },
           {
            "bin_start": 453963.5550000001,
            "bin_end": 508548.46500000014,
            "count": 0
           },
           {
            "bin_start": 508548.46500000014,
            "bin_end": 563133.3750000001,
            "count": 1
           }
          ]
         }
        },
        {
         "name": "balance_left",
         "dtype": "float64",
         "stats": {
          "unique_count": 5,
          "nan_count": 0,
          "min": "-553727.925",
          "max": "92343.37500000012",
          "histogram": [
           {
            "bin_start": -553727.925,
            "bin_end": -489120.79500000004,
            "count": 1
           },
           {
            "bin_start": -489120.79500000004,
            "bin_end": -424513.66500000004,
            "count": 0
           },
           {
            "bin_start": -424513.66500000004,
            "bin_end": -359906.535,
            "count": 0
           },
           {
            "bin_start": -359906.535,
            "bin_end": -295299.40499999997,
            "count": 0
           },
           {
            "bin_start": -295299.40499999997,
            "bin_end": -230692.27499999997,
            "count": 0
           },
           {
            "bin_start": -230692.27499999997,
            "bin_end": -166085.1449999999,
            "count": 0
           },
           {
            "bin_start": -166085.1449999999,
            "bin_end": -101478.0149999999,
            "count": 0
           },
           {
            "bin_start": -101478.0149999999,
            "bin_end": -36870.88499999989,
            "count": 0
           },
           {
            "bin_start": -36870.88499999989,
            "bin_end": 27736.24500000011,
            "count": 2
           },
           {
            "bin_start": 27736.24500000011,
            "bin_end": 92343.37500000012,
            "count": 2
           }
          ]
         }
        },
        {
         "name": "_deepnote_index_column",
         "dtype": "int64"
        }
       ],
       "rows_top": [
        {
         "SK_ID_PREV": 2030495,
         "AMT_CREDIT": 17145,
         "total": 17284.275,
         "balance_left": 139.27500000000146,
         "_deepnote_index_column": 0
        },
        {
         "SK_ID_PREV": 2802425,
         "AMT_CREDIT": 679671,
         "total": 125943.07500000001,
         "balance_left": -553727.925,
         "_deepnote_index_column": 1
        },
        {
         "SK_ID_PREV": 2523466,
         "AMT_CREDIT": 136444.5,
         "total": 135546.615,
         "balance_left": -897.8850000000093,
         "_deepnote_index_column": 2
        },
        {
         "SK_ID_PREV": 2819243,
         "AMT_CREDIT": 470790,
         "total": 563133.3750000001,
         "balance_left": 92343.37500000012,
         "_deepnote_index_column": 3
        },
        {
         "SK_ID_PREV": 1383531,
         "AMT_CREDIT": 340573.5,
         "total": 419332.90499999997,
         "balance_left": 78759.40499999997,
         "_deepnote_index_column": 4
        }
       ],
       "rows_bottom": null
      },
      "text/plain": "   SK_ID_PREV  AMT_CREDIT       total  balance_left\n0     2030495     17145.0   17284.275       139.275\n1     2802425    679671.0  125943.075   -553727.925\n2     2523466    136444.5  135546.615      -897.885\n3     2819243    470790.0  563133.375     92343.375\n4     1383531    340573.5  419332.905     78759.405",
      "text/html": "<div>\n<style scoped>\n    .dataframe tbody tr th:only-of-type {\n        vertical-align: middle;\n    }\n\n    .dataframe tbody tr th {\n        vertical-align: top;\n    }\n\n    .dataframe thead th {\n        text-align: right;\n    }\n</style>\n<table border=\"1\" class=\"dataframe\">\n  <thead>\n    <tr style=\"text-align: right;\">\n      <th></th>\n      <th>SK_ID_PREV</th>\n      <th>AMT_CREDIT</th>\n      <th>total</th>\n      <th>balance_left</th>\n    </tr>\n  </thead>\n  <tbody>\n    <tr>\n      <th>0</th>\n      <td>2030495</td>\n      <td>17145.0</td>\n      <td>17284.275</td>\n      <td>139.275</td>\n    </tr>\n    <tr>\n      <th>1</th>\n      <td>2802425</td>\n      <td>679671.0</td>\n      <td>125943.075</td>\n      <td>-553727.925</td>\n    </tr>\n    <tr>\n      <th>2</th>\n      <td>2523466</td>\n      <td>136444.5</td>\n      <td>135546.615</td>\n      <td>-897.885</td>\n    </tr>\n    <tr>\n      <th>3</th>\n      <td>2819243</td>\n      <td>470790.0</td>\n      <td>563133.375</td>\n      <td>92343.375</td>\n    </tr>\n    <tr>\n      <th>4</th>\n      <td>1383531</td>\n      <td>340573.5</td>\n      <td>419332.905</td>\n      <td>78759.405</td>\n    </tr>\n  </tbody>\n</table>\n</div>"
     },
     "metadata": {}
    }
   ]
  },
  {
   "cell_type": "code",
   "metadata": {
    "tags": [],
    "cell_id": "00008-7e11b914-d39d-461d-9a45-8a4f99fc0fef",
    "deepnote_to_be_reexecuted": false,
    "source_hash": "898218a",
    "execution_start": 1630524164388,
    "execution_millis": 924,
    "deepnote_cell_type": "code"
   },
   "source": "sns.histplot(pmt_diff.difference, bins = 100)",
   "execution_count": 8,
   "outputs": [
    {
     "output_type": "error",
     "ename": "AttributeError",
     "evalue": "'DataFrame' object has no attribute 'difference'",
     "traceback": [
      "\u001b[0;31m---------------------------------------------------------------------------\u001b[0m",
      "\u001b[0;31mAttributeError\u001b[0m                            Traceback (most recent call last)",
      "\u001b[0;32m/tmp/ipykernel_1095/3323173396.py\u001b[0m in \u001b[0;36m<module>\u001b[0;34m\u001b[0m\n\u001b[0;32m----> 1\u001b[0;31m \u001b[0msns\u001b[0m\u001b[0;34m.\u001b[0m\u001b[0mhistplot\u001b[0m\u001b[0;34m(\u001b[0m\u001b[0mpmt_diff\u001b[0m\u001b[0;34m.\u001b[0m\u001b[0mdifference\u001b[0m\u001b[0;34m,\u001b[0m \u001b[0mbins\u001b[0m \u001b[0;34m=\u001b[0m \u001b[0;36m100\u001b[0m\u001b[0;34m)\u001b[0m\u001b[0;34m\u001b[0m\u001b[0;34m\u001b[0m\u001b[0m\n\u001b[0m",
      "\u001b[0;32m/shared-libs/python3.7/py/lib/python3.7/site-packages/pandas/core/generic.py\u001b[0m in \u001b[0;36m__getattr__\u001b[0;34m(self, name)\u001b[0m\n\u001b[1;32m   5463\u001b[0m             \u001b[0;32mif\u001b[0m \u001b[0mself\u001b[0m\u001b[0;34m.\u001b[0m\u001b[0m_info_axis\u001b[0m\u001b[0;34m.\u001b[0m\u001b[0m_can_hold_identifiers_and_holds_name\u001b[0m\u001b[0;34m(\u001b[0m\u001b[0mname\u001b[0m\u001b[0;34m)\u001b[0m\u001b[0;34m:\u001b[0m\u001b[0;34m\u001b[0m\u001b[0;34m\u001b[0m\u001b[0m\n\u001b[1;32m   5464\u001b[0m                 \u001b[0;32mreturn\u001b[0m \u001b[0mself\u001b[0m\u001b[0;34m[\u001b[0m\u001b[0mname\u001b[0m\u001b[0;34m]\u001b[0m\u001b[0;34m\u001b[0m\u001b[0;34m\u001b[0m\u001b[0m\n\u001b[0;32m-> 5465\u001b[0;31m             \u001b[0;32mreturn\u001b[0m \u001b[0mobject\u001b[0m\u001b[0;34m.\u001b[0m\u001b[0m__getattribute__\u001b[0m\u001b[0;34m(\u001b[0m\u001b[0mself\u001b[0m\u001b[0;34m,\u001b[0m \u001b[0mname\u001b[0m\u001b[0;34m)\u001b[0m\u001b[0;34m\u001b[0m\u001b[0;34m\u001b[0m\u001b[0m\n\u001b[0m\u001b[1;32m   5466\u001b[0m \u001b[0;34m\u001b[0m\u001b[0m\n\u001b[1;32m   5467\u001b[0m     \u001b[0;32mdef\u001b[0m \u001b[0m__setattr__\u001b[0m\u001b[0;34m(\u001b[0m\u001b[0mself\u001b[0m\u001b[0;34m,\u001b[0m \u001b[0mname\u001b[0m\u001b[0;34m:\u001b[0m \u001b[0mstr\u001b[0m\u001b[0;34m,\u001b[0m \u001b[0mvalue\u001b[0m\u001b[0;34m)\u001b[0m \u001b[0;34m->\u001b[0m \u001b[0;32mNone\u001b[0m\u001b[0;34m:\u001b[0m\u001b[0;34m\u001b[0m\u001b[0;34m\u001b[0m\u001b[0m\n",
      "\u001b[0;31mAttributeError\u001b[0m: 'DataFrame' object has no attribute 'difference'"
     ]
    }
   ]
  },
  {
   "cell_type": "code",
   "metadata": {
    "tags": [],
    "cell_id": "00004-b6c56367-d8db-4ce0-b5fd-4ccdd13c70e5",
    "deepnote_to_be_reexecuted": true,
    "source_hash": "58c54cf5",
    "execution_start": 1630349183903,
    "execution_millis": 364,
    "deepnote_cell_type": "code"
   },
   "source": "pmts.SK_ID_PREV.isin(prev_apps.SK_ID_PREV).sum() / len(pmts)",
   "execution_count": null,
   "outputs": [
    {
     "output_type": "execute_result",
     "execution_count": 7,
     "data": {
      "text/plain": "0.9080640107557285"
     },
     "metadata": {}
    }
   ]
  },
  {
   "cell_type": "code",
   "metadata": {
    "tags": [],
    "cell_id": "00005-a2497c33-a7d4-45cb-977a-df1166a71a0a",
    "deepnote_to_be_reexecuted": true,
    "source_hash": "1251fb35",
    "execution_start": 1630349184261,
    "execution_millis": 177,
    "deepnote_cell_type": "code"
   },
   "source": "pmts.SK_ID_CURR.isin(prev_apps.SK_ID_CURR).sum() / len(pmts)",
   "execution_count": null,
   "outputs": [
    {
     "output_type": "execute_result",
     "execution_count": 8,
     "data": {
      "text/plain": "0.9937777651684063"
     },
     "metadata": {}
    }
   ]
  },
  {
   "cell_type": "code",
   "metadata": {
    "tags": [],
    "cell_id": "00003-5a92993a-4d59-4734-b2a3-dcc582dd15f9",
    "deepnote_to_be_reexecuted": true,
    "source_hash": "b636754c",
    "execution_start": 1630349184416,
    "execution_millis": 503,
    "deepnote_cell_type": "code"
   },
   "source": "pmts[ ~pmts.SK_ID_PREV.isin(prev_apps.SK_ID_PREV) ].SK_ID_CURR.value_counts()",
   "execution_count": null,
   "outputs": [
    {
     "output_type": "execute_result",
     "execution_count": 9,
     "data": {
      "text/plain": "217360    279\n212238    248\n343828    224\n335207    223\n263929    222\n         ... \n426850      1\n213640      1\n305578      1\n218072      1\n184663      1\nName: SK_ID_CURR, Length: 35227, dtype: int64"
     },
     "metadata": {}
    }
   ]
  },
  {
   "cell_type": "code",
   "metadata": {
    "tags": [],
    "cell_id": "00004-bcd7c4a8-62d8-47c2-b68b-43ec8739fdad",
    "deepnote_to_be_reexecuted": true,
    "source_hash": "1a2d6bc6",
    "execution_start": 1630349184959,
    "execution_millis": 1,
    "deepnote_cell_type": "code"
   },
   "source": "# sns.scatterplot(install_pmts.AMT_INSTALMENT, install_pmts.AMT_PAYMENT)\n# sns.lineplot([0, max(install_pmts.AMT_INSTALMENT)], [0, max(install_pmts.AMT_PAYMENT)])\n",
   "execution_count": null,
   "outputs": []
  },
  {
   "cell_type": "code",
   "metadata": {
    "tags": [],
    "cell_id": "00004-f46de0f9-aed5-4fa4-8ed7-0e18ee299576",
    "deepnote_to_be_reexecuted": true,
    "source_hash": "ddb03587",
    "execution_start": 1630349184960,
    "execution_millis": 94,
    "deepnote_cell_type": "code"
   },
   "source": "print(len(pmts[pmts.AMT_PAYMENT >= pmts.AMT_INSTALMENT]) / len(pmts) )\nprint(len(pmts[pmts.AMT_PAYMENT < pmts.AMT_INSTALMENT]) / len(pmts) )",
   "execution_count": null,
   "outputs": [
    {
     "output_type": "error",
     "ename": "NameError",
     "evalue": "name 'install_pmts' is not defined",
     "traceback": [
      "\u001b[0;31m---------------------------------------------------------------------------\u001b[0m",
      "\u001b[0;31mNameError\u001b[0m                                 Traceback (most recent call last)",
      "\u001b[0;32m/tmp/ipykernel_168/2221258930.py\u001b[0m in \u001b[0;36m<module>\u001b[0;34m\u001b[0m\n\u001b[0;32m----> 1\u001b[0;31m \u001b[0mprint\u001b[0m\u001b[0;34m(\u001b[0m\u001b[0mlen\u001b[0m\u001b[0;34m(\u001b[0m\u001b[0minstall_pmts\u001b[0m\u001b[0;34m[\u001b[0m\u001b[0minstall_pmts\u001b[0m\u001b[0;34m.\u001b[0m\u001b[0mAMT_PAYMENT\u001b[0m \u001b[0;34m>=\u001b[0m \u001b[0minstall_pmts\u001b[0m\u001b[0;34m.\u001b[0m\u001b[0mAMT_INSTALMENT\u001b[0m\u001b[0;34m]\u001b[0m\u001b[0;34m)\u001b[0m \u001b[0;34m/\u001b[0m \u001b[0mlen\u001b[0m\u001b[0;34m(\u001b[0m\u001b[0minstall_pmts\u001b[0m\u001b[0;34m)\u001b[0m \u001b[0;34m)\u001b[0m\u001b[0;34m\u001b[0m\u001b[0;34m\u001b[0m\u001b[0m\n\u001b[0m\u001b[1;32m      2\u001b[0m \u001b[0mprint\u001b[0m\u001b[0;34m(\u001b[0m\u001b[0mlen\u001b[0m\u001b[0;34m(\u001b[0m\u001b[0minstall_pmts\u001b[0m\u001b[0;34m[\u001b[0m\u001b[0minstall_pmts\u001b[0m\u001b[0;34m.\u001b[0m\u001b[0mAMT_PAYMENT\u001b[0m \u001b[0;34m<\u001b[0m \u001b[0minstall_pmts\u001b[0m\u001b[0;34m.\u001b[0m\u001b[0mAMT_INSTALMENT\u001b[0m\u001b[0;34m]\u001b[0m\u001b[0;34m)\u001b[0m \u001b[0;34m/\u001b[0m \u001b[0mlen\u001b[0m\u001b[0;34m(\u001b[0m\u001b[0minstall_pmts\u001b[0m\u001b[0;34m)\u001b[0m \u001b[0;34m)\u001b[0m\u001b[0;34m\u001b[0m\u001b[0;34m\u001b[0m\u001b[0m\n",
      "\u001b[0;31mNameError\u001b[0m: name 'install_pmts' is not defined"
     ]
    }
   ]
  },
  {
   "cell_type": "code",
   "metadata": {
    "tags": [],
    "cell_id": "00004-b2ad3a39-1a98-43fb-acf8-7cb1a40ea0d4",
    "deepnote_to_be_reexecuted": true,
    "source_hash": "6df3993c",
    "deepnote_cell_type": "code"
   },
   "source": "sns.histplot(pmts.AMT_PAYMENT)",
   "execution_count": null,
   "outputs": []
  },
  {
   "cell_type": "code",
   "metadata": {
    "tags": [],
    "cell_id": "00004-2a7e0b5d-8b09-40cc-9d1e-bba01a76d0c6",
    "deepnote_to_be_reexecuted": true,
    "source_hash": "8101983",
    "deepnote_cell_type": "code"
   },
   "source": "# sns.histplot(install_pmts.AMT_PAYMENT - install_pmts.AMT_INSTALMENT, bins = 100)",
   "execution_count": null,
   "outputs": []
  },
  {
   "cell_type": "code",
   "metadata": {
    "tags": [],
    "cell_id": "00004-9b494943-0ed2-41cf-a881-a31e3d1d9e55",
    "deepnote_to_be_reexecuted": true,
    "source_hash": "34656343",
    "deepnote_cell_type": "code"
   },
   "source": "# sns.scatterplot(install_pmts.AMT_INSTALMENT, install_pmts.AMT_PAYMENT - install_pmts.AMT_INSTALMENT)",
   "execution_count": null,
   "outputs": []
  },
  {
   "cell_type": "code",
   "metadata": {
    "tags": [],
    "cell_id": "00004-9a232ec2-a0a4-4a59-b6db-9313f1bd6573",
    "deepnote_to_be_reexecuted": true,
    "source_hash": "ce4eeaf4",
    "deepnote_cell_type": "code"
   },
   "source": "install_pmts[install_pmts.AMT_PAYMENT == 0].SK_ID_CURR.value_counts()",
   "execution_count": null,
   "outputs": []
  },
  {
   "cell_type": "code",
   "metadata": {
    "tags": [],
    "cell_id": "00004-64550d50-919a-4318-9512-fcc57d0ae8bc",
    "deepnote_to_be_reexecuted": true,
    "source_hash": "8f16178c",
    "deepnote_cell_type": "code"
   },
   "source": "missed_pmts = pd.DataFrame(install_pmts[install_pmts.AMT_PAYMENT == 0].SK_ID_CURR.value_counts()).reset_index()\nmissed_pmts.columns = [\"SK_ID_CURR\", \"Pmts_Missed\"]\nmissed_pmts",
   "execution_count": null,
   "outputs": []
  },
  {
   "cell_type": "code",
   "metadata": {
    "tags": [],
    "cell_id": "00004-0fcdb0a4-2502-42a7-b524-3ed3dd1a3054",
    "deepnote_to_be_reexecuted": true,
    "source_hash": "87c372d9",
    "deepnote_cell_type": "code"
   },
   "source": "missed_pmts[missed_pmts.Pmts_Missed > 1]",
   "execution_count": null,
   "outputs": []
  },
  {
   "cell_type": "code",
   "metadata": {
    "tags": [],
    "cell_id": "00004-a2c40fe8-a81e-47b7-b72c-5e1d1bc35b6e",
    "deepnote_to_be_reexecuted": true,
    "source_hash": "d104e8a0",
    "deepnote_cell_type": "code"
   },
   "source": "under_paid = pd.DataFrame(install_pmts[install_pmts.AMT_PAYMENT < install_pmts.AMT_INSTALMENT].SK_ID_CURR.value_counts()).reset_index()\nunder_paid",
   "execution_count": null,
   "outputs": []
  },
  {
   "cell_type": "code",
   "metadata": {
    "tags": [],
    "cell_id": "00004-09e62c59-cab9-4197-b1cd-b0c1307a65fc",
    "deepnote_to_be_reexecuted": true,
    "source_hash": "b623e53d",
    "deepnote_cell_type": "code"
   },
   "source": "",
   "execution_count": null,
   "outputs": []
  },
  {
   "cell_type": "code",
   "metadata": {
    "tags": [],
    "cell_id": "00004-b2d5663a-7c83-4c66-a12d-aca6a36c4921",
    "deepnote_to_be_reexecuted": true,
    "source_hash": "a92dea99",
    "execution_start": 1630438555851,
    "execution_millis": 103,
    "deepnote_cell_type": "code"
   },
   "source": "pmts[pmts.SK_ID_PREV == 2802425]",
   "execution_count": null,
   "outputs": [
    {
     "output_type": "execute_result",
     "execution_count": 5,
     "data": {
      "application/vnd.deepnote.dataframe.v2+json": {
       "row_count": 5,
       "column_count": 8,
       "columns": [
        {
         "name": "SK_ID_PREV",
         "dtype": "int64",
         "stats": {
          "unique_count": 1,
          "nan_count": 0,
          "min": "2802425",
          "max": "2802425",
          "histogram": [
           {
            "bin_start": 2802424.5,
            "bin_end": 2802424.6,
            "count": 0
           },
           {
            "bin_start": 2802424.6,
            "bin_end": 2802424.7,
            "count": 0
           },
           {
            "bin_start": 2802424.7,
            "bin_end": 2802424.8,
            "count": 0
           },
           {
            "bin_start": 2802424.8,
            "bin_end": 2802424.9,
            "count": 0
           },
           {
            "bin_start": 2802424.9,
            "bin_end": 2802425,
            "count": 0
           },
           {
            "bin_start": 2802425,
            "bin_end": 2802425.1,
            "count": 5
           },
           {
            "bin_start": 2802425.1,
            "bin_end": 2802425.2,
            "count": 0
           },
           {
            "bin_start": 2802425.2,
            "bin_end": 2802425.3,
            "count": 0
           },
           {
            "bin_start": 2802425.3,
            "bin_end": 2802425.4,
            "count": 0
           },
           {
            "bin_start": 2802425.4,
            "bin_end": 2802425.5,
            "count": 0
           }
          ]
         }
        },
        {
         "name": "SK_ID_CURR",
         "dtype": "int64",
         "stats": {
          "unique_count": 1,
          "nan_count": 0,
          "min": "108129",
          "max": "108129",
          "histogram": [
           {
            "bin_start": 108128.5,
            "bin_end": 108128.6,
            "count": 0
           },
           {
            "bin_start": 108128.6,
            "bin_end": 108128.7,
            "count": 0
           },
           {
            "bin_start": 108128.7,
            "bin_end": 108128.8,
            "count": 0
           },
           {
            "bin_start": 108128.8,
            "bin_end": 108128.9,
            "count": 0
           },
           {
            "bin_start": 108128.9,
            "bin_end": 108129,
            "count": 0
           },
           {
            "bin_start": 108129,
            "bin_end": 108129.1,
            "count": 5
           },
           {
            "bin_start": 108129.1,
            "bin_end": 108129.2,
            "count": 0
           },
           {
            "bin_start": 108129.2,
            "bin_end": 108129.3,
            "count": 0
           },
           {
            "bin_start": 108129.3,
            "bin_end": 108129.4,
            "count": 0
           },
           {
            "bin_start": 108129.4,
            "bin_end": 108129.5,
            "count": 0
           }
          ]
         }
        },
        {
         "name": "NUM_INSTALMENT_VERSION",
         "dtype": "float64",
         "stats": {
          "unique_count": 1,
          "nan_count": 0,
          "min": "1.0",
          "max": "1.0",
          "histogram": [
           {
            "bin_start": 0.5,
            "bin_end": 0.6,
            "count": 0
           },
           {
            "bin_start": 0.6,
            "bin_end": 0.7,
            "count": 0
           },
           {
            "bin_start": 0.7,
            "bin_end": 0.8,
            "count": 0
           },
           {
            "bin_start": 0.8,
            "bin_end": 0.9,
            "count": 0
           },
           {
            "bin_start": 0.9,
            "bin_end": 1,
            "count": 0
           },
           {
            "bin_start": 1,
            "bin_end": 1.1,
            "count": 5
           },
           {
            "bin_start": 1.1,
            "bin_end": 1.2000000000000002,
            "count": 0
           },
           {
            "bin_start": 1.2000000000000002,
            "bin_end": 1.3,
            "count": 0
           },
           {
            "bin_start": 1.3,
            "bin_end": 1.4,
            "count": 0
           },
           {
            "bin_start": 1.4,
            "bin_end": 1.5,
            "count": 0
           }
          ]
         }
        },
        {
         "name": "NUM_INSTALMENT_NUMBER",
         "dtype": "int64",
         "stats": {
          "unique_count": 5,
          "nan_count": 0,
          "min": "1",
          "max": "5",
          "histogram": [
           {
            "bin_start": 1,
            "bin_end": 1.4,
            "count": 1
           },
           {
            "bin_start": 1.4,
            "bin_end": 1.8,
            "count": 0
           },
           {
            "bin_start": 1.8,
            "bin_end": 2.2,
            "count": 1
           },
           {
            "bin_start": 2.2,
            "bin_end": 2.6,
            "count": 0
           },
           {
            "bin_start": 2.6,
            "bin_end": 3,
            "count": 0
           },
           {
            "bin_start": 3,
            "bin_end": 3.4000000000000004,
            "count": 1
           },
           {
            "bin_start": 3.4000000000000004,
            "bin_end": 3.8000000000000003,
            "count": 0
           },
           {
            "bin_start": 3.8000000000000003,
            "bin_end": 4.2,
            "count": 1
           },
           {
            "bin_start": 4.2,
            "bin_end": 4.6,
            "count": 0
           },
           {
            "bin_start": 4.6,
            "bin_end": 5,
            "count": 1
           }
          ]
         }
        },
        {
         "name": "DAYS_INSTALMENT",
         "dtype": "float64",
         "stats": {
          "unique_count": 5,
          "nan_count": 0,
          "min": "-134.0",
          "max": "-14.0",
          "histogram": [
           {
            "bin_start": -134,
            "bin_end": -122,
            "count": 1
           },
           {
            "bin_start": -122,
            "bin_end": -110,
            "count": 0
           },
           {
            "bin_start": -110,
            "bin_end": -98,
            "count": 1
           },
           {
            "bin_start": -98,
            "bin_end": -86,
            "count": 0
           },
           {
            "bin_start": -86,
            "bin_end": -74,
            "count": 0
           },
           {
            "bin_start": -74,
            "bin_end": -62,
            "count": 1
           },
           {
            "bin_start": -62,
            "bin_end": -50,
            "count": 0
           },
           {
            "bin_start": -50,
            "bin_end": -38,
            "count": 1
           },
           {
            "bin_start": -38,
            "bin_end": -26,
            "count": 0
           },
           {
            "bin_start": -26,
            "bin_end": -14,
            "count": 1
           }
          ]
         }
        },
        {
         "name": "DAYS_ENTRY_PAYMENT",
         "dtype": "float64",
         "stats": {
          "unique_count": 5,
          "nan_count": 0,
          "min": "-144.0",
          "max": "-24.0",
          "histogram": [
           {
            "bin_start": -144,
            "bin_end": -132,
            "count": 1
           },
           {
            "bin_start": -132,
            "bin_end": -120,
            "count": 0
           },
           {
            "bin_start": -120,
            "bin_end": -108,
            "count": 1
           },
           {
            "bin_start": -108,
            "bin_end": -96,
            "count": 0
           },
           {
            "bin_start": -96,
            "bin_end": -84,
            "count": 0
           },
           {
            "bin_start": -84,
            "bin_end": -72,
            "count": 1
           },
           {
            "bin_start": -72,
            "bin_end": -60,
            "count": 0
           },
           {
            "bin_start": -60,
            "bin_end": -48,
            "count": 1
           },
           {
            "bin_start": -48,
            "bin_end": -36,
            "count": 0
           },
           {
            "bin_start": -36,
            "bin_end": -24,
            "count": 1
           }
          ]
         }
        },
        {
         "name": "AMT_INSTALMENT",
         "dtype": "float64",
         "stats": {
          "unique_count": 1,
          "nan_count": 0,
          "min": "25188.615",
          "max": "25188.615",
          "histogram": [
           {
            "bin_start": 25188.115,
            "bin_end": 25188.215,
            "count": 0
           },
           {
            "bin_start": 25188.215,
            "bin_end": 25188.315000000002,
            "count": 0
           },
           {
            "bin_start": 25188.315000000002,
            "bin_end": 25188.415,
            "count": 0
           },
           {
            "bin_start": 25188.415,
            "bin_end": 25188.515000000003,
            "count": 0
           },
           {
            "bin_start": 25188.515000000003,
            "bin_end": 25188.615,
            "count": 0
           },
           {
            "bin_start": 25188.615,
            "bin_end": 25188.715,
            "count": 5
           },
           {
            "bin_start": 25188.715,
            "bin_end": 25188.815000000002,
            "count": 0
           },
           {
            "bin_start": 25188.815000000002,
            "bin_end": 25188.915,
            "count": 0
           },
           {
            "bin_start": 25188.915,
            "bin_end": 25189.015000000003,
            "count": 0
           },
           {
            "bin_start": 25189.015000000003,
            "bin_end": 25189.115,
            "count": 0
           }
          ]
         }
        },
        {
         "name": "AMT_PAYMENT",
         "dtype": "float64",
         "stats": {
          "unique_count": 1,
          "nan_count": 0,
          "min": "25188.615",
          "max": "25188.615",
          "histogram": [
           {
            "bin_start": 25188.115,
            "bin_end": 25188.215,
            "count": 0
           },
           {
            "bin_start": 25188.215,
            "bin_end": 25188.315000000002,
            "count": 0
           },
           {
            "bin_start": 25188.315000000002,
            "bin_end": 25188.415,
            "count": 0
           },
           {
            "bin_start": 25188.415,
            "bin_end": 25188.515000000003,
            "count": 0
           },
           {
            "bin_start": 25188.515000000003,
            "bin_end": 25188.615,
            "count": 0
           },
           {
            "bin_start": 25188.615,
            "bin_end": 25188.715,
            "count": 5
           },
           {
            "bin_start": 25188.715,
            "bin_end": 25188.815000000002,
            "count": 0
           },
           {
            "bin_start": 25188.815000000002,
            "bin_end": 25188.915,
            "count": 0
           },
           {
            "bin_start": 25188.915,
            "bin_end": 25189.015000000003,
            "count": 0
           },
           {
            "bin_start": 25189.015000000003,
            "bin_end": 25189.115,
            "count": 0
           }
          ]
         }
        },
        {
         "name": "_deepnote_index_column",
         "dtype": "int64"
        }
       ],
       "rows_top": [
        {
         "SK_ID_PREV": 2802425,
         "SK_ID_CURR": 108129,
         "NUM_INSTALMENT_VERSION": 1,
         "NUM_INSTALMENT_NUMBER": 2,
         "DAYS_INSTALMENT": -104,
         "DAYS_ENTRY_PAYMENT": -111,
         "AMT_INSTALMENT": 25188.615,
         "AMT_PAYMENT": 25188.615,
         "_deepnote_index_column": 1147425
        },
        {
         "SK_ID_PREV": 2802425,
         "SK_ID_CURR": 108129,
         "NUM_INSTALMENT_VERSION": 1,
         "NUM_INSTALMENT_NUMBER": 5,
         "DAYS_INSTALMENT": -14,
         "DAYS_ENTRY_PAYMENT": -24,
         "AMT_INSTALMENT": 25188.615,
         "AMT_PAYMENT": 25188.615,
         "_deepnote_index_column": 1992210
        },
        {
         "SK_ID_PREV": 2802425,
         "SK_ID_CURR": 108129,
         "NUM_INSTALMENT_VERSION": 1,
         "NUM_INSTALMENT_NUMBER": 1,
         "DAYS_INSTALMENT": -134,
         "DAYS_ENTRY_PAYMENT": -144,
         "AMT_INSTALMENT": 25188.615,
         "AMT_PAYMENT": 25188.615,
         "_deepnote_index_column": 2103478
        },
        {
         "SK_ID_PREV": 2802425,
         "SK_ID_CURR": 108129,
         "NUM_INSTALMENT_VERSION": 1,
         "NUM_INSTALMENT_NUMBER": 4,
         "DAYS_INSTALMENT": -44,
         "DAYS_ENTRY_PAYMENT": -55,
         "AMT_INSTALMENT": 25188.615,
         "AMT_PAYMENT": 25188.615,
         "_deepnote_index_column": 3310027
        },
        {
         "SK_ID_PREV": 2802425,
         "SK_ID_CURR": 108129,
         "NUM_INSTALMENT_VERSION": 1,
         "NUM_INSTALMENT_NUMBER": 3,
         "DAYS_INSTALMENT": -74,
         "DAYS_ENTRY_PAYMENT": -82,
         "AMT_INSTALMENT": 25188.615,
         "AMT_PAYMENT": 25188.615,
         "_deepnote_index_column": 3735308
        }
       ],
       "rows_bottom": null
      },
      "text/plain": "         SK_ID_PREV  SK_ID_CURR  NUM_INSTALMENT_VERSION  \\\n1147425     2802425      108129                     1.0   \n1992210     2802425      108129                     1.0   \n2103478     2802425      108129                     1.0   \n3310027     2802425      108129                     1.0   \n3735308     2802425      108129                     1.0   \n\n         NUM_INSTALMENT_NUMBER  DAYS_INSTALMENT  DAYS_ENTRY_PAYMENT  \\\n1147425                      2           -104.0              -111.0   \n1992210                      5            -14.0               -24.0   \n2103478                      1           -134.0              -144.0   \n3310027                      4            -44.0               -55.0   \n3735308                      3            -74.0               -82.0   \n\n         AMT_INSTALMENT  AMT_PAYMENT  \n1147425       25188.615    25188.615  \n1992210       25188.615    25188.615  \n2103478       25188.615    25188.615  \n3310027       25188.615    25188.615  \n3735308       25188.615    25188.615  ",
      "text/html": "<div>\n<style scoped>\n    .dataframe tbody tr th:only-of-type {\n        vertical-align: middle;\n    }\n\n    .dataframe tbody tr th {\n        vertical-align: top;\n    }\n\n    .dataframe thead th {\n        text-align: right;\n    }\n</style>\n<table border=\"1\" class=\"dataframe\">\n  <thead>\n    <tr style=\"text-align: right;\">\n      <th></th>\n      <th>SK_ID_PREV</th>\n      <th>SK_ID_CURR</th>\n      <th>NUM_INSTALMENT_VERSION</th>\n      <th>NUM_INSTALMENT_NUMBER</th>\n      <th>DAYS_INSTALMENT</th>\n      <th>DAYS_ENTRY_PAYMENT</th>\n      <th>AMT_INSTALMENT</th>\n      <th>AMT_PAYMENT</th>\n    </tr>\n  </thead>\n  <tbody>\n    <tr>\n      <th>1147425</th>\n      <td>2802425</td>\n      <td>108129</td>\n      <td>1.0</td>\n      <td>2</td>\n      <td>-104.0</td>\n      <td>-111.0</td>\n      <td>25188.615</td>\n      <td>25188.615</td>\n    </tr>\n    <tr>\n      <th>1992210</th>\n      <td>2802425</td>\n      <td>108129</td>\n      <td>1.0</td>\n      <td>5</td>\n      <td>-14.0</td>\n      <td>-24.0</td>\n      <td>25188.615</td>\n      <td>25188.615</td>\n    </tr>\n    <tr>\n      <th>2103478</th>\n      <td>2802425</td>\n      <td>108129</td>\n      <td>1.0</td>\n      <td>1</td>\n      <td>-134.0</td>\n      <td>-144.0</td>\n      <td>25188.615</td>\n      <td>25188.615</td>\n    </tr>\n    <tr>\n      <th>3310027</th>\n      <td>2802425</td>\n      <td>108129</td>\n      <td>1.0</td>\n      <td>4</td>\n      <td>-44.0</td>\n      <td>-55.0</td>\n      <td>25188.615</td>\n      <td>25188.615</td>\n    </tr>\n    <tr>\n      <th>3735308</th>\n      <td>2802425</td>\n      <td>108129</td>\n      <td>1.0</td>\n      <td>3</td>\n      <td>-74.0</td>\n      <td>-82.0</td>\n      <td>25188.615</td>\n      <td>25188.615</td>\n    </tr>\n  </tbody>\n</table>\n</div>"
     },
     "metadata": {}
    }
   ]
  },
  {
   "cell_type": "code",
   "metadata": {
    "tags": [],
    "cell_id": "00004-a4e63067-a5b6-4b95-b0a6-998b96e23dc1",
    "deepnote_to_be_reexecuted": true,
    "source_hash": "4646d76e",
    "execution_start": 1630438555951,
    "execution_millis": 87,
    "deepnote_cell_type": "code"
   },
   "source": "prev_apps[prev_apps.SK_ID_PREV == 2802425]",
   "execution_count": null,
   "outputs": [
    {
     "output_type": "execute_result",
     "execution_count": 6,
     "data": {
      "application/vnd.deepnote.dataframe.v2+json": {
       "row_count": 1,
       "column_count": 37,
       "columns": [
        {
         "name": "SK_ID_PREV",
         "dtype": "int64",
         "stats": {
          "unique_count": 1,
          "nan_count": 0,
          "min": "2802425",
          "max": "2802425",
          "histogram": [
           {
            "bin_start": 2802424.5,
            "bin_end": 2802424.6,
            "count": 0
           },
           {
            "bin_start": 2802424.6,
            "bin_end": 2802424.7,
            "count": 0
           },
           {
            "bin_start": 2802424.7,
            "bin_end": 2802424.8,
            "count": 0
           },
           {
            "bin_start": 2802424.8,
            "bin_end": 2802424.9,
            "count": 0
           },
           {
            "bin_start": 2802424.9,
            "bin_end": 2802425,
            "count": 0
           },
           {
            "bin_start": 2802425,
            "bin_end": 2802425.1,
            "count": 1
           },
           {
            "bin_start": 2802425.1,
            "bin_end": 2802425.2,
            "count": 0
           },
           {
            "bin_start": 2802425.2,
            "bin_end": 2802425.3,
            "count": 0
           },
           {
            "bin_start": 2802425.3,
            "bin_end": 2802425.4,
            "count": 0
           },
           {
            "bin_start": 2802425.4,
            "bin_end": 2802425.5,
            "count": 0
           }
          ]
         }
        },
        {
         "name": "SK_ID_CURR",
         "dtype": "int64",
         "stats": {
          "unique_count": 1,
          "nan_count": 0,
          "min": "108129",
          "max": "108129",
          "histogram": [
           {
            "bin_start": 108128.5,
            "bin_end": 108128.6,
            "count": 0
           },
           {
            "bin_start": 108128.6,
            "bin_end": 108128.7,
            "count": 0
           },
           {
            "bin_start": 108128.7,
            "bin_end": 108128.8,
            "count": 0
           },
           {
            "bin_start": 108128.8,
            "bin_end": 108128.9,
            "count": 0
           },
           {
            "bin_start": 108128.9,
            "bin_end": 108129,
            "count": 0
           },
           {
            "bin_start": 108129,
            "bin_end": 108129.1,
            "count": 1
           },
           {
            "bin_start": 108129.1,
            "bin_end": 108129.2,
            "count": 0
           },
           {
            "bin_start": 108129.2,
            "bin_end": 108129.3,
            "count": 0
           },
           {
            "bin_start": 108129.3,
            "bin_end": 108129.4,
            "count": 0
           },
           {
            "bin_start": 108129.4,
            "bin_end": 108129.5,
            "count": 0
           }
          ]
         }
        },
        {
         "name": "NAME_CONTRACT_TYPE",
         "dtype": "object",
         "stats": {
          "unique_count": 1,
          "nan_count": 0,
          "categories": [
           {
            "name": "Cash loans",
            "count": 1
           }
          ]
         }
        },
        {
         "name": "AMT_ANNUITY",
         "dtype": "float64",
         "stats": {
          "unique_count": 1,
          "nan_count": 0,
          "min": "25188.615",
          "max": "25188.615",
          "histogram": [
           {
            "bin_start": 25188.115,
            "bin_end": 25188.215,
            "count": 0
           },
           {
            "bin_start": 25188.215,
            "bin_end": 25188.315000000002,
            "count": 0
           },
           {
            "bin_start": 25188.315000000002,
            "bin_end": 25188.415,
            "count": 0
           },
           {
            "bin_start": 25188.415,
            "bin_end": 25188.515000000003,
            "count": 0
           },
           {
            "bin_start": 25188.515000000003,
            "bin_end": 25188.615,
            "count": 0
           },
           {
            "bin_start": 25188.615,
            "bin_end": 25188.715,
            "count": 1
           },
           {
            "bin_start": 25188.715,
            "bin_end": 25188.815000000002,
            "count": 0
           },
           {
            "bin_start": 25188.815000000002,
            "bin_end": 25188.915,
            "count": 0
           },
           {
            "bin_start": 25188.915,
            "bin_end": 25189.015000000003,
            "count": 0
           },
           {
            "bin_start": 25189.015000000003,
            "bin_end": 25189.115,
            "count": 0
           }
          ]
         }
        },
        {
         "name": "AMT_APPLICATION",
         "dtype": "float64",
         "stats": {
          "unique_count": 1,
          "nan_count": 0,
          "min": "607500.0",
          "max": "607500.0",
          "histogram": [
           {
            "bin_start": 607499.5,
            "bin_end": 607499.6,
            "count": 0
           },
           {
            "bin_start": 607499.6,
            "bin_end": 607499.7,
            "count": 0
           },
           {
            "bin_start": 607499.7,
            "bin_end": 607499.8,
            "count": 0
           },
           {
            "bin_start": 607499.8,
            "bin_end": 607499.9,
            "count": 0
           },
           {
            "bin_start": 607499.9,
            "bin_end": 607500,
            "count": 0
           },
           {
            "bin_start": 607500,
            "bin_end": 607500.1,
            "count": 1
           },
           {
            "bin_start": 607500.1,
            "bin_end": 607500.2,
            "count": 0
           },
           {
            "bin_start": 607500.2,
            "bin_end": 607500.3,
            "count": 0
           },
           {
            "bin_start": 607500.3,
            "bin_end": 607500.4,
            "count": 0
           },
           {
            "bin_start": 607500.4,
            "bin_end": 607500.5,
            "count": 0
           }
          ]
         }
        },
        {
         "name": "AMT_CREDIT",
         "dtype": "float64",
         "stats": {
          "unique_count": 1,
          "nan_count": 0,
          "min": "679671.0",
          "max": "679671.0",
          "histogram": [
           {
            "bin_start": 679670.5,
            "bin_end": 679670.6,
            "count": 0
           },
           {
            "bin_start": 679670.6,
            "bin_end": 679670.7,
            "count": 0
           },
           {
            "bin_start": 679670.7,
            "bin_end": 679670.8,
            "count": 0
           },
           {
            "bin_start": 679670.8,
            "bin_end": 679670.9,
            "count": 0
           },
           {
            "bin_start": 679670.9,
            "bin_end": 679671,
            "count": 0
           },
           {
            "bin_start": 679671,
            "bin_end": 679671.1,
            "count": 1
           },
           {
            "bin_start": 679671.1,
            "bin_end": 679671.2,
            "count": 0
           },
           {
            "bin_start": 679671.2,
            "bin_end": 679671.3,
            "count": 0
           },
           {
            "bin_start": 679671.3,
            "bin_end": 679671.4,
            "count": 0
           },
           {
            "bin_start": 679671.4,
            "bin_end": 679671.5,
            "count": 0
           }
          ]
         }
        },
        {
         "name": "AMT_DOWN_PAYMENT",
         "dtype": "float64",
         "stats": {
          "unique_count": 0,
          "nan_count": 1,
          "min": null,
          "max": null,
          "histogram": [
           {
            "bin_start": 0,
            "bin_end": 0.1,
            "count": 0
           },
           {
            "bin_start": 0.1,
            "bin_end": 0.2,
            "count": 0
           },
           {
            "bin_start": 0.2,
            "bin_end": 0.30000000000000004,
            "count": 0
           },
           {
            "bin_start": 0.30000000000000004,
            "bin_end": 0.4,
            "count": 0
           },
           {
            "bin_start": 0.4,
            "bin_end": 0.5,
            "count": 0
           },
           {
            "bin_start": 0.5,
            "bin_end": 0.6000000000000001,
            "count": 0
           },
           {
            "bin_start": 0.6000000000000001,
            "bin_end": 0.7000000000000001,
            "count": 0
           },
           {
            "bin_start": 0.7000000000000001,
            "bin_end": 0.8,
            "count": 0
           },
           {
            "bin_start": 0.8,
            "bin_end": 0.9,
            "count": 0
           },
           {
            "bin_start": 0.9,
            "bin_end": 1,
            "count": 0
           }
          ]
         }
        },
        {
         "name": "AMT_GOODS_PRICE",
         "dtype": "float64",
         "stats": {
          "unique_count": 1,
          "nan_count": 0,
          "min": "607500.0",
          "max": "607500.0",
          "histogram": [
           {
            "bin_start": 607499.5,
            "bin_end": 607499.6,
            "count": 0
           },
           {
            "bin_start": 607499.6,
            "bin_end": 607499.7,
            "count": 0
           },
           {
            "bin_start": 607499.7,
            "bin_end": 607499.8,
            "count": 0
           },
           {
            "bin_start": 607499.8,
            "bin_end": 607499.9,
            "count": 0
           },
           {
            "bin_start": 607499.9,
            "bin_end": 607500,
            "count": 0
           },
           {
            "bin_start": 607500,
            "bin_end": 607500.1,
            "count": 1
           },
           {
            "bin_start": 607500.1,
            "bin_end": 607500.2,
            "count": 0
           },
           {
            "bin_start": 607500.2,
            "bin_end": 607500.3,
            "count": 0
           },
           {
            "bin_start": 607500.3,
            "bin_end": 607500.4,
            "count": 0
           },
           {
            "bin_start": 607500.4,
            "bin_end": 607500.5,
            "count": 0
           }
          ]
         }
        },
        {
         "name": "WEEKDAY_APPR_PROCESS_START",
         "dtype": "object",
         "stats": {
          "unique_count": 1,
          "nan_count": 0,
          "categories": [
           {
            "name": "THURSDAY",
            "count": 1
           }
          ]
         }
        },
        {
         "name": "HOUR_APPR_PROCESS_START",
         "dtype": "int64",
         "stats": {
          "unique_count": 1,
          "nan_count": 0,
          "min": "11",
          "max": "11",
          "histogram": [
           {
            "bin_start": 10.5,
            "bin_end": 10.6,
            "count": 0
           },
           {
            "bin_start": 10.6,
            "bin_end": 10.7,
            "count": 0
           },
           {
            "bin_start": 10.7,
            "bin_end": 10.8,
            "count": 0
           },
           {
            "bin_start": 10.8,
            "bin_end": 10.9,
            "count": 0
           },
           {
            "bin_start": 10.9,
            "bin_end": 11,
            "count": 0
           },
           {
            "bin_start": 11,
            "bin_end": 11.1,
            "count": 1
           },
           {
            "bin_start": 11.1,
            "bin_end": 11.2,
            "count": 0
           },
           {
            "bin_start": 11.2,
            "bin_end": 11.3,
            "count": 0
           },
           {
            "bin_start": 11.3,
            "bin_end": 11.4,
            "count": 0
           },
           {
            "bin_start": 11.4,
            "bin_end": 11.5,
            "count": 0
           }
          ]
         }
        },
        {
         "name": "FLAG_LAST_APPL_PER_CONTRACT",
         "dtype": "object",
         "stats": {
          "unique_count": 1,
          "nan_count": 0,
          "categories": [
           {
            "name": "Y",
            "count": 1
           }
          ]
         }
        },
        {
         "name": "NFLAG_LAST_APPL_IN_DAY",
         "dtype": "int64",
         "stats": {
          "unique_count": 1,
          "nan_count": 0,
          "min": "1",
          "max": "1",
          "histogram": [
           {
            "bin_start": 0.5,
            "bin_end": 0.6,
            "count": 0
           },
           {
            "bin_start": 0.6,
            "bin_end": 0.7,
            "count": 0
           },
           {
            "bin_start": 0.7,
            "bin_end": 0.8,
            "count": 0
           },
           {
            "bin_start": 0.8,
            "bin_end": 0.9,
            "count": 0
           },
           {
            "bin_start": 0.9,
            "bin_end": 1,
            "count": 0
           },
           {
            "bin_start": 1,
            "bin_end": 1.1,
            "count": 1
           },
           {
            "bin_start": 1.1,
            "bin_end": 1.2000000000000002,
            "count": 0
           },
           {
            "bin_start": 1.2000000000000002,
            "bin_end": 1.3,
            "count": 0
           },
           {
            "bin_start": 1.3,
            "bin_end": 1.4,
            "count": 0
           },
           {
            "bin_start": 1.4,
            "bin_end": 1.5,
            "count": 0
           }
          ]
         }
        },
        {
         "name": "RATE_DOWN_PAYMENT",
         "dtype": "float64",
         "stats": {
          "unique_count": 0,
          "nan_count": 1,
          "min": null,
          "max": null,
          "histogram": [
           {
            "bin_start": 0,
            "bin_end": 0.1,
            "count": 0
           },
           {
            "bin_start": 0.1,
            "bin_end": 0.2,
            "count": 0
           },
           {
            "bin_start": 0.2,
            "bin_end": 0.30000000000000004,
            "count": 0
           },
           {
            "bin_start": 0.30000000000000004,
            "bin_end": 0.4,
            "count": 0
           },
           {
            "bin_start": 0.4,
            "bin_end": 0.5,
            "count": 0
           },
           {
            "bin_start": 0.5,
            "bin_end": 0.6000000000000001,
            "count": 0
           },
           {
            "bin_start": 0.6000000000000001,
            "bin_end": 0.7000000000000001,
            "count": 0
           },
           {
            "bin_start": 0.7000000000000001,
            "bin_end": 0.8,
            "count": 0
           },
           {
            "bin_start": 0.8,
            "bin_end": 0.9,
            "count": 0
           },
           {
            "bin_start": 0.9,
            "bin_end": 1,
            "count": 0
           }
          ]
         }
        },
        {
         "name": "RATE_INTEREST_PRIMARY",
         "dtype": "float64",
         "stats": {
          "unique_count": 0,
          "nan_count": 1,
          "min": null,
          "max": null,
          "histogram": [
           {
            "bin_start": 0,
            "bin_end": 0.1,
            "count": 0
           },
           {
            "bin_start": 0.1,
            "bin_end": 0.2,
            "count": 0
           },
           {
            "bin_start": 0.2,
            "bin_end": 0.30000000000000004,
            "count": 0
           },
           {
            "bin_start": 0.30000000000000004,
            "bin_end": 0.4,
            "count": 0
           },
           {
            "bin_start": 0.4,
            "bin_end": 0.5,
            "count": 0
           },
           {
            "bin_start": 0.5,
            "bin_end": 0.6000000000000001,
            "count": 0
           },
           {
            "bin_start": 0.6000000000000001,
            "bin_end": 0.7000000000000001,
            "count": 0
           },
           {
            "bin_start": 0.7000000000000001,
            "bin_end": 0.8,
            "count": 0
           },
           {
            "bin_start": 0.8,
            "bin_end": 0.9,
            "count": 0
           },
           {
            "bin_start": 0.9,
            "bin_end": 1,
            "count": 0
           }
          ]
         }
        },
        {
         "name": "RATE_INTEREST_PRIVILEGED",
         "dtype": "float64",
         "stats": {
          "unique_count": 0,
          "nan_count": 1,
          "min": null,
          "max": null,
          "histogram": [
           {
            "bin_start": 0,
            "bin_end": 0.1,
            "count": 0
           },
           {
            "bin_start": 0.1,
            "bin_end": 0.2,
            "count": 0
           },
           {
            "bin_start": 0.2,
            "bin_end": 0.30000000000000004,
            "count": 0
           },
           {
            "bin_start": 0.30000000000000004,
            "bin_end": 0.4,
            "count": 0
           },
           {
            "bin_start": 0.4,
            "bin_end": 0.5,
            "count": 0
           },
           {
            "bin_start": 0.5,
            "bin_end": 0.6000000000000001,
            "count": 0
           },
           {
            "bin_start": 0.6000000000000001,
            "bin_end": 0.7000000000000001,
            "count": 0
           },
           {
            "bin_start": 0.7000000000000001,
            "bin_end": 0.8,
            "count": 0
           },
           {
            "bin_start": 0.8,
            "bin_end": 0.9,
            "count": 0
           },
           {
            "bin_start": 0.9,
            "bin_end": 1,
            "count": 0
           }
          ]
         }
        },
        {
         "name": "NAME_CASH_LOAN_PURPOSE",
         "dtype": "object",
         "stats": {
          "unique_count": 1,
          "nan_count": 0,
          "categories": [
           {
            "name": "XNA",
            "count": 1
           }
          ]
         }
        },
        {
         "name": "NAME_CONTRACT_STATUS",
         "dtype": "object",
         "stats": {
          "unique_count": 1,
          "nan_count": 0,
          "categories": [
           {
            "name": "Approved",
            "count": 1
           }
          ]
         }
        },
        {
         "name": "DAYS_DECISION",
         "dtype": "int64",
         "stats": {
          "unique_count": 1,
          "nan_count": 0,
          "min": "-164",
          "max": "-164",
          "histogram": [
           {
            "bin_start": -164.5,
            "bin_end": -164.4,
            "count": 0
           },
           {
            "bin_start": -164.4,
            "bin_end": -164.3,
            "count": 0
           },
           {
            "bin_start": -164.3,
            "bin_end": -164.2,
            "count": 0
           },
           {
            "bin_start": -164.2,
            "bin_end": -164.1,
            "count": 0
           },
           {
            "bin_start": -164.1,
            "bin_end": -164,
            "count": 0
           },
           {
            "bin_start": -164,
            "bin_end": -163.9,
            "count": 1
           },
           {
            "bin_start": -163.9,
            "bin_end": -163.8,
            "count": 0
           },
           {
            "bin_start": -163.8,
            "bin_end": -163.7,
            "count": 0
           },
           {
            "bin_start": -163.7,
            "bin_end": -163.6,
            "count": 0
           },
           {
            "bin_start": -163.6,
            "bin_end": -163.5,
            "count": 0
           }
          ]
         }
        },
        {
         "name": "NAME_PAYMENT_TYPE",
         "dtype": "object",
         "stats": {
          "unique_count": 1,
          "nan_count": 0,
          "categories": [
           {
            "name": "XNA",
            "count": 1
           }
          ]
         }
        },
        {
         "name": "CODE_REJECT_REASON",
         "dtype": "object",
         "stats": {
          "unique_count": 1,
          "nan_count": 0,
          "categories": [
           {
            "name": "XAP",
            "count": 1
           }
          ]
         }
        },
        {
         "name": "NAME_TYPE_SUITE",
         "dtype": "object",
         "stats": {
          "unique_count": 1,
          "nan_count": 0,
          "categories": [
           {
            "name": "Unaccompanied",
            "count": 1
           }
          ]
         }
        },
        {
         "name": "NAME_CLIENT_TYPE",
         "dtype": "object",
         "stats": {
          "unique_count": 1,
          "nan_count": 0,
          "categories": [
           {
            "name": "Repeater",
            "count": 1
           }
          ]
         }
        },
        {
         "name": "NAME_GOODS_CATEGORY",
         "dtype": "object",
         "stats": {
          "unique_count": 1,
          "nan_count": 0,
          "categories": [
           {
            "name": "XNA",
            "count": 1
           }
          ]
         }
        },
        {
         "name": "NAME_PORTFOLIO",
         "dtype": "object",
         "stats": {
          "unique_count": 1,
          "nan_count": 0,
          "categories": [
           {
            "name": "Cash",
            "count": 1
           }
          ]
         }
        },
        {
         "name": "NAME_PRODUCT_TYPE",
         "dtype": "object",
         "stats": {
          "unique_count": 1,
          "nan_count": 0,
          "categories": [
           {
            "name": "x-sell",
            "count": 1
           }
          ]
         }
        },
        {
         "name": "CHANNEL_TYPE",
         "dtype": "object",
         "stats": {
          "unique_count": 1,
          "nan_count": 0,
          "categories": [
           {
            "name": "Contact center",
            "count": 1
           }
          ]
         }
        },
        {
         "name": "SELLERPLACE_AREA",
         "dtype": "int64",
         "stats": {
          "unique_count": 1,
          "nan_count": 0,
          "min": "-1",
          "max": "-1",
          "histogram": [
           {
            "bin_start": -1.5,
            "bin_end": -1.4,
            "count": 0
           },
           {
            "bin_start": -1.4,
            "bin_end": -1.3,
            "count": 0
           },
           {
            "bin_start": -1.3,
            "bin_end": -1.2,
            "count": 0
           },
           {
            "bin_start": -1.2,
            "bin_end": -1.1,
            "count": 0
           },
           {
            "bin_start": -1.1,
            "bin_end": -1,
            "count": 0
           },
           {
            "bin_start": -1,
            "bin_end": -0.8999999999999999,
            "count": 1
           },
           {
            "bin_start": -0.8999999999999999,
            "bin_end": -0.7999999999999999,
            "count": 0
           },
           {
            "bin_start": -0.7999999999999999,
            "bin_end": -0.7,
            "count": 0
           },
           {
            "bin_start": -0.7,
            "bin_end": -0.6,
            "count": 0
           },
           {
            "bin_start": -0.6,
            "bin_end": -0.5,
            "count": 0
           }
          ]
         }
        },
        {
         "name": "NAME_SELLER_INDUSTRY",
         "dtype": "object",
         "stats": {
          "unique_count": 1,
          "nan_count": 0,
          "categories": [
           {
            "name": "XNA",
            "count": 1
           }
          ]
         }
        },
        {
         "name": "CNT_PAYMENT",
         "dtype": "float64",
         "stats": {
          "unique_count": 1,
          "nan_count": 0,
          "min": "36.0",
          "max": "36.0",
          "histogram": [
           {
            "bin_start": 35.5,
            "bin_end": 35.6,
            "count": 0
           },
           {
            "bin_start": 35.6,
            "bin_end": 35.7,
            "count": 0
           },
           {
            "bin_start": 35.7,
            "bin_end": 35.8,
            "count": 0
           },
           {
            "bin_start": 35.8,
            "bin_end": 35.9,
            "count": 0
           },
           {
            "bin_start": 35.9,
            "bin_end": 36,
            "count": 0
           },
           {
            "bin_start": 36,
            "bin_end": 36.1,
            "count": 1
           },
           {
            "bin_start": 36.1,
            "bin_end": 36.2,
            "count": 0
           },
           {
            "bin_start": 36.2,
            "bin_end": 36.3,
            "count": 0
           },
           {
            "bin_start": 36.3,
            "bin_end": 36.4,
            "count": 0
           },
           {
            "bin_start": 36.4,
            "bin_end": 36.5,
            "count": 0
           }
          ]
         }
        },
        {
         "name": "NAME_YIELD_GROUP",
         "dtype": "object",
         "stats": {
          "unique_count": 1,
          "nan_count": 0,
          "categories": [
           {
            "name": "low_action",
            "count": 1
           }
          ]
         }
        },
        {
         "name": "PRODUCT_COMBINATION",
         "dtype": "object",
         "stats": {
          "unique_count": 1,
          "nan_count": 0,
          "categories": [
           {
            "name": "Cash X-Sell: low",
            "count": 1
           }
          ]
         }
        },
        {
         "name": "DAYS_FIRST_DRAWING",
         "dtype": "float64",
         "stats": {
          "unique_count": 1,
          "nan_count": 0,
          "min": "365243.0",
          "max": "365243.0",
          "histogram": [
           {
            "bin_start": 365242.5,
            "bin_end": 365242.6,
            "count": 0
           },
           {
            "bin_start": 365242.6,
            "bin_end": 365242.7,
            "count": 0
           },
           {
            "bin_start": 365242.7,
            "bin_end": 365242.8,
            "count": 0
           },
           {
            "bin_start": 365242.8,
            "bin_end": 365242.9,
            "count": 0
           },
           {
            "bin_start": 365242.9,
            "bin_end": 365243,
            "count": 0
           },
           {
            "bin_start": 365243,
            "bin_end": 365243.1,
            "count": 1
           },
           {
            "bin_start": 365243.1,
            "bin_end": 365243.2,
            "count": 0
           },
           {
            "bin_start": 365243.2,
            "bin_end": 365243.3,
            "count": 0
           },
           {
            "bin_start": 365243.3,
            "bin_end": 365243.4,
            "count": 0
           },
           {
            "bin_start": 365243.4,
            "bin_end": 365243.5,
            "count": 0
           }
          ]
         }
        },
        {
         "name": "DAYS_FIRST_DUE",
         "dtype": "float64",
         "stats": {
          "unique_count": 1,
          "nan_count": 0,
          "min": "-134.0",
          "max": "-134.0",
          "histogram": [
           {
            "bin_start": -134.5,
            "bin_end": -134.4,
            "count": 0
           },
           {
            "bin_start": -134.4,
            "bin_end": -134.3,
            "count": 0
           },
           {
            "bin_start": -134.3,
            "bin_end": -134.2,
            "count": 0
           },
           {
            "bin_start": -134.2,
            "bin_end": -134.1,
            "count": 0
           },
           {
            "bin_start": -134.1,
            "bin_end": -134,
            "count": 0
           },
           {
            "bin_start": -134,
            "bin_end": -133.9,
            "count": 1
           },
           {
            "bin_start": -133.9,
            "bin_end": -133.8,
            "count": 0
           },
           {
            "bin_start": -133.8,
            "bin_end": -133.7,
            "count": 0
           },
           {
            "bin_start": -133.7,
            "bin_end": -133.6,
            "count": 0
           },
           {
            "bin_start": -133.6,
            "bin_end": -133.5,
            "count": 0
           }
          ]
         }
        },
        {
         "name": "DAYS_LAST_DUE_1ST_VERSION",
         "dtype": "float64",
         "stats": {
          "unique_count": 1,
          "nan_count": 0,
          "min": "916.0",
          "max": "916.0",
          "histogram": [
           {
            "bin_start": 915.5,
            "bin_end": 915.6,
            "count": 0
           },
           {
            "bin_start": 915.6,
            "bin_end": 915.7,
            "count": 0
           },
           {
            "bin_start": 915.7,
            "bin_end": 915.8,
            "count": 0
           },
           {
            "bin_start": 915.8,
            "bin_end": 915.9,
            "count": 0
           },
           {
            "bin_start": 915.9,
            "bin_end": 916,
            "count": 0
           },
           {
            "bin_start": 916,
            "bin_end": 916.1,
            "count": 1
           },
           {
            "bin_start": 916.1,
            "bin_end": 916.2,
            "count": 0
           },
           {
            "bin_start": 916.2,
            "bin_end": 916.3,
            "count": 0
           },
           {
            "bin_start": 916.3,
            "bin_end": 916.4,
            "count": 0
           },
           {
            "bin_start": 916.4,
            "bin_end": 916.5,
            "count": 0
           }
          ]
         }
        },
        {
         "name": "DAYS_LAST_DUE",
         "dtype": "float64",
         "stats": {
          "unique_count": 1,
          "nan_count": 0,
          "min": "365243.0",
          "max": "365243.0",
          "histogram": [
           {
            "bin_start": 365242.5,
            "bin_end": 365242.6,
            "count": 0
           },
           {
            "bin_start": 365242.6,
            "bin_end": 365242.7,
            "count": 0
           },
           {
            "bin_start": 365242.7,
            "bin_end": 365242.8,
            "count": 0
           },
           {
            "bin_start": 365242.8,
            "bin_end": 365242.9,
            "count": 0
           },
           {
            "bin_start": 365242.9,
            "bin_end": 365243,
            "count": 0
           },
           {
            "bin_start": 365243,
            "bin_end": 365243.1,
            "count": 1
           },
           {
            "bin_start": 365243.1,
            "bin_end": 365243.2,
            "count": 0
           },
           {
            "bin_start": 365243.2,
            "bin_end": 365243.3,
            "count": 0
           },
           {
            "bin_start": 365243.3,
            "bin_end": 365243.4,
            "count": 0
           },
           {
            "bin_start": 365243.4,
            "bin_end": 365243.5,
            "count": 0
           }
          ]
         }
        },
        {
         "name": "DAYS_TERMINATION",
         "dtype": "float64",
         "stats": {
          "unique_count": 1,
          "nan_count": 0,
          "min": "365243.0",
          "max": "365243.0",
          "histogram": [
           {
            "bin_start": 365242.5,
            "bin_end": 365242.6,
            "count": 0
           },
           {
            "bin_start": 365242.6,
            "bin_end": 365242.7,
            "count": 0
           },
           {
            "bin_start": 365242.7,
            "bin_end": 365242.8,
            "count": 0
           },
           {
            "bin_start": 365242.8,
            "bin_end": 365242.9,
            "count": 0
           },
           {
            "bin_start": 365242.9,
            "bin_end": 365243,
            "count": 0
           },
           {
            "bin_start": 365243,
            "bin_end": 365243.1,
            "count": 1
           },
           {
            "bin_start": 365243.1,
            "bin_end": 365243.2,
            "count": 0
           },
           {
            "bin_start": 365243.2,
            "bin_end": 365243.3,
            "count": 0
           },
           {
            "bin_start": 365243.3,
            "bin_end": 365243.4,
            "count": 0
           },
           {
            "bin_start": 365243.4,
            "bin_end": 365243.5,
            "count": 0
           }
          ]
         }
        },
        {
         "name": "NFLAG_INSURED_ON_APPROVAL",
         "dtype": "float64",
         "stats": {
          "unique_count": 1,
          "nan_count": 0,
          "min": "1.0",
          "max": "1.0",
          "histogram": [
           {
            "bin_start": 0.5,
            "bin_end": 0.6,
            "count": 0
           },
           {
            "bin_start": 0.6,
            "bin_end": 0.7,
            "count": 0
           },
           {
            "bin_start": 0.7,
            "bin_end": 0.8,
            "count": 0
           },
           {
            "bin_start": 0.8,
            "bin_end": 0.9,
            "count": 0
           },
           {
            "bin_start": 0.9,
            "bin_end": 1,
            "count": 0
           },
           {
            "bin_start": 1,
            "bin_end": 1.1,
            "count": 1
           },
           {
            "bin_start": 1.1,
            "bin_end": 1.2000000000000002,
            "count": 0
           },
           {
            "bin_start": 1.2000000000000002,
            "bin_end": 1.3,
            "count": 0
           },
           {
            "bin_start": 1.3,
            "bin_end": 1.4,
            "count": 0
           },
           {
            "bin_start": 1.4,
            "bin_end": 1.5,
            "count": 0
           }
          ]
         }
        },
        {
         "name": "_deepnote_index_column",
         "dtype": "int64"
        }
       ],
       "rows_top": [
        {
         "SK_ID_PREV": 2802425,
         "SK_ID_CURR": 108129,
         "NAME_CONTRACT_TYPE": "Cash loans",
         "AMT_ANNUITY": 25188.615,
         "AMT_APPLICATION": 607500,
         "AMT_CREDIT": 679671,
         "AMT_DOWN_PAYMENT": "nan",
         "AMT_GOODS_PRICE": 607500,
         "WEEKDAY_APPR_PROCESS_START": "THURSDAY",
         "HOUR_APPR_PROCESS_START": 11,
         "FLAG_LAST_APPL_PER_CONTRACT": "Y",
         "NFLAG_LAST_APPL_IN_DAY": 1,
         "RATE_DOWN_PAYMENT": "nan",
         "RATE_INTEREST_PRIMARY": "nan",
         "RATE_INTEREST_PRIVILEGED": "nan",
         "NAME_CASH_LOAN_PURPOSE": "XNA",
         "NAME_CONTRACT_STATUS": "Approved",
         "DAYS_DECISION": -164,
         "NAME_PAYMENT_TYPE": "XNA",
         "CODE_REJECT_REASON": "XAP",
         "NAME_TYPE_SUITE": "Unaccompanied",
         "NAME_CLIENT_TYPE": "Repeater",
         "NAME_GOODS_CATEGORY": "XNA",
         "NAME_PORTFOLIO": "Cash",
         "NAME_PRODUCT_TYPE": "x-sell",
         "CHANNEL_TYPE": "Contact center",
         "SELLERPLACE_AREA": -1,
         "NAME_SELLER_INDUSTRY": "XNA",
         "CNT_PAYMENT": 36,
         "NAME_YIELD_GROUP": "low_action",
         "PRODUCT_COMBINATION": "Cash X-Sell: low",
         "DAYS_FIRST_DRAWING": 365243,
         "DAYS_FIRST_DUE": -134,
         "DAYS_LAST_DUE_1ST_VERSION": 916,
         "DAYS_LAST_DUE": 365243,
         "DAYS_TERMINATION": 365243,
         "NFLAG_INSURED_ON_APPROVAL": 1,
         "_deepnote_index_column": 1
        }
       ],
       "rows_bottom": null
      },
      "text/plain": "   SK_ID_PREV  SK_ID_CURR NAME_CONTRACT_TYPE  AMT_ANNUITY  AMT_APPLICATION  \\\n1     2802425      108129         Cash loans    25188.615         607500.0   \n\n   AMT_CREDIT  AMT_DOWN_PAYMENT  AMT_GOODS_PRICE WEEKDAY_APPR_PROCESS_START  \\\n1    679671.0               NaN         607500.0                   THURSDAY   \n\n   HOUR_APPR_PROCESS_START  ... NAME_SELLER_INDUSTRY  CNT_PAYMENT  \\\n1                       11  ...                  XNA         36.0   \n\n   NAME_YIELD_GROUP  PRODUCT_COMBINATION  DAYS_FIRST_DRAWING DAYS_FIRST_DUE  \\\n1        low_action     Cash X-Sell: low            365243.0         -134.0   \n\n  DAYS_LAST_DUE_1ST_VERSION  DAYS_LAST_DUE DAYS_TERMINATION  \\\n1                     916.0       365243.0         365243.0   \n\n  NFLAG_INSURED_ON_APPROVAL  \n1                       1.0  \n\n[1 rows x 37 columns]",
      "text/html": "<div>\n<style scoped>\n    .dataframe tbody tr th:only-of-type {\n        vertical-align: middle;\n    }\n\n    .dataframe tbody tr th {\n        vertical-align: top;\n    }\n\n    .dataframe thead th {\n        text-align: right;\n    }\n</style>\n<table border=\"1\" class=\"dataframe\">\n  <thead>\n    <tr style=\"text-align: right;\">\n      <th></th>\n      <th>SK_ID_PREV</th>\n      <th>SK_ID_CURR</th>\n      <th>NAME_CONTRACT_TYPE</th>\n      <th>AMT_ANNUITY</th>\n      <th>AMT_APPLICATION</th>\n      <th>AMT_CREDIT</th>\n      <th>AMT_DOWN_PAYMENT</th>\n      <th>AMT_GOODS_PRICE</th>\n      <th>WEEKDAY_APPR_PROCESS_START</th>\n      <th>HOUR_APPR_PROCESS_START</th>\n      <th>...</th>\n      <th>NAME_SELLER_INDUSTRY</th>\n      <th>CNT_PAYMENT</th>\n      <th>NAME_YIELD_GROUP</th>\n      <th>PRODUCT_COMBINATION</th>\n      <th>DAYS_FIRST_DRAWING</th>\n      <th>DAYS_FIRST_DUE</th>\n      <th>DAYS_LAST_DUE_1ST_VERSION</th>\n      <th>DAYS_LAST_DUE</th>\n      <th>DAYS_TERMINATION</th>\n      <th>NFLAG_INSURED_ON_APPROVAL</th>\n    </tr>\n  </thead>\n  <tbody>\n    <tr>\n      <th>1</th>\n      <td>2802425</td>\n      <td>108129</td>\n      <td>Cash loans</td>\n      <td>25188.615</td>\n      <td>607500.0</td>\n      <td>679671.0</td>\n      <td>NaN</td>\n      <td>607500.0</td>\n      <td>THURSDAY</td>\n      <td>11</td>\n      <td>...</td>\n      <td>XNA</td>\n      <td>36.0</td>\n      <td>low_action</td>\n      <td>Cash X-Sell: low</td>\n      <td>365243.0</td>\n      <td>-134.0</td>\n      <td>916.0</td>\n      <td>365243.0</td>\n      <td>365243.0</td>\n      <td>1.0</td>\n    </tr>\n  </tbody>\n</table>\n<p>1 rows × 37 columns</p>\n</div>"
     },
     "metadata": {}
    }
   ]
  },
  {
   "cell_type": "code",
   "metadata": {
    "tags": [],
    "cell_id": "00004-7e551302-14ce-4755-b1a7-4d84987ae740",
    "deepnote_to_be_reexecuted": true,
    "source_hash": "cc2f4448",
    "execution_start": 1630438699804,
    "execution_millis": 229,
    "deepnote_cell_type": "code"
   },
   "source": "app_train[app_train.SK_ID_CURR == 108129]",
   "execution_count": null,
   "outputs": [
    {
     "output_type": "execute_result",
     "execution_count": 8,
     "data": {
      "application/vnd.deepnote.dataframe.v2+json": {
       "row_count": 1,
       "column_count": 66,
       "columns": [
        {
         "name": "SK_ID_CURR",
         "dtype": "int64",
         "stats": {
          "unique_count": 1,
          "nan_count": 0,
          "min": "108129",
          "max": "108129",
          "histogram": [
           {
            "bin_start": 108128.5,
            "bin_end": 108128.6,
            "count": 0
           },
           {
            "bin_start": 108128.6,
            "bin_end": 108128.7,
            "count": 0
           },
           {
            "bin_start": 108128.7,
            "bin_end": 108128.8,
            "count": 0
           },
           {
            "bin_start": 108128.8,
            "bin_end": 108128.9,
            "count": 0
           },
           {
            "bin_start": 108128.9,
            "bin_end": 108129,
            "count": 0
           },
           {
            "bin_start": 108129,
            "bin_end": 108129.1,
            "count": 1
           },
           {
            "bin_start": 108129.1,
            "bin_end": 108129.2,
            "count": 0
           },
           {
            "bin_start": 108129.2,
            "bin_end": 108129.3,
            "count": 0
           },
           {
            "bin_start": 108129.3,
            "bin_end": 108129.4,
            "count": 0
           },
           {
            "bin_start": 108129.4,
            "bin_end": 108129.5,
            "count": 0
           }
          ]
         }
        },
        {
         "name": "TARGET",
         "dtype": "int64",
         "stats": {
          "unique_count": 1,
          "nan_count": 0,
          "min": "0",
          "max": "0",
          "histogram": [
           {
            "bin_start": -0.5,
            "bin_end": -0.4,
            "count": 0
           },
           {
            "bin_start": -0.4,
            "bin_end": -0.3,
            "count": 0
           },
           {
            "bin_start": -0.3,
            "bin_end": -0.19999999999999996,
            "count": 0
           },
           {
            "bin_start": -0.19999999999999996,
            "bin_end": -0.09999999999999998,
            "count": 0
           },
           {
            "bin_start": -0.09999999999999998,
            "bin_end": 0,
            "count": 0
           },
           {
            "bin_start": 0,
            "bin_end": 0.10000000000000009,
            "count": 1
           },
           {
            "bin_start": 0.10000000000000009,
            "bin_end": 0.20000000000000007,
            "count": 0
           },
           {
            "bin_start": 0.20000000000000007,
            "bin_end": 0.30000000000000004,
            "count": 0
           },
           {
            "bin_start": 0.30000000000000004,
            "bin_end": 0.4,
            "count": 0
           },
           {
            "bin_start": 0.4,
            "bin_end": 0.5,
            "count": 0
           }
          ]
         }
        },
        {
         "name": "NAME_CONTRACT_TYPE",
         "dtype": "object",
         "stats": {
          "unique_count": 1,
          "nan_count": 0,
          "categories": [
           {
            "name": "Revolving loans",
            "count": 1
           }
          ]
         }
        },
        {
         "name": "CODE_GENDER",
         "dtype": "object",
         "stats": {
          "unique_count": 1,
          "nan_count": 0,
          "categories": [
           {
            "name": "F",
            "count": 1
           }
          ]
         }
        },
        {
         "name": "FLAG_OWN_CAR",
         "dtype": "object",
         "stats": {
          "unique_count": 1,
          "nan_count": 0,
          "categories": [
           {
            "name": "N",
            "count": 1
           }
          ]
         }
        },
        {
         "name": "FLAG_OWN_REALTY",
         "dtype": "object",
         "stats": {
          "unique_count": 1,
          "nan_count": 0,
          "categories": [
           {
            "name": "N",
            "count": 1
           }
          ]
         }
        },
        {
         "name": "CNT_CHILDREN",
         "dtype": "int64",
         "stats": {
          "unique_count": 1,
          "nan_count": 0,
          "min": "0",
          "max": "0",
          "histogram": [
           {
            "bin_start": -0.5,
            "bin_end": -0.4,
            "count": 0
           },
           {
            "bin_start": -0.4,
            "bin_end": -0.3,
            "count": 0
           },
           {
            "bin_start": -0.3,
            "bin_end": -0.19999999999999996,
            "count": 0
           },
           {
            "bin_start": -0.19999999999999996,
            "bin_end": -0.09999999999999998,
            "count": 0
           },
           {
            "bin_start": -0.09999999999999998,
            "bin_end": 0,
            "count": 0
           },
           {
            "bin_start": 0,
            "bin_end": 0.10000000000000009,
            "count": 1
           },
           {
            "bin_start": 0.10000000000000009,
            "bin_end": 0.20000000000000007,
            "count": 0
           },
           {
            "bin_start": 0.20000000000000007,
            "bin_end": 0.30000000000000004,
            "count": 0
           },
           {
            "bin_start": 0.30000000000000004,
            "bin_end": 0.4,
            "count": 0
           },
           {
            "bin_start": 0.4,
            "bin_end": 0.5,
            "count": 0
           }
          ]
         }
        },
        {
         "name": "AMT_INCOME_TOTAL",
         "dtype": "float64",
         "stats": {
          "unique_count": 1,
          "nan_count": 0,
          "min": "90000.0",
          "max": "90000.0",
          "histogram": [
           {
            "bin_start": 89999.5,
            "bin_end": 89999.6,
            "count": 0
           },
           {
            "bin_start": 89999.6,
            "bin_end": 89999.7,
            "count": 0
           },
           {
            "bin_start": 89999.7,
            "bin_end": 89999.8,
            "count": 0
           },
           {
            "bin_start": 89999.8,
            "bin_end": 89999.9,
            "count": 0
           },
           {
            "bin_start": 89999.9,
            "bin_end": 90000,
            "count": 0
           },
           {
            "bin_start": 90000,
            "bin_end": 90000.1,
            "count": 1
           },
           {
            "bin_start": 90000.1,
            "bin_end": 90000.2,
            "count": 0
           },
           {
            "bin_start": 90000.2,
            "bin_end": 90000.3,
            "count": 0
           },
           {
            "bin_start": 90000.3,
            "bin_end": 90000.4,
            "count": 0
           },
           {
            "bin_start": 90000.4,
            "bin_end": 90000.5,
            "count": 0
           }
          ]
         }
        },
        {
         "name": "AMT_CREDIT",
         "dtype": "float64",
         "stats": {
          "unique_count": 1,
          "nan_count": 0,
          "min": "135000.0",
          "max": "135000.0",
          "histogram": [
           {
            "bin_start": 134999.5,
            "bin_end": 134999.6,
            "count": 0
           },
           {
            "bin_start": 134999.6,
            "bin_end": 134999.7,
            "count": 0
           },
           {
            "bin_start": 134999.7,
            "bin_end": 134999.8,
            "count": 0
           },
           {
            "bin_start": 134999.8,
            "bin_end": 134999.9,
            "count": 0
           },
           {
            "bin_start": 134999.9,
            "bin_end": 135000,
            "count": 0
           },
           {
            "bin_start": 135000,
            "bin_end": 135000.1,
            "count": 1
           },
           {
            "bin_start": 135000.1,
            "bin_end": 135000.2,
            "count": 0
           },
           {
            "bin_start": 135000.2,
            "bin_end": 135000.3,
            "count": 0
           },
           {
            "bin_start": 135000.3,
            "bin_end": 135000.4,
            "count": 0
           },
           {
            "bin_start": 135000.4,
            "bin_end": 135000.5,
            "count": 0
           }
          ]
         }
        },
        {
         "name": "AMT_ANNUITY",
         "dtype": "float64",
         "stats": {
          "unique_count": 1,
          "nan_count": 0,
          "min": "6750.0",
          "max": "6750.0",
          "histogram": [
           {
            "bin_start": 6749.5,
            "bin_end": 6749.6,
            "count": 0
           },
           {
            "bin_start": 6749.6,
            "bin_end": 6749.7,
            "count": 0
           },
           {
            "bin_start": 6749.7,
            "bin_end": 6749.8,
            "count": 0
           },
           {
            "bin_start": 6749.8,
            "bin_end": 6749.9,
            "count": 0
           },
           {
            "bin_start": 6749.9,
            "bin_end": 6750,
            "count": 0
           },
           {
            "bin_start": 6750,
            "bin_end": 6750.1,
            "count": 1
           },
           {
            "bin_start": 6750.1,
            "bin_end": 6750.2,
            "count": 0
           },
           {
            "bin_start": 6750.2,
            "bin_end": 6750.3,
            "count": 0
           },
           {
            "bin_start": 6750.3,
            "bin_end": 6750.4,
            "count": 0
           },
           {
            "bin_start": 6750.4,
            "bin_end": 6750.5,
            "count": 0
           }
          ]
         }
        },
        {
         "name": "AMT_GOODS_PRICE",
         "dtype": "float64",
         "stats": {
          "unique_count": 1,
          "nan_count": 0,
          "min": "135000.0",
          "max": "135000.0",
          "histogram": [
           {
            "bin_start": 134999.5,
            "bin_end": 134999.6,
            "count": 0
           },
           {
            "bin_start": 134999.6,
            "bin_end": 134999.7,
            "count": 0
           },
           {
            "bin_start": 134999.7,
            "bin_end": 134999.8,
            "count": 0
           },
           {
            "bin_start": 134999.8,
            "bin_end": 134999.9,
            "count": 0
           },
           {
            "bin_start": 134999.9,
            "bin_end": 135000,
            "count": 0
           },
           {
            "bin_start": 135000,
            "bin_end": 135000.1,
            "count": 1
           },
           {
            "bin_start": 135000.1,
            "bin_end": 135000.2,
            "count": 0
           },
           {
            "bin_start": 135000.2,
            "bin_end": 135000.3,
            "count": 0
           },
           {
            "bin_start": 135000.3,
            "bin_end": 135000.4,
            "count": 0
           },
           {
            "bin_start": 135000.4,
            "bin_end": 135000.5,
            "count": 0
           }
          ]
         }
        },
        {
         "name": "NAME_INCOME_TYPE",
         "dtype": "object",
         "stats": {
          "unique_count": 1,
          "nan_count": 0,
          "categories": [
           {
            "name": "Commercial associate",
            "count": 1
           }
          ]
         }
        },
        {
         "name": "NAME_EDUCATION_TYPE",
         "dtype": "object",
         "stats": {
          "unique_count": 1,
          "nan_count": 0,
          "categories": [
           {
            "name": "Secondary / secondary special",
            "count": 1
           }
          ]
         }
        },
        {
         "name": "NAME_FAMILY_STATUS",
         "dtype": "object",
         "stats": {
          "unique_count": 1,
          "nan_count": 0,
          "categories": [
           {
            "name": "Civil marriage",
            "count": 1
           }
          ]
         }
        },
        {
         "name": "NAME_HOUSING_TYPE",
         "dtype": "object",
         "stats": {
          "unique_count": 1,
          "nan_count": 0,
          "categories": [
           {
            "name": "House / apartment",
            "count": 1
           }
          ]
         }
        },
        {
         "name": "REGION_POPULATION_RELATIVE",
         "dtype": "float64",
         "stats": {
          "unique_count": 1,
          "nan_count": 0,
          "min": "0.025164",
          "max": "0.025164",
          "histogram": [
           {
            "bin_start": -0.474836,
            "bin_end": -0.37483599999999995,
            "count": 0
           },
           {
            "bin_start": -0.37483599999999995,
            "bin_end": -0.27483599999999997,
            "count": 0
           },
           {
            "bin_start": -0.27483599999999997,
            "bin_end": -0.17483599999999994,
            "count": 0
           },
           {
            "bin_start": -0.17483599999999994,
            "bin_end": -0.07483599999999996,
            "count": 0
           },
           {
            "bin_start": -0.07483599999999996,
            "bin_end": 0.02516400000000002,
            "count": 1
           },
           {
            "bin_start": 0.02516400000000002,
            "bin_end": 0.1251640000000001,
            "count": 0
           },
           {
            "bin_start": 0.1251640000000001,
            "bin_end": 0.2251640000000001,
            "count": 0
           },
           {
            "bin_start": 0.2251640000000001,
            "bin_end": 0.32516400000000006,
            "count": 0
           },
           {
            "bin_start": 0.32516400000000006,
            "bin_end": 0.42516400000000004,
            "count": 0
           },
           {
            "bin_start": 0.42516400000000004,
            "bin_end": 0.525164,
            "count": 0
           }
          ]
         }
        },
        {
         "name": "DAYS_BIRTH",
         "dtype": "int64",
         "stats": {
          "unique_count": 1,
          "nan_count": 0,
          "min": "-21335",
          "max": "-21335",
          "histogram": [
           {
            "bin_start": -21335.5,
            "bin_end": -21335.4,
            "count": 0
           },
           {
            "bin_start": -21335.4,
            "bin_end": -21335.3,
            "count": 0
           },
           {
            "bin_start": -21335.3,
            "bin_end": -21335.2,
            "count": 0
           },
           {
            "bin_start": -21335.2,
            "bin_end": -21335.1,
            "count": 0
           },
           {
            "bin_start": -21335.1,
            "bin_end": -21335,
            "count": 0
           },
           {
            "bin_start": -21335,
            "bin_end": -21334.9,
            "count": 1
           },
           {
            "bin_start": -21334.9,
            "bin_end": -21334.8,
            "count": 0
           },
           {
            "bin_start": -21334.8,
            "bin_end": -21334.7,
            "count": 0
           },
           {
            "bin_start": -21334.7,
            "bin_end": -21334.6,
            "count": 0
           },
           {
            "bin_start": -21334.6,
            "bin_end": -21334.5,
            "count": 0
           }
          ]
         }
        },
        {
         "name": "DAYS_EMPLOYED",
         "dtype": "int64",
         "stats": {
          "unique_count": 1,
          "nan_count": 0,
          "min": "-1255",
          "max": "-1255",
          "histogram": [
           {
            "bin_start": -1255.5,
            "bin_end": -1255.4,
            "count": 0
           },
           {
            "bin_start": -1255.4,
            "bin_end": -1255.3,
            "count": 0
           },
           {
            "bin_start": -1255.3,
            "bin_end": -1255.2,
            "count": 0
           },
           {
            "bin_start": -1255.2,
            "bin_end": -1255.1,
            "count": 0
           },
           {
            "bin_start": -1255.1,
            "bin_end": -1255,
            "count": 0
           },
           {
            "bin_start": -1255,
            "bin_end": -1254.9,
            "count": 1
           },
           {
            "bin_start": -1254.9,
            "bin_end": -1254.8,
            "count": 0
           },
           {
            "bin_start": -1254.8,
            "bin_end": -1254.7,
            "count": 0
           },
           {
            "bin_start": -1254.7,
            "bin_end": -1254.6,
            "count": 0
           },
           {
            "bin_start": -1254.6,
            "bin_end": -1254.5,
            "count": 0
           }
          ]
         }
        },
        {
         "name": "DAYS_REGISTRATION",
         "dtype": "float64",
         "stats": {
          "unique_count": 1,
          "nan_count": 0,
          "min": "-5455.0",
          "max": "-5455.0",
          "histogram": [
           {
            "bin_start": -5455.5,
            "bin_end": -5455.4,
            "count": 0
           },
           {
            "bin_start": -5455.4,
            "bin_end": -5455.3,
            "count": 0
           },
           {
            "bin_start": -5455.3,
            "bin_end": -5455.2,
            "count": 0
           },
           {
            "bin_start": -5455.2,
            "bin_end": -5455.1,
            "count": 0
           },
           {
            "bin_start": -5455.1,
            "bin_end": -5455,
            "count": 0
           },
           {
            "bin_start": -5455,
            "bin_end": -5454.9,
            "count": 1
           },
           {
            "bin_start": -5454.9,
            "bin_end": -5454.8,
            "count": 0
           },
           {
            "bin_start": -5454.8,
            "bin_end": -5454.7,
            "count": 0
           },
           {
            "bin_start": -5454.7,
            "bin_end": -5454.6,
            "count": 0
           },
           {
            "bin_start": -5454.6,
            "bin_end": -5454.5,
            "count": 0
           }
          ]
         }
        },
        {
         "name": "DAYS_ID_PUBLISH",
         "dtype": "int64",
         "stats": {
          "unique_count": 1,
          "nan_count": 0,
          "min": "-4263",
          "max": "-4263",
          "histogram": [
           {
            "bin_start": -4263.5,
            "bin_end": -4263.4,
            "count": 0
           },
           {
            "bin_start": -4263.4,
            "bin_end": -4263.3,
            "count": 0
           },
           {
            "bin_start": -4263.3,
            "bin_end": -4263.2,
            "count": 0
           },
           {
            "bin_start": -4263.2,
            "bin_end": -4263.1,
            "count": 0
           },
           {
            "bin_start": -4263.1,
            "bin_end": -4263,
            "count": 0
           },
           {
            "bin_start": -4263,
            "bin_end": -4262.9,
            "count": 1
           },
           {
            "bin_start": -4262.9,
            "bin_end": -4262.8,
            "count": 0
           },
           {
            "bin_start": -4262.8,
            "bin_end": -4262.7,
            "count": 0
           },
           {
            "bin_start": -4262.7,
            "bin_end": -4262.6,
            "count": 0
           },
           {
            "bin_start": -4262.6,
            "bin_end": -4262.5,
            "count": 0
           }
          ]
         }
        },
        {
         "name": "OWN_CAR_AGE",
         "dtype": "float64",
         "stats": {
          "unique_count": 0,
          "nan_count": 1,
          "min": null,
          "max": null,
          "histogram": [
           {
            "bin_start": 0,
            "bin_end": 0.1,
            "count": 0
           },
           {
            "bin_start": 0.1,
            "bin_end": 0.2,
            "count": 0
           },
           {
            "bin_start": 0.2,
            "bin_end": 0.30000000000000004,
            "count": 0
           },
           {
            "bin_start": 0.30000000000000004,
            "bin_end": 0.4,
            "count": 0
           },
           {
            "bin_start": 0.4,
            "bin_end": 0.5,
            "count": 0
           },
           {
            "bin_start": 0.5,
            "bin_end": 0.6000000000000001,
            "count": 0
           },
           {
            "bin_start": 0.6000000000000001,
            "bin_end": 0.7000000000000001,
            "count": 0
           },
           {
            "bin_start": 0.7000000000000001,
            "bin_end": 0.8,
            "count": 0
           },
           {
            "bin_start": 0.8,
            "bin_end": 0.9,
            "count": 0
           },
           {
            "bin_start": 0.9,
            "bin_end": 1,
            "count": 0
           }
          ]
         }
        },
        {
         "name": "FLAG_MOBIL",
         "dtype": "int64",
         "stats": {
          "unique_count": 1,
          "nan_count": 0,
          "min": "1",
          "max": "1",
          "histogram": [
           {
            "bin_start": 0.5,
            "bin_end": 0.6,
            "count": 0
           },
           {
            "bin_start": 0.6,
            "bin_end": 0.7,
            "count": 0
           },
           {
            "bin_start": 0.7,
            "bin_end": 0.8,
            "count": 0
           },
           {
            "bin_start": 0.8,
            "bin_end": 0.9,
            "count": 0
           },
           {
            "bin_start": 0.9,
            "bin_end": 1,
            "count": 0
           },
           {
            "bin_start": 1,
            "bin_end": 1.1,
            "count": 1
           },
           {
            "bin_start": 1.1,
            "bin_end": 1.2000000000000002,
            "count": 0
           },
           {
            "bin_start": 1.2000000000000002,
            "bin_end": 1.3,
            "count": 0
           },
           {
            "bin_start": 1.3,
            "bin_end": 1.4,
            "count": 0
           },
           {
            "bin_start": 1.4,
            "bin_end": 1.5,
            "count": 0
           }
          ]
         }
        },
        {
         "name": "FLAG_EMP_PHONE",
         "dtype": "int64",
         "stats": {
          "unique_count": 1,
          "nan_count": 0,
          "min": "1",
          "max": "1",
          "histogram": [
           {
            "bin_start": 0.5,
            "bin_end": 0.6,
            "count": 0
           },
           {
            "bin_start": 0.6,
            "bin_end": 0.7,
            "count": 0
           },
           {
            "bin_start": 0.7,
            "bin_end": 0.8,
            "count": 0
           },
           {
            "bin_start": 0.8,
            "bin_end": 0.9,
            "count": 0
           },
           {
            "bin_start": 0.9,
            "bin_end": 1,
            "count": 0
           },
           {
            "bin_start": 1,
            "bin_end": 1.1,
            "count": 1
           },
           {
            "bin_start": 1.1,
            "bin_end": 1.2000000000000002,
            "count": 0
           },
           {
            "bin_start": 1.2000000000000002,
            "bin_end": 1.3,
            "count": 0
           },
           {
            "bin_start": 1.3,
            "bin_end": 1.4,
            "count": 0
           },
           {
            "bin_start": 1.4,
            "bin_end": 1.5,
            "count": 0
           }
          ]
         }
        },
        {
         "name": "FLAG_WORK_PHONE",
         "dtype": "int64",
         "stats": {
          "unique_count": 1,
          "nan_count": 0,
          "min": "0",
          "max": "0",
          "histogram": [
           {
            "bin_start": -0.5,
            "bin_end": -0.4,
            "count": 0
           },
           {
            "bin_start": -0.4,
            "bin_end": -0.3,
            "count": 0
           },
           {
            "bin_start": -0.3,
            "bin_end": -0.19999999999999996,
            "count": 0
           },
           {
            "bin_start": -0.19999999999999996,
            "bin_end": -0.09999999999999998,
            "count": 0
           },
           {
            "bin_start": -0.09999999999999998,
            "bin_end": 0,
            "count": 0
           },
           {
            "bin_start": 0,
            "bin_end": 0.10000000000000009,
            "count": 1
           },
           {
            "bin_start": 0.10000000000000009,
            "bin_end": 0.20000000000000007,
            "count": 0
           },
           {
            "bin_start": 0.20000000000000007,
            "bin_end": 0.30000000000000004,
            "count": 0
           },
           {
            "bin_start": 0.30000000000000004,
            "bin_end": 0.4,
            "count": 0
           },
           {
            "bin_start": 0.4,
            "bin_end": 0.5,
            "count": 0
           }
          ]
         }
        },
        {
         "name": "FLAG_CONT_MOBILE",
         "dtype": "int64",
         "stats": {
          "unique_count": 1,
          "nan_count": 0,
          "min": "1",
          "max": "1",
          "histogram": [
           {
            "bin_start": 0.5,
            "bin_end": 0.6,
            "count": 0
           },
           {
            "bin_start": 0.6,
            "bin_end": 0.7,
            "count": 0
           },
           {
            "bin_start": 0.7,
            "bin_end": 0.8,
            "count": 0
           },
           {
            "bin_start": 0.8,
            "bin_end": 0.9,
            "count": 0
           },
           {
            "bin_start": 0.9,
            "bin_end": 1,
            "count": 0
           },
           {
            "bin_start": 1,
            "bin_end": 1.1,
            "count": 1
           },
           {
            "bin_start": 1.1,
            "bin_end": 1.2000000000000002,
            "count": 0
           },
           {
            "bin_start": 1.2000000000000002,
            "bin_end": 1.3,
            "count": 0
           },
           {
            "bin_start": 1.3,
            "bin_end": 1.4,
            "count": 0
           },
           {
            "bin_start": 1.4,
            "bin_end": 1.5,
            "count": 0
           }
          ]
         }
        },
        {
         "name": "FLAG_PHONE",
         "dtype": "int64",
         "stats": {
          "unique_count": 1,
          "nan_count": 0,
          "min": "0",
          "max": "0",
          "histogram": [
           {
            "bin_start": -0.5,
            "bin_end": -0.4,
            "count": 0
           },
           {
            "bin_start": -0.4,
            "bin_end": -0.3,
            "count": 0
           },
           {
            "bin_start": -0.3,
            "bin_end": -0.19999999999999996,
            "count": 0
           },
           {
            "bin_start": -0.19999999999999996,
            "bin_end": -0.09999999999999998,
            "count": 0
           },
           {
            "bin_start": -0.09999999999999998,
            "bin_end": 0,
            "count": 0
           },
           {
            "bin_start": 0,
            "bin_end": 0.10000000000000009,
            "count": 1
           },
           {
            "bin_start": 0.10000000000000009,
            "bin_end": 0.20000000000000007,
            "count": 0
           },
           {
            "bin_start": 0.20000000000000007,
            "bin_end": 0.30000000000000004,
            "count": 0
           },
           {
            "bin_start": 0.30000000000000004,
            "bin_end": 0.4,
            "count": 0
           },
           {
            "bin_start": 0.4,
            "bin_end": 0.5,
            "count": 0
           }
          ]
         }
        },
        {
         "name": "FLAG_EMAIL",
         "dtype": "int64",
         "stats": {
          "unique_count": 1,
          "nan_count": 0,
          "min": "0",
          "max": "0",
          "histogram": [
           {
            "bin_start": -0.5,
            "bin_end": -0.4,
            "count": 0
           },
           {
            "bin_start": -0.4,
            "bin_end": -0.3,
            "count": 0
           },
           {
            "bin_start": -0.3,
            "bin_end": -0.19999999999999996,
            "count": 0
           },
           {
            "bin_start": -0.19999999999999996,
            "bin_end": -0.09999999999999998,
            "count": 0
           },
           {
            "bin_start": -0.09999999999999998,
            "bin_end": 0,
            "count": 0
           },
           {
            "bin_start": 0,
            "bin_end": 0.10000000000000009,
            "count": 1
           },
           {
            "bin_start": 0.10000000000000009,
            "bin_end": 0.20000000000000007,
            "count": 0
           },
           {
            "bin_start": 0.20000000000000007,
            "bin_end": 0.30000000000000004,
            "count": 0
           },
           {
            "bin_start": 0.30000000000000004,
            "bin_end": 0.4,
            "count": 0
           },
           {
            "bin_start": 0.4,
            "bin_end": 0.5,
            "count": 0
           }
          ]
         }
        },
        {
         "name": "OCCUPATION_TYPE",
         "dtype": "object",
         "stats": {
          "unique_count": 1,
          "nan_count": 0,
          "categories": [
           {
            "name": "Private service staff",
            "count": 1
           }
          ]
         }
        },
        {
         "name": "CNT_FAM_MEMBERS",
         "dtype": "float64",
         "stats": {
          "unique_count": 1,
          "nan_count": 0,
          "min": "2.0",
          "max": "2.0",
          "histogram": [
           {
            "bin_start": 1.5,
            "bin_end": 1.6,
            "count": 0
           },
           {
            "bin_start": 1.6,
            "bin_end": 1.7,
            "count": 0
           },
           {
            "bin_start": 1.7,
            "bin_end": 1.8,
            "count": 0
           },
           {
            "bin_start": 1.8,
            "bin_end": 1.9,
            "count": 0
           },
           {
            "bin_start": 1.9,
            "bin_end": 2,
            "count": 0
           },
           {
            "bin_start": 2,
            "bin_end": 2.1,
            "count": 1
           },
           {
            "bin_start": 2.1,
            "bin_end": 2.2,
            "count": 0
           },
           {
            "bin_start": 2.2,
            "bin_end": 2.3,
            "count": 0
           },
           {
            "bin_start": 2.3,
            "bin_end": 2.4,
            "count": 0
           },
           {
            "bin_start": 2.4,
            "bin_end": 2.5,
            "count": 0
           }
          ]
         }
        },
        {
         "name": "REGION_RATING_CLIENT",
         "dtype": "int64",
         "stats": {
          "unique_count": 1,
          "nan_count": 0,
          "min": "2",
          "max": "2",
          "histogram": [
           {
            "bin_start": 1.5,
            "bin_end": 1.6,
            "count": 0
           },
           {
            "bin_start": 1.6,
            "bin_end": 1.7,
            "count": 0
           },
           {
            "bin_start": 1.7,
            "bin_end": 1.8,
            "count": 0
           },
           {
            "bin_start": 1.8,
            "bin_end": 1.9,
            "count": 0
           },
           {
            "bin_start": 1.9,
            "bin_end": 2,
            "count": 0
           },
           {
            "bin_start": 2,
            "bin_end": 2.1,
            "count": 1
           },
           {
            "bin_start": 2.1,
            "bin_end": 2.2,
            "count": 0
           },
           {
            "bin_start": 2.2,
            "bin_end": 2.3,
            "count": 0
           },
           {
            "bin_start": 2.3,
            "bin_end": 2.4,
            "count": 0
           },
           {
            "bin_start": 2.4,
            "bin_end": 2.5,
            "count": 0
           }
          ]
         }
        },
        {
         "name": "REGION_RATING_CLIENT_W_CITY",
         "dtype": "int64",
         "stats": {
          "unique_count": 1,
          "nan_count": 0,
          "min": "2",
          "max": "2",
          "histogram": [
           {
            "bin_start": 1.5,
            "bin_end": 1.6,
            "count": 0
           },
           {
            "bin_start": 1.6,
            "bin_end": 1.7,
            "count": 0
           },
           {
            "bin_start": 1.7,
            "bin_end": 1.8,
            "count": 0
           },
           {
            "bin_start": 1.8,
            "bin_end": 1.9,
            "count": 0
           },
           {
            "bin_start": 1.9,
            "bin_end": 2,
            "count": 0
           },
           {
            "bin_start": 2,
            "bin_end": 2.1,
            "count": 1
           },
           {
            "bin_start": 2.1,
            "bin_end": 2.2,
            "count": 0
           },
           {
            "bin_start": 2.2,
            "bin_end": 2.3,
            "count": 0
           },
           {
            "bin_start": 2.3,
            "bin_end": 2.4,
            "count": 0
           },
           {
            "bin_start": 2.4,
            "bin_end": 2.5,
            "count": 0
           }
          ]
         }
        },
        {
         "name": "REG_REGION_NOT_LIVE_REGION",
         "dtype": "int64",
         "stats": {
          "unique_count": 1,
          "nan_count": 0,
          "min": "0",
          "max": "0",
          "histogram": [
           {
            "bin_start": -0.5,
            "bin_end": -0.4,
            "count": 0
           },
           {
            "bin_start": -0.4,
            "bin_end": -0.3,
            "count": 0
           },
           {
            "bin_start": -0.3,
            "bin_end": -0.19999999999999996,
            "count": 0
           },
           {
            "bin_start": -0.19999999999999996,
            "bin_end": -0.09999999999999998,
            "count": 0
           },
           {
            "bin_start": -0.09999999999999998,
            "bin_end": 0,
            "count": 0
           },
           {
            "bin_start": 0,
            "bin_end": 0.10000000000000009,
            "count": 1
           },
           {
            "bin_start": 0.10000000000000009,
            "bin_end": 0.20000000000000007,
            "count": 0
           },
           {
            "bin_start": 0.20000000000000007,
            "bin_end": 0.30000000000000004,
            "count": 0
           },
           {
            "bin_start": 0.30000000000000004,
            "bin_end": 0.4,
            "count": 0
           },
           {
            "bin_start": 0.4,
            "bin_end": 0.5,
            "count": 0
           }
          ]
         }
        },
        {
         "name": "REG_REGION_NOT_WORK_REGION",
         "dtype": "int64",
         "stats": {
          "unique_count": 1,
          "nan_count": 0,
          "min": "0",
          "max": "0",
          "histogram": [
           {
            "bin_start": -0.5,
            "bin_end": -0.4,
            "count": 0
           },
           {
            "bin_start": -0.4,
            "bin_end": -0.3,
            "count": 0
           },
           {
            "bin_start": -0.3,
            "bin_end": -0.19999999999999996,
            "count": 0
           },
           {
            "bin_start": -0.19999999999999996,
            "bin_end": -0.09999999999999998,
            "count": 0
           },
           {
            "bin_start": -0.09999999999999998,
            "bin_end": 0,
            "count": 0
           },
           {
            "bin_start": 0,
            "bin_end": 0.10000000000000009,
            "count": 1
           },
           {
            "bin_start": 0.10000000000000009,
            "bin_end": 0.20000000000000007,
            "count": 0
           },
           {
            "bin_start": 0.20000000000000007,
            "bin_end": 0.30000000000000004,
            "count": 0
           },
           {
            "bin_start": 0.30000000000000004,
            "bin_end": 0.4,
            "count": 0
           },
           {
            "bin_start": 0.4,
            "bin_end": 0.5,
            "count": 0
           }
          ]
         }
        },
        {
         "name": "LIVE_REGION_NOT_WORK_REGION",
         "dtype": "int64",
         "stats": {
          "unique_count": 1,
          "nan_count": 0,
          "min": "0",
          "max": "0",
          "histogram": [
           {
            "bin_start": -0.5,
            "bin_end": -0.4,
            "count": 0
           },
           {
            "bin_start": -0.4,
            "bin_end": -0.3,
            "count": 0
           },
           {
            "bin_start": -0.3,
            "bin_end": -0.19999999999999996,
            "count": 0
           },
           {
            "bin_start": -0.19999999999999996,
            "bin_end": -0.09999999999999998,
            "count": 0
           },
           {
            "bin_start": -0.09999999999999998,
            "bin_end": 0,
            "count": 0
           },
           {
            "bin_start": 0,
            "bin_end": 0.10000000000000009,
            "count": 1
           },
           {
            "bin_start": 0.10000000000000009,
            "bin_end": 0.20000000000000007,
            "count": 0
           },
           {
            "bin_start": 0.20000000000000007,
            "bin_end": 0.30000000000000004,
            "count": 0
           },
           {
            "bin_start": 0.30000000000000004,
            "bin_end": 0.4,
            "count": 0
           },
           {
            "bin_start": 0.4,
            "bin_end": 0.5,
            "count": 0
           }
          ]
         }
        },
        {
         "name": "REG_CITY_NOT_LIVE_CITY",
         "dtype": "int64",
         "stats": {
          "unique_count": 1,
          "nan_count": 0,
          "min": "0",
          "max": "0",
          "histogram": [
           {
            "bin_start": -0.5,
            "bin_end": -0.4,
            "count": 0
           },
           {
            "bin_start": -0.4,
            "bin_end": -0.3,
            "count": 0
           },
           {
            "bin_start": -0.3,
            "bin_end": -0.19999999999999996,
            "count": 0
           },
           {
            "bin_start": -0.19999999999999996,
            "bin_end": -0.09999999999999998,
            "count": 0
           },
           {
            "bin_start": -0.09999999999999998,
            "bin_end": 0,
            "count": 0
           },
           {
            "bin_start": 0,
            "bin_end": 0.10000000000000009,
            "count": 1
           },
           {
            "bin_start": 0.10000000000000009,
            "bin_end": 0.20000000000000007,
            "count": 0
           },
           {
            "bin_start": 0.20000000000000007,
            "bin_end": 0.30000000000000004,
            "count": 0
           },
           {
            "bin_start": 0.30000000000000004,
            "bin_end": 0.4,
            "count": 0
           },
           {
            "bin_start": 0.4,
            "bin_end": 0.5,
            "count": 0
           }
          ]
         }
        },
        {
         "name": "REG_CITY_NOT_WORK_CITY",
         "dtype": "int64",
         "stats": {
          "unique_count": 1,
          "nan_count": 0,
          "min": "0",
          "max": "0",
          "histogram": [
           {
            "bin_start": -0.5,
            "bin_end": -0.4,
            "count": 0
           },
           {
            "bin_start": -0.4,
            "bin_end": -0.3,
            "count": 0
           },
           {
            "bin_start": -0.3,
            "bin_end": -0.19999999999999996,
            "count": 0
           },
           {
            "bin_start": -0.19999999999999996,
            "bin_end": -0.09999999999999998,
            "count": 0
           },
           {
            "bin_start": -0.09999999999999998,
            "bin_end": 0,
            "count": 0
           },
           {
            "bin_start": 0,
            "bin_end": 0.10000000000000009,
            "count": 1
           },
           {
            "bin_start": 0.10000000000000009,
            "bin_end": 0.20000000000000007,
            "count": 0
           },
           {
            "bin_start": 0.20000000000000007,
            "bin_end": 0.30000000000000004,
            "count": 0
           },
           {
            "bin_start": 0.30000000000000004,
            "bin_end": 0.4,
            "count": 0
           },
           {
            "bin_start": 0.4,
            "bin_end": 0.5,
            "count": 0
           }
          ]
         }
        },
        {
         "name": "LIVE_CITY_NOT_WORK_CITY",
         "dtype": "int64",
         "stats": {
          "unique_count": 1,
          "nan_count": 0,
          "min": "0",
          "max": "0",
          "histogram": [
           {
            "bin_start": -0.5,
            "bin_end": -0.4,
            "count": 0
           },
           {
            "bin_start": -0.4,
            "bin_end": -0.3,
            "count": 0
           },
           {
            "bin_start": -0.3,
            "bin_end": -0.19999999999999996,
            "count": 0
           },
           {
            "bin_start": -0.19999999999999996,
            "bin_end": -0.09999999999999998,
            "count": 0
           },
           {
            "bin_start": -0.09999999999999998,
            "bin_end": 0,
            "count": 0
           },
           {
            "bin_start": 0,
            "bin_end": 0.10000000000000009,
            "count": 1
           },
           {
            "bin_start": 0.10000000000000009,
            "bin_end": 0.20000000000000007,
            "count": 0
           },
           {
            "bin_start": 0.20000000000000007,
            "bin_end": 0.30000000000000004,
            "count": 0
           },
           {
            "bin_start": 0.30000000000000004,
            "bin_end": 0.4,
            "count": 0
           },
           {
            "bin_start": 0.4,
            "bin_end": 0.5,
            "count": 0
           }
          ]
         }
        },
        {
         "name": "ORGANIZATION_TYPE",
         "dtype": "object",
         "stats": {
          "unique_count": 1,
          "nan_count": 0,
          "categories": [
           {
            "name": "Self-employed",
            "count": 1
           }
          ]
         }
        },
        {
         "name": "EXT_SOURCE_1",
         "dtype": "float64",
         "stats": {
          "unique_count": 0,
          "nan_count": 1,
          "min": null,
          "max": null,
          "histogram": [
           {
            "bin_start": 0,
            "bin_end": 0.1,
            "count": 0
           },
           {
            "bin_start": 0.1,
            "bin_end": 0.2,
            "count": 0
           },
           {
            "bin_start": 0.2,
            "bin_end": 0.30000000000000004,
            "count": 0
           },
           {
            "bin_start": 0.30000000000000004,
            "bin_end": 0.4,
            "count": 0
           },
           {
            "bin_start": 0.4,
            "bin_end": 0.5,
            "count": 0
           },
           {
            "bin_start": 0.5,
            "bin_end": 0.6000000000000001,
            "count": 0
           },
           {
            "bin_start": 0.6000000000000001,
            "bin_end": 0.7000000000000001,
            "count": 0
           },
           {
            "bin_start": 0.7000000000000001,
            "bin_end": 0.8,
            "count": 0
           },
           {
            "bin_start": 0.8,
            "bin_end": 0.9,
            "count": 0
           },
           {
            "bin_start": 0.9,
            "bin_end": 1,
            "count": 0
           }
          ]
         }
        },
        {
         "name": "EXT_SOURCE_2",
         "dtype": "float64",
         "stats": {
          "unique_count": 1,
          "nan_count": 0,
          "min": "0.6635243351667375",
          "max": "0.6635243351667375",
          "histogram": [
           {
            "bin_start": 0.16352433516673748,
            "bin_end": 0.26352433516673746,
            "count": 0
           },
           {
            "bin_start": 0.26352433516673746,
            "bin_end": 0.3635243351667375,
            "count": 0
           },
           {
            "bin_start": 0.3635243351667375,
            "bin_end": 0.4635243351667375,
            "count": 0
           },
           {
            "bin_start": 0.4635243351667375,
            "bin_end": 0.5635243351667375,
            "count": 0
           },
           {
            "bin_start": 0.5635243351667375,
            "bin_end": 0.6635243351667375,
            "count": 0
           },
           {
            "bin_start": 0.6635243351667375,
            "bin_end": 0.7635243351667376,
            "count": 1
           },
           {
            "bin_start": 0.7635243351667376,
            "bin_end": 0.8635243351667375,
            "count": 0
           },
           {
            "bin_start": 0.8635243351667375,
            "bin_end": 0.9635243351667375,
            "count": 0
           },
           {
            "bin_start": 0.9635243351667375,
            "bin_end": 1.0635243351667376,
            "count": 0
           },
           {
            "bin_start": 1.0635243351667376,
            "bin_end": 1.1635243351667375,
            "count": 0
           }
          ]
         }
        },
        {
         "name": "EXT_SOURCE_3",
         "dtype": "float64",
         "stats": {
          "unique_count": 0,
          "nan_count": 1,
          "min": null,
          "max": null,
          "histogram": [
           {
            "bin_start": 0,
            "bin_end": 0.1,
            "count": 0
           },
           {
            "bin_start": 0.1,
            "bin_end": 0.2,
            "count": 0
           },
           {
            "bin_start": 0.2,
            "bin_end": 0.30000000000000004,
            "count": 0
           },
           {
            "bin_start": 0.30000000000000004,
            "bin_end": 0.4,
            "count": 0
           },
           {
            "bin_start": 0.4,
            "bin_end": 0.5,
            "count": 0
           },
           {
            "bin_start": 0.5,
            "bin_end": 0.6000000000000001,
            "count": 0
           },
           {
            "bin_start": 0.6000000000000001,
            "bin_end": 0.7000000000000001,
            "count": 0
           },
           {
            "bin_start": 0.7000000000000001,
            "bin_end": 0.8,
            "count": 0
           },
           {
            "bin_start": 0.8,
            "bin_end": 0.9,
            "count": 0
           },
           {
            "bin_start": 0.9,
            "bin_end": 1,
            "count": 0
           }
          ]
         }
        },
        {
         "name": "OBS_30_CNT_SOCIAL_CIRCLE",
         "dtype": "float64",
         "stats": {
          "unique_count": 1,
          "nan_count": 0,
          "min": "0.0",
          "max": "0.0",
          "histogram": [
           {
            "bin_start": -0.5,
            "bin_end": -0.4,
            "count": 0
           },
           {
            "bin_start": -0.4,
            "bin_end": -0.3,
            "count": 0
           },
           {
            "bin_start": -0.3,
            "bin_end": -0.19999999999999996,
            "count": 0
           },
           {
            "bin_start": -0.19999999999999996,
            "bin_end": -0.09999999999999998,
            "count": 0
           },
           {
            "bin_start": -0.09999999999999998,
            "bin_end": 0,
            "count": 0
           },
           {
            "bin_start": 0,
            "bin_end": 0.10000000000000009,
            "count": 1
           },
           {
            "bin_start": 0.10000000000000009,
            "bin_end": 0.20000000000000007,
            "count": 0
           },
           {
            "bin_start": 0.20000000000000007,
            "bin_end": 0.30000000000000004,
            "count": 0
           },
           {
            "bin_start": 0.30000000000000004,
            "bin_end": 0.4,
            "count": 0
           },
           {
            "bin_start": 0.4,
            "bin_end": 0.5,
            "count": 0
           }
          ]
         }
        },
        {
         "name": "DEF_30_CNT_SOCIAL_CIRCLE",
         "dtype": "float64",
         "stats": {
          "unique_count": 1,
          "nan_count": 0,
          "min": "0.0",
          "max": "0.0",
          "histogram": [
           {
            "bin_start": -0.5,
            "bin_end": -0.4,
            "count": 0
           },
           {
            "bin_start": -0.4,
            "bin_end": -0.3,
            "count": 0
           },
           {
            "bin_start": -0.3,
            "bin_end": -0.19999999999999996,
            "count": 0
           },
           {
            "bin_start": -0.19999999999999996,
            "bin_end": -0.09999999999999998,
            "count": 0
           },
           {
            "bin_start": -0.09999999999999998,
            "bin_end": 0,
            "count": 0
           },
           {
            "bin_start": 0,
            "bin_end": 0.10000000000000009,
            "count": 1
           },
           {
            "bin_start": 0.10000000000000009,
            "bin_end": 0.20000000000000007,
            "count": 0
           },
           {
            "bin_start": 0.20000000000000007,
            "bin_end": 0.30000000000000004,
            "count": 0
           },
           {
            "bin_start": 0.30000000000000004,
            "bin_end": 0.4,
            "count": 0
           },
           {
            "bin_start": 0.4,
            "bin_end": 0.5,
            "count": 0
           }
          ]
         }
        },
        {
         "name": "OBS_60_CNT_SOCIAL_CIRCLE",
         "dtype": "float64",
         "stats": {
          "unique_count": 1,
          "nan_count": 0,
          "min": "0.0",
          "max": "0.0",
          "histogram": [
           {
            "bin_start": -0.5,
            "bin_end": -0.4,
            "count": 0
           },
           {
            "bin_start": -0.4,
            "bin_end": -0.3,
            "count": 0
           },
           {
            "bin_start": -0.3,
            "bin_end": -0.19999999999999996,
            "count": 0
           },
           {
            "bin_start": -0.19999999999999996,
            "bin_end": -0.09999999999999998,
            "count": 0
           },
           {
            "bin_start": -0.09999999999999998,
            "bin_end": 0,
            "count": 0
           },
           {
            "bin_start": 0,
            "bin_end": 0.10000000000000009,
            "count": 1
           },
           {
            "bin_start": 0.10000000000000009,
            "bin_end": 0.20000000000000007,
            "count": 0
           },
           {
            "bin_start": 0.20000000000000007,
            "bin_end": 0.30000000000000004,
            "count": 0
           },
           {
            "bin_start": 0.30000000000000004,
            "bin_end": 0.4,
            "count": 0
           },
           {
            "bin_start": 0.4,
            "bin_end": 0.5,
            "count": 0
           }
          ]
         }
        },
        {
         "name": "DEF_60_CNT_SOCIAL_CIRCLE",
         "dtype": "float64",
         "stats": {
          "unique_count": 1,
          "nan_count": 0,
          "min": "0.0",
          "max": "0.0",
          "histogram": [
           {
            "bin_start": -0.5,
            "bin_end": -0.4,
            "count": 0
           },
           {
            "bin_start": -0.4,
            "bin_end": -0.3,
            "count": 0
           },
           {
            "bin_start": -0.3,
            "bin_end": -0.19999999999999996,
            "count": 0
           },
           {
            "bin_start": -0.19999999999999996,
            "bin_end": -0.09999999999999998,
            "count": 0
           },
           {
            "bin_start": -0.09999999999999998,
            "bin_end": 0,
            "count": 0
           },
           {
            "bin_start": 0,
            "bin_end": 0.10000000000000009,
            "count": 1
           },
           {
            "bin_start": 0.10000000000000009,
            "bin_end": 0.20000000000000007,
            "count": 0
           },
           {
            "bin_start": 0.20000000000000007,
            "bin_end": 0.30000000000000004,
            "count": 0
           },
           {
            "bin_start": 0.30000000000000004,
            "bin_end": 0.4,
            "count": 0
           },
           {
            "bin_start": 0.4,
            "bin_end": 0.5,
            "count": 0
           }
          ]
         }
        },
        {
         "name": "DAYS_LAST_PHONE_CHANGE",
         "dtype": "float64",
         "stats": {
          "unique_count": 1,
          "nan_count": 0,
          "min": "-517.0",
          "max": "-517.0",
          "histogram": [
           {
            "bin_start": -517.5,
            "bin_end": -517.4,
            "count": 0
           },
           {
            "bin_start": -517.4,
            "bin_end": -517.3,
            "count": 0
           },
           {
            "bin_start": -517.3,
            "bin_end": -517.2,
            "count": 0
           },
           {
            "bin_start": -517.2,
            "bin_end": -517.1,
            "count": 0
           },
           {
            "bin_start": -517.1,
            "bin_end": -517,
            "count": 0
           },
           {
            "bin_start": -517,
            "bin_end": -516.9,
            "count": 1
           },
           {
            "bin_start": -516.9,
            "bin_end": -516.8,
            "count": 0
           },
           {
            "bin_start": -516.8,
            "bin_end": -516.7,
            "count": 0
           },
           {
            "bin_start": -516.7,
            "bin_end": -516.6,
            "count": 0
           },
           {
            "bin_start": -516.6,
            "bin_end": -516.5,
            "count": 0
           }
          ]
         }
        },
        {
         "name": "FLAG_DOCUMENT_2",
         "dtype": "int64",
         "stats": {
          "unique_count": 1,
          "nan_count": 0,
          "min": "0",
          "max": "0",
          "histogram": [
           {
            "bin_start": -0.5,
            "bin_end": -0.4,
            "count": 0
           },
           {
            "bin_start": -0.4,
            "bin_end": -0.3,
            "count": 0
           },
           {
            "bin_start": -0.3,
            "bin_end": -0.19999999999999996,
            "count": 0
           },
           {
            "bin_start": -0.19999999999999996,
            "bin_end": -0.09999999999999998,
            "count": 0
           },
           {
            "bin_start": -0.09999999999999998,
            "bin_end": 0,
            "count": 0
           },
           {
            "bin_start": 0,
            "bin_end": 0.10000000000000009,
            "count": 1
           },
           {
            "bin_start": 0.10000000000000009,
            "bin_end": 0.20000000000000007,
            "count": 0
           },
           {
            "bin_start": 0.20000000000000007,
            "bin_end": 0.30000000000000004,
            "count": 0
           },
           {
            "bin_start": 0.30000000000000004,
            "bin_end": 0.4,
            "count": 0
           },
           {
            "bin_start": 0.4,
            "bin_end": 0.5,
            "count": 0
           }
          ]
         }
        },
        {
         "name": "FLAG_DOCUMENT_3",
         "dtype": "int64",
         "stats": {
          "unique_count": 1,
          "nan_count": 0,
          "min": "0",
          "max": "0",
          "histogram": [
           {
            "bin_start": -0.5,
            "bin_end": -0.4,
            "count": 0
           },
           {
            "bin_start": -0.4,
            "bin_end": -0.3,
            "count": 0
           },
           {
            "bin_start": -0.3,
            "bin_end": -0.19999999999999996,
            "count": 0
           },
           {
            "bin_start": -0.19999999999999996,
            "bin_end": -0.09999999999999998,
            "count": 0
           },
           {
            "bin_start": -0.09999999999999998,
            "bin_end": 0,
            "count": 0
           },
           {
            "bin_start": 0,
            "bin_end": 0.10000000000000009,
            "count": 1
           },
           {
            "bin_start": 0.10000000000000009,
            "bin_end": 0.20000000000000007,
            "count": 0
           },
           {
            "bin_start": 0.20000000000000007,
            "bin_end": 0.30000000000000004,
            "count": 0
           },
           {
            "bin_start": 0.30000000000000004,
            "bin_end": 0.4,
            "count": 0
           },
           {
            "bin_start": 0.4,
            "bin_end": 0.5,
            "count": 0
           }
          ]
         }
        },
        {
         "name": "FLAG_DOCUMENT_4",
         "dtype": "int64",
         "stats": {
          "unique_count": 1,
          "nan_count": 0,
          "min": "0",
          "max": "0",
          "histogram": [
           {
            "bin_start": -0.5,
            "bin_end": -0.4,
            "count": 0
           },
           {
            "bin_start": -0.4,
            "bin_end": -0.3,
            "count": 0
           },
           {
            "bin_start": -0.3,
            "bin_end": -0.19999999999999996,
            "count": 0
           },
           {
            "bin_start": -0.19999999999999996,
            "bin_end": -0.09999999999999998,
            "count": 0
           },
           {
            "bin_start": -0.09999999999999998,
            "bin_end": 0,
            "count": 0
           },
           {
            "bin_start": 0,
            "bin_end": 0.10000000000000009,
            "count": 1
           },
           {
            "bin_start": 0.10000000000000009,
            "bin_end": 0.20000000000000007,
            "count": 0
           },
           {
            "bin_start": 0.20000000000000007,
            "bin_end": 0.30000000000000004,
            "count": 0
           },
           {
            "bin_start": 0.30000000000000004,
            "bin_end": 0.4,
            "count": 0
           },
           {
            "bin_start": 0.4,
            "bin_end": 0.5,
            "count": 0
           }
          ]
         }
        },
        {
         "name": "FLAG_DOCUMENT_5",
         "dtype": "int64",
         "stats": {
          "unique_count": 1,
          "nan_count": 0,
          "min": "0",
          "max": "0",
          "histogram": [
           {
            "bin_start": -0.5,
            "bin_end": -0.4,
            "count": 0
           },
           {
            "bin_start": -0.4,
            "bin_end": -0.3,
            "count": 0
           },
           {
            "bin_start": -0.3,
            "bin_end": -0.19999999999999996,
            "count": 0
           },
           {
            "bin_start": -0.19999999999999996,
            "bin_end": -0.09999999999999998,
            "count": 0
           },
           {
            "bin_start": -0.09999999999999998,
            "bin_end": 0,
            "count": 0
           },
           {
            "bin_start": 0,
            "bin_end": 0.10000000000000009,
            "count": 1
           },
           {
            "bin_start": 0.10000000000000009,
            "bin_end": 0.20000000000000007,
            "count": 0
           },
           {
            "bin_start": 0.20000000000000007,
            "bin_end": 0.30000000000000004,
            "count": 0
           },
           {
            "bin_start": 0.30000000000000004,
            "bin_end": 0.4,
            "count": 0
           },
           {
            "bin_start": 0.4,
            "bin_end": 0.5,
            "count": 0
           }
          ]
         }
        },
        {
         "name": "FLAG_DOCUMENT_6",
         "dtype": "int64",
         "stats": {
          "unique_count": 1,
          "nan_count": 0,
          "min": "0",
          "max": "0",
          "histogram": [
           {
            "bin_start": -0.5,
            "bin_end": -0.4,
            "count": 0
           },
           {
            "bin_start": -0.4,
            "bin_end": -0.3,
            "count": 0
           },
           {
            "bin_start": -0.3,
            "bin_end": -0.19999999999999996,
            "count": 0
           },
           {
            "bin_start": -0.19999999999999996,
            "bin_end": -0.09999999999999998,
            "count": 0
           },
           {
            "bin_start": -0.09999999999999998,
            "bin_end": 0,
            "count": 0
           },
           {
            "bin_start": 0,
            "bin_end": 0.10000000000000009,
            "count": 1
           },
           {
            "bin_start": 0.10000000000000009,
            "bin_end": 0.20000000000000007,
            "count": 0
           },
           {
            "bin_start": 0.20000000000000007,
            "bin_end": 0.30000000000000004,
            "count": 0
           },
           {
            "bin_start": 0.30000000000000004,
            "bin_end": 0.4,
            "count": 0
           },
           {
            "bin_start": 0.4,
            "bin_end": 0.5,
            "count": 0
           }
          ]
         }
        },
        {
         "name": "FLAG_DOCUMENT_7",
         "dtype": "int64",
         "stats": {
          "unique_count": 1,
          "nan_count": 0,
          "min": "0",
          "max": "0",
          "histogram": [
           {
            "bin_start": -0.5,
            "bin_end": -0.4,
            "count": 0
           },
           {
            "bin_start": -0.4,
            "bin_end": -0.3,
            "count": 0
           },
           {
            "bin_start": -0.3,
            "bin_end": -0.19999999999999996,
            "count": 0
           },
           {
            "bin_start": -0.19999999999999996,
            "bin_end": -0.09999999999999998,
            "count": 0
           },
           {
            "bin_start": -0.09999999999999998,
            "bin_end": 0,
            "count": 0
           },
           {
            "bin_start": 0,
            "bin_end": 0.10000000000000009,
            "count": 1
           },
           {
            "bin_start": 0.10000000000000009,
            "bin_end": 0.20000000000000007,
            "count": 0
           },
           {
            "bin_start": 0.20000000000000007,
            "bin_end": 0.30000000000000004,
            "count": 0
           },
           {
            "bin_start": 0.30000000000000004,
            "bin_end": 0.4,
            "count": 0
           },
           {
            "bin_start": 0.4,
            "bin_end": 0.5,
            "count": 0
           }
          ]
         }
        },
        {
         "name": "FLAG_DOCUMENT_8",
         "dtype": "int64",
         "stats": {
          "unique_count": 1,
          "nan_count": 0,
          "min": "0",
          "max": "0",
          "histogram": [
           {
            "bin_start": -0.5,
            "bin_end": -0.4,
            "count": 0
           },
           {
            "bin_start": -0.4,
            "bin_end": -0.3,
            "count": 0
           },
           {
            "bin_start": -0.3,
            "bin_end": -0.19999999999999996,
            "count": 0
           },
           {
            "bin_start": -0.19999999999999996,
            "bin_end": -0.09999999999999998,
            "count": 0
           },
           {
            "bin_start": -0.09999999999999998,
            "bin_end": 0,
            "count": 0
           },
           {
            "bin_start": 0,
            "bin_end": 0.10000000000000009,
            "count": 1
           },
           {
            "bin_start": 0.10000000000000009,
            "bin_end": 0.20000000000000007,
            "count": 0
           },
           {
            "bin_start": 0.20000000000000007,
            "bin_end": 0.30000000000000004,
            "count": 0
           },
           {
            "bin_start": 0.30000000000000004,
            "bin_end": 0.4,
            "count": 0
           },
           {
            "bin_start": 0.4,
            "bin_end": 0.5,
            "count": 0
           }
          ]
         }
        },
        {
         "name": "FLAG_DOCUMENT_9",
         "dtype": "int64",
         "stats": {
          "unique_count": 1,
          "nan_count": 0,
          "min": "0",
          "max": "0",
          "histogram": [
           {
            "bin_start": -0.5,
            "bin_end": -0.4,
            "count": 0
           },
           {
            "bin_start": -0.4,
            "bin_end": -0.3,
            "count": 0
           },
           {
            "bin_start": -0.3,
            "bin_end": -0.19999999999999996,
            "count": 0
           },
           {
            "bin_start": -0.19999999999999996,
            "bin_end": -0.09999999999999998,
            "count": 0
           },
           {
            "bin_start": -0.09999999999999998,
            "bin_end": 0,
            "count": 0
           },
           {
            "bin_start": 0,
            "bin_end": 0.10000000000000009,
            "count": 1
           },
           {
            "bin_start": 0.10000000000000009,
            "bin_end": 0.20000000000000007,
            "count": 0
           },
           {
            "bin_start": 0.20000000000000007,
            "bin_end": 0.30000000000000004,
            "count": 0
           },
           {
            "bin_start": 0.30000000000000004,
            "bin_end": 0.4,
            "count": 0
           },
           {
            "bin_start": 0.4,
            "bin_end": 0.5,
            "count": 0
           }
          ]
         }
        },
        {
         "name": "FLAG_DOCUMENT_10",
         "dtype": "int64",
         "stats": {
          "unique_count": 1,
          "nan_count": 0,
          "min": "0",
          "max": "0",
          "histogram": [
           {
            "bin_start": -0.5,
            "bin_end": -0.4,
            "count": 0
           },
           {
            "bin_start": -0.4,
            "bin_end": -0.3,
            "count": 0
           },
           {
            "bin_start": -0.3,
            "bin_end": -0.19999999999999996,
            "count": 0
           },
           {
            "bin_start": -0.19999999999999996,
            "bin_end": -0.09999999999999998,
            "count": 0
           },
           {
            "bin_start": -0.09999999999999998,
            "bin_end": 0,
            "count": 0
           },
           {
            "bin_start": 0,
            "bin_end": 0.10000000000000009,
            "count": 1
           },
           {
            "bin_start": 0.10000000000000009,
            "bin_end": 0.20000000000000007,
            "count": 0
           },
           {
            "bin_start": 0.20000000000000007,
            "bin_end": 0.30000000000000004,
            "count": 0
           },
           {
            "bin_start": 0.30000000000000004,
            "bin_end": 0.4,
            "count": 0
           },
           {
            "bin_start": 0.4,
            "bin_end": 0.5,
            "count": 0
           }
          ]
         }
        },
        {
         "name": "FLAG_DOCUMENT_11",
         "dtype": "int64",
         "stats": {
          "unique_count": 1,
          "nan_count": 0,
          "min": "0",
          "max": "0",
          "histogram": [
           {
            "bin_start": -0.5,
            "bin_end": -0.4,
            "count": 0
           },
           {
            "bin_start": -0.4,
            "bin_end": -0.3,
            "count": 0
           },
           {
            "bin_start": -0.3,
            "bin_end": -0.19999999999999996,
            "count": 0
           },
           {
            "bin_start": -0.19999999999999996,
            "bin_end": -0.09999999999999998,
            "count": 0
           },
           {
            "bin_start": -0.09999999999999998,
            "bin_end": 0,
            "count": 0
           },
           {
            "bin_start": 0,
            "bin_end": 0.10000000000000009,
            "count": 1
           },
           {
            "bin_start": 0.10000000000000009,
            "bin_end": 0.20000000000000007,
            "count": 0
           },
           {
            "bin_start": 0.20000000000000007,
            "bin_end": 0.30000000000000004,
            "count": 0
           },
           {
            "bin_start": 0.30000000000000004,
            "bin_end": 0.4,
            "count": 0
           },
           {
            "bin_start": 0.4,
            "bin_end": 0.5,
            "count": 0
           }
          ]
         }
        },
        {
         "name": "FLAG_DOCUMENT_12",
         "dtype": "int64",
         "stats": {
          "unique_count": 1,
          "nan_count": 0,
          "min": "0",
          "max": "0",
          "histogram": [
           {
            "bin_start": -0.5,
            "bin_end": -0.4,
            "count": 0
           },
           {
            "bin_start": -0.4,
            "bin_end": -0.3,
            "count": 0
           },
           {
            "bin_start": -0.3,
            "bin_end": -0.19999999999999996,
            "count": 0
           },
           {
            "bin_start": -0.19999999999999996,
            "bin_end": -0.09999999999999998,
            "count": 0
           },
           {
            "bin_start": -0.09999999999999998,
            "bin_end": 0,
            "count": 0
           },
           {
            "bin_start": 0,
            "bin_end": 0.10000000000000009,
            "count": 1
           },
           {
            "bin_start": 0.10000000000000009,
            "bin_end": 0.20000000000000007,
            "count": 0
           },
           {
            "bin_start": 0.20000000000000007,
            "bin_end": 0.30000000000000004,
            "count": 0
           },
           {
            "bin_start": 0.30000000000000004,
            "bin_end": 0.4,
            "count": 0
           },
           {
            "bin_start": 0.4,
            "bin_end": 0.5,
            "count": 0
           }
          ]
         }
        },
        {
         "name": "FLAG_DOCUMENT_13",
         "dtype": "int64",
         "stats": {
          "unique_count": 1,
          "nan_count": 0,
          "min": "0",
          "max": "0",
          "histogram": [
           {
            "bin_start": -0.5,
            "bin_end": -0.4,
            "count": 0
           },
           {
            "bin_start": -0.4,
            "bin_end": -0.3,
            "count": 0
           },
           {
            "bin_start": -0.3,
            "bin_end": -0.19999999999999996,
            "count": 0
           },
           {
            "bin_start": -0.19999999999999996,
            "bin_end": -0.09999999999999998,
            "count": 0
           },
           {
            "bin_start": -0.09999999999999998,
            "bin_end": 0,
            "count": 0
           },
           {
            "bin_start": 0,
            "bin_end": 0.10000000000000009,
            "count": 1
           },
           {
            "bin_start": 0.10000000000000009,
            "bin_end": 0.20000000000000007,
            "count": 0
           },
           {
            "bin_start": 0.20000000000000007,
            "bin_end": 0.30000000000000004,
            "count": 0
           },
           {
            "bin_start": 0.30000000000000004,
            "bin_end": 0.4,
            "count": 0
           },
           {
            "bin_start": 0.4,
            "bin_end": 0.5,
            "count": 0
           }
          ]
         }
        },
        {
         "name": "FLAG_DOCUMENT_14",
         "dtype": "int64",
         "stats": {
          "unique_count": 1,
          "nan_count": 0,
          "min": "0",
          "max": "0",
          "histogram": [
           {
            "bin_start": -0.5,
            "bin_end": -0.4,
            "count": 0
           },
           {
            "bin_start": -0.4,
            "bin_end": -0.3,
            "count": 0
           },
           {
            "bin_start": -0.3,
            "bin_end": -0.19999999999999996,
            "count": 0
           },
           {
            "bin_start": -0.19999999999999996,
            "bin_end": -0.09999999999999998,
            "count": 0
           },
           {
            "bin_start": -0.09999999999999998,
            "bin_end": 0,
            "count": 0
           },
           {
            "bin_start": 0,
            "bin_end": 0.10000000000000009,
            "count": 1
           },
           {
            "bin_start": 0.10000000000000009,
            "bin_end": 0.20000000000000007,
            "count": 0
           },
           {
            "bin_start": 0.20000000000000007,
            "bin_end": 0.30000000000000004,
            "count": 0
           },
           {
            "bin_start": 0.30000000000000004,
            "bin_end": 0.4,
            "count": 0
           },
           {
            "bin_start": 0.4,
            "bin_end": 0.5,
            "count": 0
           }
          ]
         }
        },
        {
         "name": "FLAG_DOCUMENT_15",
         "dtype": "int64",
         "stats": {
          "unique_count": 1,
          "nan_count": 0,
          "min": "0",
          "max": "0",
          "histogram": [
           {
            "bin_start": -0.5,
            "bin_end": -0.4,
            "count": 0
           },
           {
            "bin_start": -0.4,
            "bin_end": -0.3,
            "count": 0
           },
           {
            "bin_start": -0.3,
            "bin_end": -0.19999999999999996,
            "count": 0
           },
           {
            "bin_start": -0.19999999999999996,
            "bin_end": -0.09999999999999998,
            "count": 0
           },
           {
            "bin_start": -0.09999999999999998,
            "bin_end": 0,
            "count": 0
           },
           {
            "bin_start": 0,
            "bin_end": 0.10000000000000009,
            "count": 1
           },
           {
            "bin_start": 0.10000000000000009,
            "bin_end": 0.20000000000000007,
            "count": 0
           },
           {
            "bin_start": 0.20000000000000007,
            "bin_end": 0.30000000000000004,
            "count": 0
           },
           {
            "bin_start": 0.30000000000000004,
            "bin_end": 0.4,
            "count": 0
           },
           {
            "bin_start": 0.4,
            "bin_end": 0.5,
            "count": 0
           }
          ]
         }
        },
        {
         "name": "FLAG_DOCUMENT_16",
         "dtype": "int64",
         "stats": {
          "unique_count": 1,
          "nan_count": 0,
          "min": "0",
          "max": "0",
          "histogram": [
           {
            "bin_start": -0.5,
            "bin_end": -0.4,
            "count": 0
           },
           {
            "bin_start": -0.4,
            "bin_end": -0.3,
            "count": 0
           },
           {
            "bin_start": -0.3,
            "bin_end": -0.19999999999999996,
            "count": 0
           },
           {
            "bin_start": -0.19999999999999996,
            "bin_end": -0.09999999999999998,
            "count": 0
           },
           {
            "bin_start": -0.09999999999999998,
            "bin_end": 0,
            "count": 0
           },
           {
            "bin_start": 0,
            "bin_end": 0.10000000000000009,
            "count": 1
           },
           {
            "bin_start": 0.10000000000000009,
            "bin_end": 0.20000000000000007,
            "count": 0
           },
           {
            "bin_start": 0.20000000000000007,
            "bin_end": 0.30000000000000004,
            "count": 0
           },
           {
            "bin_start": 0.30000000000000004,
            "bin_end": 0.4,
            "count": 0
           },
           {
            "bin_start": 0.4,
            "bin_end": 0.5,
            "count": 0
           }
          ]
         }
        },
        {
         "name": "FLAG_DOCUMENT_17",
         "dtype": "int64",
         "stats": {
          "unique_count": 1,
          "nan_count": 0,
          "min": "0",
          "max": "0",
          "histogram": [
           {
            "bin_start": -0.5,
            "bin_end": -0.4,
            "count": 0
           },
           {
            "bin_start": -0.4,
            "bin_end": -0.3,
            "count": 0
           },
           {
            "bin_start": -0.3,
            "bin_end": -0.19999999999999996,
            "count": 0
           },
           {
            "bin_start": -0.19999999999999996,
            "bin_end": -0.09999999999999998,
            "count": 0
           },
           {
            "bin_start": -0.09999999999999998,
            "bin_end": 0,
            "count": 0
           },
           {
            "bin_start": 0,
            "bin_end": 0.10000000000000009,
            "count": 1
           },
           {
            "bin_start": 0.10000000000000009,
            "bin_end": 0.20000000000000007,
            "count": 0
           },
           {
            "bin_start": 0.20000000000000007,
            "bin_end": 0.30000000000000004,
            "count": 0
           },
           {
            "bin_start": 0.30000000000000004,
            "bin_end": 0.4,
            "count": 0
           },
           {
            "bin_start": 0.4,
            "bin_end": 0.5,
            "count": 0
           }
          ]
         }
        },
        {
         "name": "FLAG_DOCUMENT_18",
         "dtype": "int64",
         "stats": {
          "unique_count": 1,
          "nan_count": 0,
          "min": "0",
          "max": "0",
          "histogram": [
           {
            "bin_start": -0.5,
            "bin_end": -0.4,
            "count": 0
           },
           {
            "bin_start": -0.4,
            "bin_end": -0.3,
            "count": 0
           },
           {
            "bin_start": -0.3,
            "bin_end": -0.19999999999999996,
            "count": 0
           },
           {
            "bin_start": -0.19999999999999996,
            "bin_end": -0.09999999999999998,
            "count": 0
           },
           {
            "bin_start": -0.09999999999999998,
            "bin_end": 0,
            "count": 0
           },
           {
            "bin_start": 0,
            "bin_end": 0.10000000000000009,
            "count": 1
           },
           {
            "bin_start": 0.10000000000000009,
            "bin_end": 0.20000000000000007,
            "count": 0
           },
           {
            "bin_start": 0.20000000000000007,
            "bin_end": 0.30000000000000004,
            "count": 0
           },
           {
            "bin_start": 0.30000000000000004,
            "bin_end": 0.4,
            "count": 0
           },
           {
            "bin_start": 0.4,
            "bin_end": 0.5,
            "count": 0
           }
          ]
         }
        },
        {
         "name": "FLAG_DOCUMENT_19",
         "dtype": "int64",
         "stats": {
          "unique_count": 1,
          "nan_count": 0,
          "min": "0",
          "max": "0",
          "histogram": [
           {
            "bin_start": -0.5,
            "bin_end": -0.4,
            "count": 0
           },
           {
            "bin_start": -0.4,
            "bin_end": -0.3,
            "count": 0
           },
           {
            "bin_start": -0.3,
            "bin_end": -0.19999999999999996,
            "count": 0
           },
           {
            "bin_start": -0.19999999999999996,
            "bin_end": -0.09999999999999998,
            "count": 0
           },
           {
            "bin_start": -0.09999999999999998,
            "bin_end": 0,
            "count": 0
           },
           {
            "bin_start": 0,
            "bin_end": 0.10000000000000009,
            "count": 1
           },
           {
            "bin_start": 0.10000000000000009,
            "bin_end": 0.20000000000000007,
            "count": 0
           },
           {
            "bin_start": 0.20000000000000007,
            "bin_end": 0.30000000000000004,
            "count": 0
           },
           {
            "bin_start": 0.30000000000000004,
            "bin_end": 0.4,
            "count": 0
           },
           {
            "bin_start": 0.4,
            "bin_end": 0.5,
            "count": 0
           }
          ]
         }
        },
        {
         "name": "FLAG_DOCUMENT_20",
         "dtype": "int64",
         "stats": {
          "unique_count": 1,
          "nan_count": 0,
          "min": "0",
          "max": "0",
          "histogram": [
           {
            "bin_start": -0.5,
            "bin_end": -0.4,
            "count": 0
           },
           {
            "bin_start": -0.4,
            "bin_end": -0.3,
            "count": 0
           },
           {
            "bin_start": -0.3,
            "bin_end": -0.19999999999999996,
            "count": 0
           },
           {
            "bin_start": -0.19999999999999996,
            "bin_end": -0.09999999999999998,
            "count": 0
           },
           {
            "bin_start": -0.09999999999999998,
            "bin_end": 0,
            "count": 0
           },
           {
            "bin_start": 0,
            "bin_end": 0.10000000000000009,
            "count": 1
           },
           {
            "bin_start": 0.10000000000000009,
            "bin_end": 0.20000000000000007,
            "count": 0
           },
           {
            "bin_start": 0.20000000000000007,
            "bin_end": 0.30000000000000004,
            "count": 0
           },
           {
            "bin_start": 0.30000000000000004,
            "bin_end": 0.4,
            "count": 0
           },
           {
            "bin_start": 0.4,
            "bin_end": 0.5,
            "count": 0
           }
          ]
         }
        },
        {
         "name": "FLAG_DOCUMENT_21",
         "dtype": "int64",
         "stats": {
          "unique_count": 1,
          "nan_count": 0,
          "min": "0",
          "max": "0",
          "histogram": [
           {
            "bin_start": -0.5,
            "bin_end": -0.4,
            "count": 0
           },
           {
            "bin_start": -0.4,
            "bin_end": -0.3,
            "count": 0
           },
           {
            "bin_start": -0.3,
            "bin_end": -0.19999999999999996,
            "count": 0
           },
           {
            "bin_start": -0.19999999999999996,
            "bin_end": -0.09999999999999998,
            "count": 0
           },
           {
            "bin_start": -0.09999999999999998,
            "bin_end": 0,
            "count": 0
           },
           {
            "bin_start": 0,
            "bin_end": 0.10000000000000009,
            "count": 1
           },
           {
            "bin_start": 0.10000000000000009,
            "bin_end": 0.20000000000000007,
            "count": 0
           },
           {
            "bin_start": 0.20000000000000007,
            "bin_end": 0.30000000000000004,
            "count": 0
           },
           {
            "bin_start": 0.30000000000000004,
            "bin_end": 0.4,
            "count": 0
           },
           {
            "bin_start": 0.4,
            "bin_end": 0.5,
            "count": 0
           }
          ]
         }
        },
        {
         "name": "_deepnote_index_column",
         "dtype": "int64"
        }
       ],
       "rows_top": [
        {
         "SK_ID_CURR": 108129,
         "TARGET": 0,
         "NAME_CONTRACT_TYPE": "Revolving loans",
         "CODE_GENDER": "F",
         "FLAG_OWN_CAR": "N",
         "FLAG_OWN_REALTY": "N",
         "CNT_CHILDREN": 0,
         "AMT_INCOME_TOTAL": 90000,
         "AMT_CREDIT": 135000,
         "AMT_ANNUITY": 6750,
         "AMT_GOODS_PRICE": 135000,
         "NAME_INCOME_TYPE": "Commercial associate",
         "NAME_EDUCATION_TYPE": "Secondary / secondary special",
         "NAME_FAMILY_STATUS": "Civil marriage",
         "NAME_HOUSING_TYPE": "House / apartment",
         "REGION_POPULATION_RELATIVE": 0.025164,
         "DAYS_BIRTH": -21335,
         "DAYS_EMPLOYED": -1255,
         "DAYS_REGISTRATION": -5455,
         "DAYS_ID_PUBLISH": -4263,
         "OWN_CAR_AGE": "nan",
         "FLAG_MOBIL": 1,
         "FLAG_EMP_PHONE": 1,
         "FLAG_WORK_PHONE": 0,
         "FLAG_CONT_MOBILE": 1,
         "FLAG_PHONE": 0,
         "FLAG_EMAIL": 0,
         "OCCUPATION_TYPE": "Private service staff",
         "CNT_FAM_MEMBERS": 2,
         "REGION_RATING_CLIENT": 2,
         "REGION_RATING_CLIENT_W_CITY": 2,
         "REG_REGION_NOT_LIVE_REGION": 0,
         "REG_REGION_NOT_WORK_REGION": 0,
         "LIVE_REGION_NOT_WORK_REGION": 0,
         "REG_CITY_NOT_LIVE_CITY": 0,
         "REG_CITY_NOT_WORK_CITY": 0,
         "LIVE_CITY_NOT_WORK_CITY": 0,
         "ORGANIZATION_TYPE": "Self-employed",
         "EXT_SOURCE_1": "nan",
         "EXT_SOURCE_2": 0.6635243351667375,
         "EXT_SOURCE_3": "nan",
         "OBS_30_CNT_SOCIAL_CIRCLE": 0,
         "DEF_30_CNT_SOCIAL_CIRCLE": 0,
         "OBS_60_CNT_SOCIAL_CIRCLE": 0,
         "DEF_60_CNT_SOCIAL_CIRCLE": 0,
         "DAYS_LAST_PHONE_CHANGE": -517,
         "FLAG_DOCUMENT_2": 0,
         "FLAG_DOCUMENT_3": 0,
         "FLAG_DOCUMENT_4": 0,
         "FLAG_DOCUMENT_5": 0,
         "FLAG_DOCUMENT_6": 0,
         "FLAG_DOCUMENT_7": 0,
         "FLAG_DOCUMENT_8": 0,
         "FLAG_DOCUMENT_9": 0,
         "FLAG_DOCUMENT_10": 0,
         "FLAG_DOCUMENT_11": 0,
         "FLAG_DOCUMENT_12": 0,
         "FLAG_DOCUMENT_13": 0,
         "FLAG_DOCUMENT_14": 0,
         "FLAG_DOCUMENT_15": 0,
         "FLAG_DOCUMENT_16": 0,
         "FLAG_DOCUMENT_17": 0,
         "FLAG_DOCUMENT_18": 0,
         "FLAG_DOCUMENT_19": 0,
         "FLAG_DOCUMENT_20": 0,
         "FLAG_DOCUMENT_21": 0,
         "_deepnote_index_column": 6979
        }
       ],
       "rows_bottom": null
      },
      "text/plain": "      SK_ID_CURR  TARGET NAME_CONTRACT_TYPE CODE_GENDER FLAG_OWN_CAR  \\\n6979      108129       0    Revolving loans           F            N   \n\n     FLAG_OWN_REALTY  CNT_CHILDREN  AMT_INCOME_TOTAL  AMT_CREDIT  AMT_ANNUITY  \\\n6979               N             0           90000.0    135000.0       6750.0   \n\n      ...  FLAG_DOCUMENT_12 FLAG_DOCUMENT_13 FLAG_DOCUMENT_14  \\\n6979  ...                 0                0                0   \n\n     FLAG_DOCUMENT_15 FLAG_DOCUMENT_16  FLAG_DOCUMENT_17  FLAG_DOCUMENT_18  \\\n6979                0                0                 0                 0   \n\n      FLAG_DOCUMENT_19  FLAG_DOCUMENT_20  FLAG_DOCUMENT_21  \n6979                 0                 0                 0  \n\n[1 rows x 66 columns]",
      "text/html": "<div>\n<style scoped>\n    .dataframe tbody tr th:only-of-type {\n        vertical-align: middle;\n    }\n\n    .dataframe tbody tr th {\n        vertical-align: top;\n    }\n\n    .dataframe thead th {\n        text-align: right;\n    }\n</style>\n<table border=\"1\" class=\"dataframe\">\n  <thead>\n    <tr style=\"text-align: right;\">\n      <th></th>\n      <th>SK_ID_CURR</th>\n      <th>TARGET</th>\n      <th>NAME_CONTRACT_TYPE</th>\n      <th>CODE_GENDER</th>\n      <th>FLAG_OWN_CAR</th>\n      <th>FLAG_OWN_REALTY</th>\n      <th>CNT_CHILDREN</th>\n      <th>AMT_INCOME_TOTAL</th>\n      <th>AMT_CREDIT</th>\n      <th>AMT_ANNUITY</th>\n      <th>...</th>\n      <th>FLAG_DOCUMENT_12</th>\n      <th>FLAG_DOCUMENT_13</th>\n      <th>FLAG_DOCUMENT_14</th>\n      <th>FLAG_DOCUMENT_15</th>\n      <th>FLAG_DOCUMENT_16</th>\n      <th>FLAG_DOCUMENT_17</th>\n      <th>FLAG_DOCUMENT_18</th>\n      <th>FLAG_DOCUMENT_19</th>\n      <th>FLAG_DOCUMENT_20</th>\n      <th>FLAG_DOCUMENT_21</th>\n    </tr>\n  </thead>\n  <tbody>\n    <tr>\n      <th>6979</th>\n      <td>108129</td>\n      <td>0</td>\n      <td>Revolving loans</td>\n      <td>F</td>\n      <td>N</td>\n      <td>N</td>\n      <td>0</td>\n      <td>90000.0</td>\n      <td>135000.0</td>\n      <td>6750.0</td>\n      <td>...</td>\n      <td>0</td>\n      <td>0</td>\n      <td>0</td>\n      <td>0</td>\n      <td>0</td>\n      <td>0</td>\n      <td>0</td>\n      <td>0</td>\n      <td>0</td>\n      <td>0</td>\n    </tr>\n  </tbody>\n</table>\n<p>1 rows × 66 columns</p>\n</div>"
     },
     "metadata": {}
    }
   ]
  },
  {
   "cell_type": "code",
   "metadata": {
    "tags": [],
    "cell_id": "00004-2432da00-d74f-4702-b1ee-58784238914e",
    "deepnote_to_be_reexecuted": true,
    "source_hash": "ec1ff687",
    "execution_start": 1630439177301,
    "execution_millis": 319,
    "deepnote_cell_type": "code"
   },
   "source": "prev_apps[(prev_apps.CNT_PAYMENT == 0) & (prev_apps.NAME_CONTRACT_STATUS == \"Approved\") ]",
   "execution_count": null,
   "outputs": [
    {
     "output_type": "execute_result",
     "execution_count": 10,
     "data": {
      "application/vnd.deepnote.dataframe.v2+json": {
       "row_count": 97771,
       "column_count": 37,
       "columns": [
        {
         "name": "SK_ID_PREV",
         "dtype": "int64",
         "stats": {
          "unique_count": 97771,
          "nan_count": 0,
          "min": "1000018",
          "max": "2843496",
          "histogram": [
           {
            "bin_start": 1000018,
            "bin_end": 1184365.8,
            "count": 10099
           },
           {
            "bin_start": 1184365.8,
            "bin_end": 1368713.6,
            "count": 10612
           },
           {
            "bin_start": 1368713.6,
            "bin_end": 1553061.4,
            "count": 10533
           },
           {
            "bin_start": 1553061.4,
            "bin_end": 1737409.2,
            "count": 9392
           },
           {
            "bin_start": 1737409.2,
            "bin_end": 1921757,
            "count": 9449
           },
           {
            "bin_start": 1921757,
            "bin_end": 2106104.8,
            "count": 9658
           },
           {
            "bin_start": 2106104.8,
            "bin_end": 2290452.5999999996,
            "count": 9494
           },
           {
            "bin_start": 2290452.5999999996,
            "bin_end": 2474800.4,
            "count": 9403
           },
           {
            "bin_start": 2474800.4,
            "bin_end": 2659148.2,
            "count": 9716
           },
           {
            "bin_start": 2659148.2,
            "bin_end": 2843496,
            "count": 9415
           }
          ]
         }
        },
        {
         "name": "SK_ID_CURR",
         "dtype": "int64"
        },
        {
         "name": "NAME_CONTRACT_TYPE",
         "dtype": "object"
        },
        {
         "name": "AMT_ANNUITY",
         "dtype": "float64"
        },
        {
         "name": "AMT_APPLICATION",
         "dtype": "float64"
        },
        {
         "name": "AMT_CREDIT",
         "dtype": "float64"
        },
        {
         "name": "AMT_DOWN_PAYMENT",
         "dtype": "float64"
        },
        {
         "name": "AMT_GOODS_PRICE",
         "dtype": "float64"
        },
        {
         "name": "WEEKDAY_APPR_PROCESS_START",
         "dtype": "object"
        },
        {
         "name": "HOUR_APPR_PROCESS_START",
         "dtype": "int64"
        },
        {
         "name": "FLAG_LAST_APPL_PER_CONTRACT",
         "dtype": "object"
        },
        {
         "name": "NFLAG_LAST_APPL_IN_DAY",
         "dtype": "int64"
        },
        {
         "name": "RATE_DOWN_PAYMENT",
         "dtype": "float64"
        },
        {
         "name": "RATE_INTEREST_PRIMARY",
         "dtype": "float64"
        },
        {
         "name": "RATE_INTEREST_PRIVILEGED",
         "dtype": "float64"
        },
        {
         "name": "NAME_CASH_LOAN_PURPOSE",
         "dtype": "object"
        },
        {
         "name": "NAME_CONTRACT_STATUS",
         "dtype": "object"
        },
        {
         "name": "DAYS_DECISION",
         "dtype": "int64"
        },
        {
         "name": "NAME_PAYMENT_TYPE",
         "dtype": "object"
        },
        {
         "name": "CODE_REJECT_REASON",
         "dtype": "object"
        },
        {
         "name": "NAME_TYPE_SUITE",
         "dtype": "object"
        },
        {
         "name": "NAME_CLIENT_TYPE",
         "dtype": "object"
        },
        {
         "name": "NAME_GOODS_CATEGORY",
         "dtype": "object"
        },
        {
         "name": "NAME_PORTFOLIO",
         "dtype": "object"
        },
        {
         "name": "NAME_PRODUCT_TYPE",
         "dtype": "object"
        },
        {
         "name": "CHANNEL_TYPE",
         "dtype": "object"
        },
        {
         "name": "SELLERPLACE_AREA",
         "dtype": "int64"
        },
        {
         "name": "NAME_SELLER_INDUSTRY",
         "dtype": "object"
        },
        {
         "name": "CNT_PAYMENT",
         "dtype": "float64"
        },
        {
         "name": "NAME_YIELD_GROUP",
         "dtype": "object"
        },
        {
         "name": "PRODUCT_COMBINATION",
         "dtype": "object"
        },
        {
         "name": "DAYS_FIRST_DRAWING",
         "dtype": "float64"
        },
        {
         "name": "DAYS_FIRST_DUE",
         "dtype": "float64"
        },
        {
         "name": "DAYS_LAST_DUE_1ST_VERSION",
         "dtype": "float64"
        },
        {
         "name": "DAYS_LAST_DUE",
         "dtype": "float64"
        },
        {
         "name": "DAYS_TERMINATION",
         "dtype": "float64"
        },
        {
         "name": "NFLAG_INSURED_ON_APPROVAL",
         "dtype": "float64"
        },
        {
         "name": "_deepnote_index_column",
         "dtype": "int64"
        }
       ],
       "rows_top": [
        {
         "SK_ID_PREV": 1285768,
         "SK_ID_CURR": 142748,
         "NAME_CONTRACT_TYPE": "Revolving loans",
         "AMT_ANNUITY": 9000,
         "AMT_APPLICATION": 180000,
         "AMT_CREDIT": 180000,
         "AMT_DOWN_PAYMENT": "nan",
         "AMT_GOODS_PRICE": 180000,
         "WEEKDAY_APPR_PROCESS_START": "FRIDAY",
         "HOUR_APPR_PROCESS_START": 13,
         "FLAG_LAST_APPL_PER_CONTRACT": "Y",
         "NFLAG_LAST_APPL_IN_DAY": 1,
         "RATE_DOWN_PAYMENT": "nan",
         "RATE_INTEREST_PRIMARY": "nan",
         "RATE_INTEREST_PRIVILEGED": "nan",
         "NAME_CASH_LOAN_PURPOSE": "XAP",
         "NAME_CONTRACT_STATUS": "Approved",
         "DAYS_DECISION": -336,
         "NAME_PAYMENT_TYPE": "XNA",
         "CODE_REJECT_REASON": "XAP",
         "NAME_TYPE_SUITE": "Unaccompanied",
         "NAME_CLIENT_TYPE": "Repeater",
         "NAME_GOODS_CATEGORY": "XNA",
         "NAME_PORTFOLIO": "Cards",
         "NAME_PRODUCT_TYPE": "x-sell",
         "CHANNEL_TYPE": "AP+ (Cash loan)",
         "SELLERPLACE_AREA": 6,
         "NAME_SELLER_INDUSTRY": "XNA",
         "CNT_PAYMENT": 0,
         "NAME_YIELD_GROUP": "XNA",
         "PRODUCT_COMBINATION": "Card X-Sell",
         "DAYS_FIRST_DRAWING": -277,
         "DAYS_FIRST_DUE": -257,
         "DAYS_LAST_DUE_1ST_VERSION": 365243,
         "DAYS_LAST_DUE": 365243,
         "DAYS_TERMINATION": 365243,
         "NFLAG_INSURED_ON_APPROVAL": 0,
         "_deepnote_index_column": 17
        },
        {
         "SK_ID_PREV": 1629736,
         "SK_ID_CURR": 255331,
         "NAME_CONTRACT_TYPE": "Revolving loans",
         "AMT_ANNUITY": 10125,
         "AMT_APPLICATION": 202500,
         "AMT_CREDIT": 202500,
         "AMT_DOWN_PAYMENT": "nan",
         "AMT_GOODS_PRICE": 202500,
         "WEEKDAY_APPR_PROCESS_START": "SATURDAY",
         "HOUR_APPR_PROCESS_START": 14,
         "FLAG_LAST_APPL_PER_CONTRACT": "Y",
         "NFLAG_LAST_APPL_IN_DAY": 1,
         "RATE_DOWN_PAYMENT": "nan",
         "RATE_INTEREST_PRIMARY": "nan",
         "RATE_INTEREST_PRIVILEGED": "nan",
         "NAME_CASH_LOAN_PURPOSE": "XAP",
         "NAME_CONTRACT_STATUS": "Approved",
         "DAYS_DECISION": -284,
         "NAME_PAYMENT_TYPE": "XNA",
         "CODE_REJECT_REASON": "XAP",
         "NAME_TYPE_SUITE": "Unaccompanied",
         "NAME_CLIENT_TYPE": "Repeater",
         "NAME_GOODS_CATEGORY": "XNA",
         "NAME_PORTFOLIO": "Cards",
         "NAME_PRODUCT_TYPE": "x-sell",
         "CHANNEL_TYPE": "Credit and cash offices",
         "SELLERPLACE_AREA": -1,
         "NAME_SELLER_INDUSTRY": "XNA",
         "CNT_PAYMENT": 0,
         "NAME_YIELD_GROUP": "XNA",
         "PRODUCT_COMBINATION": "Card X-Sell",
         "DAYS_FIRST_DRAWING": -265,
         "DAYS_FIRST_DUE": -234,
         "DAYS_LAST_DUE_1ST_VERSION": 365243,
         "DAYS_LAST_DUE": 365243,
         "DAYS_TERMINATION": 365243,
         "NFLAG_INSURED_ON_APPROVAL": 0,
         "_deepnote_index_column": 34
        },
        {
         "SK_ID_PREV": 1371540,
         "SK_ID_CURR": 200721,
         "NAME_CONTRACT_TYPE": "Revolving loans",
         "AMT_ANNUITY": 11250,
         "AMT_APPLICATION": 225000,
         "AMT_CREDIT": 225000,
         "AMT_DOWN_PAYMENT": "nan",
         "AMT_GOODS_PRICE": 225000,
         "WEEKDAY_APPR_PROCESS_START": "FRIDAY",
         "HOUR_APPR_PROCESS_START": 15,
         "FLAG_LAST_APPL_PER_CONTRACT": "Y",
         "NFLAG_LAST_APPL_IN_DAY": 1,
         "RATE_DOWN_PAYMENT": "nan",
         "RATE_INTEREST_PRIMARY": "nan",
         "RATE_INTEREST_PRIVILEGED": "nan",
         "NAME_CASH_LOAN_PURPOSE": "XAP",
         "NAME_CONTRACT_STATUS": "Approved",
         "DAYS_DECISION": -847,
         "NAME_PAYMENT_TYPE": "XNA",
         "CODE_REJECT_REASON": "XAP",
         "NAME_TYPE_SUITE": "nan",
         "NAME_CLIENT_TYPE": "Repeater",
         "NAME_GOODS_CATEGORY": "XNA",
         "NAME_PORTFOLIO": "Cards",
         "NAME_PRODUCT_TYPE": "walk-in",
         "CHANNEL_TYPE": "Credit and cash offices",
         "SELLERPLACE_AREA": -1,
         "NAME_SELLER_INDUSTRY": "XNA",
         "CNT_PAYMENT": 0,
         "NAME_YIELD_GROUP": "XNA",
         "PRODUCT_COMBINATION": "Card Street",
         "DAYS_FIRST_DRAWING": 365243,
         "DAYS_FIRST_DUE": 365243,
         "DAYS_LAST_DUE_1ST_VERSION": 365243,
         "DAYS_LAST_DUE": 365243,
         "DAYS_TERMINATION": -171,
         "NFLAG_INSURED_ON_APPROVAL": 0,
         "_deepnote_index_column": 49
        },
        {
         "SK_ID_PREV": 2709276,
         "SK_ID_CURR": 342991,
         "NAME_CONTRACT_TYPE": "Revolving loans",
         "AMT_ANNUITY": 45000,
         "AMT_APPLICATION": 900000,
         "AMT_CREDIT": 900000,
         "AMT_DOWN_PAYMENT": "nan",
         "AMT_GOODS_PRICE": 900000,
         "WEEKDAY_APPR_PROCESS_START": "TUESDAY",
         "HOUR_APPR_PROCESS_START": 13,
         "FLAG_LAST_APPL_PER_CONTRACT": "Y",
         "NFLAG_LAST_APPL_IN_DAY": 1,
         "RATE_DOWN_PAYMENT": "nan",
         "RATE_INTEREST_PRIMARY": "nan",
         "RATE_INTEREST_PRIVILEGED": "nan",
         "NAME_CASH_LOAN_PURPOSE": "XAP",
         "NAME_CONTRACT_STATUS": "Approved",
         "DAYS_DECISION": -511,
         "NAME_PAYMENT_TYPE": "XNA",
         "CODE_REJECT_REASON": "XAP",
         "NAME_TYPE_SUITE": "nan",
         "NAME_CLIENT_TYPE": "Repeater",
         "NAME_GOODS_CATEGORY": "XNA",
         "NAME_PORTFOLIO": "Cards",
         "NAME_PRODUCT_TYPE": "x-sell",
         "CHANNEL_TYPE": "Credit and cash offices",
         "SELLERPLACE_AREA": -1,
         "NAME_SELLER_INDUSTRY": "XNA",
         "CNT_PAYMENT": 0,
         "NAME_YIELD_GROUP": "XNA",
         "PRODUCT_COMBINATION": "Card X-Sell",
         "DAYS_FIRST_DRAWING": -479,
         "DAYS_FIRST_DUE": -435,
         "DAYS_LAST_DUE_1ST_VERSION": 365243,
         "DAYS_LAST_DUE": 365243,
         "DAYS_TERMINATION": 365243,
         "NFLAG_INSURED_ON_APPROVAL": 0,
         "_deepnote_index_column": 82
        },
        {
         "SK_ID_PREV": 2522811,
         "SK_ID_CURR": 120854,
         "NAME_CONTRACT_TYPE": "Revolving loans",
         "AMT_ANNUITY": 33750,
         "AMT_APPLICATION": 0,
         "AMT_CREDIT": 675000,
         "AMT_DOWN_PAYMENT": "nan",
         "AMT_GOODS_PRICE": "nan",
         "WEEKDAY_APPR_PROCESS_START": "THURSDAY",
         "HOUR_APPR_PROCESS_START": 18,
         "FLAG_LAST_APPL_PER_CONTRACT": "Y",
         "NFLAG_LAST_APPL_IN_DAY": 1,
         "RATE_DOWN_PAYMENT": "nan",
         "RATE_INTEREST_PRIMARY": "nan",
         "RATE_INTEREST_PRIVILEGED": "nan",
         "NAME_CASH_LOAN_PURPOSE": "XAP",
         "NAME_CONTRACT_STATUS": "Approved",
         "DAYS_DECISION": -879,
         "NAME_PAYMENT_TYPE": "XNA",
         "CODE_REJECT_REASON": "XAP",
         "NAME_TYPE_SUITE": "nan",
         "NAME_CLIENT_TYPE": "Repeater",
         "NAME_GOODS_CATEGORY": "XNA",
         "NAME_PORTFOLIO": "Cards",
         "NAME_PRODUCT_TYPE": "x-sell",
         "CHANNEL_TYPE": "Credit and cash offices",
         "SELLERPLACE_AREA": -1,
         "NAME_SELLER_INDUSTRY": "XNA",
         "CNT_PAYMENT": 0,
         "NAME_YIELD_GROUP": "XNA",
         "PRODUCT_COMBINATION": "Card X-Sell",
         "DAYS_FIRST_DRAWING": -332,
         "DAYS_FIRST_DUE": -297,
         "DAYS_LAST_DUE_1ST_VERSION": 365243,
         "DAYS_LAST_DUE": 365243,
         "DAYS_TERMINATION": 365243,
         "NFLAG_INSURED_ON_APPROVAL": 0,
         "_deepnote_index_column": 93
        },
        {
         "SK_ID_PREV": 1897668,
         "SK_ID_CURR": 205582,
         "NAME_CONTRACT_TYPE": "Revolving loans",
         "AMT_ANNUITY": 2250,
         "AMT_APPLICATION": 45000,
         "AMT_CREDIT": 45000,
         "AMT_DOWN_PAYMENT": "nan",
         "AMT_GOODS_PRICE": 45000,
         "WEEKDAY_APPR_PROCESS_START": "MONDAY",
         "HOUR_APPR_PROCESS_START": 16,
         "FLAG_LAST_APPL_PER_CONTRACT": "Y",
         "NFLAG_LAST_APPL_IN_DAY": 1,
         "RATE_DOWN_PAYMENT": "nan",
         "RATE_INTEREST_PRIMARY": "nan",
         "RATE_INTEREST_PRIVILEGED": "nan",
         "NAME_CASH_LOAN_PURPOSE": "XAP",
         "NAME_CONTRACT_STATUS": "Approved",
         "DAYS_DECISION": -234,
         "NAME_PAYMENT_TYPE": "XNA",
         "CODE_REJECT_REASON": "XAP",
         "NAME_TYPE_SUITE": "Family",
         "NAME_CLIENT_TYPE": "New",
         "NAME_GOODS_CATEGORY": "XNA",
         "NAME_PORTFOLIO": "Cards",
         "NAME_PRODUCT_TYPE": "walk-in",
         "CHANNEL_TYPE": "Country-wide",
         "SELLERPLACE_AREA": 3000,
         "NAME_SELLER_INDUSTRY": "Consumer electronics",
         "CNT_PAYMENT": 0,
         "NAME_YIELD_GROUP": "XNA",
         "PRODUCT_COMBINATION": "Card Street",
         "DAYS_FIRST_DRAWING": 365243,
         "DAYS_FIRST_DUE": 365243,
         "DAYS_LAST_DUE_1ST_VERSION": 365243,
         "DAYS_LAST_DUE": 365243,
         "DAYS_TERMINATION": 365243,
         "NFLAG_INSURED_ON_APPROVAL": 0,
         "_deepnote_index_column": 138
        },
        {
         "SK_ID_PREV": 1975174,
         "SK_ID_CURR": 276237,
         "NAME_CONTRACT_TYPE": "Revolving loans",
         "AMT_ANNUITY": 22500,
         "AMT_APPLICATION": 0,
         "AMT_CREDIT": 450000,
         "AMT_DOWN_PAYMENT": "nan",
         "AMT_GOODS_PRICE": "nan",
         "WEEKDAY_APPR_PROCESS_START": "TUESDAY",
         "HOUR_APPR_PROCESS_START": 13,
         "FLAG_LAST_APPL_PER_CONTRACT": "Y",
         "NFLAG_LAST_APPL_IN_DAY": 1,
         "RATE_DOWN_PAYMENT": "nan",
         "RATE_INTEREST_PRIMARY": "nan",
         "RATE_INTEREST_PRIVILEGED": "nan",
         "NAME_CASH_LOAN_PURPOSE": "XAP",
         "NAME_CONTRACT_STATUS": "Approved",
         "DAYS_DECISION": -510,
         "NAME_PAYMENT_TYPE": "XNA",
         "CODE_REJECT_REASON": "XAP",
         "NAME_TYPE_SUITE": "nan",
         "NAME_CLIENT_TYPE": "Repeater",
         "NAME_GOODS_CATEGORY": "XNA",
         "NAME_PORTFOLIO": "Cards",
         "NAME_PRODUCT_TYPE": "x-sell",
         "CHANNEL_TYPE": "Country-wide",
         "SELLERPLACE_AREA": 1500,
         "NAME_SELLER_INDUSTRY": "Consumer electronics",
         "CNT_PAYMENT": 0,
         "NAME_YIELD_GROUP": "XNA",
         "PRODUCT_COMBINATION": "Card X-Sell",
         "DAYS_FIRST_DRAWING": 365243,
         "DAYS_FIRST_DUE": 365243,
         "DAYS_LAST_DUE_1ST_VERSION": 365243,
         "DAYS_LAST_DUE": 365243,
         "DAYS_TERMINATION": 365243,
         "NFLAG_INSURED_ON_APPROVAL": 0,
         "_deepnote_index_column": 143
        },
        {
         "SK_ID_PREV": 1723023,
         "SK_ID_CURR": 337203,
         "NAME_CONTRACT_TYPE": "Revolving loans",
         "AMT_ANNUITY": 2250,
         "AMT_APPLICATION": 45000,
         "AMT_CREDIT": 45000,
         "AMT_DOWN_PAYMENT": "nan",
         "AMT_GOODS_PRICE": 45000,
         "WEEKDAY_APPR_PROCESS_START": "WEDNESDAY",
         "HOUR_APPR_PROCESS_START": 10,
         "FLAG_LAST_APPL_PER_CONTRACT": "Y",
         "NFLAG_LAST_APPL_IN_DAY": 1,
         "RATE_DOWN_PAYMENT": "nan",
         "RATE_INTEREST_PRIMARY": "nan",
         "RATE_INTEREST_PRIVILEGED": "nan",
         "NAME_CASH_LOAN_PURPOSE": "XAP",
         "NAME_CONTRACT_STATUS": "Approved",
         "DAYS_DECISION": -160,
         "NAME_PAYMENT_TYPE": "XNA",
         "CODE_REJECT_REASON": "XAP",
         "NAME_TYPE_SUITE": "Unaccompanied",
         "NAME_CLIENT_TYPE": "Repeater",
         "NAME_GOODS_CATEGORY": "XNA",
         "NAME_PORTFOLIO": "Cards",
         "NAME_PRODUCT_TYPE": "walk-in",
         "CHANNEL_TYPE": "Regional / Local",
         "SELLERPLACE_AREA": 145,
         "NAME_SELLER_INDUSTRY": "Consumer electronics",
         "CNT_PAYMENT": 0,
         "NAME_YIELD_GROUP": "XNA",
         "PRODUCT_COMBINATION": "Card Street",
         "DAYS_FIRST_DRAWING": 365243,
         "DAYS_FIRST_DUE": 365243,
         "DAYS_LAST_DUE_1ST_VERSION": 365243,
         "DAYS_LAST_DUE": 365243,
         "DAYS_TERMINATION": 365243,
         "NFLAG_INSURED_ON_APPROVAL": 0,
         "_deepnote_index_column": 159
        },
        {
         "SK_ID_PREV": 1055492,
         "SK_ID_CURR": 159650,
         "NAME_CONTRACT_TYPE": "Revolving loans",
         "AMT_ANNUITY": 9000,
         "AMT_APPLICATION": 180000,
         "AMT_CREDIT": 180000,
         "AMT_DOWN_PAYMENT": "nan",
         "AMT_GOODS_PRICE": 180000,
         "WEEKDAY_APPR_PROCESS_START": "FRIDAY",
         "HOUR_APPR_PROCESS_START": 13,
         "FLAG_LAST_APPL_PER_CONTRACT": "Y",
         "NFLAG_LAST_APPL_IN_DAY": 1,
         "RATE_DOWN_PAYMENT": "nan",
         "RATE_INTEREST_PRIMARY": "nan",
         "RATE_INTEREST_PRIVILEGED": "nan",
         "NAME_CASH_LOAN_PURPOSE": "XAP",
         "NAME_CONTRACT_STATUS": "Approved",
         "DAYS_DECISION": -717,
         "NAME_PAYMENT_TYPE": "XNA",
         "CODE_REJECT_REASON": "XAP",
         "NAME_TYPE_SUITE": "nan",
         "NAME_CLIENT_TYPE": "Repeater",
         "NAME_GOODS_CATEGORY": "XNA",
         "NAME_PORTFOLIO": "Cards",
         "NAME_PRODUCT_TYPE": "walk-in",
         "CHANNEL_TYPE": "Credit and cash offices",
         "SELLERPLACE_AREA": -1,
         "NAME_SELLER_INDUSTRY": "XNA",
         "CNT_PAYMENT": 0,
         "NAME_YIELD_GROUP": "XNA",
         "PRODUCT_COMBINATION": "Card Street",
         "DAYS_FIRST_DRAWING": 365243,
         "DAYS_FIRST_DUE": 365243,
         "DAYS_LAST_DUE_1ST_VERSION": 365243,
         "DAYS_LAST_DUE": 365243,
         "DAYS_TERMINATION": 365243,
         "NFLAG_INSURED_ON_APPROVAL": 0,
         "_deepnote_index_column": 225
        },
        {
         "SK_ID_PREV": 1891645,
         "SK_ID_CURR": 396134,
         "NAME_CONTRACT_TYPE": "Revolving loans",
         "AMT_ANNUITY": 2250,
         "AMT_APPLICATION": 45000,
         "AMT_CREDIT": 45000,
         "AMT_DOWN_PAYMENT": "nan",
         "AMT_GOODS_PRICE": 45000,
         "WEEKDAY_APPR_PROCESS_START": "FRIDAY",
         "HOUR_APPR_PROCESS_START": 8,
         "FLAG_LAST_APPL_PER_CONTRACT": "Y",
         "NFLAG_LAST_APPL_IN_DAY": 1,
         "RATE_DOWN_PAYMENT": "nan",
         "RATE_INTEREST_PRIMARY": "nan",
         "RATE_INTEREST_PRIVILEGED": "nan",
         "NAME_CASH_LOAN_PURPOSE": "XAP",
         "NAME_CONTRACT_STATUS": "Approved",
         "DAYS_DECISION": -277,
         "NAME_PAYMENT_TYPE": "XNA",
         "CODE_REJECT_REASON": "XAP",
         "NAME_TYPE_SUITE": "Unaccompanied",
         "NAME_CLIENT_TYPE": "New",
         "NAME_GOODS_CATEGORY": "XNA",
         "NAME_PORTFOLIO": "Cards",
         "NAME_PRODUCT_TYPE": "walk-in",
         "CHANNEL_TYPE": "Country-wide",
         "SELLERPLACE_AREA": 100,
         "NAME_SELLER_INDUSTRY": "Connectivity",
         "CNT_PAYMENT": 0,
         "NAME_YIELD_GROUP": "XNA",
         "PRODUCT_COMBINATION": "Card Street",
         "DAYS_FIRST_DRAWING": -225,
         "DAYS_FIRST_DUE": -176,
         "DAYS_LAST_DUE_1ST_VERSION": 365243,
         "DAYS_LAST_DUE": 365243,
         "DAYS_TERMINATION": 365243,
         "NFLAG_INSURED_ON_APPROVAL": 0,
         "_deepnote_index_column": 242
        },
        {
         "SK_ID_PREV": 1691921,
         "SK_ID_CURR": 349351,
         "NAME_CONTRACT_TYPE": "Revolving loans",
         "AMT_ANNUITY": 15750,
         "AMT_APPLICATION": 315000,
         "AMT_CREDIT": 315000,
         "AMT_DOWN_PAYMENT": "nan",
         "AMT_GOODS_PRICE": 315000,
         "WEEKDAY_APPR_PROCESS_START": "WEDNESDAY",
         "HOUR_APPR_PROCESS_START": 10,
         "FLAG_LAST_APPL_PER_CONTRACT": "Y",
         "NFLAG_LAST_APPL_IN_DAY": 1,
         "RATE_DOWN_PAYMENT": "nan",
         "RATE_INTEREST_PRIMARY": "nan",
         "RATE_INTEREST_PRIVILEGED": "nan",
         "NAME_CASH_LOAN_PURPOSE": "XAP",
         "NAME_CONTRACT_STATUS": "Approved",
         "DAYS_DECISION": -215,
         "NAME_PAYMENT_TYPE": "XNA",
         "CODE_REJECT_REASON": "XAP",
         "NAME_TYPE_SUITE": "Unaccompanied",
         "NAME_CLIENT_TYPE": "Repeater",
         "NAME_GOODS_CATEGORY": "XNA",
         "NAME_PORTFOLIO": "Cards",
         "NAME_PRODUCT_TYPE": "x-sell",
         "CHANNEL_TYPE": "Credit and cash offices",
         "SELLERPLACE_AREA": -1,
         "NAME_SELLER_INDUSTRY": "XNA",
         "CNT_PAYMENT": 0,
         "NAME_YIELD_GROUP": "XNA",
         "PRODUCT_COMBINATION": "Card X-Sell",
         "DAYS_FIRST_DRAWING": -212,
         "DAYS_FIRST_DUE": -164,
         "DAYS_LAST_DUE_1ST_VERSION": 365243,
         "DAYS_LAST_DUE": 365243,
         "DAYS_TERMINATION": 365243,
         "NFLAG_INSURED_ON_APPROVAL": 0,
         "_deepnote_index_column": 249
        },
        {
         "SK_ID_PREV": 1490462,
         "SK_ID_CURR": 449030,
         "NAME_CONTRACT_TYPE": "Revolving loans",
         "AMT_ANNUITY": 9000,
         "AMT_APPLICATION": 0,
         "AMT_CREDIT": 180000,
         "AMT_DOWN_PAYMENT": "nan",
         "AMT_GOODS_PRICE": "nan",
         "WEEKDAY_APPR_PROCESS_START": "SUNDAY",
         "HOUR_APPR_PROCESS_START": 13,
         "FLAG_LAST_APPL_PER_CONTRACT": "Y",
         "NFLAG_LAST_APPL_IN_DAY": 1,
         "RATE_DOWN_PAYMENT": "nan",
         "RATE_INTEREST_PRIMARY": "nan",
         "RATE_INTEREST_PRIVILEGED": "nan",
         "NAME_CASH_LOAN_PURPOSE": "XAP",
         "NAME_CONTRACT_STATUS": "Approved",
         "DAYS_DECISION": -691,
         "NAME_PAYMENT_TYPE": "XNA",
         "CODE_REJECT_REASON": "XAP",
         "NAME_TYPE_SUITE": "nan",
         "NAME_CLIENT_TYPE": "Repeater",
         "NAME_GOODS_CATEGORY": "XNA",
         "NAME_PORTFOLIO": "Cards",
         "NAME_PRODUCT_TYPE": "x-sell",
         "CHANNEL_TYPE": "Country-wide",
         "SELLERPLACE_AREA": 232,
         "NAME_SELLER_INDUSTRY": "Consumer electronics",
         "CNT_PAYMENT": 0,
         "NAME_YIELD_GROUP": "XNA",
         "PRODUCT_COMBINATION": "Card X-Sell",
         "DAYS_FIRST_DRAWING": -579,
         "DAYS_FIRST_DUE": -555,
         "DAYS_LAST_DUE_1ST_VERSION": 365243,
         "DAYS_LAST_DUE": -494,
         "DAYS_TERMINATION": 365243,
         "NFLAG_INSURED_ON_APPROVAL": 0,
         "_deepnote_index_column": 356
        },
        {
         "SK_ID_PREV": 2240107,
         "SK_ID_CURR": 323651,
         "NAME_CONTRACT_TYPE": "Revolving loans",
         "AMT_ANNUITY": 13500,
         "AMT_APPLICATION": 0,
         "AMT_CREDIT": 270000,
         "AMT_DOWN_PAYMENT": "nan",
         "AMT_GOODS_PRICE": "nan",
         "WEEKDAY_APPR_PROCESS_START": "TUESDAY",
         "HOUR_APPR_PROCESS_START": 12,
         "FLAG_LAST_APPL_PER_CONTRACT": "Y",
         "NFLAG_LAST_APPL_IN_DAY": 1,
         "RATE_DOWN_PAYMENT": "nan",
         "RATE_INTEREST_PRIMARY": "nan",
         "RATE_INTEREST_PRIVILEGED": "nan",
         "NAME_CASH_LOAN_PURPOSE": "XAP",
         "NAME_CONTRACT_STATUS": "Approved",
         "DAYS_DECISION": -650,
         "NAME_PAYMENT_TYPE": "XNA",
         "CODE_REJECT_REASON": "XAP",
         "NAME_TYPE_SUITE": "nan",
         "NAME_CLIENT_TYPE": "Repeater",
         "NAME_GOODS_CATEGORY": "XNA",
         "NAME_PORTFOLIO": "Cards",
         "NAME_PRODUCT_TYPE": "x-sell",
         "CHANNEL_TYPE": "AP+ (Cash loan)",
         "SELLERPLACE_AREA": 5,
         "NAME_SELLER_INDUSTRY": "XNA",
         "CNT_PAYMENT": 0,
         "NAME_YIELD_GROUP": "XNA",
         "PRODUCT_COMBINATION": "Card X-Sell",
         "DAYS_FIRST_DRAWING": -603,
         "DAYS_FIRST_DUE": -577,
         "DAYS_LAST_DUE_1ST_VERSION": 365243,
         "DAYS_LAST_DUE": 365243,
         "DAYS_TERMINATION": 365243,
         "NFLAG_INSURED_ON_APPROVAL": 0,
         "_deepnote_index_column": 365
        }
       ],
       "rows_bottom": [
        {
         "SK_ID_PREV": 2572617,
         "SK_ID_CURR": 433117,
         "NAME_CONTRACT_TYPE": "Revolving loans",
         "AMT_ANNUITY": 19125,
         "AMT_APPLICATION": 382500,
         "AMT_CREDIT": 382500,
         "AMT_DOWN_PAYMENT": "nan",
         "AMT_GOODS_PRICE": 382500,
         "WEEKDAY_APPR_PROCESS_START": "THURSDAY",
         "HOUR_APPR_PROCESS_START": 11,
         "FLAG_LAST_APPL_PER_CONTRACT": "Y",
         "NFLAG_LAST_APPL_IN_DAY": 1,
         "RATE_DOWN_PAYMENT": "nan",
         "RATE_INTEREST_PRIMARY": "nan",
         "RATE_INTEREST_PRIVILEGED": "nan",
         "NAME_CASH_LOAN_PURPOSE": "XAP",
         "NAME_CONTRACT_STATUS": "Approved",
         "DAYS_DECISION": -203,
         "NAME_PAYMENT_TYPE": "XNA",
         "CODE_REJECT_REASON": "XAP",
         "NAME_TYPE_SUITE": "Unaccompanied",
         "NAME_CLIENT_TYPE": "Repeater",
         "NAME_GOODS_CATEGORY": "XNA",
         "NAME_PORTFOLIO": "Cards",
         "NAME_PRODUCT_TYPE": "x-sell",
         "CHANNEL_TYPE": "Credit and cash offices",
         "SELLERPLACE_AREA": -1,
         "NAME_SELLER_INDUSTRY": "XNA",
         "CNT_PAYMENT": 0,
         "NAME_YIELD_GROUP": "XNA",
         "PRODUCT_COMBINATION": "Card X-Sell",
         "DAYS_FIRST_DRAWING": -54,
         "DAYS_FIRST_DUE": 365243,
         "DAYS_LAST_DUE_1ST_VERSION": 365243,
         "DAYS_LAST_DUE": 365243,
         "DAYS_TERMINATION": 365243,
         "NFLAG_INSURED_ON_APPROVAL": 0,
         "_deepnote_index_column": 1669538
        },
        {
         "SK_ID_PREV": 1159563,
         "SK_ID_CURR": 382894,
         "NAME_CONTRACT_TYPE": "Revolving loans",
         "AMT_ANNUITY": 6750,
         "AMT_APPLICATION": 0,
         "AMT_CREDIT": 135000,
         "AMT_DOWN_PAYMENT": "nan",
         "AMT_GOODS_PRICE": "nan",
         "WEEKDAY_APPR_PROCESS_START": "MONDAY",
         "HOUR_APPR_PROCESS_START": 11,
         "FLAG_LAST_APPL_PER_CONTRACT": "Y",
         "NFLAG_LAST_APPL_IN_DAY": 1,
         "RATE_DOWN_PAYMENT": "nan",
         "RATE_INTEREST_PRIMARY": "nan",
         "RATE_INTEREST_PRIVILEGED": "nan",
         "NAME_CASH_LOAN_PURPOSE": "XAP",
         "NAME_CONTRACT_STATUS": "Approved",
         "DAYS_DECISION": -1016,
         "NAME_PAYMENT_TYPE": "XNA",
         "CODE_REJECT_REASON": "XAP",
         "NAME_TYPE_SUITE": "nan",
         "NAME_CLIENT_TYPE": "Repeater",
         "NAME_GOODS_CATEGORY": "XNA",
         "NAME_PORTFOLIO": "Cards",
         "NAME_PRODUCT_TYPE": "x-sell",
         "CHANNEL_TYPE": "Credit and cash offices",
         "SELLERPLACE_AREA": -1,
         "NAME_SELLER_INDUSTRY": "XNA",
         "CNT_PAYMENT": 0,
         "NAME_YIELD_GROUP": "XNA",
         "PRODUCT_COMBINATION": "Card X-Sell",
         "DAYS_FIRST_DRAWING": -1014,
         "DAYS_FIRST_DUE": -969,
         "DAYS_LAST_DUE_1ST_VERSION": 365243,
         "DAYS_LAST_DUE": -817,
         "DAYS_TERMINATION": -305,
         "NFLAG_INSURED_ON_APPROVAL": 0,
         "_deepnote_index_column": 1669591
        },
        {
         "SK_ID_PREV": 1420499,
         "SK_ID_CURR": 172596,
         "NAME_CONTRACT_TYPE": "Revolving loans",
         "AMT_ANNUITY": 18000,
         "AMT_APPLICATION": 0,
         "AMT_CREDIT": 360000,
         "AMT_DOWN_PAYMENT": "nan",
         "AMT_GOODS_PRICE": "nan",
         "WEEKDAY_APPR_PROCESS_START": "WEDNESDAY",
         "HOUR_APPR_PROCESS_START": 15,
         "FLAG_LAST_APPL_PER_CONTRACT": "Y",
         "NFLAG_LAST_APPL_IN_DAY": 1,
         "RATE_DOWN_PAYMENT": "nan",
         "RATE_INTEREST_PRIMARY": "nan",
         "RATE_INTEREST_PRIVILEGED": "nan",
         "NAME_CASH_LOAN_PURPOSE": "XAP",
         "NAME_CONTRACT_STATUS": "Approved",
         "DAYS_DECISION": -882,
         "NAME_PAYMENT_TYPE": "XNA",
         "CODE_REJECT_REASON": "XAP",
         "NAME_TYPE_SUITE": "nan",
         "NAME_CLIENT_TYPE": "Repeater",
         "NAME_GOODS_CATEGORY": "XNA",
         "NAME_PORTFOLIO": "Cards",
         "NAME_PRODUCT_TYPE": "x-sell",
         "CHANNEL_TYPE": "AP+ (Cash loan)",
         "SELLERPLACE_AREA": 5,
         "NAME_SELLER_INDUSTRY": "XNA",
         "CNT_PAYMENT": 0,
         "NAME_YIELD_GROUP": "XNA",
         "PRODUCT_COMBINATION": "Card X-Sell",
         "DAYS_FIRST_DRAWING": "nan",
         "DAYS_FIRST_DUE": "nan",
         "DAYS_LAST_DUE_1ST_VERSION": "nan",
         "DAYS_LAST_DUE": "nan",
         "DAYS_TERMINATION": "nan",
         "NFLAG_INSURED_ON_APPROVAL": "nan",
         "_deepnote_index_column": 1669606
        },
        {
         "SK_ID_PREV": 2461763,
         "SK_ID_CURR": 308500,
         "NAME_CONTRACT_TYPE": "Revolving loans",
         "AMT_ANNUITY": 0,
         "AMT_APPLICATION": 0,
         "AMT_CREDIT": 0,
         "AMT_DOWN_PAYMENT": "nan",
         "AMT_GOODS_PRICE": "nan",
         "WEEKDAY_APPR_PROCESS_START": "SUNDAY",
         "HOUR_APPR_PROCESS_START": 4,
         "FLAG_LAST_APPL_PER_CONTRACT": "Y",
         "NFLAG_LAST_APPL_IN_DAY": 1,
         "RATE_DOWN_PAYMENT": "nan",
         "RATE_INTEREST_PRIMARY": "nan",
         "RATE_INTEREST_PRIVILEGED": "nan",
         "NAME_CASH_LOAN_PURPOSE": "XAP",
         "NAME_CONTRACT_STATUS": "Approved",
         "DAYS_DECISION": -1536,
         "NAME_PAYMENT_TYPE": "XNA",
         "CODE_REJECT_REASON": "XAP",
         "NAME_TYPE_SUITE": "nan",
         "NAME_CLIENT_TYPE": "Repeater",
         "NAME_GOODS_CATEGORY": "XNA",
         "NAME_PORTFOLIO": "Cards",
         "NAME_PRODUCT_TYPE": "x-sell",
         "CHANNEL_TYPE": "Country-wide",
         "SELLERPLACE_AREA": 40,
         "NAME_SELLER_INDUSTRY": "Connectivity",
         "CNT_PAYMENT": 0,
         "NAME_YIELD_GROUP": "XNA",
         "PRODUCT_COMBINATION": "Card Street",
         "DAYS_FIRST_DRAWING": -1534,
         "DAYS_FIRST_DUE": 365243,
         "DAYS_LAST_DUE_1ST_VERSION": 365243,
         "DAYS_LAST_DUE": 365243,
         "DAYS_TERMINATION": -1172,
         "NFLAG_INSURED_ON_APPROVAL": 0,
         "_deepnote_index_column": 1669624
        },
        {
         "SK_ID_PREV": 1012588,
         "SK_ID_CURR": 327513,
         "NAME_CONTRACT_TYPE": "Revolving loans",
         "AMT_ANNUITY": 11250,
         "AMT_APPLICATION": 0,
         "AMT_CREDIT": 225000,
         "AMT_DOWN_PAYMENT": "nan",
         "AMT_GOODS_PRICE": "nan",
         "WEEKDAY_APPR_PROCESS_START": "MONDAY",
         "HOUR_APPR_PROCESS_START": 7,
         "FLAG_LAST_APPL_PER_CONTRACT": "Y",
         "NFLAG_LAST_APPL_IN_DAY": 1,
         "RATE_DOWN_PAYMENT": "nan",
         "RATE_INTEREST_PRIMARY": "nan",
         "RATE_INTEREST_PRIVILEGED": "nan",
         "NAME_CASH_LOAN_PURPOSE": "XAP",
         "NAME_CONTRACT_STATUS": "Approved",
         "DAYS_DECISION": -584,
         "NAME_PAYMENT_TYPE": "XNA",
         "CODE_REJECT_REASON": "XAP",
         "NAME_TYPE_SUITE": "nan",
         "NAME_CLIENT_TYPE": "Repeater",
         "NAME_GOODS_CATEGORY": "XNA",
         "NAME_PORTFOLIO": "Cards",
         "NAME_PRODUCT_TYPE": "x-sell",
         "CHANNEL_TYPE": "Credit and cash offices",
         "SELLERPLACE_AREA": -1,
         "NAME_SELLER_INDUSTRY": "XNA",
         "CNT_PAYMENT": 0,
         "NAME_YIELD_GROUP": "XNA",
         "PRODUCT_COMBINATION": "Card X-Sell",
         "DAYS_FIRST_DRAWING": -562,
         "DAYS_FIRST_DUE": -492,
         "DAYS_LAST_DUE_1ST_VERSION": 365243,
         "DAYS_LAST_DUE": -369,
         "DAYS_TERMINATION": 365243,
         "NFLAG_INSURED_ON_APPROVAL": 0,
         "_deepnote_index_column": 1669649
        },
        {
         "SK_ID_PREV": 1551130,
         "SK_ID_CURR": 166786,
         "NAME_CONTRACT_TYPE": "Revolving loans",
         "AMT_ANNUITY": 3375,
         "AMT_APPLICATION": 0,
         "AMT_CREDIT": 67500,
         "AMT_DOWN_PAYMENT": "nan",
         "AMT_GOODS_PRICE": "nan",
         "WEEKDAY_APPR_PROCESS_START": "WEDNESDAY",
         "HOUR_APPR_PROCESS_START": 11,
         "FLAG_LAST_APPL_PER_CONTRACT": "Y",
         "NFLAG_LAST_APPL_IN_DAY": 1,
         "RATE_DOWN_PAYMENT": "nan",
         "RATE_INTEREST_PRIMARY": "nan",
         "RATE_INTEREST_PRIVILEGED": "nan",
         "NAME_CASH_LOAN_PURPOSE": "XAP",
         "NAME_CONTRACT_STATUS": "Approved",
         "DAYS_DECISION": -2353,
         "NAME_PAYMENT_TYPE": "XNA",
         "CODE_REJECT_REASON": "XAP",
         "NAME_TYPE_SUITE": "nan",
         "NAME_CLIENT_TYPE": "Repeater",
         "NAME_GOODS_CATEGORY": "XNA",
         "NAME_PORTFOLIO": "Cards",
         "NAME_PRODUCT_TYPE": "x-sell",
         "CHANNEL_TYPE": "Credit and cash offices",
         "SELLERPLACE_AREA": -1,
         "NAME_SELLER_INDUSTRY": "XNA",
         "CNT_PAYMENT": 0,
         "NAME_YIELD_GROUP": "XNA",
         "PRODUCT_COMBINATION": "Card Street",
         "DAYS_FIRST_DRAWING": -2295,
         "DAYS_FIRST_DUE": -2259,
         "DAYS_LAST_DUE_1ST_VERSION": 365243,
         "DAYS_LAST_DUE": -1346,
         "DAYS_TERMINATION": -700,
         "NFLAG_INSURED_ON_APPROVAL": 0,
         "_deepnote_index_column": 1669656
        },
        {
         "SK_ID_PREV": 1597227,
         "SK_ID_CURR": 348778,
         "NAME_CONTRACT_TYPE": "Revolving loans",
         "AMT_ANNUITY": 11250,
         "AMT_APPLICATION": 225000,
         "AMT_CREDIT": 225000,
         "AMT_DOWN_PAYMENT": "nan",
         "AMT_GOODS_PRICE": 225000,
         "WEEKDAY_APPR_PROCESS_START": "THURSDAY",
         "HOUR_APPR_PROCESS_START": 17,
         "FLAG_LAST_APPL_PER_CONTRACT": "Y",
         "NFLAG_LAST_APPL_IN_DAY": 1,
         "RATE_DOWN_PAYMENT": "nan",
         "RATE_INTEREST_PRIMARY": "nan",
         "RATE_INTEREST_PRIVILEGED": "nan",
         "NAME_CASH_LOAN_PURPOSE": "XAP",
         "NAME_CONTRACT_STATUS": "Approved",
         "DAYS_DECISION": -406,
         "NAME_PAYMENT_TYPE": "XNA",
         "CODE_REJECT_REASON": "XAP",
         "NAME_TYPE_SUITE": "Unaccompanied",
         "NAME_CLIENT_TYPE": "Repeater",
         "NAME_GOODS_CATEGORY": "XNA",
         "NAME_PORTFOLIO": "Cards",
         "NAME_PRODUCT_TYPE": "x-sell",
         "CHANNEL_TYPE": "Credit and cash offices",
         "SELLERPLACE_AREA": -1,
         "NAME_SELLER_INDUSTRY": "XNA",
         "CNT_PAYMENT": 0,
         "NAME_YIELD_GROUP": "XNA",
         "PRODUCT_COMBINATION": "Card X-Sell",
         "DAYS_FIRST_DRAWING": -341,
         "DAYS_FIRST_DUE": -300,
         "DAYS_LAST_DUE_1ST_VERSION": 365243,
         "DAYS_LAST_DUE": 365243,
         "DAYS_TERMINATION": 365243,
         "NFLAG_INSURED_ON_APPROVAL": 0,
         "_deepnote_index_column": 1669671
        },
        {
         "SK_ID_PREV": 2334397,
         "SK_ID_CURR": 440945,
         "NAME_CONTRACT_TYPE": "Revolving loans",
         "AMT_ANNUITY": 11250,
         "AMT_APPLICATION": 0,
         "AMT_CREDIT": 225000,
         "AMT_DOWN_PAYMENT": "nan",
         "AMT_GOODS_PRICE": "nan",
         "WEEKDAY_APPR_PROCESS_START": "FRIDAY",
         "HOUR_APPR_PROCESS_START": 11,
         "FLAG_LAST_APPL_PER_CONTRACT": "Y",
         "NFLAG_LAST_APPL_IN_DAY": 1,
         "RATE_DOWN_PAYMENT": "nan",
         "RATE_INTEREST_PRIMARY": "nan",
         "RATE_INTEREST_PRIVILEGED": "nan",
         "NAME_CASH_LOAN_PURPOSE": "XAP",
         "NAME_CONTRACT_STATUS": "Approved",
         "DAYS_DECISION": -589,
         "NAME_PAYMENT_TYPE": "XNA",
         "CODE_REJECT_REASON": "XAP",
         "NAME_TYPE_SUITE": "nan",
         "NAME_CLIENT_TYPE": "Refreshed",
         "NAME_GOODS_CATEGORY": "XNA",
         "NAME_PORTFOLIO": "Cards",
         "NAME_PRODUCT_TYPE": "x-sell",
         "CHANNEL_TYPE": "Credit and cash offices",
         "SELLERPLACE_AREA": 0,
         "NAME_SELLER_INDUSTRY": "XNA",
         "CNT_PAYMENT": 0,
         "NAME_YIELD_GROUP": "XNA",
         "PRODUCT_COMBINATION": "Card X-Sell",
         "DAYS_FIRST_DRAWING": -589,
         "DAYS_FIRST_DUE": 365243,
         "DAYS_LAST_DUE_1ST_VERSION": 365243,
         "DAYS_LAST_DUE": 365243,
         "DAYS_TERMINATION": 365243,
         "NFLAG_INSURED_ON_APPROVAL": 0,
         "_deepnote_index_column": 1669730
        },
        {
         "SK_ID_PREV": 2235319,
         "SK_ID_CURR": 225301,
         "NAME_CONTRACT_TYPE": "Revolving loans",
         "AMT_ANNUITY": 5625,
         "AMT_APPLICATION": 112500,
         "AMT_CREDIT": 112500,
         "AMT_DOWN_PAYMENT": "nan",
         "AMT_GOODS_PRICE": 112500,
         "WEEKDAY_APPR_PROCESS_START": "TUESDAY",
         "HOUR_APPR_PROCESS_START": 11,
         "FLAG_LAST_APPL_PER_CONTRACT": "Y",
         "NFLAG_LAST_APPL_IN_DAY": 1,
         "RATE_DOWN_PAYMENT": "nan",
         "RATE_INTEREST_PRIMARY": "nan",
         "RATE_INTEREST_PRIVILEGED": "nan",
         "NAME_CASH_LOAN_PURPOSE": "XAP",
         "NAME_CONTRACT_STATUS": "Approved",
         "DAYS_DECISION": -867,
         "NAME_PAYMENT_TYPE": "XNA",
         "CODE_REJECT_REASON": "XAP",
         "NAME_TYPE_SUITE": "nan",
         "NAME_CLIENT_TYPE": "New",
         "NAME_GOODS_CATEGORY": "XNA",
         "NAME_PORTFOLIO": "Cards",
         "NAME_PRODUCT_TYPE": "walk-in",
         "CHANNEL_TYPE": "AP+ (Cash loan)",
         "SELLERPLACE_AREA": 4,
         "NAME_SELLER_INDUSTRY": "XNA",
         "CNT_PAYMENT": 0,
         "NAME_YIELD_GROUP": "XNA",
         "PRODUCT_COMBINATION": "Card Street",
         "DAYS_FIRST_DRAWING": -863,
         "DAYS_FIRST_DUE": -817,
         "DAYS_LAST_DUE_1ST_VERSION": 365243,
         "DAYS_LAST_DUE": -544,
         "DAYS_TERMINATION": 365243,
         "NFLAG_INSURED_ON_APPROVAL": 0,
         "_deepnote_index_column": 1669788
        },
        {
         "SK_ID_PREV": 1161466,
         "SK_ID_CURR": 134972,
         "NAME_CONTRACT_TYPE": "Revolving loans",
         "AMT_ANNUITY": 4500,
         "AMT_APPLICATION": 90000,
         "AMT_CREDIT": 90000,
         "AMT_DOWN_PAYMENT": "nan",
         "AMT_GOODS_PRICE": 90000,
         "WEEKDAY_APPR_PROCESS_START": "TUESDAY",
         "HOUR_APPR_PROCESS_START": 12,
         "FLAG_LAST_APPL_PER_CONTRACT": "Y",
         "NFLAG_LAST_APPL_IN_DAY": 1,
         "RATE_DOWN_PAYMENT": "nan",
         "RATE_INTEREST_PRIMARY": "nan",
         "RATE_INTEREST_PRIVILEGED": "nan",
         "NAME_CASH_LOAN_PURPOSE": "XAP",
         "NAME_CONTRACT_STATUS": "Approved",
         "DAYS_DECISION": -408,
         "NAME_PAYMENT_TYPE": "XNA",
         "CODE_REJECT_REASON": "XAP",
         "NAME_TYPE_SUITE": "Family",
         "NAME_CLIENT_TYPE": "Repeater",
         "NAME_GOODS_CATEGORY": "XNA",
         "NAME_PORTFOLIO": "Cards",
         "NAME_PRODUCT_TYPE": "x-sell",
         "CHANNEL_TYPE": "Credit and cash offices",
         "SELLERPLACE_AREA": -1,
         "NAME_SELLER_INDUSTRY": "XNA",
         "CNT_PAYMENT": 0,
         "NAME_YIELD_GROUP": "XNA",
         "PRODUCT_COMBINATION": "Card X-Sell",
         "DAYS_FIRST_DRAWING": 365243,
         "DAYS_FIRST_DUE": 365243,
         "DAYS_LAST_DUE_1ST_VERSION": 365243,
         "DAYS_LAST_DUE": 365243,
         "DAYS_TERMINATION": -195,
         "NFLAG_INSURED_ON_APPROVAL": 0,
         "_deepnote_index_column": 1669796
        },
        {
         "SK_ID_PREV": 1292478,
         "SK_ID_CURR": 319374,
         "NAME_CONTRACT_TYPE": "Revolving loans",
         "AMT_ANNUITY": 45000,
         "AMT_APPLICATION": 0,
         "AMT_CREDIT": 900000,
         "AMT_DOWN_PAYMENT": "nan",
         "AMT_GOODS_PRICE": "nan",
         "WEEKDAY_APPR_PROCESS_START": "TUESDAY",
         "HOUR_APPR_PROCESS_START": 16,
         "FLAG_LAST_APPL_PER_CONTRACT": "Y",
         "NFLAG_LAST_APPL_IN_DAY": 1,
         "RATE_DOWN_PAYMENT": "nan",
         "RATE_INTEREST_PRIMARY": "nan",
         "RATE_INTEREST_PRIVILEGED": "nan",
         "NAME_CASH_LOAN_PURPOSE": "XAP",
         "NAME_CONTRACT_STATUS": "Approved",
         "DAYS_DECISION": -455,
         "NAME_PAYMENT_TYPE": "XNA",
         "CODE_REJECT_REASON": "XAP",
         "NAME_TYPE_SUITE": "nan",
         "NAME_CLIENT_TYPE": "Repeater",
         "NAME_GOODS_CATEGORY": "XNA",
         "NAME_PORTFOLIO": "Cards",
         "NAME_PRODUCT_TYPE": "x-sell",
         "CHANNEL_TYPE": "Credit and cash offices",
         "SELLERPLACE_AREA": -1,
         "NAME_SELLER_INDUSTRY": "XNA",
         "CNT_PAYMENT": 0,
         "NAME_YIELD_GROUP": "XNA",
         "PRODUCT_COMBINATION": "Card X-Sell",
         "DAYS_FIRST_DRAWING": -453,
         "DAYS_FIRST_DUE": -409,
         "DAYS_LAST_DUE_1ST_VERSION": 365243,
         "DAYS_LAST_DUE": 365243,
         "DAYS_TERMINATION": 365243,
         "NFLAG_INSURED_ON_APPROVAL": 0,
         "_deepnote_index_column": 1669830
        },
        {
         "SK_ID_PREV": 1544069,
         "SK_ID_CURR": 454213,
         "NAME_CONTRACT_TYPE": "Revolving loans",
         "AMT_ANNUITY": 9000,
         "AMT_APPLICATION": 180000,
         "AMT_CREDIT": 180000,
         "AMT_DOWN_PAYMENT": "nan",
         "AMT_GOODS_PRICE": 180000,
         "WEEKDAY_APPR_PROCESS_START": "WEDNESDAY",
         "HOUR_APPR_PROCESS_START": 9,
         "FLAG_LAST_APPL_PER_CONTRACT": "Y",
         "NFLAG_LAST_APPL_IN_DAY": 1,
         "RATE_DOWN_PAYMENT": "nan",
         "RATE_INTEREST_PRIMARY": "nan",
         "RATE_INTEREST_PRIVILEGED": "nan",
         "NAME_CASH_LOAN_PURPOSE": "XAP",
         "NAME_CONTRACT_STATUS": "Approved",
         "DAYS_DECISION": -721,
         "NAME_PAYMENT_TYPE": "XNA",
         "CODE_REJECT_REASON": "XAP",
         "NAME_TYPE_SUITE": "nan",
         "NAME_CLIENT_TYPE": "Repeater",
         "NAME_GOODS_CATEGORY": "XNA",
         "NAME_PORTFOLIO": "Cards",
         "NAME_PRODUCT_TYPE": "x-sell",
         "CHANNEL_TYPE": "Credit and cash offices",
         "SELLERPLACE_AREA": -1,
         "NAME_SELLER_INDUSTRY": "XNA",
         "CNT_PAYMENT": 0,
         "NAME_YIELD_GROUP": "XNA",
         "PRODUCT_COMBINATION": "Card X-Sell",
         "DAYS_FIRST_DRAWING": -596,
         "DAYS_FIRST_DUE": -557,
         "DAYS_LAST_DUE_1ST_VERSION": 365243,
         "DAYS_LAST_DUE": 365243,
         "DAYS_TERMINATION": 365243,
         "NFLAG_INSURED_ON_APPROVAL": 0,
         "_deepnote_index_column": 1669833
        },
        {
         "SK_ID_PREV": 1731392,
         "SK_ID_CURR": 180860,
         "NAME_CONTRACT_TYPE": "Revolving loans",
         "AMT_ANNUITY": 11250,
         "AMT_APPLICATION": 0,
         "AMT_CREDIT": 225000,
         "AMT_DOWN_PAYMENT": "nan",
         "AMT_GOODS_PRICE": "nan",
         "WEEKDAY_APPR_PROCESS_START": "TUESDAY",
         "HOUR_APPR_PROCESS_START": 17,
         "FLAG_LAST_APPL_PER_CONTRACT": "Y",
         "NFLAG_LAST_APPL_IN_DAY": 1,
         "RATE_DOWN_PAYMENT": "nan",
         "RATE_INTEREST_PRIMARY": "nan",
         "RATE_INTEREST_PRIVILEGED": "nan",
         "NAME_CASH_LOAN_PURPOSE": "XAP",
         "NAME_CONTRACT_STATUS": "Approved",
         "DAYS_DECISION": -1155,
         "NAME_PAYMENT_TYPE": "XNA",
         "CODE_REJECT_REASON": "XAP",
         "NAME_TYPE_SUITE": "nan",
         "NAME_CLIENT_TYPE": "Repeater",
         "NAME_GOODS_CATEGORY": "XNA",
         "NAME_PORTFOLIO": "Cards",
         "NAME_PRODUCT_TYPE": "x-sell",
         "CHANNEL_TYPE": "Credit and cash offices",
         "SELLERPLACE_AREA": -1,
         "NAME_SELLER_INDUSTRY": "XNA",
         "CNT_PAYMENT": 0,
         "NAME_YIELD_GROUP": "XNA",
         "PRODUCT_COMBINATION": "Card X-Sell",
         "DAYS_FIRST_DRAWING": -1083,
         "DAYS_FIRST_DUE": -1055,
         "DAYS_LAST_DUE_1ST_VERSION": 365243,
         "DAYS_LAST_DUE": -354,
         "DAYS_TERMINATION": 365243,
         "NFLAG_INSURED_ON_APPROVAL": 0,
         "_deepnote_index_column": 1669960
        },
        {
         "SK_ID_PREV": 2101747,
         "SK_ID_CURR": 339383,
         "NAME_CONTRACT_TYPE": "Revolving loans",
         "AMT_ANNUITY": 3375,
         "AMT_APPLICATION": 0,
         "AMT_CREDIT": 67500,
         "AMT_DOWN_PAYMENT": "nan",
         "AMT_GOODS_PRICE": "nan",
         "WEEKDAY_APPR_PROCESS_START": "FRIDAY",
         "HOUR_APPR_PROCESS_START": 18,
         "FLAG_LAST_APPL_PER_CONTRACT": "Y",
         "NFLAG_LAST_APPL_IN_DAY": 1,
         "RATE_DOWN_PAYMENT": "nan",
         "RATE_INTEREST_PRIMARY": "nan",
         "RATE_INTEREST_PRIVILEGED": "nan",
         "NAME_CASH_LOAN_PURPOSE": "XAP",
         "NAME_CONTRACT_STATUS": "Approved",
         "DAYS_DECISION": -540,
         "NAME_PAYMENT_TYPE": "XNA",
         "CODE_REJECT_REASON": "XAP",
         "NAME_TYPE_SUITE": "nan",
         "NAME_CLIENT_TYPE": "Refreshed",
         "NAME_GOODS_CATEGORY": "XNA",
         "NAME_PORTFOLIO": "Cards",
         "NAME_PRODUCT_TYPE": "x-sell",
         "CHANNEL_TYPE": "AP+ (Cash loan)",
         "SELLERPLACE_AREA": 10,
         "NAME_SELLER_INDUSTRY": "XNA",
         "CNT_PAYMENT": 0,
         "NAME_YIELD_GROUP": "XNA",
         "PRODUCT_COMBINATION": "Card X-Sell",
         "DAYS_FIRST_DRAWING": -474,
         "DAYS_FIRST_DUE": -438,
         "DAYS_LAST_DUE_1ST_VERSION": 365243,
         "DAYS_LAST_DUE": 365243,
         "DAYS_TERMINATION": 365243,
         "NFLAG_INSURED_ON_APPROVAL": 0,
         "_deepnote_index_column": 1670192
        }
       ]
      },
      "text/plain": "         SK_ID_PREV  SK_ID_CURR NAME_CONTRACT_TYPE  AMT_ANNUITY  \\\n17          1285768      142748    Revolving loans       9000.0   \n34          1629736      255331    Revolving loans      10125.0   \n49          1371540      200721    Revolving loans      11250.0   \n82          2709276      342991    Revolving loans      45000.0   \n93          2522811      120854    Revolving loans      33750.0   \n...             ...         ...                ...          ...   \n1669796     1161466      134972    Revolving loans       4500.0   \n1669830     1292478      319374    Revolving loans      45000.0   \n1669833     1544069      454213    Revolving loans       9000.0   \n1669960     1731392      180860    Revolving loans      11250.0   \n1670192     2101747      339383    Revolving loans       3375.0   \n\n         AMT_APPLICATION  AMT_CREDIT  AMT_DOWN_PAYMENT  AMT_GOODS_PRICE  \\\n17              180000.0    180000.0               NaN         180000.0   \n34              202500.0    202500.0               NaN         202500.0   \n49              225000.0    225000.0               NaN         225000.0   \n82              900000.0    900000.0               NaN         900000.0   \n93                   0.0    675000.0               NaN              NaN   \n...                  ...         ...               ...              ...   \n1669796          90000.0     90000.0               NaN          90000.0   \n1669830              0.0    900000.0               NaN              NaN   \n1669833         180000.0    180000.0               NaN         180000.0   \n1669960              0.0    225000.0               NaN              NaN   \n1670192              0.0     67500.0               NaN              NaN   \n\n        WEEKDAY_APPR_PROCESS_START  HOUR_APPR_PROCESS_START  ...  \\\n17                          FRIDAY                       13  ...   \n34                        SATURDAY                       14  ...   \n49                          FRIDAY                       15  ...   \n82                         TUESDAY                       13  ...   \n93                        THURSDAY                       18  ...   \n...                            ...                      ...  ...   \n1669796                    TUESDAY                       12  ...   \n1669830                    TUESDAY                       16  ...   \n1669833                  WEDNESDAY                        9  ...   \n1669960                    TUESDAY                       17  ...   \n1670192                     FRIDAY                       18  ...   \n\n        NAME_SELLER_INDUSTRY  CNT_PAYMENT  NAME_YIELD_GROUP  \\\n17                       XNA          0.0               XNA   \n34                       XNA          0.0               XNA   \n49                       XNA          0.0               XNA   \n82                       XNA          0.0               XNA   \n93                       XNA          0.0               XNA   \n...                      ...          ...               ...   \n1669796                  XNA          0.0               XNA   \n1669830                  XNA          0.0               XNA   \n1669833                  XNA          0.0               XNA   \n1669960                  XNA          0.0               XNA   \n1670192                  XNA          0.0               XNA   \n\n         PRODUCT_COMBINATION  DAYS_FIRST_DRAWING DAYS_FIRST_DUE  \\\n17               Card X-Sell              -277.0         -257.0   \n34               Card X-Sell              -265.0         -234.0   \n49               Card Street            365243.0       365243.0   \n82               Card X-Sell              -479.0         -435.0   \n93               Card X-Sell              -332.0         -297.0   \n...                      ...                 ...            ...   \n1669796          Card X-Sell            365243.0       365243.0   \n1669830          Card X-Sell              -453.0         -409.0   \n1669833          Card X-Sell              -596.0         -557.0   \n1669960          Card X-Sell             -1083.0        -1055.0   \n1670192          Card X-Sell              -474.0         -438.0   \n\n        DAYS_LAST_DUE_1ST_VERSION  DAYS_LAST_DUE DAYS_TERMINATION  \\\n17                       365243.0       365243.0         365243.0   \n34                       365243.0       365243.0         365243.0   \n49                       365243.0       365243.0           -171.0   \n82                       365243.0       365243.0         365243.0   \n93                       365243.0       365243.0         365243.0   \n...                           ...            ...              ...   \n1669796                  365243.0       365243.0           -195.0   \n1669830                  365243.0       365243.0         365243.0   \n1669833                  365243.0       365243.0         365243.0   \n1669960                  365243.0         -354.0         365243.0   \n1670192                  365243.0       365243.0         365243.0   \n\n        NFLAG_INSURED_ON_APPROVAL  \n17                            0.0  \n34                            0.0  \n49                            0.0  \n82                            0.0  \n93                            0.0  \n...                           ...  \n1669796                       0.0  \n1669830                       0.0  \n1669833                       0.0  \n1669960                       0.0  \n1670192                       0.0  \n\n[97771 rows x 37 columns]",
      "text/html": "<div>\n<style scoped>\n    .dataframe tbody tr th:only-of-type {\n        vertical-align: middle;\n    }\n\n    .dataframe tbody tr th {\n        vertical-align: top;\n    }\n\n    .dataframe thead th {\n        text-align: right;\n    }\n</style>\n<table border=\"1\" class=\"dataframe\">\n  <thead>\n    <tr style=\"text-align: right;\">\n      <th></th>\n      <th>SK_ID_PREV</th>\n      <th>SK_ID_CURR</th>\n      <th>NAME_CONTRACT_TYPE</th>\n      <th>AMT_ANNUITY</th>\n      <th>AMT_APPLICATION</th>\n      <th>AMT_CREDIT</th>\n      <th>AMT_DOWN_PAYMENT</th>\n      <th>AMT_GOODS_PRICE</th>\n      <th>WEEKDAY_APPR_PROCESS_START</th>\n      <th>HOUR_APPR_PROCESS_START</th>\n      <th>...</th>\n      <th>NAME_SELLER_INDUSTRY</th>\n      <th>CNT_PAYMENT</th>\n      <th>NAME_YIELD_GROUP</th>\n      <th>PRODUCT_COMBINATION</th>\n      <th>DAYS_FIRST_DRAWING</th>\n      <th>DAYS_FIRST_DUE</th>\n      <th>DAYS_LAST_DUE_1ST_VERSION</th>\n      <th>DAYS_LAST_DUE</th>\n      <th>DAYS_TERMINATION</th>\n      <th>NFLAG_INSURED_ON_APPROVAL</th>\n    </tr>\n  </thead>\n  <tbody>\n    <tr>\n      <th>17</th>\n      <td>1285768</td>\n      <td>142748</td>\n      <td>Revolving loans</td>\n      <td>9000.0</td>\n      <td>180000.0</td>\n      <td>180000.0</td>\n      <td>NaN</td>\n      <td>180000.0</td>\n      <td>FRIDAY</td>\n      <td>13</td>\n      <td>...</td>\n      <td>XNA</td>\n      <td>0.0</td>\n      <td>XNA</td>\n      <td>Card X-Sell</td>\n      <td>-277.0</td>\n      <td>-257.0</td>\n      <td>365243.0</td>\n      <td>365243.0</td>\n      <td>365243.0</td>\n      <td>0.0</td>\n    </tr>\n    <tr>\n      <th>34</th>\n      <td>1629736</td>\n      <td>255331</td>\n      <td>Revolving loans</td>\n      <td>10125.0</td>\n      <td>202500.0</td>\n      <td>202500.0</td>\n      <td>NaN</td>\n      <td>202500.0</td>\n      <td>SATURDAY</td>\n      <td>14</td>\n      <td>...</td>\n      <td>XNA</td>\n      <td>0.0</td>\n      <td>XNA</td>\n      <td>Card X-Sell</td>\n      <td>-265.0</td>\n      <td>-234.0</td>\n      <td>365243.0</td>\n      <td>365243.0</td>\n      <td>365243.0</td>\n      <td>0.0</td>\n    </tr>\n    <tr>\n      <th>49</th>\n      <td>1371540</td>\n      <td>200721</td>\n      <td>Revolving loans</td>\n      <td>11250.0</td>\n      <td>225000.0</td>\n      <td>225000.0</td>\n      <td>NaN</td>\n      <td>225000.0</td>\n      <td>FRIDAY</td>\n      <td>15</td>\n      <td>...</td>\n      <td>XNA</td>\n      <td>0.0</td>\n      <td>XNA</td>\n      <td>Card Street</td>\n      <td>365243.0</td>\n      <td>365243.0</td>\n      <td>365243.0</td>\n      <td>365243.0</td>\n      <td>-171.0</td>\n      <td>0.0</td>\n    </tr>\n    <tr>\n      <th>82</th>\n      <td>2709276</td>\n      <td>342991</td>\n      <td>Revolving loans</td>\n      <td>45000.0</td>\n      <td>900000.0</td>\n      <td>900000.0</td>\n      <td>NaN</td>\n      <td>900000.0</td>\n      <td>TUESDAY</td>\n      <td>13</td>\n      <td>...</td>\n      <td>XNA</td>\n      <td>0.0</td>\n      <td>XNA</td>\n      <td>Card X-Sell</td>\n      <td>-479.0</td>\n      <td>-435.0</td>\n      <td>365243.0</td>\n      <td>365243.0</td>\n      <td>365243.0</td>\n      <td>0.0</td>\n    </tr>\n    <tr>\n      <th>93</th>\n      <td>2522811</td>\n      <td>120854</td>\n      <td>Revolving loans</td>\n      <td>33750.0</td>\n      <td>0.0</td>\n      <td>675000.0</td>\n      <td>NaN</td>\n      <td>NaN</td>\n      <td>THURSDAY</td>\n      <td>18</td>\n      <td>...</td>\n      <td>XNA</td>\n      <td>0.0</td>\n      <td>XNA</td>\n      <td>Card X-Sell</td>\n      <td>-332.0</td>\n      <td>-297.0</td>\n      <td>365243.0</td>\n      <td>365243.0</td>\n      <td>365243.0</td>\n      <td>0.0</td>\n    </tr>\n    <tr>\n      <th>...</th>\n      <td>...</td>\n      <td>...</td>\n      <td>...</td>\n      <td>...</td>\n      <td>...</td>\n      <td>...</td>\n      <td>...</td>\n      <td>...</td>\n      <td>...</td>\n      <td>...</td>\n      <td>...</td>\n      <td>...</td>\n      <td>...</td>\n      <td>...</td>\n      <td>...</td>\n      <td>...</td>\n      <td>...</td>\n      <td>...</td>\n      <td>...</td>\n      <td>...</td>\n      <td>...</td>\n    </tr>\n    <tr>\n      <th>1669796</th>\n      <td>1161466</td>\n      <td>134972</td>\n      <td>Revolving loans</td>\n      <td>4500.0</td>\n      <td>90000.0</td>\n      <td>90000.0</td>\n      <td>NaN</td>\n      <td>90000.0</td>\n      <td>TUESDAY</td>\n      <td>12</td>\n      <td>...</td>\n      <td>XNA</td>\n      <td>0.0</td>\n      <td>XNA</td>\n      <td>Card X-Sell</td>\n      <td>365243.0</td>\n      <td>365243.0</td>\n      <td>365243.0</td>\n      <td>365243.0</td>\n      <td>-195.0</td>\n      <td>0.0</td>\n    </tr>\n    <tr>\n      <th>1669830</th>\n      <td>1292478</td>\n      <td>319374</td>\n      <td>Revolving loans</td>\n      <td>45000.0</td>\n      <td>0.0</td>\n      <td>900000.0</td>\n      <td>NaN</td>\n      <td>NaN</td>\n      <td>TUESDAY</td>\n      <td>16</td>\n      <td>...</td>\n      <td>XNA</td>\n      <td>0.0</td>\n      <td>XNA</td>\n      <td>Card X-Sell</td>\n      <td>-453.0</td>\n      <td>-409.0</td>\n      <td>365243.0</td>\n      <td>365243.0</td>\n      <td>365243.0</td>\n      <td>0.0</td>\n    </tr>\n    <tr>\n      <th>1669833</th>\n      <td>1544069</td>\n      <td>454213</td>\n      <td>Revolving loans</td>\n      <td>9000.0</td>\n      <td>180000.0</td>\n      <td>180000.0</td>\n      <td>NaN</td>\n      <td>180000.0</td>\n      <td>WEDNESDAY</td>\n      <td>9</td>\n      <td>...</td>\n      <td>XNA</td>\n      <td>0.0</td>\n      <td>XNA</td>\n      <td>Card X-Sell</td>\n      <td>-596.0</td>\n      <td>-557.0</td>\n      <td>365243.0</td>\n      <td>365243.0</td>\n      <td>365243.0</td>\n      <td>0.0</td>\n    </tr>\n    <tr>\n      <th>1669960</th>\n      <td>1731392</td>\n      <td>180860</td>\n      <td>Revolving loans</td>\n      <td>11250.0</td>\n      <td>0.0</td>\n      <td>225000.0</td>\n      <td>NaN</td>\n      <td>NaN</td>\n      <td>TUESDAY</td>\n      <td>17</td>\n      <td>...</td>\n      <td>XNA</td>\n      <td>0.0</td>\n      <td>XNA</td>\n      <td>Card X-Sell</td>\n      <td>-1083.0</td>\n      <td>-1055.0</td>\n      <td>365243.0</td>\n      <td>-354.0</td>\n      <td>365243.0</td>\n      <td>0.0</td>\n    </tr>\n    <tr>\n      <th>1670192</th>\n      <td>2101747</td>\n      <td>339383</td>\n      <td>Revolving loans</td>\n      <td>3375.0</td>\n      <td>0.0</td>\n      <td>67500.0</td>\n      <td>NaN</td>\n      <td>NaN</td>\n      <td>FRIDAY</td>\n      <td>18</td>\n      <td>...</td>\n      <td>XNA</td>\n      <td>0.0</td>\n      <td>XNA</td>\n      <td>Card X-Sell</td>\n      <td>-474.0</td>\n      <td>-438.0</td>\n      <td>365243.0</td>\n      <td>365243.0</td>\n      <td>365243.0</td>\n      <td>0.0</td>\n    </tr>\n  </tbody>\n</table>\n<p>97771 rows × 37 columns</p>\n</div>"
     },
     "metadata": {}
    }
   ]
  },
  {
   "cell_type": "code",
   "metadata": {
    "tags": [],
    "cell_id": "00026-f0239401-9d0a-4ab2-9161-7f5a0f89188f",
    "deepnote_to_be_reexecuted": true,
    "source_hash": "88b0d629",
    "execution_start": 1630439790824,
    "execution_millis": 72,
    "deepnote_cell_type": "code"
   },
   "source": "pmts[pmts.SK_ID_PREV == ID].sort_values(\"NUM_INSTALMENT_NUMBER\").AMT_INSTALMENT.mean()",
   "execution_count": null,
   "outputs": [
    {
     "output_type": "execute_result",
     "execution_count": 20,
     "data": {
      "text/plain": "29491.003255813957"
     },
     "metadata": {}
    }
   ]
  },
  {
   "cell_type": "code",
   "metadata": {
    "tags": [],
    "cell_id": "00004-42ade439-5446-46f0-8e0a-08e27c052221",
    "deepnote_to_be_reexecuted": true,
    "source_hash": "9f60f594",
    "execution_start": 1630439866091,
    "execution_millis": 120,
    "deepnote_cell_type": "code"
   },
   "source": "ID = 2709276\nprint(\"The loan given was for %f and the borrower ultimately paid out %f so far on the loan, paying an extra %f. \\n The payments were supposed to be %f each while the average payemnt made so far is %f.\"\n    %(prev_apps[prev_apps.SK_ID_PREV == ID].AMT_CREDIT, pmts[pmts.SK_ID_PREV == ID].sort_values(\"NUM_INSTALMENT_NUMBER\").AMT_INSTALMENT.sum(), \n        pmts[pmts.SK_ID_PREV == ID].sort_values(\"NUM_INSTALMENT_NUMBER\").AMT_INSTALMENT.sum() - prev_apps[prev_apps.SK_ID_PREV == ID].AMT_CREDIT,\n        prev_apps[prev_apps.SK_ID_PREV == ID].AMT_ANNUITY, pmts[pmts.SK_ID_PREV == ID].AMT_INSTALMENT.mean())\n    )\n\npmts[pmts.SK_ID_PREV == ID].sort_values(\"NUM_INSTALMENT_NUMBER\")",
   "execution_count": null,
   "outputs": [
    {
     "name": "stdout",
     "text": "The loan given was for 900000.000000 and the borrower ultimately paid out 1268113.140000 so far on the loan, paying an extra 368113.140000. \n The payments were supposed to be 45000.000000 each while the average payemnt made so far is 29491.003256.\n",
     "output_type": "stream"
    },
    {
     "output_type": "execute_result",
     "execution_count": 24,
     "data": {
      "application/vnd.deepnote.dataframe.v2+json": {
       "row_count": 43,
       "column_count": 8,
       "columns": [
        {
         "name": "SK_ID_PREV",
         "dtype": "int64",
         "stats": {
          "unique_count": 1,
          "nan_count": 0,
          "min": "2709276",
          "max": "2709276",
          "histogram": [
           {
            "bin_start": 2709275.5,
            "bin_end": 2709275.6,
            "count": 0
           },
           {
            "bin_start": 2709275.6,
            "bin_end": 2709275.7,
            "count": 0
           },
           {
            "bin_start": 2709275.7,
            "bin_end": 2709275.8,
            "count": 0
           },
           {
            "bin_start": 2709275.8,
            "bin_end": 2709275.9,
            "count": 0
           },
           {
            "bin_start": 2709275.9,
            "bin_end": 2709276,
            "count": 0
           },
           {
            "bin_start": 2709276,
            "bin_end": 2709276.1,
            "count": 43
           },
           {
            "bin_start": 2709276.1,
            "bin_end": 2709276.2,
            "count": 0
           },
           {
            "bin_start": 2709276.2,
            "bin_end": 2709276.3,
            "count": 0
           },
           {
            "bin_start": 2709276.3,
            "bin_end": 2709276.4,
            "count": 0
           },
           {
            "bin_start": 2709276.4,
            "bin_end": 2709276.5,
            "count": 0
           }
          ]
         }
        },
        {
         "name": "SK_ID_CURR",
         "dtype": "int64",
         "stats": {
          "unique_count": 1,
          "nan_count": 0,
          "min": "342991",
          "max": "342991",
          "histogram": [
           {
            "bin_start": 342990.5,
            "bin_end": 342990.6,
            "count": 0
           },
           {
            "bin_start": 342990.6,
            "bin_end": 342990.7,
            "count": 0
           },
           {
            "bin_start": 342990.7,
            "bin_end": 342990.8,
            "count": 0
           },
           {
            "bin_start": 342990.8,
            "bin_end": 342990.9,
            "count": 0
           },
           {
            "bin_start": 342990.9,
            "bin_end": 342991,
            "count": 0
           },
           {
            "bin_start": 342991,
            "bin_end": 342991.1,
            "count": 43
           },
           {
            "bin_start": 342991.1,
            "bin_end": 342991.2,
            "count": 0
           },
           {
            "bin_start": 342991.2,
            "bin_end": 342991.3,
            "count": 0
           },
           {
            "bin_start": 342991.3,
            "bin_end": 342991.4,
            "count": 0
           },
           {
            "bin_start": 342991.4,
            "bin_end": 342991.5,
            "count": 0
           }
          ]
         }
        },
        {
         "name": "NUM_INSTALMENT_VERSION",
         "dtype": "float64",
         "stats": {
          "unique_count": 1,
          "nan_count": 0,
          "min": "0.0",
          "max": "0.0",
          "histogram": [
           {
            "bin_start": -0.5,
            "bin_end": -0.4,
            "count": 0
           },
           {
            "bin_start": -0.4,
            "bin_end": -0.3,
            "count": 0
           },
           {
            "bin_start": -0.3,
            "bin_end": -0.19999999999999996,
            "count": 0
           },
           {
            "bin_start": -0.19999999999999996,
            "bin_end": -0.09999999999999998,
            "count": 0
           },
           {
            "bin_start": -0.09999999999999998,
            "bin_end": 0,
            "count": 0
           },
           {
            "bin_start": 0,
            "bin_end": 0.10000000000000009,
            "count": 43
           },
           {
            "bin_start": 0.10000000000000009,
            "bin_end": 0.20000000000000007,
            "count": 0
           },
           {
            "bin_start": 0.20000000000000007,
            "bin_end": 0.30000000000000004,
            "count": 0
           },
           {
            "bin_start": 0.30000000000000004,
            "bin_end": 0.4,
            "count": 0
           },
           {
            "bin_start": 0.4,
            "bin_end": 0.5,
            "count": 0
           }
          ]
         }
        },
        {
         "name": "NUM_INSTALMENT_NUMBER",
         "dtype": "int64",
         "stats": {
          "unique_count": 43,
          "nan_count": 0,
          "min": "1",
          "max": "43",
          "histogram": [
           {
            "bin_start": 1,
            "bin_end": 5.2,
            "count": 5
           },
           {
            "bin_start": 5.2,
            "bin_end": 9.4,
            "count": 4
           },
           {
            "bin_start": 9.4,
            "bin_end": 13.600000000000001,
            "count": 4
           },
           {
            "bin_start": 13.600000000000001,
            "bin_end": 17.8,
            "count": 4
           },
           {
            "bin_start": 17.8,
            "bin_end": 22,
            "count": 4
           },
           {
            "bin_start": 22,
            "bin_end": 26.200000000000003,
            "count": 5
           },
           {
            "bin_start": 26.200000000000003,
            "bin_end": 30.400000000000002,
            "count": 4
           },
           {
            "bin_start": 30.400000000000002,
            "bin_end": 34.6,
            "count": 4
           },
           {
            "bin_start": 34.6,
            "bin_end": 38.800000000000004,
            "count": 4
           },
           {
            "bin_start": 38.800000000000004,
            "bin_end": 43,
            "count": 5
           }
          ]
         }
        },
        {
         "name": "DAYS_INSTALMENT",
         "dtype": "float64",
         "stats": {
          "unique_count": 42,
          "nan_count": 0,
          "min": "-445.0",
          "max": "-6.0",
          "histogram": [
           {
            "bin_start": -445,
            "bin_end": -401.1,
            "count": 5
           },
           {
            "bin_start": -401.1,
            "bin_end": -357.2,
            "count": 3
           },
           {
            "bin_start": -357.2,
            "bin_end": -313.3,
            "count": 6
           },
           {
            "bin_start": -313.3,
            "bin_end": -269.4,
            "count": 5
           },
           {
            "bin_start": -269.4,
            "bin_end": -225.5,
            "count": 1
           },
           {
            "bin_start": -225.5,
            "bin_end": -181.60000000000002,
            "count": 4
           },
           {
            "bin_start": -181.60000000000002,
            "bin_end": -137.7,
            "count": 4
           },
           {
            "bin_start": -137.7,
            "bin_end": -93.80000000000001,
            "count": 5
           },
           {
            "bin_start": -93.80000000000001,
            "bin_end": -49.900000000000034,
            "count": 4
           },
           {
            "bin_start": -49.900000000000034,
            "bin_end": -6,
            "count": 6
           }
          ]
         }
        },
        {
         "name": "DAYS_ENTRY_PAYMENT",
         "dtype": "float64",
         "stats": {
          "unique_count": 29,
          "nan_count": 0,
          "min": "-445.0",
          "max": "-6.0",
          "histogram": [
           {
            "bin_start": -445,
            "bin_end": -401.1,
            "count": 5
           },
           {
            "bin_start": -401.1,
            "bin_end": -357.2,
            "count": 3
           },
           {
            "bin_start": -357.2,
            "bin_end": -313.3,
            "count": 6
           },
           {
            "bin_start": -313.3,
            "bin_end": -269.4,
            "count": 5
           },
           {
            "bin_start": -269.4,
            "bin_end": -225.5,
            "count": 2
           },
           {
            "bin_start": -225.5,
            "bin_end": -181.60000000000002,
            "count": 3
           },
           {
            "bin_start": -181.60000000000002,
            "bin_end": -137.7,
            "count": 4
           },
           {
            "bin_start": -137.7,
            "bin_end": -93.80000000000001,
            "count": 5
           },
           {
            "bin_start": -93.80000000000001,
            "bin_end": -49.900000000000034,
            "count": 4
           },
           {
            "bin_start": -49.900000000000034,
            "bin_end": -6,
            "count": 6
           }
          ]
         }
        },
        {
         "name": "AMT_INSTALMENT",
         "dtype": "float64",
         "stats": {
          "unique_count": 40,
          "nan_count": 0,
          "min": "61.47",
          "max": "591300.0",
          "histogram": [
           {
            "bin_start": 61.47,
            "bin_end": 59185.323000000004,
            "count": 38
           },
           {
            "bin_start": 59185.323000000004,
            "bin_end": 118309.176,
            "count": 3
           },
           {
            "bin_start": 118309.176,
            "bin_end": 177433.029,
            "count": 1
           },
           {
            "bin_start": 177433.029,
            "bin_end": 236556.882,
            "count": 0
           },
           {
            "bin_start": 236556.882,
            "bin_end": 295680.735,
            "count": 0
           },
           {
            "bin_start": 295680.735,
            "bin_end": 354804.588,
            "count": 0
           },
           {
            "bin_start": 354804.588,
            "bin_end": 413928.441,
            "count": 0
           },
           {
            "bin_start": 413928.441,
            "bin_end": 473052.294,
            "count": 0
           },
           {
            "bin_start": 473052.294,
            "bin_end": 532176.147,
            "count": 0
           },
           {
            "bin_start": 532176.147,
            "bin_end": 591300,
            "count": 1
           }
          ]
         }
        },
        {
         "name": "AMT_PAYMENT",
         "dtype": "float64",
         "stats": {
          "unique_count": 40,
          "nan_count": 0,
          "min": "61.47",
          "max": "591300.0",
          "histogram": [
           {
            "bin_start": 61.47,
            "bin_end": 59185.323000000004,
            "count": 38
           },
           {
            "bin_start": 59185.323000000004,
            "bin_end": 118309.176,
            "count": 3
           },
           {
            "bin_start": 118309.176,
            "bin_end": 177433.029,
            "count": 1
           },
           {
            "bin_start": 177433.029,
            "bin_end": 236556.882,
            "count": 0
           },
           {
            "bin_start": 236556.882,
            "bin_end": 295680.735,
            "count": 0
           },
           {
            "bin_start": 295680.735,
            "bin_end": 354804.588,
            "count": 0
           },
           {
            "bin_start": 354804.588,
            "bin_end": 413928.441,
            "count": 0
           },
           {
            "bin_start": 413928.441,
            "bin_end": 473052.294,
            "count": 0
           },
           {
            "bin_start": 473052.294,
            "bin_end": 532176.147,
            "count": 0
           },
           {
            "bin_start": 532176.147,
            "bin_end": 591300,
            "count": 1
           }
          ]
         }
        },
        {
         "name": "_deepnote_index_column",
         "dtype": "int64"
        }
       ],
       "rows_top": [
        {
         "SK_ID_PREV": 2709276,
         "SK_ID_CURR": 342991,
         "NUM_INSTALMENT_VERSION": 0,
         "NUM_INSTALMENT_NUMBER": 1,
         "DAYS_INSTALMENT": -435,
         "DAYS_ENTRY_PAYMENT": -445,
         "AMT_INSTALMENT": 2250,
         "AMT_PAYMENT": 2250,
         "_deepnote_index_column": 8569805
        },
        {
         "SK_ID_PREV": 2709276,
         "SK_ID_CURR": 342991,
         "NUM_INSTALMENT_VERSION": 0,
         "NUM_INSTALMENT_NUMBER": 2,
         "DAYS_INSTALMENT": -445,
         "DAYS_ENTRY_PAYMENT": -445,
         "AMT_INSTALMENT": 14064.57,
         "AMT_PAYMENT": 14064.57,
         "_deepnote_index_column": 9914087
        },
        {
         "SK_ID_PREV": 2709276,
         "SK_ID_CURR": 342991,
         "NUM_INSTALMENT_VERSION": 0,
         "NUM_INSTALMENT_NUMBER": 3,
         "DAYS_INSTALMENT": -432,
         "DAYS_ENTRY_PAYMENT": -432,
         "AMT_INSTALMENT": 465.75,
         "AMT_PAYMENT": 465.75,
         "_deepnote_index_column": 10007697
        },
        {
         "SK_ID_PREV": 2709276,
         "SK_ID_CURR": 342991,
         "NUM_INSTALMENT_VERSION": 0,
         "NUM_INSTALMENT_NUMBER": 4,
         "DAYS_INSTALMENT": -404,
         "DAYS_ENTRY_PAYMENT": -421,
         "AMT_INSTALMENT": 10667.115,
         "AMT_PAYMENT": 10667.115,
         "_deepnote_index_column": 9311899
        },
        {
         "SK_ID_PREV": 2709276,
         "SK_ID_CURR": 342991,
         "NUM_INSTALMENT_VERSION": 0,
         "NUM_INSTALMENT_NUMBER": 5,
         "DAYS_INSTALMENT": -421,
         "DAYS_ENTRY_PAYMENT": -421,
         "AMT_INSTALMENT": 2832.885,
         "AMT_PAYMENT": 2832.885,
         "_deepnote_index_column": 8670446
        },
        {
         "SK_ID_PREV": 2709276,
         "SK_ID_CURR": 342991,
         "NUM_INSTALMENT_VERSION": 0,
         "NUM_INSTALMENT_NUMBER": 6,
         "DAYS_INSTALMENT": -398,
         "DAYS_ENTRY_PAYMENT": -398,
         "AMT_INSTALMENT": 31500,
         "AMT_PAYMENT": 31500,
         "_deepnote_index_column": 9654501
        },
        {
         "SK_ID_PREV": 2709276,
         "SK_ID_CURR": 342991,
         "NUM_INSTALMENT_VERSION": 0,
         "NUM_INSTALMENT_NUMBER": 7,
         "DAYS_INSTALMENT": -376,
         "DAYS_ENTRY_PAYMENT": -385,
         "AMT_INSTALMENT": 13094.505,
         "AMT_PAYMENT": 13094.505,
         "_deepnote_index_column": 8201029
        },
        {
         "SK_ID_PREV": 2709276,
         "SK_ID_CURR": 342991,
         "NUM_INSTALMENT_VERSION": 0,
         "NUM_INSTALMENT_NUMBER": 8,
         "DAYS_INSTALMENT": -385,
         "DAYS_ENTRY_PAYMENT": -385,
         "AMT_INSTALMENT": 405.495,
         "AMT_PAYMENT": 405.495,
         "_deepnote_index_column": 8936323
        },
        {
         "SK_ID_PREV": 2709276,
         "SK_ID_CURR": 342991,
         "NUM_INSTALMENT_VERSION": 0,
         "NUM_INSTALMENT_NUMBER": 9,
         "DAYS_INSTALMENT": -345,
         "DAYS_ENTRY_PAYMENT": -357,
         "AMT_INSTALMENT": 15064.02,
         "AMT_PAYMENT": 15064.02,
         "_deepnote_index_column": 10543512
        },
        {
         "SK_ID_PREV": 2709276,
         "SK_ID_CURR": 342991,
         "NUM_INSTALMENT_VERSION": 0,
         "NUM_INSTALMENT_NUMBER": 10,
         "DAYS_INSTALMENT": -357,
         "DAYS_ENTRY_PAYMENT": -357,
         "AMT_INSTALMENT": 685.98,
         "AMT_PAYMENT": 685.98,
         "_deepnote_index_column": 10052261
        },
        {
         "SK_ID_PREV": 2709276,
         "SK_ID_CURR": 342991,
         "NUM_INSTALMENT_VERSION": 0,
         "NUM_INSTALMENT_NUMBER": 11,
         "DAYS_INSTALMENT": -342,
         "DAYS_ENTRY_PAYMENT": -342,
         "AMT_INSTALMENT": 312.255,
         "AMT_PAYMENT": 312.255,
         "_deepnote_index_column": 9332154
        },
        {
         "SK_ID_PREV": 2709276,
         "SK_ID_CURR": 342991,
         "NUM_INSTALMENT_VERSION": 0,
         "NUM_INSTALMENT_NUMBER": 12,
         "DAYS_INSTALMENT": -315,
         "DAYS_ENTRY_PAYMENT": -329,
         "AMT_INSTALMENT": 19862.685,
         "AMT_PAYMENT": 19862.685,
         "_deepnote_index_column": 8229662
        },
        {
         "SK_ID_PREV": 2709276,
         "SK_ID_CURR": 342991,
         "NUM_INSTALMENT_VERSION": 0,
         "NUM_INSTALMENT_NUMBER": 13,
         "DAYS_INSTALMENT": -329,
         "DAYS_ENTRY_PAYMENT": -329,
         "AMT_INSTALMENT": 2637.315,
         "AMT_PAYMENT": 2637.315,
         "_deepnote_index_column": 9901710
        },
        {
         "SK_ID_PREV": 2709276,
         "SK_ID_CURR": 342991,
         "NUM_INSTALMENT_VERSION": 0,
         "NUM_INSTALMENT_NUMBER": 14,
         "DAYS_INSTALMENT": -320,
         "DAYS_ENTRY_PAYMENT": -320,
         "AMT_INSTALMENT": 591300,
         "AMT_PAYMENT": 591300,
         "_deepnote_index_column": 10393890
        },
        {
         "SK_ID_PREV": 2709276,
         "SK_ID_CURR": 342991,
         "NUM_INSTALMENT_VERSION": 0,
         "NUM_INSTALMENT_NUMBER": 15,
         "DAYS_INSTALMENT": -312,
         "DAYS_ENTRY_PAYMENT": -312,
         "AMT_INSTALMENT": 258.21,
         "AMT_PAYMENT": 258.21,
         "_deepnote_index_column": 11471743
        },
        {
         "SK_ID_PREV": 2709276,
         "SK_ID_CURR": 342991,
         "NUM_INSTALMENT_VERSION": 0,
         "NUM_INSTALMENT_NUMBER": 16,
         "DAYS_INSTALMENT": -284,
         "DAYS_ENTRY_PAYMENT": -303,
         "AMT_INSTALMENT": 2250,
         "AMT_PAYMENT": 2250,
         "_deepnote_index_column": 11165951
        },
        {
         "SK_ID_PREV": 2709276,
         "SK_ID_CURR": 342991,
         "NUM_INSTALMENT_VERSION": 0,
         "NUM_INSTALMENT_NUMBER": 17,
         "DAYS_INSTALMENT": -303,
         "DAYS_ENTRY_PAYMENT": -303,
         "AMT_INSTALMENT": 10344.78,
         "AMT_PAYMENT": 10344.78,
         "_deepnote_index_column": 10987485
        },
        {
         "SK_ID_PREV": 2709276,
         "SK_ID_CURR": 342991,
         "NUM_INSTALMENT_VERSION": 0,
         "NUM_INSTALMENT_NUMBER": 18,
         "DAYS_INSTALMENT": -279,
         "DAYS_ENTRY_PAYMENT": -279,
         "AMT_INSTALMENT": 253.8,
         "AMT_PAYMENT": 253.8,
         "_deepnote_index_column": 10413863
        },
        {
         "SK_ID_PREV": 2709276,
         "SK_ID_CURR": 342991,
         "NUM_INSTALMENT_VERSION": 0,
         "NUM_INSTALMENT_NUMBER": 19,
         "DAYS_INSTALMENT": -273,
         "DAYS_ENTRY_PAYMENT": -273,
         "AMT_INSTALMENT": 1380.555,
         "AMT_PAYMENT": 1380.555,
         "_deepnote_index_column": 10346031
        },
        {
         "SK_ID_PREV": 2709276,
         "SK_ID_CURR": 342991,
         "NUM_INSTALMENT_VERSION": 0,
         "NUM_INSTALMENT_NUMBER": 20,
         "DAYS_INSTALMENT": -223,
         "DAYS_ENTRY_PAYMENT": -238,
         "AMT_INSTALMENT": 3504.915,
         "AMT_PAYMENT": 3504.915,
         "_deepnote_index_column": 11013623
        },
        {
         "SK_ID_PREV": 2709276,
         "SK_ID_CURR": 342991,
         "NUM_INSTALMENT_VERSION": 0,
         "NUM_INSTALMENT_NUMBER": 21,
         "DAYS_INSTALMENT": -238,
         "DAYS_ENTRY_PAYMENT": -238,
         "AMT_INSTALMENT": 81545.085,
         "AMT_PAYMENT": 81545.085,
         "_deepnote_index_column": 10722623
        },
        {
         "SK_ID_PREV": 2709276,
         "SK_ID_CURR": 342991,
         "NUM_INSTALMENT_VERSION": 0,
         "NUM_INSTALMENT_NUMBER": 22,
         "DAYS_INSTALMENT": -192,
         "DAYS_ENTRY_PAYMENT": -194,
         "AMT_INSTALMENT": 2250,
         "AMT_PAYMENT": 2250,
         "_deepnote_index_column": 7787120
        },
        {
         "SK_ID_PREV": 2709276,
         "SK_ID_CURR": 342991,
         "NUM_INSTALMENT_VERSION": 0,
         "NUM_INSTALMENT_NUMBER": 23,
         "DAYS_INSTALMENT": -194,
         "DAYS_ENTRY_PAYMENT": -194,
         "AMT_INSTALMENT": 2250,
         "AMT_PAYMENT": 2250,
         "_deepnote_index_column": 8799632
        },
        {
         "SK_ID_PREV": 2709276,
         "SK_ID_CURR": 342991,
         "NUM_INSTALMENT_VERSION": 0,
         "NUM_INSTALMENT_NUMBER": 24,
         "DAYS_INSTALMENT": -188,
         "DAYS_ENTRY_PAYMENT": -188,
         "AMT_INSTALMENT": 560.475,
         "AMT_PAYMENT": 560.475,
         "_deepnote_index_column": 10644320
        },
        {
         "SK_ID_PREV": 2709276,
         "SK_ID_CURR": 342991,
         "NUM_INSTALMENT_VERSION": 0,
         "NUM_INSTALMENT_NUMBER": 25,
         "DAYS_INSTALMENT": -162,
         "DAYS_ENTRY_PAYMENT": -181,
         "AMT_INSTALMENT": 11633.715,
         "AMT_PAYMENT": 11633.715,
         "_deepnote_index_column": 10015009
        },
        {
         "SK_ID_PREV": 2709276,
         "SK_ID_CURR": 342991,
         "NUM_INSTALMENT_VERSION": 0,
         "NUM_INSTALMENT_NUMBER": 26,
         "DAYS_INSTALMENT": -181,
         "DAYS_ENTRY_PAYMENT": -181,
         "AMT_INSTALMENT": 1866.285,
         "AMT_PAYMENT": 1866.285,
         "_deepnote_index_column": 10919329
        },
        {
         "SK_ID_PREV": 2709276,
         "SK_ID_CURR": 342991,
         "NUM_INSTALMENT_VERSION": 0,
         "NUM_INSTALMENT_NUMBER": 27,
         "DAYS_INSTALMENT": -160,
         "DAYS_ENTRY_PAYMENT": -160,
         "AMT_INSTALMENT": 67500,
         "AMT_PAYMENT": 67500,
         "_deepnote_index_column": 9082361
        },
        {
         "SK_ID_PREV": 2709276,
         "SK_ID_CURR": 342991,
         "NUM_INSTALMENT_VERSION": 0,
         "NUM_INSTALMENT_NUMBER": 28,
         "DAYS_INSTALMENT": -159,
         "DAYS_ENTRY_PAYMENT": -159,
         "AMT_INSTALMENT": 61.47,
         "AMT_PAYMENT": 61.47,
         "_deepnote_index_column": 8088887
        },
        {
         "SK_ID_PREV": 2709276,
         "SK_ID_CURR": 342991,
         "NUM_INSTALMENT_VERSION": 0,
         "NUM_INSTALMENT_NUMBER": 29,
         "DAYS_INSTALMENT": -131,
         "DAYS_ENTRY_PAYMENT": -132,
         "AMT_INSTALMENT": 8298.855,
         "AMT_PAYMENT": 8298.855,
         "_deepnote_index_column": 9138115
        },
        {
         "SK_ID_PREV": 2709276,
         "SK_ID_CURR": 342991,
         "NUM_INSTALMENT_VERSION": 0,
         "NUM_INSTALMENT_NUMBER": 30,
         "DAYS_INSTALMENT": -132,
         "DAYS_ENTRY_PAYMENT": -132,
         "AMT_INSTALMENT": 701.145,
         "AMT_PAYMENT": 701.145,
         "_deepnote_index_column": 11426505
        },
        {
         "SK_ID_PREV": 2709276,
         "SK_ID_CURR": 342991,
         "NUM_INSTALMENT_VERSION": 0,
         "NUM_INSTALMENT_NUMBER": 31,
         "DAYS_INSTALMENT": -126,
         "DAYS_ENTRY_PAYMENT": -126,
         "AMT_INSTALMENT": 221.535,
         "AMT_PAYMENT": 221.535,
         "_deepnote_index_column": 11009955
        },
        {
         "SK_ID_PREV": 2709276,
         "SK_ID_CURR": 342991,
         "NUM_INSTALMENT_VERSION": 0,
         "NUM_INSTALMENT_NUMBER": 32,
         "DAYS_INSTALMENT": -101,
         "DAYS_ENTRY_PAYMENT": -106,
         "AMT_INSTALMENT": 30744.45,
         "AMT_PAYMENT": 30744.45,
         "_deepnote_index_column": 10349848
        },
        {
         "SK_ID_PREV": 2709276,
         "SK_ID_CURR": 342991,
         "NUM_INSTALMENT_VERSION": 0,
         "NUM_INSTALMENT_NUMBER": 33,
         "DAYS_INSTALMENT": -106,
         "DAYS_ENTRY_PAYMENT": -106,
         "AMT_INSTALMENT": 90755.55,
         "AMT_PAYMENT": 90755.55,
         "_deepnote_index_column": 10514367
        },
        {
         "SK_ID_PREV": 2709276,
         "SK_ID_CURR": 342991,
         "NUM_INSTALMENT_VERSION": 0,
         "NUM_INSTALMENT_NUMBER": 34,
         "DAYS_INSTALMENT": -92,
         "DAYS_ENTRY_PAYMENT": -92,
         "AMT_INSTALMENT": 1177.47,
         "AMT_PAYMENT": 1177.47,
         "_deepnote_index_column": 8885152
        },
        {
         "SK_ID_PREV": 2709276,
         "SK_ID_CURR": 342991,
         "NUM_INSTALMENT_VERSION": 0,
         "NUM_INSTALMENT_NUMBER": 35,
         "DAYS_INSTALMENT": -90,
         "DAYS_ENTRY_PAYMENT": -90,
         "AMT_INSTALMENT": 135000,
         "AMT_PAYMENT": 135000,
         "_deepnote_index_column": 8748270
        },
        {
         "SK_ID_PREV": 2709276,
         "SK_ID_CURR": 342991,
         "NUM_INSTALMENT_VERSION": 0,
         "NUM_INSTALMENT_NUMBER": 36,
         "DAYS_INSTALMENT": -70,
         "DAYS_ENTRY_PAYMENT": -64,
         "AMT_INSTALMENT": 18760.41,
         "AMT_PAYMENT": 18760.41,
         "_deepnote_index_column": 9227821
        },
        {
         "SK_ID_PREV": 2709276,
         "SK_ID_CURR": 342991,
         "NUM_INSTALMENT_VERSION": 0,
         "NUM_INSTALMENT_NUMBER": 37,
         "DAYS_INSTALMENT": -64,
         "DAYS_ENTRY_PAYMENT": -64,
         "AMT_INSTALMENT": 35239.59,
         "AMT_PAYMENT": 35239.59,
         "_deepnote_index_column": 8983075
        },
        {
         "SK_ID_PREV": 2709276,
         "SK_ID_CURR": 342991,
         "NUM_INSTALMENT_VERSION": 0,
         "NUM_INSTALMENT_NUMBER": 38,
         "DAYS_INSTALMENT": -39,
         "DAYS_ENTRY_PAYMENT": -39,
         "AMT_INSTALMENT": 16946.28,
         "AMT_PAYMENT": 16946.28,
         "_deepnote_index_column": 11258911
        },
        {
         "SK_ID_PREV": 2709276,
         "SK_ID_CURR": 342991,
         "NUM_INSTALMENT_VERSION": 0,
         "NUM_INSTALMENT_NUMBER": 39,
         "DAYS_INSTALMENT": -39,
         "DAYS_ENTRY_PAYMENT": -39,
         "AMT_INSTALMENT": 5553.72,
         "AMT_PAYMENT": 5553.72,
         "_deepnote_index_column": 9255256
        },
        {
         "SK_ID_PREV": 2709276,
         "SK_ID_CURR": 342991,
         "NUM_INSTALMENT_VERSION": 0,
         "NUM_INSTALMENT_NUMBER": 40,
         "DAYS_INSTALMENT": -33,
         "DAYS_ENTRY_PAYMENT": -33,
         "AMT_INSTALMENT": 168.21,
         "AMT_PAYMENT": 168.21,
         "_deepnote_index_column": 9602855
        },
        {
         "SK_ID_PREV": 2709276,
         "SK_ID_CURR": 342991,
         "NUM_INSTALMENT_VERSION": 0,
         "NUM_INSTALMENT_NUMBER": 41,
         "DAYS_INSTALMENT": -11,
         "DAYS_ENTRY_PAYMENT": -12,
         "AMT_INSTALMENT": 29035.305,
         "AMT_PAYMENT": 29035.305,
         "_deepnote_index_column": 11077500
        },
        {
         "SK_ID_PREV": 2709276,
         "SK_ID_CURR": 342991,
         "NUM_INSTALMENT_VERSION": 0,
         "NUM_INSTALMENT_NUMBER": 42,
         "DAYS_INSTALMENT": -12,
         "DAYS_ENTRY_PAYMENT": -12,
         "AMT_INSTALMENT": 2464.695,
         "AMT_PAYMENT": 2464.695,
         "_deepnote_index_column": 9488838
        },
        {
         "SK_ID_PREV": 2709276,
         "SK_ID_CURR": 342991,
         "NUM_INSTALMENT_VERSION": 0,
         "NUM_INSTALMENT_NUMBER": 43,
         "DAYS_INSTALMENT": -6,
         "DAYS_ENTRY_PAYMENT": -6,
         "AMT_INSTALMENT": 2244.06,
         "AMT_PAYMENT": 2244.06,
         "_deepnote_index_column": 9474155
        }
       ],
       "rows_bottom": null
      },
      "text/plain": "          SK_ID_PREV  SK_ID_CURR  NUM_INSTALMENT_VERSION  \\\n8569805      2709276      342991                     0.0   \n9914087      2709276      342991                     0.0   \n10007697     2709276      342991                     0.0   \n9311899      2709276      342991                     0.0   \n8670446      2709276      342991                     0.0   \n9654501      2709276      342991                     0.0   \n8201029      2709276      342991                     0.0   \n8936323      2709276      342991                     0.0   \n10543512     2709276      342991                     0.0   \n10052261     2709276      342991                     0.0   \n9332154      2709276      342991                     0.0   \n8229662      2709276      342991                     0.0   \n9901710      2709276      342991                     0.0   \n10393890     2709276      342991                     0.0   \n11471743     2709276      342991                     0.0   \n11165951     2709276      342991                     0.0   \n10987485     2709276      342991                     0.0   \n10413863     2709276      342991                     0.0   \n10346031     2709276      342991                     0.0   \n11013623     2709276      342991                     0.0   \n10722623     2709276      342991                     0.0   \n7787120      2709276      342991                     0.0   \n8799632      2709276      342991                     0.0   \n10644320     2709276      342991                     0.0   \n10015009     2709276      342991                     0.0   \n10919329     2709276      342991                     0.0   \n9082361      2709276      342991                     0.0   \n8088887      2709276      342991                     0.0   \n9138115      2709276      342991                     0.0   \n11426505     2709276      342991                     0.0   \n11009955     2709276      342991                     0.0   \n10349848     2709276      342991                     0.0   \n10514367     2709276      342991                     0.0   \n8885152      2709276      342991                     0.0   \n8748270      2709276      342991                     0.0   \n9227821      2709276      342991                     0.0   \n8983075      2709276      342991                     0.0   \n11258911     2709276      342991                     0.0   \n9255256      2709276      342991                     0.0   \n9602855      2709276      342991                     0.0   \n11077500     2709276      342991                     0.0   \n9488838      2709276      342991                     0.0   \n9474155      2709276      342991                     0.0   \n\n          NUM_INSTALMENT_NUMBER  DAYS_INSTALMENT  DAYS_ENTRY_PAYMENT  \\\n8569805                       1           -435.0              -445.0   \n9914087                       2           -445.0              -445.0   \n10007697                      3           -432.0              -432.0   \n9311899                       4           -404.0              -421.0   \n8670446                       5           -421.0              -421.0   \n9654501                       6           -398.0              -398.0   \n8201029                       7           -376.0              -385.0   \n8936323                       8           -385.0              -385.0   \n10543512                      9           -345.0              -357.0   \n10052261                     10           -357.0              -357.0   \n9332154                      11           -342.0              -342.0   \n8229662                      12           -315.0              -329.0   \n9901710                      13           -329.0              -329.0   \n10393890                     14           -320.0              -320.0   \n11471743                     15           -312.0              -312.0   \n11165951                     16           -284.0              -303.0   \n10987485                     17           -303.0              -303.0   \n10413863                     18           -279.0              -279.0   \n10346031                     19           -273.0              -273.0   \n11013623                     20           -223.0              -238.0   \n10722623                     21           -238.0              -238.0   \n7787120                      22           -192.0              -194.0   \n8799632                      23           -194.0              -194.0   \n10644320                     24           -188.0              -188.0   \n10015009                     25           -162.0              -181.0   \n10919329                     26           -181.0              -181.0   \n9082361                      27           -160.0              -160.0   \n8088887                      28           -159.0              -159.0   \n9138115                      29           -131.0              -132.0   \n11426505                     30           -132.0              -132.0   \n11009955                     31           -126.0              -126.0   \n10349848                     32           -101.0              -106.0   \n10514367                     33           -106.0              -106.0   \n8885152                      34            -92.0               -92.0   \n8748270                      35            -90.0               -90.0   \n9227821                      36            -70.0               -64.0   \n8983075                      37            -64.0               -64.0   \n11258911                     38            -39.0               -39.0   \n9255256                      39            -39.0               -39.0   \n9602855                      40            -33.0               -33.0   \n11077500                     41            -11.0               -12.0   \n9488838                      42            -12.0               -12.0   \n9474155                      43             -6.0                -6.0   \n\n          AMT_INSTALMENT  AMT_PAYMENT  \n8569805         2250.000     2250.000  \n9914087        14064.570    14064.570  \n10007697         465.750      465.750  \n9311899        10667.115    10667.115  \n8670446         2832.885     2832.885  \n9654501        31500.000    31500.000  \n8201029        13094.505    13094.505  \n8936323          405.495      405.495  \n10543512       15064.020    15064.020  \n10052261         685.980      685.980  \n9332154          312.255      312.255  \n8229662        19862.685    19862.685  \n9901710         2637.315     2637.315  \n10393890      591300.000   591300.000  \n11471743         258.210      258.210  \n11165951        2250.000     2250.000  \n10987485       10344.780    10344.780  \n10413863         253.800      253.800  \n10346031        1380.555     1380.555  \n11013623        3504.915     3504.915  \n10722623       81545.085    81545.085  \n7787120         2250.000     2250.000  \n8799632         2250.000     2250.000  \n10644320         560.475      560.475  \n10015009       11633.715    11633.715  \n10919329        1866.285     1866.285  \n9082361        67500.000    67500.000  \n8088887           61.470       61.470  \n9138115         8298.855     8298.855  \n11426505         701.145      701.145  \n11009955         221.535      221.535  \n10349848       30744.450    30744.450  \n10514367       90755.550    90755.550  \n8885152         1177.470     1177.470  \n8748270       135000.000   135000.000  \n9227821        18760.410    18760.410  \n8983075        35239.590    35239.590  \n11258911       16946.280    16946.280  \n9255256         5553.720     5553.720  \n9602855          168.210      168.210  \n11077500       29035.305    29035.305  \n9488838         2464.695     2464.695  \n9474155         2244.060     2244.060  ",
      "text/html": "<div>\n<style scoped>\n    .dataframe tbody tr th:only-of-type {\n        vertical-align: middle;\n    }\n\n    .dataframe tbody tr th {\n        vertical-align: top;\n    }\n\n    .dataframe thead th {\n        text-align: right;\n    }\n</style>\n<table border=\"1\" class=\"dataframe\">\n  <thead>\n    <tr style=\"text-align: right;\">\n      <th></th>\n      <th>SK_ID_PREV</th>\n      <th>SK_ID_CURR</th>\n      <th>NUM_INSTALMENT_VERSION</th>\n      <th>NUM_INSTALMENT_NUMBER</th>\n      <th>DAYS_INSTALMENT</th>\n      <th>DAYS_ENTRY_PAYMENT</th>\n      <th>AMT_INSTALMENT</th>\n      <th>AMT_PAYMENT</th>\n    </tr>\n  </thead>\n  <tbody>\n    <tr>\n      <th>8569805</th>\n      <td>2709276</td>\n      <td>342991</td>\n      <td>0.0</td>\n      <td>1</td>\n      <td>-435.0</td>\n      <td>-445.0</td>\n      <td>2250.000</td>\n      <td>2250.000</td>\n    </tr>\n    <tr>\n      <th>9914087</th>\n      <td>2709276</td>\n      <td>342991</td>\n      <td>0.0</td>\n      <td>2</td>\n      <td>-445.0</td>\n      <td>-445.0</td>\n      <td>14064.570</td>\n      <td>14064.570</td>\n    </tr>\n    <tr>\n      <th>10007697</th>\n      <td>2709276</td>\n      <td>342991</td>\n      <td>0.0</td>\n      <td>3</td>\n      <td>-432.0</td>\n      <td>-432.0</td>\n      <td>465.750</td>\n      <td>465.750</td>\n    </tr>\n    <tr>\n      <th>9311899</th>\n      <td>2709276</td>\n      <td>342991</td>\n      <td>0.0</td>\n      <td>4</td>\n      <td>-404.0</td>\n      <td>-421.0</td>\n      <td>10667.115</td>\n      <td>10667.115</td>\n    </tr>\n    <tr>\n      <th>8670446</th>\n      <td>2709276</td>\n      <td>342991</td>\n      <td>0.0</td>\n      <td>5</td>\n      <td>-421.0</td>\n      <td>-421.0</td>\n      <td>2832.885</td>\n      <td>2832.885</td>\n    </tr>\n    <tr>\n      <th>9654501</th>\n      <td>2709276</td>\n      <td>342991</td>\n      <td>0.0</td>\n      <td>6</td>\n      <td>-398.0</td>\n      <td>-398.0</td>\n      <td>31500.000</td>\n      <td>31500.000</td>\n    </tr>\n    <tr>\n      <th>8201029</th>\n      <td>2709276</td>\n      <td>342991</td>\n      <td>0.0</td>\n      <td>7</td>\n      <td>-376.0</td>\n      <td>-385.0</td>\n      <td>13094.505</td>\n      <td>13094.505</td>\n    </tr>\n    <tr>\n      <th>8936323</th>\n      <td>2709276</td>\n      <td>342991</td>\n      <td>0.0</td>\n      <td>8</td>\n      <td>-385.0</td>\n      <td>-385.0</td>\n      <td>405.495</td>\n      <td>405.495</td>\n    </tr>\n    <tr>\n      <th>10543512</th>\n      <td>2709276</td>\n      <td>342991</td>\n      <td>0.0</td>\n      <td>9</td>\n      <td>-345.0</td>\n      <td>-357.0</td>\n      <td>15064.020</td>\n      <td>15064.020</td>\n    </tr>\n    <tr>\n      <th>10052261</th>\n      <td>2709276</td>\n      <td>342991</td>\n      <td>0.0</td>\n      <td>10</td>\n      <td>-357.0</td>\n      <td>-357.0</td>\n      <td>685.980</td>\n      <td>685.980</td>\n    </tr>\n    <tr>\n      <th>9332154</th>\n      <td>2709276</td>\n      <td>342991</td>\n      <td>0.0</td>\n      <td>11</td>\n      <td>-342.0</td>\n      <td>-342.0</td>\n      <td>312.255</td>\n      <td>312.255</td>\n    </tr>\n    <tr>\n      <th>8229662</th>\n      <td>2709276</td>\n      <td>342991</td>\n      <td>0.0</td>\n      <td>12</td>\n      <td>-315.0</td>\n      <td>-329.0</td>\n      <td>19862.685</td>\n      <td>19862.685</td>\n    </tr>\n    <tr>\n      <th>9901710</th>\n      <td>2709276</td>\n      <td>342991</td>\n      <td>0.0</td>\n      <td>13</td>\n      <td>-329.0</td>\n      <td>-329.0</td>\n      <td>2637.315</td>\n      <td>2637.315</td>\n    </tr>\n    <tr>\n      <th>10393890</th>\n      <td>2709276</td>\n      <td>342991</td>\n      <td>0.0</td>\n      <td>14</td>\n      <td>-320.0</td>\n      <td>-320.0</td>\n      <td>591300.000</td>\n      <td>591300.000</td>\n    </tr>\n    <tr>\n      <th>11471743</th>\n      <td>2709276</td>\n      <td>342991</td>\n      <td>0.0</td>\n      <td>15</td>\n      <td>-312.0</td>\n      <td>-312.0</td>\n      <td>258.210</td>\n      <td>258.210</td>\n    </tr>\n    <tr>\n      <th>11165951</th>\n      <td>2709276</td>\n      <td>342991</td>\n      <td>0.0</td>\n      <td>16</td>\n      <td>-284.0</td>\n      <td>-303.0</td>\n      <td>2250.000</td>\n      <td>2250.000</td>\n    </tr>\n    <tr>\n      <th>10987485</th>\n      <td>2709276</td>\n      <td>342991</td>\n      <td>0.0</td>\n      <td>17</td>\n      <td>-303.0</td>\n      <td>-303.0</td>\n      <td>10344.780</td>\n      <td>10344.780</td>\n    </tr>\n    <tr>\n      <th>10413863</th>\n      <td>2709276</td>\n      <td>342991</td>\n      <td>0.0</td>\n      <td>18</td>\n      <td>-279.0</td>\n      <td>-279.0</td>\n      <td>253.800</td>\n      <td>253.800</td>\n    </tr>\n    <tr>\n      <th>10346031</th>\n      <td>2709276</td>\n      <td>342991</td>\n      <td>0.0</td>\n      <td>19</td>\n      <td>-273.0</td>\n      <td>-273.0</td>\n      <td>1380.555</td>\n      <td>1380.555</td>\n    </tr>\n    <tr>\n      <th>11013623</th>\n      <td>2709276</td>\n      <td>342991</td>\n      <td>0.0</td>\n      <td>20</td>\n      <td>-223.0</td>\n      <td>-238.0</td>\n      <td>3504.915</td>\n      <td>3504.915</td>\n    </tr>\n    <tr>\n      <th>10722623</th>\n      <td>2709276</td>\n      <td>342991</td>\n      <td>0.0</td>\n      <td>21</td>\n      <td>-238.0</td>\n      <td>-238.0</td>\n      <td>81545.085</td>\n      <td>81545.085</td>\n    </tr>\n    <tr>\n      <th>7787120</th>\n      <td>2709276</td>\n      <td>342991</td>\n      <td>0.0</td>\n      <td>22</td>\n      <td>-192.0</td>\n      <td>-194.0</td>\n      <td>2250.000</td>\n      <td>2250.000</td>\n    </tr>\n    <tr>\n      <th>8799632</th>\n      <td>2709276</td>\n      <td>342991</td>\n      <td>0.0</td>\n      <td>23</td>\n      <td>-194.0</td>\n      <td>-194.0</td>\n      <td>2250.000</td>\n      <td>2250.000</td>\n    </tr>\n    <tr>\n      <th>10644320</th>\n      <td>2709276</td>\n      <td>342991</td>\n      <td>0.0</td>\n      <td>24</td>\n      <td>-188.0</td>\n      <td>-188.0</td>\n      <td>560.475</td>\n      <td>560.475</td>\n    </tr>\n    <tr>\n      <th>10015009</th>\n      <td>2709276</td>\n      <td>342991</td>\n      <td>0.0</td>\n      <td>25</td>\n      <td>-162.0</td>\n      <td>-181.0</td>\n      <td>11633.715</td>\n      <td>11633.715</td>\n    </tr>\n    <tr>\n      <th>10919329</th>\n      <td>2709276</td>\n      <td>342991</td>\n      <td>0.0</td>\n      <td>26</td>\n      <td>-181.0</td>\n      <td>-181.0</td>\n      <td>1866.285</td>\n      <td>1866.285</td>\n    </tr>\n    <tr>\n      <th>9082361</th>\n      <td>2709276</td>\n      <td>342991</td>\n      <td>0.0</td>\n      <td>27</td>\n      <td>-160.0</td>\n      <td>-160.0</td>\n      <td>67500.000</td>\n      <td>67500.000</td>\n    </tr>\n    <tr>\n      <th>8088887</th>\n      <td>2709276</td>\n      <td>342991</td>\n      <td>0.0</td>\n      <td>28</td>\n      <td>-159.0</td>\n      <td>-159.0</td>\n      <td>61.470</td>\n      <td>61.470</td>\n    </tr>\n    <tr>\n      <th>9138115</th>\n      <td>2709276</td>\n      <td>342991</td>\n      <td>0.0</td>\n      <td>29</td>\n      <td>-131.0</td>\n      <td>-132.0</td>\n      <td>8298.855</td>\n      <td>8298.855</td>\n    </tr>\n    <tr>\n      <th>11426505</th>\n      <td>2709276</td>\n      <td>342991</td>\n      <td>0.0</td>\n      <td>30</td>\n      <td>-132.0</td>\n      <td>-132.0</td>\n      <td>701.145</td>\n      <td>701.145</td>\n    </tr>\n    <tr>\n      <th>11009955</th>\n      <td>2709276</td>\n      <td>342991</td>\n      <td>0.0</td>\n      <td>31</td>\n      <td>-126.0</td>\n      <td>-126.0</td>\n      <td>221.535</td>\n      <td>221.535</td>\n    </tr>\n    <tr>\n      <th>10349848</th>\n      <td>2709276</td>\n      <td>342991</td>\n      <td>0.0</td>\n      <td>32</td>\n      <td>-101.0</td>\n      <td>-106.0</td>\n      <td>30744.450</td>\n      <td>30744.450</td>\n    </tr>\n    <tr>\n      <th>10514367</th>\n      <td>2709276</td>\n      <td>342991</td>\n      <td>0.0</td>\n      <td>33</td>\n      <td>-106.0</td>\n      <td>-106.0</td>\n      <td>90755.550</td>\n      <td>90755.550</td>\n    </tr>\n    <tr>\n      <th>8885152</th>\n      <td>2709276</td>\n      <td>342991</td>\n      <td>0.0</td>\n      <td>34</td>\n      <td>-92.0</td>\n      <td>-92.0</td>\n      <td>1177.470</td>\n      <td>1177.470</td>\n    </tr>\n    <tr>\n      <th>8748270</th>\n      <td>2709276</td>\n      <td>342991</td>\n      <td>0.0</td>\n      <td>35</td>\n      <td>-90.0</td>\n      <td>-90.0</td>\n      <td>135000.000</td>\n      <td>135000.000</td>\n    </tr>\n    <tr>\n      <th>9227821</th>\n      <td>2709276</td>\n      <td>342991</td>\n      <td>0.0</td>\n      <td>36</td>\n      <td>-70.0</td>\n      <td>-64.0</td>\n      <td>18760.410</td>\n      <td>18760.410</td>\n    </tr>\n    <tr>\n      <th>8983075</th>\n      <td>2709276</td>\n      <td>342991</td>\n      <td>0.0</td>\n      <td>37</td>\n      <td>-64.0</td>\n      <td>-64.0</td>\n      <td>35239.590</td>\n      <td>35239.590</td>\n    </tr>\n    <tr>\n      <th>11258911</th>\n      <td>2709276</td>\n      <td>342991</td>\n      <td>0.0</td>\n      <td>38</td>\n      <td>-39.0</td>\n      <td>-39.0</td>\n      <td>16946.280</td>\n      <td>16946.280</td>\n    </tr>\n    <tr>\n      <th>9255256</th>\n      <td>2709276</td>\n      <td>342991</td>\n      <td>0.0</td>\n      <td>39</td>\n      <td>-39.0</td>\n      <td>-39.0</td>\n      <td>5553.720</td>\n      <td>5553.720</td>\n    </tr>\n    <tr>\n      <th>9602855</th>\n      <td>2709276</td>\n      <td>342991</td>\n      <td>0.0</td>\n      <td>40</td>\n      <td>-33.0</td>\n      <td>-33.0</td>\n      <td>168.210</td>\n      <td>168.210</td>\n    </tr>\n    <tr>\n      <th>11077500</th>\n      <td>2709276</td>\n      <td>342991</td>\n      <td>0.0</td>\n      <td>41</td>\n      <td>-11.0</td>\n      <td>-12.0</td>\n      <td>29035.305</td>\n      <td>29035.305</td>\n    </tr>\n    <tr>\n      <th>9488838</th>\n      <td>2709276</td>\n      <td>342991</td>\n      <td>0.0</td>\n      <td>42</td>\n      <td>-12.0</td>\n      <td>-12.0</td>\n      <td>2464.695</td>\n      <td>2464.695</td>\n    </tr>\n    <tr>\n      <th>9474155</th>\n      <td>2709276</td>\n      <td>342991</td>\n      <td>0.0</td>\n      <td>43</td>\n      <td>-6.0</td>\n      <td>-6.0</td>\n      <td>2244.060</td>\n      <td>2244.060</td>\n    </tr>\n  </tbody>\n</table>\n</div>"
     },
     "metadata": {}
    }
   ]
  },
  {
   "cell_type": "markdown",
   "source": "## Why do some people not have a term length for their previous loan?",
   "metadata": {
    "tags": [],
    "cell_id": "00029-5d0c88e8-834e-4f99-bbaf-74be2cf9f825",
    "deepnote_to_be_reexecuted": false,
    "source_hash": "55d7a15b",
    "execution_start": 1630523744576,
    "execution_millis": 4,
    "deepnote_cell_type": "markdown"
   },
   "outputs": [],
   "execution_count": 4
  },
  {
   "cell_type": "code",
   "metadata": {
    "tags": [],
    "cell_id": "00004-db2dbf8f-3063-4000-b054-895f3593f789",
    "deepnote_to_be_reexecuted": true,
    "source_hash": "b3557469",
    "execution_start": 1630520699036,
    "execution_millis": 885,
    "deepnote_cell_type": "code"
   },
   "source": "sns.histplot(prev_apps.CNT_PAYMENT[prev_apps.NAME_CONTRACT_STATUS == \"Approved\"], bins = 100, stat = \"probability\")",
   "outputs": [
    {
     "output_type": "execute_result",
     "execution_count": 16,
     "data": {
      "text/plain": "<AxesSubplot:xlabel='CNT_PAYMENT', ylabel='Count'>"
     },
     "metadata": {}
    },
    {
     "data": {
      "text/plain": "<Figure size 1080x720 with 1 Axes>",
      "image/png": "[encoded data removed]"
     },
     "metadata": {
      "image/png": {
       "width": 913,
       "height": 592
      }
     },
     "output_type": "display_data"
    }
   ],
   "execution_count": null
  },
  {
   "cell_type": "code",
   "metadata": {
    "tags": [],
    "cell_id": "00004-59a49e88-ca8e-46bf-b354-dd25780882f3",
    "deepnote_to_be_reexecuted": true,
    "source_hash": "62743bd1",
    "execution_start": 1630521476352,
    "execution_millis": 1674,
    "deepnote_cell_type": "code"
   },
   "source": "sns.histplot(prev_apps[prev_apps.NAME_CONTRACT_STATUS == \"Approved\"].DAYS_DECISION)\nsns.histplot(prev_apps[(prev_apps.NAME_CONTRACT_STATUS == \"Approved\") & (prev_apps.CNT_PAYMENT == 0)].DAYS_DECISION, color = \"orange\")",
   "outputs": [
    {
     "output_type": "execute_result",
     "execution_count": 20,
     "data": {
      "text/plain": "<AxesSubplot:xlabel='DAYS_DECISION', ylabel='Count'>"
     },
     "metadata": {}
    },
    {
     "data": {
      "text/plain": "<Figure size 1080x720 with 1 Axes>",
      "image/png": "[encoded data removed]"
     },
     "metadata": {
      "image/png": {
       "width": 907,
       "height": 592
      }
     },
     "output_type": "display_data"
    }
   ],
   "execution_count": null
  },
  {
   "cell_type": "code",
   "metadata": {
    "tags": [],
    "cell_id": "00004-39ed83fd-1ad1-4223-b23e-16de8f8d0d57",
    "deepnote_to_be_reexecuted": true,
    "source_hash": "fefaaee8",
    "execution_start": 1630522930024,
    "execution_millis": 204,
    "deepnote_cell_type": "code"
   },
   "source": "len(prev_apps[(prev_apps.NAME_CONTRACT_STATUS == \"Approved\") & (prev_apps.CNT_PAYMENT == 0)].SK_ID_CURR.isin(app_train.SK_ID_CURR)) / len(prev_apps[(prev_apps.NAME_CONTRACT_STATUS == \"Approved\") & (prev_apps.CNT_PAYMENT == 0)])",
   "outputs": [
    {
     "output_type": "execute_result",
     "execution_count": 31,
     "data": {
      "text/plain": "1.0"
     },
     "metadata": {}
    }
   ],
   "execution_count": null
  },
  {
   "cell_type": "code",
   "metadata": {
    "tags": [],
    "cell_id": "00004-e080da1c-a3a4-4073-aba4-802501a030ab",
    "deepnote_to_be_reexecuted": true,
    "source_hash": "f9299417",
    "execution_start": 1630522976158,
    "execution_millis": 549,
    "deepnote_cell_type": "code"
   },
   "source": "len(prev_apps[(prev_apps.NAME_CONTRACT_STATUS == \"Approved\") & (prev_apps.CNT_PAYMENT == 0)].SK_ID_PREV.isin(pmts.SK_ID_PREV)) / len(prev_apps[(prev_apps.NAME_CONTRACT_STATUS == \"Approved\") & (prev_apps.CNT_PAYMENT == 0)])",
   "outputs": [
    {
     "output_type": "execute_result",
     "execution_count": 32,
     "data": {
      "text/plain": "1.0"
     },
     "metadata": {}
    }
   ],
   "execution_count": null
  },
  {
   "cell_type": "code",
   "metadata": {
    "tags": [],
    "cell_id": "00004-5d24c084-b500-46d3-9f57-19e05bcdda31",
    "deepnote_to_be_reexecuted": true,
    "source_hash": "67b33a89",
    "execution_start": 1630523725455,
    "execution_millis": 831,
    "deepnote_cell_type": "code"
   },
   "source": "pmts[pmts.SK_ID_PREV.isin(prev_apps[(prev_apps.NAME_CONTRACT_STATUS == \"Approved\") & (prev_apps.CNT_PAYMENT == 0)].SK_ID_PREV)]",
   "outputs": [
    {
     "output_type": "execute_result",
     "execution_count": 3,
     "data": {
      "application/vnd.deepnote.dataframe.v2+json": {
       "row_count": 2994511,
       "column_count": 8,
       "columns": [
        {
         "name": "SK_ID_PREV",
         "dtype": "int64"
        },
        {
         "name": "SK_ID_CURR",
         "dtype": "int64"
        },
        {
         "name": "NUM_INSTALMENT_VERSION",
         "dtype": "float64"
        },
        {
         "name": "NUM_INSTALMENT_NUMBER",
         "dtype": "int64"
        },
        {
         "name": "DAYS_INSTALMENT",
         "dtype": "float64"
        },
        {
         "name": "DAYS_ENTRY_PAYMENT",
         "dtype": "float64"
        },
        {
         "name": "AMT_INSTALMENT",
         "dtype": "float64"
        },
        {
         "name": "AMT_PAYMENT",
         "dtype": "float64"
        },
        {
         "name": "_deepnote_index_column",
         "dtype": "int64"
        }
       ],
       "rows_top": [
        {
         "SK_ID_PREV": 2723183,
         "SK_ID_CURR": 112102,
         "NUM_INSTALMENT_VERSION": 0,
         "NUM_INSTALMENT_NUMBER": 14,
         "DAYS_INSTALMENT": -197,
         "DAYS_ENTRY_PAYMENT": -197,
         "AMT_INSTALMENT": 70.74,
         "AMT_PAYMENT": 70.74,
         "_deepnote_index_column": 8
        },
        {
         "SK_ID_PREV": 1570206,
         "SK_ID_CURR": 147645,
         "NUM_INSTALMENT_VERSION": 0,
         "NUM_INSTALMENT_NUMBER": 20,
         "DAYS_INSTALMENT": -761,
         "DAYS_ENTRY_PAYMENT": -761,
         "AMT_INSTALMENT": 21.51,
         "AMT_PAYMENT": 21.51,
         "_deepnote_index_column": 12
        },
        {
         "SK_ID_PREV": 1594684,
         "SK_ID_CURR": 100193,
         "NUM_INSTALMENT_VERSION": 0,
         "NUM_INSTALMENT_NUMBER": 56,
         "DAYS_INSTALMENT": -1153,
         "DAYS_ENTRY_PAYMENT": -1153,
         "AMT_INSTALMENT": 301.86,
         "AMT_PAYMENT": 301.86,
         "_deepnote_index_column": 14
        },
        {
         "SK_ID_PREV": 2391610,
         "SK_ID_CURR": 183431,
         "NUM_INSTALMENT_VERSION": 0,
         "NUM_INSTALMENT_NUMBER": 20,
         "DAYS_INSTALMENT": -1680,
         "DAYS_ENTRY_PAYMENT": -1693,
         "AMT_INSTALMENT": 7875,
         "AMT_PAYMENT": 7875,
         "_deepnote_index_column": 18
        },
        {
         "SK_ID_PREV": 2270983,
         "SK_ID_CURR": 159586,
         "NUM_INSTALMENT_VERSION": 0,
         "NUM_INSTALMENT_NUMBER": 30,
         "DAYS_INSTALMENT": -2022,
         "DAYS_ENTRY_PAYMENT": -2046,
         "AMT_INSTALMENT": 9000,
         "AMT_PAYMENT": 1800,
         "_deepnote_index_column": 40
        },
        {
         "SK_ID_PREV": 2632598,
         "SK_ID_CURR": 169863,
         "NUM_INSTALMENT_VERSION": 0,
         "NUM_INSTALMENT_NUMBER": 65,
         "DAYS_INSTALMENT": -912,
         "DAYS_ENTRY_PAYMENT": -912,
         "AMT_INSTALMENT": 349.83,
         "AMT_PAYMENT": 349.83,
         "_deepnote_index_column": 55
        },
        {
         "SK_ID_PREV": 2162416,
         "SK_ID_CURR": 197419,
         "NUM_INSTALMENT_VERSION": 0,
         "NUM_INSTALMENT_NUMBER": 7,
         "DAYS_INSTALMENT": -2158,
         "DAYS_ENTRY_PAYMENT": -2158,
         "AMT_INSTALMENT": 2187.27,
         "AMT_PAYMENT": 2187.27,
         "_deepnote_index_column": 62
        },
        {
         "SK_ID_PREV": 1669153,
         "SK_ID_CURR": 112468,
         "NUM_INSTALMENT_VERSION": 0,
         "NUM_INSTALMENT_NUMBER": 2,
         "DAYS_INSTALMENT": -338,
         "DAYS_ENTRY_PAYMENT": -344,
         "AMT_INSTALMENT": 8411.4,
         "AMT_PAYMENT": 8411.4,
         "_deepnote_index_column": 63
        },
        {
         "SK_ID_PREV": 1254935,
         "SK_ID_CURR": 138262,
         "NUM_INSTALMENT_VERSION": 0,
         "NUM_INSTALMENT_NUMBER": 41,
         "DAYS_INSTALMENT": -1176,
         "DAYS_ENTRY_PAYMENT": -1187,
         "AMT_INSTALMENT": 9000,
         "AMT_PAYMENT": 9000,
         "_deepnote_index_column": 71
        },
        {
         "SK_ID_PREV": 1249017,
         "SK_ID_CURR": 112028,
         "NUM_INSTALMENT_VERSION": 0,
         "NUM_INSTALMENT_NUMBER": 41,
         "DAYS_INSTALMENT": -62,
         "DAYS_ENTRY_PAYMENT": -62,
         "AMT_INSTALMENT": 1559.25,
         "AMT_PAYMENT": 1559.25,
         "_deepnote_index_column": 76
        },
        {
         "SK_ID_PREV": 1306658,
         "SK_ID_CURR": 183774,
         "NUM_INSTALMENT_VERSION": 0,
         "NUM_INSTALMENT_NUMBER": 49,
         "DAYS_INSTALMENT": -1567,
         "DAYS_ENTRY_PAYMENT": -1570,
         "AMT_INSTALMENT": 9000,
         "AMT_PAYMENT": 9000,
         "_deepnote_index_column": 78
        },
        {
         "SK_ID_PREV": 1730720,
         "SK_ID_CURR": 128508,
         "NUM_INSTALMENT_VERSION": 0,
         "NUM_INSTALMENT_NUMBER": 2,
         "DAYS_INSTALMENT": -822,
         "DAYS_ENTRY_PAYMENT": -822,
         "AMT_INSTALMENT": 15623.955,
         "AMT_PAYMENT": 15623.955,
         "_deepnote_index_column": 79
        },
        {
         "SK_ID_PREV": 1762261,
         "SK_ID_CURR": 151682,
         "NUM_INSTALMENT_VERSION": 0,
         "NUM_INSTALMENT_NUMBER": 59,
         "DAYS_INSTALMENT": -45,
         "DAYS_ENTRY_PAYMENT": -48,
         "AMT_INSTALMENT": 1087.245,
         "AMT_PAYMENT": 356.805,
         "_deepnote_index_column": 81
        },
        {
         "SK_ID_PREV": 2563249,
         "SK_ID_CURR": 178953,
         "NUM_INSTALMENT_VERSION": 0,
         "NUM_INSTALMENT_NUMBER": 64,
         "DAYS_INSTALMENT": -502,
         "DAYS_ENTRY_PAYMENT": -502,
         "AMT_INSTALMENT": 494.55,
         "AMT_PAYMENT": 494.55,
         "_deepnote_index_column": 103
        },
        {
         "SK_ID_PREV": 1991612,
         "SK_ID_CURR": 195100,
         "NUM_INSTALMENT_VERSION": 0,
         "NUM_INSTALMENT_NUMBER": 28,
         "DAYS_INSTALMENT": -373,
         "DAYS_ENTRY_PAYMENT": -373,
         "AMT_INSTALMENT": 758.79,
         "AMT_PAYMENT": 758.79,
         "_deepnote_index_column": 105
        },
        {
         "SK_ID_PREV": 1100291,
         "SK_ID_CURR": 138431,
         "NUM_INSTALMENT_VERSION": 0,
         "NUM_INSTALMENT_NUMBER": 140,
         "DAYS_INSTALMENT": -216,
         "DAYS_ENTRY_PAYMENT": -242,
         "AMT_INSTALMENT": 2250,
         "AMT_PAYMENT": 2250,
         "_deepnote_index_column": 110
        },
        {
         "SK_ID_PREV": 2075235,
         "SK_ID_CURR": 152976,
         "NUM_INSTALMENT_VERSION": 0,
         "NUM_INSTALMENT_NUMBER": 43,
         "DAYS_INSTALMENT": -1605,
         "DAYS_ENTRY_PAYMENT": -1619,
         "AMT_INSTALMENT": 6750,
         "AMT_PAYMENT": 6750,
         "_deepnote_index_column": 118
        },
        {
         "SK_ID_PREV": 1766463,
         "SK_ID_CURR": 167499,
         "NUM_INSTALMENT_VERSION": 0,
         "NUM_INSTALMENT_NUMBER": 99,
         "DAYS_INSTALMENT": -1154,
         "DAYS_ENTRY_PAYMENT": -1152,
         "AMT_INSTALMENT": 13500,
         "AMT_PAYMENT": 13500,
         "_deepnote_index_column": 120
        },
        {
         "SK_ID_PREV": 2016447,
         "SK_ID_CURR": 161719,
         "NUM_INSTALMENT_VERSION": 0,
         "NUM_INSTALMENT_NUMBER": 69,
         "DAYS_INSTALMENT": -968,
         "DAYS_ENTRY_PAYMENT": -968,
         "AMT_INSTALMENT": 170.595,
         "AMT_PAYMENT": 170.595,
         "_deepnote_index_column": 126
        },
        {
         "SK_ID_PREV": 2290715,
         "SK_ID_CURR": 181349,
         "NUM_INSTALMENT_VERSION": 0,
         "NUM_INSTALMENT_NUMBER": 22,
         "DAYS_INSTALMENT": -772,
         "DAYS_ENTRY_PAYMENT": -772,
         "AMT_INSTALMENT": 156.78,
         "AMT_PAYMENT": 156.78,
         "_deepnote_index_column": 132
        },
        {
         "SK_ID_PREV": 1835377,
         "SK_ID_CURR": 134812,
         "NUM_INSTALMENT_VERSION": 0,
         "NUM_INSTALMENT_NUMBER": 85,
         "DAYS_INSTALMENT": -927,
         "DAYS_ENTRY_PAYMENT": -927,
         "AMT_INSTALMENT": 511.605,
         "AMT_PAYMENT": 511.605,
         "_deepnote_index_column": 136
        },
        {
         "SK_ID_PREV": 2833952,
         "SK_ID_CURR": 136335,
         "NUM_INSTALMENT_VERSION": 0,
         "NUM_INSTALMENT_NUMBER": 24,
         "DAYS_INSTALMENT": -97,
         "DAYS_ENTRY_PAYMENT": -97,
         "AMT_INSTALMENT": 907.29,
         "AMT_PAYMENT": 907.29,
         "_deepnote_index_column": 139
        },
        {
         "SK_ID_PREV": 1589437,
         "SK_ID_CURR": 163385,
         "NUM_INSTALMENT_VERSION": 0,
         "NUM_INSTALMENT_NUMBER": 83,
         "DAYS_INSTALMENT": -1495,
         "DAYS_ENTRY_PAYMENT": -1495,
         "AMT_INSTALMENT": 3375,
         "AMT_PAYMENT": 3375,
         "_deepnote_index_column": 141
        },
        {
         "SK_ID_PREV": 1081233,
         "SK_ID_CURR": 114724,
         "NUM_INSTALMENT_VERSION": 0,
         "NUM_INSTALMENT_NUMBER": 14,
         "DAYS_INSTALMENT": -245,
         "DAYS_ENTRY_PAYMENT": -245,
         "AMT_INSTALMENT": 2250,
         "AMT_PAYMENT": 2250,
         "_deepnote_index_column": 144
        },
        {
         "SK_ID_PREV": 1030740,
         "SK_ID_CURR": 141698,
         "NUM_INSTALMENT_VERSION": 0,
         "NUM_INSTALMENT_NUMBER": 73,
         "DAYS_INSTALMENT": -1456,
         "DAYS_ENTRY_PAYMENT": -1456,
         "AMT_INSTALMENT": 126,
         "AMT_PAYMENT": 126,
         "_deepnote_index_column": 147
        },
        {
         "SK_ID_PREV": 1411124,
         "SK_ID_CURR": 157101,
         "NUM_INSTALMENT_VERSION": 0,
         "NUM_INSTALMENT_NUMBER": 39,
         "DAYS_INSTALMENT": -653,
         "DAYS_ENTRY_PAYMENT": -651,
         "AMT_INSTALMENT": 21570.39,
         "AMT_PAYMENT": 21570.39,
         "_deepnote_index_column": 152
        },
        {
         "SK_ID_PREV": 1717785,
         "SK_ID_CURR": 167275,
         "NUM_INSTALMENT_VERSION": 0,
         "NUM_INSTALMENT_NUMBER": 26,
         "DAYS_INSTALMENT": -2316,
         "DAYS_ENTRY_PAYMENT": -2317,
         "AMT_INSTALMENT": 9000,
         "AMT_PAYMENT": 9000,
         "_deepnote_index_column": 157
        },
        {
         "SK_ID_PREV": 1026624,
         "SK_ID_CURR": 100736,
         "NUM_INSTALMENT_VERSION": 0,
         "NUM_INSTALMENT_NUMBER": 38,
         "DAYS_INSTALMENT": -1878,
         "DAYS_ENTRY_PAYMENT": -1878,
         "AMT_INSTALMENT": 5625,
         "AMT_PAYMENT": 5625,
         "_deepnote_index_column": 178
        },
        {
         "SK_ID_PREV": 2584349,
         "SK_ID_CURR": 145462,
         "NUM_INSTALMENT_VERSION": 0,
         "NUM_INSTALMENT_NUMBER": 34,
         "DAYS_INSTALMENT": -757,
         "DAYS_ENTRY_PAYMENT": -757,
         "AMT_INSTALMENT": 12375,
         "AMT_PAYMENT": 12375,
         "_deepnote_index_column": 183
        },
        {
         "SK_ID_PREV": 1406298,
         "SK_ID_CURR": 156441,
         "NUM_INSTALMENT_VERSION": 0,
         "NUM_INSTALMENT_NUMBER": 30,
         "DAYS_INSTALMENT": -573,
         "DAYS_ENTRY_PAYMENT": -573,
         "AMT_INSTALMENT": 2.16,
         "AMT_PAYMENT": 2.16,
         "_deepnote_index_column": 185
        },
        {
         "SK_ID_PREV": 2687649,
         "SK_ID_CURR": 146102,
         "NUM_INSTALMENT_VERSION": 0,
         "NUM_INSTALMENT_NUMBER": 31,
         "DAYS_INSTALMENT": -705,
         "DAYS_ENTRY_PAYMENT": -705,
         "AMT_INSTALMENT": 94275,
         "AMT_PAYMENT": 94275,
         "_deepnote_index_column": 199
        },
        {
         "SK_ID_PREV": 1879913,
         "SK_ID_CURR": 117823,
         "NUM_INSTALMENT_VERSION": 0,
         "NUM_INSTALMENT_NUMBER": 63,
         "DAYS_INSTALMENT": -1015,
         "DAYS_ENTRY_PAYMENT": -1015,
         "AMT_INSTALMENT": 19800,
         "AMT_PAYMENT": 19800,
         "_deepnote_index_column": 202
        },
        {
         "SK_ID_PREV": 1106703,
         "SK_ID_CURR": 177704,
         "NUM_INSTALMENT_VERSION": 0,
         "NUM_INSTALMENT_NUMBER": 9,
         "DAYS_INSTALMENT": -225,
         "DAYS_ENTRY_PAYMENT": -225,
         "AMT_INSTALMENT": 0.225,
         "AMT_PAYMENT": 0.225,
         "_deepnote_index_column": 212
        },
        {
         "SK_ID_PREV": 2476771,
         "SK_ID_CURR": 167428,
         "NUM_INSTALMENT_VERSION": 0,
         "NUM_INSTALMENT_NUMBER": 78,
         "DAYS_INSTALMENT": -609,
         "DAYS_ENTRY_PAYMENT": -609,
         "AMT_INSTALMENT": 233.01,
         "AMT_PAYMENT": 233.01,
         "_deepnote_index_column": 218
        },
        {
         "SK_ID_PREV": 1761911,
         "SK_ID_CURR": 169117,
         "NUM_INSTALMENT_VERSION": 0,
         "NUM_INSTALMENT_NUMBER": 6,
         "DAYS_INSTALMENT": -578,
         "DAYS_ENTRY_PAYMENT": -578,
         "AMT_INSTALMENT": 37388.88,
         "AMT_PAYMENT": 37388.88,
         "_deepnote_index_column": 219
        },
        {
         "SK_ID_PREV": 1776446,
         "SK_ID_CURR": 183428,
         "NUM_INSTALMENT_VERSION": 0,
         "NUM_INSTALMENT_NUMBER": 46,
         "DAYS_INSTALMENT": -1786,
         "DAYS_ENTRY_PAYMENT": -1786,
         "AMT_INSTALMENT": 1125,
         "AMT_PAYMENT": 1125,
         "_deepnote_index_column": 221
        },
        {
         "SK_ID_PREV": 2299665,
         "SK_ID_CURR": 104873,
         "NUM_INSTALMENT_VERSION": 0,
         "NUM_INSTALMENT_NUMBER": 27,
         "DAYS_INSTALMENT": -705,
         "DAYS_ENTRY_PAYMENT": -702,
         "AMT_INSTALMENT": 7063.38,
         "AMT_PAYMENT": 7063.38,
         "_deepnote_index_column": 222
        },
        {
         "SK_ID_PREV": 1141609,
         "SK_ID_CURR": 140197,
         "NUM_INSTALMENT_VERSION": 0,
         "NUM_INSTALMENT_NUMBER": 53,
         "DAYS_INSTALMENT": -304,
         "DAYS_ENTRY_PAYMENT": -304,
         "AMT_INSTALMENT": 1559.025,
         "AMT_PAYMENT": 1559.025,
         "_deepnote_index_column": 228
        },
        {
         "SK_ID_PREV": 2773452,
         "SK_ID_CURR": 189771,
         "NUM_INSTALMENT_VERSION": 0,
         "NUM_INSTALMENT_NUMBER": 11,
         "DAYS_INSTALMENT": -952,
         "DAYS_ENTRY_PAYMENT": -952,
         "AMT_INSTALMENT": 1288.305,
         "AMT_PAYMENT": 1288.305,
         "_deepnote_index_column": 231
        },
        {
         "SK_ID_PREV": 2137328,
         "SK_ID_CURR": 189004,
         "NUM_INSTALMENT_VERSION": 0,
         "NUM_INSTALMENT_NUMBER": 25,
         "DAYS_INSTALMENT": -2400,
         "DAYS_ENTRY_PAYMENT": -2406,
         "AMT_INSTALMENT": 4500,
         "AMT_PAYMENT": 4500,
         "_deepnote_index_column": 232
        },
        {
         "SK_ID_PREV": 2467030,
         "SK_ID_CURR": 196058,
         "NUM_INSTALMENT_VERSION": 0,
         "NUM_INSTALMENT_NUMBER": 53,
         "DAYS_INSTALMENT": -208,
         "DAYS_ENTRY_PAYMENT": -223,
         "AMT_INSTALMENT": 19542.375,
         "AMT_PAYMENT": 19542.375,
         "_deepnote_index_column": 234
        },
        {
         "SK_ID_PREV": 1972827,
         "SK_ID_CURR": 114326,
         "NUM_INSTALMENT_VERSION": 0,
         "NUM_INSTALMENT_NUMBER": 49,
         "DAYS_INSTALMENT": -62,
         "DAYS_ENTRY_PAYMENT": -62,
         "AMT_INSTALMENT": 540.18,
         "AMT_PAYMENT": 540.18,
         "_deepnote_index_column": 237
        },
        {
         "SK_ID_PREV": 1976594,
         "SK_ID_CURR": 197363,
         "NUM_INSTALMENT_VERSION": 0,
         "NUM_INSTALMENT_NUMBER": 6,
         "DAYS_INSTALMENT": -678,
         "DAYS_ENTRY_PAYMENT": -678,
         "AMT_INSTALMENT": 2137.815,
         "AMT_PAYMENT": 2137.815,
         "_deepnote_index_column": 238
        },
        {
         "SK_ID_PREV": 2090335,
         "SK_ID_CURR": 102686,
         "NUM_INSTALMENT_VERSION": 0,
         "NUM_INSTALMENT_NUMBER": 19,
         "DAYS_INSTALMENT": -211,
         "DAYS_ENTRY_PAYMENT": -211,
         "AMT_INSTALMENT": 15228.72,
         "AMT_PAYMENT": 15228.72,
         "_deepnote_index_column": 241
        },
        {
         "SK_ID_PREV": 1746279,
         "SK_ID_CURR": 192359,
         "NUM_INSTALMENT_VERSION": 0,
         "NUM_INSTALMENT_NUMBER": 99,
         "DAYS_INSTALMENT": -263,
         "DAYS_ENTRY_PAYMENT": -282,
         "AMT_INSTALMENT": 6365.205,
         "AMT_PAYMENT": 6365.205,
         "_deepnote_index_column": 244
        },
        {
         "SK_ID_PREV": 2261291,
         "SK_ID_CURR": 101813,
         "NUM_INSTALMENT_VERSION": 0,
         "NUM_INSTALMENT_NUMBER": 112,
         "DAYS_INSTALMENT": -204,
         "DAYS_ENTRY_PAYMENT": -204,
         "AMT_INSTALMENT": 351,
         "AMT_PAYMENT": 351,
         "_deepnote_index_column": 257
        },
        {
         "SK_ID_PREV": 1519693,
         "SK_ID_CURR": 160256,
         "NUM_INSTALMENT_VERSION": 0,
         "NUM_INSTALMENT_NUMBER": 57,
         "DAYS_INSTALMENT": -327,
         "DAYS_ENTRY_PAYMENT": -327,
         "AMT_INSTALMENT": 213.075,
         "AMT_PAYMENT": 213.075,
         "_deepnote_index_column": 260
        },
        {
         "SK_ID_PREV": 1254935,
         "SK_ID_CURR": 138262,
         "NUM_INSTALMENT_VERSION": 0,
         "NUM_INSTALMENT_NUMBER": 36,
         "DAYS_INSTALMENT": -1329,
         "DAYS_ENTRY_PAYMENT": -1346,
         "AMT_INSTALMENT": 9000,
         "AMT_PAYMENT": 9000,
         "_deepnote_index_column": 263
        },
        {
         "SK_ID_PREV": 1354926,
         "SK_ID_CURR": 176558,
         "NUM_INSTALMENT_VERSION": 0,
         "NUM_INSTALMENT_NUMBER": 93,
         "DAYS_INSTALMENT": -372,
         "DAYS_ENTRY_PAYMENT": -391,
         "AMT_INSTALMENT": 11250,
         "AMT_PAYMENT": 11250,
         "_deepnote_index_column": 267
        },
        {
         "SK_ID_PREV": 1100553,
         "SK_ID_CURR": 142523,
         "NUM_INSTALMENT_VERSION": 0,
         "NUM_INSTALMENT_NUMBER": 22,
         "DAYS_INSTALMENT": -129,
         "DAYS_ENTRY_PAYMENT": -129,
         "AMT_INSTALMENT": 1.485,
         "AMT_PAYMENT": 1.485,
         "_deepnote_index_column": 270
        },
        {
         "SK_ID_PREV": 1636501,
         "SK_ID_CURR": 135581,
         "NUM_INSTALMENT_VERSION": 0,
         "NUM_INSTALMENT_NUMBER": 31,
         "DAYS_INSTALMENT": -363,
         "DAYS_ENTRY_PAYMENT": -363,
         "AMT_INSTALMENT": 415.17,
         "AMT_PAYMENT": 415.17,
         "_deepnote_index_column": 280
        },
        {
         "SK_ID_PREV": 1332637,
         "SK_ID_CURR": 148881,
         "NUM_INSTALMENT_VERSION": 0,
         "NUM_INSTALMENT_NUMBER": 4,
         "DAYS_INSTALMENT": -973,
         "DAYS_ENTRY_PAYMENT": -975,
         "AMT_INSTALMENT": 5227.56,
         "AMT_PAYMENT": 5227.56,
         "_deepnote_index_column": 288
        },
        {
         "SK_ID_PREV": 2116684,
         "SK_ID_CURR": 159083,
         "NUM_INSTALMENT_VERSION": 0,
         "NUM_INSTALMENT_NUMBER": 59,
         "DAYS_INSTALMENT": -1171,
         "DAYS_ENTRY_PAYMENT": -1171,
         "AMT_INSTALMENT": 387.27,
         "AMT_PAYMENT": 387.27,
         "_deepnote_index_column": 292
        },
        {
         "SK_ID_PREV": 2565433,
         "SK_ID_CURR": 175832,
         "NUM_INSTALMENT_VERSION": 0,
         "NUM_INSTALMENT_NUMBER": 59,
         "DAYS_INSTALMENT": -274,
         "DAYS_ENTRY_PAYMENT": -284,
         "AMT_INSTALMENT": 23273.82,
         "AMT_PAYMENT": 23273.82,
         "_deepnote_index_column": 297
        },
        {
         "SK_ID_PREV": 2568096,
         "SK_ID_CURR": 102845,
         "NUM_INSTALMENT_VERSION": 0,
         "NUM_INSTALMENT_NUMBER": 12,
         "DAYS_INSTALMENT": -309,
         "DAYS_ENTRY_PAYMENT": -309,
         "AMT_INSTALMENT": 17305.83,
         "AMT_PAYMENT": 17305.83,
         "_deepnote_index_column": 298
        },
        {
         "SK_ID_PREV": 1973095,
         "SK_ID_CURR": 143575,
         "NUM_INSTALMENT_VERSION": 0,
         "NUM_INSTALMENT_NUMBER": 32,
         "DAYS_INSTALMENT": -113,
         "DAYS_ENTRY_PAYMENT": -113,
         "AMT_INSTALMENT": 1848.24,
         "AMT_PAYMENT": 1848.24,
         "_deepnote_index_column": 302
        },
        {
         "SK_ID_PREV": 1574081,
         "SK_ID_CURR": 119672,
         "NUM_INSTALMENT_VERSION": 0,
         "NUM_INSTALMENT_NUMBER": 41,
         "DAYS_INSTALMENT": -304,
         "DAYS_ENTRY_PAYMENT": -309,
         "AMT_INSTALMENT": 2250,
         "AMT_PAYMENT": 2250,
         "_deepnote_index_column": 303
        },
        {
         "SK_ID_PREV": 2745338,
         "SK_ID_CURR": 121231,
         "NUM_INSTALMENT_VERSION": 0,
         "NUM_INSTALMENT_NUMBER": 22,
         "DAYS_INSTALMENT": -1753,
         "DAYS_ENTRY_PAYMENT": -1742,
         "AMT_INSTALMENT": 6750,
         "AMT_PAYMENT": 6750,
         "_deepnote_index_column": 306
        },
        {
         "SK_ID_PREV": 2726865,
         "SK_ID_CURR": 174076,
         "NUM_INSTALMENT_VERSION": 0,
         "NUM_INSTALMENT_NUMBER": 24,
         "DAYS_INSTALMENT": -462,
         "DAYS_ENTRY_PAYMENT": -462,
         "AMT_INSTALMENT": 161.37,
         "AMT_PAYMENT": 161.37,
         "_deepnote_index_column": 310
        },
        {
         "SK_ID_PREV": 1743396,
         "SK_ID_CURR": 163817,
         "NUM_INSTALMENT_VERSION": 0,
         "NUM_INSTALMENT_NUMBER": 116,
         "DAYS_INSTALMENT": -25,
         "DAYS_ENTRY_PAYMENT": -25,
         "AMT_INSTALMENT": 512.145,
         "AMT_PAYMENT": 512.145,
         "_deepnote_index_column": 311
        },
        {
         "SK_ID_PREV": 2813094,
         "SK_ID_CURR": 175035,
         "NUM_INSTALMENT_VERSION": 0,
         "NUM_INSTALMENT_NUMBER": 41,
         "DAYS_INSTALMENT": -1528,
         "DAYS_ENTRY_PAYMENT": -1528,
         "AMT_INSTALMENT": 134.1,
         "AMT_PAYMENT": 134.1,
         "_deepnote_index_column": 312
        },
        {
         "SK_ID_PREV": 1874175,
         "SK_ID_CURR": 104878,
         "NUM_INSTALMENT_VERSION": 0,
         "NUM_INSTALMENT_NUMBER": 20,
         "DAYS_INSTALMENT": -28,
         "DAYS_ENTRY_PAYMENT": -28,
         "AMT_INSTALMENT": 3005.28,
         "AMT_PAYMENT": 3005.28,
         "_deepnote_index_column": 319
        }
       ],
       "rows_bottom": [
        {
         "SK_ID_PREV": 1691646,
         "SK_ID_CURR": 415742,
         "NUM_INSTALMENT_VERSION": 0,
         "NUM_INSTALMENT_NUMBER": 43,
         "DAYS_INSTALMENT": -323,
         "DAYS_ENTRY_PAYMENT": -323,
         "AMT_INSTALMENT": 2047.005,
         "AMT_PAYMENT": 2047.005,
         "_deepnote_index_column": 13605153
        },
        {
         "SK_ID_PREV": 2411753,
         "SK_ID_CURR": 418587,
         "NUM_INSTALMENT_VERSION": 0,
         "NUM_INSTALMENT_NUMBER": 68,
         "DAYS_INSTALMENT": -1861,
         "DAYS_ENTRY_PAYMENT": -1861,
         "AMT_INSTALMENT": 481.905,
         "AMT_PAYMENT": 481.905,
         "_deepnote_index_column": 13605154
        },
        {
         "SK_ID_PREV": 1374521,
         "SK_ID_CURR": 419603,
         "NUM_INSTALMENT_VERSION": 0,
         "NUM_INSTALMENT_NUMBER": 41,
         "DAYS_INSTALMENT": -648,
         "DAYS_ENTRY_PAYMENT": -648,
         "AMT_INSTALMENT": 2926.98,
         "AMT_PAYMENT": 2926.98,
         "_deepnote_index_column": 13605155
        },
        {
         "SK_ID_PREV": 2657947,
         "SK_ID_CURR": 406179,
         "NUM_INSTALMENT_VERSION": 0,
         "NUM_INSTALMENT_NUMBER": 59,
         "DAYS_INSTALMENT": -1198,
         "DAYS_ENTRY_PAYMENT": -1205,
         "AMT_INSTALMENT": 3375,
         "AMT_PAYMENT": 3375,
         "_deepnote_index_column": 13605157
        },
        {
         "SK_ID_PREV": 1155205,
         "SK_ID_CURR": 434782,
         "NUM_INSTALMENT_VERSION": 0,
         "NUM_INSTALMENT_NUMBER": 2,
         "DAYS_INSTALMENT": -290,
         "DAYS_ENTRY_PAYMENT": -290,
         "AMT_INSTALMENT": 1211.31,
         "AMT_PAYMENT": 1211.31,
         "_deepnote_index_column": 13605160
        },
        {
         "SK_ID_PREV": 2766253,
         "SK_ID_CURR": 441288,
         "NUM_INSTALMENT_VERSION": 0,
         "NUM_INSTALMENT_NUMBER": 6,
         "DAYS_INSTALMENT": -1357,
         "DAYS_ENTRY_PAYMENT": -1369,
         "AMT_INSTALMENT": 4280.94,
         "AMT_PAYMENT": 4280.94,
         "_deepnote_index_column": 13605169
        },
        {
         "SK_ID_PREV": 1129309,
         "SK_ID_CURR": 439215,
         "NUM_INSTALMENT_VERSION": 0,
         "NUM_INSTALMENT_NUMBER": 13,
         "DAYS_INSTALMENT": -926,
         "DAYS_ENTRY_PAYMENT": -926,
         "AMT_INSTALMENT": 1.44,
         "AMT_PAYMENT": 1.44,
         "_deepnote_index_column": 13605176
        },
        {
         "SK_ID_PREV": 1211131,
         "SK_ID_CURR": 413126,
         "NUM_INSTALMENT_VERSION": 0,
         "NUM_INSTALMENT_NUMBER": 4,
         "DAYS_INSTALMENT": -326,
         "DAYS_ENTRY_PAYMENT": -339,
         "AMT_INSTALMENT": 4076.01,
         "AMT_PAYMENT": 4076.01,
         "_deepnote_index_column": 13605179
        },
        {
         "SK_ID_PREV": 2011392,
         "SK_ID_CURR": 425319,
         "NUM_INSTALMENT_VERSION": 0,
         "NUM_INSTALMENT_NUMBER": 9,
         "DAYS_INSTALMENT": -1079,
         "DAYS_ENTRY_PAYMENT": -1079,
         "AMT_INSTALMENT": 1719.36,
         "AMT_PAYMENT": 1719.36,
         "_deepnote_index_column": 13605191
        },
        {
         "SK_ID_PREV": 1520013,
         "SK_ID_CURR": 429939,
         "NUM_INSTALMENT_VERSION": 0,
         "NUM_INSTALMENT_NUMBER": 22,
         "DAYS_INSTALMENT": -1997,
         "DAYS_ENTRY_PAYMENT": -1997,
         "AMT_INSTALMENT": 225,
         "AMT_PAYMENT": 225,
         "_deepnote_index_column": 13605192
        },
        {
         "SK_ID_PREV": 2304757,
         "SK_ID_CURR": 401226,
         "NUM_INSTALMENT_VERSION": 0,
         "NUM_INSTALMENT_NUMBER": 108,
         "DAYS_INSTALMENT": -858,
         "DAYS_ENTRY_PAYMENT": -858,
         "AMT_INSTALMENT": 1125,
         "AMT_PAYMENT": 1125,
         "_deepnote_index_column": 13605196
        },
        {
         "SK_ID_PREV": 1182721,
         "SK_ID_CURR": 444597,
         "NUM_INSTALMENT_VERSION": 0,
         "NUM_INSTALMENT_NUMBER": 46,
         "DAYS_INSTALMENT": -1654,
         "DAYS_ENTRY_PAYMENT": -1642,
         "AMT_INSTALMENT": 9000,
         "AMT_PAYMENT": 360,
         "_deepnote_index_column": 13605200
        },
        {
         "SK_ID_PREV": 2645510,
         "SK_ID_CURR": 415590,
         "NUM_INSTALMENT_VERSION": 0,
         "NUM_INSTALMENT_NUMBER": 4,
         "DAYS_INSTALMENT": -855,
         "DAYS_ENTRY_PAYMENT": -858,
         "AMT_INSTALMENT": 16845.84,
         "AMT_PAYMENT": 16845.84,
         "_deepnote_index_column": 13605202
        },
        {
         "SK_ID_PREV": 2525686,
         "SK_ID_CURR": 451689,
         "NUM_INSTALMENT_VERSION": 0,
         "NUM_INSTALMENT_NUMBER": 28,
         "DAYS_INSTALMENT": -560,
         "DAYS_ENTRY_PAYMENT": -560,
         "AMT_INSTALMENT": 2058.795,
         "AMT_PAYMENT": 2058.795,
         "_deepnote_index_column": 13605205
        },
        {
         "SK_ID_PREV": 1373932,
         "SK_ID_CURR": 451417,
         "NUM_INSTALMENT_VERSION": 0,
         "NUM_INSTALMENT_NUMBER": 65,
         "DAYS_INSTALMENT": -488,
         "DAYS_ENTRY_PAYMENT": -488,
         "AMT_INSTALMENT": 200.835,
         "AMT_PAYMENT": 200.835,
         "_deepnote_index_column": 13605207
        },
        {
         "SK_ID_PREV": 2445987,
         "SK_ID_CURR": 410083,
         "NUM_INSTALMENT_VERSION": 0,
         "NUM_INSTALMENT_NUMBER": 32,
         "DAYS_INSTALMENT": -1926,
         "DAYS_ENTRY_PAYMENT": -1926,
         "AMT_INSTALMENT": 2250,
         "AMT_PAYMENT": 2250,
         "_deepnote_index_column": 13605209
        },
        {
         "SK_ID_PREV": 2524566,
         "SK_ID_CURR": 436614,
         "NUM_INSTALMENT_VERSION": 0,
         "NUM_INSTALMENT_NUMBER": 13,
         "DAYS_INSTALMENT": -50,
         "DAYS_ENTRY_PAYMENT": -50,
         "AMT_INSTALMENT": 468.495,
         "AMT_PAYMENT": 468.495,
         "_deepnote_index_column": 13605210
        },
        {
         "SK_ID_PREV": 1315217,
         "SK_ID_CURR": 410580,
         "NUM_INSTALMENT_VERSION": 0,
         "NUM_INSTALMENT_NUMBER": 12,
         "DAYS_INSTALMENT": -237,
         "DAYS_ENTRY_PAYMENT": -237,
         "AMT_INSTALMENT": 363.87,
         "AMT_PAYMENT": 363.87,
         "_deepnote_index_column": 13605212
        },
        {
         "SK_ID_PREV": 2450903,
         "SK_ID_CURR": 438908,
         "NUM_INSTALMENT_VERSION": 0,
         "NUM_INSTALMENT_NUMBER": 11,
         "DAYS_INSTALMENT": -816,
         "DAYS_ENTRY_PAYMENT": -816,
         "AMT_INSTALMENT": 1287.855,
         "AMT_PAYMENT": 1287.855,
         "_deepnote_index_column": 13605227
        },
        {
         "SK_ID_PREV": 2366653,
         "SK_ID_CURR": 417347,
         "NUM_INSTALMENT_VERSION": 0,
         "NUM_INSTALMENT_NUMBER": 68,
         "DAYS_INSTALMENT": -128,
         "DAYS_ENTRY_PAYMENT": -128,
         "AMT_INSTALMENT": 92.745,
         "AMT_PAYMENT": 92.745,
         "_deepnote_index_column": 13605233
        },
        {
         "SK_ID_PREV": 1675663,
         "SK_ID_CURR": 425981,
         "NUM_INSTALMENT_VERSION": 0,
         "NUM_INSTALMENT_NUMBER": 29,
         "DAYS_INSTALMENT": -652,
         "DAYS_ENTRY_PAYMENT": -651,
         "AMT_INSTALMENT": 6774.93,
         "AMT_PAYMENT": 6774.93,
         "_deepnote_index_column": 13605237
        },
        {
         "SK_ID_PREV": 2115852,
         "SK_ID_CURR": 415962,
         "NUM_INSTALMENT_VERSION": 0,
         "NUM_INSTALMENT_NUMBER": 7,
         "DAYS_INSTALMENT": -296,
         "DAYS_ENTRY_PAYMENT": -296,
         "AMT_INSTALMENT": 64.53,
         "AMT_PAYMENT": 64.53,
         "_deepnote_index_column": 13605241
        },
        {
         "SK_ID_PREV": 1132835,
         "SK_ID_CURR": 441576,
         "NUM_INSTALMENT_VERSION": 0,
         "NUM_INSTALMENT_NUMBER": 3,
         "DAYS_INSTALMENT": -188,
         "DAYS_ENTRY_PAYMENT": -188,
         "AMT_INSTALMENT": 3294.045,
         "AMT_PAYMENT": 3294.045,
         "_deepnote_index_column": 13605244
        },
        {
         "SK_ID_PREV": 1143699,
         "SK_ID_CURR": 437142,
         "NUM_INSTALMENT_VERSION": 0,
         "NUM_INSTALMENT_NUMBER": 6,
         "DAYS_INSTALMENT": -676,
         "DAYS_ENTRY_PAYMENT": -676,
         "AMT_INSTALMENT": 2133.495,
         "AMT_PAYMENT": 2133.495,
         "_deepnote_index_column": 13605248
        },
        {
         "SK_ID_PREV": 1827011,
         "SK_ID_CURR": 453606,
         "NUM_INSTALMENT_VERSION": 0,
         "NUM_INSTALMENT_NUMBER": 12,
         "DAYS_INSTALMENT": -463,
         "DAYS_ENTRY_PAYMENT": -463,
         "AMT_INSTALMENT": 15.255,
         "AMT_PAYMENT": 15.255,
         "_deepnote_index_column": 13605251
        },
        {
         "SK_ID_PREV": 1731075,
         "SK_ID_CURR": 454640,
         "NUM_INSTALMENT_VERSION": 0,
         "NUM_INSTALMENT_NUMBER": 13,
         "DAYS_INSTALMENT": -152,
         "DAYS_ENTRY_PAYMENT": -152,
         "AMT_INSTALMENT": 9493.965,
         "AMT_PAYMENT": 9493.965,
         "_deepnote_index_column": 13605255
        },
        {
         "SK_ID_PREV": 1411106,
         "SK_ID_CURR": 419156,
         "NUM_INSTALMENT_VERSION": 0,
         "NUM_INSTALMENT_NUMBER": 104,
         "DAYS_INSTALMENT": -873,
         "DAYS_ENTRY_PAYMENT": -886,
         "AMT_INSTALMENT": 3375,
         "AMT_PAYMENT": 3375,
         "_deepnote_index_column": 13605266
        },
        {
         "SK_ID_PREV": 1496977,
         "SK_ID_CURR": 408267,
         "NUM_INSTALMENT_VERSION": 0,
         "NUM_INSTALMENT_NUMBER": 5,
         "DAYS_INSTALMENT": -2075,
         "DAYS_ENTRY_PAYMENT": -2078,
         "AMT_INSTALMENT": 9000,
         "AMT_PAYMENT": 9000,
         "_deepnote_index_column": 13605276
        },
        {
         "SK_ID_PREV": 2554029,
         "SK_ID_CURR": 436950,
         "NUM_INSTALMENT_VERSION": 0,
         "NUM_INSTALMENT_NUMBER": 18,
         "DAYS_INSTALMENT": -1079,
         "DAYS_ENTRY_PAYMENT": -1086,
         "AMT_INSTALMENT": 13500,
         "AMT_PAYMENT": 13500,
         "_deepnote_index_column": 13605281
        },
        {
         "SK_ID_PREV": 2597827,
         "SK_ID_CURR": 448211,
         "NUM_INSTALMENT_VERSION": 0,
         "NUM_INSTALMENT_NUMBER": 18,
         "DAYS_INSTALMENT": -44,
         "DAYS_ENTRY_PAYMENT": -44,
         "AMT_INSTALMENT": 915.795,
         "AMT_PAYMENT": 915.795,
         "_deepnote_index_column": 13605286
        },
        {
         "SK_ID_PREV": 2005026,
         "SK_ID_CURR": 421938,
         "NUM_INSTALMENT_VERSION": 0,
         "NUM_INSTALMENT_NUMBER": 23,
         "DAYS_INSTALMENT": -456,
         "DAYS_ENTRY_PAYMENT": -456,
         "AMT_INSTALMENT": 8847.09,
         "AMT_PAYMENT": 8847.09,
         "_deepnote_index_column": 13605288
        },
        {
         "SK_ID_PREV": 2372059,
         "SK_ID_CURR": 405754,
         "NUM_INSTALMENT_VERSION": 0,
         "NUM_INSTALMENT_NUMBER": 2,
         "DAYS_INSTALMENT": -223,
         "DAYS_ENTRY_PAYMENT": -223,
         "AMT_INSTALMENT": 35370,
         "AMT_PAYMENT": 35370,
         "_deepnote_index_column": 13605293
        },
        {
         "SK_ID_PREV": 2126246,
         "SK_ID_CURR": 411521,
         "NUM_INSTALMENT_VERSION": 0,
         "NUM_INSTALMENT_NUMBER": 22,
         "DAYS_INSTALMENT": -331,
         "DAYS_ENTRY_PAYMENT": -331,
         "AMT_INSTALMENT": 2250,
         "AMT_PAYMENT": 2250,
         "_deepnote_index_column": 13605294
        },
        {
         "SK_ID_PREV": 1328942,
         "SK_ID_CURR": 413060,
         "NUM_INSTALMENT_VERSION": 0,
         "NUM_INSTALMENT_NUMBER": 10,
         "DAYS_INSTALMENT": -194,
         "DAYS_ENTRY_PAYMENT": -194,
         "AMT_INSTALMENT": 225,
         "AMT_PAYMENT": 225,
         "_deepnote_index_column": 13605304
        },
        {
         "SK_ID_PREV": 1083917,
         "SK_ID_CURR": 423135,
         "NUM_INSTALMENT_VERSION": 0,
         "NUM_INSTALMENT_NUMBER": 13,
         "DAYS_INSTALMENT": -788,
         "DAYS_ENTRY_PAYMENT": -790,
         "AMT_INSTALMENT": 19179.63,
         "AMT_PAYMENT": 19179.63,
         "_deepnote_index_column": 13605306
        },
        {
         "SK_ID_PREV": 2482258,
         "SK_ID_CURR": 445498,
         "NUM_INSTALMENT_VERSION": 0,
         "NUM_INSTALMENT_NUMBER": 42,
         "DAYS_INSTALMENT": -99,
         "DAYS_ENTRY_PAYMENT": -99,
         "AMT_INSTALMENT": 2046.96,
         "AMT_PAYMENT": 2046.96,
         "_deepnote_index_column": 13605309
        },
        {
         "SK_ID_PREV": 2800663,
         "SK_ID_CURR": 425204,
         "NUM_INSTALMENT_VERSION": 0,
         "NUM_INSTALMENT_NUMBER": 24,
         "DAYS_INSTALMENT": -2196,
         "DAYS_ENTRY_PAYMENT": -2199,
         "AMT_INSTALMENT": 4500,
         "AMT_PAYMENT": 4500,
         "_deepnote_index_column": 13605310
        },
        {
         "SK_ID_PREV": 1027364,
         "SK_ID_CURR": 410526,
         "NUM_INSTALMENT_VERSION": 0,
         "NUM_INSTALMENT_NUMBER": 3,
         "DAYS_INSTALMENT": -225,
         "DAYS_ENTRY_PAYMENT": -225,
         "AMT_INSTALMENT": 9000,
         "AMT_PAYMENT": 9000,
         "_deepnote_index_column": 13605322
        },
        {
         "SK_ID_PREV": 2411745,
         "SK_ID_CURR": 452564,
         "NUM_INSTALMENT_VERSION": 0,
         "NUM_INSTALMENT_NUMBER": 80,
         "DAYS_INSTALMENT": -1286,
         "DAYS_ENTRY_PAYMENT": -1286,
         "AMT_INSTALMENT": 2250,
         "AMT_PAYMENT": 2250,
         "_deepnote_index_column": 13605327
        },
        {
         "SK_ID_PREV": 2705073,
         "SK_ID_CURR": 401415,
         "NUM_INSTALMENT_VERSION": 0,
         "NUM_INSTALMENT_NUMBER": 25,
         "DAYS_INSTALMENT": -44,
         "DAYS_ENTRY_PAYMENT": -44,
         "AMT_INSTALMENT": 144843.48,
         "AMT_PAYMENT": 144843.48,
         "_deepnote_index_column": 13605333
        },
        {
         "SK_ID_PREV": 1314918,
         "SK_ID_CURR": 438694,
         "NUM_INSTALMENT_VERSION": 0,
         "NUM_INSTALMENT_NUMBER": 36,
         "DAYS_INSTALMENT": -142,
         "DAYS_ENTRY_PAYMENT": -142,
         "AMT_INSTALMENT": 4.275,
         "AMT_PAYMENT": 4.275,
         "_deepnote_index_column": 13605339
        },
        {
         "SK_ID_PREV": 2149043,
         "SK_ID_CURR": 415032,
         "NUM_INSTALMENT_VERSION": 0,
         "NUM_INSTALMENT_NUMBER": 9,
         "DAYS_INSTALMENT": -425,
         "DAYS_ENTRY_PAYMENT": -434,
         "AMT_INSTALMENT": 46517.49,
         "AMT_PAYMENT": 46517.49,
         "_deepnote_index_column": 13605341
        },
        {
         "SK_ID_PREV": 1374521,
         "SK_ID_CURR": 419603,
         "NUM_INSTALMENT_VERSION": 0,
         "NUM_INSTALMENT_NUMBER": 8,
         "DAYS_INSTALMENT": -1177,
         "DAYS_ENTRY_PAYMENT": -1184,
         "AMT_INSTALMENT": 4869.315,
         "AMT_PAYMENT": 4869.315,
         "_deepnote_index_column": 13605342
        },
        {
         "SK_ID_PREV": 1126000,
         "SK_ID_CURR": 428449,
         "NUM_INSTALMENT_VERSION": 0,
         "NUM_INSTALMENT_NUMBER": 12,
         "DAYS_INSTALMENT": -301,
         "DAYS_ENTRY_PAYMENT": -302,
         "AMT_INSTALMENT": 6793.47,
         "AMT_PAYMENT": 6750,
         "_deepnote_index_column": 13605345
        },
        {
         "SK_ID_PREV": 2784672,
         "SK_ID_CURR": 444977,
         "NUM_INSTALMENT_VERSION": 0,
         "NUM_INSTALMENT_NUMBER": 4,
         "DAYS_INSTALMENT": -157,
         "DAYS_ENTRY_PAYMENT": -157,
         "AMT_INSTALMENT": 373.005,
         "AMT_PAYMENT": 373.005,
         "_deepnote_index_column": 13605347
        },
        {
         "SK_ID_PREV": 2178644,
         "SK_ID_CURR": 412549,
         "NUM_INSTALMENT_VERSION": 0,
         "NUM_INSTALMENT_NUMBER": 63,
         "DAYS_INSTALMENT": -1525,
         "DAYS_ENTRY_PAYMENT": "nan",
         "AMT_INSTALMENT": 67.5,
         "AMT_PAYMENT": "nan",
         "_deepnote_index_column": 13605354
        },
        {
         "SK_ID_PREV": 2270971,
         "SK_ID_CURR": 434882,
         "NUM_INSTALMENT_VERSION": 0,
         "NUM_INSTALMENT_NUMBER": 38,
         "DAYS_INSTALMENT": -1984,
         "DAYS_ENTRY_PAYMENT": "nan",
         "AMT_INSTALMENT": 57.195,
         "AMT_PAYMENT": "nan",
         "_deepnote_index_column": 13605355
        },
        {
         "SK_ID_PREV": 1772537,
         "SK_ID_CURR": 448679,
         "NUM_INSTALMENT_VERSION": 0,
         "NUM_INSTALMENT_NUMBER": 69,
         "DAYS_INSTALMENT": -15,
         "DAYS_ENTRY_PAYMENT": "nan",
         "AMT_INSTALMENT": 22427.46,
         "AMT_PAYMENT": "nan",
         "_deepnote_index_column": 13605357
        },
        {
         "SK_ID_PREV": 2246041,
         "SK_ID_CURR": 430618,
         "NUM_INSTALMENT_VERSION": 0,
         "NUM_INSTALMENT_NUMBER": 40,
         "DAYS_INSTALMENT": -1416,
         "DAYS_ENTRY_PAYMENT": "nan",
         "AMT_INSTALMENT": 67.5,
         "AMT_PAYMENT": "nan",
         "_deepnote_index_column": 13605358
        },
        {
         "SK_ID_PREV": 2186857,
         "SK_ID_CURR": 428057,
         "NUM_INSTALMENT_VERSION": 0,
         "NUM_INSTALMENT_NUMBER": 67,
         "DAYS_INSTALMENT": -1593,
         "DAYS_ENTRY_PAYMENT": "nan",
         "AMT_INSTALMENT": 67.5,
         "AMT_PAYMENT": "nan",
         "_deepnote_index_column": 13605360
        },
        {
         "SK_ID_PREV": 2791282,
         "SK_ID_CURR": 413769,
         "NUM_INSTALMENT_VERSION": 0,
         "NUM_INSTALMENT_NUMBER": 70,
         "DAYS_INSTALMENT": -370,
         "DAYS_ENTRY_PAYMENT": "nan",
         "AMT_INSTALMENT": 130.5,
         "AMT_PAYMENT": "nan",
         "_deepnote_index_column": 13605366
        },
        {
         "SK_ID_PREV": 1369308,
         "SK_ID_CURR": 422771,
         "NUM_INSTALMENT_VERSION": 0,
         "NUM_INSTALMENT_NUMBER": 66,
         "DAYS_INSTALMENT": -81,
         "DAYS_ENTRY_PAYMENT": "nan",
         "AMT_INSTALMENT": 18263.79,
         "AMT_PAYMENT": "nan",
         "_deepnote_index_column": 13605368
        },
        {
         "SK_ID_PREV": 2007180,
         "SK_ID_CURR": 443858,
         "NUM_INSTALMENT_VERSION": 0,
         "NUM_INSTALMENT_NUMBER": 37,
         "DAYS_INSTALMENT": -1535,
         "DAYS_ENTRY_PAYMENT": "nan",
         "AMT_INSTALMENT": 67.5,
         "AMT_PAYMENT": "nan",
         "_deepnote_index_column": 13605370
        },
        {
         "SK_ID_PREV": 2497183,
         "SK_ID_CURR": 419772,
         "NUM_INSTALMENT_VERSION": 0,
         "NUM_INSTALMENT_NUMBER": 39,
         "DAYS_INSTALMENT": -1877,
         "DAYS_ENTRY_PAYMENT": "nan",
         "AMT_INSTALMENT": 67.5,
         "AMT_PAYMENT": "nan",
         "_deepnote_index_column": 13605375
        },
        {
         "SK_ID_PREV": 1263000,
         "SK_ID_CURR": 406628,
         "NUM_INSTALMENT_VERSION": 0,
         "NUM_INSTALMENT_NUMBER": 45,
         "DAYS_INSTALMENT": -808,
         "DAYS_ENTRY_PAYMENT": "nan",
         "AMT_INSTALMENT": 67.5,
         "AMT_PAYMENT": "nan",
         "_deepnote_index_column": 13605381
        },
        {
         "SK_ID_PREV": 2454112,
         "SK_ID_CURR": 400586,
         "NUM_INSTALMENT_VERSION": 0,
         "NUM_INSTALMENT_NUMBER": 27,
         "DAYS_INSTALMENT": -1720,
         "DAYS_ENTRY_PAYMENT": "nan",
         "AMT_INSTALMENT": 67.5,
         "AMT_PAYMENT": "nan",
         "_deepnote_index_column": 13605384
        },
        {
         "SK_ID_PREV": 2239217,
         "SK_ID_CURR": 451572,
         "NUM_INSTALMENT_VERSION": 0,
         "NUM_INSTALMENT_NUMBER": 76,
         "DAYS_INSTALMENT": -131,
         "DAYS_ENTRY_PAYMENT": "nan",
         "AMT_INSTALMENT": 46.98,
         "AMT_PAYMENT": "nan",
         "_deepnote_index_column": 13605385
        },
        {
         "SK_ID_PREV": 2831819,
         "SK_ID_CURR": 417123,
         "NUM_INSTALMENT_VERSION": 0,
         "NUM_INSTALMENT_NUMBER": 8,
         "DAYS_INSTALMENT": -15,
         "DAYS_ENTRY_PAYMENT": "nan",
         "AMT_INSTALMENT": 4399.74,
         "AMT_PAYMENT": "nan",
         "_deepnote_index_column": 13605388
        },
        {
         "SK_ID_PREV": 2186857,
         "SK_ID_CURR": 428057,
         "NUM_INSTALMENT_VERSION": 0,
         "NUM_INSTALMENT_NUMBER": 69,
         "DAYS_INSTALMENT": -1532,
         "DAYS_ENTRY_PAYMENT": "nan",
         "AMT_INSTALMENT": 67.5,
         "AMT_PAYMENT": "nan",
         "_deepnote_index_column": 13605389
        },
        {
         "SK_ID_PREV": 1285736,
         "SK_ID_CURR": 434069,
         "NUM_INSTALMENT_VERSION": 0,
         "NUM_INSTALMENT_NUMBER": 73,
         "DAYS_INSTALMENT": -853,
         "DAYS_ENTRY_PAYMENT": "nan",
         "AMT_INSTALMENT": 67.5,
         "AMT_PAYMENT": "nan",
         "_deepnote_index_column": 13605393
        },
        {
         "SK_ID_PREV": 2186857,
         "SK_ID_CURR": 428057,
         "NUM_INSTALMENT_VERSION": 0,
         "NUM_INSTALMENT_NUMBER": 66,
         "DAYS_INSTALMENT": -1624,
         "DAYS_ENTRY_PAYMENT": "nan",
         "AMT_INSTALMENT": 67.5,
         "AMT_PAYMENT": "nan",
         "_deepnote_index_column": 13605396
        },
        {
         "SK_ID_PREV": 1310347,
         "SK_ID_CURR": 414406,
         "NUM_INSTALMENT_VERSION": 0,
         "NUM_INSTALMENT_NUMBER": 47,
         "DAYS_INSTALMENT": -1539,
         "DAYS_ENTRY_PAYMENT": "nan",
         "AMT_INSTALMENT": 67.5,
         "AMT_PAYMENT": "nan",
         "_deepnote_index_column": 13605397
        },
        {
         "SK_ID_PREV": 1308766,
         "SK_ID_CURR": 402199,
         "NUM_INSTALMENT_VERSION": 0,
         "NUM_INSTALMENT_NUMBER": 43,
         "DAYS_INSTALMENT": -7,
         "DAYS_ENTRY_PAYMENT": "nan",
         "AMT_INSTALMENT": 43737.435,
         "AMT_PAYMENT": "nan",
         "_deepnote_index_column": 13605398
        }
       ]
      },
      "text/plain": "          SK_ID_PREV  SK_ID_CURR  NUM_INSTALMENT_VERSION  \\\n8            2723183      112102                     0.0   \n12           1570206      147645                     0.0   \n14           1594684      100193                     0.0   \n18           2391610      183431                     0.0   \n40           2270983      159586                     0.0   \n...              ...         ...                     ...   \n13605389     2186857      428057                     0.0   \n13605393     1285736      434069                     0.0   \n13605396     2186857      428057                     0.0   \n13605397     1310347      414406                     0.0   \n13605398     1308766      402199                     0.0   \n\n          NUM_INSTALMENT_NUMBER  DAYS_INSTALMENT  DAYS_ENTRY_PAYMENT  \\\n8                            14           -197.0              -197.0   \n12                           20           -761.0              -761.0   \n14                           56          -1153.0             -1153.0   \n18                           20          -1680.0             -1693.0   \n40                           30          -2022.0             -2046.0   \n...                         ...              ...                 ...   \n13605389                     69          -1532.0                 NaN   \n13605393                     73           -853.0                 NaN   \n13605396                     66          -1624.0                 NaN   \n13605397                     47          -1539.0                 NaN   \n13605398                     43             -7.0                 NaN   \n\n          AMT_INSTALMENT  AMT_PAYMENT  \n8                 70.740        70.74  \n12                21.510        21.51  \n14               301.860       301.86  \n18              7875.000      7875.00  \n40              9000.000      1800.00  \n...                  ...          ...  \n13605389          67.500          NaN  \n13605393          67.500          NaN  \n13605396          67.500          NaN  \n13605397          67.500          NaN  \n13605398       43737.435          NaN  \n\n[2994511 rows x 8 columns]",
      "text/html": "<div>\n<style scoped>\n    .dataframe tbody tr th:only-of-type {\n        vertical-align: middle;\n    }\n\n    .dataframe tbody tr th {\n        vertical-align: top;\n    }\n\n    .dataframe thead th {\n        text-align: right;\n    }\n</style>\n<table border=\"1\" class=\"dataframe\">\n  <thead>\n    <tr style=\"text-align: right;\">\n      <th></th>\n      <th>SK_ID_PREV</th>\n      <th>SK_ID_CURR</th>\n      <th>NUM_INSTALMENT_VERSION</th>\n      <th>NUM_INSTALMENT_NUMBER</th>\n      <th>DAYS_INSTALMENT</th>\n      <th>DAYS_ENTRY_PAYMENT</th>\n      <th>AMT_INSTALMENT</th>\n      <th>AMT_PAYMENT</th>\n    </tr>\n  </thead>\n  <tbody>\n    <tr>\n      <th>8</th>\n      <td>2723183</td>\n      <td>112102</td>\n      <td>0.0</td>\n      <td>14</td>\n      <td>-197.0</td>\n      <td>-197.0</td>\n      <td>70.740</td>\n      <td>70.74</td>\n    </tr>\n    <tr>\n      <th>12</th>\n      <td>1570206</td>\n      <td>147645</td>\n      <td>0.0</td>\n      <td>20</td>\n      <td>-761.0</td>\n      <td>-761.0</td>\n      <td>21.510</td>\n      <td>21.51</td>\n    </tr>\n    <tr>\n      <th>14</th>\n      <td>1594684</td>\n      <td>100193</td>\n      <td>0.0</td>\n      <td>56</td>\n      <td>-1153.0</td>\n      <td>-1153.0</td>\n      <td>301.860</td>\n      <td>301.86</td>\n    </tr>\n    <tr>\n      <th>18</th>\n      <td>2391610</td>\n      <td>183431</td>\n      <td>0.0</td>\n      <td>20</td>\n      <td>-1680.0</td>\n      <td>-1693.0</td>\n      <td>7875.000</td>\n      <td>7875.00</td>\n    </tr>\n    <tr>\n      <th>40</th>\n      <td>2270983</td>\n      <td>159586</td>\n      <td>0.0</td>\n      <td>30</td>\n      <td>-2022.0</td>\n      <td>-2046.0</td>\n      <td>9000.000</td>\n      <td>1800.00</td>\n    </tr>\n    <tr>\n      <th>...</th>\n      <td>...</td>\n      <td>...</td>\n      <td>...</td>\n      <td>...</td>\n      <td>...</td>\n      <td>...</td>\n      <td>...</td>\n      <td>...</td>\n    </tr>\n    <tr>\n      <th>13605389</th>\n      <td>2186857</td>\n      <td>428057</td>\n      <td>0.0</td>\n      <td>69</td>\n      <td>-1532.0</td>\n      <td>NaN</td>\n      <td>67.500</td>\n      <td>NaN</td>\n    </tr>\n    <tr>\n      <th>13605393</th>\n      <td>1285736</td>\n      <td>434069</td>\n      <td>0.0</td>\n      <td>73</td>\n      <td>-853.0</td>\n      <td>NaN</td>\n      <td>67.500</td>\n      <td>NaN</td>\n    </tr>\n    <tr>\n      <th>13605396</th>\n      <td>2186857</td>\n      <td>428057</td>\n      <td>0.0</td>\n      <td>66</td>\n      <td>-1624.0</td>\n      <td>NaN</td>\n      <td>67.500</td>\n      <td>NaN</td>\n    </tr>\n    <tr>\n      <th>13605397</th>\n      <td>1310347</td>\n      <td>414406</td>\n      <td>0.0</td>\n      <td>47</td>\n      <td>-1539.0</td>\n      <td>NaN</td>\n      <td>67.500</td>\n      <td>NaN</td>\n    </tr>\n    <tr>\n      <th>13605398</th>\n      <td>1308766</td>\n      <td>402199</td>\n      <td>0.0</td>\n      <td>43</td>\n      <td>-7.0</td>\n      <td>NaN</td>\n      <td>43737.435</td>\n      <td>NaN</td>\n    </tr>\n  </tbody>\n</table>\n<p>2994511 rows × 8 columns</p>\n</div>"
     },
     "metadata": {}
    }
   ],
   "execution_count": null
  },
  {
   "cell_type": "code",
   "metadata": {
    "tags": [],
    "cell_id": "00004-24b399f0-e3ec-4265-bf7c-5a46c5a53bde",
    "deepnote_to_be_reexecuted": true,
    "source_hash": "f919d2a8",
    "execution_start": 1630524120210,
    "execution_millis": 339,
    "deepnote_cell_type": "code"
   },
   "source": "sns.countplot(prev_apps[(prev_apps.NAME_CONTRACT_STATUS == \"Approved\") & (prev_apps.CNT_PAYMENT == 0)].NAME_CONTRACT_TYPE)",
   "outputs": [
    {
     "name": "stderr",
     "text": "/shared-libs/python3.7/py/lib/python3.7/site-packages/seaborn/_decorators.py:43: FutureWarning: Pass the following variable as a keyword arg: x. From version 0.12, the only valid positional argument will be `data`, and passing other arguments without an explicit keyword will result in an error or misinterpretation.\n  FutureWarning\n",
     "output_type": "stream"
    },
    {
     "output_type": "execute_result",
     "execution_count": 15,
     "data": {
      "text/plain": "<AxesSubplot:xlabel='NAME_CONTRACT_TYPE', ylabel='count'>"
     },
     "metadata": {}
    },
    {
     "data": {
      "text/plain": "<Figure size 1080x720 with 1 Axes>",
      "image/png": "[encoded data removed]"
     },
     "metadata": {
      "image/png": {
       "width": 913,
       "height": 592
      }
     },
     "output_type": "display_data"
    }
   ],
   "execution_count": null
  },
  {
   "cell_type": "markdown",
   "metadata": {
    "tags": [],
    "cell_id": "00004-de7983b0-d83d-4356-b39e-9f8eb4ff4716",
    "deepnote_to_be_reexecuted": true,
    "source_hash": "b623e53d",
    "deepnote_cell_type": "markdown"
   },
   "source": "It finally hit me. The people who do not have a predetermined amount of payments left on the previous credit application, ie CNT_PAYMENT = 0, and whose applications were approved applied for a REVOLVING LOAN. They can use their loan amount like a credit card, using it as they please so long as they make the payments. Also makes sense why their payment values fluctuate, but then this calls into question what the AMOUNT ANNUITY in the previous application column serves for then.  ",
   "execution_count": null
  },
  {
   "cell_type": "code",
   "metadata": {
    "tags": [],
    "cell_id": "00004-087d3417-b4bc-4551-a3c4-de4a21aa9b65",
    "deepnote_to_be_reexecuted": true,
    "source_hash": "b623e53d",
    "deepnote_cell_type": "code"
   },
   "source": "",
   "execution_count": null,
   "outputs": []
  },
  {
   "cell_type": "code",
   "metadata": {
    "tags": [],
    "cell_id": "00004-0d5060f5-2998-4d00-b683-fc5b74010261",
    "deepnote_to_be_reexecuted": true,
    "source_hash": "b623e53d",
    "deepnote_cell_type": "code"
   },
   "source": "",
   "execution_count": null,
   "outputs": []
  },
  {
   "cell_type": "code",
   "metadata": {
    "tags": [],
    "cell_id": "00004-7e65d1f3-ee0a-4213-a09e-8adf0cc215af",
    "deepnote_to_be_reexecuted": true,
    "source_hash": "b623e53d",
    "deepnote_cell_type": "code"
   },
   "source": "",
   "execution_count": null,
   "outputs": []
  },
  {
   "cell_type": "code",
   "metadata": {
    "tags": [],
    "cell_id": "00004-14e8b0f1-3c17-4238-8cb8-3419ebe5d287",
    "deepnote_to_be_reexecuted": true,
    "source_hash": "b623e53d",
    "deepnote_cell_type": "code"
   },
   "source": "",
   "execution_count": null,
   "outputs": []
  },
  {
   "cell_type": "code",
   "metadata": {
    "tags": [],
    "cell_id": "00004-240ed19e-19b2-43f7-8e01-77e499079ba8",
    "deepnote_to_be_reexecuted": true,
    "source_hash": "b623e53d",
    "deepnote_cell_type": "code"
   },
   "source": "",
   "execution_count": null,
   "outputs": []
  },
  {
   "cell_type": "markdown",
   "source": "# Ongoing Notes:\n- Attempt to find if they have an ongoing previous loan\n    - can do so by comparing the number of payments (if given) in the previous application dataset to the number of payments made so far in the installments payments dataframe.\n    - can use as an indicator for model if they have an ongoing previous loan. \n\n- Look into if there are any people who were approved for a previous loan with 0 for the CNT_PAYEMTN variable but have made payments\n    - found reason, they have revolving loans instead of cash/consumer loans\n    \n- Find out who have missed loans.\n    - can use as indicator for model on current application data",
   "metadata": {
    "tags": [],
    "cell_id": "00004-cd0e9bc9-edfe-4c37-8540-9658f075d4bc",
    "deepnote_to_be_reexecuted": true,
    "source_hash": "b623e53d",
    "deepnote_cell_type": "markdown"
   }
  },
  {
   "cell_type": "code",
   "metadata": {
    "tags": [],
    "cell_id": "00004-7cc1c8f5-95d7-46ed-831d-b042de8893ab",
    "deepnote_to_be_reexecuted": true,
    "source_hash": "b623e53d",
    "deepnote_cell_type": "code"
   },
   "source": "",
   "execution_count": null,
   "outputs": []
  },
  {
   "cell_type": "code",
   "metadata": {
    "tags": [],
    "cell_id": "00004-9f796d8b-b111-473a-8828-44f6989c192d",
    "deepnote_to_be_reexecuted": true,
    "source_hash": "b623e53d",
    "deepnote_cell_type": "code"
   },
   "source": "",
   "execution_count": null,
   "outputs": []
  },
  {
   "cell_type": "code",
   "metadata": {
    "tags": [],
    "cell_id": "00004-28c6b527-d218-4c2c-94cd-6373776a2f37",
    "deepnote_to_be_reexecuted": true,
    "source_hash": "b623e53d",
    "deepnote_cell_type": "code"
   },
   "source": "",
   "execution_count": null,
   "outputs": []
  },
  {
   "cell_type": "code",
   "metadata": {
    "tags": [],
    "cell_id": "00004-434ba056-d3f6-434a-9d8e-16e79e9482c8",
    "deepnote_to_be_reexecuted": true,
    "source_hash": "b623e53d",
    "deepnote_cell_type": "code"
   },
   "source": "",
   "execution_count": null,
   "outputs": []
  },
  {
   "cell_type": "code",
   "metadata": {
    "tags": [],
    "cell_id": "00004-cd360f29-96c3-4e74-911f-c45c584f3ecf",
    "deepnote_to_be_reexecuted": true,
    "source_hash": "b623e53d",
    "deepnote_cell_type": "code"
   },
   "source": "",
   "execution_count": null,
   "outputs": []
  },
  {
   "cell_type": "code",
   "metadata": {
    "tags": [],
    "cell_id": "00004-839696ed-c1af-44d1-95f9-f1974fccf154",
    "deepnote_to_be_reexecuted": true,
    "source_hash": "b623e53d",
    "deepnote_cell_type": "code"
   },
   "source": "",
   "execution_count": null,
   "outputs": []
  },
  {
   "cell_type": "code",
   "metadata": {
    "tags": [],
    "cell_id": "00004-de4a3246-a8db-4077-a960-c0e4e18f9266",
    "deepnote_to_be_reexecuted": true,
    "source_hash": "b623e53d",
    "deepnote_cell_type": "code"
   },
   "source": "",
   "execution_count": null,
   "outputs": []
  },
  {
   "cell_type": "code",
   "metadata": {
    "tags": [],
    "cell_id": "00004-82a412be-a604-4b32-8ec6-40a72c12745b",
    "deepnote_to_be_reexecuted": true,
    "source_hash": "b623e53d",
    "deepnote_cell_type": "code"
   },
   "source": "",
   "execution_count": null,
   "outputs": []
  },
  {
   "cell_type": "code",
   "metadata": {
    "tags": [],
    "cell_id": "00004-8100f77c-3913-4dad-a682-f9b34cbf9ff1",
    "deepnote_to_be_reexecuted": true,
    "source_hash": "b623e53d",
    "deepnote_cell_type": "code"
   },
   "source": "",
   "execution_count": null,
   "outputs": []
  },
  {
   "cell_type": "code",
   "metadata": {
    "tags": [],
    "cell_id": "00004-ccd79d72-038f-442b-839e-c9f5a6fcd051",
    "deepnote_to_be_reexecuted": true,
    "source_hash": "b623e53d",
    "deepnote_cell_type": "code"
   },
   "source": "",
   "execution_count": null,
   "outputs": []
  },
  {
   "cell_type": "code",
   "metadata": {
    "tags": [],
    "cell_id": "00004-bf71c9c1-e83f-4508-b0d6-9cac23b4cfe8",
    "deepnote_to_be_reexecuted": true,
    "source_hash": "b623e53d",
    "deepnote_cell_type": "code"
   },
   "source": "",
   "execution_count": null,
   "outputs": []
  },
  {
   "cell_type": "code",
   "metadata": {
    "tags": [],
    "cell_id": "00004-407bcf1e-c6d0-4982-83c2-0f0fb9981aae",
    "deepnote_to_be_reexecuted": true,
    "source_hash": "b623e53d",
    "deepnote_cell_type": "code"
   },
   "source": "",
   "execution_count": null,
   "outputs": []
  },
  {
   "cell_type": "code",
   "metadata": {
    "tags": [],
    "cell_id": "00004-b9d9a771-ffb3-4476-bc2e-70aacf55f2bd",
    "deepnote_to_be_reexecuted": true,
    "source_hash": "b623e53d",
    "deepnote_cell_type": "code"
   },
   "source": "",
   "execution_count": null,
   "outputs": []
  },
  {
   "cell_type": "code",
   "metadata": {
    "tags": [],
    "cell_id": "00004-d25c112d-f1bb-4d8d-a524-f6f6652d43cf",
    "deepnote_to_be_reexecuted": true,
    "source_hash": "b623e53d",
    "deepnote_cell_type": "code"
   },
   "source": "",
   "execution_count": null,
   "outputs": []
  },
  {
   "cell_type": "code",
   "metadata": {
    "tags": [],
    "cell_id": "00004-5e2eb919-7dae-4d6d-8cc4-ff97b8a9f92e",
    "deepnote_to_be_reexecuted": true,
    "source_hash": "b623e53d",
    "deepnote_cell_type": "code"
   },
   "source": "",
   "execution_count": null,
   "outputs": []
  },
  {
   "cell_type": "code",
   "metadata": {
    "tags": [],
    "cell_id": "00004-77a370a5-0d81-4a6e-9ff2-684f3064f7d1",
    "deepnote_to_be_reexecuted": true,
    "source_hash": "b623e53d",
    "deepnote_cell_type": "code"
   },
   "source": "",
   "execution_count": null,
   "outputs": []
  },
  {
   "cell_type": "code",
   "metadata": {
    "tags": [],
    "cell_id": "00004-5ed816d7-1dec-4a3a-8826-7cd4b8d89e3d",
    "deepnote_to_be_reexecuted": true,
    "source_hash": "b623e53d",
    "deepnote_cell_type": "code"
   },
   "source": "",
   "execution_count": null,
   "outputs": []
  },
  {
   "cell_type": "code",
   "metadata": {
    "tags": [],
    "cell_id": "00004-e3904e3f-054b-4dde-9c21-ddf728d384f2",
    "deepnote_to_be_reexecuted": true,
    "source_hash": "b623e53d",
    "deepnote_cell_type": "code"
   },
   "source": "",
   "execution_count": null,
   "outputs": []
  },
  {
   "cell_type": "code",
   "metadata": {
    "tags": [],
    "cell_id": "00004-4c0563e0-eb08-4136-984e-28e497324850",
    "deepnote_to_be_reexecuted": true,
    "source_hash": "b623e53d",
    "deepnote_cell_type": "code"
   },
   "source": "",
   "execution_count": null,
   "outputs": []
  },
  {
   "cell_type": "code",
   "metadata": {
    "tags": [],
    "cell_id": "00004-04e57a30-8f4b-40e0-9ea0-ce7dea1a24aa",
    "deepnote_to_be_reexecuted": true,
    "source_hash": "b623e53d",
    "deepnote_cell_type": "code"
   },
   "source": "",
   "execution_count": null,
   "outputs": []
  },
  {
   "cell_type": "code",
   "metadata": {
    "tags": [],
    "cell_id": "00004-853f03c9-2cd4-4cd5-95cf-9766802d3415",
    "deepnote_to_be_reexecuted": true,
    "source_hash": "b623e53d",
    "deepnote_cell_type": "code"
   },
   "source": "",
   "execution_count": null,
   "outputs": []
  },
  {
   "cell_type": "code",
   "metadata": {
    "tags": [],
    "cell_id": "00004-462d8faf-6691-4863-be25-25a3ec9a1c3c",
    "deepnote_to_be_reexecuted": true,
    "source_hash": "b623e53d",
    "deepnote_cell_type": "code"
   },
   "source": "",
   "execution_count": null,
   "outputs": []
  },
  {
   "cell_type": "code",
   "metadata": {
    "tags": [],
    "cell_id": "00004-f046ea29-c4fa-4cc1-9f4b-17d9173332d0",
    "deepnote_to_be_reexecuted": true,
    "source_hash": "b623e53d",
    "deepnote_cell_type": "code"
   },
   "source": "",
   "execution_count": null,
   "outputs": []
  },
  {
   "cell_type": "markdown",
   "source": "<a style='text-decoration:none;line-height:16px;display:flex;color:#5B5B62;padding:10px;justify-content:end;' href='https://deepnote.com?utm_source=created-in-deepnote-cell&projectId=9263f292-ea73-48e7-8892-f3d3ed1db03c' target=\"_blank\">\n<img alt='Created in deepnote.com' style='display:inline;max-height:16px;margin:0px;margin-right:7.5px;' src='data:image/svg+xml;base64,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' > </img>\nCreated in <span style='font-weight:600;margin-left:4px;'>Deepnote</span></a>",
   "metadata": {
    "tags": [],
    "created_in_deepnote_cell": true,
    "deepnote_cell_type": "markdown"
   }
  }
 ],
 "nbformat": 4,
 "nbformat_minor": 2,
 "metadata": {
  "orig_nbformat": 2,
  "deepnote": {
   "is_reactive": false
  },
  "deepnote_notebook_id": "4c611f5f-4d6d-47e2-b313-00cd05d70a55",
  "deepnote_execution_queue": [],
  "kernelspec": {
   "name": "python3",
   "language": "python",
   "display_name": "Python 3"
  }
 }
}
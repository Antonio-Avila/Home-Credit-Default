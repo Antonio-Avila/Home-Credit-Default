{
 "cells": [
  {
   "cell_type": "markdown",
   "source": "# Cash Balance of Loans",
   "metadata": {
    "tags": [],
    "cell_id": "00000-f7892572-1ed9-4719-b946-0642a72c0f8b",
    "deepnote_cell_type": "markdown"
   }
  },
  {
   "cell_type": "code",
   "metadata": {
    "tags": [],
    "cell_id": "00001-f29ec159-4034-40ca-b2bf-1dd7d664a2f2",
    "deepnote_to_be_reexecuted": false,
    "source_hash": "ff3ee64",
    "execution_start": 1632766856797,
    "execution_millis": 1219,
    "deepnote_cell_type": "code"
   },
   "source": "import pandas as pd\nimport numpy as np\nimport time\nimport scipy.stats as stats\nimport matplotlib.pyplot as plt\n%matplotlib inlineN\nplt.style.use(\"ggplot\")\nimport seaborn as sns\n\nimport pylab\npylab.rcParams['figure.figsize'] = (15, 10)",
   "outputs": [],
   "execution_count": null
  },
  {
   "cell_type": "code",
   "metadata": {
    "tags": [],
    "cell_id": "00001-239b55cd-007d-4079-8697-8c04a8c203fe",
    "deepnote_to_be_reexecuted": false,
    "source_hash": "8e656a4a",
    "execution_start": 1632766858021,
    "execution_millis": 23112,
    "deepnote_cell_type": "code"
   },
   "source": "balance = pd.read_csv(\"POS_CASH_balance.csv\")\n# app_train = pd.read_csv(\"app_train_red.csv\", index_col=0)\nprev_apps = pd.read_csv(\"previous_application.csv\")\npmts = pd.read_csv(\"installments_payments.csv\")",
   "outputs": [],
   "execution_count": null
  },
  {
   "cell_type": "code",
   "metadata": {
    "tags": [],
    "cell_id": "00001-5165e95e-ed44-461b-9faa-5121449ae860",
    "deepnote_to_be_reexecuted": false,
    "source_hash": "1fe92a19",
    "execution_start": 1632766881139,
    "execution_millis": 1018,
    "deepnote_cell_type": "code"
   },
   "source": "balance",
   "outputs": [
    {
     "output_type": "execute_result",
     "execution_count": 3,
     "data": {
      "application/vnd.deepnote.dataframe.v2+json": {
       "row_count": 10001358,
       "column_count": 8,
       "columns": [
        {
         "name": "SK_ID_PREV",
         "dtype": "int64"
        },
        {
         "name": "SK_ID_CURR",
         "dtype": "int64"
        },
        {
         "name": "MONTHS_BALANCE",
         "dtype": "int64"
        },
        {
         "name": "CNT_INSTALMENT",
         "dtype": "float64"
        },
        {
         "name": "CNT_INSTALMENT_FUTURE",
         "dtype": "float64"
        },
        {
         "name": "NAME_CONTRACT_STATUS",
         "dtype": "object"
        },
        {
         "name": "SK_DPD",
         "dtype": "int64"
        },
        {
         "name": "SK_DPD_DEF",
         "dtype": "int64"
        },
        {
         "name": "_deepnote_index_column",
         "dtype": "int64"
        }
       ],
       "rows_top": [
        {
         "SK_ID_PREV": 1803195,
         "SK_ID_CURR": 182943,
         "MONTHS_BALANCE": -31,
         "CNT_INSTALMENT": 48,
         "CNT_INSTALMENT_FUTURE": 45,
         "NAME_CONTRACT_STATUS": "Active",
         "SK_DPD": 0,
         "SK_DPD_DEF": 0,
         "_deepnote_index_column": 0
        },
        {
         "SK_ID_PREV": 1715348,
         "SK_ID_CURR": 367990,
         "MONTHS_BALANCE": -33,
         "CNT_INSTALMENT": 36,
         "CNT_INSTALMENT_FUTURE": 35,
         "NAME_CONTRACT_STATUS": "Active",
         "SK_DPD": 0,
         "SK_DPD_DEF": 0,
         "_deepnote_index_column": 1
        },
        {
         "SK_ID_PREV": 1784872,
         "SK_ID_CURR": 397406,
         "MONTHS_BALANCE": -32,
         "CNT_INSTALMENT": 12,
         "CNT_INSTALMENT_FUTURE": 9,
         "NAME_CONTRACT_STATUS": "Active",
         "SK_DPD": 0,
         "SK_DPD_DEF": 0,
         "_deepnote_index_column": 2
        },
        {
         "SK_ID_PREV": 1903291,
         "SK_ID_CURR": 269225,
         "MONTHS_BALANCE": -35,
         "CNT_INSTALMENT": 48,
         "CNT_INSTALMENT_FUTURE": 42,
         "NAME_CONTRACT_STATUS": "Active",
         "SK_DPD": 0,
         "SK_DPD_DEF": 0,
         "_deepnote_index_column": 3
        },
        {
         "SK_ID_PREV": 2341044,
         "SK_ID_CURR": 334279,
         "MONTHS_BALANCE": -35,
         "CNT_INSTALMENT": 36,
         "CNT_INSTALMENT_FUTURE": 35,
         "NAME_CONTRACT_STATUS": "Active",
         "SK_DPD": 0,
         "SK_DPD_DEF": 0,
         "_deepnote_index_column": 4
        },
        {
         "SK_ID_PREV": 2207092,
         "SK_ID_CURR": 342166,
         "MONTHS_BALANCE": -32,
         "CNT_INSTALMENT": 12,
         "CNT_INSTALMENT_FUTURE": 12,
         "NAME_CONTRACT_STATUS": "Active",
         "SK_DPD": 0,
         "SK_DPD_DEF": 0,
         "_deepnote_index_column": 5
        },
        {
         "SK_ID_PREV": 1110516,
         "SK_ID_CURR": 204376,
         "MONTHS_BALANCE": -38,
         "CNT_INSTALMENT": 48,
         "CNT_INSTALMENT_FUTURE": 43,
         "NAME_CONTRACT_STATUS": "Active",
         "SK_DPD": 0,
         "SK_DPD_DEF": 0,
         "_deepnote_index_column": 6
        },
        {
         "SK_ID_PREV": 1387235,
         "SK_ID_CURR": 153211,
         "MONTHS_BALANCE": -35,
         "CNT_INSTALMENT": 36,
         "CNT_INSTALMENT_FUTURE": 36,
         "NAME_CONTRACT_STATUS": "Active",
         "SK_DPD": 0,
         "SK_DPD_DEF": 0,
         "_deepnote_index_column": 7
        },
        {
         "SK_ID_PREV": 1220500,
         "SK_ID_CURR": 112740,
         "MONTHS_BALANCE": -31,
         "CNT_INSTALMENT": 12,
         "CNT_INSTALMENT_FUTURE": 12,
         "NAME_CONTRACT_STATUS": "Active",
         "SK_DPD": 0,
         "SK_DPD_DEF": 0,
         "_deepnote_index_column": 8
        },
        {
         "SK_ID_PREV": 2371489,
         "SK_ID_CURR": 274851,
         "MONTHS_BALANCE": -32,
         "CNT_INSTALMENT": 24,
         "CNT_INSTALMENT_FUTURE": 16,
         "NAME_CONTRACT_STATUS": "Active",
         "SK_DPD": 0,
         "SK_DPD_DEF": 0,
         "_deepnote_index_column": 9
        },
        {
         "SK_ID_PREV": 2328294,
         "SK_ID_CURR": 287361,
         "MONTHS_BALANCE": -32,
         "CNT_INSTALMENT": 12,
         "CNT_INSTALMENT_FUTURE": 12,
         "NAME_CONTRACT_STATUS": "Active",
         "SK_DPD": 0,
         "SK_DPD_DEF": 0,
         "_deepnote_index_column": 10
        },
        {
         "SK_ID_PREV": 2023570,
         "SK_ID_CURR": 237959,
         "MONTHS_BALANCE": -39,
         "CNT_INSTALMENT": 12,
         "CNT_INSTALMENT_FUTURE": 12,
         "NAME_CONTRACT_STATUS": "Active",
         "SK_DPD": 0,
         "SK_DPD_DEF": 0,
         "_deepnote_index_column": 11
        },
        {
         "SK_ID_PREV": 1258390,
         "SK_ID_CURR": 278261,
         "MONTHS_BALANCE": -32,
         "CNT_INSTALMENT": 36,
         "CNT_INSTALMENT_FUTURE": 36,
         "NAME_CONTRACT_STATUS": "Active",
         "SK_DPD": 0,
         "SK_DPD_DEF": 0,
         "_deepnote_index_column": 12
        },
        {
         "SK_ID_PREV": 1627166,
         "SK_ID_CURR": 146161,
         "MONTHS_BALANCE": -33,
         "CNT_INSTALMENT": 24,
         "CNT_INSTALMENT_FUTURE": 24,
         "NAME_CONTRACT_STATUS": "Active",
         "SK_DPD": 0,
         "SK_DPD_DEF": 0,
         "_deepnote_index_column": 13
        },
        {
         "SK_ID_PREV": 1711625,
         "SK_ID_CURR": 131467,
         "MONTHS_BALANCE": -34,
         "CNT_INSTALMENT": 12,
         "CNT_INSTALMENT_FUTURE": 5,
         "NAME_CONTRACT_STATUS": "Active",
         "SK_DPD": 0,
         "SK_DPD_DEF": 0,
         "_deepnote_index_column": 14
        },
        {
         "SK_ID_PREV": 2374177,
         "SK_ID_CURR": 204722,
         "MONTHS_BALANCE": -35,
         "CNT_INSTALMENT": 24,
         "CNT_INSTALMENT_FUTURE": 15,
         "NAME_CONTRACT_STATUS": "Active",
         "SK_DPD": 0,
         "SK_DPD_DEF": 0,
         "_deepnote_index_column": 15
        },
        {
         "SK_ID_PREV": 1716688,
         "SK_ID_CURR": 405549,
         "MONTHS_BALANCE": -33,
         "CNT_INSTALMENT": 12,
         "CNT_INSTALMENT_FUTURE": 1,
         "NAME_CONTRACT_STATUS": "Active",
         "SK_DPD": 0,
         "SK_DPD_DEF": 0,
         "_deepnote_index_column": 16
        },
        {
         "SK_ID_PREV": 1846127,
         "SK_ID_CURR": 380050,
         "MONTHS_BALANCE": -31,
         "CNT_INSTALMENT": 36,
         "CNT_INSTALMENT_FUTURE": 28,
         "NAME_CONTRACT_STATUS": "Active",
         "SK_DPD": 0,
         "SK_DPD_DEF": 0,
         "_deepnote_index_column": 17
        },
        {
         "SK_ID_PREV": 1911764,
         "SK_ID_CURR": 312551,
         "MONTHS_BALANCE": -32,
         "CNT_INSTALMENT": 24,
         "CNT_INSTALMENT_FUTURE": 16,
         "NAME_CONTRACT_STATUS": "Active",
         "SK_DPD": 0,
         "SK_DPD_DEF": 0,
         "_deepnote_index_column": 18
        },
        {
         "SK_ID_PREV": 2645133,
         "SK_ID_CURR": 152810,
         "MONTHS_BALANCE": -35,
         "CNT_INSTALMENT": 24,
         "CNT_INSTALMENT_FUTURE": 23,
         "NAME_CONTRACT_STATUS": "Active",
         "SK_DPD": 0,
         "SK_DPD_DEF": 0,
         "_deepnote_index_column": 19
        },
        {
         "SK_ID_PREV": 1381005,
         "SK_ID_CURR": 195362,
         "MONTHS_BALANCE": -34,
         "CNT_INSTALMENT": 60,
         "CNT_INSTALMENT_FUTURE": 56,
         "NAME_CONTRACT_STATUS": "Active",
         "SK_DPD": 0,
         "SK_DPD_DEF": 0,
         "_deepnote_index_column": 20
        },
        {
         "SK_ID_PREV": 1366811,
         "SK_ID_CURR": 169489,
         "MONTHS_BALANCE": -38,
         "CNT_INSTALMENT": 24,
         "CNT_INSTALMENT_FUTURE": 24,
         "NAME_CONTRACT_STATUS": "Active",
         "SK_DPD": 0,
         "SK_DPD_DEF": 0,
         "_deepnote_index_column": 21
        },
        {
         "SK_ID_PREV": 1260621,
         "SK_ID_CURR": 244684,
         "MONTHS_BALANCE": -32,
         "CNT_INSTALMENT": 18,
         "CNT_INSTALMENT_FUTURE": 12,
         "NAME_CONTRACT_STATUS": "Active",
         "SK_DPD": 0,
         "SK_DPD_DEF": 0,
         "_deepnote_index_column": 22
        },
        {
         "SK_ID_PREV": 1445556,
         "SK_ID_CURR": 220181,
         "MONTHS_BALANCE": -41,
         "CNT_INSTALMENT": 12,
         "CNT_INSTALMENT_FUTURE": 12,
         "NAME_CONTRACT_STATUS": "Active",
         "SK_DPD": 0,
         "SK_DPD_DEF": 0,
         "_deepnote_index_column": 23
        },
        {
         "SK_ID_PREV": 1420240,
         "SK_ID_CURR": 386836,
         "MONTHS_BALANCE": -41,
         "CNT_INSTALMENT": 12,
         "CNT_INSTALMENT_FUTURE": 11,
         "NAME_CONTRACT_STATUS": "Active",
         "SK_DPD": 0,
         "SK_DPD_DEF": 0,
         "_deepnote_index_column": 24
        },
        {
         "SK_ID_PREV": 2631694,
         "SK_ID_CURR": 337149,
         "MONTHS_BALANCE": -33,
         "CNT_INSTALMENT": 12,
         "CNT_INSTALMENT_FUTURE": 11,
         "NAME_CONTRACT_STATUS": "Active",
         "SK_DPD": 0,
         "SK_DPD_DEF": 0,
         "_deepnote_index_column": 25
        },
        {
         "SK_ID_PREV": 1059679,
         "SK_ID_CURR": 139637,
         "MONTHS_BALANCE": -31,
         "CNT_INSTALMENT": 12,
         "CNT_INSTALMENT_FUTURE": 12,
         "NAME_CONTRACT_STATUS": "Active",
         "SK_DPD": 0,
         "SK_DPD_DEF": 0,
         "_deepnote_index_column": 26
        },
        {
         "SK_ID_PREV": 1865970,
         "SK_ID_CURR": 202091,
         "MONTHS_BALANCE": -35,
         "CNT_INSTALMENT": 12,
         "CNT_INSTALMENT_FUTURE": 7,
         "NAME_CONTRACT_STATUS": "Active",
         "SK_DPD": 0,
         "SK_DPD_DEF": 0,
         "_deepnote_index_column": 27
        },
        {
         "SK_ID_PREV": 2683316,
         "SK_ID_CURR": 454237,
         "MONTHS_BALANCE": -32,
         "CNT_INSTALMENT": 18,
         "CNT_INSTALMENT_FUTURE": 15,
         "NAME_CONTRACT_STATUS": "Active",
         "SK_DPD": 0,
         "SK_DPD_DEF": 0,
         "_deepnote_index_column": 28
        },
        {
         "SK_ID_PREV": 2759941,
         "SK_ID_CURR": 428330,
         "MONTHS_BALANCE": -32,
         "CNT_INSTALMENT": 18,
         "CNT_INSTALMENT_FUTURE": 18,
         "NAME_CONTRACT_STATUS": "Active",
         "SK_DPD": 0,
         "SK_DPD_DEF": 0,
         "_deepnote_index_column": 29
        },
        {
         "SK_ID_PREV": 2090361,
         "SK_ID_CURR": 336201,
         "MONTHS_BALANCE": -35,
         "CNT_INSTALMENT": 12,
         "CNT_INSTALMENT_FUTURE": 12,
         "NAME_CONTRACT_STATUS": "Active",
         "SK_DPD": 0,
         "SK_DPD_DEF": 0,
         "_deepnote_index_column": 30
        },
        {
         "SK_ID_PREV": 1463929,
         "SK_ID_CURR": 108990,
         "MONTHS_BALANCE": -41,
         "CNT_INSTALMENT": 12,
         "CNT_INSTALMENT_FUTURE": 12,
         "NAME_CONTRACT_STATUS": "Active",
         "SK_DPD": 0,
         "SK_DPD_DEF": 0,
         "_deepnote_index_column": 31
        },
        {
         "SK_ID_PREV": 2504959,
         "SK_ID_CURR": 122511,
         "MONTHS_BALANCE": -34,
         "CNT_INSTALMENT": 36,
         "CNT_INSTALMENT_FUTURE": 35,
         "NAME_CONTRACT_STATUS": "Active",
         "SK_DPD": 0,
         "SK_DPD_DEF": 0,
         "_deepnote_index_column": 32
        },
        {
         "SK_ID_PREV": 1873885,
         "SK_ID_CURR": 148915,
         "MONTHS_BALANCE": -31,
         "CNT_INSTALMENT": 24,
         "CNT_INSTALMENT_FUTURE": 23,
         "NAME_CONTRACT_STATUS": "Active",
         "SK_DPD": 0,
         "SK_DPD_DEF": 0,
         "_deepnote_index_column": 33
        },
        {
         "SK_ID_PREV": 1050971,
         "SK_ID_CURR": 220814,
         "MONTHS_BALANCE": -33,
         "CNT_INSTALMENT": 18,
         "CNT_INSTALMENT_FUTURE": 12,
         "NAME_CONTRACT_STATUS": "Active",
         "SK_DPD": 0,
         "SK_DPD_DEF": 0,
         "_deepnote_index_column": 34
        },
        {
         "SK_ID_PREV": 2701303,
         "SK_ID_CURR": 109846,
         "MONTHS_BALANCE": -33,
         "CNT_INSTALMENT": 18,
         "CNT_INSTALMENT_FUTURE": 12,
         "NAME_CONTRACT_STATUS": "Active",
         "SK_DPD": 0,
         "SK_DPD_DEF": 0,
         "_deepnote_index_column": 35
        },
        {
         "SK_ID_PREV": 2246356,
         "SK_ID_CURR": 331357,
         "MONTHS_BALANCE": -35,
         "CNT_INSTALMENT": 36,
         "CNT_INSTALMENT_FUTURE": 35,
         "NAME_CONTRACT_STATUS": "Active",
         "SK_DPD": 0,
         "SK_DPD_DEF": 0,
         "_deepnote_index_column": 36
        },
        {
         "SK_ID_PREV": 1519906,
         "SK_ID_CURR": 122077,
         "MONTHS_BALANCE": -39,
         "CNT_INSTALMENT": 24,
         "CNT_INSTALMENT_FUTURE": 11,
         "NAME_CONTRACT_STATUS": "Active",
         "SK_DPD": 0,
         "SK_DPD_DEF": 0,
         "_deepnote_index_column": 37
        },
        {
         "SK_ID_PREV": 2465534,
         "SK_ID_CURR": 266721,
         "MONTHS_BALANCE": -35,
         "CNT_INSTALMENT": 18,
         "CNT_INSTALMENT_FUTURE": 17,
         "NAME_CONTRACT_STATUS": "Active",
         "SK_DPD": 0,
         "SK_DPD_DEF": 0,
         "_deepnote_index_column": 38
        },
        {
         "SK_ID_PREV": 2833264,
         "SK_ID_CURR": 429694,
         "MONTHS_BALANCE": -37,
         "CNT_INSTALMENT": 60,
         "CNT_INSTALMENT_FUTURE": 46,
         "NAME_CONTRACT_STATUS": "Active",
         "SK_DPD": 0,
         "SK_DPD_DEF": 0,
         "_deepnote_index_column": 39
        },
        {
         "SK_ID_PREV": 2397883,
         "SK_ID_CURR": 223795,
         "MONTHS_BALANCE": -31,
         "CNT_INSTALMENT": 12,
         "CNT_INSTALMENT_FUTURE": 7,
         "NAME_CONTRACT_STATUS": "Active",
         "SK_DPD": 0,
         "SK_DPD_DEF": 0,
         "_deepnote_index_column": 40
        },
        {
         "SK_ID_PREV": 1010305,
         "SK_ID_CURR": 338532,
         "MONTHS_BALANCE": -39,
         "CNT_INSTALMENT": 24,
         "CNT_INSTALMENT_FUTURE": 21,
         "NAME_CONTRACT_STATUS": "Active",
         "SK_DPD": 0,
         "SK_DPD_DEF": 0,
         "_deepnote_index_column": 41
        },
        {
         "SK_ID_PREV": 1298869,
         "SK_ID_CURR": 210084,
         "MONTHS_BALANCE": -41,
         "CNT_INSTALMENT": 48,
         "CNT_INSTALMENT_FUTURE": 0,
         "NAME_CONTRACT_STATUS": "Completed",
         "SK_DPD": 0,
         "SK_DPD_DEF": 0,
         "_deepnote_index_column": 42
        },
        {
         "SK_ID_PREV": 1557122,
         "SK_ID_CURR": 420239,
         "MONTHS_BALANCE": -38,
         "CNT_INSTALMENT": 24,
         "CNT_INSTALMENT_FUTURE": 4,
         "NAME_CONTRACT_STATUS": "Active",
         "SK_DPD": 0,
         "SK_DPD_DEF": 0,
         "_deepnote_index_column": 43
        },
        {
         "SK_ID_PREV": 1891208,
         "SK_ID_CURR": 164877,
         "MONTHS_BALANCE": -34,
         "CNT_INSTALMENT": 48,
         "CNT_INSTALMENT_FUTURE": 42,
         "NAME_CONTRACT_STATUS": "Active",
         "SK_DPD": 0,
         "SK_DPD_DEF": 0,
         "_deepnote_index_column": 44
        },
        {
         "SK_ID_PREV": 1443121,
         "SK_ID_CURR": 370945,
         "MONTHS_BALANCE": -33,
         "CNT_INSTALMENT": 24,
         "CNT_INSTALMENT_FUTURE": 24,
         "NAME_CONTRACT_STATUS": "Active",
         "SK_DPD": 0,
         "SK_DPD_DEF": 0,
         "_deepnote_index_column": 45
        },
        {
         "SK_ID_PREV": 1894403,
         "SK_ID_CURR": 266542,
         "MONTHS_BALANCE": -37,
         "CNT_INSTALMENT": 48,
         "CNT_INSTALMENT_FUTURE": 40,
         "NAME_CONTRACT_STATUS": "Active",
         "SK_DPD": 0,
         "SK_DPD_DEF": 0,
         "_deepnote_index_column": 46
        },
        {
         "SK_ID_PREV": 2027470,
         "SK_ID_CURR": 391768,
         "MONTHS_BALANCE": -41,
         "CNT_INSTALMENT": 48,
         "CNT_INSTALMENT_FUTURE": 40,
         "NAME_CONTRACT_STATUS": "Active",
         "SK_DPD": 0,
         "SK_DPD_DEF": 0,
         "_deepnote_index_column": 47
        },
        {
         "SK_ID_PREV": 2294245,
         "SK_ID_CURR": 426454,
         "MONTHS_BALANCE": -38,
         "CNT_INSTALMENT": 12,
         "CNT_INSTALMENT_FUTURE": 5,
         "NAME_CONTRACT_STATUS": "Active",
         "SK_DPD": 0,
         "SK_DPD_DEF": 0,
         "_deepnote_index_column": 48
        },
        {
         "SK_ID_PREV": 1799734,
         "SK_ID_CURR": 344436,
         "MONTHS_BALANCE": -32,
         "CNT_INSTALMENT": 48,
         "CNT_INSTALMENT_FUTURE": 46,
         "NAME_CONTRACT_STATUS": "Active",
         "SK_DPD": 0,
         "SK_DPD_DEF": 0,
         "_deepnote_index_column": 49
        },
        {
         "SK_ID_PREV": 1099860,
         "SK_ID_CURR": 184062,
         "MONTHS_BALANCE": -31,
         "CNT_INSTALMENT": 36,
         "CNT_INSTALMENT_FUTURE": 32,
         "NAME_CONTRACT_STATUS": "Active",
         "SK_DPD": 0,
         "SK_DPD_DEF": 0,
         "_deepnote_index_column": 50
        },
        {
         "SK_ID_PREV": 2165412,
         "SK_ID_CURR": 239703,
         "MONTHS_BALANCE": -35,
         "CNT_INSTALMENT": 12,
         "CNT_INSTALMENT_FUTURE": 12,
         "NAME_CONTRACT_STATUS": "Signed",
         "SK_DPD": 0,
         "SK_DPD_DEF": 0,
         "_deepnote_index_column": 51
        },
        {
         "SK_ID_PREV": 1955907,
         "SK_ID_CURR": 134432,
         "MONTHS_BALANCE": -34,
         "CNT_INSTALMENT": 4,
         "CNT_INSTALMENT_FUTURE": 0,
         "NAME_CONTRACT_STATUS": "Completed",
         "SK_DPD": 0,
         "SK_DPD_DEF": 0,
         "_deepnote_index_column": 52
        },
        {
         "SK_ID_PREV": 1189925,
         "SK_ID_CURR": 445620,
         "MONTHS_BALANCE": -31,
         "CNT_INSTALMENT": 12,
         "CNT_INSTALMENT_FUTURE": 12,
         "NAME_CONTRACT_STATUS": "Active",
         "SK_DPD": 0,
         "SK_DPD_DEF": 0,
         "_deepnote_index_column": 53
        },
        {
         "SK_ID_PREV": 1288860,
         "SK_ID_CURR": 220431,
         "MONTHS_BALANCE": -40,
         "CNT_INSTALMENT": 18,
         "CNT_INSTALMENT_FUTURE": 17,
         "NAME_CONTRACT_STATUS": "Active",
         "SK_DPD": 0,
         "SK_DPD_DEF": 0,
         "_deepnote_index_column": 54
        },
        {
         "SK_ID_PREV": 2287226,
         "SK_ID_CURR": 224318,
         "MONTHS_BALANCE": -37,
         "CNT_INSTALMENT": 24,
         "CNT_INSTALMENT_FUTURE": 19,
         "NAME_CONTRACT_STATUS": "Active",
         "SK_DPD": 0,
         "SK_DPD_DEF": 0,
         "_deepnote_index_column": 55
        },
        {
         "SK_ID_PREV": 1367593,
         "SK_ID_CURR": 336653,
         "MONTHS_BALANCE": -31,
         "CNT_INSTALMENT": 18,
         "CNT_INSTALMENT_FUTURE": 18,
         "NAME_CONTRACT_STATUS": "Signed",
         "SK_DPD": 0,
         "SK_DPD_DEF": 0,
         "_deepnote_index_column": 56
        },
        {
         "SK_ID_PREV": 2738262,
         "SK_ID_CURR": 207514,
         "MONTHS_BALANCE": -33,
         "CNT_INSTALMENT": 12,
         "CNT_INSTALMENT_FUTURE": 12,
         "NAME_CONTRACT_STATUS": "Active",
         "SK_DPD": 0,
         "SK_DPD_DEF": 0,
         "_deepnote_index_column": 57
        },
        {
         "SK_ID_PREV": 1206782,
         "SK_ID_CURR": 380743,
         "MONTHS_BALANCE": -38,
         "CNT_INSTALMENT": 12,
         "CNT_INSTALMENT_FUTURE": 12,
         "NAME_CONTRACT_STATUS": "Active",
         "SK_DPD": 0,
         "SK_DPD_DEF": 0,
         "_deepnote_index_column": 58
        },
        {
         "SK_ID_PREV": 1928156,
         "SK_ID_CURR": 212022,
         "MONTHS_BALANCE": -33,
         "CNT_INSTALMENT": 24,
         "CNT_INSTALMENT_FUTURE": 19,
         "NAME_CONTRACT_STATUS": "Active",
         "SK_DPD": 0,
         "SK_DPD_DEF": 0,
         "_deepnote_index_column": 59
        },
        {
         "SK_ID_PREV": 1681892,
         "SK_ID_CURR": 208441,
         "MONTHS_BALANCE": -34,
         "CNT_INSTALMENT": 48,
         "CNT_INSTALMENT_FUTURE": 1,
         "NAME_CONTRACT_STATUS": "Active",
         "SK_DPD": 0,
         "SK_DPD_DEF": 0,
         "_deepnote_index_column": 60
        },
        {
         "SK_ID_PREV": 1395250,
         "SK_ID_CURR": 439255,
         "MONTHS_BALANCE": -41,
         "CNT_INSTALMENT": 42,
         "CNT_INSTALMENT_FUTURE": 40,
         "NAME_CONTRACT_STATUS": "Active",
         "SK_DPD": 0,
         "SK_DPD_DEF": 0,
         "_deepnote_index_column": 61
        }
       ],
       "rows_bottom": [
        {
         "SK_ID_PREV": 2305826,
         "SK_ID_CURR": 356195,
         "MONTHS_BALANCE": -17,
         "CNT_INSTALMENT": 12,
         "CNT_INSTALMENT_FUTURE": 0,
         "NAME_CONTRACT_STATUS": "Active",
         "SK_DPD": 835,
         "SK_DPD_DEF": 0,
         "_deepnote_index_column": 10001295
        },
        {
         "SK_ID_PREV": 1074985,
         "SK_ID_CURR": 433445,
         "MONTHS_BALANCE": -21,
         "CNT_INSTALMENT": 12,
         "CNT_INSTALMENT_FUTURE": 0,
         "NAME_CONTRACT_STATUS": "Active",
         "SK_DPD": 0,
         "SK_DPD_DEF": 0,
         "_deepnote_index_column": 10001296
        },
        {
         "SK_ID_PREV": 1214793,
         "SK_ID_CURR": 292180,
         "MONTHS_BALANCE": -20,
         "CNT_INSTALMENT": 12,
         "CNT_INSTALMENT_FUTURE": 0,
         "NAME_CONTRACT_STATUS": "Active",
         "SK_DPD": 881,
         "SK_DPD_DEF": 0,
         "_deepnote_index_column": 10001297
        },
        {
         "SK_ID_PREV": 1086035,
         "SK_ID_CURR": 102784,
         "MONTHS_BALANCE": -25,
         "CNT_INSTALMENT": 24,
         "CNT_INSTALMENT_FUTURE": 0,
         "NAME_CONTRACT_STATUS": "Active",
         "SK_DPD": 685,
         "SK_DPD_DEF": 0,
         "_deepnote_index_column": 10001298
        },
        {
         "SK_ID_PREV": 1641388,
         "SK_ID_CURR": 165586,
         "MONTHS_BALANCE": -18,
         "CNT_INSTALMENT": 10,
         "CNT_INSTALMENT_FUTURE": 0,
         "NAME_CONTRACT_STATUS": "Active",
         "SK_DPD": 1094,
         "SK_DPD_DEF": 0,
         "_deepnote_index_column": 10001299
        },
        {
         "SK_ID_PREV": 1816071,
         "SK_ID_CURR": 383432,
         "MONTHS_BALANCE": -22,
         "CNT_INSTALMENT": 6,
         "CNT_INSTALMENT_FUTURE": 0,
         "NAME_CONTRACT_STATUS": "Signed",
         "SK_DPD": 0,
         "SK_DPD_DEF": 0,
         "_deepnote_index_column": 10001300
        },
        {
         "SK_ID_PREV": 2275842,
         "SK_ID_CURR": 293579,
         "MONTHS_BALANCE": -19,
         "CNT_INSTALMENT": 6,
         "CNT_INSTALMENT_FUTURE": 0,
         "NAME_CONTRACT_STATUS": "Signed",
         "SK_DPD": 0,
         "SK_DPD_DEF": 0,
         "_deepnote_index_column": 10001301
        },
        {
         "SK_ID_PREV": 1413755,
         "SK_ID_CURR": 233660,
         "MONTHS_BALANCE": -18,
         "CNT_INSTALMENT": 24,
         "CNT_INSTALMENT_FUTURE": 0,
         "NAME_CONTRACT_STATUS": "Signed",
         "SK_DPD": 0,
         "SK_DPD_DEF": 0,
         "_deepnote_index_column": 10001302
        },
        {
         "SK_ID_PREV": 1773550,
         "SK_ID_CURR": 412155,
         "MONTHS_BALANCE": -17,
         "CNT_INSTALMENT": 6,
         "CNT_INSTALMENT_FUTURE": 0,
         "NAME_CONTRACT_STATUS": "Signed",
         "SK_DPD": 0,
         "SK_DPD_DEF": 0,
         "_deepnote_index_column": 10001303
        },
        {
         "SK_ID_PREV": 1013514,
         "SK_ID_CURR": 305218,
         "MONTHS_BALANCE": -26,
         "CNT_INSTALMENT": 16,
         "CNT_INSTALMENT_FUTURE": 0,
         "NAME_CONTRACT_STATUS": "Signed",
         "SK_DPD": 0,
         "SK_DPD_DEF": 0,
         "_deepnote_index_column": 10001304
        },
        {
         "SK_ID_PREV": 1609165,
         "SK_ID_CURR": 370184,
         "MONTHS_BALANCE": -20,
         "CNT_INSTALMENT": 15,
         "CNT_INSTALMENT_FUTURE": 0,
         "NAME_CONTRACT_STATUS": "Signed",
         "SK_DPD": 0,
         "SK_DPD_DEF": 0,
         "_deepnote_index_column": 10001305
        },
        {
         "SK_ID_PREV": 2210119,
         "SK_ID_CURR": 381218,
         "MONTHS_BALANCE": -21,
         "CNT_INSTALMENT": 12,
         "CNT_INSTALMENT_FUTURE": 0,
         "NAME_CONTRACT_STATUS": "Active",
         "SK_DPD": 1047,
         "SK_DPD_DEF": 0,
         "_deepnote_index_column": 10001306
        },
        {
         "SK_ID_PREV": 1731058,
         "SK_ID_CURR": 165525,
         "MONTHS_BALANCE": -19,
         "CNT_INSTALMENT": 6,
         "CNT_INSTALMENT_FUTURE": 0,
         "NAME_CONTRACT_STATUS": "Completed",
         "SK_DPD": 0,
         "SK_DPD_DEF": 0,
         "_deepnote_index_column": 10001307
        },
        {
         "SK_ID_PREV": 1900633,
         "SK_ID_CURR": 301125,
         "MONTHS_BALANCE": -26,
         "CNT_INSTALMENT": 12,
         "CNT_INSTALMENT_FUTURE": 0,
         "NAME_CONTRACT_STATUS": "Active",
         "SK_DPD": 0,
         "SK_DPD_DEF": 0,
         "_deepnote_index_column": 10001308
        },
        {
         "SK_ID_PREV": 1517022,
         "SK_ID_CURR": 146669,
         "MONTHS_BALANCE": -24,
         "CNT_INSTALMENT": 6,
         "CNT_INSTALMENT_FUTURE": 0,
         "NAME_CONTRACT_STATUS": "Active",
         "SK_DPD": 0,
         "SK_DPD_DEF": 0,
         "_deepnote_index_column": 10001309
        },
        {
         "SK_ID_PREV": 1605274,
         "SK_ID_CURR": 100987,
         "MONTHS_BALANCE": -27,
         "CNT_INSTALMENT": 6,
         "CNT_INSTALMENT_FUTURE": 0,
         "NAME_CONTRACT_STATUS": "Active",
         "SK_DPD": 0,
         "SK_DPD_DEF": 0,
         "_deepnote_index_column": 10001310
        },
        {
         "SK_ID_PREV": 2080968,
         "SK_ID_CURR": 218438,
         "MONTHS_BALANCE": -22,
         "CNT_INSTALMENT": 12,
         "CNT_INSTALMENT_FUTURE": 0,
         "NAME_CONTRACT_STATUS": "Active",
         "SK_DPD": 680,
         "SK_DPD_DEF": 0,
         "_deepnote_index_column": 10001311
        },
        {
         "SK_ID_PREV": 2356545,
         "SK_ID_CURR": 124833,
         "MONTHS_BALANCE": -19,
         "CNT_INSTALMENT": 6,
         "CNT_INSTALMENT_FUTURE": 0,
         "NAME_CONTRACT_STATUS": "Active",
         "SK_DPD": 886,
         "SK_DPD_DEF": 0,
         "_deepnote_index_column": 10001312
        },
        {
         "SK_ID_PREV": 1976894,
         "SK_ID_CURR": 147364,
         "MONTHS_BALANCE": -28,
         "CNT_INSTALMENT": 6,
         "CNT_INSTALMENT_FUTURE": 0,
         "NAME_CONTRACT_STATUS": "Active",
         "SK_DPD": 887,
         "SK_DPD_DEF": 0,
         "_deepnote_index_column": 10001313
        },
        {
         "SK_ID_PREV": 1301296,
         "SK_ID_CURR": 317062,
         "MONTHS_BALANCE": -19,
         "CNT_INSTALMENT": 10,
         "CNT_INSTALMENT_FUTURE": 0,
         "NAME_CONTRACT_STATUS": "Active",
         "SK_DPD": 740,
         "SK_DPD_DEF": 0,
         "_deepnote_index_column": 10001314
        },
        {
         "SK_ID_PREV": 2639809,
         "SK_ID_CURR": 288279,
         "MONTHS_BALANCE": -24,
         "CNT_INSTALMENT": 6,
         "CNT_INSTALMENT_FUTURE": 0,
         "NAME_CONTRACT_STATUS": "Active",
         "SK_DPD": 953,
         "SK_DPD_DEF": 0,
         "_deepnote_index_column": 10001315
        },
        {
         "SK_ID_PREV": 2448283,
         "SK_ID_CURR": 226558,
         "MONTHS_BALANCE": -19,
         "CNT_INSTALMENT": 6,
         "CNT_INSTALMENT_FUTURE": 0,
         "NAME_CONTRACT_STATUS": "Completed",
         "SK_DPD": 0,
         "SK_DPD_DEF": 0,
         "_deepnote_index_column": 10001316
        },
        {
         "SK_ID_PREV": 2340692,
         "SK_ID_CURR": 104125,
         "MONTHS_BALANCE": -23,
         "CNT_INSTALMENT": 6,
         "CNT_INSTALMENT_FUTURE": 0,
         "NAME_CONTRACT_STATUS": "Active",
         "SK_DPD": 972,
         "SK_DPD_DEF": 0,
         "_deepnote_index_column": 10001317
        },
        {
         "SK_ID_PREV": 2234984,
         "SK_ID_CURR": 191559,
         "MONTHS_BALANCE": -21,
         "CNT_INSTALMENT": 6,
         "CNT_INSTALMENT_FUTURE": 0,
         "NAME_CONTRACT_STATUS": "Active",
         "SK_DPD": 825,
         "SK_DPD_DEF": 0,
         "_deepnote_index_column": 10001318
        },
        {
         "SK_ID_PREV": 1082516,
         "SK_ID_CURR": 450255,
         "MONTHS_BALANCE": -21,
         "CNT_INSTALMENT": 12,
         "CNT_INSTALMENT_FUTURE": 0,
         "NAME_CONTRACT_STATUS": "Active",
         "SK_DPD": 642,
         "SK_DPD_DEF": 0,
         "_deepnote_index_column": 10001319
        },
        {
         "SK_ID_PREV": 1283126,
         "SK_ID_CURR": 315695,
         "MONTHS_BALANCE": -20,
         "CNT_INSTALMENT": 10,
         "CNT_INSTALMENT_FUTURE": 0,
         "NAME_CONTRACT_STATUS": "Active",
         "SK_DPD": 637,
         "SK_DPD_DEF": 0,
         "_deepnote_index_column": 10001320
        },
        {
         "SK_ID_PREV": 2291899,
         "SK_ID_CURR": 245255,
         "MONTHS_BALANCE": -18,
         "CNT_INSTALMENT": 12,
         "CNT_INSTALMENT_FUTURE": 0,
         "NAME_CONTRACT_STATUS": "Active",
         "SK_DPD": 642,
         "SK_DPD_DEF": 0,
         "_deepnote_index_column": 10001321
        },
        {
         "SK_ID_PREV": 2070694,
         "SK_ID_CURR": 377136,
         "MONTHS_BALANCE": -21,
         "CNT_INSTALMENT": 6,
         "CNT_INSTALMENT_FUTURE": 0,
         "NAME_CONTRACT_STATUS": "Active",
         "SK_DPD": 0,
         "SK_DPD_DEF": 0,
         "_deepnote_index_column": 10001322
        },
        {
         "SK_ID_PREV": 1798328,
         "SK_ID_CURR": 138871,
         "MONTHS_BALANCE": -27,
         "CNT_INSTALMENT": 6,
         "CNT_INSTALMENT_FUTURE": 0,
         "NAME_CONTRACT_STATUS": "Active",
         "SK_DPD": 947,
         "SK_DPD_DEF": 0,
         "_deepnote_index_column": 10001323
        },
        {
         "SK_ID_PREV": 1522999,
         "SK_ID_CURR": 385297,
         "MONTHS_BALANCE": -20,
         "CNT_INSTALMENT": 12,
         "CNT_INSTALMENT_FUTURE": 0,
         "NAME_CONTRACT_STATUS": "Active",
         "SK_DPD": 0,
         "SK_DPD_DEF": 0,
         "_deepnote_index_column": 10001324
        },
        {
         "SK_ID_PREV": 1369464,
         "SK_ID_CURR": 415697,
         "MONTHS_BALANCE": -25,
         "CNT_INSTALMENT": 24,
         "CNT_INSTALMENT_FUTURE": 0,
         "NAME_CONTRACT_STATUS": "Active",
         "SK_DPD": 320,
         "SK_DPD_DEF": 0,
         "_deepnote_index_column": 10001325
        },
        {
         "SK_ID_PREV": 1405736,
         "SK_ID_CURR": 180980,
         "MONTHS_BALANCE": -22,
         "CNT_INSTALMENT": 6,
         "CNT_INSTALMENT_FUTURE": 0,
         "NAME_CONTRACT_STATUS": "Active",
         "SK_DPD": 856,
         "SK_DPD_DEF": 0,
         "_deepnote_index_column": 10001326
        },
        {
         "SK_ID_PREV": 2762564,
         "SK_ID_CURR": 146490,
         "MONTHS_BALANCE": -20,
         "CNT_INSTALMENT": 12,
         "CNT_INSTALMENT_FUTURE": 0,
         "NAME_CONTRACT_STATUS": "Active",
         "SK_DPD": 629,
         "SK_DPD_DEF": 0,
         "_deepnote_index_column": 10001327
        },
        {
         "SK_ID_PREV": 2256531,
         "SK_ID_CURR": 422685,
         "MONTHS_BALANCE": -20,
         "CNT_INSTALMENT": 6,
         "CNT_INSTALMENT_FUTURE": 0,
         "NAME_CONTRACT_STATUS": "Active",
         "SK_DPD": 0,
         "SK_DPD_DEF": 0,
         "_deepnote_index_column": 10001328
        },
        {
         "SK_ID_PREV": 1540335,
         "SK_ID_CURR": 104779,
         "MONTHS_BALANCE": -27,
         "CNT_INSTALMENT": 6,
         "CNT_INSTALMENT_FUTURE": 0,
         "NAME_CONTRACT_STATUS": "Active",
         "SK_DPD": 0,
         "SK_DPD_DEF": 0,
         "_deepnote_index_column": 10001329
        },
        {
         "SK_ID_PREV": 1717234,
         "SK_ID_CURR": 141565,
         "MONTHS_BALANCE": -18,
         "CNT_INSTALMENT": 12,
         "CNT_INSTALMENT_FUTURE": 0,
         "NAME_CONTRACT_STATUS": "Active",
         "SK_DPD": 630,
         "SK_DPD_DEF": 0,
         "_deepnote_index_column": 10001330
        },
        {
         "SK_ID_PREV": 2476257,
         "SK_ID_CURR": 210494,
         "MONTHS_BALANCE": -18,
         "CNT_INSTALMENT": 6,
         "CNT_INSTALMENT_FUTURE": 0,
         "NAME_CONTRACT_STATUS": "Active",
         "SK_DPD": 0,
         "SK_DPD_DEF": 0,
         "_deepnote_index_column": 10001331
        },
        {
         "SK_ID_PREV": 2700641,
         "SK_ID_CURR": 448867,
         "MONTHS_BALANCE": -18,
         "CNT_INSTALMENT": 6,
         "CNT_INSTALMENT_FUTURE": 0,
         "NAME_CONTRACT_STATUS": "Active",
         "SK_DPD": 871,
         "SK_DPD_DEF": 0,
         "_deepnote_index_column": 10001332
        },
        {
         "SK_ID_PREV": 2715817,
         "SK_ID_CURR": 417692,
         "MONTHS_BALANCE": -18,
         "CNT_INSTALMENT": 6,
         "CNT_INSTALMENT_FUTURE": 0,
         "NAME_CONTRACT_STATUS": "Active",
         "SK_DPD": 948,
         "SK_DPD_DEF": 0,
         "_deepnote_index_column": 10001333
        },
        {
         "SK_ID_PREV": 2149359,
         "SK_ID_CURR": 305835,
         "MONTHS_BALANCE": -19,
         "CNT_INSTALMENT": 12,
         "CNT_INSTALMENT_FUTURE": 0,
         "NAME_CONTRACT_STATUS": "Active",
         "SK_DPD": 903,
         "SK_DPD_DEF": 0,
         "_deepnote_index_column": 10001334
        },
        {
         "SK_ID_PREV": 1074985,
         "SK_ID_CURR": 433445,
         "MONTHS_BALANCE": -22,
         "CNT_INSTALMENT": 12,
         "CNT_INSTALMENT_FUTURE": 0,
         "NAME_CONTRACT_STATUS": "Active",
         "SK_DPD": 0,
         "SK_DPD_DEF": 0,
         "_deepnote_index_column": 10001335
        },
        {
         "SK_ID_PREV": 1214793,
         "SK_ID_CURR": 292180,
         "MONTHS_BALANCE": -21,
         "CNT_INSTALMENT": 12,
         "CNT_INSTALMENT_FUTURE": 0,
         "NAME_CONTRACT_STATUS": "Active",
         "SK_DPD": 850,
         "SK_DPD_DEF": 0,
         "_deepnote_index_column": 10001336
        },
        {
         "SK_ID_PREV": 2305826,
         "SK_ID_CURR": 356195,
         "MONTHS_BALANCE": -18,
         "CNT_INSTALMENT": 12,
         "CNT_INSTALMENT_FUTURE": 0,
         "NAME_CONTRACT_STATUS": "Active",
         "SK_DPD": 804,
         "SK_DPD_DEF": 0,
         "_deepnote_index_column": 10001337
        },
        {
         "SK_ID_PREV": 1013514,
         "SK_ID_CURR": 305218,
         "MONTHS_BALANCE": -27,
         "CNT_INSTALMENT": 16,
         "CNT_INSTALMENT_FUTURE": 0,
         "NAME_CONTRACT_STATUS": "Signed",
         "SK_DPD": 0,
         "SK_DPD_DEF": 0,
         "_deepnote_index_column": 10001338
        },
        {
         "SK_ID_PREV": 1609165,
         "SK_ID_CURR": 370184,
         "MONTHS_BALANCE": -21,
         "CNT_INSTALMENT": 15,
         "CNT_INSTALMENT_FUTURE": 0,
         "NAME_CONTRACT_STATUS": "Signed",
         "SK_DPD": 0,
         "SK_DPD_DEF": 0,
         "_deepnote_index_column": 10001339
        },
        {
         "SK_ID_PREV": 1413755,
         "SK_ID_CURR": 233660,
         "MONTHS_BALANCE": -19,
         "CNT_INSTALMENT": 24,
         "CNT_INSTALMENT_FUTURE": 0,
         "NAME_CONTRACT_STATUS": "Signed",
         "SK_DPD": 0,
         "SK_DPD_DEF": 0,
         "_deepnote_index_column": 10001340
        },
        {
         "SK_ID_PREV": 2275842,
         "SK_ID_CURR": 293579,
         "MONTHS_BALANCE": -20,
         "CNT_INSTALMENT": 6,
         "CNT_INSTALMENT_FUTURE": 0,
         "NAME_CONTRACT_STATUS": "Signed",
         "SK_DPD": 0,
         "SK_DPD_DEF": 0,
         "_deepnote_index_column": 10001341
        },
        {
         "SK_ID_PREV": 1641388,
         "SK_ID_CURR": 165586,
         "MONTHS_BALANCE": -19,
         "CNT_INSTALMENT": 10,
         "CNT_INSTALMENT_FUTURE": 0,
         "NAME_CONTRACT_STATUS": "Active",
         "SK_DPD": 1063,
         "SK_DPD_DEF": 0,
         "_deepnote_index_column": 10001342
        },
        {
         "SK_ID_PREV": 1816071,
         "SK_ID_CURR": 383432,
         "MONTHS_BALANCE": -23,
         "CNT_INSTALMENT": 6,
         "CNT_INSTALMENT_FUTURE": 0,
         "NAME_CONTRACT_STATUS": "Signed",
         "SK_DPD": 0,
         "SK_DPD_DEF": 0,
         "_deepnote_index_column": 10001343
        },
        {
         "SK_ID_PREV": 1086035,
         "SK_ID_CURR": 102784,
         "MONTHS_BALANCE": -26,
         "CNT_INSTALMENT": 24,
         "CNT_INSTALMENT_FUTURE": 0,
         "NAME_CONTRACT_STATUS": "Active",
         "SK_DPD": 654,
         "SK_DPD_DEF": 0,
         "_deepnote_index_column": 10001344
        },
        {
         "SK_ID_PREV": 1773550,
         "SK_ID_CURR": 412155,
         "MONTHS_BALANCE": -18,
         "CNT_INSTALMENT": 6,
         "CNT_INSTALMENT_FUTURE": 0,
         "NAME_CONTRACT_STATUS": "Signed",
         "SK_DPD": 0,
         "SK_DPD_DEF": 0,
         "_deepnote_index_column": 10001345
        },
        {
         "SK_ID_PREV": 2210119,
         "SK_ID_CURR": 381218,
         "MONTHS_BALANCE": -22,
         "CNT_INSTALMENT": 12,
         "CNT_INSTALMENT_FUTURE": 0,
         "NAME_CONTRACT_STATUS": "Active",
         "SK_DPD": 1016,
         "SK_DPD_DEF": 0,
         "_deepnote_index_column": 10001346
        },
        {
         "SK_ID_PREV": 1522999,
         "SK_ID_CURR": 385297,
         "MONTHS_BALANCE": -21,
         "CNT_INSTALMENT": 12,
         "CNT_INSTALMENT_FUTURE": 0,
         "NAME_CONTRACT_STATUS": "Active",
         "SK_DPD": 0,
         "SK_DPD_DEF": 0,
         "_deepnote_index_column": 10001347
        },
        {
         "SK_ID_PREV": 2234984,
         "SK_ID_CURR": 191559,
         "MONTHS_BALANCE": -22,
         "CNT_INSTALMENT": 6,
         "CNT_INSTALMENT_FUTURE": 0,
         "NAME_CONTRACT_STATUS": "Active",
         "SK_DPD": 797,
         "SK_DPD_DEF": 0,
         "_deepnote_index_column": 10001348
        },
        {
         "SK_ID_PREV": 2340692,
         "SK_ID_CURR": 104125,
         "MONTHS_BALANCE": -24,
         "CNT_INSTALMENT": 6,
         "CNT_INSTALMENT_FUTURE": 0,
         "NAME_CONTRACT_STATUS": "Active",
         "SK_DPD": 944,
         "SK_DPD_DEF": 0,
         "_deepnote_index_column": 10001349
        },
        {
         "SK_ID_PREV": 2593362,
         "SK_ID_CURR": 198894,
         "MONTHS_BALANCE": -20,
         "CNT_INSTALMENT": 12,
         "CNT_INSTALMENT_FUTURE": 0,
         "NAME_CONTRACT_STATUS": "Completed",
         "SK_DPD": 0,
         "SK_DPD_DEF": 0,
         "_deepnote_index_column": 10001350
        },
        {
         "SK_ID_PREV": 2639809,
         "SK_ID_CURR": 288279,
         "MONTHS_BALANCE": -25,
         "CNT_INSTALMENT": 6,
         "CNT_INSTALMENT_FUTURE": 0,
         "NAME_CONTRACT_STATUS": "Active",
         "SK_DPD": 925,
         "SK_DPD_DEF": 0,
         "_deepnote_index_column": 10001351
        },
        {
         "SK_ID_PREV": 2700641,
         "SK_ID_CURR": 448867,
         "MONTHS_BALANCE": -19,
         "CNT_INSTALMENT": 6,
         "CNT_INSTALMENT_FUTURE": 0,
         "NAME_CONTRACT_STATUS": "Active",
         "SK_DPD": 843,
         "SK_DPD_DEF": 0,
         "_deepnote_index_column": 10001352
        },
        {
         "SK_ID_PREV": 2448283,
         "SK_ID_CURR": 226558,
         "MONTHS_BALANCE": -20,
         "CNT_INSTALMENT": 6,
         "CNT_INSTALMENT_FUTURE": 0,
         "NAME_CONTRACT_STATUS": "Active",
         "SK_DPD": 843,
         "SK_DPD_DEF": 0,
         "_deepnote_index_column": 10001353
        },
        {
         "SK_ID_PREV": 1717234,
         "SK_ID_CURR": 141565,
         "MONTHS_BALANCE": -19,
         "CNT_INSTALMENT": 12,
         "CNT_INSTALMENT_FUTURE": 0,
         "NAME_CONTRACT_STATUS": "Active",
         "SK_DPD": 602,
         "SK_DPD_DEF": 0,
         "_deepnote_index_column": 10001354
        },
        {
         "SK_ID_PREV": 1283126,
         "SK_ID_CURR": 315695,
         "MONTHS_BALANCE": -21,
         "CNT_INSTALMENT": 10,
         "CNT_INSTALMENT_FUTURE": 0,
         "NAME_CONTRACT_STATUS": "Active",
         "SK_DPD": 609,
         "SK_DPD_DEF": 0,
         "_deepnote_index_column": 10001355
        },
        {
         "SK_ID_PREV": 1082516,
         "SK_ID_CURR": 450255,
         "MONTHS_BALANCE": -22,
         "CNT_INSTALMENT": 12,
         "CNT_INSTALMENT_FUTURE": 0,
         "NAME_CONTRACT_STATUS": "Active",
         "SK_DPD": 614,
         "SK_DPD_DEF": 0,
         "_deepnote_index_column": 10001356
        },
        {
         "SK_ID_PREV": 1259607,
         "SK_ID_CURR": 174278,
         "MONTHS_BALANCE": -52,
         "CNT_INSTALMENT": 16,
         "CNT_INSTALMENT_FUTURE": 0,
         "NAME_CONTRACT_STATUS": "Completed",
         "SK_DPD": 0,
         "SK_DPD_DEF": 0,
         "_deepnote_index_column": 10001357
        }
       ]
      },
      "text/plain": "          SK_ID_PREV  SK_ID_CURR  MONTHS_BALANCE  CNT_INSTALMENT  \\\n0            1803195      182943             -31            48.0   \n1            1715348      367990             -33            36.0   \n2            1784872      397406             -32            12.0   \n3            1903291      269225             -35            48.0   \n4            2341044      334279             -35            36.0   \n...              ...         ...             ...             ...   \n10001353     2448283      226558             -20             6.0   \n10001354     1717234      141565             -19            12.0   \n10001355     1283126      315695             -21            10.0   \n10001356     1082516      450255             -22            12.0   \n10001357     1259607      174278             -52            16.0   \n\n          CNT_INSTALMENT_FUTURE NAME_CONTRACT_STATUS  SK_DPD  SK_DPD_DEF  \n0                          45.0               Active       0           0  \n1                          35.0               Active       0           0  \n2                           9.0               Active       0           0  \n3                          42.0               Active       0           0  \n4                          35.0               Active       0           0  \n...                         ...                  ...     ...         ...  \n10001353                    0.0               Active     843           0  \n10001354                    0.0               Active     602           0  \n10001355                    0.0               Active     609           0  \n10001356                    0.0               Active     614           0  \n10001357                    0.0            Completed       0           0  \n\n[10001358 rows x 8 columns]",
      "text/html": "<div>\n<style scoped>\n    .dataframe tbody tr th:only-of-type {\n        vertical-align: middle;\n    }\n\n    .dataframe tbody tr th {\n        vertical-align: top;\n    }\n\n    .dataframe thead th {\n        text-align: right;\n    }\n</style>\n<table border=\"1\" class=\"dataframe\">\n  <thead>\n    <tr style=\"text-align: right;\">\n      <th></th>\n      <th>SK_ID_PREV</th>\n      <th>SK_ID_CURR</th>\n      <th>MONTHS_BALANCE</th>\n      <th>CNT_INSTALMENT</th>\n      <th>CNT_INSTALMENT_FUTURE</th>\n      <th>NAME_CONTRACT_STATUS</th>\n      <th>SK_DPD</th>\n      <th>SK_DPD_DEF</th>\n    </tr>\n  </thead>\n  <tbody>\n    <tr>\n      <th>0</th>\n      <td>1803195</td>\n      <td>182943</td>\n      <td>-31</td>\n      <td>48.0</td>\n      <td>45.0</td>\n      <td>Active</td>\n      <td>0</td>\n      <td>0</td>\n    </tr>\n    <tr>\n      <th>1</th>\n      <td>1715348</td>\n      <td>367990</td>\n      <td>-33</td>\n      <td>36.0</td>\n      <td>35.0</td>\n      <td>Active</td>\n      <td>0</td>\n      <td>0</td>\n    </tr>\n    <tr>\n      <th>2</th>\n      <td>1784872</td>\n      <td>397406</td>\n      <td>-32</td>\n      <td>12.0</td>\n      <td>9.0</td>\n      <td>Active</td>\n      <td>0</td>\n      <td>0</td>\n    </tr>\n    <tr>\n      <th>3</th>\n      <td>1903291</td>\n      <td>269225</td>\n      <td>-35</td>\n      <td>48.0</td>\n      <td>42.0</td>\n      <td>Active</td>\n      <td>0</td>\n      <td>0</td>\n    </tr>\n    <tr>\n      <th>4</th>\n      <td>2341044</td>\n      <td>334279</td>\n      <td>-35</td>\n      <td>36.0</td>\n      <td>35.0</td>\n      <td>Active</td>\n      <td>0</td>\n      <td>0</td>\n    </tr>\n    <tr>\n      <th>...</th>\n      <td>...</td>\n      <td>...</td>\n      <td>...</td>\n      <td>...</td>\n      <td>...</td>\n      <td>...</td>\n      <td>...</td>\n      <td>...</td>\n    </tr>\n    <tr>\n      <th>10001353</th>\n      <td>2448283</td>\n      <td>226558</td>\n      <td>-20</td>\n      <td>6.0</td>\n      <td>0.0</td>\n      <td>Active</td>\n      <td>843</td>\n      <td>0</td>\n    </tr>\n    <tr>\n      <th>10001354</th>\n      <td>1717234</td>\n      <td>141565</td>\n      <td>-19</td>\n      <td>12.0</td>\n      <td>0.0</td>\n      <td>Active</td>\n      <td>602</td>\n      <td>0</td>\n    </tr>\n    <tr>\n      <th>10001355</th>\n      <td>1283126</td>\n      <td>315695</td>\n      <td>-21</td>\n      <td>10.0</td>\n      <td>0.0</td>\n      <td>Active</td>\n      <td>609</td>\n      <td>0</td>\n    </tr>\n    <tr>\n      <th>10001356</th>\n      <td>1082516</td>\n      <td>450255</td>\n      <td>-22</td>\n      <td>12.0</td>\n      <td>0.0</td>\n      <td>Active</td>\n      <td>614</td>\n      <td>0</td>\n    </tr>\n    <tr>\n      <th>10001357</th>\n      <td>1259607</td>\n      <td>174278</td>\n      <td>-52</td>\n      <td>16.0</td>\n      <td>0.0</td>\n      <td>Completed</td>\n      <td>0</td>\n      <td>0</td>\n    </tr>\n  </tbody>\n</table>\n<p>10001358 rows × 8 columns</p>\n</div>"
     },
     "metadata": {}
    }
   ],
   "execution_count": null
  },
  {
   "cell_type": "markdown",
   "source": "# Notes\n- Can use dataset to determine how many days late the payments were, but should also be able to do the from the data containing the payments since it has the \"date\" the installment was supposed to be made and the \"date\" the payments were actually made\n    - trying to see how they relate to each other\n- Can definitely check to see if they have an open loan or finished paying the loan.",
   "metadata": {
    "tags": [],
    "cell_id": "00004-bb7729c1-215c-428c-ae0a-eb61bdb488d5",
    "deepnote_cell_type": "markdown"
   }
  },
  {
   "cell_type": "code",
   "metadata": {
    "tags": [],
    "cell_id": "00005-87fb8de1-f360-4a56-a6e4-3a1aa0e6208c",
    "deepnote_to_be_reexecuted": false,
    "source_hash": "f72e6427",
    "execution_start": 1632766882155,
    "execution_millis": 143,
    "deepnote_cell_type": "code"
   },
   "source": "ID = 2448283\nprev_apps[prev_apps.SK_ID_PREV == ID]",
   "outputs": [
    {
     "output_type": "execute_result",
     "execution_count": 4,
     "data": {
      "application/vnd.deepnote.dataframe.v2+json": {
       "row_count": 1,
       "column_count": 37,
       "columns": [
        {
         "name": "SK_ID_PREV",
         "dtype": "int64",
         "stats": {
          "unique_count": 1,
          "nan_count": 0,
          "min": "2448283",
          "max": "2448283",
          "histogram": [
           {
            "bin_start": 2448282.5,
            "bin_end": 2448282.6,
            "count": 0
           },
           {
            "bin_start": 2448282.6,
            "bin_end": 2448282.7,
            "count": 0
           },
           {
            "bin_start": 2448282.7,
            "bin_end": 2448282.8,
            "count": 0
           },
           {
            "bin_start": 2448282.8,
            "bin_end": 2448282.9,
            "count": 0
           },
           {
            "bin_start": 2448282.9,
            "bin_end": 2448283,
            "count": 0
           },
           {
            "bin_start": 2448283,
            "bin_end": 2448283.1,
            "count": 1
           },
           {
            "bin_start": 2448283.1,
            "bin_end": 2448283.2,
            "count": 0
           },
           {
            "bin_start": 2448283.2,
            "bin_end": 2448283.3,
            "count": 0
           },
           {
            "bin_start": 2448283.3,
            "bin_end": 2448283.4,
            "count": 0
           },
           {
            "bin_start": 2448283.4,
            "bin_end": 2448283.5,
            "count": 0
           }
          ]
         }
        },
        {
         "name": "SK_ID_CURR",
         "dtype": "int64",
         "stats": {
          "unique_count": 1,
          "nan_count": 0,
          "min": "226558",
          "max": "226558",
          "histogram": [
           {
            "bin_start": 226557.5,
            "bin_end": 226557.6,
            "count": 0
           },
           {
            "bin_start": 226557.6,
            "bin_end": 226557.7,
            "count": 0
           },
           {
            "bin_start": 226557.7,
            "bin_end": 226557.8,
            "count": 0
           },
           {
            "bin_start": 226557.8,
            "bin_end": 226557.9,
            "count": 0
           },
           {
            "bin_start": 226557.9,
            "bin_end": 226558,
            "count": 0
           },
           {
            "bin_start": 226558,
            "bin_end": 226558.1,
            "count": 1
           },
           {
            "bin_start": 226558.1,
            "bin_end": 226558.2,
            "count": 0
           },
           {
            "bin_start": 226558.2,
            "bin_end": 226558.3,
            "count": 0
           },
           {
            "bin_start": 226558.3,
            "bin_end": 226558.4,
            "count": 0
           },
           {
            "bin_start": 226558.4,
            "bin_end": 226558.5,
            "count": 0
           }
          ]
         }
        },
        {
         "name": "NAME_CONTRACT_TYPE",
         "dtype": "object",
         "stats": {
          "unique_count": 1,
          "nan_count": 0,
          "categories": [
           {
            "name": "Consumer loans",
            "count": 1
           }
          ]
         }
        },
        {
         "name": "AMT_ANNUITY",
         "dtype": "float64",
         "stats": {
          "unique_count": 1,
          "nan_count": 0,
          "min": "3880.305",
          "max": "3880.305",
          "histogram": [
           {
            "bin_start": 3879.805,
            "bin_end": 3879.9049999999997,
            "count": 0
           },
           {
            "bin_start": 3879.9049999999997,
            "bin_end": 3880.0049999999997,
            "count": 0
           },
           {
            "bin_start": 3880.0049999999997,
            "bin_end": 3880.105,
            "count": 0
           },
           {
            "bin_start": 3880.105,
            "bin_end": 3880.205,
            "count": 0
           },
           {
            "bin_start": 3880.205,
            "bin_end": 3880.305,
            "count": 0
           },
           {
            "bin_start": 3880.305,
            "bin_end": 3880.4049999999997,
            "count": 1
           },
           {
            "bin_start": 3880.4049999999997,
            "bin_end": 3880.5049999999997,
            "count": 0
           },
           {
            "bin_start": 3880.5049999999997,
            "bin_end": 3880.605,
            "count": 0
           },
           {
            "bin_start": 3880.605,
            "bin_end": 3880.705,
            "count": 0
           },
           {
            "bin_start": 3880.705,
            "bin_end": 3880.805,
            "count": 0
           }
          ]
         }
        },
        {
         "name": "AMT_APPLICATION",
         "dtype": "float64",
         "stats": {
          "unique_count": 1,
          "nan_count": 0,
          "min": "20385.0",
          "max": "20385.0",
          "histogram": [
           {
            "bin_start": 20384.5,
            "bin_end": 20384.6,
            "count": 0
           },
           {
            "bin_start": 20384.6,
            "bin_end": 20384.7,
            "count": 0
           },
           {
            "bin_start": 20384.7,
            "bin_end": 20384.8,
            "count": 0
           },
           {
            "bin_start": 20384.8,
            "bin_end": 20384.9,
            "count": 0
           },
           {
            "bin_start": 20384.9,
            "bin_end": 20385,
            "count": 0
           },
           {
            "bin_start": 20385,
            "bin_end": 20385.1,
            "count": 1
           },
           {
            "bin_start": 20385.1,
            "bin_end": 20385.2,
            "count": 0
           },
           {
            "bin_start": 20385.2,
            "bin_end": 20385.3,
            "count": 0
           },
           {
            "bin_start": 20385.3,
            "bin_end": 20385.4,
            "count": 0
           },
           {
            "bin_start": 20385.4,
            "bin_end": 20385.5,
            "count": 0
           }
          ]
         }
        },
        {
         "name": "AMT_CREDIT",
         "dtype": "float64",
         "stats": {
          "unique_count": 1,
          "nan_count": 0,
          "min": "19030.5",
          "max": "19030.5",
          "histogram": [
           {
            "bin_start": 19030,
            "bin_end": 19030.1,
            "count": 0
           },
           {
            "bin_start": 19030.1,
            "bin_end": 19030.2,
            "count": 0
           },
           {
            "bin_start": 19030.2,
            "bin_end": 19030.3,
            "count": 0
           },
           {
            "bin_start": 19030.3,
            "bin_end": 19030.4,
            "count": 0
           },
           {
            "bin_start": 19030.4,
            "bin_end": 19030.5,
            "count": 0
           },
           {
            "bin_start": 19030.5,
            "bin_end": 19030.6,
            "count": 1
           },
           {
            "bin_start": 19030.6,
            "bin_end": 19030.7,
            "count": 0
           },
           {
            "bin_start": 19030.7,
            "bin_end": 19030.8,
            "count": 0
           },
           {
            "bin_start": 19030.8,
            "bin_end": 19030.9,
            "count": 0
           },
           {
            "bin_start": 19030.9,
            "bin_end": 19031,
            "count": 0
           }
          ]
         }
        },
        {
         "name": "AMT_DOWN_PAYMENT",
         "dtype": "float64",
         "stats": {
          "unique_count": 1,
          "nan_count": 0,
          "min": "2250.0",
          "max": "2250.0",
          "histogram": [
           {
            "bin_start": 2249.5,
            "bin_end": 2249.6,
            "count": 0
           },
           {
            "bin_start": 2249.6,
            "bin_end": 2249.7,
            "count": 0
           },
           {
            "bin_start": 2249.7,
            "bin_end": 2249.8,
            "count": 0
           },
           {
            "bin_start": 2249.8,
            "bin_end": 2249.9,
            "count": 0
           },
           {
            "bin_start": 2249.9,
            "bin_end": 2250,
            "count": 0
           },
           {
            "bin_start": 2250,
            "bin_end": 2250.1,
            "count": 1
           },
           {
            "bin_start": 2250.1,
            "bin_end": 2250.2,
            "count": 0
           },
           {
            "bin_start": 2250.2,
            "bin_end": 2250.3,
            "count": 0
           },
           {
            "bin_start": 2250.3,
            "bin_end": 2250.4,
            "count": 0
           },
           {
            "bin_start": 2250.4,
            "bin_end": 2250.5,
            "count": 0
           }
          ]
         }
        },
        {
         "name": "AMT_GOODS_PRICE",
         "dtype": "float64",
         "stats": {
          "unique_count": 1,
          "nan_count": 0,
          "min": "20385.0",
          "max": "20385.0",
          "histogram": [
           {
            "bin_start": 20384.5,
            "bin_end": 20384.6,
            "count": 0
           },
           {
            "bin_start": 20384.6,
            "bin_end": 20384.7,
            "count": 0
           },
           {
            "bin_start": 20384.7,
            "bin_end": 20384.8,
            "count": 0
           },
           {
            "bin_start": 20384.8,
            "bin_end": 20384.9,
            "count": 0
           },
           {
            "bin_start": 20384.9,
            "bin_end": 20385,
            "count": 0
           },
           {
            "bin_start": 20385,
            "bin_end": 20385.1,
            "count": 1
           },
           {
            "bin_start": 20385.1,
            "bin_end": 20385.2,
            "count": 0
           },
           {
            "bin_start": 20385.2,
            "bin_end": 20385.3,
            "count": 0
           },
           {
            "bin_start": 20385.3,
            "bin_end": 20385.4,
            "count": 0
           },
           {
            "bin_start": 20385.4,
            "bin_end": 20385.5,
            "count": 0
           }
          ]
         }
        },
        {
         "name": "WEEKDAY_APPR_PROCESS_START",
         "dtype": "object",
         "stats": {
          "unique_count": 1,
          "nan_count": 0,
          "categories": [
           {
            "name": "SATURDAY",
            "count": 1
           }
          ]
         }
        },
        {
         "name": "HOUR_APPR_PROCESS_START",
         "dtype": "int64",
         "stats": {
          "unique_count": 1,
          "nan_count": 0,
          "min": "15",
          "max": "15",
          "histogram": [
           {
            "bin_start": 14.5,
            "bin_end": 14.6,
            "count": 0
           },
           {
            "bin_start": 14.6,
            "bin_end": 14.7,
            "count": 0
           },
           {
            "bin_start": 14.7,
            "bin_end": 14.8,
            "count": 0
           },
           {
            "bin_start": 14.8,
            "bin_end": 14.9,
            "count": 0
           },
           {
            "bin_start": 14.9,
            "bin_end": 15,
            "count": 0
           },
           {
            "bin_start": 15,
            "bin_end": 15.1,
            "count": 1
           },
           {
            "bin_start": 15.1,
            "bin_end": 15.2,
            "count": 0
           },
           {
            "bin_start": 15.2,
            "bin_end": 15.3,
            "count": 0
           },
           {
            "bin_start": 15.3,
            "bin_end": 15.4,
            "count": 0
           },
           {
            "bin_start": 15.4,
            "bin_end": 15.5,
            "count": 0
           }
          ]
         }
        },
        {
         "name": "FLAG_LAST_APPL_PER_CONTRACT",
         "dtype": "object",
         "stats": {
          "unique_count": 1,
          "nan_count": 0,
          "categories": [
           {
            "name": "Y",
            "count": 1
           }
          ]
         }
        },
        {
         "name": "NFLAG_LAST_APPL_IN_DAY",
         "dtype": "int64",
         "stats": {
          "unique_count": 1,
          "nan_count": 0,
          "min": "1",
          "max": "1",
          "histogram": [
           {
            "bin_start": 0.5,
            "bin_end": 0.6,
            "count": 0
           },
           {
            "bin_start": 0.6,
            "bin_end": 0.7,
            "count": 0
           },
           {
            "bin_start": 0.7,
            "bin_end": 0.8,
            "count": 0
           },
           {
            "bin_start": 0.8,
            "bin_end": 0.9,
            "count": 0
           },
           {
            "bin_start": 0.9,
            "bin_end": 1,
            "count": 0
           },
           {
            "bin_start": 1,
            "bin_end": 1.1,
            "count": 1
           },
           {
            "bin_start": 1.1,
            "bin_end": 1.2000000000000002,
            "count": 0
           },
           {
            "bin_start": 1.2000000000000002,
            "bin_end": 1.3,
            "count": 0
           },
           {
            "bin_start": 1.3,
            "bin_end": 1.4,
            "count": 0
           },
           {
            "bin_start": 1.4,
            "bin_end": 1.5,
            "count": 0
           }
          ]
         }
        },
        {
         "name": "RATE_DOWN_PAYMENT",
         "dtype": "float64",
         "stats": {
          "unique_count": 1,
          "nan_count": 0,
          "min": "0.1151502335685038",
          "max": "0.1151502335685038",
          "histogram": [
           {
            "bin_start": -0.3848497664314962,
            "bin_end": -0.2848497664314962,
            "count": 0
           },
           {
            "bin_start": -0.2848497664314962,
            "bin_end": -0.1848497664314962,
            "count": 0
           },
           {
            "bin_start": -0.1848497664314962,
            "bin_end": -0.08484976643149617,
            "count": 0
           },
           {
            "bin_start": -0.08484976643149617,
            "bin_end": 0.015150233568503813,
            "count": 0
           },
           {
            "bin_start": 0.015150233568503813,
            "bin_end": 0.11515023356850379,
            "count": 0
           },
           {
            "bin_start": 0.11515023356850379,
            "bin_end": 0.21515023356850388,
            "count": 1
           },
           {
            "bin_start": 0.21515023356850388,
            "bin_end": 0.31515023356850386,
            "count": 0
           },
           {
            "bin_start": 0.31515023356850386,
            "bin_end": 0.41515023356850383,
            "count": 0
           },
           {
            "bin_start": 0.41515023356850383,
            "bin_end": 0.5151502335685039,
            "count": 0
           },
           {
            "bin_start": 0.5151502335685039,
            "bin_end": 0.6151502335685038,
            "count": 0
           }
          ]
         }
        },
        {
         "name": "RATE_INTEREST_PRIMARY",
         "dtype": "float64",
         "stats": {
          "unique_count": 0,
          "nan_count": 1,
          "min": null,
          "max": null,
          "histogram": [
           {
            "bin_start": 0,
            "bin_end": 0.1,
            "count": 0
           },
           {
            "bin_start": 0.1,
            "bin_end": 0.2,
            "count": 0
           },
           {
            "bin_start": 0.2,
            "bin_end": 0.30000000000000004,
            "count": 0
           },
           {
            "bin_start": 0.30000000000000004,
            "bin_end": 0.4,
            "count": 0
           },
           {
            "bin_start": 0.4,
            "bin_end": 0.5,
            "count": 0
           },
           {
            "bin_start": 0.5,
            "bin_end": 0.6000000000000001,
            "count": 0
           },
           {
            "bin_start": 0.6000000000000001,
            "bin_end": 0.7000000000000001,
            "count": 0
           },
           {
            "bin_start": 0.7000000000000001,
            "bin_end": 0.8,
            "count": 0
           },
           {
            "bin_start": 0.8,
            "bin_end": 0.9,
            "count": 0
           },
           {
            "bin_start": 0.9,
            "bin_end": 1,
            "count": 0
           }
          ]
         }
        },
        {
         "name": "RATE_INTEREST_PRIVILEGED",
         "dtype": "float64",
         "stats": {
          "unique_count": 0,
          "nan_count": 1,
          "min": null,
          "max": null,
          "histogram": [
           {
            "bin_start": 0,
            "bin_end": 0.1,
            "count": 0
           },
           {
            "bin_start": 0.1,
            "bin_end": 0.2,
            "count": 0
           },
           {
            "bin_start": 0.2,
            "bin_end": 0.30000000000000004,
            "count": 0
           },
           {
            "bin_start": 0.30000000000000004,
            "bin_end": 0.4,
            "count": 0
           },
           {
            "bin_start": 0.4,
            "bin_end": 0.5,
            "count": 0
           },
           {
            "bin_start": 0.5,
            "bin_end": 0.6000000000000001,
            "count": 0
           },
           {
            "bin_start": 0.6000000000000001,
            "bin_end": 0.7000000000000001,
            "count": 0
           },
           {
            "bin_start": 0.7000000000000001,
            "bin_end": 0.8,
            "count": 0
           },
           {
            "bin_start": 0.8,
            "bin_end": 0.9,
            "count": 0
           },
           {
            "bin_start": 0.9,
            "bin_end": 1,
            "count": 0
           }
          ]
         }
        },
        {
         "name": "NAME_CASH_LOAN_PURPOSE",
         "dtype": "object",
         "stats": {
          "unique_count": 1,
          "nan_count": 0,
          "categories": [
           {
            "name": "XAP",
            "count": 1
           }
          ]
         }
        },
        {
         "name": "NAME_CONTRACT_STATUS",
         "dtype": "object",
         "stats": {
          "unique_count": 1,
          "nan_count": 0,
          "categories": [
           {
            "name": "Approved",
            "count": 1
           }
          ]
         }
        },
        {
         "name": "DAYS_DECISION",
         "dtype": "int64",
         "stats": {
          "unique_count": 1,
          "nan_count": 0,
          "min": "-1628",
          "max": "-1628",
          "histogram": [
           {
            "bin_start": -1628.5,
            "bin_end": -1628.4,
            "count": 0
           },
           {
            "bin_start": -1628.4,
            "bin_end": -1628.3,
            "count": 0
           },
           {
            "bin_start": -1628.3,
            "bin_end": -1628.2,
            "count": 0
           },
           {
            "bin_start": -1628.2,
            "bin_end": -1628.1,
            "count": 0
           },
           {
            "bin_start": -1628.1,
            "bin_end": -1628,
            "count": 0
           },
           {
            "bin_start": -1628,
            "bin_end": -1627.9,
            "count": 1
           },
           {
            "bin_start": -1627.9,
            "bin_end": -1627.8,
            "count": 0
           },
           {
            "bin_start": -1627.8,
            "bin_end": -1627.7,
            "count": 0
           },
           {
            "bin_start": -1627.7,
            "bin_end": -1627.6,
            "count": 0
           },
           {
            "bin_start": -1627.6,
            "bin_end": -1627.5,
            "count": 0
           }
          ]
         }
        },
        {
         "name": "NAME_PAYMENT_TYPE",
         "dtype": "object",
         "stats": {
          "unique_count": 1,
          "nan_count": 0,
          "categories": [
           {
            "name": "XNA",
            "count": 1
           }
          ]
         }
        },
        {
         "name": "CODE_REJECT_REASON",
         "dtype": "object",
         "stats": {
          "unique_count": 1,
          "nan_count": 0,
          "categories": [
           {
            "name": "XAP",
            "count": 1
           }
          ]
         }
        },
        {
         "name": "NAME_TYPE_SUITE",
         "dtype": "object",
         "stats": {
          "unique_count": 0,
          "nan_count": 1,
          "categories": [
           {
            "name": "Missing",
            "count": 1
           }
          ]
         }
        },
        {
         "name": "NAME_CLIENT_TYPE",
         "dtype": "object",
         "stats": {
          "unique_count": 1,
          "nan_count": 0,
          "categories": [
           {
            "name": "New",
            "count": 1
           }
          ]
         }
        },
        {
         "name": "NAME_GOODS_CATEGORY",
         "dtype": "object",
         "stats": {
          "unique_count": 1,
          "nan_count": 0,
          "categories": [
           {
            "name": "Mobile",
            "count": 1
           }
          ]
         }
        },
        {
         "name": "NAME_PORTFOLIO",
         "dtype": "object",
         "stats": {
          "unique_count": 1,
          "nan_count": 0,
          "categories": [
           {
            "name": "POS",
            "count": 1
           }
          ]
         }
        },
        {
         "name": "NAME_PRODUCT_TYPE",
         "dtype": "object",
         "stats": {
          "unique_count": 1,
          "nan_count": 0,
          "categories": [
           {
            "name": "XNA",
            "count": 1
           }
          ]
         }
        },
        {
         "name": "CHANNEL_TYPE",
         "dtype": "object",
         "stats": {
          "unique_count": 1,
          "nan_count": 0,
          "categories": [
           {
            "name": "Regional / Local",
            "count": 1
           }
          ]
         }
        },
        {
         "name": "SELLERPLACE_AREA",
         "dtype": "int64",
         "stats": {
          "unique_count": 1,
          "nan_count": 0,
          "min": "13",
          "max": "13",
          "histogram": [
           {
            "bin_start": 12.5,
            "bin_end": 12.6,
            "count": 0
           },
           {
            "bin_start": 12.6,
            "bin_end": 12.7,
            "count": 0
           },
           {
            "bin_start": 12.7,
            "bin_end": 12.8,
            "count": 0
           },
           {
            "bin_start": 12.8,
            "bin_end": 12.9,
            "count": 0
           },
           {
            "bin_start": 12.9,
            "bin_end": 13,
            "count": 0
           },
           {
            "bin_start": 13,
            "bin_end": 13.1,
            "count": 1
           },
           {
            "bin_start": 13.1,
            "bin_end": 13.2,
            "count": 0
           },
           {
            "bin_start": 13.2,
            "bin_end": 13.3,
            "count": 0
           },
           {
            "bin_start": 13.3,
            "bin_end": 13.4,
            "count": 0
           },
           {
            "bin_start": 13.4,
            "bin_end": 13.5,
            "count": 0
           }
          ]
         }
        },
        {
         "name": "NAME_SELLER_INDUSTRY",
         "dtype": "object",
         "stats": {
          "unique_count": 1,
          "nan_count": 0,
          "categories": [
           {
            "name": "Connectivity",
            "count": 1
           }
          ]
         }
        },
        {
         "name": "CNT_PAYMENT",
         "dtype": "float64",
         "stats": {
          "unique_count": 1,
          "nan_count": 0,
          "min": "6.0",
          "max": "6.0",
          "histogram": [
           {
            "bin_start": 5.5,
            "bin_end": 5.6,
            "count": 0
           },
           {
            "bin_start": 5.6,
            "bin_end": 5.7,
            "count": 0
           },
           {
            "bin_start": 5.7,
            "bin_end": 5.8,
            "count": 0
           },
           {
            "bin_start": 5.8,
            "bin_end": 5.9,
            "count": 0
           },
           {
            "bin_start": 5.9,
            "bin_end": 6,
            "count": 0
           },
           {
            "bin_start": 6,
            "bin_end": 6.1,
            "count": 1
           },
           {
            "bin_start": 6.1,
            "bin_end": 6.2,
            "count": 0
           },
           {
            "bin_start": 6.2,
            "bin_end": 6.3,
            "count": 0
           },
           {
            "bin_start": 6.3,
            "bin_end": 6.4,
            "count": 0
           },
           {
            "bin_start": 6.4,
            "bin_end": 6.5,
            "count": 0
           }
          ]
         }
        },
        {
         "name": "NAME_YIELD_GROUP",
         "dtype": "object",
         "stats": {
          "unique_count": 1,
          "nan_count": 0,
          "categories": [
           {
            "name": "high",
            "count": 1
           }
          ]
         }
        },
        {
         "name": "PRODUCT_COMBINATION",
         "dtype": "object",
         "stats": {
          "unique_count": 1,
          "nan_count": 0,
          "categories": [
           {
            "name": "POS mobile with interest",
            "count": 1
           }
          ]
         }
        },
        {
         "name": "DAYS_FIRST_DRAWING",
         "dtype": "float64",
         "stats": {
          "unique_count": 1,
          "nan_count": 0,
          "min": "365243.0",
          "max": "365243.0",
          "histogram": [
           {
            "bin_start": 365242.5,
            "bin_end": 365242.6,
            "count": 0
           },
           {
            "bin_start": 365242.6,
            "bin_end": 365242.7,
            "count": 0
           },
           {
            "bin_start": 365242.7,
            "bin_end": 365242.8,
            "count": 0
           },
           {
            "bin_start": 365242.8,
            "bin_end": 365242.9,
            "count": 0
           },
           {
            "bin_start": 365242.9,
            "bin_end": 365243,
            "count": 0
           },
           {
            "bin_start": 365243,
            "bin_end": 365243.1,
            "count": 1
           },
           {
            "bin_start": 365243.1,
            "bin_end": 365243.2,
            "count": 0
           },
           {
            "bin_start": 365243.2,
            "bin_end": 365243.3,
            "count": 0
           },
           {
            "bin_start": 365243.3,
            "bin_end": 365243.4,
            "count": 0
           },
           {
            "bin_start": 365243.4,
            "bin_end": 365243.5,
            "count": 0
           }
          ]
         }
        },
        {
         "name": "DAYS_FIRST_DUE",
         "dtype": "float64",
         "stats": {
          "unique_count": 1,
          "nan_count": 0,
          "min": "-1593.0",
          "max": "-1593.0",
          "histogram": [
           {
            "bin_start": -1593.5,
            "bin_end": -1593.4,
            "count": 0
           },
           {
            "bin_start": -1593.4,
            "bin_end": -1593.3,
            "count": 0
           },
           {
            "bin_start": -1593.3,
            "bin_end": -1593.2,
            "count": 0
           },
           {
            "bin_start": -1593.2,
            "bin_end": -1593.1,
            "count": 0
           },
           {
            "bin_start": -1593.1,
            "bin_end": -1593,
            "count": 0
           },
           {
            "bin_start": -1593,
            "bin_end": -1592.9,
            "count": 1
           },
           {
            "bin_start": -1592.9,
            "bin_end": -1592.8,
            "count": 0
           },
           {
            "bin_start": -1592.8,
            "bin_end": -1592.7,
            "count": 0
           },
           {
            "bin_start": -1592.7,
            "bin_end": -1592.6,
            "count": 0
           },
           {
            "bin_start": -1592.6,
            "bin_end": -1592.5,
            "count": 0
           }
          ]
         }
        },
        {
         "name": "DAYS_LAST_DUE_1ST_VERSION",
         "dtype": "float64",
         "stats": {
          "unique_count": 1,
          "nan_count": 0,
          "min": "-1443.0",
          "max": "-1443.0",
          "histogram": [
           {
            "bin_start": -1443.5,
            "bin_end": -1443.4,
            "count": 0
           },
           {
            "bin_start": -1443.4,
            "bin_end": -1443.3,
            "count": 0
           },
           {
            "bin_start": -1443.3,
            "bin_end": -1443.2,
            "count": 0
           },
           {
            "bin_start": -1443.2,
            "bin_end": -1443.1,
            "count": 0
           },
           {
            "bin_start": -1443.1,
            "bin_end": -1443,
            "count": 0
           },
           {
            "bin_start": -1443,
            "bin_end": -1442.9,
            "count": 1
           },
           {
            "bin_start": -1442.9,
            "bin_end": -1442.8,
            "count": 0
           },
           {
            "bin_start": -1442.8,
            "bin_end": -1442.7,
            "count": 0
           },
           {
            "bin_start": -1442.7,
            "bin_end": -1442.6,
            "count": 0
           },
           {
            "bin_start": -1442.6,
            "bin_end": -1442.5,
            "count": 0
           }
          ]
         }
        },
        {
         "name": "DAYS_LAST_DUE",
         "dtype": "float64",
         "stats": {
          "unique_count": 1,
          "nan_count": 0,
          "min": "-1443.0",
          "max": "-1443.0",
          "histogram": [
           {
            "bin_start": -1443.5,
            "bin_end": -1443.4,
            "count": 0
           },
           {
            "bin_start": -1443.4,
            "bin_end": -1443.3,
            "count": 0
           },
           {
            "bin_start": -1443.3,
            "bin_end": -1443.2,
            "count": 0
           },
           {
            "bin_start": -1443.2,
            "bin_end": -1443.1,
            "count": 0
           },
           {
            "bin_start": -1443.1,
            "bin_end": -1443,
            "count": 0
           },
           {
            "bin_start": -1443,
            "bin_end": -1442.9,
            "count": 1
           },
           {
            "bin_start": -1442.9,
            "bin_end": -1442.8,
            "count": 0
           },
           {
            "bin_start": -1442.8,
            "bin_end": -1442.7,
            "count": 0
           },
           {
            "bin_start": -1442.7,
            "bin_end": -1442.6,
            "count": 0
           },
           {
            "bin_start": -1442.6,
            "bin_end": -1442.5,
            "count": 0
           }
          ]
         }
        },
        {
         "name": "DAYS_TERMINATION",
         "dtype": "float64",
         "stats": {
          "unique_count": 1,
          "nan_count": 0,
          "min": "-577.0",
          "max": "-577.0",
          "histogram": [
           {
            "bin_start": -577.5,
            "bin_end": -577.4,
            "count": 0
           },
           {
            "bin_start": -577.4,
            "bin_end": -577.3,
            "count": 0
           },
           {
            "bin_start": -577.3,
            "bin_end": -577.2,
            "count": 0
           },
           {
            "bin_start": -577.2,
            "bin_end": -577.1,
            "count": 0
           },
           {
            "bin_start": -577.1,
            "bin_end": -577,
            "count": 0
           },
           {
            "bin_start": -577,
            "bin_end": -576.9,
            "count": 1
           },
           {
            "bin_start": -576.9,
            "bin_end": -576.8,
            "count": 0
           },
           {
            "bin_start": -576.8,
            "bin_end": -576.7,
            "count": 0
           },
           {
            "bin_start": -576.7,
            "bin_end": -576.6,
            "count": 0
           },
           {
            "bin_start": -576.6,
            "bin_end": -576.5,
            "count": 0
           }
          ]
         }
        },
        {
         "name": "NFLAG_INSURED_ON_APPROVAL",
         "dtype": "float64",
         "stats": {
          "unique_count": 1,
          "nan_count": 0,
          "min": "0.0",
          "max": "0.0",
          "histogram": [
           {
            "bin_start": -0.5,
            "bin_end": -0.4,
            "count": 0
           },
           {
            "bin_start": -0.4,
            "bin_end": -0.3,
            "count": 0
           },
           {
            "bin_start": -0.3,
            "bin_end": -0.19999999999999996,
            "count": 0
           },
           {
            "bin_start": -0.19999999999999996,
            "bin_end": -0.09999999999999998,
            "count": 0
           },
           {
            "bin_start": -0.09999999999999998,
            "bin_end": 0,
            "count": 0
           },
           {
            "bin_start": 0,
            "bin_end": 0.10000000000000009,
            "count": 1
           },
           {
            "bin_start": 0.10000000000000009,
            "bin_end": 0.20000000000000007,
            "count": 0
           },
           {
            "bin_start": 0.20000000000000007,
            "bin_end": 0.30000000000000004,
            "count": 0
           },
           {
            "bin_start": 0.30000000000000004,
            "bin_end": 0.4,
            "count": 0
           },
           {
            "bin_start": 0.4,
            "bin_end": 0.5,
            "count": 0
           }
          ]
         }
        },
        {
         "name": "_deepnote_index_column",
         "dtype": "int64"
        }
       ],
       "rows_top": [
        {
         "SK_ID_PREV": 2448283,
         "SK_ID_CURR": 226558,
         "NAME_CONTRACT_TYPE": "Consumer loans",
         "AMT_ANNUITY": 3880.305,
         "AMT_APPLICATION": 20385,
         "AMT_CREDIT": 19030.5,
         "AMT_DOWN_PAYMENT": 2250,
         "AMT_GOODS_PRICE": 20385,
         "WEEKDAY_APPR_PROCESS_START": "SATURDAY",
         "HOUR_APPR_PROCESS_START": 15,
         "FLAG_LAST_APPL_PER_CONTRACT": "Y",
         "NFLAG_LAST_APPL_IN_DAY": 1,
         "RATE_DOWN_PAYMENT": 0.1151502335685038,
         "RATE_INTEREST_PRIMARY": "nan",
         "RATE_INTEREST_PRIVILEGED": "nan",
         "NAME_CASH_LOAN_PURPOSE": "XAP",
         "NAME_CONTRACT_STATUS": "Approved",
         "DAYS_DECISION": -1628,
         "NAME_PAYMENT_TYPE": "XNA",
         "CODE_REJECT_REASON": "XAP",
         "NAME_TYPE_SUITE": "nan",
         "NAME_CLIENT_TYPE": "New",
         "NAME_GOODS_CATEGORY": "Mobile",
         "NAME_PORTFOLIO": "POS",
         "NAME_PRODUCT_TYPE": "XNA",
         "CHANNEL_TYPE": "Regional / Local",
         "SELLERPLACE_AREA": 13,
         "NAME_SELLER_INDUSTRY": "Connectivity",
         "CNT_PAYMENT": 6,
         "NAME_YIELD_GROUP": "high",
         "PRODUCT_COMBINATION": "POS mobile with interest",
         "DAYS_FIRST_DRAWING": 365243,
         "DAYS_FIRST_DUE": -1593,
         "DAYS_LAST_DUE_1ST_VERSION": -1443,
         "DAYS_LAST_DUE": -1443,
         "DAYS_TERMINATION": -577,
         "NFLAG_INSURED_ON_APPROVAL": 0,
         "_deepnote_index_column": 282244
        }
       ],
       "rows_bottom": null
      },
      "text/plain": "        SK_ID_PREV  SK_ID_CURR NAME_CONTRACT_TYPE  AMT_ANNUITY  \\\n282244     2448283      226558     Consumer loans     3880.305   \n\n        AMT_APPLICATION  AMT_CREDIT  AMT_DOWN_PAYMENT  AMT_GOODS_PRICE  \\\n282244          20385.0     19030.5            2250.0          20385.0   \n\n       WEEKDAY_APPR_PROCESS_START  HOUR_APPR_PROCESS_START  ...  \\\n282244                   SATURDAY                       15  ...   \n\n       NAME_SELLER_INDUSTRY  CNT_PAYMENT  NAME_YIELD_GROUP  \\\n282244         Connectivity          6.0              high   \n\n             PRODUCT_COMBINATION  DAYS_FIRST_DRAWING DAYS_FIRST_DUE  \\\n282244  POS mobile with interest            365243.0        -1593.0   \n\n       DAYS_LAST_DUE_1ST_VERSION  DAYS_LAST_DUE DAYS_TERMINATION  \\\n282244                   -1443.0        -1443.0           -577.0   \n\n       NFLAG_INSURED_ON_APPROVAL  \n282244                       0.0  \n\n[1 rows x 37 columns]",
      "text/html": "<div>\n<style scoped>\n    .dataframe tbody tr th:only-of-type {\n        vertical-align: middle;\n    }\n\n    .dataframe tbody tr th {\n        vertical-align: top;\n    }\n\n    .dataframe thead th {\n        text-align: right;\n    }\n</style>\n<table border=\"1\" class=\"dataframe\">\n  <thead>\n    <tr style=\"text-align: right;\">\n      <th></th>\n      <th>SK_ID_PREV</th>\n      <th>SK_ID_CURR</th>\n      <th>NAME_CONTRACT_TYPE</th>\n      <th>AMT_ANNUITY</th>\n      <th>AMT_APPLICATION</th>\n      <th>AMT_CREDIT</th>\n      <th>AMT_DOWN_PAYMENT</th>\n      <th>AMT_GOODS_PRICE</th>\n      <th>WEEKDAY_APPR_PROCESS_START</th>\n      <th>HOUR_APPR_PROCESS_START</th>\n      <th>...</th>\n      <th>NAME_SELLER_INDUSTRY</th>\n      <th>CNT_PAYMENT</th>\n      <th>NAME_YIELD_GROUP</th>\n      <th>PRODUCT_COMBINATION</th>\n      <th>DAYS_FIRST_DRAWING</th>\n      <th>DAYS_FIRST_DUE</th>\n      <th>DAYS_LAST_DUE_1ST_VERSION</th>\n      <th>DAYS_LAST_DUE</th>\n      <th>DAYS_TERMINATION</th>\n      <th>NFLAG_INSURED_ON_APPROVAL</th>\n    </tr>\n  </thead>\n  <tbody>\n    <tr>\n      <th>282244</th>\n      <td>2448283</td>\n      <td>226558</td>\n      <td>Consumer loans</td>\n      <td>3880.305</td>\n      <td>20385.0</td>\n      <td>19030.5</td>\n      <td>2250.0</td>\n      <td>20385.0</td>\n      <td>SATURDAY</td>\n      <td>15</td>\n      <td>...</td>\n      <td>Connectivity</td>\n      <td>6.0</td>\n      <td>high</td>\n      <td>POS mobile with interest</td>\n      <td>365243.0</td>\n      <td>-1593.0</td>\n      <td>-1443.0</td>\n      <td>-1443.0</td>\n      <td>-577.0</td>\n      <td>0.0</td>\n    </tr>\n  </tbody>\n</table>\n<p>1 rows × 37 columns</p>\n</div>"
     },
     "metadata": {}
    }
   ],
   "execution_count": null
  },
  {
   "cell_type": "code",
   "metadata": {
    "tags": [],
    "cell_id": "00001-f8f8b544-6fea-4f01-9766-96348558fcf7",
    "deepnote_to_be_reexecuted": false,
    "source_hash": "95cfc73a",
    "execution_start": 1632766882263,
    "execution_millis": 79,
    "deepnote_cell_type": "code"
   },
   "source": "balance[balance.SK_ID_PREV == ID].sort_values(\"MONTHS_BALANCE\")",
   "outputs": [
    {
     "output_type": "execute_result",
     "execution_count": 5,
     "data": {
      "application/vnd.deepnote.dataframe.v2+json": {
       "row_count": 35,
       "column_count": 8,
       "columns": [
        {
         "name": "SK_ID_PREV",
         "dtype": "int64",
         "stats": {
          "unique_count": 1,
          "nan_count": 0,
          "min": "2448283",
          "max": "2448283",
          "histogram": [
           {
            "bin_start": 2448282.5,
            "bin_end": 2448282.6,
            "count": 0
           },
           {
            "bin_start": 2448282.6,
            "bin_end": 2448282.7,
            "count": 0
           },
           {
            "bin_start": 2448282.7,
            "bin_end": 2448282.8,
            "count": 0
           },
           {
            "bin_start": 2448282.8,
            "bin_end": 2448282.9,
            "count": 0
           },
           {
            "bin_start": 2448282.9,
            "bin_end": 2448283,
            "count": 0
           },
           {
            "bin_start": 2448283,
            "bin_end": 2448283.1,
            "count": 35
           },
           {
            "bin_start": 2448283.1,
            "bin_end": 2448283.2,
            "count": 0
           },
           {
            "bin_start": 2448283.2,
            "bin_end": 2448283.3,
            "count": 0
           },
           {
            "bin_start": 2448283.3,
            "bin_end": 2448283.4,
            "count": 0
           },
           {
            "bin_start": 2448283.4,
            "bin_end": 2448283.5,
            "count": 0
           }
          ]
         }
        },
        {
         "name": "SK_ID_CURR",
         "dtype": "int64",
         "stats": {
          "unique_count": 1,
          "nan_count": 0,
          "min": "226558",
          "max": "226558",
          "histogram": [
           {
            "bin_start": 226557.5,
            "bin_end": 226557.6,
            "count": 0
           },
           {
            "bin_start": 226557.6,
            "bin_end": 226557.7,
            "count": 0
           },
           {
            "bin_start": 226557.7,
            "bin_end": 226557.8,
            "count": 0
           },
           {
            "bin_start": 226557.8,
            "bin_end": 226557.9,
            "count": 0
           },
           {
            "bin_start": 226557.9,
            "bin_end": 226558,
            "count": 0
           },
           {
            "bin_start": 226558,
            "bin_end": 226558.1,
            "count": 35
           },
           {
            "bin_start": 226558.1,
            "bin_end": 226558.2,
            "count": 0
           },
           {
            "bin_start": 226558.2,
            "bin_end": 226558.3,
            "count": 0
           },
           {
            "bin_start": 226558.3,
            "bin_end": 226558.4,
            "count": 0
           },
           {
            "bin_start": 226558.4,
            "bin_end": 226558.5,
            "count": 0
           }
          ]
         }
        },
        {
         "name": "MONTHS_BALANCE",
         "dtype": "int64",
         "stats": {
          "unique_count": 35,
          "nan_count": 0,
          "min": "-53",
          "max": "-19",
          "histogram": [
           {
            "bin_start": -53,
            "bin_end": -49.6,
            "count": 4
           },
           {
            "bin_start": -49.6,
            "bin_end": -46.2,
            "count": 3
           },
           {
            "bin_start": -46.2,
            "bin_end": -42.8,
            "count": 4
           },
           {
            "bin_start": -42.8,
            "bin_end": -39.4,
            "count": 3
           },
           {
            "bin_start": -39.4,
            "bin_end": -36,
            "count": 3
           },
           {
            "bin_start": -36,
            "bin_end": -32.6,
            "count": 4
           },
           {
            "bin_start": -32.6,
            "bin_end": -29.2,
            "count": 3
           },
           {
            "bin_start": -29.2,
            "bin_end": -25.8,
            "count": 4
           },
           {
            "bin_start": -25.8,
            "bin_end": -22.400000000000002,
            "count": 3
           },
           {
            "bin_start": -22.400000000000002,
            "bin_end": -19,
            "count": 4
           }
          ]
         }
        },
        {
         "name": "CNT_INSTALMENT",
         "dtype": "float64",
         "stats": {
          "unique_count": 1,
          "nan_count": 0,
          "min": "6.0",
          "max": "6.0",
          "histogram": [
           {
            "bin_start": 5.5,
            "bin_end": 5.6,
            "count": 0
           },
           {
            "bin_start": 5.6,
            "bin_end": 5.7,
            "count": 0
           },
           {
            "bin_start": 5.7,
            "bin_end": 5.8,
            "count": 0
           },
           {
            "bin_start": 5.8,
            "bin_end": 5.9,
            "count": 0
           },
           {
            "bin_start": 5.9,
            "bin_end": 6,
            "count": 0
           },
           {
            "bin_start": 6,
            "bin_end": 6.1,
            "count": 35
           },
           {
            "bin_start": 6.1,
            "bin_end": 6.2,
            "count": 0
           },
           {
            "bin_start": 6.2,
            "bin_end": 6.3,
            "count": 0
           },
           {
            "bin_start": 6.3,
            "bin_end": 6.4,
            "count": 0
           },
           {
            "bin_start": 6.4,
            "bin_end": 6.5,
            "count": 0
           }
          ]
         }
        },
        {
         "name": "CNT_INSTALMENT_FUTURE",
         "dtype": "float64",
         "stats": {
          "unique_count": 7,
          "nan_count": 0,
          "min": "0.0",
          "max": "6.0",
          "histogram": [
           {
            "bin_start": 0,
            "bin_end": 0.6,
            "count": 29
           },
           {
            "bin_start": 0.6,
            "bin_end": 1.2,
            "count": 1
           },
           {
            "bin_start": 1.2,
            "bin_end": 1.7999999999999998,
            "count": 0
           },
           {
            "bin_start": 1.7999999999999998,
            "bin_end": 2.4,
            "count": 1
           },
           {
            "bin_start": 2.4,
            "bin_end": 3,
            "count": 0
           },
           {
            "bin_start": 3,
            "bin_end": 3.5999999999999996,
            "count": 1
           },
           {
            "bin_start": 3.5999999999999996,
            "bin_end": 4.2,
            "count": 1
           },
           {
            "bin_start": 4.2,
            "bin_end": 4.8,
            "count": 0
           },
           {
            "bin_start": 4.8,
            "bin_end": 5.3999999999999995,
            "count": 1
           },
           {
            "bin_start": 5.3999999999999995,
            "bin_end": 6,
            "count": 1
           }
          ]
         }
        },
        {
         "name": "NAME_CONTRACT_STATUS",
         "dtype": "object",
         "stats": {
          "unique_count": 2,
          "nan_count": 0,
          "categories": [
           {
            "name": "Active",
            "count": 34
           },
           {
            "name": "Completed",
            "count": 1
           }
          ]
         }
        },
        {
         "name": "SK_DPD",
         "dtype": "int64",
         "stats": {
          "unique_count": 29,
          "nan_count": 0,
          "min": "0",
          "max": "843",
          "histogram": [
           {
            "bin_start": 0,
            "bin_end": 84.3,
            "count": 10
           },
           {
            "bin_start": 84.3,
            "bin_end": 168.6,
            "count": 2
           },
           {
            "bin_start": 168.6,
            "bin_end": 252.89999999999998,
            "count": 3
           },
           {
            "bin_start": 252.89999999999998,
            "bin_end": 337.2,
            "count": 3
           },
           {
            "bin_start": 337.2,
            "bin_end": 421.5,
            "count": 3
           },
           {
            "bin_start": 421.5,
            "bin_end": 505.79999999999995,
            "count": 2
           },
           {
            "bin_start": 505.79999999999995,
            "bin_end": 590.1,
            "count": 3
           },
           {
            "bin_start": 590.1,
            "bin_end": 674.4,
            "count": 3
           },
           {
            "bin_start": 674.4,
            "bin_end": 758.6999999999999,
            "count": 3
           },
           {
            "bin_start": 758.6999999999999,
            "bin_end": 843,
            "count": 3
           }
          ]
         }
        },
        {
         "name": "SK_DPD_DEF",
         "dtype": "int64",
         "stats": {
          "unique_count": 1,
          "nan_count": 0,
          "min": "0",
          "max": "0",
          "histogram": [
           {
            "bin_start": -0.5,
            "bin_end": -0.4,
            "count": 0
           },
           {
            "bin_start": -0.4,
            "bin_end": -0.3,
            "count": 0
           },
           {
            "bin_start": -0.3,
            "bin_end": -0.19999999999999996,
            "count": 0
           },
           {
            "bin_start": -0.19999999999999996,
            "bin_end": -0.09999999999999998,
            "count": 0
           },
           {
            "bin_start": -0.09999999999999998,
            "bin_end": 0,
            "count": 0
           },
           {
            "bin_start": 0,
            "bin_end": 0.10000000000000009,
            "count": 35
           },
           {
            "bin_start": 0.10000000000000009,
            "bin_end": 0.20000000000000007,
            "count": 0
           },
           {
            "bin_start": 0.20000000000000007,
            "bin_end": 0.30000000000000004,
            "count": 0
           },
           {
            "bin_start": 0.30000000000000004,
            "bin_end": 0.4,
            "count": 0
           },
           {
            "bin_start": 0.4,
            "bin_end": 0.5,
            "count": 0
           }
          ]
         }
        },
        {
         "name": "_deepnote_index_column",
         "dtype": "int64"
        }
       ],
       "rows_top": [
        {
         "SK_ID_PREV": 2448283,
         "SK_ID_CURR": 226558,
         "MONTHS_BALANCE": -53,
         "CNT_INSTALMENT": 6,
         "CNT_INSTALMENT_FUTURE": 6,
         "NAME_CONTRACT_STATUS": "Active",
         "SK_DPD": 0,
         "SK_DPD_DEF": 0,
         "_deepnote_index_column": 1439944
        },
        {
         "SK_ID_PREV": 2448283,
         "SK_ID_CURR": 226558,
         "MONTHS_BALANCE": -52,
         "CNT_INSTALMENT": 6,
         "CNT_INSTALMENT_FUTURE": 5,
         "NAME_CONTRACT_STATUS": "Active",
         "SK_DPD": 0,
         "SK_DPD_DEF": 0,
         "_deepnote_index_column": 3290550
        },
        {
         "SK_ID_PREV": 2448283,
         "SK_ID_CURR": 226558,
         "MONTHS_BALANCE": -51,
         "CNT_INSTALMENT": 6,
         "CNT_INSTALMENT_FUTURE": 4,
         "NAME_CONTRACT_STATUS": "Active",
         "SK_DPD": 0,
         "SK_DPD_DEF": 0,
         "_deepnote_index_column": 9476097
        },
        {
         "SK_ID_PREV": 2448283,
         "SK_ID_CURR": 226558,
         "MONTHS_BALANCE": -50,
         "CNT_INSTALMENT": 6,
         "CNT_INSTALMENT_FUTURE": 3,
         "NAME_CONTRACT_STATUS": "Active",
         "SK_DPD": 0,
         "SK_DPD_DEF": 0,
         "_deepnote_index_column": 5952719
        },
        {
         "SK_ID_PREV": 2448283,
         "SK_ID_CURR": 226558,
         "MONTHS_BALANCE": -49,
         "CNT_INSTALMENT": 6,
         "CNT_INSTALMENT_FUTURE": 2,
         "NAME_CONTRACT_STATUS": "Active",
         "SK_DPD": 0,
         "SK_DPD_DEF": 0,
         "_deepnote_index_column": 5916746
        },
        {
         "SK_ID_PREV": 2448283,
         "SK_ID_CURR": 226558,
         "MONTHS_BALANCE": -48,
         "CNT_INSTALMENT": 6,
         "CNT_INSTALMENT_FUTURE": 1,
         "NAME_CONTRACT_STATUS": "Active",
         "SK_DPD": 0,
         "SK_DPD_DEF": 0,
         "_deepnote_index_column": 7696039
        },
        {
         "SK_ID_PREV": 2448283,
         "SK_ID_CURR": 226558,
         "MONTHS_BALANCE": -47,
         "CNT_INSTALMENT": 6,
         "CNT_INSTALMENT_FUTURE": 0,
         "NAME_CONTRACT_STATUS": "Active",
         "SK_DPD": 20,
         "SK_DPD_DEF": 0,
         "_deepnote_index_column": 5716028
        },
        {
         "SK_ID_PREV": 2448283,
         "SK_ID_CURR": 226558,
         "MONTHS_BALANCE": -46,
         "CNT_INSTALMENT": 6,
         "CNT_INSTALMENT_FUTURE": 0,
         "NAME_CONTRACT_STATUS": "Active",
         "SK_DPD": 50,
         "SK_DPD_DEF": 0,
         "_deepnote_index_column": 1782433
        },
        {
         "SK_ID_PREV": 2448283,
         "SK_ID_CURR": 226558,
         "MONTHS_BALANCE": -45,
         "CNT_INSTALMENT": 6,
         "CNT_INSTALMENT_FUTURE": 0,
         "NAME_CONTRACT_STATUS": "Active",
         "SK_DPD": 81,
         "SK_DPD_DEF": 0,
         "_deepnote_index_column": 7464551
        },
        {
         "SK_ID_PREV": 2448283,
         "SK_ID_CURR": 226558,
         "MONTHS_BALANCE": -44,
         "CNT_INSTALMENT": 6,
         "CNT_INSTALMENT_FUTURE": 0,
         "NAME_CONTRACT_STATUS": "Active",
         "SK_DPD": 112,
         "SK_DPD_DEF": 0,
         "_deepnote_index_column": 5744905
        },
        {
         "SK_ID_PREV": 2448283,
         "SK_ID_CURR": 226558,
         "MONTHS_BALANCE": -43,
         "CNT_INSTALMENT": 6,
         "CNT_INSTALMENT_FUTURE": 0,
         "NAME_CONTRACT_STATUS": "Active",
         "SK_DPD": 140,
         "SK_DPD_DEF": 0,
         "_deepnote_index_column": 7665796
        },
        {
         "SK_ID_PREV": 2448283,
         "SK_ID_CURR": 226558,
         "MONTHS_BALANCE": -42,
         "CNT_INSTALMENT": 6,
         "CNT_INSTALMENT_FUTURE": 0,
         "NAME_CONTRACT_STATUS": "Active",
         "SK_DPD": 171,
         "SK_DPD_DEF": 0,
         "_deepnote_index_column": 9753733
        },
        {
         "SK_ID_PREV": 2448283,
         "SK_ID_CURR": 226558,
         "MONTHS_BALANCE": -41,
         "CNT_INSTALMENT": 6,
         "CNT_INSTALMENT_FUTURE": 0,
         "NAME_CONTRACT_STATUS": "Active",
         "SK_DPD": 201,
         "SK_DPD_DEF": 0,
         "_deepnote_index_column": 9349071
        },
        {
         "SK_ID_PREV": 2448283,
         "SK_ID_CURR": 226558,
         "MONTHS_BALANCE": -40,
         "CNT_INSTALMENT": 6,
         "CNT_INSTALMENT_FUTURE": 0,
         "NAME_CONTRACT_STATUS": "Active",
         "SK_DPD": 232,
         "SK_DPD_DEF": 0,
         "_deepnote_index_column": 9972671
        },
        {
         "SK_ID_PREV": 2448283,
         "SK_ID_CURR": 226558,
         "MONTHS_BALANCE": -39,
         "CNT_INSTALMENT": 6,
         "CNT_INSTALMENT_FUTURE": 0,
         "NAME_CONTRACT_STATUS": "Active",
         "SK_DPD": 262,
         "SK_DPD_DEF": 0,
         "_deepnote_index_column": 9971312
        },
        {
         "SK_ID_PREV": 2448283,
         "SK_ID_CURR": 226558,
         "MONTHS_BALANCE": -38,
         "CNT_INSTALMENT": 6,
         "CNT_INSTALMENT_FUTURE": 0,
         "NAME_CONTRACT_STATUS": "Active",
         "SK_DPD": 293,
         "SK_DPD_DEF": 0,
         "_deepnote_index_column": 9977222
        },
        {
         "SK_ID_PREV": 2448283,
         "SK_ID_CURR": 226558,
         "MONTHS_BALANCE": -37,
         "CNT_INSTALMENT": 6,
         "CNT_INSTALMENT_FUTURE": 0,
         "NAME_CONTRACT_STATUS": "Active",
         "SK_DPD": 324,
         "SK_DPD_DEF": 0,
         "_deepnote_index_column": 9640885
        },
        {
         "SK_ID_PREV": 2448283,
         "SK_ID_CURR": 226558,
         "MONTHS_BALANCE": -36,
         "CNT_INSTALMENT": 6,
         "CNT_INSTALMENT_FUTURE": 0,
         "NAME_CONTRACT_STATUS": "Active",
         "SK_DPD": 354,
         "SK_DPD_DEF": 0,
         "_deepnote_index_column": 9976548
        },
        {
         "SK_ID_PREV": 2448283,
         "SK_ID_CURR": 226558,
         "MONTHS_BALANCE": -35,
         "CNT_INSTALMENT": 6,
         "CNT_INSTALMENT_FUTURE": 0,
         "NAME_CONTRACT_STATUS": "Active",
         "SK_DPD": 385,
         "SK_DPD_DEF": 0,
         "_deepnote_index_column": 9641722
        },
        {
         "SK_ID_PREV": 2448283,
         "SK_ID_CURR": 226558,
         "MONTHS_BALANCE": -34,
         "CNT_INSTALMENT": 6,
         "CNT_INSTALMENT_FUTURE": 0,
         "NAME_CONTRACT_STATUS": "Active",
         "SK_DPD": 415,
         "SK_DPD_DEF": 0,
         "_deepnote_index_column": 9976485
        },
        {
         "SK_ID_PREV": 2448283,
         "SK_ID_CURR": 226558,
         "MONTHS_BALANCE": -33,
         "CNT_INSTALMENT": 6,
         "CNT_INSTALMENT_FUTURE": 0,
         "NAME_CONTRACT_STATUS": "Active",
         "SK_DPD": 446,
         "SK_DPD_DEF": 0,
         "_deepnote_index_column": 9640744
        },
        {
         "SK_ID_PREV": 2448283,
         "SK_ID_CURR": 226558,
         "MONTHS_BALANCE": -32,
         "CNT_INSTALMENT": 6,
         "CNT_INSTALMENT_FUTURE": 0,
         "NAME_CONTRACT_STATUS": "Active",
         "SK_DPD": 477,
         "SK_DPD_DEF": 0,
         "_deepnote_index_column": 9975545
        },
        {
         "SK_ID_PREV": 2448283,
         "SK_ID_CURR": 226558,
         "MONTHS_BALANCE": -31,
         "CNT_INSTALMENT": 6,
         "CNT_INSTALMENT_FUTURE": 0,
         "NAME_CONTRACT_STATUS": "Active",
         "SK_DPD": 506,
         "SK_DPD_DEF": 0,
         "_deepnote_index_column": 9978376
        },
        {
         "SK_ID_PREV": 2448283,
         "SK_ID_CURR": 226558,
         "MONTHS_BALANCE": -30,
         "CNT_INSTALMENT": 6,
         "CNT_INSTALMENT_FUTURE": 0,
         "NAME_CONTRACT_STATUS": "Active",
         "SK_DPD": 537,
         "SK_DPD_DEF": 0,
         "_deepnote_index_column": 9975425
        },
        {
         "SK_ID_PREV": 2448283,
         "SK_ID_CURR": 226558,
         "MONTHS_BALANCE": -29,
         "CNT_INSTALMENT": 6,
         "CNT_INSTALMENT_FUTURE": 0,
         "NAME_CONTRACT_STATUS": "Active",
         "SK_DPD": 567,
         "SK_DPD_DEF": 0,
         "_deepnote_index_column": 8278903
        },
        {
         "SK_ID_PREV": 2448283,
         "SK_ID_CURR": 226558,
         "MONTHS_BALANCE": -28,
         "CNT_INSTALMENT": 6,
         "CNT_INSTALMENT_FUTURE": 0,
         "NAME_CONTRACT_STATUS": "Active",
         "SK_DPD": 598,
         "SK_DPD_DEF": 0,
         "_deepnote_index_column": 9996706
        },
        {
         "SK_ID_PREV": 2448283,
         "SK_ID_CURR": 226558,
         "MONTHS_BALANCE": -27,
         "CNT_INSTALMENT": 6,
         "CNT_INSTALMENT_FUTURE": 0,
         "NAME_CONTRACT_STATUS": "Active",
         "SK_DPD": 628,
         "SK_DPD_DEF": 0,
         "_deepnote_index_column": 9999717
        },
        {
         "SK_ID_PREV": 2448283,
         "SK_ID_CURR": 226558,
         "MONTHS_BALANCE": -26,
         "CNT_INSTALMENT": 6,
         "CNT_INSTALMENT_FUTURE": 0,
         "NAME_CONTRACT_STATUS": "Active",
         "SK_DPD": 659,
         "SK_DPD_DEF": 0,
         "_deepnote_index_column": 9999479
        },
        {
         "SK_ID_PREV": 2448283,
         "SK_ID_CURR": 226558,
         "MONTHS_BALANCE": -25,
         "CNT_INSTALMENT": 6,
         "CNT_INSTALMENT_FUTURE": 0,
         "NAME_CONTRACT_STATUS": "Active",
         "SK_DPD": 690,
         "SK_DPD_DEF": 0,
         "_deepnote_index_column": 8025184
        },
        {
         "SK_ID_PREV": 2448283,
         "SK_ID_CURR": 226558,
         "MONTHS_BALANCE": -24,
         "CNT_INSTALMENT": 6,
         "CNT_INSTALMENT_FUTURE": 0,
         "NAME_CONTRACT_STATUS": "Active",
         "SK_DPD": 720,
         "SK_DPD_DEF": 0,
         "_deepnote_index_column": 10000748
        },
        {
         "SK_ID_PREV": 2448283,
         "SK_ID_CURR": 226558,
         "MONTHS_BALANCE": -23,
         "CNT_INSTALMENT": 6,
         "CNT_INSTALMENT_FUTURE": 0,
         "NAME_CONTRACT_STATUS": "Active",
         "SK_DPD": 751,
         "SK_DPD_DEF": 0,
         "_deepnote_index_column": 10000714
        },
        {
         "SK_ID_PREV": 2448283,
         "SK_ID_CURR": 226558,
         "MONTHS_BALANCE": -22,
         "CNT_INSTALMENT": 6,
         "CNT_INSTALMENT_FUTURE": 0,
         "NAME_CONTRACT_STATUS": "Active",
         "SK_DPD": 781,
         "SK_DPD_DEF": 0,
         "_deepnote_index_column": 9999931
        },
        {
         "SK_ID_PREV": 2448283,
         "SK_ID_CURR": 226558,
         "MONTHS_BALANCE": -21,
         "CNT_INSTALMENT": 6,
         "CNT_INSTALMENT_FUTURE": 0,
         "NAME_CONTRACT_STATUS": "Active",
         "SK_DPD": 812,
         "SK_DPD_DEF": 0,
         "_deepnote_index_column": 9999294
        },
        {
         "SK_ID_PREV": 2448283,
         "SK_ID_CURR": 226558,
         "MONTHS_BALANCE": -20,
         "CNT_INSTALMENT": 6,
         "CNT_INSTALMENT_FUTURE": 0,
         "NAME_CONTRACT_STATUS": "Active",
         "SK_DPD": 843,
         "SK_DPD_DEF": 0,
         "_deepnote_index_column": 10001353
        },
        {
         "SK_ID_PREV": 2448283,
         "SK_ID_CURR": 226558,
         "MONTHS_BALANCE": -19,
         "CNT_INSTALMENT": 6,
         "CNT_INSTALMENT_FUTURE": 0,
         "NAME_CONTRACT_STATUS": "Completed",
         "SK_DPD": 0,
         "SK_DPD_DEF": 0,
         "_deepnote_index_column": 10001316
        }
       ],
       "rows_bottom": null
      },
      "text/plain": "          SK_ID_PREV  SK_ID_CURR  MONTHS_BALANCE  CNT_INSTALMENT  \\\n1439944      2448283      226558             -53             6.0   \n3290550      2448283      226558             -52             6.0   \n9476097      2448283      226558             -51             6.0   \n5952719      2448283      226558             -50             6.0   \n5916746      2448283      226558             -49             6.0   \n7696039      2448283      226558             -48             6.0   \n5716028      2448283      226558             -47             6.0   \n1782433      2448283      226558             -46             6.0   \n7464551      2448283      226558             -45             6.0   \n5744905      2448283      226558             -44             6.0   \n7665796      2448283      226558             -43             6.0   \n9753733      2448283      226558             -42             6.0   \n9349071      2448283      226558             -41             6.0   \n9972671      2448283      226558             -40             6.0   \n9971312      2448283      226558             -39             6.0   \n9977222      2448283      226558             -38             6.0   \n9640885      2448283      226558             -37             6.0   \n9976548      2448283      226558             -36             6.0   \n9641722      2448283      226558             -35             6.0   \n9976485      2448283      226558             -34             6.0   \n9640744      2448283      226558             -33             6.0   \n9975545      2448283      226558             -32             6.0   \n9978376      2448283      226558             -31             6.0   \n9975425      2448283      226558             -30             6.0   \n8278903      2448283      226558             -29             6.0   \n9996706      2448283      226558             -28             6.0   \n9999717      2448283      226558             -27             6.0   \n9999479      2448283      226558             -26             6.0   \n8025184      2448283      226558             -25             6.0   \n10000748     2448283      226558             -24             6.0   \n10000714     2448283      226558             -23             6.0   \n9999931      2448283      226558             -22             6.0   \n9999294      2448283      226558             -21             6.0   \n10001353     2448283      226558             -20             6.0   \n10001316     2448283      226558             -19             6.0   \n\n          CNT_INSTALMENT_FUTURE NAME_CONTRACT_STATUS  SK_DPD  SK_DPD_DEF  \n1439944                     6.0               Active       0           0  \n3290550                     5.0               Active       0           0  \n9476097                     4.0               Active       0           0  \n5952719                     3.0               Active       0           0  \n5916746                     2.0               Active       0           0  \n7696039                     1.0               Active       0           0  \n5716028                     0.0               Active      20           0  \n1782433                     0.0               Active      50           0  \n7464551                     0.0               Active      81           0  \n5744905                     0.0               Active     112           0  \n7665796                     0.0               Active     140           0  \n9753733                     0.0               Active     171           0  \n9349071                     0.0               Active     201           0  \n9972671                     0.0               Active     232           0  \n9971312                     0.0               Active     262           0  \n9977222                     0.0               Active     293           0  \n9640885                     0.0               Active     324           0  \n9976548                     0.0               Active     354           0  \n9641722                     0.0               Active     385           0  \n9976485                     0.0               Active     415           0  \n9640744                     0.0               Active     446           0  \n9975545                     0.0               Active     477           0  \n9978376                     0.0               Active     506           0  \n9975425                     0.0               Active     537           0  \n8278903                     0.0               Active     567           0  \n9996706                     0.0               Active     598           0  \n9999717                     0.0               Active     628           0  \n9999479                     0.0               Active     659           0  \n8025184                     0.0               Active     690           0  \n10000748                    0.0               Active     720           0  \n10000714                    0.0               Active     751           0  \n9999931                     0.0               Active     781           0  \n9999294                     0.0               Active     812           0  \n10001353                    0.0               Active     843           0  \n10001316                    0.0            Completed       0           0  ",
      "text/html": "<div>\n<style scoped>\n    .dataframe tbody tr th:only-of-type {\n        vertical-align: middle;\n    }\n\n    .dataframe tbody tr th {\n        vertical-align: top;\n    }\n\n    .dataframe thead th {\n        text-align: right;\n    }\n</style>\n<table border=\"1\" class=\"dataframe\">\n  <thead>\n    <tr style=\"text-align: right;\">\n      <th></th>\n      <th>SK_ID_PREV</th>\n      <th>SK_ID_CURR</th>\n      <th>MONTHS_BALANCE</th>\n      <th>CNT_INSTALMENT</th>\n      <th>CNT_INSTALMENT_FUTURE</th>\n      <th>NAME_CONTRACT_STATUS</th>\n      <th>SK_DPD</th>\n      <th>SK_DPD_DEF</th>\n    </tr>\n  </thead>\n  <tbody>\n    <tr>\n      <th>1439944</th>\n      <td>2448283</td>\n      <td>226558</td>\n      <td>-53</td>\n      <td>6.0</td>\n      <td>6.0</td>\n      <td>Active</td>\n      <td>0</td>\n      <td>0</td>\n    </tr>\n    <tr>\n      <th>3290550</th>\n      <td>2448283</td>\n      <td>226558</td>\n      <td>-52</td>\n      <td>6.0</td>\n      <td>5.0</td>\n      <td>Active</td>\n      <td>0</td>\n      <td>0</td>\n    </tr>\n    <tr>\n      <th>9476097</th>\n      <td>2448283</td>\n      <td>226558</td>\n      <td>-51</td>\n      <td>6.0</td>\n      <td>4.0</td>\n      <td>Active</td>\n      <td>0</td>\n      <td>0</td>\n    </tr>\n    <tr>\n      <th>5952719</th>\n      <td>2448283</td>\n      <td>226558</td>\n      <td>-50</td>\n      <td>6.0</td>\n      <td>3.0</td>\n      <td>Active</td>\n      <td>0</td>\n      <td>0</td>\n    </tr>\n    <tr>\n      <th>5916746</th>\n      <td>2448283</td>\n      <td>226558</td>\n      <td>-49</td>\n      <td>6.0</td>\n      <td>2.0</td>\n      <td>Active</td>\n      <td>0</td>\n      <td>0</td>\n    </tr>\n    <tr>\n      <th>7696039</th>\n      <td>2448283</td>\n      <td>226558</td>\n      <td>-48</td>\n      <td>6.0</td>\n      <td>1.0</td>\n      <td>Active</td>\n      <td>0</td>\n      <td>0</td>\n    </tr>\n    <tr>\n      <th>5716028</th>\n      <td>2448283</td>\n      <td>226558</td>\n      <td>-47</td>\n      <td>6.0</td>\n      <td>0.0</td>\n      <td>Active</td>\n      <td>20</td>\n      <td>0</td>\n    </tr>\n    <tr>\n      <th>1782433</th>\n      <td>2448283</td>\n      <td>226558</td>\n      <td>-46</td>\n      <td>6.0</td>\n      <td>0.0</td>\n      <td>Active</td>\n      <td>50</td>\n      <td>0</td>\n    </tr>\n    <tr>\n      <th>7464551</th>\n      <td>2448283</td>\n      <td>226558</td>\n      <td>-45</td>\n      <td>6.0</td>\n      <td>0.0</td>\n      <td>Active</td>\n      <td>81</td>\n      <td>0</td>\n    </tr>\n    <tr>\n      <th>5744905</th>\n      <td>2448283</td>\n      <td>226558</td>\n      <td>-44</td>\n      <td>6.0</td>\n      <td>0.0</td>\n      <td>Active</td>\n      <td>112</td>\n      <td>0</td>\n    </tr>\n    <tr>\n      <th>7665796</th>\n      <td>2448283</td>\n      <td>226558</td>\n      <td>-43</td>\n      <td>6.0</td>\n      <td>0.0</td>\n      <td>Active</td>\n      <td>140</td>\n      <td>0</td>\n    </tr>\n    <tr>\n      <th>9753733</th>\n      <td>2448283</td>\n      <td>226558</td>\n      <td>-42</td>\n      <td>6.0</td>\n      <td>0.0</td>\n      <td>Active</td>\n      <td>171</td>\n      <td>0</td>\n    </tr>\n    <tr>\n      <th>9349071</th>\n      <td>2448283</td>\n      <td>226558</td>\n      <td>-41</td>\n      <td>6.0</td>\n      <td>0.0</td>\n      <td>Active</td>\n      <td>201</td>\n      <td>0</td>\n    </tr>\n    <tr>\n      <th>9972671</th>\n      <td>2448283</td>\n      <td>226558</td>\n      <td>-40</td>\n      <td>6.0</td>\n      <td>0.0</td>\n      <td>Active</td>\n      <td>232</td>\n      <td>0</td>\n    </tr>\n    <tr>\n      <th>9971312</th>\n      <td>2448283</td>\n      <td>226558</td>\n      <td>-39</td>\n      <td>6.0</td>\n      <td>0.0</td>\n      <td>Active</td>\n      <td>262</td>\n      <td>0</td>\n    </tr>\n    <tr>\n      <th>9977222</th>\n      <td>2448283</td>\n      <td>226558</td>\n      <td>-38</td>\n      <td>6.0</td>\n      <td>0.0</td>\n      <td>Active</td>\n      <td>293</td>\n      <td>0</td>\n    </tr>\n    <tr>\n      <th>9640885</th>\n      <td>2448283</td>\n      <td>226558</td>\n      <td>-37</td>\n      <td>6.0</td>\n      <td>0.0</td>\n      <td>Active</td>\n      <td>324</td>\n      <td>0</td>\n    </tr>\n    <tr>\n      <th>9976548</th>\n      <td>2448283</td>\n      <td>226558</td>\n      <td>-36</td>\n      <td>6.0</td>\n      <td>0.0</td>\n      <td>Active</td>\n      <td>354</td>\n      <td>0</td>\n    </tr>\n    <tr>\n      <th>9641722</th>\n      <td>2448283</td>\n      <td>226558</td>\n      <td>-35</td>\n      <td>6.0</td>\n      <td>0.0</td>\n      <td>Active</td>\n      <td>385</td>\n      <td>0</td>\n    </tr>\n    <tr>\n      <th>9976485</th>\n      <td>2448283</td>\n      <td>226558</td>\n      <td>-34</td>\n      <td>6.0</td>\n      <td>0.0</td>\n      <td>Active</td>\n      <td>415</td>\n      <td>0</td>\n    </tr>\n    <tr>\n      <th>9640744</th>\n      <td>2448283</td>\n      <td>226558</td>\n      <td>-33</td>\n      <td>6.0</td>\n      <td>0.0</td>\n      <td>Active</td>\n      <td>446</td>\n      <td>0</td>\n    </tr>\n    <tr>\n      <th>9975545</th>\n      <td>2448283</td>\n      <td>226558</td>\n      <td>-32</td>\n      <td>6.0</td>\n      <td>0.0</td>\n      <td>Active</td>\n      <td>477</td>\n      <td>0</td>\n    </tr>\n    <tr>\n      <th>9978376</th>\n      <td>2448283</td>\n      <td>226558</td>\n      <td>-31</td>\n      <td>6.0</td>\n      <td>0.0</td>\n      <td>Active</td>\n      <td>506</td>\n      <td>0</td>\n    </tr>\n    <tr>\n      <th>9975425</th>\n      <td>2448283</td>\n      <td>226558</td>\n      <td>-30</td>\n      <td>6.0</td>\n      <td>0.0</td>\n      <td>Active</td>\n      <td>537</td>\n      <td>0</td>\n    </tr>\n    <tr>\n      <th>8278903</th>\n      <td>2448283</td>\n      <td>226558</td>\n      <td>-29</td>\n      <td>6.0</td>\n      <td>0.0</td>\n      <td>Active</td>\n      <td>567</td>\n      <td>0</td>\n    </tr>\n    <tr>\n      <th>9996706</th>\n      <td>2448283</td>\n      <td>226558</td>\n      <td>-28</td>\n      <td>6.0</td>\n      <td>0.0</td>\n      <td>Active</td>\n      <td>598</td>\n      <td>0</td>\n    </tr>\n    <tr>\n      <th>9999717</th>\n      <td>2448283</td>\n      <td>226558</td>\n      <td>-27</td>\n      <td>6.0</td>\n      <td>0.0</td>\n      <td>Active</td>\n      <td>628</td>\n      <td>0</td>\n    </tr>\n    <tr>\n      <th>9999479</th>\n      <td>2448283</td>\n      <td>226558</td>\n      <td>-26</td>\n      <td>6.0</td>\n      <td>0.0</td>\n      <td>Active</td>\n      <td>659</td>\n      <td>0</td>\n    </tr>\n    <tr>\n      <th>8025184</th>\n      <td>2448283</td>\n      <td>226558</td>\n      <td>-25</td>\n      <td>6.0</td>\n      <td>0.0</td>\n      <td>Active</td>\n      <td>690</td>\n      <td>0</td>\n    </tr>\n    <tr>\n      <th>10000748</th>\n      <td>2448283</td>\n      <td>226558</td>\n      <td>-24</td>\n      <td>6.0</td>\n      <td>0.0</td>\n      <td>Active</td>\n      <td>720</td>\n      <td>0</td>\n    </tr>\n    <tr>\n      <th>10000714</th>\n      <td>2448283</td>\n      <td>226558</td>\n      <td>-23</td>\n      <td>6.0</td>\n      <td>0.0</td>\n      <td>Active</td>\n      <td>751</td>\n      <td>0</td>\n    </tr>\n    <tr>\n      <th>9999931</th>\n      <td>2448283</td>\n      <td>226558</td>\n      <td>-22</td>\n      <td>6.0</td>\n      <td>0.0</td>\n      <td>Active</td>\n      <td>781</td>\n      <td>0</td>\n    </tr>\n    <tr>\n      <th>9999294</th>\n      <td>2448283</td>\n      <td>226558</td>\n      <td>-21</td>\n      <td>6.0</td>\n      <td>0.0</td>\n      <td>Active</td>\n      <td>812</td>\n      <td>0</td>\n    </tr>\n    <tr>\n      <th>10001353</th>\n      <td>2448283</td>\n      <td>226558</td>\n      <td>-20</td>\n      <td>6.0</td>\n      <td>0.0</td>\n      <td>Active</td>\n      <td>843</td>\n      <td>0</td>\n    </tr>\n    <tr>\n      <th>10001316</th>\n      <td>2448283</td>\n      <td>226558</td>\n      <td>-19</td>\n      <td>6.0</td>\n      <td>0.0</td>\n      <td>Completed</td>\n      <td>0</td>\n      <td>0</td>\n    </tr>\n  </tbody>\n</table>\n</div>"
     },
     "metadata": {}
    }
   ],
   "execution_count": null
  },
  {
   "cell_type": "code",
   "metadata": {
    "tags": [],
    "cell_id": "00005-9187f9b2-a8b1-44d6-a6b8-09bc722630a5",
    "deepnote_to_be_reexecuted": false,
    "source_hash": "94a6de8c",
    "execution_start": 1632766882313,
    "execution_millis": 82,
    "deepnote_cell_type": "code"
   },
   "source": "pmts[pmts.SK_ID_PREV == ID].sort_values(\"NUM_INSTALMENT_NUMBER\")",
   "outputs": [
    {
     "output_type": "execute_result",
     "execution_count": 6,
     "data": {
      "application/vnd.deepnote.dataframe.v2+json": {
       "row_count": 7,
       "column_count": 8,
       "columns": [
        {
         "name": "SK_ID_PREV",
         "dtype": "int64",
         "stats": {
          "unique_count": 1,
          "nan_count": 0,
          "min": "2448283",
          "max": "2448283",
          "histogram": [
           {
            "bin_start": 2448282.5,
            "bin_end": 2448282.6,
            "count": 0
           },
           {
            "bin_start": 2448282.6,
            "bin_end": 2448282.7,
            "count": 0
           },
           {
            "bin_start": 2448282.7,
            "bin_end": 2448282.8,
            "count": 0
           },
           {
            "bin_start": 2448282.8,
            "bin_end": 2448282.9,
            "count": 0
           },
           {
            "bin_start": 2448282.9,
            "bin_end": 2448283,
            "count": 0
           },
           {
            "bin_start": 2448283,
            "bin_end": 2448283.1,
            "count": 7
           },
           {
            "bin_start": 2448283.1,
            "bin_end": 2448283.2,
            "count": 0
           },
           {
            "bin_start": 2448283.2,
            "bin_end": 2448283.3,
            "count": 0
           },
           {
            "bin_start": 2448283.3,
            "bin_end": 2448283.4,
            "count": 0
           },
           {
            "bin_start": 2448283.4,
            "bin_end": 2448283.5,
            "count": 0
           }
          ]
         }
        },
        {
         "name": "SK_ID_CURR",
         "dtype": "int64",
         "stats": {
          "unique_count": 1,
          "nan_count": 0,
          "min": "226558",
          "max": "226558",
          "histogram": [
           {
            "bin_start": 226557.5,
            "bin_end": 226557.6,
            "count": 0
           },
           {
            "bin_start": 226557.6,
            "bin_end": 226557.7,
            "count": 0
           },
           {
            "bin_start": 226557.7,
            "bin_end": 226557.8,
            "count": 0
           },
           {
            "bin_start": 226557.8,
            "bin_end": 226557.9,
            "count": 0
           },
           {
            "bin_start": 226557.9,
            "bin_end": 226558,
            "count": 0
           },
           {
            "bin_start": 226558,
            "bin_end": 226558.1,
            "count": 7
           },
           {
            "bin_start": 226558.1,
            "bin_end": 226558.2,
            "count": 0
           },
           {
            "bin_start": 226558.2,
            "bin_end": 226558.3,
            "count": 0
           },
           {
            "bin_start": 226558.3,
            "bin_end": 226558.4,
            "count": 0
           },
           {
            "bin_start": 226558.4,
            "bin_end": 226558.5,
            "count": 0
           }
          ]
         }
        },
        {
         "name": "NUM_INSTALMENT_VERSION",
         "dtype": "float64",
         "stats": {
          "unique_count": 1,
          "nan_count": 0,
          "min": "1.0",
          "max": "1.0",
          "histogram": [
           {
            "bin_start": 0.5,
            "bin_end": 0.6,
            "count": 0
           },
           {
            "bin_start": 0.6,
            "bin_end": 0.7,
            "count": 0
           },
           {
            "bin_start": 0.7,
            "bin_end": 0.8,
            "count": 0
           },
           {
            "bin_start": 0.8,
            "bin_end": 0.9,
            "count": 0
           },
           {
            "bin_start": 0.9,
            "bin_end": 1,
            "count": 0
           },
           {
            "bin_start": 1,
            "bin_end": 1.1,
            "count": 7
           },
           {
            "bin_start": 1.1,
            "bin_end": 1.2000000000000002,
            "count": 0
           },
           {
            "bin_start": 1.2000000000000002,
            "bin_end": 1.3,
            "count": 0
           },
           {
            "bin_start": 1.3,
            "bin_end": 1.4,
            "count": 0
           },
           {
            "bin_start": 1.4,
            "bin_end": 1.5,
            "count": 0
           }
          ]
         }
        },
        {
         "name": "NUM_INSTALMENT_NUMBER",
         "dtype": "int64",
         "stats": {
          "unique_count": 6,
          "nan_count": 0,
          "min": "1",
          "max": "6",
          "histogram": [
           {
            "bin_start": 1,
            "bin_end": 1.5,
            "count": 1
           },
           {
            "bin_start": 1.5,
            "bin_end": 2,
            "count": 0
           },
           {
            "bin_start": 2,
            "bin_end": 2.5,
            "count": 1
           },
           {
            "bin_start": 2.5,
            "bin_end": 3,
            "count": 0
           },
           {
            "bin_start": 3,
            "bin_end": 3.5,
            "count": 1
           },
           {
            "bin_start": 3.5,
            "bin_end": 4,
            "count": 0
           },
           {
            "bin_start": 4,
            "bin_end": 4.5,
            "count": 1
           },
           {
            "bin_start": 4.5,
            "bin_end": 5,
            "count": 0
           },
           {
            "bin_start": 5,
            "bin_end": 5.5,
            "count": 1
           },
           {
            "bin_start": 5.5,
            "bin_end": 6,
            "count": 2
           }
          ]
         }
        },
        {
         "name": "DAYS_INSTALMENT",
         "dtype": "float64",
         "stats": {
          "unique_count": 6,
          "nan_count": 0,
          "min": "-1593.0",
          "max": "-1443.0",
          "histogram": [
           {
            "bin_start": -1593,
            "bin_end": -1578,
            "count": 1
           },
           {
            "bin_start": -1578,
            "bin_end": -1563,
            "count": 0
           },
           {
            "bin_start": -1563,
            "bin_end": -1548,
            "count": 1
           },
           {
            "bin_start": -1548,
            "bin_end": -1533,
            "count": 0
           },
           {
            "bin_start": -1533,
            "bin_end": -1518,
            "count": 1
           },
           {
            "bin_start": -1518,
            "bin_end": -1503,
            "count": 0
           },
           {
            "bin_start": -1503,
            "bin_end": -1488,
            "count": 1
           },
           {
            "bin_start": -1488,
            "bin_end": -1473,
            "count": 0
           },
           {
            "bin_start": -1473,
            "bin_end": -1458,
            "count": 1
           },
           {
            "bin_start": -1458,
            "bin_end": -1443,
            "count": 2
           }
          ]
         }
        },
        {
         "name": "DAYS_ENTRY_PAYMENT",
         "dtype": "float64",
         "stats": {
          "unique_count": 7,
          "nan_count": 0,
          "min": "-1603.0",
          "max": "-581.0",
          "histogram": [
           {
            "bin_start": -1603,
            "bin_end": -1500.8,
            "count": 4
           },
           {
            "bin_start": -1500.8,
            "bin_end": -1398.6,
            "count": 2
           },
           {
            "bin_start": -1398.6,
            "bin_end": -1296.4,
            "count": 0
           },
           {
            "bin_start": -1296.4,
            "bin_end": -1194.2,
            "count": 0
           },
           {
            "bin_start": -1194.2,
            "bin_end": -1092,
            "count": 0
           },
           {
            "bin_start": -1092,
            "bin_end": -989.8,
            "count": 0
           },
           {
            "bin_start": -989.8,
            "bin_end": -887.6,
            "count": 0
           },
           {
            "bin_start": -887.6,
            "bin_end": -785.4,
            "count": 0
           },
           {
            "bin_start": -785.4,
            "bin_end": -683.1999999999999,
            "count": 0
           },
           {
            "bin_start": -683.1999999999999,
            "bin_end": -581,
            "count": 1
           }
          ]
         }
        },
        {
         "name": "AMT_INSTALMENT",
         "dtype": "float64",
         "stats": {
          "unique_count": 2,
          "nan_count": 0,
          "min": "3880.305",
          "max": "3885.66",
          "histogram": [
           {
            "bin_start": 3880.305,
            "bin_end": 3880.8405,
            "count": 5
           },
           {
            "bin_start": 3880.8405,
            "bin_end": 3881.3759999999997,
            "count": 0
           },
           {
            "bin_start": 3881.3759999999997,
            "bin_end": 3881.9114999999997,
            "count": 0
           },
           {
            "bin_start": 3881.9114999999997,
            "bin_end": 3882.4469999999997,
            "count": 0
           },
           {
            "bin_start": 3882.4469999999997,
            "bin_end": 3882.9825,
            "count": 0
           },
           {
            "bin_start": 3882.9825,
            "bin_end": 3883.518,
            "count": 0
           },
           {
            "bin_start": 3883.518,
            "bin_end": 3884.0535,
            "count": 0
           },
           {
            "bin_start": 3884.0535,
            "bin_end": 3884.589,
            "count": 0
           },
           {
            "bin_start": 3884.589,
            "bin_end": 3885.1245,
            "count": 0
           },
           {
            "bin_start": 3885.1245,
            "bin_end": 3885.66,
            "count": 2
           }
          ]
         }
        },
        {
         "name": "AMT_PAYMENT",
         "dtype": "float64",
         "stats": {
          "unique_count": 2,
          "nan_count": 0,
          "min": "5.355",
          "max": "3880.305",
          "histogram": [
           {
            "bin_start": 5.355,
            "bin_end": 392.85,
            "count": 1
           },
           {
            "bin_start": 392.85,
            "bin_end": 780.345,
            "count": 0
           },
           {
            "bin_start": 780.345,
            "bin_end": 1167.8400000000001,
            "count": 0
           },
           {
            "bin_start": 1167.8400000000001,
            "bin_end": 1555.335,
            "count": 0
           },
           {
            "bin_start": 1555.335,
            "bin_end": 1942.83,
            "count": 0
           },
           {
            "bin_start": 1942.83,
            "bin_end": 2330.3250000000003,
            "count": 0
           },
           {
            "bin_start": 2330.3250000000003,
            "bin_end": 2717.82,
            "count": 0
           },
           {
            "bin_start": 2717.82,
            "bin_end": 3105.315,
            "count": 0
           },
           {
            "bin_start": 3105.315,
            "bin_end": 3492.81,
            "count": 0
           },
           {
            "bin_start": 3492.81,
            "bin_end": 3880.305,
            "count": 6
           }
          ]
         }
        },
        {
         "name": "_deepnote_index_column",
         "dtype": "int64"
        }
       ],
       "rows_top": [
        {
         "SK_ID_PREV": 2448283,
         "SK_ID_CURR": 226558,
         "NUM_INSTALMENT_VERSION": 1,
         "NUM_INSTALMENT_NUMBER": 1,
         "DAYS_INSTALMENT": -1593,
         "DAYS_ENTRY_PAYMENT": -1603,
         "AMT_INSTALMENT": 3880.305,
         "AMT_PAYMENT": 3880.305,
         "_deepnote_index_column": 7488149
        },
        {
         "SK_ID_PREV": 2448283,
         "SK_ID_CURR": 226558,
         "NUM_INSTALMENT_VERSION": 1,
         "NUM_INSTALMENT_NUMBER": 2,
         "DAYS_INSTALMENT": -1563,
         "DAYS_ENTRY_PAYMENT": -1570,
         "AMT_INSTALMENT": 3880.305,
         "AMT_PAYMENT": 3880.305,
         "_deepnote_index_column": 6139045
        },
        {
         "SK_ID_PREV": 2448283,
         "SK_ID_CURR": 226558,
         "NUM_INSTALMENT_VERSION": 1,
         "NUM_INSTALMENT_NUMBER": 3,
         "DAYS_INSTALMENT": -1533,
         "DAYS_ENTRY_PAYMENT": -1535,
         "AMT_INSTALMENT": 3880.305,
         "AMT_PAYMENT": 3880.305,
         "_deepnote_index_column": 5710890
        },
        {
         "SK_ID_PREV": 2448283,
         "SK_ID_CURR": 226558,
         "NUM_INSTALMENT_VERSION": 1,
         "NUM_INSTALMENT_NUMBER": 4,
         "DAYS_INSTALMENT": -1503,
         "DAYS_ENTRY_PAYMENT": -1503,
         "AMT_INSTALMENT": 3880.305,
         "AMT_PAYMENT": 3880.305,
         "_deepnote_index_column": 4831186
        },
        {
         "SK_ID_PREV": 2448283,
         "SK_ID_CURR": 226558,
         "NUM_INSTALMENT_VERSION": 1,
         "NUM_INSTALMENT_NUMBER": 5,
         "DAYS_INSTALMENT": -1473,
         "DAYS_ENTRY_PAYMENT": -1472,
         "AMT_INSTALMENT": 3880.305,
         "AMT_PAYMENT": 3880.305,
         "_deepnote_index_column": 7362866
        },
        {
         "SK_ID_PREV": 2448283,
         "SK_ID_CURR": 226558,
         "NUM_INSTALMENT_VERSION": 1,
         "NUM_INSTALMENT_NUMBER": 6,
         "DAYS_INSTALMENT": -1443,
         "DAYS_ENTRY_PAYMENT": -1442,
         "AMT_INSTALMENT": 3885.66,
         "AMT_PAYMENT": 3880.305,
         "_deepnote_index_column": 6627705
        },
        {
         "SK_ID_PREV": 2448283,
         "SK_ID_CURR": 226558,
         "NUM_INSTALMENT_VERSION": 1,
         "NUM_INSTALMENT_NUMBER": 6,
         "DAYS_INSTALMENT": -1443,
         "DAYS_ENTRY_PAYMENT": -581,
         "AMT_INSTALMENT": 3885.66,
         "AMT_PAYMENT": 5.355,
         "_deepnote_index_column": 7130666
        }
       ],
       "rows_bottom": null
      },
      "text/plain": "         SK_ID_PREV  SK_ID_CURR  NUM_INSTALMENT_VERSION  \\\n7488149     2448283      226558                     1.0   \n6139045     2448283      226558                     1.0   \n5710890     2448283      226558                     1.0   \n4831186     2448283      226558                     1.0   \n7362866     2448283      226558                     1.0   \n6627705     2448283      226558                     1.0   \n7130666     2448283      226558                     1.0   \n\n         NUM_INSTALMENT_NUMBER  DAYS_INSTALMENT  DAYS_ENTRY_PAYMENT  \\\n7488149                      1          -1593.0             -1603.0   \n6139045                      2          -1563.0             -1570.0   \n5710890                      3          -1533.0             -1535.0   \n4831186                      4          -1503.0             -1503.0   \n7362866                      5          -1473.0             -1472.0   \n6627705                      6          -1443.0             -1442.0   \n7130666                      6          -1443.0              -581.0   \n\n         AMT_INSTALMENT  AMT_PAYMENT  \n7488149        3880.305     3880.305  \n6139045        3880.305     3880.305  \n5710890        3880.305     3880.305  \n4831186        3880.305     3880.305  \n7362866        3880.305     3880.305  \n6627705        3885.660     3880.305  \n7130666        3885.660        5.355  ",
      "text/html": "<div>\n<style scoped>\n    .dataframe tbody tr th:only-of-type {\n        vertical-align: middle;\n    }\n\n    .dataframe tbody tr th {\n        vertical-align: top;\n    }\n\n    .dataframe thead th {\n        text-align: right;\n    }\n</style>\n<table border=\"1\" class=\"dataframe\">\n  <thead>\n    <tr style=\"text-align: right;\">\n      <th></th>\n      <th>SK_ID_PREV</th>\n      <th>SK_ID_CURR</th>\n      <th>NUM_INSTALMENT_VERSION</th>\n      <th>NUM_INSTALMENT_NUMBER</th>\n      <th>DAYS_INSTALMENT</th>\n      <th>DAYS_ENTRY_PAYMENT</th>\n      <th>AMT_INSTALMENT</th>\n      <th>AMT_PAYMENT</th>\n    </tr>\n  </thead>\n  <tbody>\n    <tr>\n      <th>7488149</th>\n      <td>2448283</td>\n      <td>226558</td>\n      <td>1.0</td>\n      <td>1</td>\n      <td>-1593.0</td>\n      <td>-1603.0</td>\n      <td>3880.305</td>\n      <td>3880.305</td>\n    </tr>\n    <tr>\n      <th>6139045</th>\n      <td>2448283</td>\n      <td>226558</td>\n      <td>1.0</td>\n      <td>2</td>\n      <td>-1563.0</td>\n      <td>-1570.0</td>\n      <td>3880.305</td>\n      <td>3880.305</td>\n    </tr>\n    <tr>\n      <th>5710890</th>\n      <td>2448283</td>\n      <td>226558</td>\n      <td>1.0</td>\n      <td>3</td>\n      <td>-1533.0</td>\n      <td>-1535.0</td>\n      <td>3880.305</td>\n      <td>3880.305</td>\n    </tr>\n    <tr>\n      <th>4831186</th>\n      <td>2448283</td>\n      <td>226558</td>\n      <td>1.0</td>\n      <td>4</td>\n      <td>-1503.0</td>\n      <td>-1503.0</td>\n      <td>3880.305</td>\n      <td>3880.305</td>\n    </tr>\n    <tr>\n      <th>7362866</th>\n      <td>2448283</td>\n      <td>226558</td>\n      <td>1.0</td>\n      <td>5</td>\n      <td>-1473.0</td>\n      <td>-1472.0</td>\n      <td>3880.305</td>\n      <td>3880.305</td>\n    </tr>\n    <tr>\n      <th>6627705</th>\n      <td>2448283</td>\n      <td>226558</td>\n      <td>1.0</td>\n      <td>6</td>\n      <td>-1443.0</td>\n      <td>-1442.0</td>\n      <td>3885.660</td>\n      <td>3880.305</td>\n    </tr>\n    <tr>\n      <th>7130666</th>\n      <td>2448283</td>\n      <td>226558</td>\n      <td>1.0</td>\n      <td>6</td>\n      <td>-1443.0</td>\n      <td>-581.0</td>\n      <td>3885.660</td>\n      <td>5.355</td>\n    </tr>\n  </tbody>\n</table>\n</div>"
     },
     "metadata": {}
    }
   ],
   "execution_count": null
  },
  {
   "cell_type": "code",
   "metadata": {
    "tags": [],
    "cell_id": "00005-4de05c52-a76e-4fb3-a4a5-28ccacb1c974",
    "deepnote_to_be_reexecuted": false,
    "source_hash": "d3efb3d0",
    "execution_start": 1632766882384,
    "execution_millis": 11,
    "deepnote_cell_type": "code"
   },
   "source": "(True | False)",
   "outputs": [
    {
     "output_type": "execute_result",
     "execution_count": 7,
     "data": {
      "text/plain": "True"
     },
     "metadata": {}
    }
   ],
   "execution_count": null
  },
  {
   "cell_type": "code",
   "metadata": {
    "tags": [],
    "cell_id": "00005-6060a922-67a5-4dc0-a2a8-e9a640f3ed56",
    "deepnote_to_be_reexecuted": false,
    "source_hash": "b623e53d",
    "execution_start": 1632766882386,
    "execution_millis": 2,
    "deepnote_cell_type": "code"
   },
   "source": "",
   "outputs": [],
   "execution_count": null
  },
  {
   "cell_type": "markdown",
   "source": "<a style='text-decoration:none;line-height:16px;display:flex;color:#5B5B62;padding:10px;justify-content:end;' href='https://deepnote.com?utm_source=created-in-deepnote-cell&projectId=9263f292-ea73-48e7-8892-f3d3ed1db03c' target=\"_blank\">\n<img alt='Created in deepnote.com' style='display:inline;max-height:16px;margin:0px;margin-right:7.5px;' src='data:image/svg+xml;base64,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' > </img>\nCreated in <span style='font-weight:600;margin-left:4px;'>Deepnote</span></a>",
   "metadata": {
    "tags": [],
    "created_in_deepnote_cell": true,
    "deepnote_cell_type": "markdown"
   }
  }
 ],
 "nbformat": 4,
 "nbformat_minor": 2,
 "metadata": {
  "orig_nbformat": 2,
  "deepnote": {
   "is_reactive": false
  },
  "deepnote_notebook_id": "60a2e636-3edd-4a2d-a2e8-b14a8dea928e",
  "deepnote_execution_queue": []
 }
}
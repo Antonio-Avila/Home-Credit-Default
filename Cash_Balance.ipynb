{
 "cells": [
  {
   "cell_type": "markdown",
   "metadata": {
    "tags": [],
    "cell_id": "00000-f7892572-1ed9-4719-b946-0642a72c0f8b",
    "deepnote_cell_type": "markdown"
   },
   "source": "# Cash Balance of Loans",
   "execution_count": null
  },
  {
   "cell_type": "code",
   "source": "import pandas as pd\nimport numpy as np\nimport time\nimport scipy.stats as stats\nimport matplotlib.pyplot as plt\n%matplotlib inline\nplt.style.use(\"ggplot\")\nimport seaborn as sns\n\nimport pylab\npylab.rcParams['figure.figsize'] = (15, 10)",
   "metadata": {
    "tags": [],
    "cell_id": "00001-f29ec159-4034-40ca-b2bf-1dd7d664a2f2",
    "deepnote_to_be_reexecuted": false,
    "source_hash": "ff3ee64",
    "execution_start": 1632518782972,
    "execution_millis": 2030,
    "deepnote_cell_type": "code"
   },
   "outputs": [],
   "execution_count": 1
  },
  {
   "cell_type": "code",
   "source": "balance = pd.read_csv(\"POS_CASH_balance.csv\")\n# app_train = pd.read_csv(\"app_train_red.csv\", index_col=0)\nprev_apps = pd.read_csv(\"previous_application.csv\")\npmts = pd.read_csv(\"installments_payments.csv\")",
   "metadata": {
    "tags": [],
    "cell_id": "00001-239b55cd-007d-4079-8697-8c04a8c203fe",
    "deepnote_to_be_reexecuted": false,
    "source_hash": "8e656a4a",
    "execution_start": 1632518786492,
    "execution_millis": 25689,
    "deepnote_cell_type": "code"
   },
   "outputs": [],
   "execution_count": 2
  },
  {
   "cell_type": "code",
   "source": "balance",
   "metadata": {
    "tags": [],
    "cell_id": "00001-5165e95e-ed44-461b-9faa-5121449ae860",
    "deepnote_to_be_reexecuted": false,
    "source_hash": "1fe92a19",
    "execution_start": 1632518456657,
    "execution_millis": 483,
    "deepnote_cell_type": "code"
   },
   "outputs": [
    {
     "output_type": "execute_result",
     "execution_count": 3,
     "data": {
      "application/vnd.deepnote.dataframe.v2+json": {
       "row_count": 10001358,
       "column_count": 8,
       "columns": [
        {
         "name": "SK_ID_PREV",
         "dtype": "int64"
        },
        {
         "name": "SK_ID_CURR",
         "dtype": "int64"
        },
        {
         "name": "MONTHS_BALANCE",
         "dtype": "int64"
        },
        {
         "name": "CNT_INSTALMENT",
         "dtype": "float64"
        },
        {
         "name": "CNT_INSTALMENT_FUTURE",
         "dtype": "float64"
        },
        {
         "name": "NAME_CONTRACT_STATUS",
         "dtype": "object"
        },
        {
         "name": "SK_DPD",
         "dtype": "int64"
        },
        {
         "name": "SK_DPD_DEF",
         "dtype": "int64"
        },
        {
         "name": "_deepnote_index_column",
         "dtype": "int64"
        }
       ],
       "rows_top": [
        {
         "SK_ID_PREV": 1803195,
         "SK_ID_CURR": 182943,
         "MONTHS_BALANCE": -31,
         "CNT_INSTALMENT": 48,
         "CNT_INSTALMENT_FUTURE": 45,
         "NAME_CONTRACT_STATUS": "Active",
         "SK_DPD": 0,
         "SK_DPD_DEF": 0,
         "_deepnote_index_column": 0
        },
        {
         "SK_ID_PREV": 1715348,
         "SK_ID_CURR": 367990,
         "MONTHS_BALANCE": -33,
         "CNT_INSTALMENT": 36,
         "CNT_INSTALMENT_FUTURE": 35,
         "NAME_CONTRACT_STATUS": "Active",
         "SK_DPD": 0,
         "SK_DPD_DEF": 0,
         "_deepnote_index_column": 1
        },
        {
         "SK_ID_PREV": 1784872,
         "SK_ID_CURR": 397406,
         "MONTHS_BALANCE": -32,
         "CNT_INSTALMENT": 12,
         "CNT_INSTALMENT_FUTURE": 9,
         "NAME_CONTRACT_STATUS": "Active",
         "SK_DPD": 0,
         "SK_DPD_DEF": 0,
         "_deepnote_index_column": 2
        },
        {
         "SK_ID_PREV": 1903291,
         "SK_ID_CURR": 269225,
         "MONTHS_BALANCE": -35,
         "CNT_INSTALMENT": 48,
         "CNT_INSTALMENT_FUTURE": 42,
         "NAME_CONTRACT_STATUS": "Active",
         "SK_DPD": 0,
         "SK_DPD_DEF": 0,
         "_deepnote_index_column": 3
        },
        {
         "SK_ID_PREV": 2341044,
         "SK_ID_CURR": 334279,
         "MONTHS_BALANCE": -35,
         "CNT_INSTALMENT": 36,
         "CNT_INSTALMENT_FUTURE": 35,
         "NAME_CONTRACT_STATUS": "Active",
         "SK_DPD": 0,
         "SK_DPD_DEF": 0,
         "_deepnote_index_column": 4
        },
        {
         "SK_ID_PREV": 2207092,
         "SK_ID_CURR": 342166,
         "MONTHS_BALANCE": -32,
         "CNT_INSTALMENT": 12,
         "CNT_INSTALMENT_FUTURE": 12,
         "NAME_CONTRACT_STATUS": "Active",
         "SK_DPD": 0,
         "SK_DPD_DEF": 0,
         "_deepnote_index_column": 5
        },
        {
         "SK_ID_PREV": 1110516,
         "SK_ID_CURR": 204376,
         "MONTHS_BALANCE": -38,
         "CNT_INSTALMENT": 48,
         "CNT_INSTALMENT_FUTURE": 43,
         "NAME_CONTRACT_STATUS": "Active",
         "SK_DPD": 0,
         "SK_DPD_DEF": 0,
         "_deepnote_index_column": 6
        },
        {
         "SK_ID_PREV": 1387235,
         "SK_ID_CURR": 153211,
         "MONTHS_BALANCE": -35,
         "CNT_INSTALMENT": 36,
         "CNT_INSTALMENT_FUTURE": 36,
         "NAME_CONTRACT_STATUS": "Active",
         "SK_DPD": 0,
         "SK_DPD_DEF": 0,
         "_deepnote_index_column": 7
        },
        {
         "SK_ID_PREV": 1220500,
         "SK_ID_CURR": 112740,
         "MONTHS_BALANCE": -31,
         "CNT_INSTALMENT": 12,
         "CNT_INSTALMENT_FUTURE": 12,
         "NAME_CONTRACT_STATUS": "Active",
         "SK_DPD": 0,
         "SK_DPD_DEF": 0,
         "_deepnote_index_column": 8
        },
        {
         "SK_ID_PREV": 2371489,
         "SK_ID_CURR": 274851,
         "MONTHS_BALANCE": -32,
         "CNT_INSTALMENT": 24,
         "CNT_INSTALMENT_FUTURE": 16,
         "NAME_CONTRACT_STATUS": "Active",
         "SK_DPD": 0,
         "SK_DPD_DEF": 0,
         "_deepnote_index_column": 9
        },
        {
         "SK_ID_PREV": 2328294,
         "SK_ID_CURR": 287361,
         "MONTHS_BALANCE": -32,
         "CNT_INSTALMENT": 12,
         "CNT_INSTALMENT_FUTURE": 12,
         "NAME_CONTRACT_STATUS": "Active",
         "SK_DPD": 0,
         "SK_DPD_DEF": 0,
         "_deepnote_index_column": 10
        },
        {
         "SK_ID_PREV": 2023570,
         "SK_ID_CURR": 237959,
         "MONTHS_BALANCE": -39,
         "CNT_INSTALMENT": 12,
         "CNT_INSTALMENT_FUTURE": 12,
         "NAME_CONTRACT_STATUS": "Active",
         "SK_DPD": 0,
         "SK_DPD_DEF": 0,
         "_deepnote_index_column": 11
        },
        {
         "SK_ID_PREV": 1258390,
         "SK_ID_CURR": 278261,
         "MONTHS_BALANCE": -32,
         "CNT_INSTALMENT": 36,
         "CNT_INSTALMENT_FUTURE": 36,
         "NAME_CONTRACT_STATUS": "Active",
         "SK_DPD": 0,
         "SK_DPD_DEF": 0,
         "_deepnote_index_column": 12
        },
        {
         "SK_ID_PREV": 1627166,
         "SK_ID_CURR": 146161,
         "MONTHS_BALANCE": -33,
         "CNT_INSTALMENT": 24,
         "CNT_INSTALMENT_FUTURE": 24,
         "NAME_CONTRACT_STATUS": "Active",
         "SK_DPD": 0,
         "SK_DPD_DEF": 0,
         "_deepnote_index_column": 13
        },
        {
         "SK_ID_PREV": 1711625,
         "SK_ID_CURR": 131467,
         "MONTHS_BALANCE": -34,
         "CNT_INSTALMENT": 12,
         "CNT_INSTALMENT_FUTURE": 5,
         "NAME_CONTRACT_STATUS": "Active",
         "SK_DPD": 0,
         "SK_DPD_DEF": 0,
         "_deepnote_index_column": 14
        },
        {
         "SK_ID_PREV": 2374177,
         "SK_ID_CURR": 204722,
         "MONTHS_BALANCE": -35,
         "CNT_INSTALMENT": 24,
         "CNT_INSTALMENT_FUTURE": 15,
         "NAME_CONTRACT_STATUS": "Active",
         "SK_DPD": 0,
         "SK_DPD_DEF": 0,
         "_deepnote_index_column": 15
        },
        {
         "SK_ID_PREV": 1716688,
         "SK_ID_CURR": 405549,
         "MONTHS_BALANCE": -33,
         "CNT_INSTALMENT": 12,
         "CNT_INSTALMENT_FUTURE": 1,
         "NAME_CONTRACT_STATUS": "Active",
         "SK_DPD": 0,
         "SK_DPD_DEF": 0,
         "_deepnote_index_column": 16
        },
        {
         "SK_ID_PREV": 1846127,
         "SK_ID_CURR": 380050,
         "MONTHS_BALANCE": -31,
         "CNT_INSTALMENT": 36,
         "CNT_INSTALMENT_FUTURE": 28,
         "NAME_CONTRACT_STATUS": "Active",
         "SK_DPD": 0,
         "SK_DPD_DEF": 0,
         "_deepnote_index_column": 17
        },
        {
         "SK_ID_PREV": 1911764,
         "SK_ID_CURR": 312551,
         "MONTHS_BALANCE": -32,
         "CNT_INSTALMENT": 24,
         "CNT_INSTALMENT_FUTURE": 16,
         "NAME_CONTRACT_STATUS": "Active",
         "SK_DPD": 0,
         "SK_DPD_DEF": 0,
         "_deepnote_index_column": 18
        },
        {
         "SK_ID_PREV": 2645133,
         "SK_ID_CURR": 152810,
         "MONTHS_BALANCE": -35,
         "CNT_INSTALMENT": 24,
         "CNT_INSTALMENT_FUTURE": 23,
         "NAME_CONTRACT_STATUS": "Active",
         "SK_DPD": 0,
         "SK_DPD_DEF": 0,
         "_deepnote_index_column": 19
        },
        {
         "SK_ID_PREV": 1381005,
         "SK_ID_CURR": 195362,
         "MONTHS_BALANCE": -34,
         "CNT_INSTALMENT": 60,
         "CNT_INSTALMENT_FUTURE": 56,
         "NAME_CONTRACT_STATUS": "Active",
         "SK_DPD": 0,
         "SK_DPD_DEF": 0,
         "_deepnote_index_column": 20
        },
        {
         "SK_ID_PREV": 1366811,
         "SK_ID_CURR": 169489,
         "MONTHS_BALANCE": -38,
         "CNT_INSTALMENT": 24,
         "CNT_INSTALMENT_FUTURE": 24,
         "NAME_CONTRACT_STATUS": "Active",
         "SK_DPD": 0,
         "SK_DPD_DEF": 0,
         "_deepnote_index_column": 21
        },
        {
         "SK_ID_PREV": 1260621,
         "SK_ID_CURR": 244684,
         "MONTHS_BALANCE": -32,
         "CNT_INSTALMENT": 18,
         "CNT_INSTALMENT_FUTURE": 12,
         "NAME_CONTRACT_STATUS": "Active",
         "SK_DPD": 0,
         "SK_DPD_DEF": 0,
         "_deepnote_index_column": 22
        },
        {
         "SK_ID_PREV": 1445556,
         "SK_ID_CURR": 220181,
         "MONTHS_BALANCE": -41,
         "CNT_INSTALMENT": 12,
         "CNT_INSTALMENT_FUTURE": 12,
         "NAME_CONTRACT_STATUS": "Active",
         "SK_DPD": 0,
         "SK_DPD_DEF": 0,
         "_deepnote_index_column": 23
        },
        {
         "SK_ID_PREV": 1420240,
         "SK_ID_CURR": 386836,
         "MONTHS_BALANCE": -41,
         "CNT_INSTALMENT": 12,
         "CNT_INSTALMENT_FUTURE": 11,
         "NAME_CONTRACT_STATUS": "Active",
         "SK_DPD": 0,
         "SK_DPD_DEF": 0,
         "_deepnote_index_column": 24
        },
        {
         "SK_ID_PREV": 2631694,
         "SK_ID_CURR": 337149,
         "MONTHS_BALANCE": -33,
         "CNT_INSTALMENT": 12,
         "CNT_INSTALMENT_FUTURE": 11,
         "NAME_CONTRACT_STATUS": "Active",
         "SK_DPD": 0,
         "SK_DPD_DEF": 0,
         "_deepnote_index_column": 25
        },
        {
         "SK_ID_PREV": 1059679,
         "SK_ID_CURR": 139637,
         "MONTHS_BALANCE": -31,
         "CNT_INSTALMENT": 12,
         "CNT_INSTALMENT_FUTURE": 12,
         "NAME_CONTRACT_STATUS": "Active",
         "SK_DPD": 0,
         "SK_DPD_DEF": 0,
         "_deepnote_index_column": 26
        },
        {
         "SK_ID_PREV": 1865970,
         "SK_ID_CURR": 202091,
         "MONTHS_BALANCE": -35,
         "CNT_INSTALMENT": 12,
         "CNT_INSTALMENT_FUTURE": 7,
         "NAME_CONTRACT_STATUS": "Active",
         "SK_DPD": 0,
         "SK_DPD_DEF": 0,
         "_deepnote_index_column": 27
        },
        {
         "SK_ID_PREV": 2683316,
         "SK_ID_CURR": 454237,
         "MONTHS_BALANCE": -32,
         "CNT_INSTALMENT": 18,
         "CNT_INSTALMENT_FUTURE": 15,
         "NAME_CONTRACT_STATUS": "Active",
         "SK_DPD": 0,
         "SK_DPD_DEF": 0,
         "_deepnote_index_column": 28
        },
        {
         "SK_ID_PREV": 2759941,
         "SK_ID_CURR": 428330,
         "MONTHS_BALANCE": -32,
         "CNT_INSTALMENT": 18,
         "CNT_INSTALMENT_FUTURE": 18,
         "NAME_CONTRACT_STATUS": "Active",
         "SK_DPD": 0,
         "SK_DPD_DEF": 0,
         "_deepnote_index_column": 29
        },
        {
         "SK_ID_PREV": 2090361,
         "SK_ID_CURR": 336201,
         "MONTHS_BALANCE": -35,
         "CNT_INSTALMENT": 12,
         "CNT_INSTALMENT_FUTURE": 12,
         "NAME_CONTRACT_STATUS": "Active",
         "SK_DPD": 0,
         "SK_DPD_DEF": 0,
         "_deepnote_index_column": 30
        },
        {
         "SK_ID_PREV": 1463929,
         "SK_ID_CURR": 108990,
         "MONTHS_BALANCE": -41,
         "CNT_INSTALMENT": 12,
         "CNT_INSTALMENT_FUTURE": 12,
         "NAME_CONTRACT_STATUS": "Active",
         "SK_DPD": 0,
         "SK_DPD_DEF": 0,
         "_deepnote_index_column": 31
        },
        {
         "SK_ID_PREV": 2504959,
         "SK_ID_CURR": 122511,
         "MONTHS_BALANCE": -34,
         "CNT_INSTALMENT": 36,
         "CNT_INSTALMENT_FUTURE": 35,
         "NAME_CONTRACT_STATUS": "Active",
         "SK_DPD": 0,
         "SK_DPD_DEF": 0,
         "_deepnote_index_column": 32
        },
        {
         "SK_ID_PREV": 1873885,
         "SK_ID_CURR": 148915,
         "MONTHS_BALANCE": -31,
         "CNT_INSTALMENT": 24,
         "CNT_INSTALMENT_FUTURE": 23,
         "NAME_CONTRACT_STATUS": "Active",
         "SK_DPD": 0,
         "SK_DPD_DEF": 0,
         "_deepnote_index_column": 33
        },
        {
         "SK_ID_PREV": 1050971,
         "SK_ID_CURR": 220814,
         "MONTHS_BALANCE": -33,
         "CNT_INSTALMENT": 18,
         "CNT_INSTALMENT_FUTURE": 12,
         "NAME_CONTRACT_STATUS": "Active",
         "SK_DPD": 0,
         "SK_DPD_DEF": 0,
         "_deepnote_index_column": 34
        },
        {
         "SK_ID_PREV": 2701303,
         "SK_ID_CURR": 109846,
         "MONTHS_BALANCE": -33,
         "CNT_INSTALMENT": 18,
         "CNT_INSTALMENT_FUTURE": 12,
         "NAME_CONTRACT_STATUS": "Active",
         "SK_DPD": 0,
         "SK_DPD_DEF": 0,
         "_deepnote_index_column": 35
        },
        {
         "SK_ID_PREV": 2246356,
         "SK_ID_CURR": 331357,
         "MONTHS_BALANCE": -35,
         "CNT_INSTALMENT": 36,
         "CNT_INSTALMENT_FUTURE": 35,
         "NAME_CONTRACT_STATUS": "Active",
         "SK_DPD": 0,
         "SK_DPD_DEF": 0,
         "_deepnote_index_column": 36
        },
        {
         "SK_ID_PREV": 1519906,
         "SK_ID_CURR": 122077,
         "MONTHS_BALANCE": -39,
         "CNT_INSTALMENT": 24,
         "CNT_INSTALMENT_FUTURE": 11,
         "NAME_CONTRACT_STATUS": "Active",
         "SK_DPD": 0,
         "SK_DPD_DEF": 0,
         "_deepnote_index_column": 37
        },
        {
         "SK_ID_PREV": 2465534,
         "SK_ID_CURR": 266721,
         "MONTHS_BALANCE": -35,
         "CNT_INSTALMENT": 18,
         "CNT_INSTALMENT_FUTURE": 17,
         "NAME_CONTRACT_STATUS": "Active",
         "SK_DPD": 0,
         "SK_DPD_DEF": 0,
         "_deepnote_index_column": 38
        },
        {
         "SK_ID_PREV": 2833264,
         "SK_ID_CURR": 429694,
         "MONTHS_BALANCE": -37,
         "CNT_INSTALMENT": 60,
         "CNT_INSTALMENT_FUTURE": 46,
         "NAME_CONTRACT_STATUS": "Active",
         "SK_DPD": 0,
         "SK_DPD_DEF": 0,
         "_deepnote_index_column": 39
        },
        {
         "SK_ID_PREV": 2397883,
         "SK_ID_CURR": 223795,
         "MONTHS_BALANCE": -31,
         "CNT_INSTALMENT": 12,
         "CNT_INSTALMENT_FUTURE": 7,
         "NAME_CONTRACT_STATUS": "Active",
         "SK_DPD": 0,
         "SK_DPD_DEF": 0,
         "_deepnote_index_column": 40
        },
        {
         "SK_ID_PREV": 1010305,
         "SK_ID_CURR": 338532,
         "MONTHS_BALANCE": -39,
         "CNT_INSTALMENT": 24,
         "CNT_INSTALMENT_FUTURE": 21,
         "NAME_CONTRACT_STATUS": "Active",
         "SK_DPD": 0,
         "SK_DPD_DEF": 0,
         "_deepnote_index_column": 41
        },
        {
         "SK_ID_PREV": 1298869,
         "SK_ID_CURR": 210084,
         "MONTHS_BALANCE": -41,
         "CNT_INSTALMENT": 48,
         "CNT_INSTALMENT_FUTURE": 0,
         "NAME_CONTRACT_STATUS": "Completed",
         "SK_DPD": 0,
         "SK_DPD_DEF": 0,
         "_deepnote_index_column": 42
        },
        {
         "SK_ID_PREV": 1557122,
         "SK_ID_CURR": 420239,
         "MONTHS_BALANCE": -38,
         "CNT_INSTALMENT": 24,
         "CNT_INSTALMENT_FUTURE": 4,
         "NAME_CONTRACT_STATUS": "Active",
         "SK_DPD": 0,
         "SK_DPD_DEF": 0,
         "_deepnote_index_column": 43
        },
        {
         "SK_ID_PREV": 1891208,
         "SK_ID_CURR": 164877,
         "MONTHS_BALANCE": -34,
         "CNT_INSTALMENT": 48,
         "CNT_INSTALMENT_FUTURE": 42,
         "NAME_CONTRACT_STATUS": "Active",
         "SK_DPD": 0,
         "SK_DPD_DEF": 0,
         "_deepnote_index_column": 44
        },
        {
         "SK_ID_PREV": 1443121,
         "SK_ID_CURR": 370945,
         "MONTHS_BALANCE": -33,
         "CNT_INSTALMENT": 24,
         "CNT_INSTALMENT_FUTURE": 24,
         "NAME_CONTRACT_STATUS": "Active",
         "SK_DPD": 0,
         "SK_DPD_DEF": 0,
         "_deepnote_index_column": 45
        },
        {
         "SK_ID_PREV": 1894403,
         "SK_ID_CURR": 266542,
         "MONTHS_BALANCE": -37,
         "CNT_INSTALMENT": 48,
         "CNT_INSTALMENT_FUTURE": 40,
         "NAME_CONTRACT_STATUS": "Active",
         "SK_DPD": 0,
         "SK_DPD_DEF": 0,
         "_deepnote_index_column": 46
        },
        {
         "SK_ID_PREV": 2027470,
         "SK_ID_CURR": 391768,
         "MONTHS_BALANCE": -41,
         "CNT_INSTALMENT": 48,
         "CNT_INSTALMENT_FUTURE": 40,
         "NAME_CONTRACT_STATUS": "Active",
         "SK_DPD": 0,
         "SK_DPD_DEF": 0,
         "_deepnote_index_column": 47
        },
        {
         "SK_ID_PREV": 2294245,
         "SK_ID_CURR": 426454,
         "MONTHS_BALANCE": -38,
         "CNT_INSTALMENT": 12,
         "CNT_INSTALMENT_FUTURE": 5,
         "NAME_CONTRACT_STATUS": "Active",
         "SK_DPD": 0,
         "SK_DPD_DEF": 0,
         "_deepnote_index_column": 48
        },
        {
         "SK_ID_PREV": 1799734,
         "SK_ID_CURR": 344436,
         "MONTHS_BALANCE": -32,
         "CNT_INSTALMENT": 48,
         "CNT_INSTALMENT_FUTURE": 46,
         "NAME_CONTRACT_STATUS": "Active",
         "SK_DPD": 0,
         "SK_DPD_DEF": 0,
         "_deepnote_index_column": 49
        },
        {
         "SK_ID_PREV": 1099860,
         "SK_ID_CURR": 184062,
         "MONTHS_BALANCE": -31,
         "CNT_INSTALMENT": 36,
         "CNT_INSTALMENT_FUTURE": 32,
         "NAME_CONTRACT_STATUS": "Active",
         "SK_DPD": 0,
         "SK_DPD_DEF": 0,
         "_deepnote_index_column": 50
        },
        {
         "SK_ID_PREV": 2165412,
         "SK_ID_CURR": 239703,
         "MONTHS_BALANCE": -35,
         "CNT_INSTALMENT": 12,
         "CNT_INSTALMENT_FUTURE": 12,
         "NAME_CONTRACT_STATUS": "Signed",
         "SK_DPD": 0,
         "SK_DPD_DEF": 0,
         "_deepnote_index_column": 51
        },
        {
         "SK_ID_PREV": 1955907,
         "SK_ID_CURR": 134432,
         "MONTHS_BALANCE": -34,
         "CNT_INSTALMENT": 4,
         "CNT_INSTALMENT_FUTURE": 0,
         "NAME_CONTRACT_STATUS": "Completed",
         "SK_DPD": 0,
         "SK_DPD_DEF": 0,
         "_deepnote_index_column": 52
        },
        {
         "SK_ID_PREV": 1189925,
         "SK_ID_CURR": 445620,
         "MONTHS_BALANCE": -31,
         "CNT_INSTALMENT": 12,
         "CNT_INSTALMENT_FUTURE": 12,
         "NAME_CONTRACT_STATUS": "Active",
         "SK_DPD": 0,
         "SK_DPD_DEF": 0,
         "_deepnote_index_column": 53
        },
        {
         "SK_ID_PREV": 1288860,
         "SK_ID_CURR": 220431,
         "MONTHS_BALANCE": -40,
         "CNT_INSTALMENT": 18,
         "CNT_INSTALMENT_FUTURE": 17,
         "NAME_CONTRACT_STATUS": "Active",
         "SK_DPD": 0,
         "SK_DPD_DEF": 0,
         "_deepnote_index_column": 54
        },
        {
         "SK_ID_PREV": 2287226,
         "SK_ID_CURR": 224318,
         "MONTHS_BALANCE": -37,
         "CNT_INSTALMENT": 24,
         "CNT_INSTALMENT_FUTURE": 19,
         "NAME_CONTRACT_STATUS": "Active",
         "SK_DPD": 0,
         "SK_DPD_DEF": 0,
         "_deepnote_index_column": 55
        },
        {
         "SK_ID_PREV": 1367593,
         "SK_ID_CURR": 336653,
         "MONTHS_BALANCE": -31,
         "CNT_INSTALMENT": 18,
         "CNT_INSTALMENT_FUTURE": 18,
         "NAME_CONTRACT_STATUS": "Signed",
         "SK_DPD": 0,
         "SK_DPD_DEF": 0,
         "_deepnote_index_column": 56
        },
        {
         "SK_ID_PREV": 2738262,
         "SK_ID_CURR": 207514,
         "MONTHS_BALANCE": -33,
         "CNT_INSTALMENT": 12,
         "CNT_INSTALMENT_FUTURE": 12,
         "NAME_CONTRACT_STATUS": "Active",
         "SK_DPD": 0,
         "SK_DPD_DEF": 0,
         "_deepnote_index_column": 57
        },
        {
         "SK_ID_PREV": 1206782,
         "SK_ID_CURR": 380743,
         "MONTHS_BALANCE": -38,
         "CNT_INSTALMENT": 12,
         "CNT_INSTALMENT_FUTURE": 12,
         "NAME_CONTRACT_STATUS": "Active",
         "SK_DPD": 0,
         "SK_DPD_DEF": 0,
         "_deepnote_index_column": 58
        },
        {
         "SK_ID_PREV": 1928156,
         "SK_ID_CURR": 212022,
         "MONTHS_BALANCE": -33,
         "CNT_INSTALMENT": 24,
         "CNT_INSTALMENT_FUTURE": 19,
         "NAME_CONTRACT_STATUS": "Active",
         "SK_DPD": 0,
         "SK_DPD_DEF": 0,
         "_deepnote_index_column": 59
        },
        {
         "SK_ID_PREV": 1681892,
         "SK_ID_CURR": 208441,
         "MONTHS_BALANCE": -34,
         "CNT_INSTALMENT": 48,
         "CNT_INSTALMENT_FUTURE": 1,
         "NAME_CONTRACT_STATUS": "Active",
         "SK_DPD": 0,
         "SK_DPD_DEF": 0,
         "_deepnote_index_column": 60
        },
        {
         "SK_ID_PREV": 1395250,
         "SK_ID_CURR": 439255,
         "MONTHS_BALANCE": -41,
         "CNT_INSTALMENT": 42,
         "CNT_INSTALMENT_FUTURE": 40,
         "NAME_CONTRACT_STATUS": "Active",
         "SK_DPD": 0,
         "SK_DPD_DEF": 0,
         "_deepnote_index_column": 61
        }
       ],
       "rows_bottom": [
        {
         "SK_ID_PREV": 2305826,
         "SK_ID_CURR": 356195,
         "MONTHS_BALANCE": -17,
         "CNT_INSTALMENT": 12,
         "CNT_INSTALMENT_FUTURE": 0,
         "NAME_CONTRACT_STATUS": "Active",
         "SK_DPD": 835,
         "SK_DPD_DEF": 0,
         "_deepnote_index_column": 10001295
        },
        {
         "SK_ID_PREV": 1074985,
         "SK_ID_CURR": 433445,
         "MONTHS_BALANCE": -21,
         "CNT_INSTALMENT": 12,
         "CNT_INSTALMENT_FUTURE": 0,
         "NAME_CONTRACT_STATUS": "Active",
         "SK_DPD": 0,
         "SK_DPD_DEF": 0,
         "_deepnote_index_column": 10001296
        },
        {
         "SK_ID_PREV": 1214793,
         "SK_ID_CURR": 292180,
         "MONTHS_BALANCE": -20,
         "CNT_INSTALMENT": 12,
         "CNT_INSTALMENT_FUTURE": 0,
         "NAME_CONTRACT_STATUS": "Active",
         "SK_DPD": 881,
         "SK_DPD_DEF": 0,
         "_deepnote_index_column": 10001297
        },
        {
         "SK_ID_PREV": 1086035,
         "SK_ID_CURR": 102784,
         "MONTHS_BALANCE": -25,
         "CNT_INSTALMENT": 24,
         "CNT_INSTALMENT_FUTURE": 0,
         "NAME_CONTRACT_STATUS": "Active",
         "SK_DPD": 685,
         "SK_DPD_DEF": 0,
         "_deepnote_index_column": 10001298
        },
        {
         "SK_ID_PREV": 1641388,
         "SK_ID_CURR": 165586,
         "MONTHS_BALANCE": -18,
         "CNT_INSTALMENT": 10,
         "CNT_INSTALMENT_FUTURE": 0,
         "NAME_CONTRACT_STATUS": "Active",
         "SK_DPD": 1094,
         "SK_DPD_DEF": 0,
         "_deepnote_index_column": 10001299
        },
        {
         "SK_ID_PREV": 1816071,
         "SK_ID_CURR": 383432,
         "MONTHS_BALANCE": -22,
         "CNT_INSTALMENT": 6,
         "CNT_INSTALMENT_FUTURE": 0,
         "NAME_CONTRACT_STATUS": "Signed",
         "SK_DPD": 0,
         "SK_DPD_DEF": 0,
         "_deepnote_index_column": 10001300
        },
        {
         "SK_ID_PREV": 2275842,
         "SK_ID_CURR": 293579,
         "MONTHS_BALANCE": -19,
         "CNT_INSTALMENT": 6,
         "CNT_INSTALMENT_FUTURE": 0,
         "NAME_CONTRACT_STATUS": "Signed",
         "SK_DPD": 0,
         "SK_DPD_DEF": 0,
         "_deepnote_index_column": 10001301
        },
        {
         "SK_ID_PREV": 1413755,
         "SK_ID_CURR": 233660,
         "MONTHS_BALANCE": -18,
         "CNT_INSTALMENT": 24,
         "CNT_INSTALMENT_FUTURE": 0,
         "NAME_CONTRACT_STATUS": "Signed",
         "SK_DPD": 0,
         "SK_DPD_DEF": 0,
         "_deepnote_index_column": 10001302
        },
        {
         "SK_ID_PREV": 1773550,
         "SK_ID_CURR": 412155,
         "MONTHS_BALANCE": -17,
         "CNT_INSTALMENT": 6,
         "CNT_INSTALMENT_FUTURE": 0,
         "NAME_CONTRACT_STATUS": "Signed",
         "SK_DPD": 0,
         "SK_DPD_DEF": 0,
         "_deepnote_index_column": 10001303
        },
        {
         "SK_ID_PREV": 1013514,
         "SK_ID_CURR": 305218,
         "MONTHS_BALANCE": -26,
         "CNT_INSTALMENT": 16,
         "CNT_INSTALMENT_FUTURE": 0,
         "NAME_CONTRACT_STATUS": "Signed",
         "SK_DPD": 0,
         "SK_DPD_DEF": 0,
         "_deepnote_index_column": 10001304
        },
        {
         "SK_ID_PREV": 1609165,
         "SK_ID_CURR": 370184,
         "MONTHS_BALANCE": -20,
         "CNT_INSTALMENT": 15,
         "CNT_INSTALMENT_FUTURE": 0,
         "NAME_CONTRACT_STATUS": "Signed",
         "SK_DPD": 0,
         "SK_DPD_DEF": 0,
         "_deepnote_index_column": 10001305
        },
        {
         "SK_ID_PREV": 2210119,
         "SK_ID_CURR": 381218,
         "MONTHS_BALANCE": -21,
         "CNT_INSTALMENT": 12,
         "CNT_INSTALMENT_FUTURE": 0,
         "NAME_CONTRACT_STATUS": "Active",
         "SK_DPD": 1047,
         "SK_DPD_DEF": 0,
         "_deepnote_index_column": 10001306
        },
        {
         "SK_ID_PREV": 1731058,
         "SK_ID_CURR": 165525,
         "MONTHS_BALANCE": -19,
         "CNT_INSTALMENT": 6,
         "CNT_INSTALMENT_FUTURE": 0,
         "NAME_CONTRACT_STATUS": "Completed",
         "SK_DPD": 0,
         "SK_DPD_DEF": 0,
         "_deepnote_index_column": 10001307
        },
        {
         "SK_ID_PREV": 1900633,
         "SK_ID_CURR": 301125,
         "MONTHS_BALANCE": -26,
         "CNT_INSTALMENT": 12,
         "CNT_INSTALMENT_FUTURE": 0,
         "NAME_CONTRACT_STATUS": "Active",
         "SK_DPD": 0,
         "SK_DPD_DEF": 0,
         "_deepnote_index_column": 10001308
        },
        {
         "SK_ID_PREV": 1517022,
         "SK_ID_CURR": 146669,
         "MONTHS_BALANCE": -24,
         "CNT_INSTALMENT": 6,
         "CNT_INSTALMENT_FUTURE": 0,
         "NAME_CONTRACT_STATUS": "Active",
         "SK_DPD": 0,
         "SK_DPD_DEF": 0,
         "_deepnote_index_column": 10001309
        },
        {
         "SK_ID_PREV": 1605274,
         "SK_ID_CURR": 100987,
         "MONTHS_BALANCE": -27,
         "CNT_INSTALMENT": 6,
         "CNT_INSTALMENT_FUTURE": 0,
         "NAME_CONTRACT_STATUS": "Active",
         "SK_DPD": 0,
         "SK_DPD_DEF": 0,
         "_deepnote_index_column": 10001310
        },
        {
         "SK_ID_PREV": 2080968,
         "SK_ID_CURR": 218438,
         "MONTHS_BALANCE": -22,
         "CNT_INSTALMENT": 12,
         "CNT_INSTALMENT_FUTURE": 0,
         "NAME_CONTRACT_STATUS": "Active",
         "SK_DPD": 680,
         "SK_DPD_DEF": 0,
         "_deepnote_index_column": 10001311
        },
        {
         "SK_ID_PREV": 2356545,
         "SK_ID_CURR": 124833,
         "MONTHS_BALANCE": -19,
         "CNT_INSTALMENT": 6,
         "CNT_INSTALMENT_FUTURE": 0,
         "NAME_CONTRACT_STATUS": "Active",
         "SK_DPD": 886,
         "SK_DPD_DEF": 0,
         "_deepnote_index_column": 10001312
        },
        {
         "SK_ID_PREV": 1976894,
         "SK_ID_CURR": 147364,
         "MONTHS_BALANCE": -28,
         "CNT_INSTALMENT": 6,
         "CNT_INSTALMENT_FUTURE": 0,
         "NAME_CONTRACT_STATUS": "Active",
         "SK_DPD": 887,
         "SK_DPD_DEF": 0,
         "_deepnote_index_column": 10001313
        },
        {
         "SK_ID_PREV": 1301296,
         "SK_ID_CURR": 317062,
         "MONTHS_BALANCE": -19,
         "CNT_INSTALMENT": 10,
         "CNT_INSTALMENT_FUTURE": 0,
         "NAME_CONTRACT_STATUS": "Active",
         "SK_DPD": 740,
         "SK_DPD_DEF": 0,
         "_deepnote_index_column": 10001314
        },
        {
         "SK_ID_PREV": 2639809,
         "SK_ID_CURR": 288279,
         "MONTHS_BALANCE": -24,
         "CNT_INSTALMENT": 6,
         "CNT_INSTALMENT_FUTURE": 0,
         "NAME_CONTRACT_STATUS": "Active",
         "SK_DPD": 953,
         "SK_DPD_DEF": 0,
         "_deepnote_index_column": 10001315
        },
        {
         "SK_ID_PREV": 2448283,
         "SK_ID_CURR": 226558,
         "MONTHS_BALANCE": -19,
         "CNT_INSTALMENT": 6,
         "CNT_INSTALMENT_FUTURE": 0,
         "NAME_CONTRACT_STATUS": "Completed",
         "SK_DPD": 0,
         "SK_DPD_DEF": 0,
         "_deepnote_index_column": 10001316
        },
        {
         "SK_ID_PREV": 2340692,
         "SK_ID_CURR": 104125,
         "MONTHS_BALANCE": -23,
         "CNT_INSTALMENT": 6,
         "CNT_INSTALMENT_FUTURE": 0,
         "NAME_CONTRACT_STATUS": "Active",
         "SK_DPD": 972,
         "SK_DPD_DEF": 0,
         "_deepnote_index_column": 10001317
        },
        {
         "SK_ID_PREV": 2234984,
         "SK_ID_CURR": 191559,
         "MONTHS_BALANCE": -21,
         "CNT_INSTALMENT": 6,
         "CNT_INSTALMENT_FUTURE": 0,
         "NAME_CONTRACT_STATUS": "Active",
         "SK_DPD": 825,
         "SK_DPD_DEF": 0,
         "_deepnote_index_column": 10001318
        },
        {
         "SK_ID_PREV": 1082516,
         "SK_ID_CURR": 450255,
         "MONTHS_BALANCE": -21,
         "CNT_INSTALMENT": 12,
         "CNT_INSTALMENT_FUTURE": 0,
         "NAME_CONTRACT_STATUS": "Active",
         "SK_DPD": 642,
         "SK_DPD_DEF": 0,
         "_deepnote_index_column": 10001319
        },
        {
         "SK_ID_PREV": 1283126,
         "SK_ID_CURR": 315695,
         "MONTHS_BALANCE": -20,
         "CNT_INSTALMENT": 10,
         "CNT_INSTALMENT_FUTURE": 0,
         "NAME_CONTRACT_STATUS": "Active",
         "SK_DPD": 637,
         "SK_DPD_DEF": 0,
         "_deepnote_index_column": 10001320
        },
        {
         "SK_ID_PREV": 2291899,
         "SK_ID_CURR": 245255,
         "MONTHS_BALANCE": -18,
         "CNT_INSTALMENT": 12,
         "CNT_INSTALMENT_FUTURE": 0,
         "NAME_CONTRACT_STATUS": "Active",
         "SK_DPD": 642,
         "SK_DPD_DEF": 0,
         "_deepnote_index_column": 10001321
        },
        {
         "SK_ID_PREV": 2070694,
         "SK_ID_CURR": 377136,
         "MONTHS_BALANCE": -21,
         "CNT_INSTALMENT": 6,
         "CNT_INSTALMENT_FUTURE": 0,
         "NAME_CONTRACT_STATUS": "Active",
         "SK_DPD": 0,
         "SK_DPD_DEF": 0,
         "_deepnote_index_column": 10001322
        },
        {
         "SK_ID_PREV": 1798328,
         "SK_ID_CURR": 138871,
         "MONTHS_BALANCE": -27,
         "CNT_INSTALMENT": 6,
         "CNT_INSTALMENT_FUTURE": 0,
         "NAME_CONTRACT_STATUS": "Active",
         "SK_DPD": 947,
         "SK_DPD_DEF": 0,
         "_deepnote_index_column": 10001323
        },
        {
         "SK_ID_PREV": 1522999,
         "SK_ID_CURR": 385297,
         "MONTHS_BALANCE": -20,
         "CNT_INSTALMENT": 12,
         "CNT_INSTALMENT_FUTURE": 0,
         "NAME_CONTRACT_STATUS": "Active",
         "SK_DPD": 0,
         "SK_DPD_DEF": 0,
         "_deepnote_index_column": 10001324
        },
        {
         "SK_ID_PREV": 1369464,
         "SK_ID_CURR": 415697,
         "MONTHS_BALANCE": -25,
         "CNT_INSTALMENT": 24,
         "CNT_INSTALMENT_FUTURE": 0,
         "NAME_CONTRACT_STATUS": "Active",
         "SK_DPD": 320,
         "SK_DPD_DEF": 0,
         "_deepnote_index_column": 10001325
        },
        {
         "SK_ID_PREV": 1405736,
         "SK_ID_CURR": 180980,
         "MONTHS_BALANCE": -22,
         "CNT_INSTALMENT": 6,
         "CNT_INSTALMENT_FUTURE": 0,
         "NAME_CONTRACT_STATUS": "Active",
         "SK_DPD": 856,
         "SK_DPD_DEF": 0,
         "_deepnote_index_column": 10001326
        },
        {
         "SK_ID_PREV": 2762564,
         "SK_ID_CURR": 146490,
         "MONTHS_BALANCE": -20,
         "CNT_INSTALMENT": 12,
         "CNT_INSTALMENT_FUTURE": 0,
         "NAME_CONTRACT_STATUS": "Active",
         "SK_DPD": 629,
         "SK_DPD_DEF": 0,
         "_deepnote_index_column": 10001327
        },
        {
         "SK_ID_PREV": 2256531,
         "SK_ID_CURR": 422685,
         "MONTHS_BALANCE": -20,
         "CNT_INSTALMENT": 6,
         "CNT_INSTALMENT_FUTURE": 0,
         "NAME_CONTRACT_STATUS": "Active",
         "SK_DPD": 0,
         "SK_DPD_DEF": 0,
         "_deepnote_index_column": 10001328
        },
        {
         "SK_ID_PREV": 1540335,
         "SK_ID_CURR": 104779,
         "MONTHS_BALANCE": -27,
         "CNT_INSTALMENT": 6,
         "CNT_INSTALMENT_FUTURE": 0,
         "NAME_CONTRACT_STATUS": "Active",
         "SK_DPD": 0,
         "SK_DPD_DEF": 0,
         "_deepnote_index_column": 10001329
        },
        {
         "SK_ID_PREV": 1717234,
         "SK_ID_CURR": 141565,
         "MONTHS_BALANCE": -18,
         "CNT_INSTALMENT": 12,
         "CNT_INSTALMENT_FUTURE": 0,
         "NAME_CONTRACT_STATUS": "Active",
         "SK_DPD": 630,
         "SK_DPD_DEF": 0,
         "_deepnote_index_column": 10001330
        },
        {
         "SK_ID_PREV": 2476257,
         "SK_ID_CURR": 210494,
         "MONTHS_BALANCE": -18,
         "CNT_INSTALMENT": 6,
         "CNT_INSTALMENT_FUTURE": 0,
         "NAME_CONTRACT_STATUS": "Active",
         "SK_DPD": 0,
         "SK_DPD_DEF": 0,
         "_deepnote_index_column": 10001331
        },
        {
         "SK_ID_PREV": 2700641,
         "SK_ID_CURR": 448867,
         "MONTHS_BALANCE": -18,
         "CNT_INSTALMENT": 6,
         "CNT_INSTALMENT_FUTURE": 0,
         "NAME_CONTRACT_STATUS": "Active",
         "SK_DPD": 871,
         "SK_DPD_DEF": 0,
         "_deepnote_index_column": 10001332
        },
        {
         "SK_ID_PREV": 2715817,
         "SK_ID_CURR": 417692,
         "MONTHS_BALANCE": -18,
         "CNT_INSTALMENT": 6,
         "CNT_INSTALMENT_FUTURE": 0,
         "NAME_CONTRACT_STATUS": "Active",
         "SK_DPD": 948,
         "SK_DPD_DEF": 0,
         "_deepnote_index_column": 10001333
        },
        {
         "SK_ID_PREV": 2149359,
         "SK_ID_CURR": 305835,
         "MONTHS_BALANCE": -19,
         "CNT_INSTALMENT": 12,
         "CNT_INSTALMENT_FUTURE": 0,
         "NAME_CONTRACT_STATUS": "Active",
         "SK_DPD": 903,
         "SK_DPD_DEF": 0,
         "_deepnote_index_column": 10001334
        },
        {
         "SK_ID_PREV": 1074985,
         "SK_ID_CURR": 433445,
         "MONTHS_BALANCE": -22,
         "CNT_INSTALMENT": 12,
         "CNT_INSTALMENT_FUTURE": 0,
         "NAME_CONTRACT_STATUS": "Active",
         "SK_DPD": 0,
         "SK_DPD_DEF": 0,
         "_deepnote_index_column": 10001335
        },
        {
         "SK_ID_PREV": 1214793,
         "SK_ID_CURR": 292180,
         "MONTHS_BALANCE": -21,
         "CNT_INSTALMENT": 12,
         "CNT_INSTALMENT_FUTURE": 0,
         "NAME_CONTRACT_STATUS": "Active",
         "SK_DPD": 850,
         "SK_DPD_DEF": 0,
         "_deepnote_index_column": 10001336
        },
        {
         "SK_ID_PREV": 2305826,
         "SK_ID_CURR": 356195,
         "MONTHS_BALANCE": -18,
         "CNT_INSTALMENT": 12,
         "CNT_INSTALMENT_FUTURE": 0,
         "NAME_CONTRACT_STATUS": "Active",
         "SK_DPD": 804,
         "SK_DPD_DEF": 0,
         "_deepnote_index_column": 10001337
        },
        {
         "SK_ID_PREV": 1013514,
         "SK_ID_CURR": 305218,
         "MONTHS_BALANCE": -27,
         "CNT_INSTALMENT": 16,
         "CNT_INSTALMENT_FUTURE": 0,
         "NAME_CONTRACT_STATUS": "Signed",
         "SK_DPD": 0,
         "SK_DPD_DEF": 0,
         "_deepnote_index_column": 10001338
        },
        {
         "SK_ID_PREV": 1609165,
         "SK_ID_CURR": 370184,
         "MONTHS_BALANCE": -21,
         "CNT_INSTALMENT": 15,
         "CNT_INSTALMENT_FUTURE": 0,
         "NAME_CONTRACT_STATUS": "Signed",
         "SK_DPD": 0,
         "SK_DPD_DEF": 0,
         "_deepnote_index_column": 10001339
        },
        {
         "SK_ID_PREV": 1413755,
         "SK_ID_CURR": 233660,
         "MONTHS_BALANCE": -19,
         "CNT_INSTALMENT": 24,
         "CNT_INSTALMENT_FUTURE": 0,
         "NAME_CONTRACT_STATUS": "Signed",
         "SK_DPD": 0,
         "SK_DPD_DEF": 0,
         "_deepnote_index_column": 10001340
        },
        {
         "SK_ID_PREV": 2275842,
         "SK_ID_CURR": 293579,
         "MONTHS_BALANCE": -20,
         "CNT_INSTALMENT": 6,
         "CNT_INSTALMENT_FUTURE": 0,
         "NAME_CONTRACT_STATUS": "Signed",
         "SK_DPD": 0,
         "SK_DPD_DEF": 0,
         "_deepnote_index_column": 10001341
        },
        {
         "SK_ID_PREV": 1641388,
         "SK_ID_CURR": 165586,
         "MONTHS_BALANCE": -19,
         "CNT_INSTALMENT": 10,
         "CNT_INSTALMENT_FUTURE": 0,
         "NAME_CONTRACT_STATUS": "Active",
         "SK_DPD": 1063,
         "SK_DPD_DEF": 0,
         "_deepnote_index_column": 10001342
        },
        {
         "SK_ID_PREV": 1816071,
         "SK_ID_CURR": 383432,
         "MONTHS_BALANCE": -23,
         "CNT_INSTALMENT": 6,
         "CNT_INSTALMENT_FUTURE": 0,
         "NAME_CONTRACT_STATUS": "Signed",
         "SK_DPD": 0,
         "SK_DPD_DEF": 0,
         "_deepnote_index_column": 10001343
        },
        {
         "SK_ID_PREV": 1086035,
         "SK_ID_CURR": 102784,
         "MONTHS_BALANCE": -26,
         "CNT_INSTALMENT": 24,
         "CNT_INSTALMENT_FUTURE": 0,
         "NAME_CONTRACT_STATUS": "Active",
         "SK_DPD": 654,
         "SK_DPD_DEF": 0,
         "_deepnote_index_column": 10001344
        },
        {
         "SK_ID_PREV": 1773550,
         "SK_ID_CURR": 412155,
         "MONTHS_BALANCE": -18,
         "CNT_INSTALMENT": 6,
         "CNT_INSTALMENT_FUTURE": 0,
         "NAME_CONTRACT_STATUS": "Signed",
         "SK_DPD": 0,
         "SK_DPD_DEF": 0,
         "_deepnote_index_column": 10001345
        },
        {
         "SK_ID_PREV": 2210119,
         "SK_ID_CURR": 381218,
         "MONTHS_BALANCE": -22,
         "CNT_INSTALMENT": 12,
         "CNT_INSTALMENT_FUTURE": 0,
         "NAME_CONTRACT_STATUS": "Active",
         "SK_DPD": 1016,
         "SK_DPD_DEF": 0,
         "_deepnote_index_column": 10001346
        },
        {
         "SK_ID_PREV": 1522999,
         "SK_ID_CURR": 385297,
         "MONTHS_BALANCE": -21,
         "CNT_INSTALMENT": 12,
         "CNT_INSTALMENT_FUTURE": 0,
         "NAME_CONTRACT_STATUS": "Active",
         "SK_DPD": 0,
         "SK_DPD_DEF": 0,
         "_deepnote_index_column": 10001347
        },
        {
         "SK_ID_PREV": 2234984,
         "SK_ID_CURR": 191559,
         "MONTHS_BALANCE": -22,
         "CNT_INSTALMENT": 6,
         "CNT_INSTALMENT_FUTURE": 0,
         "NAME_CONTRACT_STATUS": "Active",
         "SK_DPD": 797,
         "SK_DPD_DEF": 0,
         "_deepnote_index_column": 10001348
        },
        {
         "SK_ID_PREV": 2340692,
         "SK_ID_CURR": 104125,
         "MONTHS_BALANCE": -24,
         "CNT_INSTALMENT": 6,
         "CNT_INSTALMENT_FUTURE": 0,
         "NAME_CONTRACT_STATUS": "Active",
         "SK_DPD": 944,
         "SK_DPD_DEF": 0,
         "_deepnote_index_column": 10001349
        },
        {
         "SK_ID_PREV": 2593362,
         "SK_ID_CURR": 198894,
         "MONTHS_BALANCE": -20,
         "CNT_INSTALMENT": 12,
         "CNT_INSTALMENT_FUTURE": 0,
         "NAME_CONTRACT_STATUS": "Completed",
         "SK_DPD": 0,
         "SK_DPD_DEF": 0,
         "_deepnote_index_column": 10001350
        },
        {
         "SK_ID_PREV": 2639809,
         "SK_ID_CURR": 288279,
         "MONTHS_BALANCE": -25,
         "CNT_INSTALMENT": 6,
         "CNT_INSTALMENT_FUTURE": 0,
         "NAME_CONTRACT_STATUS": "Active",
         "SK_DPD": 925,
         "SK_DPD_DEF": 0,
         "_deepnote_index_column": 10001351
        },
        {
         "SK_ID_PREV": 2700641,
         "SK_ID_CURR": 448867,
         "MONTHS_BALANCE": -19,
         "CNT_INSTALMENT": 6,
         "CNT_INSTALMENT_FUTURE": 0,
         "NAME_CONTRACT_STATUS": "Active",
         "SK_DPD": 843,
         "SK_DPD_DEF": 0,
         "_deepnote_index_column": 10001352
        },
        {
         "SK_ID_PREV": 2448283,
         "SK_ID_CURR": 226558,
         "MONTHS_BALANCE": -20,
         "CNT_INSTALMENT": 6,
         "CNT_INSTALMENT_FUTURE": 0,
         "NAME_CONTRACT_STATUS": "Active",
         "SK_DPD": 843,
         "SK_DPD_DEF": 0,
         "_deepnote_index_column": 10001353
        },
        {
         "SK_ID_PREV": 1717234,
         "SK_ID_CURR": 141565,
         "MONTHS_BALANCE": -19,
         "CNT_INSTALMENT": 12,
         "CNT_INSTALMENT_FUTURE": 0,
         "NAME_CONTRACT_STATUS": "Active",
         "SK_DPD": 602,
         "SK_DPD_DEF": 0,
         "_deepnote_index_column": 10001354
        },
        {
         "SK_ID_PREV": 1283126,
         "SK_ID_CURR": 315695,
         "MONTHS_BALANCE": -21,
         "CNT_INSTALMENT": 10,
         "CNT_INSTALMENT_FUTURE": 0,
         "NAME_CONTRACT_STATUS": "Active",
         "SK_DPD": 609,
         "SK_DPD_DEF": 0,
         "_deepnote_index_column": 10001355
        },
        {
         "SK_ID_PREV": 1082516,
         "SK_ID_CURR": 450255,
         "MONTHS_BALANCE": -22,
         "CNT_INSTALMENT": 12,
         "CNT_INSTALMENT_FUTURE": 0,
         "NAME_CONTRACT_STATUS": "Active",
         "SK_DPD": 614,
         "SK_DPD_DEF": 0,
         "_deepnote_index_column": 10001356
        },
        {
         "SK_ID_PREV": 1259607,
         "SK_ID_CURR": 174278,
         "MONTHS_BALANCE": -52,
         "CNT_INSTALMENT": 16,
         "CNT_INSTALMENT_FUTURE": 0,
         "NAME_CONTRACT_STATUS": "Completed",
         "SK_DPD": 0,
         "SK_DPD_DEF": 0,
         "_deepnote_index_column": 10001357
        }
       ]
      },
      "text/plain": "          SK_ID_PREV  SK_ID_CURR  MONTHS_BALANCE  CNT_INSTALMENT  \\\n0            1803195      182943             -31            48.0   \n1            1715348      367990             -33            36.0   \n2            1784872      397406             -32            12.0   \n3            1903291      269225             -35            48.0   \n4            2341044      334279             -35            36.0   \n...              ...         ...             ...             ...   \n10001353     2448283      226558             -20             6.0   \n10001354     1717234      141565             -19            12.0   \n10001355     1283126      315695             -21            10.0   \n10001356     1082516      450255             -22            12.0   \n10001357     1259607      174278             -52            16.0   \n\n          CNT_INSTALMENT_FUTURE NAME_CONTRACT_STATUS  SK_DPD  SK_DPD_DEF  \n0                          45.0               Active       0           0  \n1                          35.0               Active       0           0  \n2                           9.0               Active       0           0  \n3                          42.0               Active       0           0  \n4                          35.0               Active       0           0  \n...                         ...                  ...     ...         ...  \n10001353                    0.0               Active     843           0  \n10001354                    0.0               Active     602           0  \n10001355                    0.0               Active     609           0  \n10001356                    0.0               Active     614           0  \n10001357                    0.0            Completed       0           0  \n\n[10001358 rows x 8 columns]",
      "text/html": "<div>\n<style scoped>\n    .dataframe tbody tr th:only-of-type {\n        vertical-align: middle;\n    }\n\n    .dataframe tbody tr th {\n        vertical-align: top;\n    }\n\n    .dataframe thead th {\n        text-align: right;\n    }\n</style>\n<table border=\"1\" class=\"dataframe\">\n  <thead>\n    <tr style=\"text-align: right;\">\n      <th></th>\n      <th>SK_ID_PREV</th>\n      <th>SK_ID_CURR</th>\n      <th>MONTHS_BALANCE</th>\n      <th>CNT_INSTALMENT</th>\n      <th>CNT_INSTALMENT_FUTURE</th>\n      <th>NAME_CONTRACT_STATUS</th>\n      <th>SK_DPD</th>\n      <th>SK_DPD_DEF</th>\n    </tr>\n  </thead>\n  <tbody>\n    <tr>\n      <th>0</th>\n      <td>1803195</td>\n      <td>182943</td>\n      <td>-31</td>\n      <td>48.0</td>\n      <td>45.0</td>\n      <td>Active</td>\n      <td>0</td>\n      <td>0</td>\n    </tr>\n    <tr>\n      <th>1</th>\n      <td>1715348</td>\n      <td>367990</td>\n      <td>-33</td>\n      <td>36.0</td>\n      <td>35.0</td>\n      <td>Active</td>\n      <td>0</td>\n      <td>0</td>\n    </tr>\n    <tr>\n      <th>2</th>\n      <td>1784872</td>\n      <td>397406</td>\n      <td>-32</td>\n      <td>12.0</td>\n      <td>9.0</td>\n      <td>Active</td>\n      <td>0</td>\n      <td>0</td>\n    </tr>\n    <tr>\n      <th>3</th>\n      <td>1903291</td>\n      <td>269225</td>\n      <td>-35</td>\n      <td>48.0</td>\n      <td>42.0</td>\n      <td>Active</td>\n      <td>0</td>\n      <td>0</td>\n    </tr>\n    <tr>\n      <th>4</th>\n      <td>2341044</td>\n      <td>334279</td>\n      <td>-35</td>\n      <td>36.0</td>\n      <td>35.0</td>\n      <td>Active</td>\n      <td>0</td>\n      <td>0</td>\n    </tr>\n    <tr>\n      <th>...</th>\n      <td>...</td>\n      <td>...</td>\n      <td>...</td>\n      <td>...</td>\n      <td>...</td>\n      <td>...</td>\n      <td>...</td>\n      <td>...</td>\n    </tr>\n    <tr>\n      <th>10001353</th>\n      <td>2448283</td>\n      <td>226558</td>\n      <td>-20</td>\n      <td>6.0</td>\n      <td>0.0</td>\n      <td>Active</td>\n      <td>843</td>\n      <td>0</td>\n    </tr>\n    <tr>\n      <th>10001354</th>\n      <td>1717234</td>\n      <td>141565</td>\n      <td>-19</td>\n      <td>12.0</td>\n      <td>0.0</td>\n      <td>Active</td>\n      <td>602</td>\n      <td>0</td>\n    </tr>\n    <tr>\n      <th>10001355</th>\n      <td>1283126</td>\n      <td>315695</td>\n      <td>-21</td>\n      <td>10.0</td>\n      <td>0.0</td>\n      <td>Active</td>\n      <td>609</td>\n      <td>0</td>\n    </tr>\n    <tr>\n      <th>10001356</th>\n      <td>1082516</td>\n      <td>450255</td>\n      <td>-22</td>\n      <td>12.0</td>\n      <td>0.0</td>\n      <td>Active</td>\n      <td>614</td>\n      <td>0</td>\n    </tr>\n    <tr>\n      <th>10001357</th>\n      <td>1259607</td>\n      <td>174278</td>\n      <td>-52</td>\n      <td>16.0</td>\n      <td>0.0</td>\n      <td>Completed</td>\n      <td>0</td>\n      <td>0</td>\n    </tr>\n  </tbody>\n</table>\n<p>10001358 rows × 8 columns</p>\n</div>"
     },
     "metadata": {}
    }
   ],
   "execution_count": null
  },
  {
   "cell_type": "markdown",
   "source": "# Notes\n- Can use dataset to determine how many days late the payments were, but should also be able to do the from the data containing the payments since it has the \"date\" the installment was supposed to be made and the \"date\" the payments were actually made\n    - trying to see how they relate to each other\n- Can definitely check to see if they have an open loan or finished paying the loan.",
   "metadata": {
    "tags": [],
    "cell_id": "00004-bb7729c1-215c-428c-ae0a-eb61bdb488d5",
    "deepnote_cell_type": "markdown"
   },
   "outputs": [],
   "execution_count": null
  },
  {
   "cell_type": "code",
   "source": "ID = 1717234\n\nprev_apps[prev_apps.SK_ID_PREV == ID]",
   "metadata": {
    "tags": [],
    "cell_id": "00005-87fb8de1-f360-4a56-a6e4-3a1aa0e6208c",
    "deepnote_to_be_reexecuted": false,
    "source_hash": "3934e528",
    "execution_start": 1632519227864,
    "execution_millis": 112,
    "deepnote_cell_type": "code"
   },
   "outputs": [
    {
     "output_type": "execute_result",
     "execution_count": 10,
     "data": {
      "application/vnd.deepnote.dataframe.v2+json": {
       "row_count": 1,
       "column_count": 37,
       "columns": [
        {
         "name": "SK_ID_PREV",
         "dtype": "int64",
         "stats": {
          "unique_count": 1,
          "nan_count": 0,
          "min": "1717234",
          "max": "1717234",
          "histogram": [
           {
            "bin_start": 1717233.5,
            "bin_end": 1717233.6,
            "count": 0
           },
           {
            "bin_start": 1717233.6,
            "bin_end": 1717233.7,
            "count": 0
           },
           {
            "bin_start": 1717233.7,
            "bin_end": 1717233.8,
            "count": 0
           },
           {
            "bin_start": 1717233.8,
            "bin_end": 1717233.9,
            "count": 0
           },
           {
            "bin_start": 1717233.9,
            "bin_end": 1717234,
            "count": 0
           },
           {
            "bin_start": 1717234,
            "bin_end": 1717234.1,
            "count": 1
           },
           {
            "bin_start": 1717234.1,
            "bin_end": 1717234.2,
            "count": 0
           },
           {
            "bin_start": 1717234.2,
            "bin_end": 1717234.3,
            "count": 0
           },
           {
            "bin_start": 1717234.3,
            "bin_end": 1717234.4,
            "count": 0
           },
           {
            "bin_start": 1717234.4,
            "bin_end": 1717234.5,
            "count": 0
           }
          ]
         }
        },
        {
         "name": "SK_ID_CURR",
         "dtype": "int64",
         "stats": {
          "unique_count": 1,
          "nan_count": 0,
          "min": "141565",
          "max": "141565",
          "histogram": [
           {
            "bin_start": 141564.5,
            "bin_end": 141564.6,
            "count": 0
           },
           {
            "bin_start": 141564.6,
            "bin_end": 141564.7,
            "count": 0
           },
           {
            "bin_start": 141564.7,
            "bin_end": 141564.8,
            "count": 0
           },
           {
            "bin_start": 141564.8,
            "bin_end": 141564.9,
            "count": 0
           },
           {
            "bin_start": 141564.9,
            "bin_end": 141565,
            "count": 0
           },
           {
            "bin_start": 141565,
            "bin_end": 141565.1,
            "count": 1
           },
           {
            "bin_start": 141565.1,
            "bin_end": 141565.2,
            "count": 0
           },
           {
            "bin_start": 141565.2,
            "bin_end": 141565.3,
            "count": 0
           },
           {
            "bin_start": 141565.3,
            "bin_end": 141565.4,
            "count": 0
           },
           {
            "bin_start": 141565.4,
            "bin_end": 141565.5,
            "count": 0
           }
          ]
         }
        },
        {
         "name": "NAME_CONTRACT_TYPE",
         "dtype": "object",
         "stats": {
          "unique_count": 1,
          "nan_count": 0,
          "categories": [
           {
            "name": "Consumer loans",
            "count": 1
           }
          ]
         }
        },
        {
         "name": "AMT_ANNUITY",
         "dtype": "float64",
         "stats": {
          "unique_count": 1,
          "nan_count": 0,
          "min": "4042.89",
          "max": "4042.89",
          "histogram": [
           {
            "bin_start": 4042.39,
            "bin_end": 4042.49,
            "count": 0
           },
           {
            "bin_start": 4042.49,
            "bin_end": 4042.5899999999997,
            "count": 0
           },
           {
            "bin_start": 4042.5899999999997,
            "bin_end": 4042.69,
            "count": 0
           },
           {
            "bin_start": 4042.69,
            "bin_end": 4042.79,
            "count": 0
           },
           {
            "bin_start": 4042.79,
            "bin_end": 4042.89,
            "count": 0
           },
           {
            "bin_start": 4042.89,
            "bin_end": 4042.99,
            "count": 1
           },
           {
            "bin_start": 4042.99,
            "bin_end": 4043.0899999999997,
            "count": 0
           },
           {
            "bin_start": 4043.0899999999997,
            "bin_end": 4043.19,
            "count": 0
           },
           {
            "bin_start": 4043.19,
            "bin_end": 4043.29,
            "count": 0
           },
           {
            "bin_start": 4043.29,
            "bin_end": 4043.39,
            "count": 0
           }
          ]
         }
        },
        {
         "name": "AMT_APPLICATION",
         "dtype": "float64",
         "stats": {
          "unique_count": 1,
          "nan_count": 0,
          "min": "34110.0",
          "max": "34110.0",
          "histogram": [
           {
            "bin_start": 34109.5,
            "bin_end": 34109.6,
            "count": 0
           },
           {
            "bin_start": 34109.6,
            "bin_end": 34109.7,
            "count": 0
           },
           {
            "bin_start": 34109.7,
            "bin_end": 34109.8,
            "count": 0
           },
           {
            "bin_start": 34109.8,
            "bin_end": 34109.9,
            "count": 0
           },
           {
            "bin_start": 34109.9,
            "bin_end": 34110,
            "count": 0
           },
           {
            "bin_start": 34110,
            "bin_end": 34110.1,
            "count": 1
           },
           {
            "bin_start": 34110.1,
            "bin_end": 34110.2,
            "count": 0
           },
           {
            "bin_start": 34110.2,
            "bin_end": 34110.3,
            "count": 0
           },
           {
            "bin_start": 34110.3,
            "bin_end": 34110.4,
            "count": 0
           },
           {
            "bin_start": 34110.4,
            "bin_end": 34110.5,
            "count": 0
           }
          ]
         }
        },
        {
         "name": "AMT_CREDIT",
         "dtype": "float64",
         "stats": {
          "unique_count": 1,
          "nan_count": 0,
          "min": "33727.5",
          "max": "33727.5",
          "histogram": [
           {
            "bin_start": 33727,
            "bin_end": 33727.1,
            "count": 0
           },
           {
            "bin_start": 33727.1,
            "bin_end": 33727.2,
            "count": 0
           },
           {
            "bin_start": 33727.2,
            "bin_end": 33727.3,
            "count": 0
           },
           {
            "bin_start": 33727.3,
            "bin_end": 33727.4,
            "count": 0
           },
           {
            "bin_start": 33727.4,
            "bin_end": 33727.5,
            "count": 0
           },
           {
            "bin_start": 33727.5,
            "bin_end": 33727.6,
            "count": 1
           },
           {
            "bin_start": 33727.6,
            "bin_end": 33727.7,
            "count": 0
           },
           {
            "bin_start": 33727.7,
            "bin_end": 33727.8,
            "count": 0
           },
           {
            "bin_start": 33727.8,
            "bin_end": 33727.9,
            "count": 0
           },
           {
            "bin_start": 33727.9,
            "bin_end": 33728,
            "count": 0
           }
          ]
         }
        },
        {
         "name": "AMT_DOWN_PAYMENT",
         "dtype": "float64",
         "stats": {
          "unique_count": 1,
          "nan_count": 0,
          "min": "3420.0",
          "max": "3420.0",
          "histogram": [
           {
            "bin_start": 3419.5,
            "bin_end": 3419.6,
            "count": 0
           },
           {
            "bin_start": 3419.6,
            "bin_end": 3419.7,
            "count": 0
           },
           {
            "bin_start": 3419.7,
            "bin_end": 3419.8,
            "count": 0
           },
           {
            "bin_start": 3419.8,
            "bin_end": 3419.9,
            "count": 0
           },
           {
            "bin_start": 3419.9,
            "bin_end": 3420,
            "count": 0
           },
           {
            "bin_start": 3420,
            "bin_end": 3420.1,
            "count": 1
           },
           {
            "bin_start": 3420.1,
            "bin_end": 3420.2,
            "count": 0
           },
           {
            "bin_start": 3420.2,
            "bin_end": 3420.3,
            "count": 0
           },
           {
            "bin_start": 3420.3,
            "bin_end": 3420.4,
            "count": 0
           },
           {
            "bin_start": 3420.4,
            "bin_end": 3420.5,
            "count": 0
           }
          ]
         }
        },
        {
         "name": "AMT_GOODS_PRICE",
         "dtype": "float64",
         "stats": {
          "unique_count": 1,
          "nan_count": 0,
          "min": "34110.0",
          "max": "34110.0",
          "histogram": [
           {
            "bin_start": 34109.5,
            "bin_end": 34109.6,
            "count": 0
           },
           {
            "bin_start": 34109.6,
            "bin_end": 34109.7,
            "count": 0
           },
           {
            "bin_start": 34109.7,
            "bin_end": 34109.8,
            "count": 0
           },
           {
            "bin_start": 34109.8,
            "bin_end": 34109.9,
            "count": 0
           },
           {
            "bin_start": 34109.9,
            "bin_end": 34110,
            "count": 0
           },
           {
            "bin_start": 34110,
            "bin_end": 34110.1,
            "count": 1
           },
           {
            "bin_start": 34110.1,
            "bin_end": 34110.2,
            "count": 0
           },
           {
            "bin_start": 34110.2,
            "bin_end": 34110.3,
            "count": 0
           },
           {
            "bin_start": 34110.3,
            "bin_end": 34110.4,
            "count": 0
           },
           {
            "bin_start": 34110.4,
            "bin_end": 34110.5,
            "count": 0
           }
          ]
         }
        },
        {
         "name": "WEEKDAY_APPR_PROCESS_START",
         "dtype": "object",
         "stats": {
          "unique_count": 1,
          "nan_count": 0,
          "categories": [
           {
            "name": "MONDAY",
            "count": 1
           }
          ]
         }
        },
        {
         "name": "HOUR_APPR_PROCESS_START",
         "dtype": "int64",
         "stats": {
          "unique_count": 1,
          "nan_count": 0,
          "min": "16",
          "max": "16",
          "histogram": [
           {
            "bin_start": 15.5,
            "bin_end": 15.6,
            "count": 0
           },
           {
            "bin_start": 15.6,
            "bin_end": 15.7,
            "count": 0
           },
           {
            "bin_start": 15.7,
            "bin_end": 15.8,
            "count": 0
           },
           {
            "bin_start": 15.8,
            "bin_end": 15.9,
            "count": 0
           },
           {
            "bin_start": 15.9,
            "bin_end": 16,
            "count": 0
           },
           {
            "bin_start": 16,
            "bin_end": 16.1,
            "count": 1
           },
           {
            "bin_start": 16.1,
            "bin_end": 16.2,
            "count": 0
           },
           {
            "bin_start": 16.2,
            "bin_end": 16.3,
            "count": 0
           },
           {
            "bin_start": 16.3,
            "bin_end": 16.4,
            "count": 0
           },
           {
            "bin_start": 16.4,
            "bin_end": 16.5,
            "count": 0
           }
          ]
         }
        },
        {
         "name": "FLAG_LAST_APPL_PER_CONTRACT",
         "dtype": "object",
         "stats": {
          "unique_count": 1,
          "nan_count": 0,
          "categories": [
           {
            "name": "Y",
            "count": 1
           }
          ]
         }
        },
        {
         "name": "NFLAG_LAST_APPL_IN_DAY",
         "dtype": "int64",
         "stats": {
          "unique_count": 1,
          "nan_count": 0,
          "min": "1",
          "max": "1",
          "histogram": [
           {
            "bin_start": 0.5,
            "bin_end": 0.6,
            "count": 0
           },
           {
            "bin_start": 0.6,
            "bin_end": 0.7,
            "count": 0
           },
           {
            "bin_start": 0.7,
            "bin_end": 0.8,
            "count": 0
           },
           {
            "bin_start": 0.8,
            "bin_end": 0.9,
            "count": 0
           },
           {
            "bin_start": 0.9,
            "bin_end": 1,
            "count": 0
           },
           {
            "bin_start": 1,
            "bin_end": 1.1,
            "count": 1
           },
           {
            "bin_start": 1.1,
            "bin_end": 1.2000000000000002,
            "count": 0
           },
           {
            "bin_start": 1.2000000000000002,
            "bin_end": 1.3,
            "count": 0
           },
           {
            "bin_start": 1.3,
            "bin_end": 1.4,
            "count": 0
           },
           {
            "bin_start": 1.4,
            "bin_end": 1.5,
            "count": 0
           }
          ]
         }
        },
        {
         "name": "RATE_DOWN_PAYMENT",
         "dtype": "float64",
         "stats": {
          "unique_count": 1,
          "nan_count": 0,
          "min": "0.1002676064093387",
          "max": "0.1002676064093387",
          "histogram": [
           {
            "bin_start": -0.3997323935906613,
            "bin_end": -0.2997323935906613,
            "count": 0
           },
           {
            "bin_start": -0.2997323935906613,
            "bin_end": -0.1997323935906613,
            "count": 0
           },
           {
            "bin_start": -0.1997323935906613,
            "bin_end": -0.09973239359066127,
            "count": 0
           },
           {
            "bin_start": -0.09973239359066127,
            "bin_end": 0.0002676064093387054,
            "count": 0
           },
           {
            "bin_start": 0.0002676064093387054,
            "bin_end": 0.10026760640933868,
            "count": 0
           },
           {
            "bin_start": 0.10026760640933868,
            "bin_end": 0.20026760640933877,
            "count": 1
           },
           {
            "bin_start": 0.20026760640933877,
            "bin_end": 0.30026760640933875,
            "count": 0
           },
           {
            "bin_start": 0.30026760640933875,
            "bin_end": 0.4002676064093387,
            "count": 0
           },
           {
            "bin_start": 0.4002676064093387,
            "bin_end": 0.5002676064093388,
            "count": 0
           },
           {
            "bin_start": 0.5002676064093388,
            "bin_end": 0.6002676064093387,
            "count": 0
           }
          ]
         }
        },
        {
         "name": "RATE_INTEREST_PRIMARY",
         "dtype": "float64",
         "stats": {
          "unique_count": 0,
          "nan_count": 1,
          "min": null,
          "max": null,
          "histogram": [
           {
            "bin_start": 0,
            "bin_end": 0.1,
            "count": 0
           },
           {
            "bin_start": 0.1,
            "bin_end": 0.2,
            "count": 0
           },
           {
            "bin_start": 0.2,
            "bin_end": 0.30000000000000004,
            "count": 0
           },
           {
            "bin_start": 0.30000000000000004,
            "bin_end": 0.4,
            "count": 0
           },
           {
            "bin_start": 0.4,
            "bin_end": 0.5,
            "count": 0
           },
           {
            "bin_start": 0.5,
            "bin_end": 0.6000000000000001,
            "count": 0
           },
           {
            "bin_start": 0.6000000000000001,
            "bin_end": 0.7000000000000001,
            "count": 0
           },
           {
            "bin_start": 0.7000000000000001,
            "bin_end": 0.8,
            "count": 0
           },
           {
            "bin_start": 0.8,
            "bin_end": 0.9,
            "count": 0
           },
           {
            "bin_start": 0.9,
            "bin_end": 1,
            "count": 0
           }
          ]
         }
        },
        {
         "name": "RATE_INTEREST_PRIVILEGED",
         "dtype": "float64",
         "stats": {
          "unique_count": 0,
          "nan_count": 1,
          "min": null,
          "max": null,
          "histogram": [
           {
            "bin_start": 0,
            "bin_end": 0.1,
            "count": 0
           },
           {
            "bin_start": 0.1,
            "bin_end": 0.2,
            "count": 0
           },
           {
            "bin_start": 0.2,
            "bin_end": 0.30000000000000004,
            "count": 0
           },
           {
            "bin_start": 0.30000000000000004,
            "bin_end": 0.4,
            "count": 0
           },
           {
            "bin_start": 0.4,
            "bin_end": 0.5,
            "count": 0
           },
           {
            "bin_start": 0.5,
            "bin_end": 0.6000000000000001,
            "count": 0
           },
           {
            "bin_start": 0.6000000000000001,
            "bin_end": 0.7000000000000001,
            "count": 0
           },
           {
            "bin_start": 0.7000000000000001,
            "bin_end": 0.8,
            "count": 0
           },
           {
            "bin_start": 0.8,
            "bin_end": 0.9,
            "count": 0
           },
           {
            "bin_start": 0.9,
            "bin_end": 1,
            "count": 0
           }
          ]
         }
        },
        {
         "name": "NAME_CASH_LOAN_PURPOSE",
         "dtype": "object",
         "stats": {
          "unique_count": 1,
          "nan_count": 0,
          "categories": [
           {
            "name": "XAP",
            "count": 1
           }
          ]
         }
        },
        {
         "name": "NAME_CONTRACT_STATUS",
         "dtype": "object",
         "stats": {
          "unique_count": 1,
          "nan_count": 0,
          "categories": [
           {
            "name": "Approved",
            "count": 1
           }
          ]
         }
        },
        {
         "name": "DAYS_DECISION",
         "dtype": "int64",
         "stats": {
          "unique_count": 1,
          "nan_count": 0,
          "min": "-1513",
          "max": "-1513",
          "histogram": [
           {
            "bin_start": -1513.5,
            "bin_end": -1513.4,
            "count": 0
           },
           {
            "bin_start": -1513.4,
            "bin_end": -1513.3,
            "count": 0
           },
           {
            "bin_start": -1513.3,
            "bin_end": -1513.2,
            "count": 0
           },
           {
            "bin_start": -1513.2,
            "bin_end": -1513.1,
            "count": 0
           },
           {
            "bin_start": -1513.1,
            "bin_end": -1513,
            "count": 0
           },
           {
            "bin_start": -1513,
            "bin_end": -1512.9,
            "count": 1
           },
           {
            "bin_start": -1512.9,
            "bin_end": -1512.8,
            "count": 0
           },
           {
            "bin_start": -1512.8,
            "bin_end": -1512.7,
            "count": 0
           },
           {
            "bin_start": -1512.7,
            "bin_end": -1512.6,
            "count": 0
           },
           {
            "bin_start": -1512.6,
            "bin_end": -1512.5,
            "count": 0
           }
          ]
         }
        },
        {
         "name": "NAME_PAYMENT_TYPE",
         "dtype": "object",
         "stats": {
          "unique_count": 1,
          "nan_count": 0,
          "categories": [
           {
            "name": "Cash through the bank",
            "count": 1
           }
          ]
         }
        },
        {
         "name": "CODE_REJECT_REASON",
         "dtype": "object",
         "stats": {
          "unique_count": 1,
          "nan_count": 0,
          "categories": [
           {
            "name": "XAP",
            "count": 1
           }
          ]
         }
        },
        {
         "name": "NAME_TYPE_SUITE",
         "dtype": "object",
         "stats": {
          "unique_count": 1,
          "nan_count": 0,
          "categories": [
           {
            "name": "Family",
            "count": 1
           }
          ]
         }
        },
        {
         "name": "NAME_CLIENT_TYPE",
         "dtype": "object",
         "stats": {
          "unique_count": 1,
          "nan_count": 0,
          "categories": [
           {
            "name": "New",
            "count": 1
           }
          ]
         }
        },
        {
         "name": "NAME_GOODS_CATEGORY",
         "dtype": "object",
         "stats": {
          "unique_count": 1,
          "nan_count": 0,
          "categories": [
           {
            "name": "Mobile",
            "count": 1
           }
          ]
         }
        },
        {
         "name": "NAME_PORTFOLIO",
         "dtype": "object",
         "stats": {
          "unique_count": 1,
          "nan_count": 0,
          "categories": [
           {
            "name": "POS",
            "count": 1
           }
          ]
         }
        },
        {
         "name": "NAME_PRODUCT_TYPE",
         "dtype": "object",
         "stats": {
          "unique_count": 1,
          "nan_count": 0,
          "categories": [
           {
            "name": "XNA",
            "count": 1
           }
          ]
         }
        },
        {
         "name": "CHANNEL_TYPE",
         "dtype": "object",
         "stats": {
          "unique_count": 1,
          "nan_count": 0,
          "categories": [
           {
            "name": "Country-wide",
            "count": 1
           }
          ]
         }
        },
        {
         "name": "SELLERPLACE_AREA",
         "dtype": "int64",
         "stats": {
          "unique_count": 1,
          "nan_count": 0,
          "min": "30",
          "max": "30",
          "histogram": [
           {
            "bin_start": 29.5,
            "bin_end": 29.6,
            "count": 0
           },
           {
            "bin_start": 29.6,
            "bin_end": 29.7,
            "count": 0
           },
           {
            "bin_start": 29.7,
            "bin_end": 29.8,
            "count": 0
           },
           {
            "bin_start": 29.8,
            "bin_end": 29.9,
            "count": 0
           },
           {
            "bin_start": 29.9,
            "bin_end": 30,
            "count": 0
           },
           {
            "bin_start": 30,
            "bin_end": 30.1,
            "count": 1
           },
           {
            "bin_start": 30.1,
            "bin_end": 30.2,
            "count": 0
           },
           {
            "bin_start": 30.2,
            "bin_end": 30.3,
            "count": 0
           },
           {
            "bin_start": 30.3,
            "bin_end": 30.4,
            "count": 0
           },
           {
            "bin_start": 30.4,
            "bin_end": 30.5,
            "count": 0
           }
          ]
         }
        },
        {
         "name": "NAME_SELLER_INDUSTRY",
         "dtype": "object",
         "stats": {
          "unique_count": 1,
          "nan_count": 0,
          "categories": [
           {
            "name": "Connectivity",
            "count": 1
           }
          ]
         }
        },
        {
         "name": "CNT_PAYMENT",
         "dtype": "float64",
         "stats": {
          "unique_count": 1,
          "nan_count": 0,
          "min": "12.0",
          "max": "12.0",
          "histogram": [
           {
            "bin_start": 11.5,
            "bin_end": 11.6,
            "count": 0
           },
           {
            "bin_start": 11.6,
            "bin_end": 11.7,
            "count": 0
           },
           {
            "bin_start": 11.7,
            "bin_end": 11.8,
            "count": 0
           },
           {
            "bin_start": 11.8,
            "bin_end": 11.9,
            "count": 0
           },
           {
            "bin_start": 11.9,
            "bin_end": 12,
            "count": 0
           },
           {
            "bin_start": 12,
            "bin_end": 12.1,
            "count": 1
           },
           {
            "bin_start": 12.1,
            "bin_end": 12.2,
            "count": 0
           },
           {
            "bin_start": 12.2,
            "bin_end": 12.3,
            "count": 0
           },
           {
            "bin_start": 12.3,
            "bin_end": 12.4,
            "count": 0
           },
           {
            "bin_start": 12.4,
            "bin_end": 12.5,
            "count": 0
           }
          ]
         }
        },
        {
         "name": "NAME_YIELD_GROUP",
         "dtype": "object",
         "stats": {
          "unique_count": 1,
          "nan_count": 0,
          "categories": [
           {
            "name": "high",
            "count": 1
           }
          ]
         }
        },
        {
         "name": "PRODUCT_COMBINATION",
         "dtype": "object",
         "stats": {
          "unique_count": 1,
          "nan_count": 0,
          "categories": [
           {
            "name": "POS mobile with interest",
            "count": 1
           }
          ]
         }
        },
        {
         "name": "DAYS_FIRST_DRAWING",
         "dtype": "float64",
         "stats": {
          "unique_count": 1,
          "nan_count": 0,
          "min": "365243.0",
          "max": "365243.0",
          "histogram": [
           {
            "bin_start": 365242.5,
            "bin_end": 365242.6,
            "count": 0
           },
           {
            "bin_start": 365242.6,
            "bin_end": 365242.7,
            "count": 0
           },
           {
            "bin_start": 365242.7,
            "bin_end": 365242.8,
            "count": 0
           },
           {
            "bin_start": 365242.8,
            "bin_end": 365242.9,
            "count": 0
           },
           {
            "bin_start": 365242.9,
            "bin_end": 365243,
            "count": 0
           },
           {
            "bin_start": 365243,
            "bin_end": 365243.1,
            "count": 1
           },
           {
            "bin_start": 365243.1,
            "bin_end": 365243.2,
            "count": 0
           },
           {
            "bin_start": 365243.2,
            "bin_end": 365243.3,
            "count": 0
           },
           {
            "bin_start": 365243.3,
            "bin_end": 365243.4,
            "count": 0
           },
           {
            "bin_start": 365243.4,
            "bin_end": 365243.5,
            "count": 0
           }
          ]
         }
        },
        {
         "name": "DAYS_FIRST_DUE",
         "dtype": "float64",
         "stats": {
          "unique_count": 1,
          "nan_count": 0,
          "min": "-1482.0",
          "max": "-1482.0",
          "histogram": [
           {
            "bin_start": -1482.5,
            "bin_end": -1482.4,
            "count": 0
           },
           {
            "bin_start": -1482.4,
            "bin_end": -1482.3,
            "count": 0
           },
           {
            "bin_start": -1482.3,
            "bin_end": -1482.2,
            "count": 0
           },
           {
            "bin_start": -1482.2,
            "bin_end": -1482.1,
            "count": 0
           },
           {
            "bin_start": -1482.1,
            "bin_end": -1482,
            "count": 0
           },
           {
            "bin_start": -1482,
            "bin_end": -1481.9,
            "count": 1
           },
           {
            "bin_start": -1481.9,
            "bin_end": -1481.8,
            "count": 0
           },
           {
            "bin_start": -1481.8,
            "bin_end": -1481.7,
            "count": 0
           },
           {
            "bin_start": -1481.7,
            "bin_end": -1481.6,
            "count": 0
           },
           {
            "bin_start": -1481.6,
            "bin_end": -1481.5,
            "count": 0
           }
          ]
         }
        },
        {
         "name": "DAYS_LAST_DUE_1ST_VERSION",
         "dtype": "float64",
         "stats": {
          "unique_count": 1,
          "nan_count": 0,
          "min": "-1152.0",
          "max": "-1152.0",
          "histogram": [
           {
            "bin_start": -1152.5,
            "bin_end": -1152.4,
            "count": 0
           },
           {
            "bin_start": -1152.4,
            "bin_end": -1152.3,
            "count": 0
           },
           {
            "bin_start": -1152.3,
            "bin_end": -1152.2,
            "count": 0
           },
           {
            "bin_start": -1152.2,
            "bin_end": -1152.1,
            "count": 0
           },
           {
            "bin_start": -1152.1,
            "bin_end": -1152,
            "count": 0
           },
           {
            "bin_start": -1152,
            "bin_end": -1151.9,
            "count": 1
           },
           {
            "bin_start": -1151.9,
            "bin_end": -1151.8,
            "count": 0
           },
           {
            "bin_start": -1151.8,
            "bin_end": -1151.7,
            "count": 0
           },
           {
            "bin_start": -1151.7,
            "bin_end": -1151.6,
            "count": 0
           },
           {
            "bin_start": -1151.6,
            "bin_end": -1151.5,
            "count": 0
           }
          ]
         }
        },
        {
         "name": "DAYS_LAST_DUE",
         "dtype": "float64",
         "stats": {
          "unique_count": 1,
          "nan_count": 0,
          "min": "-1152.0",
          "max": "-1152.0",
          "histogram": [
           {
            "bin_start": -1152.5,
            "bin_end": -1152.4,
            "count": 0
           },
           {
            "bin_start": -1152.4,
            "bin_end": -1152.3,
            "count": 0
           },
           {
            "bin_start": -1152.3,
            "bin_end": -1152.2,
            "count": 0
           },
           {
            "bin_start": -1152.2,
            "bin_end": -1152.1,
            "count": 0
           },
           {
            "bin_start": -1152.1,
            "bin_end": -1152,
            "count": 0
           },
           {
            "bin_start": -1152,
            "bin_end": -1151.9,
            "count": 1
           },
           {
            "bin_start": -1151.9,
            "bin_end": -1151.8,
            "count": 0
           },
           {
            "bin_start": -1151.8,
            "bin_end": -1151.7,
            "count": 0
           },
           {
            "bin_start": -1151.7,
            "bin_end": -1151.6,
            "count": 0
           },
           {
            "bin_start": -1151.6,
            "bin_end": -1151.5,
            "count": 0
           }
          ]
         }
        },
        {
         "name": "DAYS_TERMINATION",
         "dtype": "float64",
         "stats": {
          "unique_count": 1,
          "nan_count": 0,
          "min": "365243.0",
          "max": "365243.0",
          "histogram": [
           {
            "bin_start": 365242.5,
            "bin_end": 365242.6,
            "count": 0
           },
           {
            "bin_start": 365242.6,
            "bin_end": 365242.7,
            "count": 0
           },
           {
            "bin_start": 365242.7,
            "bin_end": 365242.8,
            "count": 0
           },
           {
            "bin_start": 365242.8,
            "bin_end": 365242.9,
            "count": 0
           },
           {
            "bin_start": 365242.9,
            "bin_end": 365243,
            "count": 0
           },
           {
            "bin_start": 365243,
            "bin_end": 365243.1,
            "count": 1
           },
           {
            "bin_start": 365243.1,
            "bin_end": 365243.2,
            "count": 0
           },
           {
            "bin_start": 365243.2,
            "bin_end": 365243.3,
            "count": 0
           },
           {
            "bin_start": 365243.3,
            "bin_end": 365243.4,
            "count": 0
           },
           {
            "bin_start": 365243.4,
            "bin_end": 365243.5,
            "count": 0
           }
          ]
         }
        },
        {
         "name": "NFLAG_INSURED_ON_APPROVAL",
         "dtype": "float64",
         "stats": {
          "unique_count": 1,
          "nan_count": 0,
          "min": "0.0",
          "max": "0.0",
          "histogram": [
           {
            "bin_start": -0.5,
            "bin_end": -0.4,
            "count": 0
           },
           {
            "bin_start": -0.4,
            "bin_end": -0.3,
            "count": 0
           },
           {
            "bin_start": -0.3,
            "bin_end": -0.19999999999999996,
            "count": 0
           },
           {
            "bin_start": -0.19999999999999996,
            "bin_end": -0.09999999999999998,
            "count": 0
           },
           {
            "bin_start": -0.09999999999999998,
            "bin_end": 0,
            "count": 0
           },
           {
            "bin_start": 0,
            "bin_end": 0.10000000000000009,
            "count": 1
           },
           {
            "bin_start": 0.10000000000000009,
            "bin_end": 0.20000000000000007,
            "count": 0
           },
           {
            "bin_start": 0.20000000000000007,
            "bin_end": 0.30000000000000004,
            "count": 0
           },
           {
            "bin_start": 0.30000000000000004,
            "bin_end": 0.4,
            "count": 0
           },
           {
            "bin_start": 0.4,
            "bin_end": 0.5,
            "count": 0
           }
          ]
         }
        },
        {
         "name": "_deepnote_index_column",
         "dtype": "int64"
        }
       ],
       "rows_top": [
        {
         "SK_ID_PREV": 1717234,
         "SK_ID_CURR": 141565,
         "NAME_CONTRACT_TYPE": "Consumer loans",
         "AMT_ANNUITY": 4042.89,
         "AMT_APPLICATION": 34110,
         "AMT_CREDIT": 33727.5,
         "AMT_DOWN_PAYMENT": 3420,
         "AMT_GOODS_PRICE": 34110,
         "WEEKDAY_APPR_PROCESS_START": "MONDAY",
         "HOUR_APPR_PROCESS_START": 16,
         "FLAG_LAST_APPL_PER_CONTRACT": "Y",
         "NFLAG_LAST_APPL_IN_DAY": 1,
         "RATE_DOWN_PAYMENT": 0.1002676064093387,
         "RATE_INTEREST_PRIMARY": "nan",
         "RATE_INTEREST_PRIVILEGED": "nan",
         "NAME_CASH_LOAN_PURPOSE": "XAP",
         "NAME_CONTRACT_STATUS": "Approved",
         "DAYS_DECISION": -1513,
         "NAME_PAYMENT_TYPE": "Cash through the bank",
         "CODE_REJECT_REASON": "XAP",
         "NAME_TYPE_SUITE": "Family",
         "NAME_CLIENT_TYPE": "New",
         "NAME_GOODS_CATEGORY": "Mobile",
         "NAME_PORTFOLIO": "POS",
         "NAME_PRODUCT_TYPE": "XNA",
         "CHANNEL_TYPE": "Country-wide",
         "SELLERPLACE_AREA": 30,
         "NAME_SELLER_INDUSTRY": "Connectivity",
         "CNT_PAYMENT": 12,
         "NAME_YIELD_GROUP": "high",
         "PRODUCT_COMBINATION": "POS mobile with interest",
         "DAYS_FIRST_DRAWING": 365243,
         "DAYS_FIRST_DUE": -1482,
         "DAYS_LAST_DUE_1ST_VERSION": -1152,
         "DAYS_LAST_DUE": -1152,
         "DAYS_TERMINATION": 365243,
         "NFLAG_INSURED_ON_APPROVAL": 0,
         "_deepnote_index_column": 638798
        }
       ],
       "rows_bottom": null
      },
      "text/plain": "        SK_ID_PREV  SK_ID_CURR NAME_CONTRACT_TYPE  AMT_ANNUITY  \\\n638798     1717234      141565     Consumer loans      4042.89   \n\n        AMT_APPLICATION  AMT_CREDIT  AMT_DOWN_PAYMENT  AMT_GOODS_PRICE  \\\n638798          34110.0     33727.5            3420.0          34110.0   \n\n       WEEKDAY_APPR_PROCESS_START  HOUR_APPR_PROCESS_START  ...  \\\n638798                     MONDAY                       16  ...   \n\n       NAME_SELLER_INDUSTRY  CNT_PAYMENT  NAME_YIELD_GROUP  \\\n638798         Connectivity         12.0              high   \n\n             PRODUCT_COMBINATION  DAYS_FIRST_DRAWING DAYS_FIRST_DUE  \\\n638798  POS mobile with interest            365243.0        -1482.0   \n\n       DAYS_LAST_DUE_1ST_VERSION  DAYS_LAST_DUE DAYS_TERMINATION  \\\n638798                   -1152.0        -1152.0         365243.0   \n\n       NFLAG_INSURED_ON_APPROVAL  \n638798                       0.0  \n\n[1 rows x 37 columns]",
      "text/html": "<div>\n<style scoped>\n    .dataframe tbody tr th:only-of-type {\n        vertical-align: middle;\n    }\n\n    .dataframe tbody tr th {\n        vertical-align: top;\n    }\n\n    .dataframe thead th {\n        text-align: right;\n    }\n</style>\n<table border=\"1\" class=\"dataframe\">\n  <thead>\n    <tr style=\"text-align: right;\">\n      <th></th>\n      <th>SK_ID_PREV</th>\n      <th>SK_ID_CURR</th>\n      <th>NAME_CONTRACT_TYPE</th>\n      <th>AMT_ANNUITY</th>\n      <th>AMT_APPLICATION</th>\n      <th>AMT_CREDIT</th>\n      <th>AMT_DOWN_PAYMENT</th>\n      <th>AMT_GOODS_PRICE</th>\n      <th>WEEKDAY_APPR_PROCESS_START</th>\n      <th>HOUR_APPR_PROCESS_START</th>\n      <th>...</th>\n      <th>NAME_SELLER_INDUSTRY</th>\n      <th>CNT_PAYMENT</th>\n      <th>NAME_YIELD_GROUP</th>\n      <th>PRODUCT_COMBINATION</th>\n      <th>DAYS_FIRST_DRAWING</th>\n      <th>DAYS_FIRST_DUE</th>\n      <th>DAYS_LAST_DUE_1ST_VERSION</th>\n      <th>DAYS_LAST_DUE</th>\n      <th>DAYS_TERMINATION</th>\n      <th>NFLAG_INSURED_ON_APPROVAL</th>\n    </tr>\n  </thead>\n  <tbody>\n    <tr>\n      <th>638798</th>\n      <td>1717234</td>\n      <td>141565</td>\n      <td>Consumer loans</td>\n      <td>4042.89</td>\n      <td>34110.0</td>\n      <td>33727.5</td>\n      <td>3420.0</td>\n      <td>34110.0</td>\n      <td>MONDAY</td>\n      <td>16</td>\n      <td>...</td>\n      <td>Connectivity</td>\n      <td>12.0</td>\n      <td>high</td>\n      <td>POS mobile with interest</td>\n      <td>365243.0</td>\n      <td>-1482.0</td>\n      <td>-1152.0</td>\n      <td>-1152.0</td>\n      <td>365243.0</td>\n      <td>0.0</td>\n    </tr>\n  </tbody>\n</table>\n<p>1 rows × 37 columns</p>\n</div>"
     },
     "metadata": {}
    }
   ],
   "execution_count": 10
  },
  {
   "cell_type": "code",
   "source": "balance[balance.SK_ID_PREV == ID].sort_values(\"MONTHS_BALANCE\")",
   "metadata": {
    "tags": [],
    "cell_id": "00001-f8f8b544-6fea-4f01-9766-96348558fcf7",
    "deepnote_to_be_reexecuted": false,
    "source_hash": "6f084226",
    "execution_start": 1632519102928,
    "execution_millis": 92,
    "deepnote_cell_type": "code"
   },
   "outputs": [
    {
     "output_type": "execute_result",
     "execution_count": 7,
     "data": {
      "application/vnd.deepnote.dataframe.v2+json": {
       "row_count": 49,
       "column_count": 8,
       "columns": [
        {
         "name": "SK_ID_PREV",
         "dtype": "int64",
         "stats": {
          "unique_count": 1,
          "nan_count": 0,
          "min": "1717234",
          "max": "1717234",
          "histogram": [
           {
            "bin_start": 1717233.5,
            "bin_end": 1717233.6,
            "count": 0
           },
           {
            "bin_start": 1717233.6,
            "bin_end": 1717233.7,
            "count": 0
           },
           {
            "bin_start": 1717233.7,
            "bin_end": 1717233.8,
            "count": 0
           },
           {
            "bin_start": 1717233.8,
            "bin_end": 1717233.9,
            "count": 0
           },
           {
            "bin_start": 1717233.9,
            "bin_end": 1717234,
            "count": 0
           },
           {
            "bin_start": 1717234,
            "bin_end": 1717234.1,
            "count": 49
           },
           {
            "bin_start": 1717234.1,
            "bin_end": 1717234.2,
            "count": 0
           },
           {
            "bin_start": 1717234.2,
            "bin_end": 1717234.3,
            "count": 0
           },
           {
            "bin_start": 1717234.3,
            "bin_end": 1717234.4,
            "count": 0
           },
           {
            "bin_start": 1717234.4,
            "bin_end": 1717234.5,
            "count": 0
           }
          ]
         }
        },
        {
         "name": "SK_ID_CURR",
         "dtype": "int64",
         "stats": {
          "unique_count": 1,
          "nan_count": 0,
          "min": "141565",
          "max": "141565",
          "histogram": [
           {
            "bin_start": 141564.5,
            "bin_end": 141564.6,
            "count": 0
           },
           {
            "bin_start": 141564.6,
            "bin_end": 141564.7,
            "count": 0
           },
           {
            "bin_start": 141564.7,
            "bin_end": 141564.8,
            "count": 0
           },
           {
            "bin_start": 141564.8,
            "bin_end": 141564.9,
            "count": 0
           },
           {
            "bin_start": 141564.9,
            "bin_end": 141565,
            "count": 0
           },
           {
            "bin_start": 141565,
            "bin_end": 141565.1,
            "count": 49
           },
           {
            "bin_start": 141565.1,
            "bin_end": 141565.2,
            "count": 0
           },
           {
            "bin_start": 141565.2,
            "bin_end": 141565.3,
            "count": 0
           },
           {
            "bin_start": 141565.3,
            "bin_end": 141565.4,
            "count": 0
           },
           {
            "bin_start": 141565.4,
            "bin_end": 141565.5,
            "count": 0
           }
          ]
         }
        },
        {
         "name": "MONTHS_BALANCE",
         "dtype": "int64",
         "stats": {
          "unique_count": 49,
          "nan_count": 0,
          "min": "-50",
          "max": "-2",
          "histogram": [
           {
            "bin_start": -50,
            "bin_end": -45.2,
            "count": 5
           },
           {
            "bin_start": -45.2,
            "bin_end": -40.4,
            "count": 5
           },
           {
            "bin_start": -40.4,
            "bin_end": -35.6,
            "count": 5
           },
           {
            "bin_start": -35.6,
            "bin_end": -30.8,
            "count": 5
           },
           {
            "bin_start": -30.8,
            "bin_end": -26,
            "count": 4
           },
           {
            "bin_start": -26,
            "bin_end": -21.200000000000003,
            "count": 5
           },
           {
            "bin_start": -21.200000000000003,
            "bin_end": -16.4,
            "count": 5
           },
           {
            "bin_start": -16.4,
            "bin_end": -11.600000000000001,
            "count": 5
           },
           {
            "bin_start": -11.600000000000001,
            "bin_end": -6.800000000000004,
            "count": 5
           },
           {
            "bin_start": -6.800000000000004,
            "bin_end": -2,
            "count": 5
           }
          ]
         }
        },
        {
         "name": "CNT_INSTALMENT",
         "dtype": "float64",
         "stats": {
          "unique_count": 1,
          "nan_count": 0,
          "min": "12.0",
          "max": "12.0",
          "histogram": [
           {
            "bin_start": 11.5,
            "bin_end": 11.6,
            "count": 0
           },
           {
            "bin_start": 11.6,
            "bin_end": 11.7,
            "count": 0
           },
           {
            "bin_start": 11.7,
            "bin_end": 11.8,
            "count": 0
           },
           {
            "bin_start": 11.8,
            "bin_end": 11.9,
            "count": 0
           },
           {
            "bin_start": 11.9,
            "bin_end": 12,
            "count": 0
           },
           {
            "bin_start": 12,
            "bin_end": 12.1,
            "count": 49
           },
           {
            "bin_start": 12.1,
            "bin_end": 12.2,
            "count": 0
           },
           {
            "bin_start": 12.2,
            "bin_end": 12.3,
            "count": 0
           },
           {
            "bin_start": 12.3,
            "bin_end": 12.4,
            "count": 0
           },
           {
            "bin_start": 12.4,
            "bin_end": 12.5,
            "count": 0
           }
          ]
         }
        },
        {
         "name": "CNT_INSTALMENT_FUTURE",
         "dtype": "float64",
         "stats": {
          "unique_count": 13,
          "nan_count": 0,
          "min": "0.0",
          "max": "12.0",
          "histogram": [
           {
            "bin_start": 0,
            "bin_end": 1.2,
            "count": 38
           },
           {
            "bin_start": 1.2,
            "bin_end": 2.4,
            "count": 1
           },
           {
            "bin_start": 2.4,
            "bin_end": 3.5999999999999996,
            "count": 1
           },
           {
            "bin_start": 3.5999999999999996,
            "bin_end": 4.8,
            "count": 1
           },
           {
            "bin_start": 4.8,
            "bin_end": 6,
            "count": 1
           },
           {
            "bin_start": 6,
            "bin_end": 7.199999999999999,
            "count": 2
           },
           {
            "bin_start": 7.199999999999999,
            "bin_end": 8.4,
            "count": 1
           },
           {
            "bin_start": 8.4,
            "bin_end": 9.6,
            "count": 1
           },
           {
            "bin_start": 9.6,
            "bin_end": 10.799999999999999,
            "count": 1
           },
           {
            "bin_start": 10.799999999999999,
            "bin_end": 12,
            "count": 2
           }
          ]
         }
        },
        {
         "name": "NAME_CONTRACT_STATUS",
         "dtype": "object",
         "stats": {
          "unique_count": 1,
          "nan_count": 0,
          "categories": [
           {
            "name": "Active",
            "count": 49
           }
          ]
         }
        },
        {
         "name": "SK_DPD",
         "dtype": "int64",
         "stats": {
          "unique_count": 39,
          "nan_count": 0,
          "min": "0",
          "max": "1117",
          "histogram": [
           {
            "bin_start": 0,
            "bin_end": 111.7,
            "count": 15
           },
           {
            "bin_start": 111.7,
            "bin_end": 223.4,
            "count": 4
           },
           {
            "bin_start": 223.4,
            "bin_end": 335.1,
            "count": 4
           },
           {
            "bin_start": 335.1,
            "bin_end": 446.8,
            "count": 3
           },
           {
            "bin_start": 446.8,
            "bin_end": 558.5,
            "count": 4
           },
           {
            "bin_start": 558.5,
            "bin_end": 670.2,
            "count": 4
           },
           {
            "bin_start": 670.2,
            "bin_end": 781.9,
            "count": 3
           },
           {
            "bin_start": 781.9,
            "bin_end": 893.6,
            "count": 4
           },
           {
            "bin_start": 893.6,
            "bin_end": 1005.3000000000001,
            "count": 4
           },
           {
            "bin_start": 1005.3000000000001,
            "bin_end": 1117,
            "count": 4
           }
          ]
         }
        },
        {
         "name": "SK_DPD_DEF",
         "dtype": "int64",
         "stats": {
          "unique_count": 2,
          "nan_count": 0,
          "min": "0",
          "max": "18",
          "histogram": [
           {
            "bin_start": 0,
            "bin_end": 1.8,
            "count": 48
           },
           {
            "bin_start": 1.8,
            "bin_end": 3.6,
            "count": 0
           },
           {
            "bin_start": 3.6,
            "bin_end": 5.4,
            "count": 0
           },
           {
            "bin_start": 5.4,
            "bin_end": 7.2,
            "count": 0
           },
           {
            "bin_start": 7.2,
            "bin_end": 9,
            "count": 0
           },
           {
            "bin_start": 9,
            "bin_end": 10.8,
            "count": 0
           },
           {
            "bin_start": 10.8,
            "bin_end": 12.6,
            "count": 0
           },
           {
            "bin_start": 12.6,
            "bin_end": 14.4,
            "count": 0
           },
           {
            "bin_start": 14.4,
            "bin_end": 16.2,
            "count": 0
           },
           {
            "bin_start": 16.2,
            "bin_end": 18,
            "count": 1
           }
          ]
         }
        },
        {
         "name": "_deepnote_index_column",
         "dtype": "int64"
        }
       ],
       "rows_top": [
        {
         "SK_ID_PREV": 1717234,
         "SK_ID_CURR": 141565,
         "MONTHS_BALANCE": -50,
         "CNT_INSTALMENT": 12,
         "CNT_INSTALMENT_FUTURE": 12,
         "NAME_CONTRACT_STATUS": "Active",
         "SK_DPD": 0,
         "SK_DPD_DEF": 0,
         "_deepnote_index_column": 9557895
        },
        {
         "SK_ID_PREV": 1717234,
         "SK_ID_CURR": 141565,
         "MONTHS_BALANCE": -49,
         "CNT_INSTALMENT": 12,
         "CNT_INSTALMENT_FUTURE": 11,
         "NAME_CONTRACT_STATUS": "Active",
         "SK_DPD": 0,
         "SK_DPD_DEF": 0,
         "_deepnote_index_column": 6030528
        },
        {
         "SK_ID_PREV": 1717234,
         "SK_ID_CURR": 141565,
         "MONTHS_BALANCE": -48,
         "CNT_INSTALMENT": 12,
         "CNT_INSTALMENT_FUTURE": 10,
         "NAME_CONTRACT_STATUS": "Active",
         "SK_DPD": 0,
         "SK_DPD_DEF": 0,
         "_deepnote_index_column": 6791740
        },
        {
         "SK_ID_PREV": 1717234,
         "SK_ID_CURR": 141565,
         "MONTHS_BALANCE": -47,
         "CNT_INSTALMENT": 12,
         "CNT_INSTALMENT_FUTURE": 9,
         "NAME_CONTRACT_STATUS": "Active",
         "SK_DPD": 18,
         "SK_DPD_DEF": 18,
         "_deepnote_index_column": 3664328
        },
        {
         "SK_ID_PREV": 1717234,
         "SK_ID_CURR": 141565,
         "MONTHS_BALANCE": -46,
         "CNT_INSTALMENT": 12,
         "CNT_INSTALMENT_FUTURE": 8,
         "NAME_CONTRACT_STATUS": "Active",
         "SK_DPD": 0,
         "SK_DPD_DEF": 0,
         "_deepnote_index_column": 6487328
        },
        {
         "SK_ID_PREV": 1717234,
         "SK_ID_CURR": 141565,
         "MONTHS_BALANCE": -45,
         "CNT_INSTALMENT": 12,
         "CNT_INSTALMENT_FUTURE": 7,
         "NAME_CONTRACT_STATUS": "Active",
         "SK_DPD": 0,
         "SK_DPD_DEF": 0,
         "_deepnote_index_column": 299326
        },
        {
         "SK_ID_PREV": 1717234,
         "SK_ID_CURR": 141565,
         "MONTHS_BALANCE": -44,
         "CNT_INSTALMENT": 12,
         "CNT_INSTALMENT_FUTURE": 6,
         "NAME_CONTRACT_STATUS": "Active",
         "SK_DPD": 0,
         "SK_DPD_DEF": 0,
         "_deepnote_index_column": 4399
        },
        {
         "SK_ID_PREV": 1717234,
         "SK_ID_CURR": 141565,
         "MONTHS_BALANCE": -43,
         "CNT_INSTALMENT": 12,
         "CNT_INSTALMENT_FUTURE": 5,
         "NAME_CONTRACT_STATUS": "Active",
         "SK_DPD": 0,
         "SK_DPD_DEF": 0,
         "_deepnote_index_column": 8430420
        },
        {
         "SK_ID_PREV": 1717234,
         "SK_ID_CURR": 141565,
         "MONTHS_BALANCE": -42,
         "CNT_INSTALMENT": 12,
         "CNT_INSTALMENT_FUTURE": 4,
         "NAME_CONTRACT_STATUS": "Active",
         "SK_DPD": 0,
         "SK_DPD_DEF": 0,
         "_deepnote_index_column": 8664356
        },
        {
         "SK_ID_PREV": 1717234,
         "SK_ID_CURR": 141565,
         "MONTHS_BALANCE": -41,
         "CNT_INSTALMENT": 12,
         "CNT_INSTALMENT_FUTURE": 3,
         "NAME_CONTRACT_STATUS": "Active",
         "SK_DPD": 0,
         "SK_DPD_DEF": 0,
         "_deepnote_index_column": 9753737
        },
        {
         "SK_ID_PREV": 1717234,
         "SK_ID_CURR": 141565,
         "MONTHS_BALANCE": -40,
         "CNT_INSTALMENT": 12,
         "CNT_INSTALMENT_FUTURE": 2,
         "NAME_CONTRACT_STATUS": "Active",
         "SK_DPD": 0,
         "SK_DPD_DEF": 0,
         "_deepnote_index_column": 9265655
        },
        {
         "SK_ID_PREV": 1717234,
         "SK_ID_CURR": 141565,
         "MONTHS_BALANCE": -39,
         "CNT_INSTALMENT": 12,
         "CNT_INSTALMENT_FUTURE": 1,
         "NAME_CONTRACT_STATUS": "Active",
         "SK_DPD": 0,
         "SK_DPD_DEF": 0,
         "_deepnote_index_column": 9983677
        },
        {
         "SK_ID_PREV": 1717234,
         "SK_ID_CURR": 141565,
         "MONTHS_BALANCE": -38,
         "CNT_INSTALMENT": 12,
         "CNT_INSTALMENT_FUTURE": 0,
         "NAME_CONTRACT_STATUS": "Active",
         "SK_DPD": 21,
         "SK_DPD_DEF": 0,
         "_deepnote_index_column": 9971039
        },
        {
         "SK_ID_PREV": 1717234,
         "SK_ID_CURR": 141565,
         "MONTHS_BALANCE": -37,
         "CNT_INSTALMENT": 12,
         "CNT_INSTALMENT_FUTURE": 0,
         "NAME_CONTRACT_STATUS": "Active",
         "SK_DPD": 52,
         "SK_DPD_DEF": 0,
         "_deepnote_index_column": 9977157
        },
        {
         "SK_ID_PREV": 1717234,
         "SK_ID_CURR": 141565,
         "MONTHS_BALANCE": -36,
         "CNT_INSTALMENT": 12,
         "CNT_INSTALMENT_FUTURE": 0,
         "NAME_CONTRACT_STATUS": "Active",
         "SK_DPD": 83,
         "SK_DPD_DEF": 0,
         "_deepnote_index_column": 9641447
        },
        {
         "SK_ID_PREV": 1717234,
         "SK_ID_CURR": 141565,
         "MONTHS_BALANCE": -35,
         "CNT_INSTALMENT": 12,
         "CNT_INSTALMENT_FUTURE": 0,
         "NAME_CONTRACT_STATUS": "Active",
         "SK_DPD": 113,
         "SK_DPD_DEF": 0,
         "_deepnote_index_column": 9976099
        },
        {
         "SK_ID_PREV": 1717234,
         "SK_ID_CURR": 141565,
         "MONTHS_BALANCE": -34,
         "CNT_INSTALMENT": 12,
         "CNT_INSTALMENT_FUTURE": 0,
         "NAME_CONTRACT_STATUS": "Active",
         "SK_DPD": 144,
         "SK_DPD_DEF": 0,
         "_deepnote_index_column": 9641726
        },
        {
         "SK_ID_PREV": 1717234,
         "SK_ID_CURR": 141565,
         "MONTHS_BALANCE": -33,
         "CNT_INSTALMENT": 12,
         "CNT_INSTALMENT_FUTURE": 0,
         "NAME_CONTRACT_STATUS": "Active",
         "SK_DPD": 174,
         "SK_DPD_DEF": 0,
         "_deepnote_index_column": 9977106
        },
        {
         "SK_ID_PREV": 1717234,
         "SK_ID_CURR": 141565,
         "MONTHS_BALANCE": -32,
         "CNT_INSTALMENT": 12,
         "CNT_INSTALMENT_FUTURE": 0,
         "NAME_CONTRACT_STATUS": "Active",
         "SK_DPD": 205,
         "SK_DPD_DEF": 0,
         "_deepnote_index_column": 9640732
        },
        {
         "SK_ID_PREV": 1717234,
         "SK_ID_CURR": 141565,
         "MONTHS_BALANCE": -31,
         "CNT_INSTALMENT": 12,
         "CNT_INSTALMENT_FUTURE": 0,
         "NAME_CONTRACT_STATUS": "Active",
         "SK_DPD": 236,
         "SK_DPD_DEF": 0,
         "_deepnote_index_column": 9975488
        },
        {
         "SK_ID_PREV": 1717234,
         "SK_ID_CURR": 141565,
         "MONTHS_BALANCE": -30,
         "CNT_INSTALMENT": 12,
         "CNT_INSTALMENT_FUTURE": 0,
         "NAME_CONTRACT_STATUS": "Active",
         "SK_DPD": 265,
         "SK_DPD_DEF": 0,
         "_deepnote_index_column": 9978379
        },
        {
         "SK_ID_PREV": 1717234,
         "SK_ID_CURR": 141565,
         "MONTHS_BALANCE": -29,
         "CNT_INSTALMENT": 12,
         "CNT_INSTALMENT_FUTURE": 0,
         "NAME_CONTRACT_STATUS": "Active",
         "SK_DPD": 296,
         "SK_DPD_DEF": 0,
         "_deepnote_index_column": 9975443
        },
        {
         "SK_ID_PREV": 1717234,
         "SK_ID_CURR": 141565,
         "MONTHS_BALANCE": -28,
         "CNT_INSTALMENT": 12,
         "CNT_INSTALMENT_FUTURE": 0,
         "NAME_CONTRACT_STATUS": "Active",
         "SK_DPD": 326,
         "SK_DPD_DEF": 0,
         "_deepnote_index_column": 8278914
        },
        {
         "SK_ID_PREV": 1717234,
         "SK_ID_CURR": 141565,
         "MONTHS_BALANCE": -27,
         "CNT_INSTALMENT": 12,
         "CNT_INSTALMENT_FUTURE": 0,
         "NAME_CONTRACT_STATUS": "Active",
         "SK_DPD": 357,
         "SK_DPD_DEF": 0,
         "_deepnote_index_column": 9996611
        },
        {
         "SK_ID_PREV": 1717234,
         "SK_ID_CURR": 141565,
         "MONTHS_BALANCE": -26,
         "CNT_INSTALMENT": 12,
         "CNT_INSTALMENT_FUTURE": 0,
         "NAME_CONTRACT_STATUS": "Active",
         "SK_DPD": 387,
         "SK_DPD_DEF": 0,
         "_deepnote_index_column": 9999708
        },
        {
         "SK_ID_PREV": 1717234,
         "SK_ID_CURR": 141565,
         "MONTHS_BALANCE": -25,
         "CNT_INSTALMENT": 12,
         "CNT_INSTALMENT_FUTURE": 0,
         "NAME_CONTRACT_STATUS": "Active",
         "SK_DPD": 418,
         "SK_DPD_DEF": 0,
         "_deepnote_index_column": 9999476
        },
        {
         "SK_ID_PREV": 1717234,
         "SK_ID_CURR": 141565,
         "MONTHS_BALANCE": -24,
         "CNT_INSTALMENT": 12,
         "CNT_INSTALMENT_FUTURE": 0,
         "NAME_CONTRACT_STATUS": "Active",
         "SK_DPD": 449,
         "SK_DPD_DEF": 0,
         "_deepnote_index_column": 8025186
        },
        {
         "SK_ID_PREV": 1717234,
         "SK_ID_CURR": 141565,
         "MONTHS_BALANCE": -23,
         "CNT_INSTALMENT": 12,
         "CNT_INSTALMENT_FUTURE": 0,
         "NAME_CONTRACT_STATUS": "Active",
         "SK_DPD": 479,
         "SK_DPD_DEF": 0,
         "_deepnote_index_column": 10000738
        },
        {
         "SK_ID_PREV": 1717234,
         "SK_ID_CURR": 141565,
         "MONTHS_BALANCE": -22,
         "CNT_INSTALMENT": 12,
         "CNT_INSTALMENT_FUTURE": 0,
         "NAME_CONTRACT_STATUS": "Active",
         "SK_DPD": 510,
         "SK_DPD_DEF": 0,
         "_deepnote_index_column": 10000710
        },
        {
         "SK_ID_PREV": 1717234,
         "SK_ID_CURR": 141565,
         "MONTHS_BALANCE": -21,
         "CNT_INSTALMENT": 12,
         "CNT_INSTALMENT_FUTURE": 0,
         "NAME_CONTRACT_STATUS": "Active",
         "SK_DPD": 540,
         "SK_DPD_DEF": 0,
         "_deepnote_index_column": 9999921
        },
        {
         "SK_ID_PREV": 1717234,
         "SK_ID_CURR": 141565,
         "MONTHS_BALANCE": -20,
         "CNT_INSTALMENT": 12,
         "CNT_INSTALMENT_FUTURE": 0,
         "NAME_CONTRACT_STATUS": "Active",
         "SK_DPD": 571,
         "SK_DPD_DEF": 0,
         "_deepnote_index_column": 9999273
        },
        {
         "SK_ID_PREV": 1717234,
         "SK_ID_CURR": 141565,
         "MONTHS_BALANCE": -19,
         "CNT_INSTALMENT": 12,
         "CNT_INSTALMENT_FUTURE": 0,
         "NAME_CONTRACT_STATUS": "Active",
         "SK_DPD": 602,
         "SK_DPD_DEF": 0,
         "_deepnote_index_column": 10001354
        },
        {
         "SK_ID_PREV": 1717234,
         "SK_ID_CURR": 141565,
         "MONTHS_BALANCE": -18,
         "CNT_INSTALMENT": 12,
         "CNT_INSTALMENT_FUTURE": 0,
         "NAME_CONTRACT_STATUS": "Active",
         "SK_DPD": 630,
         "SK_DPD_DEF": 0,
         "_deepnote_index_column": 10001330
        },
        {
         "SK_ID_PREV": 1717234,
         "SK_ID_CURR": 141565,
         "MONTHS_BALANCE": -17,
         "CNT_INSTALMENT": 12,
         "CNT_INSTALMENT_FUTURE": 0,
         "NAME_CONTRACT_STATUS": "Active",
         "SK_DPD": 661,
         "SK_DPD_DEF": 0,
         "_deepnote_index_column": 10001291
        },
        {
         "SK_ID_PREV": 1717234,
         "SK_ID_CURR": 141565,
         "MONTHS_BALANCE": -16,
         "CNT_INSTALMENT": 12,
         "CNT_INSTALMENT_FUTURE": 0,
         "NAME_CONTRACT_STATUS": "Active",
         "SK_DPD": 691,
         "SK_DPD_DEF": 0,
         "_deepnote_index_column": 10000060
        },
        {
         "SK_ID_PREV": 1717234,
         "SK_ID_CURR": 141565,
         "MONTHS_BALANCE": -15,
         "CNT_INSTALMENT": 12,
         "CNT_INSTALMENT_FUTURE": 0,
         "NAME_CONTRACT_STATUS": "Active",
         "SK_DPD": 722,
         "SK_DPD_DEF": 0,
         "_deepnote_index_column": 9999640
        },
        {
         "SK_ID_PREV": 1717234,
         "SK_ID_CURR": 141565,
         "MONTHS_BALANCE": -14,
         "CNT_INSTALMENT": 12,
         "CNT_INSTALMENT_FUTURE": 0,
         "NAME_CONTRACT_STATUS": "Active",
         "SK_DPD": 752,
         "SK_DPD_DEF": 0,
         "_deepnote_index_column": 9999585
        },
        {
         "SK_ID_PREV": 1717234,
         "SK_ID_CURR": 141565,
         "MONTHS_BALANCE": -13,
         "CNT_INSTALMENT": 12,
         "CNT_INSTALMENT_FUTURE": 0,
         "NAME_CONTRACT_STATUS": "Active",
         "SK_DPD": 783,
         "SK_DPD_DEF": 0,
         "_deepnote_index_column": 9790319
        },
        {
         "SK_ID_PREV": 1717234,
         "SK_ID_CURR": 141565,
         "MONTHS_BALANCE": -12,
         "CNT_INSTALMENT": 12,
         "CNT_INSTALMENT_FUTURE": 0,
         "NAME_CONTRACT_STATUS": "Active",
         "SK_DPD": 814,
         "SK_DPD_DEF": 0,
         "_deepnote_index_column": 10000320
        },
        {
         "SK_ID_PREV": 1717234,
         "SK_ID_CURR": 141565,
         "MONTHS_BALANCE": -11,
         "CNT_INSTALMENT": 12,
         "CNT_INSTALMENT_FUTURE": 0,
         "NAME_CONTRACT_STATUS": "Active",
         "SK_DPD": 844,
         "SK_DPD_DEF": 0,
         "_deepnote_index_column": 9999533
        },
        {
         "SK_ID_PREV": 1717234,
         "SK_ID_CURR": 141565,
         "MONTHS_BALANCE": -10,
         "CNT_INSTALMENT": 12,
         "CNT_INSTALMENT_FUTURE": 0,
         "NAME_CONTRACT_STATUS": "Active",
         "SK_DPD": 875,
         "SK_DPD_DEF": 0,
         "_deepnote_index_column": 9999162
        },
        {
         "SK_ID_PREV": 1717234,
         "SK_ID_CURR": 141565,
         "MONTHS_BALANCE": -9,
         "CNT_INSTALMENT": 12,
         "CNT_INSTALMENT_FUTURE": 0,
         "NAME_CONTRACT_STATUS": "Active",
         "SK_DPD": 905,
         "SK_DPD_DEF": 0,
         "_deepnote_index_column": 9999257
        },
        {
         "SK_ID_PREV": 1717234,
         "SK_ID_CURR": 141565,
         "MONTHS_BALANCE": -8,
         "CNT_INSTALMENT": 12,
         "CNT_INSTALMENT_FUTURE": 0,
         "NAME_CONTRACT_STATUS": "Active",
         "SK_DPD": 936,
         "SK_DPD_DEF": 0,
         "_deepnote_index_column": 9999240
        },
        {
         "SK_ID_PREV": 1717234,
         "SK_ID_CURR": 141565,
         "MONTHS_BALANCE": -7,
         "CNT_INSTALMENT": 12,
         "CNT_INSTALMENT_FUTURE": 0,
         "NAME_CONTRACT_STATUS": "Active",
         "SK_DPD": 967,
         "SK_DPD_DEF": 0,
         "_deepnote_index_column": 9791106
        },
        {
         "SK_ID_PREV": 1717234,
         "SK_ID_CURR": 141565,
         "MONTHS_BALANCE": -6,
         "CNT_INSTALMENT": 12,
         "CNT_INSTALMENT_FUTURE": 0,
         "NAME_CONTRACT_STATUS": "Active",
         "SK_DPD": 995,
         "SK_DPD_DEF": 0,
         "_deepnote_index_column": 8024935
        },
        {
         "SK_ID_PREV": 1717234,
         "SK_ID_CURR": 141565,
         "MONTHS_BALANCE": -5,
         "CNT_INSTALMENT": 12,
         "CNT_INSTALMENT_FUTURE": 0,
         "NAME_CONTRACT_STATUS": "Active",
         "SK_DPD": 1026,
         "SK_DPD_DEF": 0,
         "_deepnote_index_column": 8025350
        },
        {
         "SK_ID_PREV": 1717234,
         "SK_ID_CURR": 141565,
         "MONTHS_BALANCE": -4,
         "CNT_INSTALMENT": 12,
         "CNT_INSTALMENT_FUTURE": 0,
         "NAME_CONTRACT_STATUS": "Active",
         "SK_DPD": 1056,
         "SK_DPD_DEF": 0,
         "_deepnote_index_column": 9791175
        },
        {
         "SK_ID_PREV": 1717234,
         "SK_ID_CURR": 141565,
         "MONTHS_BALANCE": -3,
         "CNT_INSTALMENT": 12,
         "CNT_INSTALMENT_FUTURE": 0,
         "NAME_CONTRACT_STATUS": "Active",
         "SK_DPD": 1087,
         "SK_DPD_DEF": 0,
         "_deepnote_index_column": 8024962
        },
        {
         "SK_ID_PREV": 1717234,
         "SK_ID_CURR": 141565,
         "MONTHS_BALANCE": -2,
         "CNT_INSTALMENT": 12,
         "CNT_INSTALMENT_FUTURE": 0,
         "NAME_CONTRACT_STATUS": "Active",
         "SK_DPD": 1117,
         "SK_DPD_DEF": 0,
         "_deepnote_index_column": 9791148
        }
       ],
       "rows_bottom": null
      },
      "text/plain": "          SK_ID_PREV  SK_ID_CURR  MONTHS_BALANCE  CNT_INSTALMENT  \\\n9557895      1717234      141565             -50            12.0   \n6030528      1717234      141565             -49            12.0   \n6791740      1717234      141565             -48            12.0   \n3664328      1717234      141565             -47            12.0   \n6487328      1717234      141565             -46            12.0   \n299326       1717234      141565             -45            12.0   \n4399         1717234      141565             -44            12.0   \n8430420      1717234      141565             -43            12.0   \n8664356      1717234      141565             -42            12.0   \n9753737      1717234      141565             -41            12.0   \n9265655      1717234      141565             -40            12.0   \n9983677      1717234      141565             -39            12.0   \n9971039      1717234      141565             -38            12.0   \n9977157      1717234      141565             -37            12.0   \n9641447      1717234      141565             -36            12.0   \n9976099      1717234      141565             -35            12.0   \n9641726      1717234      141565             -34            12.0   \n9977106      1717234      141565             -33            12.0   \n9640732      1717234      141565             -32            12.0   \n9975488      1717234      141565             -31            12.0   \n9978379      1717234      141565             -30            12.0   \n9975443      1717234      141565             -29            12.0   \n8278914      1717234      141565             -28            12.0   \n9996611      1717234      141565             -27            12.0   \n9999708      1717234      141565             -26            12.0   \n9999476      1717234      141565             -25            12.0   \n8025186      1717234      141565             -24            12.0   \n10000738     1717234      141565             -23            12.0   \n10000710     1717234      141565             -22            12.0   \n9999921      1717234      141565             -21            12.0   \n9999273      1717234      141565             -20            12.0   \n10001354     1717234      141565             -19            12.0   \n10001330     1717234      141565             -18            12.0   \n10001291     1717234      141565             -17            12.0   \n10000060     1717234      141565             -16            12.0   \n9999640      1717234      141565             -15            12.0   \n9999585      1717234      141565             -14            12.0   \n9790319      1717234      141565             -13            12.0   \n10000320     1717234      141565             -12            12.0   \n9999533      1717234      141565             -11            12.0   \n9999162      1717234      141565             -10            12.0   \n9999257      1717234      141565              -9            12.0   \n9999240      1717234      141565              -8            12.0   \n9791106      1717234      141565              -7            12.0   \n8024935      1717234      141565              -6            12.0   \n8025350      1717234      141565              -5            12.0   \n9791175      1717234      141565              -4            12.0   \n8024962      1717234      141565              -3            12.0   \n9791148      1717234      141565              -2            12.0   \n\n          CNT_INSTALMENT_FUTURE NAME_CONTRACT_STATUS  SK_DPD  SK_DPD_DEF  \n9557895                    12.0               Active       0           0  \n6030528                    11.0               Active       0           0  \n6791740                    10.0               Active       0           0  \n3664328                     9.0               Active      18          18  \n6487328                     8.0               Active       0           0  \n299326                      7.0               Active       0           0  \n4399                        6.0               Active       0           0  \n8430420                     5.0               Active       0           0  \n8664356                     4.0               Active       0           0  \n9753737                     3.0               Active       0           0  \n9265655                     2.0               Active       0           0  \n9983677                     1.0               Active       0           0  \n9971039                     0.0               Active      21           0  \n9977157                     0.0               Active      52           0  \n9641447                     0.0               Active      83           0  \n9976099                     0.0               Active     113           0  \n9641726                     0.0               Active     144           0  \n9977106                     0.0               Active     174           0  \n9640732                     0.0               Active     205           0  \n9975488                     0.0               Active     236           0  \n9978379                     0.0               Active     265           0  \n9975443                     0.0               Active     296           0  \n8278914                     0.0               Active     326           0  \n9996611                     0.0               Active     357           0  \n9999708                     0.0               Active     387           0  \n9999476                     0.0               Active     418           0  \n8025186                     0.0               Active     449           0  \n10000738                    0.0               Active     479           0  \n10000710                    0.0               Active     510           0  \n9999921                     0.0               Active     540           0  \n9999273                     0.0               Active     571           0  \n10001354                    0.0               Active     602           0  \n10001330                    0.0               Active     630           0  \n10001291                    0.0               Active     661           0  \n10000060                    0.0               Active     691           0  \n9999640                     0.0               Active     722           0  \n9999585                     0.0               Active     752           0  \n9790319                     0.0               Active     783           0  \n10000320                    0.0               Active     814           0  \n9999533                     0.0               Active     844           0  \n9999162                     0.0               Active     875           0  \n9999257                     0.0               Active     905           0  \n9999240                     0.0               Active     936           0  \n9791106                     0.0               Active     967           0  \n8024935                     0.0               Active     995           0  \n8025350                     0.0               Active    1026           0  \n9791175                     0.0               Active    1056           0  \n8024962                     0.0               Active    1087           0  \n9791148                     0.0               Active    1117           0  ",
      "text/html": "<div>\n<style scoped>\n    .dataframe tbody tr th:only-of-type {\n        vertical-align: middle;\n    }\n\n    .dataframe tbody tr th {\n        vertical-align: top;\n    }\n\n    .dataframe thead th {\n        text-align: right;\n    }\n</style>\n<table border=\"1\" class=\"dataframe\">\n  <thead>\n    <tr style=\"text-align: right;\">\n      <th></th>\n      <th>SK_ID_PREV</th>\n      <th>SK_ID_CURR</th>\n      <th>MONTHS_BALANCE</th>\n      <th>CNT_INSTALMENT</th>\n      <th>CNT_INSTALMENT_FUTURE</th>\n      <th>NAME_CONTRACT_STATUS</th>\n      <th>SK_DPD</th>\n      <th>SK_DPD_DEF</th>\n    </tr>\n  </thead>\n  <tbody>\n    <tr>\n      <th>9557895</th>\n      <td>1717234</td>\n      <td>141565</td>\n      <td>-50</td>\n      <td>12.0</td>\n      <td>12.0</td>\n      <td>Active</td>\n      <td>0</td>\n      <td>0</td>\n    </tr>\n    <tr>\n      <th>6030528</th>\n      <td>1717234</td>\n      <td>141565</td>\n      <td>-49</td>\n      <td>12.0</td>\n      <td>11.0</td>\n      <td>Active</td>\n      <td>0</td>\n      <td>0</td>\n    </tr>\n    <tr>\n      <th>6791740</th>\n      <td>1717234</td>\n      <td>141565</td>\n      <td>-48</td>\n      <td>12.0</td>\n      <td>10.0</td>\n      <td>Active</td>\n      <td>0</td>\n      <td>0</td>\n    </tr>\n    <tr>\n      <th>3664328</th>\n      <td>1717234</td>\n      <td>141565</td>\n      <td>-47</td>\n      <td>12.0</td>\n      <td>9.0</td>\n      <td>Active</td>\n      <td>18</td>\n      <td>18</td>\n    </tr>\n    <tr>\n      <th>6487328</th>\n      <td>1717234</td>\n      <td>141565</td>\n      <td>-46</td>\n      <td>12.0</td>\n      <td>8.0</td>\n      <td>Active</td>\n      <td>0</td>\n      <td>0</td>\n    </tr>\n    <tr>\n      <th>299326</th>\n      <td>1717234</td>\n      <td>141565</td>\n      <td>-45</td>\n      <td>12.0</td>\n      <td>7.0</td>\n      <td>Active</td>\n      <td>0</td>\n      <td>0</td>\n    </tr>\n    <tr>\n      <th>4399</th>\n      <td>1717234</td>\n      <td>141565</td>\n      <td>-44</td>\n      <td>12.0</td>\n      <td>6.0</td>\n      <td>Active</td>\n      <td>0</td>\n      <td>0</td>\n    </tr>\n    <tr>\n      <th>8430420</th>\n      <td>1717234</td>\n      <td>141565</td>\n      <td>-43</td>\n      <td>12.0</td>\n      <td>5.0</td>\n      <td>Active</td>\n      <td>0</td>\n      <td>0</td>\n    </tr>\n    <tr>\n      <th>8664356</th>\n      <td>1717234</td>\n      <td>141565</td>\n      <td>-42</td>\n      <td>12.0</td>\n      <td>4.0</td>\n      <td>Active</td>\n      <td>0</td>\n      <td>0</td>\n    </tr>\n    <tr>\n      <th>9753737</th>\n      <td>1717234</td>\n      <td>141565</td>\n      <td>-41</td>\n      <td>12.0</td>\n      <td>3.0</td>\n      <td>Active</td>\n      <td>0</td>\n      <td>0</td>\n    </tr>\n    <tr>\n      <th>9265655</th>\n      <td>1717234</td>\n      <td>141565</td>\n      <td>-40</td>\n      <td>12.0</td>\n      <td>2.0</td>\n      <td>Active</td>\n      <td>0</td>\n      <td>0</td>\n    </tr>\n    <tr>\n      <th>9983677</th>\n      <td>1717234</td>\n      <td>141565</td>\n      <td>-39</td>\n      <td>12.0</td>\n      <td>1.0</td>\n      <td>Active</td>\n      <td>0</td>\n      <td>0</td>\n    </tr>\n    <tr>\n      <th>9971039</th>\n      <td>1717234</td>\n      <td>141565</td>\n      <td>-38</td>\n      <td>12.0</td>\n      <td>0.0</td>\n      <td>Active</td>\n      <td>21</td>\n      <td>0</td>\n    </tr>\n    <tr>\n      <th>9977157</th>\n      <td>1717234</td>\n      <td>141565</td>\n      <td>-37</td>\n      <td>12.0</td>\n      <td>0.0</td>\n      <td>Active</td>\n      <td>52</td>\n      <td>0</td>\n    </tr>\n    <tr>\n      <th>9641447</th>\n      <td>1717234</td>\n      <td>141565</td>\n      <td>-36</td>\n      <td>12.0</td>\n      <td>0.0</td>\n      <td>Active</td>\n      <td>83</td>\n      <td>0</td>\n    </tr>\n    <tr>\n      <th>9976099</th>\n      <td>1717234</td>\n      <td>141565</td>\n      <td>-35</td>\n      <td>12.0</td>\n      <td>0.0</td>\n      <td>Active</td>\n      <td>113</td>\n      <td>0</td>\n    </tr>\n    <tr>\n      <th>9641726</th>\n      <td>1717234</td>\n      <td>141565</td>\n      <td>-34</td>\n      <td>12.0</td>\n      <td>0.0</td>\n      <td>Active</td>\n      <td>144</td>\n      <td>0</td>\n    </tr>\n    <tr>\n      <th>9977106</th>\n      <td>1717234</td>\n      <td>141565</td>\n      <td>-33</td>\n      <td>12.0</td>\n      <td>0.0</td>\n      <td>Active</td>\n      <td>174</td>\n      <td>0</td>\n    </tr>\n    <tr>\n      <th>9640732</th>\n      <td>1717234</td>\n      <td>141565</td>\n      <td>-32</td>\n      <td>12.0</td>\n      <td>0.0</td>\n      <td>Active</td>\n      <td>205</td>\n      <td>0</td>\n    </tr>\n    <tr>\n      <th>9975488</th>\n      <td>1717234</td>\n      <td>141565</td>\n      <td>-31</td>\n      <td>12.0</td>\n      <td>0.0</td>\n      <td>Active</td>\n      <td>236</td>\n      <td>0</td>\n    </tr>\n    <tr>\n      <th>9978379</th>\n      <td>1717234</td>\n      <td>141565</td>\n      <td>-30</td>\n      <td>12.0</td>\n      <td>0.0</td>\n      <td>Active</td>\n      <td>265</td>\n      <td>0</td>\n    </tr>\n    <tr>\n      <th>9975443</th>\n      <td>1717234</td>\n      <td>141565</td>\n      <td>-29</td>\n      <td>12.0</td>\n      <td>0.0</td>\n      <td>Active</td>\n      <td>296</td>\n      <td>0</td>\n    </tr>\n    <tr>\n      <th>8278914</th>\n      <td>1717234</td>\n      <td>141565</td>\n      <td>-28</td>\n      <td>12.0</td>\n      <td>0.0</td>\n      <td>Active</td>\n      <td>326</td>\n      <td>0</td>\n    </tr>\n    <tr>\n      <th>9996611</th>\n      <td>1717234</td>\n      <td>141565</td>\n      <td>-27</td>\n      <td>12.0</td>\n      <td>0.0</td>\n      <td>Active</td>\n      <td>357</td>\n      <td>0</td>\n    </tr>\n    <tr>\n      <th>9999708</th>\n      <td>1717234</td>\n      <td>141565</td>\n      <td>-26</td>\n      <td>12.0</td>\n      <td>0.0</td>\n      <td>Active</td>\n      <td>387</td>\n      <td>0</td>\n    </tr>\n    <tr>\n      <th>9999476</th>\n      <td>1717234</td>\n      <td>141565</td>\n      <td>-25</td>\n      <td>12.0</td>\n      <td>0.0</td>\n      <td>Active</td>\n      <td>418</td>\n      <td>0</td>\n    </tr>\n    <tr>\n      <th>8025186</th>\n      <td>1717234</td>\n      <td>141565</td>\n      <td>-24</td>\n      <td>12.0</td>\n      <td>0.0</td>\n      <td>Active</td>\n      <td>449</td>\n      <td>0</td>\n    </tr>\n    <tr>\n      <th>10000738</th>\n      <td>1717234</td>\n      <td>141565</td>\n      <td>-23</td>\n      <td>12.0</td>\n      <td>0.0</td>\n      <td>Active</td>\n      <td>479</td>\n      <td>0</td>\n    </tr>\n    <tr>\n      <th>10000710</th>\n      <td>1717234</td>\n      <td>141565</td>\n      <td>-22</td>\n      <td>12.0</td>\n      <td>0.0</td>\n      <td>Active</td>\n      <td>510</td>\n      <td>0</td>\n    </tr>\n    <tr>\n      <th>9999921</th>\n      <td>1717234</td>\n      <td>141565</td>\n      <td>-21</td>\n      <td>12.0</td>\n      <td>0.0</td>\n      <td>Active</td>\n      <td>540</td>\n      <td>0</td>\n    </tr>\n    <tr>\n      <th>9999273</th>\n      <td>1717234</td>\n      <td>141565</td>\n      <td>-20</td>\n      <td>12.0</td>\n      <td>0.0</td>\n      <td>Active</td>\n      <td>571</td>\n      <td>0</td>\n    </tr>\n    <tr>\n      <th>10001354</th>\n      <td>1717234</td>\n      <td>141565</td>\n      <td>-19</td>\n      <td>12.0</td>\n      <td>0.0</td>\n      <td>Active</td>\n      <td>602</td>\n      <td>0</td>\n    </tr>\n    <tr>\n      <th>10001330</th>\n      <td>1717234</td>\n      <td>141565</td>\n      <td>-18</td>\n      <td>12.0</td>\n      <td>0.0</td>\n      <td>Active</td>\n      <td>630</td>\n      <td>0</td>\n    </tr>\n    <tr>\n      <th>10001291</th>\n      <td>1717234</td>\n      <td>141565</td>\n      <td>-17</td>\n      <td>12.0</td>\n      <td>0.0</td>\n      <td>Active</td>\n      <td>661</td>\n      <td>0</td>\n    </tr>\n    <tr>\n      <th>10000060</th>\n      <td>1717234</td>\n      <td>141565</td>\n      <td>-16</td>\n      <td>12.0</td>\n      <td>0.0</td>\n      <td>Active</td>\n      <td>691</td>\n      <td>0</td>\n    </tr>\n    <tr>\n      <th>9999640</th>\n      <td>1717234</td>\n      <td>141565</td>\n      <td>-15</td>\n      <td>12.0</td>\n      <td>0.0</td>\n      <td>Active</td>\n      <td>722</td>\n      <td>0</td>\n    </tr>\n    <tr>\n      <th>9999585</th>\n      <td>1717234</td>\n      <td>141565</td>\n      <td>-14</td>\n      <td>12.0</td>\n      <td>0.0</td>\n      <td>Active</td>\n      <td>752</td>\n      <td>0</td>\n    </tr>\n    <tr>\n      <th>9790319</th>\n      <td>1717234</td>\n      <td>141565</td>\n      <td>-13</td>\n      <td>12.0</td>\n      <td>0.0</td>\n      <td>Active</td>\n      <td>783</td>\n      <td>0</td>\n    </tr>\n    <tr>\n      <th>10000320</th>\n      <td>1717234</td>\n      <td>141565</td>\n      <td>-12</td>\n      <td>12.0</td>\n      <td>0.0</td>\n      <td>Active</td>\n      <td>814</td>\n      <td>0</td>\n    </tr>\n    <tr>\n      <th>9999533</th>\n      <td>1717234</td>\n      <td>141565</td>\n      <td>-11</td>\n      <td>12.0</td>\n      <td>0.0</td>\n      <td>Active</td>\n      <td>844</td>\n      <td>0</td>\n    </tr>\n    <tr>\n      <th>9999162</th>\n      <td>1717234</td>\n      <td>141565</td>\n      <td>-10</td>\n      <td>12.0</td>\n      <td>0.0</td>\n      <td>Active</td>\n      <td>875</td>\n      <td>0</td>\n    </tr>\n    <tr>\n      <th>9999257</th>\n      <td>1717234</td>\n      <td>141565</td>\n      <td>-9</td>\n      <td>12.0</td>\n      <td>0.0</td>\n      <td>Active</td>\n      <td>905</td>\n      <td>0</td>\n    </tr>\n    <tr>\n      <th>9999240</th>\n      <td>1717234</td>\n      <td>141565</td>\n      <td>-8</td>\n      <td>12.0</td>\n      <td>0.0</td>\n      <td>Active</td>\n      <td>936</td>\n      <td>0</td>\n    </tr>\n    <tr>\n      <th>9791106</th>\n      <td>1717234</td>\n      <td>141565</td>\n      <td>-7</td>\n      <td>12.0</td>\n      <td>0.0</td>\n      <td>Active</td>\n      <td>967</td>\n      <td>0</td>\n    </tr>\n    <tr>\n      <th>8024935</th>\n      <td>1717234</td>\n      <td>141565</td>\n      <td>-6</td>\n      <td>12.0</td>\n      <td>0.0</td>\n      <td>Active</td>\n      <td>995</td>\n      <td>0</td>\n    </tr>\n    <tr>\n      <th>8025350</th>\n      <td>1717234</td>\n      <td>141565</td>\n      <td>-5</td>\n      <td>12.0</td>\n      <td>0.0</td>\n      <td>Active</td>\n      <td>1026</td>\n      <td>0</td>\n    </tr>\n    <tr>\n      <th>9791175</th>\n      <td>1717234</td>\n      <td>141565</td>\n      <td>-4</td>\n      <td>12.0</td>\n      <td>0.0</td>\n      <td>Active</td>\n      <td>1056</td>\n      <td>0</td>\n    </tr>\n    <tr>\n      <th>8024962</th>\n      <td>1717234</td>\n      <td>141565</td>\n      <td>-3</td>\n      <td>12.0</td>\n      <td>0.0</td>\n      <td>Active</td>\n      <td>1087</td>\n      <td>0</td>\n    </tr>\n    <tr>\n      <th>9791148</th>\n      <td>1717234</td>\n      <td>141565</td>\n      <td>-2</td>\n      <td>12.0</td>\n      <td>0.0</td>\n      <td>Active</td>\n      <td>1117</td>\n      <td>0</td>\n    </tr>\n  </tbody>\n</table>\n</div>"
     },
     "metadata": {}
    }
   ],
   "execution_count": 7
  },
  {
   "cell_type": "code",
   "source": "pmts[pmts.SK_ID_PREV == ID].sort_values(\"NUM_INSTALMENT_NUMBER\")",
   "metadata": {
    "tags": [],
    "cell_id": "00005-9187f9b2-a8b1-44d6-a6b8-09bc722630a5",
    "deepnote_to_be_reexecuted": false,
    "source_hash": "94a6de8c",
    "execution_start": 1632519158648,
    "execution_millis": 74,
    "deepnote_cell_type": "code"
   },
   "outputs": [
    {
     "output_type": "execute_result",
     "execution_count": 9,
     "data": {
      "application/vnd.deepnote.dataframe.v2+json": {
       "row_count": 20,
       "column_count": 8,
       "columns": [
        {
         "name": "SK_ID_PREV",
         "dtype": "int64",
         "stats": {
          "unique_count": 1,
          "nan_count": 0,
          "min": "1717234",
          "max": "1717234",
          "histogram": [
           {
            "bin_start": 1717233.5,
            "bin_end": 1717233.6,
            "count": 0
           },
           {
            "bin_start": 1717233.6,
            "bin_end": 1717233.7,
            "count": 0
           },
           {
            "bin_start": 1717233.7,
            "bin_end": 1717233.8,
            "count": 0
           },
           {
            "bin_start": 1717233.8,
            "bin_end": 1717233.9,
            "count": 0
           },
           {
            "bin_start": 1717233.9,
            "bin_end": 1717234,
            "count": 0
           },
           {
            "bin_start": 1717234,
            "bin_end": 1717234.1,
            "count": 20
           },
           {
            "bin_start": 1717234.1,
            "bin_end": 1717234.2,
            "count": 0
           },
           {
            "bin_start": 1717234.2,
            "bin_end": 1717234.3,
            "count": 0
           },
           {
            "bin_start": 1717234.3,
            "bin_end": 1717234.4,
            "count": 0
           },
           {
            "bin_start": 1717234.4,
            "bin_end": 1717234.5,
            "count": 0
           }
          ]
         }
        },
        {
         "name": "SK_ID_CURR",
         "dtype": "int64",
         "stats": {
          "unique_count": 1,
          "nan_count": 0,
          "min": "141565",
          "max": "141565",
          "histogram": [
           {
            "bin_start": 141564.5,
            "bin_end": 141564.6,
            "count": 0
           },
           {
            "bin_start": 141564.6,
            "bin_end": 141564.7,
            "count": 0
           },
           {
            "bin_start": 141564.7,
            "bin_end": 141564.8,
            "count": 0
           },
           {
            "bin_start": 141564.8,
            "bin_end": 141564.9,
            "count": 0
           },
           {
            "bin_start": 141564.9,
            "bin_end": 141565,
            "count": 0
           },
           {
            "bin_start": 141565,
            "bin_end": 141565.1,
            "count": 20
           },
           {
            "bin_start": 141565.1,
            "bin_end": 141565.2,
            "count": 0
           },
           {
            "bin_start": 141565.2,
            "bin_end": 141565.3,
            "count": 0
           },
           {
            "bin_start": 141565.3,
            "bin_end": 141565.4,
            "count": 0
           },
           {
            "bin_start": 141565.4,
            "bin_end": 141565.5,
            "count": 0
           }
          ]
         }
        },
        {
         "name": "NUM_INSTALMENT_VERSION",
         "dtype": "float64",
         "stats": {
          "unique_count": 1,
          "nan_count": 0,
          "min": "1.0",
          "max": "1.0",
          "histogram": [
           {
            "bin_start": 0.5,
            "bin_end": 0.6,
            "count": 0
           },
           {
            "bin_start": 0.6,
            "bin_end": 0.7,
            "count": 0
           },
           {
            "bin_start": 0.7,
            "bin_end": 0.8,
            "count": 0
           },
           {
            "bin_start": 0.8,
            "bin_end": 0.9,
            "count": 0
           },
           {
            "bin_start": 0.9,
            "bin_end": 1,
            "count": 0
           },
           {
            "bin_start": 1,
            "bin_end": 1.1,
            "count": 20
           },
           {
            "bin_start": 1.1,
            "bin_end": 1.2000000000000002,
            "count": 0
           },
           {
            "bin_start": 1.2000000000000002,
            "bin_end": 1.3,
            "count": 0
           },
           {
            "bin_start": 1.3,
            "bin_end": 1.4,
            "count": 0
           },
           {
            "bin_start": 1.4,
            "bin_end": 1.5,
            "count": 0
           }
          ]
         }
        },
        {
         "name": "NUM_INSTALMENT_NUMBER",
         "dtype": "int64",
         "stats": {
          "unique_count": 12,
          "nan_count": 0,
          "min": "1",
          "max": "12",
          "histogram": [
           {
            "bin_start": 1,
            "bin_end": 2.1,
            "count": 2
           },
           {
            "bin_start": 2.1,
            "bin_end": 3.2,
            "count": 2
           },
           {
            "bin_start": 3.2,
            "bin_end": 4.300000000000001,
            "count": 1
           },
           {
            "bin_start": 4.300000000000001,
            "bin_end": 5.4,
            "count": 2
           },
           {
            "bin_start": 5.4,
            "bin_end": 6.5,
            "count": 2
           },
           {
            "bin_start": 6.5,
            "bin_end": 7.6000000000000005,
            "count": 1
           },
           {
            "bin_start": 7.6000000000000005,
            "bin_end": 8.700000000000001,
            "count": 2
           },
           {
            "bin_start": 8.700000000000001,
            "bin_end": 9.8,
            "count": 2
           },
           {
            "bin_start": 9.8,
            "bin_end": 10.9,
            "count": 2
           },
           {
            "bin_start": 10.9,
            "bin_end": 12,
            "count": 4
           }
          ]
         }
        },
        {
         "name": "DAYS_INSTALMENT",
         "dtype": "float64",
         "stats": {
          "unique_count": 12,
          "nan_count": 0,
          "min": "-1482.0",
          "max": "-1152.0",
          "histogram": [
           {
            "bin_start": -1482,
            "bin_end": -1449,
            "count": 2
           },
           {
            "bin_start": -1449,
            "bin_end": -1416,
            "count": 2
           },
           {
            "bin_start": -1416,
            "bin_end": -1383,
            "count": 1
           },
           {
            "bin_start": -1383,
            "bin_end": -1350,
            "count": 2
           },
           {
            "bin_start": -1350,
            "bin_end": -1317,
            "count": 2
           },
           {
            "bin_start": -1317,
            "bin_end": -1284,
            "count": 1
           },
           {
            "bin_start": -1284,
            "bin_end": -1251,
            "count": 2
           },
           {
            "bin_start": -1251,
            "bin_end": -1218,
            "count": 2
           },
           {
            "bin_start": -1218,
            "bin_end": -1185,
            "count": 2
           },
           {
            "bin_start": -1185,
            "bin_end": -1152,
            "count": 4
           }
          ]
         }
        },
        {
         "name": "DAYS_ENTRY_PAYMENT",
         "dtype": "float64",
         "stats": {
          "unique_count": 12,
          "nan_count": 0,
          "min": "-1483.0",
          "max": "-1135.0",
          "histogram": [
           {
            "bin_start": -1483,
            "bin_end": -1448.2,
            "count": 3
           },
           {
            "bin_start": -1448.2,
            "bin_end": -1413.4,
            "count": 0
           },
           {
            "bin_start": -1413.4,
            "bin_end": -1378.6,
            "count": 3
           },
           {
            "bin_start": -1378.6,
            "bin_end": -1343.8,
            "count": 2
           },
           {
            "bin_start": -1343.8,
            "bin_end": -1309,
            "count": 1
           },
           {
            "bin_start": -1309,
            "bin_end": -1274.2,
            "count": 2
           },
           {
            "bin_start": -1274.2,
            "bin_end": -1239.4,
            "count": 2
           },
           {
            "bin_start": -1239.4,
            "bin_end": -1204.6,
            "count": 2
           },
           {
            "bin_start": -1204.6,
            "bin_end": -1169.8,
            "count": 4
           },
           {
            "bin_start": -1169.8,
            "bin_end": -1135,
            "count": 1
           }
          ]
         }
        },
        {
         "name": "AMT_INSTALMENT",
         "dtype": "float64",
         "stats": {
          "unique_count": 2,
          "nan_count": 0,
          "min": "3997.575",
          "max": "4042.89",
          "histogram": [
           {
            "bin_start": 3997.575,
            "bin_end": 4002.1065,
            "count": 2
           },
           {
            "bin_start": 4002.1065,
            "bin_end": 4006.638,
            "count": 0
           },
           {
            "bin_start": 4006.638,
            "bin_end": 4011.1695,
            "count": 0
           },
           {
            "bin_start": 4011.1695,
            "bin_end": 4015.701,
            "count": 0
           },
           {
            "bin_start": 4015.701,
            "bin_end": 4020.2325,
            "count": 0
           },
           {
            "bin_start": 4020.2325,
            "bin_end": 4024.7639999999997,
            "count": 0
           },
           {
            "bin_start": 4024.7639999999997,
            "bin_end": 4029.2954999999997,
            "count": 0
           },
           {
            "bin_start": 4029.2954999999997,
            "bin_end": 4033.8269999999998,
            "count": 0
           },
           {
            "bin_start": 4033.8269999999998,
            "bin_end": 4038.3585,
            "count": 0
           },
           {
            "bin_start": 4038.3585,
            "bin_end": 4042.89,
            "count": 18
           }
          ]
         }
        },
        {
         "name": "AMT_PAYMENT",
         "dtype": "float64",
         "stats": {
          "unique_count": 15,
          "nan_count": 0,
          "min": "5.22",
          "max": "4042.89",
          "histogram": [
           {
            "bin_start": 5.22,
            "bin_end": 408.987,
            "count": 8
           },
           {
            "bin_start": 408.987,
            "bin_end": 812.754,
            "count": 0
           },
           {
            "bin_start": 812.754,
            "bin_end": 1216.521,
            "count": 0
           },
           {
            "bin_start": 1216.521,
            "bin_end": 1620.288,
            "count": 0
           },
           {
            "bin_start": 1620.288,
            "bin_end": 2024.055,
            "count": 0
           },
           {
            "bin_start": 2024.055,
            "bin_end": 2427.8219999999997,
            "count": 0
           },
           {
            "bin_start": 2427.8219999999997,
            "bin_end": 2831.589,
            "count": 0
           },
           {
            "bin_start": 2831.589,
            "bin_end": 3235.3559999999998,
            "count": 0
           },
           {
            "bin_start": 3235.3559999999998,
            "bin_end": 3639.1229999999996,
            "count": 0
           },
           {
            "bin_start": 3639.1229999999996,
            "bin_end": 4042.89,
            "count": 12
           }
          ]
         }
        },
        {
         "name": "_deepnote_index_column",
         "dtype": "int64"
        }
       ],
       "rows_top": [
        {
         "SK_ID_PREV": 1717234,
         "SK_ID_CURR": 141565,
         "NUM_INSTALMENT_VERSION": 1,
         "NUM_INSTALMENT_NUMBER": 1,
         "DAYS_INSTALMENT": -1482,
         "DAYS_ENTRY_PAYMENT": -1483,
         "AMT_INSTALMENT": 4042.89,
         "AMT_PAYMENT": 4042.89,
         "_deepnote_index_column": 3726880
        },
        {
         "SK_ID_PREV": 1717234,
         "SK_ID_CURR": 141565,
         "NUM_INSTALMENT_VERSION": 1,
         "NUM_INSTALMENT_NUMBER": 2,
         "DAYS_INSTALMENT": -1452,
         "DAYS_ENTRY_PAYMENT": -1455,
         "AMT_INSTALMENT": 4042.89,
         "AMT_PAYMENT": 4042.89,
         "_deepnote_index_column": 3642193
        },
        {
         "SK_ID_PREV": 1717234,
         "SK_ID_CURR": 141565,
         "NUM_INSTALMENT_VERSION": 1,
         "NUM_INSTALMENT_NUMBER": 3,
         "DAYS_INSTALMENT": -1422,
         "DAYS_ENTRY_PAYMENT": -1398,
         "AMT_INSTALMENT": 4042.89,
         "AMT_PAYMENT": 4037.67,
         "_deepnote_index_column": 3576067
        },
        {
         "SK_ID_PREV": 1717234,
         "SK_ID_CURR": 141565,
         "NUM_INSTALMENT_VERSION": 1,
         "NUM_INSTALMENT_NUMBER": 3,
         "DAYS_INSTALMENT": -1422,
         "DAYS_ENTRY_PAYMENT": -1455,
         "AMT_INSTALMENT": 4042.89,
         "AMT_PAYMENT": 5.22,
         "_deepnote_index_column": 931612
        },
        {
         "SK_ID_PREV": 1717234,
         "SK_ID_CURR": 141565,
         "NUM_INSTALMENT_VERSION": 1,
         "NUM_INSTALMENT_NUMBER": 4,
         "DAYS_INSTALMENT": -1392,
         "DAYS_ENTRY_PAYMENT": -1393,
         "AMT_INSTALMENT": 4042.89,
         "AMT_PAYMENT": 4042.89,
         "_deepnote_index_column": 3732726
        },
        {
         "SK_ID_PREV": 1717234,
         "SK_ID_CURR": 141565,
         "NUM_INSTALMENT_VERSION": 1,
         "NUM_INSTALMENT_NUMBER": 5,
         "DAYS_INSTALMENT": -1362,
         "DAYS_ENTRY_PAYMENT": -1356,
         "AMT_INSTALMENT": 4042.89,
         "AMT_PAYMENT": 4032.45,
         "_deepnote_index_column": 2827888
        },
        {
         "SK_ID_PREV": 1717234,
         "SK_ID_CURR": 141565,
         "NUM_INSTALMENT_VERSION": 1,
         "NUM_INSTALMENT_NUMBER": 5,
         "DAYS_INSTALMENT": -1362,
         "DAYS_ENTRY_PAYMENT": -1393,
         "AMT_INSTALMENT": 4042.89,
         "AMT_PAYMENT": 10.44,
         "_deepnote_index_column": 2743687
        },
        {
         "SK_ID_PREV": 1717234,
         "SK_ID_CURR": 141565,
         "NUM_INSTALMENT_VERSION": 1,
         "NUM_INSTALMENT_NUMBER": 6,
         "DAYS_INSTALMENT": -1332,
         "DAYS_ENTRY_PAYMENT": -1356,
         "AMT_INSTALMENT": 4042.89,
         "AMT_PAYMENT": 10.44,
         "_deepnote_index_column": 3469060
        },
        {
         "SK_ID_PREV": 1717234,
         "SK_ID_CURR": 141565,
         "NUM_INSTALMENT_VERSION": 1,
         "NUM_INSTALMENT_NUMBER": 6,
         "DAYS_INSTALMENT": -1332,
         "DAYS_ENTRY_PAYMENT": -1320,
         "AMT_INSTALMENT": 4042.89,
         "AMT_PAYMENT": 4032.45,
         "_deepnote_index_column": 2959931
        },
        {
         "SK_ID_PREV": 1717234,
         "SK_ID_CURR": 141565,
         "NUM_INSTALMENT_VERSION": 1,
         "NUM_INSTALMENT_NUMBER": 7,
         "DAYS_INSTALMENT": -1302,
         "DAYS_ENTRY_PAYMENT": -1302,
         "AMT_INSTALMENT": 4042.89,
         "AMT_PAYMENT": 4042.89,
         "_deepnote_index_column": 2862989
        },
        {
         "SK_ID_PREV": 1717234,
         "SK_ID_CURR": 141565,
         "NUM_INSTALMENT_VERSION": 1,
         "NUM_INSTALMENT_NUMBER": 8,
         "DAYS_INSTALMENT": -1272,
         "DAYS_ENTRY_PAYMENT": -1302,
         "AMT_INSTALMENT": 4042.89,
         "AMT_PAYMENT": 10.575,
         "_deepnote_index_column": 2791610
        },
        {
         "SK_ID_PREV": 1717234,
         "SK_ID_CURR": 141565,
         "NUM_INSTALMENT_VERSION": 1,
         "NUM_INSTALMENT_NUMBER": 8,
         "DAYS_INSTALMENT": -1272,
         "DAYS_ENTRY_PAYMENT": -1267,
         "AMT_INSTALMENT": 4042.89,
         "AMT_PAYMENT": 4032.315,
         "_deepnote_index_column": 1976315
        },
        {
         "SK_ID_PREV": 1717234,
         "SK_ID_CURR": 141565,
         "NUM_INSTALMENT_VERSION": 1,
         "NUM_INSTALMENT_NUMBER": 9,
         "DAYS_INSTALMENT": -1242,
         "DAYS_ENTRY_PAYMENT": -1267,
         "AMT_INSTALMENT": 4042.89,
         "AMT_PAYMENT": 13.185,
         "_deepnote_index_column": 311041
        },
        {
         "SK_ID_PREV": 1717234,
         "SK_ID_CURR": 141565,
         "NUM_INSTALMENT_VERSION": 1,
         "NUM_INSTALMENT_NUMBER": 9,
         "DAYS_INSTALMENT": -1242,
         "DAYS_ENTRY_PAYMENT": -1232,
         "AMT_INSTALMENT": 4042.89,
         "AMT_PAYMENT": 4029.705,
         "_deepnote_index_column": 172877
        },
        {
         "SK_ID_PREV": 1717234,
         "SK_ID_CURR": 141565,
         "NUM_INSTALMENT_VERSION": 1,
         "NUM_INSTALMENT_NUMBER": 10,
         "DAYS_INSTALMENT": -1212,
         "DAYS_ENTRY_PAYMENT": -1201,
         "AMT_INSTALMENT": 4042.89,
         "AMT_PAYMENT": 4025.07,
         "_deepnote_index_column": 2799787
        },
        {
         "SK_ID_PREV": 1717234,
         "SK_ID_CURR": 141565,
         "NUM_INSTALMENT_VERSION": 1,
         "NUM_INSTALMENT_NUMBER": 10,
         "DAYS_INSTALMENT": -1212,
         "DAYS_ENTRY_PAYMENT": -1232,
         "AMT_INSTALMENT": 4042.89,
         "AMT_PAYMENT": 17.82,
         "_deepnote_index_column": 74482
        },
        {
         "SK_ID_PREV": 1717234,
         "SK_ID_CURR": 141565,
         "NUM_INSTALMENT_VERSION": 1,
         "NUM_INSTALMENT_NUMBER": 11,
         "DAYS_INSTALMENT": -1182,
         "DAYS_ENTRY_PAYMENT": -1177,
         "AMT_INSTALMENT": 4042.89,
         "AMT_PAYMENT": 3792.96,
         "_deepnote_index_column": 1789794
        },
        {
         "SK_ID_PREV": 1717234,
         "SK_ID_CURR": 141565,
         "NUM_INSTALMENT_VERSION": 1,
         "NUM_INSTALMENT_NUMBER": 11,
         "DAYS_INSTALMENT": -1182,
         "DAYS_ENTRY_PAYMENT": -1201,
         "AMT_INSTALMENT": 4042.89,
         "AMT_PAYMENT": 249.93,
         "_deepnote_index_column": 3227174
        },
        {
         "SK_ID_PREV": 1717234,
         "SK_ID_CURR": 141565,
         "NUM_INSTALMENT_VERSION": 1,
         "NUM_INSTALMENT_NUMBER": 12,
         "DAYS_INSTALMENT": -1152,
         "DAYS_ENTRY_PAYMENT": -1177,
         "AMT_INSTALMENT": 3997.575,
         "AMT_PAYMENT": 31.995,
         "_deepnote_index_column": 849725
        },
        {
         "SK_ID_PREV": 1717234,
         "SK_ID_CURR": 141565,
         "NUM_INSTALMENT_VERSION": 1,
         "NUM_INSTALMENT_NUMBER": 12,
         "DAYS_INSTALMENT": -1152,
         "DAYS_ENTRY_PAYMENT": -1135,
         "AMT_INSTALMENT": 3997.575,
         "AMT_PAYMENT": 3959.91,
         "_deepnote_index_column": 647102
        }
       ],
       "rows_bottom": null
      },
      "text/plain": "         SK_ID_PREV  SK_ID_CURR  NUM_INSTALMENT_VERSION  \\\n3726880     1717234      141565                     1.0   \n3642193     1717234      141565                     1.0   \n3576067     1717234      141565                     1.0   \n931612      1717234      141565                     1.0   \n3732726     1717234      141565                     1.0   \n2827888     1717234      141565                     1.0   \n2743687     1717234      141565                     1.0   \n3469060     1717234      141565                     1.0   \n2959931     1717234      141565                     1.0   \n2862989     1717234      141565                     1.0   \n2791610     1717234      141565                     1.0   \n1976315     1717234      141565                     1.0   \n311041      1717234      141565                     1.0   \n172877      1717234      141565                     1.0   \n2799787     1717234      141565                     1.0   \n74482       1717234      141565                     1.0   \n1789794     1717234      141565                     1.0   \n3227174     1717234      141565                     1.0   \n849725      1717234      141565                     1.0   \n647102      1717234      141565                     1.0   \n\n         NUM_INSTALMENT_NUMBER  DAYS_INSTALMENT  DAYS_ENTRY_PAYMENT  \\\n3726880                      1          -1482.0             -1483.0   \n3642193                      2          -1452.0             -1455.0   \n3576067                      3          -1422.0             -1398.0   \n931612                       3          -1422.0             -1455.0   \n3732726                      4          -1392.0             -1393.0   \n2827888                      5          -1362.0             -1356.0   \n2743687                      5          -1362.0             -1393.0   \n3469060                      6          -1332.0             -1356.0   \n2959931                      6          -1332.0             -1320.0   \n2862989                      7          -1302.0             -1302.0   \n2791610                      8          -1272.0             -1302.0   \n1976315                      8          -1272.0             -1267.0   \n311041                       9          -1242.0             -1267.0   \n172877                       9          -1242.0             -1232.0   \n2799787                     10          -1212.0             -1201.0   \n74482                       10          -1212.0             -1232.0   \n1789794                     11          -1182.0             -1177.0   \n3227174                     11          -1182.0             -1201.0   \n849725                      12          -1152.0             -1177.0   \n647102                      12          -1152.0             -1135.0   \n\n         AMT_INSTALMENT  AMT_PAYMENT  \n3726880        4042.890     4042.890  \n3642193        4042.890     4042.890  \n3576067        4042.890     4037.670  \n931612         4042.890        5.220  \n3732726        4042.890     4042.890  \n2827888        4042.890     4032.450  \n2743687        4042.890       10.440  \n3469060        4042.890       10.440  \n2959931        4042.890     4032.450  \n2862989        4042.890     4042.890  \n2791610        4042.890       10.575  \n1976315        4042.890     4032.315  \n311041         4042.890       13.185  \n172877         4042.890     4029.705  \n2799787        4042.890     4025.070  \n74482          4042.890       17.820  \n1789794        4042.890     3792.960  \n3227174        4042.890      249.930  \n849725         3997.575       31.995  \n647102         3997.575     3959.910  ",
      "text/html": "<div>\n<style scoped>\n    .dataframe tbody tr th:only-of-type {\n        vertical-align: middle;\n    }\n\n    .dataframe tbody tr th {\n        vertical-align: top;\n    }\n\n    .dataframe thead th {\n        text-align: right;\n    }\n</style>\n<table border=\"1\" class=\"dataframe\">\n  <thead>\n    <tr style=\"text-align: right;\">\n      <th></th>\n      <th>SK_ID_PREV</th>\n      <th>SK_ID_CURR</th>\n      <th>NUM_INSTALMENT_VERSION</th>\n      <th>NUM_INSTALMENT_NUMBER</th>\n      <th>DAYS_INSTALMENT</th>\n      <th>DAYS_ENTRY_PAYMENT</th>\n      <th>AMT_INSTALMENT</th>\n      <th>AMT_PAYMENT</th>\n    </tr>\n  </thead>\n  <tbody>\n    <tr>\n      <th>3726880</th>\n      <td>1717234</td>\n      <td>141565</td>\n      <td>1.0</td>\n      <td>1</td>\n      <td>-1482.0</td>\n      <td>-1483.0</td>\n      <td>4042.890</td>\n      <td>4042.890</td>\n    </tr>\n    <tr>\n      <th>3642193</th>\n      <td>1717234</td>\n      <td>141565</td>\n      <td>1.0</td>\n      <td>2</td>\n      <td>-1452.0</td>\n      <td>-1455.0</td>\n      <td>4042.890</td>\n      <td>4042.890</td>\n    </tr>\n    <tr>\n      <th>3576067</th>\n      <td>1717234</td>\n      <td>141565</td>\n      <td>1.0</td>\n      <td>3</td>\n      <td>-1422.0</td>\n      <td>-1398.0</td>\n      <td>4042.890</td>\n      <td>4037.670</td>\n    </tr>\n    <tr>\n      <th>931612</th>\n      <td>1717234</td>\n      <td>141565</td>\n      <td>1.0</td>\n      <td>3</td>\n      <td>-1422.0</td>\n      <td>-1455.0</td>\n      <td>4042.890</td>\n      <td>5.220</td>\n    </tr>\n    <tr>\n      <th>3732726</th>\n      <td>1717234</td>\n      <td>141565</td>\n      <td>1.0</td>\n      <td>4</td>\n      <td>-1392.0</td>\n      <td>-1393.0</td>\n      <td>4042.890</td>\n      <td>4042.890</td>\n    </tr>\n    <tr>\n      <th>2827888</th>\n      <td>1717234</td>\n      <td>141565</td>\n      <td>1.0</td>\n      <td>5</td>\n      <td>-1362.0</td>\n      <td>-1356.0</td>\n      <td>4042.890</td>\n      <td>4032.450</td>\n    </tr>\n    <tr>\n      <th>2743687</th>\n      <td>1717234</td>\n      <td>141565</td>\n      <td>1.0</td>\n      <td>5</td>\n      <td>-1362.0</td>\n      <td>-1393.0</td>\n      <td>4042.890</td>\n      <td>10.440</td>\n    </tr>\n    <tr>\n      <th>3469060</th>\n      <td>1717234</td>\n      <td>141565</td>\n      <td>1.0</td>\n      <td>6</td>\n      <td>-1332.0</td>\n      <td>-1356.0</td>\n      <td>4042.890</td>\n      <td>10.440</td>\n    </tr>\n    <tr>\n      <th>2959931</th>\n      <td>1717234</td>\n      <td>141565</td>\n      <td>1.0</td>\n      <td>6</td>\n      <td>-1332.0</td>\n      <td>-1320.0</td>\n      <td>4042.890</td>\n      <td>4032.450</td>\n    </tr>\n    <tr>\n      <th>2862989</th>\n      <td>1717234</td>\n      <td>141565</td>\n      <td>1.0</td>\n      <td>7</td>\n      <td>-1302.0</td>\n      <td>-1302.0</td>\n      <td>4042.890</td>\n      <td>4042.890</td>\n    </tr>\n    <tr>\n      <th>2791610</th>\n      <td>1717234</td>\n      <td>141565</td>\n      <td>1.0</td>\n      <td>8</td>\n      <td>-1272.0</td>\n      <td>-1302.0</td>\n      <td>4042.890</td>\n      <td>10.575</td>\n    </tr>\n    <tr>\n      <th>1976315</th>\n      <td>1717234</td>\n      <td>141565</td>\n      <td>1.0</td>\n      <td>8</td>\n      <td>-1272.0</td>\n      <td>-1267.0</td>\n      <td>4042.890</td>\n      <td>4032.315</td>\n    </tr>\n    <tr>\n      <th>311041</th>\n      <td>1717234</td>\n      <td>141565</td>\n      <td>1.0</td>\n      <td>9</td>\n      <td>-1242.0</td>\n      <td>-1267.0</td>\n      <td>4042.890</td>\n      <td>13.185</td>\n    </tr>\n    <tr>\n      <th>172877</th>\n      <td>1717234</td>\n      <td>141565</td>\n      <td>1.0</td>\n      <td>9</td>\n      <td>-1242.0</td>\n      <td>-1232.0</td>\n      <td>4042.890</td>\n      <td>4029.705</td>\n    </tr>\n    <tr>\n      <th>2799787</th>\n      <td>1717234</td>\n      <td>141565</td>\n      <td>1.0</td>\n      <td>10</td>\n      <td>-1212.0</td>\n      <td>-1201.0</td>\n      <td>4042.890</td>\n      <td>4025.070</td>\n    </tr>\n    <tr>\n      <th>74482</th>\n      <td>1717234</td>\n      <td>141565</td>\n      <td>1.0</td>\n      <td>10</td>\n      <td>-1212.0</td>\n      <td>-1232.0</td>\n      <td>4042.890</td>\n      <td>17.820</td>\n    </tr>\n    <tr>\n      <th>1789794</th>\n      <td>1717234</td>\n      <td>141565</td>\n      <td>1.0</td>\n      <td>11</td>\n      <td>-1182.0</td>\n      <td>-1177.0</td>\n      <td>4042.890</td>\n      <td>3792.960</td>\n    </tr>\n    <tr>\n      <th>3227174</th>\n      <td>1717234</td>\n      <td>141565</td>\n      <td>1.0</td>\n      <td>11</td>\n      <td>-1182.0</td>\n      <td>-1201.0</td>\n      <td>4042.890</td>\n      <td>249.930</td>\n    </tr>\n    <tr>\n      <th>849725</th>\n      <td>1717234</td>\n      <td>141565</td>\n      <td>1.0</td>\n      <td>12</td>\n      <td>-1152.0</td>\n      <td>-1177.0</td>\n      <td>3997.575</td>\n      <td>31.995</td>\n    </tr>\n    <tr>\n      <th>647102</th>\n      <td>1717234</td>\n      <td>141565</td>\n      <td>1.0</td>\n      <td>12</td>\n      <td>-1152.0</td>\n      <td>-1135.0</td>\n      <td>3997.575</td>\n      <td>3959.910</td>\n    </tr>\n  </tbody>\n</table>\n</div>"
     },
     "metadata": {}
    }
   ],
   "execution_count": 9
  },
  {
   "cell_type": "code",
   "source": "",
   "metadata": {
    "tags": [],
    "cell_id": "00005-4de05c52-a76e-4fb3-a4a5-28ccacb1c974",
    "deepnote_to_be_reexecuted": false,
    "source_hash": "b623e53d",
    "execution_start": 1632518457428,
    "execution_millis": 43626,
    "deepnote_cell_type": "code"
   },
   "outputs": [],
   "execution_count": null
  },
  {
   "cell_type": "code",
   "source": "",
   "metadata": {
    "tags": [],
    "cell_id": "00005-6060a922-67a5-4dc0-a2a8-e9a640f3ed56",
    "deepnote_to_be_reexecuted": false,
    "source_hash": "b623e53d",
    "execution_start": 1632518457429,
    "execution_millis": 43626,
    "deepnote_cell_type": "code"
   },
   "outputs": [],
   "execution_count": null
  },
  {
   "cell_type": "markdown",
   "source": "<a style='text-decoration:none;line-height:16px;display:flex;color:#5B5B62;padding:10px;justify-content:end;' href='https://deepnote.com?utm_source=created-in-deepnote-cell&projectId=9263f292-ea73-48e7-8892-f3d3ed1db03c' target=\"_blank\">\n<img alt='Created in deepnote.com' style='display:inline;max-height:16px;margin:0px;margin-right:7.5px;' src='data:image/svg+xml;base64,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' > </img>\nCreated in <span style='font-weight:600;margin-left:4px;'>Deepnote</span></a>",
   "metadata": {
    "tags": [],
    "created_in_deepnote_cell": true,
    "deepnote_cell_type": "markdown"
   }
  }
 ],
 "nbformat": 4,
 "nbformat_minor": 2,
 "metadata": {
  "orig_nbformat": 2,
  "deepnote": {
   "is_reactive": false
  },
  "deepnote_notebook_id": "60a2e636-3edd-4a2d-a2e8-b14a8dea928e",
  "deepnote_execution_queue": []
 }
}
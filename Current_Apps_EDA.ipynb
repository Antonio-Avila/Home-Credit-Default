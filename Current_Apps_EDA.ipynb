{
 "cells": [
  {
   "cell_type": "code",
   "metadata": {
    "tags": [],
    "cell_id": "00000-735ac604-9882-4198-b0b6-3d3cf9b37bd1",
    "deepnote_to_be_reexecuted": false,
    "source_hash": "bb3581b5",
    "execution_start": 1623821032969,
    "execution_millis": 10158,
    "deepnote_cell_type": "code"
   },
   "source": "import pandas as pd\nimport numpy as np\nimport matplotlib.pyplot as plt\nplt.style.use('ggplot')\n%matplotlib inline\nimport pylab\npylab.rcParams['figure.figsize'] = (15, 10)\n\nimport seaborn as sns\nfrom scipy import stats\n!pip install statsmodels\nimport statsmodels.api as sm\nimport time",
   "execution_count": 1,
   "outputs": [
    {
     "name": "stdout",
     "text": "Collecting statsmodels\n  Downloading statsmodels-0.12.2-cp37-cp37m-manylinux1_x86_64.whl (9.5 MB)\n\u001b[K     |████████████████████████████████| 9.5 MB 30.6 MB/s \n\u001b[?25hRequirement already satisfied: numpy>=1.15 in /shared-libs/python3.7/py/lib/python3.7/site-packages (from statsmodels) (1.19.5)\nRequirement already satisfied: scipy>=1.1 in /shared-libs/python3.7/py/lib/python3.7/site-packages (from statsmodels) (1.6.3)\nRequirement already satisfied: pandas>=0.21 in /shared-libs/python3.7/py/lib/python3.7/site-packages (from statsmodels) (1.2.4)\nCollecting patsy>=0.5\n  Downloading patsy-0.5.1-py2.py3-none-any.whl (231 kB)\n\u001b[K     |████████████████████████████████| 231 kB 50.1 MB/s \n\u001b[?25hRequirement already satisfied: python-dateutil>=2.7.3 in /shared-libs/python3.7/py-core/lib/python3.7/site-packages (from pandas>=0.21->statsmodels) (2.8.1)\nRequirement already satisfied: pytz>=2017.3 in /shared-libs/python3.7/py/lib/python3.7/site-packages (from pandas>=0.21->statsmodels) (2021.1)\nRequirement already satisfied: six in /shared-libs/python3.7/py-core/lib/python3.7/site-packages (from patsy>=0.5->statsmodels) (1.16.0)\nInstalling collected packages: patsy, statsmodels\nSuccessfully installed patsy-0.5.1 statsmodels-0.12.2\n",
     "output_type": "stream"
    }
   ]
  },
  {
   "cell_type": "code",
   "metadata": {
    "tags": [],
    "cell_id": "00001-0d2342af-1339-4dbb-8c85-3adad8a5e117",
    "deepnote_to_be_reexecuted": false,
    "source_hash": "9ee867f6",
    "execution_start": 1623821043136,
    "execution_millis": 2214,
    "deepnote_cell_type": "code"
   },
   "source": "app_train_red = pd.read_csv(\"app_train_red.csv\")\n# app_test_red = pd.read_csv(\"app_test_red.csv\")",
   "execution_count": 2,
   "outputs": []
  },
  {
   "cell_type": "code",
   "metadata": {
    "tags": [],
    "cell_id": "00002-2e796492-f492-4f9e-bbfd-c3cb3a1b64f8",
    "deepnote_to_be_reexecuted": false,
    "source_hash": "38dc54d3",
    "execution_start": 1623821045356,
    "execution_millis": 279,
    "deepnote_cell_type": "code"
   },
   "source": "# app_train_red.drop(\"0\")\napp_train_red.head()",
   "execution_count": 3,
   "outputs": [
    {
     "output_type": "execute_result",
     "execution_count": 3,
     "data": {
      "application/vnd.deepnote.dataframe.v2+json": {
       "row_count": 5,
       "column_count": 69,
       "columns": [
        {
         "name": "SK_ID_CURR",
         "dtype": "int64",
         "stats": {
          "unique_count": 5,
          "nan_count": 0,
          "min": "100002",
          "max": "100007",
          "histogram": [
           {
            "bin_start": 100002,
            "bin_end": 100002.5,
            "count": 1
           },
           {
            "bin_start": 100002.5,
            "bin_end": 100003,
            "count": 0
           },
           {
            "bin_start": 100003,
            "bin_end": 100003.5,
            "count": 1
           },
           {
            "bin_start": 100003.5,
            "bin_end": 100004,
            "count": 0
           },
           {
            "bin_start": 100004,
            "bin_end": 100004.5,
            "count": 1
           },
           {
            "bin_start": 100004.5,
            "bin_end": 100005,
            "count": 0
           },
           {
            "bin_start": 100005,
            "bin_end": 100005.5,
            "count": 0
           },
           {
            "bin_start": 100005.5,
            "bin_end": 100006,
            "count": 0
           },
           {
            "bin_start": 100006,
            "bin_end": 100006.5,
            "count": 1
           },
           {
            "bin_start": 100006.5,
            "bin_end": 100007,
            "count": 1
           }
          ]
         }
        },
        {
         "name": "TARGET",
         "dtype": "int64",
         "stats": {
          "unique_count": 2,
          "nan_count": 0,
          "min": "0",
          "max": "1",
          "histogram": [
           {
            "bin_start": 0,
            "bin_end": 0.1,
            "count": 4
           },
           {
            "bin_start": 0.1,
            "bin_end": 0.2,
            "count": 0
           },
           {
            "bin_start": 0.2,
            "bin_end": 0.30000000000000004,
            "count": 0
           },
           {
            "bin_start": 0.30000000000000004,
            "bin_end": 0.4,
            "count": 0
           },
           {
            "bin_start": 0.4,
            "bin_end": 0.5,
            "count": 0
           },
           {
            "bin_start": 0.5,
            "bin_end": 0.6000000000000001,
            "count": 0
           },
           {
            "bin_start": 0.6000000000000001,
            "bin_end": 0.7000000000000001,
            "count": 0
           },
           {
            "bin_start": 0.7000000000000001,
            "bin_end": 0.8,
            "count": 0
           },
           {
            "bin_start": 0.8,
            "bin_end": 0.9,
            "count": 0
           },
           {
            "bin_start": 0.9,
            "bin_end": 1,
            "count": 1
           }
          ]
         }
        },
        {
         "name": "NAME_CONTRACT_TYPE",
         "dtype": "object",
         "stats": {
          "unique_count": 2,
          "nan_count": 0,
          "categories": [
           {
            "name": "Cash loans",
            "count": 4
           },
           {
            "name": "Revolving loans",
            "count": 1
           }
          ]
         }
        },
        {
         "name": "CODE_GENDER",
         "dtype": "object",
         "stats": {
          "unique_count": 2,
          "nan_count": 0,
          "categories": [
           {
            "name": "M",
            "count": 3
           },
           {
            "name": "F",
            "count": 2
           }
          ]
         }
        },
        {
         "name": "FLAG_OWN_CAR",
         "dtype": "object",
         "stats": {
          "unique_count": 2,
          "nan_count": 0,
          "categories": [
           {
            "name": "N",
            "count": 4
           },
           {
            "name": "Y",
            "count": 1
           }
          ]
         }
        },
        {
         "name": "FLAG_OWN_REALTY",
         "dtype": "object",
         "stats": {
          "unique_count": 2,
          "nan_count": 0,
          "categories": [
           {
            "name": "Y",
            "count": 4
           },
           {
            "name": "N",
            "count": 1
           }
          ]
         }
        },
        {
         "name": "CNT_CHILDREN",
         "dtype": "int64",
         "stats": {
          "unique_count": 1,
          "nan_count": 0,
          "min": "0",
          "max": "0",
          "histogram": [
           {
            "bin_start": -0.5,
            "bin_end": -0.4,
            "count": 0
           },
           {
            "bin_start": -0.4,
            "bin_end": -0.3,
            "count": 0
           },
           {
            "bin_start": -0.3,
            "bin_end": -0.19999999999999996,
            "count": 0
           },
           {
            "bin_start": -0.19999999999999996,
            "bin_end": -0.09999999999999998,
            "count": 0
           },
           {
            "bin_start": -0.09999999999999998,
            "bin_end": 0,
            "count": 0
           },
           {
            "bin_start": 0,
            "bin_end": 0.10000000000000009,
            "count": 5
           },
           {
            "bin_start": 0.10000000000000009,
            "bin_end": 0.20000000000000007,
            "count": 0
           },
           {
            "bin_start": 0.20000000000000007,
            "bin_end": 0.30000000000000004,
            "count": 0
           },
           {
            "bin_start": 0.30000000000000004,
            "bin_end": 0.4,
            "count": 0
           },
           {
            "bin_start": 0.4,
            "bin_end": 0.5,
            "count": 0
           }
          ]
         }
        },
        {
         "name": "AMT_INCOME_TOTAL",
         "dtype": "float64",
         "stats": {
          "unique_count": 5,
          "nan_count": 0,
          "min": "67500.0",
          "max": "270000.0",
          "histogram": [
           {
            "bin_start": 67500,
            "bin_end": 87750,
            "count": 1
           },
           {
            "bin_start": 87750,
            "bin_end": 108000,
            "count": 0
           },
           {
            "bin_start": 108000,
            "bin_end": 128250,
            "count": 1
           },
           {
            "bin_start": 128250,
            "bin_end": 148500,
            "count": 1
           },
           {
            "bin_start": 148500,
            "bin_end": 168750,
            "count": 0
           },
           {
            "bin_start": 168750,
            "bin_end": 189000,
            "count": 0
           },
           {
            "bin_start": 189000,
            "bin_end": 209250,
            "count": 1
           },
           {
            "bin_start": 209250,
            "bin_end": 229500,
            "count": 0
           },
           {
            "bin_start": 229500,
            "bin_end": 249750,
            "count": 0
           },
           {
            "bin_start": 249750,
            "bin_end": 270000,
            "count": 1
           }
          ]
         }
        },
        {
         "name": "AMT_CREDIT",
         "dtype": "float64",
         "stats": {
          "unique_count": 5,
          "nan_count": 0,
          "min": "135000.0",
          "max": "1293502.5",
          "histogram": [
           {
            "bin_start": 135000,
            "bin_end": 250850.25,
            "count": 1
           },
           {
            "bin_start": 250850.25,
            "bin_end": 366700.5,
            "count": 1
           },
           {
            "bin_start": 366700.5,
            "bin_end": 482550.75,
            "count": 1
           },
           {
            "bin_start": 482550.75,
            "bin_end": 598401,
            "count": 1
           },
           {
            "bin_start": 598401,
            "bin_end": 714251.25,
            "count": 0
           },
           {
            "bin_start": 714251.25,
            "bin_end": 830101.5,
            "count": 0
           },
           {
            "bin_start": 830101.5,
            "bin_end": 945951.75,
            "count": 0
           },
           {
            "bin_start": 945951.75,
            "bin_end": 1061802,
            "count": 0
           },
           {
            "bin_start": 1061802,
            "bin_end": 1177652.25,
            "count": 0
           },
           {
            "bin_start": 1177652.25,
            "bin_end": 1293502.5,
            "count": 1
           }
          ]
         }
        },
        {
         "name": "AMT_ANNUITY",
         "dtype": "float64",
         "stats": {
          "unique_count": 5,
          "nan_count": 0,
          "min": "6750.0",
          "max": "35698.5",
          "histogram": [
           {
            "bin_start": 6750,
            "bin_end": 9644.85,
            "count": 1
           },
           {
            "bin_start": 9644.85,
            "bin_end": 12539.7,
            "count": 0
           },
           {
            "bin_start": 12539.7,
            "bin_end": 15434.55,
            "count": 0
           },
           {
            "bin_start": 15434.55,
            "bin_end": 18329.4,
            "count": 0
           },
           {
            "bin_start": 18329.4,
            "bin_end": 21224.25,
            "count": 0
           },
           {
            "bin_start": 21224.25,
            "bin_end": 24119.1,
            "count": 1
           },
           {
            "bin_start": 24119.1,
            "bin_end": 27013.95,
            "count": 1
           },
           {
            "bin_start": 27013.95,
            "bin_end": 29908.8,
            "count": 1
           },
           {
            "bin_start": 29908.8,
            "bin_end": 32803.649999999994,
            "count": 0
           },
           {
            "bin_start": 32803.649999999994,
            "bin_end": 35698.5,
            "count": 1
           }
          ]
         }
        },
        {
         "name": "AMT_GOODS_PRICE",
         "dtype": "float64",
         "stats": {
          "unique_count": 5,
          "nan_count": 0,
          "min": "135000.0",
          "max": "1129500.0",
          "histogram": [
           {
            "bin_start": 135000,
            "bin_end": 234450,
            "count": 1
           },
           {
            "bin_start": 234450,
            "bin_end": 333900,
            "count": 1
           },
           {
            "bin_start": 333900,
            "bin_end": 433350,
            "count": 1
           },
           {
            "bin_start": 433350,
            "bin_end": 532800,
            "count": 1
           },
           {
            "bin_start": 532800,
            "bin_end": 632250,
            "count": 0
           },
           {
            "bin_start": 632250,
            "bin_end": 731700,
            "count": 0
           },
           {
            "bin_start": 731700,
            "bin_end": 831150,
            "count": 0
           },
           {
            "bin_start": 831150,
            "bin_end": 930600,
            "count": 0
           },
           {
            "bin_start": 930600,
            "bin_end": 1030050,
            "count": 0
           },
           {
            "bin_start": 1030050,
            "bin_end": 1129500,
            "count": 1
           }
          ]
         }
        },
        {
         "name": "NAME_TYPE_SUITE",
         "dtype": "object",
         "stats": {
          "unique_count": 2,
          "nan_count": 0,
          "categories": [
           {
            "name": "Unaccompanied",
            "count": 4
           },
           {
            "name": "Family",
            "count": 1
           }
          ]
         }
        },
        {
         "name": "NAME_INCOME_TYPE",
         "dtype": "object",
         "stats": {
          "unique_count": 2,
          "nan_count": 0,
          "categories": [
           {
            "name": "Working",
            "count": 4
           },
           {
            "name": "State servant",
            "count": 1
           }
          ]
         }
        },
        {
         "name": "NAME_EDUCATION_TYPE",
         "dtype": "object",
         "stats": {
          "unique_count": 2,
          "nan_count": 0,
          "categories": [
           {
            "name": "Secondary / secondary special",
            "count": 4
           },
           {
            "name": "Higher education",
            "count": 1
           }
          ]
         }
        },
        {
         "name": "NAME_FAMILY_STATUS",
         "dtype": "object",
         "stats": {
          "unique_count": 3,
          "nan_count": 0,
          "categories": [
           {
            "name": "Single / not married",
            "count": 3
           },
           {
            "name": "Married",
            "count": 1
           },
           {
            "name": "Civil marriage",
            "count": 1
           }
          ]
         }
        },
        {
         "name": "NAME_HOUSING_TYPE",
         "dtype": "object",
         "stats": {
          "unique_count": 1,
          "nan_count": 0,
          "categories": [
           {
            "name": "House / apartment",
            "count": 5
           }
          ]
         }
        },
        {
         "name": "REGION_POPULATION_RELATIVE",
         "dtype": "float64",
         "stats": {
          "unique_count": 5,
          "nan_count": 0,
          "min": "0.0035409999999999",
          "max": "0.028663",
          "histogram": [
           {
            "bin_start": 0.0035409999999999,
            "bin_end": 0.0060531999999999106,
            "count": 1
           },
           {
            "bin_start": 0.0060531999999999106,
            "bin_end": 0.008565399999999921,
            "count": 1
           },
           {
            "bin_start": 0.008565399999999921,
            "bin_end": 0.01107759999999993,
            "count": 1
           },
           {
            "bin_start": 0.01107759999999993,
            "bin_end": 0.013589799999999942,
            "count": 0
           },
           {
            "bin_start": 0.013589799999999942,
            "bin_end": 0.01610199999999995,
            "count": 0
           },
           {
            "bin_start": 0.01610199999999995,
            "bin_end": 0.018614199999999963,
            "count": 0
           },
           {
            "bin_start": 0.018614199999999963,
            "bin_end": 0.021126399999999976,
            "count": 1
           },
           {
            "bin_start": 0.021126399999999976,
            "bin_end": 0.023638599999999982,
            "count": 0
           },
           {
            "bin_start": 0.023638599999999982,
            "bin_end": 0.026150799999999995,
            "count": 0
           },
           {
            "bin_start": 0.026150799999999995,
            "bin_end": 0.028663,
            "count": 1
           }
          ]
         }
        },
        {
         "name": "DAYS_BIRTH",
         "dtype": "int64",
         "stats": {
          "unique_count": 5,
          "nan_count": 0,
          "min": "-19932",
          "max": "-9461",
          "histogram": [
           {
            "bin_start": -19932,
            "bin_end": -18884.9,
            "count": 3
           },
           {
            "bin_start": -18884.9,
            "bin_end": -17837.8,
            "count": 0
           },
           {
            "bin_start": -17837.8,
            "bin_end": -16790.7,
            "count": 0
           },
           {
            "bin_start": -16790.7,
            "bin_end": -15743.6,
            "count": 1
           },
           {
            "bin_start": -15743.6,
            "bin_end": -14696.5,
            "count": 0
           },
           {
            "bin_start": -14696.5,
            "bin_end": -13649.400000000001,
            "count": 0
           },
           {
            "bin_start": -13649.400000000001,
            "bin_end": -12602.300000000001,
            "count": 0
           },
           {
            "bin_start": -12602.300000000001,
            "bin_end": -11555.2,
            "count": 0
           },
           {
            "bin_start": -11555.2,
            "bin_end": -10508.1,
            "count": 0
           },
           {
            "bin_start": -10508.1,
            "bin_end": -9461,
            "count": 1
           }
          ]
         }
        },
        {
         "name": "DAYS_EMPLOYED",
         "dtype": "int64",
         "stats": {
          "unique_count": 5,
          "nan_count": 0,
          "min": "-3039",
          "max": "-225",
          "histogram": [
           {
            "bin_start": -3039,
            "bin_end": -2757.6,
            "count": 2
           },
           {
            "bin_start": -2757.6,
            "bin_end": -2476.2,
            "count": 0
           },
           {
            "bin_start": -2476.2,
            "bin_end": -2194.8,
            "count": 0
           },
           {
            "bin_start": -2194.8,
            "bin_end": -1913.4,
            "count": 0
           },
           {
            "bin_start": -1913.4,
            "bin_end": -1632,
            "count": 0
           },
           {
            "bin_start": -1632,
            "bin_end": -1350.6000000000001,
            "count": 0
           },
           {
            "bin_start": -1350.6000000000001,
            "bin_end": -1069.2000000000003,
            "count": 1
           },
           {
            "bin_start": -1069.2000000000003,
            "bin_end": -787.8000000000002,
            "count": 0
           },
           {
            "bin_start": -787.8000000000002,
            "bin_end": -506.4000000000001,
            "count": 1
           },
           {
            "bin_start": -506.4000000000001,
            "bin_end": -225,
            "count": 1
           }
          ]
         }
        },
        {
         "name": "DAYS_REGISTRATION",
         "dtype": "float64",
         "stats": {
          "unique_count": 5,
          "nan_count": 0,
          "min": "-9833.0",
          "max": "-1186.0",
          "histogram": [
           {
            "bin_start": -9833,
            "bin_end": -8968.3,
            "count": 1
           },
           {
            "bin_start": -8968.3,
            "bin_end": -8103.6,
            "count": 0
           },
           {
            "bin_start": -8103.6,
            "bin_end": -7238.9,
            "count": 0
           },
           {
            "bin_start": -7238.9,
            "bin_end": -6374.2,
            "count": 0
           },
           {
            "bin_start": -6374.2,
            "bin_end": -5509.5,
            "count": 0
           },
           {
            "bin_start": -5509.5,
            "bin_end": -4644.799999999999,
            "count": 0
           },
           {
            "bin_start": -4644.799999999999,
            "bin_end": -3780.0999999999995,
            "count": 2
           },
           {
            "bin_start": -3780.0999999999995,
            "bin_end": -2915.3999999999996,
            "count": 1
           },
           {
            "bin_start": -2915.3999999999996,
            "bin_end": -2050.7,
            "count": 0
           },
           {
            "bin_start": -2050.7,
            "bin_end": -1186,
            "count": 1
           }
          ]
         }
        },
        {
         "name": "DAYS_ID_PUBLISH",
         "dtype": "int64",
         "stats": {
          "unique_count": 5,
          "nan_count": 0,
          "min": "-3458",
          "max": "-291",
          "histogram": [
           {
            "bin_start": -3458,
            "bin_end": -3141.3,
            "count": 1
           },
           {
            "bin_start": -3141.3,
            "bin_end": -2824.6,
            "count": 0
           },
           {
            "bin_start": -2824.6,
            "bin_end": -2507.9,
            "count": 1
           },
           {
            "bin_start": -2507.9,
            "bin_end": -2191.2,
            "count": 1
           },
           {
            "bin_start": -2191.2,
            "bin_end": -1874.5,
            "count": 1
           },
           {
            "bin_start": -1874.5,
            "bin_end": -1557.8000000000002,
            "count": 0
           },
           {
            "bin_start": -1557.8000000000002,
            "bin_end": -1241.1,
            "count": 0
           },
           {
            "bin_start": -1241.1,
            "bin_end": -924.4000000000001,
            "count": 0
           },
           {
            "bin_start": -924.4000000000001,
            "bin_end": -607.7000000000003,
            "count": 0
           },
           {
            "bin_start": -607.7000000000003,
            "bin_end": -291,
            "count": 1
           }
          ]
         }
        },
        {
         "name": "OWN_CAR_AGE",
         "dtype": "float64",
         "stats": {
          "unique_count": 1,
          "nan_count": 4,
          "min": "26.0",
          "max": "26.0",
          "histogram": [
           {
            "bin_start": 25.5,
            "bin_end": 25.6,
            "count": 0
           },
           {
            "bin_start": 25.6,
            "bin_end": 25.7,
            "count": 0
           },
           {
            "bin_start": 25.7,
            "bin_end": 25.8,
            "count": 0
           },
           {
            "bin_start": 25.8,
            "bin_end": 25.9,
            "count": 0
           },
           {
            "bin_start": 25.9,
            "bin_end": 26,
            "count": 0
           },
           {
            "bin_start": 26,
            "bin_end": 26.1,
            "count": 1
           },
           {
            "bin_start": 26.1,
            "bin_end": 26.2,
            "count": 0
           },
           {
            "bin_start": 26.2,
            "bin_end": 26.3,
            "count": 0
           },
           {
            "bin_start": 26.3,
            "bin_end": 26.4,
            "count": 0
           },
           {
            "bin_start": 26.4,
            "bin_end": 26.5,
            "count": 0
           }
          ]
         }
        },
        {
         "name": "FLAG_MOBIL",
         "dtype": "int64",
         "stats": {
          "unique_count": 1,
          "nan_count": 0,
          "min": "1",
          "max": "1",
          "histogram": [
           {
            "bin_start": 0.5,
            "bin_end": 0.6,
            "count": 0
           },
           {
            "bin_start": 0.6,
            "bin_end": 0.7,
            "count": 0
           },
           {
            "bin_start": 0.7,
            "bin_end": 0.8,
            "count": 0
           },
           {
            "bin_start": 0.8,
            "bin_end": 0.9,
            "count": 0
           },
           {
            "bin_start": 0.9,
            "bin_end": 1,
            "count": 0
           },
           {
            "bin_start": 1,
            "bin_end": 1.1,
            "count": 5
           },
           {
            "bin_start": 1.1,
            "bin_end": 1.2000000000000002,
            "count": 0
           },
           {
            "bin_start": 1.2000000000000002,
            "bin_end": 1.3,
            "count": 0
           },
           {
            "bin_start": 1.3,
            "bin_end": 1.4,
            "count": 0
           },
           {
            "bin_start": 1.4,
            "bin_end": 1.5,
            "count": 0
           }
          ]
         }
        },
        {
         "name": "FLAG_EMP_PHONE",
         "dtype": "int64",
         "stats": {
          "unique_count": 1,
          "nan_count": 0,
          "min": "1",
          "max": "1",
          "histogram": [
           {
            "bin_start": 0.5,
            "bin_end": 0.6,
            "count": 0
           },
           {
            "bin_start": 0.6,
            "bin_end": 0.7,
            "count": 0
           },
           {
            "bin_start": 0.7,
            "bin_end": 0.8,
            "count": 0
           },
           {
            "bin_start": 0.8,
            "bin_end": 0.9,
            "count": 0
           },
           {
            "bin_start": 0.9,
            "bin_end": 1,
            "count": 0
           },
           {
            "bin_start": 1,
            "bin_end": 1.1,
            "count": 5
           },
           {
            "bin_start": 1.1,
            "bin_end": 1.2000000000000002,
            "count": 0
           },
           {
            "bin_start": 1.2000000000000002,
            "bin_end": 1.3,
            "count": 0
           },
           {
            "bin_start": 1.3,
            "bin_end": 1.4,
            "count": 0
           },
           {
            "bin_start": 1.4,
            "bin_end": 1.5,
            "count": 0
           }
          ]
         }
        },
        {
         "name": "FLAG_WORK_PHONE",
         "dtype": "int64",
         "stats": {
          "unique_count": 2,
          "nan_count": 0,
          "min": "0",
          "max": "1",
          "histogram": [
           {
            "bin_start": 0,
            "bin_end": 0.1,
            "count": 4
           },
           {
            "bin_start": 0.1,
            "bin_end": 0.2,
            "count": 0
           },
           {
            "bin_start": 0.2,
            "bin_end": 0.30000000000000004,
            "count": 0
           },
           {
            "bin_start": 0.30000000000000004,
            "bin_end": 0.4,
            "count": 0
           },
           {
            "bin_start": 0.4,
            "bin_end": 0.5,
            "count": 0
           },
           {
            "bin_start": 0.5,
            "bin_end": 0.6000000000000001,
            "count": 0
           },
           {
            "bin_start": 0.6000000000000001,
            "bin_end": 0.7000000000000001,
            "count": 0
           },
           {
            "bin_start": 0.7000000000000001,
            "bin_end": 0.8,
            "count": 0
           },
           {
            "bin_start": 0.8,
            "bin_end": 0.9,
            "count": 0
           },
           {
            "bin_start": 0.9,
            "bin_end": 1,
            "count": 1
           }
          ]
         }
        },
        {
         "name": "FLAG_CONT_MOBILE",
         "dtype": "int64",
         "stats": {
          "unique_count": 1,
          "nan_count": 0,
          "min": "1",
          "max": "1",
          "histogram": [
           {
            "bin_start": 0.5,
            "bin_end": 0.6,
            "count": 0
           },
           {
            "bin_start": 0.6,
            "bin_end": 0.7,
            "count": 0
           },
           {
            "bin_start": 0.7,
            "bin_end": 0.8,
            "count": 0
           },
           {
            "bin_start": 0.8,
            "bin_end": 0.9,
            "count": 0
           },
           {
            "bin_start": 0.9,
            "bin_end": 1,
            "count": 0
           },
           {
            "bin_start": 1,
            "bin_end": 1.1,
            "count": 5
           },
           {
            "bin_start": 1.1,
            "bin_end": 1.2000000000000002,
            "count": 0
           },
           {
            "bin_start": 1.2000000000000002,
            "bin_end": 1.3,
            "count": 0
           },
           {
            "bin_start": 1.3,
            "bin_end": 1.4,
            "count": 0
           },
           {
            "bin_start": 1.4,
            "bin_end": 1.5,
            "count": 0
           }
          ]
         }
        },
        {
         "name": "FLAG_PHONE",
         "dtype": "int64",
         "stats": {
          "unique_count": 2,
          "nan_count": 0,
          "min": "0",
          "max": "1",
          "histogram": [
           {
            "bin_start": 0,
            "bin_end": 0.1,
            "count": 2
           },
           {
            "bin_start": 0.1,
            "bin_end": 0.2,
            "count": 0
           },
           {
            "bin_start": 0.2,
            "bin_end": 0.30000000000000004,
            "count": 0
           },
           {
            "bin_start": 0.30000000000000004,
            "bin_end": 0.4,
            "count": 0
           },
           {
            "bin_start": 0.4,
            "bin_end": 0.5,
            "count": 0
           },
           {
            "bin_start": 0.5,
            "bin_end": 0.6000000000000001,
            "count": 0
           },
           {
            "bin_start": 0.6000000000000001,
            "bin_end": 0.7000000000000001,
            "count": 0
           },
           {
            "bin_start": 0.7000000000000001,
            "bin_end": 0.8,
            "count": 0
           },
           {
            "bin_start": 0.8,
            "bin_end": 0.9,
            "count": 0
           },
           {
            "bin_start": 0.9,
            "bin_end": 1,
            "count": 3
           }
          ]
         }
        },
        {
         "name": "FLAG_EMAIL",
         "dtype": "int64",
         "stats": {
          "unique_count": 1,
          "nan_count": 0,
          "min": "0",
          "max": "0",
          "histogram": [
           {
            "bin_start": -0.5,
            "bin_end": -0.4,
            "count": 0
           },
           {
            "bin_start": -0.4,
            "bin_end": -0.3,
            "count": 0
           },
           {
            "bin_start": -0.3,
            "bin_end": -0.19999999999999996,
            "count": 0
           },
           {
            "bin_start": -0.19999999999999996,
            "bin_end": -0.09999999999999998,
            "count": 0
           },
           {
            "bin_start": -0.09999999999999998,
            "bin_end": 0,
            "count": 0
           },
           {
            "bin_start": 0,
            "bin_end": 0.10000000000000009,
            "count": 5
           },
           {
            "bin_start": 0.10000000000000009,
            "bin_end": 0.20000000000000007,
            "count": 0
           },
           {
            "bin_start": 0.20000000000000007,
            "bin_end": 0.30000000000000004,
            "count": 0
           },
           {
            "bin_start": 0.30000000000000004,
            "bin_end": 0.4,
            "count": 0
           },
           {
            "bin_start": 0.4,
            "bin_end": 0.5,
            "count": 0
           }
          ]
         }
        },
        {
         "name": "OCCUPATION_TYPE",
         "dtype": "object",
         "stats": {
          "unique_count": 2,
          "nan_count": 0,
          "categories": [
           {
            "name": "Laborers",
            "count": 3
           },
           {
            "name": "Core staff",
            "count": 2
           }
          ]
         }
        },
        {
         "name": "CNT_FAM_MEMBERS",
         "dtype": "float64",
         "stats": {
          "unique_count": 2,
          "nan_count": 0,
          "min": "1.0",
          "max": "2.0",
          "histogram": [
           {
            "bin_start": 1,
            "bin_end": 1.1,
            "count": 3
           },
           {
            "bin_start": 1.1,
            "bin_end": 1.2,
            "count": 0
           },
           {
            "bin_start": 1.2,
            "bin_end": 1.3,
            "count": 0
           },
           {
            "bin_start": 1.3,
            "bin_end": 1.4,
            "count": 0
           },
           {
            "bin_start": 1.4,
            "bin_end": 1.5,
            "count": 0
           },
           {
            "bin_start": 1.5,
            "bin_end": 1.6,
            "count": 0
           },
           {
            "bin_start": 1.6,
            "bin_end": 1.7000000000000002,
            "count": 0
           },
           {
            "bin_start": 1.7000000000000002,
            "bin_end": 1.8,
            "count": 0
           },
           {
            "bin_start": 1.8,
            "bin_end": 1.9,
            "count": 0
           },
           {
            "bin_start": 1.9,
            "bin_end": 2,
            "count": 2
           }
          ]
         }
        },
        {
         "name": "REGION_RATING_CLIENT",
         "dtype": "int64",
         "stats": {
          "unique_count": 2,
          "nan_count": 0,
          "min": "1",
          "max": "2",
          "histogram": [
           {
            "bin_start": 1,
            "bin_end": 1.1,
            "count": 1
           },
           {
            "bin_start": 1.1,
            "bin_end": 1.2,
            "count": 0
           },
           {
            "bin_start": 1.2,
            "bin_end": 1.3,
            "count": 0
           },
           {
            "bin_start": 1.3,
            "bin_end": 1.4,
            "count": 0
           },
           {
            "bin_start": 1.4,
            "bin_end": 1.5,
            "count": 0
           },
           {
            "bin_start": 1.5,
            "bin_end": 1.6,
            "count": 0
           },
           {
            "bin_start": 1.6,
            "bin_end": 1.7000000000000002,
            "count": 0
           },
           {
            "bin_start": 1.7000000000000002,
            "bin_end": 1.8,
            "count": 0
           },
           {
            "bin_start": 1.8,
            "bin_end": 1.9,
            "count": 0
           },
           {
            "bin_start": 1.9,
            "bin_end": 2,
            "count": 4
           }
          ]
         }
        },
        {
         "name": "REGION_RATING_CLIENT_W_CITY",
         "dtype": "int64",
         "stats": {
          "unique_count": 2,
          "nan_count": 0,
          "min": "1",
          "max": "2",
          "histogram": [
           {
            "bin_start": 1,
            "bin_end": 1.1,
            "count": 1
           },
           {
            "bin_start": 1.1,
            "bin_end": 1.2,
            "count": 0
           },
           {
            "bin_start": 1.2,
            "bin_end": 1.3,
            "count": 0
           },
           {
            "bin_start": 1.3,
            "bin_end": 1.4,
            "count": 0
           },
           {
            "bin_start": 1.4,
            "bin_end": 1.5,
            "count": 0
           },
           {
            "bin_start": 1.5,
            "bin_end": 1.6,
            "count": 0
           },
           {
            "bin_start": 1.6,
            "bin_end": 1.7000000000000002,
            "count": 0
           },
           {
            "bin_start": 1.7000000000000002,
            "bin_end": 1.8,
            "count": 0
           },
           {
            "bin_start": 1.8,
            "bin_end": 1.9,
            "count": 0
           },
           {
            "bin_start": 1.9,
            "bin_end": 2,
            "count": 4
           }
          ]
         }
        },
        {
         "name": "WEEKDAY_APPR_PROCESS_START",
         "dtype": "object",
         "stats": {
          "unique_count": 3,
          "nan_count": 0,
          "categories": [
           {
            "name": "WEDNESDAY",
            "count": 2
           },
           {
            "name": "MONDAY",
            "count": 2
           },
           {
            "name": "THURSDAY",
            "count": 1
           }
          ]
         }
        },
        {
         "name": "HOUR_APPR_PROCESS_START",
         "dtype": "int64",
         "stats": {
          "unique_count": 4,
          "nan_count": 0,
          "min": "9",
          "max": "17",
          "histogram": [
           {
            "bin_start": 9,
            "bin_end": 9.8,
            "count": 1
           },
           {
            "bin_start": 9.8,
            "bin_end": 10.6,
            "count": 1
           },
           {
            "bin_start": 10.6,
            "bin_end": 11.4,
            "count": 2
           },
           {
            "bin_start": 11.4,
            "bin_end": 12.2,
            "count": 0
           },
           {
            "bin_start": 12.2,
            "bin_end": 13,
            "count": 0
           },
           {
            "bin_start": 13,
            "bin_end": 13.8,
            "count": 0
           },
           {
            "bin_start": 13.8,
            "bin_end": 14.600000000000001,
            "count": 0
           },
           {
            "bin_start": 14.600000000000001,
            "bin_end": 15.4,
            "count": 0
           },
           {
            "bin_start": 15.4,
            "bin_end": 16.2,
            "count": 0
           },
           {
            "bin_start": 16.2,
            "bin_end": 17,
            "count": 1
           }
          ]
         }
        },
        {
         "name": "REG_REGION_NOT_LIVE_REGION",
         "dtype": "int64",
         "stats": {
          "unique_count": 1,
          "nan_count": 0,
          "min": "0",
          "max": "0",
          "histogram": [
           {
            "bin_start": -0.5,
            "bin_end": -0.4,
            "count": 0
           },
           {
            "bin_start": -0.4,
            "bin_end": -0.3,
            "count": 0
           },
           {
            "bin_start": -0.3,
            "bin_end": -0.19999999999999996,
            "count": 0
           },
           {
            "bin_start": -0.19999999999999996,
            "bin_end": -0.09999999999999998,
            "count": 0
           },
           {
            "bin_start": -0.09999999999999998,
            "bin_end": 0,
            "count": 0
           },
           {
            "bin_start": 0,
            "bin_end": 0.10000000000000009,
            "count": 5
           },
           {
            "bin_start": 0.10000000000000009,
            "bin_end": 0.20000000000000007,
            "count": 0
           },
           {
            "bin_start": 0.20000000000000007,
            "bin_end": 0.30000000000000004,
            "count": 0
           },
           {
            "bin_start": 0.30000000000000004,
            "bin_end": 0.4,
            "count": 0
           },
           {
            "bin_start": 0.4,
            "bin_end": 0.5,
            "count": 0
           }
          ]
         }
        },
        {
         "name": "REG_REGION_NOT_WORK_REGION",
         "dtype": "int64",
         "stats": {
          "unique_count": 1,
          "nan_count": 0,
          "min": "0",
          "max": "0",
          "histogram": [
           {
            "bin_start": -0.5,
            "bin_end": -0.4,
            "count": 0
           },
           {
            "bin_start": -0.4,
            "bin_end": -0.3,
            "count": 0
           },
           {
            "bin_start": -0.3,
            "bin_end": -0.19999999999999996,
            "count": 0
           },
           {
            "bin_start": -0.19999999999999996,
            "bin_end": -0.09999999999999998,
            "count": 0
           },
           {
            "bin_start": -0.09999999999999998,
            "bin_end": 0,
            "count": 0
           },
           {
            "bin_start": 0,
            "bin_end": 0.10000000000000009,
            "count": 5
           },
           {
            "bin_start": 0.10000000000000009,
            "bin_end": 0.20000000000000007,
            "count": 0
           },
           {
            "bin_start": 0.20000000000000007,
            "bin_end": 0.30000000000000004,
            "count": 0
           },
           {
            "bin_start": 0.30000000000000004,
            "bin_end": 0.4,
            "count": 0
           },
           {
            "bin_start": 0.4,
            "bin_end": 0.5,
            "count": 0
           }
          ]
         }
        },
        {
         "name": "LIVE_REGION_NOT_WORK_REGION",
         "dtype": "int64",
         "stats": {
          "unique_count": 1,
          "nan_count": 0,
          "min": "0",
          "max": "0",
          "histogram": [
           {
            "bin_start": -0.5,
            "bin_end": -0.4,
            "count": 0
           },
           {
            "bin_start": -0.4,
            "bin_end": -0.3,
            "count": 0
           },
           {
            "bin_start": -0.3,
            "bin_end": -0.19999999999999996,
            "count": 0
           },
           {
            "bin_start": -0.19999999999999996,
            "bin_end": -0.09999999999999998,
            "count": 0
           },
           {
            "bin_start": -0.09999999999999998,
            "bin_end": 0,
            "count": 0
           },
           {
            "bin_start": 0,
            "bin_end": 0.10000000000000009,
            "count": 5
           },
           {
            "bin_start": 0.10000000000000009,
            "bin_end": 0.20000000000000007,
            "count": 0
           },
           {
            "bin_start": 0.20000000000000007,
            "bin_end": 0.30000000000000004,
            "count": 0
           },
           {
            "bin_start": 0.30000000000000004,
            "bin_end": 0.4,
            "count": 0
           },
           {
            "bin_start": 0.4,
            "bin_end": 0.5,
            "count": 0
           }
          ]
         }
        },
        {
         "name": "REG_CITY_NOT_LIVE_CITY",
         "dtype": "int64",
         "stats": {
          "unique_count": 1,
          "nan_count": 0,
          "min": "0",
          "max": "0",
          "histogram": [
           {
            "bin_start": -0.5,
            "bin_end": -0.4,
            "count": 0
           },
           {
            "bin_start": -0.4,
            "bin_end": -0.3,
            "count": 0
           },
           {
            "bin_start": -0.3,
            "bin_end": -0.19999999999999996,
            "count": 0
           },
           {
            "bin_start": -0.19999999999999996,
            "bin_end": -0.09999999999999998,
            "count": 0
           },
           {
            "bin_start": -0.09999999999999998,
            "bin_end": 0,
            "count": 0
           },
           {
            "bin_start": 0,
            "bin_end": 0.10000000000000009,
            "count": 5
           },
           {
            "bin_start": 0.10000000000000009,
            "bin_end": 0.20000000000000007,
            "count": 0
           },
           {
            "bin_start": 0.20000000000000007,
            "bin_end": 0.30000000000000004,
            "count": 0
           },
           {
            "bin_start": 0.30000000000000004,
            "bin_end": 0.4,
            "count": 0
           },
           {
            "bin_start": 0.4,
            "bin_end": 0.5,
            "count": 0
           }
          ]
         }
        },
        {
         "name": "REG_CITY_NOT_WORK_CITY",
         "dtype": "int64",
         "stats": {
          "unique_count": 2,
          "nan_count": 0,
          "min": "0",
          "max": "1",
          "histogram": [
           {
            "bin_start": 0,
            "bin_end": 0.1,
            "count": 4
           },
           {
            "bin_start": 0.1,
            "bin_end": 0.2,
            "count": 0
           },
           {
            "bin_start": 0.2,
            "bin_end": 0.30000000000000004,
            "count": 0
           },
           {
            "bin_start": 0.30000000000000004,
            "bin_end": 0.4,
            "count": 0
           },
           {
            "bin_start": 0.4,
            "bin_end": 0.5,
            "count": 0
           },
           {
            "bin_start": 0.5,
            "bin_end": 0.6000000000000001,
            "count": 0
           },
           {
            "bin_start": 0.6000000000000001,
            "bin_end": 0.7000000000000001,
            "count": 0
           },
           {
            "bin_start": 0.7000000000000001,
            "bin_end": 0.8,
            "count": 0
           },
           {
            "bin_start": 0.8,
            "bin_end": 0.9,
            "count": 0
           },
           {
            "bin_start": 0.9,
            "bin_end": 1,
            "count": 1
           }
          ]
         }
        },
        {
         "name": "LIVE_CITY_NOT_WORK_CITY",
         "dtype": "int64",
         "stats": {
          "unique_count": 2,
          "nan_count": 0,
          "min": "0",
          "max": "1",
          "histogram": [
           {
            "bin_start": 0,
            "bin_end": 0.1,
            "count": 4
           },
           {
            "bin_start": 0.1,
            "bin_end": 0.2,
            "count": 0
           },
           {
            "bin_start": 0.2,
            "bin_end": 0.30000000000000004,
            "count": 0
           },
           {
            "bin_start": 0.30000000000000004,
            "bin_end": 0.4,
            "count": 0
           },
           {
            "bin_start": 0.4,
            "bin_end": 0.5,
            "count": 0
           },
           {
            "bin_start": 0.5,
            "bin_end": 0.6000000000000001,
            "count": 0
           },
           {
            "bin_start": 0.6000000000000001,
            "bin_end": 0.7000000000000001,
            "count": 0
           },
           {
            "bin_start": 0.7000000000000001,
            "bin_end": 0.8,
            "count": 0
           },
           {
            "bin_start": 0.8,
            "bin_end": 0.9,
            "count": 0
           },
           {
            "bin_start": 0.9,
            "bin_end": 1,
            "count": 1
           }
          ]
         }
        },
        {
         "name": "ORGANIZATION_TYPE",
         "dtype": "object",
         "stats": {
          "unique_count": 4,
          "nan_count": 0,
          "categories": [
           {
            "name": "Business Entity Type 3",
            "count": 2
           },
           {
            "name": "School",
            "count": 1
           },
           {
            "name": "2 others",
            "count": 2
           }
          ]
         }
        },
        {
         "name": "EXT_SOURCE_1",
         "dtype": "float64",
         "stats": {
          "unique_count": 2,
          "nan_count": 3,
          "min": "0.0830369673913225",
          "max": "0.3112673113812225",
          "histogram": [
           {
            "bin_start": 0.0830369673913225,
            "bin_end": 0.1058600017903125,
            "count": 1
           },
           {
            "bin_start": 0.1058600017903125,
            "bin_end": 0.1286830361893025,
            "count": 0
           },
           {
            "bin_start": 0.1286830361893025,
            "bin_end": 0.15150607058829252,
            "count": 0
           },
           {
            "bin_start": 0.15150607058829252,
            "bin_end": 0.1743291049872825,
            "count": 0
           },
           {
            "bin_start": 0.1743291049872825,
            "bin_end": 0.19715213938627252,
            "count": 0
           },
           {
            "bin_start": 0.19715213938627252,
            "bin_end": 0.2199751737852625,
            "count": 0
           },
           {
            "bin_start": 0.2199751737852625,
            "bin_end": 0.24279820818425252,
            "count": 0
           },
           {
            "bin_start": 0.24279820818425252,
            "bin_end": 0.2656212425832425,
            "count": 0
           },
           {
            "bin_start": 0.2656212425832425,
            "bin_end": 0.2884442769822325,
            "count": 0
           },
           {
            "bin_start": 0.2884442769822325,
            "bin_end": 0.3112673113812225,
            "count": 1
           }
          ]
         }
        },
        {
         "name": "EXT_SOURCE_2",
         "dtype": "float64",
         "stats": {
          "unique_count": 5,
          "nan_count": 0,
          "min": "0.2629485927471776",
          "max": "0.6504416904014653",
          "histogram": [
           {
            "bin_start": 0.2629485927471776,
            "bin_end": 0.30169790251260636,
            "count": 1
           },
           {
            "bin_start": 0.30169790251260636,
            "bin_end": 0.3404472122780351,
            "count": 1
           },
           {
            "bin_start": 0.3404472122780351,
            "bin_end": 0.3791965220434639,
            "count": 0
           },
           {
            "bin_start": 0.3791965220434639,
            "bin_end": 0.41794583180889266,
            "count": 0
           },
           {
            "bin_start": 0.41794583180889266,
            "bin_end": 0.45669514157432145,
            "count": 0
           },
           {
            "bin_start": 0.45669514157432145,
            "bin_end": 0.49544445133975024,
            "count": 0
           },
           {
            "bin_start": 0.49544445133975024,
            "bin_end": 0.534193761105179,
            "count": 0
           },
           {
            "bin_start": 0.534193761105179,
            "bin_end": 0.5729430708706078,
            "count": 1
           },
           {
            "bin_start": 0.5729430708706078,
            "bin_end": 0.6116923806360366,
            "count": 0
           },
           {
            "bin_start": 0.6116923806360366,
            "bin_end": 0.6504416904014653,
            "count": 2
           }
          ]
         }
        },
        {
         "name": "EXT_SOURCE_3",
         "dtype": "float64",
         "stats": {
          "unique_count": 2,
          "nan_count": 3,
          "min": "0.1393757800997895",
          "max": "0.7295666907060153",
          "histogram": [
           {
            "bin_start": 0.1393757800997895,
            "bin_end": 0.19839487116041207,
            "count": 1
           },
           {
            "bin_start": 0.19839487116041207,
            "bin_end": 0.25741396222103463,
            "count": 0
           },
           {
            "bin_start": 0.25741396222103463,
            "bin_end": 0.3164330532816573,
            "count": 0
           },
           {
            "bin_start": 0.3164330532816573,
            "bin_end": 0.3754521443422798,
            "count": 0
           },
           {
            "bin_start": 0.3754521443422798,
            "bin_end": 0.43447123540290244,
            "count": 0
           },
           {
            "bin_start": 0.43447123540290244,
            "bin_end": 0.493490326463525,
            "count": 0
           },
           {
            "bin_start": 0.493490326463525,
            "bin_end": 0.5525094175241476,
            "count": 0
           },
           {
            "bin_start": 0.5525094175241476,
            "bin_end": 0.6115285085847701,
            "count": 0
           },
           {
            "bin_start": 0.6115285085847701,
            "bin_end": 0.6705475996453927,
            "count": 0
           },
           {
            "bin_start": 0.6705475996453927,
            "bin_end": 0.7295666907060153,
            "count": 1
           }
          ]
         }
        },
        {
         "name": "OBS_30_CNT_SOCIAL_CIRCLE",
         "dtype": "float64",
         "stats": {
          "unique_count": 3,
          "nan_count": 0,
          "min": "0.0",
          "max": "2.0",
          "histogram": [
           {
            "bin_start": 0,
            "bin_end": 0.2,
            "count": 2
           },
           {
            "bin_start": 0.2,
            "bin_end": 0.4,
            "count": 0
           },
           {
            "bin_start": 0.4,
            "bin_end": 0.6000000000000001,
            "count": 0
           },
           {
            "bin_start": 0.6000000000000001,
            "bin_end": 0.8,
            "count": 0
           },
           {
            "bin_start": 0.8,
            "bin_end": 1,
            "count": 0
           },
           {
            "bin_start": 1,
            "bin_end": 1.2000000000000002,
            "count": 1
           },
           {
            "bin_start": 1.2000000000000002,
            "bin_end": 1.4000000000000001,
            "count": 0
           },
           {
            "bin_start": 1.4000000000000001,
            "bin_end": 1.6,
            "count": 0
           },
           {
            "bin_start": 1.6,
            "bin_end": 1.8,
            "count": 0
           },
           {
            "bin_start": 1.8,
            "bin_end": 2,
            "count": 2
           }
          ]
         }
        },
        {
         "name": "DEF_30_CNT_SOCIAL_CIRCLE",
         "dtype": "float64",
         "stats": {
          "unique_count": 2,
          "nan_count": 0,
          "min": "0.0",
          "max": "2.0",
          "histogram": [
           {
            "bin_start": 0,
            "bin_end": 0.2,
            "count": 4
           },
           {
            "bin_start": 0.2,
            "bin_end": 0.4,
            "count": 0
           },
           {
            "bin_start": 0.4,
            "bin_end": 0.6000000000000001,
            "count": 0
           },
           {
            "bin_start": 0.6000000000000001,
            "bin_end": 0.8,
            "count": 0
           },
           {
            "bin_start": 0.8,
            "bin_end": 1,
            "count": 0
           },
           {
            "bin_start": 1,
            "bin_end": 1.2000000000000002,
            "count": 0
           },
           {
            "bin_start": 1.2000000000000002,
            "bin_end": 1.4000000000000001,
            "count": 0
           },
           {
            "bin_start": 1.4000000000000001,
            "bin_end": 1.6,
            "count": 0
           },
           {
            "bin_start": 1.6,
            "bin_end": 1.8,
            "count": 0
           },
           {
            "bin_start": 1.8,
            "bin_end": 2,
            "count": 1
           }
          ]
         }
        },
        {
         "name": "OBS_60_CNT_SOCIAL_CIRCLE",
         "dtype": "float64",
         "stats": {
          "unique_count": 3,
          "nan_count": 0,
          "min": "0.0",
          "max": "2.0",
          "histogram": [
           {
            "bin_start": 0,
            "bin_end": 0.2,
            "count": 2
           },
           {
            "bin_start": 0.2,
            "bin_end": 0.4,
            "count": 0
           },
           {
            "bin_start": 0.4,
            "bin_end": 0.6000000000000001,
            "count": 0
           },
           {
            "bin_start": 0.6000000000000001,
            "bin_end": 0.8,
            "count": 0
           },
           {
            "bin_start": 0.8,
            "bin_end": 1,
            "count": 0
           },
           {
            "bin_start": 1,
            "bin_end": 1.2000000000000002,
            "count": 1
           },
           {
            "bin_start": 1.2000000000000002,
            "bin_end": 1.4000000000000001,
            "count": 0
           },
           {
            "bin_start": 1.4000000000000001,
            "bin_end": 1.6,
            "count": 0
           },
           {
            "bin_start": 1.6,
            "bin_end": 1.8,
            "count": 0
           },
           {
            "bin_start": 1.8,
            "bin_end": 2,
            "count": 2
           }
          ]
         }
        },
        {
         "name": "DEF_60_CNT_SOCIAL_CIRCLE",
         "dtype": "float64",
         "stats": {
          "unique_count": 2,
          "nan_count": 0,
          "min": "0.0",
          "max": "2.0",
          "histogram": [
           {
            "bin_start": 0,
            "bin_end": 0.2,
            "count": 4
           },
           {
            "bin_start": 0.2,
            "bin_end": 0.4,
            "count": 0
           },
           {
            "bin_start": 0.4,
            "bin_end": 0.6000000000000001,
            "count": 0
           },
           {
            "bin_start": 0.6000000000000001,
            "bin_end": 0.8,
            "count": 0
           },
           {
            "bin_start": 0.8,
            "bin_end": 1,
            "count": 0
           },
           {
            "bin_start": 1,
            "bin_end": 1.2000000000000002,
            "count": 0
           },
           {
            "bin_start": 1.2000000000000002,
            "bin_end": 1.4000000000000001,
            "count": 0
           },
           {
            "bin_start": 1.4000000000000001,
            "bin_end": 1.6,
            "count": 0
           },
           {
            "bin_start": 1.6,
            "bin_end": 1.8,
            "count": 0
           },
           {
            "bin_start": 1.8,
            "bin_end": 2,
            "count": 1
           }
          ]
         }
        },
        {
         "name": "DAYS_LAST_PHONE_CHANGE",
         "dtype": "float64",
         "stats": {
          "unique_count": 5,
          "nan_count": 0,
          "min": "-1134.0",
          "max": "-617.0",
          "histogram": [
           {
            "bin_start": -1134,
            "bin_end": -1082.3,
            "count": 2
           },
           {
            "bin_start": -1082.3,
            "bin_end": -1030.6,
            "count": 0
           },
           {
            "bin_start": -1030.6,
            "bin_end": -978.9,
            "count": 0
           },
           {
            "bin_start": -978.9,
            "bin_end": -927.2,
            "count": 0
           },
           {
            "bin_start": -927.2,
            "bin_end": -875.5,
            "count": 0
           },
           {
            "bin_start": -875.5,
            "bin_end": -823.8,
            "count": 1
           },
           {
            "bin_start": -823.8,
            "bin_end": -772.0999999999999,
            "count": 1
           },
           {
            "bin_start": -772.0999999999999,
            "bin_end": -720.4,
            "count": 0
           },
           {
            "bin_start": -720.4,
            "bin_end": -668.7,
            "count": 0
           },
           {
            "bin_start": -668.7,
            "bin_end": -617,
            "count": 1
           }
          ]
         }
        },
        {
         "name": "FLAG_DOCUMENT_2",
         "dtype": "int64",
         "stats": {
          "unique_count": 1,
          "nan_count": 0,
          "min": "0",
          "max": "0",
          "histogram": [
           {
            "bin_start": -0.5,
            "bin_end": -0.4,
            "count": 0
           },
           {
            "bin_start": -0.4,
            "bin_end": -0.3,
            "count": 0
           },
           {
            "bin_start": -0.3,
            "bin_end": -0.19999999999999996,
            "count": 0
           },
           {
            "bin_start": -0.19999999999999996,
            "bin_end": -0.09999999999999998,
            "count": 0
           },
           {
            "bin_start": -0.09999999999999998,
            "bin_end": 0,
            "count": 0
           },
           {
            "bin_start": 0,
            "bin_end": 0.10000000000000009,
            "count": 5
           },
           {
            "bin_start": 0.10000000000000009,
            "bin_end": 0.20000000000000007,
            "count": 0
           },
           {
            "bin_start": 0.20000000000000007,
            "bin_end": 0.30000000000000004,
            "count": 0
           },
           {
            "bin_start": 0.30000000000000004,
            "bin_end": 0.4,
            "count": 0
           },
           {
            "bin_start": 0.4,
            "bin_end": 0.5,
            "count": 0
           }
          ]
         }
        },
        {
         "name": "FLAG_DOCUMENT_3",
         "dtype": "int64",
         "stats": {
          "unique_count": 2,
          "nan_count": 0,
          "min": "0",
          "max": "1",
          "histogram": [
           {
            "bin_start": 0,
            "bin_end": 0.1,
            "count": 2
           },
           {
            "bin_start": 0.1,
            "bin_end": 0.2,
            "count": 0
           },
           {
            "bin_start": 0.2,
            "bin_end": 0.30000000000000004,
            "count": 0
           },
           {
            "bin_start": 0.30000000000000004,
            "bin_end": 0.4,
            "count": 0
           },
           {
            "bin_start": 0.4,
            "bin_end": 0.5,
            "count": 0
           },
           {
            "bin_start": 0.5,
            "bin_end": 0.6000000000000001,
            "count": 0
           },
           {
            "bin_start": 0.6000000000000001,
            "bin_end": 0.7000000000000001,
            "count": 0
           },
           {
            "bin_start": 0.7000000000000001,
            "bin_end": 0.8,
            "count": 0
           },
           {
            "bin_start": 0.8,
            "bin_end": 0.9,
            "count": 0
           },
           {
            "bin_start": 0.9,
            "bin_end": 1,
            "count": 3
           }
          ]
         }
        },
        {
         "name": "FLAG_DOCUMENT_4",
         "dtype": "int64",
         "stats": {
          "unique_count": 1,
          "nan_count": 0,
          "min": "0",
          "max": "0",
          "histogram": [
           {
            "bin_start": -0.5,
            "bin_end": -0.4,
            "count": 0
           },
           {
            "bin_start": -0.4,
            "bin_end": -0.3,
            "count": 0
           },
           {
            "bin_start": -0.3,
            "bin_end": -0.19999999999999996,
            "count": 0
           },
           {
            "bin_start": -0.19999999999999996,
            "bin_end": -0.09999999999999998,
            "count": 0
           },
           {
            "bin_start": -0.09999999999999998,
            "bin_end": 0,
            "count": 0
           },
           {
            "bin_start": 0,
            "bin_end": 0.10000000000000009,
            "count": 5
           },
           {
            "bin_start": 0.10000000000000009,
            "bin_end": 0.20000000000000007,
            "count": 0
           },
           {
            "bin_start": 0.20000000000000007,
            "bin_end": 0.30000000000000004,
            "count": 0
           },
           {
            "bin_start": 0.30000000000000004,
            "bin_end": 0.4,
            "count": 0
           },
           {
            "bin_start": 0.4,
            "bin_end": 0.5,
            "count": 0
           }
          ]
         }
        },
        {
         "name": "FLAG_DOCUMENT_5",
         "dtype": "int64",
         "stats": {
          "unique_count": 1,
          "nan_count": 0,
          "min": "0",
          "max": "0",
          "histogram": [
           {
            "bin_start": -0.5,
            "bin_end": -0.4,
            "count": 0
           },
           {
            "bin_start": -0.4,
            "bin_end": -0.3,
            "count": 0
           },
           {
            "bin_start": -0.3,
            "bin_end": -0.19999999999999996,
            "count": 0
           },
           {
            "bin_start": -0.19999999999999996,
            "bin_end": -0.09999999999999998,
            "count": 0
           },
           {
            "bin_start": -0.09999999999999998,
            "bin_end": 0,
            "count": 0
           },
           {
            "bin_start": 0,
            "bin_end": 0.10000000000000009,
            "count": 5
           },
           {
            "bin_start": 0.10000000000000009,
            "bin_end": 0.20000000000000007,
            "count": 0
           },
           {
            "bin_start": 0.20000000000000007,
            "bin_end": 0.30000000000000004,
            "count": 0
           },
           {
            "bin_start": 0.30000000000000004,
            "bin_end": 0.4,
            "count": 0
           },
           {
            "bin_start": 0.4,
            "bin_end": 0.5,
            "count": 0
           }
          ]
         }
        },
        {
         "name": "FLAG_DOCUMENT_6",
         "dtype": "int64",
         "stats": {
          "unique_count": 1,
          "nan_count": 0,
          "min": "0",
          "max": "0",
          "histogram": [
           {
            "bin_start": -0.5,
            "bin_end": -0.4,
            "count": 0
           },
           {
            "bin_start": -0.4,
            "bin_end": -0.3,
            "count": 0
           },
           {
            "bin_start": -0.3,
            "bin_end": -0.19999999999999996,
            "count": 0
           },
           {
            "bin_start": -0.19999999999999996,
            "bin_end": -0.09999999999999998,
            "count": 0
           },
           {
            "bin_start": -0.09999999999999998,
            "bin_end": 0,
            "count": 0
           },
           {
            "bin_start": 0,
            "bin_end": 0.10000000000000009,
            "count": 5
           },
           {
            "bin_start": 0.10000000000000009,
            "bin_end": 0.20000000000000007,
            "count": 0
           },
           {
            "bin_start": 0.20000000000000007,
            "bin_end": 0.30000000000000004,
            "count": 0
           },
           {
            "bin_start": 0.30000000000000004,
            "bin_end": 0.4,
            "count": 0
           },
           {
            "bin_start": 0.4,
            "bin_end": 0.5,
            "count": 0
           }
          ]
         }
        },
        {
         "name": "FLAG_DOCUMENT_7",
         "dtype": "int64",
         "stats": {
          "unique_count": 1,
          "nan_count": 0,
          "min": "0",
          "max": "0",
          "histogram": [
           {
            "bin_start": -0.5,
            "bin_end": -0.4,
            "count": 0
           },
           {
            "bin_start": -0.4,
            "bin_end": -0.3,
            "count": 0
           },
           {
            "bin_start": -0.3,
            "bin_end": -0.19999999999999996,
            "count": 0
           },
           {
            "bin_start": -0.19999999999999996,
            "bin_end": -0.09999999999999998,
            "count": 0
           },
           {
            "bin_start": -0.09999999999999998,
            "bin_end": 0,
            "count": 0
           },
           {
            "bin_start": 0,
            "bin_end": 0.10000000000000009,
            "count": 5
           },
           {
            "bin_start": 0.10000000000000009,
            "bin_end": 0.20000000000000007,
            "count": 0
           },
           {
            "bin_start": 0.20000000000000007,
            "bin_end": 0.30000000000000004,
            "count": 0
           },
           {
            "bin_start": 0.30000000000000004,
            "bin_end": 0.4,
            "count": 0
           },
           {
            "bin_start": 0.4,
            "bin_end": 0.5,
            "count": 0
           }
          ]
         }
        },
        {
         "name": "FLAG_DOCUMENT_8",
         "dtype": "int64",
         "stats": {
          "unique_count": 2,
          "nan_count": 0,
          "min": "0",
          "max": "1",
          "histogram": [
           {
            "bin_start": 0,
            "bin_end": 0.1,
            "count": 4
           },
           {
            "bin_start": 0.1,
            "bin_end": 0.2,
            "count": 0
           },
           {
            "bin_start": 0.2,
            "bin_end": 0.30000000000000004,
            "count": 0
           },
           {
            "bin_start": 0.30000000000000004,
            "bin_end": 0.4,
            "count": 0
           },
           {
            "bin_start": 0.4,
            "bin_end": 0.5,
            "count": 0
           },
           {
            "bin_start": 0.5,
            "bin_end": 0.6000000000000001,
            "count": 0
           },
           {
            "bin_start": 0.6000000000000001,
            "bin_end": 0.7000000000000001,
            "count": 0
           },
           {
            "bin_start": 0.7000000000000001,
            "bin_end": 0.8,
            "count": 0
           },
           {
            "bin_start": 0.8,
            "bin_end": 0.9,
            "count": 0
           },
           {
            "bin_start": 0.9,
            "bin_end": 1,
            "count": 1
           }
          ]
         }
        },
        {
         "name": "FLAG_DOCUMENT_9",
         "dtype": "int64",
         "stats": {
          "unique_count": 1,
          "nan_count": 0,
          "min": "0",
          "max": "0",
          "histogram": [
           {
            "bin_start": -0.5,
            "bin_end": -0.4,
            "count": 0
           },
           {
            "bin_start": -0.4,
            "bin_end": -0.3,
            "count": 0
           },
           {
            "bin_start": -0.3,
            "bin_end": -0.19999999999999996,
            "count": 0
           },
           {
            "bin_start": -0.19999999999999996,
            "bin_end": -0.09999999999999998,
            "count": 0
           },
           {
            "bin_start": -0.09999999999999998,
            "bin_end": 0,
            "count": 0
           },
           {
            "bin_start": 0,
            "bin_end": 0.10000000000000009,
            "count": 5
           },
           {
            "bin_start": 0.10000000000000009,
            "bin_end": 0.20000000000000007,
            "count": 0
           },
           {
            "bin_start": 0.20000000000000007,
            "bin_end": 0.30000000000000004,
            "count": 0
           },
           {
            "bin_start": 0.30000000000000004,
            "bin_end": 0.4,
            "count": 0
           },
           {
            "bin_start": 0.4,
            "bin_end": 0.5,
            "count": 0
           }
          ]
         }
        },
        {
         "name": "FLAG_DOCUMENT_10",
         "dtype": "int64",
         "stats": {
          "unique_count": 1,
          "nan_count": 0,
          "min": "0",
          "max": "0",
          "histogram": [
           {
            "bin_start": -0.5,
            "bin_end": -0.4,
            "count": 0
           },
           {
            "bin_start": -0.4,
            "bin_end": -0.3,
            "count": 0
           },
           {
            "bin_start": -0.3,
            "bin_end": -0.19999999999999996,
            "count": 0
           },
           {
            "bin_start": -0.19999999999999996,
            "bin_end": -0.09999999999999998,
            "count": 0
           },
           {
            "bin_start": -0.09999999999999998,
            "bin_end": 0,
            "count": 0
           },
           {
            "bin_start": 0,
            "bin_end": 0.10000000000000009,
            "count": 5
           },
           {
            "bin_start": 0.10000000000000009,
            "bin_end": 0.20000000000000007,
            "count": 0
           },
           {
            "bin_start": 0.20000000000000007,
            "bin_end": 0.30000000000000004,
            "count": 0
           },
           {
            "bin_start": 0.30000000000000004,
            "bin_end": 0.4,
            "count": 0
           },
           {
            "bin_start": 0.4,
            "bin_end": 0.5,
            "count": 0
           }
          ]
         }
        },
        {
         "name": "FLAG_DOCUMENT_11",
         "dtype": "int64",
         "stats": {
          "unique_count": 1,
          "nan_count": 0,
          "min": "0",
          "max": "0",
          "histogram": [
           {
            "bin_start": -0.5,
            "bin_end": -0.4,
            "count": 0
           },
           {
            "bin_start": -0.4,
            "bin_end": -0.3,
            "count": 0
           },
           {
            "bin_start": -0.3,
            "bin_end": -0.19999999999999996,
            "count": 0
           },
           {
            "bin_start": -0.19999999999999996,
            "bin_end": -0.09999999999999998,
            "count": 0
           },
           {
            "bin_start": -0.09999999999999998,
            "bin_end": 0,
            "count": 0
           },
           {
            "bin_start": 0,
            "bin_end": 0.10000000000000009,
            "count": 5
           },
           {
            "bin_start": 0.10000000000000009,
            "bin_end": 0.20000000000000007,
            "count": 0
           },
           {
            "bin_start": 0.20000000000000007,
            "bin_end": 0.30000000000000004,
            "count": 0
           },
           {
            "bin_start": 0.30000000000000004,
            "bin_end": 0.4,
            "count": 0
           },
           {
            "bin_start": 0.4,
            "bin_end": 0.5,
            "count": 0
           }
          ]
         }
        },
        {
         "name": "FLAG_DOCUMENT_12",
         "dtype": "int64",
         "stats": {
          "unique_count": 1,
          "nan_count": 0,
          "min": "0",
          "max": "0",
          "histogram": [
           {
            "bin_start": -0.5,
            "bin_end": -0.4,
            "count": 0
           },
           {
            "bin_start": -0.4,
            "bin_end": -0.3,
            "count": 0
           },
           {
            "bin_start": -0.3,
            "bin_end": -0.19999999999999996,
            "count": 0
           },
           {
            "bin_start": -0.19999999999999996,
            "bin_end": -0.09999999999999998,
            "count": 0
           },
           {
            "bin_start": -0.09999999999999998,
            "bin_end": 0,
            "count": 0
           },
           {
            "bin_start": 0,
            "bin_end": 0.10000000000000009,
            "count": 5
           },
           {
            "bin_start": 0.10000000000000009,
            "bin_end": 0.20000000000000007,
            "count": 0
           },
           {
            "bin_start": 0.20000000000000007,
            "bin_end": 0.30000000000000004,
            "count": 0
           },
           {
            "bin_start": 0.30000000000000004,
            "bin_end": 0.4,
            "count": 0
           },
           {
            "bin_start": 0.4,
            "bin_end": 0.5,
            "count": 0
           }
          ]
         }
        },
        {
         "name": "FLAG_DOCUMENT_13",
         "dtype": "int64",
         "stats": {
          "unique_count": 1,
          "nan_count": 0,
          "min": "0",
          "max": "0",
          "histogram": [
           {
            "bin_start": -0.5,
            "bin_end": -0.4,
            "count": 0
           },
           {
            "bin_start": -0.4,
            "bin_end": -0.3,
            "count": 0
           },
           {
            "bin_start": -0.3,
            "bin_end": -0.19999999999999996,
            "count": 0
           },
           {
            "bin_start": -0.19999999999999996,
            "bin_end": -0.09999999999999998,
            "count": 0
           },
           {
            "bin_start": -0.09999999999999998,
            "bin_end": 0,
            "count": 0
           },
           {
            "bin_start": 0,
            "bin_end": 0.10000000000000009,
            "count": 5
           },
           {
            "bin_start": 0.10000000000000009,
            "bin_end": 0.20000000000000007,
            "count": 0
           },
           {
            "bin_start": 0.20000000000000007,
            "bin_end": 0.30000000000000004,
            "count": 0
           },
           {
            "bin_start": 0.30000000000000004,
            "bin_end": 0.4,
            "count": 0
           },
           {
            "bin_start": 0.4,
            "bin_end": 0.5,
            "count": 0
           }
          ]
         }
        },
        {
         "name": "FLAG_DOCUMENT_14",
         "dtype": "int64",
         "stats": {
          "unique_count": 1,
          "nan_count": 0,
          "min": "0",
          "max": "0",
          "histogram": [
           {
            "bin_start": -0.5,
            "bin_end": -0.4,
            "count": 0
           },
           {
            "bin_start": -0.4,
            "bin_end": -0.3,
            "count": 0
           },
           {
            "bin_start": -0.3,
            "bin_end": -0.19999999999999996,
            "count": 0
           },
           {
            "bin_start": -0.19999999999999996,
            "bin_end": -0.09999999999999998,
            "count": 0
           },
           {
            "bin_start": -0.09999999999999998,
            "bin_end": 0,
            "count": 0
           },
           {
            "bin_start": 0,
            "bin_end": 0.10000000000000009,
            "count": 5
           },
           {
            "bin_start": 0.10000000000000009,
            "bin_end": 0.20000000000000007,
            "count": 0
           },
           {
            "bin_start": 0.20000000000000007,
            "bin_end": 0.30000000000000004,
            "count": 0
           },
           {
            "bin_start": 0.30000000000000004,
            "bin_end": 0.4,
            "count": 0
           },
           {
            "bin_start": 0.4,
            "bin_end": 0.5,
            "count": 0
           }
          ]
         }
        },
        {
         "name": "FLAG_DOCUMENT_15",
         "dtype": "int64",
         "stats": {
          "unique_count": 1,
          "nan_count": 0,
          "min": "0",
          "max": "0",
          "histogram": [
           {
            "bin_start": -0.5,
            "bin_end": -0.4,
            "count": 0
           },
           {
            "bin_start": -0.4,
            "bin_end": -0.3,
            "count": 0
           },
           {
            "bin_start": -0.3,
            "bin_end": -0.19999999999999996,
            "count": 0
           },
           {
            "bin_start": -0.19999999999999996,
            "bin_end": -0.09999999999999998,
            "count": 0
           },
           {
            "bin_start": -0.09999999999999998,
            "bin_end": 0,
            "count": 0
           },
           {
            "bin_start": 0,
            "bin_end": 0.10000000000000009,
            "count": 5
           },
           {
            "bin_start": 0.10000000000000009,
            "bin_end": 0.20000000000000007,
            "count": 0
           },
           {
            "bin_start": 0.20000000000000007,
            "bin_end": 0.30000000000000004,
            "count": 0
           },
           {
            "bin_start": 0.30000000000000004,
            "bin_end": 0.4,
            "count": 0
           },
           {
            "bin_start": 0.4,
            "bin_end": 0.5,
            "count": 0
           }
          ]
         }
        },
        {
         "name": "FLAG_DOCUMENT_16",
         "dtype": "int64",
         "stats": {
          "unique_count": 1,
          "nan_count": 0,
          "min": "0",
          "max": "0",
          "histogram": [
           {
            "bin_start": -0.5,
            "bin_end": -0.4,
            "count": 0
           },
           {
            "bin_start": -0.4,
            "bin_end": -0.3,
            "count": 0
           },
           {
            "bin_start": -0.3,
            "bin_end": -0.19999999999999996,
            "count": 0
           },
           {
            "bin_start": -0.19999999999999996,
            "bin_end": -0.09999999999999998,
            "count": 0
           },
           {
            "bin_start": -0.09999999999999998,
            "bin_end": 0,
            "count": 0
           },
           {
            "bin_start": 0,
            "bin_end": 0.10000000000000009,
            "count": 5
           },
           {
            "bin_start": 0.10000000000000009,
            "bin_end": 0.20000000000000007,
            "count": 0
           },
           {
            "bin_start": 0.20000000000000007,
            "bin_end": 0.30000000000000004,
            "count": 0
           },
           {
            "bin_start": 0.30000000000000004,
            "bin_end": 0.4,
            "count": 0
           },
           {
            "bin_start": 0.4,
            "bin_end": 0.5,
            "count": 0
           }
          ]
         }
        },
        {
         "name": "FLAG_DOCUMENT_17",
         "dtype": "int64",
         "stats": {
          "unique_count": 1,
          "nan_count": 0,
          "min": "0",
          "max": "0",
          "histogram": [
           {
            "bin_start": -0.5,
            "bin_end": -0.4,
            "count": 0
           },
           {
            "bin_start": -0.4,
            "bin_end": -0.3,
            "count": 0
           },
           {
            "bin_start": -0.3,
            "bin_end": -0.19999999999999996,
            "count": 0
           },
           {
            "bin_start": -0.19999999999999996,
            "bin_end": -0.09999999999999998,
            "count": 0
           },
           {
            "bin_start": -0.09999999999999998,
            "bin_end": 0,
            "count": 0
           },
           {
            "bin_start": 0,
            "bin_end": 0.10000000000000009,
            "count": 5
           },
           {
            "bin_start": 0.10000000000000009,
            "bin_end": 0.20000000000000007,
            "count": 0
           },
           {
            "bin_start": 0.20000000000000007,
            "bin_end": 0.30000000000000004,
            "count": 0
           },
           {
            "bin_start": 0.30000000000000004,
            "bin_end": 0.4,
            "count": 0
           },
           {
            "bin_start": 0.4,
            "bin_end": 0.5,
            "count": 0
           }
          ]
         }
        },
        {
         "name": "FLAG_DOCUMENT_18",
         "dtype": "int64",
         "stats": {
          "unique_count": 1,
          "nan_count": 0,
          "min": "0",
          "max": "0",
          "histogram": [
           {
            "bin_start": -0.5,
            "bin_end": -0.4,
            "count": 0
           },
           {
            "bin_start": -0.4,
            "bin_end": -0.3,
            "count": 0
           },
           {
            "bin_start": -0.3,
            "bin_end": -0.19999999999999996,
            "count": 0
           },
           {
            "bin_start": -0.19999999999999996,
            "bin_end": -0.09999999999999998,
            "count": 0
           },
           {
            "bin_start": -0.09999999999999998,
            "bin_end": 0,
            "count": 0
           },
           {
            "bin_start": 0,
            "bin_end": 0.10000000000000009,
            "count": 5
           },
           {
            "bin_start": 0.10000000000000009,
            "bin_end": 0.20000000000000007,
            "count": 0
           },
           {
            "bin_start": 0.20000000000000007,
            "bin_end": 0.30000000000000004,
            "count": 0
           },
           {
            "bin_start": 0.30000000000000004,
            "bin_end": 0.4,
            "count": 0
           },
           {
            "bin_start": 0.4,
            "bin_end": 0.5,
            "count": 0
           }
          ]
         }
        },
        {
         "name": "FLAG_DOCUMENT_19",
         "dtype": "int64",
         "stats": {
          "unique_count": 1,
          "nan_count": 0,
          "min": "0",
          "max": "0",
          "histogram": [
           {
            "bin_start": -0.5,
            "bin_end": -0.4,
            "count": 0
           },
           {
            "bin_start": -0.4,
            "bin_end": -0.3,
            "count": 0
           },
           {
            "bin_start": -0.3,
            "bin_end": -0.19999999999999996,
            "count": 0
           },
           {
            "bin_start": -0.19999999999999996,
            "bin_end": -0.09999999999999998,
            "count": 0
           },
           {
            "bin_start": -0.09999999999999998,
            "bin_end": 0,
            "count": 0
           },
           {
            "bin_start": 0,
            "bin_end": 0.10000000000000009,
            "count": 5
           },
           {
            "bin_start": 0.10000000000000009,
            "bin_end": 0.20000000000000007,
            "count": 0
           },
           {
            "bin_start": 0.20000000000000007,
            "bin_end": 0.30000000000000004,
            "count": 0
           },
           {
            "bin_start": 0.30000000000000004,
            "bin_end": 0.4,
            "count": 0
           },
           {
            "bin_start": 0.4,
            "bin_end": 0.5,
            "count": 0
           }
          ]
         }
        },
        {
         "name": "FLAG_DOCUMENT_20",
         "dtype": "int64",
         "stats": {
          "unique_count": 1,
          "nan_count": 0,
          "min": "0",
          "max": "0",
          "histogram": [
           {
            "bin_start": -0.5,
            "bin_end": -0.4,
            "count": 0
           },
           {
            "bin_start": -0.4,
            "bin_end": -0.3,
            "count": 0
           },
           {
            "bin_start": -0.3,
            "bin_end": -0.19999999999999996,
            "count": 0
           },
           {
            "bin_start": -0.19999999999999996,
            "bin_end": -0.09999999999999998,
            "count": 0
           },
           {
            "bin_start": -0.09999999999999998,
            "bin_end": 0,
            "count": 0
           },
           {
            "bin_start": 0,
            "bin_end": 0.10000000000000009,
            "count": 5
           },
           {
            "bin_start": 0.10000000000000009,
            "bin_end": 0.20000000000000007,
            "count": 0
           },
           {
            "bin_start": 0.20000000000000007,
            "bin_end": 0.30000000000000004,
            "count": 0
           },
           {
            "bin_start": 0.30000000000000004,
            "bin_end": 0.4,
            "count": 0
           },
           {
            "bin_start": 0.4,
            "bin_end": 0.5,
            "count": 0
           }
          ]
         }
        },
        {
         "name": "FLAG_DOCUMENT_21",
         "dtype": "int64",
         "stats": {
          "unique_count": 1,
          "nan_count": 0,
          "min": "0",
          "max": "0",
          "histogram": [
           {
            "bin_start": -0.5,
            "bin_end": -0.4,
            "count": 0
           },
           {
            "bin_start": -0.4,
            "bin_end": -0.3,
            "count": 0
           },
           {
            "bin_start": -0.3,
            "bin_end": -0.19999999999999996,
            "count": 0
           },
           {
            "bin_start": -0.19999999999999996,
            "bin_end": -0.09999999999999998,
            "count": 0
           },
           {
            "bin_start": -0.09999999999999998,
            "bin_end": 0,
            "count": 0
           },
           {
            "bin_start": 0,
            "bin_end": 0.10000000000000009,
            "count": 5
           },
           {
            "bin_start": 0.10000000000000009,
            "bin_end": 0.20000000000000007,
            "count": 0
           },
           {
            "bin_start": 0.20000000000000007,
            "bin_end": 0.30000000000000004,
            "count": 0
           },
           {
            "bin_start": 0.30000000000000004,
            "bin_end": 0.4,
            "count": 0
           },
           {
            "bin_start": 0.4,
            "bin_end": 0.5,
            "count": 0
           }
          ]
         }
        },
        {
         "name": "_deepnote_index_column",
         "dtype": "int64"
        }
       ],
       "rows_top": [
        {
         "SK_ID_CURR": 100002,
         "TARGET": 1,
         "NAME_CONTRACT_TYPE": "Cash loans",
         "CODE_GENDER": "M",
         "FLAG_OWN_CAR": "N",
         "FLAG_OWN_REALTY": "Y",
         "CNT_CHILDREN": 0,
         "AMT_INCOME_TOTAL": 202500,
         "AMT_CREDIT": 406597.5,
         "AMT_ANNUITY": 24700.5,
         "AMT_GOODS_PRICE": 351000,
         "NAME_TYPE_SUITE": "Unaccompanied",
         "NAME_INCOME_TYPE": "Working",
         "NAME_EDUCATION_TYPE": "Secondary / secondary special",
         "NAME_FAMILY_STATUS": "Single / not married",
         "NAME_HOUSING_TYPE": "House / apartment",
         "REGION_POPULATION_RELATIVE": 0.018801,
         "DAYS_BIRTH": -9461,
         "DAYS_EMPLOYED": -637,
         "DAYS_REGISTRATION": -3648,
         "DAYS_ID_PUBLISH": -2120,
         "OWN_CAR_AGE": "nan",
         "FLAG_MOBIL": 1,
         "FLAG_EMP_PHONE": 1,
         "FLAG_WORK_PHONE": 0,
         "FLAG_CONT_MOBILE": 1,
         "FLAG_PHONE": 1,
         "FLAG_EMAIL": 0,
         "OCCUPATION_TYPE": "Laborers",
         "CNT_FAM_MEMBERS": 1,
         "REGION_RATING_CLIENT": 2,
         "REGION_RATING_CLIENT_W_CITY": 2,
         "WEEKDAY_APPR_PROCESS_START": "WEDNESDAY",
         "HOUR_APPR_PROCESS_START": 10,
         "REG_REGION_NOT_LIVE_REGION": 0,
         "REG_REGION_NOT_WORK_REGION": 0,
         "LIVE_REGION_NOT_WORK_REGION": 0,
         "REG_CITY_NOT_LIVE_CITY": 0,
         "REG_CITY_NOT_WORK_CITY": 0,
         "LIVE_CITY_NOT_WORK_CITY": 0,
         "ORGANIZATION_TYPE": "Business Entity Type 3",
         "EXT_SOURCE_1": 0.0830369673913225,
         "EXT_SOURCE_2": 0.2629485927471776,
         "EXT_SOURCE_3": 0.1393757800997895,
         "OBS_30_CNT_SOCIAL_CIRCLE": 2,
         "DEF_30_CNT_SOCIAL_CIRCLE": 2,
         "OBS_60_CNT_SOCIAL_CIRCLE": 2,
         "DEF_60_CNT_SOCIAL_CIRCLE": 2,
         "DAYS_LAST_PHONE_CHANGE": -1134,
         "FLAG_DOCUMENT_2": 0,
         "FLAG_DOCUMENT_3": 1,
         "FLAG_DOCUMENT_4": 0,
         "FLAG_DOCUMENT_5": 0,
         "FLAG_DOCUMENT_6": 0,
         "FLAG_DOCUMENT_7": 0,
         "FLAG_DOCUMENT_8": 0,
         "FLAG_DOCUMENT_9": 0,
         "FLAG_DOCUMENT_10": 0,
         "FLAG_DOCUMENT_11": 0,
         "FLAG_DOCUMENT_12": 0,
         "FLAG_DOCUMENT_13": 0,
         "FLAG_DOCUMENT_14": 0,
         "FLAG_DOCUMENT_15": 0,
         "FLAG_DOCUMENT_16": 0,
         "FLAG_DOCUMENT_17": 0,
         "FLAG_DOCUMENT_18": 0,
         "FLAG_DOCUMENT_19": 0,
         "FLAG_DOCUMENT_20": 0,
         "FLAG_DOCUMENT_21": 0,
         "_deepnote_index_column": 0
        },
        {
         "SK_ID_CURR": 100003,
         "TARGET": 0,
         "NAME_CONTRACT_TYPE": "Cash loans",
         "CODE_GENDER": "F",
         "FLAG_OWN_CAR": "N",
         "FLAG_OWN_REALTY": "N",
         "CNT_CHILDREN": 0,
         "AMT_INCOME_TOTAL": 270000,
         "AMT_CREDIT": 1293502.5,
         "AMT_ANNUITY": 35698.5,
         "AMT_GOODS_PRICE": 1129500,
         "NAME_TYPE_SUITE": "Family",
         "NAME_INCOME_TYPE": "State servant",
         "NAME_EDUCATION_TYPE": "Higher education",
         "NAME_FAMILY_STATUS": "Married",
         "NAME_HOUSING_TYPE": "House / apartment",
         "REGION_POPULATION_RELATIVE": 0.0035409999999999,
         "DAYS_BIRTH": -16765,
         "DAYS_EMPLOYED": -1188,
         "DAYS_REGISTRATION": -1186,
         "DAYS_ID_PUBLISH": -291,
         "OWN_CAR_AGE": "nan",
         "FLAG_MOBIL": 1,
         "FLAG_EMP_PHONE": 1,
         "FLAG_WORK_PHONE": 0,
         "FLAG_CONT_MOBILE": 1,
         "FLAG_PHONE": 1,
         "FLAG_EMAIL": 0,
         "OCCUPATION_TYPE": "Core staff",
         "CNT_FAM_MEMBERS": 2,
         "REGION_RATING_CLIENT": 1,
         "REGION_RATING_CLIENT_W_CITY": 1,
         "WEEKDAY_APPR_PROCESS_START": "MONDAY",
         "HOUR_APPR_PROCESS_START": 11,
         "REG_REGION_NOT_LIVE_REGION": 0,
         "REG_REGION_NOT_WORK_REGION": 0,
         "LIVE_REGION_NOT_WORK_REGION": 0,
         "REG_CITY_NOT_LIVE_CITY": 0,
         "REG_CITY_NOT_WORK_CITY": 0,
         "LIVE_CITY_NOT_WORK_CITY": 0,
         "ORGANIZATION_TYPE": "School",
         "EXT_SOURCE_1": 0.3112673113812225,
         "EXT_SOURCE_2": 0.6222457752555098,
         "EXT_SOURCE_3": "nan",
         "OBS_30_CNT_SOCIAL_CIRCLE": 1,
         "DEF_30_CNT_SOCIAL_CIRCLE": 0,
         "OBS_60_CNT_SOCIAL_CIRCLE": 1,
         "DEF_60_CNT_SOCIAL_CIRCLE": 0,
         "DAYS_LAST_PHONE_CHANGE": -828,
         "FLAG_DOCUMENT_2": 0,
         "FLAG_DOCUMENT_3": 1,
         "FLAG_DOCUMENT_4": 0,
         "FLAG_DOCUMENT_5": 0,
         "FLAG_DOCUMENT_6": 0,
         "FLAG_DOCUMENT_7": 0,
         "FLAG_DOCUMENT_8": 0,
         "FLAG_DOCUMENT_9": 0,
         "FLAG_DOCUMENT_10": 0,
         "FLAG_DOCUMENT_11": 0,
         "FLAG_DOCUMENT_12": 0,
         "FLAG_DOCUMENT_13": 0,
         "FLAG_DOCUMENT_14": 0,
         "FLAG_DOCUMENT_15": 0,
         "FLAG_DOCUMENT_16": 0,
         "FLAG_DOCUMENT_17": 0,
         "FLAG_DOCUMENT_18": 0,
         "FLAG_DOCUMENT_19": 0,
         "FLAG_DOCUMENT_20": 0,
         "FLAG_DOCUMENT_21": 0,
         "_deepnote_index_column": 1
        },
        {
         "SK_ID_CURR": 100004,
         "TARGET": 0,
         "NAME_CONTRACT_TYPE": "Revolving loans",
         "CODE_GENDER": "M",
         "FLAG_OWN_CAR": "Y",
         "FLAG_OWN_REALTY": "Y",
         "CNT_CHILDREN": 0,
         "AMT_INCOME_TOTAL": 67500,
         "AMT_CREDIT": 135000,
         "AMT_ANNUITY": 6750,
         "AMT_GOODS_PRICE": 135000,
         "NAME_TYPE_SUITE": "Unaccompanied",
         "NAME_INCOME_TYPE": "Working",
         "NAME_EDUCATION_TYPE": "Secondary / secondary special",
         "NAME_FAMILY_STATUS": "Single / not married",
         "NAME_HOUSING_TYPE": "House / apartment",
         "REGION_POPULATION_RELATIVE": 0.010032,
         "DAYS_BIRTH": -19046,
         "DAYS_EMPLOYED": -225,
         "DAYS_REGISTRATION": -4260,
         "DAYS_ID_PUBLISH": -2531,
         "OWN_CAR_AGE": 26,
         "FLAG_MOBIL": 1,
         "FLAG_EMP_PHONE": 1,
         "FLAG_WORK_PHONE": 1,
         "FLAG_CONT_MOBILE": 1,
         "FLAG_PHONE": 1,
         "FLAG_EMAIL": 0,
         "OCCUPATION_TYPE": "Laborers",
         "CNT_FAM_MEMBERS": 1,
         "REGION_RATING_CLIENT": 2,
         "REGION_RATING_CLIENT_W_CITY": 2,
         "WEEKDAY_APPR_PROCESS_START": "MONDAY",
         "HOUR_APPR_PROCESS_START": 9,
         "REG_REGION_NOT_LIVE_REGION": 0,
         "REG_REGION_NOT_WORK_REGION": 0,
         "LIVE_REGION_NOT_WORK_REGION": 0,
         "REG_CITY_NOT_LIVE_CITY": 0,
         "REG_CITY_NOT_WORK_CITY": 0,
         "LIVE_CITY_NOT_WORK_CITY": 0,
         "ORGANIZATION_TYPE": "Government",
         "EXT_SOURCE_1": "nan",
         "EXT_SOURCE_2": 0.5559120833904428,
         "EXT_SOURCE_3": 0.7295666907060153,
         "OBS_30_CNT_SOCIAL_CIRCLE": 0,
         "DEF_30_CNT_SOCIAL_CIRCLE": 0,
         "OBS_60_CNT_SOCIAL_CIRCLE": 0,
         "DEF_60_CNT_SOCIAL_CIRCLE": 0,
         "DAYS_LAST_PHONE_CHANGE": -815,
         "FLAG_DOCUMENT_2": 0,
         "FLAG_DOCUMENT_3": 0,
         "FLAG_DOCUMENT_4": 0,
         "FLAG_DOCUMENT_5": 0,
         "FLAG_DOCUMENT_6": 0,
         "FLAG_DOCUMENT_7": 0,
         "FLAG_DOCUMENT_8": 0,
         "FLAG_DOCUMENT_9": 0,
         "FLAG_DOCUMENT_10": 0,
         "FLAG_DOCUMENT_11": 0,
         "FLAG_DOCUMENT_12": 0,
         "FLAG_DOCUMENT_13": 0,
         "FLAG_DOCUMENT_14": 0,
         "FLAG_DOCUMENT_15": 0,
         "FLAG_DOCUMENT_16": 0,
         "FLAG_DOCUMENT_17": 0,
         "FLAG_DOCUMENT_18": 0,
         "FLAG_DOCUMENT_19": 0,
         "FLAG_DOCUMENT_20": 0,
         "FLAG_DOCUMENT_21": 0,
         "_deepnote_index_column": 2
        },
        {
         "SK_ID_CURR": 100006,
         "TARGET": 0,
         "NAME_CONTRACT_TYPE": "Cash loans",
         "CODE_GENDER": "F",
         "FLAG_OWN_CAR": "N",
         "FLAG_OWN_REALTY": "Y",
         "CNT_CHILDREN": 0,
         "AMT_INCOME_TOTAL": 135000,
         "AMT_CREDIT": 312682.5,
         "AMT_ANNUITY": 29686.5,
         "AMT_GOODS_PRICE": 297000,
         "NAME_TYPE_SUITE": "Unaccompanied",
         "NAME_INCOME_TYPE": "Working",
         "NAME_EDUCATION_TYPE": "Secondary / secondary special",
         "NAME_FAMILY_STATUS": "Civil marriage",
         "NAME_HOUSING_TYPE": "House / apartment",
         "REGION_POPULATION_RELATIVE": 0.008019,
         "DAYS_BIRTH": -19005,
         "DAYS_EMPLOYED": -3039,
         "DAYS_REGISTRATION": -9833,
         "DAYS_ID_PUBLISH": -2437,
         "OWN_CAR_AGE": "nan",
         "FLAG_MOBIL": 1,
         "FLAG_EMP_PHONE": 1,
         "FLAG_WORK_PHONE": 0,
         "FLAG_CONT_MOBILE": 1,
         "FLAG_PHONE": 0,
         "FLAG_EMAIL": 0,
         "OCCUPATION_TYPE": "Laborers",
         "CNT_FAM_MEMBERS": 2,
         "REGION_RATING_CLIENT": 2,
         "REGION_RATING_CLIENT_W_CITY": 2,
         "WEEKDAY_APPR_PROCESS_START": "WEDNESDAY",
         "HOUR_APPR_PROCESS_START": 17,
         "REG_REGION_NOT_LIVE_REGION": 0,
         "REG_REGION_NOT_WORK_REGION": 0,
         "LIVE_REGION_NOT_WORK_REGION": 0,
         "REG_CITY_NOT_LIVE_CITY": 0,
         "REG_CITY_NOT_WORK_CITY": 0,
         "LIVE_CITY_NOT_WORK_CITY": 0,
         "ORGANIZATION_TYPE": "Business Entity Type 3",
         "EXT_SOURCE_1": "nan",
         "EXT_SOURCE_2": 0.6504416904014653,
         "EXT_SOURCE_3": "nan",
         "OBS_30_CNT_SOCIAL_CIRCLE": 2,
         "DEF_30_CNT_SOCIAL_CIRCLE": 0,
         "OBS_60_CNT_SOCIAL_CIRCLE": 2,
         "DEF_60_CNT_SOCIAL_CIRCLE": 0,
         "DAYS_LAST_PHONE_CHANGE": -617,
         "FLAG_DOCUMENT_2": 0,
         "FLAG_DOCUMENT_3": 1,
         "FLAG_DOCUMENT_4": 0,
         "FLAG_DOCUMENT_5": 0,
         "FLAG_DOCUMENT_6": 0,
         "FLAG_DOCUMENT_7": 0,
         "FLAG_DOCUMENT_8": 0,
         "FLAG_DOCUMENT_9": 0,
         "FLAG_DOCUMENT_10": 0,
         "FLAG_DOCUMENT_11": 0,
         "FLAG_DOCUMENT_12": 0,
         "FLAG_DOCUMENT_13": 0,
         "FLAG_DOCUMENT_14": 0,
         "FLAG_DOCUMENT_15": 0,
         "FLAG_DOCUMENT_16": 0,
         "FLAG_DOCUMENT_17": 0,
         "FLAG_DOCUMENT_18": 0,
         "FLAG_DOCUMENT_19": 0,
         "FLAG_DOCUMENT_20": 0,
         "FLAG_DOCUMENT_21": 0,
         "_deepnote_index_column": 3
        },
        {
         "SK_ID_CURR": 100007,
         "TARGET": 0,
         "NAME_CONTRACT_TYPE": "Cash loans",
         "CODE_GENDER": "M",
         "FLAG_OWN_CAR": "N",
         "FLAG_OWN_REALTY": "Y",
         "CNT_CHILDREN": 0,
         "AMT_INCOME_TOTAL": 121500,
         "AMT_CREDIT": 513000,
         "AMT_ANNUITY": 21865.5,
         "AMT_GOODS_PRICE": 513000,
         "NAME_TYPE_SUITE": "Unaccompanied",
         "NAME_INCOME_TYPE": "Working",
         "NAME_EDUCATION_TYPE": "Secondary / secondary special",
         "NAME_FAMILY_STATUS": "Single / not married",
         "NAME_HOUSING_TYPE": "House / apartment",
         "REGION_POPULATION_RELATIVE": 0.028663,
         "DAYS_BIRTH": -19932,
         "DAYS_EMPLOYED": -3038,
         "DAYS_REGISTRATION": -4311,
         "DAYS_ID_PUBLISH": -3458,
         "OWN_CAR_AGE": "nan",
         "FLAG_MOBIL": 1,
         "FLAG_EMP_PHONE": 1,
         "FLAG_WORK_PHONE": 0,
         "FLAG_CONT_MOBILE": 1,
         "FLAG_PHONE": 0,
         "FLAG_EMAIL": 0,
         "OCCUPATION_TYPE": "Core staff",
         "CNT_FAM_MEMBERS": 1,
         "REGION_RATING_CLIENT": 2,
         "REGION_RATING_CLIENT_W_CITY": 2,
         "WEEKDAY_APPR_PROCESS_START": "THURSDAY",
         "HOUR_APPR_PROCESS_START": 11,
         "REG_REGION_NOT_LIVE_REGION": 0,
         "REG_REGION_NOT_WORK_REGION": 0,
         "LIVE_REGION_NOT_WORK_REGION": 0,
         "REG_CITY_NOT_LIVE_CITY": 0,
         "REG_CITY_NOT_WORK_CITY": 1,
         "LIVE_CITY_NOT_WORK_CITY": 1,
         "ORGANIZATION_TYPE": "Religion",
         "EXT_SOURCE_1": "nan",
         "EXT_SOURCE_2": 0.3227382869704046,
         "EXT_SOURCE_3": "nan",
         "OBS_30_CNT_SOCIAL_CIRCLE": 0,
         "DEF_30_CNT_SOCIAL_CIRCLE": 0,
         "OBS_60_CNT_SOCIAL_CIRCLE": 0,
         "DEF_60_CNT_SOCIAL_CIRCLE": 0,
         "DAYS_LAST_PHONE_CHANGE": -1106,
         "FLAG_DOCUMENT_2": 0,
         "FLAG_DOCUMENT_3": 0,
         "FLAG_DOCUMENT_4": 0,
         "FLAG_DOCUMENT_5": 0,
         "FLAG_DOCUMENT_6": 0,
         "FLAG_DOCUMENT_7": 0,
         "FLAG_DOCUMENT_8": 1,
         "FLAG_DOCUMENT_9": 0,
         "FLAG_DOCUMENT_10": 0,
         "FLAG_DOCUMENT_11": 0,
         "FLAG_DOCUMENT_12": 0,
         "FLAG_DOCUMENT_13": 0,
         "FLAG_DOCUMENT_14": 0,
         "FLAG_DOCUMENT_15": 0,
         "FLAG_DOCUMENT_16": 0,
         "FLAG_DOCUMENT_17": 0,
         "FLAG_DOCUMENT_18": 0,
         "FLAG_DOCUMENT_19": 0,
         "FLAG_DOCUMENT_20": 0,
         "FLAG_DOCUMENT_21": 0,
         "_deepnote_index_column": 4
        }
       ],
       "rows_bottom": null
      },
      "text/plain": "   SK_ID_CURR  TARGET NAME_CONTRACT_TYPE CODE_GENDER FLAG_OWN_CAR  \\\n0      100002       1         Cash loans           M            N   \n1      100003       0         Cash loans           F            N   \n2      100004       0    Revolving loans           M            Y   \n3      100006       0         Cash loans           F            N   \n4      100007       0         Cash loans           M            N   \n\n  FLAG_OWN_REALTY  CNT_CHILDREN  AMT_INCOME_TOTAL  AMT_CREDIT  AMT_ANNUITY  \\\n0               Y             0          202500.0    406597.5      24700.5   \n1               N             0          270000.0   1293502.5      35698.5   \n2               Y             0           67500.0    135000.0       6750.0   \n3               Y             0          135000.0    312682.5      29686.5   \n4               Y             0          121500.0    513000.0      21865.5   \n\n   ...  FLAG_DOCUMENT_12 FLAG_DOCUMENT_13 FLAG_DOCUMENT_14 FLAG_DOCUMENT_15  \\\n0  ...                 0                0                0                0   \n1  ...                 0                0                0                0   \n2  ...                 0                0                0                0   \n3  ...                 0                0                0                0   \n4  ...                 0                0                0                0   \n\n  FLAG_DOCUMENT_16 FLAG_DOCUMENT_17  FLAG_DOCUMENT_18  FLAG_DOCUMENT_19  \\\n0                0                0                 0                 0   \n1                0                0                 0                 0   \n2                0                0                 0                 0   \n3                0                0                 0                 0   \n4                0                0                 0                 0   \n\n   FLAG_DOCUMENT_20  FLAG_DOCUMENT_21  \n0                 0                 0  \n1                 0                 0  \n2                 0                 0  \n3                 0                 0  \n4                 0                 0  \n\n[5 rows x 69 columns]",
      "text/html": "<div>\n<style scoped>\n    .dataframe tbody tr th:only-of-type {\n        vertical-align: middle;\n    }\n\n    .dataframe tbody tr th {\n        vertical-align: top;\n    }\n\n    .dataframe thead th {\n        text-align: right;\n    }\n</style>\n<table border=\"1\" class=\"dataframe\">\n  <thead>\n    <tr style=\"text-align: right;\">\n      <th></th>\n      <th>SK_ID_CURR</th>\n      <th>TARGET</th>\n      <th>NAME_CONTRACT_TYPE</th>\n      <th>CODE_GENDER</th>\n      <th>FLAG_OWN_CAR</th>\n      <th>FLAG_OWN_REALTY</th>\n      <th>CNT_CHILDREN</th>\n      <th>AMT_INCOME_TOTAL</th>\n      <th>AMT_CREDIT</th>\n      <th>AMT_ANNUITY</th>\n      <th>...</th>\n      <th>FLAG_DOCUMENT_12</th>\n      <th>FLAG_DOCUMENT_13</th>\n      <th>FLAG_DOCUMENT_14</th>\n      <th>FLAG_DOCUMENT_15</th>\n      <th>FLAG_DOCUMENT_16</th>\n      <th>FLAG_DOCUMENT_17</th>\n      <th>FLAG_DOCUMENT_18</th>\n      <th>FLAG_DOCUMENT_19</th>\n      <th>FLAG_DOCUMENT_20</th>\n      <th>FLAG_DOCUMENT_21</th>\n    </tr>\n  </thead>\n  <tbody>\n    <tr>\n      <th>0</th>\n      <td>100002</td>\n      <td>1</td>\n      <td>Cash loans</td>\n      <td>M</td>\n      <td>N</td>\n      <td>Y</td>\n      <td>0</td>\n      <td>202500.0</td>\n      <td>406597.5</td>\n      <td>24700.5</td>\n      <td>...</td>\n      <td>0</td>\n      <td>0</td>\n      <td>0</td>\n      <td>0</td>\n      <td>0</td>\n      <td>0</td>\n      <td>0</td>\n      <td>0</td>\n      <td>0</td>\n      <td>0</td>\n    </tr>\n    <tr>\n      <th>1</th>\n      <td>100003</td>\n      <td>0</td>\n      <td>Cash loans</td>\n      <td>F</td>\n      <td>N</td>\n      <td>N</td>\n      <td>0</td>\n      <td>270000.0</td>\n      <td>1293502.5</td>\n      <td>35698.5</td>\n      <td>...</td>\n      <td>0</td>\n      <td>0</td>\n      <td>0</td>\n      <td>0</td>\n      <td>0</td>\n      <td>0</td>\n      <td>0</td>\n      <td>0</td>\n      <td>0</td>\n      <td>0</td>\n    </tr>\n    <tr>\n      <th>2</th>\n      <td>100004</td>\n      <td>0</td>\n      <td>Revolving loans</td>\n      <td>M</td>\n      <td>Y</td>\n      <td>Y</td>\n      <td>0</td>\n      <td>67500.0</td>\n      <td>135000.0</td>\n      <td>6750.0</td>\n      <td>...</td>\n      <td>0</td>\n      <td>0</td>\n      <td>0</td>\n      <td>0</td>\n      <td>0</td>\n      <td>0</td>\n      <td>0</td>\n      <td>0</td>\n      <td>0</td>\n      <td>0</td>\n    </tr>\n    <tr>\n      <th>3</th>\n      <td>100006</td>\n      <td>0</td>\n      <td>Cash loans</td>\n      <td>F</td>\n      <td>N</td>\n      <td>Y</td>\n      <td>0</td>\n      <td>135000.0</td>\n      <td>312682.5</td>\n      <td>29686.5</td>\n      <td>...</td>\n      <td>0</td>\n      <td>0</td>\n      <td>0</td>\n      <td>0</td>\n      <td>0</td>\n      <td>0</td>\n      <td>0</td>\n      <td>0</td>\n      <td>0</td>\n      <td>0</td>\n    </tr>\n    <tr>\n      <th>4</th>\n      <td>100007</td>\n      <td>0</td>\n      <td>Cash loans</td>\n      <td>M</td>\n      <td>N</td>\n      <td>Y</td>\n      <td>0</td>\n      <td>121500.0</td>\n      <td>513000.0</td>\n      <td>21865.5</td>\n      <td>...</td>\n      <td>0</td>\n      <td>0</td>\n      <td>0</td>\n      <td>0</td>\n      <td>0</td>\n      <td>0</td>\n      <td>0</td>\n      <td>0</td>\n      <td>0</td>\n      <td>0</td>\n    </tr>\n  </tbody>\n</table>\n<p>5 rows × 69 columns</p>\n</div>"
     },
     "metadata": {}
    }
   ]
  },
  {
   "cell_type": "markdown",
   "source": "## Current Applications EDA",
   "metadata": {
    "tags": [],
    "cell_id": "00001-6af8445b-696b-4ef3-a509-85c51d83923f",
    "deepnote_cell_type": "markdown"
   }
  },
  {
   "cell_type": "code",
   "metadata": {
    "tags": [],
    "cell_id": "00001-7c9e6852-38b5-4ea7-b851-4dc952362c62",
    "deepnote_to_be_reexecuted": false,
    "source_hash": "cd4f2860",
    "execution_start": 1623821045629,
    "execution_millis": 1215,
    "deepnote_cell_type": "code"
   },
   "source": "sns.violinplot(app_train_red.DAYS_EMPLOYED)",
   "execution_count": 4,
   "outputs": [
    {
     "name": "stderr",
     "text": "/shared-libs/python3.7/py/lib/python3.7/site-packages/seaborn/_decorators.py:43: FutureWarning: Pass the following variable as a keyword arg: x. From version 0.12, the only valid positional argument will be `data`, and passing other arguments without an explicit keyword will result in an error or misinterpretation.\n  FutureWarning\n",
     "output_type": "stream"
    },
    {
     "output_type": "execute_result",
     "execution_count": 4,
     "data": {
      "text/plain": "<AxesSubplot:xlabel='DAYS_EMPLOYED'>"
     },
     "metadata": {}
    },
    {
     "data": {
      "text/plain": "<Figure size 1080x720 with 1 Axes>",
      "image/png": "[encoded data removed]"
     },
     "metadata": {
      "needs_background": "light",
      "image/png": {
       "width": 857,
       "height": 592
      }
     },
     "output_type": "display_data"
    }
   ]
  },
  {
   "cell_type": "markdown",
   "source": "A violin plot of the number of days the borrower has been employed brings up something highly suspicious. The days employed are counted with respect to the current application, so the majority of them are \"negative\", as is expected. Oddly, there is a giant spike at about 350000 days positive. Since days are counted as days before submition of the application, this makes the positve 350000 spike highly suspect, not to mention it eqauted to  about 800+ years. ",
   "metadata": {
    "tags": [],
    "cell_id": "00002-15d69f6b-7fa3-4dc0-bfc3-9f4eb1c042fa",
    "deepnote_cell_type": "markdown"
   }
  },
  {
   "cell_type": "code",
   "metadata": {
    "tags": [],
    "cell_id": "00002-d68a2f68-17a8-4c67-bbfe-957a9a0e4d1d",
    "deepnote_to_be_reexecuted": false,
    "source_hash": "9ef878d6",
    "execution_start": 1623821046886,
    "execution_millis": 1249,
    "deepnote_cell_type": "code"
   },
   "source": "fig, ax1 = plt.subplots()\nsns.histplot(app_train_red.DAYS_EMPLOYED[app_train_red.DAYS_EMPLOYED < 10], ax = ax1)\nplt.axvline(- 4.2 * 365, 0, 8200)\nax1.set_title(\"Histogram of Number of Days Employed Since Application\")\nax1.set_xlabel(\"Number of Days Emploed\")\nax1.set_ylabel(\"Count\")\nax1.text(- 4.2 * 365 - 1450, 8000, \"US Median\", fontsize = 11)\nplt.show()",
   "execution_count": 5,
   "outputs": [
    {
     "data": {
      "text/plain": "<Figure size 1080x720 with 1 Axes>",
      "image/png": "[encoded data removed]"
     },
     "metadata": {
      "needs_background": "light",
      "image/png": {
       "width": 900,
       "height": 609
      }
     },
     "output_type": "display_data"
    }
   ]
  },
  {
   "cell_type": "markdown",
   "source": "Excluding the outliers, the rest of the data exhibits normal behavior and appears to be lognormally distributed. This seems reasonable since according to the Bereau of Labor and Statistics, the median number of years workers tend to stay with the same employer is about 4.2 years in 2020 (assuming this is excluding the rise of unemployment and job losses due to the pandemic). Since Home Credit is primarily based in Asia, I expect the distribution to be similar to the US's but skewed to the lower end, meaning less people being tenured longer with the same employer. Comparing the US median to the dataset shows this to be true. The 4.2 year mark has 56.7% of the applicants being employed less than 4.2 years.\n\nThe more interesting question is what is up with the people having a positive employment time, ie the weird ones. ",
   "metadata": {
    "tags": [],
    "cell_id": "00004-0f993083-1f06-428d-8a9e-791dda2d58f0",
    "deepnote_cell_type": "markdown"
   }
  },
  {
   "cell_type": "code",
   "metadata": {
    "tags": [],
    "cell_id": "00004-a6c78b08-e933-4482-a41c-6da0d5e9ccd7",
    "deepnote_to_be_reexecuted": false,
    "source_hash": "1bda7de5",
    "execution_start": 1623821048138,
    "execution_millis": 14,
    "deepnote_cell_type": "code"
   },
   "source": "len(app_train_red.DAYS_EMPLOYED[app_train_red.DAYS_EMPLOYED < - 4.2 * 365]) / len(app_train_red) * 100",
   "execution_count": 6,
   "outputs": [
    {
     "output_type": "execute_result",
     "execution_count": 6,
     "data": {
      "text/plain": "43.30154043269997"
     },
     "metadata": {}
    }
   ]
  },
  {
   "cell_type": "markdown",
   "source": "#### The Weird Ones",
   "metadata": {
    "tags": [],
    "cell_id": "00002-3c67d8bb-ce1f-4359-adc5-57f414836786",
    "deepnote_cell_type": "markdown"
   }
  },
  {
   "cell_type": "code",
   "metadata": {
    "tags": [],
    "cell_id": "00005-61d4841d-1eae-49b5-af73-b66b6a0756fa",
    "deepnote_to_be_reexecuted": false,
    "source_hash": "79285e9d",
    "execution_start": 1623821048159,
    "execution_millis": 312,
    "deepnote_cell_type": "code"
   },
   "source": "weird_ones = app_train_red[app_train_red.DAYS_EMPLOYED > 0]\nsns.histplot(x = weird_ones.DAYS_EMPLOYED, stat = \"probability\")",
   "execution_count": 7,
   "outputs": [
    {
     "output_type": "execute_result",
     "execution_count": 7,
     "data": {
      "text/plain": "<AxesSubplot:xlabel='DAYS_EMPLOYED', ylabel='Probability'>"
     },
     "metadata": {}
    },
    {
     "data": {
      "text/plain": "<Figure size 1080x720 with 1 Axes>",
      "image/png": "[encoded data removed]"
     },
     "metadata": {
      "needs_background": "light",
      "image/png": {
       "width": 891,
       "height": 592
      }
     },
     "output_type": "display_data"
    }
   ]
  },
  {
   "cell_type": "markdown",
   "source": "The weird ones all have a specific values assigned to them, as if it was done on purpose. They are all concentrated on the value of 365240 days, which translates to 1000 years, which is a long time to be employed(?). Perhaps this is less weird and more compensating for people who are unemployed or something to that extent which was not included in the dataset description instead of leaving the value as missing. ",
   "metadata": {
    "tags": [],
    "cell_id": "00005-37666efa-f821-425d-a490-62361d28f4c2",
    "deepnote_cell_type": "markdown"
   }
  },
  {
   "cell_type": "code",
   "metadata": {
    "tags": [],
    "cell_id": "00003-59bcf2f1-4f73-4ef5-9685-839aca2823a0",
    "deepnote_to_be_reexecuted": false,
    "source_hash": "8ff64a13",
    "execution_start": 1623821048468,
    "execution_millis": 201,
    "deepnote_cell_type": "code"
   },
   "source": "sns.countplot(x = weird_ones.TARGET)",
   "execution_count": 8,
   "outputs": [
    {
     "output_type": "execute_result",
     "execution_count": 8,
     "data": {
      "text/plain": "<AxesSubplot:xlabel='TARGET', ylabel='count'>"
     },
     "metadata": {}
    },
    {
     "data": {
      "text/plain": "<Figure size 1080x720 with 1 Axes>",
      "image/png": "[encoded data removed]"
     },
     "metadata": {
      "needs_background": "light",
      "image/png": {
       "width": 906,
       "height": 592
      }
     },
     "output_type": "display_data"
    }
   ]
  },
  {
   "cell_type": "code",
   "metadata": {
    "tags": [],
    "cell_id": "00006-71a63cf8-8d61-482b-9c3d-e6bf122b9e5b",
    "deepnote_to_be_reexecuted": false,
    "source_hash": "e0e45f3b",
    "execution_start": 1623821048714,
    "execution_millis": 3015,
    "deepnote_cell_type": "code"
   },
   "source": "df = pd.merge(app_train_red, weird_ones, on = \"SK_ID_CURR\", how = \"left\", indicator = \"Weird\")\ndf.Weird = df.Weird == \"both\"",
   "execution_count": 9,
   "outputs": []
  },
  {
   "cell_type": "code",
   "metadata": {
    "tags": [],
    "cell_id": "00015-4b055bd8-d576-4da8-8162-6b4d04eec544",
    "deepnote_to_be_reexecuted": false,
    "source_hash": "eae44eef",
    "execution_start": 1623821051736,
    "execution_millis": 328,
    "deepnote_cell_type": "code"
   },
   "source": "sns.countplot(x = df.Weird, hue = df.TARGET_x)\n# trying to find the percentage of target variable relative to the amount of people in weird group vs non weird",
   "execution_count": 10,
   "outputs": [
    {
     "output_type": "execute_result",
     "execution_count": 10,
     "data": {
      "text/plain": "<AxesSubplot:xlabel='Weird', ylabel='count'>"
     },
     "metadata": {}
    },
    {
     "data": {
      "text/plain": "<Figure size 1080x720 with 1 Axes>",
      "image/png": "[encoded data removed]"
     },
     "metadata": {
      "needs_background": "light",
      "image/png": {
       "width": 913,
       "height": 592
      }
     },
     "output_type": "display_data"
    }
   ]
  },
  {
   "cell_type": "code",
   "metadata": {
    "tags": [],
    "cell_id": "00015-0c608a83-2324-40df-8814-a2cacf107124",
    "deepnote_to_be_reexecuted": false,
    "source_hash": "5f7c220f",
    "execution_start": 1623821381697,
    "execution_millis": 291,
    "deepnote_cell_type": "code"
   },
   "source": "df1 = df.groupby([\"Weird\", \"TARGET_x\"]).TARGET_x.agg(total = \"count\").reset_index()\ndf2 = df1.groupby(by = \"Weird\").apply(lambda x: x / x.sum())\ndf1[\"percent\"] = df2.total\n\nsns.barplot(x = \"Weird\", y = \"percent\", data = df1, hue = \"TARGET_x\")",
   "execution_count": 24,
   "outputs": [
    {
     "output_type": "execute_result",
     "execution_count": 24,
     "data": {
      "text/plain": "<AxesSubplot:xlabel='Weird', ylabel='percent'>"
     },
     "metadata": {}
    },
    {
     "data": {
      "text/plain": "<Figure size 1080x720 with 1 Axes>",
      "image/png": "[encoded data removed]"
     },
     "metadata": {
      "needs_background": "light",
      "image/png": {
       "width": 891,
       "height": 592
      }
     },
     "output_type": "display_data"
    }
   ]
  },
  {
   "cell_type": "code",
   "metadata": {
    "tags": [],
    "cell_id": "00016-b40a7b24-dd69-4d0a-b0b8-b707a4b26797",
    "deepnote_to_be_reexecuted": false,
    "source_hash": "7f1e8273",
    "execution_start": 1623821880245,
    "execution_millis": 63,
    "deepnote_cell_type": "code"
   },
   "source": "contingency_table = pd.crosstab(df.Weird, df.TARGET_x)\ncontingency_table",
   "execution_count": 26,
   "outputs": [
    {
     "output_type": "execute_result",
     "execution_count": 26,
     "data": {
      "application/vnd.deepnote.dataframe.v2+json": {
       "row_count": 2,
       "column_count": 2,
       "columns": [
        {
         "name": 0,
         "dtype": "int64",
         "stats": {
          "unique_count": 2,
          "nan_count": 0,
          "min": "52384",
          "max": "230302",
          "histogram": [
           {
            "bin_start": 52384,
            "bin_end": 70175.8,
            "count": 1
           },
           {
            "bin_start": 70175.8,
            "bin_end": 87967.6,
            "count": 0
           },
           {
            "bin_start": 87967.6,
            "bin_end": 105759.4,
            "count": 0
           },
           {
            "bin_start": 105759.4,
            "bin_end": 123551.2,
            "count": 0
           },
           {
            "bin_start": 123551.2,
            "bin_end": 141343,
            "count": 0
           },
           {
            "bin_start": 141343,
            "bin_end": 159134.8,
            "count": 0
           },
           {
            "bin_start": 159134.8,
            "bin_end": 176926.59999999998,
            "count": 0
           },
           {
            "bin_start": 176926.59999999998,
            "bin_end": 194718.4,
            "count": 0
           },
           {
            "bin_start": 194718.4,
            "bin_end": 212510.19999999998,
            "count": 0
           },
           {
            "bin_start": 212510.19999999998,
            "bin_end": 230302,
            "count": 1
           }
          ]
         }
        },
        {
         "name": 1,
         "dtype": "int64",
         "stats": {
          "unique_count": 2,
          "nan_count": 0,
          "min": "2990",
          "max": "21835",
          "histogram": [
           {
            "bin_start": 2990,
            "bin_end": 4874.5,
            "count": 1
           },
           {
            "bin_start": 4874.5,
            "bin_end": 6759,
            "count": 0
           },
           {
            "bin_start": 6759,
            "bin_end": 8643.5,
            "count": 0
           },
           {
            "bin_start": 8643.5,
            "bin_end": 10528,
            "count": 0
           },
           {
            "bin_start": 10528,
            "bin_end": 12412.5,
            "count": 0
           },
           {
            "bin_start": 12412.5,
            "bin_end": 14297,
            "count": 0
           },
           {
            "bin_start": 14297,
            "bin_end": 16181.5,
            "count": 0
           },
           {
            "bin_start": 16181.5,
            "bin_end": 18066,
            "count": 0
           },
           {
            "bin_start": 18066,
            "bin_end": 19950.5,
            "count": 0
           },
           {
            "bin_start": 19950.5,
            "bin_end": 21835,
            "count": 1
           }
          ]
         }
        },
        {
         "name": "_deepnote_index_column",
         "dtype": "object"
        }
       ],
       "rows_top": [
        {
         "0": 230302,
         "1": 21835,
         "_deepnote_index_column": "False"
        },
        {
         "0": 52384,
         "1": 2990,
         "_deepnote_index_column": "True"
        }
       ],
       "rows_bottom": null
      },
      "text/plain": "TARGET_x       0      1\nWeird                  \nFalse     230302  21835\nTrue       52384   2990",
      "text/html": "<div>\n<style scoped>\n    .dataframe tbody tr th:only-of-type {\n        vertical-align: middle;\n    }\n\n    .dataframe tbody tr th {\n        vertical-align: top;\n    }\n\n    .dataframe thead th {\n        text-align: right;\n    }\n</style>\n<table border=\"1\" class=\"dataframe\">\n  <thead>\n    <tr style=\"text-align: right;\">\n      <th>TARGET_x</th>\n      <th>0</th>\n      <th>1</th>\n    </tr>\n    <tr>\n      <th>Weird</th>\n      <th></th>\n      <th></th>\n    </tr>\n  </thead>\n  <tbody>\n    <tr>\n      <th>False</th>\n      <td>230302</td>\n      <td>21835</td>\n    </tr>\n    <tr>\n      <th>True</th>\n      <td>52384</td>\n      <td>2990</td>\n    </tr>\n  </tbody>\n</table>\n</div>"
     },
     "metadata": {}
    }
   ]
  },
  {
   "cell_type": "code",
   "metadata": {
    "tags": [],
    "cell_id": "00017-695bb54a-110a-437c-ab8c-091432fbeb87",
    "deepnote_to_be_reexecuted": false,
    "source_hash": "3ee8a9ea",
    "execution_start": 1623822103518,
    "execution_millis": 5,
    "deepnote_cell_type": "code"
   },
   "source": "chi, p, dofs, exp = stats.chi2_contingency(contingency_table)\nprint(\"The Chi-Squared statistic is %f and the corresponding p-value is %f\" %(chi, p))",
   "execution_count": 29,
   "outputs": [
    {
     "name": "stdout",
     "text": "The Chi-Squared statistic is 649.888509 and the corresponding p-value is 0.000000\n",
     "output_type": "stream"
    }
   ]
  },
  {
   "cell_type": "code",
   "metadata": {
    "tags": [],
    "cell_id": "00018-3cae3f1b-7e2a-4fa8-8339-571d6b0657a5",
    "deepnote_to_be_reexecuted": true,
    "source_hash": "b623e53d",
    "deepnote_cell_type": "code"
   },
   "source": "",
   "execution_count": null,
   "outputs": []
  },
  {
   "cell_type": "code",
   "metadata": {
    "tags": [],
    "cell_id": "00019-3f241bf1-d9e7-46ff-8da4-828b418504f0",
    "deepnote_to_be_reexecuted": true,
    "source_hash": "b623e53d",
    "deepnote_cell_type": "code"
   },
   "source": "",
   "execution_count": null,
   "outputs": []
  },
  {
   "cell_type": "code",
   "metadata": {
    "tags": [],
    "cell_id": "00020-067a968c-1c30-492e-8e2d-eb2c9d988d6d",
    "deepnote_to_be_reexecuted": true,
    "source_hash": "b623e53d",
    "deepnote_cell_type": "code"
   },
   "source": "",
   "execution_count": null,
   "outputs": []
  },
  {
   "cell_type": "code",
   "metadata": {
    "tags": [],
    "cell_id": "00021-463d601b-90f9-4030-bed0-8c7bbb4ce01e",
    "deepnote_to_be_reexecuted": true,
    "source_hash": "b623e53d",
    "deepnote_cell_type": "code"
   },
   "source": "",
   "execution_count": null,
   "outputs": []
  },
  {
   "cell_type": "code",
   "metadata": {
    "tags": [],
    "cell_id": "00021-d297aecc-01b4-4af2-a0a2-c733aa1ac287",
    "deepnote_to_be_reexecuted": true,
    "source_hash": "b623e53d",
    "deepnote_cell_type": "code"
   },
   "source": "",
   "execution_count": null,
   "outputs": []
  },
  {
   "cell_type": "code",
   "metadata": {
    "tags": [],
    "cell_id": "00021-38164960-de02-4adf-b9b1-63d78f992b82",
    "deepnote_to_be_reexecuted": true,
    "source_hash": "b623e53d",
    "deepnote_cell_type": "code"
   },
   "source": "",
   "execution_count": null,
   "outputs": []
  },
  {
   "cell_type": "code",
   "metadata": {
    "tags": [],
    "cell_id": "00021-f89d91a0-6e01-4ed4-948b-37760a4c81f5",
    "deepnote_to_be_reexecuted": true,
    "source_hash": "b623e53d",
    "deepnote_cell_type": "code"
   },
   "source": "",
   "execution_count": null,
   "outputs": []
  },
  {
   "cell_type": "code",
   "metadata": {
    "tags": [],
    "cell_id": "00017-e3aef753-8b75-46e5-8e47-21bdbd93ba76",
    "deepnote_to_be_reexecuted": true,
    "source_hash": "b623e53d",
    "deepnote_cell_type": "code"
   },
   "source": "",
   "execution_count": null,
   "outputs": []
  },
  {
   "cell_type": "markdown",
   "source": "<a style='text-decoration:none;line-height:16px;display:flex;color:#5B5B62;padding:10px;justify-content:end;' href='https://deepnote.com?utm_source=created-in-deepnote-cell&projectId=9263f292-ea73-48e7-8892-f3d3ed1db03c' target=\"_blank\">\n<img alt='Created in deepnote.com' style='display:inline;max-height:16px;margin:0px;margin-right:7.5px;' src='data:image/svg+xml;base64,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' > </img>\nCreated in <span style='font-weight:600;margin-left:4px;'>Deepnote</span></a>",
   "metadata": {
    "tags": [],
    "created_in_deepnote_cell": true,
    "deepnote_cell_type": "markdown"
   }
  }
 ],
 "nbformat": 4,
 "nbformat_minor": 2,
 "metadata": {
  "orig_nbformat": 2,
  "deepnote": {
   "is_reactive": false
  },
  "deepnote_notebook_id": "39a11ec7-6522-45bd-b829-66ce8f9b6c1f",
  "deepnote_execution_queue": []
 }
}
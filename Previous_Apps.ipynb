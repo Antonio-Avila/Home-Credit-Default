{
 "cells": [
  {
   "cell_type": "code",
   "metadata": {
    "tags": [],
    "cell_id": "00000-24f3bc3d-18c9-4505-bd05-fe3e29eb537f",
    "deepnote_to_be_reexecuted": false,
    "source_hash": "bb3581b5",
    "execution_start": 1628709318795,
    "execution_millis": 10011,
    "deepnote_cell_type": "code"
   },
   "source": "import pandas as pd\nimport numpy as np\nimport matplotlib.pyplot as plt\nplt.style.use('ggplot')\n%matplotlib inline\nimport pylab\npylab.rcParams['figure.figsize'] = (15, 10)\n\nimport seaborn as sns\nfrom scipy import stats\n!pip install statsmodels\nimport statsmodels.api as sm\nimport time",
   "execution_count": 1,
   "outputs": [
    {
     "name": "stdout",
     "text": "Collecting statsmodels\n  Downloading statsmodels-0.12.2-cp37-cp37m-manylinux1_x86_64.whl (9.5 MB)\n\u001b[K     |████████████████████████████████| 9.5 MB 45.2 MB/s \n\u001b[?25hRequirement already satisfied: scipy>=1.1 in /shared-libs/python3.7/py/lib/python3.7/site-packages (from statsmodels) (1.7.1)\nCollecting patsy>=0.5\n  Downloading patsy-0.5.1-py2.py3-none-any.whl (231 kB)\n\u001b[K     |████████████████████████████████| 231 kB 80.0 MB/s \n\u001b[?25hRequirement already satisfied: numpy>=1.15 in /shared-libs/python3.7/py/lib/python3.7/site-packages (from statsmodels) (1.19.5)\nRequirement already satisfied: pandas>=0.21 in /shared-libs/python3.7/py/lib/python3.7/site-packages (from statsmodels) (1.2.5)\nRequirement already satisfied: pytz>=2017.3 in /shared-libs/python3.7/py/lib/python3.7/site-packages (from pandas>=0.21->statsmodels) (2021.1)\nRequirement already satisfied: python-dateutil>=2.7.3 in /shared-libs/python3.7/py-core/lib/python3.7/site-packages (from pandas>=0.21->statsmodels) (2.8.2)\nRequirement already satisfied: six in /shared-libs/python3.7/py-core/lib/python3.7/site-packages (from patsy>=0.5->statsmodels) (1.16.0)\nInstalling collected packages: patsy, statsmodels\nSuccessfully installed patsy-0.5.1 statsmodels-0.12.2\n\u001b[33mWARNING: You are using pip version 21.2.2; however, version 21.2.3 is available.\nYou should consider upgrading via the '/root/venv/bin/python -m pip install --upgrade pip' command.\u001b[0m\n",
     "output_type": "stream"
    }
   ]
  },
  {
   "cell_type": "code",
   "metadata": {
    "tags": [],
    "cell_id": "00001-03d044d6-d1df-47f6-97bf-34e42472059f",
    "deepnote_to_be_reexecuted": false,
    "source_hash": "df23b58b",
    "execution_start": 1628711569702,
    "execution_millis": 8286,
    "deepnote_cell_type": "code"
   },
   "source": "app_train = pd.read_csv(\"app_train_red.csv\", index_col = 0)\napp_test = pd.read_csv(\"app_test_red.csv\")\nprev_app = pd.read_csv(\"previous_application.csv\")",
   "execution_count": 24,
   "outputs": []
  },
  {
   "cell_type": "code",
   "metadata": {
    "tags": [],
    "cell_id": "00003-054eaa2b-8570-4be3-bbb3-b735a847d93e",
    "deepnote_to_be_reexecuted": false,
    "source_hash": "a07985e8",
    "execution_start": 1628709345503,
    "execution_millis": 115,
    "deepnote_cell_type": "code"
   },
   "source": "prev_app.head()",
   "execution_count": 3,
   "outputs": [
    {
     "output_type": "execute_result",
     "execution_count": 3,
     "data": {
      "application/vnd.deepnote.dataframe.v2+json": {
       "row_count": 5,
       "column_count": 37,
       "columns": [
        {
         "name": "SK_ID_PREV",
         "dtype": "int64",
         "stats": {
          "unique_count": 5,
          "nan_count": 0,
          "min": "1784265",
          "max": "2819243",
          "histogram": [
           {
            "bin_start": 1784265,
            "bin_end": 1887762.8,
            "count": 1
           },
           {
            "bin_start": 1887762.8,
            "bin_end": 1991260.6,
            "count": 0
           },
           {
            "bin_start": 1991260.6,
            "bin_end": 2094758.4,
            "count": 1
           },
           {
            "bin_start": 2094758.4,
            "bin_end": 2198256.2,
            "count": 0
           },
           {
            "bin_start": 2198256.2,
            "bin_end": 2301754,
            "count": 0
           },
           {
            "bin_start": 2301754,
            "bin_end": 2405251.8,
            "count": 0
           },
           {
            "bin_start": 2405251.8,
            "bin_end": 2508749.6,
            "count": 0
           },
           {
            "bin_start": 2508749.6,
            "bin_end": 2612247.4,
            "count": 1
           },
           {
            "bin_start": 2612247.4,
            "bin_end": 2715745.2,
            "count": 0
           },
           {
            "bin_start": 2715745.2,
            "bin_end": 2819243,
            "count": 2
           }
          ]
         }
        },
        {
         "name": "SK_ID_CURR",
         "dtype": "int64",
         "stats": {
          "unique_count": 5,
          "nan_count": 0,
          "min": "108129",
          "max": "271877",
          "histogram": [
           {
            "bin_start": 108129,
            "bin_end": 124503.8,
            "count": 2
           },
           {
            "bin_start": 124503.8,
            "bin_end": 140878.6,
            "count": 0
           },
           {
            "bin_start": 140878.6,
            "bin_end": 157253.4,
            "count": 0
           },
           {
            "bin_start": 157253.4,
            "bin_end": 173628.2,
            "count": 0
           },
           {
            "bin_start": 173628.2,
            "bin_end": 190003,
            "count": 1
           },
           {
            "bin_start": 190003,
            "bin_end": 206377.8,
            "count": 1
           },
           {
            "bin_start": 206377.8,
            "bin_end": 222752.59999999998,
            "count": 0
           },
           {
            "bin_start": 222752.59999999998,
            "bin_end": 239127.4,
            "count": 0
           },
           {
            "bin_start": 239127.4,
            "bin_end": 255502.19999999998,
            "count": 0
           },
           {
            "bin_start": 255502.19999999998,
            "bin_end": 271877,
            "count": 1
           }
          ]
         }
        },
        {
         "name": "NAME_CONTRACT_TYPE",
         "dtype": "object",
         "stats": {
          "unique_count": 2,
          "nan_count": 0,
          "categories": [
           {
            "name": "Cash loans",
            "count": 4
           },
           {
            "name": "Consumer loans",
            "count": 1
           }
          ]
         }
        },
        {
         "name": "AMT_ANNUITY",
         "dtype": "float64",
         "stats": {
          "unique_count": 5,
          "nan_count": 0,
          "min": "1730.43",
          "max": "47041.335",
          "histogram": [
           {
            "bin_start": 1730.43,
            "bin_end": 6261.5205000000005,
            "count": 1
           },
           {
            "bin_start": 6261.5205000000005,
            "bin_end": 10792.611,
            "count": 0
           },
           {
            "bin_start": 10792.611,
            "bin_end": 15323.701500000001,
            "count": 1
           },
           {
            "bin_start": 15323.701500000001,
            "bin_end": 19854.792,
            "count": 0
           },
           {
            "bin_start": 19854.792,
            "bin_end": 24385.8825,
            "count": 0
           },
           {
            "bin_start": 24385.8825,
            "bin_end": 28916.973,
            "count": 1
           },
           {
            "bin_start": 28916.973,
            "bin_end": 33448.063500000004,
            "count": 1
           },
           {
            "bin_start": 33448.063500000004,
            "bin_end": 37979.154,
            "count": 0
           },
           {
            "bin_start": 37979.154,
            "bin_end": 42510.2445,
            "count": 0
           },
           {
            "bin_start": 42510.2445,
            "bin_end": 47041.335,
            "count": 1
           }
          ]
         }
        },
        {
         "name": "AMT_APPLICATION",
         "dtype": "float64",
         "stats": {
          "unique_count": 5,
          "nan_count": 0,
          "min": "17145.0",
          "max": "607500.0",
          "histogram": [
           {
            "bin_start": 17145,
            "bin_end": 76180.5,
            "count": 1
           },
           {
            "bin_start": 76180.5,
            "bin_end": 135216,
            "count": 1
           },
           {
            "bin_start": 135216,
            "bin_end": 194251.5,
            "count": 0
           },
           {
            "bin_start": 194251.5,
            "bin_end": 253287,
            "count": 0
           },
           {
            "bin_start": 253287,
            "bin_end": 312322.5,
            "count": 0
           },
           {
            "bin_start": 312322.5,
            "bin_end": 371358,
            "count": 1
           },
           {
            "bin_start": 371358,
            "bin_end": 430393.5,
            "count": 0
           },
           {
            "bin_start": 430393.5,
            "bin_end": 489429,
            "count": 1
           },
           {
            "bin_start": 489429,
            "bin_end": 548464.5,
            "count": 0
           },
           {
            "bin_start": 548464.5,
            "bin_end": 607500,
            "count": 1
           }
          ]
         }
        },
        {
         "name": "AMT_CREDIT",
         "dtype": "float64",
         "stats": {
          "unique_count": 5,
          "nan_count": 0,
          "min": "17145.0",
          "max": "679671.0",
          "histogram": [
           {
            "bin_start": 17145,
            "bin_end": 83397.6,
            "count": 1
           },
           {
            "bin_start": 83397.6,
            "bin_end": 149650.2,
            "count": 1
           },
           {
            "bin_start": 149650.2,
            "bin_end": 215902.80000000002,
            "count": 0
           },
           {
            "bin_start": 215902.80000000002,
            "bin_end": 282155.4,
            "count": 0
           },
           {
            "bin_start": 282155.4,
            "bin_end": 348408,
            "count": 0
           },
           {
            "bin_start": 348408,
            "bin_end": 414660.60000000003,
            "count": 1
           },
           {
            "bin_start": 414660.60000000003,
            "bin_end": 480913.20000000007,
            "count": 1
           },
           {
            "bin_start": 480913.20000000007,
            "bin_end": 547165.8,
            "count": 0
           },
           {
            "bin_start": 547165.8,
            "bin_end": 613418.4,
            "count": 0
           },
           {
            "bin_start": 613418.4,
            "bin_end": 679671,
            "count": 1
           }
          ]
         }
        },
        {
         "name": "AMT_DOWN_PAYMENT",
         "dtype": "float64",
         "stats": {
          "unique_count": 1,
          "nan_count": 4,
          "min": "0.0",
          "max": "0.0",
          "histogram": [
           {
            "bin_start": -0.5,
            "bin_end": -0.4,
            "count": 0
           },
           {
            "bin_start": -0.4,
            "bin_end": -0.3,
            "count": 0
           },
           {
            "bin_start": -0.3,
            "bin_end": -0.19999999999999996,
            "count": 0
           },
           {
            "bin_start": -0.19999999999999996,
            "bin_end": -0.09999999999999998,
            "count": 0
           },
           {
            "bin_start": -0.09999999999999998,
            "bin_end": 0,
            "count": 0
           },
           {
            "bin_start": 0,
            "bin_end": 0.10000000000000009,
            "count": 1
           },
           {
            "bin_start": 0.10000000000000009,
            "bin_end": 0.20000000000000007,
            "count": 0
           },
           {
            "bin_start": 0.20000000000000007,
            "bin_end": 0.30000000000000004,
            "count": 0
           },
           {
            "bin_start": 0.30000000000000004,
            "bin_end": 0.4,
            "count": 0
           },
           {
            "bin_start": 0.4,
            "bin_end": 0.5,
            "count": 0
           }
          ]
         }
        },
        {
         "name": "AMT_GOODS_PRICE",
         "dtype": "float64",
         "stats": {
          "unique_count": 5,
          "nan_count": 0,
          "min": "17145.0",
          "max": "607500.0",
          "histogram": [
           {
            "bin_start": 17145,
            "bin_end": 76180.5,
            "count": 1
           },
           {
            "bin_start": 76180.5,
            "bin_end": 135216,
            "count": 1
           },
           {
            "bin_start": 135216,
            "bin_end": 194251.5,
            "count": 0
           },
           {
            "bin_start": 194251.5,
            "bin_end": 253287,
            "count": 0
           },
           {
            "bin_start": 253287,
            "bin_end": 312322.5,
            "count": 0
           },
           {
            "bin_start": 312322.5,
            "bin_end": 371358,
            "count": 1
           },
           {
            "bin_start": 371358,
            "bin_end": 430393.5,
            "count": 0
           },
           {
            "bin_start": 430393.5,
            "bin_end": 489429,
            "count": 1
           },
           {
            "bin_start": 489429,
            "bin_end": 548464.5,
            "count": 0
           },
           {
            "bin_start": 548464.5,
            "bin_end": 607500,
            "count": 1
           }
          ]
         }
        },
        {
         "name": "WEEKDAY_APPR_PROCESS_START",
         "dtype": "object",
         "stats": {
          "unique_count": 4,
          "nan_count": 0,
          "categories": [
           {
            "name": "THURSDAY",
            "count": 2
           },
           {
            "name": "SATURDAY",
            "count": 1
           },
           {
            "name": "2 others",
            "count": 2
           }
          ]
         }
        },
        {
         "name": "HOUR_APPR_PROCESS_START",
         "dtype": "int64",
         "stats": {
          "unique_count": 4,
          "nan_count": 0,
          "min": "7",
          "max": "15",
          "histogram": [
           {
            "bin_start": 7,
            "bin_end": 7.8,
            "count": 1
           },
           {
            "bin_start": 7.8,
            "bin_end": 8.6,
            "count": 0
           },
           {
            "bin_start": 8.6,
            "bin_end": 9.4,
            "count": 1
           },
           {
            "bin_start": 9.4,
            "bin_end": 10.2,
            "count": 0
           },
           {
            "bin_start": 10.2,
            "bin_end": 11,
            "count": 0
           },
           {
            "bin_start": 11,
            "bin_end": 11.8,
            "count": 2
           },
           {
            "bin_start": 11.8,
            "bin_end": 12.600000000000001,
            "count": 0
           },
           {
            "bin_start": 12.600000000000001,
            "bin_end": 13.4,
            "count": 0
           },
           {
            "bin_start": 13.4,
            "bin_end": 14.2,
            "count": 0
           },
           {
            "bin_start": 14.2,
            "bin_end": 15,
            "count": 1
           }
          ]
         }
        },
        {
         "name": "FLAG_LAST_APPL_PER_CONTRACT",
         "dtype": "object",
         "stats": {
          "unique_count": 1,
          "nan_count": 0,
          "categories": [
           {
            "name": "Y",
            "count": 5
           }
          ]
         }
        },
        {
         "name": "NFLAG_LAST_APPL_IN_DAY",
         "dtype": "int64",
         "stats": {
          "unique_count": 1,
          "nan_count": 0,
          "min": "1",
          "max": "1",
          "histogram": [
           {
            "bin_start": 0.5,
            "bin_end": 0.6,
            "count": 0
           },
           {
            "bin_start": 0.6,
            "bin_end": 0.7,
            "count": 0
           },
           {
            "bin_start": 0.7,
            "bin_end": 0.8,
            "count": 0
           },
           {
            "bin_start": 0.8,
            "bin_end": 0.9,
            "count": 0
           },
           {
            "bin_start": 0.9,
            "bin_end": 1,
            "count": 0
           },
           {
            "bin_start": 1,
            "bin_end": 1.1,
            "count": 5
           },
           {
            "bin_start": 1.1,
            "bin_end": 1.2000000000000002,
            "count": 0
           },
           {
            "bin_start": 1.2000000000000002,
            "bin_end": 1.3,
            "count": 0
           },
           {
            "bin_start": 1.3,
            "bin_end": 1.4,
            "count": 0
           },
           {
            "bin_start": 1.4,
            "bin_end": 1.5,
            "count": 0
           }
          ]
         }
        },
        {
         "name": "RATE_DOWN_PAYMENT",
         "dtype": "float64",
         "stats": {
          "unique_count": 1,
          "nan_count": 4,
          "min": "0.0",
          "max": "0.0",
          "histogram": [
           {
            "bin_start": -0.5,
            "bin_end": -0.4,
            "count": 0
           },
           {
            "bin_start": -0.4,
            "bin_end": -0.3,
            "count": 0
           },
           {
            "bin_start": -0.3,
            "bin_end": -0.19999999999999996,
            "count": 0
           },
           {
            "bin_start": -0.19999999999999996,
            "bin_end": -0.09999999999999998,
            "count": 0
           },
           {
            "bin_start": -0.09999999999999998,
            "bin_end": 0,
            "count": 0
           },
           {
            "bin_start": 0,
            "bin_end": 0.10000000000000009,
            "count": 1
           },
           {
            "bin_start": 0.10000000000000009,
            "bin_end": 0.20000000000000007,
            "count": 0
           },
           {
            "bin_start": 0.20000000000000007,
            "bin_end": 0.30000000000000004,
            "count": 0
           },
           {
            "bin_start": 0.30000000000000004,
            "bin_end": 0.4,
            "count": 0
           },
           {
            "bin_start": 0.4,
            "bin_end": 0.5,
            "count": 0
           }
          ]
         }
        },
        {
         "name": "RATE_INTEREST_PRIMARY",
         "dtype": "float64",
         "stats": {
          "unique_count": 1,
          "nan_count": 4,
          "min": "0.1828318032415278",
          "max": "0.1828318032415278",
          "histogram": [
           {
            "bin_start": -0.3171681967584722,
            "bin_end": -0.21716819675847218,
            "count": 0
           },
           {
            "bin_start": -0.21716819675847218,
            "bin_end": -0.11716819675847218,
            "count": 0
           },
           {
            "bin_start": -0.11716819675847218,
            "bin_end": -0.017168196758472143,
            "count": 0
           },
           {
            "bin_start": -0.017168196758472143,
            "bin_end": 0.08283180324152783,
            "count": 0
           },
           {
            "bin_start": 0.08283180324152783,
            "bin_end": 0.1828318032415278,
            "count": 0
           },
           {
            "bin_start": 0.1828318032415278,
            "bin_end": 0.2828318032415279,
            "count": 1
           },
           {
            "bin_start": 0.2828318032415279,
            "bin_end": 0.3828318032415279,
            "count": 0
           },
           {
            "bin_start": 0.3828318032415279,
            "bin_end": 0.48283180324152786,
            "count": 0
           },
           {
            "bin_start": 0.48283180324152786,
            "bin_end": 0.5828318032415278,
            "count": 0
           },
           {
            "bin_start": 0.5828318032415278,
            "bin_end": 0.6828318032415278,
            "count": 0
           }
          ]
         }
        },
        {
         "name": "RATE_INTEREST_PRIVILEGED",
         "dtype": "float64",
         "stats": {
          "unique_count": 1,
          "nan_count": 4,
          "min": "0.8673361522198731",
          "max": "0.8673361522198731",
          "histogram": [
           {
            "bin_start": 0.36733615221987315,
            "bin_end": 0.4673361522198731,
            "count": 0
           },
           {
            "bin_start": 0.4673361522198731,
            "bin_end": 0.5673361522198731,
            "count": 0
           },
           {
            "bin_start": 0.5673361522198731,
            "bin_end": 0.6673361522198731,
            "count": 0
           },
           {
            "bin_start": 0.6673361522198731,
            "bin_end": 0.7673361522198732,
            "count": 0
           },
           {
            "bin_start": 0.7673361522198732,
            "bin_end": 0.867336152219873,
            "count": 0
           },
           {
            "bin_start": 0.867336152219873,
            "bin_end": 0.9673361522198731,
            "count": 1
           },
           {
            "bin_start": 0.9673361522198731,
            "bin_end": 1.0673361522198732,
            "count": 0
           },
           {
            "bin_start": 1.0673361522198732,
            "bin_end": 1.167336152219873,
            "count": 0
           },
           {
            "bin_start": 1.167336152219873,
            "bin_end": 1.267336152219873,
            "count": 0
           },
           {
            "bin_start": 1.267336152219873,
            "bin_end": 1.367336152219873,
            "count": 0
           }
          ]
         }
        },
        {
         "name": "NAME_CASH_LOAN_PURPOSE",
         "dtype": "object",
         "stats": {
          "unique_count": 3,
          "nan_count": 0,
          "categories": [
           {
            "name": "XNA",
            "count": 3
           },
           {
            "name": "XAP",
            "count": 1
           },
           {
            "name": "Repairs",
            "count": 1
           }
          ]
         }
        },
        {
         "name": "NAME_CONTRACT_STATUS",
         "dtype": "object",
         "stats": {
          "unique_count": 2,
          "nan_count": 0,
          "categories": [
           {
            "name": "Approved",
            "count": 4
           },
           {
            "name": "Refused",
            "count": 1
           }
          ]
         }
        },
        {
         "name": "DAYS_DECISION",
         "dtype": "int64",
         "stats": {
          "unique_count": 5,
          "nan_count": 0,
          "min": "-781",
          "max": "-73",
          "histogram": [
           {
            "bin_start": -781,
            "bin_end": -710.2,
            "count": 1
           },
           {
            "bin_start": -710.2,
            "bin_end": -639.4,
            "count": 0
           },
           {
            "bin_start": -639.4,
            "bin_end": -568.6,
            "count": 0
           },
           {
            "bin_start": -568.6,
            "bin_end": -497.8,
            "count": 1
           },
           {
            "bin_start": -497.8,
            "bin_end": -427,
            "count": 0
           },
           {
            "bin_start": -427,
            "bin_end": -356.20000000000005,
            "count": 0
           },
           {
            "bin_start": -356.20000000000005,
            "bin_end": -285.40000000000003,
            "count": 1
           },
           {
            "bin_start": -285.40000000000003,
            "bin_end": -214.60000000000002,
            "count": 0
           },
           {
            "bin_start": -214.60000000000002,
            "bin_end": -143.80000000000007,
            "count": 1
           },
           {
            "bin_start": -143.80000000000007,
            "bin_end": -73,
            "count": 1
           }
          ]
         }
        },
        {
         "name": "NAME_PAYMENT_TYPE",
         "dtype": "object",
         "stats": {
          "unique_count": 2,
          "nan_count": 0,
          "categories": [
           {
            "name": "Cash through the bank",
            "count": 4
           },
           {
            "name": "XNA",
            "count": 1
           }
          ]
         }
        },
        {
         "name": "CODE_REJECT_REASON",
         "dtype": "object",
         "stats": {
          "unique_count": 2,
          "nan_count": 0,
          "categories": [
           {
            "name": "XAP",
            "count": 4
           },
           {
            "name": "HC",
            "count": 1
           }
          ]
         }
        },
        {
         "name": "NAME_TYPE_SUITE",
         "dtype": "object",
         "stats": {
          "unique_count": 2,
          "nan_count": 3,
          "categories": [
           {
            "name": "Unaccompanied",
            "count": 1
           },
           {
            "name": "Spouse, partner",
            "count": 1
           },
           {
            "name": "Missing",
            "count": 3
           }
          ]
         }
        },
        {
         "name": "NAME_CLIENT_TYPE",
         "dtype": "object",
         "stats": {
          "unique_count": 1,
          "nan_count": 0,
          "categories": [
           {
            "name": "Repeater",
            "count": 5
           }
          ]
         }
        },
        {
         "name": "NAME_GOODS_CATEGORY",
         "dtype": "object",
         "stats": {
          "unique_count": 2,
          "nan_count": 0,
          "categories": [
           {
            "name": "XNA",
            "count": 4
           },
           {
            "name": "Mobile",
            "count": 1
           }
          ]
         }
        },
        {
         "name": "NAME_PORTFOLIO",
         "dtype": "object",
         "stats": {
          "unique_count": 2,
          "nan_count": 0,
          "categories": [
           {
            "name": "Cash",
            "count": 4
           },
           {
            "name": "POS",
            "count": 1
           }
          ]
         }
        },
        {
         "name": "NAME_PRODUCT_TYPE",
         "dtype": "object",
         "stats": {
          "unique_count": 3,
          "nan_count": 0,
          "categories": [
           {
            "name": "x-sell",
            "count": 3
           },
           {
            "name": "XNA",
            "count": 1
           },
           {
            "name": "walk-in",
            "count": 1
           }
          ]
         }
        },
        {
         "name": "CHANNEL_TYPE",
         "dtype": "object",
         "stats": {
          "unique_count": 3,
          "nan_count": 0,
          "categories": [
           {
            "name": "Credit and cash offices",
            "count": 3
           },
           {
            "name": "Country-wide",
            "count": 1
           },
           {
            "name": "Contact center",
            "count": 1
           }
          ]
         }
        },
        {
         "name": "SELLERPLACE_AREA",
         "dtype": "int64",
         "stats": {
          "unique_count": 2,
          "nan_count": 0,
          "min": "-1",
          "max": "35",
          "histogram": [
           {
            "bin_start": -1,
            "bin_end": 2.6,
            "count": 4
           },
           {
            "bin_start": 2.6,
            "bin_end": 6.2,
            "count": 0
           },
           {
            "bin_start": 6.2,
            "bin_end": 9.8,
            "count": 0
           },
           {
            "bin_start": 9.8,
            "bin_end": 13.4,
            "count": 0
           },
           {
            "bin_start": 13.4,
            "bin_end": 17,
            "count": 0
           },
           {
            "bin_start": 17,
            "bin_end": 20.6,
            "count": 0
           },
           {
            "bin_start": 20.6,
            "bin_end": 24.2,
            "count": 0
           },
           {
            "bin_start": 24.2,
            "bin_end": 27.8,
            "count": 0
           },
           {
            "bin_start": 27.8,
            "bin_end": 31.4,
            "count": 0
           },
           {
            "bin_start": 31.4,
            "bin_end": 35,
            "count": 1
           }
          ]
         }
        },
        {
         "name": "NAME_SELLER_INDUSTRY",
         "dtype": "object",
         "stats": {
          "unique_count": 2,
          "nan_count": 0,
          "categories": [
           {
            "name": "XNA",
            "count": 4
           },
           {
            "name": "Connectivity",
            "count": 1
           }
          ]
         }
        },
        {
         "name": "CNT_PAYMENT",
         "dtype": "float64",
         "stats": {
          "unique_count": 3,
          "nan_count": 0,
          "min": "12.0",
          "max": "36.0",
          "histogram": [
           {
            "bin_start": 12,
            "bin_end": 14.4,
            "count": 3
           },
           {
            "bin_start": 14.4,
            "bin_end": 16.8,
            "count": 0
           },
           {
            "bin_start": 16.8,
            "bin_end": 19.2,
            "count": 0
           },
           {
            "bin_start": 19.2,
            "bin_end": 21.6,
            "count": 0
           },
           {
            "bin_start": 21.6,
            "bin_end": 24,
            "count": 0
           },
           {
            "bin_start": 24,
            "bin_end": 26.4,
            "count": 1
           },
           {
            "bin_start": 26.4,
            "bin_end": 28.8,
            "count": 0
           },
           {
            "bin_start": 28.8,
            "bin_end": 31.2,
            "count": 0
           },
           {
            "bin_start": 31.2,
            "bin_end": 33.599999999999994,
            "count": 0
           },
           {
            "bin_start": 33.599999999999994,
            "bin_end": 36,
            "count": 1
           }
          ]
         }
        },
        {
         "name": "NAME_YIELD_GROUP",
         "dtype": "object",
         "stats": {
          "unique_count": 3,
          "nan_count": 0,
          "categories": [
           {
            "name": "middle",
            "count": 2
           },
           {
            "name": "high",
            "count": 2
           },
           {
            "name": "low_action",
            "count": 1
           }
          ]
         }
        },
        {
         "name": "PRODUCT_COMBINATION",
         "dtype": "object",
         "stats": {
          "unique_count": 5,
          "nan_count": 0,
          "categories": [
           {
            "name": "POS mobile with interest",
            "count": 1
           },
           {
            "name": "Cash X-Sell: low",
            "count": 1
           },
           {
            "name": "3 others",
            "count": 3
           }
          ]
         }
        },
        {
         "name": "DAYS_FIRST_DRAWING",
         "dtype": "float64",
         "stats": {
          "unique_count": 1,
          "nan_count": 1,
          "min": "365243.0",
          "max": "365243.0",
          "histogram": [
           {
            "bin_start": 365242.5,
            "bin_end": 365242.6,
            "count": 0
           },
           {
            "bin_start": 365242.6,
            "bin_end": 365242.7,
            "count": 0
           },
           {
            "bin_start": 365242.7,
            "bin_end": 365242.8,
            "count": 0
           },
           {
            "bin_start": 365242.8,
            "bin_end": 365242.9,
            "count": 0
           },
           {
            "bin_start": 365242.9,
            "bin_end": 365243,
            "count": 0
           },
           {
            "bin_start": 365243,
            "bin_end": 365243.1,
            "count": 4
           },
           {
            "bin_start": 365243.1,
            "bin_end": 365243.2,
            "count": 0
           },
           {
            "bin_start": 365243.2,
            "bin_end": 365243.3,
            "count": 0
           },
           {
            "bin_start": 365243.3,
            "bin_end": 365243.4,
            "count": 0
           },
           {
            "bin_start": 365243.4,
            "bin_end": 365243.5,
            "count": 0
           }
          ]
         }
        },
        {
         "name": "DAYS_FIRST_DUE",
         "dtype": "float64",
         "stats": {
          "unique_count": 4,
          "nan_count": 1,
          "min": "-482.0",
          "max": "-42.0",
          "histogram": [
           {
            "bin_start": -482,
            "bin_end": -438,
            "count": 1
           },
           {
            "bin_start": -438,
            "bin_end": -394,
            "count": 0
           },
           {
            "bin_start": -394,
            "bin_end": -350,
            "count": 0
           },
           {
            "bin_start": -350,
            "bin_end": -306,
            "count": 0
           },
           {
            "bin_start": -306,
            "bin_end": -262,
            "count": 1
           },
           {
            "bin_start": -262,
            "bin_end": -218,
            "count": 0
           },
           {
            "bin_start": -218,
            "bin_end": -174,
            "count": 0
           },
           {
            "bin_start": -174,
            "bin_end": -130,
            "count": 1
           },
           {
            "bin_start": -130,
            "bin_end": -86,
            "count": 0
           },
           {
            "bin_start": -86,
            "bin_end": -42,
            "count": 1
           }
          ]
         }
        },
        {
         "name": "DAYS_LAST_DUE_1ST_VERSION",
         "dtype": "float64",
         "stats": {
          "unique_count": 4,
          "nan_count": 1,
          "min": "-152.0",
          "max": "916.0",
          "histogram": [
           {
            "bin_start": -152,
            "bin_end": -45.2,
            "count": 1
           },
           {
            "bin_start": -45.2,
            "bin_end": 61.599999999999994,
            "count": 1
           },
           {
            "bin_start": 61.599999999999994,
            "bin_end": 168.39999999999998,
            "count": 0
           },
           {
            "bin_start": 168.39999999999998,
            "bin_end": 275.2,
            "count": 0
           },
           {
            "bin_start": 275.2,
            "bin_end": 382,
            "count": 1
           },
           {
            "bin_start": 382,
            "bin_end": 488.79999999999995,
            "count": 0
           },
           {
            "bin_start": 488.79999999999995,
            "bin_end": 595.6,
            "count": 0
           },
           {
            "bin_start": 595.6,
            "bin_end": 702.4,
            "count": 0
           },
           {
            "bin_start": 702.4,
            "bin_end": 809.1999999999999,
            "count": 0
           },
           {
            "bin_start": 809.1999999999999,
            "bin_end": 916,
            "count": 1
           }
          ]
         }
        },
        {
         "name": "DAYS_LAST_DUE",
         "dtype": "float64",
         "stats": {
          "unique_count": 3,
          "nan_count": 1,
          "min": "-182.0",
          "max": "365243.0",
          "histogram": [
           {
            "bin_start": -182,
            "bin_end": 36360.5,
            "count": 2
           },
           {
            "bin_start": 36360.5,
            "bin_end": 72903,
            "count": 0
           },
           {
            "bin_start": 72903,
            "bin_end": 109445.5,
            "count": 0
           },
           {
            "bin_start": 109445.5,
            "bin_end": 145988,
            "count": 0
           },
           {
            "bin_start": 145988,
            "bin_end": 182530.5,
            "count": 0
           },
           {
            "bin_start": 182530.5,
            "bin_end": 219073,
            "count": 0
           },
           {
            "bin_start": 219073,
            "bin_end": 255615.5,
            "count": 0
           },
           {
            "bin_start": 255615.5,
            "bin_end": 292158,
            "count": 0
           },
           {
            "bin_start": 292158,
            "bin_end": 328700.5,
            "count": 0
           },
           {
            "bin_start": 328700.5,
            "bin_end": 365243,
            "count": 2
           }
          ]
         }
        },
        {
         "name": "DAYS_TERMINATION",
         "dtype": "float64",
         "stats": {
          "unique_count": 3,
          "nan_count": 1,
          "min": "-177.0",
          "max": "365243.0",
          "histogram": [
           {
            "bin_start": -177,
            "bin_end": 36365,
            "count": 2
           },
           {
            "bin_start": 36365,
            "bin_end": 72907,
            "count": 0
           },
           {
            "bin_start": 72907,
            "bin_end": 109449,
            "count": 0
           },
           {
            "bin_start": 109449,
            "bin_end": 145991,
            "count": 0
           },
           {
            "bin_start": 145991,
            "bin_end": 182533,
            "count": 0
           },
           {
            "bin_start": 182533,
            "bin_end": 219075,
            "count": 0
           },
           {
            "bin_start": 219075,
            "bin_end": 255617,
            "count": 0
           },
           {
            "bin_start": 255617,
            "bin_end": 292159,
            "count": 0
           },
           {
            "bin_start": 292159,
            "bin_end": 328701,
            "count": 0
           },
           {
            "bin_start": 328701,
            "bin_end": 365243,
            "count": 2
           }
          ]
         }
        },
        {
         "name": "NFLAG_INSURED_ON_APPROVAL",
         "dtype": "float64",
         "stats": {
          "unique_count": 2,
          "nan_count": 1,
          "min": "0.0",
          "max": "1.0",
          "histogram": [
           {
            "bin_start": 0,
            "bin_end": 0.1,
            "count": 1
           },
           {
            "bin_start": 0.1,
            "bin_end": 0.2,
            "count": 0
           },
           {
            "bin_start": 0.2,
            "bin_end": 0.30000000000000004,
            "count": 0
           },
           {
            "bin_start": 0.30000000000000004,
            "bin_end": 0.4,
            "count": 0
           },
           {
            "bin_start": 0.4,
            "bin_end": 0.5,
            "count": 0
           },
           {
            "bin_start": 0.5,
            "bin_end": 0.6000000000000001,
            "count": 0
           },
           {
            "bin_start": 0.6000000000000001,
            "bin_end": 0.7000000000000001,
            "count": 0
           },
           {
            "bin_start": 0.7000000000000001,
            "bin_end": 0.8,
            "count": 0
           },
           {
            "bin_start": 0.8,
            "bin_end": 0.9,
            "count": 0
           },
           {
            "bin_start": 0.9,
            "bin_end": 1,
            "count": 3
           }
          ]
         }
        },
        {
         "name": "_deepnote_index_column",
         "dtype": "int64"
        }
       ],
       "rows_top": [
        {
         "SK_ID_PREV": 2030495,
         "SK_ID_CURR": 271877,
         "NAME_CONTRACT_TYPE": "Consumer loans",
         "AMT_ANNUITY": 1730.43,
         "AMT_APPLICATION": 17145,
         "AMT_CREDIT": 17145,
         "AMT_DOWN_PAYMENT": 0,
         "AMT_GOODS_PRICE": 17145,
         "WEEKDAY_APPR_PROCESS_START": "SATURDAY",
         "HOUR_APPR_PROCESS_START": 15,
         "FLAG_LAST_APPL_PER_CONTRACT": "Y",
         "NFLAG_LAST_APPL_IN_DAY": 1,
         "RATE_DOWN_PAYMENT": 0,
         "RATE_INTEREST_PRIMARY": 0.1828318032415278,
         "RATE_INTEREST_PRIVILEGED": 0.8673361522198731,
         "NAME_CASH_LOAN_PURPOSE": "XAP",
         "NAME_CONTRACT_STATUS": "Approved",
         "DAYS_DECISION": -73,
         "NAME_PAYMENT_TYPE": "Cash through the bank",
         "CODE_REJECT_REASON": "XAP",
         "NAME_TYPE_SUITE": "nan",
         "NAME_CLIENT_TYPE": "Repeater",
         "NAME_GOODS_CATEGORY": "Mobile",
         "NAME_PORTFOLIO": "POS",
         "NAME_PRODUCT_TYPE": "XNA",
         "CHANNEL_TYPE": "Country-wide",
         "SELLERPLACE_AREA": 35,
         "NAME_SELLER_INDUSTRY": "Connectivity",
         "CNT_PAYMENT": 12,
         "NAME_YIELD_GROUP": "middle",
         "PRODUCT_COMBINATION": "POS mobile with interest",
         "DAYS_FIRST_DRAWING": 365243,
         "DAYS_FIRST_DUE": -42,
         "DAYS_LAST_DUE_1ST_VERSION": 300,
         "DAYS_LAST_DUE": -42,
         "DAYS_TERMINATION": -37,
         "NFLAG_INSURED_ON_APPROVAL": 0,
         "_deepnote_index_column": 0
        },
        {
         "SK_ID_PREV": 2802425,
         "SK_ID_CURR": 108129,
         "NAME_CONTRACT_TYPE": "Cash loans",
         "AMT_ANNUITY": 25188.615,
         "AMT_APPLICATION": 607500,
         "AMT_CREDIT": 679671,
         "AMT_DOWN_PAYMENT": "nan",
         "AMT_GOODS_PRICE": 607500,
         "WEEKDAY_APPR_PROCESS_START": "THURSDAY",
         "HOUR_APPR_PROCESS_START": 11,
         "FLAG_LAST_APPL_PER_CONTRACT": "Y",
         "NFLAG_LAST_APPL_IN_DAY": 1,
         "RATE_DOWN_PAYMENT": "nan",
         "RATE_INTEREST_PRIMARY": "nan",
         "RATE_INTEREST_PRIVILEGED": "nan",
         "NAME_CASH_LOAN_PURPOSE": "XNA",
         "NAME_CONTRACT_STATUS": "Approved",
         "DAYS_DECISION": -164,
         "NAME_PAYMENT_TYPE": "XNA",
         "CODE_REJECT_REASON": "XAP",
         "NAME_TYPE_SUITE": "Unaccompanied",
         "NAME_CLIENT_TYPE": "Repeater",
         "NAME_GOODS_CATEGORY": "XNA",
         "NAME_PORTFOLIO": "Cash",
         "NAME_PRODUCT_TYPE": "x-sell",
         "CHANNEL_TYPE": "Contact center",
         "SELLERPLACE_AREA": -1,
         "NAME_SELLER_INDUSTRY": "XNA",
         "CNT_PAYMENT": 36,
         "NAME_YIELD_GROUP": "low_action",
         "PRODUCT_COMBINATION": "Cash X-Sell: low",
         "DAYS_FIRST_DRAWING": 365243,
         "DAYS_FIRST_DUE": -134,
         "DAYS_LAST_DUE_1ST_VERSION": 916,
         "DAYS_LAST_DUE": 365243,
         "DAYS_TERMINATION": 365243,
         "NFLAG_INSURED_ON_APPROVAL": 1,
         "_deepnote_index_column": 1
        },
        {
         "SK_ID_PREV": 2523466,
         "SK_ID_CURR": 122040,
         "NAME_CONTRACT_TYPE": "Cash loans",
         "AMT_ANNUITY": 15060.735,
         "AMT_APPLICATION": 112500,
         "AMT_CREDIT": 136444.5,
         "AMT_DOWN_PAYMENT": "nan",
         "AMT_GOODS_PRICE": 112500,
         "WEEKDAY_APPR_PROCESS_START": "TUESDAY",
         "HOUR_APPR_PROCESS_START": 11,
         "FLAG_LAST_APPL_PER_CONTRACT": "Y",
         "NFLAG_LAST_APPL_IN_DAY": 1,
         "RATE_DOWN_PAYMENT": "nan",
         "RATE_INTEREST_PRIMARY": "nan",
         "RATE_INTEREST_PRIVILEGED": "nan",
         "NAME_CASH_LOAN_PURPOSE": "XNA",
         "NAME_CONTRACT_STATUS": "Approved",
         "DAYS_DECISION": -301,
         "NAME_PAYMENT_TYPE": "Cash through the bank",
         "CODE_REJECT_REASON": "XAP",
         "NAME_TYPE_SUITE": "Spouse, partner",
         "NAME_CLIENT_TYPE": "Repeater",
         "NAME_GOODS_CATEGORY": "XNA",
         "NAME_PORTFOLIO": "Cash",
         "NAME_PRODUCT_TYPE": "x-sell",
         "CHANNEL_TYPE": "Credit and cash offices",
         "SELLERPLACE_AREA": -1,
         "NAME_SELLER_INDUSTRY": "XNA",
         "CNT_PAYMENT": 12,
         "NAME_YIELD_GROUP": "high",
         "PRODUCT_COMBINATION": "Cash X-Sell: high",
         "DAYS_FIRST_DRAWING": 365243,
         "DAYS_FIRST_DUE": -271,
         "DAYS_LAST_DUE_1ST_VERSION": 59,
         "DAYS_LAST_DUE": 365243,
         "DAYS_TERMINATION": 365243,
         "NFLAG_INSURED_ON_APPROVAL": 1,
         "_deepnote_index_column": 2
        },
        {
         "SK_ID_PREV": 2819243,
         "SK_ID_CURR": 176158,
         "NAME_CONTRACT_TYPE": "Cash loans",
         "AMT_ANNUITY": 47041.335,
         "AMT_APPLICATION": 450000,
         "AMT_CREDIT": 470790,
         "AMT_DOWN_PAYMENT": "nan",
         "AMT_GOODS_PRICE": 450000,
         "WEEKDAY_APPR_PROCESS_START": "MONDAY",
         "HOUR_APPR_PROCESS_START": 7,
         "FLAG_LAST_APPL_PER_CONTRACT": "Y",
         "NFLAG_LAST_APPL_IN_DAY": 1,
         "RATE_DOWN_PAYMENT": "nan",
         "RATE_INTEREST_PRIMARY": "nan",
         "RATE_INTEREST_PRIVILEGED": "nan",
         "NAME_CASH_LOAN_PURPOSE": "XNA",
         "NAME_CONTRACT_STATUS": "Approved",
         "DAYS_DECISION": -512,
         "NAME_PAYMENT_TYPE": "Cash through the bank",
         "CODE_REJECT_REASON": "XAP",
         "NAME_TYPE_SUITE": "nan",
         "NAME_CLIENT_TYPE": "Repeater",
         "NAME_GOODS_CATEGORY": "XNA",
         "NAME_PORTFOLIO": "Cash",
         "NAME_PRODUCT_TYPE": "x-sell",
         "CHANNEL_TYPE": "Credit and cash offices",
         "SELLERPLACE_AREA": -1,
         "NAME_SELLER_INDUSTRY": "XNA",
         "CNT_PAYMENT": 12,
         "NAME_YIELD_GROUP": "middle",
         "PRODUCT_COMBINATION": "Cash X-Sell: middle",
         "DAYS_FIRST_DRAWING": 365243,
         "DAYS_FIRST_DUE": -482,
         "DAYS_LAST_DUE_1ST_VERSION": -152,
         "DAYS_LAST_DUE": -182,
         "DAYS_TERMINATION": -177,
         "NFLAG_INSURED_ON_APPROVAL": 1,
         "_deepnote_index_column": 3
        },
        {
         "SK_ID_PREV": 1784265,
         "SK_ID_CURR": 202054,
         "NAME_CONTRACT_TYPE": "Cash loans",
         "AMT_ANNUITY": 31924.395,
         "AMT_APPLICATION": 337500,
         "AMT_CREDIT": 404055,
         "AMT_DOWN_PAYMENT": "nan",
         "AMT_GOODS_PRICE": 337500,
         "WEEKDAY_APPR_PROCESS_START": "THURSDAY",
         "HOUR_APPR_PROCESS_START": 9,
         "FLAG_LAST_APPL_PER_CONTRACT": "Y",
         "NFLAG_LAST_APPL_IN_DAY": 1,
         "RATE_DOWN_PAYMENT": "nan",
         "RATE_INTEREST_PRIMARY": "nan",
         "RATE_INTEREST_PRIVILEGED": "nan",
         "NAME_CASH_LOAN_PURPOSE": "Repairs",
         "NAME_CONTRACT_STATUS": "Refused",
         "DAYS_DECISION": -781,
         "NAME_PAYMENT_TYPE": "Cash through the bank",
         "CODE_REJECT_REASON": "HC",
         "NAME_TYPE_SUITE": "nan",
         "NAME_CLIENT_TYPE": "Repeater",
         "NAME_GOODS_CATEGORY": "XNA",
         "NAME_PORTFOLIO": "Cash",
         "NAME_PRODUCT_TYPE": "walk-in",
         "CHANNEL_TYPE": "Credit and cash offices",
         "SELLERPLACE_AREA": -1,
         "NAME_SELLER_INDUSTRY": "XNA",
         "CNT_PAYMENT": 24,
         "NAME_YIELD_GROUP": "high",
         "PRODUCT_COMBINATION": "Cash Street: high",
         "DAYS_FIRST_DRAWING": "nan",
         "DAYS_FIRST_DUE": "nan",
         "DAYS_LAST_DUE_1ST_VERSION": "nan",
         "DAYS_LAST_DUE": "nan",
         "DAYS_TERMINATION": "nan",
         "NFLAG_INSURED_ON_APPROVAL": "nan",
         "_deepnote_index_column": 4
        }
       ],
       "rows_bottom": null
      },
      "text/plain": "   SK_ID_PREV  SK_ID_CURR NAME_CONTRACT_TYPE  AMT_ANNUITY  AMT_APPLICATION  \\\n0     2030495      271877     Consumer loans     1730.430          17145.0   \n1     2802425      108129         Cash loans    25188.615         607500.0   \n2     2523466      122040         Cash loans    15060.735         112500.0   \n3     2819243      176158         Cash loans    47041.335         450000.0   \n4     1784265      202054         Cash loans    31924.395         337500.0   \n\n   AMT_CREDIT  AMT_DOWN_PAYMENT  AMT_GOODS_PRICE WEEKDAY_APPR_PROCESS_START  \\\n0     17145.0               0.0          17145.0                   SATURDAY   \n1    679671.0               NaN         607500.0                   THURSDAY   \n2    136444.5               NaN         112500.0                    TUESDAY   \n3    470790.0               NaN         450000.0                     MONDAY   \n4    404055.0               NaN         337500.0                   THURSDAY   \n\n   HOUR_APPR_PROCESS_START  ... NAME_SELLER_INDUSTRY  CNT_PAYMENT  \\\n0                       15  ...         Connectivity         12.0   \n1                       11  ...                  XNA         36.0   \n2                       11  ...                  XNA         12.0   \n3                        7  ...                  XNA         12.0   \n4                        9  ...                  XNA         24.0   \n\n   NAME_YIELD_GROUP       PRODUCT_COMBINATION  DAYS_FIRST_DRAWING  \\\n0            middle  POS mobile with interest            365243.0   \n1        low_action          Cash X-Sell: low            365243.0   \n2              high         Cash X-Sell: high            365243.0   \n3            middle       Cash X-Sell: middle            365243.0   \n4              high         Cash Street: high                 NaN   \n\n  DAYS_FIRST_DUE DAYS_LAST_DUE_1ST_VERSION  DAYS_LAST_DUE DAYS_TERMINATION  \\\n0          -42.0                     300.0          -42.0            -37.0   \n1         -134.0                     916.0       365243.0         365243.0   \n2         -271.0                      59.0       365243.0         365243.0   \n3         -482.0                    -152.0         -182.0           -177.0   \n4            NaN                       NaN            NaN              NaN   \n\n  NFLAG_INSURED_ON_APPROVAL  \n0                       0.0  \n1                       1.0  \n2                       1.0  \n3                       1.0  \n4                       NaN  \n\n[5 rows x 37 columns]",
      "text/html": "<div>\n<style scoped>\n    .dataframe tbody tr th:only-of-type {\n        vertical-align: middle;\n    }\n\n    .dataframe tbody tr th {\n        vertical-align: top;\n    }\n\n    .dataframe thead th {\n        text-align: right;\n    }\n</style>\n<table border=\"1\" class=\"dataframe\">\n  <thead>\n    <tr style=\"text-align: right;\">\n      <th></th>\n      <th>SK_ID_PREV</th>\n      <th>SK_ID_CURR</th>\n      <th>NAME_CONTRACT_TYPE</th>\n      <th>AMT_ANNUITY</th>\n      <th>AMT_APPLICATION</th>\n      <th>AMT_CREDIT</th>\n      <th>AMT_DOWN_PAYMENT</th>\n      <th>AMT_GOODS_PRICE</th>\n      <th>WEEKDAY_APPR_PROCESS_START</th>\n      <th>HOUR_APPR_PROCESS_START</th>\n      <th>...</th>\n      <th>NAME_SELLER_INDUSTRY</th>\n      <th>CNT_PAYMENT</th>\n      <th>NAME_YIELD_GROUP</th>\n      <th>PRODUCT_COMBINATION</th>\n      <th>DAYS_FIRST_DRAWING</th>\n      <th>DAYS_FIRST_DUE</th>\n      <th>DAYS_LAST_DUE_1ST_VERSION</th>\n      <th>DAYS_LAST_DUE</th>\n      <th>DAYS_TERMINATION</th>\n      <th>NFLAG_INSURED_ON_APPROVAL</th>\n    </tr>\n  </thead>\n  <tbody>\n    <tr>\n      <th>0</th>\n      <td>2030495</td>\n      <td>271877</td>\n      <td>Consumer loans</td>\n      <td>1730.430</td>\n      <td>17145.0</td>\n      <td>17145.0</td>\n      <td>0.0</td>\n      <td>17145.0</td>\n      <td>SATURDAY</td>\n      <td>15</td>\n      <td>...</td>\n      <td>Connectivity</td>\n      <td>12.0</td>\n      <td>middle</td>\n      <td>POS mobile with interest</td>\n      <td>365243.0</td>\n      <td>-42.0</td>\n      <td>300.0</td>\n      <td>-42.0</td>\n      <td>-37.0</td>\n      <td>0.0</td>\n    </tr>\n    <tr>\n      <th>1</th>\n      <td>2802425</td>\n      <td>108129</td>\n      <td>Cash loans</td>\n      <td>25188.615</td>\n      <td>607500.0</td>\n      <td>679671.0</td>\n      <td>NaN</td>\n      <td>607500.0</td>\n      <td>THURSDAY</td>\n      <td>11</td>\n      <td>...</td>\n      <td>XNA</td>\n      <td>36.0</td>\n      <td>low_action</td>\n      <td>Cash X-Sell: low</td>\n      <td>365243.0</td>\n      <td>-134.0</td>\n      <td>916.0</td>\n      <td>365243.0</td>\n      <td>365243.0</td>\n      <td>1.0</td>\n    </tr>\n    <tr>\n      <th>2</th>\n      <td>2523466</td>\n      <td>122040</td>\n      <td>Cash loans</td>\n      <td>15060.735</td>\n      <td>112500.0</td>\n      <td>136444.5</td>\n      <td>NaN</td>\n      <td>112500.0</td>\n      <td>TUESDAY</td>\n      <td>11</td>\n      <td>...</td>\n      <td>XNA</td>\n      <td>12.0</td>\n      <td>high</td>\n      <td>Cash X-Sell: high</td>\n      <td>365243.0</td>\n      <td>-271.0</td>\n      <td>59.0</td>\n      <td>365243.0</td>\n      <td>365243.0</td>\n      <td>1.0</td>\n    </tr>\n    <tr>\n      <th>3</th>\n      <td>2819243</td>\n      <td>176158</td>\n      <td>Cash loans</td>\n      <td>47041.335</td>\n      <td>450000.0</td>\n      <td>470790.0</td>\n      <td>NaN</td>\n      <td>450000.0</td>\n      <td>MONDAY</td>\n      <td>7</td>\n      <td>...</td>\n      <td>XNA</td>\n      <td>12.0</td>\n      <td>middle</td>\n      <td>Cash X-Sell: middle</td>\n      <td>365243.0</td>\n      <td>-482.0</td>\n      <td>-152.0</td>\n      <td>-182.0</td>\n      <td>-177.0</td>\n      <td>1.0</td>\n    </tr>\n    <tr>\n      <th>4</th>\n      <td>1784265</td>\n      <td>202054</td>\n      <td>Cash loans</td>\n      <td>31924.395</td>\n      <td>337500.0</td>\n      <td>404055.0</td>\n      <td>NaN</td>\n      <td>337500.0</td>\n      <td>THURSDAY</td>\n      <td>9</td>\n      <td>...</td>\n      <td>XNA</td>\n      <td>24.0</td>\n      <td>high</td>\n      <td>Cash Street: high</td>\n      <td>NaN</td>\n      <td>NaN</td>\n      <td>NaN</td>\n      <td>NaN</td>\n      <td>NaN</td>\n      <td>NaN</td>\n    </tr>\n  </tbody>\n</table>\n<p>5 rows × 37 columns</p>\n</div>"
     },
     "metadata": {}
    }
   ]
  },
  {
   "cell_type": "code",
   "metadata": {
    "tags": [],
    "cell_id": "00004-7c63fab5-d6f9-4421-95cb-257908380d9e",
    "deepnote_to_be_reexecuted": false,
    "source_hash": "bed59b22",
    "execution_start": 1628709345762,
    "execution_millis": 16,
    "deepnote_cell_type": "code"
   },
   "source": "prev_app.NAME_CONTRACT_STATUS.value_counts()",
   "execution_count": 4,
   "outputs": [
    {
     "output_type": "execute_result",
     "execution_count": 4,
     "data": {
      "text/plain": "Approved        1036781\nCanceled         316319\nRefused          290678\nUnused offer      26436\nName: NAME_CONTRACT_STATUS, dtype: int64"
     },
     "metadata": {}
    }
   ]
  },
  {
   "cell_type": "code",
   "metadata": {
    "tags": [],
    "cell_id": "00005-82b5c99b-7506-49a9-a57d-d2aacd42f1ab",
    "deepnote_to_be_reexecuted": false,
    "source_hash": "cd3c4008",
    "execution_start": 1628709345785,
    "execution_millis": 66,
    "deepnote_cell_type": "code"
   },
   "source": "# Were current customers approved for a previous loan?\nprint(app_train.SK_ID_CURR.isin(prev_app.SK_ID_CURR).value_counts())\nprint(app_test.SK_ID_CURR.isin(prev_app.SK_ID_CURR).value_counts())",
   "execution_count": 5,
   "outputs": [
    {
     "name": "stdout",
     "text": "True     291057\nFalse     16454\nName: SK_ID_CURR, dtype: int64\nTrue     47800\nFalse      944\nName: SK_ID_CURR, dtype: int64\n",
     "output_type": "stream"
    }
   ]
  },
  {
   "cell_type": "markdown",
   "source": "Not everyone has previously applied for a credit line from Home Credit thus there are quite a few new borrowers, 16454 in fact. Makes sense given the areas Home Credit usually services, meaning since they primarily service Asian countries which tend to be largely cash based blah blah something about them not really using banks and there being the potential for a lot of new customers for lenders (emerging new markets).",
   "metadata": {
    "tags": [],
    "cell_id": "00005-55e1fcd3-1338-4817-ba34-6ead884c11d0",
    "deepnote_cell_type": "markdown"
   }
  },
  {
   "cell_type": "code",
   "metadata": {
    "tags": [],
    "cell_id": "00008-2218405f-be63-414c-8fa4-ea29458adf24",
    "deepnote_to_be_reexecuted": false,
    "source_hash": "a7cb0658",
    "execution_start": 1628709345852,
    "execution_millis": 239,
    "deepnote_cell_type": "code"
   },
   "source": "# How many have the current customers applied for loans before? What is their approval rate?\napproval_rate = prev_app.groupby(\"SK_ID_CURR\").NAME_CONTRACT_STATUS.agg(total_apps = \"count\").reset_index()\napproval_rate.total_apps",
   "execution_count": 6,
   "outputs": [
    {
     "output_type": "execute_result",
     "execution_count": 6,
     "data": {
      "text/plain": "0         1\n1         1\n2         3\n3         1\n4         2\n         ..\n338852    1\n338853    1\n338854    2\n338855    2\n338856    8\nName: total_apps, Length: 338857, dtype: int64"
     },
     "metadata": {}
    }
   ]
  },
  {
   "cell_type": "code",
   "metadata": {
    "tags": [],
    "cell_id": "00009-c2adecc0-d7c4-41ae-a7dd-8ea42cf7b0b3",
    "deepnote_to_be_reexecuted": false,
    "source_hash": "7d7e5bda",
    "execution_start": 1628709346095,
    "execution_millis": 6160,
    "deepnote_cell_type": "code"
   },
   "source": "approval_rate = pd.pivot_table(prev_app, index = [\"SK_ID_CURR\"], columns = [\"NAME_CONTRACT_STATUS\"], values = \"AMT_ANNUITY\", aggfunc = len, fill_value=0)",
   "execution_count": 7,
   "outputs": []
  },
  {
   "cell_type": "code",
   "metadata": {
    "tags": [],
    "cell_id": "00008-fabcb2fb-789b-4960-bcc4-0e351924300e",
    "deepnote_to_be_reexecuted": false,
    "source_hash": "38e6232e",
    "execution_start": 1628709352258,
    "execution_millis": 63087,
    "deepnote_cell_type": "code"
   },
   "source": "rates = approval_rate.apply(lambda x: x/sum(x), axis = 1)\nrates.columns = rates.columns + \"_rate\"",
   "execution_count": 8,
   "outputs": []
  },
  {
   "cell_type": "code",
   "metadata": {
    "tags": [],
    "cell_id": "00012-61912df0-810a-472b-8d35-4a2d89f52f71",
    "deepnote_to_be_reexecuted": false,
    "source_hash": "c7ecaf5b",
    "execution_start": 1628709415346,
    "execution_millis": 0,
    "deepnote_cell_type": "code"
   },
   "source": "approval_rate[\"total_apps\"] = approval_rate.sum(axis = 1)\napproval_rate\napproval_rate = approval_rate.join(rates)",
   "execution_count": 9,
   "outputs": []
  },
  {
   "cell_type": "code",
   "metadata": {
    "tags": [],
    "cell_id": "00013-b4807abd-ca33-4f88-bda3-f8aea4e126fb",
    "deepnote_to_be_reexecuted": false,
    "source_hash": "ad9fdccc",
    "execution_start": 1628712205588,
    "execution_millis": 37,
    "deepnote_cell_type": "code"
   },
   "source": "approval_rate = approval_rate.reset_index()\napproval_rate.head()",
   "execution_count": 29,
   "outputs": [
    {
     "output_type": "execute_result",
     "execution_count": 29,
     "data": {
      "application/vnd.deepnote.dataframe.v2+json": {
       "row_count": 5,
       "column_count": 10,
       "columns": [
        {
         "name": "SK_ID_CURR",
         "dtype": "int64",
         "stats": {
          "unique_count": 5,
          "nan_count": 0,
          "min": "100001",
          "max": "100005",
          "histogram": [
           {
            "bin_start": 100001,
            "bin_end": 100001.4,
            "count": 1
           },
           {
            "bin_start": 100001.4,
            "bin_end": 100001.8,
            "count": 0
           },
           {
            "bin_start": 100001.8,
            "bin_end": 100002.2,
            "count": 1
           },
           {
            "bin_start": 100002.2,
            "bin_end": 100002.6,
            "count": 0
           },
           {
            "bin_start": 100002.6,
            "bin_end": 100003,
            "count": 0
           },
           {
            "bin_start": 100003,
            "bin_end": 100003.4,
            "count": 1
           },
           {
            "bin_start": 100003.4,
            "bin_end": 100003.8,
            "count": 0
           },
           {
            "bin_start": 100003.8,
            "bin_end": 100004.2,
            "count": 1
           },
           {
            "bin_start": 100004.2,
            "bin_end": 100004.6,
            "count": 0
           },
           {
            "bin_start": 100004.6,
            "bin_end": 100005,
            "count": 1
           }
          ]
         }
        },
        {
         "name": "Approved",
         "dtype": "int64",
         "stats": {
          "unique_count": 2,
          "nan_count": 0,
          "min": "1",
          "max": "3",
          "histogram": [
           {
            "bin_start": 1,
            "bin_end": 1.2,
            "count": 4
           },
           {
            "bin_start": 1.2,
            "bin_end": 1.4,
            "count": 0
           },
           {
            "bin_start": 1.4,
            "bin_end": 1.6,
            "count": 0
           },
           {
            "bin_start": 1.6,
            "bin_end": 1.8,
            "count": 0
           },
           {
            "bin_start": 1.8,
            "bin_end": 2,
            "count": 0
           },
           {
            "bin_start": 2,
            "bin_end": 2.2,
            "count": 0
           },
           {
            "bin_start": 2.2,
            "bin_end": 2.4000000000000004,
            "count": 0
           },
           {
            "bin_start": 2.4000000000000004,
            "bin_end": 2.6,
            "count": 0
           },
           {
            "bin_start": 2.6,
            "bin_end": 2.8,
            "count": 0
           },
           {
            "bin_start": 2.8,
            "bin_end": 3,
            "count": 1
           }
          ]
         }
        },
        {
         "name": "Canceled",
         "dtype": "int64",
         "stats": {
          "unique_count": 2,
          "nan_count": 0,
          "min": "0",
          "max": "1",
          "histogram": [
           {
            "bin_start": 0,
            "bin_end": 0.1,
            "count": 4
           },
           {
            "bin_start": 0.1,
            "bin_end": 0.2,
            "count": 0
           },
           {
            "bin_start": 0.2,
            "bin_end": 0.30000000000000004,
            "count": 0
           },
           {
            "bin_start": 0.30000000000000004,
            "bin_end": 0.4,
            "count": 0
           },
           {
            "bin_start": 0.4,
            "bin_end": 0.5,
            "count": 0
           },
           {
            "bin_start": 0.5,
            "bin_end": 0.6000000000000001,
            "count": 0
           },
           {
            "bin_start": 0.6000000000000001,
            "bin_end": 0.7000000000000001,
            "count": 0
           },
           {
            "bin_start": 0.7000000000000001,
            "bin_end": 0.8,
            "count": 0
           },
           {
            "bin_start": 0.8,
            "bin_end": 0.9,
            "count": 0
           },
           {
            "bin_start": 0.9,
            "bin_end": 1,
            "count": 1
           }
          ]
         }
        },
        {
         "name": "Refused",
         "dtype": "int64",
         "stats": {
          "unique_count": 1,
          "nan_count": 0,
          "min": "0",
          "max": "0",
          "histogram": [
           {
            "bin_start": -0.5,
            "bin_end": -0.4,
            "count": 0
           },
           {
            "bin_start": -0.4,
            "bin_end": -0.3,
            "count": 0
           },
           {
            "bin_start": -0.3,
            "bin_end": -0.19999999999999996,
            "count": 0
           },
           {
            "bin_start": -0.19999999999999996,
            "bin_end": -0.09999999999999998,
            "count": 0
           },
           {
            "bin_start": -0.09999999999999998,
            "bin_end": 0,
            "count": 0
           },
           {
            "bin_start": 0,
            "bin_end": 0.10000000000000009,
            "count": 5
           },
           {
            "bin_start": 0.10000000000000009,
            "bin_end": 0.20000000000000007,
            "count": 0
           },
           {
            "bin_start": 0.20000000000000007,
            "bin_end": 0.30000000000000004,
            "count": 0
           },
           {
            "bin_start": 0.30000000000000004,
            "bin_end": 0.4,
            "count": 0
           },
           {
            "bin_start": 0.4,
            "bin_end": 0.5,
            "count": 0
           }
          ]
         }
        },
        {
         "name": "Unused offer",
         "dtype": "int64",
         "stats": {
          "unique_count": 1,
          "nan_count": 0,
          "min": "0",
          "max": "0",
          "histogram": [
           {
            "bin_start": -0.5,
            "bin_end": -0.4,
            "count": 0
           },
           {
            "bin_start": -0.4,
            "bin_end": -0.3,
            "count": 0
           },
           {
            "bin_start": -0.3,
            "bin_end": -0.19999999999999996,
            "count": 0
           },
           {
            "bin_start": -0.19999999999999996,
            "bin_end": -0.09999999999999998,
            "count": 0
           },
           {
            "bin_start": -0.09999999999999998,
            "bin_end": 0,
            "count": 0
           },
           {
            "bin_start": 0,
            "bin_end": 0.10000000000000009,
            "count": 5
           },
           {
            "bin_start": 0.10000000000000009,
            "bin_end": 0.20000000000000007,
            "count": 0
           },
           {
            "bin_start": 0.20000000000000007,
            "bin_end": 0.30000000000000004,
            "count": 0
           },
           {
            "bin_start": 0.30000000000000004,
            "bin_end": 0.4,
            "count": 0
           },
           {
            "bin_start": 0.4,
            "bin_end": 0.5,
            "count": 0
           }
          ]
         }
        },
        {
         "name": "total_apps",
         "dtype": "int64",
         "stats": {
          "unique_count": 3,
          "nan_count": 0,
          "min": "1",
          "max": "3",
          "histogram": [
           {
            "bin_start": 1,
            "bin_end": 1.2,
            "count": 3
           },
           {
            "bin_start": 1.2,
            "bin_end": 1.4,
            "count": 0
           },
           {
            "bin_start": 1.4,
            "bin_end": 1.6,
            "count": 0
           },
           {
            "bin_start": 1.6,
            "bin_end": 1.8,
            "count": 0
           },
           {
            "bin_start": 1.8,
            "bin_end": 2,
            "count": 0
           },
           {
            "bin_start": 2,
            "bin_end": 2.2,
            "count": 1
           },
           {
            "bin_start": 2.2,
            "bin_end": 2.4000000000000004,
            "count": 0
           },
           {
            "bin_start": 2.4000000000000004,
            "bin_end": 2.6,
            "count": 0
           },
           {
            "bin_start": 2.6,
            "bin_end": 2.8,
            "count": 0
           },
           {
            "bin_start": 2.8,
            "bin_end": 3,
            "count": 1
           }
          ]
         }
        },
        {
         "name": "Approved_rate",
         "dtype": "float64",
         "stats": {
          "unique_count": 2,
          "nan_count": 0,
          "min": "0.5",
          "max": "1.0",
          "histogram": [
           {
            "bin_start": 0.5,
            "bin_end": 0.55,
            "count": 1
           },
           {
            "bin_start": 0.55,
            "bin_end": 0.6,
            "count": 0
           },
           {
            "bin_start": 0.6,
            "bin_end": 0.65,
            "count": 0
           },
           {
            "bin_start": 0.65,
            "bin_end": 0.7,
            "count": 0
           },
           {
            "bin_start": 0.7,
            "bin_end": 0.75,
            "count": 0
           },
           {
            "bin_start": 0.75,
            "bin_end": 0.8,
            "count": 0
           },
           {
            "bin_start": 0.8,
            "bin_end": 0.8500000000000001,
            "count": 0
           },
           {
            "bin_start": 0.8500000000000001,
            "bin_end": 0.9,
            "count": 0
           },
           {
            "bin_start": 0.9,
            "bin_end": 0.95,
            "count": 0
           },
           {
            "bin_start": 0.95,
            "bin_end": 1,
            "count": 4
           }
          ]
         }
        },
        {
         "name": "Canceled_rate",
         "dtype": "float64",
         "stats": {
          "unique_count": 2,
          "nan_count": 0,
          "min": "0.0",
          "max": "0.5",
          "histogram": [
           {
            "bin_start": 0,
            "bin_end": 0.05,
            "count": 4
           },
           {
            "bin_start": 0.05,
            "bin_end": 0.1,
            "count": 0
           },
           {
            "bin_start": 0.1,
            "bin_end": 0.15000000000000002,
            "count": 0
           },
           {
            "bin_start": 0.15000000000000002,
            "bin_end": 0.2,
            "count": 0
           },
           {
            "bin_start": 0.2,
            "bin_end": 0.25,
            "count": 0
           },
           {
            "bin_start": 0.25,
            "bin_end": 0.30000000000000004,
            "count": 0
           },
           {
            "bin_start": 0.30000000000000004,
            "bin_end": 0.35000000000000003,
            "count": 0
           },
           {
            "bin_start": 0.35000000000000003,
            "bin_end": 0.4,
            "count": 0
           },
           {
            "bin_start": 0.4,
            "bin_end": 0.45,
            "count": 0
           },
           {
            "bin_start": 0.45,
            "bin_end": 0.5,
            "count": 1
           }
          ]
         }
        },
        {
         "name": "Refused_rate",
         "dtype": "float64",
         "stats": {
          "unique_count": 1,
          "nan_count": 0,
          "min": "0.0",
          "max": "0.0",
          "histogram": [
           {
            "bin_start": -0.5,
            "bin_end": -0.4,
            "count": 0
           },
           {
            "bin_start": -0.4,
            "bin_end": -0.3,
            "count": 0
           },
           {
            "bin_start": -0.3,
            "bin_end": -0.19999999999999996,
            "count": 0
           },
           {
            "bin_start": -0.19999999999999996,
            "bin_end": -0.09999999999999998,
            "count": 0
           },
           {
            "bin_start": -0.09999999999999998,
            "bin_end": 0,
            "count": 0
           },
           {
            "bin_start": 0,
            "bin_end": 0.10000000000000009,
            "count": 5
           },
           {
            "bin_start": 0.10000000000000009,
            "bin_end": 0.20000000000000007,
            "count": 0
           },
           {
            "bin_start": 0.20000000000000007,
            "bin_end": 0.30000000000000004,
            "count": 0
           },
           {
            "bin_start": 0.30000000000000004,
            "bin_end": 0.4,
            "count": 0
           },
           {
            "bin_start": 0.4,
            "bin_end": 0.5,
            "count": 0
           }
          ]
         }
        },
        {
         "name": "Unused offer_rate",
         "dtype": "float64",
         "stats": {
          "unique_count": 1,
          "nan_count": 0,
          "min": "0.0",
          "max": "0.0",
          "histogram": [
           {
            "bin_start": -0.5,
            "bin_end": -0.4,
            "count": 0
           },
           {
            "bin_start": -0.4,
            "bin_end": -0.3,
            "count": 0
           },
           {
            "bin_start": -0.3,
            "bin_end": -0.19999999999999996,
            "count": 0
           },
           {
            "bin_start": -0.19999999999999996,
            "bin_end": -0.09999999999999998,
            "count": 0
           },
           {
            "bin_start": -0.09999999999999998,
            "bin_end": 0,
            "count": 0
           },
           {
            "bin_start": 0,
            "bin_end": 0.10000000000000009,
            "count": 5
           },
           {
            "bin_start": 0.10000000000000009,
            "bin_end": 0.20000000000000007,
            "count": 0
           },
           {
            "bin_start": 0.20000000000000007,
            "bin_end": 0.30000000000000004,
            "count": 0
           },
           {
            "bin_start": 0.30000000000000004,
            "bin_end": 0.4,
            "count": 0
           },
           {
            "bin_start": 0.4,
            "bin_end": 0.5,
            "count": 0
           }
          ]
         }
        },
        {
         "name": "_deepnote_index_column",
         "dtype": "int64"
        }
       ],
       "rows_top": [
        {
         "SK_ID_CURR": 100001,
         "Approved": 1,
         "Canceled": 0,
         "Refused": 0,
         "Unused offer": 0,
         "total_apps": 1,
         "Approved_rate": 1,
         "Canceled_rate": 0,
         "Refused_rate": 0,
         "Unused offer_rate": 0,
         "_deepnote_index_column": 0
        },
        {
         "SK_ID_CURR": 100002,
         "Approved": 1,
         "Canceled": 0,
         "Refused": 0,
         "Unused offer": 0,
         "total_apps": 1,
         "Approved_rate": 1,
         "Canceled_rate": 0,
         "Refused_rate": 0,
         "Unused offer_rate": 0,
         "_deepnote_index_column": 1
        },
        {
         "SK_ID_CURR": 100003,
         "Approved": 3,
         "Canceled": 0,
         "Refused": 0,
         "Unused offer": 0,
         "total_apps": 3,
         "Approved_rate": 1,
         "Canceled_rate": 0,
         "Refused_rate": 0,
         "Unused offer_rate": 0,
         "_deepnote_index_column": 2
        },
        {
         "SK_ID_CURR": 100004,
         "Approved": 1,
         "Canceled": 0,
         "Refused": 0,
         "Unused offer": 0,
         "total_apps": 1,
         "Approved_rate": 1,
         "Canceled_rate": 0,
         "Refused_rate": 0,
         "Unused offer_rate": 0,
         "_deepnote_index_column": 3
        },
        {
         "SK_ID_CURR": 100005,
         "Approved": 1,
         "Canceled": 1,
         "Refused": 0,
         "Unused offer": 0,
         "total_apps": 2,
         "Approved_rate": 0.5,
         "Canceled_rate": 0.5,
         "Refused_rate": 0,
         "Unused offer_rate": 0,
         "_deepnote_index_column": 4
        }
       ],
       "rows_bottom": null
      },
      "text/plain": "NAME_CONTRACT_STATUS  SK_ID_CURR  Approved  Canceled  Refused  Unused offer  \\\n0                         100001         1         0        0             0   \n1                         100002         1         0        0             0   \n2                         100003         3         0        0             0   \n3                         100004         1         0        0             0   \n4                         100005         1         1        0             0   \n\nNAME_CONTRACT_STATUS  total_apps  Approved_rate  Canceled_rate  Refused_rate  \\\n0                              1            1.0            0.0           0.0   \n1                              1            1.0            0.0           0.0   \n2                              3            1.0            0.0           0.0   \n3                              1            1.0            0.0           0.0   \n4                              2            0.5            0.5           0.0   \n\nNAME_CONTRACT_STATUS  Unused offer_rate  \n0                                   0.0  \n1                                   0.0  \n2                                   0.0  \n3                                   0.0  \n4                                   0.0  ",
      "text/html": "<div>\n<style scoped>\n    .dataframe tbody tr th:only-of-type {\n        vertical-align: middle;\n    }\n\n    .dataframe tbody tr th {\n        vertical-align: top;\n    }\n\n    .dataframe thead th {\n        text-align: right;\n    }\n</style>\n<table border=\"1\" class=\"dataframe\">\n  <thead>\n    <tr style=\"text-align: right;\">\n      <th>NAME_CONTRACT_STATUS</th>\n      <th>SK_ID_CURR</th>\n      <th>Approved</th>\n      <th>Canceled</th>\n      <th>Refused</th>\n      <th>Unused offer</th>\n      <th>total_apps</th>\n      <th>Approved_rate</th>\n      <th>Canceled_rate</th>\n      <th>Refused_rate</th>\n      <th>Unused offer_rate</th>\n    </tr>\n  </thead>\n  <tbody>\n    <tr>\n      <th>0</th>\n      <td>100001</td>\n      <td>1</td>\n      <td>0</td>\n      <td>0</td>\n      <td>0</td>\n      <td>1</td>\n      <td>1.0</td>\n      <td>0.0</td>\n      <td>0.0</td>\n      <td>0.0</td>\n    </tr>\n    <tr>\n      <th>1</th>\n      <td>100002</td>\n      <td>1</td>\n      <td>0</td>\n      <td>0</td>\n      <td>0</td>\n      <td>1</td>\n      <td>1.0</td>\n      <td>0.0</td>\n      <td>0.0</td>\n      <td>0.0</td>\n    </tr>\n    <tr>\n      <th>2</th>\n      <td>100003</td>\n      <td>3</td>\n      <td>0</td>\n      <td>0</td>\n      <td>0</td>\n      <td>3</td>\n      <td>1.0</td>\n      <td>0.0</td>\n      <td>0.0</td>\n      <td>0.0</td>\n    </tr>\n    <tr>\n      <th>3</th>\n      <td>100004</td>\n      <td>1</td>\n      <td>0</td>\n      <td>0</td>\n      <td>0</td>\n      <td>1</td>\n      <td>1.0</td>\n      <td>0.0</td>\n      <td>0.0</td>\n      <td>0.0</td>\n    </tr>\n    <tr>\n      <th>4</th>\n      <td>100005</td>\n      <td>1</td>\n      <td>1</td>\n      <td>0</td>\n      <td>0</td>\n      <td>2</td>\n      <td>0.5</td>\n      <td>0.5</td>\n      <td>0.0</td>\n      <td>0.0</td>\n    </tr>\n  </tbody>\n</table>\n</div>"
     },
     "metadata": {}
    }
   ]
  },
  {
   "cell_type": "code",
   "metadata": {
    "tags": [],
    "cell_id": "00012-3e2627d3-a8b1-486e-9453-3f343cd5259e",
    "deepnote_to_be_reexecuted": false,
    "source_hash": "b4fb857c",
    "execution_start": 1628711609745,
    "execution_millis": 0,
    "deepnote_cell_type": "code"
   },
   "source": "# Does the current customer have a previous loan with Home Credit (ie do they have data in the previous application dataset)\nhas_prev_app =  pd.DataFrame(app_train.SK_ID_CURR.isin(prev_app.SK_ID_CURR))\nhas_prev_app.columns = [ \"previously_applied\"]\napp_train['previously_applied'] = has_prev_app\n\n# Converts boolean columns into columns with 0s and 1s\n# pd.DataFrame(app_train.SK_ID_CURR.isin(prev_app.SK_ID_CURR)).astype(int)  ",
   "execution_count": 25,
   "outputs": []
  },
  {
   "cell_type": "code",
   "source": "app_train.join(approval_rate[[\"SK_ID_CURR\", \"total_apps\", \"Approved_rate\"]], on = \"SK_ID_CURR\")",
   "metadata": {
    "tags": [],
    "cell_id": "00015-f41e4d9e-53cb-49c9-a234-d79fc3bccd1f",
    "deepnote_to_be_reexecuted": false,
    "source_hash": "547b5061",
    "execution_start": 1628712319038,
    "execution_millis": 68,
    "deepnote_cell_type": "code"
   },
   "outputs": [
    {
     "output_type": "error",
     "ename": "ValueError",
     "evalue": "columns overlap but no suffix specified: Index(['SK_ID_CURR'], dtype='object')",
     "traceback": [
      "\u001b[0;31m---------------------------------------------------------------------------\u001b[0m",
      "\u001b[0;31mValueError\u001b[0m                                Traceback (most recent call last)",
      "\u001b[0;32m/tmp/ipykernel_165/2892957611.py\u001b[0m in \u001b[0;36m<module>\u001b[0;34m\u001b[0m\n\u001b[0;32m----> 1\u001b[0;31m \u001b[0mapp_train\u001b[0m\u001b[0;34m.\u001b[0m\u001b[0mjoin\u001b[0m\u001b[0;34m(\u001b[0m\u001b[0mapproval_rate\u001b[0m\u001b[0;34m[\u001b[0m\u001b[0;34m[\u001b[0m\u001b[0;34m\"SK_ID_CURR\"\u001b[0m\u001b[0;34m,\u001b[0m \u001b[0;34m\"total_apps\"\u001b[0m\u001b[0;34m,\u001b[0m \u001b[0;34m\"Approved_rate\"\u001b[0m\u001b[0;34m]\u001b[0m\u001b[0;34m]\u001b[0m\u001b[0;34m,\u001b[0m \u001b[0mon\u001b[0m \u001b[0;34m=\u001b[0m \u001b[0;34m\"SK_ID_CURR\"\u001b[0m\u001b[0;34m)\u001b[0m\u001b[0;34m\u001b[0m\u001b[0;34m\u001b[0m\u001b[0m\n\u001b[0m",
      "\u001b[0;32m/shared-libs/python3.7/py/lib/python3.7/site-packages/pandas/core/frame.py\u001b[0m in \u001b[0;36mjoin\u001b[0;34m(self, other, on, how, lsuffix, rsuffix, sort)\u001b[0m\n\u001b[1;32m   8109\u001b[0m         \"\"\"\n\u001b[1;32m   8110\u001b[0m         return self._join_compat(\n\u001b[0;32m-> 8111\u001b[0;31m             \u001b[0mother\u001b[0m\u001b[0;34m,\u001b[0m \u001b[0mon\u001b[0m\u001b[0;34m=\u001b[0m\u001b[0mon\u001b[0m\u001b[0;34m,\u001b[0m \u001b[0mhow\u001b[0m\u001b[0;34m=\u001b[0m\u001b[0mhow\u001b[0m\u001b[0;34m,\u001b[0m \u001b[0mlsuffix\u001b[0m\u001b[0;34m=\u001b[0m\u001b[0mlsuffix\u001b[0m\u001b[0;34m,\u001b[0m \u001b[0mrsuffix\u001b[0m\u001b[0;34m=\u001b[0m\u001b[0mrsuffix\u001b[0m\u001b[0;34m,\u001b[0m \u001b[0msort\u001b[0m\u001b[0;34m=\u001b[0m\u001b[0msort\u001b[0m\u001b[0;34m\u001b[0m\u001b[0;34m\u001b[0m\u001b[0m\n\u001b[0m\u001b[1;32m   8112\u001b[0m         )\n\u001b[1;32m   8113\u001b[0m \u001b[0;34m\u001b[0m\u001b[0m\n",
      "\u001b[0;32m/shared-libs/python3.7/py/lib/python3.7/site-packages/pandas/core/frame.py\u001b[0m in \u001b[0;36m_join_compat\u001b[0;34m(self, other, on, how, lsuffix, rsuffix, sort)\u001b[0m\n\u001b[1;32m   8141\u001b[0m                 \u001b[0mright_index\u001b[0m\u001b[0;34m=\u001b[0m\u001b[0;32mTrue\u001b[0m\u001b[0;34m,\u001b[0m\u001b[0;34m\u001b[0m\u001b[0;34m\u001b[0m\u001b[0m\n\u001b[1;32m   8142\u001b[0m                 \u001b[0msuffixes\u001b[0m\u001b[0;34m=\u001b[0m\u001b[0;34m(\u001b[0m\u001b[0mlsuffix\u001b[0m\u001b[0;34m,\u001b[0m \u001b[0mrsuffix\u001b[0m\u001b[0;34m)\u001b[0m\u001b[0;34m,\u001b[0m\u001b[0;34m\u001b[0m\u001b[0;34m\u001b[0m\u001b[0m\n\u001b[0;32m-> 8143\u001b[0;31m                 \u001b[0msort\u001b[0m\u001b[0;34m=\u001b[0m\u001b[0msort\u001b[0m\u001b[0;34m,\u001b[0m\u001b[0;34m\u001b[0m\u001b[0;34m\u001b[0m\u001b[0m\n\u001b[0m\u001b[1;32m   8144\u001b[0m             )\n\u001b[1;32m   8145\u001b[0m         \u001b[0;32melse\u001b[0m\u001b[0;34m:\u001b[0m\u001b[0;34m\u001b[0m\u001b[0;34m\u001b[0m\u001b[0m\n",
      "\u001b[0;32m/shared-libs/python3.7/py/lib/python3.7/site-packages/pandas/core/reshape/merge.py\u001b[0m in \u001b[0;36mmerge\u001b[0;34m(left, right, how, on, left_on, right_on, left_index, right_index, sort, suffixes, copy, indicator, validate)\u001b[0m\n\u001b[1;32m     87\u001b[0m         \u001b[0mvalidate\u001b[0m\u001b[0;34m=\u001b[0m\u001b[0mvalidate\u001b[0m\u001b[0;34m,\u001b[0m\u001b[0;34m\u001b[0m\u001b[0;34m\u001b[0m\u001b[0m\n\u001b[1;32m     88\u001b[0m     )\n\u001b[0;32m---> 89\u001b[0;31m     \u001b[0;32mreturn\u001b[0m \u001b[0mop\u001b[0m\u001b[0;34m.\u001b[0m\u001b[0mget_result\u001b[0m\u001b[0;34m(\u001b[0m\u001b[0;34m)\u001b[0m\u001b[0;34m\u001b[0m\u001b[0;34m\u001b[0m\u001b[0m\n\u001b[0m\u001b[1;32m     90\u001b[0m \u001b[0;34m\u001b[0m\u001b[0m\n\u001b[1;32m     91\u001b[0m \u001b[0;34m\u001b[0m\u001b[0m\n",
      "\u001b[0;32m/shared-libs/python3.7/py/lib/python3.7/site-packages/pandas/core/reshape/merge.py\u001b[0m in \u001b[0;36mget_result\u001b[0;34m(self)\u001b[0m\n\u001b[1;32m    685\u001b[0m \u001b[0;34m\u001b[0m\u001b[0m\n\u001b[1;32m    686\u001b[0m         llabels, rlabels = _items_overlap_with_suffix(\n\u001b[0;32m--> 687\u001b[0;31m             \u001b[0mself\u001b[0m\u001b[0;34m.\u001b[0m\u001b[0mleft\u001b[0m\u001b[0;34m.\u001b[0m\u001b[0m_info_axis\u001b[0m\u001b[0;34m,\u001b[0m \u001b[0mself\u001b[0m\u001b[0;34m.\u001b[0m\u001b[0mright\u001b[0m\u001b[0;34m.\u001b[0m\u001b[0m_info_axis\u001b[0m\u001b[0;34m,\u001b[0m \u001b[0mself\u001b[0m\u001b[0;34m.\u001b[0m\u001b[0msuffixes\u001b[0m\u001b[0;34m\u001b[0m\u001b[0;34m\u001b[0m\u001b[0m\n\u001b[0m\u001b[1;32m    688\u001b[0m         )\n\u001b[1;32m    689\u001b[0m \u001b[0;34m\u001b[0m\u001b[0m\n",
      "\u001b[0;32m/shared-libs/python3.7/py/lib/python3.7/site-packages/pandas/core/reshape/merge.py\u001b[0m in \u001b[0;36m_items_overlap_with_suffix\u001b[0;34m(left, right, suffixes)\u001b[0m\n\u001b[1;32m   2176\u001b[0m \u001b[0;34m\u001b[0m\u001b[0m\n\u001b[1;32m   2177\u001b[0m     \u001b[0;32mif\u001b[0m \u001b[0;32mnot\u001b[0m \u001b[0mlsuffix\u001b[0m \u001b[0;32mand\u001b[0m \u001b[0;32mnot\u001b[0m \u001b[0mrsuffix\u001b[0m\u001b[0;34m:\u001b[0m\u001b[0;34m\u001b[0m\u001b[0;34m\u001b[0m\u001b[0m\n\u001b[0;32m-> 2178\u001b[0;31m         \u001b[0;32mraise\u001b[0m \u001b[0mValueError\u001b[0m\u001b[0;34m(\u001b[0m\u001b[0;34mf\"columns overlap but no suffix specified: {to_rename}\"\u001b[0m\u001b[0;34m)\u001b[0m\u001b[0;34m\u001b[0m\u001b[0;34m\u001b[0m\u001b[0m\n\u001b[0m\u001b[1;32m   2179\u001b[0m \u001b[0;34m\u001b[0m\u001b[0m\n\u001b[1;32m   2180\u001b[0m     \u001b[0;32mdef\u001b[0m \u001b[0mrenamer\u001b[0m\u001b[0;34m(\u001b[0m\u001b[0mx\u001b[0m\u001b[0;34m,\u001b[0m \u001b[0msuffix\u001b[0m\u001b[0;34m)\u001b[0m\u001b[0;34m:\u001b[0m\u001b[0;34m\u001b[0m\u001b[0;34m\u001b[0m\u001b[0m\n",
      "\u001b[0;31mValueError\u001b[0m: columns overlap but no suffix specified: Index(['SK_ID_CURR'], dtype='object')"
     ]
    }
   ],
   "execution_count": 36
  },
  {
   "cell_type": "code",
   "source": "help(app_train.join)",
   "metadata": {
    "tags": [],
    "cell_id": "00015-0f0d532b-e9c3-400e-9d59-a6e619f5b6a8",
    "deepnote_to_be_reexecuted": false,
    "source_hash": "54c5a57e",
    "execution_start": 1628711939793,
    "execution_millis": 7,
    "deepnote_cell_type": "code"
   },
   "outputs": [
    {
     "name": "stdout",
     "text": "Help on method join in module pandas.core.frame:\n\njoin(other, on=None, how='left', lsuffix='', rsuffix='', sort=False) -> 'DataFrame' method of pandas.core.frame.DataFrame instance\n    Join columns of another DataFrame.\n    \n    Join columns with `other` DataFrame either on index or on a key\n    column. Efficiently join multiple DataFrame objects by index at once by\n    passing a list.\n    \n    Parameters\n    ----------\n    other : DataFrame, Series, or list of DataFrame\n        Index should be similar to one of the columns in this one. If a\n        Series is passed, its name attribute must be set, and that will be\n        used as the column name in the resulting joined DataFrame.\n    on : str, list of str, or array-like, optional\n        Column or index level name(s) in the caller to join on the index\n        in `other`, otherwise joins index-on-index. If multiple\n        values given, the `other` DataFrame must have a MultiIndex. Can\n        pass an array as the join key if it is not already contained in\n        the calling DataFrame. Like an Excel VLOOKUP operation.\n    how : {'left', 'right', 'outer', 'inner'}, default 'left'\n        How to handle the operation of the two objects.\n    \n        * left: use calling frame's index (or column if on is specified)\n        * right: use `other`'s index.\n        * outer: form union of calling frame's index (or column if on is\n          specified) with `other`'s index, and sort it.\n          lexicographically.\n        * inner: form intersection of calling frame's index (or column if\n          on is specified) with `other`'s index, preserving the order\n          of the calling's one.\n    lsuffix : str, default ''\n        Suffix to use from left frame's overlapping columns.\n    rsuffix : str, default ''\n        Suffix to use from right frame's overlapping columns.\n    sort : bool, default False\n        Order result DataFrame lexicographically by the join key. If False,\n        the order of the join key depends on the join type (how keyword).\n    \n    Returns\n    -------\n    DataFrame\n        A dataframe containing columns from both the caller and `other`.\n    \n    See Also\n    --------\n    DataFrame.merge : For column(s)-on-column(s) operations.\n    \n    Notes\n    -----\n    Parameters `on`, `lsuffix`, and `rsuffix` are not supported when\n    passing a list of `DataFrame` objects.\n    \n    Support for specifying index levels as the `on` parameter was added\n    in version 0.23.0.\n    \n    Examples\n    --------\n    >>> df = pd.DataFrame({'key': ['K0', 'K1', 'K2', 'K3', 'K4', 'K5'],\n    ...                    'A': ['A0', 'A1', 'A2', 'A3', 'A4', 'A5']})\n    \n    >>> df\n      key   A\n    0  K0  A0\n    1  K1  A1\n    2  K2  A2\n    3  K3  A3\n    4  K4  A4\n    5  K5  A5\n    \n    >>> other = pd.DataFrame({'key': ['K0', 'K1', 'K2'],\n    ...                       'B': ['B0', 'B1', 'B2']})\n    \n    >>> other\n      key   B\n    0  K0  B0\n    1  K1  B1\n    2  K2  B2\n    \n    Join DataFrames using their indexes.\n    \n    >>> df.join(other, lsuffix='_caller', rsuffix='_other')\n      key_caller   A key_other    B\n    0         K0  A0        K0   B0\n    1         K1  A1        K1   B1\n    2         K2  A2        K2   B2\n    3         K3  A3       NaN  NaN\n    4         K4  A4       NaN  NaN\n    5         K5  A5       NaN  NaN\n    \n    If we want to join using the key columns, we need to set key to be\n    the index in both `df` and `other`. The joined DataFrame will have\n    key as its index.\n    \n    >>> df.set_index('key').join(other.set_index('key'))\n          A    B\n    key\n    K0   A0   B0\n    K1   A1   B1\n    K2   A2   B2\n    K3   A3  NaN\n    K4   A4  NaN\n    K5   A5  NaN\n    \n    Another option to join using the key columns is to use the `on`\n    parameter. DataFrame.join always uses `other`'s index but we can use\n    any column in `df`. This method preserves the original DataFrame's\n    index in the result.\n    \n    >>> df.join(other.set_index('key'), on='key')\n      key   A    B\n    0  K0  A0   B0\n    1  K1  A1   B1\n    2  K2  A2   B2\n    3  K3  A3  NaN\n    4  K4  A4  NaN\n    5  K5  A5  NaN\n\n",
     "output_type": "stream"
    }
   ],
   "execution_count": 27
  },
  {
   "cell_type": "code",
   "source": "",
   "metadata": {
    "tags": [],
    "cell_id": "00015-82e18c54-5a37-496a-b622-a5ca2ddf86c8",
    "deepnote_cell_type": "code"
   },
   "outputs": [],
   "execution_count": null
  },
  {
   "cell_type": "code",
   "source": "",
   "metadata": {
    "tags": [],
    "cell_id": "00015-88db52a6-fe27-4ba4-b6ab-f4977b932c47",
    "deepnote_cell_type": "code"
   },
   "outputs": [],
   "execution_count": null
  },
  {
   "cell_type": "code",
   "source": "",
   "metadata": {
    "tags": [],
    "cell_id": "00015-fcbbc5a3-2840-475f-9dce-c15920c11c49",
    "deepnote_cell_type": "code"
   },
   "outputs": [],
   "execution_count": null
  },
  {
   "cell_type": "code",
   "source": "",
   "metadata": {
    "tags": [],
    "cell_id": "00015-72ab3696-a780-471a-b7f3-5c190fe36ecb",
    "deepnote_cell_type": "code"
   },
   "outputs": [],
   "execution_count": null
  },
  {
   "cell_type": "code",
   "source": "",
   "metadata": {
    "tags": [],
    "cell_id": "00015-3c5d5d65-e593-4751-ac7b-82673900d9c3",
    "deepnote_cell_type": "code"
   },
   "outputs": [],
   "execution_count": null
  },
  {
   "cell_type": "code",
   "source": "",
   "metadata": {
    "tags": [],
    "cell_id": "00015-d7051d5b-9299-4516-8c94-03c570de6df0",
    "deepnote_cell_type": "code"
   },
   "outputs": [],
   "execution_count": null
  },
  {
   "cell_type": "code",
   "source": "",
   "metadata": {
    "tags": [],
    "cell_id": "00015-dba8fcee-5f0b-42ba-8027-a1caf60cf1a1",
    "deepnote_cell_type": "code"
   },
   "outputs": [],
   "execution_count": null
  },
  {
   "cell_type": "markdown",
   "source": "<a style='text-decoration:none;line-height:16px;display:flex;color:#5B5B62;padding:10px;justify-content:end;' href='https://deepnote.com?utm_source=created-in-deepnote-cell&projectId=9263f292-ea73-48e7-8892-f3d3ed1db03c' target=\"_blank\">\n<img alt='Created in deepnote.com' style='display:inline;max-height:16px;margin:0px;margin-right:7.5px;' src='data:image/svg+xml;base64,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' > </img>\nCreated in <span style='font-weight:600;margin-left:4px;'>Deepnote</span></a>",
   "metadata": {
    "tags": [],
    "created_in_deepnote_cell": true,
    "deepnote_cell_type": "markdown"
   }
  }
 ],
 "nbformat": 4,
 "nbformat_minor": 2,
 "metadata": {
  "orig_nbformat": 2,
  "deepnote": {
   "is_reactive": false
  },
  "deepnote_notebook_id": "99a7e69f-a45a-46bf-a03c-19a5705a70bb",
  "deepnote_execution_queue": []
 }
}
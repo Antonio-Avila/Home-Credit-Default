{
 "cells": [
  {
   "cell_type": "code",
   "metadata": {
    "tags": [],
    "cell_id": "00000-24f3bc3d-18c9-4505-bd05-fe3e29eb537f",
    "deepnote_to_be_reexecuted": false,
    "source_hash": "bb3581b5",
    "execution_start": 1628274942723,
    "execution_millis": 4505,
    "deepnote_cell_type": "code"
   },
   "source": "import pandas as pd\nimport numpy as np\nimport matplotlib.pyplot as plt\nplt.style.use('ggplot')\n%matplotlib inline\nimport pylab\npylab.rcParams['figure.figsize'] = (15, 10)\n\nimport seaborn as sns\nfrom scipy import stats\n!pip install statsmodels\nimport statsmodels.api as sm\nimport time",
   "execution_count": 1,
   "outputs": [
    {
     "name": "stdout",
     "text": "Requirement already satisfied: statsmodels in /root/venv/lib/python3.7/site-packages (0.12.2)\nRequirement already satisfied: scipy>=1.1 in /shared-libs/python3.7/py/lib/python3.7/site-packages (from statsmodels) (1.7.1)\nRequirement already satisfied: numpy>=1.15 in /shared-libs/python3.7/py/lib/python3.7/site-packages (from statsmodels) (1.19.5)\nRequirement already satisfied: pandas>=0.21 in /shared-libs/python3.7/py/lib/python3.7/site-packages (from statsmodels) (1.2.5)\nRequirement already satisfied: patsy>=0.5 in /root/venv/lib/python3.7/site-packages (from statsmodels) (0.5.1)\nRequirement already satisfied: python-dateutil>=2.7.3 in /shared-libs/python3.7/py-core/lib/python3.7/site-packages (from pandas>=0.21->statsmodels) (2.8.2)\nRequirement already satisfied: pytz>=2017.3 in /shared-libs/python3.7/py/lib/python3.7/site-packages (from pandas>=0.21->statsmodels) (2021.1)\nRequirement already satisfied: six in /shared-libs/python3.7/py-core/lib/python3.7/site-packages (from patsy>=0.5->statsmodels) (1.16.0)\n\u001b[33mWARNING: You are using pip version 21.2.2; however, version 21.2.3 is available.\nYou should consider upgrading via the '/root/venv/bin/python -m pip install --upgrade pip' command.\u001b[0m\n",
     "output_type": "stream"
    }
   ]
  },
  {
   "cell_type": "code",
   "metadata": {
    "tags": [],
    "cell_id": "00001-03d044d6-d1df-47f6-97bf-34e42472059f",
    "deepnote_to_be_reexecuted": false,
    "source_hash": "2784fc7",
    "execution_start": 1628274947231,
    "execution_millis": 8200,
    "deepnote_cell_type": "code"
   },
   "source": "app_train = pd.read_csv(\"app_train_red.csv\")\napp_test = pd.read_csv(\"app_test_red.csv\")\nprev_app = pd.read_csv(\"previous_application.csv\")",
   "execution_count": 2,
   "outputs": []
  },
  {
   "cell_type": "code",
   "metadata": {
    "tags": [],
    "cell_id": "00003-054eaa2b-8570-4be3-bbb3-b735a847d93e",
    "deepnote_to_be_reexecuted": false,
    "source_hash": "a07985e8",
    "execution_start": 1628274955451,
    "execution_millis": 110,
    "deepnote_cell_type": "code"
   },
   "source": "prev_app.head()",
   "execution_count": 3,
   "outputs": [
    {
     "output_type": "execute_result",
     "execution_count": 3,
     "data": {
      "application/vnd.deepnote.dataframe.v2+json": {
       "row_count": 5,
       "column_count": 37,
       "columns": [
        {
         "name": "SK_ID_PREV",
         "dtype": "int64",
         "stats": {
          "unique_count": 5,
          "nan_count": 0,
          "min": "1784265",
          "max": "2819243",
          "histogram": [
           {
            "bin_start": 1784265,
            "bin_end": 1887762.8,
            "count": 1
           },
           {
            "bin_start": 1887762.8,
            "bin_end": 1991260.6,
            "count": 0
           },
           {
            "bin_start": 1991260.6,
            "bin_end": 2094758.4,
            "count": 1
           },
           {
            "bin_start": 2094758.4,
            "bin_end": 2198256.2,
            "count": 0
           },
           {
            "bin_start": 2198256.2,
            "bin_end": 2301754,
            "count": 0
           },
           {
            "bin_start": 2301754,
            "bin_end": 2405251.8,
            "count": 0
           },
           {
            "bin_start": 2405251.8,
            "bin_end": 2508749.6,
            "count": 0
           },
           {
            "bin_start": 2508749.6,
            "bin_end": 2612247.4,
            "count": 1
           },
           {
            "bin_start": 2612247.4,
            "bin_end": 2715745.2,
            "count": 0
           },
           {
            "bin_start": 2715745.2,
            "bin_end": 2819243,
            "count": 2
           }
          ]
         }
        },
        {
         "name": "SK_ID_CURR",
         "dtype": "int64",
         "stats": {
          "unique_count": 5,
          "nan_count": 0,
          "min": "108129",
          "max": "271877",
          "histogram": [
           {
            "bin_start": 108129,
            "bin_end": 124503.8,
            "count": 2
           },
           {
            "bin_start": 124503.8,
            "bin_end": 140878.6,
            "count": 0
           },
           {
            "bin_start": 140878.6,
            "bin_end": 157253.4,
            "count": 0
           },
           {
            "bin_start": 157253.4,
            "bin_end": 173628.2,
            "count": 0
           },
           {
            "bin_start": 173628.2,
            "bin_end": 190003,
            "count": 1
           },
           {
            "bin_start": 190003,
            "bin_end": 206377.8,
            "count": 1
           },
           {
            "bin_start": 206377.8,
            "bin_end": 222752.59999999998,
            "count": 0
           },
           {
            "bin_start": 222752.59999999998,
            "bin_end": 239127.4,
            "count": 0
           },
           {
            "bin_start": 239127.4,
            "bin_end": 255502.19999999998,
            "count": 0
           },
           {
            "bin_start": 255502.19999999998,
            "bin_end": 271877,
            "count": 1
           }
          ]
         }
        },
        {
         "name": "NAME_CONTRACT_TYPE",
         "dtype": "object",
         "stats": {
          "unique_count": 2,
          "nan_count": 0,
          "categories": [
           {
            "name": "Cash loans",
            "count": 4
           },
           {
            "name": "Consumer loans",
            "count": 1
           }
          ]
         }
        },
        {
         "name": "AMT_ANNUITY",
         "dtype": "float64",
         "stats": {
          "unique_count": 5,
          "nan_count": 0,
          "min": "1730.43",
          "max": "47041.335",
          "histogram": [
           {
            "bin_start": 1730.43,
            "bin_end": 6261.5205000000005,
            "count": 1
           },
           {
            "bin_start": 6261.5205000000005,
            "bin_end": 10792.611,
            "count": 0
           },
           {
            "bin_start": 10792.611,
            "bin_end": 15323.701500000001,
            "count": 1
           },
           {
            "bin_start": 15323.701500000001,
            "bin_end": 19854.792,
            "count": 0
           },
           {
            "bin_start": 19854.792,
            "bin_end": 24385.8825,
            "count": 0
           },
           {
            "bin_start": 24385.8825,
            "bin_end": 28916.973,
            "count": 1
           },
           {
            "bin_start": 28916.973,
            "bin_end": 33448.063500000004,
            "count": 1
           },
           {
            "bin_start": 33448.063500000004,
            "bin_end": 37979.154,
            "count": 0
           },
           {
            "bin_start": 37979.154,
            "bin_end": 42510.2445,
            "count": 0
           },
           {
            "bin_start": 42510.2445,
            "bin_end": 47041.335,
            "count": 1
           }
          ]
         }
        },
        {
         "name": "AMT_APPLICATION",
         "dtype": "float64",
         "stats": {
          "unique_count": 5,
          "nan_count": 0,
          "min": "17145.0",
          "max": "607500.0",
          "histogram": [
           {
            "bin_start": 17145,
            "bin_end": 76180.5,
            "count": 1
           },
           {
            "bin_start": 76180.5,
            "bin_end": 135216,
            "count": 1
           },
           {
            "bin_start": 135216,
            "bin_end": 194251.5,
            "count": 0
           },
           {
            "bin_start": 194251.5,
            "bin_end": 253287,
            "count": 0
           },
           {
            "bin_start": 253287,
            "bin_end": 312322.5,
            "count": 0
           },
           {
            "bin_start": 312322.5,
            "bin_end": 371358,
            "count": 1
           },
           {
            "bin_start": 371358,
            "bin_end": 430393.5,
            "count": 0
           },
           {
            "bin_start": 430393.5,
            "bin_end": 489429,
            "count": 1
           },
           {
            "bin_start": 489429,
            "bin_end": 548464.5,
            "count": 0
           },
           {
            "bin_start": 548464.5,
            "bin_end": 607500,
            "count": 1
           }
          ]
         }
        },
        {
         "name": "AMT_CREDIT",
         "dtype": "float64",
         "stats": {
          "unique_count": 5,
          "nan_count": 0,
          "min": "17145.0",
          "max": "679671.0",
          "histogram": [
           {
            "bin_start": 17145,
            "bin_end": 83397.6,
            "count": 1
           },
           {
            "bin_start": 83397.6,
            "bin_end": 149650.2,
            "count": 1
           },
           {
            "bin_start": 149650.2,
            "bin_end": 215902.80000000002,
            "count": 0
           },
           {
            "bin_start": 215902.80000000002,
            "bin_end": 282155.4,
            "count": 0
           },
           {
            "bin_start": 282155.4,
            "bin_end": 348408,
            "count": 0
           },
           {
            "bin_start": 348408,
            "bin_end": 414660.60000000003,
            "count": 1
           },
           {
            "bin_start": 414660.60000000003,
            "bin_end": 480913.20000000007,
            "count": 1
           },
           {
            "bin_start": 480913.20000000007,
            "bin_end": 547165.8,
            "count": 0
           },
           {
            "bin_start": 547165.8,
            "bin_end": 613418.4,
            "count": 0
           },
           {
            "bin_start": 613418.4,
            "bin_end": 679671,
            "count": 1
           }
          ]
         }
        },
        {
         "name": "AMT_DOWN_PAYMENT",
         "dtype": "float64",
         "stats": {
          "unique_count": 1,
          "nan_count": 4,
          "min": "0.0",
          "max": "0.0",
          "histogram": [
           {
            "bin_start": -0.5,
            "bin_end": -0.4,
            "count": 0
           },
           {
            "bin_start": -0.4,
            "bin_end": -0.3,
            "count": 0
           },
           {
            "bin_start": -0.3,
            "bin_end": -0.19999999999999996,
            "count": 0
           },
           {
            "bin_start": -0.19999999999999996,
            "bin_end": -0.09999999999999998,
            "count": 0
           },
           {
            "bin_start": -0.09999999999999998,
            "bin_end": 0,
            "count": 0
           },
           {
            "bin_start": 0,
            "bin_end": 0.10000000000000009,
            "count": 1
           },
           {
            "bin_start": 0.10000000000000009,
            "bin_end": 0.20000000000000007,
            "count": 0
           },
           {
            "bin_start": 0.20000000000000007,
            "bin_end": 0.30000000000000004,
            "count": 0
           },
           {
            "bin_start": 0.30000000000000004,
            "bin_end": 0.4,
            "count": 0
           },
           {
            "bin_start": 0.4,
            "bin_end": 0.5,
            "count": 0
           }
          ]
         }
        },
        {
         "name": "AMT_GOODS_PRICE",
         "dtype": "float64",
         "stats": {
          "unique_count": 5,
          "nan_count": 0,
          "min": "17145.0",
          "max": "607500.0",
          "histogram": [
           {
            "bin_start": 17145,
            "bin_end": 76180.5,
            "count": 1
           },
           {
            "bin_start": 76180.5,
            "bin_end": 135216,
            "count": 1
           },
           {
            "bin_start": 135216,
            "bin_end": 194251.5,
            "count": 0
           },
           {
            "bin_start": 194251.5,
            "bin_end": 253287,
            "count": 0
           },
           {
            "bin_start": 253287,
            "bin_end": 312322.5,
            "count": 0
           },
           {
            "bin_start": 312322.5,
            "bin_end": 371358,
            "count": 1
           },
           {
            "bin_start": 371358,
            "bin_end": 430393.5,
            "count": 0
           },
           {
            "bin_start": 430393.5,
            "bin_end": 489429,
            "count": 1
           },
           {
            "bin_start": 489429,
            "bin_end": 548464.5,
            "count": 0
           },
           {
            "bin_start": 548464.5,
            "bin_end": 607500,
            "count": 1
           }
          ]
         }
        },
        {
         "name": "WEEKDAY_APPR_PROCESS_START",
         "dtype": "object",
         "stats": {
          "unique_count": 4,
          "nan_count": 0,
          "categories": [
           {
            "name": "THURSDAY",
            "count": 2
           },
           {
            "name": "SATURDAY",
            "count": 1
           },
           {
            "name": "2 others",
            "count": 2
           }
          ]
         }
        },
        {
         "name": "HOUR_APPR_PROCESS_START",
         "dtype": "int64",
         "stats": {
          "unique_count": 4,
          "nan_count": 0,
          "min": "7",
          "max": "15",
          "histogram": [
           {
            "bin_start": 7,
            "bin_end": 7.8,
            "count": 1
           },
           {
            "bin_start": 7.8,
            "bin_end": 8.6,
            "count": 0
           },
           {
            "bin_start": 8.6,
            "bin_end": 9.4,
            "count": 1
           },
           {
            "bin_start": 9.4,
            "bin_end": 10.2,
            "count": 0
           },
           {
            "bin_start": 10.2,
            "bin_end": 11,
            "count": 0
           },
           {
            "bin_start": 11,
            "bin_end": 11.8,
            "count": 2
           },
           {
            "bin_start": 11.8,
            "bin_end": 12.600000000000001,
            "count": 0
           },
           {
            "bin_start": 12.600000000000001,
            "bin_end": 13.4,
            "count": 0
           },
           {
            "bin_start": 13.4,
            "bin_end": 14.2,
            "count": 0
           },
           {
            "bin_start": 14.2,
            "bin_end": 15,
            "count": 1
           }
          ]
         }
        },
        {
         "name": "FLAG_LAST_APPL_PER_CONTRACT",
         "dtype": "object",
         "stats": {
          "unique_count": 1,
          "nan_count": 0,
          "categories": [
           {
            "name": "Y",
            "count": 5
           }
          ]
         }
        },
        {
         "name": "NFLAG_LAST_APPL_IN_DAY",
         "dtype": "int64",
         "stats": {
          "unique_count": 1,
          "nan_count": 0,
          "min": "1",
          "max": "1",
          "histogram": [
           {
            "bin_start": 0.5,
            "bin_end": 0.6,
            "count": 0
           },
           {
            "bin_start": 0.6,
            "bin_end": 0.7,
            "count": 0
           },
           {
            "bin_start": 0.7,
            "bin_end": 0.8,
            "count": 0
           },
           {
            "bin_start": 0.8,
            "bin_end": 0.9,
            "count": 0
           },
           {
            "bin_start": 0.9,
            "bin_end": 1,
            "count": 0
           },
           {
            "bin_start": 1,
            "bin_end": 1.1,
            "count": 5
           },
           {
            "bin_start": 1.1,
            "bin_end": 1.2000000000000002,
            "count": 0
           },
           {
            "bin_start": 1.2000000000000002,
            "bin_end": 1.3,
            "count": 0
           },
           {
            "bin_start": 1.3,
            "bin_end": 1.4,
            "count": 0
           },
           {
            "bin_start": 1.4,
            "bin_end": 1.5,
            "count": 0
           }
          ]
         }
        },
        {
         "name": "RATE_DOWN_PAYMENT",
         "dtype": "float64",
         "stats": {
          "unique_count": 1,
          "nan_count": 4,
          "min": "0.0",
          "max": "0.0",
          "histogram": [
           {
            "bin_start": -0.5,
            "bin_end": -0.4,
            "count": 0
           },
           {
            "bin_start": -0.4,
            "bin_end": -0.3,
            "count": 0
           },
           {
            "bin_start": -0.3,
            "bin_end": -0.19999999999999996,
            "count": 0
           },
           {
            "bin_start": -0.19999999999999996,
            "bin_end": -0.09999999999999998,
            "count": 0
           },
           {
            "bin_start": -0.09999999999999998,
            "bin_end": 0,
            "count": 0
           },
           {
            "bin_start": 0,
            "bin_end": 0.10000000000000009,
            "count": 1
           },
           {
            "bin_start": 0.10000000000000009,
            "bin_end": 0.20000000000000007,
            "count": 0
           },
           {
            "bin_start": 0.20000000000000007,
            "bin_end": 0.30000000000000004,
            "count": 0
           },
           {
            "bin_start": 0.30000000000000004,
            "bin_end": 0.4,
            "count": 0
           },
           {
            "bin_start": 0.4,
            "bin_end": 0.5,
            "count": 0
           }
          ]
         }
        },
        {
         "name": "RATE_INTEREST_PRIMARY",
         "dtype": "float64",
         "stats": {
          "unique_count": 1,
          "nan_count": 4,
          "min": "0.1828318032415278",
          "max": "0.1828318032415278",
          "histogram": [
           {
            "bin_start": -0.3171681967584722,
            "bin_end": -0.21716819675847218,
            "count": 0
           },
           {
            "bin_start": -0.21716819675847218,
            "bin_end": -0.11716819675847218,
            "count": 0
           },
           {
            "bin_start": -0.11716819675847218,
            "bin_end": -0.017168196758472143,
            "count": 0
           },
           {
            "bin_start": -0.017168196758472143,
            "bin_end": 0.08283180324152783,
            "count": 0
           },
           {
            "bin_start": 0.08283180324152783,
            "bin_end": 0.1828318032415278,
            "count": 0
           },
           {
            "bin_start": 0.1828318032415278,
            "bin_end": 0.2828318032415279,
            "count": 1
           },
           {
            "bin_start": 0.2828318032415279,
            "bin_end": 0.3828318032415279,
            "count": 0
           },
           {
            "bin_start": 0.3828318032415279,
            "bin_end": 0.48283180324152786,
            "count": 0
           },
           {
            "bin_start": 0.48283180324152786,
            "bin_end": 0.5828318032415278,
            "count": 0
           },
           {
            "bin_start": 0.5828318032415278,
            "bin_end": 0.6828318032415278,
            "count": 0
           }
          ]
         }
        },
        {
         "name": "RATE_INTEREST_PRIVILEGED",
         "dtype": "float64",
         "stats": {
          "unique_count": 1,
          "nan_count": 4,
          "min": "0.8673361522198731",
          "max": "0.8673361522198731",
          "histogram": [
           {
            "bin_start": 0.36733615221987315,
            "bin_end": 0.4673361522198731,
            "count": 0
           },
           {
            "bin_start": 0.4673361522198731,
            "bin_end": 0.5673361522198731,
            "count": 0
           },
           {
            "bin_start": 0.5673361522198731,
            "bin_end": 0.6673361522198731,
            "count": 0
           },
           {
            "bin_start": 0.6673361522198731,
            "bin_end": 0.7673361522198732,
            "count": 0
           },
           {
            "bin_start": 0.7673361522198732,
            "bin_end": 0.867336152219873,
            "count": 0
           },
           {
            "bin_start": 0.867336152219873,
            "bin_end": 0.9673361522198731,
            "count": 1
           },
           {
            "bin_start": 0.9673361522198731,
            "bin_end": 1.0673361522198732,
            "count": 0
           },
           {
            "bin_start": 1.0673361522198732,
            "bin_end": 1.167336152219873,
            "count": 0
           },
           {
            "bin_start": 1.167336152219873,
            "bin_end": 1.267336152219873,
            "count": 0
           },
           {
            "bin_start": 1.267336152219873,
            "bin_end": 1.367336152219873,
            "count": 0
           }
          ]
         }
        },
        {
         "name": "NAME_CASH_LOAN_PURPOSE",
         "dtype": "object",
         "stats": {
          "unique_count": 3,
          "nan_count": 0,
          "categories": [
           {
            "name": "XNA",
            "count": 3
           },
           {
            "name": "XAP",
            "count": 1
           },
           {
            "name": "Repairs",
            "count": 1
           }
          ]
         }
        },
        {
         "name": "NAME_CONTRACT_STATUS",
         "dtype": "object",
         "stats": {
          "unique_count": 2,
          "nan_count": 0,
          "categories": [
           {
            "name": "Approved",
            "count": 4
           },
           {
            "name": "Refused",
            "count": 1
           }
          ]
         }
        },
        {
         "name": "DAYS_DECISION",
         "dtype": "int64",
         "stats": {
          "unique_count": 5,
          "nan_count": 0,
          "min": "-781",
          "max": "-73",
          "histogram": [
           {
            "bin_start": -781,
            "bin_end": -710.2,
            "count": 1
           },
           {
            "bin_start": -710.2,
            "bin_end": -639.4,
            "count": 0
           },
           {
            "bin_start": -639.4,
            "bin_end": -568.6,
            "count": 0
           },
           {
            "bin_start": -568.6,
            "bin_end": -497.8,
            "count": 1
           },
           {
            "bin_start": -497.8,
            "bin_end": -427,
            "count": 0
           },
           {
            "bin_start": -427,
            "bin_end": -356.20000000000005,
            "count": 0
           },
           {
            "bin_start": -356.20000000000005,
            "bin_end": -285.40000000000003,
            "count": 1
           },
           {
            "bin_start": -285.40000000000003,
            "bin_end": -214.60000000000002,
            "count": 0
           },
           {
            "bin_start": -214.60000000000002,
            "bin_end": -143.80000000000007,
            "count": 1
           },
           {
            "bin_start": -143.80000000000007,
            "bin_end": -73,
            "count": 1
           }
          ]
         }
        },
        {
         "name": "NAME_PAYMENT_TYPE",
         "dtype": "object",
         "stats": {
          "unique_count": 2,
          "nan_count": 0,
          "categories": [
           {
            "name": "Cash through the bank",
            "count": 4
           },
           {
            "name": "XNA",
            "count": 1
           }
          ]
         }
        },
        {
         "name": "CODE_REJECT_REASON",
         "dtype": "object",
         "stats": {
          "unique_count": 2,
          "nan_count": 0,
          "categories": [
           {
            "name": "XAP",
            "count": 4
           },
           {
            "name": "HC",
            "count": 1
           }
          ]
         }
        },
        {
         "name": "NAME_TYPE_SUITE",
         "dtype": "object",
         "stats": {
          "unique_count": 2,
          "nan_count": 3,
          "categories": [
           {
            "name": "Unaccompanied",
            "count": 1
           },
           {
            "name": "Spouse, partner",
            "count": 1
           },
           {
            "name": "Missing",
            "count": 3
           }
          ]
         }
        },
        {
         "name": "NAME_CLIENT_TYPE",
         "dtype": "object",
         "stats": {
          "unique_count": 1,
          "nan_count": 0,
          "categories": [
           {
            "name": "Repeater",
            "count": 5
           }
          ]
         }
        },
        {
         "name": "NAME_GOODS_CATEGORY",
         "dtype": "object",
         "stats": {
          "unique_count": 2,
          "nan_count": 0,
          "categories": [
           {
            "name": "XNA",
            "count": 4
           },
           {
            "name": "Mobile",
            "count": 1
           }
          ]
         }
        },
        {
         "name": "NAME_PORTFOLIO",
         "dtype": "object",
         "stats": {
          "unique_count": 2,
          "nan_count": 0,
          "categories": [
           {
            "name": "Cash",
            "count": 4
           },
           {
            "name": "POS",
            "count": 1
           }
          ]
         }
        },
        {
         "name": "NAME_PRODUCT_TYPE",
         "dtype": "object",
         "stats": {
          "unique_count": 3,
          "nan_count": 0,
          "categories": [
           {
            "name": "x-sell",
            "count": 3
           },
           {
            "name": "XNA",
            "count": 1
           },
           {
            "name": "walk-in",
            "count": 1
           }
          ]
         }
        },
        {
         "name": "CHANNEL_TYPE",
         "dtype": "object",
         "stats": {
          "unique_count": 3,
          "nan_count": 0,
          "categories": [
           {
            "name": "Credit and cash offices",
            "count": 3
           },
           {
            "name": "Country-wide",
            "count": 1
           },
           {
            "name": "Contact center",
            "count": 1
           }
          ]
         }
        },
        {
         "name": "SELLERPLACE_AREA",
         "dtype": "int64",
         "stats": {
          "unique_count": 2,
          "nan_count": 0,
          "min": "-1",
          "max": "35",
          "histogram": [
           {
            "bin_start": -1,
            "bin_end": 2.6,
            "count": 4
           },
           {
            "bin_start": 2.6,
            "bin_end": 6.2,
            "count": 0
           },
           {
            "bin_start": 6.2,
            "bin_end": 9.8,
            "count": 0
           },
           {
            "bin_start": 9.8,
            "bin_end": 13.4,
            "count": 0
           },
           {
            "bin_start": 13.4,
            "bin_end": 17,
            "count": 0
           },
           {
            "bin_start": 17,
            "bin_end": 20.6,
            "count": 0
           },
           {
            "bin_start": 20.6,
            "bin_end": 24.2,
            "count": 0
           },
           {
            "bin_start": 24.2,
            "bin_end": 27.8,
            "count": 0
           },
           {
            "bin_start": 27.8,
            "bin_end": 31.4,
            "count": 0
           },
           {
            "bin_start": 31.4,
            "bin_end": 35,
            "count": 1
           }
          ]
         }
        },
        {
         "name": "NAME_SELLER_INDUSTRY",
         "dtype": "object",
         "stats": {
          "unique_count": 2,
          "nan_count": 0,
          "categories": [
           {
            "name": "XNA",
            "count": 4
           },
           {
            "name": "Connectivity",
            "count": 1
           }
          ]
         }
        },
        {
         "name": "CNT_PAYMENT",
         "dtype": "float64",
         "stats": {
          "unique_count": 3,
          "nan_count": 0,
          "min": "12.0",
          "max": "36.0",
          "histogram": [
           {
            "bin_start": 12,
            "bin_end": 14.4,
            "count": 3
           },
           {
            "bin_start": 14.4,
            "bin_end": 16.8,
            "count": 0
           },
           {
            "bin_start": 16.8,
            "bin_end": 19.2,
            "count": 0
           },
           {
            "bin_start": 19.2,
            "bin_end": 21.6,
            "count": 0
           },
           {
            "bin_start": 21.6,
            "bin_end": 24,
            "count": 0
           },
           {
            "bin_start": 24,
            "bin_end": 26.4,
            "count": 1
           },
           {
            "bin_start": 26.4,
            "bin_end": 28.8,
            "count": 0
           },
           {
            "bin_start": 28.8,
            "bin_end": 31.2,
            "count": 0
           },
           {
            "bin_start": 31.2,
            "bin_end": 33.599999999999994,
            "count": 0
           },
           {
            "bin_start": 33.599999999999994,
            "bin_end": 36,
            "count": 1
           }
          ]
         }
        },
        {
         "name": "NAME_YIELD_GROUP",
         "dtype": "object",
         "stats": {
          "unique_count": 3,
          "nan_count": 0,
          "categories": [
           {
            "name": "middle",
            "count": 2
           },
           {
            "name": "high",
            "count": 2
           },
           {
            "name": "low_action",
            "count": 1
           }
          ]
         }
        },
        {
         "name": "PRODUCT_COMBINATION",
         "dtype": "object",
         "stats": {
          "unique_count": 5,
          "nan_count": 0,
          "categories": [
           {
            "name": "POS mobile with interest",
            "count": 1
           },
           {
            "name": "Cash X-Sell: low",
            "count": 1
           },
           {
            "name": "3 others",
            "count": 3
           }
          ]
         }
        },
        {
         "name": "DAYS_FIRST_DRAWING",
         "dtype": "float64",
         "stats": {
          "unique_count": 1,
          "nan_count": 1,
          "min": "365243.0",
          "max": "365243.0",
          "histogram": [
           {
            "bin_start": 365242.5,
            "bin_end": 365242.6,
            "count": 0
           },
           {
            "bin_start": 365242.6,
            "bin_end": 365242.7,
            "count": 0
           },
           {
            "bin_start": 365242.7,
            "bin_end": 365242.8,
            "count": 0
           },
           {
            "bin_start": 365242.8,
            "bin_end": 365242.9,
            "count": 0
           },
           {
            "bin_start": 365242.9,
            "bin_end": 365243,
            "count": 0
           },
           {
            "bin_start": 365243,
            "bin_end": 365243.1,
            "count": 4
           },
           {
            "bin_start": 365243.1,
            "bin_end": 365243.2,
            "count": 0
           },
           {
            "bin_start": 365243.2,
            "bin_end": 365243.3,
            "count": 0
           },
           {
            "bin_start": 365243.3,
            "bin_end": 365243.4,
            "count": 0
           },
           {
            "bin_start": 365243.4,
            "bin_end": 365243.5,
            "count": 0
           }
          ]
         }
        },
        {
         "name": "DAYS_FIRST_DUE",
         "dtype": "float64",
         "stats": {
          "unique_count": 4,
          "nan_count": 1,
          "min": "-482.0",
          "max": "-42.0",
          "histogram": [
           {
            "bin_start": -482,
            "bin_end": -438,
            "count": 1
           },
           {
            "bin_start": -438,
            "bin_end": -394,
            "count": 0
           },
           {
            "bin_start": -394,
            "bin_end": -350,
            "count": 0
           },
           {
            "bin_start": -350,
            "bin_end": -306,
            "count": 0
           },
           {
            "bin_start": -306,
            "bin_end": -262,
            "count": 1
           },
           {
            "bin_start": -262,
            "bin_end": -218,
            "count": 0
           },
           {
            "bin_start": -218,
            "bin_end": -174,
            "count": 0
           },
           {
            "bin_start": -174,
            "bin_end": -130,
            "count": 1
           },
           {
            "bin_start": -130,
            "bin_end": -86,
            "count": 0
           },
           {
            "bin_start": -86,
            "bin_end": -42,
            "count": 1
           }
          ]
         }
        },
        {
         "name": "DAYS_LAST_DUE_1ST_VERSION",
         "dtype": "float64",
         "stats": {
          "unique_count": 4,
          "nan_count": 1,
          "min": "-152.0",
          "max": "916.0",
          "histogram": [
           {
            "bin_start": -152,
            "bin_end": -45.2,
            "count": 1
           },
           {
            "bin_start": -45.2,
            "bin_end": 61.599999999999994,
            "count": 1
           },
           {
            "bin_start": 61.599999999999994,
            "bin_end": 168.39999999999998,
            "count": 0
           },
           {
            "bin_start": 168.39999999999998,
            "bin_end": 275.2,
            "count": 0
           },
           {
            "bin_start": 275.2,
            "bin_end": 382,
            "count": 1
           },
           {
            "bin_start": 382,
            "bin_end": 488.79999999999995,
            "count": 0
           },
           {
            "bin_start": 488.79999999999995,
            "bin_end": 595.6,
            "count": 0
           },
           {
            "bin_start": 595.6,
            "bin_end": 702.4,
            "count": 0
           },
           {
            "bin_start": 702.4,
            "bin_end": 809.1999999999999,
            "count": 0
           },
           {
            "bin_start": 809.1999999999999,
            "bin_end": 916,
            "count": 1
           }
          ]
         }
        },
        {
         "name": "DAYS_LAST_DUE",
         "dtype": "float64",
         "stats": {
          "unique_count": 3,
          "nan_count": 1,
          "min": "-182.0",
          "max": "365243.0",
          "histogram": [
           {
            "bin_start": -182,
            "bin_end": 36360.5,
            "count": 2
           },
           {
            "bin_start": 36360.5,
            "bin_end": 72903,
            "count": 0
           },
           {
            "bin_start": 72903,
            "bin_end": 109445.5,
            "count": 0
           },
           {
            "bin_start": 109445.5,
            "bin_end": 145988,
            "count": 0
           },
           {
            "bin_start": 145988,
            "bin_end": 182530.5,
            "count": 0
           },
           {
            "bin_start": 182530.5,
            "bin_end": 219073,
            "count": 0
           },
           {
            "bin_start": 219073,
            "bin_end": 255615.5,
            "count": 0
           },
           {
            "bin_start": 255615.5,
            "bin_end": 292158,
            "count": 0
           },
           {
            "bin_start": 292158,
            "bin_end": 328700.5,
            "count": 0
           },
           {
            "bin_start": 328700.5,
            "bin_end": 365243,
            "count": 2
           }
          ]
         }
        },
        {
         "name": "DAYS_TERMINATION",
         "dtype": "float64",
         "stats": {
          "unique_count": 3,
          "nan_count": 1,
          "min": "-177.0",
          "max": "365243.0",
          "histogram": [
           {
            "bin_start": -177,
            "bin_end": 36365,
            "count": 2
           },
           {
            "bin_start": 36365,
            "bin_end": 72907,
            "count": 0
           },
           {
            "bin_start": 72907,
            "bin_end": 109449,
            "count": 0
           },
           {
            "bin_start": 109449,
            "bin_end": 145991,
            "count": 0
           },
           {
            "bin_start": 145991,
            "bin_end": 182533,
            "count": 0
           },
           {
            "bin_start": 182533,
            "bin_end": 219075,
            "count": 0
           },
           {
            "bin_start": 219075,
            "bin_end": 255617,
            "count": 0
           },
           {
            "bin_start": 255617,
            "bin_end": 292159,
            "count": 0
           },
           {
            "bin_start": 292159,
            "bin_end": 328701,
            "count": 0
           },
           {
            "bin_start": 328701,
            "bin_end": 365243,
            "count": 2
           }
          ]
         }
        },
        {
         "name": "NFLAG_INSURED_ON_APPROVAL",
         "dtype": "float64",
         "stats": {
          "unique_count": 2,
          "nan_count": 1,
          "min": "0.0",
          "max": "1.0",
          "histogram": [
           {
            "bin_start": 0,
            "bin_end": 0.1,
            "count": 1
           },
           {
            "bin_start": 0.1,
            "bin_end": 0.2,
            "count": 0
           },
           {
            "bin_start": 0.2,
            "bin_end": 0.30000000000000004,
            "count": 0
           },
           {
            "bin_start": 0.30000000000000004,
            "bin_end": 0.4,
            "count": 0
           },
           {
            "bin_start": 0.4,
            "bin_end": 0.5,
            "count": 0
           },
           {
            "bin_start": 0.5,
            "bin_end": 0.6000000000000001,
            "count": 0
           },
           {
            "bin_start": 0.6000000000000001,
            "bin_end": 0.7000000000000001,
            "count": 0
           },
           {
            "bin_start": 0.7000000000000001,
            "bin_end": 0.8,
            "count": 0
           },
           {
            "bin_start": 0.8,
            "bin_end": 0.9,
            "count": 0
           },
           {
            "bin_start": 0.9,
            "bin_end": 1,
            "count": 3
           }
          ]
         }
        },
        {
         "name": "_deepnote_index_column",
         "dtype": "int64"
        }
       ],
       "rows_top": [
        {
         "SK_ID_PREV": 2030495,
         "SK_ID_CURR": 271877,
         "NAME_CONTRACT_TYPE": "Consumer loans",
         "AMT_ANNUITY": 1730.43,
         "AMT_APPLICATION": 17145,
         "AMT_CREDIT": 17145,
         "AMT_DOWN_PAYMENT": 0,
         "AMT_GOODS_PRICE": 17145,
         "WEEKDAY_APPR_PROCESS_START": "SATURDAY",
         "HOUR_APPR_PROCESS_START": 15,
         "FLAG_LAST_APPL_PER_CONTRACT": "Y",
         "NFLAG_LAST_APPL_IN_DAY": 1,
         "RATE_DOWN_PAYMENT": 0,
         "RATE_INTEREST_PRIMARY": 0.1828318032415278,
         "RATE_INTEREST_PRIVILEGED": 0.8673361522198731,
         "NAME_CASH_LOAN_PURPOSE": "XAP",
         "NAME_CONTRACT_STATUS": "Approved",
         "DAYS_DECISION": -73,
         "NAME_PAYMENT_TYPE": "Cash through the bank",
         "CODE_REJECT_REASON": "XAP",
         "NAME_TYPE_SUITE": "nan",
         "NAME_CLIENT_TYPE": "Repeater",
         "NAME_GOODS_CATEGORY": "Mobile",
         "NAME_PORTFOLIO": "POS",
         "NAME_PRODUCT_TYPE": "XNA",
         "CHANNEL_TYPE": "Country-wide",
         "SELLERPLACE_AREA": 35,
         "NAME_SELLER_INDUSTRY": "Connectivity",
         "CNT_PAYMENT": 12,
         "NAME_YIELD_GROUP": "middle",
         "PRODUCT_COMBINATION": "POS mobile with interest",
         "DAYS_FIRST_DRAWING": 365243,
         "DAYS_FIRST_DUE": -42,
         "DAYS_LAST_DUE_1ST_VERSION": 300,
         "DAYS_LAST_DUE": -42,
         "DAYS_TERMINATION": -37,
         "NFLAG_INSURED_ON_APPROVAL": 0,
         "_deepnote_index_column": 0
        },
        {
         "SK_ID_PREV": 2802425,
         "SK_ID_CURR": 108129,
         "NAME_CONTRACT_TYPE": "Cash loans",
         "AMT_ANNUITY": 25188.615,
         "AMT_APPLICATION": 607500,
         "AMT_CREDIT": 679671,
         "AMT_DOWN_PAYMENT": "nan",
         "AMT_GOODS_PRICE": 607500,
         "WEEKDAY_APPR_PROCESS_START": "THURSDAY",
         "HOUR_APPR_PROCESS_START": 11,
         "FLAG_LAST_APPL_PER_CONTRACT": "Y",
         "NFLAG_LAST_APPL_IN_DAY": 1,
         "RATE_DOWN_PAYMENT": "nan",
         "RATE_INTEREST_PRIMARY": "nan",
         "RATE_INTEREST_PRIVILEGED": "nan",
         "NAME_CASH_LOAN_PURPOSE": "XNA",
         "NAME_CONTRACT_STATUS": "Approved",
         "DAYS_DECISION": -164,
         "NAME_PAYMENT_TYPE": "XNA",
         "CODE_REJECT_REASON": "XAP",
         "NAME_TYPE_SUITE": "Unaccompanied",
         "NAME_CLIENT_TYPE": "Repeater",
         "NAME_GOODS_CATEGORY": "XNA",
         "NAME_PORTFOLIO": "Cash",
         "NAME_PRODUCT_TYPE": "x-sell",
         "CHANNEL_TYPE": "Contact center",
         "SELLERPLACE_AREA": -1,
         "NAME_SELLER_INDUSTRY": "XNA",
         "CNT_PAYMENT": 36,
         "NAME_YIELD_GROUP": "low_action",
         "PRODUCT_COMBINATION": "Cash X-Sell: low",
         "DAYS_FIRST_DRAWING": 365243,
         "DAYS_FIRST_DUE": -134,
         "DAYS_LAST_DUE_1ST_VERSION": 916,
         "DAYS_LAST_DUE": 365243,
         "DAYS_TERMINATION": 365243,
         "NFLAG_INSURED_ON_APPROVAL": 1,
         "_deepnote_index_column": 1
        },
        {
         "SK_ID_PREV": 2523466,
         "SK_ID_CURR": 122040,
         "NAME_CONTRACT_TYPE": "Cash loans",
         "AMT_ANNUITY": 15060.735,
         "AMT_APPLICATION": 112500,
         "AMT_CREDIT": 136444.5,
         "AMT_DOWN_PAYMENT": "nan",
         "AMT_GOODS_PRICE": 112500,
         "WEEKDAY_APPR_PROCESS_START": "TUESDAY",
         "HOUR_APPR_PROCESS_START": 11,
         "FLAG_LAST_APPL_PER_CONTRACT": "Y",
         "NFLAG_LAST_APPL_IN_DAY": 1,
         "RATE_DOWN_PAYMENT": "nan",
         "RATE_INTEREST_PRIMARY": "nan",
         "RATE_INTEREST_PRIVILEGED": "nan",
         "NAME_CASH_LOAN_PURPOSE": "XNA",
         "NAME_CONTRACT_STATUS": "Approved",
         "DAYS_DECISION": -301,
         "NAME_PAYMENT_TYPE": "Cash through the bank",
         "CODE_REJECT_REASON": "XAP",
         "NAME_TYPE_SUITE": "Spouse, partner",
         "NAME_CLIENT_TYPE": "Repeater",
         "NAME_GOODS_CATEGORY": "XNA",
         "NAME_PORTFOLIO": "Cash",
         "NAME_PRODUCT_TYPE": "x-sell",
         "CHANNEL_TYPE": "Credit and cash offices",
         "SELLERPLACE_AREA": -1,
         "NAME_SELLER_INDUSTRY": "XNA",
         "CNT_PAYMENT": 12,
         "NAME_YIELD_GROUP": "high",
         "PRODUCT_COMBINATION": "Cash X-Sell: high",
         "DAYS_FIRST_DRAWING": 365243,
         "DAYS_FIRST_DUE": -271,
         "DAYS_LAST_DUE_1ST_VERSION": 59,
         "DAYS_LAST_DUE": 365243,
         "DAYS_TERMINATION": 365243,
         "NFLAG_INSURED_ON_APPROVAL": 1,
         "_deepnote_index_column": 2
        },
        {
         "SK_ID_PREV": 2819243,
         "SK_ID_CURR": 176158,
         "NAME_CONTRACT_TYPE": "Cash loans",
         "AMT_ANNUITY": 47041.335,
         "AMT_APPLICATION": 450000,
         "AMT_CREDIT": 470790,
         "AMT_DOWN_PAYMENT": "nan",
         "AMT_GOODS_PRICE": 450000,
         "WEEKDAY_APPR_PROCESS_START": "MONDAY",
         "HOUR_APPR_PROCESS_START": 7,
         "FLAG_LAST_APPL_PER_CONTRACT": "Y",
         "NFLAG_LAST_APPL_IN_DAY": 1,
         "RATE_DOWN_PAYMENT": "nan",
         "RATE_INTEREST_PRIMARY": "nan",
         "RATE_INTEREST_PRIVILEGED": "nan",
         "NAME_CASH_LOAN_PURPOSE": "XNA",
         "NAME_CONTRACT_STATUS": "Approved",
         "DAYS_DECISION": -512,
         "NAME_PAYMENT_TYPE": "Cash through the bank",
         "CODE_REJECT_REASON": "XAP",
         "NAME_TYPE_SUITE": "nan",
         "NAME_CLIENT_TYPE": "Repeater",
         "NAME_GOODS_CATEGORY": "XNA",
         "NAME_PORTFOLIO": "Cash",
         "NAME_PRODUCT_TYPE": "x-sell",
         "CHANNEL_TYPE": "Credit and cash offices",
         "SELLERPLACE_AREA": -1,
         "NAME_SELLER_INDUSTRY": "XNA",
         "CNT_PAYMENT": 12,
         "NAME_YIELD_GROUP": "middle",
         "PRODUCT_COMBINATION": "Cash X-Sell: middle",
         "DAYS_FIRST_DRAWING": 365243,
         "DAYS_FIRST_DUE": -482,
         "DAYS_LAST_DUE_1ST_VERSION": -152,
         "DAYS_LAST_DUE": -182,
         "DAYS_TERMINATION": -177,
         "NFLAG_INSURED_ON_APPROVAL": 1,
         "_deepnote_index_column": 3
        },
        {
         "SK_ID_PREV": 1784265,
         "SK_ID_CURR": 202054,
         "NAME_CONTRACT_TYPE": "Cash loans",
         "AMT_ANNUITY": 31924.395,
         "AMT_APPLICATION": 337500,
         "AMT_CREDIT": 404055,
         "AMT_DOWN_PAYMENT": "nan",
         "AMT_GOODS_PRICE": 337500,
         "WEEKDAY_APPR_PROCESS_START": "THURSDAY",
         "HOUR_APPR_PROCESS_START": 9,
         "FLAG_LAST_APPL_PER_CONTRACT": "Y",
         "NFLAG_LAST_APPL_IN_DAY": 1,
         "RATE_DOWN_PAYMENT": "nan",
         "RATE_INTEREST_PRIMARY": "nan",
         "RATE_INTEREST_PRIVILEGED": "nan",
         "NAME_CASH_LOAN_PURPOSE": "Repairs",
         "NAME_CONTRACT_STATUS": "Refused",
         "DAYS_DECISION": -781,
         "NAME_PAYMENT_TYPE": "Cash through the bank",
         "CODE_REJECT_REASON": "HC",
         "NAME_TYPE_SUITE": "nan",
         "NAME_CLIENT_TYPE": "Repeater",
         "NAME_GOODS_CATEGORY": "XNA",
         "NAME_PORTFOLIO": "Cash",
         "NAME_PRODUCT_TYPE": "walk-in",
         "CHANNEL_TYPE": "Credit and cash offices",
         "SELLERPLACE_AREA": -1,
         "NAME_SELLER_INDUSTRY": "XNA",
         "CNT_PAYMENT": 24,
         "NAME_YIELD_GROUP": "high",
         "PRODUCT_COMBINATION": "Cash Street: high",
         "DAYS_FIRST_DRAWING": "nan",
         "DAYS_FIRST_DUE": "nan",
         "DAYS_LAST_DUE_1ST_VERSION": "nan",
         "DAYS_LAST_DUE": "nan",
         "DAYS_TERMINATION": "nan",
         "NFLAG_INSURED_ON_APPROVAL": "nan",
         "_deepnote_index_column": 4
        }
       ],
       "rows_bottom": null
      },
      "text/plain": "   SK_ID_PREV  SK_ID_CURR NAME_CONTRACT_TYPE  AMT_ANNUITY  AMT_APPLICATION  \\\n0     2030495      271877     Consumer loans     1730.430          17145.0   \n1     2802425      108129         Cash loans    25188.615         607500.0   \n2     2523466      122040         Cash loans    15060.735         112500.0   \n3     2819243      176158         Cash loans    47041.335         450000.0   \n4     1784265      202054         Cash loans    31924.395         337500.0   \n\n   AMT_CREDIT  AMT_DOWN_PAYMENT  AMT_GOODS_PRICE WEEKDAY_APPR_PROCESS_START  \\\n0     17145.0               0.0          17145.0                   SATURDAY   \n1    679671.0               NaN         607500.0                   THURSDAY   \n2    136444.5               NaN         112500.0                    TUESDAY   \n3    470790.0               NaN         450000.0                     MONDAY   \n4    404055.0               NaN         337500.0                   THURSDAY   \n\n   HOUR_APPR_PROCESS_START  ... NAME_SELLER_INDUSTRY  CNT_PAYMENT  \\\n0                       15  ...         Connectivity         12.0   \n1                       11  ...                  XNA         36.0   \n2                       11  ...                  XNA         12.0   \n3                        7  ...                  XNA         12.0   \n4                        9  ...                  XNA         24.0   \n\n   NAME_YIELD_GROUP       PRODUCT_COMBINATION  DAYS_FIRST_DRAWING  \\\n0            middle  POS mobile with interest            365243.0   \n1        low_action          Cash X-Sell: low            365243.0   \n2              high         Cash X-Sell: high            365243.0   \n3            middle       Cash X-Sell: middle            365243.0   \n4              high         Cash Street: high                 NaN   \n\n  DAYS_FIRST_DUE DAYS_LAST_DUE_1ST_VERSION  DAYS_LAST_DUE DAYS_TERMINATION  \\\n0          -42.0                     300.0          -42.0            -37.0   \n1         -134.0                     916.0       365243.0         365243.0   \n2         -271.0                      59.0       365243.0         365243.0   \n3         -482.0                    -152.0         -182.0           -177.0   \n4            NaN                       NaN            NaN              NaN   \n\n  NFLAG_INSURED_ON_APPROVAL  \n0                       0.0  \n1                       1.0  \n2                       1.0  \n3                       1.0  \n4                       NaN  \n\n[5 rows x 37 columns]",
      "text/html": "<div>\n<style scoped>\n    .dataframe tbody tr th:only-of-type {\n        vertical-align: middle;\n    }\n\n    .dataframe tbody tr th {\n        vertical-align: top;\n    }\n\n    .dataframe thead th {\n        text-align: right;\n    }\n</style>\n<table border=\"1\" class=\"dataframe\">\n  <thead>\n    <tr style=\"text-align: right;\">\n      <th></th>\n      <th>SK_ID_PREV</th>\n      <th>SK_ID_CURR</th>\n      <th>NAME_CONTRACT_TYPE</th>\n      <th>AMT_ANNUITY</th>\n      <th>AMT_APPLICATION</th>\n      <th>AMT_CREDIT</th>\n      <th>AMT_DOWN_PAYMENT</th>\n      <th>AMT_GOODS_PRICE</th>\n      <th>WEEKDAY_APPR_PROCESS_START</th>\n      <th>HOUR_APPR_PROCESS_START</th>\n      <th>...</th>\n      <th>NAME_SELLER_INDUSTRY</th>\n      <th>CNT_PAYMENT</th>\n      <th>NAME_YIELD_GROUP</th>\n      <th>PRODUCT_COMBINATION</th>\n      <th>DAYS_FIRST_DRAWING</th>\n      <th>DAYS_FIRST_DUE</th>\n      <th>DAYS_LAST_DUE_1ST_VERSION</th>\n      <th>DAYS_LAST_DUE</th>\n      <th>DAYS_TERMINATION</th>\n      <th>NFLAG_INSURED_ON_APPROVAL</th>\n    </tr>\n  </thead>\n  <tbody>\n    <tr>\n      <th>0</th>\n      <td>2030495</td>\n      <td>271877</td>\n      <td>Consumer loans</td>\n      <td>1730.430</td>\n      <td>17145.0</td>\n      <td>17145.0</td>\n      <td>0.0</td>\n      <td>17145.0</td>\n      <td>SATURDAY</td>\n      <td>15</td>\n      <td>...</td>\n      <td>Connectivity</td>\n      <td>12.0</td>\n      <td>middle</td>\n      <td>POS mobile with interest</td>\n      <td>365243.0</td>\n      <td>-42.0</td>\n      <td>300.0</td>\n      <td>-42.0</td>\n      <td>-37.0</td>\n      <td>0.0</td>\n    </tr>\n    <tr>\n      <th>1</th>\n      <td>2802425</td>\n      <td>108129</td>\n      <td>Cash loans</td>\n      <td>25188.615</td>\n      <td>607500.0</td>\n      <td>679671.0</td>\n      <td>NaN</td>\n      <td>607500.0</td>\n      <td>THURSDAY</td>\n      <td>11</td>\n      <td>...</td>\n      <td>XNA</td>\n      <td>36.0</td>\n      <td>low_action</td>\n      <td>Cash X-Sell: low</td>\n      <td>365243.0</td>\n      <td>-134.0</td>\n      <td>916.0</td>\n      <td>365243.0</td>\n      <td>365243.0</td>\n      <td>1.0</td>\n    </tr>\n    <tr>\n      <th>2</th>\n      <td>2523466</td>\n      <td>122040</td>\n      <td>Cash loans</td>\n      <td>15060.735</td>\n      <td>112500.0</td>\n      <td>136444.5</td>\n      <td>NaN</td>\n      <td>112500.0</td>\n      <td>TUESDAY</td>\n      <td>11</td>\n      <td>...</td>\n      <td>XNA</td>\n      <td>12.0</td>\n      <td>high</td>\n      <td>Cash X-Sell: high</td>\n      <td>365243.0</td>\n      <td>-271.0</td>\n      <td>59.0</td>\n      <td>365243.0</td>\n      <td>365243.0</td>\n      <td>1.0</td>\n    </tr>\n    <tr>\n      <th>3</th>\n      <td>2819243</td>\n      <td>176158</td>\n      <td>Cash loans</td>\n      <td>47041.335</td>\n      <td>450000.0</td>\n      <td>470790.0</td>\n      <td>NaN</td>\n      <td>450000.0</td>\n      <td>MONDAY</td>\n      <td>7</td>\n      <td>...</td>\n      <td>XNA</td>\n      <td>12.0</td>\n      <td>middle</td>\n      <td>Cash X-Sell: middle</td>\n      <td>365243.0</td>\n      <td>-482.0</td>\n      <td>-152.0</td>\n      <td>-182.0</td>\n      <td>-177.0</td>\n      <td>1.0</td>\n    </tr>\n    <tr>\n      <th>4</th>\n      <td>1784265</td>\n      <td>202054</td>\n      <td>Cash loans</td>\n      <td>31924.395</td>\n      <td>337500.0</td>\n      <td>404055.0</td>\n      <td>NaN</td>\n      <td>337500.0</td>\n      <td>THURSDAY</td>\n      <td>9</td>\n      <td>...</td>\n      <td>XNA</td>\n      <td>24.0</td>\n      <td>high</td>\n      <td>Cash Street: high</td>\n      <td>NaN</td>\n      <td>NaN</td>\n      <td>NaN</td>\n      <td>NaN</td>\n      <td>NaN</td>\n      <td>NaN</td>\n    </tr>\n  </tbody>\n</table>\n<p>5 rows × 37 columns</p>\n</div>"
     },
     "metadata": {}
    }
   ]
  },
  {
   "cell_type": "code",
   "metadata": {
    "tags": [],
    "cell_id": "00004-7c63fab5-d6f9-4421-95cb-257908380d9e",
    "deepnote_to_be_reexecuted": false,
    "source_hash": "bed59b22",
    "execution_start": 1628274955555,
    "execution_millis": 155,
    "deepnote_cell_type": "code"
   },
   "source": "prev_app.NAME_CONTRACT_STATUS.value_counts()",
   "execution_count": 4,
   "outputs": [
    {
     "output_type": "execute_result",
     "execution_count": 4,
     "data": {
      "text/plain": "Approved        1036781\nCanceled         316319\nRefused          290678\nUnused offer      26436\nName: NAME_CONTRACT_STATUS, dtype: int64"
     },
     "metadata": {}
    }
   ]
  },
  {
   "cell_type": "code",
   "metadata": {
    "tags": [],
    "cell_id": "00005-82b5c99b-7506-49a9-a57d-d2aacd42f1ab",
    "deepnote_to_be_reexecuted": false,
    "source_hash": "cd3c4008",
    "execution_start": 1628274955712,
    "execution_millis": 114,
    "deepnote_cell_type": "code"
   },
   "source": "# Were current customers approved for a previous loan?\nprint(app_train.SK_ID_CURR.isin(prev_app.SK_ID_CURR).value_counts())\nprint(app_test.SK_ID_CURR.isin(prev_app.SK_ID_CURR).value_counts())",
   "execution_count": 5,
   "outputs": [
    {
     "name": "stdout",
     "text": "True     291057\nFalse     16454\nName: SK_ID_CURR, dtype: int64\nTrue     47800\nFalse      944\nName: SK_ID_CURR, dtype: int64\n",
     "output_type": "stream"
    }
   ]
  },
  {
   "cell_type": "markdown",
   "source": "Not everyone has previously applied for a credit line from Home Credit thus there are quite a few new borrowers, 16454 in fact. Makes sense given the areas Home Credit usually services, meaning since they primarily service Asian countries which tend to be largely cash based blah blah something about them not really using banks and there being the potential for a lot of new customers for lenders (emerging new markets).",
   "metadata": {
    "tags": [],
    "cell_id": "00005-55e1fcd3-1338-4817-ba34-6ead884c11d0",
    "deepnote_cell_type": "markdown"
   },
   "outputs": [],
   "execution_count": null
  },
  {
   "cell_type": "code",
   "metadata": {
    "tags": [],
    "cell_id": "00008-2218405f-be63-414c-8fa4-ea29458adf24",
    "deepnote_to_be_reexecuted": false,
    "source_hash": "a7cb0658",
    "execution_start": 1628274955823,
    "execution_millis": 192,
    "deepnote_cell_type": "code"
   },
   "source": "# How many have the current customers applied for loans before? What is their approval rate?\napproval_rate = prev_app.groupby(\"SK_ID_CURR\").NAME_CONTRACT_STATUS.agg(total_apps = \"count\").reset_index()\napproval_rate.total_apps",
   "execution_count": 6,
   "outputs": [
    {
     "output_type": "execute_result",
     "execution_count": 6,
     "data": {
      "text/plain": "0         1\n1         1\n2         3\n3         1\n4         2\n         ..\n338852    1\n338853    1\n338854    2\n338855    2\n338856    8\nName: total_apps, Length: 338857, dtype: int64"
     },
     "metadata": {}
    }
   ]
  },
  {
   "cell_type": "code",
   "metadata": {
    "tags": [],
    "cell_id": "00009-c2adecc0-d7c4-41ae-a7dd-8ea42cf7b0b3",
    "deepnote_to_be_reexecuted": false,
    "source_hash": "7d7e5bda",
    "execution_start": 1628275924338,
    "execution_millis": 5546,
    "deepnote_cell_type": "code"
   },
   "source": "approval_rate = pd.pivot_table(prev_app, index = [\"SK_ID_CURR\"], columns = [\"NAME_CONTRACT_STATUS\"], values = \"AMT_ANNUITY\", aggfunc = len, fill_value=0)",
   "execution_count": 27,
   "outputs": []
  },
  {
   "cell_type": "code",
   "source": "rates = approval_rate.apply(lambda x: x/sum(x), axis = 1)\nrates.columns = rates.columns + \"_rate\"",
   "metadata": {
    "tags": [],
    "cell_id": "00008-fabcb2fb-789b-4960-bcc4-0e351924300e",
    "deepnote_to_be_reexecuted": false,
    "source_hash": "38e6232e",
    "execution_start": 1628275621146,
    "execution_millis": 63898,
    "deepnote_cell_type": "code"
   },
   "outputs": [],
   "execution_count": 20
  },
  {
   "cell_type": "code",
   "metadata": {
    "tags": [],
    "cell_id": "00012-61912df0-810a-472b-8d35-4a2d89f52f71",
    "deepnote_to_be_reexecuted": false,
    "source_hash": "c7ecaf5b",
    "execution_start": 1628275929889,
    "execution_millis": 16,
    "deepnote_cell_type": "code"
   },
   "source": "approval_rate[\"total_apps\"] = approval_rate.sum(axis = 1)\napproval_rate\napproval_rate = approval_rate.join(rates)",
   "execution_count": 28,
   "outputs": []
  },
  {
   "cell_type": "code",
   "metadata": {
    "tags": [],
    "cell_id": "00013-b4807abd-ca33-4f88-bda3-f8aea4e126fb",
    "deepnote_to_be_reexecuted": false,
    "source_hash": "66371e27",
    "execution_start": 1628275935379,
    "execution_millis": 31,
    "deepnote_cell_type": "code"
   },
   "source": "approval_rate.head()",
   "execution_count": 29,
   "outputs": [
    {
     "output_type": "execute_result",
     "execution_count": 29,
     "data": {
      "application/vnd.deepnote.dataframe.v2+json": {
       "row_count": 5,
       "column_count": 9,
       "columns": [
        {
         "name": "Approved",
         "dtype": "int64",
         "stats": {
          "unique_count": 2,
          "nan_count": 0,
          "min": "1",
          "max": "3",
          "histogram": [
           {
            "bin_start": 1,
            "bin_end": 1.2,
            "count": 4
           },
           {
            "bin_start": 1.2,
            "bin_end": 1.4,
            "count": 0
           },
           {
            "bin_start": 1.4,
            "bin_end": 1.6,
            "count": 0
           },
           {
            "bin_start": 1.6,
            "bin_end": 1.8,
            "count": 0
           },
           {
            "bin_start": 1.8,
            "bin_end": 2,
            "count": 0
           },
           {
            "bin_start": 2,
            "bin_end": 2.2,
            "count": 0
           },
           {
            "bin_start": 2.2,
            "bin_end": 2.4000000000000004,
            "count": 0
           },
           {
            "bin_start": 2.4000000000000004,
            "bin_end": 2.6,
            "count": 0
           },
           {
            "bin_start": 2.6,
            "bin_end": 2.8,
            "count": 0
           },
           {
            "bin_start": 2.8,
            "bin_end": 3,
            "count": 1
           }
          ]
         }
        },
        {
         "name": "Canceled",
         "dtype": "int64",
         "stats": {
          "unique_count": 2,
          "nan_count": 0,
          "min": "0",
          "max": "1",
          "histogram": [
           {
            "bin_start": 0,
            "bin_end": 0.1,
            "count": 4
           },
           {
            "bin_start": 0.1,
            "bin_end": 0.2,
            "count": 0
           },
           {
            "bin_start": 0.2,
            "bin_end": 0.30000000000000004,
            "count": 0
           },
           {
            "bin_start": 0.30000000000000004,
            "bin_end": 0.4,
            "count": 0
           },
           {
            "bin_start": 0.4,
            "bin_end": 0.5,
            "count": 0
           },
           {
            "bin_start": 0.5,
            "bin_end": 0.6000000000000001,
            "count": 0
           },
           {
            "bin_start": 0.6000000000000001,
            "bin_end": 0.7000000000000001,
            "count": 0
           },
           {
            "bin_start": 0.7000000000000001,
            "bin_end": 0.8,
            "count": 0
           },
           {
            "bin_start": 0.8,
            "bin_end": 0.9,
            "count": 0
           },
           {
            "bin_start": 0.9,
            "bin_end": 1,
            "count": 1
           }
          ]
         }
        },
        {
         "name": "Refused",
         "dtype": "int64",
         "stats": {
          "unique_count": 1,
          "nan_count": 0,
          "min": "0",
          "max": "0",
          "histogram": [
           {
            "bin_start": -0.5,
            "bin_end": -0.4,
            "count": 0
           },
           {
            "bin_start": -0.4,
            "bin_end": -0.3,
            "count": 0
           },
           {
            "bin_start": -0.3,
            "bin_end": -0.19999999999999996,
            "count": 0
           },
           {
            "bin_start": -0.19999999999999996,
            "bin_end": -0.09999999999999998,
            "count": 0
           },
           {
            "bin_start": -0.09999999999999998,
            "bin_end": 0,
            "count": 0
           },
           {
            "bin_start": 0,
            "bin_end": 0.10000000000000009,
            "count": 5
           },
           {
            "bin_start": 0.10000000000000009,
            "bin_end": 0.20000000000000007,
            "count": 0
           },
           {
            "bin_start": 0.20000000000000007,
            "bin_end": 0.30000000000000004,
            "count": 0
           },
           {
            "bin_start": 0.30000000000000004,
            "bin_end": 0.4,
            "count": 0
           },
           {
            "bin_start": 0.4,
            "bin_end": 0.5,
            "count": 0
           }
          ]
         }
        },
        {
         "name": "Unused offer",
         "dtype": "int64",
         "stats": {
          "unique_count": 1,
          "nan_count": 0,
          "min": "0",
          "max": "0",
          "histogram": [
           {
            "bin_start": -0.5,
            "bin_end": -0.4,
            "count": 0
           },
           {
            "bin_start": -0.4,
            "bin_end": -0.3,
            "count": 0
           },
           {
            "bin_start": -0.3,
            "bin_end": -0.19999999999999996,
            "count": 0
           },
           {
            "bin_start": -0.19999999999999996,
            "bin_end": -0.09999999999999998,
            "count": 0
           },
           {
            "bin_start": -0.09999999999999998,
            "bin_end": 0,
            "count": 0
           },
           {
            "bin_start": 0,
            "bin_end": 0.10000000000000009,
            "count": 5
           },
           {
            "bin_start": 0.10000000000000009,
            "bin_end": 0.20000000000000007,
            "count": 0
           },
           {
            "bin_start": 0.20000000000000007,
            "bin_end": 0.30000000000000004,
            "count": 0
           },
           {
            "bin_start": 0.30000000000000004,
            "bin_end": 0.4,
            "count": 0
           },
           {
            "bin_start": 0.4,
            "bin_end": 0.5,
            "count": 0
           }
          ]
         }
        },
        {
         "name": "total_apps",
         "dtype": "int64",
         "stats": {
          "unique_count": 3,
          "nan_count": 0,
          "min": "1",
          "max": "3",
          "histogram": [
           {
            "bin_start": 1,
            "bin_end": 1.2,
            "count": 3
           },
           {
            "bin_start": 1.2,
            "bin_end": 1.4,
            "count": 0
           },
           {
            "bin_start": 1.4,
            "bin_end": 1.6,
            "count": 0
           },
           {
            "bin_start": 1.6,
            "bin_end": 1.8,
            "count": 0
           },
           {
            "bin_start": 1.8,
            "bin_end": 2,
            "count": 0
           },
           {
            "bin_start": 2,
            "bin_end": 2.2,
            "count": 1
           },
           {
            "bin_start": 2.2,
            "bin_end": 2.4000000000000004,
            "count": 0
           },
           {
            "bin_start": 2.4000000000000004,
            "bin_end": 2.6,
            "count": 0
           },
           {
            "bin_start": 2.6,
            "bin_end": 2.8,
            "count": 0
           },
           {
            "bin_start": 2.8,
            "bin_end": 3,
            "count": 1
           }
          ]
         }
        },
        {
         "name": "Approved_rate",
         "dtype": "float64",
         "stats": {
          "unique_count": 2,
          "nan_count": 0,
          "min": "0.5",
          "max": "1.0",
          "histogram": [
           {
            "bin_start": 0.5,
            "bin_end": 0.55,
            "count": 1
           },
           {
            "bin_start": 0.55,
            "bin_end": 0.6,
            "count": 0
           },
           {
            "bin_start": 0.6,
            "bin_end": 0.65,
            "count": 0
           },
           {
            "bin_start": 0.65,
            "bin_end": 0.7,
            "count": 0
           },
           {
            "bin_start": 0.7,
            "bin_end": 0.75,
            "count": 0
           },
           {
            "bin_start": 0.75,
            "bin_end": 0.8,
            "count": 0
           },
           {
            "bin_start": 0.8,
            "bin_end": 0.8500000000000001,
            "count": 0
           },
           {
            "bin_start": 0.8500000000000001,
            "bin_end": 0.9,
            "count": 0
           },
           {
            "bin_start": 0.9,
            "bin_end": 0.95,
            "count": 0
           },
           {
            "bin_start": 0.95,
            "bin_end": 1,
            "count": 4
           }
          ]
         }
        },
        {
         "name": "Canceled_rate",
         "dtype": "float64",
         "stats": {
          "unique_count": 2,
          "nan_count": 0,
          "min": "0.0",
          "max": "0.5",
          "histogram": [
           {
            "bin_start": 0,
            "bin_end": 0.05,
            "count": 4
           },
           {
            "bin_start": 0.05,
            "bin_end": 0.1,
            "count": 0
           },
           {
            "bin_start": 0.1,
            "bin_end": 0.15000000000000002,
            "count": 0
           },
           {
            "bin_start": 0.15000000000000002,
            "bin_end": 0.2,
            "count": 0
           },
           {
            "bin_start": 0.2,
            "bin_end": 0.25,
            "count": 0
           },
           {
            "bin_start": 0.25,
            "bin_end": 0.30000000000000004,
            "count": 0
           },
           {
            "bin_start": 0.30000000000000004,
            "bin_end": 0.35000000000000003,
            "count": 0
           },
           {
            "bin_start": 0.35000000000000003,
            "bin_end": 0.4,
            "count": 0
           },
           {
            "bin_start": 0.4,
            "bin_end": 0.45,
            "count": 0
           },
           {
            "bin_start": 0.45,
            "bin_end": 0.5,
            "count": 1
           }
          ]
         }
        },
        {
         "name": "Refused_rate",
         "dtype": "float64",
         "stats": {
          "unique_count": 1,
          "nan_count": 0,
          "min": "0.0",
          "max": "0.0",
          "histogram": [
           {
            "bin_start": -0.5,
            "bin_end": -0.4,
            "count": 0
           },
           {
            "bin_start": -0.4,
            "bin_end": -0.3,
            "count": 0
           },
           {
            "bin_start": -0.3,
            "bin_end": -0.19999999999999996,
            "count": 0
           },
           {
            "bin_start": -0.19999999999999996,
            "bin_end": -0.09999999999999998,
            "count": 0
           },
           {
            "bin_start": -0.09999999999999998,
            "bin_end": 0,
            "count": 0
           },
           {
            "bin_start": 0,
            "bin_end": 0.10000000000000009,
            "count": 5
           },
           {
            "bin_start": 0.10000000000000009,
            "bin_end": 0.20000000000000007,
            "count": 0
           },
           {
            "bin_start": 0.20000000000000007,
            "bin_end": 0.30000000000000004,
            "count": 0
           },
           {
            "bin_start": 0.30000000000000004,
            "bin_end": 0.4,
            "count": 0
           },
           {
            "bin_start": 0.4,
            "bin_end": 0.5,
            "count": 0
           }
          ]
         }
        },
        {
         "name": "Unused offer_rate",
         "dtype": "float64",
         "stats": {
          "unique_count": 1,
          "nan_count": 0,
          "min": "0.0",
          "max": "0.0",
          "histogram": [
           {
            "bin_start": -0.5,
            "bin_end": -0.4,
            "count": 0
           },
           {
            "bin_start": -0.4,
            "bin_end": -0.3,
            "count": 0
           },
           {
            "bin_start": -0.3,
            "bin_end": -0.19999999999999996,
            "count": 0
           },
           {
            "bin_start": -0.19999999999999996,
            "bin_end": -0.09999999999999998,
            "count": 0
           },
           {
            "bin_start": -0.09999999999999998,
            "bin_end": 0,
            "count": 0
           },
           {
            "bin_start": 0,
            "bin_end": 0.10000000000000009,
            "count": 5
           },
           {
            "bin_start": 0.10000000000000009,
            "bin_end": 0.20000000000000007,
            "count": 0
           },
           {
            "bin_start": 0.20000000000000007,
            "bin_end": 0.30000000000000004,
            "count": 0
           },
           {
            "bin_start": 0.30000000000000004,
            "bin_end": 0.4,
            "count": 0
           },
           {
            "bin_start": 0.4,
            "bin_end": 0.5,
            "count": 0
           }
          ]
         }
        },
        {
         "name": "_deepnote_index_column",
         "dtype": "int64"
        }
       ],
       "rows_top": [
        {
         "Approved": 1,
         "Canceled": 0,
         "Refused": 0,
         "Unused offer": 0,
         "total_apps": 1,
         "Approved_rate": 1,
         "Canceled_rate": 0,
         "Refused_rate": 0,
         "Unused offer_rate": 0,
         "_deepnote_index_column": 100001
        },
        {
         "Approved": 1,
         "Canceled": 0,
         "Refused": 0,
         "Unused offer": 0,
         "total_apps": 1,
         "Approved_rate": 1,
         "Canceled_rate": 0,
         "Refused_rate": 0,
         "Unused offer_rate": 0,
         "_deepnote_index_column": 100002
        },
        {
         "Approved": 3,
         "Canceled": 0,
         "Refused": 0,
         "Unused offer": 0,
         "total_apps": 3,
         "Approved_rate": 1,
         "Canceled_rate": 0,
         "Refused_rate": 0,
         "Unused offer_rate": 0,
         "_deepnote_index_column": 100003
        },
        {
         "Approved": 1,
         "Canceled": 0,
         "Refused": 0,
         "Unused offer": 0,
         "total_apps": 1,
         "Approved_rate": 1,
         "Canceled_rate": 0,
         "Refused_rate": 0,
         "Unused offer_rate": 0,
         "_deepnote_index_column": 100004
        },
        {
         "Approved": 1,
         "Canceled": 1,
         "Refused": 0,
         "Unused offer": 0,
         "total_apps": 2,
         "Approved_rate": 0.5,
         "Canceled_rate": 0.5,
         "Refused_rate": 0,
         "Unused offer_rate": 0,
         "_deepnote_index_column": 100005
        }
       ],
       "rows_bottom": null
      },
      "text/plain": "NAME_CONTRACT_STATUS  Approved  Canceled  Refused  Unused offer  total_apps  \\\nSK_ID_CURR                                                                    \n100001                       1         0        0             0           1   \n100002                       1         0        0             0           1   \n100003                       3         0        0             0           3   \n100004                       1         0        0             0           1   \n100005                       1         1        0             0           2   \n\nNAME_CONTRACT_STATUS  Approved_rate  Canceled_rate  Refused_rate  \\\nSK_ID_CURR                                                         \n100001                          1.0            0.0           0.0   \n100002                          1.0            0.0           0.0   \n100003                          1.0            0.0           0.0   \n100004                          1.0            0.0           0.0   \n100005                          0.5            0.5           0.0   \n\nNAME_CONTRACT_STATUS  Unused offer_rate  \nSK_ID_CURR                               \n100001                              0.0  \n100002                              0.0  \n100003                              0.0  \n100004                              0.0  \n100005                              0.0  ",
      "text/html": "<div>\n<style scoped>\n    .dataframe tbody tr th:only-of-type {\n        vertical-align: middle;\n    }\n\n    .dataframe tbody tr th {\n        vertical-align: top;\n    }\n\n    .dataframe thead th {\n        text-align: right;\n    }\n</style>\n<table border=\"1\" class=\"dataframe\">\n  <thead>\n    <tr style=\"text-align: right;\">\n      <th>NAME_CONTRACT_STATUS</th>\n      <th>Approved</th>\n      <th>Canceled</th>\n      <th>Refused</th>\n      <th>Unused offer</th>\n      <th>total_apps</th>\n      <th>Approved_rate</th>\n      <th>Canceled_rate</th>\n      <th>Refused_rate</th>\n      <th>Unused offer_rate</th>\n    </tr>\n    <tr>\n      <th>SK_ID_CURR</th>\n      <th></th>\n      <th></th>\n      <th></th>\n      <th></th>\n      <th></th>\n      <th></th>\n      <th></th>\n      <th></th>\n      <th></th>\n    </tr>\n  </thead>\n  <tbody>\n    <tr>\n      <th>100001</th>\n      <td>1</td>\n      <td>0</td>\n      <td>0</td>\n      <td>0</td>\n      <td>1</td>\n      <td>1.0</td>\n      <td>0.0</td>\n      <td>0.0</td>\n      <td>0.0</td>\n    </tr>\n    <tr>\n      <th>100002</th>\n      <td>1</td>\n      <td>0</td>\n      <td>0</td>\n      <td>0</td>\n      <td>1</td>\n      <td>1.0</td>\n      <td>0.0</td>\n      <td>0.0</td>\n      <td>0.0</td>\n    </tr>\n    <tr>\n      <th>100003</th>\n      <td>3</td>\n      <td>0</td>\n      <td>0</td>\n      <td>0</td>\n      <td>3</td>\n      <td>1.0</td>\n      <td>0.0</td>\n      <td>0.0</td>\n      <td>0.0</td>\n    </tr>\n    <tr>\n      <th>100004</th>\n      <td>1</td>\n      <td>0</td>\n      <td>0</td>\n      <td>0</td>\n      <td>1</td>\n      <td>1.0</td>\n      <td>0.0</td>\n      <td>0.0</td>\n      <td>0.0</td>\n    </tr>\n    <tr>\n      <th>100005</th>\n      <td>1</td>\n      <td>1</td>\n      <td>0</td>\n      <td>0</td>\n      <td>2</td>\n      <td>0.5</td>\n      <td>0.5</td>\n      <td>0.0</td>\n      <td>0.0</td>\n    </tr>\n  </tbody>\n</table>\n</div>"
     },
     "metadata": {}
    }
   ]
  },
  {
   "cell_type": "code",
   "metadata": {
    "tags": [],
    "cell_id": "00012-3e2627d3-a8b1-486e-9453-3f343cd5259e",
    "deepnote_to_be_reexecuted": false,
    "source_hash": "1ee6a710",
    "execution_start": 1628276859051,
    "execution_millis": 54,
    "deepnote_cell_type": "code"
   },
   "source": "# prev_applicant_train = \npd.DataFrame(app_train.SK_ID_CURR.isin(prev_app.SK_ID_CURR)).replace({\"True\":1}, {\"False\":0})",
   "execution_count": 52,
   "outputs": [
    {
     "output_type": "execute_result",
     "execution_count": 52,
     "data": {
      "application/vnd.deepnote.dataframe.v2+json": {
       "row_count": 307511,
       "column_count": 1,
       "columns": [
        {
         "name": "SK_ID_CURR",
         "dtype": "bool"
        },
        {
         "name": "_deepnote_index_column",
         "dtype": "int64"
        }
       ],
       "rows_top": [
        {
         "SK_ID_CURR": "True",
         "_deepnote_index_column": 0
        },
        {
         "SK_ID_CURR": "True",
         "_deepnote_index_column": 1
        },
        {
         "SK_ID_CURR": "True",
         "_deepnote_index_column": 2
        },
        {
         "SK_ID_CURR": "True",
         "_deepnote_index_column": 3
        },
        {
         "SK_ID_CURR": "True",
         "_deepnote_index_column": 4
        },
        {
         "SK_ID_CURR": "True",
         "_deepnote_index_column": 5
        },
        {
         "SK_ID_CURR": "True",
         "_deepnote_index_column": 6
        },
        {
         "SK_ID_CURR": "True",
         "_deepnote_index_column": 7
        },
        {
         "SK_ID_CURR": "True",
         "_deepnote_index_column": 8
        },
        {
         "SK_ID_CURR": "True",
         "_deepnote_index_column": 9
        },
        {
         "SK_ID_CURR": "True",
         "_deepnote_index_column": 10
        },
        {
         "SK_ID_CURR": "True",
         "_deepnote_index_column": 11
        },
        {
         "SK_ID_CURR": "True",
         "_deepnote_index_column": 12
        },
        {
         "SK_ID_CURR": "True",
         "_deepnote_index_column": 13
        },
        {
         "SK_ID_CURR": "True",
         "_deepnote_index_column": 14
        },
        {
         "SK_ID_CURR": "True",
         "_deepnote_index_column": 15
        },
        {
         "SK_ID_CURR": "True",
         "_deepnote_index_column": 16
        },
        {
         "SK_ID_CURR": "True",
         "_deepnote_index_column": 17
        },
        {
         "SK_ID_CURR": "True",
         "_deepnote_index_column": 18
        },
        {
         "SK_ID_CURR": "True",
         "_deepnote_index_column": 19
        },
        {
         "SK_ID_CURR": "False",
         "_deepnote_index_column": 20
        },
        {
         "SK_ID_CURR": "True",
         "_deepnote_index_column": 21
        },
        {
         "SK_ID_CURR": "True",
         "_deepnote_index_column": 22
        },
        {
         "SK_ID_CURR": "True",
         "_deepnote_index_column": 23
        },
        {
         "SK_ID_CURR": "True",
         "_deepnote_index_column": 24
        },
        {
         "SK_ID_CURR": "True",
         "_deepnote_index_column": 25
        },
        {
         "SK_ID_CURR": "False",
         "_deepnote_index_column": 26
        },
        {
         "SK_ID_CURR": "True",
         "_deepnote_index_column": 27
        },
        {
         "SK_ID_CURR": "True",
         "_deepnote_index_column": 28
        },
        {
         "SK_ID_CURR": "True",
         "_deepnote_index_column": 29
        },
        {
         "SK_ID_CURR": "True",
         "_deepnote_index_column": 30
        },
        {
         "SK_ID_CURR": "True",
         "_deepnote_index_column": 31
        },
        {
         "SK_ID_CURR": "True",
         "_deepnote_index_column": 32
        },
        {
         "SK_ID_CURR": "True",
         "_deepnote_index_column": 33
        },
        {
         "SK_ID_CURR": "True",
         "_deepnote_index_column": 34
        },
        {
         "SK_ID_CURR": "True",
         "_deepnote_index_column": 35
        },
        {
         "SK_ID_CURR": "True",
         "_deepnote_index_column": 36
        },
        {
         "SK_ID_CURR": "True",
         "_deepnote_index_column": 37
        },
        {
         "SK_ID_CURR": "True",
         "_deepnote_index_column": 38
        },
        {
         "SK_ID_CURR": "True",
         "_deepnote_index_column": 39
        },
        {
         "SK_ID_CURR": "True",
         "_deepnote_index_column": 40
        },
        {
         "SK_ID_CURR": "True",
         "_deepnote_index_column": 41
        },
        {
         "SK_ID_CURR": "True",
         "_deepnote_index_column": 42
        },
        {
         "SK_ID_CURR": "True",
         "_deepnote_index_column": 43
        },
        {
         "SK_ID_CURR": "True",
         "_deepnote_index_column": 44
        },
        {
         "SK_ID_CURR": "True",
         "_deepnote_index_column": 45
        },
        {
         "SK_ID_CURR": "True",
         "_deepnote_index_column": 46
        },
        {
         "SK_ID_CURR": "True",
         "_deepnote_index_column": 47
        },
        {
         "SK_ID_CURR": "True",
         "_deepnote_index_column": 48
        },
        {
         "SK_ID_CURR": "True",
         "_deepnote_index_column": 49
        },
        {
         "SK_ID_CURR": "False",
         "_deepnote_index_column": 50
        },
        {
         "SK_ID_CURR": "True",
         "_deepnote_index_column": 51
        },
        {
         "SK_ID_CURR": "True",
         "_deepnote_index_column": 52
        },
        {
         "SK_ID_CURR": "True",
         "_deepnote_index_column": 53
        },
        {
         "SK_ID_CURR": "True",
         "_deepnote_index_column": 54
        },
        {
         "SK_ID_CURR": "True",
         "_deepnote_index_column": 55
        },
        {
         "SK_ID_CURR": "True",
         "_deepnote_index_column": 56
        },
        {
         "SK_ID_CURR": "True",
         "_deepnote_index_column": 57
        },
        {
         "SK_ID_CURR": "True",
         "_deepnote_index_column": 58
        },
        {
         "SK_ID_CURR": "True",
         "_deepnote_index_column": 59
        },
        {
         "SK_ID_CURR": "True",
         "_deepnote_index_column": 60
        },
        {
         "SK_ID_CURR": "True",
         "_deepnote_index_column": 61
        },
        {
         "SK_ID_CURR": "True",
         "_deepnote_index_column": 62
        },
        {
         "SK_ID_CURR": "True",
         "_deepnote_index_column": 63
        },
        {
         "SK_ID_CURR": "False",
         "_deepnote_index_column": 64
        },
        {
         "SK_ID_CURR": "True",
         "_deepnote_index_column": 65
        },
        {
         "SK_ID_CURR": "True",
         "_deepnote_index_column": 66
        },
        {
         "SK_ID_CURR": "True",
         "_deepnote_index_column": 67
        },
        {
         "SK_ID_CURR": "True",
         "_deepnote_index_column": 68
        },
        {
         "SK_ID_CURR": "True",
         "_deepnote_index_column": 69
        },
        {
         "SK_ID_CURR": "True",
         "_deepnote_index_column": 70
        },
        {
         "SK_ID_CURR": "True",
         "_deepnote_index_column": 71
        },
        {
         "SK_ID_CURR": "True",
         "_deepnote_index_column": 72
        },
        {
         "SK_ID_CURR": "True",
         "_deepnote_index_column": 73
        },
        {
         "SK_ID_CURR": "True",
         "_deepnote_index_column": 74
        },
        {
         "SK_ID_CURR": "True",
         "_deepnote_index_column": 75
        },
        {
         "SK_ID_CURR": "True",
         "_deepnote_index_column": 76
        },
        {
         "SK_ID_CURR": "True",
         "_deepnote_index_column": 77
        },
        {
         "SK_ID_CURR": "True",
         "_deepnote_index_column": 78
        },
        {
         "SK_ID_CURR": "True",
         "_deepnote_index_column": 79
        },
        {
         "SK_ID_CURR": "True",
         "_deepnote_index_column": 80
        },
        {
         "SK_ID_CURR": "False",
         "_deepnote_index_column": 81
        },
        {
         "SK_ID_CURR": "True",
         "_deepnote_index_column": 82
        },
        {
         "SK_ID_CURR": "True",
         "_deepnote_index_column": 83
        },
        {
         "SK_ID_CURR": "True",
         "_deepnote_index_column": 84
        },
        {
         "SK_ID_CURR": "True",
         "_deepnote_index_column": 85
        },
        {
         "SK_ID_CURR": "True",
         "_deepnote_index_column": 86
        },
        {
         "SK_ID_CURR": "False",
         "_deepnote_index_column": 87
        },
        {
         "SK_ID_CURR": "True",
         "_deepnote_index_column": 88
        },
        {
         "SK_ID_CURR": "True",
         "_deepnote_index_column": 89
        },
        {
         "SK_ID_CURR": "True",
         "_deepnote_index_column": 90
        },
        {
         "SK_ID_CURR": "True",
         "_deepnote_index_column": 91
        },
        {
         "SK_ID_CURR": "True",
         "_deepnote_index_column": 92
        },
        {
         "SK_ID_CURR": "True",
         "_deepnote_index_column": 93
        },
        {
         "SK_ID_CURR": "True",
         "_deepnote_index_column": 94
        },
        {
         "SK_ID_CURR": "True",
         "_deepnote_index_column": 95
        },
        {
         "SK_ID_CURR": "True",
         "_deepnote_index_column": 96
        },
        {
         "SK_ID_CURR": "True",
         "_deepnote_index_column": 97
        },
        {
         "SK_ID_CURR": "True",
         "_deepnote_index_column": 98
        },
        {
         "SK_ID_CURR": "True",
         "_deepnote_index_column": 99
        },
        {
         "SK_ID_CURR": "True",
         "_deepnote_index_column": 100
        },
        {
         "SK_ID_CURR": "True",
         "_deepnote_index_column": 101
        },
        {
         "SK_ID_CURR": "True",
         "_deepnote_index_column": 102
        },
        {
         "SK_ID_CURR": "True",
         "_deepnote_index_column": 103
        },
        {
         "SK_ID_CURR": "True",
         "_deepnote_index_column": 104
        },
        {
         "SK_ID_CURR": "True",
         "_deepnote_index_column": 105
        },
        {
         "SK_ID_CURR": "True",
         "_deepnote_index_column": 106
        },
        {
         "SK_ID_CURR": "True",
         "_deepnote_index_column": 107
        },
        {
         "SK_ID_CURR": "True",
         "_deepnote_index_column": 108
        },
        {
         "SK_ID_CURR": "False",
         "_deepnote_index_column": 109
        },
        {
         "SK_ID_CURR": "True",
         "_deepnote_index_column": 110
        },
        {
         "SK_ID_CURR": "True",
         "_deepnote_index_column": 111
        },
        {
         "SK_ID_CURR": "True",
         "_deepnote_index_column": 112
        },
        {
         "SK_ID_CURR": "True",
         "_deepnote_index_column": 113
        },
        {
         "SK_ID_CURR": "False",
         "_deepnote_index_column": 114
        },
        {
         "SK_ID_CURR": "True",
         "_deepnote_index_column": 115
        },
        {
         "SK_ID_CURR": "True",
         "_deepnote_index_column": 116
        },
        {
         "SK_ID_CURR": "True",
         "_deepnote_index_column": 117
        },
        {
         "SK_ID_CURR": "True",
         "_deepnote_index_column": 118
        },
        {
         "SK_ID_CURR": "True",
         "_deepnote_index_column": 119
        },
        {
         "SK_ID_CURR": "False",
         "_deepnote_index_column": 120
        },
        {
         "SK_ID_CURR": "True",
         "_deepnote_index_column": 121
        },
        {
         "SK_ID_CURR": "True",
         "_deepnote_index_column": 122
        },
        {
         "SK_ID_CURR": "True",
         "_deepnote_index_column": 123
        },
        {
         "SK_ID_CURR": "True",
         "_deepnote_index_column": 124
        },
        {
         "SK_ID_CURR": "True",
         "_deepnote_index_column": 125
        },
        {
         "SK_ID_CURR": "True",
         "_deepnote_index_column": 126
        },
        {
         "SK_ID_CURR": "True",
         "_deepnote_index_column": 127
        },
        {
         "SK_ID_CURR": "True",
         "_deepnote_index_column": 128
        },
        {
         "SK_ID_CURR": "True",
         "_deepnote_index_column": 129
        },
        {
         "SK_ID_CURR": "True",
         "_deepnote_index_column": 130
        },
        {
         "SK_ID_CURR": "True",
         "_deepnote_index_column": 131
        },
        {
         "SK_ID_CURR": "True",
         "_deepnote_index_column": 132
        },
        {
         "SK_ID_CURR": "True",
         "_deepnote_index_column": 133
        },
        {
         "SK_ID_CURR": "True",
         "_deepnote_index_column": 134
        },
        {
         "SK_ID_CURR": "True",
         "_deepnote_index_column": 135
        },
        {
         "SK_ID_CURR": "True",
         "_deepnote_index_column": 136
        },
        {
         "SK_ID_CURR": "True",
         "_deepnote_index_column": 137
        },
        {
         "SK_ID_CURR": "True",
         "_deepnote_index_column": 138
        },
        {
         "SK_ID_CURR": "True",
         "_deepnote_index_column": 139
        },
        {
         "SK_ID_CURR": "True",
         "_deepnote_index_column": 140
        },
        {
         "SK_ID_CURR": "True",
         "_deepnote_index_column": 141
        },
        {
         "SK_ID_CURR": "True",
         "_deepnote_index_column": 142
        },
        {
         "SK_ID_CURR": "True",
         "_deepnote_index_column": 143
        },
        {
         "SK_ID_CURR": "True",
         "_deepnote_index_column": 144
        },
        {
         "SK_ID_CURR": "True",
         "_deepnote_index_column": 145
        },
        {
         "SK_ID_CURR": "True",
         "_deepnote_index_column": 146
        },
        {
         "SK_ID_CURR": "True",
         "_deepnote_index_column": 147
        },
        {
         "SK_ID_CURR": "True",
         "_deepnote_index_column": 148
        },
        {
         "SK_ID_CURR": "True",
         "_deepnote_index_column": 149
        },
        {
         "SK_ID_CURR": "True",
         "_deepnote_index_column": 150
        },
        {
         "SK_ID_CURR": "True",
         "_deepnote_index_column": 151
        },
        {
         "SK_ID_CURR": "True",
         "_deepnote_index_column": 152
        },
        {
         "SK_ID_CURR": "True",
         "_deepnote_index_column": 153
        },
        {
         "SK_ID_CURR": "True",
         "_deepnote_index_column": 154
        },
        {
         "SK_ID_CURR": "True",
         "_deepnote_index_column": 155
        },
        {
         "SK_ID_CURR": "True",
         "_deepnote_index_column": 156
        },
        {
         "SK_ID_CURR": "True",
         "_deepnote_index_column": 157
        },
        {
         "SK_ID_CURR": "True",
         "_deepnote_index_column": 158
        },
        {
         "SK_ID_CURR": "True",
         "_deepnote_index_column": 159
        },
        {
         "SK_ID_CURR": "True",
         "_deepnote_index_column": 160
        },
        {
         "SK_ID_CURR": "True",
         "_deepnote_index_column": 161
        },
        {
         "SK_ID_CURR": "True",
         "_deepnote_index_column": 162
        },
        {
         "SK_ID_CURR": "False",
         "_deepnote_index_column": 163
        },
        {
         "SK_ID_CURR": "True",
         "_deepnote_index_column": 164
        },
        {
         "SK_ID_CURR": "True",
         "_deepnote_index_column": 165
        },
        {
         "SK_ID_CURR": "False",
         "_deepnote_index_column": 166
        },
        {
         "SK_ID_CURR": "True",
         "_deepnote_index_column": 167
        },
        {
         "SK_ID_CURR": "True",
         "_deepnote_index_column": 168
        },
        {
         "SK_ID_CURR": "True",
         "_deepnote_index_column": 169
        },
        {
         "SK_ID_CURR": "True",
         "_deepnote_index_column": 170
        },
        {
         "SK_ID_CURR": "True",
         "_deepnote_index_column": 171
        },
        {
         "SK_ID_CURR": "True",
         "_deepnote_index_column": 172
        },
        {
         "SK_ID_CURR": "True",
         "_deepnote_index_column": 173
        },
        {
         "SK_ID_CURR": "False",
         "_deepnote_index_column": 174
        },
        {
         "SK_ID_CURR": "True",
         "_deepnote_index_column": 175
        },
        {
         "SK_ID_CURR": "True",
         "_deepnote_index_column": 176
        },
        {
         "SK_ID_CURR": "True",
         "_deepnote_index_column": 177
        },
        {
         "SK_ID_CURR": "True",
         "_deepnote_index_column": 178
        },
        {
         "SK_ID_CURR": "True",
         "_deepnote_index_column": 179
        },
        {
         "SK_ID_CURR": "True",
         "_deepnote_index_column": 180
        },
        {
         "SK_ID_CURR": "True",
         "_deepnote_index_column": 181
        },
        {
         "SK_ID_CURR": "True",
         "_deepnote_index_column": 182
        },
        {
         "SK_ID_CURR": "True",
         "_deepnote_index_column": 183
        },
        {
         "SK_ID_CURR": "True",
         "_deepnote_index_column": 184
        },
        {
         "SK_ID_CURR": "True",
         "_deepnote_index_column": 185
        },
        {
         "SK_ID_CURR": "True",
         "_deepnote_index_column": 186
        },
        {
         "SK_ID_CURR": "True",
         "_deepnote_index_column": 187
        },
        {
         "SK_ID_CURR": "True",
         "_deepnote_index_column": 188
        },
        {
         "SK_ID_CURR": "True",
         "_deepnote_index_column": 189
        },
        {
         "SK_ID_CURR": "True",
         "_deepnote_index_column": 190
        },
        {
         "SK_ID_CURR": "True",
         "_deepnote_index_column": 191
        },
        {
         "SK_ID_CURR": "True",
         "_deepnote_index_column": 192
        },
        {
         "SK_ID_CURR": "True",
         "_deepnote_index_column": 193
        },
        {
         "SK_ID_CURR": "True",
         "_deepnote_index_column": 194
        },
        {
         "SK_ID_CURR": "True",
         "_deepnote_index_column": 195
        },
        {
         "SK_ID_CURR": "True",
         "_deepnote_index_column": 196
        },
        {
         "SK_ID_CURR": "True",
         "_deepnote_index_column": 197
        },
        {
         "SK_ID_CURR": "True",
         "_deepnote_index_column": 198
        },
        {
         "SK_ID_CURR": "True",
         "_deepnote_index_column": 199
        },
        {
         "SK_ID_CURR": "True",
         "_deepnote_index_column": 200
        },
        {
         "SK_ID_CURR": "True",
         "_deepnote_index_column": 201
        },
        {
         "SK_ID_CURR": "True",
         "_deepnote_index_column": 202
        },
        {
         "SK_ID_CURR": "False",
         "_deepnote_index_column": 203
        },
        {
         "SK_ID_CURR": "True",
         "_deepnote_index_column": 204
        },
        {
         "SK_ID_CURR": "True",
         "_deepnote_index_column": 205
        },
        {
         "SK_ID_CURR": "True",
         "_deepnote_index_column": 206
        },
        {
         "SK_ID_CURR": "True",
         "_deepnote_index_column": 207
        },
        {
         "SK_ID_CURR": "True",
         "_deepnote_index_column": 208
        },
        {
         "SK_ID_CURR": "True",
         "_deepnote_index_column": 209
        },
        {
         "SK_ID_CURR": "True",
         "_deepnote_index_column": 210
        },
        {
         "SK_ID_CURR": "True",
         "_deepnote_index_column": 211
        },
        {
         "SK_ID_CURR": "True",
         "_deepnote_index_column": 212
        },
        {
         "SK_ID_CURR": "True",
         "_deepnote_index_column": 213
        },
        {
         "SK_ID_CURR": "True",
         "_deepnote_index_column": 214
        },
        {
         "SK_ID_CURR": "True",
         "_deepnote_index_column": 215
        },
        {
         "SK_ID_CURR": "True",
         "_deepnote_index_column": 216
        },
        {
         "SK_ID_CURR": "True",
         "_deepnote_index_column": 217
        },
        {
         "SK_ID_CURR": "True",
         "_deepnote_index_column": 218
        },
        {
         "SK_ID_CURR": "True",
         "_deepnote_index_column": 219
        },
        {
         "SK_ID_CURR": "True",
         "_deepnote_index_column": 220
        },
        {
         "SK_ID_CURR": "True",
         "_deepnote_index_column": 221
        },
        {
         "SK_ID_CURR": "True",
         "_deepnote_index_column": 222
        },
        {
         "SK_ID_CURR": "True",
         "_deepnote_index_column": 223
        },
        {
         "SK_ID_CURR": "True",
         "_deepnote_index_column": 224
        },
        {
         "SK_ID_CURR": "True",
         "_deepnote_index_column": 225
        },
        {
         "SK_ID_CURR": "True",
         "_deepnote_index_column": 226
        },
        {
         "SK_ID_CURR": "True",
         "_deepnote_index_column": 227
        },
        {
         "SK_ID_CURR": "True",
         "_deepnote_index_column": 228
        },
        {
         "SK_ID_CURR": "True",
         "_deepnote_index_column": 229
        },
        {
         "SK_ID_CURR": "True",
         "_deepnote_index_column": 230
        },
        {
         "SK_ID_CURR": "True",
         "_deepnote_index_column": 231
        },
        {
         "SK_ID_CURR": "True",
         "_deepnote_index_column": 232
        },
        {
         "SK_ID_CURR": "True",
         "_deepnote_index_column": 233
        },
        {
         "SK_ID_CURR": "True",
         "_deepnote_index_column": 234
        },
        {
         "SK_ID_CURR": "True",
         "_deepnote_index_column": 235
        },
        {
         "SK_ID_CURR": "True",
         "_deepnote_index_column": 236
        },
        {
         "SK_ID_CURR": "True",
         "_deepnote_index_column": 237
        },
        {
         "SK_ID_CURR": "True",
         "_deepnote_index_column": 238
        },
        {
         "SK_ID_CURR": "True",
         "_deepnote_index_column": 239
        },
        {
         "SK_ID_CURR": "True",
         "_deepnote_index_column": 240
        },
        {
         "SK_ID_CURR": "True",
         "_deepnote_index_column": 241
        },
        {
         "SK_ID_CURR": "False",
         "_deepnote_index_column": 242
        },
        {
         "SK_ID_CURR": "True",
         "_deepnote_index_column": 243
        },
        {
         "SK_ID_CURR": "True",
         "_deepnote_index_column": 244
        },
        {
         "SK_ID_CURR": "True",
         "_deepnote_index_column": 245
        },
        {
         "SK_ID_CURR": "True",
         "_deepnote_index_column": 246
        },
        {
         "SK_ID_CURR": "True",
         "_deepnote_index_column": 247
        },
        {
         "SK_ID_CURR": "True",
         "_deepnote_index_column": 248
        },
        {
         "SK_ID_CURR": "True",
         "_deepnote_index_column": 249
        },
        {
         "SK_ID_CURR": "True",
         "_deepnote_index_column": 250
        },
        {
         "SK_ID_CURR": "True",
         "_deepnote_index_column": 251
        },
        {
         "SK_ID_CURR": "True",
         "_deepnote_index_column": 252
        },
        {
         "SK_ID_CURR": "True",
         "_deepnote_index_column": 253
        },
        {
         "SK_ID_CURR": "True",
         "_deepnote_index_column": 254
        },
        {
         "SK_ID_CURR": "False",
         "_deepnote_index_column": 255
        },
        {
         "SK_ID_CURR": "True",
         "_deepnote_index_column": 256
        },
        {
         "SK_ID_CURR": "True",
         "_deepnote_index_column": 257
        },
        {
         "SK_ID_CURR": "True",
         "_deepnote_index_column": 258
        },
        {
         "SK_ID_CURR": "True",
         "_deepnote_index_column": 259
        },
        {
         "SK_ID_CURR": "True",
         "_deepnote_index_column": 260
        },
        {
         "SK_ID_CURR": "True",
         "_deepnote_index_column": 261
        },
        {
         "SK_ID_CURR": "True",
         "_deepnote_index_column": 262
        },
        {
         "SK_ID_CURR": "True",
         "_deepnote_index_column": 263
        },
        {
         "SK_ID_CURR": "True",
         "_deepnote_index_column": 264
        },
        {
         "SK_ID_CURR": "True",
         "_deepnote_index_column": 265
        },
        {
         "SK_ID_CURR": "True",
         "_deepnote_index_column": 266
        },
        {
         "SK_ID_CURR": "True",
         "_deepnote_index_column": 267
        },
        {
         "SK_ID_CURR": "True",
         "_deepnote_index_column": 268
        },
        {
         "SK_ID_CURR": "True",
         "_deepnote_index_column": 269
        },
        {
         "SK_ID_CURR": "True",
         "_deepnote_index_column": 270
        },
        {
         "SK_ID_CURR": "True",
         "_deepnote_index_column": 271
        },
        {
         "SK_ID_CURR": "True",
         "_deepnote_index_column": 272
        },
        {
         "SK_ID_CURR": "True",
         "_deepnote_index_column": 273
        },
        {
         "SK_ID_CURR": "True",
         "_deepnote_index_column": 274
        },
        {
         "SK_ID_CURR": "False",
         "_deepnote_index_column": 275
        },
        {
         "SK_ID_CURR": "True",
         "_deepnote_index_column": 276
        },
        {
         "SK_ID_CURR": "True",
         "_deepnote_index_column": 277
        },
        {
         "SK_ID_CURR": "True",
         "_deepnote_index_column": 278
        },
        {
         "SK_ID_CURR": "True",
         "_deepnote_index_column": 279
        },
        {
         "SK_ID_CURR": "True",
         "_deepnote_index_column": 280
        },
        {
         "SK_ID_CURR": "True",
         "_deepnote_index_column": 281
        },
        {
         "SK_ID_CURR": "True",
         "_deepnote_index_column": 282
        },
        {
         "SK_ID_CURR": "True",
         "_deepnote_index_column": 283
        },
        {
         "SK_ID_CURR": "True",
         "_deepnote_index_column": 284
        },
        {
         "SK_ID_CURR": "True",
         "_deepnote_index_column": 285
        },
        {
         "SK_ID_CURR": "True",
         "_deepnote_index_column": 286
        },
        {
         "SK_ID_CURR": "True",
         "_deepnote_index_column": 287
        },
        {
         "SK_ID_CURR": "True",
         "_deepnote_index_column": 288
        },
        {
         "SK_ID_CURR": "True",
         "_deepnote_index_column": 289
        },
        {
         "SK_ID_CURR": "True",
         "_deepnote_index_column": 290
        },
        {
         "SK_ID_CURR": "True",
         "_deepnote_index_column": 291
        },
        {
         "SK_ID_CURR": "True",
         "_deepnote_index_column": 292
        },
        {
         "SK_ID_CURR": "True",
         "_deepnote_index_column": 293
        },
        {
         "SK_ID_CURR": "True",
         "_deepnote_index_column": 294
        },
        {
         "SK_ID_CURR": "True",
         "_deepnote_index_column": 295
        },
        {
         "SK_ID_CURR": "True",
         "_deepnote_index_column": 296
        },
        {
         "SK_ID_CURR": "True",
         "_deepnote_index_column": 297
        },
        {
         "SK_ID_CURR": "True",
         "_deepnote_index_column": 298
        },
        {
         "SK_ID_CURR": "True",
         "_deepnote_index_column": 299
        },
        {
         "SK_ID_CURR": "True",
         "_deepnote_index_column": 300
        },
        {
         "SK_ID_CURR": "True",
         "_deepnote_index_column": 301
        },
        {
         "SK_ID_CURR": "True",
         "_deepnote_index_column": 302
        },
        {
         "SK_ID_CURR": "False",
         "_deepnote_index_column": 303
        },
        {
         "SK_ID_CURR": "True",
         "_deepnote_index_column": 304
        },
        {
         "SK_ID_CURR": "True",
         "_deepnote_index_column": 305
        },
        {
         "SK_ID_CURR": "True",
         "_deepnote_index_column": 306
        },
        {
         "SK_ID_CURR": "True",
         "_deepnote_index_column": 307
        },
        {
         "SK_ID_CURR": "True",
         "_deepnote_index_column": 308
        },
        {
         "SK_ID_CURR": "True",
         "_deepnote_index_column": 309
        },
        {
         "SK_ID_CURR": "True",
         "_deepnote_index_column": 310
        },
        {
         "SK_ID_CURR": "True",
         "_deepnote_index_column": 311
        },
        {
         "SK_ID_CURR": "True",
         "_deepnote_index_column": 312
        },
        {
         "SK_ID_CURR": "True",
         "_deepnote_index_column": 313
        },
        {
         "SK_ID_CURR": "True",
         "_deepnote_index_column": 314
        },
        {
         "SK_ID_CURR": "True",
         "_deepnote_index_column": 315
        },
        {
         "SK_ID_CURR": "True",
         "_deepnote_index_column": 316
        },
        {
         "SK_ID_CURR": "True",
         "_deepnote_index_column": 317
        },
        {
         "SK_ID_CURR": "True",
         "_deepnote_index_column": 318
        },
        {
         "SK_ID_CURR": "False",
         "_deepnote_index_column": 319
        },
        {
         "SK_ID_CURR": "True",
         "_deepnote_index_column": 320
        },
        {
         "SK_ID_CURR": "True",
         "_deepnote_index_column": 321
        },
        {
         "SK_ID_CURR": "True",
         "_deepnote_index_column": 322
        },
        {
         "SK_ID_CURR": "True",
         "_deepnote_index_column": 323
        },
        {
         "SK_ID_CURR": "True",
         "_deepnote_index_column": 324
        },
        {
         "SK_ID_CURR": "True",
         "_deepnote_index_column": 325
        },
        {
         "SK_ID_CURR": "True",
         "_deepnote_index_column": 326
        },
        {
         "SK_ID_CURR": "True",
         "_deepnote_index_column": 327
        },
        {
         "SK_ID_CURR": "True",
         "_deepnote_index_column": 328
        },
        {
         "SK_ID_CURR": "True",
         "_deepnote_index_column": 329
        },
        {
         "SK_ID_CURR": "True",
         "_deepnote_index_column": 330
        },
        {
         "SK_ID_CURR": "True",
         "_deepnote_index_column": 331
        },
        {
         "SK_ID_CURR": "True",
         "_deepnote_index_column": 332
        },
        {
         "SK_ID_CURR": "True",
         "_deepnote_index_column": 333
        },
        {
         "SK_ID_CURR": "True",
         "_deepnote_index_column": 334
        },
        {
         "SK_ID_CURR": "True",
         "_deepnote_index_column": 335
        },
        {
         "SK_ID_CURR": "True",
         "_deepnote_index_column": 336
        },
        {
         "SK_ID_CURR": "True",
         "_deepnote_index_column": 337
        },
        {
         "SK_ID_CURR": "False",
         "_deepnote_index_column": 338
        },
        {
         "SK_ID_CURR": "True",
         "_deepnote_index_column": 339
        },
        {
         "SK_ID_CURR": "True",
         "_deepnote_index_column": 340
        },
        {
         "SK_ID_CURR": "True",
         "_deepnote_index_column": 341
        },
        {
         "SK_ID_CURR": "True",
         "_deepnote_index_column": 342
        },
        {
         "SK_ID_CURR": "True",
         "_deepnote_index_column": 343
        },
        {
         "SK_ID_CURR": "True",
         "_deepnote_index_column": 344
        },
        {
         "SK_ID_CURR": "True",
         "_deepnote_index_column": 345
        },
        {
         "SK_ID_CURR": "True",
         "_deepnote_index_column": 346
        },
        {
         "SK_ID_CURR": "True",
         "_deepnote_index_column": 347
        },
        {
         "SK_ID_CURR": "True",
         "_deepnote_index_column": 348
        },
        {
         "SK_ID_CURR": "True",
         "_deepnote_index_column": 349
        },
        {
         "SK_ID_CURR": "True",
         "_deepnote_index_column": 350
        },
        {
         "SK_ID_CURR": "True",
         "_deepnote_index_column": 351
        },
        {
         "SK_ID_CURR": "True",
         "_deepnote_index_column": 352
        },
        {
         "SK_ID_CURR": "True",
         "_deepnote_index_column": 353
        },
        {
         "SK_ID_CURR": "True",
         "_deepnote_index_column": 354
        },
        {
         "SK_ID_CURR": "True",
         "_deepnote_index_column": 355
        },
        {
         "SK_ID_CURR": "True",
         "_deepnote_index_column": 356
        },
        {
         "SK_ID_CURR": "True",
         "_deepnote_index_column": 357
        },
        {
         "SK_ID_CURR": "True",
         "_deepnote_index_column": 358
        },
        {
         "SK_ID_CURR": "True",
         "_deepnote_index_column": 359
        },
        {
         "SK_ID_CURR": "True",
         "_deepnote_index_column": 360
        },
        {
         "SK_ID_CURR": "True",
         "_deepnote_index_column": 361
        },
        {
         "SK_ID_CURR": "True",
         "_deepnote_index_column": 362
        },
        {
         "SK_ID_CURR": "True",
         "_deepnote_index_column": 363
        },
        {
         "SK_ID_CURR": "True",
         "_deepnote_index_column": 364
        },
        {
         "SK_ID_CURR": "True",
         "_deepnote_index_column": 365
        },
        {
         "SK_ID_CURR": "True",
         "_deepnote_index_column": 366
        },
        {
         "SK_ID_CURR": "True",
         "_deepnote_index_column": 367
        },
        {
         "SK_ID_CURR": "True",
         "_deepnote_index_column": 368
        },
        {
         "SK_ID_CURR": "True",
         "_deepnote_index_column": 369
        },
        {
         "SK_ID_CURR": "True",
         "_deepnote_index_column": 370
        },
        {
         "SK_ID_CURR": "True",
         "_deepnote_index_column": 371
        },
        {
         "SK_ID_CURR": "True",
         "_deepnote_index_column": 372
        },
        {
         "SK_ID_CURR": "True",
         "_deepnote_index_column": 373
        },
        {
         "SK_ID_CURR": "True",
         "_deepnote_index_column": 374
        },
        {
         "SK_ID_CURR": "True",
         "_deepnote_index_column": 375
        },
        {
         "SK_ID_CURR": "True",
         "_deepnote_index_column": 376
        },
        {
         "SK_ID_CURR": "True",
         "_deepnote_index_column": 377
        },
        {
         "SK_ID_CURR": "True",
         "_deepnote_index_column": 378
        },
        {
         "SK_ID_CURR": "True",
         "_deepnote_index_column": 379
        },
        {
         "SK_ID_CURR": "True",
         "_deepnote_index_column": 380
        },
        {
         "SK_ID_CURR": "True",
         "_deepnote_index_column": 381
        },
        {
         "SK_ID_CURR": "True",
         "_deepnote_index_column": 382
        },
        {
         "SK_ID_CURR": "True",
         "_deepnote_index_column": 383
        },
        {
         "SK_ID_CURR": "True",
         "_deepnote_index_column": 384
        },
        {
         "SK_ID_CURR": "True",
         "_deepnote_index_column": 385
        },
        {
         "SK_ID_CURR": "True",
         "_deepnote_index_column": 386
        },
        {
         "SK_ID_CURR": "True",
         "_deepnote_index_column": 387
        },
        {
         "SK_ID_CURR": "True",
         "_deepnote_index_column": 388
        },
        {
         "SK_ID_CURR": "True",
         "_deepnote_index_column": 389
        },
        {
         "SK_ID_CURR": "True",
         "_deepnote_index_column": 390
        },
        {
         "SK_ID_CURR": "False",
         "_deepnote_index_column": 391
        },
        {
         "SK_ID_CURR": "True",
         "_deepnote_index_column": 392
        },
        {
         "SK_ID_CURR": "True",
         "_deepnote_index_column": 393
        },
        {
         "SK_ID_CURR": "True",
         "_deepnote_index_column": 394
        },
        {
         "SK_ID_CURR": "True",
         "_deepnote_index_column": 395
        },
        {
         "SK_ID_CURR": "True",
         "_deepnote_index_column": 396
        },
        {
         "SK_ID_CURR": "False",
         "_deepnote_index_column": 397
        },
        {
         "SK_ID_CURR": "True",
         "_deepnote_index_column": 398
        },
        {
         "SK_ID_CURR": "True",
         "_deepnote_index_column": 399
        },
        {
         "SK_ID_CURR": "True",
         "_deepnote_index_column": 400
        },
        {
         "SK_ID_CURR": "True",
         "_deepnote_index_column": 401
        },
        {
         "SK_ID_CURR": "True",
         "_deepnote_index_column": 402
        },
        {
         "SK_ID_CURR": "False",
         "_deepnote_index_column": 403
        },
        {
         "SK_ID_CURR": "True",
         "_deepnote_index_column": 404
        },
        {
         "SK_ID_CURR": "False",
         "_deepnote_index_column": 405
        },
        {
         "SK_ID_CURR": "True",
         "_deepnote_index_column": 406
        },
        {
         "SK_ID_CURR": "True",
         "_deepnote_index_column": 407
        },
        {
         "SK_ID_CURR": "True",
         "_deepnote_index_column": 408
        },
        {
         "SK_ID_CURR": "True",
         "_deepnote_index_column": 409
        },
        {
         "SK_ID_CURR": "False",
         "_deepnote_index_column": 410
        },
        {
         "SK_ID_CURR": "True",
         "_deepnote_index_column": 411
        },
        {
         "SK_ID_CURR": "True",
         "_deepnote_index_column": 412
        },
        {
         "SK_ID_CURR": "True",
         "_deepnote_index_column": 413
        },
        {
         "SK_ID_CURR": "True",
         "_deepnote_index_column": 414
        },
        {
         "SK_ID_CURR": "True",
         "_deepnote_index_column": 415
        },
        {
         "SK_ID_CURR": "True",
         "_deepnote_index_column": 416
        },
        {
         "SK_ID_CURR": "True",
         "_deepnote_index_column": 417
        },
        {
         "SK_ID_CURR": "True",
         "_deepnote_index_column": 418
        },
        {
         "SK_ID_CURR": "True",
         "_deepnote_index_column": 419
        },
        {
         "SK_ID_CURR": "True",
         "_deepnote_index_column": 420
        },
        {
         "SK_ID_CURR": "True",
         "_deepnote_index_column": 421
        },
        {
         "SK_ID_CURR": "False",
         "_deepnote_index_column": 422
        },
        {
         "SK_ID_CURR": "True",
         "_deepnote_index_column": 423
        },
        {
         "SK_ID_CURR": "True",
         "_deepnote_index_column": 424
        },
        {
         "SK_ID_CURR": "True",
         "_deepnote_index_column": 425
        },
        {
         "SK_ID_CURR": "True",
         "_deepnote_index_column": 426
        },
        {
         "SK_ID_CURR": "True",
         "_deepnote_index_column": 427
        },
        {
         "SK_ID_CURR": "True",
         "_deepnote_index_column": 428
        },
        {
         "SK_ID_CURR": "True",
         "_deepnote_index_column": 429
        },
        {
         "SK_ID_CURR": "True",
         "_deepnote_index_column": 430
        },
        {
         "SK_ID_CURR": "True",
         "_deepnote_index_column": 431
        },
        {
         "SK_ID_CURR": "True",
         "_deepnote_index_column": 432
        },
        {
         "SK_ID_CURR": "True",
         "_deepnote_index_column": 433
        },
        {
         "SK_ID_CURR": "False",
         "_deepnote_index_column": 434
        },
        {
         "SK_ID_CURR": "True",
         "_deepnote_index_column": 435
        },
        {
         "SK_ID_CURR": "True",
         "_deepnote_index_column": 436
        },
        {
         "SK_ID_CURR": "True",
         "_deepnote_index_column": 437
        },
        {
         "SK_ID_CURR": "True",
         "_deepnote_index_column": 438
        },
        {
         "SK_ID_CURR": "True",
         "_deepnote_index_column": 439
        },
        {
         "SK_ID_CURR": "True",
         "_deepnote_index_column": 440
        },
        {
         "SK_ID_CURR": "True",
         "_deepnote_index_column": 441
        },
        {
         "SK_ID_CURR": "True",
         "_deepnote_index_column": 442
        },
        {
         "SK_ID_CURR": "True",
         "_deepnote_index_column": 443
        },
        {
         "SK_ID_CURR": "True",
         "_deepnote_index_column": 444
        },
        {
         "SK_ID_CURR": "True",
         "_deepnote_index_column": 445
        },
        {
         "SK_ID_CURR": "True",
         "_deepnote_index_column": 446
        },
        {
         "SK_ID_CURR": "True",
         "_deepnote_index_column": 447
        },
        {
         "SK_ID_CURR": "True",
         "_deepnote_index_column": 448
        },
        {
         "SK_ID_CURR": "True",
         "_deepnote_index_column": 449
        },
        {
         "SK_ID_CURR": "True",
         "_deepnote_index_column": 450
        },
        {
         "SK_ID_CURR": "True",
         "_deepnote_index_column": 451
        },
        {
         "SK_ID_CURR": "True",
         "_deepnote_index_column": 452
        },
        {
         "SK_ID_CURR": "True",
         "_deepnote_index_column": 453
        },
        {
         "SK_ID_CURR": "True",
         "_deepnote_index_column": 454
        },
        {
         "SK_ID_CURR": "True",
         "_deepnote_index_column": 455
        },
        {
         "SK_ID_CURR": "True",
         "_deepnote_index_column": 456
        },
        {
         "SK_ID_CURR": "True",
         "_deepnote_index_column": 457
        },
        {
         "SK_ID_CURR": "True",
         "_deepnote_index_column": 458
        },
        {
         "SK_ID_CURR": "True",
         "_deepnote_index_column": 459
        },
        {
         "SK_ID_CURR": "True",
         "_deepnote_index_column": 460
        },
        {
         "SK_ID_CURR": "True",
         "_deepnote_index_column": 461
        },
        {
         "SK_ID_CURR": "True",
         "_deepnote_index_column": 462
        },
        {
         "SK_ID_CURR": "True",
         "_deepnote_index_column": 463
        },
        {
         "SK_ID_CURR": "True",
         "_deepnote_index_column": 464
        },
        {
         "SK_ID_CURR": "True",
         "_deepnote_index_column": 465
        },
        {
         "SK_ID_CURR": "True",
         "_deepnote_index_column": 466
        },
        {
         "SK_ID_CURR": "True",
         "_deepnote_index_column": 467
        },
        {
         "SK_ID_CURR": "True",
         "_deepnote_index_column": 468
        },
        {
         "SK_ID_CURR": "True",
         "_deepnote_index_column": 469
        },
        {
         "SK_ID_CURR": "True",
         "_deepnote_index_column": 470
        },
        {
         "SK_ID_CURR": "True",
         "_deepnote_index_column": 471
        },
        {
         "SK_ID_CURR": "True",
         "_deepnote_index_column": 472
        },
        {
         "SK_ID_CURR": "True",
         "_deepnote_index_column": 473
        },
        {
         "SK_ID_CURR": "False",
         "_deepnote_index_column": 474
        },
        {
         "SK_ID_CURR": "True",
         "_deepnote_index_column": 475
        },
        {
         "SK_ID_CURR": "True",
         "_deepnote_index_column": 476
        },
        {
         "SK_ID_CURR": "True",
         "_deepnote_index_column": 477
        },
        {
         "SK_ID_CURR": "True",
         "_deepnote_index_column": 478
        },
        {
         "SK_ID_CURR": "True",
         "_deepnote_index_column": 479
        },
        {
         "SK_ID_CURR": "True",
         "_deepnote_index_column": 480
        },
        {
         "SK_ID_CURR": "True",
         "_deepnote_index_column": 481
        },
        {
         "SK_ID_CURR": "True",
         "_deepnote_index_column": 482
        },
        {
         "SK_ID_CURR": "True",
         "_deepnote_index_column": 483
        },
        {
         "SK_ID_CURR": "True",
         "_deepnote_index_column": 484
        },
        {
         "SK_ID_CURR": "True",
         "_deepnote_index_column": 485
        },
        {
         "SK_ID_CURR": "True",
         "_deepnote_index_column": 486
        },
        {
         "SK_ID_CURR": "True",
         "_deepnote_index_column": 487
        },
        {
         "SK_ID_CURR": "True",
         "_deepnote_index_column": 488
        },
        {
         "SK_ID_CURR": "True",
         "_deepnote_index_column": 489
        },
        {
         "SK_ID_CURR": "True",
         "_deepnote_index_column": 490
        },
        {
         "SK_ID_CURR": "True",
         "_deepnote_index_column": 491
        },
        {
         "SK_ID_CURR": "True",
         "_deepnote_index_column": 492
        },
        {
         "SK_ID_CURR": "True",
         "_deepnote_index_column": 493
        },
        {
         "SK_ID_CURR": "True",
         "_deepnote_index_column": 494
        },
        {
         "SK_ID_CURR": "True",
         "_deepnote_index_column": 495
        },
        {
         "SK_ID_CURR": "True",
         "_deepnote_index_column": 496
        },
        {
         "SK_ID_CURR": "True",
         "_deepnote_index_column": 497
        },
        {
         "SK_ID_CURR": "True",
         "_deepnote_index_column": 498
        },
        {
         "SK_ID_CURR": "True",
         "_deepnote_index_column": 499
        }
       ],
       "rows_bottom": [
        {
         "SK_ID_CURR": "True",
         "_deepnote_index_column": 307011
        },
        {
         "SK_ID_CURR": "True",
         "_deepnote_index_column": 307012
        },
        {
         "SK_ID_CURR": "True",
         "_deepnote_index_column": 307013
        },
        {
         "SK_ID_CURR": "True",
         "_deepnote_index_column": 307014
        },
        {
         "SK_ID_CURR": "True",
         "_deepnote_index_column": 307015
        },
        {
         "SK_ID_CURR": "True",
         "_deepnote_index_column": 307016
        },
        {
         "SK_ID_CURR": "True",
         "_deepnote_index_column": 307017
        },
        {
         "SK_ID_CURR": "True",
         "_deepnote_index_column": 307018
        },
        {
         "SK_ID_CURR": "True",
         "_deepnote_index_column": 307019
        },
        {
         "SK_ID_CURR": "True",
         "_deepnote_index_column": 307020
        },
        {
         "SK_ID_CURR": "True",
         "_deepnote_index_column": 307021
        },
        {
         "SK_ID_CURR": "True",
         "_deepnote_index_column": 307022
        },
        {
         "SK_ID_CURR": "True",
         "_deepnote_index_column": 307023
        },
        {
         "SK_ID_CURR": "True",
         "_deepnote_index_column": 307024
        },
        {
         "SK_ID_CURR": "True",
         "_deepnote_index_column": 307025
        },
        {
         "SK_ID_CURR": "True",
         "_deepnote_index_column": 307026
        },
        {
         "SK_ID_CURR": "True",
         "_deepnote_index_column": 307027
        },
        {
         "SK_ID_CURR": "True",
         "_deepnote_index_column": 307028
        },
        {
         "SK_ID_CURR": "True",
         "_deepnote_index_column": 307029
        },
        {
         "SK_ID_CURR": "True",
         "_deepnote_index_column": 307030
        },
        {
         "SK_ID_CURR": "True",
         "_deepnote_index_column": 307031
        },
        {
         "SK_ID_CURR": "True",
         "_deepnote_index_column": 307032
        },
        {
         "SK_ID_CURR": "True",
         "_deepnote_index_column": 307033
        },
        {
         "SK_ID_CURR": "True",
         "_deepnote_index_column": 307034
        },
        {
         "SK_ID_CURR": "True",
         "_deepnote_index_column": 307035
        },
        {
         "SK_ID_CURR": "True",
         "_deepnote_index_column": 307036
        },
        {
         "SK_ID_CURR": "True",
         "_deepnote_index_column": 307037
        },
        {
         "SK_ID_CURR": "True",
         "_deepnote_index_column": 307038
        },
        {
         "SK_ID_CURR": "True",
         "_deepnote_index_column": 307039
        },
        {
         "SK_ID_CURR": "True",
         "_deepnote_index_column": 307040
        },
        {
         "SK_ID_CURR": "True",
         "_deepnote_index_column": 307041
        },
        {
         "SK_ID_CURR": "True",
         "_deepnote_index_column": 307042
        },
        {
         "SK_ID_CURR": "True",
         "_deepnote_index_column": 307043
        },
        {
         "SK_ID_CURR": "True",
         "_deepnote_index_column": 307044
        },
        {
         "SK_ID_CURR": "True",
         "_deepnote_index_column": 307045
        },
        {
         "SK_ID_CURR": "True",
         "_deepnote_index_column": 307046
        },
        {
         "SK_ID_CURR": "True",
         "_deepnote_index_column": 307047
        },
        {
         "SK_ID_CURR": "True",
         "_deepnote_index_column": 307048
        },
        {
         "SK_ID_CURR": "True",
         "_deepnote_index_column": 307049
        },
        {
         "SK_ID_CURR": "True",
         "_deepnote_index_column": 307050
        },
        {
         "SK_ID_CURR": "True",
         "_deepnote_index_column": 307051
        },
        {
         "SK_ID_CURR": "True",
         "_deepnote_index_column": 307052
        },
        {
         "SK_ID_CURR": "True",
         "_deepnote_index_column": 307053
        },
        {
         "SK_ID_CURR": "True",
         "_deepnote_index_column": 307054
        },
        {
         "SK_ID_CURR": "True",
         "_deepnote_index_column": 307055
        },
        {
         "SK_ID_CURR": "True",
         "_deepnote_index_column": 307056
        },
        {
         "SK_ID_CURR": "True",
         "_deepnote_index_column": 307057
        },
        {
         "SK_ID_CURR": "True",
         "_deepnote_index_column": 307058
        },
        {
         "SK_ID_CURR": "True",
         "_deepnote_index_column": 307059
        },
        {
         "SK_ID_CURR": "True",
         "_deepnote_index_column": 307060
        },
        {
         "SK_ID_CURR": "True",
         "_deepnote_index_column": 307061
        },
        {
         "SK_ID_CURR": "True",
         "_deepnote_index_column": 307062
        },
        {
         "SK_ID_CURR": "True",
         "_deepnote_index_column": 307063
        },
        {
         "SK_ID_CURR": "True",
         "_deepnote_index_column": 307064
        },
        {
         "SK_ID_CURR": "True",
         "_deepnote_index_column": 307065
        },
        {
         "SK_ID_CURR": "True",
         "_deepnote_index_column": 307066
        },
        {
         "SK_ID_CURR": "True",
         "_deepnote_index_column": 307067
        },
        {
         "SK_ID_CURR": "True",
         "_deepnote_index_column": 307068
        },
        {
         "SK_ID_CURR": "True",
         "_deepnote_index_column": 307069
        },
        {
         "SK_ID_CURR": "True",
         "_deepnote_index_column": 307070
        },
        {
         "SK_ID_CURR": "True",
         "_deepnote_index_column": 307071
        },
        {
         "SK_ID_CURR": "True",
         "_deepnote_index_column": 307072
        },
        {
         "SK_ID_CURR": "True",
         "_deepnote_index_column": 307073
        },
        {
         "SK_ID_CURR": "True",
         "_deepnote_index_column": 307074
        },
        {
         "SK_ID_CURR": "True",
         "_deepnote_index_column": 307075
        },
        {
         "SK_ID_CURR": "True",
         "_deepnote_index_column": 307076
        },
        {
         "SK_ID_CURR": "True",
         "_deepnote_index_column": 307077
        },
        {
         "SK_ID_CURR": "True",
         "_deepnote_index_column": 307078
        },
        {
         "SK_ID_CURR": "True",
         "_deepnote_index_column": 307079
        },
        {
         "SK_ID_CURR": "True",
         "_deepnote_index_column": 307080
        },
        {
         "SK_ID_CURR": "True",
         "_deepnote_index_column": 307081
        },
        {
         "SK_ID_CURR": "True",
         "_deepnote_index_column": 307082
        },
        {
         "SK_ID_CURR": "True",
         "_deepnote_index_column": 307083
        },
        {
         "SK_ID_CURR": "True",
         "_deepnote_index_column": 307084
        },
        {
         "SK_ID_CURR": "True",
         "_deepnote_index_column": 307085
        },
        {
         "SK_ID_CURR": "True",
         "_deepnote_index_column": 307086
        },
        {
         "SK_ID_CURR": "True",
         "_deepnote_index_column": 307087
        },
        {
         "SK_ID_CURR": "True",
         "_deepnote_index_column": 307088
        },
        {
         "SK_ID_CURR": "True",
         "_deepnote_index_column": 307089
        },
        {
         "SK_ID_CURR": "True",
         "_deepnote_index_column": 307090
        },
        {
         "SK_ID_CURR": "True",
         "_deepnote_index_column": 307091
        },
        {
         "SK_ID_CURR": "True",
         "_deepnote_index_column": 307092
        },
        {
         "SK_ID_CURR": "True",
         "_deepnote_index_column": 307093
        },
        {
         "SK_ID_CURR": "True",
         "_deepnote_index_column": 307094
        },
        {
         "SK_ID_CURR": "True",
         "_deepnote_index_column": 307095
        },
        {
         "SK_ID_CURR": "True",
         "_deepnote_index_column": 307096
        },
        {
         "SK_ID_CURR": "True",
         "_deepnote_index_column": 307097
        },
        {
         "SK_ID_CURR": "True",
         "_deepnote_index_column": 307098
        },
        {
         "SK_ID_CURR": "True",
         "_deepnote_index_column": 307099
        },
        {
         "SK_ID_CURR": "True",
         "_deepnote_index_column": 307100
        },
        {
         "SK_ID_CURR": "True",
         "_deepnote_index_column": 307101
        },
        {
         "SK_ID_CURR": "True",
         "_deepnote_index_column": 307102
        },
        {
         "SK_ID_CURR": "True",
         "_deepnote_index_column": 307103
        },
        {
         "SK_ID_CURR": "True",
         "_deepnote_index_column": 307104
        },
        {
         "SK_ID_CURR": "True",
         "_deepnote_index_column": 307105
        },
        {
         "SK_ID_CURR": "True",
         "_deepnote_index_column": 307106
        },
        {
         "SK_ID_CURR": "True",
         "_deepnote_index_column": 307107
        },
        {
         "SK_ID_CURR": "True",
         "_deepnote_index_column": 307108
        },
        {
         "SK_ID_CURR": "True",
         "_deepnote_index_column": 307109
        },
        {
         "SK_ID_CURR": "True",
         "_deepnote_index_column": 307110
        },
        {
         "SK_ID_CURR": "True",
         "_deepnote_index_column": 307111
        },
        {
         "SK_ID_CURR": "True",
         "_deepnote_index_column": 307112
        },
        {
         "SK_ID_CURR": "True",
         "_deepnote_index_column": 307113
        },
        {
         "SK_ID_CURR": "True",
         "_deepnote_index_column": 307114
        },
        {
         "SK_ID_CURR": "True",
         "_deepnote_index_column": 307115
        },
        {
         "SK_ID_CURR": "True",
         "_deepnote_index_column": 307116
        },
        {
         "SK_ID_CURR": "False",
         "_deepnote_index_column": 307117
        },
        {
         "SK_ID_CURR": "True",
         "_deepnote_index_column": 307118
        },
        {
         "SK_ID_CURR": "True",
         "_deepnote_index_column": 307119
        },
        {
         "SK_ID_CURR": "True",
         "_deepnote_index_column": 307120
        },
        {
         "SK_ID_CURR": "True",
         "_deepnote_index_column": 307121
        },
        {
         "SK_ID_CURR": "True",
         "_deepnote_index_column": 307122
        },
        {
         "SK_ID_CURR": "True",
         "_deepnote_index_column": 307123
        },
        {
         "SK_ID_CURR": "True",
         "_deepnote_index_column": 307124
        },
        {
         "SK_ID_CURR": "True",
         "_deepnote_index_column": 307125
        },
        {
         "SK_ID_CURR": "True",
         "_deepnote_index_column": 307126
        },
        {
         "SK_ID_CURR": "True",
         "_deepnote_index_column": 307127
        },
        {
         "SK_ID_CURR": "True",
         "_deepnote_index_column": 307128
        },
        {
         "SK_ID_CURR": "True",
         "_deepnote_index_column": 307129
        },
        {
         "SK_ID_CURR": "True",
         "_deepnote_index_column": 307130
        },
        {
         "SK_ID_CURR": "True",
         "_deepnote_index_column": 307131
        },
        {
         "SK_ID_CURR": "True",
         "_deepnote_index_column": 307132
        },
        {
         "SK_ID_CURR": "True",
         "_deepnote_index_column": 307133
        },
        {
         "SK_ID_CURR": "True",
         "_deepnote_index_column": 307134
        },
        {
         "SK_ID_CURR": "True",
         "_deepnote_index_column": 307135
        },
        {
         "SK_ID_CURR": "True",
         "_deepnote_index_column": 307136
        },
        {
         "SK_ID_CURR": "True",
         "_deepnote_index_column": 307137
        },
        {
         "SK_ID_CURR": "True",
         "_deepnote_index_column": 307138
        },
        {
         "SK_ID_CURR": "True",
         "_deepnote_index_column": 307139
        },
        {
         "SK_ID_CURR": "True",
         "_deepnote_index_column": 307140
        },
        {
         "SK_ID_CURR": "True",
         "_deepnote_index_column": 307141
        },
        {
         "SK_ID_CURR": "True",
         "_deepnote_index_column": 307142
        },
        {
         "SK_ID_CURR": "True",
         "_deepnote_index_column": 307143
        },
        {
         "SK_ID_CURR": "True",
         "_deepnote_index_column": 307144
        },
        {
         "SK_ID_CURR": "True",
         "_deepnote_index_column": 307145
        },
        {
         "SK_ID_CURR": "True",
         "_deepnote_index_column": 307146
        },
        {
         "SK_ID_CURR": "True",
         "_deepnote_index_column": 307147
        },
        {
         "SK_ID_CURR": "True",
         "_deepnote_index_column": 307148
        },
        {
         "SK_ID_CURR": "True",
         "_deepnote_index_column": 307149
        },
        {
         "SK_ID_CURR": "True",
         "_deepnote_index_column": 307150
        },
        {
         "SK_ID_CURR": "True",
         "_deepnote_index_column": 307151
        },
        {
         "SK_ID_CURR": "True",
         "_deepnote_index_column": 307152
        },
        {
         "SK_ID_CURR": "True",
         "_deepnote_index_column": 307153
        },
        {
         "SK_ID_CURR": "True",
         "_deepnote_index_column": 307154
        },
        {
         "SK_ID_CURR": "True",
         "_deepnote_index_column": 307155
        },
        {
         "SK_ID_CURR": "True",
         "_deepnote_index_column": 307156
        },
        {
         "SK_ID_CURR": "True",
         "_deepnote_index_column": 307157
        },
        {
         "SK_ID_CURR": "True",
         "_deepnote_index_column": 307158
        },
        {
         "SK_ID_CURR": "True",
         "_deepnote_index_column": 307159
        },
        {
         "SK_ID_CURR": "True",
         "_deepnote_index_column": 307160
        },
        {
         "SK_ID_CURR": "True",
         "_deepnote_index_column": 307161
        },
        {
         "SK_ID_CURR": "True",
         "_deepnote_index_column": 307162
        },
        {
         "SK_ID_CURR": "True",
         "_deepnote_index_column": 307163
        },
        {
         "SK_ID_CURR": "True",
         "_deepnote_index_column": 307164
        },
        {
         "SK_ID_CURR": "True",
         "_deepnote_index_column": 307165
        },
        {
         "SK_ID_CURR": "True",
         "_deepnote_index_column": 307166
        },
        {
         "SK_ID_CURR": "True",
         "_deepnote_index_column": 307167
        },
        {
         "SK_ID_CURR": "True",
         "_deepnote_index_column": 307168
        },
        {
         "SK_ID_CURR": "True",
         "_deepnote_index_column": 307169
        },
        {
         "SK_ID_CURR": "True",
         "_deepnote_index_column": 307170
        },
        {
         "SK_ID_CURR": "True",
         "_deepnote_index_column": 307171
        },
        {
         "SK_ID_CURR": "True",
         "_deepnote_index_column": 307172
        },
        {
         "SK_ID_CURR": "True",
         "_deepnote_index_column": 307173
        },
        {
         "SK_ID_CURR": "True",
         "_deepnote_index_column": 307174
        },
        {
         "SK_ID_CURR": "True",
         "_deepnote_index_column": 307175
        },
        {
         "SK_ID_CURR": "True",
         "_deepnote_index_column": 307176
        },
        {
         "SK_ID_CURR": "True",
         "_deepnote_index_column": 307177
        },
        {
         "SK_ID_CURR": "True",
         "_deepnote_index_column": 307178
        },
        {
         "SK_ID_CURR": "True",
         "_deepnote_index_column": 307179
        },
        {
         "SK_ID_CURR": "True",
         "_deepnote_index_column": 307180
        },
        {
         "SK_ID_CURR": "True",
         "_deepnote_index_column": 307181
        },
        {
         "SK_ID_CURR": "True",
         "_deepnote_index_column": 307182
        },
        {
         "SK_ID_CURR": "True",
         "_deepnote_index_column": 307183
        },
        {
         "SK_ID_CURR": "True",
         "_deepnote_index_column": 307184
        },
        {
         "SK_ID_CURR": "True",
         "_deepnote_index_column": 307185
        },
        {
         "SK_ID_CURR": "True",
         "_deepnote_index_column": 307186
        },
        {
         "SK_ID_CURR": "True",
         "_deepnote_index_column": 307187
        },
        {
         "SK_ID_CURR": "True",
         "_deepnote_index_column": 307188
        },
        {
         "SK_ID_CURR": "True",
         "_deepnote_index_column": 307189
        },
        {
         "SK_ID_CURR": "True",
         "_deepnote_index_column": 307190
        },
        {
         "SK_ID_CURR": "True",
         "_deepnote_index_column": 307191
        },
        {
         "SK_ID_CURR": "True",
         "_deepnote_index_column": 307192
        },
        {
         "SK_ID_CURR": "True",
         "_deepnote_index_column": 307193
        },
        {
         "SK_ID_CURR": "True",
         "_deepnote_index_column": 307194
        },
        {
         "SK_ID_CURR": "True",
         "_deepnote_index_column": 307195
        },
        {
         "SK_ID_CURR": "True",
         "_deepnote_index_column": 307196
        },
        {
         "SK_ID_CURR": "True",
         "_deepnote_index_column": 307197
        },
        {
         "SK_ID_CURR": "True",
         "_deepnote_index_column": 307198
        },
        {
         "SK_ID_CURR": "True",
         "_deepnote_index_column": 307199
        },
        {
         "SK_ID_CURR": "True",
         "_deepnote_index_column": 307200
        },
        {
         "SK_ID_CURR": "True",
         "_deepnote_index_column": 307201
        },
        {
         "SK_ID_CURR": "True",
         "_deepnote_index_column": 307202
        },
        {
         "SK_ID_CURR": "True",
         "_deepnote_index_column": 307203
        },
        {
         "SK_ID_CURR": "True",
         "_deepnote_index_column": 307204
        },
        {
         "SK_ID_CURR": "True",
         "_deepnote_index_column": 307205
        },
        {
         "SK_ID_CURR": "True",
         "_deepnote_index_column": 307206
        },
        {
         "SK_ID_CURR": "True",
         "_deepnote_index_column": 307207
        },
        {
         "SK_ID_CURR": "True",
         "_deepnote_index_column": 307208
        },
        {
         "SK_ID_CURR": "True",
         "_deepnote_index_column": 307209
        },
        {
         "SK_ID_CURR": "True",
         "_deepnote_index_column": 307210
        },
        {
         "SK_ID_CURR": "True",
         "_deepnote_index_column": 307211
        },
        {
         "SK_ID_CURR": "True",
         "_deepnote_index_column": 307212
        },
        {
         "SK_ID_CURR": "True",
         "_deepnote_index_column": 307213
        },
        {
         "SK_ID_CURR": "True",
         "_deepnote_index_column": 307214
        },
        {
         "SK_ID_CURR": "True",
         "_deepnote_index_column": 307215
        },
        {
         "SK_ID_CURR": "True",
         "_deepnote_index_column": 307216
        },
        {
         "SK_ID_CURR": "True",
         "_deepnote_index_column": 307217
        },
        {
         "SK_ID_CURR": "True",
         "_deepnote_index_column": 307218
        },
        {
         "SK_ID_CURR": "True",
         "_deepnote_index_column": 307219
        },
        {
         "SK_ID_CURR": "True",
         "_deepnote_index_column": 307220
        },
        {
         "SK_ID_CURR": "True",
         "_deepnote_index_column": 307221
        },
        {
         "SK_ID_CURR": "True",
         "_deepnote_index_column": 307222
        },
        {
         "SK_ID_CURR": "True",
         "_deepnote_index_column": 307223
        },
        {
         "SK_ID_CURR": "True",
         "_deepnote_index_column": 307224
        },
        {
         "SK_ID_CURR": "True",
         "_deepnote_index_column": 307225
        },
        {
         "SK_ID_CURR": "True",
         "_deepnote_index_column": 307226
        },
        {
         "SK_ID_CURR": "True",
         "_deepnote_index_column": 307227
        },
        {
         "SK_ID_CURR": "True",
         "_deepnote_index_column": 307228
        },
        {
         "SK_ID_CURR": "True",
         "_deepnote_index_column": 307229
        },
        {
         "SK_ID_CURR": "True",
         "_deepnote_index_column": 307230
        },
        {
         "SK_ID_CURR": "True",
         "_deepnote_index_column": 307231
        },
        {
         "SK_ID_CURR": "True",
         "_deepnote_index_column": 307232
        },
        {
         "SK_ID_CURR": "True",
         "_deepnote_index_column": 307233
        },
        {
         "SK_ID_CURR": "True",
         "_deepnote_index_column": 307234
        },
        {
         "SK_ID_CURR": "True",
         "_deepnote_index_column": 307235
        },
        {
         "SK_ID_CURR": "True",
         "_deepnote_index_column": 307236
        },
        {
         "SK_ID_CURR": "True",
         "_deepnote_index_column": 307237
        },
        {
         "SK_ID_CURR": "True",
         "_deepnote_index_column": 307238
        },
        {
         "SK_ID_CURR": "True",
         "_deepnote_index_column": 307239
        },
        {
         "SK_ID_CURR": "True",
         "_deepnote_index_column": 307240
        },
        {
         "SK_ID_CURR": "True",
         "_deepnote_index_column": 307241
        },
        {
         "SK_ID_CURR": "False",
         "_deepnote_index_column": 307242
        },
        {
         "SK_ID_CURR": "True",
         "_deepnote_index_column": 307243
        },
        {
         "SK_ID_CURR": "True",
         "_deepnote_index_column": 307244
        },
        {
         "SK_ID_CURR": "True",
         "_deepnote_index_column": 307245
        },
        {
         "SK_ID_CURR": "True",
         "_deepnote_index_column": 307246
        },
        {
         "SK_ID_CURR": "True",
         "_deepnote_index_column": 307247
        },
        {
         "SK_ID_CURR": "True",
         "_deepnote_index_column": 307248
        },
        {
         "SK_ID_CURR": "True",
         "_deepnote_index_column": 307249
        },
        {
         "SK_ID_CURR": "True",
         "_deepnote_index_column": 307250
        },
        {
         "SK_ID_CURR": "True",
         "_deepnote_index_column": 307251
        },
        {
         "SK_ID_CURR": "True",
         "_deepnote_index_column": 307252
        },
        {
         "SK_ID_CURR": "True",
         "_deepnote_index_column": 307253
        },
        {
         "SK_ID_CURR": "True",
         "_deepnote_index_column": 307254
        },
        {
         "SK_ID_CURR": "True",
         "_deepnote_index_column": 307255
        },
        {
         "SK_ID_CURR": "True",
         "_deepnote_index_column": 307256
        },
        {
         "SK_ID_CURR": "True",
         "_deepnote_index_column": 307257
        },
        {
         "SK_ID_CURR": "True",
         "_deepnote_index_column": 307258
        },
        {
         "SK_ID_CURR": "True",
         "_deepnote_index_column": 307259
        },
        {
         "SK_ID_CURR": "True",
         "_deepnote_index_column": 307260
        },
        {
         "SK_ID_CURR": "True",
         "_deepnote_index_column": 307261
        },
        {
         "SK_ID_CURR": "True",
         "_deepnote_index_column": 307262
        },
        {
         "SK_ID_CURR": "True",
         "_deepnote_index_column": 307263
        },
        {
         "SK_ID_CURR": "True",
         "_deepnote_index_column": 307264
        },
        {
         "SK_ID_CURR": "True",
         "_deepnote_index_column": 307265
        },
        {
         "SK_ID_CURR": "True",
         "_deepnote_index_column": 307266
        },
        {
         "SK_ID_CURR": "True",
         "_deepnote_index_column": 307267
        },
        {
         "SK_ID_CURR": "True",
         "_deepnote_index_column": 307268
        },
        {
         "SK_ID_CURR": "True",
         "_deepnote_index_column": 307269
        },
        {
         "SK_ID_CURR": "True",
         "_deepnote_index_column": 307270
        },
        {
         "SK_ID_CURR": "True",
         "_deepnote_index_column": 307271
        },
        {
         "SK_ID_CURR": "True",
         "_deepnote_index_column": 307272
        },
        {
         "SK_ID_CURR": "True",
         "_deepnote_index_column": 307273
        },
        {
         "SK_ID_CURR": "True",
         "_deepnote_index_column": 307274
        },
        {
         "SK_ID_CURR": "True",
         "_deepnote_index_column": 307275
        },
        {
         "SK_ID_CURR": "True",
         "_deepnote_index_column": 307276
        },
        {
         "SK_ID_CURR": "True",
         "_deepnote_index_column": 307277
        },
        {
         "SK_ID_CURR": "True",
         "_deepnote_index_column": 307278
        },
        {
         "SK_ID_CURR": "True",
         "_deepnote_index_column": 307279
        },
        {
         "SK_ID_CURR": "True",
         "_deepnote_index_column": 307280
        },
        {
         "SK_ID_CURR": "True",
         "_deepnote_index_column": 307281
        },
        {
         "SK_ID_CURR": "True",
         "_deepnote_index_column": 307282
        },
        {
         "SK_ID_CURR": "True",
         "_deepnote_index_column": 307283
        },
        {
         "SK_ID_CURR": "True",
         "_deepnote_index_column": 307284
        },
        {
         "SK_ID_CURR": "True",
         "_deepnote_index_column": 307285
        },
        {
         "SK_ID_CURR": "True",
         "_deepnote_index_column": 307286
        },
        {
         "SK_ID_CURR": "True",
         "_deepnote_index_column": 307287
        },
        {
         "SK_ID_CURR": "True",
         "_deepnote_index_column": 307288
        },
        {
         "SK_ID_CURR": "True",
         "_deepnote_index_column": 307289
        },
        {
         "SK_ID_CURR": "True",
         "_deepnote_index_column": 307290
        },
        {
         "SK_ID_CURR": "True",
         "_deepnote_index_column": 307291
        },
        {
         "SK_ID_CURR": "True",
         "_deepnote_index_column": 307292
        },
        {
         "SK_ID_CURR": "True",
         "_deepnote_index_column": 307293
        },
        {
         "SK_ID_CURR": "True",
         "_deepnote_index_column": 307294
        },
        {
         "SK_ID_CURR": "True",
         "_deepnote_index_column": 307295
        },
        {
         "SK_ID_CURR": "True",
         "_deepnote_index_column": 307296
        },
        {
         "SK_ID_CURR": "True",
         "_deepnote_index_column": 307297
        },
        {
         "SK_ID_CURR": "True",
         "_deepnote_index_column": 307298
        },
        {
         "SK_ID_CURR": "True",
         "_deepnote_index_column": 307299
        },
        {
         "SK_ID_CURR": "True",
         "_deepnote_index_column": 307300
        },
        {
         "SK_ID_CURR": "True",
         "_deepnote_index_column": 307301
        },
        {
         "SK_ID_CURR": "True",
         "_deepnote_index_column": 307302
        },
        {
         "SK_ID_CURR": "True",
         "_deepnote_index_column": 307303
        },
        {
         "SK_ID_CURR": "True",
         "_deepnote_index_column": 307304
        },
        {
         "SK_ID_CURR": "True",
         "_deepnote_index_column": 307305
        },
        {
         "SK_ID_CURR": "True",
         "_deepnote_index_column": 307306
        },
        {
         "SK_ID_CURR": "True",
         "_deepnote_index_column": 307307
        },
        {
         "SK_ID_CURR": "True",
         "_deepnote_index_column": 307308
        },
        {
         "SK_ID_CURR": "True",
         "_deepnote_index_column": 307309
        },
        {
         "SK_ID_CURR": "True",
         "_deepnote_index_column": 307310
        },
        {
         "SK_ID_CURR": "True",
         "_deepnote_index_column": 307311
        },
        {
         "SK_ID_CURR": "True",
         "_deepnote_index_column": 307312
        },
        {
         "SK_ID_CURR": "True",
         "_deepnote_index_column": 307313
        },
        {
         "SK_ID_CURR": "True",
         "_deepnote_index_column": 307314
        },
        {
         "SK_ID_CURR": "True",
         "_deepnote_index_column": 307315
        },
        {
         "SK_ID_CURR": "True",
         "_deepnote_index_column": 307316
        },
        {
         "SK_ID_CURR": "True",
         "_deepnote_index_column": 307317
        },
        {
         "SK_ID_CURR": "True",
         "_deepnote_index_column": 307318
        },
        {
         "SK_ID_CURR": "True",
         "_deepnote_index_column": 307319
        },
        {
         "SK_ID_CURR": "True",
         "_deepnote_index_column": 307320
        },
        {
         "SK_ID_CURR": "True",
         "_deepnote_index_column": 307321
        },
        {
         "SK_ID_CURR": "True",
         "_deepnote_index_column": 307322
        },
        {
         "SK_ID_CURR": "True",
         "_deepnote_index_column": 307323
        },
        {
         "SK_ID_CURR": "True",
         "_deepnote_index_column": 307324
        },
        {
         "SK_ID_CURR": "True",
         "_deepnote_index_column": 307325
        },
        {
         "SK_ID_CURR": "True",
         "_deepnote_index_column": 307326
        },
        {
         "SK_ID_CURR": "True",
         "_deepnote_index_column": 307327
        },
        {
         "SK_ID_CURR": "True",
         "_deepnote_index_column": 307328
        },
        {
         "SK_ID_CURR": "True",
         "_deepnote_index_column": 307329
        },
        {
         "SK_ID_CURR": "True",
         "_deepnote_index_column": 307330
        },
        {
         "SK_ID_CURR": "True",
         "_deepnote_index_column": 307331
        },
        {
         "SK_ID_CURR": "True",
         "_deepnote_index_column": 307332
        },
        {
         "SK_ID_CURR": "True",
         "_deepnote_index_column": 307333
        },
        {
         "SK_ID_CURR": "True",
         "_deepnote_index_column": 307334
        },
        {
         "SK_ID_CURR": "True",
         "_deepnote_index_column": 307335
        },
        {
         "SK_ID_CURR": "True",
         "_deepnote_index_column": 307336
        },
        {
         "SK_ID_CURR": "True",
         "_deepnote_index_column": 307337
        },
        {
         "SK_ID_CURR": "True",
         "_deepnote_index_column": 307338
        },
        {
         "SK_ID_CURR": "True",
         "_deepnote_index_column": 307339
        },
        {
         "SK_ID_CURR": "True",
         "_deepnote_index_column": 307340
        },
        {
         "SK_ID_CURR": "True",
         "_deepnote_index_column": 307341
        },
        {
         "SK_ID_CURR": "True",
         "_deepnote_index_column": 307342
        },
        {
         "SK_ID_CURR": "True",
         "_deepnote_index_column": 307343
        },
        {
         "SK_ID_CURR": "True",
         "_deepnote_index_column": 307344
        },
        {
         "SK_ID_CURR": "True",
         "_deepnote_index_column": 307345
        },
        {
         "SK_ID_CURR": "True",
         "_deepnote_index_column": 307346
        },
        {
         "SK_ID_CURR": "True",
         "_deepnote_index_column": 307347
        },
        {
         "SK_ID_CURR": "True",
         "_deepnote_index_column": 307348
        },
        {
         "SK_ID_CURR": "True",
         "_deepnote_index_column": 307349
        },
        {
         "SK_ID_CURR": "True",
         "_deepnote_index_column": 307350
        },
        {
         "SK_ID_CURR": "True",
         "_deepnote_index_column": 307351
        },
        {
         "SK_ID_CURR": "True",
         "_deepnote_index_column": 307352
        },
        {
         "SK_ID_CURR": "True",
         "_deepnote_index_column": 307353
        },
        {
         "SK_ID_CURR": "True",
         "_deepnote_index_column": 307354
        },
        {
         "SK_ID_CURR": "True",
         "_deepnote_index_column": 307355
        },
        {
         "SK_ID_CURR": "True",
         "_deepnote_index_column": 307356
        },
        {
         "SK_ID_CURR": "True",
         "_deepnote_index_column": 307357
        },
        {
         "SK_ID_CURR": "True",
         "_deepnote_index_column": 307358
        },
        {
         "SK_ID_CURR": "True",
         "_deepnote_index_column": 307359
        },
        {
         "SK_ID_CURR": "True",
         "_deepnote_index_column": 307360
        },
        {
         "SK_ID_CURR": "True",
         "_deepnote_index_column": 307361
        },
        {
         "SK_ID_CURR": "True",
         "_deepnote_index_column": 307362
        },
        {
         "SK_ID_CURR": "True",
         "_deepnote_index_column": 307363
        },
        {
         "SK_ID_CURR": "True",
         "_deepnote_index_column": 307364
        },
        {
         "SK_ID_CURR": "True",
         "_deepnote_index_column": 307365
        },
        {
         "SK_ID_CURR": "True",
         "_deepnote_index_column": 307366
        },
        {
         "SK_ID_CURR": "True",
         "_deepnote_index_column": 307367
        },
        {
         "SK_ID_CURR": "True",
         "_deepnote_index_column": 307368
        },
        {
         "SK_ID_CURR": "True",
         "_deepnote_index_column": 307369
        },
        {
         "SK_ID_CURR": "True",
         "_deepnote_index_column": 307370
        },
        {
         "SK_ID_CURR": "True",
         "_deepnote_index_column": 307371
        },
        {
         "SK_ID_CURR": "True",
         "_deepnote_index_column": 307372
        },
        {
         "SK_ID_CURR": "True",
         "_deepnote_index_column": 307373
        },
        {
         "SK_ID_CURR": "True",
         "_deepnote_index_column": 307374
        },
        {
         "SK_ID_CURR": "True",
         "_deepnote_index_column": 307375
        },
        {
         "SK_ID_CURR": "True",
         "_deepnote_index_column": 307376
        },
        {
         "SK_ID_CURR": "True",
         "_deepnote_index_column": 307377
        },
        {
         "SK_ID_CURR": "True",
         "_deepnote_index_column": 307378
        },
        {
         "SK_ID_CURR": "True",
         "_deepnote_index_column": 307379
        },
        {
         "SK_ID_CURR": "True",
         "_deepnote_index_column": 307380
        },
        {
         "SK_ID_CURR": "True",
         "_deepnote_index_column": 307381
        },
        {
         "SK_ID_CURR": "True",
         "_deepnote_index_column": 307382
        },
        {
         "SK_ID_CURR": "True",
         "_deepnote_index_column": 307383
        },
        {
         "SK_ID_CURR": "True",
         "_deepnote_index_column": 307384
        },
        {
         "SK_ID_CURR": "True",
         "_deepnote_index_column": 307385
        },
        {
         "SK_ID_CURR": "True",
         "_deepnote_index_column": 307386
        },
        {
         "SK_ID_CURR": "False",
         "_deepnote_index_column": 307387
        },
        {
         "SK_ID_CURR": "True",
         "_deepnote_index_column": 307388
        },
        {
         "SK_ID_CURR": "True",
         "_deepnote_index_column": 307389
        },
        {
         "SK_ID_CURR": "True",
         "_deepnote_index_column": 307390
        },
        {
         "SK_ID_CURR": "True",
         "_deepnote_index_column": 307391
        },
        {
         "SK_ID_CURR": "True",
         "_deepnote_index_column": 307392
        },
        {
         "SK_ID_CURR": "True",
         "_deepnote_index_column": 307393
        },
        {
         "SK_ID_CURR": "True",
         "_deepnote_index_column": 307394
        },
        {
         "SK_ID_CURR": "True",
         "_deepnote_index_column": 307395
        },
        {
         "SK_ID_CURR": "True",
         "_deepnote_index_column": 307396
        },
        {
         "SK_ID_CURR": "True",
         "_deepnote_index_column": 307397
        },
        {
         "SK_ID_CURR": "True",
         "_deepnote_index_column": 307398
        },
        {
         "SK_ID_CURR": "True",
         "_deepnote_index_column": 307399
        },
        {
         "SK_ID_CURR": "True",
         "_deepnote_index_column": 307400
        },
        {
         "SK_ID_CURR": "True",
         "_deepnote_index_column": 307401
        },
        {
         "SK_ID_CURR": "True",
         "_deepnote_index_column": 307402
        },
        {
         "SK_ID_CURR": "True",
         "_deepnote_index_column": 307403
        },
        {
         "SK_ID_CURR": "True",
         "_deepnote_index_column": 307404
        },
        {
         "SK_ID_CURR": "True",
         "_deepnote_index_column": 307405
        },
        {
         "SK_ID_CURR": "True",
         "_deepnote_index_column": 307406
        },
        {
         "SK_ID_CURR": "True",
         "_deepnote_index_column": 307407
        },
        {
         "SK_ID_CURR": "True",
         "_deepnote_index_column": 307408
        },
        {
         "SK_ID_CURR": "True",
         "_deepnote_index_column": 307409
        },
        {
         "SK_ID_CURR": "True",
         "_deepnote_index_column": 307410
        },
        {
         "SK_ID_CURR": "True",
         "_deepnote_index_column": 307411
        },
        {
         "SK_ID_CURR": "True",
         "_deepnote_index_column": 307412
        },
        {
         "SK_ID_CURR": "True",
         "_deepnote_index_column": 307413
        },
        {
         "SK_ID_CURR": "True",
         "_deepnote_index_column": 307414
        },
        {
         "SK_ID_CURR": "True",
         "_deepnote_index_column": 307415
        },
        {
         "SK_ID_CURR": "True",
         "_deepnote_index_column": 307416
        },
        {
         "SK_ID_CURR": "True",
         "_deepnote_index_column": 307417
        },
        {
         "SK_ID_CURR": "True",
         "_deepnote_index_column": 307418
        },
        {
         "SK_ID_CURR": "True",
         "_deepnote_index_column": 307419
        },
        {
         "SK_ID_CURR": "True",
         "_deepnote_index_column": 307420
        },
        {
         "SK_ID_CURR": "True",
         "_deepnote_index_column": 307421
        },
        {
         "SK_ID_CURR": "False",
         "_deepnote_index_column": 307422
        },
        {
         "SK_ID_CURR": "True",
         "_deepnote_index_column": 307423
        },
        {
         "SK_ID_CURR": "True",
         "_deepnote_index_column": 307424
        },
        {
         "SK_ID_CURR": "True",
         "_deepnote_index_column": 307425
        },
        {
         "SK_ID_CURR": "True",
         "_deepnote_index_column": 307426
        },
        {
         "SK_ID_CURR": "True",
         "_deepnote_index_column": 307427
        },
        {
         "SK_ID_CURR": "True",
         "_deepnote_index_column": 307428
        },
        {
         "SK_ID_CURR": "True",
         "_deepnote_index_column": 307429
        },
        {
         "SK_ID_CURR": "True",
         "_deepnote_index_column": 307430
        },
        {
         "SK_ID_CURR": "True",
         "_deepnote_index_column": 307431
        },
        {
         "SK_ID_CURR": "True",
         "_deepnote_index_column": 307432
        },
        {
         "SK_ID_CURR": "True",
         "_deepnote_index_column": 307433
        },
        {
         "SK_ID_CURR": "True",
         "_deepnote_index_column": 307434
        },
        {
         "SK_ID_CURR": "True",
         "_deepnote_index_column": 307435
        },
        {
         "SK_ID_CURR": "True",
         "_deepnote_index_column": 307436
        },
        {
         "SK_ID_CURR": "True",
         "_deepnote_index_column": 307437
        },
        {
         "SK_ID_CURR": "True",
         "_deepnote_index_column": 307438
        },
        {
         "SK_ID_CURR": "True",
         "_deepnote_index_column": 307439
        },
        {
         "SK_ID_CURR": "True",
         "_deepnote_index_column": 307440
        },
        {
         "SK_ID_CURR": "True",
         "_deepnote_index_column": 307441
        },
        {
         "SK_ID_CURR": "True",
         "_deepnote_index_column": 307442
        },
        {
         "SK_ID_CURR": "True",
         "_deepnote_index_column": 307443
        },
        {
         "SK_ID_CURR": "True",
         "_deepnote_index_column": 307444
        },
        {
         "SK_ID_CURR": "True",
         "_deepnote_index_column": 307445
        },
        {
         "SK_ID_CURR": "True",
         "_deepnote_index_column": 307446
        },
        {
         "SK_ID_CURR": "True",
         "_deepnote_index_column": 307447
        },
        {
         "SK_ID_CURR": "True",
         "_deepnote_index_column": 307448
        },
        {
         "SK_ID_CURR": "False",
         "_deepnote_index_column": 307449
        },
        {
         "SK_ID_CURR": "True",
         "_deepnote_index_column": 307450
        },
        {
         "SK_ID_CURR": "True",
         "_deepnote_index_column": 307451
        },
        {
         "SK_ID_CURR": "True",
         "_deepnote_index_column": 307452
        },
        {
         "SK_ID_CURR": "True",
         "_deepnote_index_column": 307453
        },
        {
         "SK_ID_CURR": "True",
         "_deepnote_index_column": 307454
        },
        {
         "SK_ID_CURR": "True",
         "_deepnote_index_column": 307455
        },
        {
         "SK_ID_CURR": "True",
         "_deepnote_index_column": 307456
        },
        {
         "SK_ID_CURR": "True",
         "_deepnote_index_column": 307457
        },
        {
         "SK_ID_CURR": "True",
         "_deepnote_index_column": 307458
        },
        {
         "SK_ID_CURR": "True",
         "_deepnote_index_column": 307459
        },
        {
         "SK_ID_CURR": "True",
         "_deepnote_index_column": 307460
        },
        {
         "SK_ID_CURR": "True",
         "_deepnote_index_column": 307461
        },
        {
         "SK_ID_CURR": "True",
         "_deepnote_index_column": 307462
        },
        {
         "SK_ID_CURR": "True",
         "_deepnote_index_column": 307463
        },
        {
         "SK_ID_CURR": "True",
         "_deepnote_index_column": 307464
        },
        {
         "SK_ID_CURR": "True",
         "_deepnote_index_column": 307465
        },
        {
         "SK_ID_CURR": "True",
         "_deepnote_index_column": 307466
        },
        {
         "SK_ID_CURR": "True",
         "_deepnote_index_column": 307467
        },
        {
         "SK_ID_CURR": "True",
         "_deepnote_index_column": 307468
        },
        {
         "SK_ID_CURR": "True",
         "_deepnote_index_column": 307469
        },
        {
         "SK_ID_CURR": "True",
         "_deepnote_index_column": 307470
        },
        {
         "SK_ID_CURR": "True",
         "_deepnote_index_column": 307471
        },
        {
         "SK_ID_CURR": "True",
         "_deepnote_index_column": 307472
        },
        {
         "SK_ID_CURR": "True",
         "_deepnote_index_column": 307473
        },
        {
         "SK_ID_CURR": "True",
         "_deepnote_index_column": 307474
        },
        {
         "SK_ID_CURR": "True",
         "_deepnote_index_column": 307475
        },
        {
         "SK_ID_CURR": "True",
         "_deepnote_index_column": 307476
        },
        {
         "SK_ID_CURR": "True",
         "_deepnote_index_column": 307477
        },
        {
         "SK_ID_CURR": "True",
         "_deepnote_index_column": 307478
        },
        {
         "SK_ID_CURR": "True",
         "_deepnote_index_column": 307479
        },
        {
         "SK_ID_CURR": "True",
         "_deepnote_index_column": 307480
        },
        {
         "SK_ID_CURR": "True",
         "_deepnote_index_column": 307481
        },
        {
         "SK_ID_CURR": "True",
         "_deepnote_index_column": 307482
        },
        {
         "SK_ID_CURR": "True",
         "_deepnote_index_column": 307483
        },
        {
         "SK_ID_CURR": "True",
         "_deepnote_index_column": 307484
        },
        {
         "SK_ID_CURR": "False",
         "_deepnote_index_column": 307485
        },
        {
         "SK_ID_CURR": "True",
         "_deepnote_index_column": 307486
        },
        {
         "SK_ID_CURR": "True",
         "_deepnote_index_column": 307487
        },
        {
         "SK_ID_CURR": "True",
         "_deepnote_index_column": 307488
        },
        {
         "SK_ID_CURR": "True",
         "_deepnote_index_column": 307489
        },
        {
         "SK_ID_CURR": "True",
         "_deepnote_index_column": 307490
        },
        {
         "SK_ID_CURR": "True",
         "_deepnote_index_column": 307491
        },
        {
         "SK_ID_CURR": "True",
         "_deepnote_index_column": 307492
        },
        {
         "SK_ID_CURR": "True",
         "_deepnote_index_column": 307493
        },
        {
         "SK_ID_CURR": "True",
         "_deepnote_index_column": 307494
        },
        {
         "SK_ID_CURR": "True",
         "_deepnote_index_column": 307495
        },
        {
         "SK_ID_CURR": "True",
         "_deepnote_index_column": 307496
        },
        {
         "SK_ID_CURR": "True",
         "_deepnote_index_column": 307497
        },
        {
         "SK_ID_CURR": "True",
         "_deepnote_index_column": 307498
        },
        {
         "SK_ID_CURR": "True",
         "_deepnote_index_column": 307499
        },
        {
         "SK_ID_CURR": "True",
         "_deepnote_index_column": 307500
        },
        {
         "SK_ID_CURR": "True",
         "_deepnote_index_column": 307501
        },
        {
         "SK_ID_CURR": "True",
         "_deepnote_index_column": 307502
        },
        {
         "SK_ID_CURR": "True",
         "_deepnote_index_column": 307503
        },
        {
         "SK_ID_CURR": "True",
         "_deepnote_index_column": 307504
        },
        {
         "SK_ID_CURR": "True",
         "_deepnote_index_column": 307505
        },
        {
         "SK_ID_CURR": "True",
         "_deepnote_index_column": 307506
        },
        {
         "SK_ID_CURR": "True",
         "_deepnote_index_column": 307507
        },
        {
         "SK_ID_CURR": "True",
         "_deepnote_index_column": 307508
        },
        {
         "SK_ID_CURR": "True",
         "_deepnote_index_column": 307509
        },
        {
         "SK_ID_CURR": "True",
         "_deepnote_index_column": 307510
        }
       ]
      },
      "text/plain": "        SK_ID_CURR\n0             True\n1             True\n2             True\n3             True\n4             True\n...            ...\n307506        True\n307507        True\n307508        True\n307509        True\n307510        True\n\n[307511 rows x 1 columns]",
      "text/html": "<div>\n<style scoped>\n    .dataframe tbody tr th:only-of-type {\n        vertical-align: middle;\n    }\n\n    .dataframe tbody tr th {\n        vertical-align: top;\n    }\n\n    .dataframe thead th {\n        text-align: right;\n    }\n</style>\n<table border=\"1\" class=\"dataframe\">\n  <thead>\n    <tr style=\"text-align: right;\">\n      <th></th>\n      <th>SK_ID_CURR</th>\n    </tr>\n  </thead>\n  <tbody>\n    <tr>\n      <th>0</th>\n      <td>True</td>\n    </tr>\n    <tr>\n      <th>1</th>\n      <td>True</td>\n    </tr>\n    <tr>\n      <th>2</th>\n      <td>True</td>\n    </tr>\n    <tr>\n      <th>3</th>\n      <td>True</td>\n    </tr>\n    <tr>\n      <th>4</th>\n      <td>True</td>\n    </tr>\n    <tr>\n      <th>...</th>\n      <td>...</td>\n    </tr>\n    <tr>\n      <th>307506</th>\n      <td>True</td>\n    </tr>\n    <tr>\n      <th>307507</th>\n      <td>True</td>\n    </tr>\n    <tr>\n      <th>307508</th>\n      <td>True</td>\n    </tr>\n    <tr>\n      <th>307509</th>\n      <td>True</td>\n    </tr>\n    <tr>\n      <th>307510</th>\n      <td>True</td>\n    </tr>\n  </tbody>\n</table>\n<p>307511 rows × 1 columns</p>\n</div>"
     },
     "metadata": {}
    }
   ]
  },
  {
   "cell_type": "code",
   "metadata": {
    "tags": [],
    "cell_id": "00005-81f1d478-62e6-4abb-9c27-b840c94e787a",
    "deepnote_to_be_reexecuted": false,
    "source_hash": "957c32c3",
    "execution_start": 1628276752254,
    "execution_millis": 1,
    "deepnote_cell_type": "code"
   },
   "source": "help(pd.DataFrame.replace)",
   "execution_count": 48,
   "outputs": [
    {
     "name": "stdout",
     "text": "Help on function replace in module pandas.core.frame:\n\nreplace(self, to_replace=None, value=None, inplace=False, limit=None, regex=False, method='pad')\n    Replace values given in `to_replace` with `value`.\n    \n    Values of the DataFrame are replaced with other values dynamically.\n    This differs from updating with ``.loc`` or ``.iloc``, which require\n    you to specify a location to update with some value.\n    \n    Parameters\n    ----------\n    to_replace : str, regex, list, dict, Series, int, float, or None\n        How to find the values that will be replaced.\n    \n        * numeric, str or regex:\n    \n            - numeric: numeric values equal to `to_replace` will be\n              replaced with `value`\n            - str: string exactly matching `to_replace` will be replaced\n              with `value`\n            - regex: regexs matching `to_replace` will be replaced with\n              `value`\n    \n        * list of str, regex, or numeric:\n    \n            - First, if `to_replace` and `value` are both lists, they\n              **must** be the same length.\n            - Second, if ``regex=True`` then all of the strings in **both**\n              lists will be interpreted as regexs otherwise they will match\n              directly. This doesn't matter much for `value` since there\n              are only a few possible substitution regexes you can use.\n            - str, regex and numeric rules apply as above.\n    \n        * dict:\n    \n            - Dicts can be used to specify different replacement values\n              for different existing values. For example,\n              ``{'a': 'b', 'y': 'z'}`` replaces the value 'a' with 'b' and\n              'y' with 'z'. To use a dict in this way the `value`\n              parameter should be `None`.\n            - For a DataFrame a dict can specify that different values\n              should be replaced in different columns. For example,\n              ``{'a': 1, 'b': 'z'}`` looks for the value 1 in column 'a'\n              and the value 'z' in column 'b' and replaces these values\n              with whatever is specified in `value`. The `value` parameter\n              should not be ``None`` in this case. You can treat this as a\n              special case of passing two lists except that you are\n              specifying the column to search in.\n            - For a DataFrame nested dictionaries, e.g.,\n              ``{'a': {'b': np.nan}}``, are read as follows: look in column\n              'a' for the value 'b' and replace it with NaN. The `value`\n              parameter should be ``None`` to use a nested dict in this\n              way. You can nest regular expressions as well. Note that\n              column names (the top-level dictionary keys in a nested\n              dictionary) **cannot** be regular expressions.\n    \n        * None:\n    \n            - This means that the `regex` argument must be a string,\n              compiled regular expression, or list, dict, ndarray or\n              Series of such elements. If `value` is also ``None`` then\n              this **must** be a nested dictionary or Series.\n    \n        See the examples section for examples of each of these.\n    value : scalar, dict, list, str, regex, default None\n        Value to replace any values matching `to_replace` with.\n        For a DataFrame a dict of values can be used to specify which\n        value to use for each column (columns not in the dict will not be\n        filled). Regular expressions, strings and lists or dicts of such\n        objects are also allowed.\n    inplace : bool, default False\n        If True, in place. Note: this will modify any\n        other views on this object (e.g. a column from a DataFrame).\n        Returns the caller if this is True.\n    limit : int or None, default None\n        Maximum size gap to forward or backward fill.\n    regex : bool or same types as `to_replace`, default False\n        Whether to interpret `to_replace` and/or `value` as regular\n        expressions. If this is ``True`` then `to_replace` *must* be a\n        string. Alternatively, this could be a regular expression or a\n        list, dict, or array of regular expressions in which case\n        `to_replace` must be ``None``.\n    method : {'pad', 'ffill', 'bfill', `None`}\n        The method to use when for replacement, when `to_replace` is a\n        scalar, list or tuple and `value` is ``None``.\n    \n    Returns\n    -------\n    DataFrame or None\n        Object after replacement or None if ``inplace=True``.\n    \n    Raises\n    ------\n    AssertionError\n        * If `regex` is not a ``bool`` and `to_replace` is not\n          ``None``.\n    \n    TypeError\n        * If `to_replace` is not a scalar, array-like, ``dict``, or ``None``\n        * If `to_replace` is a ``dict`` and `value` is not a ``list``,\n          ``dict``, ``ndarray``, or ``Series``\n        * If `to_replace` is ``None`` and `regex` is not compilable\n          into a regular expression or is a list, dict, ndarray, or\n          Series.\n        * When replacing multiple ``bool`` or ``datetime64`` objects and\n          the arguments to `to_replace` does not match the type of the\n          value being replaced\n    \n    ValueError\n        * If a ``list`` or an ``ndarray`` is passed to `to_replace` and\n          `value` but they are not the same length.\n    \n    See Also\n    --------\n    DataFrame.fillna : Fill NA values.\n    DataFrame.where : Replace values based on boolean condition.\n    Series.str.replace : Simple string replacement.\n    \n    Notes\n    -----\n    * Regex substitution is performed under the hood with ``re.sub``. The\n      rules for substitution for ``re.sub`` are the same.\n    * Regular expressions will only substitute on strings, meaning you\n      cannot provide, for example, a regular expression matching floating\n      point numbers and expect the columns in your frame that have a\n      numeric dtype to be matched. However, if those floating point\n      numbers *are* strings, then you can do this.\n    * This method has *a lot* of options. You are encouraged to experiment\n      and play with this method to gain intuition about how it works.\n    * When dict is used as the `to_replace` value, it is like\n      key(s) in the dict are the to_replace part and\n      value(s) in the dict are the value parameter.\n    \n    Examples\n    --------\n    \n    **Scalar `to_replace` and `value`**\n    \n    >>> s = pd.Series([0, 1, 2, 3, 4])\n    >>> s.replace(0, 5)\n    0    5\n    1    1\n    2    2\n    3    3\n    4    4\n    dtype: int64\n    \n    >>> df = pd.DataFrame({'A': [0, 1, 2, 3, 4],\n    ...                    'B': [5, 6, 7, 8, 9],\n    ...                    'C': ['a', 'b', 'c', 'd', 'e']})\n    >>> df.replace(0, 5)\n       A  B  C\n    0  5  5  a\n    1  1  6  b\n    2  2  7  c\n    3  3  8  d\n    4  4  9  e\n    \n    **List-like `to_replace`**\n    \n    >>> df.replace([0, 1, 2, 3], 4)\n       A  B  C\n    0  4  5  a\n    1  4  6  b\n    2  4  7  c\n    3  4  8  d\n    4  4  9  e\n    \n    >>> df.replace([0, 1, 2, 3], [4, 3, 2, 1])\n       A  B  C\n    0  4  5  a\n    1  3  6  b\n    2  2  7  c\n    3  1  8  d\n    4  4  9  e\n    \n    >>> s.replace([1, 2], method='bfill')\n    0    0\n    1    3\n    2    3\n    3    3\n    4    4\n    dtype: int64\n    \n    **dict-like `to_replace`**\n    \n    >>> df.replace({0: 10, 1: 100})\n         A  B  C\n    0   10  5  a\n    1  100  6  b\n    2    2  7  c\n    3    3  8  d\n    4    4  9  e\n    \n    >>> df.replace({'A': 0, 'B': 5}, 100)\n         A    B  C\n    0  100  100  a\n    1    1    6  b\n    2    2    7  c\n    3    3    8  d\n    4    4    9  e\n    \n    >>> df.replace({'A': {0: 100, 4: 400}})\n         A  B  C\n    0  100  5  a\n    1    1  6  b\n    2    2  7  c\n    3    3  8  d\n    4  400  9  e\n    \n    **Regular expression `to_replace`**\n    \n    >>> df = pd.DataFrame({'A': ['bat', 'foo', 'bait'],\n    ...                    'B': ['abc', 'bar', 'xyz']})\n    >>> df.replace(to_replace=r'^ba.$', value='new', regex=True)\n          A    B\n    0   new  abc\n    1   foo  new\n    2  bait  xyz\n    \n    >>> df.replace({'A': r'^ba.$'}, {'A': 'new'}, regex=True)\n          A    B\n    0   new  abc\n    1   foo  bar\n    2  bait  xyz\n    \n    >>> df.replace(regex=r'^ba.$', value='new')\n          A    B\n    0   new  abc\n    1   foo  new\n    2  bait  xyz\n    \n    >>> df.replace(regex={r'^ba.$': 'new', 'foo': 'xyz'})\n          A    B\n    0   new  abc\n    1   xyz  new\n    2  bait  xyz\n    \n    >>> df.replace(regex=[r'^ba.$', 'foo'], value='new')\n          A    B\n    0   new  abc\n    1   new  new\n    2  bait  xyz\n    \n    Compare the behavior of ``s.replace({'a': None})`` and\n    ``s.replace('a', None)`` to understand the peculiarities\n    of the `to_replace` parameter:\n    \n    >>> s = pd.Series([10, 'a', 'a', 'b', 'a'])\n    \n    When one uses a dict as the `to_replace` value, it is like the\n    value(s) in the dict are equal to the `value` parameter.\n    ``s.replace({'a': None})`` is equivalent to\n    ``s.replace(to_replace={'a': None}, value=None, method=None)``:\n    \n    >>> s.replace({'a': None})\n    0      10\n    1    None\n    2    None\n    3       b\n    4    None\n    dtype: object\n    \n    When ``value=None`` and `to_replace` is a scalar, list or\n    tuple, `replace` uses the method parameter (default 'pad') to do the\n    replacement. So this is why the 'a' values are being replaced by 10\n    in rows 1 and 2 and 'b' in row 4 in this case.\n    The command ``s.replace('a', None)`` is actually equivalent to\n    ``s.replace(to_replace='a', value=None, method='pad')``:\n    \n    >>> s.replace('a', None)\n    0    10\n    1    10\n    2    10\n    3     b\n    4     b\n    dtype: object\n\n",
     "output_type": "stream"
    }
   ]
  },
  {
   "cell_type": "code",
   "source": "",
   "metadata": {
    "tags": [],
    "cell_id": "00013-b992d7d7-dc60-48c8-b3c6-0c73a4b55e09",
    "deepnote_cell_type": "code"
   },
   "outputs": [],
   "execution_count": null
  },
  {
   "cell_type": "markdown",
   "source": "<a style='text-decoration:none;line-height:16px;display:flex;color:#5B5B62;padding:10px;justify-content:end;' href='https://deepnote.com?utm_source=created-in-deepnote-cell&projectId=9263f292-ea73-48e7-8892-f3d3ed1db03c' target=\"_blank\">\n<img alt='Created in deepnote.com' style='display:inline;max-height:16px;margin:0px;margin-right:7.5px;' src='data:image/svg+xml;base64,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' > </img>\nCreated in <span style='font-weight:600;margin-left:4px;'>Deepnote</span></a>",
   "metadata": {
    "tags": [],
    "created_in_deepnote_cell": true,
    "deepnote_cell_type": "markdown"
   }
  }
 ],
 "nbformat": 4,
 "nbformat_minor": 2,
 "metadata": {
  "orig_nbformat": 2,
  "deepnote": {
   "is_reactive": false
  },
  "deepnote_notebook_id": "99a7e69f-a45a-46bf-a03c-19a5705a70bb",
  "deepnote_execution_queue": []
 }
}
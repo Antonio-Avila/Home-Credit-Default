{
 "cells": [
  {
   "cell_type": "code",
   "metadata": {
    "tags": [],
    "cell_id": "00000-24f3bc3d-18c9-4505-bd05-fe3e29eb537f",
    "deepnote_to_be_reexecuted": false,
    "source_hash": "bb3581b5",
    "execution_start": 1628798615347,
    "execution_millis": 4684,
    "deepnote_cell_type": "code"
   },
   "source": "import pandas as pd\nimport numpy as np\nimport matplotlib.pyplot as plt\nplt.style.use('ggplot')\n%matplotlib inline\nimport pylab\npylab.rcParams['figure.figsize'] = (15, 10)\n\nimport seaborn as sns\nfrom scipy import stats\n!pip install statsmodels\nimport statsmodels.api as sm\nimport time",
   "execution_count": 1,
   "outputs": [
    {
     "name": "stdout",
     "text": "Requirement already satisfied: statsmodels in /root/venv/lib/python3.7/site-packages (0.12.2)\nRequirement already satisfied: pandas>=0.21 in /shared-libs/python3.7/py/lib/python3.7/site-packages (from statsmodels) (1.2.5)\nRequirement already satisfied: patsy>=0.5 in /root/venv/lib/python3.7/site-packages (from statsmodels) (0.5.1)\nRequirement already satisfied: scipy>=1.1 in /shared-libs/python3.7/py/lib/python3.7/site-packages (from statsmodels) (1.7.1)\nRequirement already satisfied: numpy>=1.15 in /shared-libs/python3.7/py/lib/python3.7/site-packages (from statsmodels) (1.19.5)\nRequirement already satisfied: pytz>=2017.3 in /shared-libs/python3.7/py/lib/python3.7/site-packages (from pandas>=0.21->statsmodels) (2021.1)\nRequirement already satisfied: python-dateutil>=2.7.3 in /shared-libs/python3.7/py-core/lib/python3.7/site-packages (from pandas>=0.21->statsmodels) (2.8.2)\nRequirement already satisfied: six in /shared-libs/python3.7/py-core/lib/python3.7/site-packages (from patsy>=0.5->statsmodels) (1.16.0)\n\u001b[33mWARNING: You are using pip version 21.2.2; however, version 21.2.4 is available.\nYou should consider upgrading via the '/root/venv/bin/python -m pip install --upgrade pip' command.\u001b[0m\n",
     "output_type": "stream"
    }
   ]
  },
  {
   "cell_type": "code",
   "metadata": {
    "tags": [],
    "cell_id": "00001-03d044d6-d1df-47f6-97bf-34e42472059f",
    "deepnote_to_be_reexecuted": false,
    "source_hash": "df23b58b",
    "execution_start": 1628798620046,
    "execution_millis": 8223,
    "deepnote_cell_type": "code"
   },
   "source": "app_train = pd.read_csv(\"app_train_red.csv\", index_col = 0)\napp_test = pd.read_csv(\"app_test_red.csv\")\nprev_app = pd.read_csv(\"previous_application.csv\")",
   "execution_count": 2,
   "outputs": []
  },
  {
   "cell_type": "code",
   "metadata": {
    "tags": [],
    "cell_id": "00003-054eaa2b-8570-4be3-bbb3-b735a847d93e",
    "deepnote_to_be_reexecuted": false,
    "source_hash": "a07985e8",
    "execution_start": 1628798628340,
    "execution_millis": 40,
    "deepnote_cell_type": "code"
   },
   "source": "prev_app.head()",
   "execution_count": 3,
   "outputs": [
    {
     "output_type": "execute_result",
     "execution_count": 3,
     "data": {
      "application/vnd.deepnote.dataframe.v2+json": {
       "row_count": 5,
       "column_count": 37,
       "columns": [
        {
         "name": "SK_ID_PREV",
         "dtype": "int64",
         "stats": {
          "unique_count": 5,
          "nan_count": 0,
          "min": "1784265",
          "max": "2819243",
          "histogram": [
           {
            "bin_start": 1784265,
            "bin_end": 1887762.8,
            "count": 1
           },
           {
            "bin_start": 1887762.8,
            "bin_end": 1991260.6,
            "count": 0
           },
           {
            "bin_start": 1991260.6,
            "bin_end": 2094758.4,
            "count": 1
           },
           {
            "bin_start": 2094758.4,
            "bin_end": 2198256.2,
            "count": 0
           },
           {
            "bin_start": 2198256.2,
            "bin_end": 2301754,
            "count": 0
           },
           {
            "bin_start": 2301754,
            "bin_end": 2405251.8,
            "count": 0
           },
           {
            "bin_start": 2405251.8,
            "bin_end": 2508749.6,
            "count": 0
           },
           {
            "bin_start": 2508749.6,
            "bin_end": 2612247.4,
            "count": 1
           },
           {
            "bin_start": 2612247.4,
            "bin_end": 2715745.2,
            "count": 0
           },
           {
            "bin_start": 2715745.2,
            "bin_end": 2819243,
            "count": 2
           }
          ]
         }
        },
        {
         "name": "SK_ID_CURR",
         "dtype": "int64",
         "stats": {
          "unique_count": 5,
          "nan_count": 0,
          "min": "108129",
          "max": "271877",
          "histogram": [
           {
            "bin_start": 108129,
            "bin_end": 124503.8,
            "count": 2
           },
           {
            "bin_start": 124503.8,
            "bin_end": 140878.6,
            "count": 0
           },
           {
            "bin_start": 140878.6,
            "bin_end": 157253.4,
            "count": 0
           },
           {
            "bin_start": 157253.4,
            "bin_end": 173628.2,
            "count": 0
           },
           {
            "bin_start": 173628.2,
            "bin_end": 190003,
            "count": 1
           },
           {
            "bin_start": 190003,
            "bin_end": 206377.8,
            "count": 1
           },
           {
            "bin_start": 206377.8,
            "bin_end": 222752.59999999998,
            "count": 0
           },
           {
            "bin_start": 222752.59999999998,
            "bin_end": 239127.4,
            "count": 0
           },
           {
            "bin_start": 239127.4,
            "bin_end": 255502.19999999998,
            "count": 0
           },
           {
            "bin_start": 255502.19999999998,
            "bin_end": 271877,
            "count": 1
           }
          ]
         }
        },
        {
         "name": "NAME_CONTRACT_TYPE",
         "dtype": "object",
         "stats": {
          "unique_count": 2,
          "nan_count": 0,
          "categories": [
           {
            "name": "Cash loans",
            "count": 4
           },
           {
            "name": "Consumer loans",
            "count": 1
           }
          ]
         }
        },
        {
         "name": "AMT_ANNUITY",
         "dtype": "float64",
         "stats": {
          "unique_count": 5,
          "nan_count": 0,
          "min": "1730.43",
          "max": "47041.335",
          "histogram": [
           {
            "bin_start": 1730.43,
            "bin_end": 6261.5205000000005,
            "count": 1
           },
           {
            "bin_start": 6261.5205000000005,
            "bin_end": 10792.611,
            "count": 0
           },
           {
            "bin_start": 10792.611,
            "bin_end": 15323.701500000001,
            "count": 1
           },
           {
            "bin_start": 15323.701500000001,
            "bin_end": 19854.792,
            "count": 0
           },
           {
            "bin_start": 19854.792,
            "bin_end": 24385.8825,
            "count": 0
           },
           {
            "bin_start": 24385.8825,
            "bin_end": 28916.973,
            "count": 1
           },
           {
            "bin_start": 28916.973,
            "bin_end": 33448.063500000004,
            "count": 1
           },
           {
            "bin_start": 33448.063500000004,
            "bin_end": 37979.154,
            "count": 0
           },
           {
            "bin_start": 37979.154,
            "bin_end": 42510.2445,
            "count": 0
           },
           {
            "bin_start": 42510.2445,
            "bin_end": 47041.335,
            "count": 1
           }
          ]
         }
        },
        {
         "name": "AMT_APPLICATION",
         "dtype": "float64",
         "stats": {
          "unique_count": 5,
          "nan_count": 0,
          "min": "17145.0",
          "max": "607500.0",
          "histogram": [
           {
            "bin_start": 17145,
            "bin_end": 76180.5,
            "count": 1
           },
           {
            "bin_start": 76180.5,
            "bin_end": 135216,
            "count": 1
           },
           {
            "bin_start": 135216,
            "bin_end": 194251.5,
            "count": 0
           },
           {
            "bin_start": 194251.5,
            "bin_end": 253287,
            "count": 0
           },
           {
            "bin_start": 253287,
            "bin_end": 312322.5,
            "count": 0
           },
           {
            "bin_start": 312322.5,
            "bin_end": 371358,
            "count": 1
           },
           {
            "bin_start": 371358,
            "bin_end": 430393.5,
            "count": 0
           },
           {
            "bin_start": 430393.5,
            "bin_end": 489429,
            "count": 1
           },
           {
            "bin_start": 489429,
            "bin_end": 548464.5,
            "count": 0
           },
           {
            "bin_start": 548464.5,
            "bin_end": 607500,
            "count": 1
           }
          ]
         }
        },
        {
         "name": "AMT_CREDIT",
         "dtype": "float64",
         "stats": {
          "unique_count": 5,
          "nan_count": 0,
          "min": "17145.0",
          "max": "679671.0",
          "histogram": [
           {
            "bin_start": 17145,
            "bin_end": 83397.6,
            "count": 1
           },
           {
            "bin_start": 83397.6,
            "bin_end": 149650.2,
            "count": 1
           },
           {
            "bin_start": 149650.2,
            "bin_end": 215902.80000000002,
            "count": 0
           },
           {
            "bin_start": 215902.80000000002,
            "bin_end": 282155.4,
            "count": 0
           },
           {
            "bin_start": 282155.4,
            "bin_end": 348408,
            "count": 0
           },
           {
            "bin_start": 348408,
            "bin_end": 414660.60000000003,
            "count": 1
           },
           {
            "bin_start": 414660.60000000003,
            "bin_end": 480913.20000000007,
            "count": 1
           },
           {
            "bin_start": 480913.20000000007,
            "bin_end": 547165.8,
            "count": 0
           },
           {
            "bin_start": 547165.8,
            "bin_end": 613418.4,
            "count": 0
           },
           {
            "bin_start": 613418.4,
            "bin_end": 679671,
            "count": 1
           }
          ]
         }
        },
        {
         "name": "AMT_DOWN_PAYMENT",
         "dtype": "float64",
         "stats": {
          "unique_count": 1,
          "nan_count": 4,
          "min": "0.0",
          "max": "0.0",
          "histogram": [
           {
            "bin_start": -0.5,
            "bin_end": -0.4,
            "count": 0
           },
           {
            "bin_start": -0.4,
            "bin_end": -0.3,
            "count": 0
           },
           {
            "bin_start": -0.3,
            "bin_end": -0.19999999999999996,
            "count": 0
           },
           {
            "bin_start": -0.19999999999999996,
            "bin_end": -0.09999999999999998,
            "count": 0
           },
           {
            "bin_start": -0.09999999999999998,
            "bin_end": 0,
            "count": 0
           },
           {
            "bin_start": 0,
            "bin_end": 0.10000000000000009,
            "count": 1
           },
           {
            "bin_start": 0.10000000000000009,
            "bin_end": 0.20000000000000007,
            "count": 0
           },
           {
            "bin_start": 0.20000000000000007,
            "bin_end": 0.30000000000000004,
            "count": 0
           },
           {
            "bin_start": 0.30000000000000004,
            "bin_end": 0.4,
            "count": 0
           },
           {
            "bin_start": 0.4,
            "bin_end": 0.5,
            "count": 0
           }
          ]
         }
        },
        {
         "name": "AMT_GOODS_PRICE",
         "dtype": "float64",
         "stats": {
          "unique_count": 5,
          "nan_count": 0,
          "min": "17145.0",
          "max": "607500.0",
          "histogram": [
           {
            "bin_start": 17145,
            "bin_end": 76180.5,
            "count": 1
           },
           {
            "bin_start": 76180.5,
            "bin_end": 135216,
            "count": 1
           },
           {
            "bin_start": 135216,
            "bin_end": 194251.5,
            "count": 0
           },
           {
            "bin_start": 194251.5,
            "bin_end": 253287,
            "count": 0
           },
           {
            "bin_start": 253287,
            "bin_end": 312322.5,
            "count": 0
           },
           {
            "bin_start": 312322.5,
            "bin_end": 371358,
            "count": 1
           },
           {
            "bin_start": 371358,
            "bin_end": 430393.5,
            "count": 0
           },
           {
            "bin_start": 430393.5,
            "bin_end": 489429,
            "count": 1
           },
           {
            "bin_start": 489429,
            "bin_end": 548464.5,
            "count": 0
           },
           {
            "bin_start": 548464.5,
            "bin_end": 607500,
            "count": 1
           }
          ]
         }
        },
        {
         "name": "WEEKDAY_APPR_PROCESS_START",
         "dtype": "object",
         "stats": {
          "unique_count": 4,
          "nan_count": 0,
          "categories": [
           {
            "name": "THURSDAY",
            "count": 2
           },
           {
            "name": "SATURDAY",
            "count": 1
           },
           {
            "name": "2 others",
            "count": 2
           }
          ]
         }
        },
        {
         "name": "HOUR_APPR_PROCESS_START",
         "dtype": "int64",
         "stats": {
          "unique_count": 4,
          "nan_count": 0,
          "min": "7",
          "max": "15",
          "histogram": [
           {
            "bin_start": 7,
            "bin_end": 7.8,
            "count": 1
           },
           {
            "bin_start": 7.8,
            "bin_end": 8.6,
            "count": 0
           },
           {
            "bin_start": 8.6,
            "bin_end": 9.4,
            "count": 1
           },
           {
            "bin_start": 9.4,
            "bin_end": 10.2,
            "count": 0
           },
           {
            "bin_start": 10.2,
            "bin_end": 11,
            "count": 0
           },
           {
            "bin_start": 11,
            "bin_end": 11.8,
            "count": 2
           },
           {
            "bin_start": 11.8,
            "bin_end": 12.600000000000001,
            "count": 0
           },
           {
            "bin_start": 12.600000000000001,
            "bin_end": 13.4,
            "count": 0
           },
           {
            "bin_start": 13.4,
            "bin_end": 14.2,
            "count": 0
           },
           {
            "bin_start": 14.2,
            "bin_end": 15,
            "count": 1
           }
          ]
         }
        },
        {
         "name": "FLAG_LAST_APPL_PER_CONTRACT",
         "dtype": "object",
         "stats": {
          "unique_count": 1,
          "nan_count": 0,
          "categories": [
           {
            "name": "Y",
            "count": 5
           }
          ]
         }
        },
        {
         "name": "NFLAG_LAST_APPL_IN_DAY",
         "dtype": "int64",
         "stats": {
          "unique_count": 1,
          "nan_count": 0,
          "min": "1",
          "max": "1",
          "histogram": [
           {
            "bin_start": 0.5,
            "bin_end": 0.6,
            "count": 0
           },
           {
            "bin_start": 0.6,
            "bin_end": 0.7,
            "count": 0
           },
           {
            "bin_start": 0.7,
            "bin_end": 0.8,
            "count": 0
           },
           {
            "bin_start": 0.8,
            "bin_end": 0.9,
            "count": 0
           },
           {
            "bin_start": 0.9,
            "bin_end": 1,
            "count": 0
           },
           {
            "bin_start": 1,
            "bin_end": 1.1,
            "count": 5
           },
           {
            "bin_start": 1.1,
            "bin_end": 1.2000000000000002,
            "count": 0
           },
           {
            "bin_start": 1.2000000000000002,
            "bin_end": 1.3,
            "count": 0
           },
           {
            "bin_start": 1.3,
            "bin_end": 1.4,
            "count": 0
           },
           {
            "bin_start": 1.4,
            "bin_end": 1.5,
            "count": 0
           }
          ]
         }
        },
        {
         "name": "RATE_DOWN_PAYMENT",
         "dtype": "float64",
         "stats": {
          "unique_count": 1,
          "nan_count": 4,
          "min": "0.0",
          "max": "0.0",
          "histogram": [
           {
            "bin_start": -0.5,
            "bin_end": -0.4,
            "count": 0
           },
           {
            "bin_start": -0.4,
            "bin_end": -0.3,
            "count": 0
           },
           {
            "bin_start": -0.3,
            "bin_end": -0.19999999999999996,
            "count": 0
           },
           {
            "bin_start": -0.19999999999999996,
            "bin_end": -0.09999999999999998,
            "count": 0
           },
           {
            "bin_start": -0.09999999999999998,
            "bin_end": 0,
            "count": 0
           },
           {
            "bin_start": 0,
            "bin_end": 0.10000000000000009,
            "count": 1
           },
           {
            "bin_start": 0.10000000000000009,
            "bin_end": 0.20000000000000007,
            "count": 0
           },
           {
            "bin_start": 0.20000000000000007,
            "bin_end": 0.30000000000000004,
            "count": 0
           },
           {
            "bin_start": 0.30000000000000004,
            "bin_end": 0.4,
            "count": 0
           },
           {
            "bin_start": 0.4,
            "bin_end": 0.5,
            "count": 0
           }
          ]
         }
        },
        {
         "name": "RATE_INTEREST_PRIMARY",
         "dtype": "float64",
         "stats": {
          "unique_count": 1,
          "nan_count": 4,
          "min": "0.1828318032415278",
          "max": "0.1828318032415278",
          "histogram": [
           {
            "bin_start": -0.3171681967584722,
            "bin_end": -0.21716819675847218,
            "count": 0
           },
           {
            "bin_start": -0.21716819675847218,
            "bin_end": -0.11716819675847218,
            "count": 0
           },
           {
            "bin_start": -0.11716819675847218,
            "bin_end": -0.017168196758472143,
            "count": 0
           },
           {
            "bin_start": -0.017168196758472143,
            "bin_end": 0.08283180324152783,
            "count": 0
           },
           {
            "bin_start": 0.08283180324152783,
            "bin_end": 0.1828318032415278,
            "count": 0
           },
           {
            "bin_start": 0.1828318032415278,
            "bin_end": 0.2828318032415279,
            "count": 1
           },
           {
            "bin_start": 0.2828318032415279,
            "bin_end": 0.3828318032415279,
            "count": 0
           },
           {
            "bin_start": 0.3828318032415279,
            "bin_end": 0.48283180324152786,
            "count": 0
           },
           {
            "bin_start": 0.48283180324152786,
            "bin_end": 0.5828318032415278,
            "count": 0
           },
           {
            "bin_start": 0.5828318032415278,
            "bin_end": 0.6828318032415278,
            "count": 0
           }
          ]
         }
        },
        {
         "name": "RATE_INTEREST_PRIVILEGED",
         "dtype": "float64",
         "stats": {
          "unique_count": 1,
          "nan_count": 4,
          "min": "0.8673361522198731",
          "max": "0.8673361522198731",
          "histogram": [
           {
            "bin_start": 0.36733615221987315,
            "bin_end": 0.4673361522198731,
            "count": 0
           },
           {
            "bin_start": 0.4673361522198731,
            "bin_end": 0.5673361522198731,
            "count": 0
           },
           {
            "bin_start": 0.5673361522198731,
            "bin_end": 0.6673361522198731,
            "count": 0
           },
           {
            "bin_start": 0.6673361522198731,
            "bin_end": 0.7673361522198732,
            "count": 0
           },
           {
            "bin_start": 0.7673361522198732,
            "bin_end": 0.867336152219873,
            "count": 0
           },
           {
            "bin_start": 0.867336152219873,
            "bin_end": 0.9673361522198731,
            "count": 1
           },
           {
            "bin_start": 0.9673361522198731,
            "bin_end": 1.0673361522198732,
            "count": 0
           },
           {
            "bin_start": 1.0673361522198732,
            "bin_end": 1.167336152219873,
            "count": 0
           },
           {
            "bin_start": 1.167336152219873,
            "bin_end": 1.267336152219873,
            "count": 0
           },
           {
            "bin_start": 1.267336152219873,
            "bin_end": 1.367336152219873,
            "count": 0
           }
          ]
         }
        },
        {
         "name": "NAME_CASH_LOAN_PURPOSE",
         "dtype": "object",
         "stats": {
          "unique_count": 3,
          "nan_count": 0,
          "categories": [
           {
            "name": "XNA",
            "count": 3
           },
           {
            "name": "XAP",
            "count": 1
           },
           {
            "name": "Repairs",
            "count": 1
           }
          ]
         }
        },
        {
         "name": "NAME_CONTRACT_STATUS",
         "dtype": "object",
         "stats": {
          "unique_count": 2,
          "nan_count": 0,
          "categories": [
           {
            "name": "Approved",
            "count": 4
           },
           {
            "name": "Refused",
            "count": 1
           }
          ]
         }
        },
        {
         "name": "DAYS_DECISION",
         "dtype": "int64",
         "stats": {
          "unique_count": 5,
          "nan_count": 0,
          "min": "-781",
          "max": "-73",
          "histogram": [
           {
            "bin_start": -781,
            "bin_end": -710.2,
            "count": 1
           },
           {
            "bin_start": -710.2,
            "bin_end": -639.4,
            "count": 0
           },
           {
            "bin_start": -639.4,
            "bin_end": -568.6,
            "count": 0
           },
           {
            "bin_start": -568.6,
            "bin_end": -497.8,
            "count": 1
           },
           {
            "bin_start": -497.8,
            "bin_end": -427,
            "count": 0
           },
           {
            "bin_start": -427,
            "bin_end": -356.20000000000005,
            "count": 0
           },
           {
            "bin_start": -356.20000000000005,
            "bin_end": -285.40000000000003,
            "count": 1
           },
           {
            "bin_start": -285.40000000000003,
            "bin_end": -214.60000000000002,
            "count": 0
           },
           {
            "bin_start": -214.60000000000002,
            "bin_end": -143.80000000000007,
            "count": 1
           },
           {
            "bin_start": -143.80000000000007,
            "bin_end": -73,
            "count": 1
           }
          ]
         }
        },
        {
         "name": "NAME_PAYMENT_TYPE",
         "dtype": "object",
         "stats": {
          "unique_count": 2,
          "nan_count": 0,
          "categories": [
           {
            "name": "Cash through the bank",
            "count": 4
           },
           {
            "name": "XNA",
            "count": 1
           }
          ]
         }
        },
        {
         "name": "CODE_REJECT_REASON",
         "dtype": "object",
         "stats": {
          "unique_count": 2,
          "nan_count": 0,
          "categories": [
           {
            "name": "XAP",
            "count": 4
           },
           {
            "name": "HC",
            "count": 1
           }
          ]
         }
        },
        {
         "name": "NAME_TYPE_SUITE",
         "dtype": "object",
         "stats": {
          "unique_count": 2,
          "nan_count": 3,
          "categories": [
           {
            "name": "Unaccompanied",
            "count": 1
           },
           {
            "name": "Spouse, partner",
            "count": 1
           },
           {
            "name": "Missing",
            "count": 3
           }
          ]
         }
        },
        {
         "name": "NAME_CLIENT_TYPE",
         "dtype": "object",
         "stats": {
          "unique_count": 1,
          "nan_count": 0,
          "categories": [
           {
            "name": "Repeater",
            "count": 5
           }
          ]
         }
        },
        {
         "name": "NAME_GOODS_CATEGORY",
         "dtype": "object",
         "stats": {
          "unique_count": 2,
          "nan_count": 0,
          "categories": [
           {
            "name": "XNA",
            "count": 4
           },
           {
            "name": "Mobile",
            "count": 1
           }
          ]
         }
        },
        {
         "name": "NAME_PORTFOLIO",
         "dtype": "object",
         "stats": {
          "unique_count": 2,
          "nan_count": 0,
          "categories": [
           {
            "name": "Cash",
            "count": 4
           },
           {
            "name": "POS",
            "count": 1
           }
          ]
         }
        },
        {
         "name": "NAME_PRODUCT_TYPE",
         "dtype": "object",
         "stats": {
          "unique_count": 3,
          "nan_count": 0,
          "categories": [
           {
            "name": "x-sell",
            "count": 3
           },
           {
            "name": "XNA",
            "count": 1
           },
           {
            "name": "walk-in",
            "count": 1
           }
          ]
         }
        },
        {
         "name": "CHANNEL_TYPE",
         "dtype": "object",
         "stats": {
          "unique_count": 3,
          "nan_count": 0,
          "categories": [
           {
            "name": "Credit and cash offices",
            "count": 3
           },
           {
            "name": "Country-wide",
            "count": 1
           },
           {
            "name": "Contact center",
            "count": 1
           }
          ]
         }
        },
        {
         "name": "SELLERPLACE_AREA",
         "dtype": "int64",
         "stats": {
          "unique_count": 2,
          "nan_count": 0,
          "min": "-1",
          "max": "35",
          "histogram": [
           {
            "bin_start": -1,
            "bin_end": 2.6,
            "count": 4
           },
           {
            "bin_start": 2.6,
            "bin_end": 6.2,
            "count": 0
           },
           {
            "bin_start": 6.2,
            "bin_end": 9.8,
            "count": 0
           },
           {
            "bin_start": 9.8,
            "bin_end": 13.4,
            "count": 0
           },
           {
            "bin_start": 13.4,
            "bin_end": 17,
            "count": 0
           },
           {
            "bin_start": 17,
            "bin_end": 20.6,
            "count": 0
           },
           {
            "bin_start": 20.6,
            "bin_end": 24.2,
            "count": 0
           },
           {
            "bin_start": 24.2,
            "bin_end": 27.8,
            "count": 0
           },
           {
            "bin_start": 27.8,
            "bin_end": 31.4,
            "count": 0
           },
           {
            "bin_start": 31.4,
            "bin_end": 35,
            "count": 1
           }
          ]
         }
        },
        {
         "name": "NAME_SELLER_INDUSTRY",
         "dtype": "object",
         "stats": {
          "unique_count": 2,
          "nan_count": 0,
          "categories": [
           {
            "name": "XNA",
            "count": 4
           },
           {
            "name": "Connectivity",
            "count": 1
           }
          ]
         }
        },
        {
         "name": "CNT_PAYMENT",
         "dtype": "float64",
         "stats": {
          "unique_count": 3,
          "nan_count": 0,
          "min": "12.0",
          "max": "36.0",
          "histogram": [
           {
            "bin_start": 12,
            "bin_end": 14.4,
            "count": 3
           },
           {
            "bin_start": 14.4,
            "bin_end": 16.8,
            "count": 0
           },
           {
            "bin_start": 16.8,
            "bin_end": 19.2,
            "count": 0
           },
           {
            "bin_start": 19.2,
            "bin_end": 21.6,
            "count": 0
           },
           {
            "bin_start": 21.6,
            "bin_end": 24,
            "count": 0
           },
           {
            "bin_start": 24,
            "bin_end": 26.4,
            "count": 1
           },
           {
            "bin_start": 26.4,
            "bin_end": 28.8,
            "count": 0
           },
           {
            "bin_start": 28.8,
            "bin_end": 31.2,
            "count": 0
           },
           {
            "bin_start": 31.2,
            "bin_end": 33.599999999999994,
            "count": 0
           },
           {
            "bin_start": 33.599999999999994,
            "bin_end": 36,
            "count": 1
           }
          ]
         }
        },
        {
         "name": "NAME_YIELD_GROUP",
         "dtype": "object",
         "stats": {
          "unique_count": 3,
          "nan_count": 0,
          "categories": [
           {
            "name": "middle",
            "count": 2
           },
           {
            "name": "high",
            "count": 2
           },
           {
            "name": "low_action",
            "count": 1
           }
          ]
         }
        },
        {
         "name": "PRODUCT_COMBINATION",
         "dtype": "object",
         "stats": {
          "unique_count": 5,
          "nan_count": 0,
          "categories": [
           {
            "name": "POS mobile with interest",
            "count": 1
           },
           {
            "name": "Cash X-Sell: low",
            "count": 1
           },
           {
            "name": "3 others",
            "count": 3
           }
          ]
         }
        },
        {
         "name": "DAYS_FIRST_DRAWING",
         "dtype": "float64",
         "stats": {
          "unique_count": 1,
          "nan_count": 1,
          "min": "365243.0",
          "max": "365243.0",
          "histogram": [
           {
            "bin_start": 365242.5,
            "bin_end": 365242.6,
            "count": 0
           },
           {
            "bin_start": 365242.6,
            "bin_end": 365242.7,
            "count": 0
           },
           {
            "bin_start": 365242.7,
            "bin_end": 365242.8,
            "count": 0
           },
           {
            "bin_start": 365242.8,
            "bin_end": 365242.9,
            "count": 0
           },
           {
            "bin_start": 365242.9,
            "bin_end": 365243,
            "count": 0
           },
           {
            "bin_start": 365243,
            "bin_end": 365243.1,
            "count": 4
           },
           {
            "bin_start": 365243.1,
            "bin_end": 365243.2,
            "count": 0
           },
           {
            "bin_start": 365243.2,
            "bin_end": 365243.3,
            "count": 0
           },
           {
            "bin_start": 365243.3,
            "bin_end": 365243.4,
            "count": 0
           },
           {
            "bin_start": 365243.4,
            "bin_end": 365243.5,
            "count": 0
           }
          ]
         }
        },
        {
         "name": "DAYS_FIRST_DUE",
         "dtype": "float64",
         "stats": {
          "unique_count": 4,
          "nan_count": 1,
          "min": "-482.0",
          "max": "-42.0",
          "histogram": [
           {
            "bin_start": -482,
            "bin_end": -438,
            "count": 1
           },
           {
            "bin_start": -438,
            "bin_end": -394,
            "count": 0
           },
           {
            "bin_start": -394,
            "bin_end": -350,
            "count": 0
           },
           {
            "bin_start": -350,
            "bin_end": -306,
            "count": 0
           },
           {
            "bin_start": -306,
            "bin_end": -262,
            "count": 1
           },
           {
            "bin_start": -262,
            "bin_end": -218,
            "count": 0
           },
           {
            "bin_start": -218,
            "bin_end": -174,
            "count": 0
           },
           {
            "bin_start": -174,
            "bin_end": -130,
            "count": 1
           },
           {
            "bin_start": -130,
            "bin_end": -86,
            "count": 0
           },
           {
            "bin_start": -86,
            "bin_end": -42,
            "count": 1
           }
          ]
         }
        },
        {
         "name": "DAYS_LAST_DUE_1ST_VERSION",
         "dtype": "float64",
         "stats": {
          "unique_count": 4,
          "nan_count": 1,
          "min": "-152.0",
          "max": "916.0",
          "histogram": [
           {
            "bin_start": -152,
            "bin_end": -45.2,
            "count": 1
           },
           {
            "bin_start": -45.2,
            "bin_end": 61.599999999999994,
            "count": 1
           },
           {
            "bin_start": 61.599999999999994,
            "bin_end": 168.39999999999998,
            "count": 0
           },
           {
            "bin_start": 168.39999999999998,
            "bin_end": 275.2,
            "count": 0
           },
           {
            "bin_start": 275.2,
            "bin_end": 382,
            "count": 1
           },
           {
            "bin_start": 382,
            "bin_end": 488.79999999999995,
            "count": 0
           },
           {
            "bin_start": 488.79999999999995,
            "bin_end": 595.6,
            "count": 0
           },
           {
            "bin_start": 595.6,
            "bin_end": 702.4,
            "count": 0
           },
           {
            "bin_start": 702.4,
            "bin_end": 809.1999999999999,
            "count": 0
           },
           {
            "bin_start": 809.1999999999999,
            "bin_end": 916,
            "count": 1
           }
          ]
         }
        },
        {
         "name": "DAYS_LAST_DUE",
         "dtype": "float64",
         "stats": {
          "unique_count": 3,
          "nan_count": 1,
          "min": "-182.0",
          "max": "365243.0",
          "histogram": [
           {
            "bin_start": -182,
            "bin_end": 36360.5,
            "count": 2
           },
           {
            "bin_start": 36360.5,
            "bin_end": 72903,
            "count": 0
           },
           {
            "bin_start": 72903,
            "bin_end": 109445.5,
            "count": 0
           },
           {
            "bin_start": 109445.5,
            "bin_end": 145988,
            "count": 0
           },
           {
            "bin_start": 145988,
            "bin_end": 182530.5,
            "count": 0
           },
           {
            "bin_start": 182530.5,
            "bin_end": 219073,
            "count": 0
           },
           {
            "bin_start": 219073,
            "bin_end": 255615.5,
            "count": 0
           },
           {
            "bin_start": 255615.5,
            "bin_end": 292158,
            "count": 0
           },
           {
            "bin_start": 292158,
            "bin_end": 328700.5,
            "count": 0
           },
           {
            "bin_start": 328700.5,
            "bin_end": 365243,
            "count": 2
           }
          ]
         }
        },
        {
         "name": "DAYS_TERMINATION",
         "dtype": "float64",
         "stats": {
          "unique_count": 3,
          "nan_count": 1,
          "min": "-177.0",
          "max": "365243.0",
          "histogram": [
           {
            "bin_start": -177,
            "bin_end": 36365,
            "count": 2
           },
           {
            "bin_start": 36365,
            "bin_end": 72907,
            "count": 0
           },
           {
            "bin_start": 72907,
            "bin_end": 109449,
            "count": 0
           },
           {
            "bin_start": 109449,
            "bin_end": 145991,
            "count": 0
           },
           {
            "bin_start": 145991,
            "bin_end": 182533,
            "count": 0
           },
           {
            "bin_start": 182533,
            "bin_end": 219075,
            "count": 0
           },
           {
            "bin_start": 219075,
            "bin_end": 255617,
            "count": 0
           },
           {
            "bin_start": 255617,
            "bin_end": 292159,
            "count": 0
           },
           {
            "bin_start": 292159,
            "bin_end": 328701,
            "count": 0
           },
           {
            "bin_start": 328701,
            "bin_end": 365243,
            "count": 2
           }
          ]
         }
        },
        {
         "name": "NFLAG_INSURED_ON_APPROVAL",
         "dtype": "float64",
         "stats": {
          "unique_count": 2,
          "nan_count": 1,
          "min": "0.0",
          "max": "1.0",
          "histogram": [
           {
            "bin_start": 0,
            "bin_end": 0.1,
            "count": 1
           },
           {
            "bin_start": 0.1,
            "bin_end": 0.2,
            "count": 0
           },
           {
            "bin_start": 0.2,
            "bin_end": 0.30000000000000004,
            "count": 0
           },
           {
            "bin_start": 0.30000000000000004,
            "bin_end": 0.4,
            "count": 0
           },
           {
            "bin_start": 0.4,
            "bin_end": 0.5,
            "count": 0
           },
           {
            "bin_start": 0.5,
            "bin_end": 0.6000000000000001,
            "count": 0
           },
           {
            "bin_start": 0.6000000000000001,
            "bin_end": 0.7000000000000001,
            "count": 0
           },
           {
            "bin_start": 0.7000000000000001,
            "bin_end": 0.8,
            "count": 0
           },
           {
            "bin_start": 0.8,
            "bin_end": 0.9,
            "count": 0
           },
           {
            "bin_start": 0.9,
            "bin_end": 1,
            "count": 3
           }
          ]
         }
        },
        {
         "name": "_deepnote_index_column",
         "dtype": "int64"
        }
       ],
       "rows_top": [
        {
         "SK_ID_PREV": 2030495,
         "SK_ID_CURR": 271877,
         "NAME_CONTRACT_TYPE": "Consumer loans",
         "AMT_ANNUITY": 1730.43,
         "AMT_APPLICATION": 17145,
         "AMT_CREDIT": 17145,
         "AMT_DOWN_PAYMENT": 0,
         "AMT_GOODS_PRICE": 17145,
         "WEEKDAY_APPR_PROCESS_START": "SATURDAY",
         "HOUR_APPR_PROCESS_START": 15,
         "FLAG_LAST_APPL_PER_CONTRACT": "Y",
         "NFLAG_LAST_APPL_IN_DAY": 1,
         "RATE_DOWN_PAYMENT": 0,
         "RATE_INTEREST_PRIMARY": 0.1828318032415278,
         "RATE_INTEREST_PRIVILEGED": 0.8673361522198731,
         "NAME_CASH_LOAN_PURPOSE": "XAP",
         "NAME_CONTRACT_STATUS": "Approved",
         "DAYS_DECISION": -73,
         "NAME_PAYMENT_TYPE": "Cash through the bank",
         "CODE_REJECT_REASON": "XAP",
         "NAME_TYPE_SUITE": "nan",
         "NAME_CLIENT_TYPE": "Repeater",
         "NAME_GOODS_CATEGORY": "Mobile",
         "NAME_PORTFOLIO": "POS",
         "NAME_PRODUCT_TYPE": "XNA",
         "CHANNEL_TYPE": "Country-wide",
         "SELLERPLACE_AREA": 35,
         "NAME_SELLER_INDUSTRY": "Connectivity",
         "CNT_PAYMENT": 12,
         "NAME_YIELD_GROUP": "middle",
         "PRODUCT_COMBINATION": "POS mobile with interest",
         "DAYS_FIRST_DRAWING": 365243,
         "DAYS_FIRST_DUE": -42,
         "DAYS_LAST_DUE_1ST_VERSION": 300,
         "DAYS_LAST_DUE": -42,
         "DAYS_TERMINATION": -37,
         "NFLAG_INSURED_ON_APPROVAL": 0,
         "_deepnote_index_column": 0
        },
        {
         "SK_ID_PREV": 2802425,
         "SK_ID_CURR": 108129,
         "NAME_CONTRACT_TYPE": "Cash loans",
         "AMT_ANNUITY": 25188.615,
         "AMT_APPLICATION": 607500,
         "AMT_CREDIT": 679671,
         "AMT_DOWN_PAYMENT": "nan",
         "AMT_GOODS_PRICE": 607500,
         "WEEKDAY_APPR_PROCESS_START": "THURSDAY",
         "HOUR_APPR_PROCESS_START": 11,
         "FLAG_LAST_APPL_PER_CONTRACT": "Y",
         "NFLAG_LAST_APPL_IN_DAY": 1,
         "RATE_DOWN_PAYMENT": "nan",
         "RATE_INTEREST_PRIMARY": "nan",
         "RATE_INTEREST_PRIVILEGED": "nan",
         "NAME_CASH_LOAN_PURPOSE": "XNA",
         "NAME_CONTRACT_STATUS": "Approved",
         "DAYS_DECISION": -164,
         "NAME_PAYMENT_TYPE": "XNA",
         "CODE_REJECT_REASON": "XAP",
         "NAME_TYPE_SUITE": "Unaccompanied",
         "NAME_CLIENT_TYPE": "Repeater",
         "NAME_GOODS_CATEGORY": "XNA",
         "NAME_PORTFOLIO": "Cash",
         "NAME_PRODUCT_TYPE": "x-sell",
         "CHANNEL_TYPE": "Contact center",
         "SELLERPLACE_AREA": -1,
         "NAME_SELLER_INDUSTRY": "XNA",
         "CNT_PAYMENT": 36,
         "NAME_YIELD_GROUP": "low_action",
         "PRODUCT_COMBINATION": "Cash X-Sell: low",
         "DAYS_FIRST_DRAWING": 365243,
         "DAYS_FIRST_DUE": -134,
         "DAYS_LAST_DUE_1ST_VERSION": 916,
         "DAYS_LAST_DUE": 365243,
         "DAYS_TERMINATION": 365243,
         "NFLAG_INSURED_ON_APPROVAL": 1,
         "_deepnote_index_column": 1
        },
        {
         "SK_ID_PREV": 2523466,
         "SK_ID_CURR": 122040,
         "NAME_CONTRACT_TYPE": "Cash loans",
         "AMT_ANNUITY": 15060.735,
         "AMT_APPLICATION": 112500,
         "AMT_CREDIT": 136444.5,
         "AMT_DOWN_PAYMENT": "nan",
         "AMT_GOODS_PRICE": 112500,
         "WEEKDAY_APPR_PROCESS_START": "TUESDAY",
         "HOUR_APPR_PROCESS_START": 11,
         "FLAG_LAST_APPL_PER_CONTRACT": "Y",
         "NFLAG_LAST_APPL_IN_DAY": 1,
         "RATE_DOWN_PAYMENT": "nan",
         "RATE_INTEREST_PRIMARY": "nan",
         "RATE_INTEREST_PRIVILEGED": "nan",
         "NAME_CASH_LOAN_PURPOSE": "XNA",
         "NAME_CONTRACT_STATUS": "Approved",
         "DAYS_DECISION": -301,
         "NAME_PAYMENT_TYPE": "Cash through the bank",
         "CODE_REJECT_REASON": "XAP",
         "NAME_TYPE_SUITE": "Spouse, partner",
         "NAME_CLIENT_TYPE": "Repeater",
         "NAME_GOODS_CATEGORY": "XNA",
         "NAME_PORTFOLIO": "Cash",
         "NAME_PRODUCT_TYPE": "x-sell",
         "CHANNEL_TYPE": "Credit and cash offices",
         "SELLERPLACE_AREA": -1,
         "NAME_SELLER_INDUSTRY": "XNA",
         "CNT_PAYMENT": 12,
         "NAME_YIELD_GROUP": "high",
         "PRODUCT_COMBINATION": "Cash X-Sell: high",
         "DAYS_FIRST_DRAWING": 365243,
         "DAYS_FIRST_DUE": -271,
         "DAYS_LAST_DUE_1ST_VERSION": 59,
         "DAYS_LAST_DUE": 365243,
         "DAYS_TERMINATION": 365243,
         "NFLAG_INSURED_ON_APPROVAL": 1,
         "_deepnote_index_column": 2
        },
        {
         "SK_ID_PREV": 2819243,
         "SK_ID_CURR": 176158,
         "NAME_CONTRACT_TYPE": "Cash loans",
         "AMT_ANNUITY": 47041.335,
         "AMT_APPLICATION": 450000,
         "AMT_CREDIT": 470790,
         "AMT_DOWN_PAYMENT": "nan",
         "AMT_GOODS_PRICE": 450000,
         "WEEKDAY_APPR_PROCESS_START": "MONDAY",
         "HOUR_APPR_PROCESS_START": 7,
         "FLAG_LAST_APPL_PER_CONTRACT": "Y",
         "NFLAG_LAST_APPL_IN_DAY": 1,
         "RATE_DOWN_PAYMENT": "nan",
         "RATE_INTEREST_PRIMARY": "nan",
         "RATE_INTEREST_PRIVILEGED": "nan",
         "NAME_CASH_LOAN_PURPOSE": "XNA",
         "NAME_CONTRACT_STATUS": "Approved",
         "DAYS_DECISION": -512,
         "NAME_PAYMENT_TYPE": "Cash through the bank",
         "CODE_REJECT_REASON": "XAP",
         "NAME_TYPE_SUITE": "nan",
         "NAME_CLIENT_TYPE": "Repeater",
         "NAME_GOODS_CATEGORY": "XNA",
         "NAME_PORTFOLIO": "Cash",
         "NAME_PRODUCT_TYPE": "x-sell",
         "CHANNEL_TYPE": "Credit and cash offices",
         "SELLERPLACE_AREA": -1,
         "NAME_SELLER_INDUSTRY": "XNA",
         "CNT_PAYMENT": 12,
         "NAME_YIELD_GROUP": "middle",
         "PRODUCT_COMBINATION": "Cash X-Sell: middle",
         "DAYS_FIRST_DRAWING": 365243,
         "DAYS_FIRST_DUE": -482,
         "DAYS_LAST_DUE_1ST_VERSION": -152,
         "DAYS_LAST_DUE": -182,
         "DAYS_TERMINATION": -177,
         "NFLAG_INSURED_ON_APPROVAL": 1,
         "_deepnote_index_column": 3
        },
        {
         "SK_ID_PREV": 1784265,
         "SK_ID_CURR": 202054,
         "NAME_CONTRACT_TYPE": "Cash loans",
         "AMT_ANNUITY": 31924.395,
         "AMT_APPLICATION": 337500,
         "AMT_CREDIT": 404055,
         "AMT_DOWN_PAYMENT": "nan",
         "AMT_GOODS_PRICE": 337500,
         "WEEKDAY_APPR_PROCESS_START": "THURSDAY",
         "HOUR_APPR_PROCESS_START": 9,
         "FLAG_LAST_APPL_PER_CONTRACT": "Y",
         "NFLAG_LAST_APPL_IN_DAY": 1,
         "RATE_DOWN_PAYMENT": "nan",
         "RATE_INTEREST_PRIMARY": "nan",
         "RATE_INTEREST_PRIVILEGED": "nan",
         "NAME_CASH_LOAN_PURPOSE": "Repairs",
         "NAME_CONTRACT_STATUS": "Refused",
         "DAYS_DECISION": -781,
         "NAME_PAYMENT_TYPE": "Cash through the bank",
         "CODE_REJECT_REASON": "HC",
         "NAME_TYPE_SUITE": "nan",
         "NAME_CLIENT_TYPE": "Repeater",
         "NAME_GOODS_CATEGORY": "XNA",
         "NAME_PORTFOLIO": "Cash",
         "NAME_PRODUCT_TYPE": "walk-in",
         "CHANNEL_TYPE": "Credit and cash offices",
         "SELLERPLACE_AREA": -1,
         "NAME_SELLER_INDUSTRY": "XNA",
         "CNT_PAYMENT": 24,
         "NAME_YIELD_GROUP": "high",
         "PRODUCT_COMBINATION": "Cash Street: high",
         "DAYS_FIRST_DRAWING": "nan",
         "DAYS_FIRST_DUE": "nan",
         "DAYS_LAST_DUE_1ST_VERSION": "nan",
         "DAYS_LAST_DUE": "nan",
         "DAYS_TERMINATION": "nan",
         "NFLAG_INSURED_ON_APPROVAL": "nan",
         "_deepnote_index_column": 4
        }
       ],
       "rows_bottom": null
      },
      "text/plain": "   SK_ID_PREV  SK_ID_CURR NAME_CONTRACT_TYPE  AMT_ANNUITY  AMT_APPLICATION  \\\n0     2030495      271877     Consumer loans     1730.430          17145.0   \n1     2802425      108129         Cash loans    25188.615         607500.0   \n2     2523466      122040         Cash loans    15060.735         112500.0   \n3     2819243      176158         Cash loans    47041.335         450000.0   \n4     1784265      202054         Cash loans    31924.395         337500.0   \n\n   AMT_CREDIT  AMT_DOWN_PAYMENT  AMT_GOODS_PRICE WEEKDAY_APPR_PROCESS_START  \\\n0     17145.0               0.0          17145.0                   SATURDAY   \n1    679671.0               NaN         607500.0                   THURSDAY   \n2    136444.5               NaN         112500.0                    TUESDAY   \n3    470790.0               NaN         450000.0                     MONDAY   \n4    404055.0               NaN         337500.0                   THURSDAY   \n\n   HOUR_APPR_PROCESS_START  ... NAME_SELLER_INDUSTRY  CNT_PAYMENT  \\\n0                       15  ...         Connectivity         12.0   \n1                       11  ...                  XNA         36.0   \n2                       11  ...                  XNA         12.0   \n3                        7  ...                  XNA         12.0   \n4                        9  ...                  XNA         24.0   \n\n   NAME_YIELD_GROUP       PRODUCT_COMBINATION  DAYS_FIRST_DRAWING  \\\n0            middle  POS mobile with interest            365243.0   \n1        low_action          Cash X-Sell: low            365243.0   \n2              high         Cash X-Sell: high            365243.0   \n3            middle       Cash X-Sell: middle            365243.0   \n4              high         Cash Street: high                 NaN   \n\n  DAYS_FIRST_DUE DAYS_LAST_DUE_1ST_VERSION  DAYS_LAST_DUE DAYS_TERMINATION  \\\n0          -42.0                     300.0          -42.0            -37.0   \n1         -134.0                     916.0       365243.0         365243.0   \n2         -271.0                      59.0       365243.0         365243.0   \n3         -482.0                    -152.0         -182.0           -177.0   \n4            NaN                       NaN            NaN              NaN   \n\n  NFLAG_INSURED_ON_APPROVAL  \n0                       0.0  \n1                       1.0  \n2                       1.0  \n3                       1.0  \n4                       NaN  \n\n[5 rows x 37 columns]",
      "text/html": "<div>\n<style scoped>\n    .dataframe tbody tr th:only-of-type {\n        vertical-align: middle;\n    }\n\n    .dataframe tbody tr th {\n        vertical-align: top;\n    }\n\n    .dataframe thead th {\n        text-align: right;\n    }\n</style>\n<table border=\"1\" class=\"dataframe\">\n  <thead>\n    <tr style=\"text-align: right;\">\n      <th></th>\n      <th>SK_ID_PREV</th>\n      <th>SK_ID_CURR</th>\n      <th>NAME_CONTRACT_TYPE</th>\n      <th>AMT_ANNUITY</th>\n      <th>AMT_APPLICATION</th>\n      <th>AMT_CREDIT</th>\n      <th>AMT_DOWN_PAYMENT</th>\n      <th>AMT_GOODS_PRICE</th>\n      <th>WEEKDAY_APPR_PROCESS_START</th>\n      <th>HOUR_APPR_PROCESS_START</th>\n      <th>...</th>\n      <th>NAME_SELLER_INDUSTRY</th>\n      <th>CNT_PAYMENT</th>\n      <th>NAME_YIELD_GROUP</th>\n      <th>PRODUCT_COMBINATION</th>\n      <th>DAYS_FIRST_DRAWING</th>\n      <th>DAYS_FIRST_DUE</th>\n      <th>DAYS_LAST_DUE_1ST_VERSION</th>\n      <th>DAYS_LAST_DUE</th>\n      <th>DAYS_TERMINATION</th>\n      <th>NFLAG_INSURED_ON_APPROVAL</th>\n    </tr>\n  </thead>\n  <tbody>\n    <tr>\n      <th>0</th>\n      <td>2030495</td>\n      <td>271877</td>\n      <td>Consumer loans</td>\n      <td>1730.430</td>\n      <td>17145.0</td>\n      <td>17145.0</td>\n      <td>0.0</td>\n      <td>17145.0</td>\n      <td>SATURDAY</td>\n      <td>15</td>\n      <td>...</td>\n      <td>Connectivity</td>\n      <td>12.0</td>\n      <td>middle</td>\n      <td>POS mobile with interest</td>\n      <td>365243.0</td>\n      <td>-42.0</td>\n      <td>300.0</td>\n      <td>-42.0</td>\n      <td>-37.0</td>\n      <td>0.0</td>\n    </tr>\n    <tr>\n      <th>1</th>\n      <td>2802425</td>\n      <td>108129</td>\n      <td>Cash loans</td>\n      <td>25188.615</td>\n      <td>607500.0</td>\n      <td>679671.0</td>\n      <td>NaN</td>\n      <td>607500.0</td>\n      <td>THURSDAY</td>\n      <td>11</td>\n      <td>...</td>\n      <td>XNA</td>\n      <td>36.0</td>\n      <td>low_action</td>\n      <td>Cash X-Sell: low</td>\n      <td>365243.0</td>\n      <td>-134.0</td>\n      <td>916.0</td>\n      <td>365243.0</td>\n      <td>365243.0</td>\n      <td>1.0</td>\n    </tr>\n    <tr>\n      <th>2</th>\n      <td>2523466</td>\n      <td>122040</td>\n      <td>Cash loans</td>\n      <td>15060.735</td>\n      <td>112500.0</td>\n      <td>136444.5</td>\n      <td>NaN</td>\n      <td>112500.0</td>\n      <td>TUESDAY</td>\n      <td>11</td>\n      <td>...</td>\n      <td>XNA</td>\n      <td>12.0</td>\n      <td>high</td>\n      <td>Cash X-Sell: high</td>\n      <td>365243.0</td>\n      <td>-271.0</td>\n      <td>59.0</td>\n      <td>365243.0</td>\n      <td>365243.0</td>\n      <td>1.0</td>\n    </tr>\n    <tr>\n      <th>3</th>\n      <td>2819243</td>\n      <td>176158</td>\n      <td>Cash loans</td>\n      <td>47041.335</td>\n      <td>450000.0</td>\n      <td>470790.0</td>\n      <td>NaN</td>\n      <td>450000.0</td>\n      <td>MONDAY</td>\n      <td>7</td>\n      <td>...</td>\n      <td>XNA</td>\n      <td>12.0</td>\n      <td>middle</td>\n      <td>Cash X-Sell: middle</td>\n      <td>365243.0</td>\n      <td>-482.0</td>\n      <td>-152.0</td>\n      <td>-182.0</td>\n      <td>-177.0</td>\n      <td>1.0</td>\n    </tr>\n    <tr>\n      <th>4</th>\n      <td>1784265</td>\n      <td>202054</td>\n      <td>Cash loans</td>\n      <td>31924.395</td>\n      <td>337500.0</td>\n      <td>404055.0</td>\n      <td>NaN</td>\n      <td>337500.0</td>\n      <td>THURSDAY</td>\n      <td>9</td>\n      <td>...</td>\n      <td>XNA</td>\n      <td>24.0</td>\n      <td>high</td>\n      <td>Cash Street: high</td>\n      <td>NaN</td>\n      <td>NaN</td>\n      <td>NaN</td>\n      <td>NaN</td>\n      <td>NaN</td>\n      <td>NaN</td>\n    </tr>\n  </tbody>\n</table>\n<p>5 rows × 37 columns</p>\n</div>"
     },
     "metadata": {}
    }
   ]
  },
  {
   "cell_type": "code",
   "metadata": {
    "tags": [],
    "cell_id": "00004-7c63fab5-d6f9-4421-95cb-257908380d9e",
    "deepnote_to_be_reexecuted": false,
    "source_hash": "bed59b22",
    "execution_start": 1628798628469,
    "execution_millis": 74,
    "deepnote_cell_type": "code"
   },
   "source": "prev_app.NAME_CONTRACT_STATUS.value_counts()",
   "execution_count": 4,
   "outputs": [
    {
     "output_type": "execute_result",
     "execution_count": 4,
     "data": {
      "text/plain": "Approved        1036781\nCanceled         316319\nRefused          290678\nUnused offer      26436\nName: NAME_CONTRACT_STATUS, dtype: int64"
     },
     "metadata": {}
    }
   ]
  },
  {
   "cell_type": "code",
   "metadata": {
    "tags": [],
    "cell_id": "00005-82b5c99b-7506-49a9-a57d-d2aacd42f1ab",
    "deepnote_to_be_reexecuted": false,
    "source_hash": "cd3c4008",
    "execution_start": 1628798628541,
    "execution_millis": 61,
    "deepnote_cell_type": "code"
   },
   "source": "# Were current customers approved for a previous loan?\nprint(app_train.SK_ID_CURR.isin(prev_app.SK_ID_CURR).value_counts())\nprint(app_test.SK_ID_CURR.isin(prev_app.SK_ID_CURR).value_counts())",
   "execution_count": 5,
   "outputs": [
    {
     "name": "stdout",
     "text": "True     291057\nFalse     16454\nName: SK_ID_CURR, dtype: int64\nTrue     47800\nFalse      944\nName: SK_ID_CURR, dtype: int64\n",
     "output_type": "stream"
    }
   ]
  },
  {
   "cell_type": "markdown",
   "source": "Not everyone has previously applied for a credit line from Home Credit thus there are quite a few new borrowers, 16454 in fact. Makes sense given the areas Home Credit usually services, meaning since they primarily service Asian countries which tend to be largely cash based blah blah something about them not really using banks and there being the potential for a lot of new customers for lenders (emerging new markets).",
   "metadata": {
    "tags": [],
    "cell_id": "00005-55e1fcd3-1338-4817-ba34-6ead884c11d0",
    "deepnote_cell_type": "markdown"
   }
  },
  {
   "cell_type": "code",
   "metadata": {
    "tags": [],
    "cell_id": "00008-2218405f-be63-414c-8fa4-ea29458adf24",
    "deepnote_to_be_reexecuted": false,
    "source_hash": "a7cb0658",
    "execution_start": 1628798628600,
    "execution_millis": 204,
    "deepnote_cell_type": "code"
   },
   "source": "# How many have the current customers applied for loans before? What is their approval rate?\napproval_rate = prev_app.groupby(\"SK_ID_CURR\").NAME_CONTRACT_STATUS.agg(total_apps = \"count\").reset_index()\napproval_rate.total_apps",
   "execution_count": 6,
   "outputs": [
    {
     "output_type": "execute_result",
     "execution_count": 6,
     "data": {
      "text/plain": "0         1\n1         1\n2         3\n3         1\n4         2\n         ..\n338852    1\n338853    1\n338854    2\n338855    2\n338856    8\nName: total_apps, Length: 338857, dtype: int64"
     },
     "metadata": {}
    }
   ]
  },
  {
   "cell_type": "code",
   "metadata": {
    "tags": [],
    "cell_id": "00009-c2adecc0-d7c4-41ae-a7dd-8ea42cf7b0b3",
    "deepnote_to_be_reexecuted": false,
    "source_hash": "7d7e5bda",
    "execution_start": 1628798628807,
    "execution_millis": 6049,
    "deepnote_cell_type": "code"
   },
   "source": "approval_rate = pd.pivot_table(prev_app, index = [\"SK_ID_CURR\"], columns = [\"NAME_CONTRACT_STATUS\"], values = \"AMT_ANNUITY\", aggfunc = len, fill_value=0)",
   "execution_count": 7,
   "outputs": []
  },
  {
   "cell_type": "code",
   "metadata": {
    "tags": [],
    "cell_id": "00008-fabcb2fb-789b-4960-bcc4-0e351924300e",
    "deepnote_to_be_reexecuted": true,
    "source_hash": "38e6232e",
    "execution_start": 1628798634858,
    "execution_millis": 134553,
    "deepnote_cell_type": "code"
   },
   "source": "rates = approval_rate.apply(lambda x: x/sum(x), axis = 1)\nrates.columns = rates.columns + \"_rate\"",
   "outputs": [],
   "execution_count": null
  },
  {
   "cell_type": "code",
   "metadata": {
    "tags": [],
    "cell_id": "00012-61912df0-810a-472b-8d35-4a2d89f52f71",
    "deepnote_to_be_reexecuted": true,
    "source_hash": "c7ecaf5b",
    "execution_start": 1628795548399,
    "execution_millis": 1,
    "deepnote_cell_type": "code"
   },
   "source": "approval_rate[\"total_apps\"] = approval_rate.sum(axis = 1)\napproval_rate\napproval_rate = approval_rate.join(rates)",
   "outputs": [],
   "execution_count": null
  },
  {
   "cell_type": "code",
   "metadata": {
    "tags": [],
    "cell_id": "00013-b4807abd-ca33-4f88-bda3-f8aea4e126fb",
    "deepnote_to_be_reexecuted": true,
    "source_hash": "ad9fdccc",
    "execution_start": 1628795548401,
    "execution_millis": 78,
    "deepnote_cell_type": "code"
   },
   "source": "approval_rate = approval_rate.reset_index()\napproval_rate.head()",
   "outputs": [
    {
     "output_type": "execute_result",
     "execution_count": 10,
     "data": {
      "application/vnd.deepnote.dataframe.v2+json": {
       "row_count": 5,
       "column_count": 10,
       "columns": [
        {
         "name": "SK_ID_CURR",
         "dtype": "int64",
         "stats": {
          "unique_count": 5,
          "nan_count": 0,
          "min": "100001",
          "max": "100005",
          "histogram": [
           {
            "bin_start": 100001,
            "bin_end": 100001.4,
            "count": 1
           },
           {
            "bin_start": 100001.4,
            "bin_end": 100001.8,
            "count": 0
           },
           {
            "bin_start": 100001.8,
            "bin_end": 100002.2,
            "count": 1
           },
           {
            "bin_start": 100002.2,
            "bin_end": 100002.6,
            "count": 0
           },
           {
            "bin_start": 100002.6,
            "bin_end": 100003,
            "count": 0
           },
           {
            "bin_start": 100003,
            "bin_end": 100003.4,
            "count": 1
           },
           {
            "bin_start": 100003.4,
            "bin_end": 100003.8,
            "count": 0
           },
           {
            "bin_start": 100003.8,
            "bin_end": 100004.2,
            "count": 1
           },
           {
            "bin_start": 100004.2,
            "bin_end": 100004.6,
            "count": 0
           },
           {
            "bin_start": 100004.6,
            "bin_end": 100005,
            "count": 1
           }
          ]
         }
        },
        {
         "name": "Approved",
         "dtype": "int64",
         "stats": {
          "unique_count": 2,
          "nan_count": 0,
          "min": "1",
          "max": "3",
          "histogram": [
           {
            "bin_start": 1,
            "bin_end": 1.2,
            "count": 4
           },
           {
            "bin_start": 1.2,
            "bin_end": 1.4,
            "count": 0
           },
           {
            "bin_start": 1.4,
            "bin_end": 1.6,
            "count": 0
           },
           {
            "bin_start": 1.6,
            "bin_end": 1.8,
            "count": 0
           },
           {
            "bin_start": 1.8,
            "bin_end": 2,
            "count": 0
           },
           {
            "bin_start": 2,
            "bin_end": 2.2,
            "count": 0
           },
           {
            "bin_start": 2.2,
            "bin_end": 2.4000000000000004,
            "count": 0
           },
           {
            "bin_start": 2.4000000000000004,
            "bin_end": 2.6,
            "count": 0
           },
           {
            "bin_start": 2.6,
            "bin_end": 2.8,
            "count": 0
           },
           {
            "bin_start": 2.8,
            "bin_end": 3,
            "count": 1
           }
          ]
         }
        },
        {
         "name": "Canceled",
         "dtype": "int64",
         "stats": {
          "unique_count": 2,
          "nan_count": 0,
          "min": "0",
          "max": "1",
          "histogram": [
           {
            "bin_start": 0,
            "bin_end": 0.1,
            "count": 4
           },
           {
            "bin_start": 0.1,
            "bin_end": 0.2,
            "count": 0
           },
           {
            "bin_start": 0.2,
            "bin_end": 0.30000000000000004,
            "count": 0
           },
           {
            "bin_start": 0.30000000000000004,
            "bin_end": 0.4,
            "count": 0
           },
           {
            "bin_start": 0.4,
            "bin_end": 0.5,
            "count": 0
           },
           {
            "bin_start": 0.5,
            "bin_end": 0.6000000000000001,
            "count": 0
           },
           {
            "bin_start": 0.6000000000000001,
            "bin_end": 0.7000000000000001,
            "count": 0
           },
           {
            "bin_start": 0.7000000000000001,
            "bin_end": 0.8,
            "count": 0
           },
           {
            "bin_start": 0.8,
            "bin_end": 0.9,
            "count": 0
           },
           {
            "bin_start": 0.9,
            "bin_end": 1,
            "count": 1
           }
          ]
         }
        },
        {
         "name": "Refused",
         "dtype": "int64",
         "stats": {
          "unique_count": 1,
          "nan_count": 0,
          "min": "0",
          "max": "0",
          "histogram": [
           {
            "bin_start": -0.5,
            "bin_end": -0.4,
            "count": 0
           },
           {
            "bin_start": -0.4,
            "bin_end": -0.3,
            "count": 0
           },
           {
            "bin_start": -0.3,
            "bin_end": -0.19999999999999996,
            "count": 0
           },
           {
            "bin_start": -0.19999999999999996,
            "bin_end": -0.09999999999999998,
            "count": 0
           },
           {
            "bin_start": -0.09999999999999998,
            "bin_end": 0,
            "count": 0
           },
           {
            "bin_start": 0,
            "bin_end": 0.10000000000000009,
            "count": 5
           },
           {
            "bin_start": 0.10000000000000009,
            "bin_end": 0.20000000000000007,
            "count": 0
           },
           {
            "bin_start": 0.20000000000000007,
            "bin_end": 0.30000000000000004,
            "count": 0
           },
           {
            "bin_start": 0.30000000000000004,
            "bin_end": 0.4,
            "count": 0
           },
           {
            "bin_start": 0.4,
            "bin_end": 0.5,
            "count": 0
           }
          ]
         }
        },
        {
         "name": "Unused offer",
         "dtype": "int64",
         "stats": {
          "unique_count": 1,
          "nan_count": 0,
          "min": "0",
          "max": "0",
          "histogram": [
           {
            "bin_start": -0.5,
            "bin_end": -0.4,
            "count": 0
           },
           {
            "bin_start": -0.4,
            "bin_end": -0.3,
            "count": 0
           },
           {
            "bin_start": -0.3,
            "bin_end": -0.19999999999999996,
            "count": 0
           },
           {
            "bin_start": -0.19999999999999996,
            "bin_end": -0.09999999999999998,
            "count": 0
           },
           {
            "bin_start": -0.09999999999999998,
            "bin_end": 0,
            "count": 0
           },
           {
            "bin_start": 0,
            "bin_end": 0.10000000000000009,
            "count": 5
           },
           {
            "bin_start": 0.10000000000000009,
            "bin_end": 0.20000000000000007,
            "count": 0
           },
           {
            "bin_start": 0.20000000000000007,
            "bin_end": 0.30000000000000004,
            "count": 0
           },
           {
            "bin_start": 0.30000000000000004,
            "bin_end": 0.4,
            "count": 0
           },
           {
            "bin_start": 0.4,
            "bin_end": 0.5,
            "count": 0
           }
          ]
         }
        },
        {
         "name": "total_apps",
         "dtype": "int64",
         "stats": {
          "unique_count": 3,
          "nan_count": 0,
          "min": "1",
          "max": "3",
          "histogram": [
           {
            "bin_start": 1,
            "bin_end": 1.2,
            "count": 3
           },
           {
            "bin_start": 1.2,
            "bin_end": 1.4,
            "count": 0
           },
           {
            "bin_start": 1.4,
            "bin_end": 1.6,
            "count": 0
           },
           {
            "bin_start": 1.6,
            "bin_end": 1.8,
            "count": 0
           },
           {
            "bin_start": 1.8,
            "bin_end": 2,
            "count": 0
           },
           {
            "bin_start": 2,
            "bin_end": 2.2,
            "count": 1
           },
           {
            "bin_start": 2.2,
            "bin_end": 2.4000000000000004,
            "count": 0
           },
           {
            "bin_start": 2.4000000000000004,
            "bin_end": 2.6,
            "count": 0
           },
           {
            "bin_start": 2.6,
            "bin_end": 2.8,
            "count": 0
           },
           {
            "bin_start": 2.8,
            "bin_end": 3,
            "count": 1
           }
          ]
         }
        },
        {
         "name": "Approved_rate",
         "dtype": "float64",
         "stats": {
          "unique_count": 2,
          "nan_count": 0,
          "min": "0.5",
          "max": "1.0",
          "histogram": [
           {
            "bin_start": 0.5,
            "bin_end": 0.55,
            "count": 1
           },
           {
            "bin_start": 0.55,
            "bin_end": 0.6,
            "count": 0
           },
           {
            "bin_start": 0.6,
            "bin_end": 0.65,
            "count": 0
           },
           {
            "bin_start": 0.65,
            "bin_end": 0.7,
            "count": 0
           },
           {
            "bin_start": 0.7,
            "bin_end": 0.75,
            "count": 0
           },
           {
            "bin_start": 0.75,
            "bin_end": 0.8,
            "count": 0
           },
           {
            "bin_start": 0.8,
            "bin_end": 0.8500000000000001,
            "count": 0
           },
           {
            "bin_start": 0.8500000000000001,
            "bin_end": 0.9,
            "count": 0
           },
           {
            "bin_start": 0.9,
            "bin_end": 0.95,
            "count": 0
           },
           {
            "bin_start": 0.95,
            "bin_end": 1,
            "count": 4
           }
          ]
         }
        },
        {
         "name": "Canceled_rate",
         "dtype": "float64",
         "stats": {
          "unique_count": 2,
          "nan_count": 0,
          "min": "0.0",
          "max": "0.5",
          "histogram": [
           {
            "bin_start": 0,
            "bin_end": 0.05,
            "count": 4
           },
           {
            "bin_start": 0.05,
            "bin_end": 0.1,
            "count": 0
           },
           {
            "bin_start": 0.1,
            "bin_end": 0.15000000000000002,
            "count": 0
           },
           {
            "bin_start": 0.15000000000000002,
            "bin_end": 0.2,
            "count": 0
           },
           {
            "bin_start": 0.2,
            "bin_end": 0.25,
            "count": 0
           },
           {
            "bin_start": 0.25,
            "bin_end": 0.30000000000000004,
            "count": 0
           },
           {
            "bin_start": 0.30000000000000004,
            "bin_end": 0.35000000000000003,
            "count": 0
           },
           {
            "bin_start": 0.35000000000000003,
            "bin_end": 0.4,
            "count": 0
           },
           {
            "bin_start": 0.4,
            "bin_end": 0.45,
            "count": 0
           },
           {
            "bin_start": 0.45,
            "bin_end": 0.5,
            "count": 1
           }
          ]
         }
        },
        {
         "name": "Refused_rate",
         "dtype": "float64",
         "stats": {
          "unique_count": 1,
          "nan_count": 0,
          "min": "0.0",
          "max": "0.0",
          "histogram": [
           {
            "bin_start": -0.5,
            "bin_end": -0.4,
            "count": 0
           },
           {
            "bin_start": -0.4,
            "bin_end": -0.3,
            "count": 0
           },
           {
            "bin_start": -0.3,
            "bin_end": -0.19999999999999996,
            "count": 0
           },
           {
            "bin_start": -0.19999999999999996,
            "bin_end": -0.09999999999999998,
            "count": 0
           },
           {
            "bin_start": -0.09999999999999998,
            "bin_end": 0,
            "count": 0
           },
           {
            "bin_start": 0,
            "bin_end": 0.10000000000000009,
            "count": 5
           },
           {
            "bin_start": 0.10000000000000009,
            "bin_end": 0.20000000000000007,
            "count": 0
           },
           {
            "bin_start": 0.20000000000000007,
            "bin_end": 0.30000000000000004,
            "count": 0
           },
           {
            "bin_start": 0.30000000000000004,
            "bin_end": 0.4,
            "count": 0
           },
           {
            "bin_start": 0.4,
            "bin_end": 0.5,
            "count": 0
           }
          ]
         }
        },
        {
         "name": "Unused offer_rate",
         "dtype": "float64",
         "stats": {
          "unique_count": 1,
          "nan_count": 0,
          "min": "0.0",
          "max": "0.0",
          "histogram": [
           {
            "bin_start": -0.5,
            "bin_end": -0.4,
            "count": 0
           },
           {
            "bin_start": -0.4,
            "bin_end": -0.3,
            "count": 0
           },
           {
            "bin_start": -0.3,
            "bin_end": -0.19999999999999996,
            "count": 0
           },
           {
            "bin_start": -0.19999999999999996,
            "bin_end": -0.09999999999999998,
            "count": 0
           },
           {
            "bin_start": -0.09999999999999998,
            "bin_end": 0,
            "count": 0
           },
           {
            "bin_start": 0,
            "bin_end": 0.10000000000000009,
            "count": 5
           },
           {
            "bin_start": 0.10000000000000009,
            "bin_end": 0.20000000000000007,
            "count": 0
           },
           {
            "bin_start": 0.20000000000000007,
            "bin_end": 0.30000000000000004,
            "count": 0
           },
           {
            "bin_start": 0.30000000000000004,
            "bin_end": 0.4,
            "count": 0
           },
           {
            "bin_start": 0.4,
            "bin_end": 0.5,
            "count": 0
           }
          ]
         }
        },
        {
         "name": "_deepnote_index_column",
         "dtype": "int64"
        }
       ],
       "rows_top": [
        {
         "SK_ID_CURR": 100001,
         "Approved": 1,
         "Canceled": 0,
         "Refused": 0,
         "Unused offer": 0,
         "total_apps": 1,
         "Approved_rate": 1,
         "Canceled_rate": 0,
         "Refused_rate": 0,
         "Unused offer_rate": 0,
         "_deepnote_index_column": 0
        },
        {
         "SK_ID_CURR": 100002,
         "Approved": 1,
         "Canceled": 0,
         "Refused": 0,
         "Unused offer": 0,
         "total_apps": 1,
         "Approved_rate": 1,
         "Canceled_rate": 0,
         "Refused_rate": 0,
         "Unused offer_rate": 0,
         "_deepnote_index_column": 1
        },
        {
         "SK_ID_CURR": 100003,
         "Approved": 3,
         "Canceled": 0,
         "Refused": 0,
         "Unused offer": 0,
         "total_apps": 3,
         "Approved_rate": 1,
         "Canceled_rate": 0,
         "Refused_rate": 0,
         "Unused offer_rate": 0,
         "_deepnote_index_column": 2
        },
        {
         "SK_ID_CURR": 100004,
         "Approved": 1,
         "Canceled": 0,
         "Refused": 0,
         "Unused offer": 0,
         "total_apps": 1,
         "Approved_rate": 1,
         "Canceled_rate": 0,
         "Refused_rate": 0,
         "Unused offer_rate": 0,
         "_deepnote_index_column": 3
        },
        {
         "SK_ID_CURR": 100005,
         "Approved": 1,
         "Canceled": 1,
         "Refused": 0,
         "Unused offer": 0,
         "total_apps": 2,
         "Approved_rate": 0.5,
         "Canceled_rate": 0.5,
         "Refused_rate": 0,
         "Unused offer_rate": 0,
         "_deepnote_index_column": 4
        }
       ],
       "rows_bottom": null
      },
      "text/plain": "NAME_CONTRACT_STATUS  SK_ID_CURR  Approved  Canceled  Refused  Unused offer  \\\n0                         100001         1         0        0             0   \n1                         100002         1         0        0             0   \n2                         100003         3         0        0             0   \n3                         100004         1         0        0             0   \n4                         100005         1         1        0             0   \n\nNAME_CONTRACT_STATUS  total_apps  Approved_rate  Canceled_rate  Refused_rate  \\\n0                              1            1.0            0.0           0.0   \n1                              1            1.0            0.0           0.0   \n2                              3            1.0            0.0           0.0   \n3                              1            1.0            0.0           0.0   \n4                              2            0.5            0.5           0.0   \n\nNAME_CONTRACT_STATUS  Unused offer_rate  \n0                                   0.0  \n1                                   0.0  \n2                                   0.0  \n3                                   0.0  \n4                                   0.0  ",
      "text/html": "<div>\n<style scoped>\n    .dataframe tbody tr th:only-of-type {\n        vertical-align: middle;\n    }\n\n    .dataframe tbody tr th {\n        vertical-align: top;\n    }\n\n    .dataframe thead th {\n        text-align: right;\n    }\n</style>\n<table border=\"1\" class=\"dataframe\">\n  <thead>\n    <tr style=\"text-align: right;\">\n      <th>NAME_CONTRACT_STATUS</th>\n      <th>SK_ID_CURR</th>\n      <th>Approved</th>\n      <th>Canceled</th>\n      <th>Refused</th>\n      <th>Unused offer</th>\n      <th>total_apps</th>\n      <th>Approved_rate</th>\n      <th>Canceled_rate</th>\n      <th>Refused_rate</th>\n      <th>Unused offer_rate</th>\n    </tr>\n  </thead>\n  <tbody>\n    <tr>\n      <th>0</th>\n      <td>100001</td>\n      <td>1</td>\n      <td>0</td>\n      <td>0</td>\n      <td>0</td>\n      <td>1</td>\n      <td>1.0</td>\n      <td>0.0</td>\n      <td>0.0</td>\n      <td>0.0</td>\n    </tr>\n    <tr>\n      <th>1</th>\n      <td>100002</td>\n      <td>1</td>\n      <td>0</td>\n      <td>0</td>\n      <td>0</td>\n      <td>1</td>\n      <td>1.0</td>\n      <td>0.0</td>\n      <td>0.0</td>\n      <td>0.0</td>\n    </tr>\n    <tr>\n      <th>2</th>\n      <td>100003</td>\n      <td>3</td>\n      <td>0</td>\n      <td>0</td>\n      <td>0</td>\n      <td>3</td>\n      <td>1.0</td>\n      <td>0.0</td>\n      <td>0.0</td>\n      <td>0.0</td>\n    </tr>\n    <tr>\n      <th>3</th>\n      <td>100004</td>\n      <td>1</td>\n      <td>0</td>\n      <td>0</td>\n      <td>0</td>\n      <td>1</td>\n      <td>1.0</td>\n      <td>0.0</td>\n      <td>0.0</td>\n      <td>0.0</td>\n    </tr>\n    <tr>\n      <th>4</th>\n      <td>100005</td>\n      <td>1</td>\n      <td>1</td>\n      <td>0</td>\n      <td>0</td>\n      <td>2</td>\n      <td>0.5</td>\n      <td>0.5</td>\n      <td>0.0</td>\n      <td>0.0</td>\n    </tr>\n  </tbody>\n</table>\n</div>"
     },
     "metadata": {}
    }
   ],
   "execution_count": null
  },
  {
   "cell_type": "code",
   "metadata": {
    "tags": [],
    "cell_id": "00012-3e2627d3-a8b1-486e-9453-3f343cd5259e",
    "deepnote_to_be_reexecuted": true,
    "source_hash": "b4fb857c",
    "execution_start": 1628795548489,
    "execution_millis": 52,
    "deepnote_cell_type": "code"
   },
   "source": "# Does the current customer have a previous loan with Home Credit (ie do they have data in the previous application dataset)\nhas_prev_app =  pd.DataFrame(app_train.SK_ID_CURR.isin(prev_app.SK_ID_CURR))\nhas_prev_app.columns = [ \"previously_applied\"]\napp_train['previously_applied'] = has_prev_app\n\n# Converts boolean columns into columns with 0s and 1s\n# pd.DataFrame(app_train.SK_ID_CURR.isin(prev_app.SK_ID_CURR)).astype(int)  ",
   "outputs": [],
   "execution_count": null
  },
  {
   "cell_type": "code",
   "metadata": {
    "tags": [],
    "cell_id": "00015-f41e4d9e-53cb-49c9-a234-d79fc3bccd1f",
    "deepnote_to_be_reexecuted": true,
    "source_hash": "15615d60",
    "execution_start": 1628795548547,
    "execution_millis": 484,
    "deepnote_cell_type": "code"
   },
   "source": "app_train = app_train.join(approval_rate[[\"SK_ID_CURR\", \"total_apps\", \"Approved_rate\"]].set_index(\"SK_ID_CURR\"), on = \"SK_ID_CURR\")\napp_train.head()",
   "outputs": [
    {
     "output_type": "execute_result",
     "execution_count": 12,
     "data": {
      "application/vnd.deepnote.dataframe.v2+json": {
       "row_count": 5,
       "column_count": 69,
       "columns": [
        {
         "name": "SK_ID_CURR",
         "dtype": "int64",
         "stats": {
          "unique_count": 5,
          "nan_count": 0,
          "min": "100002",
          "max": "100007",
          "histogram": [
           {
            "bin_start": 100002,
            "bin_end": 100002.5,
            "count": 1
           },
           {
            "bin_start": 100002.5,
            "bin_end": 100003,
            "count": 0
           },
           {
            "bin_start": 100003,
            "bin_end": 100003.5,
            "count": 1
           },
           {
            "bin_start": 100003.5,
            "bin_end": 100004,
            "count": 0
           },
           {
            "bin_start": 100004,
            "bin_end": 100004.5,
            "count": 1
           },
           {
            "bin_start": 100004.5,
            "bin_end": 100005,
            "count": 0
           },
           {
            "bin_start": 100005,
            "bin_end": 100005.5,
            "count": 0
           },
           {
            "bin_start": 100005.5,
            "bin_end": 100006,
            "count": 0
           },
           {
            "bin_start": 100006,
            "bin_end": 100006.5,
            "count": 1
           },
           {
            "bin_start": 100006.5,
            "bin_end": 100007,
            "count": 1
           }
          ]
         }
        },
        {
         "name": "TARGET",
         "dtype": "int64",
         "stats": {
          "unique_count": 2,
          "nan_count": 0,
          "min": "0",
          "max": "1",
          "histogram": [
           {
            "bin_start": 0,
            "bin_end": 0.1,
            "count": 4
           },
           {
            "bin_start": 0.1,
            "bin_end": 0.2,
            "count": 0
           },
           {
            "bin_start": 0.2,
            "bin_end": 0.30000000000000004,
            "count": 0
           },
           {
            "bin_start": 0.30000000000000004,
            "bin_end": 0.4,
            "count": 0
           },
           {
            "bin_start": 0.4,
            "bin_end": 0.5,
            "count": 0
           },
           {
            "bin_start": 0.5,
            "bin_end": 0.6000000000000001,
            "count": 0
           },
           {
            "bin_start": 0.6000000000000001,
            "bin_end": 0.7000000000000001,
            "count": 0
           },
           {
            "bin_start": 0.7000000000000001,
            "bin_end": 0.8,
            "count": 0
           },
           {
            "bin_start": 0.8,
            "bin_end": 0.9,
            "count": 0
           },
           {
            "bin_start": 0.9,
            "bin_end": 1,
            "count": 1
           }
          ]
         }
        },
        {
         "name": "NAME_CONTRACT_TYPE",
         "dtype": "object",
         "stats": {
          "unique_count": 2,
          "nan_count": 0,
          "categories": [
           {
            "name": "Cash loans",
            "count": 4
           },
           {
            "name": "Revolving loans",
            "count": 1
           }
          ]
         }
        },
        {
         "name": "CODE_GENDER",
         "dtype": "object",
         "stats": {
          "unique_count": 2,
          "nan_count": 0,
          "categories": [
           {
            "name": "M",
            "count": 3
           },
           {
            "name": "F",
            "count": 2
           }
          ]
         }
        },
        {
         "name": "FLAG_OWN_CAR",
         "dtype": "object",
         "stats": {
          "unique_count": 2,
          "nan_count": 0,
          "categories": [
           {
            "name": "N",
            "count": 4
           },
           {
            "name": "Y",
            "count": 1
           }
          ]
         }
        },
        {
         "name": "FLAG_OWN_REALTY",
         "dtype": "object",
         "stats": {
          "unique_count": 2,
          "nan_count": 0,
          "categories": [
           {
            "name": "Y",
            "count": 4
           },
           {
            "name": "N",
            "count": 1
           }
          ]
         }
        },
        {
         "name": "CNT_CHILDREN",
         "dtype": "int64",
         "stats": {
          "unique_count": 1,
          "nan_count": 0,
          "min": "0",
          "max": "0",
          "histogram": [
           {
            "bin_start": -0.5,
            "bin_end": -0.4,
            "count": 0
           },
           {
            "bin_start": -0.4,
            "bin_end": -0.3,
            "count": 0
           },
           {
            "bin_start": -0.3,
            "bin_end": -0.19999999999999996,
            "count": 0
           },
           {
            "bin_start": -0.19999999999999996,
            "bin_end": -0.09999999999999998,
            "count": 0
           },
           {
            "bin_start": -0.09999999999999998,
            "bin_end": 0,
            "count": 0
           },
           {
            "bin_start": 0,
            "bin_end": 0.10000000000000009,
            "count": 5
           },
           {
            "bin_start": 0.10000000000000009,
            "bin_end": 0.20000000000000007,
            "count": 0
           },
           {
            "bin_start": 0.20000000000000007,
            "bin_end": 0.30000000000000004,
            "count": 0
           },
           {
            "bin_start": 0.30000000000000004,
            "bin_end": 0.4,
            "count": 0
           },
           {
            "bin_start": 0.4,
            "bin_end": 0.5,
            "count": 0
           }
          ]
         }
        },
        {
         "name": "AMT_INCOME_TOTAL",
         "dtype": "float64",
         "stats": {
          "unique_count": 5,
          "nan_count": 0,
          "min": "67500.0",
          "max": "270000.0",
          "histogram": [
           {
            "bin_start": 67500,
            "bin_end": 87750,
            "count": 1
           },
           {
            "bin_start": 87750,
            "bin_end": 108000,
            "count": 0
           },
           {
            "bin_start": 108000,
            "bin_end": 128250,
            "count": 1
           },
           {
            "bin_start": 128250,
            "bin_end": 148500,
            "count": 1
           },
           {
            "bin_start": 148500,
            "bin_end": 168750,
            "count": 0
           },
           {
            "bin_start": 168750,
            "bin_end": 189000,
            "count": 0
           },
           {
            "bin_start": 189000,
            "bin_end": 209250,
            "count": 1
           },
           {
            "bin_start": 209250,
            "bin_end": 229500,
            "count": 0
           },
           {
            "bin_start": 229500,
            "bin_end": 249750,
            "count": 0
           },
           {
            "bin_start": 249750,
            "bin_end": 270000,
            "count": 1
           }
          ]
         }
        },
        {
         "name": "AMT_CREDIT",
         "dtype": "float64",
         "stats": {
          "unique_count": 5,
          "nan_count": 0,
          "min": "135000.0",
          "max": "1293502.5",
          "histogram": [
           {
            "bin_start": 135000,
            "bin_end": 250850.25,
            "count": 1
           },
           {
            "bin_start": 250850.25,
            "bin_end": 366700.5,
            "count": 1
           },
           {
            "bin_start": 366700.5,
            "bin_end": 482550.75,
            "count": 1
           },
           {
            "bin_start": 482550.75,
            "bin_end": 598401,
            "count": 1
           },
           {
            "bin_start": 598401,
            "bin_end": 714251.25,
            "count": 0
           },
           {
            "bin_start": 714251.25,
            "bin_end": 830101.5,
            "count": 0
           },
           {
            "bin_start": 830101.5,
            "bin_end": 945951.75,
            "count": 0
           },
           {
            "bin_start": 945951.75,
            "bin_end": 1061802,
            "count": 0
           },
           {
            "bin_start": 1061802,
            "bin_end": 1177652.25,
            "count": 0
           },
           {
            "bin_start": 1177652.25,
            "bin_end": 1293502.5,
            "count": 1
           }
          ]
         }
        },
        {
         "name": "AMT_ANNUITY",
         "dtype": "float64",
         "stats": {
          "unique_count": 5,
          "nan_count": 0,
          "min": "6750.0",
          "max": "35698.5",
          "histogram": [
           {
            "bin_start": 6750,
            "bin_end": 9644.85,
            "count": 1
           },
           {
            "bin_start": 9644.85,
            "bin_end": 12539.7,
            "count": 0
           },
           {
            "bin_start": 12539.7,
            "bin_end": 15434.55,
            "count": 0
           },
           {
            "bin_start": 15434.55,
            "bin_end": 18329.4,
            "count": 0
           },
           {
            "bin_start": 18329.4,
            "bin_end": 21224.25,
            "count": 0
           },
           {
            "bin_start": 21224.25,
            "bin_end": 24119.1,
            "count": 1
           },
           {
            "bin_start": 24119.1,
            "bin_end": 27013.95,
            "count": 1
           },
           {
            "bin_start": 27013.95,
            "bin_end": 29908.8,
            "count": 1
           },
           {
            "bin_start": 29908.8,
            "bin_end": 32803.649999999994,
            "count": 0
           },
           {
            "bin_start": 32803.649999999994,
            "bin_end": 35698.5,
            "count": 1
           }
          ]
         }
        },
        {
         "name": "AMT_GOODS_PRICE",
         "dtype": "float64",
         "stats": {
          "unique_count": 5,
          "nan_count": 0,
          "min": "135000.0",
          "max": "1129500.0",
          "histogram": [
           {
            "bin_start": 135000,
            "bin_end": 234450,
            "count": 1
           },
           {
            "bin_start": 234450,
            "bin_end": 333900,
            "count": 1
           },
           {
            "bin_start": 333900,
            "bin_end": 433350,
            "count": 1
           },
           {
            "bin_start": 433350,
            "bin_end": 532800,
            "count": 1
           },
           {
            "bin_start": 532800,
            "bin_end": 632250,
            "count": 0
           },
           {
            "bin_start": 632250,
            "bin_end": 731700,
            "count": 0
           },
           {
            "bin_start": 731700,
            "bin_end": 831150,
            "count": 0
           },
           {
            "bin_start": 831150,
            "bin_end": 930600,
            "count": 0
           },
           {
            "bin_start": 930600,
            "bin_end": 1030050,
            "count": 0
           },
           {
            "bin_start": 1030050,
            "bin_end": 1129500,
            "count": 1
           }
          ]
         }
        },
        {
         "name": "NAME_INCOME_TYPE",
         "dtype": "object",
         "stats": {
          "unique_count": 2,
          "nan_count": 0,
          "categories": [
           {
            "name": "Working",
            "count": 4
           },
           {
            "name": "State servant",
            "count": 1
           }
          ]
         }
        },
        {
         "name": "NAME_EDUCATION_TYPE",
         "dtype": "object",
         "stats": {
          "unique_count": 2,
          "nan_count": 0,
          "categories": [
           {
            "name": "Secondary / secondary special",
            "count": 4
           },
           {
            "name": "Higher education",
            "count": 1
           }
          ]
         }
        },
        {
         "name": "NAME_FAMILY_STATUS",
         "dtype": "object",
         "stats": {
          "unique_count": 3,
          "nan_count": 0,
          "categories": [
           {
            "name": "Single / not married",
            "count": 3
           },
           {
            "name": "Married",
            "count": 1
           },
           {
            "name": "Civil marriage",
            "count": 1
           }
          ]
         }
        },
        {
         "name": "NAME_HOUSING_TYPE",
         "dtype": "object",
         "stats": {
          "unique_count": 1,
          "nan_count": 0,
          "categories": [
           {
            "name": "House / apartment",
            "count": 5
           }
          ]
         }
        },
        {
         "name": "REGION_POPULATION_RELATIVE",
         "dtype": "float64",
         "stats": {
          "unique_count": 5,
          "nan_count": 0,
          "min": "0.0035409999999999",
          "max": "0.028663",
          "histogram": [
           {
            "bin_start": 0.0035409999999999,
            "bin_end": 0.0060531999999999106,
            "count": 1
           },
           {
            "bin_start": 0.0060531999999999106,
            "bin_end": 0.008565399999999921,
            "count": 1
           },
           {
            "bin_start": 0.008565399999999921,
            "bin_end": 0.01107759999999993,
            "count": 1
           },
           {
            "bin_start": 0.01107759999999993,
            "bin_end": 0.013589799999999942,
            "count": 0
           },
           {
            "bin_start": 0.013589799999999942,
            "bin_end": 0.01610199999999995,
            "count": 0
           },
           {
            "bin_start": 0.01610199999999995,
            "bin_end": 0.018614199999999963,
            "count": 0
           },
           {
            "bin_start": 0.018614199999999963,
            "bin_end": 0.021126399999999976,
            "count": 1
           },
           {
            "bin_start": 0.021126399999999976,
            "bin_end": 0.023638599999999982,
            "count": 0
           },
           {
            "bin_start": 0.023638599999999982,
            "bin_end": 0.026150799999999995,
            "count": 0
           },
           {
            "bin_start": 0.026150799999999995,
            "bin_end": 0.028663,
            "count": 1
           }
          ]
         }
        },
        {
         "name": "DAYS_BIRTH",
         "dtype": "int64",
         "stats": {
          "unique_count": 5,
          "nan_count": 0,
          "min": "-19932",
          "max": "-9461",
          "histogram": [
           {
            "bin_start": -19932,
            "bin_end": -18884.9,
            "count": 3
           },
           {
            "bin_start": -18884.9,
            "bin_end": -17837.8,
            "count": 0
           },
           {
            "bin_start": -17837.8,
            "bin_end": -16790.7,
            "count": 0
           },
           {
            "bin_start": -16790.7,
            "bin_end": -15743.6,
            "count": 1
           },
           {
            "bin_start": -15743.6,
            "bin_end": -14696.5,
            "count": 0
           },
           {
            "bin_start": -14696.5,
            "bin_end": -13649.400000000001,
            "count": 0
           },
           {
            "bin_start": -13649.400000000001,
            "bin_end": -12602.300000000001,
            "count": 0
           },
           {
            "bin_start": -12602.300000000001,
            "bin_end": -11555.2,
            "count": 0
           },
           {
            "bin_start": -11555.2,
            "bin_end": -10508.1,
            "count": 0
           },
           {
            "bin_start": -10508.1,
            "bin_end": -9461,
            "count": 1
           }
          ]
         }
        },
        {
         "name": "DAYS_EMPLOYED",
         "dtype": "int64",
         "stats": {
          "unique_count": 5,
          "nan_count": 0,
          "min": "-3039",
          "max": "-225",
          "histogram": [
           {
            "bin_start": -3039,
            "bin_end": -2757.6,
            "count": 2
           },
           {
            "bin_start": -2757.6,
            "bin_end": -2476.2,
            "count": 0
           },
           {
            "bin_start": -2476.2,
            "bin_end": -2194.8,
            "count": 0
           },
           {
            "bin_start": -2194.8,
            "bin_end": -1913.4,
            "count": 0
           },
           {
            "bin_start": -1913.4,
            "bin_end": -1632,
            "count": 0
           },
           {
            "bin_start": -1632,
            "bin_end": -1350.6000000000001,
            "count": 0
           },
           {
            "bin_start": -1350.6000000000001,
            "bin_end": -1069.2000000000003,
            "count": 1
           },
           {
            "bin_start": -1069.2000000000003,
            "bin_end": -787.8000000000002,
            "count": 0
           },
           {
            "bin_start": -787.8000000000002,
            "bin_end": -506.4000000000001,
            "count": 1
           },
           {
            "bin_start": -506.4000000000001,
            "bin_end": -225,
            "count": 1
           }
          ]
         }
        },
        {
         "name": "DAYS_REGISTRATION",
         "dtype": "float64",
         "stats": {
          "unique_count": 5,
          "nan_count": 0,
          "min": "-9833.0",
          "max": "-1186.0",
          "histogram": [
           {
            "bin_start": -9833,
            "bin_end": -8968.3,
            "count": 1
           },
           {
            "bin_start": -8968.3,
            "bin_end": -8103.6,
            "count": 0
           },
           {
            "bin_start": -8103.6,
            "bin_end": -7238.9,
            "count": 0
           },
           {
            "bin_start": -7238.9,
            "bin_end": -6374.2,
            "count": 0
           },
           {
            "bin_start": -6374.2,
            "bin_end": -5509.5,
            "count": 0
           },
           {
            "bin_start": -5509.5,
            "bin_end": -4644.799999999999,
            "count": 0
           },
           {
            "bin_start": -4644.799999999999,
            "bin_end": -3780.0999999999995,
            "count": 2
           },
           {
            "bin_start": -3780.0999999999995,
            "bin_end": -2915.3999999999996,
            "count": 1
           },
           {
            "bin_start": -2915.3999999999996,
            "bin_end": -2050.7,
            "count": 0
           },
           {
            "bin_start": -2050.7,
            "bin_end": -1186,
            "count": 1
           }
          ]
         }
        },
        {
         "name": "DAYS_ID_PUBLISH",
         "dtype": "int64",
         "stats": {
          "unique_count": 5,
          "nan_count": 0,
          "min": "-3458",
          "max": "-291",
          "histogram": [
           {
            "bin_start": -3458,
            "bin_end": -3141.3,
            "count": 1
           },
           {
            "bin_start": -3141.3,
            "bin_end": -2824.6,
            "count": 0
           },
           {
            "bin_start": -2824.6,
            "bin_end": -2507.9,
            "count": 1
           },
           {
            "bin_start": -2507.9,
            "bin_end": -2191.2,
            "count": 1
           },
           {
            "bin_start": -2191.2,
            "bin_end": -1874.5,
            "count": 1
           },
           {
            "bin_start": -1874.5,
            "bin_end": -1557.8000000000002,
            "count": 0
           },
           {
            "bin_start": -1557.8000000000002,
            "bin_end": -1241.1,
            "count": 0
           },
           {
            "bin_start": -1241.1,
            "bin_end": -924.4000000000001,
            "count": 0
           },
           {
            "bin_start": -924.4000000000001,
            "bin_end": -607.7000000000003,
            "count": 0
           },
           {
            "bin_start": -607.7000000000003,
            "bin_end": -291,
            "count": 1
           }
          ]
         }
        },
        {
         "name": "OWN_CAR_AGE",
         "dtype": "float64",
         "stats": {
          "unique_count": 1,
          "nan_count": 4,
          "min": "26.0",
          "max": "26.0",
          "histogram": [
           {
            "bin_start": 25.5,
            "bin_end": 25.6,
            "count": 0
           },
           {
            "bin_start": 25.6,
            "bin_end": 25.7,
            "count": 0
           },
           {
            "bin_start": 25.7,
            "bin_end": 25.8,
            "count": 0
           },
           {
            "bin_start": 25.8,
            "bin_end": 25.9,
            "count": 0
           },
           {
            "bin_start": 25.9,
            "bin_end": 26,
            "count": 0
           },
           {
            "bin_start": 26,
            "bin_end": 26.1,
            "count": 1
           },
           {
            "bin_start": 26.1,
            "bin_end": 26.2,
            "count": 0
           },
           {
            "bin_start": 26.2,
            "bin_end": 26.3,
            "count": 0
           },
           {
            "bin_start": 26.3,
            "bin_end": 26.4,
            "count": 0
           },
           {
            "bin_start": 26.4,
            "bin_end": 26.5,
            "count": 0
           }
          ]
         }
        },
        {
         "name": "FLAG_MOBIL",
         "dtype": "int64",
         "stats": {
          "unique_count": 1,
          "nan_count": 0,
          "min": "1",
          "max": "1",
          "histogram": [
           {
            "bin_start": 0.5,
            "bin_end": 0.6,
            "count": 0
           },
           {
            "bin_start": 0.6,
            "bin_end": 0.7,
            "count": 0
           },
           {
            "bin_start": 0.7,
            "bin_end": 0.8,
            "count": 0
           },
           {
            "bin_start": 0.8,
            "bin_end": 0.9,
            "count": 0
           },
           {
            "bin_start": 0.9,
            "bin_end": 1,
            "count": 0
           },
           {
            "bin_start": 1,
            "bin_end": 1.1,
            "count": 5
           },
           {
            "bin_start": 1.1,
            "bin_end": 1.2000000000000002,
            "count": 0
           },
           {
            "bin_start": 1.2000000000000002,
            "bin_end": 1.3,
            "count": 0
           },
           {
            "bin_start": 1.3,
            "bin_end": 1.4,
            "count": 0
           },
           {
            "bin_start": 1.4,
            "bin_end": 1.5,
            "count": 0
           }
          ]
         }
        },
        {
         "name": "FLAG_EMP_PHONE",
         "dtype": "int64",
         "stats": {
          "unique_count": 1,
          "nan_count": 0,
          "min": "1",
          "max": "1",
          "histogram": [
           {
            "bin_start": 0.5,
            "bin_end": 0.6,
            "count": 0
           },
           {
            "bin_start": 0.6,
            "bin_end": 0.7,
            "count": 0
           },
           {
            "bin_start": 0.7,
            "bin_end": 0.8,
            "count": 0
           },
           {
            "bin_start": 0.8,
            "bin_end": 0.9,
            "count": 0
           },
           {
            "bin_start": 0.9,
            "bin_end": 1,
            "count": 0
           },
           {
            "bin_start": 1,
            "bin_end": 1.1,
            "count": 5
           },
           {
            "bin_start": 1.1,
            "bin_end": 1.2000000000000002,
            "count": 0
           },
           {
            "bin_start": 1.2000000000000002,
            "bin_end": 1.3,
            "count": 0
           },
           {
            "bin_start": 1.3,
            "bin_end": 1.4,
            "count": 0
           },
           {
            "bin_start": 1.4,
            "bin_end": 1.5,
            "count": 0
           }
          ]
         }
        },
        {
         "name": "FLAG_WORK_PHONE",
         "dtype": "int64",
         "stats": {
          "unique_count": 2,
          "nan_count": 0,
          "min": "0",
          "max": "1",
          "histogram": [
           {
            "bin_start": 0,
            "bin_end": 0.1,
            "count": 4
           },
           {
            "bin_start": 0.1,
            "bin_end": 0.2,
            "count": 0
           },
           {
            "bin_start": 0.2,
            "bin_end": 0.30000000000000004,
            "count": 0
           },
           {
            "bin_start": 0.30000000000000004,
            "bin_end": 0.4,
            "count": 0
           },
           {
            "bin_start": 0.4,
            "bin_end": 0.5,
            "count": 0
           },
           {
            "bin_start": 0.5,
            "bin_end": 0.6000000000000001,
            "count": 0
           },
           {
            "bin_start": 0.6000000000000001,
            "bin_end": 0.7000000000000001,
            "count": 0
           },
           {
            "bin_start": 0.7000000000000001,
            "bin_end": 0.8,
            "count": 0
           },
           {
            "bin_start": 0.8,
            "bin_end": 0.9,
            "count": 0
           },
           {
            "bin_start": 0.9,
            "bin_end": 1,
            "count": 1
           }
          ]
         }
        },
        {
         "name": "FLAG_CONT_MOBILE",
         "dtype": "int64",
         "stats": {
          "unique_count": 1,
          "nan_count": 0,
          "min": "1",
          "max": "1",
          "histogram": [
           {
            "bin_start": 0.5,
            "bin_end": 0.6,
            "count": 0
           },
           {
            "bin_start": 0.6,
            "bin_end": 0.7,
            "count": 0
           },
           {
            "bin_start": 0.7,
            "bin_end": 0.8,
            "count": 0
           },
           {
            "bin_start": 0.8,
            "bin_end": 0.9,
            "count": 0
           },
           {
            "bin_start": 0.9,
            "bin_end": 1,
            "count": 0
           },
           {
            "bin_start": 1,
            "bin_end": 1.1,
            "count": 5
           },
           {
            "bin_start": 1.1,
            "bin_end": 1.2000000000000002,
            "count": 0
           },
           {
            "bin_start": 1.2000000000000002,
            "bin_end": 1.3,
            "count": 0
           },
           {
            "bin_start": 1.3,
            "bin_end": 1.4,
            "count": 0
           },
           {
            "bin_start": 1.4,
            "bin_end": 1.5,
            "count": 0
           }
          ]
         }
        },
        {
         "name": "FLAG_PHONE",
         "dtype": "int64",
         "stats": {
          "unique_count": 2,
          "nan_count": 0,
          "min": "0",
          "max": "1",
          "histogram": [
           {
            "bin_start": 0,
            "bin_end": 0.1,
            "count": 2
           },
           {
            "bin_start": 0.1,
            "bin_end": 0.2,
            "count": 0
           },
           {
            "bin_start": 0.2,
            "bin_end": 0.30000000000000004,
            "count": 0
           },
           {
            "bin_start": 0.30000000000000004,
            "bin_end": 0.4,
            "count": 0
           },
           {
            "bin_start": 0.4,
            "bin_end": 0.5,
            "count": 0
           },
           {
            "bin_start": 0.5,
            "bin_end": 0.6000000000000001,
            "count": 0
           },
           {
            "bin_start": 0.6000000000000001,
            "bin_end": 0.7000000000000001,
            "count": 0
           },
           {
            "bin_start": 0.7000000000000001,
            "bin_end": 0.8,
            "count": 0
           },
           {
            "bin_start": 0.8,
            "bin_end": 0.9,
            "count": 0
           },
           {
            "bin_start": 0.9,
            "bin_end": 1,
            "count": 3
           }
          ]
         }
        },
        {
         "name": "FLAG_EMAIL",
         "dtype": "int64",
         "stats": {
          "unique_count": 1,
          "nan_count": 0,
          "min": "0",
          "max": "0",
          "histogram": [
           {
            "bin_start": -0.5,
            "bin_end": -0.4,
            "count": 0
           },
           {
            "bin_start": -0.4,
            "bin_end": -0.3,
            "count": 0
           },
           {
            "bin_start": -0.3,
            "bin_end": -0.19999999999999996,
            "count": 0
           },
           {
            "bin_start": -0.19999999999999996,
            "bin_end": -0.09999999999999998,
            "count": 0
           },
           {
            "bin_start": -0.09999999999999998,
            "bin_end": 0,
            "count": 0
           },
           {
            "bin_start": 0,
            "bin_end": 0.10000000000000009,
            "count": 5
           },
           {
            "bin_start": 0.10000000000000009,
            "bin_end": 0.20000000000000007,
            "count": 0
           },
           {
            "bin_start": 0.20000000000000007,
            "bin_end": 0.30000000000000004,
            "count": 0
           },
           {
            "bin_start": 0.30000000000000004,
            "bin_end": 0.4,
            "count": 0
           },
           {
            "bin_start": 0.4,
            "bin_end": 0.5,
            "count": 0
           }
          ]
         }
        },
        {
         "name": "OCCUPATION_TYPE",
         "dtype": "object",
         "stats": {
          "unique_count": 2,
          "nan_count": 0,
          "categories": [
           {
            "name": "Laborers",
            "count": 3
           },
           {
            "name": "Core staff",
            "count": 2
           }
          ]
         }
        },
        {
         "name": "CNT_FAM_MEMBERS",
         "dtype": "float64",
         "stats": {
          "unique_count": 2,
          "nan_count": 0,
          "min": "1.0",
          "max": "2.0",
          "histogram": [
           {
            "bin_start": 1,
            "bin_end": 1.1,
            "count": 3
           },
           {
            "bin_start": 1.1,
            "bin_end": 1.2,
            "count": 0
           },
           {
            "bin_start": 1.2,
            "bin_end": 1.3,
            "count": 0
           },
           {
            "bin_start": 1.3,
            "bin_end": 1.4,
            "count": 0
           },
           {
            "bin_start": 1.4,
            "bin_end": 1.5,
            "count": 0
           },
           {
            "bin_start": 1.5,
            "bin_end": 1.6,
            "count": 0
           },
           {
            "bin_start": 1.6,
            "bin_end": 1.7000000000000002,
            "count": 0
           },
           {
            "bin_start": 1.7000000000000002,
            "bin_end": 1.8,
            "count": 0
           },
           {
            "bin_start": 1.8,
            "bin_end": 1.9,
            "count": 0
           },
           {
            "bin_start": 1.9,
            "bin_end": 2,
            "count": 2
           }
          ]
         }
        },
        {
         "name": "REGION_RATING_CLIENT",
         "dtype": "int64",
         "stats": {
          "unique_count": 2,
          "nan_count": 0,
          "min": "1",
          "max": "2",
          "histogram": [
           {
            "bin_start": 1,
            "bin_end": 1.1,
            "count": 1
           },
           {
            "bin_start": 1.1,
            "bin_end": 1.2,
            "count": 0
           },
           {
            "bin_start": 1.2,
            "bin_end": 1.3,
            "count": 0
           },
           {
            "bin_start": 1.3,
            "bin_end": 1.4,
            "count": 0
           },
           {
            "bin_start": 1.4,
            "bin_end": 1.5,
            "count": 0
           },
           {
            "bin_start": 1.5,
            "bin_end": 1.6,
            "count": 0
           },
           {
            "bin_start": 1.6,
            "bin_end": 1.7000000000000002,
            "count": 0
           },
           {
            "bin_start": 1.7000000000000002,
            "bin_end": 1.8,
            "count": 0
           },
           {
            "bin_start": 1.8,
            "bin_end": 1.9,
            "count": 0
           },
           {
            "bin_start": 1.9,
            "bin_end": 2,
            "count": 4
           }
          ]
         }
        },
        {
         "name": "REGION_RATING_CLIENT_W_CITY",
         "dtype": "int64",
         "stats": {
          "unique_count": 2,
          "nan_count": 0,
          "min": "1",
          "max": "2",
          "histogram": [
           {
            "bin_start": 1,
            "bin_end": 1.1,
            "count": 1
           },
           {
            "bin_start": 1.1,
            "bin_end": 1.2,
            "count": 0
           },
           {
            "bin_start": 1.2,
            "bin_end": 1.3,
            "count": 0
           },
           {
            "bin_start": 1.3,
            "bin_end": 1.4,
            "count": 0
           },
           {
            "bin_start": 1.4,
            "bin_end": 1.5,
            "count": 0
           },
           {
            "bin_start": 1.5,
            "bin_end": 1.6,
            "count": 0
           },
           {
            "bin_start": 1.6,
            "bin_end": 1.7000000000000002,
            "count": 0
           },
           {
            "bin_start": 1.7000000000000002,
            "bin_end": 1.8,
            "count": 0
           },
           {
            "bin_start": 1.8,
            "bin_end": 1.9,
            "count": 0
           },
           {
            "bin_start": 1.9,
            "bin_end": 2,
            "count": 4
           }
          ]
         }
        },
        {
         "name": "REG_REGION_NOT_LIVE_REGION",
         "dtype": "int64",
         "stats": {
          "unique_count": 1,
          "nan_count": 0,
          "min": "0",
          "max": "0",
          "histogram": [
           {
            "bin_start": -0.5,
            "bin_end": -0.4,
            "count": 0
           },
           {
            "bin_start": -0.4,
            "bin_end": -0.3,
            "count": 0
           },
           {
            "bin_start": -0.3,
            "bin_end": -0.19999999999999996,
            "count": 0
           },
           {
            "bin_start": -0.19999999999999996,
            "bin_end": -0.09999999999999998,
            "count": 0
           },
           {
            "bin_start": -0.09999999999999998,
            "bin_end": 0,
            "count": 0
           },
           {
            "bin_start": 0,
            "bin_end": 0.10000000000000009,
            "count": 5
           },
           {
            "bin_start": 0.10000000000000009,
            "bin_end": 0.20000000000000007,
            "count": 0
           },
           {
            "bin_start": 0.20000000000000007,
            "bin_end": 0.30000000000000004,
            "count": 0
           },
           {
            "bin_start": 0.30000000000000004,
            "bin_end": 0.4,
            "count": 0
           },
           {
            "bin_start": 0.4,
            "bin_end": 0.5,
            "count": 0
           }
          ]
         }
        },
        {
         "name": "REG_REGION_NOT_WORK_REGION",
         "dtype": "int64",
         "stats": {
          "unique_count": 1,
          "nan_count": 0,
          "min": "0",
          "max": "0",
          "histogram": [
           {
            "bin_start": -0.5,
            "bin_end": -0.4,
            "count": 0
           },
           {
            "bin_start": -0.4,
            "bin_end": -0.3,
            "count": 0
           },
           {
            "bin_start": -0.3,
            "bin_end": -0.19999999999999996,
            "count": 0
           },
           {
            "bin_start": -0.19999999999999996,
            "bin_end": -0.09999999999999998,
            "count": 0
           },
           {
            "bin_start": -0.09999999999999998,
            "bin_end": 0,
            "count": 0
           },
           {
            "bin_start": 0,
            "bin_end": 0.10000000000000009,
            "count": 5
           },
           {
            "bin_start": 0.10000000000000009,
            "bin_end": 0.20000000000000007,
            "count": 0
           },
           {
            "bin_start": 0.20000000000000007,
            "bin_end": 0.30000000000000004,
            "count": 0
           },
           {
            "bin_start": 0.30000000000000004,
            "bin_end": 0.4,
            "count": 0
           },
           {
            "bin_start": 0.4,
            "bin_end": 0.5,
            "count": 0
           }
          ]
         }
        },
        {
         "name": "LIVE_REGION_NOT_WORK_REGION",
         "dtype": "int64",
         "stats": {
          "unique_count": 1,
          "nan_count": 0,
          "min": "0",
          "max": "0",
          "histogram": [
           {
            "bin_start": -0.5,
            "bin_end": -0.4,
            "count": 0
           },
           {
            "bin_start": -0.4,
            "bin_end": -0.3,
            "count": 0
           },
           {
            "bin_start": -0.3,
            "bin_end": -0.19999999999999996,
            "count": 0
           },
           {
            "bin_start": -0.19999999999999996,
            "bin_end": -0.09999999999999998,
            "count": 0
           },
           {
            "bin_start": -0.09999999999999998,
            "bin_end": 0,
            "count": 0
           },
           {
            "bin_start": 0,
            "bin_end": 0.10000000000000009,
            "count": 5
           },
           {
            "bin_start": 0.10000000000000009,
            "bin_end": 0.20000000000000007,
            "count": 0
           },
           {
            "bin_start": 0.20000000000000007,
            "bin_end": 0.30000000000000004,
            "count": 0
           },
           {
            "bin_start": 0.30000000000000004,
            "bin_end": 0.4,
            "count": 0
           },
           {
            "bin_start": 0.4,
            "bin_end": 0.5,
            "count": 0
           }
          ]
         }
        },
        {
         "name": "REG_CITY_NOT_LIVE_CITY",
         "dtype": "int64",
         "stats": {
          "unique_count": 1,
          "nan_count": 0,
          "min": "0",
          "max": "0",
          "histogram": [
           {
            "bin_start": -0.5,
            "bin_end": -0.4,
            "count": 0
           },
           {
            "bin_start": -0.4,
            "bin_end": -0.3,
            "count": 0
           },
           {
            "bin_start": -0.3,
            "bin_end": -0.19999999999999996,
            "count": 0
           },
           {
            "bin_start": -0.19999999999999996,
            "bin_end": -0.09999999999999998,
            "count": 0
           },
           {
            "bin_start": -0.09999999999999998,
            "bin_end": 0,
            "count": 0
           },
           {
            "bin_start": 0,
            "bin_end": 0.10000000000000009,
            "count": 5
           },
           {
            "bin_start": 0.10000000000000009,
            "bin_end": 0.20000000000000007,
            "count": 0
           },
           {
            "bin_start": 0.20000000000000007,
            "bin_end": 0.30000000000000004,
            "count": 0
           },
           {
            "bin_start": 0.30000000000000004,
            "bin_end": 0.4,
            "count": 0
           },
           {
            "bin_start": 0.4,
            "bin_end": 0.5,
            "count": 0
           }
          ]
         }
        },
        {
         "name": "REG_CITY_NOT_WORK_CITY",
         "dtype": "int64",
         "stats": {
          "unique_count": 2,
          "nan_count": 0,
          "min": "0",
          "max": "1",
          "histogram": [
           {
            "bin_start": 0,
            "bin_end": 0.1,
            "count": 4
           },
           {
            "bin_start": 0.1,
            "bin_end": 0.2,
            "count": 0
           },
           {
            "bin_start": 0.2,
            "bin_end": 0.30000000000000004,
            "count": 0
           },
           {
            "bin_start": 0.30000000000000004,
            "bin_end": 0.4,
            "count": 0
           },
           {
            "bin_start": 0.4,
            "bin_end": 0.5,
            "count": 0
           },
           {
            "bin_start": 0.5,
            "bin_end": 0.6000000000000001,
            "count": 0
           },
           {
            "bin_start": 0.6000000000000001,
            "bin_end": 0.7000000000000001,
            "count": 0
           },
           {
            "bin_start": 0.7000000000000001,
            "bin_end": 0.8,
            "count": 0
           },
           {
            "bin_start": 0.8,
            "bin_end": 0.9,
            "count": 0
           },
           {
            "bin_start": 0.9,
            "bin_end": 1,
            "count": 1
           }
          ]
         }
        },
        {
         "name": "LIVE_CITY_NOT_WORK_CITY",
         "dtype": "int64",
         "stats": {
          "unique_count": 2,
          "nan_count": 0,
          "min": "0",
          "max": "1",
          "histogram": [
           {
            "bin_start": 0,
            "bin_end": 0.1,
            "count": 4
           },
           {
            "bin_start": 0.1,
            "bin_end": 0.2,
            "count": 0
           },
           {
            "bin_start": 0.2,
            "bin_end": 0.30000000000000004,
            "count": 0
           },
           {
            "bin_start": 0.30000000000000004,
            "bin_end": 0.4,
            "count": 0
           },
           {
            "bin_start": 0.4,
            "bin_end": 0.5,
            "count": 0
           },
           {
            "bin_start": 0.5,
            "bin_end": 0.6000000000000001,
            "count": 0
           },
           {
            "bin_start": 0.6000000000000001,
            "bin_end": 0.7000000000000001,
            "count": 0
           },
           {
            "bin_start": 0.7000000000000001,
            "bin_end": 0.8,
            "count": 0
           },
           {
            "bin_start": 0.8,
            "bin_end": 0.9,
            "count": 0
           },
           {
            "bin_start": 0.9,
            "bin_end": 1,
            "count": 1
           }
          ]
         }
        },
        {
         "name": "ORGANIZATION_TYPE",
         "dtype": "object",
         "stats": {
          "unique_count": 4,
          "nan_count": 0,
          "categories": [
           {
            "name": "Business Entity Type 3",
            "count": 2
           },
           {
            "name": "School",
            "count": 1
           },
           {
            "name": "2 others",
            "count": 2
           }
          ]
         }
        },
        {
         "name": "EXT_SOURCE_1",
         "dtype": "float64",
         "stats": {
          "unique_count": 2,
          "nan_count": 3,
          "min": "0.0830369673913225",
          "max": "0.3112673113812225",
          "histogram": [
           {
            "bin_start": 0.0830369673913225,
            "bin_end": 0.1058600017903125,
            "count": 1
           },
           {
            "bin_start": 0.1058600017903125,
            "bin_end": 0.1286830361893025,
            "count": 0
           },
           {
            "bin_start": 0.1286830361893025,
            "bin_end": 0.15150607058829252,
            "count": 0
           },
           {
            "bin_start": 0.15150607058829252,
            "bin_end": 0.1743291049872825,
            "count": 0
           },
           {
            "bin_start": 0.1743291049872825,
            "bin_end": 0.19715213938627252,
            "count": 0
           },
           {
            "bin_start": 0.19715213938627252,
            "bin_end": 0.2199751737852625,
            "count": 0
           },
           {
            "bin_start": 0.2199751737852625,
            "bin_end": 0.24279820818425252,
            "count": 0
           },
           {
            "bin_start": 0.24279820818425252,
            "bin_end": 0.2656212425832425,
            "count": 0
           },
           {
            "bin_start": 0.2656212425832425,
            "bin_end": 0.2884442769822325,
            "count": 0
           },
           {
            "bin_start": 0.2884442769822325,
            "bin_end": 0.3112673113812225,
            "count": 1
           }
          ]
         }
        },
        {
         "name": "EXT_SOURCE_2",
         "dtype": "float64",
         "stats": {
          "unique_count": 5,
          "nan_count": 0,
          "min": "0.2629485927471776",
          "max": "0.6504416904014653",
          "histogram": [
           {
            "bin_start": 0.2629485927471776,
            "bin_end": 0.30169790251260636,
            "count": 1
           },
           {
            "bin_start": 0.30169790251260636,
            "bin_end": 0.3404472122780351,
            "count": 1
           },
           {
            "bin_start": 0.3404472122780351,
            "bin_end": 0.3791965220434639,
            "count": 0
           },
           {
            "bin_start": 0.3791965220434639,
            "bin_end": 0.41794583180889266,
            "count": 0
           },
           {
            "bin_start": 0.41794583180889266,
            "bin_end": 0.45669514157432145,
            "count": 0
           },
           {
            "bin_start": 0.45669514157432145,
            "bin_end": 0.49544445133975024,
            "count": 0
           },
           {
            "bin_start": 0.49544445133975024,
            "bin_end": 0.534193761105179,
            "count": 0
           },
           {
            "bin_start": 0.534193761105179,
            "bin_end": 0.5729430708706078,
            "count": 1
           },
           {
            "bin_start": 0.5729430708706078,
            "bin_end": 0.6116923806360366,
            "count": 0
           },
           {
            "bin_start": 0.6116923806360366,
            "bin_end": 0.6504416904014653,
            "count": 2
           }
          ]
         }
        },
        {
         "name": "EXT_SOURCE_3",
         "dtype": "float64",
         "stats": {
          "unique_count": 2,
          "nan_count": 3,
          "min": "0.1393757800997895",
          "max": "0.7295666907060153",
          "histogram": [
           {
            "bin_start": 0.1393757800997895,
            "bin_end": 0.19839487116041207,
            "count": 1
           },
           {
            "bin_start": 0.19839487116041207,
            "bin_end": 0.25741396222103463,
            "count": 0
           },
           {
            "bin_start": 0.25741396222103463,
            "bin_end": 0.3164330532816573,
            "count": 0
           },
           {
            "bin_start": 0.3164330532816573,
            "bin_end": 0.3754521443422798,
            "count": 0
           },
           {
            "bin_start": 0.3754521443422798,
            "bin_end": 0.43447123540290244,
            "count": 0
           },
           {
            "bin_start": 0.43447123540290244,
            "bin_end": 0.493490326463525,
            "count": 0
           },
           {
            "bin_start": 0.493490326463525,
            "bin_end": 0.5525094175241476,
            "count": 0
           },
           {
            "bin_start": 0.5525094175241476,
            "bin_end": 0.6115285085847701,
            "count": 0
           },
           {
            "bin_start": 0.6115285085847701,
            "bin_end": 0.6705475996453927,
            "count": 0
           },
           {
            "bin_start": 0.6705475996453927,
            "bin_end": 0.7295666907060153,
            "count": 1
           }
          ]
         }
        },
        {
         "name": "OBS_30_CNT_SOCIAL_CIRCLE",
         "dtype": "float64",
         "stats": {
          "unique_count": 3,
          "nan_count": 0,
          "min": "0.0",
          "max": "2.0",
          "histogram": [
           {
            "bin_start": 0,
            "bin_end": 0.2,
            "count": 2
           },
           {
            "bin_start": 0.2,
            "bin_end": 0.4,
            "count": 0
           },
           {
            "bin_start": 0.4,
            "bin_end": 0.6000000000000001,
            "count": 0
           },
           {
            "bin_start": 0.6000000000000001,
            "bin_end": 0.8,
            "count": 0
           },
           {
            "bin_start": 0.8,
            "bin_end": 1,
            "count": 0
           },
           {
            "bin_start": 1,
            "bin_end": 1.2000000000000002,
            "count": 1
           },
           {
            "bin_start": 1.2000000000000002,
            "bin_end": 1.4000000000000001,
            "count": 0
           },
           {
            "bin_start": 1.4000000000000001,
            "bin_end": 1.6,
            "count": 0
           },
           {
            "bin_start": 1.6,
            "bin_end": 1.8,
            "count": 0
           },
           {
            "bin_start": 1.8,
            "bin_end": 2,
            "count": 2
           }
          ]
         }
        },
        {
         "name": "DEF_30_CNT_SOCIAL_CIRCLE",
         "dtype": "float64",
         "stats": {
          "unique_count": 2,
          "nan_count": 0,
          "min": "0.0",
          "max": "2.0",
          "histogram": [
           {
            "bin_start": 0,
            "bin_end": 0.2,
            "count": 4
           },
           {
            "bin_start": 0.2,
            "bin_end": 0.4,
            "count": 0
           },
           {
            "bin_start": 0.4,
            "bin_end": 0.6000000000000001,
            "count": 0
           },
           {
            "bin_start": 0.6000000000000001,
            "bin_end": 0.8,
            "count": 0
           },
           {
            "bin_start": 0.8,
            "bin_end": 1,
            "count": 0
           },
           {
            "bin_start": 1,
            "bin_end": 1.2000000000000002,
            "count": 0
           },
           {
            "bin_start": 1.2000000000000002,
            "bin_end": 1.4000000000000001,
            "count": 0
           },
           {
            "bin_start": 1.4000000000000001,
            "bin_end": 1.6,
            "count": 0
           },
           {
            "bin_start": 1.6,
            "bin_end": 1.8,
            "count": 0
           },
           {
            "bin_start": 1.8,
            "bin_end": 2,
            "count": 1
           }
          ]
         }
        },
        {
         "name": "OBS_60_CNT_SOCIAL_CIRCLE",
         "dtype": "float64",
         "stats": {
          "unique_count": 3,
          "nan_count": 0,
          "min": "0.0",
          "max": "2.0",
          "histogram": [
           {
            "bin_start": 0,
            "bin_end": 0.2,
            "count": 2
           },
           {
            "bin_start": 0.2,
            "bin_end": 0.4,
            "count": 0
           },
           {
            "bin_start": 0.4,
            "bin_end": 0.6000000000000001,
            "count": 0
           },
           {
            "bin_start": 0.6000000000000001,
            "bin_end": 0.8,
            "count": 0
           },
           {
            "bin_start": 0.8,
            "bin_end": 1,
            "count": 0
           },
           {
            "bin_start": 1,
            "bin_end": 1.2000000000000002,
            "count": 1
           },
           {
            "bin_start": 1.2000000000000002,
            "bin_end": 1.4000000000000001,
            "count": 0
           },
           {
            "bin_start": 1.4000000000000001,
            "bin_end": 1.6,
            "count": 0
           },
           {
            "bin_start": 1.6,
            "bin_end": 1.8,
            "count": 0
           },
           {
            "bin_start": 1.8,
            "bin_end": 2,
            "count": 2
           }
          ]
         }
        },
        {
         "name": "DEF_60_CNT_SOCIAL_CIRCLE",
         "dtype": "float64",
         "stats": {
          "unique_count": 2,
          "nan_count": 0,
          "min": "0.0",
          "max": "2.0",
          "histogram": [
           {
            "bin_start": 0,
            "bin_end": 0.2,
            "count": 4
           },
           {
            "bin_start": 0.2,
            "bin_end": 0.4,
            "count": 0
           },
           {
            "bin_start": 0.4,
            "bin_end": 0.6000000000000001,
            "count": 0
           },
           {
            "bin_start": 0.6000000000000001,
            "bin_end": 0.8,
            "count": 0
           },
           {
            "bin_start": 0.8,
            "bin_end": 1,
            "count": 0
           },
           {
            "bin_start": 1,
            "bin_end": 1.2000000000000002,
            "count": 0
           },
           {
            "bin_start": 1.2000000000000002,
            "bin_end": 1.4000000000000001,
            "count": 0
           },
           {
            "bin_start": 1.4000000000000001,
            "bin_end": 1.6,
            "count": 0
           },
           {
            "bin_start": 1.6,
            "bin_end": 1.8,
            "count": 0
           },
           {
            "bin_start": 1.8,
            "bin_end": 2,
            "count": 1
           }
          ]
         }
        },
        {
         "name": "DAYS_LAST_PHONE_CHANGE",
         "dtype": "float64",
         "stats": {
          "unique_count": 5,
          "nan_count": 0,
          "min": "-1134.0",
          "max": "-617.0",
          "histogram": [
           {
            "bin_start": -1134,
            "bin_end": -1082.3,
            "count": 2
           },
           {
            "bin_start": -1082.3,
            "bin_end": -1030.6,
            "count": 0
           },
           {
            "bin_start": -1030.6,
            "bin_end": -978.9,
            "count": 0
           },
           {
            "bin_start": -978.9,
            "bin_end": -927.2,
            "count": 0
           },
           {
            "bin_start": -927.2,
            "bin_end": -875.5,
            "count": 0
           },
           {
            "bin_start": -875.5,
            "bin_end": -823.8,
            "count": 1
           },
           {
            "bin_start": -823.8,
            "bin_end": -772.0999999999999,
            "count": 1
           },
           {
            "bin_start": -772.0999999999999,
            "bin_end": -720.4,
            "count": 0
           },
           {
            "bin_start": -720.4,
            "bin_end": -668.7,
            "count": 0
           },
           {
            "bin_start": -668.7,
            "bin_end": -617,
            "count": 1
           }
          ]
         }
        },
        {
         "name": "FLAG_DOCUMENT_2",
         "dtype": "int64",
         "stats": {
          "unique_count": 1,
          "nan_count": 0,
          "min": "0",
          "max": "0",
          "histogram": [
           {
            "bin_start": -0.5,
            "bin_end": -0.4,
            "count": 0
           },
           {
            "bin_start": -0.4,
            "bin_end": -0.3,
            "count": 0
           },
           {
            "bin_start": -0.3,
            "bin_end": -0.19999999999999996,
            "count": 0
           },
           {
            "bin_start": -0.19999999999999996,
            "bin_end": -0.09999999999999998,
            "count": 0
           },
           {
            "bin_start": -0.09999999999999998,
            "bin_end": 0,
            "count": 0
           },
           {
            "bin_start": 0,
            "bin_end": 0.10000000000000009,
            "count": 5
           },
           {
            "bin_start": 0.10000000000000009,
            "bin_end": 0.20000000000000007,
            "count": 0
           },
           {
            "bin_start": 0.20000000000000007,
            "bin_end": 0.30000000000000004,
            "count": 0
           },
           {
            "bin_start": 0.30000000000000004,
            "bin_end": 0.4,
            "count": 0
           },
           {
            "bin_start": 0.4,
            "bin_end": 0.5,
            "count": 0
           }
          ]
         }
        },
        {
         "name": "FLAG_DOCUMENT_3",
         "dtype": "int64",
         "stats": {
          "unique_count": 2,
          "nan_count": 0,
          "min": "0",
          "max": "1",
          "histogram": [
           {
            "bin_start": 0,
            "bin_end": 0.1,
            "count": 2
           },
           {
            "bin_start": 0.1,
            "bin_end": 0.2,
            "count": 0
           },
           {
            "bin_start": 0.2,
            "bin_end": 0.30000000000000004,
            "count": 0
           },
           {
            "bin_start": 0.30000000000000004,
            "bin_end": 0.4,
            "count": 0
           },
           {
            "bin_start": 0.4,
            "bin_end": 0.5,
            "count": 0
           },
           {
            "bin_start": 0.5,
            "bin_end": 0.6000000000000001,
            "count": 0
           },
           {
            "bin_start": 0.6000000000000001,
            "bin_end": 0.7000000000000001,
            "count": 0
           },
           {
            "bin_start": 0.7000000000000001,
            "bin_end": 0.8,
            "count": 0
           },
           {
            "bin_start": 0.8,
            "bin_end": 0.9,
            "count": 0
           },
           {
            "bin_start": 0.9,
            "bin_end": 1,
            "count": 3
           }
          ]
         }
        },
        {
         "name": "FLAG_DOCUMENT_4",
         "dtype": "int64",
         "stats": {
          "unique_count": 1,
          "nan_count": 0,
          "min": "0",
          "max": "0",
          "histogram": [
           {
            "bin_start": -0.5,
            "bin_end": -0.4,
            "count": 0
           },
           {
            "bin_start": -0.4,
            "bin_end": -0.3,
            "count": 0
           },
           {
            "bin_start": -0.3,
            "bin_end": -0.19999999999999996,
            "count": 0
           },
           {
            "bin_start": -0.19999999999999996,
            "bin_end": -0.09999999999999998,
            "count": 0
           },
           {
            "bin_start": -0.09999999999999998,
            "bin_end": 0,
            "count": 0
           },
           {
            "bin_start": 0,
            "bin_end": 0.10000000000000009,
            "count": 5
           },
           {
            "bin_start": 0.10000000000000009,
            "bin_end": 0.20000000000000007,
            "count": 0
           },
           {
            "bin_start": 0.20000000000000007,
            "bin_end": 0.30000000000000004,
            "count": 0
           },
           {
            "bin_start": 0.30000000000000004,
            "bin_end": 0.4,
            "count": 0
           },
           {
            "bin_start": 0.4,
            "bin_end": 0.5,
            "count": 0
           }
          ]
         }
        },
        {
         "name": "FLAG_DOCUMENT_5",
         "dtype": "int64",
         "stats": {
          "unique_count": 1,
          "nan_count": 0,
          "min": "0",
          "max": "0",
          "histogram": [
           {
            "bin_start": -0.5,
            "bin_end": -0.4,
            "count": 0
           },
           {
            "bin_start": -0.4,
            "bin_end": -0.3,
            "count": 0
           },
           {
            "bin_start": -0.3,
            "bin_end": -0.19999999999999996,
            "count": 0
           },
           {
            "bin_start": -0.19999999999999996,
            "bin_end": -0.09999999999999998,
            "count": 0
           },
           {
            "bin_start": -0.09999999999999998,
            "bin_end": 0,
            "count": 0
           },
           {
            "bin_start": 0,
            "bin_end": 0.10000000000000009,
            "count": 5
           },
           {
            "bin_start": 0.10000000000000009,
            "bin_end": 0.20000000000000007,
            "count": 0
           },
           {
            "bin_start": 0.20000000000000007,
            "bin_end": 0.30000000000000004,
            "count": 0
           },
           {
            "bin_start": 0.30000000000000004,
            "bin_end": 0.4,
            "count": 0
           },
           {
            "bin_start": 0.4,
            "bin_end": 0.5,
            "count": 0
           }
          ]
         }
        },
        {
         "name": "FLAG_DOCUMENT_6",
         "dtype": "int64",
         "stats": {
          "unique_count": 1,
          "nan_count": 0,
          "min": "0",
          "max": "0",
          "histogram": [
           {
            "bin_start": -0.5,
            "bin_end": -0.4,
            "count": 0
           },
           {
            "bin_start": -0.4,
            "bin_end": -0.3,
            "count": 0
           },
           {
            "bin_start": -0.3,
            "bin_end": -0.19999999999999996,
            "count": 0
           },
           {
            "bin_start": -0.19999999999999996,
            "bin_end": -0.09999999999999998,
            "count": 0
           },
           {
            "bin_start": -0.09999999999999998,
            "bin_end": 0,
            "count": 0
           },
           {
            "bin_start": 0,
            "bin_end": 0.10000000000000009,
            "count": 5
           },
           {
            "bin_start": 0.10000000000000009,
            "bin_end": 0.20000000000000007,
            "count": 0
           },
           {
            "bin_start": 0.20000000000000007,
            "bin_end": 0.30000000000000004,
            "count": 0
           },
           {
            "bin_start": 0.30000000000000004,
            "bin_end": 0.4,
            "count": 0
           },
           {
            "bin_start": 0.4,
            "bin_end": 0.5,
            "count": 0
           }
          ]
         }
        },
        {
         "name": "FLAG_DOCUMENT_7",
         "dtype": "int64",
         "stats": {
          "unique_count": 1,
          "nan_count": 0,
          "min": "0",
          "max": "0",
          "histogram": [
           {
            "bin_start": -0.5,
            "bin_end": -0.4,
            "count": 0
           },
           {
            "bin_start": -0.4,
            "bin_end": -0.3,
            "count": 0
           },
           {
            "bin_start": -0.3,
            "bin_end": -0.19999999999999996,
            "count": 0
           },
           {
            "bin_start": -0.19999999999999996,
            "bin_end": -0.09999999999999998,
            "count": 0
           },
           {
            "bin_start": -0.09999999999999998,
            "bin_end": 0,
            "count": 0
           },
           {
            "bin_start": 0,
            "bin_end": 0.10000000000000009,
            "count": 5
           },
           {
            "bin_start": 0.10000000000000009,
            "bin_end": 0.20000000000000007,
            "count": 0
           },
           {
            "bin_start": 0.20000000000000007,
            "bin_end": 0.30000000000000004,
            "count": 0
           },
           {
            "bin_start": 0.30000000000000004,
            "bin_end": 0.4,
            "count": 0
           },
           {
            "bin_start": 0.4,
            "bin_end": 0.5,
            "count": 0
           }
          ]
         }
        },
        {
         "name": "FLAG_DOCUMENT_8",
         "dtype": "int64",
         "stats": {
          "unique_count": 2,
          "nan_count": 0,
          "min": "0",
          "max": "1",
          "histogram": [
           {
            "bin_start": 0,
            "bin_end": 0.1,
            "count": 4
           },
           {
            "bin_start": 0.1,
            "bin_end": 0.2,
            "count": 0
           },
           {
            "bin_start": 0.2,
            "bin_end": 0.30000000000000004,
            "count": 0
           },
           {
            "bin_start": 0.30000000000000004,
            "bin_end": 0.4,
            "count": 0
           },
           {
            "bin_start": 0.4,
            "bin_end": 0.5,
            "count": 0
           },
           {
            "bin_start": 0.5,
            "bin_end": 0.6000000000000001,
            "count": 0
           },
           {
            "bin_start": 0.6000000000000001,
            "bin_end": 0.7000000000000001,
            "count": 0
           },
           {
            "bin_start": 0.7000000000000001,
            "bin_end": 0.8,
            "count": 0
           },
           {
            "bin_start": 0.8,
            "bin_end": 0.9,
            "count": 0
           },
           {
            "bin_start": 0.9,
            "bin_end": 1,
            "count": 1
           }
          ]
         }
        },
        {
         "name": "FLAG_DOCUMENT_9",
         "dtype": "int64",
         "stats": {
          "unique_count": 1,
          "nan_count": 0,
          "min": "0",
          "max": "0",
          "histogram": [
           {
            "bin_start": -0.5,
            "bin_end": -0.4,
            "count": 0
           },
           {
            "bin_start": -0.4,
            "bin_end": -0.3,
            "count": 0
           },
           {
            "bin_start": -0.3,
            "bin_end": -0.19999999999999996,
            "count": 0
           },
           {
            "bin_start": -0.19999999999999996,
            "bin_end": -0.09999999999999998,
            "count": 0
           },
           {
            "bin_start": -0.09999999999999998,
            "bin_end": 0,
            "count": 0
           },
           {
            "bin_start": 0,
            "bin_end": 0.10000000000000009,
            "count": 5
           },
           {
            "bin_start": 0.10000000000000009,
            "bin_end": 0.20000000000000007,
            "count": 0
           },
           {
            "bin_start": 0.20000000000000007,
            "bin_end": 0.30000000000000004,
            "count": 0
           },
           {
            "bin_start": 0.30000000000000004,
            "bin_end": 0.4,
            "count": 0
           },
           {
            "bin_start": 0.4,
            "bin_end": 0.5,
            "count": 0
           }
          ]
         }
        },
        {
         "name": "FLAG_DOCUMENT_10",
         "dtype": "int64",
         "stats": {
          "unique_count": 1,
          "nan_count": 0,
          "min": "0",
          "max": "0",
          "histogram": [
           {
            "bin_start": -0.5,
            "bin_end": -0.4,
            "count": 0
           },
           {
            "bin_start": -0.4,
            "bin_end": -0.3,
            "count": 0
           },
           {
            "bin_start": -0.3,
            "bin_end": -0.19999999999999996,
            "count": 0
           },
           {
            "bin_start": -0.19999999999999996,
            "bin_end": -0.09999999999999998,
            "count": 0
           },
           {
            "bin_start": -0.09999999999999998,
            "bin_end": 0,
            "count": 0
           },
           {
            "bin_start": 0,
            "bin_end": 0.10000000000000009,
            "count": 5
           },
           {
            "bin_start": 0.10000000000000009,
            "bin_end": 0.20000000000000007,
            "count": 0
           },
           {
            "bin_start": 0.20000000000000007,
            "bin_end": 0.30000000000000004,
            "count": 0
           },
           {
            "bin_start": 0.30000000000000004,
            "bin_end": 0.4,
            "count": 0
           },
           {
            "bin_start": 0.4,
            "bin_end": 0.5,
            "count": 0
           }
          ]
         }
        },
        {
         "name": "FLAG_DOCUMENT_11",
         "dtype": "int64",
         "stats": {
          "unique_count": 1,
          "nan_count": 0,
          "min": "0",
          "max": "0",
          "histogram": [
           {
            "bin_start": -0.5,
            "bin_end": -0.4,
            "count": 0
           },
           {
            "bin_start": -0.4,
            "bin_end": -0.3,
            "count": 0
           },
           {
            "bin_start": -0.3,
            "bin_end": -0.19999999999999996,
            "count": 0
           },
           {
            "bin_start": -0.19999999999999996,
            "bin_end": -0.09999999999999998,
            "count": 0
           },
           {
            "bin_start": -0.09999999999999998,
            "bin_end": 0,
            "count": 0
           },
           {
            "bin_start": 0,
            "bin_end": 0.10000000000000009,
            "count": 5
           },
           {
            "bin_start": 0.10000000000000009,
            "bin_end": 0.20000000000000007,
            "count": 0
           },
           {
            "bin_start": 0.20000000000000007,
            "bin_end": 0.30000000000000004,
            "count": 0
           },
           {
            "bin_start": 0.30000000000000004,
            "bin_end": 0.4,
            "count": 0
           },
           {
            "bin_start": 0.4,
            "bin_end": 0.5,
            "count": 0
           }
          ]
         }
        },
        {
         "name": "FLAG_DOCUMENT_12",
         "dtype": "int64",
         "stats": {
          "unique_count": 1,
          "nan_count": 0,
          "min": "0",
          "max": "0",
          "histogram": [
           {
            "bin_start": -0.5,
            "bin_end": -0.4,
            "count": 0
           },
           {
            "bin_start": -0.4,
            "bin_end": -0.3,
            "count": 0
           },
           {
            "bin_start": -0.3,
            "bin_end": -0.19999999999999996,
            "count": 0
           },
           {
            "bin_start": -0.19999999999999996,
            "bin_end": -0.09999999999999998,
            "count": 0
           },
           {
            "bin_start": -0.09999999999999998,
            "bin_end": 0,
            "count": 0
           },
           {
            "bin_start": 0,
            "bin_end": 0.10000000000000009,
            "count": 5
           },
           {
            "bin_start": 0.10000000000000009,
            "bin_end": 0.20000000000000007,
            "count": 0
           },
           {
            "bin_start": 0.20000000000000007,
            "bin_end": 0.30000000000000004,
            "count": 0
           },
           {
            "bin_start": 0.30000000000000004,
            "bin_end": 0.4,
            "count": 0
           },
           {
            "bin_start": 0.4,
            "bin_end": 0.5,
            "count": 0
           }
          ]
         }
        },
        {
         "name": "FLAG_DOCUMENT_13",
         "dtype": "int64",
         "stats": {
          "unique_count": 1,
          "nan_count": 0,
          "min": "0",
          "max": "0",
          "histogram": [
           {
            "bin_start": -0.5,
            "bin_end": -0.4,
            "count": 0
           },
           {
            "bin_start": -0.4,
            "bin_end": -0.3,
            "count": 0
           },
           {
            "bin_start": -0.3,
            "bin_end": -0.19999999999999996,
            "count": 0
           },
           {
            "bin_start": -0.19999999999999996,
            "bin_end": -0.09999999999999998,
            "count": 0
           },
           {
            "bin_start": -0.09999999999999998,
            "bin_end": 0,
            "count": 0
           },
           {
            "bin_start": 0,
            "bin_end": 0.10000000000000009,
            "count": 5
           },
           {
            "bin_start": 0.10000000000000009,
            "bin_end": 0.20000000000000007,
            "count": 0
           },
           {
            "bin_start": 0.20000000000000007,
            "bin_end": 0.30000000000000004,
            "count": 0
           },
           {
            "bin_start": 0.30000000000000004,
            "bin_end": 0.4,
            "count": 0
           },
           {
            "bin_start": 0.4,
            "bin_end": 0.5,
            "count": 0
           }
          ]
         }
        },
        {
         "name": "FLAG_DOCUMENT_14",
         "dtype": "int64",
         "stats": {
          "unique_count": 1,
          "nan_count": 0,
          "min": "0",
          "max": "0",
          "histogram": [
           {
            "bin_start": -0.5,
            "bin_end": -0.4,
            "count": 0
           },
           {
            "bin_start": -0.4,
            "bin_end": -0.3,
            "count": 0
           },
           {
            "bin_start": -0.3,
            "bin_end": -0.19999999999999996,
            "count": 0
           },
           {
            "bin_start": -0.19999999999999996,
            "bin_end": -0.09999999999999998,
            "count": 0
           },
           {
            "bin_start": -0.09999999999999998,
            "bin_end": 0,
            "count": 0
           },
           {
            "bin_start": 0,
            "bin_end": 0.10000000000000009,
            "count": 5
           },
           {
            "bin_start": 0.10000000000000009,
            "bin_end": 0.20000000000000007,
            "count": 0
           },
           {
            "bin_start": 0.20000000000000007,
            "bin_end": 0.30000000000000004,
            "count": 0
           },
           {
            "bin_start": 0.30000000000000004,
            "bin_end": 0.4,
            "count": 0
           },
           {
            "bin_start": 0.4,
            "bin_end": 0.5,
            "count": 0
           }
          ]
         }
        },
        {
         "name": "FLAG_DOCUMENT_15",
         "dtype": "int64",
         "stats": {
          "unique_count": 1,
          "nan_count": 0,
          "min": "0",
          "max": "0",
          "histogram": [
           {
            "bin_start": -0.5,
            "bin_end": -0.4,
            "count": 0
           },
           {
            "bin_start": -0.4,
            "bin_end": -0.3,
            "count": 0
           },
           {
            "bin_start": -0.3,
            "bin_end": -0.19999999999999996,
            "count": 0
           },
           {
            "bin_start": -0.19999999999999996,
            "bin_end": -0.09999999999999998,
            "count": 0
           },
           {
            "bin_start": -0.09999999999999998,
            "bin_end": 0,
            "count": 0
           },
           {
            "bin_start": 0,
            "bin_end": 0.10000000000000009,
            "count": 5
           },
           {
            "bin_start": 0.10000000000000009,
            "bin_end": 0.20000000000000007,
            "count": 0
           },
           {
            "bin_start": 0.20000000000000007,
            "bin_end": 0.30000000000000004,
            "count": 0
           },
           {
            "bin_start": 0.30000000000000004,
            "bin_end": 0.4,
            "count": 0
           },
           {
            "bin_start": 0.4,
            "bin_end": 0.5,
            "count": 0
           }
          ]
         }
        },
        {
         "name": "FLAG_DOCUMENT_16",
         "dtype": "int64",
         "stats": {
          "unique_count": 1,
          "nan_count": 0,
          "min": "0",
          "max": "0",
          "histogram": [
           {
            "bin_start": -0.5,
            "bin_end": -0.4,
            "count": 0
           },
           {
            "bin_start": -0.4,
            "bin_end": -0.3,
            "count": 0
           },
           {
            "bin_start": -0.3,
            "bin_end": -0.19999999999999996,
            "count": 0
           },
           {
            "bin_start": -0.19999999999999996,
            "bin_end": -0.09999999999999998,
            "count": 0
           },
           {
            "bin_start": -0.09999999999999998,
            "bin_end": 0,
            "count": 0
           },
           {
            "bin_start": 0,
            "bin_end": 0.10000000000000009,
            "count": 5
           },
           {
            "bin_start": 0.10000000000000009,
            "bin_end": 0.20000000000000007,
            "count": 0
           },
           {
            "bin_start": 0.20000000000000007,
            "bin_end": 0.30000000000000004,
            "count": 0
           },
           {
            "bin_start": 0.30000000000000004,
            "bin_end": 0.4,
            "count": 0
           },
           {
            "bin_start": 0.4,
            "bin_end": 0.5,
            "count": 0
           }
          ]
         }
        },
        {
         "name": "FLAG_DOCUMENT_17",
         "dtype": "int64",
         "stats": {
          "unique_count": 1,
          "nan_count": 0,
          "min": "0",
          "max": "0",
          "histogram": [
           {
            "bin_start": -0.5,
            "bin_end": -0.4,
            "count": 0
           },
           {
            "bin_start": -0.4,
            "bin_end": -0.3,
            "count": 0
           },
           {
            "bin_start": -0.3,
            "bin_end": -0.19999999999999996,
            "count": 0
           },
           {
            "bin_start": -0.19999999999999996,
            "bin_end": -0.09999999999999998,
            "count": 0
           },
           {
            "bin_start": -0.09999999999999998,
            "bin_end": 0,
            "count": 0
           },
           {
            "bin_start": 0,
            "bin_end": 0.10000000000000009,
            "count": 5
           },
           {
            "bin_start": 0.10000000000000009,
            "bin_end": 0.20000000000000007,
            "count": 0
           },
           {
            "bin_start": 0.20000000000000007,
            "bin_end": 0.30000000000000004,
            "count": 0
           },
           {
            "bin_start": 0.30000000000000004,
            "bin_end": 0.4,
            "count": 0
           },
           {
            "bin_start": 0.4,
            "bin_end": 0.5,
            "count": 0
           }
          ]
         }
        },
        {
         "name": "FLAG_DOCUMENT_18",
         "dtype": "int64",
         "stats": {
          "unique_count": 1,
          "nan_count": 0,
          "min": "0",
          "max": "0",
          "histogram": [
           {
            "bin_start": -0.5,
            "bin_end": -0.4,
            "count": 0
           },
           {
            "bin_start": -0.4,
            "bin_end": -0.3,
            "count": 0
           },
           {
            "bin_start": -0.3,
            "bin_end": -0.19999999999999996,
            "count": 0
           },
           {
            "bin_start": -0.19999999999999996,
            "bin_end": -0.09999999999999998,
            "count": 0
           },
           {
            "bin_start": -0.09999999999999998,
            "bin_end": 0,
            "count": 0
           },
           {
            "bin_start": 0,
            "bin_end": 0.10000000000000009,
            "count": 5
           },
           {
            "bin_start": 0.10000000000000009,
            "bin_end": 0.20000000000000007,
            "count": 0
           },
           {
            "bin_start": 0.20000000000000007,
            "bin_end": 0.30000000000000004,
            "count": 0
           },
           {
            "bin_start": 0.30000000000000004,
            "bin_end": 0.4,
            "count": 0
           },
           {
            "bin_start": 0.4,
            "bin_end": 0.5,
            "count": 0
           }
          ]
         }
        },
        {
         "name": "FLAG_DOCUMENT_19",
         "dtype": "int64",
         "stats": {
          "unique_count": 1,
          "nan_count": 0,
          "min": "0",
          "max": "0",
          "histogram": [
           {
            "bin_start": -0.5,
            "bin_end": -0.4,
            "count": 0
           },
           {
            "bin_start": -0.4,
            "bin_end": -0.3,
            "count": 0
           },
           {
            "bin_start": -0.3,
            "bin_end": -0.19999999999999996,
            "count": 0
           },
           {
            "bin_start": -0.19999999999999996,
            "bin_end": -0.09999999999999998,
            "count": 0
           },
           {
            "bin_start": -0.09999999999999998,
            "bin_end": 0,
            "count": 0
           },
           {
            "bin_start": 0,
            "bin_end": 0.10000000000000009,
            "count": 5
           },
           {
            "bin_start": 0.10000000000000009,
            "bin_end": 0.20000000000000007,
            "count": 0
           },
           {
            "bin_start": 0.20000000000000007,
            "bin_end": 0.30000000000000004,
            "count": 0
           },
           {
            "bin_start": 0.30000000000000004,
            "bin_end": 0.4,
            "count": 0
           },
           {
            "bin_start": 0.4,
            "bin_end": 0.5,
            "count": 0
           }
          ]
         }
        },
        {
         "name": "FLAG_DOCUMENT_20",
         "dtype": "int64",
         "stats": {
          "unique_count": 1,
          "nan_count": 0,
          "min": "0",
          "max": "0",
          "histogram": [
           {
            "bin_start": -0.5,
            "bin_end": -0.4,
            "count": 0
           },
           {
            "bin_start": -0.4,
            "bin_end": -0.3,
            "count": 0
           },
           {
            "bin_start": -0.3,
            "bin_end": -0.19999999999999996,
            "count": 0
           },
           {
            "bin_start": -0.19999999999999996,
            "bin_end": -0.09999999999999998,
            "count": 0
           },
           {
            "bin_start": -0.09999999999999998,
            "bin_end": 0,
            "count": 0
           },
           {
            "bin_start": 0,
            "bin_end": 0.10000000000000009,
            "count": 5
           },
           {
            "bin_start": 0.10000000000000009,
            "bin_end": 0.20000000000000007,
            "count": 0
           },
           {
            "bin_start": 0.20000000000000007,
            "bin_end": 0.30000000000000004,
            "count": 0
           },
           {
            "bin_start": 0.30000000000000004,
            "bin_end": 0.4,
            "count": 0
           },
           {
            "bin_start": 0.4,
            "bin_end": 0.5,
            "count": 0
           }
          ]
         }
        },
        {
         "name": "FLAG_DOCUMENT_21",
         "dtype": "int64",
         "stats": {
          "unique_count": 1,
          "nan_count": 0,
          "min": "0",
          "max": "0",
          "histogram": [
           {
            "bin_start": -0.5,
            "bin_end": -0.4,
            "count": 0
           },
           {
            "bin_start": -0.4,
            "bin_end": -0.3,
            "count": 0
           },
           {
            "bin_start": -0.3,
            "bin_end": -0.19999999999999996,
            "count": 0
           },
           {
            "bin_start": -0.19999999999999996,
            "bin_end": -0.09999999999999998,
            "count": 0
           },
           {
            "bin_start": -0.09999999999999998,
            "bin_end": 0,
            "count": 0
           },
           {
            "bin_start": 0,
            "bin_end": 0.10000000000000009,
            "count": 5
           },
           {
            "bin_start": 0.10000000000000009,
            "bin_end": 0.20000000000000007,
            "count": 0
           },
           {
            "bin_start": 0.20000000000000007,
            "bin_end": 0.30000000000000004,
            "count": 0
           },
           {
            "bin_start": 0.30000000000000004,
            "bin_end": 0.4,
            "count": 0
           },
           {
            "bin_start": 0.4,
            "bin_end": 0.5,
            "count": 0
           }
          ]
         }
        },
        {
         "name": "previously_applied",
         "dtype": "bool",
         "stats": {
          "unique_count": 1,
          "nan_count": 0,
          "categories": [
           {
            "name": "True",
            "count": 5
           }
          ]
         }
        },
        {
         "name": "total_apps",
         "dtype": "float64",
         "stats": {
          "unique_count": 4,
          "nan_count": 0,
          "min": "1.0",
          "max": "9.0",
          "histogram": [
           {
            "bin_start": 1,
            "bin_end": 1.8,
            "count": 2
           },
           {
            "bin_start": 1.8,
            "bin_end": 2.6,
            "count": 0
           },
           {
            "bin_start": 2.6,
            "bin_end": 3.4000000000000004,
            "count": 1
           },
           {
            "bin_start": 3.4000000000000004,
            "bin_end": 4.2,
            "count": 0
           },
           {
            "bin_start": 4.2,
            "bin_end": 5,
            "count": 0
           },
           {
            "bin_start": 5,
            "bin_end": 5.800000000000001,
            "count": 0
           },
           {
            "bin_start": 5.800000000000001,
            "bin_end": 6.6000000000000005,
            "count": 1
           },
           {
            "bin_start": 6.6000000000000005,
            "bin_end": 7.4,
            "count": 0
           },
           {
            "bin_start": 7.4,
            "bin_end": 8.2,
            "count": 0
           },
           {
            "bin_start": 8.2,
            "bin_end": 9,
            "count": 1
           }
          ]
         }
        },
        {
         "name": "Approved_rate",
         "dtype": "float64",
         "stats": {
          "unique_count": 2,
          "nan_count": 0,
          "min": "0.5555555555555556",
          "max": "1.0",
          "histogram": [
           {
            "bin_start": 0.5555555555555556,
            "bin_end": 0.6,
            "count": 1
           },
           {
            "bin_start": 0.6,
            "bin_end": 0.6444444444444445,
            "count": 0
           },
           {
            "bin_start": 0.6444444444444445,
            "bin_end": 0.6888888888888889,
            "count": 0
           },
           {
            "bin_start": 0.6888888888888889,
            "bin_end": 0.7333333333333334,
            "count": 0
           },
           {
            "bin_start": 0.7333333333333334,
            "bin_end": 0.7777777777777778,
            "count": 0
           },
           {
            "bin_start": 0.7777777777777778,
            "bin_end": 0.8222222222222222,
            "count": 0
           },
           {
            "bin_start": 0.8222222222222222,
            "bin_end": 0.8666666666666667,
            "count": 0
           },
           {
            "bin_start": 0.8666666666666667,
            "bin_end": 0.9111111111111111,
            "count": 0
           },
           {
            "bin_start": 0.9111111111111111,
            "bin_end": 0.9555555555555555,
            "count": 0
           },
           {
            "bin_start": 0.9555555555555555,
            "bin_end": 1,
            "count": 4
           }
          ]
         }
        },
        {
         "name": "_deepnote_index_column",
         "dtype": "int64"
        }
       ],
       "rows_top": [
        {
         "SK_ID_CURR": 100002,
         "TARGET": 1,
         "NAME_CONTRACT_TYPE": "Cash loans",
         "CODE_GENDER": "M",
         "FLAG_OWN_CAR": "N",
         "FLAG_OWN_REALTY": "Y",
         "CNT_CHILDREN": 0,
         "AMT_INCOME_TOTAL": 202500,
         "AMT_CREDIT": 406597.5,
         "AMT_ANNUITY": 24700.5,
         "AMT_GOODS_PRICE": 351000,
         "NAME_INCOME_TYPE": "Working",
         "NAME_EDUCATION_TYPE": "Secondary / secondary special",
         "NAME_FAMILY_STATUS": "Single / not married",
         "NAME_HOUSING_TYPE": "House / apartment",
         "REGION_POPULATION_RELATIVE": 0.018801,
         "DAYS_BIRTH": -9461,
         "DAYS_EMPLOYED": -637,
         "DAYS_REGISTRATION": -3648,
         "DAYS_ID_PUBLISH": -2120,
         "OWN_CAR_AGE": "nan",
         "FLAG_MOBIL": 1,
         "FLAG_EMP_PHONE": 1,
         "FLAG_WORK_PHONE": 0,
         "FLAG_CONT_MOBILE": 1,
         "FLAG_PHONE": 1,
         "FLAG_EMAIL": 0,
         "OCCUPATION_TYPE": "Laborers",
         "CNT_FAM_MEMBERS": 1,
         "REGION_RATING_CLIENT": 2,
         "REGION_RATING_CLIENT_W_CITY": 2,
         "REG_REGION_NOT_LIVE_REGION": 0,
         "REG_REGION_NOT_WORK_REGION": 0,
         "LIVE_REGION_NOT_WORK_REGION": 0,
         "REG_CITY_NOT_LIVE_CITY": 0,
         "REG_CITY_NOT_WORK_CITY": 0,
         "LIVE_CITY_NOT_WORK_CITY": 0,
         "ORGANIZATION_TYPE": "Business Entity Type 3",
         "EXT_SOURCE_1": 0.0830369673913225,
         "EXT_SOURCE_2": 0.2629485927471776,
         "EXT_SOURCE_3": 0.1393757800997895,
         "OBS_30_CNT_SOCIAL_CIRCLE": 2,
         "DEF_30_CNT_SOCIAL_CIRCLE": 2,
         "OBS_60_CNT_SOCIAL_CIRCLE": 2,
         "DEF_60_CNT_SOCIAL_CIRCLE": 2,
         "DAYS_LAST_PHONE_CHANGE": -1134,
         "FLAG_DOCUMENT_2": 0,
         "FLAG_DOCUMENT_3": 1,
         "FLAG_DOCUMENT_4": 0,
         "FLAG_DOCUMENT_5": 0,
         "FLAG_DOCUMENT_6": 0,
         "FLAG_DOCUMENT_7": 0,
         "FLAG_DOCUMENT_8": 0,
         "FLAG_DOCUMENT_9": 0,
         "FLAG_DOCUMENT_10": 0,
         "FLAG_DOCUMENT_11": 0,
         "FLAG_DOCUMENT_12": 0,
         "FLAG_DOCUMENT_13": 0,
         "FLAG_DOCUMENT_14": 0,
         "FLAG_DOCUMENT_15": 0,
         "FLAG_DOCUMENT_16": 0,
         "FLAG_DOCUMENT_17": 0,
         "FLAG_DOCUMENT_18": 0,
         "FLAG_DOCUMENT_19": 0,
         "FLAG_DOCUMENT_20": 0,
         "FLAG_DOCUMENT_21": 0,
         "previously_applied": "True",
         "total_apps": 1,
         "Approved_rate": 1,
         "_deepnote_index_column": 0
        },
        {
         "SK_ID_CURR": 100003,
         "TARGET": 0,
         "NAME_CONTRACT_TYPE": "Cash loans",
         "CODE_GENDER": "F",
         "FLAG_OWN_CAR": "N",
         "FLAG_OWN_REALTY": "N",
         "CNT_CHILDREN": 0,
         "AMT_INCOME_TOTAL": 270000,
         "AMT_CREDIT": 1293502.5,
         "AMT_ANNUITY": 35698.5,
         "AMT_GOODS_PRICE": 1129500,
         "NAME_INCOME_TYPE": "State servant",
         "NAME_EDUCATION_TYPE": "Higher education",
         "NAME_FAMILY_STATUS": "Married",
         "NAME_HOUSING_TYPE": "House / apartment",
         "REGION_POPULATION_RELATIVE": 0.0035409999999999,
         "DAYS_BIRTH": -16765,
         "DAYS_EMPLOYED": -1188,
         "DAYS_REGISTRATION": -1186,
         "DAYS_ID_PUBLISH": -291,
         "OWN_CAR_AGE": "nan",
         "FLAG_MOBIL": 1,
         "FLAG_EMP_PHONE": 1,
         "FLAG_WORK_PHONE": 0,
         "FLAG_CONT_MOBILE": 1,
         "FLAG_PHONE": 1,
         "FLAG_EMAIL": 0,
         "OCCUPATION_TYPE": "Core staff",
         "CNT_FAM_MEMBERS": 2,
         "REGION_RATING_CLIENT": 1,
         "REGION_RATING_CLIENT_W_CITY": 1,
         "REG_REGION_NOT_LIVE_REGION": 0,
         "REG_REGION_NOT_WORK_REGION": 0,
         "LIVE_REGION_NOT_WORK_REGION": 0,
         "REG_CITY_NOT_LIVE_CITY": 0,
         "REG_CITY_NOT_WORK_CITY": 0,
         "LIVE_CITY_NOT_WORK_CITY": 0,
         "ORGANIZATION_TYPE": "School",
         "EXT_SOURCE_1": 0.3112673113812225,
         "EXT_SOURCE_2": 0.6222457752555098,
         "EXT_SOURCE_3": "nan",
         "OBS_30_CNT_SOCIAL_CIRCLE": 1,
         "DEF_30_CNT_SOCIAL_CIRCLE": 0,
         "OBS_60_CNT_SOCIAL_CIRCLE": 1,
         "DEF_60_CNT_SOCIAL_CIRCLE": 0,
         "DAYS_LAST_PHONE_CHANGE": -828,
         "FLAG_DOCUMENT_2": 0,
         "FLAG_DOCUMENT_3": 1,
         "FLAG_DOCUMENT_4": 0,
         "FLAG_DOCUMENT_5": 0,
         "FLAG_DOCUMENT_6": 0,
         "FLAG_DOCUMENT_7": 0,
         "FLAG_DOCUMENT_8": 0,
         "FLAG_DOCUMENT_9": 0,
         "FLAG_DOCUMENT_10": 0,
         "FLAG_DOCUMENT_11": 0,
         "FLAG_DOCUMENT_12": 0,
         "FLAG_DOCUMENT_13": 0,
         "FLAG_DOCUMENT_14": 0,
         "FLAG_DOCUMENT_15": 0,
         "FLAG_DOCUMENT_16": 0,
         "FLAG_DOCUMENT_17": 0,
         "FLAG_DOCUMENT_18": 0,
         "FLAG_DOCUMENT_19": 0,
         "FLAG_DOCUMENT_20": 0,
         "FLAG_DOCUMENT_21": 0,
         "previously_applied": "True",
         "total_apps": 3,
         "Approved_rate": 1,
         "_deepnote_index_column": 1
        },
        {
         "SK_ID_CURR": 100004,
         "TARGET": 0,
         "NAME_CONTRACT_TYPE": "Revolving loans",
         "CODE_GENDER": "M",
         "FLAG_OWN_CAR": "Y",
         "FLAG_OWN_REALTY": "Y",
         "CNT_CHILDREN": 0,
         "AMT_INCOME_TOTAL": 67500,
         "AMT_CREDIT": 135000,
         "AMT_ANNUITY": 6750,
         "AMT_GOODS_PRICE": 135000,
         "NAME_INCOME_TYPE": "Working",
         "NAME_EDUCATION_TYPE": "Secondary / secondary special",
         "NAME_FAMILY_STATUS": "Single / not married",
         "NAME_HOUSING_TYPE": "House / apartment",
         "REGION_POPULATION_RELATIVE": 0.010032,
         "DAYS_BIRTH": -19046,
         "DAYS_EMPLOYED": -225,
         "DAYS_REGISTRATION": -4260,
         "DAYS_ID_PUBLISH": -2531,
         "OWN_CAR_AGE": 26,
         "FLAG_MOBIL": 1,
         "FLAG_EMP_PHONE": 1,
         "FLAG_WORK_PHONE": 1,
         "FLAG_CONT_MOBILE": 1,
         "FLAG_PHONE": 1,
         "FLAG_EMAIL": 0,
         "OCCUPATION_TYPE": "Laborers",
         "CNT_FAM_MEMBERS": 1,
         "REGION_RATING_CLIENT": 2,
         "REGION_RATING_CLIENT_W_CITY": 2,
         "REG_REGION_NOT_LIVE_REGION": 0,
         "REG_REGION_NOT_WORK_REGION": 0,
         "LIVE_REGION_NOT_WORK_REGION": 0,
         "REG_CITY_NOT_LIVE_CITY": 0,
         "REG_CITY_NOT_WORK_CITY": 0,
         "LIVE_CITY_NOT_WORK_CITY": 0,
         "ORGANIZATION_TYPE": "Government",
         "EXT_SOURCE_1": "nan",
         "EXT_SOURCE_2": 0.5559120833904428,
         "EXT_SOURCE_3": 0.7295666907060153,
         "OBS_30_CNT_SOCIAL_CIRCLE": 0,
         "DEF_30_CNT_SOCIAL_CIRCLE": 0,
         "OBS_60_CNT_SOCIAL_CIRCLE": 0,
         "DEF_60_CNT_SOCIAL_CIRCLE": 0,
         "DAYS_LAST_PHONE_CHANGE": -815,
         "FLAG_DOCUMENT_2": 0,
         "FLAG_DOCUMENT_3": 0,
         "FLAG_DOCUMENT_4": 0,
         "FLAG_DOCUMENT_5": 0,
         "FLAG_DOCUMENT_6": 0,
         "FLAG_DOCUMENT_7": 0,
         "FLAG_DOCUMENT_8": 0,
         "FLAG_DOCUMENT_9": 0,
         "FLAG_DOCUMENT_10": 0,
         "FLAG_DOCUMENT_11": 0,
         "FLAG_DOCUMENT_12": 0,
         "FLAG_DOCUMENT_13": 0,
         "FLAG_DOCUMENT_14": 0,
         "FLAG_DOCUMENT_15": 0,
         "FLAG_DOCUMENT_16": 0,
         "FLAG_DOCUMENT_17": 0,
         "FLAG_DOCUMENT_18": 0,
         "FLAG_DOCUMENT_19": 0,
         "FLAG_DOCUMENT_20": 0,
         "FLAG_DOCUMENT_21": 0,
         "previously_applied": "True",
         "total_apps": 1,
         "Approved_rate": 1,
         "_deepnote_index_column": 2
        },
        {
         "SK_ID_CURR": 100006,
         "TARGET": 0,
         "NAME_CONTRACT_TYPE": "Cash loans",
         "CODE_GENDER": "F",
         "FLAG_OWN_CAR": "N",
         "FLAG_OWN_REALTY": "Y",
         "CNT_CHILDREN": 0,
         "AMT_INCOME_TOTAL": 135000,
         "AMT_CREDIT": 312682.5,
         "AMT_ANNUITY": 29686.5,
         "AMT_GOODS_PRICE": 297000,
         "NAME_INCOME_TYPE": "Working",
         "NAME_EDUCATION_TYPE": "Secondary / secondary special",
         "NAME_FAMILY_STATUS": "Civil marriage",
         "NAME_HOUSING_TYPE": "House / apartment",
         "REGION_POPULATION_RELATIVE": 0.008019,
         "DAYS_BIRTH": -19005,
         "DAYS_EMPLOYED": -3039,
         "DAYS_REGISTRATION": -9833,
         "DAYS_ID_PUBLISH": -2437,
         "OWN_CAR_AGE": "nan",
         "FLAG_MOBIL": 1,
         "FLAG_EMP_PHONE": 1,
         "FLAG_WORK_PHONE": 0,
         "FLAG_CONT_MOBILE": 1,
         "FLAG_PHONE": 0,
         "FLAG_EMAIL": 0,
         "OCCUPATION_TYPE": "Laborers",
         "CNT_FAM_MEMBERS": 2,
         "REGION_RATING_CLIENT": 2,
         "REGION_RATING_CLIENT_W_CITY": 2,
         "REG_REGION_NOT_LIVE_REGION": 0,
         "REG_REGION_NOT_WORK_REGION": 0,
         "LIVE_REGION_NOT_WORK_REGION": 0,
         "REG_CITY_NOT_LIVE_CITY": 0,
         "REG_CITY_NOT_WORK_CITY": 0,
         "LIVE_CITY_NOT_WORK_CITY": 0,
         "ORGANIZATION_TYPE": "Business Entity Type 3",
         "EXT_SOURCE_1": "nan",
         "EXT_SOURCE_2": 0.6504416904014653,
         "EXT_SOURCE_3": "nan",
         "OBS_30_CNT_SOCIAL_CIRCLE": 2,
         "DEF_30_CNT_SOCIAL_CIRCLE": 0,
         "OBS_60_CNT_SOCIAL_CIRCLE": 2,
         "DEF_60_CNT_SOCIAL_CIRCLE": 0,
         "DAYS_LAST_PHONE_CHANGE": -617,
         "FLAG_DOCUMENT_2": 0,
         "FLAG_DOCUMENT_3": 1,
         "FLAG_DOCUMENT_4": 0,
         "FLAG_DOCUMENT_5": 0,
         "FLAG_DOCUMENT_6": 0,
         "FLAG_DOCUMENT_7": 0,
         "FLAG_DOCUMENT_8": 0,
         "FLAG_DOCUMENT_9": 0,
         "FLAG_DOCUMENT_10": 0,
         "FLAG_DOCUMENT_11": 0,
         "FLAG_DOCUMENT_12": 0,
         "FLAG_DOCUMENT_13": 0,
         "FLAG_DOCUMENT_14": 0,
         "FLAG_DOCUMENT_15": 0,
         "FLAG_DOCUMENT_16": 0,
         "FLAG_DOCUMENT_17": 0,
         "FLAG_DOCUMENT_18": 0,
         "FLAG_DOCUMENT_19": 0,
         "FLAG_DOCUMENT_20": 0,
         "FLAG_DOCUMENT_21": 0,
         "previously_applied": "True",
         "total_apps": 9,
         "Approved_rate": 0.5555555555555556,
         "_deepnote_index_column": 3
        },
        {
         "SK_ID_CURR": 100007,
         "TARGET": 0,
         "NAME_CONTRACT_TYPE": "Cash loans",
         "CODE_GENDER": "M",
         "FLAG_OWN_CAR": "N",
         "FLAG_OWN_REALTY": "Y",
         "CNT_CHILDREN": 0,
         "AMT_INCOME_TOTAL": 121500,
         "AMT_CREDIT": 513000,
         "AMT_ANNUITY": 21865.5,
         "AMT_GOODS_PRICE": 513000,
         "NAME_INCOME_TYPE": "Working",
         "NAME_EDUCATION_TYPE": "Secondary / secondary special",
         "NAME_FAMILY_STATUS": "Single / not married",
         "NAME_HOUSING_TYPE": "House / apartment",
         "REGION_POPULATION_RELATIVE": 0.028663,
         "DAYS_BIRTH": -19932,
         "DAYS_EMPLOYED": -3038,
         "DAYS_REGISTRATION": -4311,
         "DAYS_ID_PUBLISH": -3458,
         "OWN_CAR_AGE": "nan",
         "FLAG_MOBIL": 1,
         "FLAG_EMP_PHONE": 1,
         "FLAG_WORK_PHONE": 0,
         "FLAG_CONT_MOBILE": 1,
         "FLAG_PHONE": 0,
         "FLAG_EMAIL": 0,
         "OCCUPATION_TYPE": "Core staff",
         "CNT_FAM_MEMBERS": 1,
         "REGION_RATING_CLIENT": 2,
         "REGION_RATING_CLIENT_W_CITY": 2,
         "REG_REGION_NOT_LIVE_REGION": 0,
         "REG_REGION_NOT_WORK_REGION": 0,
         "LIVE_REGION_NOT_WORK_REGION": 0,
         "REG_CITY_NOT_LIVE_CITY": 0,
         "REG_CITY_NOT_WORK_CITY": 1,
         "LIVE_CITY_NOT_WORK_CITY": 1,
         "ORGANIZATION_TYPE": "Religion",
         "EXT_SOURCE_1": "nan",
         "EXT_SOURCE_2": 0.3227382869704046,
         "EXT_SOURCE_3": "nan",
         "OBS_30_CNT_SOCIAL_CIRCLE": 0,
         "DEF_30_CNT_SOCIAL_CIRCLE": 0,
         "OBS_60_CNT_SOCIAL_CIRCLE": 0,
         "DEF_60_CNT_SOCIAL_CIRCLE": 0,
         "DAYS_LAST_PHONE_CHANGE": -1106,
         "FLAG_DOCUMENT_2": 0,
         "FLAG_DOCUMENT_3": 0,
         "FLAG_DOCUMENT_4": 0,
         "FLAG_DOCUMENT_5": 0,
         "FLAG_DOCUMENT_6": 0,
         "FLAG_DOCUMENT_7": 0,
         "FLAG_DOCUMENT_8": 1,
         "FLAG_DOCUMENT_9": 0,
         "FLAG_DOCUMENT_10": 0,
         "FLAG_DOCUMENT_11": 0,
         "FLAG_DOCUMENT_12": 0,
         "FLAG_DOCUMENT_13": 0,
         "FLAG_DOCUMENT_14": 0,
         "FLAG_DOCUMENT_15": 0,
         "FLAG_DOCUMENT_16": 0,
         "FLAG_DOCUMENT_17": 0,
         "FLAG_DOCUMENT_18": 0,
         "FLAG_DOCUMENT_19": 0,
         "FLAG_DOCUMENT_20": 0,
         "FLAG_DOCUMENT_21": 0,
         "previously_applied": "True",
         "total_apps": 6,
         "Approved_rate": 1,
         "_deepnote_index_column": 4
        }
       ],
       "rows_bottom": null
      },
      "text/plain": "   SK_ID_CURR  TARGET NAME_CONTRACT_TYPE CODE_GENDER FLAG_OWN_CAR  \\\n0      100002       1         Cash loans           M            N   \n1      100003       0         Cash loans           F            N   \n2      100004       0    Revolving loans           M            Y   \n3      100006       0         Cash loans           F            N   \n4      100007       0         Cash loans           M            N   \n\n  FLAG_OWN_REALTY  CNT_CHILDREN  AMT_INCOME_TOTAL  AMT_CREDIT  AMT_ANNUITY  \\\n0               Y             0          202500.0    406597.5      24700.5   \n1               N             0          270000.0   1293502.5      35698.5   \n2               Y             0           67500.0    135000.0       6750.0   \n3               Y             0          135000.0    312682.5      29686.5   \n4               Y             0          121500.0    513000.0      21865.5   \n\n   ...  FLAG_DOCUMENT_15 FLAG_DOCUMENT_16 FLAG_DOCUMENT_17 FLAG_DOCUMENT_18  \\\n0  ...                 0                0                0                0   \n1  ...                 0                0                0                0   \n2  ...                 0                0                0                0   \n3  ...                 0                0                0                0   \n4  ...                 0                0                0                0   \n\n  FLAG_DOCUMENT_19  FLAG_DOCUMENT_20  FLAG_DOCUMENT_21  previously_applied  \\\n0                0                 0                 0                True   \n1                0                 0                 0                True   \n2                0                 0                 0                True   \n3                0                 0                 0                True   \n4                0                 0                 0                True   \n\n   total_apps  Approved_rate  \n0         1.0       1.000000  \n1         3.0       1.000000  \n2         1.0       1.000000  \n3         9.0       0.555556  \n4         6.0       1.000000  \n\n[5 rows x 69 columns]",
      "text/html": "<div>\n<style scoped>\n    .dataframe tbody tr th:only-of-type {\n        vertical-align: middle;\n    }\n\n    .dataframe tbody tr th {\n        vertical-align: top;\n    }\n\n    .dataframe thead th {\n        text-align: right;\n    }\n</style>\n<table border=\"1\" class=\"dataframe\">\n  <thead>\n    <tr style=\"text-align: right;\">\n      <th></th>\n      <th>SK_ID_CURR</th>\n      <th>TARGET</th>\n      <th>NAME_CONTRACT_TYPE</th>\n      <th>CODE_GENDER</th>\n      <th>FLAG_OWN_CAR</th>\n      <th>FLAG_OWN_REALTY</th>\n      <th>CNT_CHILDREN</th>\n      <th>AMT_INCOME_TOTAL</th>\n      <th>AMT_CREDIT</th>\n      <th>AMT_ANNUITY</th>\n      <th>...</th>\n      <th>FLAG_DOCUMENT_15</th>\n      <th>FLAG_DOCUMENT_16</th>\n      <th>FLAG_DOCUMENT_17</th>\n      <th>FLAG_DOCUMENT_18</th>\n      <th>FLAG_DOCUMENT_19</th>\n      <th>FLAG_DOCUMENT_20</th>\n      <th>FLAG_DOCUMENT_21</th>\n      <th>previously_applied</th>\n      <th>total_apps</th>\n      <th>Approved_rate</th>\n    </tr>\n  </thead>\n  <tbody>\n    <tr>\n      <th>0</th>\n      <td>100002</td>\n      <td>1</td>\n      <td>Cash loans</td>\n      <td>M</td>\n      <td>N</td>\n      <td>Y</td>\n      <td>0</td>\n      <td>202500.0</td>\n      <td>406597.5</td>\n      <td>24700.5</td>\n      <td>...</td>\n      <td>0</td>\n      <td>0</td>\n      <td>0</td>\n      <td>0</td>\n      <td>0</td>\n      <td>0</td>\n      <td>0</td>\n      <td>True</td>\n      <td>1.0</td>\n      <td>1.000000</td>\n    </tr>\n    <tr>\n      <th>1</th>\n      <td>100003</td>\n      <td>0</td>\n      <td>Cash loans</td>\n      <td>F</td>\n      <td>N</td>\n      <td>N</td>\n      <td>0</td>\n      <td>270000.0</td>\n      <td>1293502.5</td>\n      <td>35698.5</td>\n      <td>...</td>\n      <td>0</td>\n      <td>0</td>\n      <td>0</td>\n      <td>0</td>\n      <td>0</td>\n      <td>0</td>\n      <td>0</td>\n      <td>True</td>\n      <td>3.0</td>\n      <td>1.000000</td>\n    </tr>\n    <tr>\n      <th>2</th>\n      <td>100004</td>\n      <td>0</td>\n      <td>Revolving loans</td>\n      <td>M</td>\n      <td>Y</td>\n      <td>Y</td>\n      <td>0</td>\n      <td>67500.0</td>\n      <td>135000.0</td>\n      <td>6750.0</td>\n      <td>...</td>\n      <td>0</td>\n      <td>0</td>\n      <td>0</td>\n      <td>0</td>\n      <td>0</td>\n      <td>0</td>\n      <td>0</td>\n      <td>True</td>\n      <td>1.0</td>\n      <td>1.000000</td>\n    </tr>\n    <tr>\n      <th>3</th>\n      <td>100006</td>\n      <td>0</td>\n      <td>Cash loans</td>\n      <td>F</td>\n      <td>N</td>\n      <td>Y</td>\n      <td>0</td>\n      <td>135000.0</td>\n      <td>312682.5</td>\n      <td>29686.5</td>\n      <td>...</td>\n      <td>0</td>\n      <td>0</td>\n      <td>0</td>\n      <td>0</td>\n      <td>0</td>\n      <td>0</td>\n      <td>0</td>\n      <td>True</td>\n      <td>9.0</td>\n      <td>0.555556</td>\n    </tr>\n    <tr>\n      <th>4</th>\n      <td>100007</td>\n      <td>0</td>\n      <td>Cash loans</td>\n      <td>M</td>\n      <td>N</td>\n      <td>Y</td>\n      <td>0</td>\n      <td>121500.0</td>\n      <td>513000.0</td>\n      <td>21865.5</td>\n      <td>...</td>\n      <td>0</td>\n      <td>0</td>\n      <td>0</td>\n      <td>0</td>\n      <td>0</td>\n      <td>0</td>\n      <td>0</td>\n      <td>True</td>\n      <td>6.0</td>\n      <td>1.000000</td>\n    </tr>\n  </tbody>\n</table>\n<p>5 rows × 69 columns</p>\n</div>"
     },
     "metadata": {}
    }
   ],
   "execution_count": null
  },
  {
   "cell_type": "code",
   "metadata": {
    "tags": [],
    "cell_id": "00015-0f0d532b-e9c3-400e-9d59-a6e619f5b6a8",
    "deepnote_to_be_reexecuted": true,
    "source_hash": "443ffe57",
    "execution_start": 1628795549026,
    "execution_millis": 269,
    "deepnote_cell_type": "code"
   },
   "source": "app_train.head()",
   "outputs": [
    {
     "output_type": "execute_result",
     "execution_count": 13,
     "data": {
      "application/vnd.deepnote.dataframe.v2+json": {
       "row_count": 5,
       "column_count": 69,
       "columns": [
        {
         "name": "SK_ID_CURR",
         "dtype": "int64",
         "stats": {
          "unique_count": 5,
          "nan_count": 0,
          "min": "100002",
          "max": "100007",
          "histogram": [
           {
            "bin_start": 100002,
            "bin_end": 100002.5,
            "count": 1
           },
           {
            "bin_start": 100002.5,
            "bin_end": 100003,
            "count": 0
           },
           {
            "bin_start": 100003,
            "bin_end": 100003.5,
            "count": 1
           },
           {
            "bin_start": 100003.5,
            "bin_end": 100004,
            "count": 0
           },
           {
            "bin_start": 100004,
            "bin_end": 100004.5,
            "count": 1
           },
           {
            "bin_start": 100004.5,
            "bin_end": 100005,
            "count": 0
           },
           {
            "bin_start": 100005,
            "bin_end": 100005.5,
            "count": 0
           },
           {
            "bin_start": 100005.5,
            "bin_end": 100006,
            "count": 0
           },
           {
            "bin_start": 100006,
            "bin_end": 100006.5,
            "count": 1
           },
           {
            "bin_start": 100006.5,
            "bin_end": 100007,
            "count": 1
           }
          ]
         }
        },
        {
         "name": "TARGET",
         "dtype": "int64",
         "stats": {
          "unique_count": 2,
          "nan_count": 0,
          "min": "0",
          "max": "1",
          "histogram": [
           {
            "bin_start": 0,
            "bin_end": 0.1,
            "count": 4
           },
           {
            "bin_start": 0.1,
            "bin_end": 0.2,
            "count": 0
           },
           {
            "bin_start": 0.2,
            "bin_end": 0.30000000000000004,
            "count": 0
           },
           {
            "bin_start": 0.30000000000000004,
            "bin_end": 0.4,
            "count": 0
           },
           {
            "bin_start": 0.4,
            "bin_end": 0.5,
            "count": 0
           },
           {
            "bin_start": 0.5,
            "bin_end": 0.6000000000000001,
            "count": 0
           },
           {
            "bin_start": 0.6000000000000001,
            "bin_end": 0.7000000000000001,
            "count": 0
           },
           {
            "bin_start": 0.7000000000000001,
            "bin_end": 0.8,
            "count": 0
           },
           {
            "bin_start": 0.8,
            "bin_end": 0.9,
            "count": 0
           },
           {
            "bin_start": 0.9,
            "bin_end": 1,
            "count": 1
           }
          ]
         }
        },
        {
         "name": "NAME_CONTRACT_TYPE",
         "dtype": "object",
         "stats": {
          "unique_count": 2,
          "nan_count": 0,
          "categories": [
           {
            "name": "Cash loans",
            "count": 4
           },
           {
            "name": "Revolving loans",
            "count": 1
           }
          ]
         }
        },
        {
         "name": "CODE_GENDER",
         "dtype": "object",
         "stats": {
          "unique_count": 2,
          "nan_count": 0,
          "categories": [
           {
            "name": "M",
            "count": 3
           },
           {
            "name": "F",
            "count": 2
           }
          ]
         }
        },
        {
         "name": "FLAG_OWN_CAR",
         "dtype": "object",
         "stats": {
          "unique_count": 2,
          "nan_count": 0,
          "categories": [
           {
            "name": "N",
            "count": 4
           },
           {
            "name": "Y",
            "count": 1
           }
          ]
         }
        },
        {
         "name": "FLAG_OWN_REALTY",
         "dtype": "object",
         "stats": {
          "unique_count": 2,
          "nan_count": 0,
          "categories": [
           {
            "name": "Y",
            "count": 4
           },
           {
            "name": "N",
            "count": 1
           }
          ]
         }
        },
        {
         "name": "CNT_CHILDREN",
         "dtype": "int64",
         "stats": {
          "unique_count": 1,
          "nan_count": 0,
          "min": "0",
          "max": "0",
          "histogram": [
           {
            "bin_start": -0.5,
            "bin_end": -0.4,
            "count": 0
           },
           {
            "bin_start": -0.4,
            "bin_end": -0.3,
            "count": 0
           },
           {
            "bin_start": -0.3,
            "bin_end": -0.19999999999999996,
            "count": 0
           },
           {
            "bin_start": -0.19999999999999996,
            "bin_end": -0.09999999999999998,
            "count": 0
           },
           {
            "bin_start": -0.09999999999999998,
            "bin_end": 0,
            "count": 0
           },
           {
            "bin_start": 0,
            "bin_end": 0.10000000000000009,
            "count": 5
           },
           {
            "bin_start": 0.10000000000000009,
            "bin_end": 0.20000000000000007,
            "count": 0
           },
           {
            "bin_start": 0.20000000000000007,
            "bin_end": 0.30000000000000004,
            "count": 0
           },
           {
            "bin_start": 0.30000000000000004,
            "bin_end": 0.4,
            "count": 0
           },
           {
            "bin_start": 0.4,
            "bin_end": 0.5,
            "count": 0
           }
          ]
         }
        },
        {
         "name": "AMT_INCOME_TOTAL",
         "dtype": "float64",
         "stats": {
          "unique_count": 5,
          "nan_count": 0,
          "min": "67500.0",
          "max": "270000.0",
          "histogram": [
           {
            "bin_start": 67500,
            "bin_end": 87750,
            "count": 1
           },
           {
            "bin_start": 87750,
            "bin_end": 108000,
            "count": 0
           },
           {
            "bin_start": 108000,
            "bin_end": 128250,
            "count": 1
           },
           {
            "bin_start": 128250,
            "bin_end": 148500,
            "count": 1
           },
           {
            "bin_start": 148500,
            "bin_end": 168750,
            "count": 0
           },
           {
            "bin_start": 168750,
            "bin_end": 189000,
            "count": 0
           },
           {
            "bin_start": 189000,
            "bin_end": 209250,
            "count": 1
           },
           {
            "bin_start": 209250,
            "bin_end": 229500,
            "count": 0
           },
           {
            "bin_start": 229500,
            "bin_end": 249750,
            "count": 0
           },
           {
            "bin_start": 249750,
            "bin_end": 270000,
            "count": 1
           }
          ]
         }
        },
        {
         "name": "AMT_CREDIT",
         "dtype": "float64",
         "stats": {
          "unique_count": 5,
          "nan_count": 0,
          "min": "135000.0",
          "max": "1293502.5",
          "histogram": [
           {
            "bin_start": 135000,
            "bin_end": 250850.25,
            "count": 1
           },
           {
            "bin_start": 250850.25,
            "bin_end": 366700.5,
            "count": 1
           },
           {
            "bin_start": 366700.5,
            "bin_end": 482550.75,
            "count": 1
           },
           {
            "bin_start": 482550.75,
            "bin_end": 598401,
            "count": 1
           },
           {
            "bin_start": 598401,
            "bin_end": 714251.25,
            "count": 0
           },
           {
            "bin_start": 714251.25,
            "bin_end": 830101.5,
            "count": 0
           },
           {
            "bin_start": 830101.5,
            "bin_end": 945951.75,
            "count": 0
           },
           {
            "bin_start": 945951.75,
            "bin_end": 1061802,
            "count": 0
           },
           {
            "bin_start": 1061802,
            "bin_end": 1177652.25,
            "count": 0
           },
           {
            "bin_start": 1177652.25,
            "bin_end": 1293502.5,
            "count": 1
           }
          ]
         }
        },
        {
         "name": "AMT_ANNUITY",
         "dtype": "float64",
         "stats": {
          "unique_count": 5,
          "nan_count": 0,
          "min": "6750.0",
          "max": "35698.5",
          "histogram": [
           {
            "bin_start": 6750,
            "bin_end": 9644.85,
            "count": 1
           },
           {
            "bin_start": 9644.85,
            "bin_end": 12539.7,
            "count": 0
           },
           {
            "bin_start": 12539.7,
            "bin_end": 15434.55,
            "count": 0
           },
           {
            "bin_start": 15434.55,
            "bin_end": 18329.4,
            "count": 0
           },
           {
            "bin_start": 18329.4,
            "bin_end": 21224.25,
            "count": 0
           },
           {
            "bin_start": 21224.25,
            "bin_end": 24119.1,
            "count": 1
           },
           {
            "bin_start": 24119.1,
            "bin_end": 27013.95,
            "count": 1
           },
           {
            "bin_start": 27013.95,
            "bin_end": 29908.8,
            "count": 1
           },
           {
            "bin_start": 29908.8,
            "bin_end": 32803.649999999994,
            "count": 0
           },
           {
            "bin_start": 32803.649999999994,
            "bin_end": 35698.5,
            "count": 1
           }
          ]
         }
        },
        {
         "name": "AMT_GOODS_PRICE",
         "dtype": "float64",
         "stats": {
          "unique_count": 5,
          "nan_count": 0,
          "min": "135000.0",
          "max": "1129500.0",
          "histogram": [
           {
            "bin_start": 135000,
            "bin_end": 234450,
            "count": 1
           },
           {
            "bin_start": 234450,
            "bin_end": 333900,
            "count": 1
           },
           {
            "bin_start": 333900,
            "bin_end": 433350,
            "count": 1
           },
           {
            "bin_start": 433350,
            "bin_end": 532800,
            "count": 1
           },
           {
            "bin_start": 532800,
            "bin_end": 632250,
            "count": 0
           },
           {
            "bin_start": 632250,
            "bin_end": 731700,
            "count": 0
           },
           {
            "bin_start": 731700,
            "bin_end": 831150,
            "count": 0
           },
           {
            "bin_start": 831150,
            "bin_end": 930600,
            "count": 0
           },
           {
            "bin_start": 930600,
            "bin_end": 1030050,
            "count": 0
           },
           {
            "bin_start": 1030050,
            "bin_end": 1129500,
            "count": 1
           }
          ]
         }
        },
        {
         "name": "NAME_INCOME_TYPE",
         "dtype": "object",
         "stats": {
          "unique_count": 2,
          "nan_count": 0,
          "categories": [
           {
            "name": "Working",
            "count": 4
           },
           {
            "name": "State servant",
            "count": 1
           }
          ]
         }
        },
        {
         "name": "NAME_EDUCATION_TYPE",
         "dtype": "object",
         "stats": {
          "unique_count": 2,
          "nan_count": 0,
          "categories": [
           {
            "name": "Secondary / secondary special",
            "count": 4
           },
           {
            "name": "Higher education",
            "count": 1
           }
          ]
         }
        },
        {
         "name": "NAME_FAMILY_STATUS",
         "dtype": "object",
         "stats": {
          "unique_count": 3,
          "nan_count": 0,
          "categories": [
           {
            "name": "Single / not married",
            "count": 3
           },
           {
            "name": "Married",
            "count": 1
           },
           {
            "name": "Civil marriage",
            "count": 1
           }
          ]
         }
        },
        {
         "name": "NAME_HOUSING_TYPE",
         "dtype": "object",
         "stats": {
          "unique_count": 1,
          "nan_count": 0,
          "categories": [
           {
            "name": "House / apartment",
            "count": 5
           }
          ]
         }
        },
        {
         "name": "REGION_POPULATION_RELATIVE",
         "dtype": "float64",
         "stats": {
          "unique_count": 5,
          "nan_count": 0,
          "min": "0.0035409999999999",
          "max": "0.028663",
          "histogram": [
           {
            "bin_start": 0.0035409999999999,
            "bin_end": 0.0060531999999999106,
            "count": 1
           },
           {
            "bin_start": 0.0060531999999999106,
            "bin_end": 0.008565399999999921,
            "count": 1
           },
           {
            "bin_start": 0.008565399999999921,
            "bin_end": 0.01107759999999993,
            "count": 1
           },
           {
            "bin_start": 0.01107759999999993,
            "bin_end": 0.013589799999999942,
            "count": 0
           },
           {
            "bin_start": 0.013589799999999942,
            "bin_end": 0.01610199999999995,
            "count": 0
           },
           {
            "bin_start": 0.01610199999999995,
            "bin_end": 0.018614199999999963,
            "count": 0
           },
           {
            "bin_start": 0.018614199999999963,
            "bin_end": 0.021126399999999976,
            "count": 1
           },
           {
            "bin_start": 0.021126399999999976,
            "bin_end": 0.023638599999999982,
            "count": 0
           },
           {
            "bin_start": 0.023638599999999982,
            "bin_end": 0.026150799999999995,
            "count": 0
           },
           {
            "bin_start": 0.026150799999999995,
            "bin_end": 0.028663,
            "count": 1
           }
          ]
         }
        },
        {
         "name": "DAYS_BIRTH",
         "dtype": "int64",
         "stats": {
          "unique_count": 5,
          "nan_count": 0,
          "min": "-19932",
          "max": "-9461",
          "histogram": [
           {
            "bin_start": -19932,
            "bin_end": -18884.9,
            "count": 3
           },
           {
            "bin_start": -18884.9,
            "bin_end": -17837.8,
            "count": 0
           },
           {
            "bin_start": -17837.8,
            "bin_end": -16790.7,
            "count": 0
           },
           {
            "bin_start": -16790.7,
            "bin_end": -15743.6,
            "count": 1
           },
           {
            "bin_start": -15743.6,
            "bin_end": -14696.5,
            "count": 0
           },
           {
            "bin_start": -14696.5,
            "bin_end": -13649.400000000001,
            "count": 0
           },
           {
            "bin_start": -13649.400000000001,
            "bin_end": -12602.300000000001,
            "count": 0
           },
           {
            "bin_start": -12602.300000000001,
            "bin_end": -11555.2,
            "count": 0
           },
           {
            "bin_start": -11555.2,
            "bin_end": -10508.1,
            "count": 0
           },
           {
            "bin_start": -10508.1,
            "bin_end": -9461,
            "count": 1
           }
          ]
         }
        },
        {
         "name": "DAYS_EMPLOYED",
         "dtype": "int64",
         "stats": {
          "unique_count": 5,
          "nan_count": 0,
          "min": "-3039",
          "max": "-225",
          "histogram": [
           {
            "bin_start": -3039,
            "bin_end": -2757.6,
            "count": 2
           },
           {
            "bin_start": -2757.6,
            "bin_end": -2476.2,
            "count": 0
           },
           {
            "bin_start": -2476.2,
            "bin_end": -2194.8,
            "count": 0
           },
           {
            "bin_start": -2194.8,
            "bin_end": -1913.4,
            "count": 0
           },
           {
            "bin_start": -1913.4,
            "bin_end": -1632,
            "count": 0
           },
           {
            "bin_start": -1632,
            "bin_end": -1350.6000000000001,
            "count": 0
           },
           {
            "bin_start": -1350.6000000000001,
            "bin_end": -1069.2000000000003,
            "count": 1
           },
           {
            "bin_start": -1069.2000000000003,
            "bin_end": -787.8000000000002,
            "count": 0
           },
           {
            "bin_start": -787.8000000000002,
            "bin_end": -506.4000000000001,
            "count": 1
           },
           {
            "bin_start": -506.4000000000001,
            "bin_end": -225,
            "count": 1
           }
          ]
         }
        },
        {
         "name": "DAYS_REGISTRATION",
         "dtype": "float64",
         "stats": {
          "unique_count": 5,
          "nan_count": 0,
          "min": "-9833.0",
          "max": "-1186.0",
          "histogram": [
           {
            "bin_start": -9833,
            "bin_end": -8968.3,
            "count": 1
           },
           {
            "bin_start": -8968.3,
            "bin_end": -8103.6,
            "count": 0
           },
           {
            "bin_start": -8103.6,
            "bin_end": -7238.9,
            "count": 0
           },
           {
            "bin_start": -7238.9,
            "bin_end": -6374.2,
            "count": 0
           },
           {
            "bin_start": -6374.2,
            "bin_end": -5509.5,
            "count": 0
           },
           {
            "bin_start": -5509.5,
            "bin_end": -4644.799999999999,
            "count": 0
           },
           {
            "bin_start": -4644.799999999999,
            "bin_end": -3780.0999999999995,
            "count": 2
           },
           {
            "bin_start": -3780.0999999999995,
            "bin_end": -2915.3999999999996,
            "count": 1
           },
           {
            "bin_start": -2915.3999999999996,
            "bin_end": -2050.7,
            "count": 0
           },
           {
            "bin_start": -2050.7,
            "bin_end": -1186,
            "count": 1
           }
          ]
         }
        },
        {
         "name": "DAYS_ID_PUBLISH",
         "dtype": "int64",
         "stats": {
          "unique_count": 5,
          "nan_count": 0,
          "min": "-3458",
          "max": "-291",
          "histogram": [
           {
            "bin_start": -3458,
            "bin_end": -3141.3,
            "count": 1
           },
           {
            "bin_start": -3141.3,
            "bin_end": -2824.6,
            "count": 0
           },
           {
            "bin_start": -2824.6,
            "bin_end": -2507.9,
            "count": 1
           },
           {
            "bin_start": -2507.9,
            "bin_end": -2191.2,
            "count": 1
           },
           {
            "bin_start": -2191.2,
            "bin_end": -1874.5,
            "count": 1
           },
           {
            "bin_start": -1874.5,
            "bin_end": -1557.8000000000002,
            "count": 0
           },
           {
            "bin_start": -1557.8000000000002,
            "bin_end": -1241.1,
            "count": 0
           },
           {
            "bin_start": -1241.1,
            "bin_end": -924.4000000000001,
            "count": 0
           },
           {
            "bin_start": -924.4000000000001,
            "bin_end": -607.7000000000003,
            "count": 0
           },
           {
            "bin_start": -607.7000000000003,
            "bin_end": -291,
            "count": 1
           }
          ]
         }
        },
        {
         "name": "OWN_CAR_AGE",
         "dtype": "float64",
         "stats": {
          "unique_count": 1,
          "nan_count": 4,
          "min": "26.0",
          "max": "26.0",
          "histogram": [
           {
            "bin_start": 25.5,
            "bin_end": 25.6,
            "count": 0
           },
           {
            "bin_start": 25.6,
            "bin_end": 25.7,
            "count": 0
           },
           {
            "bin_start": 25.7,
            "bin_end": 25.8,
            "count": 0
           },
           {
            "bin_start": 25.8,
            "bin_end": 25.9,
            "count": 0
           },
           {
            "bin_start": 25.9,
            "bin_end": 26,
            "count": 0
           },
           {
            "bin_start": 26,
            "bin_end": 26.1,
            "count": 1
           },
           {
            "bin_start": 26.1,
            "bin_end": 26.2,
            "count": 0
           },
           {
            "bin_start": 26.2,
            "bin_end": 26.3,
            "count": 0
           },
           {
            "bin_start": 26.3,
            "bin_end": 26.4,
            "count": 0
           },
           {
            "bin_start": 26.4,
            "bin_end": 26.5,
            "count": 0
           }
          ]
         }
        },
        {
         "name": "FLAG_MOBIL",
         "dtype": "int64",
         "stats": {
          "unique_count": 1,
          "nan_count": 0,
          "min": "1",
          "max": "1",
          "histogram": [
           {
            "bin_start": 0.5,
            "bin_end": 0.6,
            "count": 0
           },
           {
            "bin_start": 0.6,
            "bin_end": 0.7,
            "count": 0
           },
           {
            "bin_start": 0.7,
            "bin_end": 0.8,
            "count": 0
           },
           {
            "bin_start": 0.8,
            "bin_end": 0.9,
            "count": 0
           },
           {
            "bin_start": 0.9,
            "bin_end": 1,
            "count": 0
           },
           {
            "bin_start": 1,
            "bin_end": 1.1,
            "count": 5
           },
           {
            "bin_start": 1.1,
            "bin_end": 1.2000000000000002,
            "count": 0
           },
           {
            "bin_start": 1.2000000000000002,
            "bin_end": 1.3,
            "count": 0
           },
           {
            "bin_start": 1.3,
            "bin_end": 1.4,
            "count": 0
           },
           {
            "bin_start": 1.4,
            "bin_end": 1.5,
            "count": 0
           }
          ]
         }
        },
        {
         "name": "FLAG_EMP_PHONE",
         "dtype": "int64",
         "stats": {
          "unique_count": 1,
          "nan_count": 0,
          "min": "1",
          "max": "1",
          "histogram": [
           {
            "bin_start": 0.5,
            "bin_end": 0.6,
            "count": 0
           },
           {
            "bin_start": 0.6,
            "bin_end": 0.7,
            "count": 0
           },
           {
            "bin_start": 0.7,
            "bin_end": 0.8,
            "count": 0
           },
           {
            "bin_start": 0.8,
            "bin_end": 0.9,
            "count": 0
           },
           {
            "bin_start": 0.9,
            "bin_end": 1,
            "count": 0
           },
           {
            "bin_start": 1,
            "bin_end": 1.1,
            "count": 5
           },
           {
            "bin_start": 1.1,
            "bin_end": 1.2000000000000002,
            "count": 0
           },
           {
            "bin_start": 1.2000000000000002,
            "bin_end": 1.3,
            "count": 0
           },
           {
            "bin_start": 1.3,
            "bin_end": 1.4,
            "count": 0
           },
           {
            "bin_start": 1.4,
            "bin_end": 1.5,
            "count": 0
           }
          ]
         }
        },
        {
         "name": "FLAG_WORK_PHONE",
         "dtype": "int64",
         "stats": {
          "unique_count": 2,
          "nan_count": 0,
          "min": "0",
          "max": "1",
          "histogram": [
           {
            "bin_start": 0,
            "bin_end": 0.1,
            "count": 4
           },
           {
            "bin_start": 0.1,
            "bin_end": 0.2,
            "count": 0
           },
           {
            "bin_start": 0.2,
            "bin_end": 0.30000000000000004,
            "count": 0
           },
           {
            "bin_start": 0.30000000000000004,
            "bin_end": 0.4,
            "count": 0
           },
           {
            "bin_start": 0.4,
            "bin_end": 0.5,
            "count": 0
           },
           {
            "bin_start": 0.5,
            "bin_end": 0.6000000000000001,
            "count": 0
           },
           {
            "bin_start": 0.6000000000000001,
            "bin_end": 0.7000000000000001,
            "count": 0
           },
           {
            "bin_start": 0.7000000000000001,
            "bin_end": 0.8,
            "count": 0
           },
           {
            "bin_start": 0.8,
            "bin_end": 0.9,
            "count": 0
           },
           {
            "bin_start": 0.9,
            "bin_end": 1,
            "count": 1
           }
          ]
         }
        },
        {
         "name": "FLAG_CONT_MOBILE",
         "dtype": "int64",
         "stats": {
          "unique_count": 1,
          "nan_count": 0,
          "min": "1",
          "max": "1",
          "histogram": [
           {
            "bin_start": 0.5,
            "bin_end": 0.6,
            "count": 0
           },
           {
            "bin_start": 0.6,
            "bin_end": 0.7,
            "count": 0
           },
           {
            "bin_start": 0.7,
            "bin_end": 0.8,
            "count": 0
           },
           {
            "bin_start": 0.8,
            "bin_end": 0.9,
            "count": 0
           },
           {
            "bin_start": 0.9,
            "bin_end": 1,
            "count": 0
           },
           {
            "bin_start": 1,
            "bin_end": 1.1,
            "count": 5
           },
           {
            "bin_start": 1.1,
            "bin_end": 1.2000000000000002,
            "count": 0
           },
           {
            "bin_start": 1.2000000000000002,
            "bin_end": 1.3,
            "count": 0
           },
           {
            "bin_start": 1.3,
            "bin_end": 1.4,
            "count": 0
           },
           {
            "bin_start": 1.4,
            "bin_end": 1.5,
            "count": 0
           }
          ]
         }
        },
        {
         "name": "FLAG_PHONE",
         "dtype": "int64",
         "stats": {
          "unique_count": 2,
          "nan_count": 0,
          "min": "0",
          "max": "1",
          "histogram": [
           {
            "bin_start": 0,
            "bin_end": 0.1,
            "count": 2
           },
           {
            "bin_start": 0.1,
            "bin_end": 0.2,
            "count": 0
           },
           {
            "bin_start": 0.2,
            "bin_end": 0.30000000000000004,
            "count": 0
           },
           {
            "bin_start": 0.30000000000000004,
            "bin_end": 0.4,
            "count": 0
           },
           {
            "bin_start": 0.4,
            "bin_end": 0.5,
            "count": 0
           },
           {
            "bin_start": 0.5,
            "bin_end": 0.6000000000000001,
            "count": 0
           },
           {
            "bin_start": 0.6000000000000001,
            "bin_end": 0.7000000000000001,
            "count": 0
           },
           {
            "bin_start": 0.7000000000000001,
            "bin_end": 0.8,
            "count": 0
           },
           {
            "bin_start": 0.8,
            "bin_end": 0.9,
            "count": 0
           },
           {
            "bin_start": 0.9,
            "bin_end": 1,
            "count": 3
           }
          ]
         }
        },
        {
         "name": "FLAG_EMAIL",
         "dtype": "int64",
         "stats": {
          "unique_count": 1,
          "nan_count": 0,
          "min": "0",
          "max": "0",
          "histogram": [
           {
            "bin_start": -0.5,
            "bin_end": -0.4,
            "count": 0
           },
           {
            "bin_start": -0.4,
            "bin_end": -0.3,
            "count": 0
           },
           {
            "bin_start": -0.3,
            "bin_end": -0.19999999999999996,
            "count": 0
           },
           {
            "bin_start": -0.19999999999999996,
            "bin_end": -0.09999999999999998,
            "count": 0
           },
           {
            "bin_start": -0.09999999999999998,
            "bin_end": 0,
            "count": 0
           },
           {
            "bin_start": 0,
            "bin_end": 0.10000000000000009,
            "count": 5
           },
           {
            "bin_start": 0.10000000000000009,
            "bin_end": 0.20000000000000007,
            "count": 0
           },
           {
            "bin_start": 0.20000000000000007,
            "bin_end": 0.30000000000000004,
            "count": 0
           },
           {
            "bin_start": 0.30000000000000004,
            "bin_end": 0.4,
            "count": 0
           },
           {
            "bin_start": 0.4,
            "bin_end": 0.5,
            "count": 0
           }
          ]
         }
        },
        {
         "name": "OCCUPATION_TYPE",
         "dtype": "object",
         "stats": {
          "unique_count": 2,
          "nan_count": 0,
          "categories": [
           {
            "name": "Laborers",
            "count": 3
           },
           {
            "name": "Core staff",
            "count": 2
           }
          ]
         }
        },
        {
         "name": "CNT_FAM_MEMBERS",
         "dtype": "float64",
         "stats": {
          "unique_count": 2,
          "nan_count": 0,
          "min": "1.0",
          "max": "2.0",
          "histogram": [
           {
            "bin_start": 1,
            "bin_end": 1.1,
            "count": 3
           },
           {
            "bin_start": 1.1,
            "bin_end": 1.2,
            "count": 0
           },
           {
            "bin_start": 1.2,
            "bin_end": 1.3,
            "count": 0
           },
           {
            "bin_start": 1.3,
            "bin_end": 1.4,
            "count": 0
           },
           {
            "bin_start": 1.4,
            "bin_end": 1.5,
            "count": 0
           },
           {
            "bin_start": 1.5,
            "bin_end": 1.6,
            "count": 0
           },
           {
            "bin_start": 1.6,
            "bin_end": 1.7000000000000002,
            "count": 0
           },
           {
            "bin_start": 1.7000000000000002,
            "bin_end": 1.8,
            "count": 0
           },
           {
            "bin_start": 1.8,
            "bin_end": 1.9,
            "count": 0
           },
           {
            "bin_start": 1.9,
            "bin_end": 2,
            "count": 2
           }
          ]
         }
        },
        {
         "name": "REGION_RATING_CLIENT",
         "dtype": "int64",
         "stats": {
          "unique_count": 2,
          "nan_count": 0,
          "min": "1",
          "max": "2",
          "histogram": [
           {
            "bin_start": 1,
            "bin_end": 1.1,
            "count": 1
           },
           {
            "bin_start": 1.1,
            "bin_end": 1.2,
            "count": 0
           },
           {
            "bin_start": 1.2,
            "bin_end": 1.3,
            "count": 0
           },
           {
            "bin_start": 1.3,
            "bin_end": 1.4,
            "count": 0
           },
           {
            "bin_start": 1.4,
            "bin_end": 1.5,
            "count": 0
           },
           {
            "bin_start": 1.5,
            "bin_end": 1.6,
            "count": 0
           },
           {
            "bin_start": 1.6,
            "bin_end": 1.7000000000000002,
            "count": 0
           },
           {
            "bin_start": 1.7000000000000002,
            "bin_end": 1.8,
            "count": 0
           },
           {
            "bin_start": 1.8,
            "bin_end": 1.9,
            "count": 0
           },
           {
            "bin_start": 1.9,
            "bin_end": 2,
            "count": 4
           }
          ]
         }
        },
        {
         "name": "REGION_RATING_CLIENT_W_CITY",
         "dtype": "int64",
         "stats": {
          "unique_count": 2,
          "nan_count": 0,
          "min": "1",
          "max": "2",
          "histogram": [
           {
            "bin_start": 1,
            "bin_end": 1.1,
            "count": 1
           },
           {
            "bin_start": 1.1,
            "bin_end": 1.2,
            "count": 0
           },
           {
            "bin_start": 1.2,
            "bin_end": 1.3,
            "count": 0
           },
           {
            "bin_start": 1.3,
            "bin_end": 1.4,
            "count": 0
           },
           {
            "bin_start": 1.4,
            "bin_end": 1.5,
            "count": 0
           },
           {
            "bin_start": 1.5,
            "bin_end": 1.6,
            "count": 0
           },
           {
            "bin_start": 1.6,
            "bin_end": 1.7000000000000002,
            "count": 0
           },
           {
            "bin_start": 1.7000000000000002,
            "bin_end": 1.8,
            "count": 0
           },
           {
            "bin_start": 1.8,
            "bin_end": 1.9,
            "count": 0
           },
           {
            "bin_start": 1.9,
            "bin_end": 2,
            "count": 4
           }
          ]
         }
        },
        {
         "name": "REG_REGION_NOT_LIVE_REGION",
         "dtype": "int64",
         "stats": {
          "unique_count": 1,
          "nan_count": 0,
          "min": "0",
          "max": "0",
          "histogram": [
           {
            "bin_start": -0.5,
            "bin_end": -0.4,
            "count": 0
           },
           {
            "bin_start": -0.4,
            "bin_end": -0.3,
            "count": 0
           },
           {
            "bin_start": -0.3,
            "bin_end": -0.19999999999999996,
            "count": 0
           },
           {
            "bin_start": -0.19999999999999996,
            "bin_end": -0.09999999999999998,
            "count": 0
           },
           {
            "bin_start": -0.09999999999999998,
            "bin_end": 0,
            "count": 0
           },
           {
            "bin_start": 0,
            "bin_end": 0.10000000000000009,
            "count": 5
           },
           {
            "bin_start": 0.10000000000000009,
            "bin_end": 0.20000000000000007,
            "count": 0
           },
           {
            "bin_start": 0.20000000000000007,
            "bin_end": 0.30000000000000004,
            "count": 0
           },
           {
            "bin_start": 0.30000000000000004,
            "bin_end": 0.4,
            "count": 0
           },
           {
            "bin_start": 0.4,
            "bin_end": 0.5,
            "count": 0
           }
          ]
         }
        },
        {
         "name": "REG_REGION_NOT_WORK_REGION",
         "dtype": "int64",
         "stats": {
          "unique_count": 1,
          "nan_count": 0,
          "min": "0",
          "max": "0",
          "histogram": [
           {
            "bin_start": -0.5,
            "bin_end": -0.4,
            "count": 0
           },
           {
            "bin_start": -0.4,
            "bin_end": -0.3,
            "count": 0
           },
           {
            "bin_start": -0.3,
            "bin_end": -0.19999999999999996,
            "count": 0
           },
           {
            "bin_start": -0.19999999999999996,
            "bin_end": -0.09999999999999998,
            "count": 0
           },
           {
            "bin_start": -0.09999999999999998,
            "bin_end": 0,
            "count": 0
           },
           {
            "bin_start": 0,
            "bin_end": 0.10000000000000009,
            "count": 5
           },
           {
            "bin_start": 0.10000000000000009,
            "bin_end": 0.20000000000000007,
            "count": 0
           },
           {
            "bin_start": 0.20000000000000007,
            "bin_end": 0.30000000000000004,
            "count": 0
           },
           {
            "bin_start": 0.30000000000000004,
            "bin_end": 0.4,
            "count": 0
           },
           {
            "bin_start": 0.4,
            "bin_end": 0.5,
            "count": 0
           }
          ]
         }
        },
        {
         "name": "LIVE_REGION_NOT_WORK_REGION",
         "dtype": "int64",
         "stats": {
          "unique_count": 1,
          "nan_count": 0,
          "min": "0",
          "max": "0",
          "histogram": [
           {
            "bin_start": -0.5,
            "bin_end": -0.4,
            "count": 0
           },
           {
            "bin_start": -0.4,
            "bin_end": -0.3,
            "count": 0
           },
           {
            "bin_start": -0.3,
            "bin_end": -0.19999999999999996,
            "count": 0
           },
           {
            "bin_start": -0.19999999999999996,
            "bin_end": -0.09999999999999998,
            "count": 0
           },
           {
            "bin_start": -0.09999999999999998,
            "bin_end": 0,
            "count": 0
           },
           {
            "bin_start": 0,
            "bin_end": 0.10000000000000009,
            "count": 5
           },
           {
            "bin_start": 0.10000000000000009,
            "bin_end": 0.20000000000000007,
            "count": 0
           },
           {
            "bin_start": 0.20000000000000007,
            "bin_end": 0.30000000000000004,
            "count": 0
           },
           {
            "bin_start": 0.30000000000000004,
            "bin_end": 0.4,
            "count": 0
           },
           {
            "bin_start": 0.4,
            "bin_end": 0.5,
            "count": 0
           }
          ]
         }
        },
        {
         "name": "REG_CITY_NOT_LIVE_CITY",
         "dtype": "int64",
         "stats": {
          "unique_count": 1,
          "nan_count": 0,
          "min": "0",
          "max": "0",
          "histogram": [
           {
            "bin_start": -0.5,
            "bin_end": -0.4,
            "count": 0
           },
           {
            "bin_start": -0.4,
            "bin_end": -0.3,
            "count": 0
           },
           {
            "bin_start": -0.3,
            "bin_end": -0.19999999999999996,
            "count": 0
           },
           {
            "bin_start": -0.19999999999999996,
            "bin_end": -0.09999999999999998,
            "count": 0
           },
           {
            "bin_start": -0.09999999999999998,
            "bin_end": 0,
            "count": 0
           },
           {
            "bin_start": 0,
            "bin_end": 0.10000000000000009,
            "count": 5
           },
           {
            "bin_start": 0.10000000000000009,
            "bin_end": 0.20000000000000007,
            "count": 0
           },
           {
            "bin_start": 0.20000000000000007,
            "bin_end": 0.30000000000000004,
            "count": 0
           },
           {
            "bin_start": 0.30000000000000004,
            "bin_end": 0.4,
            "count": 0
           },
           {
            "bin_start": 0.4,
            "bin_end": 0.5,
            "count": 0
           }
          ]
         }
        },
        {
         "name": "REG_CITY_NOT_WORK_CITY",
         "dtype": "int64",
         "stats": {
          "unique_count": 2,
          "nan_count": 0,
          "min": "0",
          "max": "1",
          "histogram": [
           {
            "bin_start": 0,
            "bin_end": 0.1,
            "count": 4
           },
           {
            "bin_start": 0.1,
            "bin_end": 0.2,
            "count": 0
           },
           {
            "bin_start": 0.2,
            "bin_end": 0.30000000000000004,
            "count": 0
           },
           {
            "bin_start": 0.30000000000000004,
            "bin_end": 0.4,
            "count": 0
           },
           {
            "bin_start": 0.4,
            "bin_end": 0.5,
            "count": 0
           },
           {
            "bin_start": 0.5,
            "bin_end": 0.6000000000000001,
            "count": 0
           },
           {
            "bin_start": 0.6000000000000001,
            "bin_end": 0.7000000000000001,
            "count": 0
           },
           {
            "bin_start": 0.7000000000000001,
            "bin_end": 0.8,
            "count": 0
           },
           {
            "bin_start": 0.8,
            "bin_end": 0.9,
            "count": 0
           },
           {
            "bin_start": 0.9,
            "bin_end": 1,
            "count": 1
           }
          ]
         }
        },
        {
         "name": "LIVE_CITY_NOT_WORK_CITY",
         "dtype": "int64",
         "stats": {
          "unique_count": 2,
          "nan_count": 0,
          "min": "0",
          "max": "1",
          "histogram": [
           {
            "bin_start": 0,
            "bin_end": 0.1,
            "count": 4
           },
           {
            "bin_start": 0.1,
            "bin_end": 0.2,
            "count": 0
           },
           {
            "bin_start": 0.2,
            "bin_end": 0.30000000000000004,
            "count": 0
           },
           {
            "bin_start": 0.30000000000000004,
            "bin_end": 0.4,
            "count": 0
           },
           {
            "bin_start": 0.4,
            "bin_end": 0.5,
            "count": 0
           },
           {
            "bin_start": 0.5,
            "bin_end": 0.6000000000000001,
            "count": 0
           },
           {
            "bin_start": 0.6000000000000001,
            "bin_end": 0.7000000000000001,
            "count": 0
           },
           {
            "bin_start": 0.7000000000000001,
            "bin_end": 0.8,
            "count": 0
           },
           {
            "bin_start": 0.8,
            "bin_end": 0.9,
            "count": 0
           },
           {
            "bin_start": 0.9,
            "bin_end": 1,
            "count": 1
           }
          ]
         }
        },
        {
         "name": "ORGANIZATION_TYPE",
         "dtype": "object",
         "stats": {
          "unique_count": 4,
          "nan_count": 0,
          "categories": [
           {
            "name": "Business Entity Type 3",
            "count": 2
           },
           {
            "name": "School",
            "count": 1
           },
           {
            "name": "2 others",
            "count": 2
           }
          ]
         }
        },
        {
         "name": "EXT_SOURCE_1",
         "dtype": "float64",
         "stats": {
          "unique_count": 2,
          "nan_count": 3,
          "min": "0.0830369673913225",
          "max": "0.3112673113812225",
          "histogram": [
           {
            "bin_start": 0.0830369673913225,
            "bin_end": 0.1058600017903125,
            "count": 1
           },
           {
            "bin_start": 0.1058600017903125,
            "bin_end": 0.1286830361893025,
            "count": 0
           },
           {
            "bin_start": 0.1286830361893025,
            "bin_end": 0.15150607058829252,
            "count": 0
           },
           {
            "bin_start": 0.15150607058829252,
            "bin_end": 0.1743291049872825,
            "count": 0
           },
           {
            "bin_start": 0.1743291049872825,
            "bin_end": 0.19715213938627252,
            "count": 0
           },
           {
            "bin_start": 0.19715213938627252,
            "bin_end": 0.2199751737852625,
            "count": 0
           },
           {
            "bin_start": 0.2199751737852625,
            "bin_end": 0.24279820818425252,
            "count": 0
           },
           {
            "bin_start": 0.24279820818425252,
            "bin_end": 0.2656212425832425,
            "count": 0
           },
           {
            "bin_start": 0.2656212425832425,
            "bin_end": 0.2884442769822325,
            "count": 0
           },
           {
            "bin_start": 0.2884442769822325,
            "bin_end": 0.3112673113812225,
            "count": 1
           }
          ]
         }
        },
        {
         "name": "EXT_SOURCE_2",
         "dtype": "float64",
         "stats": {
          "unique_count": 5,
          "nan_count": 0,
          "min": "0.2629485927471776",
          "max": "0.6504416904014653",
          "histogram": [
           {
            "bin_start": 0.2629485927471776,
            "bin_end": 0.30169790251260636,
            "count": 1
           },
           {
            "bin_start": 0.30169790251260636,
            "bin_end": 0.3404472122780351,
            "count": 1
           },
           {
            "bin_start": 0.3404472122780351,
            "bin_end": 0.3791965220434639,
            "count": 0
           },
           {
            "bin_start": 0.3791965220434639,
            "bin_end": 0.41794583180889266,
            "count": 0
           },
           {
            "bin_start": 0.41794583180889266,
            "bin_end": 0.45669514157432145,
            "count": 0
           },
           {
            "bin_start": 0.45669514157432145,
            "bin_end": 0.49544445133975024,
            "count": 0
           },
           {
            "bin_start": 0.49544445133975024,
            "bin_end": 0.534193761105179,
            "count": 0
           },
           {
            "bin_start": 0.534193761105179,
            "bin_end": 0.5729430708706078,
            "count": 1
           },
           {
            "bin_start": 0.5729430708706078,
            "bin_end": 0.6116923806360366,
            "count": 0
           },
           {
            "bin_start": 0.6116923806360366,
            "bin_end": 0.6504416904014653,
            "count": 2
           }
          ]
         }
        },
        {
         "name": "EXT_SOURCE_3",
         "dtype": "float64",
         "stats": {
          "unique_count": 2,
          "nan_count": 3,
          "min": "0.1393757800997895",
          "max": "0.7295666907060153",
          "histogram": [
           {
            "bin_start": 0.1393757800997895,
            "bin_end": 0.19839487116041207,
            "count": 1
           },
           {
            "bin_start": 0.19839487116041207,
            "bin_end": 0.25741396222103463,
            "count": 0
           },
           {
            "bin_start": 0.25741396222103463,
            "bin_end": 0.3164330532816573,
            "count": 0
           },
           {
            "bin_start": 0.3164330532816573,
            "bin_end": 0.3754521443422798,
            "count": 0
           },
           {
            "bin_start": 0.3754521443422798,
            "bin_end": 0.43447123540290244,
            "count": 0
           },
           {
            "bin_start": 0.43447123540290244,
            "bin_end": 0.493490326463525,
            "count": 0
           },
           {
            "bin_start": 0.493490326463525,
            "bin_end": 0.5525094175241476,
            "count": 0
           },
           {
            "bin_start": 0.5525094175241476,
            "bin_end": 0.6115285085847701,
            "count": 0
           },
           {
            "bin_start": 0.6115285085847701,
            "bin_end": 0.6705475996453927,
            "count": 0
           },
           {
            "bin_start": 0.6705475996453927,
            "bin_end": 0.7295666907060153,
            "count": 1
           }
          ]
         }
        },
        {
         "name": "OBS_30_CNT_SOCIAL_CIRCLE",
         "dtype": "float64",
         "stats": {
          "unique_count": 3,
          "nan_count": 0,
          "min": "0.0",
          "max": "2.0",
          "histogram": [
           {
            "bin_start": 0,
            "bin_end": 0.2,
            "count": 2
           },
           {
            "bin_start": 0.2,
            "bin_end": 0.4,
            "count": 0
           },
           {
            "bin_start": 0.4,
            "bin_end": 0.6000000000000001,
            "count": 0
           },
           {
            "bin_start": 0.6000000000000001,
            "bin_end": 0.8,
            "count": 0
           },
           {
            "bin_start": 0.8,
            "bin_end": 1,
            "count": 0
           },
           {
            "bin_start": 1,
            "bin_end": 1.2000000000000002,
            "count": 1
           },
           {
            "bin_start": 1.2000000000000002,
            "bin_end": 1.4000000000000001,
            "count": 0
           },
           {
            "bin_start": 1.4000000000000001,
            "bin_end": 1.6,
            "count": 0
           },
           {
            "bin_start": 1.6,
            "bin_end": 1.8,
            "count": 0
           },
           {
            "bin_start": 1.8,
            "bin_end": 2,
            "count": 2
           }
          ]
         }
        },
        {
         "name": "DEF_30_CNT_SOCIAL_CIRCLE",
         "dtype": "float64",
         "stats": {
          "unique_count": 2,
          "nan_count": 0,
          "min": "0.0",
          "max": "2.0",
          "histogram": [
           {
            "bin_start": 0,
            "bin_end": 0.2,
            "count": 4
           },
           {
            "bin_start": 0.2,
            "bin_end": 0.4,
            "count": 0
           },
           {
            "bin_start": 0.4,
            "bin_end": 0.6000000000000001,
            "count": 0
           },
           {
            "bin_start": 0.6000000000000001,
            "bin_end": 0.8,
            "count": 0
           },
           {
            "bin_start": 0.8,
            "bin_end": 1,
            "count": 0
           },
           {
            "bin_start": 1,
            "bin_end": 1.2000000000000002,
            "count": 0
           },
           {
            "bin_start": 1.2000000000000002,
            "bin_end": 1.4000000000000001,
            "count": 0
           },
           {
            "bin_start": 1.4000000000000001,
            "bin_end": 1.6,
            "count": 0
           },
           {
            "bin_start": 1.6,
            "bin_end": 1.8,
            "count": 0
           },
           {
            "bin_start": 1.8,
            "bin_end": 2,
            "count": 1
           }
          ]
         }
        },
        {
         "name": "OBS_60_CNT_SOCIAL_CIRCLE",
         "dtype": "float64",
         "stats": {
          "unique_count": 3,
          "nan_count": 0,
          "min": "0.0",
          "max": "2.0",
          "histogram": [
           {
            "bin_start": 0,
            "bin_end": 0.2,
            "count": 2
           },
           {
            "bin_start": 0.2,
            "bin_end": 0.4,
            "count": 0
           },
           {
            "bin_start": 0.4,
            "bin_end": 0.6000000000000001,
            "count": 0
           },
           {
            "bin_start": 0.6000000000000001,
            "bin_end": 0.8,
            "count": 0
           },
           {
            "bin_start": 0.8,
            "bin_end": 1,
            "count": 0
           },
           {
            "bin_start": 1,
            "bin_end": 1.2000000000000002,
            "count": 1
           },
           {
            "bin_start": 1.2000000000000002,
            "bin_end": 1.4000000000000001,
            "count": 0
           },
           {
            "bin_start": 1.4000000000000001,
            "bin_end": 1.6,
            "count": 0
           },
           {
            "bin_start": 1.6,
            "bin_end": 1.8,
            "count": 0
           },
           {
            "bin_start": 1.8,
            "bin_end": 2,
            "count": 2
           }
          ]
         }
        },
        {
         "name": "DEF_60_CNT_SOCIAL_CIRCLE",
         "dtype": "float64",
         "stats": {
          "unique_count": 2,
          "nan_count": 0,
          "min": "0.0",
          "max": "2.0",
          "histogram": [
           {
            "bin_start": 0,
            "bin_end": 0.2,
            "count": 4
           },
           {
            "bin_start": 0.2,
            "bin_end": 0.4,
            "count": 0
           },
           {
            "bin_start": 0.4,
            "bin_end": 0.6000000000000001,
            "count": 0
           },
           {
            "bin_start": 0.6000000000000001,
            "bin_end": 0.8,
            "count": 0
           },
           {
            "bin_start": 0.8,
            "bin_end": 1,
            "count": 0
           },
           {
            "bin_start": 1,
            "bin_end": 1.2000000000000002,
            "count": 0
           },
           {
            "bin_start": 1.2000000000000002,
            "bin_end": 1.4000000000000001,
            "count": 0
           },
           {
            "bin_start": 1.4000000000000001,
            "bin_end": 1.6,
            "count": 0
           },
           {
            "bin_start": 1.6,
            "bin_end": 1.8,
            "count": 0
           },
           {
            "bin_start": 1.8,
            "bin_end": 2,
            "count": 1
           }
          ]
         }
        },
        {
         "name": "DAYS_LAST_PHONE_CHANGE",
         "dtype": "float64",
         "stats": {
          "unique_count": 5,
          "nan_count": 0,
          "min": "-1134.0",
          "max": "-617.0",
          "histogram": [
           {
            "bin_start": -1134,
            "bin_end": -1082.3,
            "count": 2
           },
           {
            "bin_start": -1082.3,
            "bin_end": -1030.6,
            "count": 0
           },
           {
            "bin_start": -1030.6,
            "bin_end": -978.9,
            "count": 0
           },
           {
            "bin_start": -978.9,
            "bin_end": -927.2,
            "count": 0
           },
           {
            "bin_start": -927.2,
            "bin_end": -875.5,
            "count": 0
           },
           {
            "bin_start": -875.5,
            "bin_end": -823.8,
            "count": 1
           },
           {
            "bin_start": -823.8,
            "bin_end": -772.0999999999999,
            "count": 1
           },
           {
            "bin_start": -772.0999999999999,
            "bin_end": -720.4,
            "count": 0
           },
           {
            "bin_start": -720.4,
            "bin_end": -668.7,
            "count": 0
           },
           {
            "bin_start": -668.7,
            "bin_end": -617,
            "count": 1
           }
          ]
         }
        },
        {
         "name": "FLAG_DOCUMENT_2",
         "dtype": "int64",
         "stats": {
          "unique_count": 1,
          "nan_count": 0,
          "min": "0",
          "max": "0",
          "histogram": [
           {
            "bin_start": -0.5,
            "bin_end": -0.4,
            "count": 0
           },
           {
            "bin_start": -0.4,
            "bin_end": -0.3,
            "count": 0
           },
           {
            "bin_start": -0.3,
            "bin_end": -0.19999999999999996,
            "count": 0
           },
           {
            "bin_start": -0.19999999999999996,
            "bin_end": -0.09999999999999998,
            "count": 0
           },
           {
            "bin_start": -0.09999999999999998,
            "bin_end": 0,
            "count": 0
           },
           {
            "bin_start": 0,
            "bin_end": 0.10000000000000009,
            "count": 5
           },
           {
            "bin_start": 0.10000000000000009,
            "bin_end": 0.20000000000000007,
            "count": 0
           },
           {
            "bin_start": 0.20000000000000007,
            "bin_end": 0.30000000000000004,
            "count": 0
           },
           {
            "bin_start": 0.30000000000000004,
            "bin_end": 0.4,
            "count": 0
           },
           {
            "bin_start": 0.4,
            "bin_end": 0.5,
            "count": 0
           }
          ]
         }
        },
        {
         "name": "FLAG_DOCUMENT_3",
         "dtype": "int64",
         "stats": {
          "unique_count": 2,
          "nan_count": 0,
          "min": "0",
          "max": "1",
          "histogram": [
           {
            "bin_start": 0,
            "bin_end": 0.1,
            "count": 2
           },
           {
            "bin_start": 0.1,
            "bin_end": 0.2,
            "count": 0
           },
           {
            "bin_start": 0.2,
            "bin_end": 0.30000000000000004,
            "count": 0
           },
           {
            "bin_start": 0.30000000000000004,
            "bin_end": 0.4,
            "count": 0
           },
           {
            "bin_start": 0.4,
            "bin_end": 0.5,
            "count": 0
           },
           {
            "bin_start": 0.5,
            "bin_end": 0.6000000000000001,
            "count": 0
           },
           {
            "bin_start": 0.6000000000000001,
            "bin_end": 0.7000000000000001,
            "count": 0
           },
           {
            "bin_start": 0.7000000000000001,
            "bin_end": 0.8,
            "count": 0
           },
           {
            "bin_start": 0.8,
            "bin_end": 0.9,
            "count": 0
           },
           {
            "bin_start": 0.9,
            "bin_end": 1,
            "count": 3
           }
          ]
         }
        },
        {
         "name": "FLAG_DOCUMENT_4",
         "dtype": "int64",
         "stats": {
          "unique_count": 1,
          "nan_count": 0,
          "min": "0",
          "max": "0",
          "histogram": [
           {
            "bin_start": -0.5,
            "bin_end": -0.4,
            "count": 0
           },
           {
            "bin_start": -0.4,
            "bin_end": -0.3,
            "count": 0
           },
           {
            "bin_start": -0.3,
            "bin_end": -0.19999999999999996,
            "count": 0
           },
           {
            "bin_start": -0.19999999999999996,
            "bin_end": -0.09999999999999998,
            "count": 0
           },
           {
            "bin_start": -0.09999999999999998,
            "bin_end": 0,
            "count": 0
           },
           {
            "bin_start": 0,
            "bin_end": 0.10000000000000009,
            "count": 5
           },
           {
            "bin_start": 0.10000000000000009,
            "bin_end": 0.20000000000000007,
            "count": 0
           },
           {
            "bin_start": 0.20000000000000007,
            "bin_end": 0.30000000000000004,
            "count": 0
           },
           {
            "bin_start": 0.30000000000000004,
            "bin_end": 0.4,
            "count": 0
           },
           {
            "bin_start": 0.4,
            "bin_end": 0.5,
            "count": 0
           }
          ]
         }
        },
        {
         "name": "FLAG_DOCUMENT_5",
         "dtype": "int64",
         "stats": {
          "unique_count": 1,
          "nan_count": 0,
          "min": "0",
          "max": "0",
          "histogram": [
           {
            "bin_start": -0.5,
            "bin_end": -0.4,
            "count": 0
           },
           {
            "bin_start": -0.4,
            "bin_end": -0.3,
            "count": 0
           },
           {
            "bin_start": -0.3,
            "bin_end": -0.19999999999999996,
            "count": 0
           },
           {
            "bin_start": -0.19999999999999996,
            "bin_end": -0.09999999999999998,
            "count": 0
           },
           {
            "bin_start": -0.09999999999999998,
            "bin_end": 0,
            "count": 0
           },
           {
            "bin_start": 0,
            "bin_end": 0.10000000000000009,
            "count": 5
           },
           {
            "bin_start": 0.10000000000000009,
            "bin_end": 0.20000000000000007,
            "count": 0
           },
           {
            "bin_start": 0.20000000000000007,
            "bin_end": 0.30000000000000004,
            "count": 0
           },
           {
            "bin_start": 0.30000000000000004,
            "bin_end": 0.4,
            "count": 0
           },
           {
            "bin_start": 0.4,
            "bin_end": 0.5,
            "count": 0
           }
          ]
         }
        },
        {
         "name": "FLAG_DOCUMENT_6",
         "dtype": "int64",
         "stats": {
          "unique_count": 1,
          "nan_count": 0,
          "min": "0",
          "max": "0",
          "histogram": [
           {
            "bin_start": -0.5,
            "bin_end": -0.4,
            "count": 0
           },
           {
            "bin_start": -0.4,
            "bin_end": -0.3,
            "count": 0
           },
           {
            "bin_start": -0.3,
            "bin_end": -0.19999999999999996,
            "count": 0
           },
           {
            "bin_start": -0.19999999999999996,
            "bin_end": -0.09999999999999998,
            "count": 0
           },
           {
            "bin_start": -0.09999999999999998,
            "bin_end": 0,
            "count": 0
           },
           {
            "bin_start": 0,
            "bin_end": 0.10000000000000009,
            "count": 5
           },
           {
            "bin_start": 0.10000000000000009,
            "bin_end": 0.20000000000000007,
            "count": 0
           },
           {
            "bin_start": 0.20000000000000007,
            "bin_end": 0.30000000000000004,
            "count": 0
           },
           {
            "bin_start": 0.30000000000000004,
            "bin_end": 0.4,
            "count": 0
           },
           {
            "bin_start": 0.4,
            "bin_end": 0.5,
            "count": 0
           }
          ]
         }
        },
        {
         "name": "FLAG_DOCUMENT_7",
         "dtype": "int64",
         "stats": {
          "unique_count": 1,
          "nan_count": 0,
          "min": "0",
          "max": "0",
          "histogram": [
           {
            "bin_start": -0.5,
            "bin_end": -0.4,
            "count": 0
           },
           {
            "bin_start": -0.4,
            "bin_end": -0.3,
            "count": 0
           },
           {
            "bin_start": -0.3,
            "bin_end": -0.19999999999999996,
            "count": 0
           },
           {
            "bin_start": -0.19999999999999996,
            "bin_end": -0.09999999999999998,
            "count": 0
           },
           {
            "bin_start": -0.09999999999999998,
            "bin_end": 0,
            "count": 0
           },
           {
            "bin_start": 0,
            "bin_end": 0.10000000000000009,
            "count": 5
           },
           {
            "bin_start": 0.10000000000000009,
            "bin_end": 0.20000000000000007,
            "count": 0
           },
           {
            "bin_start": 0.20000000000000007,
            "bin_end": 0.30000000000000004,
            "count": 0
           },
           {
            "bin_start": 0.30000000000000004,
            "bin_end": 0.4,
            "count": 0
           },
           {
            "bin_start": 0.4,
            "bin_end": 0.5,
            "count": 0
           }
          ]
         }
        },
        {
         "name": "FLAG_DOCUMENT_8",
         "dtype": "int64",
         "stats": {
          "unique_count": 2,
          "nan_count": 0,
          "min": "0",
          "max": "1",
          "histogram": [
           {
            "bin_start": 0,
            "bin_end": 0.1,
            "count": 4
           },
           {
            "bin_start": 0.1,
            "bin_end": 0.2,
            "count": 0
           },
           {
            "bin_start": 0.2,
            "bin_end": 0.30000000000000004,
            "count": 0
           },
           {
            "bin_start": 0.30000000000000004,
            "bin_end": 0.4,
            "count": 0
           },
           {
            "bin_start": 0.4,
            "bin_end": 0.5,
            "count": 0
           },
           {
            "bin_start": 0.5,
            "bin_end": 0.6000000000000001,
            "count": 0
           },
           {
            "bin_start": 0.6000000000000001,
            "bin_end": 0.7000000000000001,
            "count": 0
           },
           {
            "bin_start": 0.7000000000000001,
            "bin_end": 0.8,
            "count": 0
           },
           {
            "bin_start": 0.8,
            "bin_end": 0.9,
            "count": 0
           },
           {
            "bin_start": 0.9,
            "bin_end": 1,
            "count": 1
           }
          ]
         }
        },
        {
         "name": "FLAG_DOCUMENT_9",
         "dtype": "int64",
         "stats": {
          "unique_count": 1,
          "nan_count": 0,
          "min": "0",
          "max": "0",
          "histogram": [
           {
            "bin_start": -0.5,
            "bin_end": -0.4,
            "count": 0
           },
           {
            "bin_start": -0.4,
            "bin_end": -0.3,
            "count": 0
           },
           {
            "bin_start": -0.3,
            "bin_end": -0.19999999999999996,
            "count": 0
           },
           {
            "bin_start": -0.19999999999999996,
            "bin_end": -0.09999999999999998,
            "count": 0
           },
           {
            "bin_start": -0.09999999999999998,
            "bin_end": 0,
            "count": 0
           },
           {
            "bin_start": 0,
            "bin_end": 0.10000000000000009,
            "count": 5
           },
           {
            "bin_start": 0.10000000000000009,
            "bin_end": 0.20000000000000007,
            "count": 0
           },
           {
            "bin_start": 0.20000000000000007,
            "bin_end": 0.30000000000000004,
            "count": 0
           },
           {
            "bin_start": 0.30000000000000004,
            "bin_end": 0.4,
            "count": 0
           },
           {
            "bin_start": 0.4,
            "bin_end": 0.5,
            "count": 0
           }
          ]
         }
        },
        {
         "name": "FLAG_DOCUMENT_10",
         "dtype": "int64",
         "stats": {
          "unique_count": 1,
          "nan_count": 0,
          "min": "0",
          "max": "0",
          "histogram": [
           {
            "bin_start": -0.5,
            "bin_end": -0.4,
            "count": 0
           },
           {
            "bin_start": -0.4,
            "bin_end": -0.3,
            "count": 0
           },
           {
            "bin_start": -0.3,
            "bin_end": -0.19999999999999996,
            "count": 0
           },
           {
            "bin_start": -0.19999999999999996,
            "bin_end": -0.09999999999999998,
            "count": 0
           },
           {
            "bin_start": -0.09999999999999998,
            "bin_end": 0,
            "count": 0
           },
           {
            "bin_start": 0,
            "bin_end": 0.10000000000000009,
            "count": 5
           },
           {
            "bin_start": 0.10000000000000009,
            "bin_end": 0.20000000000000007,
            "count": 0
           },
           {
            "bin_start": 0.20000000000000007,
            "bin_end": 0.30000000000000004,
            "count": 0
           },
           {
            "bin_start": 0.30000000000000004,
            "bin_end": 0.4,
            "count": 0
           },
           {
            "bin_start": 0.4,
            "bin_end": 0.5,
            "count": 0
           }
          ]
         }
        },
        {
         "name": "FLAG_DOCUMENT_11",
         "dtype": "int64",
         "stats": {
          "unique_count": 1,
          "nan_count": 0,
          "min": "0",
          "max": "0",
          "histogram": [
           {
            "bin_start": -0.5,
            "bin_end": -0.4,
            "count": 0
           },
           {
            "bin_start": -0.4,
            "bin_end": -0.3,
            "count": 0
           },
           {
            "bin_start": -0.3,
            "bin_end": -0.19999999999999996,
            "count": 0
           },
           {
            "bin_start": -0.19999999999999996,
            "bin_end": -0.09999999999999998,
            "count": 0
           },
           {
            "bin_start": -0.09999999999999998,
            "bin_end": 0,
            "count": 0
           },
           {
            "bin_start": 0,
            "bin_end": 0.10000000000000009,
            "count": 5
           },
           {
            "bin_start": 0.10000000000000009,
            "bin_end": 0.20000000000000007,
            "count": 0
           },
           {
            "bin_start": 0.20000000000000007,
            "bin_end": 0.30000000000000004,
            "count": 0
           },
           {
            "bin_start": 0.30000000000000004,
            "bin_end": 0.4,
            "count": 0
           },
           {
            "bin_start": 0.4,
            "bin_end": 0.5,
            "count": 0
           }
          ]
         }
        },
        {
         "name": "FLAG_DOCUMENT_12",
         "dtype": "int64",
         "stats": {
          "unique_count": 1,
          "nan_count": 0,
          "min": "0",
          "max": "0",
          "histogram": [
           {
            "bin_start": -0.5,
            "bin_end": -0.4,
            "count": 0
           },
           {
            "bin_start": -0.4,
            "bin_end": -0.3,
            "count": 0
           },
           {
            "bin_start": -0.3,
            "bin_end": -0.19999999999999996,
            "count": 0
           },
           {
            "bin_start": -0.19999999999999996,
            "bin_end": -0.09999999999999998,
            "count": 0
           },
           {
            "bin_start": -0.09999999999999998,
            "bin_end": 0,
            "count": 0
           },
           {
            "bin_start": 0,
            "bin_end": 0.10000000000000009,
            "count": 5
           },
           {
            "bin_start": 0.10000000000000009,
            "bin_end": 0.20000000000000007,
            "count": 0
           },
           {
            "bin_start": 0.20000000000000007,
            "bin_end": 0.30000000000000004,
            "count": 0
           },
           {
            "bin_start": 0.30000000000000004,
            "bin_end": 0.4,
            "count": 0
           },
           {
            "bin_start": 0.4,
            "bin_end": 0.5,
            "count": 0
           }
          ]
         }
        },
        {
         "name": "FLAG_DOCUMENT_13",
         "dtype": "int64",
         "stats": {
          "unique_count": 1,
          "nan_count": 0,
          "min": "0",
          "max": "0",
          "histogram": [
           {
            "bin_start": -0.5,
            "bin_end": -0.4,
            "count": 0
           },
           {
            "bin_start": -0.4,
            "bin_end": -0.3,
            "count": 0
           },
           {
            "bin_start": -0.3,
            "bin_end": -0.19999999999999996,
            "count": 0
           },
           {
            "bin_start": -0.19999999999999996,
            "bin_end": -0.09999999999999998,
            "count": 0
           },
           {
            "bin_start": -0.09999999999999998,
            "bin_end": 0,
            "count": 0
           },
           {
            "bin_start": 0,
            "bin_end": 0.10000000000000009,
            "count": 5
           },
           {
            "bin_start": 0.10000000000000009,
            "bin_end": 0.20000000000000007,
            "count": 0
           },
           {
            "bin_start": 0.20000000000000007,
            "bin_end": 0.30000000000000004,
            "count": 0
           },
           {
            "bin_start": 0.30000000000000004,
            "bin_end": 0.4,
            "count": 0
           },
           {
            "bin_start": 0.4,
            "bin_end": 0.5,
            "count": 0
           }
          ]
         }
        },
        {
         "name": "FLAG_DOCUMENT_14",
         "dtype": "int64",
         "stats": {
          "unique_count": 1,
          "nan_count": 0,
          "min": "0",
          "max": "0",
          "histogram": [
           {
            "bin_start": -0.5,
            "bin_end": -0.4,
            "count": 0
           },
           {
            "bin_start": -0.4,
            "bin_end": -0.3,
            "count": 0
           },
           {
            "bin_start": -0.3,
            "bin_end": -0.19999999999999996,
            "count": 0
           },
           {
            "bin_start": -0.19999999999999996,
            "bin_end": -0.09999999999999998,
            "count": 0
           },
           {
            "bin_start": -0.09999999999999998,
            "bin_end": 0,
            "count": 0
           },
           {
            "bin_start": 0,
            "bin_end": 0.10000000000000009,
            "count": 5
           },
           {
            "bin_start": 0.10000000000000009,
            "bin_end": 0.20000000000000007,
            "count": 0
           },
           {
            "bin_start": 0.20000000000000007,
            "bin_end": 0.30000000000000004,
            "count": 0
           },
           {
            "bin_start": 0.30000000000000004,
            "bin_end": 0.4,
            "count": 0
           },
           {
            "bin_start": 0.4,
            "bin_end": 0.5,
            "count": 0
           }
          ]
         }
        },
        {
         "name": "FLAG_DOCUMENT_15",
         "dtype": "int64",
         "stats": {
          "unique_count": 1,
          "nan_count": 0,
          "min": "0",
          "max": "0",
          "histogram": [
           {
            "bin_start": -0.5,
            "bin_end": -0.4,
            "count": 0
           },
           {
            "bin_start": -0.4,
            "bin_end": -0.3,
            "count": 0
           },
           {
            "bin_start": -0.3,
            "bin_end": -0.19999999999999996,
            "count": 0
           },
           {
            "bin_start": -0.19999999999999996,
            "bin_end": -0.09999999999999998,
            "count": 0
           },
           {
            "bin_start": -0.09999999999999998,
            "bin_end": 0,
            "count": 0
           },
           {
            "bin_start": 0,
            "bin_end": 0.10000000000000009,
            "count": 5
           },
           {
            "bin_start": 0.10000000000000009,
            "bin_end": 0.20000000000000007,
            "count": 0
           },
           {
            "bin_start": 0.20000000000000007,
            "bin_end": 0.30000000000000004,
            "count": 0
           },
           {
            "bin_start": 0.30000000000000004,
            "bin_end": 0.4,
            "count": 0
           },
           {
            "bin_start": 0.4,
            "bin_end": 0.5,
            "count": 0
           }
          ]
         }
        },
        {
         "name": "FLAG_DOCUMENT_16",
         "dtype": "int64",
         "stats": {
          "unique_count": 1,
          "nan_count": 0,
          "min": "0",
          "max": "0",
          "histogram": [
           {
            "bin_start": -0.5,
            "bin_end": -0.4,
            "count": 0
           },
           {
            "bin_start": -0.4,
            "bin_end": -0.3,
            "count": 0
           },
           {
            "bin_start": -0.3,
            "bin_end": -0.19999999999999996,
            "count": 0
           },
           {
            "bin_start": -0.19999999999999996,
            "bin_end": -0.09999999999999998,
            "count": 0
           },
           {
            "bin_start": -0.09999999999999998,
            "bin_end": 0,
            "count": 0
           },
           {
            "bin_start": 0,
            "bin_end": 0.10000000000000009,
            "count": 5
           },
           {
            "bin_start": 0.10000000000000009,
            "bin_end": 0.20000000000000007,
            "count": 0
           },
           {
            "bin_start": 0.20000000000000007,
            "bin_end": 0.30000000000000004,
            "count": 0
           },
           {
            "bin_start": 0.30000000000000004,
            "bin_end": 0.4,
            "count": 0
           },
           {
            "bin_start": 0.4,
            "bin_end": 0.5,
            "count": 0
           }
          ]
         }
        },
        {
         "name": "FLAG_DOCUMENT_17",
         "dtype": "int64",
         "stats": {
          "unique_count": 1,
          "nan_count": 0,
          "min": "0",
          "max": "0",
          "histogram": [
           {
            "bin_start": -0.5,
            "bin_end": -0.4,
            "count": 0
           },
           {
            "bin_start": -0.4,
            "bin_end": -0.3,
            "count": 0
           },
           {
            "bin_start": -0.3,
            "bin_end": -0.19999999999999996,
            "count": 0
           },
           {
            "bin_start": -0.19999999999999996,
            "bin_end": -0.09999999999999998,
            "count": 0
           },
           {
            "bin_start": -0.09999999999999998,
            "bin_end": 0,
            "count": 0
           },
           {
            "bin_start": 0,
            "bin_end": 0.10000000000000009,
            "count": 5
           },
           {
            "bin_start": 0.10000000000000009,
            "bin_end": 0.20000000000000007,
            "count": 0
           },
           {
            "bin_start": 0.20000000000000007,
            "bin_end": 0.30000000000000004,
            "count": 0
           },
           {
            "bin_start": 0.30000000000000004,
            "bin_end": 0.4,
            "count": 0
           },
           {
            "bin_start": 0.4,
            "bin_end": 0.5,
            "count": 0
           }
          ]
         }
        },
        {
         "name": "FLAG_DOCUMENT_18",
         "dtype": "int64",
         "stats": {
          "unique_count": 1,
          "nan_count": 0,
          "min": "0",
          "max": "0",
          "histogram": [
           {
            "bin_start": -0.5,
            "bin_end": -0.4,
            "count": 0
           },
           {
            "bin_start": -0.4,
            "bin_end": -0.3,
            "count": 0
           },
           {
            "bin_start": -0.3,
            "bin_end": -0.19999999999999996,
            "count": 0
           },
           {
            "bin_start": -0.19999999999999996,
            "bin_end": -0.09999999999999998,
            "count": 0
           },
           {
            "bin_start": -0.09999999999999998,
            "bin_end": 0,
            "count": 0
           },
           {
            "bin_start": 0,
            "bin_end": 0.10000000000000009,
            "count": 5
           },
           {
            "bin_start": 0.10000000000000009,
            "bin_end": 0.20000000000000007,
            "count": 0
           },
           {
            "bin_start": 0.20000000000000007,
            "bin_end": 0.30000000000000004,
            "count": 0
           },
           {
            "bin_start": 0.30000000000000004,
            "bin_end": 0.4,
            "count": 0
           },
           {
            "bin_start": 0.4,
            "bin_end": 0.5,
            "count": 0
           }
          ]
         }
        },
        {
         "name": "FLAG_DOCUMENT_19",
         "dtype": "int64",
         "stats": {
          "unique_count": 1,
          "nan_count": 0,
          "min": "0",
          "max": "0",
          "histogram": [
           {
            "bin_start": -0.5,
            "bin_end": -0.4,
            "count": 0
           },
           {
            "bin_start": -0.4,
            "bin_end": -0.3,
            "count": 0
           },
           {
            "bin_start": -0.3,
            "bin_end": -0.19999999999999996,
            "count": 0
           },
           {
            "bin_start": -0.19999999999999996,
            "bin_end": -0.09999999999999998,
            "count": 0
           },
           {
            "bin_start": -0.09999999999999998,
            "bin_end": 0,
            "count": 0
           },
           {
            "bin_start": 0,
            "bin_end": 0.10000000000000009,
            "count": 5
           },
           {
            "bin_start": 0.10000000000000009,
            "bin_end": 0.20000000000000007,
            "count": 0
           },
           {
            "bin_start": 0.20000000000000007,
            "bin_end": 0.30000000000000004,
            "count": 0
           },
           {
            "bin_start": 0.30000000000000004,
            "bin_end": 0.4,
            "count": 0
           },
           {
            "bin_start": 0.4,
            "bin_end": 0.5,
            "count": 0
           }
          ]
         }
        },
        {
         "name": "FLAG_DOCUMENT_20",
         "dtype": "int64",
         "stats": {
          "unique_count": 1,
          "nan_count": 0,
          "min": "0",
          "max": "0",
          "histogram": [
           {
            "bin_start": -0.5,
            "bin_end": -0.4,
            "count": 0
           },
           {
            "bin_start": -0.4,
            "bin_end": -0.3,
            "count": 0
           },
           {
            "bin_start": -0.3,
            "bin_end": -0.19999999999999996,
            "count": 0
           },
           {
            "bin_start": -0.19999999999999996,
            "bin_end": -0.09999999999999998,
            "count": 0
           },
           {
            "bin_start": -0.09999999999999998,
            "bin_end": 0,
            "count": 0
           },
           {
            "bin_start": 0,
            "bin_end": 0.10000000000000009,
            "count": 5
           },
           {
            "bin_start": 0.10000000000000009,
            "bin_end": 0.20000000000000007,
            "count": 0
           },
           {
            "bin_start": 0.20000000000000007,
            "bin_end": 0.30000000000000004,
            "count": 0
           },
           {
            "bin_start": 0.30000000000000004,
            "bin_end": 0.4,
            "count": 0
           },
           {
            "bin_start": 0.4,
            "bin_end": 0.5,
            "count": 0
           }
          ]
         }
        },
        {
         "name": "FLAG_DOCUMENT_21",
         "dtype": "int64",
         "stats": {
          "unique_count": 1,
          "nan_count": 0,
          "min": "0",
          "max": "0",
          "histogram": [
           {
            "bin_start": -0.5,
            "bin_end": -0.4,
            "count": 0
           },
           {
            "bin_start": -0.4,
            "bin_end": -0.3,
            "count": 0
           },
           {
            "bin_start": -0.3,
            "bin_end": -0.19999999999999996,
            "count": 0
           },
           {
            "bin_start": -0.19999999999999996,
            "bin_end": -0.09999999999999998,
            "count": 0
           },
           {
            "bin_start": -0.09999999999999998,
            "bin_end": 0,
            "count": 0
           },
           {
            "bin_start": 0,
            "bin_end": 0.10000000000000009,
            "count": 5
           },
           {
            "bin_start": 0.10000000000000009,
            "bin_end": 0.20000000000000007,
            "count": 0
           },
           {
            "bin_start": 0.20000000000000007,
            "bin_end": 0.30000000000000004,
            "count": 0
           },
           {
            "bin_start": 0.30000000000000004,
            "bin_end": 0.4,
            "count": 0
           },
           {
            "bin_start": 0.4,
            "bin_end": 0.5,
            "count": 0
           }
          ]
         }
        },
        {
         "name": "previously_applied",
         "dtype": "bool",
         "stats": {
          "unique_count": 1,
          "nan_count": 0,
          "categories": [
           {
            "name": "True",
            "count": 5
           }
          ]
         }
        },
        {
         "name": "total_apps",
         "dtype": "float64",
         "stats": {
          "unique_count": 4,
          "nan_count": 0,
          "min": "1.0",
          "max": "9.0",
          "histogram": [
           {
            "bin_start": 1,
            "bin_end": 1.8,
            "count": 2
           },
           {
            "bin_start": 1.8,
            "bin_end": 2.6,
            "count": 0
           },
           {
            "bin_start": 2.6,
            "bin_end": 3.4000000000000004,
            "count": 1
           },
           {
            "bin_start": 3.4000000000000004,
            "bin_end": 4.2,
            "count": 0
           },
           {
            "bin_start": 4.2,
            "bin_end": 5,
            "count": 0
           },
           {
            "bin_start": 5,
            "bin_end": 5.800000000000001,
            "count": 0
           },
           {
            "bin_start": 5.800000000000001,
            "bin_end": 6.6000000000000005,
            "count": 1
           },
           {
            "bin_start": 6.6000000000000005,
            "bin_end": 7.4,
            "count": 0
           },
           {
            "bin_start": 7.4,
            "bin_end": 8.2,
            "count": 0
           },
           {
            "bin_start": 8.2,
            "bin_end": 9,
            "count": 1
           }
          ]
         }
        },
        {
         "name": "Approved_rate",
         "dtype": "float64",
         "stats": {
          "unique_count": 2,
          "nan_count": 0,
          "min": "0.5555555555555556",
          "max": "1.0",
          "histogram": [
           {
            "bin_start": 0.5555555555555556,
            "bin_end": 0.6,
            "count": 1
           },
           {
            "bin_start": 0.6,
            "bin_end": 0.6444444444444445,
            "count": 0
           },
           {
            "bin_start": 0.6444444444444445,
            "bin_end": 0.6888888888888889,
            "count": 0
           },
           {
            "bin_start": 0.6888888888888889,
            "bin_end": 0.7333333333333334,
            "count": 0
           },
           {
            "bin_start": 0.7333333333333334,
            "bin_end": 0.7777777777777778,
            "count": 0
           },
           {
            "bin_start": 0.7777777777777778,
            "bin_end": 0.8222222222222222,
            "count": 0
           },
           {
            "bin_start": 0.8222222222222222,
            "bin_end": 0.8666666666666667,
            "count": 0
           },
           {
            "bin_start": 0.8666666666666667,
            "bin_end": 0.9111111111111111,
            "count": 0
           },
           {
            "bin_start": 0.9111111111111111,
            "bin_end": 0.9555555555555555,
            "count": 0
           },
           {
            "bin_start": 0.9555555555555555,
            "bin_end": 1,
            "count": 4
           }
          ]
         }
        },
        {
         "name": "_deepnote_index_column",
         "dtype": "int64"
        }
       ],
       "rows_top": [
        {
         "SK_ID_CURR": 100002,
         "TARGET": 1,
         "NAME_CONTRACT_TYPE": "Cash loans",
         "CODE_GENDER": "M",
         "FLAG_OWN_CAR": "N",
         "FLAG_OWN_REALTY": "Y",
         "CNT_CHILDREN": 0,
         "AMT_INCOME_TOTAL": 202500,
         "AMT_CREDIT": 406597.5,
         "AMT_ANNUITY": 24700.5,
         "AMT_GOODS_PRICE": 351000,
         "NAME_INCOME_TYPE": "Working",
         "NAME_EDUCATION_TYPE": "Secondary / secondary special",
         "NAME_FAMILY_STATUS": "Single / not married",
         "NAME_HOUSING_TYPE": "House / apartment",
         "REGION_POPULATION_RELATIVE": 0.018801,
         "DAYS_BIRTH": -9461,
         "DAYS_EMPLOYED": -637,
         "DAYS_REGISTRATION": -3648,
         "DAYS_ID_PUBLISH": -2120,
         "OWN_CAR_AGE": "nan",
         "FLAG_MOBIL": 1,
         "FLAG_EMP_PHONE": 1,
         "FLAG_WORK_PHONE": 0,
         "FLAG_CONT_MOBILE": 1,
         "FLAG_PHONE": 1,
         "FLAG_EMAIL": 0,
         "OCCUPATION_TYPE": "Laborers",
         "CNT_FAM_MEMBERS": 1,
         "REGION_RATING_CLIENT": 2,
         "REGION_RATING_CLIENT_W_CITY": 2,
         "REG_REGION_NOT_LIVE_REGION": 0,
         "REG_REGION_NOT_WORK_REGION": 0,
         "LIVE_REGION_NOT_WORK_REGION": 0,
         "REG_CITY_NOT_LIVE_CITY": 0,
         "REG_CITY_NOT_WORK_CITY": 0,
         "LIVE_CITY_NOT_WORK_CITY": 0,
         "ORGANIZATION_TYPE": "Business Entity Type 3",
         "EXT_SOURCE_1": 0.0830369673913225,
         "EXT_SOURCE_2": 0.2629485927471776,
         "EXT_SOURCE_3": 0.1393757800997895,
         "OBS_30_CNT_SOCIAL_CIRCLE": 2,
         "DEF_30_CNT_SOCIAL_CIRCLE": 2,
         "OBS_60_CNT_SOCIAL_CIRCLE": 2,
         "DEF_60_CNT_SOCIAL_CIRCLE": 2,
         "DAYS_LAST_PHONE_CHANGE": -1134,
         "FLAG_DOCUMENT_2": 0,
         "FLAG_DOCUMENT_3": 1,
         "FLAG_DOCUMENT_4": 0,
         "FLAG_DOCUMENT_5": 0,
         "FLAG_DOCUMENT_6": 0,
         "FLAG_DOCUMENT_7": 0,
         "FLAG_DOCUMENT_8": 0,
         "FLAG_DOCUMENT_9": 0,
         "FLAG_DOCUMENT_10": 0,
         "FLAG_DOCUMENT_11": 0,
         "FLAG_DOCUMENT_12": 0,
         "FLAG_DOCUMENT_13": 0,
         "FLAG_DOCUMENT_14": 0,
         "FLAG_DOCUMENT_15": 0,
         "FLAG_DOCUMENT_16": 0,
         "FLAG_DOCUMENT_17": 0,
         "FLAG_DOCUMENT_18": 0,
         "FLAG_DOCUMENT_19": 0,
         "FLAG_DOCUMENT_20": 0,
         "FLAG_DOCUMENT_21": 0,
         "previously_applied": "True",
         "total_apps": 1,
         "Approved_rate": 1,
         "_deepnote_index_column": 0
        },
        {
         "SK_ID_CURR": 100003,
         "TARGET": 0,
         "NAME_CONTRACT_TYPE": "Cash loans",
         "CODE_GENDER": "F",
         "FLAG_OWN_CAR": "N",
         "FLAG_OWN_REALTY": "N",
         "CNT_CHILDREN": 0,
         "AMT_INCOME_TOTAL": 270000,
         "AMT_CREDIT": 1293502.5,
         "AMT_ANNUITY": 35698.5,
         "AMT_GOODS_PRICE": 1129500,
         "NAME_INCOME_TYPE": "State servant",
         "NAME_EDUCATION_TYPE": "Higher education",
         "NAME_FAMILY_STATUS": "Married",
         "NAME_HOUSING_TYPE": "House / apartment",
         "REGION_POPULATION_RELATIVE": 0.0035409999999999,
         "DAYS_BIRTH": -16765,
         "DAYS_EMPLOYED": -1188,
         "DAYS_REGISTRATION": -1186,
         "DAYS_ID_PUBLISH": -291,
         "OWN_CAR_AGE": "nan",
         "FLAG_MOBIL": 1,
         "FLAG_EMP_PHONE": 1,
         "FLAG_WORK_PHONE": 0,
         "FLAG_CONT_MOBILE": 1,
         "FLAG_PHONE": 1,
         "FLAG_EMAIL": 0,
         "OCCUPATION_TYPE": "Core staff",
         "CNT_FAM_MEMBERS": 2,
         "REGION_RATING_CLIENT": 1,
         "REGION_RATING_CLIENT_W_CITY": 1,
         "REG_REGION_NOT_LIVE_REGION": 0,
         "REG_REGION_NOT_WORK_REGION": 0,
         "LIVE_REGION_NOT_WORK_REGION": 0,
         "REG_CITY_NOT_LIVE_CITY": 0,
         "REG_CITY_NOT_WORK_CITY": 0,
         "LIVE_CITY_NOT_WORK_CITY": 0,
         "ORGANIZATION_TYPE": "School",
         "EXT_SOURCE_1": 0.3112673113812225,
         "EXT_SOURCE_2": 0.6222457752555098,
         "EXT_SOURCE_3": "nan",
         "OBS_30_CNT_SOCIAL_CIRCLE": 1,
         "DEF_30_CNT_SOCIAL_CIRCLE": 0,
         "OBS_60_CNT_SOCIAL_CIRCLE": 1,
         "DEF_60_CNT_SOCIAL_CIRCLE": 0,
         "DAYS_LAST_PHONE_CHANGE": -828,
         "FLAG_DOCUMENT_2": 0,
         "FLAG_DOCUMENT_3": 1,
         "FLAG_DOCUMENT_4": 0,
         "FLAG_DOCUMENT_5": 0,
         "FLAG_DOCUMENT_6": 0,
         "FLAG_DOCUMENT_7": 0,
         "FLAG_DOCUMENT_8": 0,
         "FLAG_DOCUMENT_9": 0,
         "FLAG_DOCUMENT_10": 0,
         "FLAG_DOCUMENT_11": 0,
         "FLAG_DOCUMENT_12": 0,
         "FLAG_DOCUMENT_13": 0,
         "FLAG_DOCUMENT_14": 0,
         "FLAG_DOCUMENT_15": 0,
         "FLAG_DOCUMENT_16": 0,
         "FLAG_DOCUMENT_17": 0,
         "FLAG_DOCUMENT_18": 0,
         "FLAG_DOCUMENT_19": 0,
         "FLAG_DOCUMENT_20": 0,
         "FLAG_DOCUMENT_21": 0,
         "previously_applied": "True",
         "total_apps": 3,
         "Approved_rate": 1,
         "_deepnote_index_column": 1
        },
        {
         "SK_ID_CURR": 100004,
         "TARGET": 0,
         "NAME_CONTRACT_TYPE": "Revolving loans",
         "CODE_GENDER": "M",
         "FLAG_OWN_CAR": "Y",
         "FLAG_OWN_REALTY": "Y",
         "CNT_CHILDREN": 0,
         "AMT_INCOME_TOTAL": 67500,
         "AMT_CREDIT": 135000,
         "AMT_ANNUITY": 6750,
         "AMT_GOODS_PRICE": 135000,
         "NAME_INCOME_TYPE": "Working",
         "NAME_EDUCATION_TYPE": "Secondary / secondary special",
         "NAME_FAMILY_STATUS": "Single / not married",
         "NAME_HOUSING_TYPE": "House / apartment",
         "REGION_POPULATION_RELATIVE": 0.010032,
         "DAYS_BIRTH": -19046,
         "DAYS_EMPLOYED": -225,
         "DAYS_REGISTRATION": -4260,
         "DAYS_ID_PUBLISH": -2531,
         "OWN_CAR_AGE": 26,
         "FLAG_MOBIL": 1,
         "FLAG_EMP_PHONE": 1,
         "FLAG_WORK_PHONE": 1,
         "FLAG_CONT_MOBILE": 1,
         "FLAG_PHONE": 1,
         "FLAG_EMAIL": 0,
         "OCCUPATION_TYPE": "Laborers",
         "CNT_FAM_MEMBERS": 1,
         "REGION_RATING_CLIENT": 2,
         "REGION_RATING_CLIENT_W_CITY": 2,
         "REG_REGION_NOT_LIVE_REGION": 0,
         "REG_REGION_NOT_WORK_REGION": 0,
         "LIVE_REGION_NOT_WORK_REGION": 0,
         "REG_CITY_NOT_LIVE_CITY": 0,
         "REG_CITY_NOT_WORK_CITY": 0,
         "LIVE_CITY_NOT_WORK_CITY": 0,
         "ORGANIZATION_TYPE": "Government",
         "EXT_SOURCE_1": "nan",
         "EXT_SOURCE_2": 0.5559120833904428,
         "EXT_SOURCE_3": 0.7295666907060153,
         "OBS_30_CNT_SOCIAL_CIRCLE": 0,
         "DEF_30_CNT_SOCIAL_CIRCLE": 0,
         "OBS_60_CNT_SOCIAL_CIRCLE": 0,
         "DEF_60_CNT_SOCIAL_CIRCLE": 0,
         "DAYS_LAST_PHONE_CHANGE": -815,
         "FLAG_DOCUMENT_2": 0,
         "FLAG_DOCUMENT_3": 0,
         "FLAG_DOCUMENT_4": 0,
         "FLAG_DOCUMENT_5": 0,
         "FLAG_DOCUMENT_6": 0,
         "FLAG_DOCUMENT_7": 0,
         "FLAG_DOCUMENT_8": 0,
         "FLAG_DOCUMENT_9": 0,
         "FLAG_DOCUMENT_10": 0,
         "FLAG_DOCUMENT_11": 0,
         "FLAG_DOCUMENT_12": 0,
         "FLAG_DOCUMENT_13": 0,
         "FLAG_DOCUMENT_14": 0,
         "FLAG_DOCUMENT_15": 0,
         "FLAG_DOCUMENT_16": 0,
         "FLAG_DOCUMENT_17": 0,
         "FLAG_DOCUMENT_18": 0,
         "FLAG_DOCUMENT_19": 0,
         "FLAG_DOCUMENT_20": 0,
         "FLAG_DOCUMENT_21": 0,
         "previously_applied": "True",
         "total_apps": 1,
         "Approved_rate": 1,
         "_deepnote_index_column": 2
        },
        {
         "SK_ID_CURR": 100006,
         "TARGET": 0,
         "NAME_CONTRACT_TYPE": "Cash loans",
         "CODE_GENDER": "F",
         "FLAG_OWN_CAR": "N",
         "FLAG_OWN_REALTY": "Y",
         "CNT_CHILDREN": 0,
         "AMT_INCOME_TOTAL": 135000,
         "AMT_CREDIT": 312682.5,
         "AMT_ANNUITY": 29686.5,
         "AMT_GOODS_PRICE": 297000,
         "NAME_INCOME_TYPE": "Working",
         "NAME_EDUCATION_TYPE": "Secondary / secondary special",
         "NAME_FAMILY_STATUS": "Civil marriage",
         "NAME_HOUSING_TYPE": "House / apartment",
         "REGION_POPULATION_RELATIVE": 0.008019,
         "DAYS_BIRTH": -19005,
         "DAYS_EMPLOYED": -3039,
         "DAYS_REGISTRATION": -9833,
         "DAYS_ID_PUBLISH": -2437,
         "OWN_CAR_AGE": "nan",
         "FLAG_MOBIL": 1,
         "FLAG_EMP_PHONE": 1,
         "FLAG_WORK_PHONE": 0,
         "FLAG_CONT_MOBILE": 1,
         "FLAG_PHONE": 0,
         "FLAG_EMAIL": 0,
         "OCCUPATION_TYPE": "Laborers",
         "CNT_FAM_MEMBERS": 2,
         "REGION_RATING_CLIENT": 2,
         "REGION_RATING_CLIENT_W_CITY": 2,
         "REG_REGION_NOT_LIVE_REGION": 0,
         "REG_REGION_NOT_WORK_REGION": 0,
         "LIVE_REGION_NOT_WORK_REGION": 0,
         "REG_CITY_NOT_LIVE_CITY": 0,
         "REG_CITY_NOT_WORK_CITY": 0,
         "LIVE_CITY_NOT_WORK_CITY": 0,
         "ORGANIZATION_TYPE": "Business Entity Type 3",
         "EXT_SOURCE_1": "nan",
         "EXT_SOURCE_2": 0.6504416904014653,
         "EXT_SOURCE_3": "nan",
         "OBS_30_CNT_SOCIAL_CIRCLE": 2,
         "DEF_30_CNT_SOCIAL_CIRCLE": 0,
         "OBS_60_CNT_SOCIAL_CIRCLE": 2,
         "DEF_60_CNT_SOCIAL_CIRCLE": 0,
         "DAYS_LAST_PHONE_CHANGE": -617,
         "FLAG_DOCUMENT_2": 0,
         "FLAG_DOCUMENT_3": 1,
         "FLAG_DOCUMENT_4": 0,
         "FLAG_DOCUMENT_5": 0,
         "FLAG_DOCUMENT_6": 0,
         "FLAG_DOCUMENT_7": 0,
         "FLAG_DOCUMENT_8": 0,
         "FLAG_DOCUMENT_9": 0,
         "FLAG_DOCUMENT_10": 0,
         "FLAG_DOCUMENT_11": 0,
         "FLAG_DOCUMENT_12": 0,
         "FLAG_DOCUMENT_13": 0,
         "FLAG_DOCUMENT_14": 0,
         "FLAG_DOCUMENT_15": 0,
         "FLAG_DOCUMENT_16": 0,
         "FLAG_DOCUMENT_17": 0,
         "FLAG_DOCUMENT_18": 0,
         "FLAG_DOCUMENT_19": 0,
         "FLAG_DOCUMENT_20": 0,
         "FLAG_DOCUMENT_21": 0,
         "previously_applied": "True",
         "total_apps": 9,
         "Approved_rate": 0.5555555555555556,
         "_deepnote_index_column": 3
        },
        {
         "SK_ID_CURR": 100007,
         "TARGET": 0,
         "NAME_CONTRACT_TYPE": "Cash loans",
         "CODE_GENDER": "M",
         "FLAG_OWN_CAR": "N",
         "FLAG_OWN_REALTY": "Y",
         "CNT_CHILDREN": 0,
         "AMT_INCOME_TOTAL": 121500,
         "AMT_CREDIT": 513000,
         "AMT_ANNUITY": 21865.5,
         "AMT_GOODS_PRICE": 513000,
         "NAME_INCOME_TYPE": "Working",
         "NAME_EDUCATION_TYPE": "Secondary / secondary special",
         "NAME_FAMILY_STATUS": "Single / not married",
         "NAME_HOUSING_TYPE": "House / apartment",
         "REGION_POPULATION_RELATIVE": 0.028663,
         "DAYS_BIRTH": -19932,
         "DAYS_EMPLOYED": -3038,
         "DAYS_REGISTRATION": -4311,
         "DAYS_ID_PUBLISH": -3458,
         "OWN_CAR_AGE": "nan",
         "FLAG_MOBIL": 1,
         "FLAG_EMP_PHONE": 1,
         "FLAG_WORK_PHONE": 0,
         "FLAG_CONT_MOBILE": 1,
         "FLAG_PHONE": 0,
         "FLAG_EMAIL": 0,
         "OCCUPATION_TYPE": "Core staff",
         "CNT_FAM_MEMBERS": 1,
         "REGION_RATING_CLIENT": 2,
         "REGION_RATING_CLIENT_W_CITY": 2,
         "REG_REGION_NOT_LIVE_REGION": 0,
         "REG_REGION_NOT_WORK_REGION": 0,
         "LIVE_REGION_NOT_WORK_REGION": 0,
         "REG_CITY_NOT_LIVE_CITY": 0,
         "REG_CITY_NOT_WORK_CITY": 1,
         "LIVE_CITY_NOT_WORK_CITY": 1,
         "ORGANIZATION_TYPE": "Religion",
         "EXT_SOURCE_1": "nan",
         "EXT_SOURCE_2": 0.3227382869704046,
         "EXT_SOURCE_3": "nan",
         "OBS_30_CNT_SOCIAL_CIRCLE": 0,
         "DEF_30_CNT_SOCIAL_CIRCLE": 0,
         "OBS_60_CNT_SOCIAL_CIRCLE": 0,
         "DEF_60_CNT_SOCIAL_CIRCLE": 0,
         "DAYS_LAST_PHONE_CHANGE": -1106,
         "FLAG_DOCUMENT_2": 0,
         "FLAG_DOCUMENT_3": 0,
         "FLAG_DOCUMENT_4": 0,
         "FLAG_DOCUMENT_5": 0,
         "FLAG_DOCUMENT_6": 0,
         "FLAG_DOCUMENT_7": 0,
         "FLAG_DOCUMENT_8": 1,
         "FLAG_DOCUMENT_9": 0,
         "FLAG_DOCUMENT_10": 0,
         "FLAG_DOCUMENT_11": 0,
         "FLAG_DOCUMENT_12": 0,
         "FLAG_DOCUMENT_13": 0,
         "FLAG_DOCUMENT_14": 0,
         "FLAG_DOCUMENT_15": 0,
         "FLAG_DOCUMENT_16": 0,
         "FLAG_DOCUMENT_17": 0,
         "FLAG_DOCUMENT_18": 0,
         "FLAG_DOCUMENT_19": 0,
         "FLAG_DOCUMENT_20": 0,
         "FLAG_DOCUMENT_21": 0,
         "previously_applied": "True",
         "total_apps": 6,
         "Approved_rate": 1,
         "_deepnote_index_column": 4
        }
       ],
       "rows_bottom": null
      },
      "text/plain": "   SK_ID_CURR  TARGET NAME_CONTRACT_TYPE CODE_GENDER FLAG_OWN_CAR  \\\n0      100002       1         Cash loans           M            N   \n1      100003       0         Cash loans           F            N   \n2      100004       0    Revolving loans           M            Y   \n3      100006       0         Cash loans           F            N   \n4      100007       0         Cash loans           M            N   \n\n  FLAG_OWN_REALTY  CNT_CHILDREN  AMT_INCOME_TOTAL  AMT_CREDIT  AMT_ANNUITY  \\\n0               Y             0          202500.0    406597.5      24700.5   \n1               N             0          270000.0   1293502.5      35698.5   \n2               Y             0           67500.0    135000.0       6750.0   \n3               Y             0          135000.0    312682.5      29686.5   \n4               Y             0          121500.0    513000.0      21865.5   \n\n   ...  FLAG_DOCUMENT_15 FLAG_DOCUMENT_16 FLAG_DOCUMENT_17 FLAG_DOCUMENT_18  \\\n0  ...                 0                0                0                0   \n1  ...                 0                0                0                0   \n2  ...                 0                0                0                0   \n3  ...                 0                0                0                0   \n4  ...                 0                0                0                0   \n\n  FLAG_DOCUMENT_19  FLAG_DOCUMENT_20  FLAG_DOCUMENT_21  previously_applied  \\\n0                0                 0                 0                True   \n1                0                 0                 0                True   \n2                0                 0                 0                True   \n3                0                 0                 0                True   \n4                0                 0                 0                True   \n\n   total_apps  Approved_rate  \n0         1.0       1.000000  \n1         3.0       1.000000  \n2         1.0       1.000000  \n3         9.0       0.555556  \n4         6.0       1.000000  \n\n[5 rows x 69 columns]",
      "text/html": "<div>\n<style scoped>\n    .dataframe tbody tr th:only-of-type {\n        vertical-align: middle;\n    }\n\n    .dataframe tbody tr th {\n        vertical-align: top;\n    }\n\n    .dataframe thead th {\n        text-align: right;\n    }\n</style>\n<table border=\"1\" class=\"dataframe\">\n  <thead>\n    <tr style=\"text-align: right;\">\n      <th></th>\n      <th>SK_ID_CURR</th>\n      <th>TARGET</th>\n      <th>NAME_CONTRACT_TYPE</th>\n      <th>CODE_GENDER</th>\n      <th>FLAG_OWN_CAR</th>\n      <th>FLAG_OWN_REALTY</th>\n      <th>CNT_CHILDREN</th>\n      <th>AMT_INCOME_TOTAL</th>\n      <th>AMT_CREDIT</th>\n      <th>AMT_ANNUITY</th>\n      <th>...</th>\n      <th>FLAG_DOCUMENT_15</th>\n      <th>FLAG_DOCUMENT_16</th>\n      <th>FLAG_DOCUMENT_17</th>\n      <th>FLAG_DOCUMENT_18</th>\n      <th>FLAG_DOCUMENT_19</th>\n      <th>FLAG_DOCUMENT_20</th>\n      <th>FLAG_DOCUMENT_21</th>\n      <th>previously_applied</th>\n      <th>total_apps</th>\n      <th>Approved_rate</th>\n    </tr>\n  </thead>\n  <tbody>\n    <tr>\n      <th>0</th>\n      <td>100002</td>\n      <td>1</td>\n      <td>Cash loans</td>\n      <td>M</td>\n      <td>N</td>\n      <td>Y</td>\n      <td>0</td>\n      <td>202500.0</td>\n      <td>406597.5</td>\n      <td>24700.5</td>\n      <td>...</td>\n      <td>0</td>\n      <td>0</td>\n      <td>0</td>\n      <td>0</td>\n      <td>0</td>\n      <td>0</td>\n      <td>0</td>\n      <td>True</td>\n      <td>1.0</td>\n      <td>1.000000</td>\n    </tr>\n    <tr>\n      <th>1</th>\n      <td>100003</td>\n      <td>0</td>\n      <td>Cash loans</td>\n      <td>F</td>\n      <td>N</td>\n      <td>N</td>\n      <td>0</td>\n      <td>270000.0</td>\n      <td>1293502.5</td>\n      <td>35698.5</td>\n      <td>...</td>\n      <td>0</td>\n      <td>0</td>\n      <td>0</td>\n      <td>0</td>\n      <td>0</td>\n      <td>0</td>\n      <td>0</td>\n      <td>True</td>\n      <td>3.0</td>\n      <td>1.000000</td>\n    </tr>\n    <tr>\n      <th>2</th>\n      <td>100004</td>\n      <td>0</td>\n      <td>Revolving loans</td>\n      <td>M</td>\n      <td>Y</td>\n      <td>Y</td>\n      <td>0</td>\n      <td>67500.0</td>\n      <td>135000.0</td>\n      <td>6750.0</td>\n      <td>...</td>\n      <td>0</td>\n      <td>0</td>\n      <td>0</td>\n      <td>0</td>\n      <td>0</td>\n      <td>0</td>\n      <td>0</td>\n      <td>True</td>\n      <td>1.0</td>\n      <td>1.000000</td>\n    </tr>\n    <tr>\n      <th>3</th>\n      <td>100006</td>\n      <td>0</td>\n      <td>Cash loans</td>\n      <td>F</td>\n      <td>N</td>\n      <td>Y</td>\n      <td>0</td>\n      <td>135000.0</td>\n      <td>312682.5</td>\n      <td>29686.5</td>\n      <td>...</td>\n      <td>0</td>\n      <td>0</td>\n      <td>0</td>\n      <td>0</td>\n      <td>0</td>\n      <td>0</td>\n      <td>0</td>\n      <td>True</td>\n      <td>9.0</td>\n      <td>0.555556</td>\n    </tr>\n    <tr>\n      <th>4</th>\n      <td>100007</td>\n      <td>0</td>\n      <td>Cash loans</td>\n      <td>M</td>\n      <td>N</td>\n      <td>Y</td>\n      <td>0</td>\n      <td>121500.0</td>\n      <td>513000.0</td>\n      <td>21865.5</td>\n      <td>...</td>\n      <td>0</td>\n      <td>0</td>\n      <td>0</td>\n      <td>0</td>\n      <td>0</td>\n      <td>0</td>\n      <td>0</td>\n      <td>True</td>\n      <td>6.0</td>\n      <td>1.000000</td>\n    </tr>\n  </tbody>\n</table>\n<p>5 rows × 69 columns</p>\n</div>"
     },
     "metadata": {}
    }
   ],
   "execution_count": null
  },
  {
   "cell_type": "code",
   "metadata": {
    "tags": [],
    "cell_id": "00015-88db52a6-fe27-4ba4-b6ab-f4977b932c47",
    "deepnote_to_be_reexecuted": true,
    "source_hash": "a07985e8",
    "execution_start": 1628795549282,
    "execution_millis": 180,
    "deepnote_cell_type": "code"
   },
   "source": "prev_app.head()",
   "outputs": [
    {
     "output_type": "execute_result",
     "execution_count": 14,
     "data": {
      "application/vnd.deepnote.dataframe.v2+json": {
       "row_count": 5,
       "column_count": 37,
       "columns": [
        {
         "name": "SK_ID_PREV",
         "dtype": "int64",
         "stats": {
          "unique_count": 5,
          "nan_count": 0,
          "min": "1784265",
          "max": "2819243",
          "histogram": [
           {
            "bin_start": 1784265,
            "bin_end": 1887762.8,
            "count": 1
           },
           {
            "bin_start": 1887762.8,
            "bin_end": 1991260.6,
            "count": 0
           },
           {
            "bin_start": 1991260.6,
            "bin_end": 2094758.4,
            "count": 1
           },
           {
            "bin_start": 2094758.4,
            "bin_end": 2198256.2,
            "count": 0
           },
           {
            "bin_start": 2198256.2,
            "bin_end": 2301754,
            "count": 0
           },
           {
            "bin_start": 2301754,
            "bin_end": 2405251.8,
            "count": 0
           },
           {
            "bin_start": 2405251.8,
            "bin_end": 2508749.6,
            "count": 0
           },
           {
            "bin_start": 2508749.6,
            "bin_end": 2612247.4,
            "count": 1
           },
           {
            "bin_start": 2612247.4,
            "bin_end": 2715745.2,
            "count": 0
           },
           {
            "bin_start": 2715745.2,
            "bin_end": 2819243,
            "count": 2
           }
          ]
         }
        },
        {
         "name": "SK_ID_CURR",
         "dtype": "int64",
         "stats": {
          "unique_count": 5,
          "nan_count": 0,
          "min": "108129",
          "max": "271877",
          "histogram": [
           {
            "bin_start": 108129,
            "bin_end": 124503.8,
            "count": 2
           },
           {
            "bin_start": 124503.8,
            "bin_end": 140878.6,
            "count": 0
           },
           {
            "bin_start": 140878.6,
            "bin_end": 157253.4,
            "count": 0
           },
           {
            "bin_start": 157253.4,
            "bin_end": 173628.2,
            "count": 0
           },
           {
            "bin_start": 173628.2,
            "bin_end": 190003,
            "count": 1
           },
           {
            "bin_start": 190003,
            "bin_end": 206377.8,
            "count": 1
           },
           {
            "bin_start": 206377.8,
            "bin_end": 222752.59999999998,
            "count": 0
           },
           {
            "bin_start": 222752.59999999998,
            "bin_end": 239127.4,
            "count": 0
           },
           {
            "bin_start": 239127.4,
            "bin_end": 255502.19999999998,
            "count": 0
           },
           {
            "bin_start": 255502.19999999998,
            "bin_end": 271877,
            "count": 1
           }
          ]
         }
        },
        {
         "name": "NAME_CONTRACT_TYPE",
         "dtype": "object",
         "stats": {
          "unique_count": 2,
          "nan_count": 0,
          "categories": [
           {
            "name": "Cash loans",
            "count": 4
           },
           {
            "name": "Consumer loans",
            "count": 1
           }
          ]
         }
        },
        {
         "name": "AMT_ANNUITY",
         "dtype": "float64",
         "stats": {
          "unique_count": 5,
          "nan_count": 0,
          "min": "1730.43",
          "max": "47041.335",
          "histogram": [
           {
            "bin_start": 1730.43,
            "bin_end": 6261.5205000000005,
            "count": 1
           },
           {
            "bin_start": 6261.5205000000005,
            "bin_end": 10792.611,
            "count": 0
           },
           {
            "bin_start": 10792.611,
            "bin_end": 15323.701500000001,
            "count": 1
           },
           {
            "bin_start": 15323.701500000001,
            "bin_end": 19854.792,
            "count": 0
           },
           {
            "bin_start": 19854.792,
            "bin_end": 24385.8825,
            "count": 0
           },
           {
            "bin_start": 24385.8825,
            "bin_end": 28916.973,
            "count": 1
           },
           {
            "bin_start": 28916.973,
            "bin_end": 33448.063500000004,
            "count": 1
           },
           {
            "bin_start": 33448.063500000004,
            "bin_end": 37979.154,
            "count": 0
           },
           {
            "bin_start": 37979.154,
            "bin_end": 42510.2445,
            "count": 0
           },
           {
            "bin_start": 42510.2445,
            "bin_end": 47041.335,
            "count": 1
           }
          ]
         }
        },
        {
         "name": "AMT_APPLICATION",
         "dtype": "float64",
         "stats": {
          "unique_count": 5,
          "nan_count": 0,
          "min": "17145.0",
          "max": "607500.0",
          "histogram": [
           {
            "bin_start": 17145,
            "bin_end": 76180.5,
            "count": 1
           },
           {
            "bin_start": 76180.5,
            "bin_end": 135216,
            "count": 1
           },
           {
            "bin_start": 135216,
            "bin_end": 194251.5,
            "count": 0
           },
           {
            "bin_start": 194251.5,
            "bin_end": 253287,
            "count": 0
           },
           {
            "bin_start": 253287,
            "bin_end": 312322.5,
            "count": 0
           },
           {
            "bin_start": 312322.5,
            "bin_end": 371358,
            "count": 1
           },
           {
            "bin_start": 371358,
            "bin_end": 430393.5,
            "count": 0
           },
           {
            "bin_start": 430393.5,
            "bin_end": 489429,
            "count": 1
           },
           {
            "bin_start": 489429,
            "bin_end": 548464.5,
            "count": 0
           },
           {
            "bin_start": 548464.5,
            "bin_end": 607500,
            "count": 1
           }
          ]
         }
        },
        {
         "name": "AMT_CREDIT",
         "dtype": "float64",
         "stats": {
          "unique_count": 5,
          "nan_count": 0,
          "min": "17145.0",
          "max": "679671.0",
          "histogram": [
           {
            "bin_start": 17145,
            "bin_end": 83397.6,
            "count": 1
           },
           {
            "bin_start": 83397.6,
            "bin_end": 149650.2,
            "count": 1
           },
           {
            "bin_start": 149650.2,
            "bin_end": 215902.80000000002,
            "count": 0
           },
           {
            "bin_start": 215902.80000000002,
            "bin_end": 282155.4,
            "count": 0
           },
           {
            "bin_start": 282155.4,
            "bin_end": 348408,
            "count": 0
           },
           {
            "bin_start": 348408,
            "bin_end": 414660.60000000003,
            "count": 1
           },
           {
            "bin_start": 414660.60000000003,
            "bin_end": 480913.20000000007,
            "count": 1
           },
           {
            "bin_start": 480913.20000000007,
            "bin_end": 547165.8,
            "count": 0
           },
           {
            "bin_start": 547165.8,
            "bin_end": 613418.4,
            "count": 0
           },
           {
            "bin_start": 613418.4,
            "bin_end": 679671,
            "count": 1
           }
          ]
         }
        },
        {
         "name": "AMT_DOWN_PAYMENT",
         "dtype": "float64",
         "stats": {
          "unique_count": 1,
          "nan_count": 4,
          "min": "0.0",
          "max": "0.0",
          "histogram": [
           {
            "bin_start": -0.5,
            "bin_end": -0.4,
            "count": 0
           },
           {
            "bin_start": -0.4,
            "bin_end": -0.3,
            "count": 0
           },
           {
            "bin_start": -0.3,
            "bin_end": -0.19999999999999996,
            "count": 0
           },
           {
            "bin_start": -0.19999999999999996,
            "bin_end": -0.09999999999999998,
            "count": 0
           },
           {
            "bin_start": -0.09999999999999998,
            "bin_end": 0,
            "count": 0
           },
           {
            "bin_start": 0,
            "bin_end": 0.10000000000000009,
            "count": 1
           },
           {
            "bin_start": 0.10000000000000009,
            "bin_end": 0.20000000000000007,
            "count": 0
           },
           {
            "bin_start": 0.20000000000000007,
            "bin_end": 0.30000000000000004,
            "count": 0
           },
           {
            "bin_start": 0.30000000000000004,
            "bin_end": 0.4,
            "count": 0
           },
           {
            "bin_start": 0.4,
            "bin_end": 0.5,
            "count": 0
           }
          ]
         }
        },
        {
         "name": "AMT_GOODS_PRICE",
         "dtype": "float64",
         "stats": {
          "unique_count": 5,
          "nan_count": 0,
          "min": "17145.0",
          "max": "607500.0",
          "histogram": [
           {
            "bin_start": 17145,
            "bin_end": 76180.5,
            "count": 1
           },
           {
            "bin_start": 76180.5,
            "bin_end": 135216,
            "count": 1
           },
           {
            "bin_start": 135216,
            "bin_end": 194251.5,
            "count": 0
           },
           {
            "bin_start": 194251.5,
            "bin_end": 253287,
            "count": 0
           },
           {
            "bin_start": 253287,
            "bin_end": 312322.5,
            "count": 0
           },
           {
            "bin_start": 312322.5,
            "bin_end": 371358,
            "count": 1
           },
           {
            "bin_start": 371358,
            "bin_end": 430393.5,
            "count": 0
           },
           {
            "bin_start": 430393.5,
            "bin_end": 489429,
            "count": 1
           },
           {
            "bin_start": 489429,
            "bin_end": 548464.5,
            "count": 0
           },
           {
            "bin_start": 548464.5,
            "bin_end": 607500,
            "count": 1
           }
          ]
         }
        },
        {
         "name": "WEEKDAY_APPR_PROCESS_START",
         "dtype": "object",
         "stats": {
          "unique_count": 4,
          "nan_count": 0,
          "categories": [
           {
            "name": "THURSDAY",
            "count": 2
           },
           {
            "name": "SATURDAY",
            "count": 1
           },
           {
            "name": "2 others",
            "count": 2
           }
          ]
         }
        },
        {
         "name": "HOUR_APPR_PROCESS_START",
         "dtype": "int64",
         "stats": {
          "unique_count": 4,
          "nan_count": 0,
          "min": "7",
          "max": "15",
          "histogram": [
           {
            "bin_start": 7,
            "bin_end": 7.8,
            "count": 1
           },
           {
            "bin_start": 7.8,
            "bin_end": 8.6,
            "count": 0
           },
           {
            "bin_start": 8.6,
            "bin_end": 9.4,
            "count": 1
           },
           {
            "bin_start": 9.4,
            "bin_end": 10.2,
            "count": 0
           },
           {
            "bin_start": 10.2,
            "bin_end": 11,
            "count": 0
           },
           {
            "bin_start": 11,
            "bin_end": 11.8,
            "count": 2
           },
           {
            "bin_start": 11.8,
            "bin_end": 12.600000000000001,
            "count": 0
           },
           {
            "bin_start": 12.600000000000001,
            "bin_end": 13.4,
            "count": 0
           },
           {
            "bin_start": 13.4,
            "bin_end": 14.2,
            "count": 0
           },
           {
            "bin_start": 14.2,
            "bin_end": 15,
            "count": 1
           }
          ]
         }
        },
        {
         "name": "FLAG_LAST_APPL_PER_CONTRACT",
         "dtype": "object",
         "stats": {
          "unique_count": 1,
          "nan_count": 0,
          "categories": [
           {
            "name": "Y",
            "count": 5
           }
          ]
         }
        },
        {
         "name": "NFLAG_LAST_APPL_IN_DAY",
         "dtype": "int64",
         "stats": {
          "unique_count": 1,
          "nan_count": 0,
          "min": "1",
          "max": "1",
          "histogram": [
           {
            "bin_start": 0.5,
            "bin_end": 0.6,
            "count": 0
           },
           {
            "bin_start": 0.6,
            "bin_end": 0.7,
            "count": 0
           },
           {
            "bin_start": 0.7,
            "bin_end": 0.8,
            "count": 0
           },
           {
            "bin_start": 0.8,
            "bin_end": 0.9,
            "count": 0
           },
           {
            "bin_start": 0.9,
            "bin_end": 1,
            "count": 0
           },
           {
            "bin_start": 1,
            "bin_end": 1.1,
            "count": 5
           },
           {
            "bin_start": 1.1,
            "bin_end": 1.2000000000000002,
            "count": 0
           },
           {
            "bin_start": 1.2000000000000002,
            "bin_end": 1.3,
            "count": 0
           },
           {
            "bin_start": 1.3,
            "bin_end": 1.4,
            "count": 0
           },
           {
            "bin_start": 1.4,
            "bin_end": 1.5,
            "count": 0
           }
          ]
         }
        },
        {
         "name": "RATE_DOWN_PAYMENT",
         "dtype": "float64",
         "stats": {
          "unique_count": 1,
          "nan_count": 4,
          "min": "0.0",
          "max": "0.0",
          "histogram": [
           {
            "bin_start": -0.5,
            "bin_end": -0.4,
            "count": 0
           },
           {
            "bin_start": -0.4,
            "bin_end": -0.3,
            "count": 0
           },
           {
            "bin_start": -0.3,
            "bin_end": -0.19999999999999996,
            "count": 0
           },
           {
            "bin_start": -0.19999999999999996,
            "bin_end": -0.09999999999999998,
            "count": 0
           },
           {
            "bin_start": -0.09999999999999998,
            "bin_end": 0,
            "count": 0
           },
           {
            "bin_start": 0,
            "bin_end": 0.10000000000000009,
            "count": 1
           },
           {
            "bin_start": 0.10000000000000009,
            "bin_end": 0.20000000000000007,
            "count": 0
           },
           {
            "bin_start": 0.20000000000000007,
            "bin_end": 0.30000000000000004,
            "count": 0
           },
           {
            "bin_start": 0.30000000000000004,
            "bin_end": 0.4,
            "count": 0
           },
           {
            "bin_start": 0.4,
            "bin_end": 0.5,
            "count": 0
           }
          ]
         }
        },
        {
         "name": "RATE_INTEREST_PRIMARY",
         "dtype": "float64",
         "stats": {
          "unique_count": 1,
          "nan_count": 4,
          "min": "0.1828318032415278",
          "max": "0.1828318032415278",
          "histogram": [
           {
            "bin_start": -0.3171681967584722,
            "bin_end": -0.21716819675847218,
            "count": 0
           },
           {
            "bin_start": -0.21716819675847218,
            "bin_end": -0.11716819675847218,
            "count": 0
           },
           {
            "bin_start": -0.11716819675847218,
            "bin_end": -0.017168196758472143,
            "count": 0
           },
           {
            "bin_start": -0.017168196758472143,
            "bin_end": 0.08283180324152783,
            "count": 0
           },
           {
            "bin_start": 0.08283180324152783,
            "bin_end": 0.1828318032415278,
            "count": 0
           },
           {
            "bin_start": 0.1828318032415278,
            "bin_end": 0.2828318032415279,
            "count": 1
           },
           {
            "bin_start": 0.2828318032415279,
            "bin_end": 0.3828318032415279,
            "count": 0
           },
           {
            "bin_start": 0.3828318032415279,
            "bin_end": 0.48283180324152786,
            "count": 0
           },
           {
            "bin_start": 0.48283180324152786,
            "bin_end": 0.5828318032415278,
            "count": 0
           },
           {
            "bin_start": 0.5828318032415278,
            "bin_end": 0.6828318032415278,
            "count": 0
           }
          ]
         }
        },
        {
         "name": "RATE_INTEREST_PRIVILEGED",
         "dtype": "float64",
         "stats": {
          "unique_count": 1,
          "nan_count": 4,
          "min": "0.8673361522198731",
          "max": "0.8673361522198731",
          "histogram": [
           {
            "bin_start": 0.36733615221987315,
            "bin_end": 0.4673361522198731,
            "count": 0
           },
           {
            "bin_start": 0.4673361522198731,
            "bin_end": 0.5673361522198731,
            "count": 0
           },
           {
            "bin_start": 0.5673361522198731,
            "bin_end": 0.6673361522198731,
            "count": 0
           },
           {
            "bin_start": 0.6673361522198731,
            "bin_end": 0.7673361522198732,
            "count": 0
           },
           {
            "bin_start": 0.7673361522198732,
            "bin_end": 0.867336152219873,
            "count": 0
           },
           {
            "bin_start": 0.867336152219873,
            "bin_end": 0.9673361522198731,
            "count": 1
           },
           {
            "bin_start": 0.9673361522198731,
            "bin_end": 1.0673361522198732,
            "count": 0
           },
           {
            "bin_start": 1.0673361522198732,
            "bin_end": 1.167336152219873,
            "count": 0
           },
           {
            "bin_start": 1.167336152219873,
            "bin_end": 1.267336152219873,
            "count": 0
           },
           {
            "bin_start": 1.267336152219873,
            "bin_end": 1.367336152219873,
            "count": 0
           }
          ]
         }
        },
        {
         "name": "NAME_CASH_LOAN_PURPOSE",
         "dtype": "object",
         "stats": {
          "unique_count": 3,
          "nan_count": 0,
          "categories": [
           {
            "name": "XNA",
            "count": 3
           },
           {
            "name": "XAP",
            "count": 1
           },
           {
            "name": "Repairs",
            "count": 1
           }
          ]
         }
        },
        {
         "name": "NAME_CONTRACT_STATUS",
         "dtype": "object",
         "stats": {
          "unique_count": 2,
          "nan_count": 0,
          "categories": [
           {
            "name": "Approved",
            "count": 4
           },
           {
            "name": "Refused",
            "count": 1
           }
          ]
         }
        },
        {
         "name": "DAYS_DECISION",
         "dtype": "int64",
         "stats": {
          "unique_count": 5,
          "nan_count": 0,
          "min": "-781",
          "max": "-73",
          "histogram": [
           {
            "bin_start": -781,
            "bin_end": -710.2,
            "count": 1
           },
           {
            "bin_start": -710.2,
            "bin_end": -639.4,
            "count": 0
           },
           {
            "bin_start": -639.4,
            "bin_end": -568.6,
            "count": 0
           },
           {
            "bin_start": -568.6,
            "bin_end": -497.8,
            "count": 1
           },
           {
            "bin_start": -497.8,
            "bin_end": -427,
            "count": 0
           },
           {
            "bin_start": -427,
            "bin_end": -356.20000000000005,
            "count": 0
           },
           {
            "bin_start": -356.20000000000005,
            "bin_end": -285.40000000000003,
            "count": 1
           },
           {
            "bin_start": -285.40000000000003,
            "bin_end": -214.60000000000002,
            "count": 0
           },
           {
            "bin_start": -214.60000000000002,
            "bin_end": -143.80000000000007,
            "count": 1
           },
           {
            "bin_start": -143.80000000000007,
            "bin_end": -73,
            "count": 1
           }
          ]
         }
        },
        {
         "name": "NAME_PAYMENT_TYPE",
         "dtype": "object",
         "stats": {
          "unique_count": 2,
          "nan_count": 0,
          "categories": [
           {
            "name": "Cash through the bank",
            "count": 4
           },
           {
            "name": "XNA",
            "count": 1
           }
          ]
         }
        },
        {
         "name": "CODE_REJECT_REASON",
         "dtype": "object",
         "stats": {
          "unique_count": 2,
          "nan_count": 0,
          "categories": [
           {
            "name": "XAP",
            "count": 4
           },
           {
            "name": "HC",
            "count": 1
           }
          ]
         }
        },
        {
         "name": "NAME_TYPE_SUITE",
         "dtype": "object",
         "stats": {
          "unique_count": 2,
          "nan_count": 3,
          "categories": [
           {
            "name": "Unaccompanied",
            "count": 1
           },
           {
            "name": "Spouse, partner",
            "count": 1
           },
           {
            "name": "Missing",
            "count": 3
           }
          ]
         }
        },
        {
         "name": "NAME_CLIENT_TYPE",
         "dtype": "object",
         "stats": {
          "unique_count": 1,
          "nan_count": 0,
          "categories": [
           {
            "name": "Repeater",
            "count": 5
           }
          ]
         }
        },
        {
         "name": "NAME_GOODS_CATEGORY",
         "dtype": "object",
         "stats": {
          "unique_count": 2,
          "nan_count": 0,
          "categories": [
           {
            "name": "XNA",
            "count": 4
           },
           {
            "name": "Mobile",
            "count": 1
           }
          ]
         }
        },
        {
         "name": "NAME_PORTFOLIO",
         "dtype": "object",
         "stats": {
          "unique_count": 2,
          "nan_count": 0,
          "categories": [
           {
            "name": "Cash",
            "count": 4
           },
           {
            "name": "POS",
            "count": 1
           }
          ]
         }
        },
        {
         "name": "NAME_PRODUCT_TYPE",
         "dtype": "object",
         "stats": {
          "unique_count": 3,
          "nan_count": 0,
          "categories": [
           {
            "name": "x-sell",
            "count": 3
           },
           {
            "name": "XNA",
            "count": 1
           },
           {
            "name": "walk-in",
            "count": 1
           }
          ]
         }
        },
        {
         "name": "CHANNEL_TYPE",
         "dtype": "object",
         "stats": {
          "unique_count": 3,
          "nan_count": 0,
          "categories": [
           {
            "name": "Credit and cash offices",
            "count": 3
           },
           {
            "name": "Country-wide",
            "count": 1
           },
           {
            "name": "Contact center",
            "count": 1
           }
          ]
         }
        },
        {
         "name": "SELLERPLACE_AREA",
         "dtype": "int64",
         "stats": {
          "unique_count": 2,
          "nan_count": 0,
          "min": "-1",
          "max": "35",
          "histogram": [
           {
            "bin_start": -1,
            "bin_end": 2.6,
            "count": 4
           },
           {
            "bin_start": 2.6,
            "bin_end": 6.2,
            "count": 0
           },
           {
            "bin_start": 6.2,
            "bin_end": 9.8,
            "count": 0
           },
           {
            "bin_start": 9.8,
            "bin_end": 13.4,
            "count": 0
           },
           {
            "bin_start": 13.4,
            "bin_end": 17,
            "count": 0
           },
           {
            "bin_start": 17,
            "bin_end": 20.6,
            "count": 0
           },
           {
            "bin_start": 20.6,
            "bin_end": 24.2,
            "count": 0
           },
           {
            "bin_start": 24.2,
            "bin_end": 27.8,
            "count": 0
           },
           {
            "bin_start": 27.8,
            "bin_end": 31.4,
            "count": 0
           },
           {
            "bin_start": 31.4,
            "bin_end": 35,
            "count": 1
           }
          ]
         }
        },
        {
         "name": "NAME_SELLER_INDUSTRY",
         "dtype": "object",
         "stats": {
          "unique_count": 2,
          "nan_count": 0,
          "categories": [
           {
            "name": "XNA",
            "count": 4
           },
           {
            "name": "Connectivity",
            "count": 1
           }
          ]
         }
        },
        {
         "name": "CNT_PAYMENT",
         "dtype": "float64",
         "stats": {
          "unique_count": 3,
          "nan_count": 0,
          "min": "12.0",
          "max": "36.0",
          "histogram": [
           {
            "bin_start": 12,
            "bin_end": 14.4,
            "count": 3
           },
           {
            "bin_start": 14.4,
            "bin_end": 16.8,
            "count": 0
           },
           {
            "bin_start": 16.8,
            "bin_end": 19.2,
            "count": 0
           },
           {
            "bin_start": 19.2,
            "bin_end": 21.6,
            "count": 0
           },
           {
            "bin_start": 21.6,
            "bin_end": 24,
            "count": 0
           },
           {
            "bin_start": 24,
            "bin_end": 26.4,
            "count": 1
           },
           {
            "bin_start": 26.4,
            "bin_end": 28.8,
            "count": 0
           },
           {
            "bin_start": 28.8,
            "bin_end": 31.2,
            "count": 0
           },
           {
            "bin_start": 31.2,
            "bin_end": 33.599999999999994,
            "count": 0
           },
           {
            "bin_start": 33.599999999999994,
            "bin_end": 36,
            "count": 1
           }
          ]
         }
        },
        {
         "name": "NAME_YIELD_GROUP",
         "dtype": "object",
         "stats": {
          "unique_count": 3,
          "nan_count": 0,
          "categories": [
           {
            "name": "middle",
            "count": 2
           },
           {
            "name": "high",
            "count": 2
           },
           {
            "name": "low_action",
            "count": 1
           }
          ]
         }
        },
        {
         "name": "PRODUCT_COMBINATION",
         "dtype": "object",
         "stats": {
          "unique_count": 5,
          "nan_count": 0,
          "categories": [
           {
            "name": "POS mobile with interest",
            "count": 1
           },
           {
            "name": "Cash X-Sell: low",
            "count": 1
           },
           {
            "name": "3 others",
            "count": 3
           }
          ]
         }
        },
        {
         "name": "DAYS_FIRST_DRAWING",
         "dtype": "float64",
         "stats": {
          "unique_count": 1,
          "nan_count": 1,
          "min": "365243.0",
          "max": "365243.0",
          "histogram": [
           {
            "bin_start": 365242.5,
            "bin_end": 365242.6,
            "count": 0
           },
           {
            "bin_start": 365242.6,
            "bin_end": 365242.7,
            "count": 0
           },
           {
            "bin_start": 365242.7,
            "bin_end": 365242.8,
            "count": 0
           },
           {
            "bin_start": 365242.8,
            "bin_end": 365242.9,
            "count": 0
           },
           {
            "bin_start": 365242.9,
            "bin_end": 365243,
            "count": 0
           },
           {
            "bin_start": 365243,
            "bin_end": 365243.1,
            "count": 4
           },
           {
            "bin_start": 365243.1,
            "bin_end": 365243.2,
            "count": 0
           },
           {
            "bin_start": 365243.2,
            "bin_end": 365243.3,
            "count": 0
           },
           {
            "bin_start": 365243.3,
            "bin_end": 365243.4,
            "count": 0
           },
           {
            "bin_start": 365243.4,
            "bin_end": 365243.5,
            "count": 0
           }
          ]
         }
        },
        {
         "name": "DAYS_FIRST_DUE",
         "dtype": "float64",
         "stats": {
          "unique_count": 4,
          "nan_count": 1,
          "min": "-482.0",
          "max": "-42.0",
          "histogram": [
           {
            "bin_start": -482,
            "bin_end": -438,
            "count": 1
           },
           {
            "bin_start": -438,
            "bin_end": -394,
            "count": 0
           },
           {
            "bin_start": -394,
            "bin_end": -350,
            "count": 0
           },
           {
            "bin_start": -350,
            "bin_end": -306,
            "count": 0
           },
           {
            "bin_start": -306,
            "bin_end": -262,
            "count": 1
           },
           {
            "bin_start": -262,
            "bin_end": -218,
            "count": 0
           },
           {
            "bin_start": -218,
            "bin_end": -174,
            "count": 0
           },
           {
            "bin_start": -174,
            "bin_end": -130,
            "count": 1
           },
           {
            "bin_start": -130,
            "bin_end": -86,
            "count": 0
           },
           {
            "bin_start": -86,
            "bin_end": -42,
            "count": 1
           }
          ]
         }
        },
        {
         "name": "DAYS_LAST_DUE_1ST_VERSION",
         "dtype": "float64",
         "stats": {
          "unique_count": 4,
          "nan_count": 1,
          "min": "-152.0",
          "max": "916.0",
          "histogram": [
           {
            "bin_start": -152,
            "bin_end": -45.2,
            "count": 1
           },
           {
            "bin_start": -45.2,
            "bin_end": 61.599999999999994,
            "count": 1
           },
           {
            "bin_start": 61.599999999999994,
            "bin_end": 168.39999999999998,
            "count": 0
           },
           {
            "bin_start": 168.39999999999998,
            "bin_end": 275.2,
            "count": 0
           },
           {
            "bin_start": 275.2,
            "bin_end": 382,
            "count": 1
           },
           {
            "bin_start": 382,
            "bin_end": 488.79999999999995,
            "count": 0
           },
           {
            "bin_start": 488.79999999999995,
            "bin_end": 595.6,
            "count": 0
           },
           {
            "bin_start": 595.6,
            "bin_end": 702.4,
            "count": 0
           },
           {
            "bin_start": 702.4,
            "bin_end": 809.1999999999999,
            "count": 0
           },
           {
            "bin_start": 809.1999999999999,
            "bin_end": 916,
            "count": 1
           }
          ]
         }
        },
        {
         "name": "DAYS_LAST_DUE",
         "dtype": "float64",
         "stats": {
          "unique_count": 3,
          "nan_count": 1,
          "min": "-182.0",
          "max": "365243.0",
          "histogram": [
           {
            "bin_start": -182,
            "bin_end": 36360.5,
            "count": 2
           },
           {
            "bin_start": 36360.5,
            "bin_end": 72903,
            "count": 0
           },
           {
            "bin_start": 72903,
            "bin_end": 109445.5,
            "count": 0
           },
           {
            "bin_start": 109445.5,
            "bin_end": 145988,
            "count": 0
           },
           {
            "bin_start": 145988,
            "bin_end": 182530.5,
            "count": 0
           },
           {
            "bin_start": 182530.5,
            "bin_end": 219073,
            "count": 0
           },
           {
            "bin_start": 219073,
            "bin_end": 255615.5,
            "count": 0
           },
           {
            "bin_start": 255615.5,
            "bin_end": 292158,
            "count": 0
           },
           {
            "bin_start": 292158,
            "bin_end": 328700.5,
            "count": 0
           },
           {
            "bin_start": 328700.5,
            "bin_end": 365243,
            "count": 2
           }
          ]
         }
        },
        {
         "name": "DAYS_TERMINATION",
         "dtype": "float64",
         "stats": {
          "unique_count": 3,
          "nan_count": 1,
          "min": "-177.0",
          "max": "365243.0",
          "histogram": [
           {
            "bin_start": -177,
            "bin_end": 36365,
            "count": 2
           },
           {
            "bin_start": 36365,
            "bin_end": 72907,
            "count": 0
           },
           {
            "bin_start": 72907,
            "bin_end": 109449,
            "count": 0
           },
           {
            "bin_start": 109449,
            "bin_end": 145991,
            "count": 0
           },
           {
            "bin_start": 145991,
            "bin_end": 182533,
            "count": 0
           },
           {
            "bin_start": 182533,
            "bin_end": 219075,
            "count": 0
           },
           {
            "bin_start": 219075,
            "bin_end": 255617,
            "count": 0
           },
           {
            "bin_start": 255617,
            "bin_end": 292159,
            "count": 0
           },
           {
            "bin_start": 292159,
            "bin_end": 328701,
            "count": 0
           },
           {
            "bin_start": 328701,
            "bin_end": 365243,
            "count": 2
           }
          ]
         }
        },
        {
         "name": "NFLAG_INSURED_ON_APPROVAL",
         "dtype": "float64",
         "stats": {
          "unique_count": 2,
          "nan_count": 1,
          "min": "0.0",
          "max": "1.0",
          "histogram": [
           {
            "bin_start": 0,
            "bin_end": 0.1,
            "count": 1
           },
           {
            "bin_start": 0.1,
            "bin_end": 0.2,
            "count": 0
           },
           {
            "bin_start": 0.2,
            "bin_end": 0.30000000000000004,
            "count": 0
           },
           {
            "bin_start": 0.30000000000000004,
            "bin_end": 0.4,
            "count": 0
           },
           {
            "bin_start": 0.4,
            "bin_end": 0.5,
            "count": 0
           },
           {
            "bin_start": 0.5,
            "bin_end": 0.6000000000000001,
            "count": 0
           },
           {
            "bin_start": 0.6000000000000001,
            "bin_end": 0.7000000000000001,
            "count": 0
           },
           {
            "bin_start": 0.7000000000000001,
            "bin_end": 0.8,
            "count": 0
           },
           {
            "bin_start": 0.8,
            "bin_end": 0.9,
            "count": 0
           },
           {
            "bin_start": 0.9,
            "bin_end": 1,
            "count": 3
           }
          ]
         }
        },
        {
         "name": "_deepnote_index_column",
         "dtype": "int64"
        }
       ],
       "rows_top": [
        {
         "SK_ID_PREV": 2030495,
         "SK_ID_CURR": 271877,
         "NAME_CONTRACT_TYPE": "Consumer loans",
         "AMT_ANNUITY": 1730.43,
         "AMT_APPLICATION": 17145,
         "AMT_CREDIT": 17145,
         "AMT_DOWN_PAYMENT": 0,
         "AMT_GOODS_PRICE": 17145,
         "WEEKDAY_APPR_PROCESS_START": "SATURDAY",
         "HOUR_APPR_PROCESS_START": 15,
         "FLAG_LAST_APPL_PER_CONTRACT": "Y",
         "NFLAG_LAST_APPL_IN_DAY": 1,
         "RATE_DOWN_PAYMENT": 0,
         "RATE_INTEREST_PRIMARY": 0.1828318032415278,
         "RATE_INTEREST_PRIVILEGED": 0.8673361522198731,
         "NAME_CASH_LOAN_PURPOSE": "XAP",
         "NAME_CONTRACT_STATUS": "Approved",
         "DAYS_DECISION": -73,
         "NAME_PAYMENT_TYPE": "Cash through the bank",
         "CODE_REJECT_REASON": "XAP",
         "NAME_TYPE_SUITE": "nan",
         "NAME_CLIENT_TYPE": "Repeater",
         "NAME_GOODS_CATEGORY": "Mobile",
         "NAME_PORTFOLIO": "POS",
         "NAME_PRODUCT_TYPE": "XNA",
         "CHANNEL_TYPE": "Country-wide",
         "SELLERPLACE_AREA": 35,
         "NAME_SELLER_INDUSTRY": "Connectivity",
         "CNT_PAYMENT": 12,
         "NAME_YIELD_GROUP": "middle",
         "PRODUCT_COMBINATION": "POS mobile with interest",
         "DAYS_FIRST_DRAWING": 365243,
         "DAYS_FIRST_DUE": -42,
         "DAYS_LAST_DUE_1ST_VERSION": 300,
         "DAYS_LAST_DUE": -42,
         "DAYS_TERMINATION": -37,
         "NFLAG_INSURED_ON_APPROVAL": 0,
         "_deepnote_index_column": 0
        },
        {
         "SK_ID_PREV": 2802425,
         "SK_ID_CURR": 108129,
         "NAME_CONTRACT_TYPE": "Cash loans",
         "AMT_ANNUITY": 25188.615,
         "AMT_APPLICATION": 607500,
         "AMT_CREDIT": 679671,
         "AMT_DOWN_PAYMENT": "nan",
         "AMT_GOODS_PRICE": 607500,
         "WEEKDAY_APPR_PROCESS_START": "THURSDAY",
         "HOUR_APPR_PROCESS_START": 11,
         "FLAG_LAST_APPL_PER_CONTRACT": "Y",
         "NFLAG_LAST_APPL_IN_DAY": 1,
         "RATE_DOWN_PAYMENT": "nan",
         "RATE_INTEREST_PRIMARY": "nan",
         "RATE_INTEREST_PRIVILEGED": "nan",
         "NAME_CASH_LOAN_PURPOSE": "XNA",
         "NAME_CONTRACT_STATUS": "Approved",
         "DAYS_DECISION": -164,
         "NAME_PAYMENT_TYPE": "XNA",
         "CODE_REJECT_REASON": "XAP",
         "NAME_TYPE_SUITE": "Unaccompanied",
         "NAME_CLIENT_TYPE": "Repeater",
         "NAME_GOODS_CATEGORY": "XNA",
         "NAME_PORTFOLIO": "Cash",
         "NAME_PRODUCT_TYPE": "x-sell",
         "CHANNEL_TYPE": "Contact center",
         "SELLERPLACE_AREA": -1,
         "NAME_SELLER_INDUSTRY": "XNA",
         "CNT_PAYMENT": 36,
         "NAME_YIELD_GROUP": "low_action",
         "PRODUCT_COMBINATION": "Cash X-Sell: low",
         "DAYS_FIRST_DRAWING": 365243,
         "DAYS_FIRST_DUE": -134,
         "DAYS_LAST_DUE_1ST_VERSION": 916,
         "DAYS_LAST_DUE": 365243,
         "DAYS_TERMINATION": 365243,
         "NFLAG_INSURED_ON_APPROVAL": 1,
         "_deepnote_index_column": 1
        },
        {
         "SK_ID_PREV": 2523466,
         "SK_ID_CURR": 122040,
         "NAME_CONTRACT_TYPE": "Cash loans",
         "AMT_ANNUITY": 15060.735,
         "AMT_APPLICATION": 112500,
         "AMT_CREDIT": 136444.5,
         "AMT_DOWN_PAYMENT": "nan",
         "AMT_GOODS_PRICE": 112500,
         "WEEKDAY_APPR_PROCESS_START": "TUESDAY",
         "HOUR_APPR_PROCESS_START": 11,
         "FLAG_LAST_APPL_PER_CONTRACT": "Y",
         "NFLAG_LAST_APPL_IN_DAY": 1,
         "RATE_DOWN_PAYMENT": "nan",
         "RATE_INTEREST_PRIMARY": "nan",
         "RATE_INTEREST_PRIVILEGED": "nan",
         "NAME_CASH_LOAN_PURPOSE": "XNA",
         "NAME_CONTRACT_STATUS": "Approved",
         "DAYS_DECISION": -301,
         "NAME_PAYMENT_TYPE": "Cash through the bank",
         "CODE_REJECT_REASON": "XAP",
         "NAME_TYPE_SUITE": "Spouse, partner",
         "NAME_CLIENT_TYPE": "Repeater",
         "NAME_GOODS_CATEGORY": "XNA",
         "NAME_PORTFOLIO": "Cash",
         "NAME_PRODUCT_TYPE": "x-sell",
         "CHANNEL_TYPE": "Credit and cash offices",
         "SELLERPLACE_AREA": -1,
         "NAME_SELLER_INDUSTRY": "XNA",
         "CNT_PAYMENT": 12,
         "NAME_YIELD_GROUP": "high",
         "PRODUCT_COMBINATION": "Cash X-Sell: high",
         "DAYS_FIRST_DRAWING": 365243,
         "DAYS_FIRST_DUE": -271,
         "DAYS_LAST_DUE_1ST_VERSION": 59,
         "DAYS_LAST_DUE": 365243,
         "DAYS_TERMINATION": 365243,
         "NFLAG_INSURED_ON_APPROVAL": 1,
         "_deepnote_index_column": 2
        },
        {
         "SK_ID_PREV": 2819243,
         "SK_ID_CURR": 176158,
         "NAME_CONTRACT_TYPE": "Cash loans",
         "AMT_ANNUITY": 47041.335,
         "AMT_APPLICATION": 450000,
         "AMT_CREDIT": 470790,
         "AMT_DOWN_PAYMENT": "nan",
         "AMT_GOODS_PRICE": 450000,
         "WEEKDAY_APPR_PROCESS_START": "MONDAY",
         "HOUR_APPR_PROCESS_START": 7,
         "FLAG_LAST_APPL_PER_CONTRACT": "Y",
         "NFLAG_LAST_APPL_IN_DAY": 1,
         "RATE_DOWN_PAYMENT": "nan",
         "RATE_INTEREST_PRIMARY": "nan",
         "RATE_INTEREST_PRIVILEGED": "nan",
         "NAME_CASH_LOAN_PURPOSE": "XNA",
         "NAME_CONTRACT_STATUS": "Approved",
         "DAYS_DECISION": -512,
         "NAME_PAYMENT_TYPE": "Cash through the bank",
         "CODE_REJECT_REASON": "XAP",
         "NAME_TYPE_SUITE": "nan",
         "NAME_CLIENT_TYPE": "Repeater",
         "NAME_GOODS_CATEGORY": "XNA",
         "NAME_PORTFOLIO": "Cash",
         "NAME_PRODUCT_TYPE": "x-sell",
         "CHANNEL_TYPE": "Credit and cash offices",
         "SELLERPLACE_AREA": -1,
         "NAME_SELLER_INDUSTRY": "XNA",
         "CNT_PAYMENT": 12,
         "NAME_YIELD_GROUP": "middle",
         "PRODUCT_COMBINATION": "Cash X-Sell: middle",
         "DAYS_FIRST_DRAWING": 365243,
         "DAYS_FIRST_DUE": -482,
         "DAYS_LAST_DUE_1ST_VERSION": -152,
         "DAYS_LAST_DUE": -182,
         "DAYS_TERMINATION": -177,
         "NFLAG_INSURED_ON_APPROVAL": 1,
         "_deepnote_index_column": 3
        },
        {
         "SK_ID_PREV": 1784265,
         "SK_ID_CURR": 202054,
         "NAME_CONTRACT_TYPE": "Cash loans",
         "AMT_ANNUITY": 31924.395,
         "AMT_APPLICATION": 337500,
         "AMT_CREDIT": 404055,
         "AMT_DOWN_PAYMENT": "nan",
         "AMT_GOODS_PRICE": 337500,
         "WEEKDAY_APPR_PROCESS_START": "THURSDAY",
         "HOUR_APPR_PROCESS_START": 9,
         "FLAG_LAST_APPL_PER_CONTRACT": "Y",
         "NFLAG_LAST_APPL_IN_DAY": 1,
         "RATE_DOWN_PAYMENT": "nan",
         "RATE_INTEREST_PRIMARY": "nan",
         "RATE_INTEREST_PRIVILEGED": "nan",
         "NAME_CASH_LOAN_PURPOSE": "Repairs",
         "NAME_CONTRACT_STATUS": "Refused",
         "DAYS_DECISION": -781,
         "NAME_PAYMENT_TYPE": "Cash through the bank",
         "CODE_REJECT_REASON": "HC",
         "NAME_TYPE_SUITE": "nan",
         "NAME_CLIENT_TYPE": "Repeater",
         "NAME_GOODS_CATEGORY": "XNA",
         "NAME_PORTFOLIO": "Cash",
         "NAME_PRODUCT_TYPE": "walk-in",
         "CHANNEL_TYPE": "Credit and cash offices",
         "SELLERPLACE_AREA": -1,
         "NAME_SELLER_INDUSTRY": "XNA",
         "CNT_PAYMENT": 24,
         "NAME_YIELD_GROUP": "high",
         "PRODUCT_COMBINATION": "Cash Street: high",
         "DAYS_FIRST_DRAWING": "nan",
         "DAYS_FIRST_DUE": "nan",
         "DAYS_LAST_DUE_1ST_VERSION": "nan",
         "DAYS_LAST_DUE": "nan",
         "DAYS_TERMINATION": "nan",
         "NFLAG_INSURED_ON_APPROVAL": "nan",
         "_deepnote_index_column": 4
        }
       ],
       "rows_bottom": null
      },
      "text/plain": "   SK_ID_PREV  SK_ID_CURR NAME_CONTRACT_TYPE  AMT_ANNUITY  AMT_APPLICATION  \\\n0     2030495      271877     Consumer loans     1730.430          17145.0   \n1     2802425      108129         Cash loans    25188.615         607500.0   \n2     2523466      122040         Cash loans    15060.735         112500.0   \n3     2819243      176158         Cash loans    47041.335         450000.0   \n4     1784265      202054         Cash loans    31924.395         337500.0   \n\n   AMT_CREDIT  AMT_DOWN_PAYMENT  AMT_GOODS_PRICE WEEKDAY_APPR_PROCESS_START  \\\n0     17145.0               0.0          17145.0                   SATURDAY   \n1    679671.0               NaN         607500.0                   THURSDAY   \n2    136444.5               NaN         112500.0                    TUESDAY   \n3    470790.0               NaN         450000.0                     MONDAY   \n4    404055.0               NaN         337500.0                   THURSDAY   \n\n   HOUR_APPR_PROCESS_START  ... NAME_SELLER_INDUSTRY  CNT_PAYMENT  \\\n0                       15  ...         Connectivity         12.0   \n1                       11  ...                  XNA         36.0   \n2                       11  ...                  XNA         12.0   \n3                        7  ...                  XNA         12.0   \n4                        9  ...                  XNA         24.0   \n\n   NAME_YIELD_GROUP       PRODUCT_COMBINATION  DAYS_FIRST_DRAWING  \\\n0            middle  POS mobile with interest            365243.0   \n1        low_action          Cash X-Sell: low            365243.0   \n2              high         Cash X-Sell: high            365243.0   \n3            middle       Cash X-Sell: middle            365243.0   \n4              high         Cash Street: high                 NaN   \n\n  DAYS_FIRST_DUE DAYS_LAST_DUE_1ST_VERSION  DAYS_LAST_DUE DAYS_TERMINATION  \\\n0          -42.0                     300.0          -42.0            -37.0   \n1         -134.0                     916.0       365243.0         365243.0   \n2         -271.0                      59.0       365243.0         365243.0   \n3         -482.0                    -152.0         -182.0           -177.0   \n4            NaN                       NaN            NaN              NaN   \n\n  NFLAG_INSURED_ON_APPROVAL  \n0                       0.0  \n1                       1.0  \n2                       1.0  \n3                       1.0  \n4                       NaN  \n\n[5 rows x 37 columns]",
      "text/html": "<div>\n<style scoped>\n    .dataframe tbody tr th:only-of-type {\n        vertical-align: middle;\n    }\n\n    .dataframe tbody tr th {\n        vertical-align: top;\n    }\n\n    .dataframe thead th {\n        text-align: right;\n    }\n</style>\n<table border=\"1\" class=\"dataframe\">\n  <thead>\n    <tr style=\"text-align: right;\">\n      <th></th>\n      <th>SK_ID_PREV</th>\n      <th>SK_ID_CURR</th>\n      <th>NAME_CONTRACT_TYPE</th>\n      <th>AMT_ANNUITY</th>\n      <th>AMT_APPLICATION</th>\n      <th>AMT_CREDIT</th>\n      <th>AMT_DOWN_PAYMENT</th>\n      <th>AMT_GOODS_PRICE</th>\n      <th>WEEKDAY_APPR_PROCESS_START</th>\n      <th>HOUR_APPR_PROCESS_START</th>\n      <th>...</th>\n      <th>NAME_SELLER_INDUSTRY</th>\n      <th>CNT_PAYMENT</th>\n      <th>NAME_YIELD_GROUP</th>\n      <th>PRODUCT_COMBINATION</th>\n      <th>DAYS_FIRST_DRAWING</th>\n      <th>DAYS_FIRST_DUE</th>\n      <th>DAYS_LAST_DUE_1ST_VERSION</th>\n      <th>DAYS_LAST_DUE</th>\n      <th>DAYS_TERMINATION</th>\n      <th>NFLAG_INSURED_ON_APPROVAL</th>\n    </tr>\n  </thead>\n  <tbody>\n    <tr>\n      <th>0</th>\n      <td>2030495</td>\n      <td>271877</td>\n      <td>Consumer loans</td>\n      <td>1730.430</td>\n      <td>17145.0</td>\n      <td>17145.0</td>\n      <td>0.0</td>\n      <td>17145.0</td>\n      <td>SATURDAY</td>\n      <td>15</td>\n      <td>...</td>\n      <td>Connectivity</td>\n      <td>12.0</td>\n      <td>middle</td>\n      <td>POS mobile with interest</td>\n      <td>365243.0</td>\n      <td>-42.0</td>\n      <td>300.0</td>\n      <td>-42.0</td>\n      <td>-37.0</td>\n      <td>0.0</td>\n    </tr>\n    <tr>\n      <th>1</th>\n      <td>2802425</td>\n      <td>108129</td>\n      <td>Cash loans</td>\n      <td>25188.615</td>\n      <td>607500.0</td>\n      <td>679671.0</td>\n      <td>NaN</td>\n      <td>607500.0</td>\n      <td>THURSDAY</td>\n      <td>11</td>\n      <td>...</td>\n      <td>XNA</td>\n      <td>36.0</td>\n      <td>low_action</td>\n      <td>Cash X-Sell: low</td>\n      <td>365243.0</td>\n      <td>-134.0</td>\n      <td>916.0</td>\n      <td>365243.0</td>\n      <td>365243.0</td>\n      <td>1.0</td>\n    </tr>\n    <tr>\n      <th>2</th>\n      <td>2523466</td>\n      <td>122040</td>\n      <td>Cash loans</td>\n      <td>15060.735</td>\n      <td>112500.0</td>\n      <td>136444.5</td>\n      <td>NaN</td>\n      <td>112500.0</td>\n      <td>TUESDAY</td>\n      <td>11</td>\n      <td>...</td>\n      <td>XNA</td>\n      <td>12.0</td>\n      <td>high</td>\n      <td>Cash X-Sell: high</td>\n      <td>365243.0</td>\n      <td>-271.0</td>\n      <td>59.0</td>\n      <td>365243.0</td>\n      <td>365243.0</td>\n      <td>1.0</td>\n    </tr>\n    <tr>\n      <th>3</th>\n      <td>2819243</td>\n      <td>176158</td>\n      <td>Cash loans</td>\n      <td>47041.335</td>\n      <td>450000.0</td>\n      <td>470790.0</td>\n      <td>NaN</td>\n      <td>450000.0</td>\n      <td>MONDAY</td>\n      <td>7</td>\n      <td>...</td>\n      <td>XNA</td>\n      <td>12.0</td>\n      <td>middle</td>\n      <td>Cash X-Sell: middle</td>\n      <td>365243.0</td>\n      <td>-482.0</td>\n      <td>-152.0</td>\n      <td>-182.0</td>\n      <td>-177.0</td>\n      <td>1.0</td>\n    </tr>\n    <tr>\n      <th>4</th>\n      <td>1784265</td>\n      <td>202054</td>\n      <td>Cash loans</td>\n      <td>31924.395</td>\n      <td>337500.0</td>\n      <td>404055.0</td>\n      <td>NaN</td>\n      <td>337500.0</td>\n      <td>THURSDAY</td>\n      <td>9</td>\n      <td>...</td>\n      <td>XNA</td>\n      <td>24.0</td>\n      <td>high</td>\n      <td>Cash Street: high</td>\n      <td>NaN</td>\n      <td>NaN</td>\n      <td>NaN</td>\n      <td>NaN</td>\n      <td>NaN</td>\n      <td>NaN</td>\n    </tr>\n  </tbody>\n</table>\n<p>5 rows × 37 columns</p>\n</div>"
     },
     "metadata": {}
    }
   ],
   "execution_count": null
  },
  {
   "cell_type": "code",
   "metadata": {
    "tags": [],
    "cell_id": "00015-fcbbc5a3-2840-475f-9dce-c15920c11c49",
    "deepnote_to_be_reexecuted": true,
    "source_hash": "5f658ece",
    "execution_start": 1628795549471,
    "execution_millis": 2507,
    "deepnote_cell_type": "code"
   },
   "source": "sns.countplot(prev_app.NAME_CLIENT_TYPE)",
   "outputs": [
    {
     "name": "stderr",
     "text": "/shared-libs/python3.7/py/lib/python3.7/site-packages/seaborn/_decorators.py:43: FutureWarning: Pass the following variable as a keyword arg: x. From version 0.12, the only valid positional argument will be `data`, and passing other arguments without an explicit keyword will result in an error or misinterpretation.\n  FutureWarning\n",
     "output_type": "stream"
    },
    {
     "output_type": "execute_result",
     "execution_count": 15,
     "data": {
      "text/plain": "<AxesSubplot:xlabel='NAME_CLIENT_TYPE', ylabel='count'>"
     },
     "metadata": {}
    },
    {
     "data": {
      "text/plain": "<Figure size 1080x720 with 1 Axes>",
      "image/png": "[encoded data removed]"
     },
     "metadata": {
      "needs_background": "light",
      "image/png": {
       "width": 891,
       "height": 603
      }
     },
     "output_type": "display_data"
    }
   ],
   "execution_count": null
  },
  {
   "cell_type": "code",
   "metadata": {
    "tags": [],
    "cell_id": "00015-72ab3696-a780-471a-b7f3-5c190fe36ecb",
    "deepnote_to_be_reexecuted": true,
    "source_hash": "83f65bfb",
    "execution_start": 1628798447333,
    "execution_millis": 11,
    "deepnote_cell_type": "code"
   },
   "source": "client_type = pd.DataFrame(prev_app.NAME_CLIENT_TYPE == \"New\")\nclient_type.columns = [\"repeat_client\"]\nclient_type.repeat_client = client_type.repeat_client == False\nclient_type[\"SK_ID_CURR\"] = prev_app.SK_ID_CURR",
   "outputs": [],
   "execution_count": null
  },
  {
   "cell_type": "code",
   "source": "prev_app.groupby([\"SK_ID_CURR\", \"NAME_CLIENT_TYPE\"]).NAME_CLIENT_TYPE.agg(count=\"count\").reset_index()",
   "metadata": {
    "tags": [],
    "cell_id": "00017-1c5b9d3c-8603-4521-9445-83ebef4917c3",
    "deepnote_to_be_reexecuted": true,
    "source_hash": "5cf126b",
    "execution_start": 1628798599819,
    "execution_millis": 592,
    "deepnote_cell_type": "code"
   },
   "outputs": [
    {
     "output_type": "execute_result",
     "execution_count": 70,
     "data": {
      "application/vnd.deepnote.dataframe.v2+json": {
       "row_count": 623125,
       "column_count": 3,
       "columns": [
        {
         "name": "SK_ID_CURR",
         "dtype": "int64"
        },
        {
         "name": "NAME_CLIENT_TYPE",
         "dtype": "object"
        },
        {
         "name": "count",
         "dtype": "int64"
        },
        {
         "name": "_deepnote_index_column",
         "dtype": "int64"
        }
       ],
       "rows_top": [
        {
         "SK_ID_CURR": 100001,
         "NAME_CLIENT_TYPE": "Refreshed",
         "count": 1,
         "_deepnote_index_column": 0
        },
        {
         "SK_ID_CURR": 100002,
         "NAME_CLIENT_TYPE": "New",
         "count": 1,
         "_deepnote_index_column": 1
        },
        {
         "SK_ID_CURR": 100003,
         "NAME_CLIENT_TYPE": "Refreshed",
         "count": 2,
         "_deepnote_index_column": 2
        },
        {
         "SK_ID_CURR": 100003,
         "NAME_CLIENT_TYPE": "Repeater",
         "count": 1,
         "_deepnote_index_column": 3
        },
        {
         "SK_ID_CURR": 100004,
         "NAME_CLIENT_TYPE": "New",
         "count": 1,
         "_deepnote_index_column": 4
        },
        {
         "SK_ID_CURR": 100005,
         "NAME_CLIENT_TYPE": "New",
         "count": 1,
         "_deepnote_index_column": 5
        },
        {
         "SK_ID_CURR": 100005,
         "NAME_CLIENT_TYPE": "Repeater",
         "count": 1,
         "_deepnote_index_column": 6
        },
        {
         "SK_ID_CURR": 100006,
         "NAME_CLIENT_TYPE": "New",
         "count": 1,
         "_deepnote_index_column": 7
        },
        {
         "SK_ID_CURR": 100006,
         "NAME_CLIENT_TYPE": "Repeater",
         "count": 8,
         "_deepnote_index_column": 8
        },
        {
         "SK_ID_CURR": 100007,
         "NAME_CLIENT_TYPE": "New",
         "count": 1,
         "_deepnote_index_column": 9
        },
        {
         "SK_ID_CURR": 100007,
         "NAME_CLIENT_TYPE": "Repeater",
         "count": 5,
         "_deepnote_index_column": 10
        },
        {
         "SK_ID_CURR": 100008,
         "NAME_CLIENT_TYPE": "New",
         "count": 1,
         "_deepnote_index_column": 11
        },
        {
         "SK_ID_CURR": 100008,
         "NAME_CLIENT_TYPE": "Refreshed",
         "count": 1,
         "_deepnote_index_column": 12
        },
        {
         "SK_ID_CURR": 100008,
         "NAME_CLIENT_TYPE": "Repeater",
         "count": 3,
         "_deepnote_index_column": 13
        },
        {
         "SK_ID_CURR": 100009,
         "NAME_CLIENT_TYPE": "Refreshed",
         "count": 1,
         "_deepnote_index_column": 14
        },
        {
         "SK_ID_CURR": 100009,
         "NAME_CLIENT_TYPE": "Repeater",
         "count": 6,
         "_deepnote_index_column": 15
        },
        {
         "SK_ID_CURR": 100010,
         "NAME_CLIENT_TYPE": "New",
         "count": 1,
         "_deepnote_index_column": 16
        },
        {
         "SK_ID_CURR": 100011,
         "NAME_CLIENT_TYPE": "New",
         "count": 1,
         "_deepnote_index_column": 17
        },
        {
         "SK_ID_CURR": 100011,
         "NAME_CLIENT_TYPE": "Repeater",
         "count": 3,
         "_deepnote_index_column": 18
        },
        {
         "SK_ID_CURR": 100012,
         "NAME_CLIENT_TYPE": "New",
         "count": 1,
         "_deepnote_index_column": 19
        },
        {
         "SK_ID_CURR": 100012,
         "NAME_CLIENT_TYPE": "Repeater",
         "count": 3,
         "_deepnote_index_column": 20
        },
        {
         "SK_ID_CURR": 100013,
         "NAME_CLIENT_TYPE": "Repeater",
         "count": 4,
         "_deepnote_index_column": 21
        },
        {
         "SK_ID_CURR": 100014,
         "NAME_CLIENT_TYPE": "New",
         "count": 1,
         "_deepnote_index_column": 22
        },
        {
         "SK_ID_CURR": 100014,
         "NAME_CLIENT_TYPE": "Repeater",
         "count": 1,
         "_deepnote_index_column": 23
        },
        {
         "SK_ID_CURR": 100015,
         "NAME_CLIENT_TYPE": "New",
         "count": 1,
         "_deepnote_index_column": 24
        },
        {
         "SK_ID_CURR": 100016,
         "NAME_CLIENT_TYPE": "Repeater",
         "count": 4,
         "_deepnote_index_column": 25
        },
        {
         "SK_ID_CURR": 100017,
         "NAME_CLIENT_TYPE": "New",
         "count": 1,
         "_deepnote_index_column": 26
        },
        {
         "SK_ID_CURR": 100017,
         "NAME_CLIENT_TYPE": "Refreshed",
         "count": 1,
         "_deepnote_index_column": 27
        },
        {
         "SK_ID_CURR": 100018,
         "NAME_CLIENT_TYPE": "New",
         "count": 1,
         "_deepnote_index_column": 28
        },
        {
         "SK_ID_CURR": 100018,
         "NAME_CLIENT_TYPE": "Repeater",
         "count": 2,
         "_deepnote_index_column": 29
        },
        {
         "SK_ID_CURR": 100018,
         "NAME_CLIENT_TYPE": "XNA",
         "count": 1,
         "_deepnote_index_column": 30
        },
        {
         "SK_ID_CURR": 100019,
         "NAME_CLIENT_TYPE": "New",
         "count": 1,
         "_deepnote_index_column": 31
        },
        {
         "SK_ID_CURR": 100020,
         "NAME_CLIENT_TYPE": "New",
         "count": 1,
         "_deepnote_index_column": 32
        },
        {
         "SK_ID_CURR": 100020,
         "NAME_CLIENT_TYPE": "Repeater",
         "count": 1,
         "_deepnote_index_column": 33
        },
        {
         "SK_ID_CURR": 100021,
         "NAME_CLIENT_TYPE": "New",
         "count": 1,
         "_deepnote_index_column": 34
        },
        {
         "SK_ID_CURR": 100021,
         "NAME_CLIENT_TYPE": "Refreshed",
         "count": 1,
         "_deepnote_index_column": 35
        },
        {
         "SK_ID_CURR": 100021,
         "NAME_CLIENT_TYPE": "Repeater",
         "count": 4,
         "_deepnote_index_column": 36
        },
        {
         "SK_ID_CURR": 100022,
         "NAME_CLIENT_TYPE": "New",
         "count": 1,
         "_deepnote_index_column": 37
        },
        {
         "SK_ID_CURR": 100023,
         "NAME_CLIENT_TYPE": "Refreshed",
         "count": 1,
         "_deepnote_index_column": 38
        },
        {
         "SK_ID_CURR": 100023,
         "NAME_CLIENT_TYPE": "Repeater",
         "count": 3,
         "_deepnote_index_column": 39
        },
        {
         "SK_ID_CURR": 100025,
         "NAME_CLIENT_TYPE": "New",
         "count": 1,
         "_deepnote_index_column": 40
        },
        {
         "SK_ID_CURR": 100025,
         "NAME_CLIENT_TYPE": "Repeater",
         "count": 7,
         "_deepnote_index_column": 41
        },
        {
         "SK_ID_CURR": 100026,
         "NAME_CLIENT_TYPE": "New",
         "count": 1,
         "_deepnote_index_column": 42
        },
        {
         "SK_ID_CURR": 100026,
         "NAME_CLIENT_TYPE": "Refreshed",
         "count": 1,
         "_deepnote_index_column": 43
        },
        {
         "SK_ID_CURR": 100026,
         "NAME_CLIENT_TYPE": "Repeater",
         "count": 1,
         "_deepnote_index_column": 44
        },
        {
         "SK_ID_CURR": 100027,
         "NAME_CLIENT_TYPE": "New",
         "count": 1,
         "_deepnote_index_column": 45
        },
        {
         "SK_ID_CURR": 100027,
         "NAME_CLIENT_TYPE": "Repeater",
         "count": 3,
         "_deepnote_index_column": 46
        },
        {
         "SK_ID_CURR": 100028,
         "NAME_CLIENT_TYPE": "New",
         "count": 1,
         "_deepnote_index_column": 47
        },
        {
         "SK_ID_CURR": 100028,
         "NAME_CLIENT_TYPE": "Repeater",
         "count": 4,
         "_deepnote_index_column": 48
        },
        {
         "SK_ID_CURR": 100029,
         "NAME_CLIENT_TYPE": "New",
         "count": 1,
         "_deepnote_index_column": 49
        },
        {
         "SK_ID_CURR": 100030,
         "NAME_CLIENT_TYPE": "New",
         "count": 1,
         "_deepnote_index_column": 50
        },
        {
         "SK_ID_CURR": 100030,
         "NAME_CLIENT_TYPE": "Refreshed",
         "count": 6,
         "_deepnote_index_column": 51
        },
        {
         "SK_ID_CURR": 100030,
         "NAME_CLIENT_TYPE": "Repeater",
         "count": 5,
         "_deepnote_index_column": 52
        },
        {
         "SK_ID_CURR": 100032,
         "NAME_CLIENT_TYPE": "New",
         "count": 1,
         "_deepnote_index_column": 53
        },
        {
         "SK_ID_CURR": 100033,
         "NAME_CLIENT_TYPE": "New",
         "count": 1,
         "_deepnote_index_column": 54
        },
        {
         "SK_ID_CURR": 100034,
         "NAME_CLIENT_TYPE": "New",
         "count": 1,
         "_deepnote_index_column": 55
        },
        {
         "SK_ID_CURR": 100034,
         "NAME_CLIENT_TYPE": "Repeater",
         "count": 1,
         "_deepnote_index_column": 56
        },
        {
         "SK_ID_CURR": 100035,
         "NAME_CLIENT_TYPE": "New",
         "count": 1,
         "_deepnote_index_column": 57
        },
        {
         "SK_ID_CURR": 100035,
         "NAME_CLIENT_TYPE": "Repeater",
         "count": 21,
         "_deepnote_index_column": 58
        },
        {
         "SK_ID_CURR": 100036,
         "NAME_CLIENT_TYPE": "New",
         "count": 2,
         "_deepnote_index_column": 59
        },
        {
         "SK_ID_CURR": 100036,
         "NAME_CLIENT_TYPE": "Repeater",
         "count": 6,
         "_deepnote_index_column": 60
        },
        {
         "SK_ID_CURR": 100037,
         "NAME_CLIENT_TYPE": "New",
         "count": 1,
         "_deepnote_index_column": 61
        },
        {
         "SK_ID_CURR": 100037,
         "NAME_CLIENT_TYPE": "Refreshed",
         "count": 3,
         "_deepnote_index_column": 62
        },
        {
         "SK_ID_CURR": 100037,
         "NAME_CLIENT_TYPE": "Repeater",
         "count": 1,
         "_deepnote_index_column": 63
        },
        {
         "SK_ID_CURR": 100038,
         "NAME_CLIENT_TYPE": "New",
         "count": 2,
         "_deepnote_index_column": 64
        },
        {
         "SK_ID_CURR": 100039,
         "NAME_CLIENT_TYPE": "New",
         "count": 1,
         "_deepnote_index_column": 65
        },
        {
         "SK_ID_CURR": 100039,
         "NAME_CLIENT_TYPE": "Refreshed",
         "count": 1,
         "_deepnote_index_column": 66
        },
        {
         "SK_ID_CURR": 100039,
         "NAME_CLIENT_TYPE": "Repeater",
         "count": 2,
         "_deepnote_index_column": 67
        },
        {
         "SK_ID_CURR": 100040,
         "NAME_CLIENT_TYPE": "Refreshed",
         "count": 1,
         "_deepnote_index_column": 68
        },
        {
         "SK_ID_CURR": 100041,
         "NAME_CLIENT_TYPE": "New",
         "count": 1,
         "_deepnote_index_column": 69
        },
        {
         "SK_ID_CURR": 100041,
         "NAME_CLIENT_TYPE": "Refreshed",
         "count": 1,
         "_deepnote_index_column": 70
        },
        {
         "SK_ID_CURR": 100042,
         "NAME_CLIENT_TYPE": "New",
         "count": 1,
         "_deepnote_index_column": 71
        },
        {
         "SK_ID_CURR": 100042,
         "NAME_CLIENT_TYPE": "Repeater",
         "count": 8,
         "_deepnote_index_column": 72
        },
        {
         "SK_ID_CURR": 100043,
         "NAME_CLIENT_TYPE": "New",
         "count": 1,
         "_deepnote_index_column": 73
        },
        {
         "SK_ID_CURR": 100043,
         "NAME_CLIENT_TYPE": "Refreshed",
         "count": 1,
         "_deepnote_index_column": 74
        },
        {
         "SK_ID_CURR": 100043,
         "NAME_CLIENT_TYPE": "Repeater",
         "count": 3,
         "_deepnote_index_column": 75
        },
        {
         "SK_ID_CURR": 100043,
         "NAME_CLIENT_TYPE": "XNA",
         "count": 4,
         "_deepnote_index_column": 76
        },
        {
         "SK_ID_CURR": 100044,
         "NAME_CLIENT_TYPE": "New",
         "count": 1,
         "_deepnote_index_column": 77
        },
        {
         "SK_ID_CURR": 100044,
         "NAME_CLIENT_TYPE": "Repeater",
         "count": 3,
         "_deepnote_index_column": 78
        },
        {
         "SK_ID_CURR": 100045,
         "NAME_CLIENT_TYPE": "New",
         "count": 1,
         "_deepnote_index_column": 79
        },
        {
         "SK_ID_CURR": 100045,
         "NAME_CLIENT_TYPE": "Repeater",
         "count": 3,
         "_deepnote_index_column": 80
        },
        {
         "SK_ID_CURR": 100046,
         "NAME_CLIENT_TYPE": "New",
         "count": 1,
         "_deepnote_index_column": 81
        },
        {
         "SK_ID_CURR": 100046,
         "NAME_CLIENT_TYPE": "Repeater",
         "count": 1,
         "_deepnote_index_column": 82
        },
        {
         "SK_ID_CURR": 100047,
         "NAME_CLIENT_TYPE": "New",
         "count": 1,
         "_deepnote_index_column": 83
        },
        {
         "SK_ID_CURR": 100047,
         "NAME_CLIENT_TYPE": "Refreshed",
         "count": 1,
         "_deepnote_index_column": 84
        },
        {
         "SK_ID_CURR": 100047,
         "NAME_CLIENT_TYPE": "Repeater",
         "count": 4,
         "_deepnote_index_column": 85
        },
        {
         "SK_ID_CURR": 100048,
         "NAME_CLIENT_TYPE": "New",
         "count": 1,
         "_deepnote_index_column": 86
        },
        {
         "SK_ID_CURR": 100048,
         "NAME_CLIENT_TYPE": "Repeater",
         "count": 3,
         "_deepnote_index_column": 87
        },
        {
         "SK_ID_CURR": 100049,
         "NAME_CLIENT_TYPE": "New",
         "count": 1,
         "_deepnote_index_column": 88
        },
        {
         "SK_ID_CURR": 100049,
         "NAME_CLIENT_TYPE": "Repeater",
         "count": 4,
         "_deepnote_index_column": 89
        },
        {
         "SK_ID_CURR": 100050,
         "NAME_CLIENT_TYPE": "New",
         "count": 1,
         "_deepnote_index_column": 90
        },
        {
         "SK_ID_CURR": 100050,
         "NAME_CLIENT_TYPE": "Repeater",
         "count": 2,
         "_deepnote_index_column": 91
        },
        {
         "SK_ID_CURR": 100051,
         "NAME_CLIENT_TYPE": "New",
         "count": 1,
         "_deepnote_index_column": 92
        },
        {
         "SK_ID_CURR": 100051,
         "NAME_CLIENT_TYPE": "Repeater",
         "count": 2,
         "_deepnote_index_column": 93
        },
        {
         "SK_ID_CURR": 100052,
         "NAME_CLIENT_TYPE": "New",
         "count": 1,
         "_deepnote_index_column": 94
        },
        {
         "SK_ID_CURR": 100052,
         "NAME_CLIENT_TYPE": "Repeater",
         "count": 1,
         "_deepnote_index_column": 95
        },
        {
         "SK_ID_CURR": 100053,
         "NAME_CLIENT_TYPE": "New",
         "count": 1,
         "_deepnote_index_column": 96
        },
        {
         "SK_ID_CURR": 100053,
         "NAME_CLIENT_TYPE": "Repeater",
         "count": 4,
         "_deepnote_index_column": 97
        },
        {
         "SK_ID_CURR": 100054,
         "NAME_CLIENT_TYPE": "New",
         "count": 1,
         "_deepnote_index_column": 98
        },
        {
         "SK_ID_CURR": 100054,
         "NAME_CLIENT_TYPE": "Repeater",
         "count": 4,
         "_deepnote_index_column": 99
        },
        {
         "SK_ID_CURR": 100055,
         "NAME_CLIENT_TYPE": "Refreshed",
         "count": 1,
         "_deepnote_index_column": 100
        },
        {
         "SK_ID_CURR": 100055,
         "NAME_CLIENT_TYPE": "Repeater",
         "count": 1,
         "_deepnote_index_column": 101
        },
        {
         "SK_ID_CURR": 100056,
         "NAME_CLIENT_TYPE": "New",
         "count": 1,
         "_deepnote_index_column": 102
        },
        {
         "SK_ID_CURR": 100056,
         "NAME_CLIENT_TYPE": "Repeater",
         "count": 2,
         "_deepnote_index_column": 103
        },
        {
         "SK_ID_CURR": 100057,
         "NAME_CLIENT_TYPE": "Refreshed",
         "count": 2,
         "_deepnote_index_column": 104
        },
        {
         "SK_ID_CURR": 100057,
         "NAME_CLIENT_TYPE": "Repeater",
         "count": 1,
         "_deepnote_index_column": 105
        },
        {
         "SK_ID_CURR": 100057,
         "NAME_CLIENT_TYPE": "XNA",
         "count": 1,
         "_deepnote_index_column": 106
        },
        {
         "SK_ID_CURR": 100059,
         "NAME_CLIENT_TYPE": "New",
         "count": 2,
         "_deepnote_index_column": 107
        },
        {
         "SK_ID_CURR": 100059,
         "NAME_CLIENT_TYPE": "Refreshed",
         "count": 3,
         "_deepnote_index_column": 108
        },
        {
         "SK_ID_CURR": 100059,
         "NAME_CLIENT_TYPE": "Repeater",
         "count": 13,
         "_deepnote_index_column": 109
        },
        {
         "SK_ID_CURR": 100060,
         "NAME_CLIENT_TYPE": "New",
         "count": 1,
         "_deepnote_index_column": 110
        },
        {
         "SK_ID_CURR": 100061,
         "NAME_CLIENT_TYPE": "New",
         "count": 1,
         "_deepnote_index_column": 111
        },
        {
         "SK_ID_CURR": 100061,
         "NAME_CLIENT_TYPE": "Repeater",
         "count": 5,
         "_deepnote_index_column": 112
        },
        {
         "SK_ID_CURR": 100062,
         "NAME_CLIENT_TYPE": "Refreshed",
         "count": 1,
         "_deepnote_index_column": 113
        },
        {
         "SK_ID_CURR": 100062,
         "NAME_CLIENT_TYPE": "Repeater",
         "count": 9,
         "_deepnote_index_column": 114
        },
        {
         "SK_ID_CURR": 100063,
         "NAME_CLIENT_TYPE": "New",
         "count": 1,
         "_deepnote_index_column": 115
        },
        {
         "SK_ID_CURR": 100063,
         "NAME_CLIENT_TYPE": "Repeater",
         "count": 8,
         "_deepnote_index_column": 116
        },
        {
         "SK_ID_CURR": 100064,
         "NAME_CLIENT_TYPE": "New",
         "count": 1,
         "_deepnote_index_column": 117
        },
        {
         "SK_ID_CURR": 100065,
         "NAME_CLIENT_TYPE": "New",
         "count": 1,
         "_deepnote_index_column": 118
        },
        {
         "SK_ID_CURR": 100065,
         "NAME_CLIENT_TYPE": "Repeater",
         "count": 1,
         "_deepnote_index_column": 119
        },
        {
         "SK_ID_CURR": 100066,
         "NAME_CLIENT_TYPE": "New",
         "count": 1,
         "_deepnote_index_column": 120
        },
        {
         "SK_ID_CURR": 100066,
         "NAME_CLIENT_TYPE": "Repeater",
         "count": 8,
         "_deepnote_index_column": 121
        },
        {
         "SK_ID_CURR": 100067,
         "NAME_CLIENT_TYPE": "New",
         "count": 1,
         "_deepnote_index_column": 122
        },
        {
         "SK_ID_CURR": 100067,
         "NAME_CLIENT_TYPE": "Repeater",
         "count": 22,
         "_deepnote_index_column": 123
        },
        {
         "SK_ID_CURR": 100068,
         "NAME_CLIENT_TYPE": "New",
         "count": 1,
         "_deepnote_index_column": 124
        },
        {
         "SK_ID_CURR": 100069,
         "NAME_CLIENT_TYPE": "New",
         "count": 1,
         "_deepnote_index_column": 125
        },
        {
         "SK_ID_CURR": 100069,
         "NAME_CLIENT_TYPE": "Repeater",
         "count": 6,
         "_deepnote_index_column": 126
        },
        {
         "SK_ID_CURR": 100070,
         "NAME_CLIENT_TYPE": "New",
         "count": 1,
         "_deepnote_index_column": 127
        },
        {
         "SK_ID_CURR": 100070,
         "NAME_CLIENT_TYPE": "Repeater",
         "count": 1,
         "_deepnote_index_column": 128
        },
        {
         "SK_ID_CURR": 100071,
         "NAME_CLIENT_TYPE": "New",
         "count": 1,
         "_deepnote_index_column": 129
        },
        {
         "SK_ID_CURR": 100071,
         "NAME_CLIENT_TYPE": "Repeater",
         "count": 1,
         "_deepnote_index_column": 130
        },
        {
         "SK_ID_CURR": 100072,
         "NAME_CLIENT_TYPE": "New",
         "count": 1,
         "_deepnote_index_column": 131
        },
        {
         "SK_ID_CURR": 100072,
         "NAME_CLIENT_TYPE": "Repeater",
         "count": 9,
         "_deepnote_index_column": 132
        },
        {
         "SK_ID_CURR": 100073,
         "NAME_CLIENT_TYPE": "New",
         "count": 2,
         "_deepnote_index_column": 133
        },
        {
         "SK_ID_CURR": 100073,
         "NAME_CLIENT_TYPE": "Refreshed",
         "count": 1,
         "_deepnote_index_column": 134
        },
        {
         "SK_ID_CURR": 100073,
         "NAME_CLIENT_TYPE": "Repeater",
         "count": 5,
         "_deepnote_index_column": 135
        },
        {
         "SK_ID_CURR": 100073,
         "NAME_CLIENT_TYPE": "XNA",
         "count": 1,
         "_deepnote_index_column": 136
        },
        {
         "SK_ID_CURR": 100074,
         "NAME_CLIENT_TYPE": "New",
         "count": 1,
         "_deepnote_index_column": 137
        },
        {
         "SK_ID_CURR": 100074,
         "NAME_CLIENT_TYPE": "Refreshed",
         "count": 1,
         "_deepnote_index_column": 138
        },
        {
         "SK_ID_CURR": 100075,
         "NAME_CLIENT_TYPE": "New",
         "count": 1,
         "_deepnote_index_column": 139
        },
        {
         "SK_ID_CURR": 100075,
         "NAME_CLIENT_TYPE": "Repeater",
         "count": 6,
         "_deepnote_index_column": 140
        },
        {
         "SK_ID_CURR": 100077,
         "NAME_CLIENT_TYPE": "Refreshed",
         "count": 5,
         "_deepnote_index_column": 141
        },
        {
         "SK_ID_CURR": 100077,
         "NAME_CLIENT_TYPE": "Repeater",
         "count": 21,
         "_deepnote_index_column": 142
        },
        {
         "SK_ID_CURR": 100078,
         "NAME_CLIENT_TYPE": "Repeater",
         "count": 11,
         "_deepnote_index_column": 143
        },
        {
         "SK_ID_CURR": 100079,
         "NAME_CLIENT_TYPE": "New",
         "count": 1,
         "_deepnote_index_column": 144
        },
        {
         "SK_ID_CURR": 100079,
         "NAME_CLIENT_TYPE": "Repeater",
         "count": 2,
         "_deepnote_index_column": 145
        },
        {
         "SK_ID_CURR": 100080,
         "NAME_CLIENT_TYPE": "New",
         "count": 1,
         "_deepnote_index_column": 146
        },
        {
         "SK_ID_CURR": 100080,
         "NAME_CLIENT_TYPE": "Repeater",
         "count": 6,
         "_deepnote_index_column": 147
        },
        {
         "SK_ID_CURR": 100081,
         "NAME_CLIENT_TYPE": "New",
         "count": 1,
         "_deepnote_index_column": 148
        },
        {
         "SK_ID_CURR": 100082,
         "NAME_CLIENT_TYPE": "Repeater",
         "count": 15,
         "_deepnote_index_column": 149
        },
        {
         "SK_ID_CURR": 100083,
         "NAME_CLIENT_TYPE": "New",
         "count": 1,
         "_deepnote_index_column": 150
        },
        {
         "SK_ID_CURR": 100083,
         "NAME_CLIENT_TYPE": "Refreshed",
         "count": 2,
         "_deepnote_index_column": 151
        },
        {
         "SK_ID_CURR": 100084,
         "NAME_CLIENT_TYPE": "New",
         "count": 1,
         "_deepnote_index_column": 152
        },
        {
         "SK_ID_CURR": 100084,
         "NAME_CLIENT_TYPE": "Refreshed",
         "count": 3,
         "_deepnote_index_column": 153
        },
        {
         "SK_ID_CURR": 100084,
         "NAME_CLIENT_TYPE": "Repeater",
         "count": 3,
         "_deepnote_index_column": 154
        },
        {
         "SK_ID_CURR": 100085,
         "NAME_CLIENT_TYPE": "New",
         "count": 1,
         "_deepnote_index_column": 155
        },
        {
         "SK_ID_CURR": 100085,
         "NAME_CLIENT_TYPE": "Repeater",
         "count": 2,
         "_deepnote_index_column": 156
        },
        {
         "SK_ID_CURR": 100086,
         "NAME_CLIENT_TYPE": "Repeater",
         "count": 7,
         "_deepnote_index_column": 157
        },
        {
         "SK_ID_CURR": 100087,
         "NAME_CLIENT_TYPE": "New",
         "count": 1,
         "_deepnote_index_column": 158
        },
        {
         "SK_ID_CURR": 100087,
         "NAME_CLIENT_TYPE": "Repeater",
         "count": 4,
         "_deepnote_index_column": 159
        },
        {
         "SK_ID_CURR": 100088,
         "NAME_CLIENT_TYPE": "New",
         "count": 1,
         "_deepnote_index_column": 160
        },
        {
         "SK_ID_CURR": 100088,
         "NAME_CLIENT_TYPE": "Refreshed",
         "count": 1,
         "_deepnote_index_column": 161
        },
        {
         "SK_ID_CURR": 100089,
         "NAME_CLIENT_TYPE": "New",
         "count": 1,
         "_deepnote_index_column": 162
        },
        {
         "SK_ID_CURR": 100089,
         "NAME_CLIENT_TYPE": "Refreshed",
         "count": 2,
         "_deepnote_index_column": 163
        },
        {
         "SK_ID_CURR": 100089,
         "NAME_CLIENT_TYPE": "Repeater",
         "count": 1,
         "_deepnote_index_column": 164
        },
        {
         "SK_ID_CURR": 100090,
         "NAME_CLIENT_TYPE": "New",
         "count": 1,
         "_deepnote_index_column": 165
        }
       ],
       "rows_bottom": [
        {
         "SK_ID_CURR": 456163,
         "NAME_CLIENT_TYPE": "Repeater",
         "count": 5,
         "_deepnote_index_column": 622958
        },
        {
         "SK_ID_CURR": 456164,
         "NAME_CLIENT_TYPE": "New",
         "count": 1,
         "_deepnote_index_column": 622959
        },
        {
         "SK_ID_CURR": 456164,
         "NAME_CLIENT_TYPE": "Repeater",
         "count": 2,
         "_deepnote_index_column": 622960
        },
        {
         "SK_ID_CURR": 456165,
         "NAME_CLIENT_TYPE": "Refreshed",
         "count": 1,
         "_deepnote_index_column": 622961
        },
        {
         "SK_ID_CURR": 456165,
         "NAME_CLIENT_TYPE": "Repeater",
         "count": 3,
         "_deepnote_index_column": 622962
        },
        {
         "SK_ID_CURR": 456166,
         "NAME_CLIENT_TYPE": "New",
         "count": 1,
         "_deepnote_index_column": 622963
        },
        {
         "SK_ID_CURR": 456166,
         "NAME_CLIENT_TYPE": "Repeater",
         "count": 4,
         "_deepnote_index_column": 622964
        },
        {
         "SK_ID_CURR": 456166,
         "NAME_CLIENT_TYPE": "XNA",
         "count": 1,
         "_deepnote_index_column": 622965
        },
        {
         "SK_ID_CURR": 456167,
         "NAME_CLIENT_TYPE": "New",
         "count": 1,
         "_deepnote_index_column": 622966
        },
        {
         "SK_ID_CURR": 456167,
         "NAME_CLIENT_TYPE": "Repeater",
         "count": 3,
         "_deepnote_index_column": 622967
        },
        {
         "SK_ID_CURR": 456168,
         "NAME_CLIENT_TYPE": "New",
         "count": 1,
         "_deepnote_index_column": 622968
        },
        {
         "SK_ID_CURR": 456168,
         "NAME_CLIENT_TYPE": "Repeater",
         "count": 2,
         "_deepnote_index_column": 622969
        },
        {
         "SK_ID_CURR": 456169,
         "NAME_CLIENT_TYPE": "New",
         "count": 1,
         "_deepnote_index_column": 622970
        },
        {
         "SK_ID_CURR": 456169,
         "NAME_CLIENT_TYPE": "Repeater",
         "count": 7,
         "_deepnote_index_column": 622971
        },
        {
         "SK_ID_CURR": 456170,
         "NAME_CLIENT_TYPE": "New",
         "count": 1,
         "_deepnote_index_column": 622972
        },
        {
         "SK_ID_CURR": 456170,
         "NAME_CLIENT_TYPE": "XNA",
         "count": 1,
         "_deepnote_index_column": 622973
        },
        {
         "SK_ID_CURR": 456171,
         "NAME_CLIENT_TYPE": "New",
         "count": 1,
         "_deepnote_index_column": 622974
        },
        {
         "SK_ID_CURR": 456171,
         "NAME_CLIENT_TYPE": "Repeater",
         "count": 11,
         "_deepnote_index_column": 622975
        },
        {
         "SK_ID_CURR": 456172,
         "NAME_CLIENT_TYPE": "New",
         "count": 1,
         "_deepnote_index_column": 622976
        },
        {
         "SK_ID_CURR": 456172,
         "NAME_CLIENT_TYPE": "Repeater",
         "count": 1,
         "_deepnote_index_column": 622977
        },
        {
         "SK_ID_CURR": 456173,
         "NAME_CLIENT_TYPE": "Repeater",
         "count": 2,
         "_deepnote_index_column": 622978
        },
        {
         "SK_ID_CURR": 456174,
         "NAME_CLIENT_TYPE": "New",
         "count": 1,
         "_deepnote_index_column": 622979
        },
        {
         "SK_ID_CURR": 456174,
         "NAME_CLIENT_TYPE": "Repeater",
         "count": 2,
         "_deepnote_index_column": 622980
        },
        {
         "SK_ID_CURR": 456175,
         "NAME_CLIENT_TYPE": "New",
         "count": 4,
         "_deepnote_index_column": 622981
        },
        {
         "SK_ID_CURR": 456175,
         "NAME_CLIENT_TYPE": "Refreshed",
         "count": 1,
         "_deepnote_index_column": 622982
        },
        {
         "SK_ID_CURR": 456175,
         "NAME_CLIENT_TYPE": "Repeater",
         "count": 1,
         "_deepnote_index_column": 622983
        },
        {
         "SK_ID_CURR": 456176,
         "NAME_CLIENT_TYPE": "New",
         "count": 1,
         "_deepnote_index_column": 622984
        },
        {
         "SK_ID_CURR": 456176,
         "NAME_CLIENT_TYPE": "Repeater",
         "count": 1,
         "_deepnote_index_column": 622985
        },
        {
         "SK_ID_CURR": 456177,
         "NAME_CLIENT_TYPE": "New",
         "count": 1,
         "_deepnote_index_column": 622986
        },
        {
         "SK_ID_CURR": 456178,
         "NAME_CLIENT_TYPE": "New",
         "count": 2,
         "_deepnote_index_column": 622987
        },
        {
         "SK_ID_CURR": 456179,
         "NAME_CLIENT_TYPE": "New",
         "count": 1,
         "_deepnote_index_column": 622988
        },
        {
         "SK_ID_CURR": 456179,
         "NAME_CLIENT_TYPE": "Repeater",
         "count": 6,
         "_deepnote_index_column": 622989
        },
        {
         "SK_ID_CURR": 456180,
         "NAME_CLIENT_TYPE": "New",
         "count": 1,
         "_deepnote_index_column": 622990
        },
        {
         "SK_ID_CURR": 456180,
         "NAME_CLIENT_TYPE": "Repeater",
         "count": 7,
         "_deepnote_index_column": 622991
        },
        {
         "SK_ID_CURR": 456181,
         "NAME_CLIENT_TYPE": "New",
         "count": 1,
         "_deepnote_index_column": 622992
        },
        {
         "SK_ID_CURR": 456182,
         "NAME_CLIENT_TYPE": "New",
         "count": 1,
         "_deepnote_index_column": 622993
        },
        {
         "SK_ID_CURR": 456183,
         "NAME_CLIENT_TYPE": "New",
         "count": 1,
         "_deepnote_index_column": 622994
        },
        {
         "SK_ID_CURR": 456183,
         "NAME_CLIENT_TYPE": "Repeater",
         "count": 3,
         "_deepnote_index_column": 622995
        },
        {
         "SK_ID_CURR": 456184,
         "NAME_CLIENT_TYPE": "New",
         "count": 1,
         "_deepnote_index_column": 622996
        },
        {
         "SK_ID_CURR": 456184,
         "NAME_CLIENT_TYPE": "Refreshed",
         "count": 1,
         "_deepnote_index_column": 622997
        },
        {
         "SK_ID_CURR": 456184,
         "NAME_CLIENT_TYPE": "Repeater",
         "count": 3,
         "_deepnote_index_column": 622998
        },
        {
         "SK_ID_CURR": 456185,
         "NAME_CLIENT_TYPE": "New",
         "count": 1,
         "_deepnote_index_column": 622999
        },
        {
         "SK_ID_CURR": 456185,
         "NAME_CLIENT_TYPE": "Repeater",
         "count": 5,
         "_deepnote_index_column": 623000
        },
        {
         "SK_ID_CURR": 456186,
         "NAME_CLIENT_TYPE": "New",
         "count": 2,
         "_deepnote_index_column": 623001
        },
        {
         "SK_ID_CURR": 456186,
         "NAME_CLIENT_TYPE": "Repeater",
         "count": 4,
         "_deepnote_index_column": 623002
        },
        {
         "SK_ID_CURR": 456188,
         "NAME_CLIENT_TYPE": "Repeater",
         "count": 1,
         "_deepnote_index_column": 623003
        },
        {
         "SK_ID_CURR": 456189,
         "NAME_CLIENT_TYPE": "New",
         "count": 1,
         "_deepnote_index_column": 623004
        },
        {
         "SK_ID_CURR": 456189,
         "NAME_CLIENT_TYPE": "Repeater",
         "count": 10,
         "_deepnote_index_column": 623005
        },
        {
         "SK_ID_CURR": 456190,
         "NAME_CLIENT_TYPE": "New",
         "count": 2,
         "_deepnote_index_column": 623006
        },
        {
         "SK_ID_CURR": 456191,
         "NAME_CLIENT_TYPE": "New",
         "count": 1,
         "_deepnote_index_column": 623007
        },
        {
         "SK_ID_CURR": 456192,
         "NAME_CLIENT_TYPE": "New",
         "count": 1,
         "_deepnote_index_column": 623008
        },
        {
         "SK_ID_CURR": 456192,
         "NAME_CLIENT_TYPE": "Repeater",
         "count": 3,
         "_deepnote_index_column": 623009
        },
        {
         "SK_ID_CURR": 456193,
         "NAME_CLIENT_TYPE": "New",
         "count": 1,
         "_deepnote_index_column": 623010
        },
        {
         "SK_ID_CURR": 456194,
         "NAME_CLIENT_TYPE": "New",
         "count": 3,
         "_deepnote_index_column": 623011
        },
        {
         "SK_ID_CURR": 456194,
         "NAME_CLIENT_TYPE": "Repeater",
         "count": 1,
         "_deepnote_index_column": 623012
        },
        {
         "SK_ID_CURR": 456195,
         "NAME_CLIENT_TYPE": "Refreshed",
         "count": 1,
         "_deepnote_index_column": 623013
        },
        {
         "SK_ID_CURR": 456195,
         "NAME_CLIENT_TYPE": "Repeater",
         "count": 6,
         "_deepnote_index_column": 623014
        },
        {
         "SK_ID_CURR": 456196,
         "NAME_CLIENT_TYPE": "New",
         "count": 1,
         "_deepnote_index_column": 623015
        },
        {
         "SK_ID_CURR": 456196,
         "NAME_CLIENT_TYPE": "Refreshed",
         "count": 1,
         "_deepnote_index_column": 623016
        },
        {
         "SK_ID_CURR": 456197,
         "NAME_CLIENT_TYPE": "Refreshed",
         "count": 1,
         "_deepnote_index_column": 623017
        },
        {
         "SK_ID_CURR": 456197,
         "NAME_CLIENT_TYPE": "Repeater",
         "count": 5,
         "_deepnote_index_column": 623018
        },
        {
         "SK_ID_CURR": 456198,
         "NAME_CLIENT_TYPE": "Repeater",
         "count": 5,
         "_deepnote_index_column": 623019
        },
        {
         "SK_ID_CURR": 456199,
         "NAME_CLIENT_TYPE": "Repeater",
         "count": 12,
         "_deepnote_index_column": 623020
        },
        {
         "SK_ID_CURR": 456200,
         "NAME_CLIENT_TYPE": "New",
         "count": 1,
         "_deepnote_index_column": 623021
        },
        {
         "SK_ID_CURR": 456200,
         "NAME_CLIENT_TYPE": "Repeater",
         "count": 6,
         "_deepnote_index_column": 623022
        },
        {
         "SK_ID_CURR": 456201,
         "NAME_CLIENT_TYPE": "New",
         "count": 1,
         "_deepnote_index_column": 623023
        },
        {
         "SK_ID_CURR": 456201,
         "NAME_CLIENT_TYPE": "Repeater",
         "count": 6,
         "_deepnote_index_column": 623024
        },
        {
         "SK_ID_CURR": 456202,
         "NAME_CLIENT_TYPE": "New",
         "count": 1,
         "_deepnote_index_column": 623025
        },
        {
         "SK_ID_CURR": 456202,
         "NAME_CLIENT_TYPE": "Repeater",
         "count": 5,
         "_deepnote_index_column": 623026
        },
        {
         "SK_ID_CURR": 456203,
         "NAME_CLIENT_TYPE": "Refreshed",
         "count": 3,
         "_deepnote_index_column": 623027
        },
        {
         "SK_ID_CURR": 456203,
         "NAME_CLIENT_TYPE": "Repeater",
         "count": 3,
         "_deepnote_index_column": 623028
        },
        {
         "SK_ID_CURR": 456204,
         "NAME_CLIENT_TYPE": "Refreshed",
         "count": 1,
         "_deepnote_index_column": 623029
        },
        {
         "SK_ID_CURR": 456204,
         "NAME_CLIENT_TYPE": "Repeater",
         "count": 4,
         "_deepnote_index_column": 623030
        },
        {
         "SK_ID_CURR": 456205,
         "NAME_CLIENT_TYPE": "New",
         "count": 1,
         "_deepnote_index_column": 623031
        },
        {
         "SK_ID_CURR": 456205,
         "NAME_CLIENT_TYPE": "Repeater",
         "count": 2,
         "_deepnote_index_column": 623032
        },
        {
         "SK_ID_CURR": 456206,
         "NAME_CLIENT_TYPE": "New",
         "count": 1,
         "_deepnote_index_column": 623033
        },
        {
         "SK_ID_CURR": 456206,
         "NAME_CLIENT_TYPE": "Repeater",
         "count": 3,
         "_deepnote_index_column": 623034
        },
        {
         "SK_ID_CURR": 456207,
         "NAME_CLIENT_TYPE": "New",
         "count": 1,
         "_deepnote_index_column": 623035
        },
        {
         "SK_ID_CURR": 456208,
         "NAME_CLIENT_TYPE": "New",
         "count": 1,
         "_deepnote_index_column": 623036
        },
        {
         "SK_ID_CURR": 456208,
         "NAME_CLIENT_TYPE": "Repeater",
         "count": 3,
         "_deepnote_index_column": 623037
        },
        {
         "SK_ID_CURR": 456209,
         "NAME_CLIENT_TYPE": "New",
         "count": 1,
         "_deepnote_index_column": 623038
        },
        {
         "SK_ID_CURR": 456209,
         "NAME_CLIENT_TYPE": "Repeater",
         "count": 1,
         "_deepnote_index_column": 623039
        },
        {
         "SK_ID_CURR": 456210,
         "NAME_CLIENT_TYPE": "New",
         "count": 1,
         "_deepnote_index_column": 623040
        },
        {
         "SK_ID_CURR": 456210,
         "NAME_CLIENT_TYPE": "Repeater",
         "count": 9,
         "_deepnote_index_column": 623041
        },
        {
         "SK_ID_CURR": 456211,
         "NAME_CLIENT_TYPE": "New",
         "count": 1,
         "_deepnote_index_column": 623042
        },
        {
         "SK_ID_CURR": 456211,
         "NAME_CLIENT_TYPE": "Repeater",
         "count": 6,
         "_deepnote_index_column": 623043
        },
        {
         "SK_ID_CURR": 456212,
         "NAME_CLIENT_TYPE": "New",
         "count": 1,
         "_deepnote_index_column": 623044
        },
        {
         "SK_ID_CURR": 456212,
         "NAME_CLIENT_TYPE": "Repeater",
         "count": 1,
         "_deepnote_index_column": 623045
        },
        {
         "SK_ID_CURR": 456213,
         "NAME_CLIENT_TYPE": "New",
         "count": 1,
         "_deepnote_index_column": 623046
        },
        {
         "SK_ID_CURR": 456213,
         "NAME_CLIENT_TYPE": "Repeater",
         "count": 3,
         "_deepnote_index_column": 623047
        },
        {
         "SK_ID_CURR": 456214,
         "NAME_CLIENT_TYPE": "New",
         "count": 1,
         "_deepnote_index_column": 623048
        },
        {
         "SK_ID_CURR": 456214,
         "NAME_CLIENT_TYPE": "Refreshed",
         "count": 1,
         "_deepnote_index_column": 623049
        },
        {
         "SK_ID_CURR": 456214,
         "NAME_CLIENT_TYPE": "Repeater",
         "count": 3,
         "_deepnote_index_column": 623050
        },
        {
         "SK_ID_CURR": 456215,
         "NAME_CLIENT_TYPE": "Repeater",
         "count": 11,
         "_deepnote_index_column": 623051
        },
        {
         "SK_ID_CURR": 456216,
         "NAME_CLIENT_TYPE": "Refreshed",
         "count": 1,
         "_deepnote_index_column": 623052
        },
        {
         "SK_ID_CURR": 456216,
         "NAME_CLIENT_TYPE": "Repeater",
         "count": 2,
         "_deepnote_index_column": 623053
        },
        {
         "SK_ID_CURR": 456217,
         "NAME_CLIENT_TYPE": "Repeater",
         "count": 13,
         "_deepnote_index_column": 623054
        },
        {
         "SK_ID_CURR": 456218,
         "NAME_CLIENT_TYPE": "New",
         "count": 1,
         "_deepnote_index_column": 623055
        },
        {
         "SK_ID_CURR": 456218,
         "NAME_CLIENT_TYPE": "Repeater",
         "count": 1,
         "_deepnote_index_column": 623056
        },
        {
         "SK_ID_CURR": 456219,
         "NAME_CLIENT_TYPE": "New",
         "count": 1,
         "_deepnote_index_column": 623057
        },
        {
         "SK_ID_CURR": 456219,
         "NAME_CLIENT_TYPE": "Repeater",
         "count": 1,
         "_deepnote_index_column": 623058
        },
        {
         "SK_ID_CURR": 456220,
         "NAME_CLIENT_TYPE": "Refreshed",
         "count": 2,
         "_deepnote_index_column": 623059
        },
        {
         "SK_ID_CURR": 456220,
         "NAME_CLIENT_TYPE": "Repeater",
         "count": 3,
         "_deepnote_index_column": 623060
        },
        {
         "SK_ID_CURR": 456221,
         "NAME_CLIENT_TYPE": "New",
         "count": 1,
         "_deepnote_index_column": 623061
        },
        {
         "SK_ID_CURR": 456222,
         "NAME_CLIENT_TYPE": "New",
         "count": 1,
         "_deepnote_index_column": 623062
        },
        {
         "SK_ID_CURR": 456222,
         "NAME_CLIENT_TYPE": "Refreshed",
         "count": 1,
         "_deepnote_index_column": 623063
        },
        {
         "SK_ID_CURR": 456222,
         "NAME_CLIENT_TYPE": "Repeater",
         "count": 2,
         "_deepnote_index_column": 623064
        },
        {
         "SK_ID_CURR": 456223,
         "NAME_CLIENT_TYPE": "New",
         "count": 1,
         "_deepnote_index_column": 623065
        },
        {
         "SK_ID_CURR": 456223,
         "NAME_CLIENT_TYPE": "Repeater",
         "count": 1,
         "_deepnote_index_column": 623066
        },
        {
         "SK_ID_CURR": 456224,
         "NAME_CLIENT_TYPE": "New",
         "count": 1,
         "_deepnote_index_column": 623067
        },
        {
         "SK_ID_CURR": 456224,
         "NAME_CLIENT_TYPE": "Refreshed",
         "count": 1,
         "_deepnote_index_column": 623068
        },
        {
         "SK_ID_CURR": 456224,
         "NAME_CLIENT_TYPE": "Repeater",
         "count": 3,
         "_deepnote_index_column": 623069
        },
        {
         "SK_ID_CURR": 456225,
         "NAME_CLIENT_TYPE": "Repeater",
         "count": 5,
         "_deepnote_index_column": 623070
        },
        {
         "SK_ID_CURR": 456226,
         "NAME_CLIENT_TYPE": "New",
         "count": 1,
         "_deepnote_index_column": 623071
        },
        {
         "SK_ID_CURR": 456227,
         "NAME_CLIENT_TYPE": "New",
         "count": 1,
         "_deepnote_index_column": 623072
        },
        {
         "SK_ID_CURR": 456227,
         "NAME_CLIENT_TYPE": "Refreshed",
         "count": 1,
         "_deepnote_index_column": 623073
        },
        {
         "SK_ID_CURR": 456227,
         "NAME_CLIENT_TYPE": "Repeater",
         "count": 6,
         "_deepnote_index_column": 623074
        },
        {
         "SK_ID_CURR": 456228,
         "NAME_CLIENT_TYPE": "Repeater",
         "count": 9,
         "_deepnote_index_column": 623075
        },
        {
         "SK_ID_CURR": 456230,
         "NAME_CLIENT_TYPE": "Refreshed",
         "count": 1,
         "_deepnote_index_column": 623076
        },
        {
         "SK_ID_CURR": 456230,
         "NAME_CLIENT_TYPE": "Repeater",
         "count": 4,
         "_deepnote_index_column": 623077
        },
        {
         "SK_ID_CURR": 456231,
         "NAME_CLIENT_TYPE": "New",
         "count": 1,
         "_deepnote_index_column": 623078
        },
        {
         "SK_ID_CURR": 456231,
         "NAME_CLIENT_TYPE": "Repeater",
         "count": 13,
         "_deepnote_index_column": 623079
        },
        {
         "SK_ID_CURR": 456232,
         "NAME_CLIENT_TYPE": "New",
         "count": 1,
         "_deepnote_index_column": 623080
        },
        {
         "SK_ID_CURR": 456232,
         "NAME_CLIENT_TYPE": "Repeater",
         "count": 3,
         "_deepnote_index_column": 623081
        },
        {
         "SK_ID_CURR": 456233,
         "NAME_CLIENT_TYPE": "New",
         "count": 2,
         "_deepnote_index_column": 623082
        },
        {
         "SK_ID_CURR": 456234,
         "NAME_CLIENT_TYPE": "New",
         "count": 1,
         "_deepnote_index_column": 623083
        },
        {
         "SK_ID_CURR": 456234,
         "NAME_CLIENT_TYPE": "Repeater",
         "count": 3,
         "_deepnote_index_column": 623084
        },
        {
         "SK_ID_CURR": 456235,
         "NAME_CLIENT_TYPE": "New",
         "count": 1,
         "_deepnote_index_column": 623085
        },
        {
         "SK_ID_CURR": 456235,
         "NAME_CLIENT_TYPE": "Repeater",
         "count": 4,
         "_deepnote_index_column": 623086
        },
        {
         "SK_ID_CURR": 456236,
         "NAME_CLIENT_TYPE": "Repeater",
         "count": 4,
         "_deepnote_index_column": 623087
        },
        {
         "SK_ID_CURR": 456237,
         "NAME_CLIENT_TYPE": "New",
         "count": 1,
         "_deepnote_index_column": 623088
        },
        {
         "SK_ID_CURR": 456237,
         "NAME_CLIENT_TYPE": "Repeater",
         "count": 8,
         "_deepnote_index_column": 623089
        },
        {
         "SK_ID_CURR": 456238,
         "NAME_CLIENT_TYPE": "New",
         "count": 1,
         "_deepnote_index_column": 623090
        },
        {
         "SK_ID_CURR": 456238,
         "NAME_CLIENT_TYPE": "Repeater",
         "count": 1,
         "_deepnote_index_column": 623091
        },
        {
         "SK_ID_CURR": 456239,
         "NAME_CLIENT_TYPE": "New",
         "count": 1,
         "_deepnote_index_column": 623092
        },
        {
         "SK_ID_CURR": 456239,
         "NAME_CLIENT_TYPE": "Repeater",
         "count": 1,
         "_deepnote_index_column": 623093
        },
        {
         "SK_ID_CURR": 456240,
         "NAME_CLIENT_TYPE": "New",
         "count": 1,
         "_deepnote_index_column": 623094
        },
        {
         "SK_ID_CURR": 456240,
         "NAME_CLIENT_TYPE": "Repeater",
         "count": 4,
         "_deepnote_index_column": 623095
        },
        {
         "SK_ID_CURR": 456241,
         "NAME_CLIENT_TYPE": "New",
         "count": 1,
         "_deepnote_index_column": 623096
        },
        {
         "SK_ID_CURR": 456241,
         "NAME_CLIENT_TYPE": "Repeater",
         "count": 8,
         "_deepnote_index_column": 623097
        },
        {
         "SK_ID_CURR": 456242,
         "NAME_CLIENT_TYPE": "New",
         "count": 1,
         "_deepnote_index_column": 623098
        },
        {
         "SK_ID_CURR": 456242,
         "NAME_CLIENT_TYPE": "Repeater",
         "count": 3,
         "_deepnote_index_column": 623099
        },
        {
         "SK_ID_CURR": 456243,
         "NAME_CLIENT_TYPE": "New",
         "count": 1,
         "_deepnote_index_column": 623100
        },
        {
         "SK_ID_CURR": 456243,
         "NAME_CLIENT_TYPE": "Refreshed",
         "count": 1,
         "_deepnote_index_column": 623101
        },
        {
         "SK_ID_CURR": 456243,
         "NAME_CLIENT_TYPE": "Repeater",
         "count": 5,
         "_deepnote_index_column": 623102
        },
        {
         "SK_ID_CURR": 456244,
         "NAME_CLIENT_TYPE": "New",
         "count": 1,
         "_deepnote_index_column": 623103
        },
        {
         "SK_ID_CURR": 456244,
         "NAME_CLIENT_TYPE": "Repeater",
         "count": 17,
         "_deepnote_index_column": 623104
        },
        {
         "SK_ID_CURR": 456245,
         "NAME_CLIENT_TYPE": "New",
         "count": 1,
         "_deepnote_index_column": 623105
        },
        {
         "SK_ID_CURR": 456245,
         "NAME_CLIENT_TYPE": "Repeater",
         "count": 1,
         "_deepnote_index_column": 623106
        },
        {
         "SK_ID_CURR": 456246,
         "NAME_CLIENT_TYPE": "New",
         "count": 1,
         "_deepnote_index_column": 623107
        },
        {
         "SK_ID_CURR": 456246,
         "NAME_CLIENT_TYPE": "Refreshed",
         "count": 1,
         "_deepnote_index_column": 623108
        },
        {
         "SK_ID_CURR": 456247,
         "NAME_CLIENT_TYPE": "Repeater",
         "count": 5,
         "_deepnote_index_column": 623109
        },
        {
         "SK_ID_CURR": 456248,
         "NAME_CLIENT_TYPE": "New",
         "count": 1,
         "_deepnote_index_column": 623110
        },
        {
         "SK_ID_CURR": 456248,
         "NAME_CLIENT_TYPE": "Refreshed",
         "count": 1,
         "_deepnote_index_column": 623111
        },
        {
         "SK_ID_CURR": 456248,
         "NAME_CLIENT_TYPE": "Repeater",
         "count": 2,
         "_deepnote_index_column": 623112
        },
        {
         "SK_ID_CURR": 456249,
         "NAME_CLIENT_TYPE": "New",
         "count": 1,
         "_deepnote_index_column": 623113
        },
        {
         "SK_ID_CURR": 456249,
         "NAME_CLIENT_TYPE": "Repeater",
         "count": 1,
         "_deepnote_index_column": 623114
        },
        {
         "SK_ID_CURR": 456250,
         "NAME_CLIENT_TYPE": "New",
         "count": 1,
         "_deepnote_index_column": 623115
        },
        {
         "SK_ID_CURR": 456250,
         "NAME_CLIENT_TYPE": "Repeater",
         "count": 7,
         "_deepnote_index_column": 623116
        },
        {
         "SK_ID_CURR": 456251,
         "NAME_CLIENT_TYPE": "New",
         "count": 1,
         "_deepnote_index_column": 623117
        },
        {
         "SK_ID_CURR": 456252,
         "NAME_CLIENT_TYPE": "New",
         "count": 1,
         "_deepnote_index_column": 623118
        },
        {
         "SK_ID_CURR": 456253,
         "NAME_CLIENT_TYPE": "Refreshed",
         "count": 1,
         "_deepnote_index_column": 623119
        },
        {
         "SK_ID_CURR": 456253,
         "NAME_CLIENT_TYPE": "Repeater",
         "count": 1,
         "_deepnote_index_column": 623120
        },
        {
         "SK_ID_CURR": 456254,
         "NAME_CLIENT_TYPE": "New",
         "count": 1,
         "_deepnote_index_column": 623121
        },
        {
         "SK_ID_CURR": 456254,
         "NAME_CLIENT_TYPE": "Repeater",
         "count": 1,
         "_deepnote_index_column": 623122
        },
        {
         "SK_ID_CURR": 456255,
         "NAME_CLIENT_TYPE": "Refreshed",
         "count": 1,
         "_deepnote_index_column": 623123
        },
        {
         "SK_ID_CURR": 456255,
         "NAME_CLIENT_TYPE": "Repeater",
         "count": 7,
         "_deepnote_index_column": 623124
        }
       ]
      },
      "text/plain": "        SK_ID_CURR NAME_CLIENT_TYPE  count\n0           100001        Refreshed      1\n1           100002              New      1\n2           100003        Refreshed      2\n3           100003         Repeater      1\n4           100004              New      1\n...            ...              ...    ...\n623120      456253         Repeater      1\n623121      456254              New      1\n623122      456254         Repeater      1\n623123      456255        Refreshed      1\n623124      456255         Repeater      7\n\n[623125 rows x 3 columns]",
      "text/html": "<div>\n<style scoped>\n    .dataframe tbody tr th:only-of-type {\n        vertical-align: middle;\n    }\n\n    .dataframe tbody tr th {\n        vertical-align: top;\n    }\n\n    .dataframe thead th {\n        text-align: right;\n    }\n</style>\n<table border=\"1\" class=\"dataframe\">\n  <thead>\n    <tr style=\"text-align: right;\">\n      <th></th>\n      <th>SK_ID_CURR</th>\n      <th>NAME_CLIENT_TYPE</th>\n      <th>count</th>\n    </tr>\n  </thead>\n  <tbody>\n    <tr>\n      <th>0</th>\n      <td>100001</td>\n      <td>Refreshed</td>\n      <td>1</td>\n    </tr>\n    <tr>\n      <th>1</th>\n      <td>100002</td>\n      <td>New</td>\n      <td>1</td>\n    </tr>\n    <tr>\n      <th>2</th>\n      <td>100003</td>\n      <td>Refreshed</td>\n      <td>2</td>\n    </tr>\n    <tr>\n      <th>3</th>\n      <td>100003</td>\n      <td>Repeater</td>\n      <td>1</td>\n    </tr>\n    <tr>\n      <th>4</th>\n      <td>100004</td>\n      <td>New</td>\n      <td>1</td>\n    </tr>\n    <tr>\n      <th>...</th>\n      <td>...</td>\n      <td>...</td>\n      <td>...</td>\n    </tr>\n    <tr>\n      <th>623120</th>\n      <td>456253</td>\n      <td>Repeater</td>\n      <td>1</td>\n    </tr>\n    <tr>\n      <th>623121</th>\n      <td>456254</td>\n      <td>New</td>\n      <td>1</td>\n    </tr>\n    <tr>\n      <th>623122</th>\n      <td>456254</td>\n      <td>Repeater</td>\n      <td>1</td>\n    </tr>\n    <tr>\n      <th>623123</th>\n      <td>456255</td>\n      <td>Refreshed</td>\n      <td>1</td>\n    </tr>\n    <tr>\n      <th>623124</th>\n      <td>456255</td>\n      <td>Repeater</td>\n      <td>7</td>\n    </tr>\n  </tbody>\n</table>\n<p>623125 rows × 3 columns</p>\n</div>"
     },
     "metadata": {}
    }
   ],
   "execution_count": null
  },
  {
   "cell_type": "code",
   "source": "sns.violinplot(x = prev_app.NAME_CLIENT_TYPE, y = approval_rate.Approved_rate)",
   "metadata": {
    "tags": [],
    "cell_id": "00018-aff9456c-78b7-4dbc-902f-0c7ef852ce95",
    "deepnote_to_be_reexecuted": true,
    "source_hash": "3262ef4b",
    "execution_start": 1628798609317,
    "execution_millis": 1651,
    "deepnote_cell_type": "code"
   },
   "outputs": [
    {
     "output_type": "execute_result",
     "execution_count": 71,
     "data": {
      "text/plain": "<AxesSubplot:xlabel='NAME_CLIENT_TYPE', ylabel='Approved_rate'>"
     },
     "metadata": {}
    },
    {
     "data": {
      "text/plain": "<Figure size 1080x720 with 1 Axes>",
      "image/png": "[encoded data removed]"
     },
     "metadata": {
      "needs_background": "light",
      "image/png": {
       "width": 891,
       "height": 592
      }
     },
     "output_type": "display_data"
    }
   ],
   "execution_count": null
  },
  {
   "cell_type": "code",
   "metadata": {
    "tags": [],
    "cell_id": "00015-dba8fcee-5f0b-42ba-8027-a1caf60cf1a1",
    "deepnote_to_be_reexecuted": true,
    "source_hash": "d4954618",
    "execution_start": 1628795591925,
    "execution_millis": 2789,
    "deepnote_cell_type": "code"
   },
   "source": "prev_app.sort_values(\"SK_ID_CURR\").head()",
   "outputs": [
    {
     "output_type": "execute_result",
     "execution_count": 18,
     "data": {
      "application/vnd.deepnote.dataframe.v2+json": {
       "row_count": 5,
       "column_count": 37,
       "columns": [
        {
         "name": "SK_ID_PREV",
         "dtype": "int64",
         "stats": {
          "unique_count": 5,
          "nan_count": 0,
          "min": "1038818",
          "max": "2636178",
          "histogram": [
           {
            "bin_start": 1038818,
            "bin_end": 1198554,
            "count": 1
           },
           {
            "bin_start": 1198554,
            "bin_end": 1358290,
            "count": 0
           },
           {
            "bin_start": 1358290,
            "bin_end": 1518026,
            "count": 1
           },
           {
            "bin_start": 1518026,
            "bin_end": 1677762,
            "count": 0
           },
           {
            "bin_start": 1677762,
            "bin_end": 1837498,
            "count": 1
           },
           {
            "bin_start": 1837498,
            "bin_end": 1997234,
            "count": 0
           },
           {
            "bin_start": 1997234,
            "bin_end": 2156970,
            "count": 0
           },
           {
            "bin_start": 2156970,
            "bin_end": 2316706,
            "count": 0
           },
           {
            "bin_start": 2316706,
            "bin_end": 2476442,
            "count": 1
           },
           {
            "bin_start": 2476442,
            "bin_end": 2636178,
            "count": 1
           }
          ]
         }
        },
        {
         "name": "SK_ID_CURR",
         "dtype": "int64",
         "stats": {
          "unique_count": 3,
          "nan_count": 0,
          "min": "100001",
          "max": "100003",
          "histogram": [
           {
            "bin_start": 100001,
            "bin_end": 100001.2,
            "count": 1
           },
           {
            "bin_start": 100001.2,
            "bin_end": 100001.4,
            "count": 0
           },
           {
            "bin_start": 100001.4,
            "bin_end": 100001.6,
            "count": 0
           },
           {
            "bin_start": 100001.6,
            "bin_end": 100001.8,
            "count": 0
           },
           {
            "bin_start": 100001.8,
            "bin_end": 100002,
            "count": 0
           },
           {
            "bin_start": 100002,
            "bin_end": 100002.2,
            "count": 1
           },
           {
            "bin_start": 100002.2,
            "bin_end": 100002.4,
            "count": 0
           },
           {
            "bin_start": 100002.4,
            "bin_end": 100002.6,
            "count": 0
           },
           {
            "bin_start": 100002.6,
            "bin_end": 100002.8,
            "count": 0
           },
           {
            "bin_start": 100002.8,
            "bin_end": 100003,
            "count": 3
           }
          ]
         }
        },
        {
         "name": "NAME_CONTRACT_TYPE",
         "dtype": "object",
         "stats": {
          "unique_count": 2,
          "nan_count": 0,
          "categories": [
           {
            "name": "Consumer loans",
            "count": 4
           },
           {
            "name": "Cash loans",
            "count": 1
           }
          ]
         }
        },
        {
         "name": "AMT_ANNUITY",
         "dtype": "float64",
         "stats": {
          "unique_count": 5,
          "nan_count": 0,
          "min": "3951.0",
          "max": "98356.995",
          "histogram": [
           {
            "bin_start": 3951,
            "bin_end": 13391.5995,
            "count": 3
           },
           {
            "bin_start": 13391.5995,
            "bin_end": 22832.199,
            "count": 0
           },
           {
            "bin_start": 22832.199,
            "bin_end": 32272.7985,
            "count": 0
           },
           {
            "bin_start": 32272.7985,
            "bin_end": 41713.398,
            "count": 0
           },
           {
            "bin_start": 41713.398,
            "bin_end": 51153.9975,
            "count": 0
           },
           {
            "bin_start": 51153.9975,
            "bin_end": 60594.597,
            "count": 0
           },
           {
            "bin_start": 60594.597,
            "bin_end": 70035.1965,
            "count": 1
           },
           {
            "bin_start": 70035.1965,
            "bin_end": 79475.796,
            "count": 0
           },
           {
            "bin_start": 79475.796,
            "bin_end": 88916.3955,
            "count": 0
           },
           {
            "bin_start": 88916.3955,
            "bin_end": 98356.995,
            "count": 1
           }
          ]
         }
        },
        {
         "name": "AMT_APPLICATION",
         "dtype": "float64",
         "stats": {
          "unique_count": 5,
          "nan_count": 0,
          "min": "24835.5",
          "max": "900000.0",
          "histogram": [
           {
            "bin_start": 24835.5,
            "bin_end": 112351.95,
            "count": 2
           },
           {
            "bin_start": 112351.95,
            "bin_end": 199868.4,
            "count": 1
           },
           {
            "bin_start": 199868.4,
            "bin_end": 287384.85,
            "count": 0
           },
           {
            "bin_start": 287384.85,
            "bin_end": 374901.3,
            "count": 1
           },
           {
            "bin_start": 374901.3,
            "bin_end": 462417.75,
            "count": 0
           },
           {
            "bin_start": 462417.75,
            "bin_end": 549934.2,
            "count": 0
           },
           {
            "bin_start": 549934.2,
            "bin_end": 637450.65,
            "count": 0
           },
           {
            "bin_start": 637450.65,
            "bin_end": 724967.1,
            "count": 0
           },
           {
            "bin_start": 724967.1,
            "bin_end": 812483.5499999999,
            "count": 0
           },
           {
            "bin_start": 812483.5499999999,
            "bin_end": 900000,
            "count": 1
           }
          ]
         }
        },
        {
         "name": "AMT_CREDIT",
         "dtype": "float64",
         "stats": {
          "unique_count": 5,
          "nan_count": 0,
          "min": "23787.0",
          "max": "1035882.0",
          "histogram": [
           {
            "bin_start": 23787,
            "bin_end": 124996.5,
            "count": 2
           },
           {
            "bin_start": 124996.5,
            "bin_end": 226206,
            "count": 1
           },
           {
            "bin_start": 226206,
            "bin_end": 327415.5,
            "count": 0
           },
           {
            "bin_start": 327415.5,
            "bin_end": 428625,
            "count": 1
           },
           {
            "bin_start": 428625,
            "bin_end": 529834.5,
            "count": 0
           },
           {
            "bin_start": 529834.5,
            "bin_end": 631044,
            "count": 0
           },
           {
            "bin_start": 631044,
            "bin_end": 732253.5,
            "count": 0
           },
           {
            "bin_start": 732253.5,
            "bin_end": 833463,
            "count": 0
           },
           {
            "bin_start": 833463,
            "bin_end": 934672.5,
            "count": 0
           },
           {
            "bin_start": 934672.5,
            "bin_end": 1035882,
            "count": 1
           }
          ]
         }
        },
        {
         "name": "AMT_DOWN_PAYMENT",
         "dtype": "float64",
         "stats": {
          "unique_count": 3,
          "nan_count": 1,
          "min": "0.0",
          "max": "6885.0",
          "histogram": [
           {
            "bin_start": 0,
            "bin_end": 688.5,
            "count": 2
           },
           {
            "bin_start": 688.5,
            "bin_end": 1377,
            "count": 0
           },
           {
            "bin_start": 1377,
            "bin_end": 2065.5,
            "count": 0
           },
           {
            "bin_start": 2065.5,
            "bin_end": 2754,
            "count": 1
           },
           {
            "bin_start": 2754,
            "bin_end": 3442.5,
            "count": 0
           },
           {
            "bin_start": 3442.5,
            "bin_end": 4131,
            "count": 0
           },
           {
            "bin_start": 4131,
            "bin_end": 4819.5,
            "count": 0
           },
           {
            "bin_start": 4819.5,
            "bin_end": 5508,
            "count": 0
           },
           {
            "bin_start": 5508,
            "bin_end": 6196.5,
            "count": 0
           },
           {
            "bin_start": 6196.5,
            "bin_end": 6885,
            "count": 1
           }
          ]
         }
        },
        {
         "name": "AMT_GOODS_PRICE",
         "dtype": "float64",
         "stats": {
          "unique_count": 5,
          "nan_count": 0,
          "min": "24835.5",
          "max": "900000.0",
          "histogram": [
           {
            "bin_start": 24835.5,
            "bin_end": 112351.95,
            "count": 2
           },
           {
            "bin_start": 112351.95,
            "bin_end": 199868.4,
            "count": 1
           },
           {
            "bin_start": 199868.4,
            "bin_end": 287384.85,
            "count": 0
           },
           {
            "bin_start": 287384.85,
            "bin_end": 374901.3,
            "count": 1
           },
           {
            "bin_start": 374901.3,
            "bin_end": 462417.75,
            "count": 0
           },
           {
            "bin_start": 462417.75,
            "bin_end": 549934.2,
            "count": 0
           },
           {
            "bin_start": 549934.2,
            "bin_end": 637450.65,
            "count": 0
           },
           {
            "bin_start": 637450.65,
            "bin_end": 724967.1,
            "count": 0
           },
           {
            "bin_start": 724967.1,
            "bin_end": 812483.5499999999,
            "count": 0
           },
           {
            "bin_start": 812483.5499999999,
            "bin_end": 900000,
            "count": 1
           }
          ]
         }
        },
        {
         "name": "WEEKDAY_APPR_PROCESS_START",
         "dtype": "object",
         "stats": {
          "unique_count": 3,
          "nan_count": 0,
          "categories": [
           {
            "name": "FRIDAY",
            "count": 2
           },
           {
            "name": "SATURDAY",
            "count": 2
           },
           {
            "name": "SUNDAY",
            "count": 1
           }
          ]
         }
        },
        {
         "name": "HOUR_APPR_PROCESS_START",
         "dtype": "int64",
         "stats": {
          "unique_count": 5,
          "nan_count": 0,
          "min": "9",
          "max": "17",
          "histogram": [
           {
            "bin_start": 9,
            "bin_end": 9.8,
            "count": 1
           },
           {
            "bin_start": 9.8,
            "bin_end": 10.6,
            "count": 0
           },
           {
            "bin_start": 10.6,
            "bin_end": 11.4,
            "count": 0
           },
           {
            "bin_start": 11.4,
            "bin_end": 12.2,
            "count": 1
           },
           {
            "bin_start": 12.2,
            "bin_end": 13,
            "count": 0
           },
           {
            "bin_start": 13,
            "bin_end": 13.8,
            "count": 1
           },
           {
            "bin_start": 13.8,
            "bin_end": 14.600000000000001,
            "count": 0
           },
           {
            "bin_start": 14.600000000000001,
            "bin_end": 15.4,
            "count": 1
           },
           {
            "bin_start": 15.4,
            "bin_end": 16.2,
            "count": 0
           },
           {
            "bin_start": 16.2,
            "bin_end": 17,
            "count": 1
           }
          ]
         }
        },
        {
         "name": "FLAG_LAST_APPL_PER_CONTRACT",
         "dtype": "object",
         "stats": {
          "unique_count": 1,
          "nan_count": 0,
          "categories": [
           {
            "name": "Y",
            "count": 5
           }
          ]
         }
        },
        {
         "name": "NFLAG_LAST_APPL_IN_DAY",
         "dtype": "int64",
         "stats": {
          "unique_count": 1,
          "nan_count": 0,
          "min": "1",
          "max": "1",
          "histogram": [
           {
            "bin_start": 0.5,
            "bin_end": 0.6,
            "count": 0
           },
           {
            "bin_start": 0.6,
            "bin_end": 0.7,
            "count": 0
           },
           {
            "bin_start": 0.7,
            "bin_end": 0.8,
            "count": 0
           },
           {
            "bin_start": 0.8,
            "bin_end": 0.9,
            "count": 0
           },
           {
            "bin_start": 0.9,
            "bin_end": 1,
            "count": 0
           },
           {
            "bin_start": 1,
            "bin_end": 1.1,
            "count": 5
           },
           {
            "bin_start": 1.1,
            "bin_end": 1.2000000000000002,
            "count": 0
           },
           {
            "bin_start": 1.2000000000000002,
            "bin_end": 1.3,
            "count": 0
           },
           {
            "bin_start": 1.3,
            "bin_end": 1.4,
            "count": 0
           },
           {
            "bin_start": 1.4,
            "bin_end": 1.5,
            "count": 0
           }
          ]
         }
        },
        {
         "name": "RATE_DOWN_PAYMENT",
         "dtype": "float64",
         "stats": {
          "unique_count": 3,
          "nan_count": 1,
          "min": "0.0",
          "max": "0.1043261904021397",
          "histogram": [
           {
            "bin_start": 0,
            "bin_end": 0.01043261904021397,
            "count": 2
           },
           {
            "bin_start": 0.01043261904021397,
            "bin_end": 0.02086523808042794,
            "count": 0
           },
           {
            "bin_start": 0.02086523808042794,
            "bin_end": 0.03129785712064191,
            "count": 0
           },
           {
            "bin_start": 0.03129785712064191,
            "bin_end": 0.04173047616085588,
            "count": 0
           },
           {
            "bin_start": 0.04173047616085588,
            "bin_end": 0.05216309520106985,
            "count": 0
           },
           {
            "bin_start": 0.05216309520106985,
            "bin_end": 0.06259571424128382,
            "count": 0
           },
           {
            "bin_start": 0.06259571424128382,
            "bin_end": 0.07302833328149778,
            "count": 0
           },
           {
            "bin_start": 0.07302833328149778,
            "bin_end": 0.08346095232171176,
            "count": 0
           },
           {
            "bin_start": 0.08346095232171176,
            "bin_end": 0.09389357136192573,
            "count": 0
           },
           {
            "bin_start": 0.09389357136192573,
            "bin_end": 0.1043261904021397,
            "count": 2
           }
          ]
         }
        },
        {
         "name": "RATE_INTEREST_PRIMARY",
         "dtype": "float64",
         "stats": {
          "unique_count": 0,
          "nan_count": 5,
          "min": null,
          "max": null,
          "histogram": [
           {
            "bin_start": 0,
            "bin_end": 0.1,
            "count": 0
           },
           {
            "bin_start": 0.1,
            "bin_end": 0.2,
            "count": 0
           },
           {
            "bin_start": 0.2,
            "bin_end": 0.30000000000000004,
            "count": 0
           },
           {
            "bin_start": 0.30000000000000004,
            "bin_end": 0.4,
            "count": 0
           },
           {
            "bin_start": 0.4,
            "bin_end": 0.5,
            "count": 0
           },
           {
            "bin_start": 0.5,
            "bin_end": 0.6000000000000001,
            "count": 0
           },
           {
            "bin_start": 0.6000000000000001,
            "bin_end": 0.7000000000000001,
            "count": 0
           },
           {
            "bin_start": 0.7000000000000001,
            "bin_end": 0.8,
            "count": 0
           },
           {
            "bin_start": 0.8,
            "bin_end": 0.9,
            "count": 0
           },
           {
            "bin_start": 0.9,
            "bin_end": 1,
            "count": 0
           }
          ]
         }
        },
        {
         "name": "RATE_INTEREST_PRIVILEGED",
         "dtype": "float64",
         "stats": {
          "unique_count": 0,
          "nan_count": 5,
          "min": null,
          "max": null,
          "histogram": [
           {
            "bin_start": 0,
            "bin_end": 0.1,
            "count": 0
           },
           {
            "bin_start": 0.1,
            "bin_end": 0.2,
            "count": 0
           },
           {
            "bin_start": 0.2,
            "bin_end": 0.30000000000000004,
            "count": 0
           },
           {
            "bin_start": 0.30000000000000004,
            "bin_end": 0.4,
            "count": 0
           },
           {
            "bin_start": 0.4,
            "bin_end": 0.5,
            "count": 0
           },
           {
            "bin_start": 0.5,
            "bin_end": 0.6000000000000001,
            "count": 0
           },
           {
            "bin_start": 0.6000000000000001,
            "bin_end": 0.7000000000000001,
            "count": 0
           },
           {
            "bin_start": 0.7000000000000001,
            "bin_end": 0.8,
            "count": 0
           },
           {
            "bin_start": 0.8,
            "bin_end": 0.9,
            "count": 0
           },
           {
            "bin_start": 0.9,
            "bin_end": 1,
            "count": 0
           }
          ]
         }
        },
        {
         "name": "NAME_CASH_LOAN_PURPOSE",
         "dtype": "object",
         "stats": {
          "unique_count": 2,
          "nan_count": 0,
          "categories": [
           {
            "name": "XAP",
            "count": 4
           },
           {
            "name": "XNA",
            "count": 1
           }
          ]
         }
        },
        {
         "name": "NAME_CONTRACT_STATUS",
         "dtype": "object",
         "stats": {
          "unique_count": 1,
          "nan_count": 0,
          "categories": [
           {
            "name": "Approved",
            "count": 5
           }
          ]
         }
        },
        {
         "name": "DAYS_DECISION",
         "dtype": "int64",
         "stats": {
          "unique_count": 5,
          "nan_count": 0,
          "min": "-2341",
          "max": "-606",
          "histogram": [
           {
            "bin_start": -2341,
            "bin_end": -2167.5,
            "count": 1
           },
           {
            "bin_start": -2167.5,
            "bin_end": -1994,
            "count": 0
           },
           {
            "bin_start": -1994,
            "bin_end": -1820.5,
            "count": 0
           },
           {
            "bin_start": -1820.5,
            "bin_end": -1647,
            "count": 1
           },
           {
            "bin_start": -1647,
            "bin_end": -1473.5,
            "count": 0
           },
           {
            "bin_start": -1473.5,
            "bin_end": -1300,
            "count": 0
           },
           {
            "bin_start": -1300,
            "bin_end": -1126.5,
            "count": 0
           },
           {
            "bin_start": -1126.5,
            "bin_end": -953,
            "count": 0
           },
           {
            "bin_start": -953,
            "bin_end": -779.5,
            "count": 1
           },
           {
            "bin_start": -779.5,
            "bin_end": -606,
            "count": 2
           }
          ]
         }
        },
        {
         "name": "NAME_PAYMENT_TYPE",
         "dtype": "object",
         "stats": {
          "unique_count": 2,
          "nan_count": 0,
          "categories": [
           {
            "name": "Cash through the bank",
            "count": 3
           },
           {
            "name": "XNA",
            "count": 2
           }
          ]
         }
        },
        {
         "name": "CODE_REJECT_REASON",
         "dtype": "object",
         "stats": {
          "unique_count": 1,
          "nan_count": 0,
          "categories": [
           {
            "name": "XAP",
            "count": 5
           }
          ]
         }
        },
        {
         "name": "NAME_TYPE_SUITE",
         "dtype": "object",
         "stats": {
          "unique_count": 2,
          "nan_count": 1,
          "categories": [
           {
            "name": "Family",
            "count": 3
           },
           {
            "name": "Unaccompanied",
            "count": 1
           },
           {
            "name": "Missing",
            "count": 1
           }
          ]
         }
        },
        {
         "name": "NAME_CLIENT_TYPE",
         "dtype": "object",
         "stats": {
          "unique_count": 3,
          "nan_count": 0,
          "categories": [
           {
            "name": "Refreshed",
            "count": 3
           },
           {
            "name": "New",
            "count": 1
           },
           {
            "name": "Repeater",
            "count": 1
           }
          ]
         }
        },
        {
         "name": "NAME_GOODS_CATEGORY",
         "dtype": "object",
         "stats": {
          "unique_count": 5,
          "nan_count": 0,
          "categories": [
           {
            "name": "Mobile",
            "count": 1
           },
           {
            "name": "Vehicles",
            "count": 1
           },
           {
            "name": "3 others",
            "count": 3
           }
          ]
         }
        },
        {
         "name": "NAME_PORTFOLIO",
         "dtype": "object",
         "stats": {
          "unique_count": 2,
          "nan_count": 0,
          "categories": [
           {
            "name": "POS",
            "count": 4
           },
           {
            "name": "Cash",
            "count": 1
           }
          ]
         }
        },
        {
         "name": "NAME_PRODUCT_TYPE",
         "dtype": "object",
         "stats": {
          "unique_count": 2,
          "nan_count": 0,
          "categories": [
           {
            "name": "XNA",
            "count": 4
           },
           {
            "name": "x-sell",
            "count": 1
           }
          ]
         }
        },
        {
         "name": "CHANNEL_TYPE",
         "dtype": "object",
         "stats": {
          "unique_count": 3,
          "nan_count": 0,
          "categories": [
           {
            "name": "Country-wide",
            "count": 2
           },
           {
            "name": "Stone",
            "count": 2
           },
           {
            "name": "Credit and cash offices",
            "count": 1
           }
          ]
         }
        },
        {
         "name": "SELLERPLACE_AREA",
         "dtype": "int64",
         "stats": {
          "unique_count": 5,
          "nan_count": 0,
          "min": "-1",
          "max": "1400",
          "histogram": [
           {
            "bin_start": -1,
            "bin_end": 139.1,
            "count": 2
           },
           {
            "bin_start": 139.1,
            "bin_end": 279.2,
            "count": 1
           },
           {
            "bin_start": 279.2,
            "bin_end": 419.29999999999995,
            "count": 0
           },
           {
            "bin_start": 419.29999999999995,
            "bin_end": 559.4,
            "count": 1
           },
           {
            "bin_start": 559.4,
            "bin_end": 699.5,
            "count": 0
           },
           {
            "bin_start": 699.5,
            "bin_end": 839.5999999999999,
            "count": 0
           },
           {
            "bin_start": 839.5999999999999,
            "bin_end": 979.6999999999999,
            "count": 0
           },
           {
            "bin_start": 979.6999999999999,
            "bin_end": 1119.8,
            "count": 0
           },
           {
            "bin_start": 1119.8,
            "bin_end": 1259.8999999999999,
            "count": 0
           },
           {
            "bin_start": 1259.8999999999999,
            "bin_end": 1400,
            "count": 1
           }
          ]
         }
        },
        {
         "name": "NAME_SELLER_INDUSTRY",
         "dtype": "object",
         "stats": {
          "unique_count": 5,
          "nan_count": 0,
          "categories": [
           {
            "name": "Connectivity",
            "count": 1
           },
           {
            "name": "Auto technology",
            "count": 1
           },
           {
            "name": "3 others",
            "count": 3
           }
          ]
         }
        },
        {
         "name": "CNT_PAYMENT",
         "dtype": "float64",
         "stats": {
          "unique_count": 4,
          "nan_count": 0,
          "min": "6.0",
          "max": "24.0",
          "histogram": [
           {
            "bin_start": 6,
            "bin_end": 7.8,
            "count": 1
           },
           {
            "bin_start": 7.8,
            "bin_end": 9.6,
            "count": 1
           },
           {
            "bin_start": 9.6,
            "bin_end": 11.4,
            "count": 0
           },
           {
            "bin_start": 11.4,
            "bin_end": 13.2,
            "count": 2
           },
           {
            "bin_start": 13.2,
            "bin_end": 15,
            "count": 0
           },
           {
            "bin_start": 15,
            "bin_end": 16.8,
            "count": 0
           },
           {
            "bin_start": 16.8,
            "bin_end": 18.6,
            "count": 0
           },
           {
            "bin_start": 18.6,
            "bin_end": 20.4,
            "count": 0
           },
           {
            "bin_start": 20.4,
            "bin_end": 22.2,
            "count": 0
           },
           {
            "bin_start": 22.2,
            "bin_end": 24,
            "count": 1
           }
          ]
         }
        },
        {
         "name": "NAME_YIELD_GROUP",
         "dtype": "object",
         "stats": {
          "unique_count": 3,
          "nan_count": 0,
          "categories": [
           {
            "name": "low_normal",
            "count": 2
           },
           {
            "name": "middle",
            "count": 2
           },
           {
            "name": "high",
            "count": 1
           }
          ]
         }
        },
        {
         "name": "PRODUCT_COMBINATION",
         "dtype": "object",
         "stats": {
          "unique_count": 5,
          "nan_count": 0,
          "categories": [
           {
            "name": "POS mobile with interest",
            "count": 1
           },
           {
            "name": "POS other with interest",
            "count": 1
           },
           {
            "name": "3 others",
            "count": 3
           }
          ]
         }
        },
        {
         "name": "DAYS_FIRST_DRAWING",
         "dtype": "float64",
         "stats": {
          "unique_count": 1,
          "nan_count": 0,
          "min": "365243.0",
          "max": "365243.0",
          "histogram": [
           {
            "bin_start": 365242.5,
            "bin_end": 365242.6,
            "count": 0
           },
           {
            "bin_start": 365242.6,
            "bin_end": 365242.7,
            "count": 0
           },
           {
            "bin_start": 365242.7,
            "bin_end": 365242.8,
            "count": 0
           },
           {
            "bin_start": 365242.8,
            "bin_end": 365242.9,
            "count": 0
           },
           {
            "bin_start": 365242.9,
            "bin_end": 365243,
            "count": 0
           },
           {
            "bin_start": 365243,
            "bin_end": 365243.1,
            "count": 5
           },
           {
            "bin_start": 365243.1,
            "bin_end": 365243.2,
            "count": 0
           },
           {
            "bin_start": 365243.2,
            "bin_end": 365243.3,
            "count": 0
           },
           {
            "bin_start": 365243.3,
            "bin_end": 365243.4,
            "count": 0
           },
           {
            "bin_start": 365243.4,
            "bin_end": 365243.5,
            "count": 0
           }
          ]
         }
        },
        {
         "name": "DAYS_FIRST_DUE",
         "dtype": "float64",
         "stats": {
          "unique_count": 5,
          "nan_count": 0,
          "min": "-2310.0",
          "max": "-565.0",
          "histogram": [
           {
            "bin_start": -2310,
            "bin_end": -2135.5,
            "count": 1
           },
           {
            "bin_start": -2135.5,
            "bin_end": -1961,
            "count": 0
           },
           {
            "bin_start": -1961,
            "bin_end": -1786.5,
            "count": 0
           },
           {
            "bin_start": -1786.5,
            "bin_end": -1612,
            "count": 1
           },
           {
            "bin_start": -1612,
            "bin_end": -1437.5,
            "count": 0
           },
           {
            "bin_start": -1437.5,
            "bin_end": -1263,
            "count": 0
           },
           {
            "bin_start": -1263,
            "bin_end": -1088.5,
            "count": 0
           },
           {
            "bin_start": -1088.5,
            "bin_end": -914,
            "count": 0
           },
           {
            "bin_start": -914,
            "bin_end": -739.5,
            "count": 1
           },
           {
            "bin_start": -739.5,
            "bin_end": -565,
            "count": 2
           }
          ]
         }
        },
        {
         "name": "DAYS_LAST_DUE_1ST_VERSION",
         "dtype": "float64",
         "stats": {
          "unique_count": 5,
          "nan_count": 0,
          "min": "-1980.0",
          "max": "125.0",
          "histogram": [
           {
            "bin_start": -1980,
            "bin_end": -1769.5,
            "count": 1
           },
           {
            "bin_start": -1769.5,
            "bin_end": -1559,
            "count": 0
           },
           {
            "bin_start": -1559,
            "bin_end": -1348.5,
            "count": 1
           },
           {
            "bin_start": -1348.5,
            "bin_end": -1138,
            "count": 0
           },
           {
            "bin_start": -1138,
            "bin_end": -927.5,
            "count": 0
           },
           {
            "bin_start": -927.5,
            "bin_end": -717,
            "count": 0
           },
           {
            "bin_start": -717,
            "bin_end": -506.5,
            "count": 1
           },
           {
            "bin_start": -506.5,
            "bin_end": -296,
            "count": 1
           },
           {
            "bin_start": -296,
            "bin_end": -85.5,
            "count": 0
           },
           {
            "bin_start": -85.5,
            "bin_end": 125,
            "count": 1
           }
          ]
         }
        },
        {
         "name": "DAYS_LAST_DUE",
         "dtype": "float64",
         "stats": {
          "unique_count": 5,
          "nan_count": 0,
          "min": "-1980.0",
          "max": "-25.0",
          "histogram": [
           {
            "bin_start": -1980,
            "bin_end": -1784.5,
            "count": 1
           },
           {
            "bin_start": -1784.5,
            "bin_end": -1589,
            "count": 1
           },
           {
            "bin_start": -1589,
            "bin_end": -1393.5,
            "count": 0
           },
           {
            "bin_start": -1393.5,
            "bin_end": -1198,
            "count": 0
           },
           {
            "bin_start": -1198,
            "bin_end": -1002.5,
            "count": 0
           },
           {
            "bin_start": -1002.5,
            "bin_end": -807,
            "count": 0
           },
           {
            "bin_start": -807,
            "bin_end": -611.5,
            "count": 1
           },
           {
            "bin_start": -611.5,
            "bin_end": -416,
            "count": 1
           },
           {
            "bin_start": -416,
            "bin_end": -220.5,
            "count": 0
           },
           {
            "bin_start": -220.5,
            "bin_end": -25,
            "count": 1
           }
          ]
         }
        },
        {
         "name": "DAYS_TERMINATION",
         "dtype": "float64",
         "stats": {
          "unique_count": 5,
          "nan_count": 0,
          "min": "-1976.0",
          "max": "-17.0",
          "histogram": [
           {
            "bin_start": -1976,
            "bin_end": -1780.1,
            "count": 1
           },
           {
            "bin_start": -1780.1,
            "bin_end": -1584.2,
            "count": 1
           },
           {
            "bin_start": -1584.2,
            "bin_end": -1388.3,
            "count": 0
           },
           {
            "bin_start": -1388.3,
            "bin_end": -1192.4,
            "count": 0
           },
           {
            "bin_start": -1192.4,
            "bin_end": -996.5,
            "count": 0
           },
           {
            "bin_start": -996.5,
            "bin_end": -800.5999999999999,
            "count": 0
           },
           {
            "bin_start": -800.5999999999999,
            "bin_end": -604.7,
            "count": 1
           },
           {
            "bin_start": -604.7,
            "bin_end": -408.79999999999995,
            "count": 1
           },
           {
            "bin_start": -408.79999999999995,
            "bin_end": -212.89999999999986,
            "count": 0
           },
           {
            "bin_start": -212.89999999999986,
            "bin_end": -17,
            "count": 1
           }
          ]
         }
        },
        {
         "name": "NFLAG_INSURED_ON_APPROVAL",
         "dtype": "float64",
         "stats": {
          "unique_count": 2,
          "nan_count": 0,
          "min": "0.0",
          "max": "1.0",
          "histogram": [
           {
            "bin_start": 0,
            "bin_end": 0.1,
            "count": 3
           },
           {
            "bin_start": 0.1,
            "bin_end": 0.2,
            "count": 0
           },
           {
            "bin_start": 0.2,
            "bin_end": 0.30000000000000004,
            "count": 0
           },
           {
            "bin_start": 0.30000000000000004,
            "bin_end": 0.4,
            "count": 0
           },
           {
            "bin_start": 0.4,
            "bin_end": 0.5,
            "count": 0
           },
           {
            "bin_start": 0.5,
            "bin_end": 0.6000000000000001,
            "count": 0
           },
           {
            "bin_start": 0.6000000000000001,
            "bin_end": 0.7000000000000001,
            "count": 0
           },
           {
            "bin_start": 0.7000000000000001,
            "bin_end": 0.8,
            "count": 0
           },
           {
            "bin_start": 0.8,
            "bin_end": 0.9,
            "count": 0
           },
           {
            "bin_start": 0.9,
            "bin_end": 1,
            "count": 2
           }
          ]
         }
        },
        {
         "name": "_deepnote_index_column",
         "dtype": "int64"
        }
       ],
       "rows_top": [
        {
         "SK_ID_PREV": 1369693,
         "SK_ID_CURR": 100001,
         "NAME_CONTRACT_TYPE": "Consumer loans",
         "AMT_ANNUITY": 3951,
         "AMT_APPLICATION": 24835.5,
         "AMT_CREDIT": 23787,
         "AMT_DOWN_PAYMENT": 2520,
         "AMT_GOODS_PRICE": 24835.5,
         "WEEKDAY_APPR_PROCESS_START": "FRIDAY",
         "HOUR_APPR_PROCESS_START": 13,
         "FLAG_LAST_APPL_PER_CONTRACT": "Y",
         "NFLAG_LAST_APPL_IN_DAY": 1,
         "RATE_DOWN_PAYMENT": 0.1043261904021397,
         "RATE_INTEREST_PRIMARY": "nan",
         "RATE_INTEREST_PRIVILEGED": "nan",
         "NAME_CASH_LOAN_PURPOSE": "XAP",
         "NAME_CONTRACT_STATUS": "Approved",
         "DAYS_DECISION": -1740,
         "NAME_PAYMENT_TYPE": "Cash through the bank",
         "CODE_REJECT_REASON": "XAP",
         "NAME_TYPE_SUITE": "Family",
         "NAME_CLIENT_TYPE": "Refreshed",
         "NAME_GOODS_CATEGORY": "Mobile",
         "NAME_PORTFOLIO": "POS",
         "NAME_PRODUCT_TYPE": "XNA",
         "CHANNEL_TYPE": "Country-wide",
         "SELLERPLACE_AREA": 23,
         "NAME_SELLER_INDUSTRY": "Connectivity",
         "CNT_PAYMENT": 8,
         "NAME_YIELD_GROUP": "high",
         "PRODUCT_COMBINATION": "POS mobile with interest",
         "DAYS_FIRST_DRAWING": 365243,
         "DAYS_FIRST_DUE": -1709,
         "DAYS_LAST_DUE_1ST_VERSION": -1499,
         "DAYS_LAST_DUE": -1619,
         "DAYS_TERMINATION": -1612,
         "NFLAG_INSURED_ON_APPROVAL": 0,
         "_deepnote_index_column": 201668
        },
        {
         "SK_ID_PREV": 1038818,
         "SK_ID_CURR": 100002,
         "NAME_CONTRACT_TYPE": "Consumer loans",
         "AMT_ANNUITY": 9251.775,
         "AMT_APPLICATION": 179055,
         "AMT_CREDIT": 179055,
         "AMT_DOWN_PAYMENT": 0,
         "AMT_GOODS_PRICE": 179055,
         "WEEKDAY_APPR_PROCESS_START": "SATURDAY",
         "HOUR_APPR_PROCESS_START": 9,
         "FLAG_LAST_APPL_PER_CONTRACT": "Y",
         "NFLAG_LAST_APPL_IN_DAY": 1,
         "RATE_DOWN_PAYMENT": 0,
         "RATE_INTEREST_PRIMARY": "nan",
         "RATE_INTEREST_PRIVILEGED": "nan",
         "NAME_CASH_LOAN_PURPOSE": "XAP",
         "NAME_CONTRACT_STATUS": "Approved",
         "DAYS_DECISION": -606,
         "NAME_PAYMENT_TYPE": "XNA",
         "CODE_REJECT_REASON": "XAP",
         "NAME_TYPE_SUITE": "nan",
         "NAME_CLIENT_TYPE": "New",
         "NAME_GOODS_CATEGORY": "Vehicles",
         "NAME_PORTFOLIO": "POS",
         "NAME_PRODUCT_TYPE": "XNA",
         "CHANNEL_TYPE": "Stone",
         "SELLERPLACE_AREA": 500,
         "NAME_SELLER_INDUSTRY": "Auto technology",
         "CNT_PAYMENT": 24,
         "NAME_YIELD_GROUP": "low_normal",
         "PRODUCT_COMBINATION": "POS other with interest",
         "DAYS_FIRST_DRAWING": 365243,
         "DAYS_FIRST_DUE": -565,
         "DAYS_LAST_DUE_1ST_VERSION": 125,
         "DAYS_LAST_DUE": -25,
         "DAYS_TERMINATION": -17,
         "NFLAG_INSURED_ON_APPROVAL": 0,
         "_deepnote_index_column": 892077
        },
        {
         "SK_ID_PREV": 1810518,
         "SK_ID_CURR": 100003,
         "NAME_CONTRACT_TYPE": "Cash loans",
         "AMT_ANNUITY": 98356.995,
         "AMT_APPLICATION": 900000,
         "AMT_CREDIT": 1035882,
         "AMT_DOWN_PAYMENT": "nan",
         "AMT_GOODS_PRICE": 900000,
         "WEEKDAY_APPR_PROCESS_START": "FRIDAY",
         "HOUR_APPR_PROCESS_START": 12,
         "FLAG_LAST_APPL_PER_CONTRACT": "Y",
         "NFLAG_LAST_APPL_IN_DAY": 1,
         "RATE_DOWN_PAYMENT": "nan",
         "RATE_INTEREST_PRIMARY": "nan",
         "RATE_INTEREST_PRIVILEGED": "nan",
         "NAME_CASH_LOAN_PURPOSE": "XNA",
         "NAME_CONTRACT_STATUS": "Approved",
         "DAYS_DECISION": -746,
         "NAME_PAYMENT_TYPE": "XNA",
         "CODE_REJECT_REASON": "XAP",
         "NAME_TYPE_SUITE": "Unaccompanied",
         "NAME_CLIENT_TYPE": "Repeater",
         "NAME_GOODS_CATEGORY": "XNA",
         "NAME_PORTFOLIO": "Cash",
         "NAME_PRODUCT_TYPE": "x-sell",
         "CHANNEL_TYPE": "Credit and cash offices",
         "SELLERPLACE_AREA": -1,
         "NAME_SELLER_INDUSTRY": "XNA",
         "CNT_PAYMENT": 12,
         "NAME_YIELD_GROUP": "low_normal",
         "PRODUCT_COMBINATION": "Cash X-Sell: low",
         "DAYS_FIRST_DRAWING": 365243,
         "DAYS_FIRST_DUE": -716,
         "DAYS_LAST_DUE_1ST_VERSION": -386,
         "DAYS_LAST_DUE": -536,
         "DAYS_TERMINATION": -527,
         "NFLAG_INSURED_ON_APPROVAL": 1,
         "_deepnote_index_column": 575941
        },
        {
         "SK_ID_PREV": 2636178,
         "SK_ID_CURR": 100003,
         "NAME_CONTRACT_TYPE": "Consumer loans",
         "AMT_ANNUITY": 64567.665,
         "AMT_APPLICATION": 337500,
         "AMT_CREDIT": 348637.5,
         "AMT_DOWN_PAYMENT": 0,
         "AMT_GOODS_PRICE": 337500,
         "WEEKDAY_APPR_PROCESS_START": "SUNDAY",
         "HOUR_APPR_PROCESS_START": 17,
         "FLAG_LAST_APPL_PER_CONTRACT": "Y",
         "NFLAG_LAST_APPL_IN_DAY": 1,
         "RATE_DOWN_PAYMENT": 0,
         "RATE_INTEREST_PRIMARY": "nan",
         "RATE_INTEREST_PRIVILEGED": "nan",
         "NAME_CASH_LOAN_PURPOSE": "XAP",
         "NAME_CONTRACT_STATUS": "Approved",
         "DAYS_DECISION": -828,
         "NAME_PAYMENT_TYPE": "Cash through the bank",
         "CODE_REJECT_REASON": "XAP",
         "NAME_TYPE_SUITE": "Family",
         "NAME_CLIENT_TYPE": "Refreshed",
         "NAME_GOODS_CATEGORY": "Furniture",
         "NAME_PORTFOLIO": "POS",
         "NAME_PRODUCT_TYPE": "XNA",
         "CHANNEL_TYPE": "Stone",
         "SELLERPLACE_AREA": 1400,
         "NAME_SELLER_INDUSTRY": "Furniture",
         "CNT_PAYMENT": 6,
         "NAME_YIELD_GROUP": "middle",
         "PRODUCT_COMBINATION": "POS industry with interest",
         "DAYS_FIRST_DRAWING": 365243,
         "DAYS_FIRST_DUE": -797,
         "DAYS_LAST_DUE_1ST_VERSION": -647,
         "DAYS_LAST_DUE": -647,
         "DAYS_TERMINATION": -639,
         "NFLAG_INSURED_ON_APPROVAL": 0,
         "_deepnote_index_column": 1021650
        },
        {
         "SK_ID_PREV": 2396755,
         "SK_ID_CURR": 100003,
         "NAME_CONTRACT_TYPE": "Consumer loans",
         "AMT_ANNUITY": 6737.31,
         "AMT_APPLICATION": 68809.5,
         "AMT_CREDIT": 68053.5,
         "AMT_DOWN_PAYMENT": 6885,
         "AMT_GOODS_PRICE": 68809.5,
         "WEEKDAY_APPR_PROCESS_START": "SATURDAY",
         "HOUR_APPR_PROCESS_START": 15,
         "FLAG_LAST_APPL_PER_CONTRACT": "Y",
         "NFLAG_LAST_APPL_IN_DAY": 1,
         "RATE_DOWN_PAYMENT": 0.1000605951425623,
         "RATE_INTEREST_PRIMARY": "nan",
         "RATE_INTEREST_PRIVILEGED": "nan",
         "NAME_CASH_LOAN_PURPOSE": "XAP",
         "NAME_CONTRACT_STATUS": "Approved",
         "DAYS_DECISION": -2341,
         "NAME_PAYMENT_TYPE": "Cash through the bank",
         "CODE_REJECT_REASON": "XAP",
         "NAME_TYPE_SUITE": "Family",
         "NAME_CLIENT_TYPE": "Refreshed",
         "NAME_GOODS_CATEGORY": "Consumer Electronics",
         "NAME_PORTFOLIO": "POS",
         "NAME_PRODUCT_TYPE": "XNA",
         "CHANNEL_TYPE": "Country-wide",
         "SELLERPLACE_AREA": 200,
         "NAME_SELLER_INDUSTRY": "Consumer electronics",
         "CNT_PAYMENT": 12,
         "NAME_YIELD_GROUP": "middle",
         "PRODUCT_COMBINATION": "POS household with interest",
         "DAYS_FIRST_DRAWING": 365243,
         "DAYS_FIRST_DUE": -2310,
         "DAYS_LAST_DUE_1ST_VERSION": -1980,
         "DAYS_LAST_DUE": -1980,
         "DAYS_TERMINATION": -1976,
         "NFLAG_INSURED_ON_APPROVAL": 1,
         "_deepnote_index_column": 1223745
        }
       ],
       "rows_bottom": null
      },
      "text/plain": "         SK_ID_PREV  SK_ID_CURR NAME_CONTRACT_TYPE  AMT_ANNUITY  \\\n201668      1369693      100001     Consumer loans     3951.000   \n892077      1038818      100002     Consumer loans     9251.775   \n575941      1810518      100003         Cash loans    98356.995   \n1021650     2636178      100003     Consumer loans    64567.665   \n1223745     2396755      100003     Consumer loans     6737.310   \n\n         AMT_APPLICATION  AMT_CREDIT  AMT_DOWN_PAYMENT  AMT_GOODS_PRICE  \\\n201668           24835.5     23787.0            2520.0          24835.5   \n892077          179055.0    179055.0               0.0         179055.0   \n575941          900000.0   1035882.0               NaN         900000.0   \n1021650         337500.0    348637.5               0.0         337500.0   \n1223745          68809.5     68053.5            6885.0          68809.5   \n\n        WEEKDAY_APPR_PROCESS_START  HOUR_APPR_PROCESS_START  ...  \\\n201668                      FRIDAY                       13  ...   \n892077                    SATURDAY                        9  ...   \n575941                      FRIDAY                       12  ...   \n1021650                     SUNDAY                       17  ...   \n1223745                   SATURDAY                       15  ...   \n\n         NAME_SELLER_INDUSTRY  CNT_PAYMENT  NAME_YIELD_GROUP  \\\n201668           Connectivity          8.0              high   \n892077        Auto technology         24.0        low_normal   \n575941                    XNA         12.0        low_normal   \n1021650             Furniture          6.0            middle   \n1223745  Consumer electronics         12.0            middle   \n\n                 PRODUCT_COMBINATION  DAYS_FIRST_DRAWING DAYS_FIRST_DUE  \\\n201668      POS mobile with interest            365243.0        -1709.0   \n892077       POS other with interest            365243.0         -565.0   \n575941              Cash X-Sell: low            365243.0         -716.0   \n1021650   POS industry with interest            365243.0         -797.0   \n1223745  POS household with interest            365243.0        -2310.0   \n\n        DAYS_LAST_DUE_1ST_VERSION  DAYS_LAST_DUE DAYS_TERMINATION  \\\n201668                    -1499.0        -1619.0          -1612.0   \n892077                      125.0          -25.0            -17.0   \n575941                     -386.0         -536.0           -527.0   \n1021650                    -647.0         -647.0           -639.0   \n1223745                   -1980.0        -1980.0          -1976.0   \n\n        NFLAG_INSURED_ON_APPROVAL  \n201668                        0.0  \n892077                        0.0  \n575941                        1.0  \n1021650                       0.0  \n1223745                       1.0  \n\n[5 rows x 37 columns]",
      "text/html": "<div>\n<style scoped>\n    .dataframe tbody tr th:only-of-type {\n        vertical-align: middle;\n    }\n\n    .dataframe tbody tr th {\n        vertical-align: top;\n    }\n\n    .dataframe thead th {\n        text-align: right;\n    }\n</style>\n<table border=\"1\" class=\"dataframe\">\n  <thead>\n    <tr style=\"text-align: right;\">\n      <th></th>\n      <th>SK_ID_PREV</th>\n      <th>SK_ID_CURR</th>\n      <th>NAME_CONTRACT_TYPE</th>\n      <th>AMT_ANNUITY</th>\n      <th>AMT_APPLICATION</th>\n      <th>AMT_CREDIT</th>\n      <th>AMT_DOWN_PAYMENT</th>\n      <th>AMT_GOODS_PRICE</th>\n      <th>WEEKDAY_APPR_PROCESS_START</th>\n      <th>HOUR_APPR_PROCESS_START</th>\n      <th>...</th>\n      <th>NAME_SELLER_INDUSTRY</th>\n      <th>CNT_PAYMENT</th>\n      <th>NAME_YIELD_GROUP</th>\n      <th>PRODUCT_COMBINATION</th>\n      <th>DAYS_FIRST_DRAWING</th>\n      <th>DAYS_FIRST_DUE</th>\n      <th>DAYS_LAST_DUE_1ST_VERSION</th>\n      <th>DAYS_LAST_DUE</th>\n      <th>DAYS_TERMINATION</th>\n      <th>NFLAG_INSURED_ON_APPROVAL</th>\n    </tr>\n  </thead>\n  <tbody>\n    <tr>\n      <th>201668</th>\n      <td>1369693</td>\n      <td>100001</td>\n      <td>Consumer loans</td>\n      <td>3951.000</td>\n      <td>24835.5</td>\n      <td>23787.0</td>\n      <td>2520.0</td>\n      <td>24835.5</td>\n      <td>FRIDAY</td>\n      <td>13</td>\n      <td>...</td>\n      <td>Connectivity</td>\n      <td>8.0</td>\n      <td>high</td>\n      <td>POS mobile with interest</td>\n      <td>365243.0</td>\n      <td>-1709.0</td>\n      <td>-1499.0</td>\n      <td>-1619.0</td>\n      <td>-1612.0</td>\n      <td>0.0</td>\n    </tr>\n    <tr>\n      <th>892077</th>\n      <td>1038818</td>\n      <td>100002</td>\n      <td>Consumer loans</td>\n      <td>9251.775</td>\n      <td>179055.0</td>\n      <td>179055.0</td>\n      <td>0.0</td>\n      <td>179055.0</td>\n      <td>SATURDAY</td>\n      <td>9</td>\n      <td>...</td>\n      <td>Auto technology</td>\n      <td>24.0</td>\n      <td>low_normal</td>\n      <td>POS other with interest</td>\n      <td>365243.0</td>\n      <td>-565.0</td>\n      <td>125.0</td>\n      <td>-25.0</td>\n      <td>-17.0</td>\n      <td>0.0</td>\n    </tr>\n    <tr>\n      <th>575941</th>\n      <td>1810518</td>\n      <td>100003</td>\n      <td>Cash loans</td>\n      <td>98356.995</td>\n      <td>900000.0</td>\n      <td>1035882.0</td>\n      <td>NaN</td>\n      <td>900000.0</td>\n      <td>FRIDAY</td>\n      <td>12</td>\n      <td>...</td>\n      <td>XNA</td>\n      <td>12.0</td>\n      <td>low_normal</td>\n      <td>Cash X-Sell: low</td>\n      <td>365243.0</td>\n      <td>-716.0</td>\n      <td>-386.0</td>\n      <td>-536.0</td>\n      <td>-527.0</td>\n      <td>1.0</td>\n    </tr>\n    <tr>\n      <th>1021650</th>\n      <td>2636178</td>\n      <td>100003</td>\n      <td>Consumer loans</td>\n      <td>64567.665</td>\n      <td>337500.0</td>\n      <td>348637.5</td>\n      <td>0.0</td>\n      <td>337500.0</td>\n      <td>SUNDAY</td>\n      <td>17</td>\n      <td>...</td>\n      <td>Furniture</td>\n      <td>6.0</td>\n      <td>middle</td>\n      <td>POS industry with interest</td>\n      <td>365243.0</td>\n      <td>-797.0</td>\n      <td>-647.0</td>\n      <td>-647.0</td>\n      <td>-639.0</td>\n      <td>0.0</td>\n    </tr>\n    <tr>\n      <th>1223745</th>\n      <td>2396755</td>\n      <td>100003</td>\n      <td>Consumer loans</td>\n      <td>6737.310</td>\n      <td>68809.5</td>\n      <td>68053.5</td>\n      <td>6885.0</td>\n      <td>68809.5</td>\n      <td>SATURDAY</td>\n      <td>15</td>\n      <td>...</td>\n      <td>Consumer electronics</td>\n      <td>12.0</td>\n      <td>middle</td>\n      <td>POS household with interest</td>\n      <td>365243.0</td>\n      <td>-2310.0</td>\n      <td>-1980.0</td>\n      <td>-1980.0</td>\n      <td>-1976.0</td>\n      <td>1.0</td>\n    </tr>\n  </tbody>\n</table>\n<p>5 rows × 37 columns</p>\n</div>"
     },
     "metadata": {}
    }
   ],
   "execution_count": null
  },
  {
   "cell_type": "code",
   "source": "sns.",
   "metadata": {
    "tags": [],
    "cell_id": "00019-ade6dcbc-2fe8-4a9e-bb51-36e56eede89d",
    "deepnote_to_be_reexecuted": true,
    "source_hash": "9fec137a",
    "deepnote_cell_type": "code"
   },
   "outputs": [],
   "execution_count": null
  },
  {
   "cell_type": "code",
   "source": "# Weird patters. There seem to be circular patters, perhaps corresponding to groups when comparing the total number of applications a \n    # client submitted vs the approval rate of their applications. As expected, generally, the more applications are submitted, the lower the approval rate\nsns.scatterplot(x =  approval_rate.total_apps, y = approval_rate.Approved_rate)\nprint(np.corrcoef( approval_rate.total_apps, approval_rate.Approved_rate))",
   "metadata": {
    "tags": [],
    "cell_id": "00020-32d116af-50bf-402c-a9d8-832f82f64c59",
    "deepnote_to_be_reexecuted": true,
    "source_hash": "f4a07e5f",
    "execution_start": 1628796363849,
    "execution_millis": 749,
    "deepnote_cell_type": "code"
   },
   "outputs": [
    {
     "name": "stdout",
     "text": "[[ 1.         -0.54895953]\n [-0.54895953  1.        ]]\n",
     "output_type": "stream"
    },
    {
     "data": {
      "text/plain": "<Figure size 1080x720 with 1 Axes>",
      "image/png": "[encoded data removed]"
     },
     "metadata": {
      "needs_background": "light",
      "image/png": {
       "width": 891,
       "height": 592
      }
     },
     "output_type": "display_data"
    }
   ],
   "execution_count": null
  },
  {
   "cell_type": "code",
   "source": "# There is an odd duck that submitted a lot of applications of which a large percentage were approved, but also had a lot of unused offers\nsns.scatterplot(x =  approval_rate.total_apps, y = approval_rate.Approved_rate, hue = approval_rate[\"Unused offer\"])",
   "metadata": {
    "tags": [],
    "cell_id": "00020-465c6d41-0fe9-454b-9986-afdcc9dcbb46",
    "deepnote_to_be_reexecuted": true,
    "source_hash": "58bf8cca",
    "execution_start": 1628796214210,
    "execution_millis": 7341,
    "deepnote_cell_type": "code"
   },
   "outputs": [
    {
     "name": "stdout",
     "text": "[[ 1.         -0.54895953]\n [-0.54895953  1.        ]]\n",
     "output_type": "stream"
    },
    {
     "data": {
      "text/plain": "<Figure size 1080x720 with 1 Axes>",
      "image/png": "[encoded data removed]"
     },
     "metadata": {
      "needs_background": "light",
      "image/png": {
       "width": 891,
       "height": 592
      }
     },
     "output_type": "display_data"
    }
   ],
   "execution_count": null
  },
  {
   "cell_type": "code",
   "source": "condition =  approval_rate[\"Unused offer\"] < 20\nsns.scatterplot(x =  np.log(approval_rate.total_apps[condition]), y = approval_rate.Approved_rate[condition] )\nnp.corrcoef(np.log(approval_rate.total_apps[condition]), approval_rate.Approved_rate[condition] )",
   "metadata": {
    "tags": [],
    "cell_id": "00023-5c98c144-6b1e-4480-ae09-0e17f10a7b0b",
    "deepnote_to_be_reexecuted": true,
    "source_hash": "25b29fc2",
    "execution_start": 1628797677178,
    "execution_millis": 779,
    "deepnote_cell_type": "code"
   },
   "outputs": [
    {
     "output_type": "execute_result",
     "execution_count": 58,
     "data": {
      "text/plain": "array([[ 1.        , -0.60713159],\n       [-0.60713159,  1.        ]])"
     },
     "metadata": {}
    },
    {
     "data": {
      "text/plain": "<Figure size 1080x720 with 1 Axes>",
      "image/png": "[encoded data removed]"
     },
     "metadata": {
      "needs_background": "light",
      "image/png": {
       "width": 891,
       "height": 592
      }
     },
     "output_type": "display_data"
    }
   ],
   "execution_count": null
  },
  {
   "cell_type": "code",
   "source": "np.corrcoef(approval_rate.total_apps, np.log(approval_rate.Approved_rate))",
   "metadata": {
    "tags": [],
    "cell_id": "00024-fe2361fe-b9e5-4c38-aeac-0b4b6679ecbf",
    "deepnote_to_be_reexecuted": true,
    "source_hash": "b0305544",
    "execution_start": 1628797567741,
    "execution_millis": 9,
    "deepnote_cell_type": "code"
   },
   "outputs": [
    {
     "output_type": "execute_result",
     "execution_count": 54,
     "data": {
      "text/plain": "array([[ 1.        , -0.54895953],\n       [-0.54895953,  1.        ]])"
     },
     "metadata": {}
    }
   ],
   "execution_count": null
  },
  {
   "cell_type": "code",
   "source": "np.log(approval_rate.Approved_rate)",
   "metadata": {
    "tags": [],
    "cell_id": "00024-66b4f66c-efbc-48d2-a3b9-1703f0a5f388",
    "deepnote_to_be_reexecuted": true,
    "source_hash": "fa40bb29",
    "execution_start": 1628797589518,
    "execution_millis": 25,
    "deepnote_cell_type": "code"
   },
   "outputs": [
    {
     "name": "stderr",
     "text": "/shared-libs/python3.7/py/lib/python3.7/site-packages/pandas/core/arraylike.py:358: RuntimeWarning: divide by zero encountered in log\n  result = getattr(ufunc, method)(*inputs, **kwargs)\n",
     "output_type": "stream"
    },
    {
     "output_type": "execute_result",
     "execution_count": 55,
     "data": {
      "text/plain": "0         0.000000\n1         0.000000\n2         0.000000\n3         0.000000\n4        -0.693147\n            ...   \n338852    0.000000\n338853    0.000000\n338854    0.000000\n338855    0.000000\n338856   -0.287682\nName: Approved_rate, Length: 338857, dtype: float64"
     },
     "metadata": {}
    }
   ],
   "execution_count": null
  },
  {
   "cell_type": "code",
   "source": "",
   "metadata": {
    "tags": [],
    "cell_id": "00024-5c8606f6-8c04-4525-9cc5-088689db0967",
    "deepnote_to_be_reexecuted": true,
    "source_hash": "b623e53d",
    "deepnote_cell_type": "code"
   },
   "outputs": [],
   "execution_count": null
  },
  {
   "cell_type": "code",
   "source": "",
   "metadata": {
    "tags": [],
    "cell_id": "00024-b579a7c0-9170-475f-8d77-485988fa221c",
    "deepnote_to_be_reexecuted": true,
    "source_hash": "b623e53d",
    "deepnote_cell_type": "code"
   },
   "outputs": [],
   "execution_count": null
  },
  {
   "cell_type": "code",
   "source": "",
   "metadata": {
    "tags": [],
    "cell_id": "00024-3c9384e2-6226-488b-9d3f-e5f4e47cf3b6",
    "deepnote_to_be_reexecuted": true,
    "source_hash": "b623e53d",
    "deepnote_cell_type": "code"
   },
   "outputs": [],
   "execution_count": null
  },
  {
   "cell_type": "code",
   "source": "",
   "metadata": {
    "tags": [],
    "cell_id": "00024-f978e664-c165-435a-9261-4c83e5f55703",
    "deepnote_to_be_reexecuted": true,
    "source_hash": "b623e53d",
    "deepnote_cell_type": "code"
   },
   "outputs": [],
   "execution_count": null
  },
  {
   "cell_type": "markdown",
   "source": "<a style='text-decoration:none;line-height:16px;display:flex;color:#5B5B62;padding:10px;justify-content:end;' href='https://deepnote.com?utm_source=created-in-deepnote-cell&projectId=9263f292-ea73-48e7-8892-f3d3ed1db03c' target=\"_blank\">\n<img alt='Created in deepnote.com' style='display:inline;max-height:16px;margin:0px;margin-right:7.5px;' src='data:image/svg+xml;base64,PD94bWwgdmVyc2lvbj0iMS4wIiBlbmNvZGluZz0iVVRGLTgiPz4KPHN2ZyB3aWR0aD0iODBweCIgaGVpZ2h0PSI4MHB4IiB2aWV3Qm94PSIwIDAgODAgODAiIHZlcnNpb249IjEuMSIgeG1sbnM9Imh0dHA6Ly93d3cudzMub3JnLzIwMDAvc3ZnIiB4bWxuczp4bGluaz0iaHR0cDovL3d3dy53My5vcmcvMTk5OS94bGluayI+CiAgICA8IS0tIEdlbmVyYXRvcjogU2tldGNoIDU0LjEgKDc2NDkwKSAtIGh0dHBzOi8vc2tldGNoYXBwLmNvbSAtLT4KICAgIDx0aXRsZT5Hcm91cCAzPC90aXRsZT4KICAgIDxkZXNjPkNyZWF0ZWQgd2l0aCBTa2V0Y2guPC9kZXNjPgogICAgPGcgaWQ9IkxhbmRpbmciIHN0cm9rZT0ibm9uZSIgc3Ryb2tlLXdpZHRoPSIxIiBmaWxsPSJub25lIiBmaWxsLXJ1bGU9ImV2ZW5vZGQiPgogICAgICAgIDxnIGlkPSJBcnRib2FyZCIgdHJhbnNmb3JtPSJ0cmFuc2xhdGUoLTEyMzUuMDAwMDAwLCAtNzkuMDAwMDAwKSI+CiAgICAgICAgICAgIDxnIGlkPSJHcm91cC0zIiB0cmFuc2Zvcm09InRyYW5zbGF0ZSgxMjM1LjAwMDAwMCwgNzkuMDAwMDAwKSI+CiAgICAgICAgICAgICAgICA8cG9seWdvbiBpZD0iUGF0aC0yMCIgZmlsbD0iIzAyNjVCNCIgcG9pbnRzPSIyLjM3NjIzNzYyIDgwIDM4LjA0NzY2NjcgODAgNTcuODIxNzgyMiA3My44MDU3NTkyIDU3LjgyMTc4MjIgMzIuNzU5MjczOSAzOS4xNDAyMjc4IDMxLjY4MzE2ODMiPjwvcG9seWdvbj4KICAgICAgICAgICAgICAgIDxwYXRoIGQ9Ik0zNS4wMDc3MTgsODAgQzQyLjkwNjIwMDcsNzYuNDU0OTM1OCA0Ny41NjQ5MTY3LDcxLjU0MjI2NzEgNDguOTgzODY2LDY1LjI2MTk5MzkgQzUxLjExMjI4OTksNTUuODQxNTg0MiA0MS42NzcxNzk1LDQ5LjIxMjIyODQgMjUuNjIzOTg0Niw0OS4yMTIyMjg0IEMyNS40ODQ5Mjg5LDQ5LjEyNjg0NDggMjkuODI2MTI5Niw0My4yODM4MjQ4IDM4LjY0NzU4NjksMzEuNjgzMTY4MyBMNzIuODcxMjg3MSwzMi41NTQ0MjUgTDY1LjI4MDk3Myw2Ny42NzYzNDIxIEw1MS4xMTIyODk5LDc3LjM3NjE0NCBMMzUuMDA3NzE4LDgwIFoiIGlkPSJQYXRoLTIyIiBmaWxsPSIjMDAyODY4Ij48L3BhdGg+CiAgICAgICAgICAgICAgICA8cGF0aCBkPSJNMCwzNy43MzA0NDA1IEwyNy4xMTQ1MzcsMC4yNTcxMTE0MzYgQzYyLjM3MTUxMjMsLTEuOTkwNzE3MDEgODAsMTAuNTAwMzkyNyA4MCwzNy43MzA0NDA1IEM4MCw2NC45NjA0ODgyIDY0Ljc3NjUwMzgsNzkuMDUwMzQxNCAzNC4zMjk1MTEzLDgwIEM0Ny4wNTUzNDg5LDc3LjU2NzA4MDggNTMuNDE4MjY3Nyw3MC4zMTM2MTAzIDUzLjQxODI2NzcsNTguMjM5NTg4NSBDNTMuNDE4MjY3Nyw0MC4xMjg1NTU3IDM2LjMwMzk1NDQsMzcuNzMwNDQwNSAyNS4yMjc0MTcsMzcuNzMwNDQwNSBDMTcuODQzMDU4NiwzNy43MzA0NDA1IDkuNDMzOTE5NjYsMzcuNzMwNDQwNSAwLDM3LjczMDQ0MDUgWiIgaWQ9IlBhdGgtMTkiIGZpbGw9IiMzNzkzRUYiPjwvcGF0aD4KICAgICAgICAgICAgPC9nPgogICAgICAgIDwvZz4KICAgIDwvZz4KPC9zdmc+' > </img>\nCreated in <span style='font-weight:600;margin-left:4px;'>Deepnote</span></a>",
   "metadata": {
    "tags": [],
    "created_in_deepnote_cell": true,
    "deepnote_cell_type": "markdown"
   }
  }
 ],
 "nbformat": 4,
 "nbformat_minor": 2,
 "metadata": {
  "orig_nbformat": 2,
  "deepnote": {
   "is_reactive": false
  },
  "deepnote_notebook_id": "99a7e69f-a45a-46bf-a03c-19a5705a70bb",
  "deepnote_execution_queue": [
   {
    "cellId": "00008-fabcb2fb-789b-4960-bcc4-0e351924300e",
    "sessionId": "83c91047-36bc-406a-8d35-7e83ad78489e",
    "msgId": "0fec451c-113b-48df-93ab-5183caf3f188"
   },
   {
    "cellId": "00012-61912df0-810a-472b-8d35-4a2d89f52f71",
    "sessionId": "83c91047-36bc-406a-8d35-7e83ad78489e",
    "msgId": "aa6899a8-7f83-4016-bcbf-c4bd3986fc81"
   },
   {
    "cellId": "00013-b4807abd-ca33-4f88-bda3-f8aea4e126fb",
    "sessionId": "83c91047-36bc-406a-8d35-7e83ad78489e",
    "msgId": "b6e522a2-0f48-4251-ad0a-a29740e6cc5f"
   },
   {
    "cellId": "00012-3e2627d3-a8b1-486e-9453-3f343cd5259e",
    "sessionId": "83c91047-36bc-406a-8d35-7e83ad78489e",
    "msgId": "a655ebca-8e38-4ea5-aa87-7fa9a7171fde"
   },
   {
    "cellId": "00015-f41e4d9e-53cb-49c9-a234-d79fc3bccd1f",
    "sessionId": "83c91047-36bc-406a-8d35-7e83ad78489e",
    "msgId": "99221d1f-069a-463e-832b-cc445cafbe4e"
   },
   {
    "cellId": "00015-0f0d532b-e9c3-400e-9d59-a6e619f5b6a8",
    "sessionId": "83c91047-36bc-406a-8d35-7e83ad78489e",
    "msgId": "7b8fded1-d1b7-47ff-bc0a-c6b66714c6e9"
   },
   {
    "cellId": "00015-88db52a6-fe27-4ba4-b6ab-f4977b932c47",
    "sessionId": "83c91047-36bc-406a-8d35-7e83ad78489e",
    "msgId": "d118a57a-0b23-48e1-aa8c-bef9c2b73ec5"
   },
   {
    "cellId": "00015-fcbbc5a3-2840-475f-9dce-c15920c11c49",
    "sessionId": "83c91047-36bc-406a-8d35-7e83ad78489e",
    "msgId": "faf519c0-af7b-4a8e-9110-558fc2d1d10e"
   },
   {
    "cellId": "00015-72ab3696-a780-471a-b7f3-5c190fe36ecb",
    "sessionId": "83c91047-36bc-406a-8d35-7e83ad78489e",
    "msgId": "6e25bd9c-302c-4009-8aeb-ebff3a58cd28"
   },
   {
    "cellId": "00017-1c5b9d3c-8603-4521-9445-83ebef4917c3",
    "sessionId": "83c91047-36bc-406a-8d35-7e83ad78489e",
    "msgId": "419c594b-7510-4dc3-bf8b-6ae1f5112a0d"
   },
   {
    "cellId": "00018-aff9456c-78b7-4dbc-902f-0c7ef852ce95",
    "sessionId": "83c91047-36bc-406a-8d35-7e83ad78489e",
    "msgId": "887a5fd6-1b36-4387-acbe-57ccd05e16d7"
   },
   {
    "cellId": "00015-dba8fcee-5f0b-42ba-8027-a1caf60cf1a1",
    "sessionId": "83c91047-36bc-406a-8d35-7e83ad78489e",
    "msgId": "b3330921-d5fb-440e-8986-4a319e50d25e"
   },
   {
    "cellId": "00019-ade6dcbc-2fe8-4a9e-bb51-36e56eede89d",
    "sessionId": "83c91047-36bc-406a-8d35-7e83ad78489e",
    "msgId": "e139161b-753a-4005-82e1-f1b54a608642"
   },
   {
    "cellId": "00020-32d116af-50bf-402c-a9d8-832f82f64c59",
    "sessionId": "83c91047-36bc-406a-8d35-7e83ad78489e",
    "msgId": "5cb42282-3971-4904-b8d8-1e0799eb4445"
   },
   {
    "cellId": "00020-465c6d41-0fe9-454b-9986-afdcc9dcbb46",
    "sessionId": "83c91047-36bc-406a-8d35-7e83ad78489e",
    "msgId": "e5be2072-5d56-49c0-909f-99a38a38c783"
   },
   {
    "cellId": "00023-5c98c144-6b1e-4480-ae09-0e17f10a7b0b",
    "sessionId": "83c91047-36bc-406a-8d35-7e83ad78489e",
    "msgId": "0a9da380-a08a-47d4-be86-83549e2d70ef"
   },
   {
    "cellId": "00024-fe2361fe-b9e5-4c38-aeac-0b4b6679ecbf",
    "sessionId": "83c91047-36bc-406a-8d35-7e83ad78489e",
    "msgId": "247587e8-1174-4307-8d41-2f6b3626191e"
   },
   {
    "cellId": "00024-66b4f66c-efbc-48d2-a3b9-1703f0a5f388",
    "sessionId": "83c91047-36bc-406a-8d35-7e83ad78489e",
    "msgId": "10c659bc-3068-4c9b-94ae-e5cdec74e324"
   },
   {
    "cellId": "00024-5c8606f6-8c04-4525-9cc5-088689db0967",
    "sessionId": "83c91047-36bc-406a-8d35-7e83ad78489e",
    "msgId": "4a8cd248-cb9d-4540-8c75-031e796a53e1"
   },
   {
    "cellId": "00024-b579a7c0-9170-475f-8d77-485988fa221c",
    "sessionId": "83c91047-36bc-406a-8d35-7e83ad78489e",
    "msgId": "2453fe7f-ec45-4713-bbb4-ff44beb9f4a3"
   },
   {
    "cellId": "00024-3c9384e2-6226-488b-9d3f-e5f4e47cf3b6",
    "sessionId": "83c91047-36bc-406a-8d35-7e83ad78489e",
    "msgId": "e1736ae3-ce1e-4b1f-b99e-056774a265fe"
   },
   {
    "cellId": "00024-f978e664-c165-435a-9261-4c83e5f55703",
    "sessionId": "83c91047-36bc-406a-8d35-7e83ad78489e",
    "msgId": "eced6fc5-9b29-468c-8657-716d58ac7bd1"
   }
  ]
 }
}